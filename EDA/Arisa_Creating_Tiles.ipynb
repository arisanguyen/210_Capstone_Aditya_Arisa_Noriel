{
 "cells": [
  {
   "cell_type": "markdown",
   "id": "d1174f52",
   "metadata": {},
   "source": [
    "Importing necessary packages"
   ]
  },
  {
   "cell_type": "code",
   "execution_count": 71,
   "id": "356025b8",
   "metadata": {},
   "outputs": [],
   "source": [
    "import numpy as np\n",
    "import pandas as pd\n",
    "from mpl_toolkits.basemap import Basemap\n",
    "import math\n",
    "import geopy.distance"
   ]
  },
  {
   "cell_type": "markdown",
   "id": "6a041d23",
   "metadata": {},
   "source": [
    "Calculating spacing to create tiles in QGIS"
   ]
  },
  {
   "cell_type": "code",
   "execution_count": 72,
   "id": "e0b5e3bc",
   "metadata": {},
   "outputs": [
    {
     "name": "stdout",
     "output_type": "stream",
     "text": [
      "0.0011401159420358908\n",
      "-0.0009036052631543612\n"
     ]
    }
   ],
   "source": [
    "# Boundaries of SF: 37.708251, 37.811262, -122.514446, -122.357110\n",
    "\n",
    "# vertical distance\n",
    "coords_1 = (37.811262, -122.477010)\n",
    "coords_2 = (37.708251, -122.477010)\n",
    "\n",
    "vertical_dist = geopy.distance.geodesic(coords_1, coords_2).m\n",
    "v_count = math.ceil(vertical_dist / 100) # we want each tiles to be about 100 m x 100 m\n",
    "\n",
    "# horizontal distance \n",
    "coords_1 = (37.778946, -122.514446)\n",
    "coords_2 = (37.778946, -122.357110)\n",
    "\n",
    "horizontal_dist = geopy.distance.geodesic(coords_1, coords_2).m\n",
    "h_count = math.ceil(horizontal_dist / 100) # we want each tiles to be about 100 m x 100 m\n",
    "\n",
    "#  calculating intervals\n",
    "\n",
    "long_interval = np.linspace(-122.357110, -122.514446, h_count)\n",
    "lat_interval = np.linspace(37.708251, 37.811262, v_count)\n",
    "\n",
    "print(long_interval[0] - long_interval[1])\n",
    "print(lat_interval[0] - lat_interval[1])"
   ]
  },
  {
   "cell_type": "markdown",
   "id": "e4597d70",
   "metadata": {},
   "source": [
    "Importing QGIS created tiles with coordinates"
   ]
  },
  {
   "cell_type": "code",
   "execution_count": 130,
   "id": "bef167a4",
   "metadata": {},
   "outputs": [],
   "source": [
    "tiles = pd.read_csv(r'.\\Data\\QGIS_Grid.csv')"
   ]
  },
  {
   "cell_type": "markdown",
   "id": "42f2c86e",
   "metadata": {},
   "source": [
    "Gathering list of tiles w/ road vector data"
   ]
  },
  {
   "cell_type": "code",
   "execution_count": 131,
   "id": "da3badbd",
   "metadata": {},
   "outputs": [],
   "source": [
    "road_tiles = pd.read_csv(r'.\\Data\\QGIS_Intersection.csv')"
   ]
  },
  {
   "cell_type": "code",
   "execution_count": 132,
   "id": "eec28774",
   "metadata": {},
   "outputs": [],
   "source": [
    "road_tiles = pd.DataFrame(road_tiles['id'].unique())"
   ]
  },
  {
   "cell_type": "markdown",
   "id": "247e13cf",
   "metadata": {},
   "source": [
    "Filter out unnecessary tiles"
   ]
  },
  {
   "cell_type": "code",
   "execution_count": 133,
   "id": "f88299e4",
   "metadata": {},
   "outputs": [],
   "source": [
    "# Dropping tiles without road data\n",
    "\n",
    "tiles = pd.concat([tiles.set_index('id'), road_tiles.set_index(0)], axis=1, join=\"inner\").reset_index()\n",
    "\n",
    "tiles = tiles.rename(columns={\"index\": \"id\"})\n",
    "\n",
    "tiles = tiles.drop(columns=['wkt_geom'])"
   ]
  },
  {
   "cell_type": "code",
   "execution_count": 134,
   "id": "03193061",
   "metadata": {},
   "outputs": [],
   "source": [
    "# Function to create midpoint\n",
    "# https://code.activestate.com/recipes/577713-midpoint-of-two-gps-points/ \n",
    "\n",
    "def midpoint(x1, y1, x2, y2):\n",
    "#Input values as degrees\n",
    "\n",
    "#Convert to radians\n",
    "    lat1 = math.radians(x1)\n",
    "    lon1 = math.radians(x2)\n",
    "    lat2 = math.radians(y1)\n",
    "    lon2 = math.radians(y2)\n",
    "\n",
    "\n",
    "    bx = math.cos(lat2) * math.cos(lon2 - lon1)\n",
    "    by = math.cos(lat2) * math.sin(lon2 - lon1)\n",
    "    lat3 = math.atan2(math.sin(lat1) + math.sin(lat2), \\\n",
    "           math.sqrt((math.cos(lat1) + bx) * (math.cos(lat1) \\\n",
    "           + bx) + by**2))\n",
    "    lon3 = lon1 + math.atan2(by, math.cos(lat1) + bx)\n",
    "\n",
    "    return [round(math.degrees(lat3), 6), round(math.degrees(lon3), 6)]"
   ]
  },
  {
   "cell_type": "code",
   "execution_count": 135,
   "id": "a494256d",
   "metadata": {},
   "outputs": [],
   "source": [
    "# Creating midpoints for each tile \n",
    "# Excluding tile if beyond SF boundaries on midpoint \n",
    "\n",
    "to_keep = pd.DataFrame(columns = ['id', 'Mid_lat', 'Mid_long'])\n",
    "\n",
    "#bm = Basemap(projection='cyl', resolution='f') \n",
    "\n",
    "for i in range(len(tiles)):\n",
    "    t = tiles.iloc[i]\n",
    "    lat1 = t['top']\n",
    "    lat2 = t['bottom']\n",
    "    long1 = t['left']\n",
    "    long2 = t['right']\n",
    "    id = t['id']\n",
    "    mid = midpoint(lat1, lat2, long1, long2)\n",
    "    ypt,xpt = bm(mid[1], mid[0]) # converting to projection coordinates, enter parameters as long, lat \n",
    "    if mid[0] < 37.708251 or mid[0] > 37.811262 or mid[1] < -122.514446 or mid[1] > -122.357110: \n",
    "        continue # out of SF boundaries\n",
    "    #elif bm.is_land(ypt,xpt) == False:\n",
    "        #continue # not on land # shouldn't need because only include tiles with roads\n",
    "    tk = pd.DataFrame([[id, mid[0], mid[1]]], columns = ['id', 'Mid_lat', 'Mid_long'])\n",
    "    to_keep = pd.concat([to_keep, tk], ignore_index = True)"
   ]
  },
  {
   "cell_type": "code",
   "execution_count": 136,
   "id": "bd896c05",
   "metadata": {},
   "outputs": [
    {
     "name": "stderr",
     "output_type": "stream",
     "text": [
      "C:\\Users\\arisa\\Anaconda3\\FIle\\lib\\site-packages\\pandas\\core\\indexes\\base.py:6982: FutureWarning: In a future version, the Index constructor will not infer numeric dtypes when passed object-dtype sequences (matching Series behavior)\n",
      "  return Index(sequences[0], name=names)\n"
     ]
    }
   ],
   "source": [
    "tiles = pd.concat([tiles.set_index('id'), to_keep.set_index('id')], axis=1, join=\"inner\").reset_index()"
   ]
  },
  {
   "cell_type": "code",
   "execution_count": 137,
   "id": "ad294b4a",
   "metadata": {},
   "outputs": [],
   "source": [
    "tiles = tiles.rename(columns={\"id\": \"Tile_ID\", \"left\": \"Long2\", \"right\": \"Long1\", \"top\": \"Lat2\", \"bottom\": \"Lat1\"})"
   ]
  },
  {
   "cell_type": "code",
   "execution_count": 138,
   "id": "ad318071",
   "metadata": {},
   "outputs": [],
   "source": [
    "tiles['Tile_ID'] = tiles['Tile_ID'].astype('Int64')"
   ]
  },
  {
   "cell_type": "markdown",
   "id": "43fcc93b",
   "metadata": {},
   "source": [
    "Exporting to CSV"
   ]
  },
  {
   "cell_type": "code",
   "execution_count": 139,
   "id": "90e8a22e",
   "metadata": {},
   "outputs": [],
   "source": [
    "tiles.to_csv('.\\Data\\Tiles.csv', index=False)"
   ]
  },
  {
   "cell_type": "code",
   "execution_count": 140,
   "id": "47f24157",
   "metadata": {},
   "outputs": [],
   "source": [
    "tiles_2 = pd.read_csv(r'.\\Data\\Tiles.csv')"
   ]
  },
  {
   "cell_type": "code",
   "execution_count": 141,
   "id": "f4e45965",
   "metadata": {},
   "outputs": [
    {
     "data": {
      "text/html": [
       "<div>\n",
       "<style scoped>\n",
       "    .dataframe tbody tr th:only-of-type {\n",
       "        vertical-align: middle;\n",
       "    }\n",
       "\n",
       "    .dataframe tbody tr th {\n",
       "        vertical-align: top;\n",
       "    }\n",
       "\n",
       "    .dataframe thead th {\n",
       "        text-align: right;\n",
       "    }\n",
       "</style>\n",
       "<table border=\"1\" class=\"dataframe\">\n",
       "  <thead>\n",
       "    <tr style=\"text-align: right;\">\n",
       "      <th></th>\n",
       "      <th>Tile_ID</th>\n",
       "      <th>Long2</th>\n",
       "      <th>Lat2</th>\n",
       "      <th>Long1</th>\n",
       "      <th>Lat1</th>\n",
       "      <th>Mid_lat</th>\n",
       "      <th>Mid_long</th>\n",
       "    </tr>\n",
       "  </thead>\n",
       "  <tbody>\n",
       "    <tr>\n",
       "      <th>0</th>\n",
       "      <td>36</td>\n",
       "      <td>-122.514446</td>\n",
       "      <td>37.779636</td>\n",
       "      <td>-122.513306</td>\n",
       "      <td>37.778732</td>\n",
       "      <td>37.779184</td>\n",
       "      <td>-122.513876</td>\n",
       "    </tr>\n",
       "    <tr>\n",
       "      <th>1</th>\n",
       "      <td>37</td>\n",
       "      <td>-122.514446</td>\n",
       "      <td>37.778732</td>\n",
       "      <td>-122.513306</td>\n",
       "      <td>37.777829</td>\n",
       "      <td>37.778280</td>\n",
       "      <td>-122.513876</td>\n",
       "    </tr>\n",
       "    <tr>\n",
       "      <th>2</th>\n",
       "      <td>151</td>\n",
       "      <td>-122.513306</td>\n",
       "      <td>37.779636</td>\n",
       "      <td>-122.512166</td>\n",
       "      <td>37.778732</td>\n",
       "      <td>37.779184</td>\n",
       "      <td>-122.512736</td>\n",
       "    </tr>\n",
       "    <tr>\n",
       "      <th>3</th>\n",
       "      <td>152</td>\n",
       "      <td>-122.513306</td>\n",
       "      <td>37.778732</td>\n",
       "      <td>-122.512166</td>\n",
       "      <td>37.777829</td>\n",
       "      <td>37.778280</td>\n",
       "      <td>-122.512736</td>\n",
       "    </tr>\n",
       "    <tr>\n",
       "      <th>4</th>\n",
       "      <td>153</td>\n",
       "      <td>-122.513306</td>\n",
       "      <td>37.777829</td>\n",
       "      <td>-122.512166</td>\n",
       "      <td>37.776925</td>\n",
       "      <td>37.777377</td>\n",
       "      <td>-122.512736</td>\n",
       "    </tr>\n",
       "  </tbody>\n",
       "</table>\n",
       "</div>"
      ],
      "text/plain": [
       "   Tile_ID       Long2       Lat2       Long1       Lat1    Mid_lat  \\\n",
       "0       36 -122.514446  37.779636 -122.513306  37.778732  37.779184   \n",
       "1       37 -122.514446  37.778732 -122.513306  37.777829  37.778280   \n",
       "2      151 -122.513306  37.779636 -122.512166  37.778732  37.779184   \n",
       "3      152 -122.513306  37.778732 -122.512166  37.777829  37.778280   \n",
       "4      153 -122.513306  37.777829 -122.512166  37.776925  37.777377   \n",
       "\n",
       "     Mid_long  \n",
       "0 -122.513876  \n",
       "1 -122.513876  \n",
       "2 -122.512736  \n",
       "3 -122.512736  \n",
       "4 -122.512736  "
      ]
     },
     "execution_count": 141,
     "metadata": {},
     "output_type": "execute_result"
    }
   ],
   "source": [
    "tiles_2.head(5)"
   ]
  },
  {
   "cell_type": "code",
   "execution_count": null,
   "id": "fcb6e021",
   "metadata": {},
   "outputs": [],
   "source": []
  }
 ],
 "metadata": {
  "kernelspec": {
   "display_name": "Python 3 (ipykernel)",
   "language": "python",
   "name": "python3"
  },
  "language_info": {
   "codemirror_mode": {
    "name": "ipython",
    "version": 3
   },
   "file_extension": ".py",
   "mimetype": "text/x-python",
   "name": "python",
   "nbconvert_exporter": "python",
   "pygments_lexer": "ipython3",
   "version": "3.8.11"
  }
 },
 "nbformat": 4,
 "nbformat_minor": 5
}
