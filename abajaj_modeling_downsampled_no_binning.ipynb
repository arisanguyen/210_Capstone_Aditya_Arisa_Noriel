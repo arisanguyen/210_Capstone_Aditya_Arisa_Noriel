{
 "cells": [
  {
   "cell_type": "code",
   "execution_count": 1,
   "id": "356025b8",
   "metadata": {
    "tags": []
   },
   "outputs": [
    {
     "name": "stderr",
     "output_type": "stream",
     "text": [
      "2023-03-14 05:14:51.059983: I tensorflow/core/platform/cpu_feature_guard.cc:193] This TensorFlow binary is optimized with oneAPI Deep Neural Network Library (oneDNN) to use the following CPU instructions in performance-critical operations:  AVX2 FMA\n",
      "To enable them in other operations, rebuild TensorFlow with the appropriate compiler flags.\n",
      "2023-03-14 05:14:52.001909: W tensorflow/compiler/xla/stream_executor/platform/default/dso_loader.cc:64] Could not load dynamic library 'libnvinfer.so.7'; dlerror: libnvinfer.so.7: cannot open shared object file: No such file or directory; LD_LIBRARY_PATH: /opt/amazon/efa/lib:/opt/amazon/openmpi/lib:/usr/local/cuda/efa/lib:/usr/local/cuda/lib:/usr/local/cuda:/usr/local/cuda/lib64:/usr/local/cuda/extras/CUPTI/lib64:/usr/local/cuda/targets/x86_64-linux/lib:/usr/local/lib:/usr/lib:/opt/amazon/efa/lib:/opt/amazon/openmpi/lib:/usr/local/cuda/efa/lib:/usr/local/cuda/lib:/usr/local/cuda:/usr/local/cuda/lib64:/usr/local/cuda/extras/CUPTI/lib64:/usr/local/cuda/targets/x86_64-linux/lib:/usr/local/lib:/usr/lib:\n",
      "2023-03-14 05:14:52.002041: W tensorflow/compiler/xla/stream_executor/platform/default/dso_loader.cc:64] Could not load dynamic library 'libnvinfer_plugin.so.7'; dlerror: libnvinfer_plugin.so.7: cannot open shared object file: No such file or directory; LD_LIBRARY_PATH: /opt/amazon/efa/lib:/opt/amazon/openmpi/lib:/usr/local/cuda/efa/lib:/usr/local/cuda/lib:/usr/local/cuda:/usr/local/cuda/lib64:/usr/local/cuda/extras/CUPTI/lib64:/usr/local/cuda/targets/x86_64-linux/lib:/usr/local/lib:/usr/lib:/opt/amazon/efa/lib:/opt/amazon/openmpi/lib:/usr/local/cuda/efa/lib:/usr/local/cuda/lib:/usr/local/cuda:/usr/local/cuda/lib64:/usr/local/cuda/extras/CUPTI/lib64:/usr/local/cuda/targets/x86_64-linux/lib:/usr/local/lib:/usr/lib:\n",
      "2023-03-14 05:14:52.002052: W tensorflow/compiler/tf2tensorrt/utils/py_utils.cc:38] TF-TRT Warning: Cannot dlopen some TensorRT libraries. If you would like to use Nvidia GPU with TensorRT, please make sure the missing libraries mentioned above are installed properly.\n"
     ]
    }
   ],
   "source": [
    "import numpy as np\n",
    "import pandas as pd\n",
    "import math\n",
    "\n",
    "import matplotlib\n",
    "import matplotlib.pyplot as plt\n",
    "\n",
    "import tensorflow as tf\n",
    "from tensorflow import keras\n",
    "from tensorflow.keras import layers\n",
    "from tensorflow.keras.layers import concatenate\n",
    "import tensorflow_addons as tfa\n",
    "from keras.layers import Flatten, Dense, Dropout\n",
    "import tifffile\n",
    "\n",
    "from sklearn.model_selection import train_test_split\n",
    "# from sklearn.preprocessing import LabelEncoder\n",
    "# from sklearn.preprocessing import OneHotEncoder\n",
    "from sklearn.preprocessing import LabelBinarizer\n",
    "from sklearn.linear_model import LogisticRegression\n",
    "from sklearn.metrics import f1_score\n",
    "import os\n",
    "\n",
    "import scipy\n",
    "from numba import cuda "
   ]
  },
  {
   "cell_type": "code",
   "execution_count": 2,
   "id": "cbe8314a-60a7-4de8-be72-620b659ef79d",
   "metadata": {
    "tags": []
   },
   "outputs": [],
   "source": [
    "# !pip install numpy tensorflow matplotlib scipy\n",
    "# # !pip install pandas\n",
    "# !pip install tifffile\n",
    "# !pip install scikit-learn\n",
    "# !pip install imagecodecs\n",
    "# !pip install tensorflow-addons\n",
    "# !pip install numba "
   ]
  },
  {
   "cell_type": "code",
   "execution_count": 3,
   "id": "bc10282d-f694-4346-b6e6-34923575c633",
   "metadata": {
    "tags": []
   },
   "outputs": [],
   "source": [
    "def reset_gpu():\n",
    "    device = cuda.get_current_device()\n",
    "    device.reset()"
   ]
  },
  {
   "cell_type": "code",
   "execution_count": 4,
   "id": "8bb10982-72ec-439c-9c1a-6c182803eb2f",
   "metadata": {
    "tags": []
   },
   "outputs": [],
   "source": [
    "def plot_loss(history):\n",
    "    plt.plot(history.history['loss'], label='loss')\n",
    "    plt.plot(history.history['val_loss'], label='val_loss')\n",
    "   # plt.plot(history.history['accuracy'], label='accuracy')\n",
    "   # plt.plot(history.history['val_accuracy'], label='val_accuracy')\n",
    "    plt.ylim([0, \n",
    "            max(\n",
    "                max(history.history['loss']),\n",
    "                max(history.history['val_loss'])\n",
    "            )])\n",
    "    plt.xlabel('Epoch')\n",
    "    plt.ylabel('Mean Absolute Error')\n",
    "    plt.legend()\n",
    "    plt.grid(True)"
   ]
  },
  {
   "cell_type": "code",
   "execution_count": 5,
   "id": "f3693092",
   "metadata": {
    "tags": []
   },
   "outputs": [],
   "source": [
    "tiles = pd.read_csv(r'Data/Tiles_expanded.csv')\n",
    "tiles_expanded_rv = pd.read_csv(r'Data/Tiles_no_binning_downsampled.csv')#.drop(['Unnamed: 0'],axis=1)\n",
    "tiles_expanded_rv = pd.get_dummies(tiles_expanded_rv, columns = ['RTTYP'])"
   ]
  },
  {
   "cell_type": "code",
   "execution_count": 6,
   "id": "29e5ddd8-bf87-4021-8274-ee55f64b54a7",
   "metadata": {
    "tags": []
   },
   "outputs": [
    {
     "data": {
      "text/html": [
       "<div>\n",
       "<style scoped>\n",
       "    .dataframe tbody tr th:only-of-type {\n",
       "        vertical-align: middle;\n",
       "    }\n",
       "\n",
       "    .dataframe tbody tr th {\n",
       "        vertical-align: top;\n",
       "    }\n",
       "\n",
       "    .dataframe thead th {\n",
       "        text-align: right;\n",
       "    }\n",
       "</style>\n",
       "<table border=\"1\" class=\"dataframe\">\n",
       "  <thead>\n",
       "    <tr style=\"text-align: right;\">\n",
       "      <th></th>\n",
       "      <th>Tile_ID</th>\n",
       "      <th>Long2</th>\n",
       "      <th>Lat2</th>\n",
       "      <th>Long1</th>\n",
       "      <th>Lat1</th>\n",
       "      <th>Mid_lat</th>\n",
       "      <th>Mid_long</th>\n",
       "      <th>Stop_Signs</th>\n",
       "      <th>Paving_historical</th>\n",
       "      <th>Paving_future</th>\n",
       "      <th>Bus_stop</th>\n",
       "      <th>Collisions_Future</th>\n",
       "      <th>Collisions_Historical</th>\n",
       "      <th>RTTYP_I</th>\n",
       "      <th>RTTYP_M</th>\n",
       "      <th>RTTYP_S</th>\n",
       "      <th>RTTYP_U</th>\n",
       "    </tr>\n",
       "  </thead>\n",
       "  <tbody>\n",
       "    <tr>\n",
       "      <th>0</th>\n",
       "      <td>266</td>\n",
       "      <td>-122.512166</td>\n",
       "      <td>37.779636</td>\n",
       "      <td>-122.511026</td>\n",
       "      <td>37.778732</td>\n",
       "      <td>37.779184</td>\n",
       "      <td>-122.511596</td>\n",
       "      <td>1.0</td>\n",
       "      <td>0.0</td>\n",
       "      <td>0.0</td>\n",
       "      <td>0.0</td>\n",
       "      <td>5.0</td>\n",
       "      <td>5.0</td>\n",
       "      <td>0</td>\n",
       "      <td>1</td>\n",
       "      <td>0</td>\n",
       "      <td>0</td>\n",
       "    </tr>\n",
       "    <tr>\n",
       "      <th>1</th>\n",
       "      <td>271</td>\n",
       "      <td>-122.512166</td>\n",
       "      <td>37.775118</td>\n",
       "      <td>-122.511026</td>\n",
       "      <td>37.774214</td>\n",
       "      <td>37.774666</td>\n",
       "      <td>-122.511596</td>\n",
       "      <td>4.0</td>\n",
       "      <td>0.0</td>\n",
       "      <td>0.0</td>\n",
       "      <td>0.0</td>\n",
       "      <td>1.0</td>\n",
       "      <td>3.0</td>\n",
       "      <td>0</td>\n",
       "      <td>1</td>\n",
       "      <td>0</td>\n",
       "      <td>0</td>\n",
       "    </tr>\n",
       "    <tr>\n",
       "      <th>2</th>\n",
       "      <td>275</td>\n",
       "      <td>-122.512166</td>\n",
       "      <td>37.771503</td>\n",
       "      <td>-122.511026</td>\n",
       "      <td>37.770600</td>\n",
       "      <td>37.771052</td>\n",
       "      <td>-122.511596</td>\n",
       "      <td>0.0</td>\n",
       "      <td>0.0</td>\n",
       "      <td>0.0</td>\n",
       "      <td>0.0</td>\n",
       "      <td>1.0</td>\n",
       "      <td>0.0</td>\n",
       "      <td>0</td>\n",
       "      <td>1</td>\n",
       "      <td>0</td>\n",
       "      <td>0</td>\n",
       "    </tr>\n",
       "    <tr>\n",
       "      <th>3</th>\n",
       "      <td>390</td>\n",
       "      <td>-122.511026</td>\n",
       "      <td>37.771503</td>\n",
       "      <td>-122.509885</td>\n",
       "      <td>37.770600</td>\n",
       "      <td>37.771052</td>\n",
       "      <td>-122.510456</td>\n",
       "      <td>0.0</td>\n",
       "      <td>0.0</td>\n",
       "      <td>0.0</td>\n",
       "      <td>1.0</td>\n",
       "      <td>1.0</td>\n",
       "      <td>1.0</td>\n",
       "      <td>0</td>\n",
       "      <td>1</td>\n",
       "      <td>0</td>\n",
       "      <td>0</td>\n",
       "    </tr>\n",
       "    <tr>\n",
       "      <th>4</th>\n",
       "      <td>391</td>\n",
       "      <td>-122.511026</td>\n",
       "      <td>37.770600</td>\n",
       "      <td>-122.509885</td>\n",
       "      <td>37.769696</td>\n",
       "      <td>37.770148</td>\n",
       "      <td>-122.510456</td>\n",
       "      <td>0.0</td>\n",
       "      <td>0.0</td>\n",
       "      <td>0.0</td>\n",
       "      <td>0.0</td>\n",
       "      <td>2.0</td>\n",
       "      <td>4.0</td>\n",
       "      <td>0</td>\n",
       "      <td>1</td>\n",
       "      <td>0</td>\n",
       "      <td>0</td>\n",
       "    </tr>\n",
       "  </tbody>\n",
       "</table>\n",
       "</div>"
      ],
      "text/plain": [
       "   Tile_ID       Long2       Lat2       Long1       Lat1    Mid_lat  \\\n",
       "0      266 -122.512166  37.779636 -122.511026  37.778732  37.779184   \n",
       "1      271 -122.512166  37.775118 -122.511026  37.774214  37.774666   \n",
       "2      275 -122.512166  37.771503 -122.511026  37.770600  37.771052   \n",
       "3      390 -122.511026  37.771503 -122.509885  37.770600  37.771052   \n",
       "4      391 -122.511026  37.770600 -122.509885  37.769696  37.770148   \n",
       "\n",
       "     Mid_long  Stop_Signs  Paving_historical  Paving_future  Bus_stop  \\\n",
       "0 -122.511596         1.0                0.0            0.0       0.0   \n",
       "1 -122.511596         4.0                0.0            0.0       0.0   \n",
       "2 -122.511596         0.0                0.0            0.0       0.0   \n",
       "3 -122.510456         0.0                0.0            0.0       1.0   \n",
       "4 -122.510456         0.0                0.0            0.0       0.0   \n",
       "\n",
       "   Collisions_Future  Collisions_Historical  RTTYP_I  RTTYP_M  RTTYP_S  \\\n",
       "0                5.0                    5.0        0        1        0   \n",
       "1                1.0                    3.0        0        1        0   \n",
       "2                1.0                    0.0        0        1        0   \n",
       "3                1.0                    1.0        0        1        0   \n",
       "4                2.0                    4.0        0        1        0   \n",
       "\n",
       "   RTTYP_U  \n",
       "0        0  \n",
       "1        0  \n",
       "2        0  \n",
       "3        0  \n",
       "4        0  "
      ]
     },
     "execution_count": 6,
     "metadata": {},
     "output_type": "execute_result"
    }
   ],
   "source": [
    "tiles_expanded_rv.head()"
   ]
  },
  {
   "cell_type": "code",
   "execution_count": 7,
   "id": "d02cf6af-4d7f-4cbe-91f0-6a33a0ba3c86",
   "metadata": {
    "tags": []
   },
   "outputs": [],
   "source": [
    "tiles_expanded_rv['Collisions_Future_binary']=tiles_expanded_rv['Collisions_Future'].apply(lambda x: 1 if x > 0 else 0)\n",
    "tiles_expanded_rv['Collisions_Historical_binary']=tiles_expanded_rv['Collisions_Historical'].apply(lambda x: 1 if x > 0 else 0)"
   ]
  },
  {
   "cell_type": "markdown",
   "id": "13f22a15-184e-466c-8edd-448bd974f88d",
   "metadata": {
    "tags": []
   },
   "source": [
    "# Normalize data"
   ]
  },
  {
   "cell_type": "code",
   "execution_count": 8,
   "id": "3d2d6b89-b6a3-4465-ac2b-be220741cea8",
   "metadata": {
    "tags": []
   },
   "outputs": [],
   "source": [
    "def normalize_col(df, col_name):\n",
    "\n",
    "    norm = (df[col_name] - df[col_name].min()) / (df[col_name].max() - df[col_name].min())\n",
    "    return norm\n",
    "\n",
    "tiles_expanded_rv['Mid_lat_norm'] = normalize_col(tiles_expanded_rv,'Mid_lat')\n",
    "tiles_expanded_rv['Mid_long_norm'] = normalize_col(tiles_expanded_rv,'Mid_long')\n"
   ]
  },
  {
   "cell_type": "markdown",
   "id": "c3a6b82c",
   "metadata": {},
   "source": [
    "Split into training and test"
   ]
  },
  {
   "cell_type": "code",
   "execution_count": 9,
   "id": "0d50fdd4",
   "metadata": {
    "tags": []
   },
   "outputs": [],
   "source": [
    "MODEL_TYPE='logistic' # 'linear'\n",
    "\n",
    "if MODEL_TYPE == 'linear':\n",
    "    input_x = ['Tile_ID','Collisions_Historical', 'Mid_lat_norm','Mid_long_norm', 'Stop_Signs', 'Paving_historical', 'Bus_stop','RTTYP_I','RTTYP_M','RTTYP_S','RTTYP_U'] # Removing RTTYP_O\n",
    "    input_y = ['Collisions_Future']\n",
    "elif MODEL_TYPE == 'logistic':\n",
    "    input_x = ['Tile_ID','Collisions_Historical_binary', 'Mid_lat_norm','Mid_long_norm', 'Stop_Signs', 'Paving_historical', 'Bus_stop','RTTYP_I','RTTYP_M','RTTYP_S','RTTYP_U'] # Removing RTTYP_O\n",
    "    input_y = ['Collisions_Future_binary']\n",
    "    \n",
    "\n",
    "x_train, x_test, y_train, y_test = train_test_split(\n",
    "                                    tiles_expanded_rv[input_x], \n",
    "                                    tiles_expanded_rv[input_y],\n",
    "                                    random_state=104, \n",
    "                                    test_size=0.20, \n",
    "                                    shuffle=True)\n",
    "\n"
   ]
  },
  {
   "cell_type": "markdown",
   "id": "fffe2d02",
   "metadata": {},
   "source": [
    "Model #1: Linear regression using Historical Collisions, SFMTA Street Characteristics, and Geocoordinates"
   ]
  },
  {
   "cell_type": "markdown",
   "id": "bf220283",
   "metadata": {},
   "source": [
    "## Image Pre-Processing"
   ]
  },
  {
   "cell_type": "code",
   "execution_count": 10,
   "id": "ea514649",
   "metadata": {
    "tags": []
   },
   "outputs": [],
   "source": [
    "IMAGE_PATH = 'Satellite_Imagery/Satellite_Images_Tiled/' "
   ]
  },
  {
   "cell_type": "code",
   "execution_count": 11,
   "id": "b40c2ccb",
   "metadata": {
    "tags": []
   },
   "outputs": [],
   "source": [
    " #eda\n",
    "img = tifffile.imread('Satellite_Imagery/Satellite_Images_Tiled/36.tif')[0:148, 0:188, :]\n",
    "img2 = tifffile.imread('Satellite_Imagery/Satellite_Images_Tiled/37.tif')[0:148, 0:188, :]"
   ]
  },
  {
   "cell_type": "code",
   "execution_count": 12,
   "id": "97889d4b",
   "metadata": {
    "tags": []
   },
   "outputs": [
    {
     "name": "stdout",
     "output_type": "stream",
     "text": [
      "(148, 188, 4)\n"
     ]
    }
   ],
   "source": [
    "# eda\n",
    "print(np.shape(img2))"
   ]
  },
  {
   "cell_type": "code",
   "execution_count": 13,
   "id": "545c8609",
   "metadata": {
    "scrolled": true,
    "tags": []
   },
   "outputs": [
    {
     "name": "stdout",
     "output_type": "stream",
     "text": [
      "(2, 148, 188, 4)\n",
      "(2, 148, 188, 4)\n"
     ]
    }
   ],
   "source": [
    "# eda\n",
    "test = []\n",
    "test.append(img[0:148, 0:188, :])\n",
    "test.append(img2[0:148, 0:188, :])\n",
    "print(np.shape(test))\n",
    "test = np.stack(test)\n",
    "print(np.shape(test))"
   ]
  },
  {
   "cell_type": "code",
   "execution_count": 14,
   "id": "9298e629",
   "metadata": {
    "tags": []
   },
   "outputs": [],
   "source": [
    "def preprocess_data_part1(IMAGE_PATH):\n",
    "    \"\"\" Generate lists of images and labelsbased on temp_no_refer and temp_refer lists\n",
    "    \n",
    "    Params:\n",
    "    -------\n",
    "    IMAGE_PATH (str): path to directory with images.\n",
    "    \n",
    "    Returns:\n",
    "    --------\n",
    "    images_mini  (np.ndarray): Images of shape (N, 149 3)\n",
    "    \"\"\"\n",
    "    \n",
    "    data_mini = []\n",
    "    data_mini_test = []\n",
    "    for id in x_train['Tile_ID']:    \n",
    "                    \n",
    "        # read image and store as matrix            \n",
    "        # Index at the end makes all images the same size (they sometimes differ by 1 pixel)\n",
    "        image = tifffile.imread(IMAGE_PATH + str(id) + '.tif')[0:148, 0:188, :]\n",
    "            \n",
    "        # append to images\n",
    "        data_mini.append(image)\n",
    " \n",
    "    # stack images and trasnform to array\n",
    "    images_mini = np.stack(data_mini)\n",
    "    \n",
    "    for id in x_test['Tile_ID']:    \n",
    "                    \n",
    "        # read image and store as matrix            \n",
    "        # Index at the end makes all images the same size (they sometimes differ by 1 pixel)\n",
    "        image = tifffile.imread(IMAGE_PATH + str(id) + '.tif')[0:148, 0:188, :]\n",
    "            \n",
    "        # append to images\n",
    "        data_mini_test.append(image)\n",
    " \n",
    "    # stack images and trasnform to array\n",
    "    images_mini_test = np.stack(data_mini_test)\n",
    "    \n",
    "    return images_mini, images_mini_test"
   ]
  },
  {
   "cell_type": "code",
   "execution_count": 15,
   "id": "4d8f77ae",
   "metadata": {
    "tags": []
   },
   "outputs": [],
   "source": [
    "# THERE IS ONE FILE IN THE \"SATELLITE IMAGES TILED\" FOLDER THAT IS NOT A TIF IMAGE, DELETE THIS FILE\n",
    "images_mini, images_mini_test = preprocess_data_part1(IMAGE_PATH)"
   ]
  },
  {
   "cell_type": "code",
   "execution_count": 16,
   "id": "0ce10975",
   "metadata": {
    "tags": []
   },
   "outputs": [
    {
     "data": {
      "text/plain": [
       "(649, 148, 188, 4)"
      ]
     },
     "execution_count": 16,
     "metadata": {},
     "output_type": "execute_result"
    }
   ],
   "source": [
    "np.shape(images_mini)\n",
    "np.shape(images_mini_test)"
   ]
  },
  {
   "cell_type": "code",
   "execution_count": 17,
   "id": "0080b62b-712f-4179-9031-60b561f59b7b",
   "metadata": {
    "tags": []
   },
   "outputs": [],
   "source": [
    "# images_mini_reshaped = images_mini.reshape((8376,1,1,111296))"
   ]
  },
  {
   "cell_type": "code",
   "execution_count": 18,
   "id": "9fce941b-4766-474c-b49e-c365de2bdb86",
   "metadata": {
    "tags": []
   },
   "outputs": [],
   "source": [
    "# images_mini_reshaped.shape\n",
    "# len(images_mini_reshaped[0][0][0])"
   ]
  },
  {
   "cell_type": "markdown",
   "id": "57135842",
   "metadata": {},
   "source": [
    "Street Data Pre-Processing"
   ]
  },
  {
   "cell_type": "code",
   "execution_count": 19,
   "id": "8dce0686",
   "metadata": {
    "tags": []
   },
   "outputs": [
    {
     "data": {
      "text/plain": [
       "(649, 1, 1, 10)"
      ]
     },
     "execution_count": 19,
     "metadata": {},
     "output_type": "execute_result"
    }
   ],
   "source": [
    "street = np.asarray(x_train[input_x[1:]]).astype('float32')\n",
    "street_mini = []\n",
    "for row in street:\n",
    "    street_mini.append([[row]])\n",
    "street_mini = np.stack(street_mini)\n",
    "np.shape(street_mini)\n",
    "\n",
    "\n",
    "street_test = np.asarray(x_test[input_x[1:]]).astype('float32')\n",
    "street_mini_test = []\n",
    "for row in street_test:\n",
    "    street_mini_test.append([[row]])\n",
    "street_mini_test = np.stack(street_mini_test)\n",
    "np.shape(street_mini_test)"
   ]
  },
  {
   "cell_type": "code",
   "execution_count": 20,
   "id": "c87761aa-77b0-40d3-a924-c54c1c6e3726",
   "metadata": {
    "tags": []
   },
   "outputs": [
    {
     "name": "stdout",
     "output_type": "stream",
     "text": [
      "(2592, 1, 1, 10)\n",
      "(2592, 148, 188, 4)\n"
     ]
    }
   ],
   "source": [
    "print(street_mini.shape)\n",
    "print(images_mini.shape)"
   ]
  },
  {
   "cell_type": "code",
   "execution_count": 21,
   "id": "16b9f21e-6f7b-4abd-a7de-917d89fa085a",
   "metadata": {
    "tags": []
   },
   "outputs": [],
   "source": [
    "input_image_street = np.hstack(\n",
    "    (street_mini.reshape((2592,10)),\n",
    "     images_mini.reshape(2592,148*188*4))\n",
    ")"
   ]
  },
  {
   "cell_type": "code",
   "execution_count": 22,
   "id": "5628e058-80c2-4145-b762-7116c8801a96",
   "metadata": {
    "tags": []
   },
   "outputs": [
    {
     "name": "stdout",
     "output_type": "stream",
     "text": [
      "(649, 1, 1, 10)\n",
      "(649, 148, 188, 4)\n"
     ]
    }
   ],
   "source": [
    "print(street_mini_test.shape)\n",
    "print(images_mini_test.shape)"
   ]
  },
  {
   "cell_type": "code",
   "execution_count": 23,
   "id": "b2a63cdc-90cd-43e2-94f1-d819918c510b",
   "metadata": {
    "tags": []
   },
   "outputs": [],
   "source": [
    "input_image_street_test = np.hstack(\n",
    "    (street_mini_test.reshape((649,10)),\n",
    "    images_mini_test.reshape((649,148*188*4))\n",
    "    ))"
   ]
  },
  {
   "cell_type": "markdown",
   "id": "b9176acd-0672-4bd9-92c8-f67618b33321",
   "metadata": {},
   "source": [
    "## Linear Regression"
   ]
  },
  {
   "cell_type": "code",
   "execution_count": 41,
   "id": "04589b85-dbc4-4309-a243-608fb7f793e5",
   "metadata": {
    "tags": []
   },
   "outputs": [
    {
     "name": "stdout",
     "output_type": "stream",
     "text": [
      "Model: \"linear_model\"\n",
      "_________________________________________________________________\n",
      " Layer (type)                Output Shape              Param #   \n",
      "=================================================================\n",
      " input_3 (InputLayer)        [(None, 111306)]          0         \n",
      "                                                                 \n",
      " dense_2 (Dense)             (None, 1)                 111307    \n",
      "                                                                 \n",
      "=================================================================\n",
      "Total params: 111,307\n",
      "Trainable params: 111,307\n",
      "Non-trainable params: 0\n",
      "_________________________________________________________________\n",
      "Epoch 1/100\n"
     ]
    },
    {
     "name": "stderr",
     "output_type": "stream",
     "text": [
      "2023-03-14 05:12:50.256911: I tensorflow/compiler/xla/service/service.cc:173] XLA service 0x7f471e596e90 initialized for platform CUDA (this does not guarantee that XLA will be used). Devices:\n",
      "2023-03-14 05:12:50.256960: I tensorflow/compiler/xla/service/service.cc:181]   StreamExecutor device (0): Tesla M60, Compute Capability 5.2\n",
      "2023-03-14 05:12:50.262560: I tensorflow/compiler/mlir/tensorflow/utils/dump_mlir_util.cc:268] disabling MLIR crash reproducer, set env var `MLIR_CRASH_REPRODUCER_DIRECTORY` to enable.\n",
      "2023-03-14 05:12:50.427188: I tensorflow/compiler/jit/xla_compilation_cache.cc:477] Compiled cluster using XLA!  This line is logged at most once for the lifetime of the process.\n"
     ]
    },
    {
     "name": "stdout",
     "output_type": "stream",
     "text": [
      "65/65 [==============================] - 2s 16ms/step - loss: 12867129.0000 - val_loss: 180772.5000\n",
      "Epoch 2/100\n",
      "65/65 [==============================] - 0s 7ms/step - loss: 28990.5977 - val_loss: 7046.2837\n",
      "Epoch 3/100\n",
      "65/65 [==============================] - 0s 7ms/step - loss: 7153.9937 - val_loss: 4481.3208\n",
      "Epoch 4/100\n",
      "65/65 [==============================] - 0s 7ms/step - loss: 5282.6572 - val_loss: 3833.1028\n",
      "Epoch 5/100\n",
      "65/65 [==============================] - 0s 8ms/step - loss: 4157.5586 - val_loss: 3398.2441\n",
      "Epoch 6/100\n",
      "65/65 [==============================] - 0s 7ms/step - loss: 4360.0137 - val_loss: 3567.3521\n",
      "Epoch 7/100\n",
      "65/65 [==============================] - 0s 8ms/step - loss: 4074.7559 - val_loss: 2670.8682\n",
      "Epoch 8/100\n",
      "65/65 [==============================] - 1s 8ms/step - loss: 2851.5901 - val_loss: 3074.5911\n",
      "Epoch 9/100\n",
      "65/65 [==============================] - 0s 7ms/step - loss: 2874.5403 - val_loss: 5259.0601\n",
      "Epoch 10/100\n",
      "65/65 [==============================] - 0s 7ms/step - loss: 3038.6780 - val_loss: 2296.8030\n",
      "Epoch 11/100\n",
      "65/65 [==============================] - 0s 8ms/step - loss: 2217.7754 - val_loss: 2171.5642\n",
      "Epoch 12/100\n",
      "65/65 [==============================] - 0s 7ms/step - loss: 1894.2847 - val_loss: 2329.1094\n",
      "Epoch 13/100\n",
      "65/65 [==============================] - 0s 7ms/step - loss: 2119.4395 - val_loss: 2791.5510\n",
      "Epoch 14/100\n",
      "65/65 [==============================] - 0s 7ms/step - loss: 1796.2350 - val_loss: 4587.4849\n",
      "Epoch 15/100\n",
      "65/65 [==============================] - 0s 7ms/step - loss: 1562.4976 - val_loss: 3410.9148\n",
      "Epoch 16/100\n",
      "65/65 [==============================] - 0s 7ms/step - loss: 1732.4612 - val_loss: 2541.8047\n",
      "Epoch 17/100\n",
      "65/65 [==============================] - 0s 7ms/step - loss: 1449.2606 - val_loss: 2335.0476\n",
      "Epoch 18/100\n",
      "65/65 [==============================] - 0s 7ms/step - loss: 1395.2673 - val_loss: 1924.4927\n",
      "Epoch 19/100\n",
      "65/65 [==============================] - 0s 7ms/step - loss: 1218.4612 - val_loss: 3198.3159\n",
      "Epoch 20/100\n",
      "65/65 [==============================] - 0s 7ms/step - loss: 933.9083 - val_loss: 2212.4209\n",
      "Epoch 21/100\n",
      "65/65 [==============================] - 0s 7ms/step - loss: 1689.5055 - val_loss: 8686.2656\n",
      "Epoch 22/100\n",
      "65/65 [==============================] - 0s 7ms/step - loss: 2011.8376 - val_loss: 2006.5970\n",
      "Epoch 23/100\n",
      "65/65 [==============================] - 0s 7ms/step - loss: 716.2711 - val_loss: 1750.6453\n",
      "Epoch 24/100\n",
      "65/65 [==============================] - 0s 8ms/step - loss: 2419.9778 - val_loss: 1899.4495\n",
      "Epoch 25/100\n",
      "65/65 [==============================] - 0s 7ms/step - loss: 1184.9473 - val_loss: 3137.6152\n",
      "Epoch 26/100\n",
      "65/65 [==============================] - 0s 7ms/step - loss: 1103.1111 - val_loss: 11851.1357\n",
      "Epoch 27/100\n",
      "65/65 [==============================] - 0s 7ms/step - loss: 1677.8137 - val_loss: 1827.7266\n",
      "Epoch 28/100\n",
      "65/65 [==============================] - 0s 7ms/step - loss: 1053.2646 - val_loss: 1680.8027\n",
      "Epoch 29/100\n",
      "65/65 [==============================] - 0s 7ms/step - loss: 1050.5876 - val_loss: 2035.3257\n",
      "Epoch 30/100\n",
      "65/65 [==============================] - 0s 7ms/step - loss: 1411.1957 - val_loss: 4339.2598\n",
      "Epoch 31/100\n",
      "65/65 [==============================] - 0s 7ms/step - loss: 5175.1655 - val_loss: 20669.4980\n",
      "Epoch 32/100\n",
      "65/65 [==============================] - 1s 8ms/step - loss: 163313.6094 - val_loss: 1097268.3750\n",
      "Epoch 33/100\n",
      "65/65 [==============================] - 0s 7ms/step - loss: 554666.9375 - val_loss: 14959.5811\n",
      "Epoch 34/100\n",
      "65/65 [==============================] - 0s 7ms/step - loss: 78794.5547 - val_loss: 440288.8750\n",
      "Epoch 35/100\n",
      "65/65 [==============================] - 0s 7ms/step - loss: 137209.3125 - val_loss: 36197.3359\n",
      "Epoch 36/100\n",
      "65/65 [==============================] - 0s 7ms/step - loss: 133484.4375 - val_loss: 302301.3125\n",
      "Epoch 37/100\n",
      "65/65 [==============================] - 0s 7ms/step - loss: 138658.5312 - val_loss: 20576.6602\n",
      "Epoch 38/100\n",
      "65/65 [==============================] - 0s 7ms/step - loss: 448574.1562 - val_loss: 38015.4766\n",
      "Epoch 39/100\n",
      "65/65 [==============================] - 0s 7ms/step - loss: 167310.4688 - val_loss: 36048.9883\n",
      "Epoch 40/100\n",
      "65/65 [==============================] - 0s 7ms/step - loss: 94699.7500 - val_loss: 19709.8301\n",
      "Epoch 41/100\n",
      "65/65 [==============================] - 0s 8ms/step - loss: 115440.7578 - val_loss: 99576.2578\n",
      "Epoch 42/100\n",
      "65/65 [==============================] - 0s 7ms/step - loss: 107633.7656 - val_loss: 11998.0430\n",
      "Epoch 43/100\n",
      "65/65 [==============================] - 0s 7ms/step - loss: 108082.1719 - val_loss: 18196.5527\n",
      "Epoch 44/100\n",
      "65/65 [==============================] - 0s 7ms/step - loss: 281481.2812 - val_loss: 1880081.5000\n",
      "Epoch 45/100\n",
      "65/65 [==============================] - 0s 7ms/step - loss: 300711.3125 - val_loss: 35232.7656\n",
      "Epoch 46/100\n",
      "65/65 [==============================] - 0s 7ms/step - loss: 67320.8672 - val_loss: 9601.5576\n",
      "Epoch 47/100\n",
      "65/65 [==============================] - 0s 7ms/step - loss: 49961.5469 - val_loss: 80445.9531\n",
      "Epoch 48/100\n",
      "65/65 [==============================] - 0s 7ms/step - loss: 92859.5234 - val_loss: 40870.3320\n",
      "Epoch 49/100\n",
      "65/65 [==============================] - 0s 7ms/step - loss: 143502.0625 - val_loss: 531918.9375\n",
      "Epoch 50/100\n",
      "65/65 [==============================] - 0s 7ms/step - loss: 639099.6250 - val_loss: 87111.3281\n",
      "Epoch 51/100\n",
      "65/65 [==============================] - 0s 7ms/step - loss: 93938.5625 - val_loss: 411875.4375\n",
      "Epoch 52/100\n",
      "65/65 [==============================] - 0s 7ms/step - loss: 91181.4297 - val_loss: 7859.6807\n",
      "Epoch 53/100\n",
      "65/65 [==============================] - 0s 7ms/step - loss: 124362.7891 - val_loss: 81239.9297\n",
      "Epoch 54/100\n",
      "65/65 [==============================] - 0s 7ms/step - loss: 108354.4922 - val_loss: 7777.6899\n",
      "Epoch 55/100\n",
      "65/65 [==============================] - 0s 7ms/step - loss: 63324.2500 - val_loss: 12178.4854\n",
      "Epoch 56/100\n",
      "65/65 [==============================] - 0s 7ms/step - loss: 352458.4062 - val_loss: 56949.7812\n",
      "Epoch 57/100\n",
      "65/65 [==============================] - 0s 7ms/step - loss: 104035.0469 - val_loss: 29604.0410\n",
      "Epoch 58/100\n",
      "65/65 [==============================] - 0s 7ms/step - loss: 33175.4062 - val_loss: 12411.0986\n",
      "Epoch 59/100\n",
      "65/65 [==============================] - 0s 7ms/step - loss: 81223.0312 - val_loss: 30489.4785\n",
      "Epoch 60/100\n",
      "65/65 [==============================] - 0s 7ms/step - loss: 203916.3906 - val_loss: 12730.5918\n",
      "Epoch 61/100\n",
      "65/65 [==============================] - 0s 7ms/step - loss: 176874.2344 - val_loss: 196095.6719\n",
      "Epoch 62/100\n",
      "65/65 [==============================] - 0s 7ms/step - loss: 280794.5000 - val_loss: 24860.2676\n",
      "Epoch 63/100\n",
      "65/65 [==============================] - 0s 7ms/step - loss: 57160.0430 - val_loss: 10594.4619\n",
      "Epoch 64/100\n",
      "65/65 [==============================] - 0s 7ms/step - loss: 63127.6523 - val_loss: 159955.8750\n",
      "Epoch 65/100\n",
      "65/65 [==============================] - 0s 7ms/step - loss: 368961.0625 - val_loss: 28176.8340\n",
      "Epoch 66/100\n",
      "65/65 [==============================] - 0s 7ms/step - loss: 311623.2500 - val_loss: 16977.3574\n",
      "Epoch 67/100\n",
      "65/65 [==============================] - 0s 7ms/step - loss: 163536.6406 - val_loss: 31728.6562\n",
      "Epoch 68/100\n",
      "65/65 [==============================] - 0s 7ms/step - loss: 62726.6484 - val_loss: 82269.1328\n",
      "Epoch 69/100\n",
      "65/65 [==============================] - 0s 7ms/step - loss: 66975.2031 - val_loss: 128606.7422\n",
      "Epoch 70/100\n",
      "65/65 [==============================] - 0s 7ms/step - loss: 87102.8984 - val_loss: 226517.8125\n",
      "Epoch 71/100\n",
      "65/65 [==============================] - 0s 7ms/step - loss: 190688.6094 - val_loss: 34082.1992\n",
      "Epoch 72/100\n",
      "65/65 [==============================] - 0s 7ms/step - loss: 85926.1328 - val_loss: 80224.5156\n",
      "Epoch 73/100\n",
      "65/65 [==============================] - 0s 7ms/step - loss: 140610.9219 - val_loss: 67176.9141\n",
      "Epoch 74/100\n",
      "65/65 [==============================] - 0s 7ms/step - loss: 517891.5625 - val_loss: 68342.5469\n",
      "Epoch 75/100\n",
      "65/65 [==============================] - 0s 7ms/step - loss: 246307.0469 - val_loss: 323260.3125\n",
      "Epoch 76/100\n",
      "65/65 [==============================] - 0s 7ms/step - loss: 185752.3281 - val_loss: 25577.6094\n",
      "Epoch 77/100\n",
      "65/65 [==============================] - 0s 7ms/step - loss: 55462.7305 - val_loss: 7955.0835\n",
      "Epoch 78/100\n",
      "65/65 [==============================] - 0s 7ms/step - loss: 91014.1797 - val_loss: 115983.3203\n",
      "Epoch 79/100\n",
      "65/65 [==============================] - 0s 7ms/step - loss: 127628.0938 - val_loss: 877324.3125\n",
      "Epoch 80/100\n",
      "65/65 [==============================] - 0s 7ms/step - loss: 419211.1250 - val_loss: 18659.7129\n",
      "Epoch 81/100\n",
      "65/65 [==============================] - 0s 7ms/step - loss: 127113.7812 - val_loss: 46270.3828\n",
      "Epoch 82/100\n",
      "65/65 [==============================] - 0s 7ms/step - loss: 31855.9512 - val_loss: 82433.4531\n",
      "Epoch 83/100\n",
      "65/65 [==============================] - 0s 7ms/step - loss: 136977.5000 - val_loss: 22783.5527\n",
      "Epoch 84/100\n",
      "65/65 [==============================] - 0s 7ms/step - loss: 74532.2578 - val_loss: 30474.3770\n",
      "Epoch 85/100\n",
      "65/65 [==============================] - 0s 7ms/step - loss: 97565.3125 - val_loss: 46758.5742\n",
      "Epoch 86/100\n",
      "65/65 [==============================] - 0s 7ms/step - loss: 431252.2188 - val_loss: 87475.0391\n",
      "Epoch 87/100\n",
      "65/65 [==============================] - 0s 7ms/step - loss: 429971.8438 - val_loss: 313807.4688\n",
      "Epoch 88/100\n",
      "65/65 [==============================] - 0s 7ms/step - loss: 251510.0938 - val_loss: 199638.9688\n",
      "Epoch 89/100\n",
      "65/65 [==============================] - 0s 7ms/step - loss: 133555.0625 - val_loss: 9315.8252\n",
      "Epoch 90/100\n",
      "65/65 [==============================] - 0s 7ms/step - loss: 38563.5664 - val_loss: 6251.9536\n",
      "Epoch 91/100\n",
      "65/65 [==============================] - 0s 7ms/step - loss: 35300.4922 - val_loss: 8939.5137\n",
      "Epoch 92/100\n",
      "65/65 [==============================] - 0s 7ms/step - loss: 30611.7539 - val_loss: 50768.9883\n",
      "Epoch 93/100\n",
      "65/65 [==============================] - 0s 7ms/step - loss: 36944.1094 - val_loss: 121219.6094\n",
      "Epoch 94/100\n",
      "65/65 [==============================] - 0s 7ms/step - loss: 155592.5156 - val_loss: 317401.8125\n",
      "Epoch 95/100\n",
      "65/65 [==============================] - 0s 7ms/step - loss: 322333.4375 - val_loss: 540220.3750\n",
      "Epoch 96/100\n",
      "65/65 [==============================] - 0s 7ms/step - loss: 282031.0938 - val_loss: 169480.4219\n",
      "Epoch 97/100\n",
      "65/65 [==============================] - 0s 8ms/step - loss: 105375.7266 - val_loss: 303222.5000\n",
      "Epoch 98/100\n",
      "65/65 [==============================] - 0s 7ms/step - loss: 95304.2812 - val_loss: 487825.1250\n",
      "Epoch 99/100\n",
      "65/65 [==============================] - 0s 7ms/step - loss: 306285.2500 - val_loss: 18713.0898\n",
      "Epoch 100/100\n",
      "65/65 [==============================] - 0s 7ms/step - loss: 186464.8594 - val_loss: 292415.5000\n"
     ]
    }
   ],
   "source": [
    "# x: 'Collisions_Historical', 'Mid_lat','Mid_long', 'Stop_Signs', 'Paving_historical', 'Bus_stop','RTTYP_I','RTTYP_M','RTTYP_O','RTTYP_S','RTTYP_U'\n",
    "# y: 'Collisions_Future'\n",
    "\n",
    "def create_linear_model():\n",
    "    # DENSE LAYERS \n",
    "    input = tf.keras.layers.Input(shape=(111306,))\n",
    "\n",
    "    outputs = layers.Dense(1)(input)\n",
    "\n",
    "    linear_model = tf.keras.models.Model(inputs=input, outputs=outputs, name=\"linear_model\")\n",
    "\n",
    "    linear_model.summary()\n",
    "\n",
    "    linear_model.compile(\n",
    "        optimizer=tf.keras.optimizers.Adam(learning_rate=0.001),\n",
    "        loss='mean_squared_error'\n",
    "        )\n",
    "    \n",
    "    return linear_model\n",
    "\n",
    "linear_model = create_linear_model()\n",
    "\n",
    "history = linear_model.fit(\n",
    "    input_image_street,\n",
    "     np.stack(y_train['Collisions_Future'].to_numpy()),\n",
    "    epochs=100,\n",
    "    # Suppress logging.\n",
    "     verbose=1,\n",
    "    # Calculate validation results on 20% of the training data.\n",
    "    validation_split = 0.2)\n"
   ]
  },
  {
   "cell_type": "code",
   "execution_count": 42,
   "id": "aab7b35b-71ff-4966-b602-45bb0e4bc6ad",
   "metadata": {
    "tags": []
   },
   "outputs": [
    {
     "data": {
      "image/png": "[encoded data removed]",
      "text/plain": [
       "<Figure size 640x480 with 1 Axes>"
      ]
     },
     "metadata": {},
     "output_type": "display_data"
    }
   ],
   "source": [
    "plot_loss(history)"
   ]
  },
  {
   "cell_type": "code",
   "execution_count": 43,
   "id": "380a4d1d-ec2e-4546-820f-e51501791eaa",
   "metadata": {
    "tags": []
   },
   "outputs": [
    {
     "name": "stdout",
     "output_type": "stream",
     "text": [
      "21/21 [==============================] - 0s 4ms/step\n"
     ]
    }
   ],
   "source": [
    "predict_result = history.model.predict(input_image_street_test)"
   ]
  },
  {
   "cell_type": "code",
   "execution_count": 44,
   "id": "e926ad6d-5225-42bf-88d7-33f0074f5e3f",
   "metadata": {
    "tags": []
   },
   "outputs": [
    {
     "data": {
      "text/plain": [
       "(649, 1)"
      ]
     },
     "execution_count": 44,
     "metadata": {},
     "output_type": "execute_result"
    }
   ],
   "source": [
    "predict_result.shape"
   ]
  },
  {
   "cell_type": "markdown",
   "id": "99c93772-2d18-4241-a31f-7793c8b46be4",
   "metadata": {},
   "source": [
    "## Mean squared error"
   ]
  },
  {
   "cell_type": "code",
   "execution_count": 45,
   "id": "4d94890a-c92e-48df-aef5-1be5337e803e",
   "metadata": {
    "tags": []
   },
   "outputs": [
    {
     "data": {
      "text/plain": [
       "290527.9038202833"
      ]
     },
     "execution_count": 45,
     "metadata": {},
     "output_type": "execute_result"
    }
   ],
   "source": [
    "np.square(predict_result - y_test['Collisions_Future'].to_numpy().reshape((649,1))).mean()"
   ]
  },
  {
   "cell_type": "markdown",
   "id": "76293faa-4ad4-4467-adcf-75a6e9c9cfb3",
   "metadata": {
    "tags": []
   },
   "source": [
    "## LOGISTIC MODEL WITH IMAGES"
   ]
  },
  {
   "cell_type": "code",
   "execution_count": null,
   "id": "77720819-1254-4495-a662-aec9445e4fcd",
   "metadata": {
    "jupyter": {
     "source_hidden": true
    },
    "tags": []
   },
   "outputs": [],
   "source": [
    "# def log_loss(y_pred, y):\n",
    "#   # Compute the log loss function\n",
    "#   ce = tf.nn.sigmoid_cross_entropy_with_logits(labels=y, logits=y_pred)\n",
    "#   return tf.reduce_mean(ce)\n",
    "\n",
    "# class LogisticRegression(tf.Module):\n",
    "\n",
    "#   def __init__(self):\n",
    "#     self.built = False\n",
    "\n",
    "#   def __call__(self, x, train=True):\n",
    "#     # Initialize the model parameters on the first call\n",
    "#     if not self.built:\n",
    "#       # Randomly generate the weights and the bias term\n",
    "#       rand_w = tf.random.uniform(shape=[x.shape[-1], 1], seed=22)\n",
    "#       rand_b = tf.random.uniform(shape=[], seed=22)\n",
    "#       self.w = tf.Variable(rand_w)\n",
    "#       self.b = tf.Variable(rand_b)\n",
    "#       self.built = True\n",
    "#     # Compute the model output\n",
    "#     z = tf.add(tf.matmul(x, self.w), self.b)\n",
    "#     z = tf.squeeze(z, axis=1)\n",
    "#     if train:\n",
    "#       return z\n",
    "#     return tf.sigmoid(z)\n",
    "\n",
    "# log_reg = LogisticRegression()\n",
    "\n",
    "# def predict_class(y_pred, thresh=0.5):\n",
    "#   # Return a tensor with  `1` if `y_pred` > `0.5`, and `0` otherwise\n",
    "#   return tf.cast(y_pred > thresh, tf.float32)\n",
    "\n",
    "# def accuracy(y_pred, y):\n",
    "#   # Return the proportion of matches between `y_pred` and `y`\n",
    "#   y_pred = tf.math.sigmoid(y_pred)\n",
    "#   y_pred_class = predict_class(y_pred)\n",
    "#   check_equal = tf.cast(y_pred_class == y,tf.float32)\n",
    "#   acc_val = tf.reduce_mean(check_equal)\n",
    "#   return acc_val"
   ]
  },
  {
   "cell_type": "code",
   "execution_count": null,
   "id": "2e09bb67-ac68-494f-a221-9f1d0b784100",
   "metadata": {},
   "outputs": [],
   "source": [
    "# y_pred = log_reg(input_image_street[0:5], train=False)\n",
    "# y_pred.numpy()\n",
    "# # input_image_street.shape[0]"
   ]
  },
  {
   "cell_type": "code",
   "execution_count": null,
   "id": "53774f86-e884-40e7-a4c6-59eabad1eb33",
   "metadata": {
    "tags": []
   },
   "outputs": [],
   "source": [
    "# # Our vectorized labels\n",
    "# y_train = np.asarray(y_train).astype('float32').reshape((-1,1))\n",
    "# # y_test = np.asarray(test_labels).astype('float32').reshape((-1,1))\n",
    "# batch_size = 2 #  64\n",
    "# train_dataset = tf.data.Dataset.from_tensor_slices((input_image_street, y_train))\n",
    "# train_dataset = train_dataset.shuffle(buffer_size=input_image_street.shape[0]).batch(batch_size)\n",
    "# # test_dataset = tf.data.Dataset.from_tensor_slices((input_image_street, y_test))\n",
    "# # test_dataset = test_dataset.shuffle(buffer_size=x_test.shape[0]).batch(batch_size)"
   ]
  },
  {
   "cell_type": "code",
   "execution_count": null,
   "id": "b33bdbd9-903e-4451-b3ec-077006b455a8",
   "metadata": {},
   "outputs": [],
   "source": [
    "# y_train.shape"
   ]
  },
  {
   "cell_type": "code",
   "execution_count": null,
   "id": "df9a02d3-2f19-4d49-af7f-0cbea330465b",
   "metadata": {
    "tags": []
   },
   "outputs": [],
   "source": [
    "# # Set training parameters\n",
    "# epochs = 3 # 200\n",
    "# learning_rate = 0.01\n",
    "# train_losses, test_losses = [], []\n",
    "# train_accs, test_accs = [], []\n",
    "\n",
    "# # Set up the training loop and begin training\n",
    "# for epoch in range(epochs):\n",
    "#   batch_losses_train, batch_accs_train = [], []\n",
    "#   batch_losses_test, batch_accs_test = [], []\n",
    "\n",
    "#   # Iterate over the training data\n",
    "#   for x_batch, y_batch in train_dataset:\n",
    "#     with tf.GradientTape() as tape:\n",
    "#       y_pred_batch = log_reg(x_batch)\n",
    "#       # print(f'y_pred_batch: {y_pred_batch.numpy().reshape((2,1)).shape}')\n",
    "#       print(f'y_batch: {y_batch.shape}')\n",
    "#       y_pred_batch = y_pred_batch.numpy().reshape((2,1))\n",
    "#       batch_loss = log_loss(y_pred_batch, y_batch)\n",
    "#     batch_acc = accuracy(y_pred_batch, y_batch)\n",
    "#     # Update the parameters with respect to the gradient calculations\n",
    "#     grads = tape.gradient(batch_loss, log_reg.variables)\n",
    "#     for g,v in zip(grads, log_reg.variables):\n",
    "#       print(g,v)  \n",
    "#       v.assign_sub(learning_rate * g)\n",
    "#     # Keep track of batch-level training performance\n",
    "#     batch_losses_train.append(batch_loss)\n",
    "#     batch_accs_train.append(batch_acc)\n",
    "\n",
    "#   # Iterate over the testing data\n",
    "#   for x_batch, y_batch in test_dataset:\n",
    "#     y_pred_batch = log_reg(x_batch)\n",
    "#     batch_loss = log_loss(y_pred_batch, y_batch)\n",
    "#     batch_acc = accuracy(y_pred_batch, y_batch)\n",
    "#     # Keep track of batch-level testing performance\n",
    "#     batch_losses_test.append(batch_loss)\n",
    "#     batch_accs_test.append(batch_acc)\n",
    "\n",
    "#   # Keep track of epoch-level model performance\n",
    "#   train_loss, train_acc = tf.reduce_mean(batch_losses_train), tf.reduce_mean(batch_accs_train)\n",
    "#   test_loss, test_acc = tf.reduce_mean(batch_losses_test), tf.reduce_mean(batch_accs_test)\n",
    "#   train_losses.append(train_loss)\n",
    "#   train_accs.append(train_acc)\n",
    "#   test_losses.append(test_loss)\n",
    "#   test_accs.append(test_acc)\n",
    "#   if epoch % 20 == 0:\n",
    "#     print(f\"Epoch: {epoch}, Training log loss: {train_loss:.3f}\")"
   ]
  },
  {
   "cell_type": "code",
   "execution_count": null,
   "id": "bc0d5ace-613d-4a4f-9d7b-f7cc8bedf507",
   "metadata": {},
   "outputs": [],
   "source": [
    "# clf = LogisticRegression(random_state=0,max_iter=1000).fit(input_image_street, np.ravel(y_train))"
   ]
  },
  {
   "cell_type": "code",
   "execution_count": 25,
   "id": "6ef027c2-bb0f-45e7-ac0a-2fb328014abf",
   "metadata": {
    "tags": []
   },
   "outputs": [
    {
     "name": "stdout",
     "output_type": "stream",
     "text": [
      "Model: \"logistic_model\"\n",
      "_________________________________________________________________\n",
      " Layer (type)                Output Shape              Param #   \n",
      "=================================================================\n",
      " input_2 (InputLayer)        [(None, 111306)]          0         \n",
      "                                                                 \n",
      " dense_1 (Dense)             (None, 1)                 111307    \n",
      "                                                                 \n",
      "=================================================================\n",
      "Total params: 111,307\n",
      "Trainable params: 111,307\n",
      "Non-trainable params: 0\n",
      "_________________________________________________________________\n",
      "Epoch 1/50\n"
     ]
    },
    {
     "name": "stderr",
     "output_type": "stream",
     "text": [
      "2023-03-14 05:16:05.771918: I tensorflow/compiler/xla/service/service.cc:173] XLA service 0x7f7d7c086b00 initialized for platform CUDA (this does not guarantee that XLA will be used). Devices:\n",
      "2023-03-14 05:16:05.771962: I tensorflow/compiler/xla/service/service.cc:181]   StreamExecutor device (0): Tesla M60, Compute Capability 5.2\n",
      "2023-03-14 05:16:05.778676: I tensorflow/compiler/mlir/tensorflow/utils/dump_mlir_util.cc:268] disabling MLIR crash reproducer, set env var `MLIR_CRASH_REPRODUCER_DIRECTORY` to enable.\n",
      "2023-03-14 05:16:05.942347: I tensorflow/compiler/jit/xla_compilation_cache.cc:477] Compiled cluster using XLA!  This line is logged at most once for the lifetime of the process.\n"
     ]
    },
    {
     "name": "stdout",
     "output_type": "stream",
     "text": [
      "65/65 [==============================] - 2s 12ms/step - loss: 676.4252 - accuracy: 0.5982 - val_loss: 192.9883 - val_accuracy: 0.7206\n",
      "Epoch 2/50\n",
      "65/65 [==============================] - 0s 8ms/step - loss: 373.8690 - accuracy: 0.6257 - val_loss: 296.7309 - val_accuracy: 0.6936\n",
      "Epoch 3/50\n",
      "65/65 [==============================] - 0s 8ms/step - loss: 350.7898 - accuracy: 0.6213 - val_loss: 699.6194 - val_accuracy: 0.3237\n",
      "Epoch 4/50\n",
      "65/65 [==============================] - 1s 8ms/step - loss: 260.3670 - accuracy: 0.6734 - val_loss: 175.3953 - val_accuracy: 0.6956\n",
      "Epoch 5/50\n",
      "65/65 [==============================] - 0s 8ms/step - loss: 364.1136 - accuracy: 0.6696 - val_loss: 372.1360 - val_accuracy: 0.3661\n",
      "Epoch 6/50\n",
      "65/65 [==============================] - 0s 8ms/step - loss: 252.3259 - accuracy: 0.6671 - val_loss: 142.3854 - val_accuracy: 0.6802\n",
      "Epoch 7/50\n",
      "65/65 [==============================] - 0s 8ms/step - loss: 91.8119 - accuracy: 0.7641 - val_loss: 158.1483 - val_accuracy: 0.6859\n",
      "Epoch 8/50\n",
      "65/65 [==============================] - 0s 8ms/step - loss: 148.7107 - accuracy: 0.7260 - val_loss: 841.4869 - val_accuracy: 0.6821\n",
      "Epoch 9/50\n",
      "65/65 [==============================] - 0s 7ms/step - loss: 120.1916 - accuracy: 0.7680 - val_loss: 381.7027 - val_accuracy: 0.6879\n",
      "Epoch 10/50\n",
      "65/65 [==============================] - 1s 8ms/step - loss: 268.6667 - accuracy: 0.6696 - val_loss: 366.4604 - val_accuracy: 0.6975\n",
      "Epoch 11/50\n",
      "65/65 [==============================] - 0s 8ms/step - loss: 84.1130 - accuracy: 0.7887 - val_loss: 124.0054 - val_accuracy: 0.6204\n",
      "Epoch 12/50\n",
      "65/65 [==============================] - 0s 8ms/step - loss: 98.8340 - accuracy: 0.7921 - val_loss: 153.6587 - val_accuracy: 0.6782\n",
      "Epoch 13/50\n",
      "65/65 [==============================] - 0s 7ms/step - loss: 156.3637 - accuracy: 0.7902 - val_loss: 399.2868 - val_accuracy: 0.6994\n",
      "Epoch 14/50\n",
      "65/65 [==============================] - 1s 8ms/step - loss: 129.1891 - accuracy: 0.7771 - val_loss: 265.6119 - val_accuracy: 0.6975\n",
      "Epoch 15/50\n",
      "65/65 [==============================] - 0s 8ms/step - loss: 82.9215 - accuracy: 0.8104 - val_loss: 294.2670 - val_accuracy: 0.7013\n",
      "Epoch 16/50\n",
      "65/65 [==============================] - 1s 8ms/step - loss: 109.9616 - accuracy: 0.8046 - val_loss: 281.4786 - val_accuracy: 0.7091\n",
      "Epoch 17/50\n",
      "65/65 [==============================] - 1s 8ms/step - loss: 233.9247 - accuracy: 0.7279 - val_loss: 269.0911 - val_accuracy: 0.7033\n",
      "Epoch 18/50\n",
      "65/65 [==============================] - 1s 8ms/step - loss: 82.2312 - accuracy: 0.8562 - val_loss: 195.9864 - val_accuracy: 0.5626\n",
      "Epoch 19/50\n",
      "65/65 [==============================] - 0s 8ms/step - loss: 31.4631 - accuracy: 0.8837 - val_loss: 156.2459 - val_accuracy: 0.6532\n",
      "Epoch 20/50\n",
      "65/65 [==============================] - 0s 8ms/step - loss: 133.8768 - accuracy: 0.7863 - val_loss: 240.3340 - val_accuracy: 0.5626\n",
      "Epoch 21/50\n",
      "65/65 [==============================] - 0s 8ms/step - loss: 66.9565 - accuracy: 0.8283 - val_loss: 363.5336 - val_accuracy: 0.4277\n",
      "Epoch 22/50\n",
      "65/65 [==============================] - 0s 8ms/step - loss: 16.7045 - accuracy: 0.9368 - val_loss: 169.4633 - val_accuracy: 0.6012\n",
      "Epoch 23/50\n",
      "65/65 [==============================] - 0s 8ms/step - loss: 110.7767 - accuracy: 0.8278 - val_loss: 231.7359 - val_accuracy: 0.6994\n",
      "Epoch 24/50\n",
      "65/65 [==============================] - 0s 7ms/step - loss: 28.6340 - accuracy: 0.9055 - val_loss: 415.9323 - val_accuracy: 0.3854\n",
      "Epoch 25/50\n",
      "65/65 [==============================] - 0s 7ms/step - loss: 31.1521 - accuracy: 0.9030 - val_loss: 159.0532 - val_accuracy: 0.6358\n",
      "Epoch 26/50\n",
      "65/65 [==============================] - 0s 8ms/step - loss: 52.1693 - accuracy: 0.8881 - val_loss: 652.4837 - val_accuracy: 0.6840\n",
      "Epoch 27/50\n",
      "65/65 [==============================] - 0s 8ms/step - loss: 130.0899 - accuracy: 0.8249 - val_loss: 181.2428 - val_accuracy: 0.5973\n",
      "Epoch 28/50\n",
      "65/65 [==============================] - 1s 8ms/step - loss: 80.0065 - accuracy: 0.8456 - val_loss: 634.9146 - val_accuracy: 0.6917\n",
      "Epoch 29/50\n",
      "65/65 [==============================] - 1s 8ms/step - loss: 113.2958 - accuracy: 0.8345 - val_loss: 210.0761 - val_accuracy: 0.5915\n",
      "Epoch 30/50\n",
      "65/65 [==============================] - 0s 8ms/step - loss: 98.5110 - accuracy: 0.8384 - val_loss: 723.5802 - val_accuracy: 0.6840\n",
      "Epoch 31/50\n",
      "65/65 [==============================] - 1s 8ms/step - loss: 242.8510 - accuracy: 0.7356 - val_loss: 279.6000 - val_accuracy: 0.6185\n",
      "Epoch 32/50\n",
      "65/65 [==============================] - 0s 8ms/step - loss: 21.6555 - accuracy: 0.9411 - val_loss: 225.7954 - val_accuracy: 0.5934\n",
      "Epoch 33/50\n",
      "65/65 [==============================] - 0s 8ms/step - loss: 160.7970 - accuracy: 0.7699 - val_loss: 441.7448 - val_accuracy: 0.4644\n",
      "Epoch 34/50\n",
      "65/65 [==============================] - 0s 8ms/step - loss: 27.3771 - accuracy: 0.9320 - val_loss: 225.1900 - val_accuracy: 0.5973\n",
      "Epoch 35/50\n",
      "65/65 [==============================] - 1s 8ms/step - loss: 35.3933 - accuracy: 0.9185 - val_loss: 229.7360 - val_accuracy: 0.6570\n",
      "Epoch 36/50\n",
      "65/65 [==============================] - 0s 8ms/step - loss: 74.7969 - accuracy: 0.8480 - val_loss: 1021.0453 - val_accuracy: 0.3391\n",
      "Epoch 37/50\n",
      "65/65 [==============================] - 0s 8ms/step - loss: 160.0822 - accuracy: 0.8360 - val_loss: 257.5831 - val_accuracy: 0.6782\n",
      "Epoch 38/50\n",
      "65/65 [==============================] - 1s 8ms/step - loss: 5.7317 - accuracy: 0.9662 - val_loss: 423.9623 - val_accuracy: 0.6975\n",
      "Epoch 39/50\n",
      "65/65 [==============================] - 0s 8ms/step - loss: 161.3716 - accuracy: 0.8090 - val_loss: 335.3253 - val_accuracy: 0.5356\n",
      "Epoch 40/50\n",
      "65/65 [==============================] - 1s 8ms/step - loss: 174.4028 - accuracy: 0.8201 - val_loss: 543.5400 - val_accuracy: 0.7110\n",
      "Epoch 41/50\n",
      "65/65 [==============================] - 1s 8ms/step - loss: 123.6579 - accuracy: 0.8606 - val_loss: 687.4012 - val_accuracy: 0.6859\n",
      "Epoch 42/50\n",
      "65/65 [==============================] - 1s 8ms/step - loss: 95.8350 - accuracy: 0.8611 - val_loss: 454.0299 - val_accuracy: 0.4605\n",
      "Epoch 43/50\n",
      "65/65 [==============================] - 0s 7ms/step - loss: 28.3143 - accuracy: 0.9267 - val_loss: 360.8423 - val_accuracy: 0.6994\n",
      "Epoch 44/50\n",
      "65/65 [==============================] - 0s 8ms/step - loss: 154.4093 - accuracy: 0.8162 - val_loss: 275.1521 - val_accuracy: 0.6609\n",
      "Epoch 45/50\n",
      "65/65 [==============================] - 0s 8ms/step - loss: 62.8812 - accuracy: 0.8726 - val_loss: 565.9031 - val_accuracy: 0.4104\n",
      "Epoch 46/50\n",
      "65/65 [==============================] - 0s 8ms/step - loss: 90.0349 - accuracy: 0.8490 - val_loss: 304.9121 - val_accuracy: 0.6127\n",
      "Epoch 47/50\n",
      "65/65 [==============================] - 0s 8ms/step - loss: 17.7920 - accuracy: 0.9503 - val_loss: 300.5204 - val_accuracy: 0.6744\n",
      "Epoch 48/50\n",
      "65/65 [==============================] - 0s 7ms/step - loss: 91.4313 - accuracy: 0.8432 - val_loss: 323.4886 - val_accuracy: 0.6821\n",
      "Epoch 49/50\n",
      "65/65 [==============================] - 1s 8ms/step - loss: 76.0850 - accuracy: 0.8862 - val_loss: 294.4527 - val_accuracy: 0.6763\n",
      "Epoch 50/50\n",
      "65/65 [==============================] - 0s 8ms/step - loss: 8.1620 - accuracy: 0.9682 - val_loss: 281.5968 - val_accuracy: 0.6859\n"
     ]
    },
    {
     "data": {
      "image/png": "[encoded data removed]",
      "text/plain": [
       "<Figure size 640x480 with 1 Axes>"
      ]
     },
     "metadata": {},
     "output_type": "display_data"
    }
   ],
   "source": [
    "# x: 'Collisions_Historical', 'Mid_lat','Mid_long', 'Stop_Signs', 'Paving_historical', 'Bus_stop','RTTYP_I','RTTYP_M','RTTYP_O','RTTYP_S','RTTYP_U'\n",
    "# y: 'Collisions_Future'\n",
    "\n",
    "def create_logistic_model():\n",
    "    # DENSE LAYERS \n",
    "    input = tf.keras.layers.Input(shape=(111306,))\n",
    "    \n",
    "    # input = keras.layers.Flatten()(input)\n",
    "\n",
    "    outputs = keras.layers.Dense(units = 1, activation = 'sigmoid')(input)\n",
    "\n",
    "    log_model = tf.keras.models.Model(inputs=input, outputs=outputs, name=\"logistic_model\")\n",
    "\n",
    "    log_model.summary()\n",
    "\n",
    "    log_model.compile(\n",
    "        optimizer=tf.keras.optimizers.Adam(learning_rate=0.001),\n",
    "        loss=\"bce\",\n",
    "        metrics=['accuracy']\n",
    "        )\n",
    "    \n",
    "    return log_model\n",
    "\n",
    "logistic_model = create_logistic_model()\n",
    "\n",
    "# class_weight = {0: 1,\n",
    "#                 1: 100000,\n",
    "#                 2: 100000,\n",
    "#                 3: 100000,\n",
    "#                 4: 100000,\n",
    "#                 5: 100000,\n",
    "#                 6: 100000,\n",
    "#                 7: 100000,\n",
    "#                 8: 100000,\n",
    "#                 9: 100000,\n",
    "#                 10: 100000,\n",
    "#                 #11: 100000,\n",
    "#                }\n",
    "\n",
    "history = logistic_model.fit(\n",
    "    input_image_street,\n",
    "    np.stack(y_train.to_numpy()),\n",
    "     # y_train_2,\n",
    "    epochs=50,\n",
    "    # Suppress logging.\n",
    "     # verbose=1,\n",
    "    # Calculate validation results on 20% of the training data.\n",
    "    validation_split = 0.2,\n",
    "    # class_weight = class_weight\n",
    "    )\n",
    "\n",
    "plot_loss(history)"
   ]
  },
  {
   "cell_type": "code",
   "execution_count": 26,
   "id": "d59d1f10-ef4f-4c0e-8ec9-6c9e453d88c0",
   "metadata": {
    "tags": []
   },
   "outputs": [
    {
     "name": "stdout",
     "output_type": "stream",
     "text": [
      "21/21 [==============================] - 0s 4ms/step\n"
     ]
    }
   ],
   "source": [
    "predict_result = history.model.predict(input_image_street_test)"
   ]
  },
  {
   "cell_type": "code",
   "execution_count": 28,
   "id": "1f47cc81-87d8-4766-80ef-b4ef714bf219",
   "metadata": {},
   "outputs": [],
   "source": [
    "predict_result = pd.Series(predict_result.reshape(649)).apply(lambda x: 1 if x > 0.1 else 0)"
   ]
  },
  {
   "cell_type": "code",
   "execution_count": 29,
   "id": "e98e029b-2db6-433b-836f-05a83a97ddde",
   "metadata": {
    "tags": []
   },
   "outputs": [
    {
     "data": {
      "text/plain": [
       "0.7609860664523044"
      ]
     },
     "execution_count": 29,
     "metadata": {},
     "output_type": "execute_result"
    }
   ],
   "source": [
    "f1_score(y_test.to_numpy(), predict_result, labels=None, pos_label=1, average='binary', sample_weight=None, zero_division='warn')"
   ]
  },
  {
   "cell_type": "code",
   "execution_count": null,
   "id": "00caf2bd-776e-4759-9332-6f89912b59cc",
   "metadata": {},
   "outputs": [],
   "source": []
  }
 ],
 "metadata": {
  "kernelspec": {
   "display_name": "Python 3 (ipykernel)",
   "language": "python",
   "name": "python3"
  },
  "language_info": {
   "codemirror_mode": {
    "name": "ipython",
    "version": 3
   },
   "file_extension": ".py",
   "mimetype": "text/x-python",
   "name": "python",
   "nbconvert_exporter": "python",
   "pygments_lexer": "ipython3",
   "version": "3.10.7"
  }
 },
 "nbformat": 4,
 "nbformat_minor": 5
}
