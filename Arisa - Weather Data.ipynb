{
 "cells": [
  {
   "cell_type": "markdown",
   "id": "77a19acd",
   "metadata": {},
   "source": [
    "# Weather data by city, year"
   ]
  },
  {
   "cell_type": "markdown",
   "id": "6ffb1adf",
   "metadata": {},
   "source": [
    "MakeAPICall code citation: https://www.educative.io/answers/how-to-make-api-calls-in-python <br>\n",
    "Lat/Long dataset: https://www.kaggle.com/datasets/camnugent/california-housing-feature-engineering?resource=download <br>\n",
    "Weather API: https://open-meteo.com/en/docs/historical-weather-api#latitude=37.34&longitude=-121.89&start_date=2016-01-01&end_date=2017-01-01&daily=weathercode,temperature_2m_max,temperature_2m_min,temperature_2m_mean,precipitation_sum,rain_sum,snowfall_sum,precipitation_hours,windspeed_10m_max,windgusts_10m_max&timezone=America%2FLos_Angeles&temperature_unit=fahrenheit&windspeed_unit=mph&timeformat=unixtime"
   ]
  },
  {
   "cell_type": "code",
   "execution_count": 34,
   "id": "79799d81",
   "metadata": {},
   "outputs": [],
   "source": [
    "import numpy as np"
   ]
  },
  {
   "cell_type": "code",
   "execution_count": 51,
   "id": "b159ba13",
   "metadata": {},
   "outputs": [
    {
     "name": "stdout",
     "output_type": "stream",
     "text": [
      "             Name   Latitude   Longitude\n",
      "0        Adelanto  34.582769 -117.409214\n",
      "1    Agoura Hills  34.153339 -118.761675\n",
      "2         Alameda  37.765206 -122.241636\n",
      "3          Albany  37.886869 -122.297747\n",
      "4        Alhambra  34.095286 -118.127014\n",
      "..            ...        ...         ...\n",
      "454      Woodland  38.678517 -121.773297\n",
      "455   Yorba Linda  33.888625 -117.813111\n",
      "456         Yreka  41.735419 -122.634472\n",
      "457     Yuba City  39.140447 -121.616911\n",
      "458       Yucaipa  34.033625 -117.043086\n",
      "\n",
      "[459 rows x 3 columns]\n"
     ]
    },
    {
     "data": {
      "text/html": [
       "<div>\n",
       "<style scoped>\n",
       "    .dataframe tbody tr th:only-of-type {\n",
       "        vertical-align: middle;\n",
       "    }\n",
       "\n",
       "    .dataframe tbody tr th {\n",
       "        vertical-align: top;\n",
       "    }\n",
       "\n",
       "    .dataframe thead th {\n",
       "        text-align: right;\n",
       "    }\n",
       "</style>\n",
       "<table border=\"1\" class=\"dataframe\">\n",
       "  <thead>\n",
       "    <tr style=\"text-align: right;\">\n",
       "      <th></th>\n",
       "      <th>Name</th>\n",
       "      <th>Latitude</th>\n",
       "      <th>Longitude</th>\n",
       "    </tr>\n",
       "  </thead>\n",
       "  <tbody>\n",
       "    <tr>\n",
       "      <th>0</th>\n",
       "      <td>Adelanto</td>\n",
       "      <td>34.582769</td>\n",
       "      <td>-117.409214</td>\n",
       "    </tr>\n",
       "    <tr>\n",
       "      <th>1</th>\n",
       "      <td>Agoura Hills</td>\n",
       "      <td>34.153339</td>\n",
       "      <td>-118.761675</td>\n",
       "    </tr>\n",
       "  </tbody>\n",
       "</table>\n",
       "</div>"
      ],
      "text/plain": [
       "           Name   Latitude   Longitude\n",
       "0      Adelanto  34.582769 -117.409214\n",
       "1  Agoura Hills  34.153339 -118.761675"
      ]
     },
     "execution_count": 51,
     "metadata": {},
     "output_type": "execute_result"
    }
   ],
   "source": [
    "import pandas as pd\n",
    "\n",
    "df = pd.read_csv(r'.\\Data\\cal_cities_lat_long.csv')\n",
    "print(df)\n",
    "#print(df[df['Name'] == 'Los Angeles'])\n",
    "coordinates = df.head(2)\n",
    "coordinates"
   ]
  },
  {
   "cell_type": "code",
   "execution_count": 105,
   "id": "cdf3082f",
   "metadata": {},
   "outputs": [
    {
     "name": "stdout",
     "output_type": "stream",
     "text": [
      "Sucessfully fetched the data with parameters provided\n",
      "Sucessfully fetched the data with parameters provided\n"
     ]
    }
   ],
   "source": [
    "import requests\n",
    "import json\n",
    "from scipy import stats as st\n",
    "\n",
    "def MakeApiCall(api, coordinates):\n",
    "    weather = pd.DataFrame(columns = ['city','year','weathercode','temperature_2m_max','temperature_2m_min','temperature_2m_mean','precipitation_sum','rain_sum','snowfall_sum','precipitation_hours','windspeed_10m_max','windgusts_10m_max'])\n",
    "    for i in range(len(coordinates)): \n",
    "        parameters = {\n",
    "            \"latitude\": coordinates['Latitude'][i],\n",
    "            \"longitude\": coordinates['Longitude'][i],\n",
    "            \"start_date\": '2014-01-01',\n",
    "            \"end_date\": '2018-12-31',\n",
    "            \"timezone\": 'America/Los_Angeles',\n",
    "            \"daily\": ['weathercode','temperature_2m_max','temperature_2m_min','temperature_2m_mean','precipitation_sum','rain_sum','snowfall_sum','precipitation_hours','windspeed_10m_max','windgusts_10m_max'],\n",
    "            'temperature_unit': 'fahrenheit',\n",
    "            'windspeed_unit': 'mph',\n",
    "            'timeformat': 'unixtime'\n",
    "        }\n",
    "        city = coordinates['Name'][i]\n",
    "        weather = get_user_data(api, parameters, city, weather)\n",
    "    return weather\n",
    "    \n",
    "def get_user_data(api, parameters, city, dataset):\n",
    "    response = requests.get(f\"{api}\", params=parameters, verify = False)\n",
    "    if response.status_code == 200:\n",
    "        print(\"Sucessfully fetched the data with parameters provided\")\n",
    "        #formatted_print(response.json())\n",
    "        return data(response.json(), city, dataset)\n",
    "    else:\n",
    "        print(\n",
    "            f\"Hello person, there's a {response.status_code} error with your request\")\n",
    "\n",
    "def formatted_print(obj):\n",
    "    text = json.dumps(obj, sort_keys=True, indent=4)\n",
    "    print(text)\n",
    "\n",
    "def data(obj, city, dataset):\n",
    "    metrics = ['weathercode','temperature_2m_max','temperature_2m_min','temperature_2m_mean','precipitation_sum','rain_sum','snowfall_sum','precipitation_hours','windspeed_10m_max','windgusts_10m_max']\n",
    "    app = {'city':city}\n",
    "    dates = [[0,364], [365,729], [730,1095], [1096,1460], [1461,1825]]\n",
    "    year = [2014, 2015, 2016, 2017, 2018]\n",
    "    count = 0\n",
    "    for date in dates:\n",
    "        for metric in metrics:\n",
    "            if metric == 'weathercode':\n",
    "                value = st.mode(obj['daily'][metric][date[0]: date[1]])[0][0]\n",
    "            elif metric in ('temperature_2m_max','temperature_2m_min','temperature_2m_mean','windspeed_10m_max','windgusts_10m_max'):\n",
    "                value = np.average(obj['daily'][metric][date[0]: date[1]])\n",
    "            elif metric in ('precipitation_sum', 'rain_sum','snowfall_sum','precipitation_hours'):\n",
    "                value = np.sum(obj['daily'][metric][date[0]: date[1]])\n",
    "            else:\n",
    "                return 'Error'\n",
    "            app[metric] = value\n",
    "        app['year'] = year[count]\n",
    "        count += 1\n",
    "        dataset = dataset.append(app, ignore_index = True)\n",
    "    return dataset\n",
    "\n",
    "import warnings\n",
    "\n",
    "warnings.filterwarnings(\"ignore\")\n",
    "    \n",
    "api_call = MakeApiCall(\"https://archive-api.open-meteo.com/v1/archive?\", df)\n",
    "\n",
    "api_call.to_csv(r'.\\Data\\Weather.csv', index=False)"
   ]
  },
  {
   "cell_type": "code",
   "execution_count": null,
   "id": "7a97c078",
   "metadata": {},
   "outputs": [],
   "source": []
  }
 ],
 "metadata": {
  "kernelspec": {
   "display_name": "Python 3 (ipykernel)",
   "language": "python",
   "name": "python3"
  },
  "language_info": {
   "codemirror_mode": {
    "name": "ipython",
    "version": 3
   },
   "file_extension": ".py",
   "mimetype": "text/x-python",
   "name": "python",
   "nbconvert_exporter": "python",
   "pygments_lexer": "ipython3",
   "version": "3.8.11"
  }
 },
 "nbformat": 4,
 "nbformat_minor": 5
}
