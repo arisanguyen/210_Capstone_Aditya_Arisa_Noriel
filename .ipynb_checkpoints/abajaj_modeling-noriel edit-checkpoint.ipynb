{
 "cells": [
  {
   "cell_type": "code",
   "execution_count": 1,
   "id": "cbe8314a-60a7-4de8-be72-620b659ef79d",
   "metadata": {
    "tags": []
   },
   "outputs": [
    {
     "name": "stdout",
     "output_type": "stream",
     "text": [
      "Requirement already satisfied: imagecodecs in /home/ubuntu/capstone/lib/python3.10/site-packages (2023.1.23)\n",
      "Requirement already satisfied: numpy in /home/ubuntu/capstone/lib/python3.10/site-packages (from imagecodecs) (1.24.2)\n",
      "Requirement already satisfied: numpy in /home/ubuntu/capstone/lib/python3.10/site-packages (1.24.2)\n",
      "Requirement already satisfied: tensorflow in /home/ubuntu/capstone/lib/python3.10/site-packages (2.11.0)\n",
      "Requirement already satisfied: matplotlib in /home/ubuntu/capstone/lib/python3.10/site-packages (3.7.1)\n",
      "Requirement already satisfied: scipy in /home/ubuntu/capstone/lib/python3.10/site-packages (1.10.1)\n",
      "Requirement already satisfied: six>=1.12.0 in /home/ubuntu/capstone/lib/python3.10/site-packages (from tensorflow) (1.16.0)\n",
      "Requirement already satisfied: tensorboard<2.12,>=2.11 in /home/ubuntu/capstone/lib/python3.10/site-packages (from tensorflow) (2.11.2)\n",
      "Requirement already satisfied: typing-extensions>=3.6.6 in /home/ubuntu/capstone/lib/python3.10/site-packages (from tensorflow) (4.5.0)\n",
      "Requirement already satisfied: setuptools in /home/ubuntu/capstone/lib/python3.10/site-packages (from tensorflow) (59.6.0)\n",
      "Requirement already satisfied: tensorflow-io-gcs-filesystem>=0.23.1 in /home/ubuntu/capstone/lib/python3.10/site-packages (from tensorflow) (0.31.0)\n",
      "Requirement already satisfied: wrapt>=1.11.0 in /home/ubuntu/capstone/lib/python3.10/site-packages (from tensorflow) (1.15.0)\n",
      "Requirement already satisfied: astunparse>=1.6.0 in /home/ubuntu/capstone/lib/python3.10/site-packages (from tensorflow) (1.6.3)\n",
      "Requirement already satisfied: keras<2.12,>=2.11.0 in /home/ubuntu/capstone/lib/python3.10/site-packages (from tensorflow) (2.11.0)\n",
      "Requirement already satisfied: grpcio<2.0,>=1.24.3 in /home/ubuntu/capstone/lib/python3.10/site-packages (from tensorflow) (1.51.3)\n",
      "Requirement already satisfied: libclang>=13.0.0 in /home/ubuntu/capstone/lib/python3.10/site-packages (from tensorflow) (15.0.6.1)\n",
      "Requirement already satisfied: h5py>=2.9.0 in /home/ubuntu/capstone/lib/python3.10/site-packages (from tensorflow) (3.8.0)\n",
      "Requirement already satisfied: gast<=0.4.0,>=0.2.1 in /home/ubuntu/capstone/lib/python3.10/site-packages (from tensorflow) (0.4.0)\n",
      "Requirement already satisfied: opt-einsum>=2.3.2 in /home/ubuntu/capstone/lib/python3.10/site-packages (from tensorflow) (3.3.0)\n",
      "Requirement already satisfied: tensorflow-estimator<2.12,>=2.11.0 in /home/ubuntu/capstone/lib/python3.10/site-packages (from tensorflow) (2.11.0)\n",
      "Requirement already satisfied: flatbuffers>=2.0 in /home/ubuntu/capstone/lib/python3.10/site-packages (from tensorflow) (23.3.3)\n",
      "Requirement already satisfied: absl-py>=1.0.0 in /home/ubuntu/capstone/lib/python3.10/site-packages (from tensorflow) (1.4.0)\n",
      "Requirement already satisfied: protobuf<3.20,>=3.9.2 in /home/ubuntu/capstone/lib/python3.10/site-packages (from tensorflow) (3.19.6)\n",
      "Requirement already satisfied: termcolor>=1.1.0 in /home/ubuntu/capstone/lib/python3.10/site-packages (from tensorflow) (2.2.0)\n",
      "Requirement already satisfied: google-pasta>=0.1.1 in /home/ubuntu/capstone/lib/python3.10/site-packages (from tensorflow) (0.2.0)\n",
      "Requirement already satisfied: packaging in /home/ubuntu/capstone/lib/python3.10/site-packages (from tensorflow) (23.0)\n",
      "Requirement already satisfied: fonttools>=4.22.0 in /home/ubuntu/capstone/lib/python3.10/site-packages (from matplotlib) (4.39.0)\n",
      "Requirement already satisfied: pyparsing>=2.3.1 in /home/ubuntu/capstone/lib/python3.10/site-packages (from matplotlib) (3.0.9)\n",
      "Requirement already satisfied: contourpy>=1.0.1 in /home/ubuntu/capstone/lib/python3.10/site-packages (from matplotlib) (1.0.7)\n",
      "Requirement already satisfied: kiwisolver>=1.0.1 in /home/ubuntu/capstone/lib/python3.10/site-packages (from matplotlib) (1.4.4)\n",
      "Requirement already satisfied: pillow>=6.2.0 in /home/ubuntu/capstone/lib/python3.10/site-packages (from matplotlib) (9.4.0)\n",
      "Requirement already satisfied: cycler>=0.10 in /home/ubuntu/capstone/lib/python3.10/site-packages (from matplotlib) (0.11.0)\n",
      "Requirement already satisfied: python-dateutil>=2.7 in /home/ubuntu/capstone/lib/python3.10/site-packages (from matplotlib) (2.8.2)\n",
      "Requirement already satisfied: wheel<1.0,>=0.23.0 in /home/ubuntu/capstone/lib/python3.10/site-packages (from astunparse>=1.6.0->tensorflow) (0.38.4)\n",
      "Requirement already satisfied: google-auth<3,>=1.6.3 in /home/ubuntu/capstone/lib/python3.10/site-packages (from tensorboard<2.12,>=2.11->tensorflow) (2.16.2)\n",
      "Requirement already satisfied: requests<3,>=2.21.0 in /home/ubuntu/capstone/lib/python3.10/site-packages (from tensorboard<2.12,>=2.11->tensorflow) (2.28.2)\n",
      "Requirement already satisfied: google-auth-oauthlib<0.5,>=0.4.1 in /home/ubuntu/capstone/lib/python3.10/site-packages (from tensorboard<2.12,>=2.11->tensorflow) (0.4.6)\n",
      "Requirement already satisfied: markdown>=2.6.8 in /home/ubuntu/capstone/lib/python3.10/site-packages (from tensorboard<2.12,>=2.11->tensorflow) (3.4.1)\n",
      "Requirement already satisfied: werkzeug>=1.0.1 in /home/ubuntu/capstone/lib/python3.10/site-packages (from tensorboard<2.12,>=2.11->tensorflow) (2.2.3)\n",
      "Requirement already satisfied: tensorboard-data-server<0.7.0,>=0.6.0 in /home/ubuntu/capstone/lib/python3.10/site-packages (from tensorboard<2.12,>=2.11->tensorflow) (0.6.1)\n",
      "Requirement already satisfied: tensorboard-plugin-wit>=1.6.0 in /home/ubuntu/capstone/lib/python3.10/site-packages (from tensorboard<2.12,>=2.11->tensorflow) (1.8.1)\n",
      "Requirement already satisfied: pyasn1-modules>=0.2.1 in /home/ubuntu/capstone/lib/python3.10/site-packages (from google-auth<3,>=1.6.3->tensorboard<2.12,>=2.11->tensorflow) (0.2.8)\n",
      "Requirement already satisfied: rsa<5,>=3.1.4 in /home/ubuntu/capstone/lib/python3.10/site-packages (from google-auth<3,>=1.6.3->tensorboard<2.12,>=2.11->tensorflow) (4.9)\n",
      "Requirement already satisfied: cachetools<6.0,>=2.0.0 in /home/ubuntu/capstone/lib/python3.10/site-packages (from google-auth<3,>=1.6.3->tensorboard<2.12,>=2.11->tensorflow) (5.3.0)\n",
      "Requirement already satisfied: requests-oauthlib>=0.7.0 in /home/ubuntu/capstone/lib/python3.10/site-packages (from google-auth-oauthlib<0.5,>=0.4.1->tensorboard<2.12,>=2.11->tensorflow) (1.3.1)\n",
      "Requirement already satisfied: charset-normalizer<4,>=2 in /home/ubuntu/capstone/lib/python3.10/site-packages (from requests<3,>=2.21.0->tensorboard<2.12,>=2.11->tensorflow) (3.1.0)\n",
      "Requirement already satisfied: idna<4,>=2.5 in /home/ubuntu/capstone/lib/python3.10/site-packages (from requests<3,>=2.21.0->tensorboard<2.12,>=2.11->tensorflow) (3.4)\n",
      "Requirement already satisfied: urllib3<1.27,>=1.21.1 in /home/ubuntu/capstone/lib/python3.10/site-packages (from requests<3,>=2.21.0->tensorboard<2.12,>=2.11->tensorflow) (1.26.15)\n",
      "Requirement already satisfied: certifi>=2017.4.17 in /home/ubuntu/capstone/lib/python3.10/site-packages (from requests<3,>=2.21.0->tensorboard<2.12,>=2.11->tensorflow) (2022.12.7)\n",
      "Requirement already satisfied: MarkupSafe>=2.1.1 in /home/ubuntu/capstone/lib/python3.10/site-packages (from werkzeug>=1.0.1->tensorboard<2.12,>=2.11->tensorflow) (2.1.2)\n",
      "Requirement already satisfied: pyasn1<0.5.0,>=0.4.6 in /home/ubuntu/capstone/lib/python3.10/site-packages (from pyasn1-modules>=0.2.1->google-auth<3,>=1.6.3->tensorboard<2.12,>=2.11->tensorflow) (0.4.8)\n",
      "Requirement already satisfied: oauthlib>=3.0.0 in /home/ubuntu/capstone/lib/python3.10/site-packages (from requests-oauthlib>=0.7.0->google-auth-oauthlib<0.5,>=0.4.1->tensorboard<2.12,>=2.11->tensorflow) (3.2.2)\n",
      "Requirement already satisfied: pandas in /home/ubuntu/capstone/lib/python3.10/site-packages (1.5.3)\n",
      "Requirement already satisfied: pytz>=2020.1 in /home/ubuntu/capstone/lib/python3.10/site-packages (from pandas) (2022.7.1)\n",
      "Requirement already satisfied: numpy>=1.21.0 in /home/ubuntu/capstone/lib/python3.10/site-packages (from pandas) (1.24.2)\n",
      "Requirement already satisfied: python-dateutil>=2.8.1 in /home/ubuntu/capstone/lib/python3.10/site-packages (from pandas) (2.8.2)\n",
      "Requirement already satisfied: six>=1.5 in /home/ubuntu/capstone/lib/python3.10/site-packages (from python-dateutil>=2.8.1->pandas) (1.16.0)\n",
      "Requirement already satisfied: tifffile in /home/ubuntu/capstone/lib/python3.10/site-packages (2023.2.28)\n",
      "Requirement already satisfied: numpy in /home/ubuntu/capstone/lib/python3.10/site-packages (from tifffile) (1.24.2)\n",
      "Requirement already satisfied: scikit-learn in /home/ubuntu/capstone/lib/python3.10/site-packages (1.2.2)\n",
      "Requirement already satisfied: scipy in /home/ubuntu/capstone/lib/python3.10/site-packages (1.10.1)\n",
      "Requirement already satisfied: matplotlib in /home/ubuntu/capstone/lib/python3.10/site-packages (3.7.1)\n",
      "Requirement already satisfied: joblib>=1.1.1 in /home/ubuntu/capstone/lib/python3.10/site-packages (from scikit-learn) (1.2.0)\n",
      "Requirement already satisfied: numpy>=1.17.3 in /home/ubuntu/capstone/lib/python3.10/site-packages (from scikit-learn) (1.24.2)\n",
      "Requirement already satisfied: threadpoolctl>=2.0.0 in /home/ubuntu/capstone/lib/python3.10/site-packages (from scikit-learn) (3.1.0)\n",
      "Requirement already satisfied: fonttools>=4.22.0 in /home/ubuntu/capstone/lib/python3.10/site-packages (from matplotlib) (4.39.0)\n",
      "Requirement already satisfied: packaging>=20.0 in /home/ubuntu/capstone/lib/python3.10/site-packages (from matplotlib) (23.0)\n",
      "Requirement already satisfied: cycler>=0.10 in /home/ubuntu/capstone/lib/python3.10/site-packages (from matplotlib) (0.11.0)\n",
      "Requirement already satisfied: kiwisolver>=1.0.1 in /home/ubuntu/capstone/lib/python3.10/site-packages (from matplotlib) (1.4.4)\n",
      "Requirement already satisfied: pillow>=6.2.0 in /home/ubuntu/capstone/lib/python3.10/site-packages (from matplotlib) (9.4.0)\n",
      "Requirement already satisfied: python-dateutil>=2.7 in /home/ubuntu/capstone/lib/python3.10/site-packages (from matplotlib) (2.8.2)\n",
      "Requirement already satisfied: pyparsing>=2.3.1 in /home/ubuntu/capstone/lib/python3.10/site-packages (from matplotlib) (3.0.9)\n",
      "Requirement already satisfied: contourpy>=1.0.1 in /home/ubuntu/capstone/lib/python3.10/site-packages (from matplotlib) (1.0.7)\n",
      "Requirement already satisfied: six>=1.5 in /home/ubuntu/capstone/lib/python3.10/site-packages (from python-dateutil>=2.7->matplotlib) (1.16.0)\n",
      "Requirement already satisfied: tensorflow-addons in /home/ubuntu/capstone/lib/python3.10/site-packages (0.19.0)\n",
      "Requirement already satisfied: packaging in /home/ubuntu/capstone/lib/python3.10/site-packages (from tensorflow-addons) (23.0)\n",
      "Requirement already satisfied: typeguard>=2.7 in /home/ubuntu/capstone/lib/python3.10/site-packages (from tensorflow-addons) (2.13.3)\n",
      "Requirement already satisfied: tensorflow_decision_forests in /home/ubuntu/capstone/lib/python3.10/site-packages (1.2.0)\n",
      "Requirement already satisfied: pandas in /home/ubuntu/capstone/lib/python3.10/site-packages (from tensorflow_decision_forests) (1.5.3)\n",
      "Requirement already satisfied: numpy in /home/ubuntu/capstone/lib/python3.10/site-packages (from tensorflow_decision_forests) (1.24.2)\n",
      "Requirement already satisfied: tensorflow~=2.11.0 in /home/ubuntu/capstone/lib/python3.10/site-packages (from tensorflow_decision_forests) (2.11.0)\n",
      "Requirement already satisfied: absl-py in /home/ubuntu/capstone/lib/python3.10/site-packages (from tensorflow_decision_forests) (1.4.0)\n",
      "Requirement already satisfied: wheel in /home/ubuntu/capstone/lib/python3.10/site-packages (from tensorflow_decision_forests) (0.38.4)\n",
      "Requirement already satisfied: six in /home/ubuntu/capstone/lib/python3.10/site-packages (from tensorflow_decision_forests) (1.16.0)\n",
      "Requirement already satisfied: wurlitzer in /home/ubuntu/capstone/lib/python3.10/site-packages (from tensorflow_decision_forests) (3.0.3)\n",
      "Requirement already satisfied: tensorflow-estimator<2.12,>=2.11.0 in /home/ubuntu/capstone/lib/python3.10/site-packages (from tensorflow~=2.11.0->tensorflow_decision_forests) (2.11.0)\n",
      "Requirement already satisfied: protobuf<3.20,>=3.9.2 in /home/ubuntu/capstone/lib/python3.10/site-packages (from tensorflow~=2.11.0->tensorflow_decision_forests) (3.19.6)\n",
      "Requirement already satisfied: tensorflow-io-gcs-filesystem>=0.23.1 in /home/ubuntu/capstone/lib/python3.10/site-packages (from tensorflow~=2.11.0->tensorflow_decision_forests) (0.31.0)\n",
      "Requirement already satisfied: tensorboard<2.12,>=2.11 in /home/ubuntu/capstone/lib/python3.10/site-packages (from tensorflow~=2.11.0->tensorflow_decision_forests) (2.11.2)\n",
      "Requirement already satisfied: termcolor>=1.1.0 in /home/ubuntu/capstone/lib/python3.10/site-packages (from tensorflow~=2.11.0->tensorflow_decision_forests) (2.2.0)\n",
      "Requirement already satisfied: google-pasta>=0.1.1 in /home/ubuntu/capstone/lib/python3.10/site-packages (from tensorflow~=2.11.0->tensorflow_decision_forests) (0.2.0)\n",
      "Requirement already satisfied: keras<2.12,>=2.11.0 in /home/ubuntu/capstone/lib/python3.10/site-packages (from tensorflow~=2.11.0->tensorflow_decision_forests) (2.11.0)\n",
      "Requirement already satisfied: setuptools in /home/ubuntu/capstone/lib/python3.10/site-packages (from tensorflow~=2.11.0->tensorflow_decision_forests) (59.6.0)\n",
      "Requirement already satisfied: grpcio<2.0,>=1.24.3 in /home/ubuntu/capstone/lib/python3.10/site-packages (from tensorflow~=2.11.0->tensorflow_decision_forests) (1.51.3)\n",
      "Requirement already satisfied: opt-einsum>=2.3.2 in /home/ubuntu/capstone/lib/python3.10/site-packages (from tensorflow~=2.11.0->tensorflow_decision_forests) (3.3.0)\n",
      "Requirement already satisfied: typing-extensions>=3.6.6 in /home/ubuntu/capstone/lib/python3.10/site-packages (from tensorflow~=2.11.0->tensorflow_decision_forests) (4.5.0)\n",
      "Requirement already satisfied: flatbuffers>=2.0 in /home/ubuntu/capstone/lib/python3.10/site-packages (from tensorflow~=2.11.0->tensorflow_decision_forests) (23.3.3)\n",
      "Requirement already satisfied: packaging in /home/ubuntu/capstone/lib/python3.10/site-packages (from tensorflow~=2.11.0->tensorflow_decision_forests) (23.0)\n",
      "Requirement already satisfied: gast<=0.4.0,>=0.2.1 in /home/ubuntu/capstone/lib/python3.10/site-packages (from tensorflow~=2.11.0->tensorflow_decision_forests) (0.4.0)\n",
      "Requirement already satisfied: libclang>=13.0.0 in /home/ubuntu/capstone/lib/python3.10/site-packages (from tensorflow~=2.11.0->tensorflow_decision_forests) (15.0.6.1)\n",
      "Requirement already satisfied: wrapt>=1.11.0 in /home/ubuntu/capstone/lib/python3.10/site-packages (from tensorflow~=2.11.0->tensorflow_decision_forests) (1.15.0)\n",
      "Requirement already satisfied: astunparse>=1.6.0 in /home/ubuntu/capstone/lib/python3.10/site-packages (from tensorflow~=2.11.0->tensorflow_decision_forests) (1.6.3)\n",
      "Requirement already satisfied: h5py>=2.9.0 in /home/ubuntu/capstone/lib/python3.10/site-packages (from tensorflow~=2.11.0->tensorflow_decision_forests) (3.8.0)\n",
      "Requirement already satisfied: pytz>=2020.1 in /home/ubuntu/capstone/lib/python3.10/site-packages (from pandas->tensorflow_decision_forests) (2022.7.1)\n",
      "Requirement already satisfied: python-dateutil>=2.8.1 in /home/ubuntu/capstone/lib/python3.10/site-packages (from pandas->tensorflow_decision_forests) (2.8.2)\n",
      "Requirement already satisfied: tensorboard-data-server<0.7.0,>=0.6.0 in /home/ubuntu/capstone/lib/python3.10/site-packages (from tensorboard<2.12,>=2.11->tensorflow~=2.11.0->tensorflow_decision_forests) (0.6.1)\n",
      "Requirement already satisfied: werkzeug>=1.0.1 in /home/ubuntu/capstone/lib/python3.10/site-packages (from tensorboard<2.12,>=2.11->tensorflow~=2.11.0->tensorflow_decision_forests) (2.2.3)\n",
      "Requirement already satisfied: google-auth<3,>=1.6.3 in /home/ubuntu/capstone/lib/python3.10/site-packages (from tensorboard<2.12,>=2.11->tensorflow~=2.11.0->tensorflow_decision_forests) (2.16.2)\n",
      "Requirement already satisfied: tensorboard-plugin-wit>=1.6.0 in /home/ubuntu/capstone/lib/python3.10/site-packages (from tensorboard<2.12,>=2.11->tensorflow~=2.11.0->tensorflow_decision_forests) (1.8.1)\n",
      "Requirement already satisfied: google-auth-oauthlib<0.5,>=0.4.1 in /home/ubuntu/capstone/lib/python3.10/site-packages (from tensorboard<2.12,>=2.11->tensorflow~=2.11.0->tensorflow_decision_forests) (0.4.6)\n",
      "Requirement already satisfied: requests<3,>=2.21.0 in /home/ubuntu/capstone/lib/python3.10/site-packages (from tensorboard<2.12,>=2.11->tensorflow~=2.11.0->tensorflow_decision_forests) (2.28.2)\n",
      "Requirement already satisfied: markdown>=2.6.8 in /home/ubuntu/capstone/lib/python3.10/site-packages (from tensorboard<2.12,>=2.11->tensorflow~=2.11.0->tensorflow_decision_forests) (3.4.1)\n",
      "Requirement already satisfied: rsa<5,>=3.1.4 in /home/ubuntu/capstone/lib/python3.10/site-packages (from google-auth<3,>=1.6.3->tensorboard<2.12,>=2.11->tensorflow~=2.11.0->tensorflow_decision_forests) (4.9)\n",
      "Requirement already satisfied: cachetools<6.0,>=2.0.0 in /home/ubuntu/capstone/lib/python3.10/site-packages (from google-auth<3,>=1.6.3->tensorboard<2.12,>=2.11->tensorflow~=2.11.0->tensorflow_decision_forests) (5.3.0)\n",
      "Requirement already satisfied: pyasn1-modules>=0.2.1 in /home/ubuntu/capstone/lib/python3.10/site-packages (from google-auth<3,>=1.6.3->tensorboard<2.12,>=2.11->tensorflow~=2.11.0->tensorflow_decision_forests) (0.2.8)\n",
      "Requirement already satisfied: requests-oauthlib>=0.7.0 in /home/ubuntu/capstone/lib/python3.10/site-packages (from google-auth-oauthlib<0.5,>=0.4.1->tensorboard<2.12,>=2.11->tensorflow~=2.11.0->tensorflow_decision_forests) (1.3.1)\n",
      "Requirement already satisfied: certifi>=2017.4.17 in /home/ubuntu/capstone/lib/python3.10/site-packages (from requests<3,>=2.21.0->tensorboard<2.12,>=2.11->tensorflow~=2.11.0->tensorflow_decision_forests) (2022.12.7)\n",
      "Requirement already satisfied: charset-normalizer<4,>=2 in /home/ubuntu/capstone/lib/python3.10/site-packages (from requests<3,>=2.21.0->tensorboard<2.12,>=2.11->tensorflow~=2.11.0->tensorflow_decision_forests) (3.1.0)\n",
      "Requirement already satisfied: urllib3<1.27,>=1.21.1 in /home/ubuntu/capstone/lib/python3.10/site-packages (from requests<3,>=2.21.0->tensorboard<2.12,>=2.11->tensorflow~=2.11.0->tensorflow_decision_forests) (1.26.15)\n",
      "Requirement already satisfied: idna<4,>=2.5 in /home/ubuntu/capstone/lib/python3.10/site-packages (from requests<3,>=2.21.0->tensorboard<2.12,>=2.11->tensorflow~=2.11.0->tensorflow_decision_forests) (3.4)\n",
      "Requirement already satisfied: MarkupSafe>=2.1.1 in /home/ubuntu/capstone/lib/python3.10/site-packages (from werkzeug>=1.0.1->tensorboard<2.12,>=2.11->tensorflow~=2.11.0->tensorflow_decision_forests) (2.1.2)\n",
      "Requirement already satisfied: pyasn1<0.5.0,>=0.4.6 in /home/ubuntu/capstone/lib/python3.10/site-packages (from pyasn1-modules>=0.2.1->google-auth<3,>=1.6.3->tensorboard<2.12,>=2.11->tensorflow~=2.11.0->tensorflow_decision_forests) (0.4.8)\n",
      "Requirement already satisfied: oauthlib>=3.0.0 in /home/ubuntu/capstone/lib/python3.10/site-packages (from requests-oauthlib>=0.7.0->google-auth-oauthlib<0.5,>=0.4.1->tensorboard<2.12,>=2.11->tensorflow~=2.11.0->tensorflow_decision_forests) (3.2.2)\n"
     ]
    }
   ],
   "source": [
    "!pip3 install imagecodecs\n",
    "!pip3 install numpy tensorflow matplotlib scipy\n",
    "!pip3 install pandas\n",
    "!pip3 install tifffile\n",
    "!pip3 install -U scikit-learn scipy matplotlib\n",
    "!pip3 install tensorflow-addons\n",
    "!pip3 install tensorflow_decision_forests --upgrade\n",
    "\n",
    "#!pip install scikit-learn\n",
    "#!pip install imagecodecs\n",
    "#!pip3 install numpy\n",
    "#!pip3 install matplotlib\n",
    "#!pip3 install tensorflow"
   ]
  },
  {
   "cell_type": "code",
   "execution_count": 3,
   "id": "356025b8",
   "metadata": {
    "tags": []
   },
   "outputs": [],
   "source": [
    "import math\n",
    "import matplotlib\n",
    "import matplotlib.pyplot as plt\n",
    "\n",
    "import numpy as np\n",
    "\n",
    "import os\n",
    "\n",
    "import pandas as pd\n",
    "\n",
    "import tensorflow as tf\n",
    "import tensorflow_addons as tfa\n",
    "import tensorflow_decision_forests as tfdf\n",
    "import tifffile\n",
    "from keras.layers import Flatten, Dense, Dropout\n",
    "from tensorflow import keras\n",
    "from tensorflow.keras import layers\n",
    "from tensorflow.keras.layers import concatenate\n",
    "\n",
    "import scipy\n",
    "from sklearn.model_selection import train_test_split\n",
    "from sklearn.preprocessing import LabelBinarizer\n",
    "\n",
    "#import math\n",
    "#import matplotlib\n",
    "#import matplotlib.pyplot as plt\n",
    "#import numpy as np\n",
    "#import os\n",
    "#import pandas as pd\n",
    "#import tensorflow as tf\n",
    "#from tensorflow import keras\n",
    "#from tensorflow.keras import layers\n",
    "#from tensorflow.keras.layers import concatenate\n",
    "#import tifffile\n",
    "# from sklearn.preprocessing import LabelEncoder\n",
    "# from sklearn.preprocessing import OneHotEncoder\n",
    "#from sklearn.model_selection import train_test_split\n",
    "#from sklearn.preprocessing import LabelBinarizer"
   ]
  },
  {
   "cell_type": "code",
   "execution_count": 4,
   "id": "8bb10982-72ec-439c-9c1a-6c182803eb2f",
   "metadata": {
    "tags": []
   },
   "outputs": [],
   "source": [
    "def plot_loss(history):\n",
    "    plt.plot(history.history['loss'], label='loss')\n",
    "    plt.plot(history.history['val_loss'], label='val_loss')\n",
    "   # plt.plot(history.history['accuracy'], label='accuracy')\n",
    "   # plt.plot(history.history['val_accuracy'], label='val_accuracy')\n",
    "    plt.ylim([0, \n",
    "            max(\n",
    "                max(history.history['loss']),\n",
    "                max(history.history['val_loss'])\n",
    "            )])\n",
    "    plt.xlabel('Epoch')\n",
    "    plt.ylabel('Mean Absolute Error')\n",
    "    plt.legend()\n",
    "    plt.grid(True)"
   ]
  },
  {
   "cell_type": "code",
   "execution_count": 5,
   "id": "f3693092",
   "metadata": {
    "tags": []
   },
   "outputs": [],
   "source": [
    "tiles = pd.read_csv(r'Data/Tiles_expanded.csv')\n",
    "tiles_expanded_rv = pd.read_csv(r'Data/Tiles_expanded_road_vector.csv').drop(['Unnamed: 0'],axis=1)\n",
    "tiles_expanded_rv = pd.get_dummies(tiles_expanded_rv, columns = ['RTTYP'])"
   ]
  },
  {
   "cell_type": "code",
   "execution_count": 6,
   "id": "29e5ddd8-bf87-4021-8274-ee55f64b54a7",
   "metadata": {
    "tags": []
   },
   "outputs": [
    {
     "data": {
      "text/html": [
       "<div>\n",
       "<style scoped>\n",
       "    .dataframe tbody tr th:only-of-type {\n",
       "        vertical-align: middle;\n",
       "    }\n",
       "\n",
       "    .dataframe tbody tr th {\n",
       "        vertical-align: top;\n",
       "    }\n",
       "\n",
       "    .dataframe thead th {\n",
       "        text-align: right;\n",
       "    }\n",
       "</style>\n",
       "<table border=\"1\" class=\"dataframe\">\n",
       "  <thead>\n",
       "    <tr style=\"text-align: right;\">\n",
       "      <th></th>\n",
       "      <th>Tile_ID</th>\n",
       "      <th>Long2</th>\n",
       "      <th>Lat2</th>\n",
       "      <th>Long1</th>\n",
       "      <th>Lat1</th>\n",
       "      <th>Mid_lat</th>\n",
       "      <th>Mid_long</th>\n",
       "      <th>Stop_Signs</th>\n",
       "      <th>Paving_historical</th>\n",
       "      <th>Paving_future</th>\n",
       "      <th>Bus_stop</th>\n",
       "      <th>Collisions_Future</th>\n",
       "      <th>Collisions_Historical</th>\n",
       "      <th>RTTYP_I</th>\n",
       "      <th>RTTYP_M</th>\n",
       "      <th>RTTYP_O</th>\n",
       "      <th>RTTYP_S</th>\n",
       "      <th>RTTYP_U</th>\n",
       "    </tr>\n",
       "  </thead>\n",
       "  <tbody>\n",
       "    <tr>\n",
       "      <th>0</th>\n",
       "      <td>36</td>\n",
       "      <td>-122.514446</td>\n",
       "      <td>37.779636</td>\n",
       "      <td>-122.513306</td>\n",
       "      <td>37.778732</td>\n",
       "      <td>37.779184</td>\n",
       "      <td>-122.513876</td>\n",
       "      <td>0.0</td>\n",
       "      <td>0.0</td>\n",
       "      <td>0.0</td>\n",
       "      <td>0.0</td>\n",
       "      <td>0.0</td>\n",
       "      <td>0.0</td>\n",
       "      <td>0</td>\n",
       "      <td>1</td>\n",
       "      <td>0</td>\n",
       "      <td>0</td>\n",
       "      <td>0</td>\n",
       "    </tr>\n",
       "    <tr>\n",
       "      <th>1</th>\n",
       "      <td>37</td>\n",
       "      <td>-122.514446</td>\n",
       "      <td>37.778732</td>\n",
       "      <td>-122.513306</td>\n",
       "      <td>37.777829</td>\n",
       "      <td>37.778280</td>\n",
       "      <td>-122.513876</td>\n",
       "      <td>0.0</td>\n",
       "      <td>0.0</td>\n",
       "      <td>0.0</td>\n",
       "      <td>0.0</td>\n",
       "      <td>0.0</td>\n",
       "      <td>0.0</td>\n",
       "      <td>0</td>\n",
       "      <td>1</td>\n",
       "      <td>0</td>\n",
       "      <td>0</td>\n",
       "      <td>0</td>\n",
       "    </tr>\n",
       "    <tr>\n",
       "      <th>2</th>\n",
       "      <td>151</td>\n",
       "      <td>-122.513306</td>\n",
       "      <td>37.779636</td>\n",
       "      <td>-122.512166</td>\n",
       "      <td>37.778732</td>\n",
       "      <td>37.779184</td>\n",
       "      <td>-122.512736</td>\n",
       "      <td>0.0</td>\n",
       "      <td>0.0</td>\n",
       "      <td>0.0</td>\n",
       "      <td>0.0</td>\n",
       "      <td>0.0</td>\n",
       "      <td>0.0</td>\n",
       "      <td>0</td>\n",
       "      <td>1</td>\n",
       "      <td>0</td>\n",
       "      <td>0</td>\n",
       "      <td>0</td>\n",
       "    </tr>\n",
       "    <tr>\n",
       "      <th>3</th>\n",
       "      <td>152</td>\n",
       "      <td>-122.513306</td>\n",
       "      <td>37.778732</td>\n",
       "      <td>-122.512166</td>\n",
       "      <td>37.777829</td>\n",
       "      <td>37.778280</td>\n",
       "      <td>-122.512736</td>\n",
       "      <td>0.0</td>\n",
       "      <td>0.0</td>\n",
       "      <td>0.0</td>\n",
       "      <td>0.0</td>\n",
       "      <td>0.0</td>\n",
       "      <td>0.0</td>\n",
       "      <td>0</td>\n",
       "      <td>1</td>\n",
       "      <td>0</td>\n",
       "      <td>0</td>\n",
       "      <td>0</td>\n",
       "    </tr>\n",
       "    <tr>\n",
       "      <th>4</th>\n",
       "      <td>153</td>\n",
       "      <td>-122.513306</td>\n",
       "      <td>37.777829</td>\n",
       "      <td>-122.512166</td>\n",
       "      <td>37.776925</td>\n",
       "      <td>37.777377</td>\n",
       "      <td>-122.512736</td>\n",
       "      <td>0.0</td>\n",
       "      <td>0.0</td>\n",
       "      <td>0.0</td>\n",
       "      <td>0.0</td>\n",
       "      <td>0.0</td>\n",
       "      <td>0.0</td>\n",
       "      <td>0</td>\n",
       "      <td>1</td>\n",
       "      <td>0</td>\n",
       "      <td>0</td>\n",
       "      <td>0</td>\n",
       "    </tr>\n",
       "  </tbody>\n",
       "</table>\n",
       "</div>"
      ],
      "text/plain": [
       "   Tile_ID       Long2       Lat2       Long1       Lat1    Mid_lat  \\\n",
       "0       36 -122.514446  37.779636 -122.513306  37.778732  37.779184   \n",
       "1       37 -122.514446  37.778732 -122.513306  37.777829  37.778280   \n",
       "2      151 -122.513306  37.779636 -122.512166  37.778732  37.779184   \n",
       "3      152 -122.513306  37.778732 -122.512166  37.777829  37.778280   \n",
       "4      153 -122.513306  37.777829 -122.512166  37.776925  37.777377   \n",
       "\n",
       "     Mid_long  Stop_Signs  Paving_historical  Paving_future  Bus_stop  \\\n",
       "0 -122.513876         0.0                0.0            0.0       0.0   \n",
       "1 -122.513876         0.0                0.0            0.0       0.0   \n",
       "2 -122.512736         0.0                0.0            0.0       0.0   \n",
       "3 -122.512736         0.0                0.0            0.0       0.0   \n",
       "4 -122.512736         0.0                0.0            0.0       0.0   \n",
       "\n",
       "   Collisions_Future  Collisions_Historical  RTTYP_I  RTTYP_M  RTTYP_O  \\\n",
       "0                0.0                    0.0        0        1        0   \n",
       "1                0.0                    0.0        0        1        0   \n",
       "2                0.0                    0.0        0        1        0   \n",
       "3                0.0                    0.0        0        1        0   \n",
       "4                0.0                    0.0        0        1        0   \n",
       "\n",
       "   RTTYP_S  RTTYP_U  \n",
       "0        0        0  \n",
       "1        0        0  \n",
       "2        0        0  \n",
       "3        0        0  \n",
       "4        0        0  "
      ]
     },
     "execution_count": 6,
     "metadata": {},
     "output_type": "execute_result"
    }
   ],
   "source": [
    "tiles_expanded_rv.head()"
   ]
  },
  {
   "cell_type": "code",
   "execution_count": 7,
   "id": "d02cf6af-4d7f-4cbe-91f0-6a33a0ba3c86",
   "metadata": {
    "tags": []
   },
   "outputs": [],
   "source": [
    "tiles_expanded_rv['Collisions_Future_binary']=tiles_expanded_rv['Collisions_Future'].apply(lambda x: 1 if x > 0 else 0)\n",
    "tiles_expanded_rv['Collisions_Historical_binary']=tiles_expanded_rv['Collisions_Historical'].apply(lambda x: 1 if x > 0 else 0)"
   ]
  },
  {
   "cell_type": "markdown",
   "id": "13f22a15-184e-466c-8edd-448bd974f88d",
   "metadata": {
    "tags": []
   },
   "source": [
    "# Normalize data"
   ]
  },
  {
   "cell_type": "code",
   "execution_count": 8,
   "id": "3d2d6b89-b6a3-4465-ac2b-be220741cea8",
   "metadata": {
    "tags": []
   },
   "outputs": [],
   "source": [
    "def normalize_col(df, col_name):\n",
    "\n",
    "    norm = (df[col_name] - df[col_name].min()) / (df[col_name].max() - df[col_name].min())\n",
    "    return norm\n",
    "\n",
    "tiles_expanded_rv['Mid_lat_norm'] = normalize_col(tiles_expanded_rv,'Mid_lat')\n",
    "tiles_expanded_rv['Mid_long_norm'] = normalize_col(tiles_expanded_rv,'Mid_long')\n"
   ]
  },
  {
   "cell_type": "markdown",
   "id": "c3a6b82c",
   "metadata": {},
   "source": [
    "Split into training and test"
   ]
  },
  {
   "cell_type": "code",
   "execution_count": 9,
   "id": "0d50fdd4",
   "metadata": {
    "tags": []
   },
   "outputs": [],
   "source": [
    "MODEL_TYPE='logistic' # 'linear'\n",
    "\n",
    "if MODEL_TYPE == 'linear':\n",
    "    input_x = ['Tile_ID','Collisions_Historical', 'Mid_lat_norm','Mid_long_norm', 'Stop_Signs', 'Paving_historical', 'Bus_stop','RTTYP_I','RTTYP_M','RTTYP_O','RTTYP_S','RTTYP_U']\n",
    "    input_y = tiles_expanded_rv['Collisions_Future']\n",
    "elif MODEL_TYPE == 'logistic':\n",
    "    input_x = ['Tile_ID','Collisions_Historical_binary', 'Mid_lat_norm','Mid_long_norm', 'Stop_Signs', 'Paving_historical', 'Bus_stop','RTTYP_I','RTTYP_M','RTTYP_O','RTTYP_S','RTTYP_U']\n",
    "    input_y = ['Collisions_Future_binary']\n",
    "    \n",
    "\n",
    "x_train, x_test, y_train, y_test = train_test_split(\n",
    "                                    tiles_expanded_rv[input_x], \n",
    "                                    tiles_expanded_rv[input_y],\n",
    "                                    random_state=104, \n",
    "                                    test_size=0.20, \n",
    "                                    shuffle=True)\n",
    "\n"
   ]
  },
  {
   "cell_type": "code",
   "execution_count": 10,
   "id": "8765668b-0c61-4d60-8ee0-3c7dbeaf1d3e",
   "metadata": {
    "tags": []
   },
   "outputs": [],
   "source": [
    "# np.asarray(x_train[['Collisions_Historical', 'Mid_lat_norm','Mid_long_norm', 'Stop_Signs', 'Paving_historical', 'Bus_stop','RTTYP_I','RTTYP_M','RTTYP_O','RTTYP_S','RTTYP_U']]).astype('float32').shape"
   ]
  },
  {
   "cell_type": "markdown",
   "id": "fffe2d02",
   "metadata": {},
   "source": [
    "Model #1: Linear regression using Historical Collisions, SFMTA Street Characteristics, and Geocoordinates"
   ]
  },
  {
   "cell_type": "markdown",
   "id": "bf220283",
   "metadata": {},
   "source": [
    "## Image Pre-Processing"
   ]
  },
  {
   "cell_type": "code",
   "execution_count": 11,
   "id": "ea514649",
   "metadata": {
    "tags": []
   },
   "outputs": [],
   "source": [
    "IMAGE_PATH = '../210_Capstone_Aditya_Arisa_Noriel/Satellite Imagery/Satellite Images Tiled/' "
   ]
  },
  {
   "cell_type": "code",
   "execution_count": 12,
   "id": "b40c2ccb",
   "metadata": {
    "tags": []
   },
   "outputs": [],
   "source": [
    "#eda\n",
    "img = tifffile.imread('../210_Capstone_Aditya_Arisa_Noriel/Satellite Imagery/Satellite Images Tiled/36.tif')[0:148, 0:188, :]\n",
    "img2 = tifffile.imread('../210_Capstone_Aditya_Arisa_Noriel/Satellite Imagery/Satellite Images Tiled/37.tif')[0:148, 0:188, :]"
   ]
  },
  {
   "cell_type": "code",
   "execution_count": 13,
   "id": "97889d4b",
   "metadata": {
    "tags": []
   },
   "outputs": [
    {
     "name": "stdout",
     "output_type": "stream",
     "text": [
      "(148, 188, 4)\n"
     ]
    }
   ],
   "source": [
    "# eda\n",
    "print(np.shape(img2))"
   ]
  },
  {
   "cell_type": "code",
   "execution_count": 14,
   "id": "545c8609",
   "metadata": {
    "scrolled": true,
    "tags": []
   },
   "outputs": [
    {
     "name": "stdout",
     "output_type": "stream",
     "text": [
      "(2, 148, 188, 4)\n",
      "(2, 148, 188, 4)\n"
     ]
    }
   ],
   "source": [
    "# eda\n",
    "test = []\n",
    "test.append(img[0:148, 0:188, :])\n",
    "test.append(img2[0:148, 0:188, :])\n",
    "print(np.shape(test))\n",
    "test = np.stack(test)\n",
    "print(np.shape(test))"
   ]
  },
  {
   "cell_type": "code",
   "execution_count": 15,
   "id": "6465a7d8-3427-4b10-b950-2e7070012a9d",
   "metadata": {
    "tags": []
   },
   "outputs": [
    {
     "name": "stdout",
     "output_type": "stream",
     "text": [
      "[185. 177. 160. 130.]\n",
      "[174.0, 130.0]\n",
      "[174.0, 130.0]\n"
     ]
    }
   ],
   "source": [
    "#example of accessing RGB digits and storing average in a list\n",
    "\n",
    "list_ = []\n",
    "\n",
    "print(img[0][0])\n",
    "print([np.mean(img[0][0][0:3]), img[0][0][3]])\n",
    "\n",
    "for i in img:\n",
    "    for j in i:\n",
    "        list_.append([np.mean(j[0:3]), j[3]])\n",
    "\n",
    "print(list_[0])"
   ]
  },
  {
   "cell_type": "code",
   "execution_count": 16,
   "id": "9298e629",
   "metadata": {
    "tags": []
   },
   "outputs": [],
   "source": [
    "def preprocess_data_part1(IMAGE_PATH):\n",
    "    \"\"\" Generate lists of images and labelsbased on temp_no_refer and temp_refer lists\n",
    "    \n",
    "    Params:\n",
    "    -------\n",
    "    IMAGE_PATH (str): path to directory with images.\n",
    "    \n",
    "    Returns:\n",
    "    --------\n",
    "    images_mini  (np.ndarray): Images of shape (N, 149 3)\n",
    "    \"\"\"\n",
    "    \n",
    "    data_mini = []\n",
    "    \n",
    "    for id in x_train['Tile_ID']:    \n",
    "                    \n",
    "        # read image and store as matrix            \n",
    "        # Index at the end makes all images the same size (they sometimes differ by 1 pixel)\n",
    "        image = tifffile.imread(IMAGE_PATH + str(id) + '.tif')[0:148, 0:188, :]\n",
    "        \n",
    "        #image_grayscale = []\n",
    "\n",
    "        #for i in image:\n",
    "        #    for j in i:\n",
    "        #        image_grayscale.append([np.mean(j[0:3]), j[3]])\n",
    "            \n",
    "        # append to images\n",
    "        data_mini.append(np.mean(image))\n",
    " \n",
    "    # stack images and trasnform to array\n",
    "    images_mini = np.stack(data_mini)\n",
    "    \n",
    "    return images_mini"
   ]
  },
  {
   "cell_type": "code",
   "execution_count": 17,
   "id": "4d8f77ae",
   "metadata": {
    "tags": []
   },
   "outputs": [],
   "source": [
    "# THERE IS ONE FILE IN THE \"SATELLITE IMAGES TILED\" FOLDER THAT IS NOT A TIF IMAGE, DELETE THIS FILE\n",
    "images_mini = preprocess_data_part1(IMAGE_PATH)"
   ]
  },
  {
   "cell_type": "code",
   "execution_count": 18,
   "id": "0ce10975",
   "metadata": {
    "tags": []
   },
   "outputs": [
    {
     "data": {
      "text/plain": [
       "(8376,)"
      ]
     },
     "execution_count": 18,
     "metadata": {},
     "output_type": "execute_result"
    }
   ],
   "source": [
    "np.shape(images_mini)"
   ]
  },
  {
   "cell_type": "code",
   "execution_count": 19,
   "id": "9eb32b75-6953-4e24-954e-b2fedfbff117",
   "metadata": {
    "tags": []
   },
   "outputs": [
    {
     "data": {
      "text/plain": [
       "array([125.19414, 130.83464, 145.29156, ..., 153.39537, 129.47469,\n",
       "       121.93695], dtype=float32)"
      ]
     },
     "execution_count": 19,
     "metadata": {},
     "output_type": "execute_result"
    }
   ],
   "source": [
    "images_mini"
   ]
  },
  {
   "cell_type": "code",
   "execution_count": 20,
   "id": "0080b62b-712f-4179-9031-60b561f59b7b",
   "metadata": {
    "tags": []
   },
   "outputs": [],
   "source": [
    "# images_mini_reshaped = images_mini.reshape((8376,1,1,111296))"
   ]
  },
  {
   "cell_type": "code",
   "execution_count": 21,
   "id": "9fce941b-4766-474c-b49e-c365de2bdb86",
   "metadata": {
    "tags": []
   },
   "outputs": [],
   "source": [
    "# images_mini_reshaped.shape\n",
    "# len(images_mini_reshaped[0][0][0])"
   ]
  },
  {
   "cell_type": "markdown",
   "id": "57135842",
   "metadata": {},
   "source": [
    "Street Data Pre-Processing"
   ]
  },
  {
   "cell_type": "code",
   "execution_count": 22,
   "id": "8dce0686",
   "metadata": {
    "tags": []
   },
   "outputs": [
    {
     "data": {
      "text/plain": [
       "(8376, 1, 1, 11)"
      ]
     },
     "execution_count": 22,
     "metadata": {},
     "output_type": "execute_result"
    }
   ],
   "source": [
    "street = np.asarray(x_train[input_x[1:]]).astype('float32')\n",
    "street_mini = []\n",
    "for row in street:\n",
    "    street_mini.append([[row]])\n",
    "street_mini = np.stack(street_mini)\n",
    "np.shape(street_mini)"
   ]
  },
  {
   "cell_type": "code",
   "execution_count": 23,
   "id": "0b74f799-994b-4d1e-95bd-4d54ef10a333",
   "metadata": {
    "tags": []
   },
   "outputs": [
    {
     "data": {
      "text/plain": [
       "(8376, 11)"
      ]
     },
     "execution_count": 23,
     "metadata": {},
     "output_type": "execute_result"
    }
   ],
   "source": [
    "street_mini_reshaped = street_mini.reshape(8376,11)\n",
    "np.shape(street_mini_reshaped)"
   ]
  },
  {
   "cell_type": "code",
   "execution_count": 25,
   "id": "da26ef07-d6bc-49aa-82d7-da480f3750e8",
   "metadata": {
    "tags": []
   },
   "outputs": [
    {
     "data": {
      "text/plain": [
       "(8376, 1)"
      ]
     },
     "execution_count": 25,
     "metadata": {},
     "output_type": "execute_result"
    }
   ],
   "source": [
    "images_mini_reshaped = images_mini.reshape(8376,1)\n",
    "np.shape(images_mini_reshaped)"
   ]
  },
  {
   "cell_type": "code",
   "execution_count": 26,
   "id": "16b9f21e-6f7b-4abd-a7de-917d89fa085a",
   "metadata": {
    "tags": []
   },
   "outputs": [],
   "source": [
    "input_image_street = np.hstack((street_mini_reshaped, images_mini_reshaped))\n"
   ]
  },
  {
   "cell_type": "code",
   "execution_count": 27,
   "id": "b2a63cdc-90cd-43e2-94f1-d819918c510b",
   "metadata": {
    "tags": []
   },
   "outputs": [],
   "source": [
    "# input_image_street = input_image_street.reshape((8376,1,1, 111307))"
   ]
  },
  {
   "cell_type": "code",
   "execution_count": 28,
   "id": "31f28dfa-b24a-4a22-8414-94ae3d9828df",
   "metadata": {
    "tags": []
   },
   "outputs": [
    {
     "data": {
      "text/plain": [
       "array([  1.        ,   0.40708277,   0.69343007,   0.        ,\n",
       "         0.        ,   0.        ,   0.        ,   1.        ,\n",
       "         0.        ,   0.        ,   0.        , 125.19414   ],\n",
       "      dtype=float32)"
      ]
     },
     "execution_count": 28,
     "metadata": {},
     "output_type": "execute_result"
    }
   ],
   "source": [
    "input_image_street[0]"
   ]
  },
  {
   "cell_type": "code",
   "execution_count": 29,
   "id": "1270fa6f-aec7-4486-b0fb-c1edb73c43ed",
   "metadata": {
    "tags": []
   },
   "outputs": [
    {
     "data": {
      "text/plain": [
       "(8376, 12)"
      ]
     },
     "execution_count": 29,
     "metadata": {},
     "output_type": "execute_result"
    }
   ],
   "source": [
    "input_image_street.shape\n",
    "# y_train.shape"
   ]
  },
  {
   "cell_type": "code",
   "execution_count": 30,
   "id": "41870e1a-cb28-43c8-9624-007cc68f94f7",
   "metadata": {
    "tags": []
   },
   "outputs": [
    {
     "data": {
      "text/plain": [
       "(8376, 1)"
      ]
     },
     "execution_count": 30,
     "metadata": {},
     "output_type": "execute_result"
    }
   ],
   "source": [
    "np.shape(y_train)"
   ]
  },
  {
   "cell_type": "markdown",
   "id": "9ee5f1b4-18dd-4385-b515-1af782fb8d35",
   "metadata": {},
   "source": [
    "**Model #3: Random Forest using Historical Collisions, SFMTA Street Characteristics, and Geocoordinates**\n",
    "\n",
    "Helpful sources:\n",
    "\n",
    "https://www.tensorflow.org/decision_forests/api_docs/python/tfdf/keras/RandomForestModel\n",
    "https://www.tensorflow.org/decision_forests/tutorials/beginner_colab\n",
    "https://www.youtube.com/watch?v=5qgk9QJ4rdQ&t=181s"
   ]
  },
  {
   "cell_type": "code",
   "execution_count": 31,
   "id": "973eacec-b76b-4a29-9967-e96e06f7b6e0",
   "metadata": {
    "tags": []
   },
   "outputs": [
    {
     "name": "stdout",
     "output_type": "stream",
     "text": [
      "Use /tmp/tmpfqcz9m9q as temporary training directory\n",
      "Reading training dataset...\n"
     ]
    },
    {
     "name": "stderr",
     "output_type": "stream",
     "text": [
      "2023-03-15 02:18:34.539967: W tensorflow/compiler/xla/stream_executor/platform/default/dso_loader.cc:64] Could not load dynamic library 'libcuda.so.1'; dlerror: libcuda.so.1: cannot open shared object file: No such file or directory\n",
      "2023-03-15 02:18:34.541034: W tensorflow/compiler/xla/stream_executor/cuda/cuda_driver.cc:265] failed call to cuInit: UNKNOWN ERROR (303)\n",
      "2023-03-15 02:18:34.541070: I tensorflow/compiler/xla/stream_executor/cuda/cuda_diagnostics.cc:156] kernel driver does not appear to be running on this host (ip-172-31-13-91): /proc/driver/nvidia/version does not exist\n",
      "2023-03-15 02:18:34.543901: I tensorflow/core/platform/cpu_feature_guard.cc:193] This TensorFlow binary is optimized with oneAPI Deep Neural Network Library (oneDNN) to use the following CPU instructions in performance-critical operations:  AVX2 FMA\n",
      "To enable them in other operations, rebuild TensorFlow with the appropriate compiler flags.\n"
     ]
    },
    {
     "name": "stdout",
     "output_type": "stream",
     "text": [
      "WARNING:tensorflow:From /home/ubuntu/capstone/lib/python3.10/site-packages/tensorflow/python/autograph/pyct/static_analysis/liveness.py:83: Analyzer.lamba_check (from tensorflow.python.autograph.pyct.static_analysis.liveness) is deprecated and will be removed after 2023-09-23.\n",
      "Instructions for updating:\n",
      "Lambda fuctions will be no more assumed to be used in the statement where they are used, or at least in the same block. https://github.com/tensorflow/tensorflow/issues/56089\n"
     ]
    },
    {
     "name": "stderr",
     "output_type": "stream",
     "text": [
      "WARNING:tensorflow:From /home/ubuntu/capstone/lib/python3.10/site-packages/tensorflow/python/autograph/pyct/static_analysis/liveness.py:83: Analyzer.lamba_check (from tensorflow.python.autograph.pyct.static_analysis.liveness) is deprecated and will be removed after 2023-09-23.\n",
      "Instructions for updating:\n",
      "Lambda fuctions will be no more assumed to be used in the statement where they are used, or at least in the same block. https://github.com/tensorflow/tensorflow/issues/56089\n"
     ]
    },
    {
     "name": "stdout",
     "output_type": "stream",
     "text": [
      "Training dataset read in 0:00:04.742875. Found 8376 examples.\n",
      "Training model...\n"
     ]
    },
    {
     "name": "stderr",
     "output_type": "stream",
     "text": [
      "[INFO 2023-03-15T02:18:41.59558663+00:00 kernel.cc:1214] Loading model from path /tmp/tmpfqcz9m9q/model/ with prefix 4ccf2c12063b4ede\n"
     ]
    },
    {
     "name": "stdout",
     "output_type": "stream",
     "text": [
      "Model trained in 0:00:03.082280\n",
      "Compiling model...\n"
     ]
    },
    {
     "name": "stderr",
     "output_type": "stream",
     "text": [
      "[INFO 2023-03-15T02:18:42.359270632+00:00 decision_forest.cc:661] Model loaded with 300 root(s), 278780 node(s), and 11 input feature(s).\n",
      "[INFO 2023-03-15T02:18:42.359315953+00:00 abstract_model.cc:1311] Engine \"RandomForestOptPred\" built\n",
      "[INFO 2023-03-15T02:18:42.359349814+00:00 kernel.cc:1046] Use fast generic engine\n"
     ]
    },
    {
     "name": "stdout",
     "output_type": "stream",
     "text": [
      "WARNING:tensorflow:AutoGraph could not transform <function simple_ml_inference_op_with_handle at 0x7f2dab821900> and will run it as-is.\n",
      "Please report this to the TensorFlow team. When filing the bug, set the verbosity to 10 (on Linux, `export AUTOGRAPH_VERBOSITY=10`) and attach the full output.\n",
      "Cause: could not get source code\n",
      "To silence this warning, decorate the function with @tf.autograph.experimental.do_not_convert\n"
     ]
    },
    {
     "name": "stderr",
     "output_type": "stream",
     "text": [
      "WARNING:tensorflow:AutoGraph could not transform <function simple_ml_inference_op_with_handle at 0x7f2dab821900> and will run it as-is.\n",
      "Please report this to the TensorFlow team. When filing the bug, set the verbosity to 10 (on Linux, `export AUTOGRAPH_VERBOSITY=10`) and attach the full output.\n",
      "Cause: could not get source code\n",
      "To silence this warning, decorate the function with @tf.autograph.experimental.do_not_convert\n"
     ]
    },
    {
     "name": "stdout",
     "output_type": "stream",
     "text": [
      "WARNING: AutoGraph could not transform <function simple_ml_inference_op_with_handle at 0x7f2dab821900> and will run it as-is.\n",
      "Please report this to the TensorFlow team. When filing the bug, set the verbosity to 10 (on Linux, `export AUTOGRAPH_VERBOSITY=10`) and attach the full output.\n",
      "Cause: could not get source code\n",
      "To silence this warning, decorate the function with @tf.autograph.experimental.do_not_convert\n",
      "Model compiled.\n"
     ]
    },
    {
     "data": {
      "text/plain": [
       "<keras.callbacks.History at 0x7f2da920e410>"
      ]
     },
     "execution_count": 31,
     "metadata": {},
     "output_type": "execute_result"
    }
   ],
   "source": [
    "# Train a Random Forest model.\n",
    "\n",
    "rf_model = tfdf.keras.RandomForestModel(task=2)\n",
    "\n",
    "rf_model.fit(input_image_street,\n",
    "    y_train,\n",
    "    #validation_data=[x_test[['Collisions_Historical', 'Mid_lat','Mid_long', 'Stop_Signs', 'Paving_historical', 'Bus_stop']], y_test],     \n",
    "    epochs=1,\n",
    "    verbose=1)"
   ]
  },
  {
   "cell_type": "code",
   "execution_count": 32,
   "id": "0709a18c-109d-4f55-ae8f-a608976fa4ea",
   "metadata": {
    "tags": []
   },
   "outputs": [
    {
     "name": "stdout",
     "output_type": "stream",
     "text": [
      "Model: \"random_forest_model\"\n",
      "_________________________________________________________________\n",
      " Layer (type)                Output Shape              Param #   \n",
      "=================================================================\n",
      "=================================================================\n",
      "Total params: 1\n",
      "Trainable params: 0\n",
      "Non-trainable params: 1\n",
      "_________________________________________________________________\n",
      "Type: \"RANDOM_FOREST\"\n",
      "Task: REGRESSION\n",
      "Label: \"__LABEL\"\n",
      "\n",
      "Input Features (12):\n",
      "\tdata:0.0\n",
      "\tdata:0.1\n",
      "\tdata:0.10\n",
      "\tdata:0.11\n",
      "\tdata:0.2\n",
      "\tdata:0.3\n",
      "\tdata:0.4\n",
      "\tdata:0.5\n",
      "\tdata:0.6\n",
      "\tdata:0.7\n",
      "\tdata:0.8\n",
      "\tdata:0.9\n",
      "\n",
      "No weights\n",
      "\n",
      "Variable Importance: INV_MEAN_MIN_DEPTH:\n",
      "    1.  \"data:0.0\"  0.468187 ################\n",
      "    2.  \"data:0.3\"  0.315831 #########\n",
      "    3.  \"data:0.2\"  0.229193 ######\n",
      "    4.  \"data:0.5\"  0.222719 #####\n",
      "    5.  \"data:0.1\"  0.189987 ####\n",
      "    6. \"data:0.11\"  0.154526 ##\n",
      "    7.  \"data:0.4\"  0.102119 \n",
      "    8.  \"data:0.7\"  0.085081 \n",
      "    9. \"data:0.10\"  0.084205 \n",
      "   10.  \"data:0.9\"  0.083766 \n",
      "   11.  \"data:0.6\"  0.083294 \n",
      "\n",
      "Variable Importance: NUM_AS_ROOT:\n",
      "    1.  \"data:0.0\" 130.000000 ################\n",
      "    2.  \"data:0.5\" 76.000000 #########\n",
      "    3.  \"data:0.3\" 51.000000 ######\n",
      "    4.  \"data:0.2\" 26.000000 ###\n",
      "    5.  \"data:0.1\" 13.000000 #\n",
      "    6. \"data:0.11\"  2.000000 \n",
      "    7.  \"data:0.4\"  2.000000 \n",
      "\n",
      "Variable Importance: NUM_NODES:\n",
      "    1. \"data:0.11\" 46946.000000 ################\n",
      "    2.  \"data:0.2\" 37556.000000 ############\n",
      "    3.  \"data:0.1\" 37178.000000 ############\n",
      "    4.  \"data:0.3\" 8304.000000 ##\n",
      "    5.  \"data:0.5\" 5337.000000 #\n",
      "    6.  \"data:0.4\" 2445.000000 \n",
      "    7.  \"data:0.0\" 944.000000 \n",
      "    8.  \"data:0.7\" 272.000000 \n",
      "    9. \"data:0.10\" 149.000000 \n",
      "   10.  \"data:0.6\" 55.000000 \n",
      "   11.  \"data:0.9\" 54.000000 \n",
      "\n",
      "Variable Importance: SUM_SCORE:\n",
      "    1.  \"data:0.0\" 113211.319854 ################\n",
      "    2. \"data:0.11\" 48514.170455 ######\n",
      "    3.  \"data:0.2\" 43429.636421 ######\n",
      "    4.  \"data:0.1\" 42501.886108 ######\n",
      "    5.  \"data:0.3\" 28803.655994 ####\n",
      "    6.  \"data:0.5\" 17586.210110 ##\n",
      "    7.  \"data:0.4\" 3030.592023 \n",
      "    8.  \"data:0.7\" 415.035822 \n",
      "    9. \"data:0.10\" 120.453498 \n",
      "   10.  \"data:0.9\" 74.464650 \n",
      "   11.  \"data:0.6\" 47.630948 \n",
      "\n",
      "\n",
      "\n",
      "Out-of-bag evaluation: rmse:0.320931\n",
      "Number of trees: 300\n",
      "Total number of nodes: 278780\n",
      "\n",
      "Number of nodes by tree:\n",
      "Count: 300 Average: 929.267 StdDev: 51.5833\n",
      "Min: 753 Max: 1067 Ignored: 0\n",
      "----------------------------------------------\n",
      "[  753,  768)  1   0.33%   0.33%\n",
      "[  768,  784)  1   0.33%   0.67%\n",
      "[  784,  800)  4   1.33%   2.00% #\n",
      "[  800,  816)  2   0.67%   2.67%\n",
      "[  816,  831)  6   2.00%   4.67% #\n",
      "[  831,  847)  6   2.00%   6.67% #\n",
      "[  847,  863) 12   4.00%  10.67% ###\n",
      "[  863,  879) 15   5.00%  15.67% ####\n",
      "[  879,  894) 22   7.33%  23.00% #####\n",
      "[  894,  910) 24   8.00%  31.00% ######\n",
      "[  910,  926) 41  13.67%  44.67% ##########\n",
      "[  926,  942) 38  12.67%  57.33% #########\n",
      "[  942,  957) 27   9.00%  66.33% #######\n",
      "[  957,  973) 41  13.67%  80.00% ##########\n",
      "[  973,  989) 27   9.00%  89.00% #######\n",
      "[  989, 1005) 19   6.33%  95.33% #####\n",
      "[ 1005, 1020)  9   3.00%  98.33% ##\n",
      "[ 1020, 1036)  2   0.67%  99.00%\n",
      "[ 1036, 1052)  1   0.33%  99.33%\n",
      "[ 1052, 1067]  2   0.67% 100.00%\n",
      "\n",
      "Depth by leafs:\n",
      "Count: 139540 Average: 11.0609 StdDev: 2.55926\n",
      "Min: 3 Max: 15 Ignored: 0\n",
      "----------------------------------------------\n",
      "[  3,  4)    41   0.03%   0.03%\n",
      "[  4,  5)   399   0.29%   0.32%\n",
      "[  5,  6)  1517   1.09%   1.40% #\n",
      "[  6,  7)  3631   2.60%   4.00% ##\n",
      "[  7,  8)  7205   5.16%   9.17% ####\n",
      "[  8,  9) 11353   8.14%  17.30% ######\n",
      "[  9, 10) 15497  11.11%  28.41% ########\n",
      "[ 10, 11) 18434  13.21%  41.62% ##########\n",
      "[ 11, 12) 19002  13.62%  55.24% ##########\n",
      "[ 12, 13) 18181  13.03%  68.27% ##########\n",
      "[ 13, 14) 15596  11.18%  79.44% ########\n",
      "[ 14, 15) 12924   9.26%  88.71% #######\n",
      "[ 15, 15] 15760  11.29% 100.00% ########\n",
      "\n",
      "Number of training obs by leaf:\n",
      "Count: 139540 Average: 18.0077 StdDev: 48.6751\n",
      "Min: 5 Max: 1194 Ignored: 0\n",
      "----------------------------------------------\n",
      "[    5,   64) 133015  95.32%  95.32% ##########\n",
      "[   64,  124)   3559   2.55%  97.87%\n",
      "[  124,  183)   1015   0.73%  98.60%\n",
      "[  183,  243)    650   0.47%  99.07%\n",
      "[  243,  302)    390   0.28%  99.35%\n",
      "[  302,  362)    228   0.16%  99.51%\n",
      "[  362,  421)    172   0.12%  99.63%\n",
      "[  421,  481)    121   0.09%  99.72%\n",
      "[  481,  540)     88   0.06%  99.78%\n",
      "[  540,  600)    106   0.08%  99.86%\n",
      "[  600,  659)     61   0.04%  99.90%\n",
      "[  659,  719)     51   0.04%  99.94%\n",
      "[  719,  778)     18   0.01%  99.95%\n",
      "[  778,  838)     29   0.02%  99.97%\n",
      "[  838,  897)     15   0.01%  99.98%\n",
      "[  897,  957)     11   0.01%  99.99%\n",
      "[  957, 1016)      3   0.00%  99.99%\n",
      "[ 1016, 1076)      4   0.00% 100.00%\n",
      "[ 1076, 1135)      3   0.00% 100.00%\n",
      "[ 1135, 1194]      1   0.00% 100.00%\n",
      "\n",
      "Attribute in nodes:\n",
      "\t46946 : data:0.11 [NUMERICAL]\n",
      "\t37556 : data:0.2 [NUMERICAL]\n",
      "\t37178 : data:0.1 [NUMERICAL]\n",
      "\t8304 : data:0.3 [NUMERICAL]\n",
      "\t5337 : data:0.5 [NUMERICAL]\n",
      "\t2445 : data:0.4 [NUMERICAL]\n",
      "\t944 : data:0.0 [NUMERICAL]\n",
      "\t272 : data:0.7 [NUMERICAL]\n",
      "\t149 : data:0.10 [NUMERICAL]\n",
      "\t55 : data:0.6 [NUMERICAL]\n",
      "\t54 : data:0.9 [NUMERICAL]\n",
      "\n",
      "Attribute in nodes with depth <= 0:\n",
      "\t130 : data:0.0 [NUMERICAL]\n",
      "\t76 : data:0.5 [NUMERICAL]\n",
      "\t51 : data:0.3 [NUMERICAL]\n",
      "\t26 : data:0.2 [NUMERICAL]\n",
      "\t13 : data:0.1 [NUMERICAL]\n",
      "\t2 : data:0.4 [NUMERICAL]\n",
      "\t2 : data:0.11 [NUMERICAL]\n",
      "\n",
      "Attribute in nodes with depth <= 1:\n",
      "\t296 : data:0.0 [NUMERICAL]\n",
      "\t208 : data:0.3 [NUMERICAL]\n",
      "\t181 : data:0.5 [NUMERICAL]\n",
      "\t116 : data:0.2 [NUMERICAL]\n",
      "\t68 : data:0.1 [NUMERICAL]\n",
      "\t19 : data:0.11 [NUMERICAL]\n",
      "\t12 : data:0.4 [NUMERICAL]\n",
      "\n",
      "Attribute in nodes with depth <= 2:\n",
      "\t515 : data:0.3 [NUMERICAL]\n",
      "\t478 : data:0.0 [NUMERICAL]\n",
      "\t386 : data:0.5 [NUMERICAL]\n",
      "\t328 : data:0.2 [NUMERICAL]\n",
      "\t222 : data:0.1 [NUMERICAL]\n",
      "\t99 : data:0.11 [NUMERICAL]\n",
      "\t69 : data:0.4 [NUMERICAL]\n",
      "\t2 : data:0.7 [NUMERICAL]\n",
      "\t1 : data:0.6 [NUMERICAL]\n",
      "\n",
      "Attribute in nodes with depth <= 3:\n",
      "\t937 : data:0.3 [NUMERICAL]\n",
      "\t781 : data:0.2 [NUMERICAL]\n",
      "\t710 : data:0.1 [NUMERICAL]\n",
      "\t693 : data:0.5 [NUMERICAL]\n",
      "\t626 : data:0.0 [NUMERICAL]\n",
      "\t447 : data:0.11 [NUMERICAL]\n",
      "\t214 : data:0.4 [NUMERICAL]\n",
      "\t28 : data:0.7 [NUMERICAL]\n",
      "\t9 : data:0.9 [NUMERICAL]\n",
      "\t8 : data:0.6 [NUMERICAL]\n",
      "\t6 : data:0.10 [NUMERICAL]\n",
      "\n",
      "Attribute in nodes with depth <= 5:\n",
      "\t3650 : data:0.1 [NUMERICAL]\n",
      "\t3600 : data:0.2 [NUMERICAL]\n",
      "\t3475 : data:0.11 [NUMERICAL]\n",
      "\t1879 : data:0.3 [NUMERICAL]\n",
      "\t1574 : data:0.5 [NUMERICAL]\n",
      "\t844 : data:0.0 [NUMERICAL]\n",
      "\t679 : data:0.4 [NUMERICAL]\n",
      "\t101 : data:0.7 [NUMERICAL]\n",
      "\t45 : data:0.10 [NUMERICAL]\n",
      "\t32 : data:0.9 [NUMERICAL]\n",
      "\t20 : data:0.6 [NUMERICAL]\n",
      "\n",
      "Condition type in nodes:\n",
      "\t139240 : HigherCondition\n",
      "Condition type in nodes with depth <= 0:\n",
      "\t300 : HigherCondition\n",
      "Condition type in nodes with depth <= 1:\n",
      "\t900 : HigherCondition\n",
      "Condition type in nodes with depth <= 2:\n",
      "\t2100 : HigherCondition\n",
      "Condition type in nodes with depth <= 3:\n",
      "\t4459 : HigherCondition\n",
      "Condition type in nodes with depth <= 5:\n",
      "\t15899 : HigherCondition\n",
      "Node format: NOT_SET\n",
      "\n",
      "Training OOB:\n",
      "\ttrees: 1, Out-of-bag evaluation: rmse:0.389668\n",
      "\ttrees: 11, Out-of-bag evaluation: rmse:0.340248\n",
      "\ttrees: 21, Out-of-bag evaluation: rmse:0.330166\n",
      "\ttrees: 31, Out-of-bag evaluation: rmse:0.328332\n",
      "\ttrees: 41, Out-of-bag evaluation: rmse:0.325868\n",
      "\ttrees: 51, Out-of-bag evaluation: rmse:0.32412\n",
      "\ttrees: 61, Out-of-bag evaluation: rmse:0.323216\n",
      "\ttrees: 71, Out-of-bag evaluation: rmse:0.322765\n",
      "\ttrees: 81, Out-of-bag evaluation: rmse:0.322416\n",
      "\ttrees: 91, Out-of-bag evaluation: rmse:0.322017\n",
      "\ttrees: 101, Out-of-bag evaluation: rmse:0.322012\n",
      "\ttrees: 111, Out-of-bag evaluation: rmse:0.321957\n",
      "\ttrees: 121, Out-of-bag evaluation: rmse:0.321959\n",
      "\ttrees: 131, Out-of-bag evaluation: rmse:0.321949\n",
      "\ttrees: 141, Out-of-bag evaluation: rmse:0.321701\n",
      "\ttrees: 151, Out-of-bag evaluation: rmse:0.321603\n",
      "\ttrees: 161, Out-of-bag evaluation: rmse:0.321495\n",
      "\ttrees: 171, Out-of-bag evaluation: rmse:0.3212\n",
      "\ttrees: 181, Out-of-bag evaluation: rmse:0.32117\n",
      "\ttrees: 191, Out-of-bag evaluation: rmse:0.321326\n",
      "\ttrees: 201, Out-of-bag evaluation: rmse:0.321305\n",
      "\ttrees: 211, Out-of-bag evaluation: rmse:0.321258\n",
      "\ttrees: 221, Out-of-bag evaluation: rmse:0.321231\n",
      "\ttrees: 231, Out-of-bag evaluation: rmse:0.321209\n",
      "\ttrees: 241, Out-of-bag evaluation: rmse:0.32105\n",
      "\ttrees: 251, Out-of-bag evaluation: rmse:0.321014\n",
      "\ttrees: 261, Out-of-bag evaluation: rmse:0.320972\n",
      "\ttrees: 271, Out-of-bag evaluation: rmse:0.320999\n",
      "\ttrees: 281, Out-of-bag evaluation: rmse:0.321059\n",
      "\ttrees: 291, Out-of-bag evaluation: rmse:0.320957\n",
      "\ttrees: 300, Out-of-bag evaluation: rmse:0.320931\n",
      "\n",
      "None\n"
     ]
    }
   ],
   "source": [
    "print(rf_model.summary())"
   ]
  },
  {
   "cell_type": "code",
   "execution_count": 33,
   "id": "8cbd4cd7-7a86-4ddc-94b9-1507a5ee044b",
   "metadata": {
    "tags": []
   },
   "outputs": [
    {
     "data": {
      "text/plain": [
       "Evaluation(num_examples=8376, accuracy=None, loss=None, rmse=0.32093074703642993, ndcg=None, aucs=None, auuc=None, qini=None)"
      ]
     },
     "execution_count": 33,
     "metadata": {},
     "output_type": "execute_result"
    }
   ],
   "source": [
    "##uncomment to show training log\n",
    "#rf_model_train.make_inspector().training_logs()\n",
    "rf_model.make_inspector().evaluation()"
   ]
  },
  {
   "cell_type": "code",
   "execution_count": 34,
   "id": "622cb67b-17d6-43b1-b8a2-6960c8419698",
   "metadata": {
    "tags": []
   },
   "outputs": [],
   "source": [
    "#evaluate the model\n",
    "#rf_model.evaluate(x_test[['Collisions_Historical', 'Mid_lat','Mid_long', 'Stop_Signs', 'Paving_historical', 'Bus_stop']])"
   ]
  },
  {
   "cell_type": "code",
   "execution_count": 35,
   "id": "8e69624a-002f-45d8-9c98-56f748f47673",
   "metadata": {
    "tags": []
   },
   "outputs": [],
   "source": [
    "#make predictions from test set\n",
    "#pd.DataFrame(rf_model.predict(x_test[['Collisions_Historical', 'Mid_lat','Mid_long', 'Stop_Signs', 'Paving_historical', 'Bus_stop']]))"
   ]
  },
  {
   "cell_type": "code",
   "execution_count": 36,
   "id": "e21c9be2-c916-4ceb-8c25-dc95899057da",
   "metadata": {
    "tags": []
   },
   "outputs": [
    {
     "data": {
      "image/png": "[encoded data removed]",
      "text/plain": [
       "<Figure size 640x480 with 1 Axes>"
      ]
     },
     "metadata": {},
     "output_type": "display_data"
    }
   ],
   "source": [
    "import matplotlib.pyplot as plt\n",
    "\n",
    "logs = rf_model.make_inspector().training_logs()\n",
    "\n",
    "plt.plot([log.num_trees for log in logs], [log.evaluation.rmse for log in logs], label=\"training data\")\n",
    "plt.xlabel(\"Number of trees\")\n",
    "plt.ylabel(\"RMSE (out-of-bag)\")\n",
    "plt.legend()\n",
    "plt.show()"
   ]
  },
  {
   "cell_type": "markdown",
   "id": "46a0ce2c-eb33-41bd-9462-1365b8d2c4fd",
   "metadata": {},
   "source": [
    "**Model #4: Gradient Boosted Tree using Historical Collisions, SFMTA Street Characteristics, and Geocoordinates**\n",
    "\n",
    "Helpful sources:\n",
    "\n",
    "https://www.tensorflow.org/decision_forests/api_docs/python/tfdf/keras/GradientBoostedTreesModel\n",
    "https://www.tensorflow.org/decision_forests/tutorials/beginner_colab"
   ]
  },
  {
   "cell_type": "code",
   "execution_count": 37,
   "id": "0d6a3b75-c42a-4884-a753-fb67fbb82db0",
   "metadata": {
    "tags": []
   },
   "outputs": [
    {
     "name": "stdout",
     "output_type": "stream",
     "text": [
      "Use /tmp/tmpcsg9a2r1 as temporary training directory\n",
      "Reading training dataset...\n",
      "Training dataset read in 0:00:00.330095. Found 8376 examples.\n",
      "Training model...\n"
     ]
    },
    {
     "name": "stderr",
     "output_type": "stream",
     "text": [
      "2023-03-15 02:18:44.873021: W external/ydf/yggdrasil_decision_forests/learner/gradient_boosted_trees/gradient_boosted_trees.cc:1790] \"goss_alpha\" set but \"sampling_method\" not equal to \"GOSS\".\n",
      "2023-03-15 02:18:44.873063: W external/ydf/yggdrasil_decision_forests/learner/gradient_boosted_trees/gradient_boosted_trees.cc:1800] \"goss_beta\" set but \"sampling_method\" not equal to \"GOSS\".\n",
      "2023-03-15 02:18:44.873073: W external/ydf/yggdrasil_decision_forests/learner/gradient_boosted_trees/gradient_boosted_trees.cc:1814] \"selective_gradient_boosting_ratio\" set but \"sampling_method\" not equal to \"SELGB\".\n",
      "2023-03-15 02:18:44.873682: I external/ydf/yggdrasil_decision_forests/learner/gradient_boosted_trees/gradient_boosted_trees.cc:452] Default loss set to SQUARED_ERROR\n",
      "2023-03-15 02:18:44.873727: I external/ydf/yggdrasil_decision_forests/learner/gradient_boosted_trees/gradient_boosted_trees.cc:1077] Training gradient boosted tree on 8376 example(s) and 12 feature(s).\n",
      "2023-03-15 02:18:44.874623: I external/ydf/yggdrasil_decision_forests/learner/gradient_boosted_trees/gradient_boosted_trees.cc:1120] 7555 examples used for training and 821 examples used for validation\n",
      "2023-03-15 02:18:44.890453: I external/ydf/yggdrasil_decision_forests/learner/gradient_boosted_trees/gradient_boosted_trees.cc:1518] \tnum-trees:1 train-loss:0.390207 train-rmse:0.390207 valid-loss:0.378085 valid-rmse:0.378085\n",
      "2023-03-15 02:18:44.901219: I external/ydf/yggdrasil_decision_forests/learner/gradient_boosted_trees/gradient_boosted_trees.cc:1520] \tnum-trees:2 train-loss:0.376771 train-rmse:0.376771 valid-loss:0.365745 valid-rmse:0.365745\n"
     ]
    },
    {
     "name": "stdout",
     "output_type": "stream",
     "text": [
      "Model trained in 0:00:00.765097\n",
      "Compiling model...\n"
     ]
    },
    {
     "name": "stderr",
     "output_type": "stream",
     "text": [
      "2023-03-15 02:18:45.613039: I external/ydf/yggdrasil_decision_forests/learner/gradient_boosted_trees/gradient_boosted_trees.cc:1568] Create final snapshot of the model at iteration 74\n",
      "2023-03-15 02:18:45.615674: I external/ydf/yggdrasil_decision_forests/learner/gradient_boosted_trees/gradient_boosted_trees.cc:247] Truncates the model to 45 tree(s) i.e. 45  iteration(s).\n",
      "2023-03-15 02:18:45.615863: I external/ydf/yggdrasil_decision_forests/learner/gradient_boosted_trees/gradient_boosted_trees.cc:309] Final model num-trees:45 valid-loss:0.311951 valid-rmse:0.311951\n",
      "[INFO 2023-03-15T02:18:45.626630941+00:00 kernel.cc:1214] Loading model from path /tmp/tmpcsg9a2r1/model/ with prefix 55f38136f55541ac\n",
      "[INFO 2023-03-15T02:18:45.632753587+00:00 kernel.cc:1046] Use fast generic engine\n"
     ]
    },
    {
     "name": "stdout",
     "output_type": "stream",
     "text": [
      "Model compiled.\n"
     ]
    },
    {
     "data": {
      "text/plain": [
       "<keras.callbacks.History at 0x7f2da07ae470>"
      ]
     },
     "execution_count": 37,
     "metadata": {},
     "output_type": "execute_result"
    }
   ],
   "source": [
    "gbt_model = tfdf.keras.GradientBoostedTreesModel(task=2)\n",
    "\n",
    "gbt_model.fit(input_image_street,\n",
    "    y_train,\n",
    "    #validation_data=[x_test[['Collisions_Historical', 'Mid_lat','Mid_long', 'Stop_Signs', 'Paving_historical', 'Bus_stop']], y_test],     \n",
    "    epochs=1,\n",
    "    verbose=1)"
   ]
  },
  {
   "cell_type": "code",
   "execution_count": 38,
   "id": "698518a2-921a-43a1-b56f-094235a8dadc",
   "metadata": {
    "tags": []
   },
   "outputs": [
    {
     "name": "stdout",
     "output_type": "stream",
     "text": [
      "Model: \"gradient_boosted_trees_model\"\n",
      "_________________________________________________________________\n",
      " Layer (type)                Output Shape              Param #   \n",
      "=================================================================\n",
      "=================================================================\n",
      "Total params: 1\n",
      "Trainable params: 0\n",
      "Non-trainable params: 1\n",
      "_________________________________________________________________\n",
      "Type: \"GRADIENT_BOOSTED_TREES\"\n",
      "Task: REGRESSION\n",
      "Label: \"__LABEL\"\n",
      "\n",
      "Input Features (12):\n",
      "\tdata:0.0\n",
      "\tdata:0.1\n",
      "\tdata:0.10\n",
      "\tdata:0.11\n",
      "\tdata:0.2\n",
      "\tdata:0.3\n",
      "\tdata:0.4\n",
      "\tdata:0.5\n",
      "\tdata:0.6\n",
      "\tdata:0.7\n",
      "\tdata:0.8\n",
      "\tdata:0.9\n",
      "\n",
      "No weights\n",
      "\n",
      "Variable Importance: INV_MEAN_MIN_DEPTH:\n",
      "    1.  \"data:0.0\"  0.424873 ################\n",
      "    2.  \"data:0.3\"  0.309196 ########\n",
      "    3.  \"data:0.5\"  0.256201 #####\n",
      "    4.  \"data:0.2\"  0.247375 ####\n",
      "    5.  \"data:0.1\"  0.215822 ##\n",
      "    6. \"data:0.11\"  0.215260 ##\n",
      "    7.  \"data:0.4\"  0.189063 #\n",
      "    8. \"data:0.10\"  0.172113 \n",
      "    9.  \"data:0.7\"  0.171738 \n",
      "\n",
      "Variable Importance: NUM_AS_ROOT:\n",
      "    1. \"data:0.0\" 32.000000 ################\n",
      "    2. \"data:0.3\"  5.000000 #\n",
      "    3. \"data:0.5\"  5.000000 #\n",
      "    4. \"data:0.2\"  3.000000 \n",
      "\n",
      "Variable Importance: NUM_NODES:\n",
      "    1. \"data:0.11\" 286.000000 ################\n",
      "    2.  \"data:0.2\" 263.000000 ##############\n",
      "    3.  \"data:0.1\" 246.000000 #############\n",
      "    4.  \"data:0.3\" 146.000000 ########\n",
      "    5.  \"data:0.5\" 93.000000 #####\n",
      "    6.  \"data:0.4\" 69.000000 ###\n",
      "    7.  \"data:0.0\" 35.000000 #\n",
      "    8.  \"data:0.7\"  8.000000 \n",
      "    9. \"data:0.10\"  3.000000 \n",
      "\n",
      "Variable Importance: SUM_SCORE:\n",
      "    1.  \"data:0.0\" 2002.106819 ################\n",
      "    2.  \"data:0.3\" 427.398746 ###\n",
      "    3.  \"data:0.2\" 232.359956 #\n",
      "    4.  \"data:0.1\" 214.781029 #\n",
      "    5. \"data:0.11\" 202.750023 #\n",
      "    6.  \"data:0.5\" 92.435859 \n",
      "    7.  \"data:0.4\" 31.502712 \n",
      "    8.  \"data:0.7\"  8.285985 \n",
      "    9. \"data:0.10\"  0.806721 \n",
      "\n",
      "\n",
      "\n",
      "Loss: SQUARED_ERROR\n",
      "Validation loss value: 0.311951\n",
      "Number of trees per iteration: 1\n",
      "Node format: NOT_SET\n",
      "Number of trees: 45\n",
      "Total number of nodes: 2343\n",
      "\n",
      "Number of nodes by tree:\n",
      "Count: 45 Average: 52.0667 StdDev: 9.8396\n",
      "Min: 27 Max: 63 Ignored: 0\n",
      "----------------------------------------------\n",
      "[ 27, 28)  1   2.22%   2.22% #\n",
      "[ 28, 30)  3   6.67%   8.89% ###\n",
      "[ 30, 32)  0   0.00%   8.89%\n",
      "[ 32, 34)  1   2.22%  11.11% #\n",
      "[ 34, 36)  0   0.00%  11.11%\n",
      "[ 36, 38)  1   2.22%  13.33% #\n",
      "[ 38, 39)  0   0.00%  13.33%\n",
      "[ 39, 41)  1   2.22%  15.56% #\n",
      "[ 41, 43)  0   0.00%  15.56%\n",
      "[ 43, 45)  0   0.00%  15.56%\n",
      "[ 45, 47)  1   2.22%  17.78% #\n",
      "[ 47, 49)  4   8.89%  26.67% ####\n",
      "[ 49, 51)  1   2.22%  28.89% #\n",
      "[ 51, 52)  2   4.44%  33.33% ##\n",
      "[ 52, 54)  4   8.89%  42.22% ####\n",
      "[ 54, 56)  1   2.22%  44.44% #\n",
      "[ 56, 58) 10  22.22%  66.67% ##########\n",
      "[ 58, 60)  9  20.00%  86.67% #########\n",
      "[ 60, 62)  5  11.11%  97.78% #####\n",
      "[ 62, 63]  1   2.22% 100.00% #\n",
      "\n",
      "Depth by leafs:\n",
      "Count: 1194 Average: 4.86265 StdDev: 0.458928\n",
      "Min: 1 Max: 5 Ignored: 0\n",
      "----------------------------------------------\n",
      "[ 1, 2)    5   0.42%   0.42%\n",
      "[ 2, 3)    2   0.17%   0.59%\n",
      "[ 3, 4)   19   1.59%   2.18%\n",
      "[ 4, 5)  100   8.38%  10.55% #\n",
      "[ 5, 5] 1068  89.45% 100.00% ##########\n",
      "\n",
      "Number of training obs by leaf:\n",
      "Count: 1194 Average: 284.736 StdDev: 646.975\n",
      "Min: 5 Max: 5419 Ignored: 0\n",
      "----------------------------------------------\n",
      "[    5,  275) 939  78.64%  78.64% ##########\n",
      "[  275,  546)  91   7.62%  86.26% #\n",
      "[  546,  817)  43   3.60%  89.87%\n",
      "[  817, 1088)  30   2.51%  92.38%\n",
      "[ 1088, 1358)  20   1.68%  94.05%\n",
      "[ 1358, 1629)   6   0.50%  94.56%\n",
      "[ 1629, 1900)  13   1.09%  95.64%\n",
      "[ 1900, 2171)  17   1.42%  97.07%\n",
      "[ 2171, 2441)   8   0.67%  97.74%\n",
      "[ 2441, 2712)   5   0.42%  98.16%\n",
      "[ 2712, 2983)   5   0.42%  98.58%\n",
      "[ 2983, 3254)   3   0.25%  98.83%\n",
      "[ 3254, 3524)   4   0.34%  99.16%\n",
      "[ 3524, 3795)   0   0.00%  99.16%\n",
      "[ 3795, 4066)   5   0.42%  99.58%\n",
      "[ 4066, 4337)   1   0.08%  99.66%\n",
      "[ 4337, 4607)   1   0.08%  99.75%\n",
      "[ 4607, 4878)   2   0.17%  99.92%\n",
      "[ 4878, 5149)   0   0.00%  99.92%\n",
      "[ 5149, 5419]   1   0.08% 100.00%\n",
      "\n",
      "Attribute in nodes:\n",
      "\t286 : data:0.11 [NUMERICAL]\n",
      "\t263 : data:0.2 [NUMERICAL]\n",
      "\t246 : data:0.1 [NUMERICAL]\n",
      "\t146 : data:0.3 [NUMERICAL]\n",
      "\t93 : data:0.5 [NUMERICAL]\n",
      "\t69 : data:0.4 [NUMERICAL]\n",
      "\t35 : data:0.0 [NUMERICAL]\n",
      "\t8 : data:0.7 [NUMERICAL]\n",
      "\t3 : data:0.10 [NUMERICAL]\n",
      "\n",
      "Attribute in nodes with depth <= 0:\n",
      "\t32 : data:0.0 [NUMERICAL]\n",
      "\t5 : data:0.5 [NUMERICAL]\n",
      "\t5 : data:0.3 [NUMERICAL]\n",
      "\t3 : data:0.2 [NUMERICAL]\n",
      "\n",
      "Attribute in nodes with depth <= 1:\n",
      "\t48 : data:0.3 [NUMERICAL]\n",
      "\t32 : data:0.0 [NUMERICAL]\n",
      "\t21 : data:0.2 [NUMERICAL]\n",
      "\t18 : data:0.5 [NUMERICAL]\n",
      "\t5 : data:0.4 [NUMERICAL]\n",
      "\t4 : data:0.11 [NUMERICAL]\n",
      "\t2 : data:0.1 [NUMERICAL]\n",
      "\n",
      "Attribute in nodes with depth <= 2:\n",
      "\t61 : data:0.2 [NUMERICAL]\n",
      "\t60 : data:0.3 [NUMERICAL]\n",
      "\t51 : data:0.5 [NUMERICAL]\n",
      "\t40 : data:0.11 [NUMERICAL]\n",
      "\t33 : data:0.1 [NUMERICAL]\n",
      "\t32 : data:0.0 [NUMERICAL]\n",
      "\t21 : data:0.4 [NUMERICAL]\n",
      "\n",
      "Attribute in nodes with depth <= 3:\n",
      "\t126 : data:0.2 [NUMERICAL]\n",
      "\t123 : data:0.1 [NUMERICAL]\n",
      "\t120 : data:0.11 [NUMERICAL]\n",
      "\t95 : data:0.3 [NUMERICAL]\n",
      "\t74 : data:0.5 [NUMERICAL]\n",
      "\t39 : data:0.4 [NUMERICAL]\n",
      "\t33 : data:0.0 [NUMERICAL]\n",
      "\t3 : data:0.10 [NUMERICAL]\n",
      "\t2 : data:0.7 [NUMERICAL]\n",
      "\n",
      "Attribute in nodes with depth <= 5:\n",
      "\t286 : data:0.11 [NUMERICAL]\n",
      "\t263 : data:0.2 [NUMERICAL]\n",
      "\t246 : data:0.1 [NUMERICAL]\n",
      "\t146 : data:0.3 [NUMERICAL]\n",
      "\t93 : data:0.5 [NUMERICAL]\n",
      "\t69 : data:0.4 [NUMERICAL]\n",
      "\t35 : data:0.0 [NUMERICAL]\n",
      "\t8 : data:0.7 [NUMERICAL]\n",
      "\t3 : data:0.10 [NUMERICAL]\n",
      "\n",
      "Condition type in nodes:\n",
      "\t1149 : HigherCondition\n",
      "Condition type in nodes with depth <= 0:\n",
      "\t45 : HigherCondition\n",
      "Condition type in nodes with depth <= 1:\n",
      "\t130 : HigherCondition\n",
      "Condition type in nodes with depth <= 2:\n",
      "\t298 : HigherCondition\n",
      "Condition type in nodes with depth <= 3:\n",
      "\t615 : HigherCondition\n",
      "Condition type in nodes with depth <= 5:\n",
      "\t1149 : HigherCondition\n",
      "\n",
      "Training logs:\n",
      "Number of iteration to final model: 45\n",
      "\tIter:1 train-loss:0.390207 valid-loss:0.378085  train-rmse:0.390207 valid-rmse:0.378085\n",
      "\tIter:2 train-loss:0.376771 valid-loss:0.365745  train-rmse:0.376771 valid-rmse:0.365745\n",
      "\tIter:3 train-loss:0.365301 valid-loss:0.355808  train-rmse:0.365301 valid-rmse:0.355808\n",
      "\tIter:4 train-loss:0.355728 valid-loss:0.347295  train-rmse:0.355728 valid-rmse:0.347295\n",
      "\tIter:5 train-loss:0.347611 valid-loss:0.340744  train-rmse:0.347611 valid-rmse:0.340744\n",
      "\tIter:6 train-loss:0.340840 valid-loss:0.335589  train-rmse:0.340840 valid-rmse:0.335589\n",
      "\tIter:16 train-loss:0.309105 valid-loss:0.315271  train-rmse:0.309105 valid-rmse:0.315271\n",
      "\tIter:26 train-loss:0.298820 valid-loss:0.312961  train-rmse:0.298820 valid-rmse:0.312961\n",
      "\tIter:36 train-loss:0.293776 valid-loss:0.312312  train-rmse:0.293776 valid-rmse:0.312312\n",
      "\tIter:46 train-loss:0.290131 valid-loss:0.311952  train-rmse:0.290131 valid-rmse:0.311952\n",
      "\tIter:56 train-loss:0.286768 valid-loss:0.313085  train-rmse:0.286768 valid-rmse:0.313085\n",
      "\tIter:66 train-loss:0.284208 valid-loss:0.314409  train-rmse:0.284208 valid-rmse:0.314409\n",
      "\n",
      "None\n"
     ]
    }
   ],
   "source": [
    "print(gbt_model.summary())"
   ]
  },
  {
   "cell_type": "code",
   "execution_count": 39,
   "id": "fd9e1eda-544a-476e-ac0b-b64989c66d4d",
   "metadata": {
    "tags": []
   },
   "outputs": [
    {
     "data": {
      "text/plain": [
       "Evaluation(num_examples=None, accuracy=None, loss=0.31195101141929626, rmse=0.31195101141929626, ndcg=None, aucs=None, auuc=None, qini=None)"
      ]
     },
     "execution_count": 39,
     "metadata": {},
     "output_type": "execute_result"
    }
   ],
   "source": [
    "##uncomment to show training log\n",
    "#gbt_model.make_inspector().training_logs()\n",
    "gbt_model.make_inspector().evaluation()"
   ]
  },
  {
   "cell_type": "code",
   "execution_count": 43,
   "id": "eabec000-4306-4cdd-8aac-9b1bba1665d3",
   "metadata": {
    "tags": []
   },
   "outputs": [
    {
     "data": {
      "image/png": "[encoded data removed]",
      "text/plain": [
       "<Figure size 640x480 with 1 Axes>"
      ]
     },
     "metadata": {},
     "output_type": "display_data"
    }
   ],
   "source": [
    "import matplotlib.pyplot as plt\n",
    "\n",
    "logs = gbt_model.make_inspector().training_logs()\n",
    "\n",
    "plt.plot([log.num_trees for log in logs], [log.evaluation.loss for log in logs], label=\"training data\")\n",
    "plt.xlabel(\"Number of trees\")\n",
    "plt.ylabel(\"Loss\")\n",
    "plt.legend()\n",
    "\n",
    "plt.show()"
   ]
  },
  {
   "cell_type": "code",
   "execution_count": 44,
   "id": "52bbb5f6-7340-45fd-8ef3-7f1447d5bbda",
   "metadata": {
    "tags": []
   },
   "outputs": [
    {
     "data": {
      "image/png": "[encoded data removed]",
      "text/plain": [
       "<Figure size 640x480 with 1 Axes>"
      ]
     },
     "metadata": {},
     "output_type": "display_data"
    }
   ],
   "source": [
    "import matplotlib.pyplot as plt\n",
    "\n",
    "logs = gbt_model.make_inspector().training_logs()\n",
    "\n",
    "plt.plot([log.num_trees for log in logs], [log.evaluation.rmse for log in logs], label=\"training data\")\n",
    "plt.xlabel(\"Number of trees\")\n",
    "plt.ylabel(\"RMSE\")\n",
    "plt.legend()\n",
    "\n",
    "plt.show()"
   ]
  },
  {
   "cell_type": "code",
   "execution_count": 41,
   "id": "11b7db2b-b3f8-472a-98ef-80ebd5789791",
   "metadata": {
    "tags": []
   },
   "outputs": [],
   "source": [
    "#evaluate the model\n",
    "#gbt_model.evaluate(x_test[['Collisions_Historical', 'Mid_lat','Mid_long', 'Stop_Signs', 'Paving_historical', 'Bus_stop']])"
   ]
  },
  {
   "cell_type": "code",
   "execution_count": 42,
   "id": "ffe76a47-522d-447e-876e-32da16c3b3af",
   "metadata": {
    "tags": []
   },
   "outputs": [],
   "source": [
    "#make predictions from test set\n",
    "#pd.DataFrame(gbt_model.predict(x_test[['Collisions_Historical', 'Mid_lat','Mid_long', 'Stop_Signs', 'Paving_historical', 'Bus_stop']]))"
   ]
  }
 ],
 "metadata": {
  "kernelspec": {
   "display_name": "Python 3 (ipykernel)",
   "language": "python",
   "name": "python3"
  },
  "language_info": {
   "codemirror_mode": {
    "name": "ipython",
    "version": 3
   },
   "file_extension": ".py",
   "mimetype": "text/x-python",
   "name": "python",
   "nbconvert_exporter": "python",
   "pygments_lexer": "ipython3",
   "version": "3.10.6"
  }
 },
 "nbformat": 4,
 "nbformat_minor": 5
}
