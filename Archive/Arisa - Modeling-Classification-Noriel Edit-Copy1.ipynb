{
 "cells": [
  {
   "cell_type": "markdown",
   "id": "a0eabcba-5ca5-4fa8-bde3-8224131c3a6a",
   "metadata": {},
   "source": [
    "**Packages**"
   ]
  },
  {
   "cell_type": "code",
   "execution_count": 1,
   "id": "356025b8",
   "metadata": {
    "tags": []
   },
   "outputs": [
    {
     "name": "stderr",
     "output_type": "stream",
     "text": [
      "2023-03-20 01:08:18.253549: I tensorflow/core/platform/cpu_feature_guard.cc:193] This TensorFlow binary is optimized with oneAPI Deep Neural Network Library (oneDNN) to use the following CPU instructions in performance-critical operations:  AVX2 FMA\n",
      "To enable them in other operations, rebuild TensorFlow with the appropriate compiler flags.\n",
      "2023-03-20 01:08:18.392696: W tensorflow/compiler/xla/stream_executor/platform/default/dso_loader.cc:64] Could not load dynamic library 'libcudart.so.11.0'; dlerror: libcudart.so.11.0: cannot open shared object file: No such file or directory\n",
      "2023-03-20 01:08:18.392722: I tensorflow/compiler/xla/stream_executor/cuda/cudart_stub.cc:29] Ignore above cudart dlerror if you do not have a GPU set up on your machine.\n",
      "2023-03-20 01:08:19.161816: W tensorflow/compiler/xla/stream_executor/platform/default/dso_loader.cc:64] Could not load dynamic library 'libnvinfer.so.7'; dlerror: libnvinfer.so.7: cannot open shared object file: No such file or directory\n",
      "2023-03-20 01:08:19.161905: W tensorflow/compiler/xla/stream_executor/platform/default/dso_loader.cc:64] Could not load dynamic library 'libnvinfer_plugin.so.7'; dlerror: libnvinfer_plugin.so.7: cannot open shared object file: No such file or directory\n",
      "2023-03-20 01:08:19.161916: W tensorflow/compiler/tf2tensorrt/utils/py_utils.cc:38] TF-TRT Warning: Cannot dlopen some TensorRT libraries. If you would like to use Nvidia GPU with TensorRT, please make sure the missing libraries mentioned above are installed properly.\n"
     ]
    }
   ],
   "source": [
    "import numpy as np\n",
    "import pandas as pd\n",
    "import math\n",
    "\n",
    "import matplotlib\n",
    "import matplotlib.pyplot as plt\n",
    "\n",
    "import tensorflow as tf\n",
    "from tensorflow import keras\n",
    "from tensorflow.keras import layers\n",
    "from tensorflow.keras.layers import concatenate\n",
    "import tifffile\n",
    "\n",
    "from sklearn.model_selection import train_test_split\n",
    "from sklearn.metrics import f1_score\n",
    "\n",
    "import os\n",
    "\n",
    "import scipy"
   ]
  },
  {
   "cell_type": "markdown",
   "id": "5b166dc2-360e-4118-9f65-0996bbc163a1",
   "metadata": {},
   "source": [
    "**Helper Functions**"
   ]
  },
  {
   "cell_type": "code",
   "execution_count": 2,
   "id": "51c1eeab-df74-4a28-8b0f-7d937d42028c",
   "metadata": {
    "tags": []
   },
   "outputs": [],
   "source": [
    "def plot_loss(history):\n",
    "    plt.plot(history.history['loss'], label='loss')\n",
    "    plt.plot(history.history['val_loss'], label='val_loss')\n",
    "   # plt.plot(history.history['accuracy'], label='accuracy')\n",
    "   # plt.plot(history.history['val_accuracy'], label='val_accuracy')\n",
    "    plt.ylim([0, \n",
    "            max(\n",
    "                max(history.history['loss']),\n",
    "                max(history.history['val_loss'])\n",
    "            )])\n",
    "    plt.xlabel('Epoch')\n",
    "    plt.ylabel('Loss')\n",
    "    plt.title('Loss')\n",
    "    plt.legend()\n",
    "    plt.grid(True)"
   ]
  },
  {
   "cell_type": "code",
   "execution_count": 3,
   "id": "6d27acab-1145-4120-9a1c-c7da15f505d7",
   "metadata": {
    "tags": []
   },
   "outputs": [],
   "source": [
    "def plot_accuracy(history):\n",
    "   # plt.plot(history.history['loss'], label='loss')\n",
    "   # plt.plot(history.history['val_loss'], label='val_loss')\n",
    "    plt.plot(history.history['accuracy'], label='accuracy')\n",
    "    plt.plot(history.history['val_accuracy'], label='val_accuracy')\n",
    "    plt.ylim([0, \n",
    "            max(\n",
    "                max(history.history['accuracy']),\n",
    "                max(history.history['val_accuracy'])\n",
    "            )])\n",
    "    plt.xlabel('Epoch')\n",
    "    plt.ylabel('Accuracy')\n",
    "    plt.title('Accuracy')\n",
    "    plt.legend()\n",
    "    plt.grid(True)"
   ]
  },
  {
   "cell_type": "markdown",
   "id": "131a5b49-a808-4d41-ad4b-ae9469b994ea",
   "metadata": {},
   "source": [
    "**Data Pre-Processing**"
   ]
  },
  {
   "cell_type": "code",
   "execution_count": 4,
   "id": "f3693092",
   "metadata": {
    "tags": []
   },
   "outputs": [
    {
     "data": {
      "text/html": [
       "<div>\n",
       "<style scoped>\n",
       "    .dataframe tbody tr th:only-of-type {\n",
       "        vertical-align: middle;\n",
       "    }\n",
       "\n",
       "    .dataframe tbody tr th {\n",
       "        vertical-align: top;\n",
       "    }\n",
       "\n",
       "    .dataframe thead th {\n",
       "        text-align: right;\n",
       "    }\n",
       "</style>\n",
       "<table border=\"1\" class=\"dataframe\">\n",
       "  <thead>\n",
       "    <tr style=\"text-align: right;\">\n",
       "      <th></th>\n",
       "      <th>Tile_ID</th>\n",
       "      <th>Long2</th>\n",
       "      <th>Lat2</th>\n",
       "      <th>Long1</th>\n",
       "      <th>Lat1</th>\n",
       "      <th>Mid_lat</th>\n",
       "      <th>Mid_long</th>\n",
       "      <th>Stop_Signs</th>\n",
       "      <th>Paving_historical</th>\n",
       "      <th>Paving_future</th>\n",
       "      <th>...</th>\n",
       "      <th>94129</th>\n",
       "      <th>94130</th>\n",
       "      <th>94131</th>\n",
       "      <th>94132</th>\n",
       "      <th>94133</th>\n",
       "      <th>94134</th>\n",
       "      <th>94141</th>\n",
       "      <th>94143</th>\n",
       "      <th>94158</th>\n",
       "      <th>94188</th>\n",
       "    </tr>\n",
       "  </thead>\n",
       "  <tbody>\n",
       "    <tr>\n",
       "      <th>0</th>\n",
       "      <td>36</td>\n",
       "      <td>-122.514446</td>\n",
       "      <td>37.779636</td>\n",
       "      <td>-122.513306</td>\n",
       "      <td>37.778732</td>\n",
       "      <td>37.779184</td>\n",
       "      <td>-122.513876</td>\n",
       "      <td>0.0</td>\n",
       "      <td>0.0</td>\n",
       "      <td>0.0</td>\n",
       "      <td>...</td>\n",
       "      <td>0</td>\n",
       "      <td>0</td>\n",
       "      <td>0</td>\n",
       "      <td>0</td>\n",
       "      <td>0</td>\n",
       "      <td>0</td>\n",
       "      <td>0</td>\n",
       "      <td>0</td>\n",
       "      <td>0</td>\n",
       "      <td>0</td>\n",
       "    </tr>\n",
       "    <tr>\n",
       "      <th>1</th>\n",
       "      <td>37</td>\n",
       "      <td>-122.514446</td>\n",
       "      <td>37.778732</td>\n",
       "      <td>-122.513306</td>\n",
       "      <td>37.777829</td>\n",
       "      <td>37.778280</td>\n",
       "      <td>-122.513876</td>\n",
       "      <td>0.0</td>\n",
       "      <td>0.0</td>\n",
       "      <td>0.0</td>\n",
       "      <td>...</td>\n",
       "      <td>0</td>\n",
       "      <td>0</td>\n",
       "      <td>0</td>\n",
       "      <td>0</td>\n",
       "      <td>0</td>\n",
       "      <td>0</td>\n",
       "      <td>0</td>\n",
       "      <td>0</td>\n",
       "      <td>0</td>\n",
       "      <td>0</td>\n",
       "    </tr>\n",
       "    <tr>\n",
       "      <th>2</th>\n",
       "      <td>151</td>\n",
       "      <td>-122.513306</td>\n",
       "      <td>37.779636</td>\n",
       "      <td>-122.512166</td>\n",
       "      <td>37.778732</td>\n",
       "      <td>37.779184</td>\n",
       "      <td>-122.512736</td>\n",
       "      <td>0.0</td>\n",
       "      <td>0.0</td>\n",
       "      <td>0.0</td>\n",
       "      <td>...</td>\n",
       "      <td>0</td>\n",
       "      <td>0</td>\n",
       "      <td>0</td>\n",
       "      <td>0</td>\n",
       "      <td>0</td>\n",
       "      <td>0</td>\n",
       "      <td>0</td>\n",
       "      <td>0</td>\n",
       "      <td>0</td>\n",
       "      <td>0</td>\n",
       "    </tr>\n",
       "    <tr>\n",
       "      <th>3</th>\n",
       "      <td>152</td>\n",
       "      <td>-122.513306</td>\n",
       "      <td>37.778732</td>\n",
       "      <td>-122.512166</td>\n",
       "      <td>37.777829</td>\n",
       "      <td>37.778280</td>\n",
       "      <td>-122.512736</td>\n",
       "      <td>0.0</td>\n",
       "      <td>0.0</td>\n",
       "      <td>0.0</td>\n",
       "      <td>...</td>\n",
       "      <td>0</td>\n",
       "      <td>0</td>\n",
       "      <td>0</td>\n",
       "      <td>0</td>\n",
       "      <td>0</td>\n",
       "      <td>0</td>\n",
       "      <td>0</td>\n",
       "      <td>0</td>\n",
       "      <td>0</td>\n",
       "      <td>0</td>\n",
       "    </tr>\n",
       "    <tr>\n",
       "      <th>4</th>\n",
       "      <td>153</td>\n",
       "      <td>-122.513306</td>\n",
       "      <td>37.777829</td>\n",
       "      <td>-122.512166</td>\n",
       "      <td>37.776925</td>\n",
       "      <td>37.777377</td>\n",
       "      <td>-122.512736</td>\n",
       "      <td>0.0</td>\n",
       "      <td>0.0</td>\n",
       "      <td>0.0</td>\n",
       "      <td>...</td>\n",
       "      <td>0</td>\n",
       "      <td>0</td>\n",
       "      <td>0</td>\n",
       "      <td>0</td>\n",
       "      <td>0</td>\n",
       "      <td>0</td>\n",
       "      <td>0</td>\n",
       "      <td>0</td>\n",
       "      <td>0</td>\n",
       "      <td>0</td>\n",
       "    </tr>\n",
       "  </tbody>\n",
       "</table>\n",
       "<p>5 rows × 53 columns</p>\n",
       "</div>"
      ],
      "text/plain": [
       "   Tile_ID       Long2       Lat2       Long1       Lat1    Mid_lat  \\\n",
       "0       36 -122.514446  37.779636 -122.513306  37.778732  37.779184   \n",
       "1       37 -122.514446  37.778732 -122.513306  37.777829  37.778280   \n",
       "2      151 -122.513306  37.779636 -122.512166  37.778732  37.779184   \n",
       "3      152 -122.513306  37.778732 -122.512166  37.777829  37.778280   \n",
       "4      153 -122.513306  37.777829 -122.512166  37.776925  37.777377   \n",
       "\n",
       "     Mid_long  Stop_Signs  Paving_historical  Paving_future  ...  94129  \\\n",
       "0 -122.513876         0.0                0.0            0.0  ...      0   \n",
       "1 -122.513876         0.0                0.0            0.0  ...      0   \n",
       "2 -122.512736         0.0                0.0            0.0  ...      0   \n",
       "3 -122.512736         0.0                0.0            0.0  ...      0   \n",
       "4 -122.512736         0.0                0.0            0.0  ...      0   \n",
       "\n",
       "   94130  94131 94132  94133  94134  94141  94143  94158  94188  \n",
       "0      0      0     0      0      0      0      0      0      0  \n",
       "1      0      0     0      0      0      0      0      0      0  \n",
       "2      0      0     0      0      0      0      0      0      0  \n",
       "3      0      0     0      0      0      0      0      0      0  \n",
       "4      0      0     0      0      0      0      0      0      0  \n",
       "\n",
       "[5 rows x 53 columns]"
      ]
     },
     "execution_count": 4,
     "metadata": {},
     "output_type": "execute_result"
    }
   ],
   "source": [
    "tiles = pd.read_csv(r'./Data/Tiles_binned_zipcode.csv')\n",
    "tiles.head(5)"
   ]
  },
  {
   "cell_type": "markdown",
   "id": "460f0a51-0215-441f-ba8b-b128c308a998",
   "metadata": {},
   "source": [
    "https://stackoverflow.com/questions/66227003/reverse-geocoding-getting-postal-code-with-geopy-nominatim"
   ]
  },
  {
   "cell_type": "code",
   "execution_count": 5,
   "id": "28a2f0db-5324-4813-939d-1d1179dc68e5",
   "metadata": {
    "tags": []
   },
   "outputs": [],
   "source": [
    "# #!pip3 install geopy\n",
    "# import geopy\n",
    "# import pandas as pd\n",
    "\n",
    "# def get_zipcode(df, geolocator, lat_field, lon_field, attempt=1, max_attempts=100):\n",
    "#     try:\n",
    "#         location = geolocator.reverse((df[lat_field], df[lon_field]), timeout=None)\n",
    "#         return location.raw['address']['postcode']\n",
    "#     except KeyError:\n",
    "#         pass\n",
    "#     except GeocoderTimedOut:\n",
    "#         if attempt <= max_attempts:\n",
    "#             return get_zipcode (df, attempt=attempt+1)\n",
    "#         raise\n",
    "\n",
    "# geolocator = geopy.Nominatim(user_agent='1234')\n",
    "# #geolocator = geopy.Nominatim(user_agent='my-application')\n",
    "\n",
    "# df = pd.DataFrame({\n",
    "#     'Lat': [29.39291, 29.39923, 29.40147, 29.38752, 29.39291, 29.39537, 29.39343, 29.39291, 29.39556],\n",
    "#     'Lon': [-98.50925, -98.51256, -98.51123, -98.52372, -98.50925, -98.50402, -98.49707, -98.50925, -98.53148]\n",
    "# })\n",
    "# zipcodes = df.apply(get_zipcode, axis=1, geolocator=geolocator, lat_field='Lat', lon_field='Lon')"
   ]
  },
  {
   "cell_type": "code",
   "execution_count": 6,
   "id": "e9d87604-d12c-4d93-b51a-9826e685a36d",
   "metadata": {
    "tags": []
   },
   "outputs": [],
   "source": [
    "# zipcodes"
   ]
  },
  {
   "cell_type": "code",
   "execution_count": 7,
   "id": "b6add420-44cd-4a32-9bcb-6a1f974c8cec",
   "metadata": {
    "tags": []
   },
   "outputs": [],
   "source": [
    "#zipcodes1 = tiles.apply(get_zipcode, axis=1, geolocator=geolocator, lat_field='Lat1', lon_field='Long1')"
   ]
  },
  {
   "cell_type": "code",
   "execution_count": 8,
   "id": "939c20e8-e1c1-44d5-93e6-8e8f58280f24",
   "metadata": {
    "tags": []
   },
   "outputs": [],
   "source": [
    "#zipcodes2 = tiles.apply(get_zipcode, axis=1, geolocator=geolocator, lat_field='Lat2', lon_field='Long2')"
   ]
  },
  {
   "cell_type": "code",
   "execution_count": 9,
   "id": "07133d32-9ab7-4145-8b10-a320db87cd4f",
   "metadata": {
    "tags": []
   },
   "outputs": [],
   "source": [
    "#zipcodes3 = tiles.apply(get_zipcode, axis=1, geolocator=geolocator, lat_field='Mid_lat', lon_field='Mid_long')"
   ]
  },
  {
   "cell_type": "code",
   "execution_count": 10,
   "id": "7e18162b-88f8-4b5d-b4c1-e7bd9c3ca7f7",
   "metadata": {
    "tags": []
   },
   "outputs": [
    {
     "data": {
      "text/plain": [
       "Index(['Tile_ID', 'Long2', 'Lat2', 'Long1', 'Lat1', 'Mid_lat', 'Mid_long',\n",
       "       'Stop_Signs', 'Paving_historical', 'Paving_future', 'Bus_stop',\n",
       "       'Collisions_Future', 'Collisions_Historical', 'bin', 'RTTYP_I',\n",
       "       'RTTYP_M', 'RTTYP_O', 'RTTYP_S', 'RTTYP_U', 'Collisions_Future_binary',\n",
       "       'Collisions_Historical_binary', 'bins_numeric', 'zip_code', '94101',\n",
       "       '94102', '94104', '94105', '94107', '94108', '94109', '94110', '94111',\n",
       "       '94112', '94114', '94115', '94116', '94117', '94118', '94121', '94122',\n",
       "       '94123', '94124', '94127', '94129', '94130', '94131', '94132', '94133',\n",
       "       '94134', '94141', '94143', '94158', '94188'],\n",
       "      dtype='object')"
      ]
     },
     "execution_count": 10,
     "metadata": {},
     "output_type": "execute_result"
    }
   ],
   "source": [
    "tiles.columns"
   ]
  },
  {
   "cell_type": "markdown",
   "id": "c3a6b82c",
   "metadata": {},
   "source": [
    "Split into training and test"
   ]
  },
  {
   "cell_type": "code",
   "execution_count": 11,
   "id": "0d50fdd4",
   "metadata": {
    "tags": []
   },
   "outputs": [],
   "source": [
    "x_train, x_test, y_train, y_test = train_test_split(tiles[['Tile_ID', 'Long2', 'Lat2', 'Long1', 'Lat1', 'Mid_lat', 'Mid_long',\n",
    "       'Stop_Signs', 'Paving_historical', 'Paving_future', 'Bus_stop',\n",
    "       'Collisions_Future', 'Collisions_Historical', 'RTTYP_I',\n",
    "       'RTTYP_M', 'RTTYP_O', 'RTTYP_S', 'RTTYP_U', 'Collisions_Future_binary',\n",
    "       'Collisions_Historical_binary', 'bins_numeric', 'zip_code', '94101',\n",
    "       '94102', '94104', '94105', '94107', '94108', '94109', '94110', '94111',\n",
    "       '94112', '94114', '94115', '94116', '94117', '94118', '94121', '94122',\n",
    "       '94123', '94124', '94127', '94129', '94130', '94131', '94132', '94133',\n",
    "       '94134', '94141', '94143', '94158', '94188']], \n",
    "                                   tiles['bin'],\n",
    "                                   random_state=104, \n",
    "                                   test_size=0.20, \n",
    "                                   shuffle=True)"
   ]
  },
  {
   "cell_type": "markdown",
   "id": "bf220283",
   "metadata": {},
   "source": [
    "Image Pre-Processing"
   ]
  },
  {
   "cell_type": "code",
   "execution_count": 12,
   "id": "61669640-63d0-4b53-82ae-15849f63e67e",
   "metadata": {
    "tags": []
   },
   "outputs": [],
   "source": [
    "#eda\n",
    "img = tifffile.imread('../210_Capstone_Aditya_Arisa_Noriel/Satellite Imagery/Satellite Images Tiled/36.tif')[0:148, 0:188, :]\n",
    "img2 = tifffile.imread('../210_Capstone_Aditya_Arisa_Noriel/Satellite Imagery/Satellite Images Tiled/37.tif')[0:148, 0:188, :]"
   ]
  },
  {
   "cell_type": "code",
   "execution_count": 13,
   "id": "346c181d-0bbf-4cb6-a88b-9f8d406932cb",
   "metadata": {
    "tags": []
   },
   "outputs": [
    {
     "name": "stdout",
     "output_type": "stream",
     "text": [
      "(148, 188, 4)\n"
     ]
    }
   ],
   "source": [
    "# eda\n",
    "print(np.shape(img2))"
   ]
  },
  {
   "cell_type": "code",
   "execution_count": 14,
   "id": "6a56357e-96a0-4f1c-b20e-f649146b5458",
   "metadata": {
    "scrolled": true,
    "tags": []
   },
   "outputs": [
    {
     "name": "stdout",
     "output_type": "stream",
     "text": [
      "(2, 148, 188, 4)\n",
      "(2, 148, 188, 4)\n"
     ]
    }
   ],
   "source": [
    "# eda\n",
    "test = []\n",
    "test.append(img[0:148, 0:188, :])\n",
    "test.append(img2[0:148, 0:188, :])\n",
    "print(np.shape(test))\n",
    "test = np.stack(test)\n",
    "print(np.shape(test))"
   ]
  },
  {
   "cell_type": "code",
   "execution_count": 15,
   "id": "58158eed-8426-483f-9986-2bcf254a1d82",
   "metadata": {
    "tags": []
   },
   "outputs": [
    {
     "data": {
      "text/plain": [
       "array([[[185., 177., 160., 130.],\n",
       "        [184., 178., 161., 130.],\n",
       "        [184., 178., 160., 130.],\n",
       "        ...,\n",
       "        [105., 108.,  70., 173.],\n",
       "        [117., 117.,  82., 166.],\n",
       "        [112., 126.,  76., 182.]],\n",
       "\n",
       "       [[184., 178., 161., 131.],\n",
       "        [184., 178., 160., 130.],\n",
       "        [183., 177., 159., 129.],\n",
       "        ...,\n",
       "        [104., 108.,  71., 173.],\n",
       "        [113., 115.,  80., 163.],\n",
       "        [110., 123.,  76., 177.]],\n",
       "\n",
       "       [[183., 178., 159., 128.],\n",
       "        [183., 177., 159., 127.],\n",
       "        [183., 177., 159., 127.],\n",
       "        ...,\n",
       "        [101., 110.,  71., 170.],\n",
       "        [109., 116.,  77., 168.],\n",
       "        [110., 124.,  78., 179.]],\n",
       "\n",
       "       ...,\n",
       "\n",
       "       [[141., 131., 103.,  53.],\n",
       "        [142., 131., 102.,  56.],\n",
       "        [148., 139., 108.,  62.],\n",
       "        ...,\n",
       "        [ 72.,  88.,  51., 101.],\n",
       "        [ 78.,  92.,  54., 109.],\n",
       "        [ 82.,  97.,  56., 116.]],\n",
       "\n",
       "       [[138., 130., 100.,  52.],\n",
       "        [140., 131., 101.,  54.],\n",
       "        [146., 136., 107.,  60.],\n",
       "        ...,\n",
       "        [ 71.,  85.,  51.,  95.],\n",
       "        [ 73.,  86.,  51.,  97.],\n",
       "        [ 71.,  85.,  52.,  93.]],\n",
       "\n",
       "       [[137., 129., 100.,  51.],\n",
       "        [139., 130.,  99.,  53.],\n",
       "        [141., 132., 103.,  57.],\n",
       "        ...,\n",
       "        [ 72.,  89.,  52., 106.],\n",
       "        [ 70.,  86.,  49., 101.],\n",
       "        [ 66.,  81.,  49.,  91.]]], dtype=float32)"
      ]
     },
     "execution_count": 15,
     "metadata": {},
     "output_type": "execute_result"
    }
   ],
   "source": [
    "img"
   ]
  },
  {
   "cell_type": "code",
   "execution_count": 16,
   "id": "8c7fe3ce-ba01-430b-9617-08ba2e611f61",
   "metadata": {
    "tags": []
   },
   "outputs": [
    {
     "data": {
      "text/plain": [
       "array([185., 177., 160., 130.], dtype=float32)"
      ]
     },
     "execution_count": 16,
     "metadata": {},
     "output_type": "execute_result"
    }
   ],
   "source": [
    "img[0][0]"
   ]
  },
  {
   "cell_type": "code",
   "execution_count": 17,
   "id": "bd2ad3db-b629-4b90-8fc4-cbd988e23a22",
   "metadata": {
    "tags": []
   },
   "outputs": [
    {
     "data": {
      "text/plain": [
       "array([174., 130.], dtype=float32)"
      ]
     },
     "execution_count": 17,
     "metadata": {},
     "output_type": "execute_result"
    }
   ],
   "source": [
    "np.array([np.mean(img[0][0][0:3]),img[0][0][3]])"
   ]
  },
  {
   "cell_type": "code",
   "execution_count": 18,
   "id": "1585ab58-1dda-4a29-8039-3e916df8fce4",
   "metadata": {
    "tags": []
   },
   "outputs": [
    {
     "data": {
      "text/plain": [
       "array([[174.      , 130.      ],\n",
       "       [174.33333 , 130.      ],\n",
       "       [174.      , 130.      ],\n",
       "       ...,\n",
       "       [ 71.      , 106.      ],\n",
       "       [ 68.333336, 101.      ],\n",
       "       [ 65.333336,  91.      ]], dtype=float32)"
      ]
     },
     "execution_count": 18,
     "metadata": {},
     "output_type": "execute_result"
    }
   ],
   "source": [
    "img_color = []\n",
    "for i in img:\n",
    "    for j in i:\n",
    "        img_color.append([np.mean(j[0:3]),j[3]])\n",
    "np.array(img_color)"
   ]
  },
  {
   "cell_type": "code",
   "execution_count": 19,
   "id": "9298e629",
   "metadata": {},
   "outputs": [],
   "source": [
    "IMAGE_PATH = './Satellite Imagery/Satellite Images Tiled/' \n",
    "\n",
    "def preprocess_data_part1(IMAGE_PATH):\n",
    "    \"\"\" Generate lists of images and labelsbased on temp_no_refer and temp_refer lists\n",
    "    \n",
    "    Params:\n",
    "    -------\n",
    "    IMAGE_PATH (str): path to directory with images.\n",
    "    \n",
    "    Returns:\n",
    "    --------\n",
    "    images_mini  (np.ndarray): Images of shape (N, 149 3)\n",
    "    \"\"\"\n",
    "    \n",
    "    data_mini = []\n",
    "    \n",
    "    for id in x_train['Tile_ID']:    \n",
    "                    \n",
    "        # read image and store as matrix            \n",
    "        # Index at the end makes all images the same size (they sometimes differ by 1 pixel)\n",
    "        image = tifffile.imread(IMAGE_PATH + str(id) + '.tif')[0:148, 0:188, :]\n",
    "            \n",
    "        # append to images\n",
    "        data_mini.append(image)\n",
    " \n",
    "    # stack images and trasnform to array\n",
    "    images_mini = np.stack(data_mini)\n",
    "    \n",
    "    return images_mini"
   ]
  },
  {
   "cell_type": "code",
   "execution_count": 20,
   "id": "4d8f77ae",
   "metadata": {},
   "outputs": [
    {
     "data": {
      "text/plain": [
       "(8376, 148, 188, 4)"
      ]
     },
     "execution_count": 20,
     "metadata": {},
     "output_type": "execute_result"
    }
   ],
   "source": [
    "images_mini = preprocess_data_part1(IMAGE_PATH)\n",
    "np.shape(images_mini)"
   ]
  },
  {
   "cell_type": "code",
   "execution_count": 21,
   "id": "362194c3-7afe-421b-baa8-cf7e1aae09dc",
   "metadata": {
    "tags": []
   },
   "outputs": [],
   "source": [
    "#images_mini"
   ]
  },
  {
   "cell_type": "code",
   "execution_count": 22,
   "id": "a76dfafa-09cf-4eb9-aa03-0c701fb4a69f",
   "metadata": {
    "tags": []
   },
   "outputs": [],
   "source": [
    "# def preprocess_data_part2(IMAGE_ARRAY):\n",
    "    \n",
    "#     images_mini_list1 = []\n",
    "    \n",
    "#     for i in IMAGE_ARRAY:\n",
    "#         for j in i:\n",
    "#             for k in j:\n",
    "#                 images_mini_list1.append([np.mean(k[0:3]),k[3]])\n",
    "    \n",
    "#     #images_mini = np.stack(images_mini_list1)\n",
    "    \n",
    "#     return images_mini_list1\n",
    "#     #     #img_color.append([np.mean(j[0:3]),j[3]])"
   ]
  },
  {
   "cell_type": "code",
   "execution_count": 23,
   "id": "ef6ba807-7ff7-49e6-863d-c244e7fdaee0",
   "metadata": {
    "tags": []
   },
   "outputs": [],
   "source": [
    "# images_mini2 = preprocess_data_part2(images_mini)\n",
    "# np.shape(images_mini2)"
   ]
  },
  {
   "cell_type": "code",
   "execution_count": 24,
   "id": "3dd3c9e0-1c1c-41b7-b3a4-1e3ff2147887",
   "metadata": {
    "tags": []
   },
   "outputs": [],
   "source": [
    "# images_mini2"
   ]
  },
  {
   "cell_type": "code",
   "execution_count": 25,
   "id": "160d36fe-eadd-4e9b-8390-4c517688f668",
   "metadata": {
    "tags": []
   },
   "outputs": [],
   "source": [
    "# images_mini_list2 = []\n",
    "# for i in images_mini_list1:\n",
    "#     images_mini_list1.append(i)"
   ]
  },
  {
   "cell_type": "code",
   "execution_count": 26,
   "id": "d5ac5357-2622-4312-bc88-901dcfb927d5",
   "metadata": {
    "tags": []
   },
   "outputs": [],
   "source": [
    "# images_mini_list2[0]"
   ]
  },
  {
   "cell_type": "code",
   "execution_count": 27,
   "id": "6f57a2cd-0af1-44ad-8279-e2bc591a1faa",
   "metadata": {
    "tags": []
   },
   "outputs": [],
   "source": [
    "image_mini1=images_mini.reshape(8376*111296)"
   ]
  },
  {
   "cell_type": "code",
   "execution_count": 28,
   "id": "46bdff36-602e-4423-a8d9-a98462dc0c7d",
   "metadata": {
    "tags": []
   },
   "outputs": [
    {
     "data": {
      "text/plain": [
       "array([167., 165., 154., ..., 112., 113.,  34.], dtype=float32)"
      ]
     },
     "execution_count": 28,
     "metadata": {},
     "output_type": "execute_result"
    }
   ],
   "source": [
    "image_mini1"
   ]
  },
  {
   "cell_type": "code",
   "execution_count": 29,
   "id": "12e709a5-f10a-4b77-943d-8d05ced7a8e9",
   "metadata": {
    "tags": []
   },
   "outputs": [
    {
     "data": {
      "text/plain": [
       "array([167., 165., 154.,  91., 165., 163., 154., 103., 143., 141., 133.,\n",
       "        70., 138., 135., 126.,  61., 137., 135., 126.,  60.],\n",
       "      dtype=float32)"
      ]
     },
     "execution_count": 29,
     "metadata": {},
     "output_type": "execute_result"
    }
   ],
   "source": [
    "image_mini1[0:20]"
   ]
  },
  {
   "cell_type": "code",
   "execution_count": 30,
   "id": "5096d97a-3611-4419-847c-5c439eef5f81",
   "metadata": {
    "tags": []
   },
   "outputs": [],
   "source": [
    "image_mini_1s = image_mini1[0::4]\n",
    "image_mini_2s = image_mini1[1::4]\n",
    "image_mini_3s = image_mini1[2::4]\n",
    "image_mini_4s = image_mini1[3::4]"
   ]
  },
  {
   "cell_type": "code",
   "execution_count": 31,
   "id": "46808463-e6cd-49f9-80a5-6e3c74c834f5",
   "metadata": {
    "tags": []
   },
   "outputs": [
    {
     "data": {
      "text/plain": [
       "167.0"
      ]
     },
     "execution_count": 31,
     "metadata": {},
     "output_type": "execute_result"
    }
   ],
   "source": [
    "image_mini_1s[0]"
   ]
  },
  {
   "cell_type": "code",
   "execution_count": 32,
   "id": "4345b352-2ca2-4a2a-a0c8-23c33ae7f96c",
   "metadata": {
    "tags": []
   },
   "outputs": [
    {
     "data": {
      "text/plain": [
       "165.0"
      ]
     },
     "execution_count": 32,
     "metadata": {},
     "output_type": "execute_result"
    }
   ],
   "source": [
    "image_mini_2s[0]"
   ]
  },
  {
   "cell_type": "code",
   "execution_count": 33,
   "id": "174d433d-3991-4ea2-bdc5-c7067e0152fe",
   "metadata": {
    "tags": []
   },
   "outputs": [
    {
     "data": {
      "text/plain": [
       "154.0"
      ]
     },
     "execution_count": 33,
     "metadata": {},
     "output_type": "execute_result"
    }
   ],
   "source": [
    "image_mini_3s[0]"
   ]
  },
  {
   "cell_type": "code",
   "execution_count": 34,
   "id": "be0c908c-1c69-4511-a0ed-1088dc52795d",
   "metadata": {
    "tags": []
   },
   "outputs": [
    {
     "data": {
      "text/plain": [
       "91.0"
      ]
     },
     "execution_count": 34,
     "metadata": {},
     "output_type": "execute_result"
    }
   ],
   "source": [
    "image_mini_4s[0]"
   ]
  },
  {
   "cell_type": "code",
   "execution_count": 35,
   "id": "60456c90-ddc5-421f-b44e-9397f91cda1f",
   "metadata": {
    "tags": []
   },
   "outputs": [
    {
     "data": {
      "text/plain": [
       "True"
      ]
     },
     "execution_count": 35,
     "metadata": {},
     "output_type": "execute_result"
    }
   ],
   "source": [
    "len(image_mini_1s) == 8376*111296/4"
   ]
  },
  {
   "cell_type": "code",
   "execution_count": 36,
   "id": "3c7d2c67-59be-4286-995e-5fa471258cbb",
   "metadata": {
    "tags": []
   },
   "outputs": [
    {
     "data": {
      "text/plain": [
       "233053824"
      ]
     },
     "execution_count": 36,
     "metadata": {},
     "output_type": "execute_result"
    }
   ],
   "source": [
    "len(image_mini_1s)"
   ]
  },
  {
   "cell_type": "code",
   "execution_count": 37,
   "id": "06fef3a5-a28b-4356-9c5b-fbfb81b8a26b",
   "metadata": {
    "tags": []
   },
   "outputs": [],
   "source": [
    "image_mini_123s = np.hstack((image_mini_1s, image_mini_2s, image_mini_3s))"
   ]
  },
  {
   "cell_type": "code",
   "execution_count": 38,
   "id": "b13d5d56-0864-4aaa-bd64-5b2c5c116b6e",
   "metadata": {
    "tags": []
   },
   "outputs": [
    {
     "data": {
      "text/plain": [
       "233053824.0"
      ]
     },
     "execution_count": 38,
     "metadata": {},
     "output_type": "execute_result"
    }
   ],
   "source": [
    "len(image_mini_123s)/3"
   ]
  },
  {
   "cell_type": "code",
   "execution_count": 39,
   "id": "10519e76-1250-40e9-9853-75acac7242f1",
   "metadata": {
    "tags": []
   },
   "outputs": [
    {
     "data": {
      "text/plain": [
       "[167.0, 165.0, 154.0]"
      ]
     },
     "execution_count": 39,
     "metadata": {},
     "output_type": "execute_result"
    }
   ],
   "source": [
    "n=int(len(image_mini_123s)/3)\n",
    "[image_mini_123s[0], image_mini_123s[n], image_mini_123s[2*n]]"
   ]
  },
  {
   "cell_type": "code",
   "execution_count": 40,
   "id": "d29a3329-8265-4cae-9313-81e9c76d3af5",
   "metadata": {
    "tags": []
   },
   "outputs": [],
   "source": [
    "# n=int(len(image_mini_123s)/3)\n",
    "# for i in range(n):\n",
    "#     print(int(image_mini_123s[i]), int(image_mini_123s[n+i]), int(image_mini_123s[2*n+i]))"
   ]
  },
  {
   "cell_type": "code",
   "execution_count": null,
   "id": "7d4289ef-5f0e-4f66-8c84-1e92e06248f9",
   "metadata": {
    "tags": []
   },
   "outputs": [],
   "source": [
    "n=int(len(image_mini_123s)/3)\n",
    "image_mini_123s_avg=[]\n",
    "for i in range(n):\n",
    "    image_mini_123s_avg.append((int(image_mini_123s[i]) \n",
    "                                + int(image_mini_123s[n+i]) \n",
    "                                +int(image_mini_123s[2*n+i]))/3)"
   ]
  },
  {
   "cell_type": "code",
   "execution_count": null,
   "id": "55290852-3c18-4963-ae1e-3b4bf1cdb1a4",
   "metadata": {},
   "outputs": [],
   "source": [
    "image_mini_123s_avg=np.array(image_mini_123s_avg)"
   ]
  },
  {
   "cell_type": "markdown",
   "id": "57135842",
   "metadata": {},
   "source": [
    "Street Data Pre-Processing"
   ]
  },
  {
   "cell_type": "code",
   "execution_count": 18,
   "id": "8dce0686",
   "metadata": {
    "tags": []
   },
   "outputs": [
    {
     "data": {
      "text/plain": [
       "(8376, 1, 1, 9)"
      ]
     },
     "execution_count": 18,
     "metadata": {},
     "output_type": "execute_result"
    }
   ],
   "source": [
    "street = np.asarray(x_train[['Tile_ID', 'Mid_lat', 'Mid_long',\n",
    "       'Stop_Signs', 'Paving_historical', 'Paving_future', 'Bus_stop',\n",
    "       'Collisions_Future', 'Collisions_Historical']]).astype('float32')\n",
    "street_mini = []\n",
    "for row in range(len(street)):\n",
    "    street_mini.append([[street[row]]])\n",
    "street_mini = np.stack(street_mini)\n",
    "np.shape(street_mini)"
   ]
  },
  {
   "cell_type": "code",
   "execution_count": 19,
   "id": "c28b0428-174b-4e10-b151-1354cf44bf79",
   "metadata": {
    "tags": []
   },
   "outputs": [
    {
     "data": {
      "text/plain": [
       "(2095, 1, 1, 9)"
      ]
     },
     "execution_count": 19,
     "metadata": {},
     "output_type": "execute_result"
    }
   ],
   "source": [
    "street_t = np.asarray(x_test[['Tile_ID', 'Mid_lat', 'Mid_long',\n",
    "       'Stop_Signs', 'Paving_historical', 'Paving_future', 'Bus_stop',\n",
    "       'Collisions_Future', 'Collisions_Historical']]).astype('float32')\n",
    "street_mini_t = []\n",
    "for row in range(len(street_t)):\n",
    "    street_mini_t.append([[street_t[row]]])\n",
    "street_mini_t = np.stack(street_mini_t)\n",
    "np.shape(street_mini_t)"
   ]
  },
  {
   "cell_type": "markdown",
   "id": "99ae0d0a-47df-45ce-8bd4-9c31ed9d0cc3",
   "metadata": {},
   "source": [
    "**Noriel's Models**"
   ]
  },
  {
   "cell_type": "code",
   "execution_count": 38,
   "id": "ea7d7f38-92f3-4993-89a5-1a97b79168c7",
   "metadata": {
    "tags": []
   },
   "outputs": [
    {
     "data": {
      "text/plain": [
       "(8376, 1, 1, 9)"
      ]
     },
     "execution_count": 38,
     "metadata": {},
     "output_type": "execute_result"
    }
   ],
   "source": [
    "np.shape(street_mini)"
   ]
  },
  {
   "cell_type": "code",
   "execution_count": 39,
   "id": "fcaa6128-f08b-4230-8945-bb60610c4f01",
   "metadata": {
    "tags": []
   },
   "outputs": [
    {
     "data": {
      "text/plain": [
       "(8376, 148, 188, 4)"
      ]
     },
     "execution_count": 39,
     "metadata": {},
     "output_type": "execute_result"
    }
   ],
   "source": [
    "np.shape(images_mini)"
   ]
  },
  {
   "cell_type": "code",
   "execution_count": 40,
   "id": "c5275800-edf8-4225-a07c-998b25870208",
   "metadata": {
    "tags": []
   },
   "outputs": [],
   "source": [
    "input_image_street = np.hstack(\n",
    "    (street_mini.reshape((8376,9)),\n",
    "     images_mini.reshape(8376,111296))\n",
    ")"
   ]
  },
  {
   "cell_type": "code",
   "execution_count": 20,
   "id": "d2677cbd-a7b1-4e7b-91d7-532bac37cee4",
   "metadata": {
    "tags": []
   },
   "outputs": [],
   "source": [
    "import math\n",
    "import matplotlib\n",
    "import matplotlib.pyplot as plt\n",
    "\n",
    "import numpy as np\n",
    "from numba import cuda \n",
    "\n",
    "import os\n",
    "\n",
    "import pandas as pd\n",
    "\n",
    "import tensorflow as tf\n",
    "import tensorflow_addons as tfa\n",
    "import tensorflow_decision_forests as tfdf\n",
    "import tifffile\n",
    "from keras.layers import Flatten, Dense, Dropout\n",
    "from tensorflow import keras\n",
    "from tensorflow.keras import layers\n",
    "from tensorflow.keras.layers import concatenate\n",
    "\n",
    "\n",
    "import scipy\n",
    "from sklearn import preprocessing\n",
    "from sklearn.model_selection import train_test_split\n",
    "from sklearn.preprocessing import LabelBinarizer"
   ]
  },
  {
   "cell_type": "code",
   "execution_count": 21,
   "id": "b6335f7f-ee80-4aba-a63e-939320dfb117",
   "metadata": {
    "tags": []
   },
   "outputs": [],
   "source": [
    "#[images_mini, street_mini]"
   ]
  },
  {
   "cell_type": "code",
   "execution_count": null,
   "id": "03a910ea-340e-4e99-a626-7187735f8f12",
   "metadata": {
    "tags": []
   },
   "outputs": [],
   "source": [
    "pd.DataFrame(images_mini)"
   ]
  },
  {
   "cell_type": "code",
   "execution_count": 22,
   "id": "a13e660c-d9ed-4991-ba6a-c0cece399b50",
   "metadata": {},
   "outputs": [
    {
     "data": {
      "text/plain": [
       "8419     C\n",
       "10129    B\n",
       "7641     A\n",
       "5215     A\n",
       "7784     A\n",
       "        ..\n",
       "6310     B\n",
       "8846     B\n",
       "729      A\n",
       "5825     A\n",
       "8261     B\n",
       "Name: bin, Length: 8376, dtype: object"
      ]
     },
     "execution_count": 22,
     "metadata": {},
     "output_type": "execute_result"
    }
   ],
   "source": [
    "y_train"
   ]
  },
  {
   "cell_type": "code",
   "execution_count": 23,
   "id": "7217a2b4-a4fb-4407-8f08-cf72e15cdbfa",
   "metadata": {
    "tags": []
   },
   "outputs": [],
   "source": [
    "le = preprocessing.LabelEncoder()\n",
    "le.fit(y_train)\n",
    "y_train = le.transform(y_train)"
   ]
  },
  {
   "cell_type": "code",
   "execution_count": 24,
   "id": "2e009aa6-17b0-4b25-a570-aba1ce6100ae",
   "metadata": {
    "tags": []
   },
   "outputs": [
    {
     "data": {
      "text/plain": [
       "array([2, 1, 0, ..., 0, 0, 1])"
      ]
     },
     "execution_count": 24,
     "metadata": {},
     "output_type": "execute_result"
    }
   ],
   "source": [
    "y_train"
   ]
  },
  {
   "cell_type": "code",
   "execution_count": 45,
   "id": "d3c59de5-593f-420d-9ad8-f73547eaf9ac",
   "metadata": {
    "tags": []
   },
   "outputs": [
    {
     "data": {
      "text/html": [
       "<div>\n",
       "<style scoped>\n",
       "    .dataframe tbody tr th:only-of-type {\n",
       "        vertical-align: middle;\n",
       "    }\n",
       "\n",
       "    .dataframe tbody tr th {\n",
       "        vertical-align: top;\n",
       "    }\n",
       "\n",
       "    .dataframe thead th {\n",
       "        text-align: right;\n",
       "    }\n",
       "</style>\n",
       "<table border=\"1\" class=\"dataframe\">\n",
       "  <thead>\n",
       "    <tr style=\"text-align: right;\">\n",
       "      <th></th>\n",
       "      <th>0</th>\n",
       "      <th>1</th>\n",
       "      <th>2</th>\n",
       "      <th>3</th>\n",
       "      <th>4</th>\n",
       "      <th>5</th>\n",
       "      <th>6</th>\n",
       "      <th>7</th>\n",
       "      <th>8</th>\n",
       "      <th>9</th>\n",
       "      <th>...</th>\n",
       "      <th>111295</th>\n",
       "      <th>111296</th>\n",
       "      <th>111297</th>\n",
       "      <th>111298</th>\n",
       "      <th>111299</th>\n",
       "      <th>111300</th>\n",
       "      <th>111301</th>\n",
       "      <th>111302</th>\n",
       "      <th>111303</th>\n",
       "      <th>111304</th>\n",
       "    </tr>\n",
       "  </thead>\n",
       "  <tbody>\n",
       "    <tr>\n",
       "      <th>0</th>\n",
       "      <td>10993.0</td>\n",
       "      <td>37.750271</td>\n",
       "      <td>-122.405563</td>\n",
       "      <td>0.0</td>\n",
       "      <td>0.0</td>\n",
       "      <td>0.0</td>\n",
       "      <td>0.0</td>\n",
       "      <td>3.0</td>\n",
       "      <td>2.0</td>\n",
       "      <td>167.0</td>\n",
       "      <td>...</td>\n",
       "      <td>84.0</td>\n",
       "      <td>129.0</td>\n",
       "      <td>158.0</td>\n",
       "      <td>154.0</td>\n",
       "      <td>104.0</td>\n",
       "      <td>175.0</td>\n",
       "      <td>149.0</td>\n",
       "      <td>145.0</td>\n",
       "      <td>106.0</td>\n",
       "      <td>177.0</td>\n",
       "    </tr>\n",
       "    <tr>\n",
       "      <th>1</th>\n",
       "      <td>13338.0</td>\n",
       "      <td>37.709606</td>\n",
       "      <td>-122.382767</td>\n",
       "      <td>0.0</td>\n",
       "      <td>0.0</td>\n",
       "      <td>0.0</td>\n",
       "      <td>0.0</td>\n",
       "      <td>1.0</td>\n",
       "      <td>0.0</td>\n",
       "      <td>142.0</td>\n",
       "      <td>...</td>\n",
       "      <td>114.0</td>\n",
       "      <td>118.0</td>\n",
       "      <td>147.0</td>\n",
       "      <td>141.0</td>\n",
       "      <td>113.0</td>\n",
       "      <td>132.0</td>\n",
       "      <td>155.0</td>\n",
       "      <td>147.0</td>\n",
       "      <td>119.0</td>\n",
       "      <td>130.0</td>\n",
       "    </tr>\n",
       "    <tr>\n",
       "      <th>2</th>\n",
       "      <td>10163.0</td>\n",
       "      <td>37.772858</td>\n",
       "      <td>-122.413544</td>\n",
       "      <td>0.0</td>\n",
       "      <td>0.0</td>\n",
       "      <td>0.0</td>\n",
       "      <td>0.0</td>\n",
       "      <td>0.0</td>\n",
       "      <td>0.0</td>\n",
       "      <td>191.0</td>\n",
       "      <td>...</td>\n",
       "      <td>161.0</td>\n",
       "      <td>112.0</td>\n",
       "      <td>166.0</td>\n",
       "      <td>169.0</td>\n",
       "      <td>159.0</td>\n",
       "      <td>107.0</td>\n",
       "      <td>173.0</td>\n",
       "      <td>172.0</td>\n",
       "      <td>163.0</td>\n",
       "      <td>120.0</td>\n",
       "    </tr>\n",
       "    <tr>\n",
       "      <th>3</th>\n",
       "      <td>7523.0</td>\n",
       "      <td>37.768341</td>\n",
       "      <td>-122.439766</td>\n",
       "      <td>1.0</td>\n",
       "      <td>0.0</td>\n",
       "      <td>0.0</td>\n",
       "      <td>1.0</td>\n",
       "      <td>0.0</td>\n",
       "      <td>0.0</td>\n",
       "      <td>60.0</td>\n",
       "      <td>...</td>\n",
       "      <td>52.0</td>\n",
       "      <td>98.0</td>\n",
       "      <td>64.0</td>\n",
       "      <td>81.0</td>\n",
       "      <td>55.0</td>\n",
       "      <td>101.0</td>\n",
       "      <td>54.0</td>\n",
       "      <td>66.0</td>\n",
       "      <td>49.0</td>\n",
       "      <td>78.0</td>\n",
       "    </tr>\n",
       "    <tr>\n",
       "      <th>4</th>\n",
       "      <td>10314.0</td>\n",
       "      <td>37.740330</td>\n",
       "      <td>-122.412407</td>\n",
       "      <td>2.0</td>\n",
       "      <td>0.0</td>\n",
       "      <td>0.0</td>\n",
       "      <td>0.0</td>\n",
       "      <td>0.0</td>\n",
       "      <td>0.0</td>\n",
       "      <td>47.0</td>\n",
       "      <td>...</td>\n",
       "      <td>60.0</td>\n",
       "      <td>26.0</td>\n",
       "      <td>53.0</td>\n",
       "      <td>64.0</td>\n",
       "      <td>57.0</td>\n",
       "      <td>32.0</td>\n",
       "      <td>60.0</td>\n",
       "      <td>68.0</td>\n",
       "      <td>61.0</td>\n",
       "      <td>36.0</td>\n",
       "    </tr>\n",
       "    <tr>\n",
       "      <th>...</th>\n",
       "      <td>...</td>\n",
       "      <td>...</td>\n",
       "      <td>...</td>\n",
       "      <td>...</td>\n",
       "      <td>...</td>\n",
       "      <td>...</td>\n",
       "      <td>...</td>\n",
       "      <td>...</td>\n",
       "      <td>...</td>\n",
       "      <td>...</td>\n",
       "      <td>...</td>\n",
       "      <td>...</td>\n",
       "      <td>...</td>\n",
       "      <td>...</td>\n",
       "      <td>...</td>\n",
       "      <td>...</td>\n",
       "      <td>...</td>\n",
       "      <td>...</td>\n",
       "      <td>...</td>\n",
       "      <td>...</td>\n",
       "      <td>...</td>\n",
       "    </tr>\n",
       "    <tr>\n",
       "      <th>8371</th>\n",
       "      <td>8701.0</td>\n",
       "      <td>37.743038</td>\n",
       "      <td>-122.428368</td>\n",
       "      <td>4.0</td>\n",
       "      <td>0.0</td>\n",
       "      <td>3.0</td>\n",
       "      <td>0.0</td>\n",
       "      <td>1.0</td>\n",
       "      <td>0.0</td>\n",
       "      <td>168.0</td>\n",
       "      <td>...</td>\n",
       "      <td>159.0</td>\n",
       "      <td>122.0</td>\n",
       "      <td>185.0</td>\n",
       "      <td>182.0</td>\n",
       "      <td>168.0</td>\n",
       "      <td>128.0</td>\n",
       "      <td>182.0</td>\n",
       "      <td>174.0</td>\n",
       "      <td>163.0</td>\n",
       "      <td>118.0</td>\n",
       "    </tr>\n",
       "    <tr>\n",
       "      <th>8372</th>\n",
       "      <td>11464.0</td>\n",
       "      <td>37.740330</td>\n",
       "      <td>-122.401001</td>\n",
       "      <td>0.0</td>\n",
       "      <td>1.0</td>\n",
       "      <td>2.0</td>\n",
       "      <td>0.0</td>\n",
       "      <td>1.0</td>\n",
       "      <td>0.0</td>\n",
       "      <td>187.0</td>\n",
       "      <td>...</td>\n",
       "      <td>81.0</td>\n",
       "      <td>26.0</td>\n",
       "      <td>69.0</td>\n",
       "      <td>79.0</td>\n",
       "      <td>76.0</td>\n",
       "      <td>37.0</td>\n",
       "      <td>86.0</td>\n",
       "      <td>89.0</td>\n",
       "      <td>76.0</td>\n",
       "      <td>78.0</td>\n",
       "    </tr>\n",
       "    <tr>\n",
       "      <th>8373</th>\n",
       "      <td>1831.0</td>\n",
       "      <td>37.715931</td>\n",
       "      <td>-122.496773</td>\n",
       "      <td>0.0</td>\n",
       "      <td>0.0</td>\n",
       "      <td>0.0</td>\n",
       "      <td>0.0</td>\n",
       "      <td>0.0</td>\n",
       "      <td>0.0</td>\n",
       "      <td>209.0</td>\n",
       "      <td>...</td>\n",
       "      <td>59.0</td>\n",
       "      <td>72.0</td>\n",
       "      <td>73.0</td>\n",
       "      <td>72.0</td>\n",
       "      <td>59.0</td>\n",
       "      <td>66.0</td>\n",
       "      <td>74.0</td>\n",
       "      <td>71.0</td>\n",
       "      <td>56.0</td>\n",
       "      <td>73.0</td>\n",
       "    </tr>\n",
       "    <tr>\n",
       "      <th>8374</th>\n",
       "      <td>8179.0</td>\n",
       "      <td>37.799065</td>\n",
       "      <td>-122.432930</td>\n",
       "      <td>4.0</td>\n",
       "      <td>6.0</td>\n",
       "      <td>0.0</td>\n",
       "      <td>0.0</td>\n",
       "      <td>0.0</td>\n",
       "      <td>1.0</td>\n",
       "      <td>130.0</td>\n",
       "      <td>...</td>\n",
       "      <td>110.0</td>\n",
       "      <td>45.0</td>\n",
       "      <td>138.0</td>\n",
       "      <td>123.0</td>\n",
       "      <td>116.0</td>\n",
       "      <td>56.0</td>\n",
       "      <td>166.0</td>\n",
       "      <td>164.0</td>\n",
       "      <td>146.0</td>\n",
       "      <td>84.0</td>\n",
       "    </tr>\n",
       "    <tr>\n",
       "      <th>8375</th>\n",
       "      <td>10826.0</td>\n",
       "      <td>37.797256</td>\n",
       "      <td>-122.406708</td>\n",
       "      <td>0.0</td>\n",
       "      <td>0.0</td>\n",
       "      <td>0.0</td>\n",
       "      <td>1.0</td>\n",
       "      <td>2.0</td>\n",
       "      <td>2.0</td>\n",
       "      <td>171.0</td>\n",
       "      <td>...</td>\n",
       "      <td>123.0</td>\n",
       "      <td>40.0</td>\n",
       "      <td>104.0</td>\n",
       "      <td>111.0</td>\n",
       "      <td>112.0</td>\n",
       "      <td>35.0</td>\n",
       "      <td>103.0</td>\n",
       "      <td>112.0</td>\n",
       "      <td>113.0</td>\n",
       "      <td>34.0</td>\n",
       "    </tr>\n",
       "  </tbody>\n",
       "</table>\n",
       "<p>8376 rows × 111305 columns</p>\n",
       "</div>"
      ],
      "text/plain": [
       "       0          1           2       3       4       5       6       7       \\\n",
       "0     10993.0  37.750271 -122.405563     0.0     0.0     0.0     0.0     3.0   \n",
       "1     13338.0  37.709606 -122.382767     0.0     0.0     0.0     0.0     1.0   \n",
       "2     10163.0  37.772858 -122.413544     0.0     0.0     0.0     0.0     0.0   \n",
       "3      7523.0  37.768341 -122.439766     1.0     0.0     0.0     1.0     0.0   \n",
       "4     10314.0  37.740330 -122.412407     2.0     0.0     0.0     0.0     0.0   \n",
       "...       ...        ...         ...     ...     ...     ...     ...     ...   \n",
       "8371   8701.0  37.743038 -122.428368     4.0     0.0     3.0     0.0     1.0   \n",
       "8372  11464.0  37.740330 -122.401001     0.0     1.0     2.0     0.0     1.0   \n",
       "8373   1831.0  37.715931 -122.496773     0.0     0.0     0.0     0.0     0.0   \n",
       "8374   8179.0  37.799065 -122.432930     4.0     6.0     0.0     0.0     0.0   \n",
       "8375  10826.0  37.797256 -122.406708     0.0     0.0     0.0     1.0     2.0   \n",
       "\n",
       "      8       9       ...  111295  111296  111297  111298  111299  111300  \\\n",
       "0        2.0   167.0  ...    84.0   129.0   158.0   154.0   104.0   175.0   \n",
       "1        0.0   142.0  ...   114.0   118.0   147.0   141.0   113.0   132.0   \n",
       "2        0.0   191.0  ...   161.0   112.0   166.0   169.0   159.0   107.0   \n",
       "3        0.0    60.0  ...    52.0    98.0    64.0    81.0    55.0   101.0   \n",
       "4        0.0    47.0  ...    60.0    26.0    53.0    64.0    57.0    32.0   \n",
       "...      ...     ...  ...     ...     ...     ...     ...     ...     ...   \n",
       "8371     0.0   168.0  ...   159.0   122.0   185.0   182.0   168.0   128.0   \n",
       "8372     0.0   187.0  ...    81.0    26.0    69.0    79.0    76.0    37.0   \n",
       "8373     0.0   209.0  ...    59.0    72.0    73.0    72.0    59.0    66.0   \n",
       "8374     1.0   130.0  ...   110.0    45.0   138.0   123.0   116.0    56.0   \n",
       "8375     2.0   171.0  ...   123.0    40.0   104.0   111.0   112.0    35.0   \n",
       "\n",
       "      111301  111302  111303  111304  \n",
       "0      149.0   145.0   106.0   177.0  \n",
       "1      155.0   147.0   119.0   130.0  \n",
       "2      173.0   172.0   163.0   120.0  \n",
       "3       54.0    66.0    49.0    78.0  \n",
       "4       60.0    68.0    61.0    36.0  \n",
       "...      ...     ...     ...     ...  \n",
       "8371   182.0   174.0   163.0   118.0  \n",
       "8372    86.0    89.0    76.0    78.0  \n",
       "8373    74.0    71.0    56.0    73.0  \n",
       "8374   166.0   164.0   146.0    84.0  \n",
       "8375   103.0   112.0   113.0    34.0  \n",
       "\n",
       "[8376 rows x 111305 columns]"
      ]
     },
     "execution_count": 45,
     "metadata": {},
     "output_type": "execute_result"
    }
   ],
   "source": [
    "pd.DataFrame(input_image_street)"
   ]
  },
  {
   "cell_type": "code",
   "execution_count": null,
   "id": "b9f4f0f7-a7dc-43f6-94db-d59f5b204b2f",
   "metadata": {
    "tags": []
   },
   "outputs": [
    {
     "name": "stdout",
     "output_type": "stream",
     "text": [
      "Use /tmp/tmp0k3y6ehj as temporary training directory\n",
      "Reading training dataset...\n"
     ]
    },
    {
     "name": "stderr",
     "output_type": "stream",
     "text": [
      "2023-03-19 22:22:46.243451: W tensorflow/tsl/framework/cpu_allocator_impl.cc:82] Allocation of 3729162720 exceeds 10% of free system memory.\n"
     ]
    }
   ],
   "source": [
    "rf_model = tfdf.keras.RandomForestModel(categorical_algorithm = 'CART', num_trees=100)\n",
    "\n",
    "rf_model.fit(input_image_street,\n",
    "    y_train,\n",
    "    #validation_data=[x_test[['Collisions_Historical', 'Mid_lat','Mid_long', 'Stop_Signs', 'Paving_historical', 'Bus_stop']], y_test],     \n",
    "    epochs=1,\n",
    "    verbose=1)"
   ]
  },
  {
   "cell_type": "code",
   "execution_count": 32,
   "id": "14110520-7657-467c-83af-ca78d8e431de",
   "metadata": {
    "tags": []
   },
   "outputs": [
    {
     "name": "stdout",
     "output_type": "stream",
     "text": [
      "Model: \"random_forest_model_1\"\n",
      "_________________________________________________________________\n",
      " Layer (type)                Output Shape              Param #   \n",
      "=================================================================\n",
      "=================================================================\n",
      "Total params: 1\n",
      "Trainable params: 0\n",
      "Non-trainable params: 1\n",
      "_________________________________________________________________\n",
      "Type: \"RANDOM_FOREST\"\n",
      "Task: CLASSIFICATION\n",
      "Label: \"__LABEL\"\n",
      "\n",
      "Input Features (47):\n",
      "\tdata:0.0\n",
      "\tdata:0.1\n",
      "\tdata:0.10\n",
      "\tdata:0.11\n",
      "\tdata:0.12\n",
      "\tdata:0.13\n",
      "\tdata:0.14\n",
      "\tdata:0.15\n",
      "\tdata:0.16\n",
      "\tdata:0.17\n",
      "\tdata:0.18\n",
      "\tdata:0.19\n",
      "\tdata:0.2\n",
      "\tdata:0.20\n",
      "\tdata:0.21\n",
      "\tdata:0.22\n",
      "\tdata:0.23\n",
      "\tdata:0.24\n",
      "\tdata:0.25\n",
      "\tdata:0.26\n",
      "\tdata:0.27\n",
      "\tdata:0.28\n",
      "\tdata:0.29\n",
      "\tdata:0.3\n",
      "\tdata:0.30\n",
      "\tdata:0.31\n",
      "\tdata:0.32\n",
      "\tdata:0.33\n",
      "\tdata:0.34\n",
      "\tdata:0.35\n",
      "\tdata:0.36\n",
      "\tdata:0.37\n",
      "\tdata:0.38\n",
      "\tdata:0.39\n",
      "\tdata:0.4\n",
      "\tdata:0.40\n",
      "\tdata:0.41\n",
      "\tdata:0.42\n",
      "\tdata:0.43\n",
      "\tdata:0.44\n",
      "\tdata:0.45\n",
      "\tdata:0.46\n",
      "\tdata:0.5\n",
      "\tdata:0.6\n",
      "\tdata:0.7\n",
      "\tdata:0.8\n",
      "\tdata:0.9\n",
      "\n",
      "No weights\n",
      "\n",
      "Variable Importance: INV_MEAN_MIN_DEPTH:\n",
      "    1. \"data:0.20\"  0.216889 ################\n",
      "    2. \"data:0.11\"  0.216219 ###############\n",
      "    3. \"data:0.12\"  0.189766 ###########\n",
      "    4. \"data:0.19\"  0.173091 ########\n",
      "    5.  \"data:0.7\"  0.170695 #######\n",
      "    6. \"data:0.18\"  0.167326 ######\n",
      "    7.  \"data:0.0\"  0.157780 #####\n",
      "    8. \"data:0.10\"  0.156645 #####\n",
      "    9. \"data:0.21\"  0.154189 ####\n",
      "   10. \"data:0.23\"  0.147501 ###\n",
      "   11.  \"data:0.3\"  0.144992 ##\n",
      "   12.  \"data:0.2\"  0.143185 ##\n",
      "   13.  \"data:0.1\"  0.142460 ##\n",
      "   14.  \"data:0.6\"  0.140879 ##\n",
      "   15.  \"data:0.5\"  0.140730 ##\n",
      "   16.  \"data:0.4\"  0.138018 #\n",
      "   17. \"data:0.22\"  0.132680 \n",
      "   18.  \"data:0.8\"  0.130667 \n",
      "   19. \"data:0.41\"  0.130514 \n",
      "   20. \"data:0.42\"  0.130478 \n",
      "   21. \"data:0.24\"  0.130349 \n",
      "   22. \"data:0.25\"  0.130255 \n",
      "   23. \"data:0.32\"  0.129966 \n",
      "   24.  \"data:0.9\"  0.129821 \n",
      "   25. \"data:0.26\"  0.129642 \n",
      "   26. \"data:0.35\"  0.129625 \n",
      "   27. \"data:0.44\"  0.129594 \n",
      "   28. \"data:0.45\"  0.129534 \n",
      "   29. \"data:0.37\"  0.129344 \n",
      "   30. \"data:0.33\"  0.129306 \n",
      "   31. \"data:0.46\"  0.129294 \n",
      "   32. \"data:0.36\"  0.129278 \n",
      "   33. \"data:0.31\"  0.129254 \n",
      "   34. \"data:0.27\"  0.129251 \n",
      "   35. \"data:0.34\"  0.129251 \n",
      "   36. \"data:0.28\"  0.129230 \n",
      "   37. \"data:0.38\"  0.129227 \n",
      "   38. \"data:0.39\"  0.129224 \n",
      "   39. \"data:0.14\"  0.129216 \n",
      "   40. \"data:0.40\"  0.129206 \n",
      "   41. \"data:0.29\"  0.129174 \n",
      "\n",
      "Variable Importance: NUM_AS_ROOT:\n",
      "    1. \"data:0.18\" 15.000000 ################\n",
      "    2. \"data:0.11\" 12.000000 ############\n",
      "    3. \"data:0.19\" 12.000000 ############\n",
      "    4. \"data:0.12\"  9.000000 #########\n",
      "    5. \"data:0.20\"  9.000000 #########\n",
      "    6. \"data:0.10\"  8.000000 ########\n",
      "    7. \"data:0.21\"  7.000000 ######\n",
      "    8.  \"data:0.7\"  6.000000 #####\n",
      "    9.  \"data:0.0\"  5.000000 ####\n",
      "   10.  \"data:0.2\"  4.000000 ###\n",
      "   11.  \"data:0.3\"  4.000000 ###\n",
      "   12. \"data:0.22\"  2.000000 #\n",
      "   13.  \"data:0.5\"  2.000000 #\n",
      "   14.  \"data:0.1\"  1.000000 \n",
      "   15.  \"data:0.4\"  1.000000 \n",
      "   16. \"data:0.41\"  1.000000 \n",
      "   17. \"data:0.42\"  1.000000 \n",
      "   18.  \"data:0.6\"  1.000000 \n",
      "\n",
      "Variable Importance: NUM_NODES:\n",
      "    1. \"data:0.11\" 1190.000000 ################\n",
      "    2. \"data:0.20\" 921.000000 ############\n",
      "    3. \"data:0.12\" 285.000000 ###\n",
      "    4.  \"data:0.0\" 211.000000 ##\n",
      "    5.  \"data:0.7\" 146.000000 #\n",
      "    6.  \"data:0.2\" 143.000000 #\n",
      "    7.  \"data:0.5\" 138.000000 #\n",
      "    8. \"data:0.10\" 131.000000 #\n",
      "    9. \"data:0.21\" 129.000000 #\n",
      "   10.  \"data:0.3\" 126.000000 #\n",
      "   11.  \"data:0.1\" 124.000000 #\n",
      "   12. \"data:0.18\" 124.000000 #\n",
      "   13.  \"data:0.4\" 121.000000 #\n",
      "   14.  \"data:0.6\" 111.000000 #\n",
      "   15. \"data:0.19\" 63.000000 \n",
      "   16. \"data:0.23\" 47.000000 \n",
      "   17.  \"data:0.8\" 27.000000 \n",
      "   18. \"data:0.32\"  8.000000 \n",
      "   19. \"data:0.26\"  7.000000 \n",
      "   20. \"data:0.35\"  7.000000 \n",
      "   21. \"data:0.22\"  6.000000 \n",
      "   22. \"data:0.45\"  6.000000 \n",
      "   23. \"data:0.44\"  5.000000 \n",
      "   24.  \"data:0.9\"  5.000000 \n",
      "   25. \"data:0.33\"  4.000000 \n",
      "   26. \"data:0.25\"  3.000000 \n",
      "   27. \"data:0.27\"  3.000000 \n",
      "   28. \"data:0.28\"  3.000000 \n",
      "   29. \"data:0.37\"  3.000000 \n",
      "   30. \"data:0.39\"  3.000000 \n",
      "   31. \"data:0.42\"  3.000000 \n",
      "   32. \"data:0.24\"  2.000000 \n",
      "   33. \"data:0.34\"  2.000000 \n",
      "   34. \"data:0.36\"  2.000000 \n",
      "   35. \"data:0.38\"  2.000000 \n",
      "   36. \"data:0.40\"  2.000000 \n",
      "   37. \"data:0.41\"  2.000000 \n",
      "   38. \"data:0.46\"  2.000000 \n",
      "   39. \"data:0.14\"  1.000000 \n",
      "   40. \"data:0.29\"  1.000000 \n",
      "   41. \"data:0.31\"  1.000000 \n",
      "\n",
      "Variable Importance: SUM_SCORE:\n",
      "    1. \"data:0.11\" 203504.316877 ################\n",
      "    2. \"data:0.20\" 183359.541298 ##############\n",
      "    3. \"data:0.18\" 135042.604093 ##########\n",
      "    4. \"data:0.19\" 24031.345199 #\n",
      "    5. \"data:0.12\" 23967.399164 #\n",
      "    6.  \"data:0.7\" 5280.114413 \n",
      "    7. \"data:0.10\" 4220.962525 \n",
      "    8.  \"data:0.0\" 3308.596797 \n",
      "    9. \"data:0.21\" 3285.324516 \n",
      "   10.  \"data:0.3\" 1715.922919 \n",
      "   11.  \"data:0.2\" 1511.707730 \n",
      "   12.  \"data:0.1\" 1483.471942 \n",
      "   13. \"data:0.23\" 1414.711063 \n",
      "   14.  \"data:0.5\" 1300.157517 \n",
      "   15.  \"data:0.6\" 1242.367065 \n",
      "   16.  \"data:0.4\" 887.249193 \n",
      "   17.  \"data:0.8\" 182.254481 \n",
      "   18. \"data:0.22\" 157.255164 \n",
      "   19. \"data:0.42\" 109.946715 \n",
      "   20. \"data:0.32\" 72.038793 \n",
      "   21. \"data:0.44\" 52.234479 \n",
      "   22. \"data:0.35\" 41.602867 \n",
      "   23. \"data:0.41\" 41.009786 \n",
      "   24. \"data:0.26\" 37.950673 \n",
      "   25. \"data:0.45\" 35.221360 \n",
      "   26.  \"data:0.9\" 23.896070 \n",
      "   27. \"data:0.25\" 23.097345 \n",
      "   28. \"data:0.37\" 21.850743 \n",
      "   29. \"data:0.33\" 18.792957 \n",
      "   30. \"data:0.27\" 15.211249 \n",
      "   31. \"data:0.38\" 14.574484 \n",
      "   32. \"data:0.36\" 14.519106 \n",
      "   33. \"data:0.31\" 13.766158 \n",
      "   34. \"data:0.46\" 13.292934 \n",
      "   35. \"data:0.24\" 13.036621 \n",
      "   36. \"data:0.14\" 12.536843 \n",
      "   37. \"data:0.40\" 11.800049 \n",
      "   38. \"data:0.39\" 11.767367 \n",
      "   39. \"data:0.28\" 10.464534 \n",
      "   40. \"data:0.34\"  8.578134 \n",
      "   41. \"data:0.29\"  1.546868 \n",
      "\n",
      "\n",
      "\n",
      "Winner takes all: true\n",
      "Out-of-bag evaluation: accuracy:0.997732 logloss:0.0198674\n",
      "Number of trees: 100\n",
      "Total number of nodes: 8340\n",
      "\n",
      "Number of nodes by tree:\n",
      "Count: 100 Average: 83.4 StdDev: 33.1349\n",
      "Min: 23 Max: 169 Ignored: 0\n",
      "----------------------------------------------\n",
      "[  23,  30)  3   3.00%   3.00% ###\n",
      "[  30,  37)  2   2.00%   5.00% ##\n",
      "[  37,  45)  6   6.00%  11.00% #####\n",
      "[  45,  52)  9   9.00%  20.00% ########\n",
      "[  52,  59)  6   6.00%  26.00% #####\n",
      "[  59,  67)  8   8.00%  34.00% #######\n",
      "[  67,  74) 11  11.00%  45.00% ##########\n",
      "[  74,  81)  5   5.00%  50.00% #####\n",
      "[  81,  89)  6   6.00%  56.00% #####\n",
      "[  89,  96)  7   7.00%  63.00% ######\n",
      "[  96, 103)  9   9.00%  72.00% ########\n",
      "[ 103, 111)  6   6.00%  78.00% #####\n",
      "[ 111, 118)  4   4.00%  82.00% ####\n",
      "[ 118, 125)  3   3.00%  85.00% ###\n",
      "[ 125, 133)  9   9.00%  94.00% ########\n",
      "[ 133, 140)  1   1.00%  95.00% #\n",
      "[ 140, 147)  1   1.00%  96.00% #\n",
      "[ 147, 155)  2   2.00%  98.00% ##\n",
      "[ 155, 162)  0   0.00%  98.00%\n",
      "[ 162, 169]  2   2.00% 100.00% ##\n",
      "\n",
      "Depth by leafs:\n",
      "Count: 4220 Average: 6.95237 StdDev: 2.00765\n",
      "Min: 1 Max: 14 Ignored: 0\n",
      "----------------------------------------------\n",
      "[  1,  2)  36   0.85%   0.85%\n",
      "[  2,  3)  66   1.56%   2.42% #\n",
      "[  3,  4) 105   2.49%   4.91% #\n",
      "[  4,  5) 235   5.57%  10.47% ###\n",
      "[  5,  6) 487  11.54%  22.01% ######\n",
      "[  6,  7) 727  17.23%  39.24% #########\n",
      "[  7,  8) 854  20.24%  59.48% ##########\n",
      "[  8,  9) 782  18.53%  78.01% #########\n",
      "[  9, 10) 553  13.10%  91.11% ######\n",
      "[ 10, 11) 266   6.30%  97.42% ###\n",
      "[ 11, 12)  73   1.73%  99.15% #\n",
      "[ 12, 13)  25   0.59%  99.74%\n",
      "[ 13, 14)   9   0.21%  99.95%\n",
      "[ 14, 14]   2   0.05% 100.00%\n",
      "\n",
      "Number of training obs by leaf:\n",
      "Count: 4220 Average: 198.483 StdDev: 852.181\n",
      "Min: 5 Max: 6703 Ignored: 0\n",
      "----------------------------------------------\n",
      "[    5,  339) 3913  92.73%  92.73% ##########\n",
      "[  339,  674)  119   2.82%  95.55%\n",
      "[  674, 1009)   32   0.76%  96.30%\n",
      "[ 1009, 1344)   16   0.38%  96.68%\n",
      "[ 1344, 1679)    5   0.12%  96.80%\n",
      "[ 1679, 2014)   14   0.33%  97.13%\n",
      "[ 2014, 2349)    9   0.21%  97.35%\n",
      "[ 2349, 2684)   16   0.38%  97.73%\n",
      "[ 2684, 3019)    4   0.09%  97.82%\n",
      "[ 3019, 3354)   13   0.31%  98.13%\n",
      "[ 3354, 3689)    7   0.17%  98.29%\n",
      "[ 3689, 4024)    0   0.00%  98.29%\n",
      "[ 4024, 4359)    6   0.14%  98.44%\n",
      "[ 4359, 4694)    1   0.02%  98.46%\n",
      "[ 4694, 5029)    2   0.05%  98.51%\n",
      "[ 5029, 5364)    2   0.05%  98.55%\n",
      "[ 5364, 5699)    3   0.07%  98.63%\n",
      "[ 5699, 6034)   17   0.40%  99.03%\n",
      "[ 6034, 6369)    5   0.12%  99.15%\n",
      "[ 6369, 6703]   36   0.85% 100.00%\n",
      "\n",
      "Attribute in nodes:\n",
      "\t1190 : data:0.11 [NUMERICAL]\n",
      "\t921 : data:0.20 [NUMERICAL]\n",
      "\t285 : data:0.12 [NUMERICAL]\n",
      "\t211 : data:0.0 [NUMERICAL]\n",
      "\t146 : data:0.7 [NUMERICAL]\n",
      "\t143 : data:0.2 [NUMERICAL]\n",
      "\t138 : data:0.5 [NUMERICAL]\n",
      "\t131 : data:0.10 [NUMERICAL]\n",
      "\t129 : data:0.21 [NUMERICAL]\n",
      "\t126 : data:0.3 [NUMERICAL]\n",
      "\t124 : data:0.18 [NUMERICAL]\n",
      "\t124 : data:0.1 [NUMERICAL]\n",
      "\t121 : data:0.4 [NUMERICAL]\n",
      "\t111 : data:0.6 [NUMERICAL]\n",
      "\t63 : data:0.19 [NUMERICAL]\n",
      "\t47 : data:0.23 [NUMERICAL]\n",
      "\t27 : data:0.8 [NUMERICAL]\n",
      "\t8 : data:0.32 [NUMERICAL]\n",
      "\t7 : data:0.35 [NUMERICAL]\n",
      "\t7 : data:0.26 [NUMERICAL]\n",
      "\t6 : data:0.45 [NUMERICAL]\n",
      "\t6 : data:0.22 [NUMERICAL]\n",
      "\t5 : data:0.9 [NUMERICAL]\n",
      "\t5 : data:0.44 [NUMERICAL]\n",
      "\t4 : data:0.33 [NUMERICAL]\n",
      "\t3 : data:0.42 [NUMERICAL]\n",
      "\t3 : data:0.39 [NUMERICAL]\n",
      "\t3 : data:0.37 [NUMERICAL]\n",
      "\t3 : data:0.28 [NUMERICAL]\n",
      "\t3 : data:0.27 [NUMERICAL]\n",
      "\t3 : data:0.25 [NUMERICAL]\n",
      "\t2 : data:0.46 [NUMERICAL]\n",
      "\t2 : data:0.41 [NUMERICAL]\n",
      "\t2 : data:0.40 [NUMERICAL]\n",
      "\t2 : data:0.38 [NUMERICAL]\n",
      "\t2 : data:0.36 [NUMERICAL]\n",
      "\t2 : data:0.34 [NUMERICAL]\n",
      "\t2 : data:0.24 [NUMERICAL]\n",
      "\t1 : data:0.31 [NUMERICAL]\n",
      "\t1 : data:0.29 [NUMERICAL]\n",
      "\t1 : data:0.14 [NUMERICAL]\n",
      "\n",
      "Attribute in nodes with depth <= 0:\n",
      "\t15 : data:0.18 [NUMERICAL]\n",
      "\t12 : data:0.19 [NUMERICAL]\n",
      "\t12 : data:0.11 [NUMERICAL]\n",
      "\t9 : data:0.20 [NUMERICAL]\n",
      "\t9 : data:0.12 [NUMERICAL]\n",
      "\t8 : data:0.10 [NUMERICAL]\n",
      "\t7 : data:0.21 [NUMERICAL]\n",
      "\t6 : data:0.7 [NUMERICAL]\n",
      "\t5 : data:0.0 [NUMERICAL]\n",
      "\t4 : data:0.3 [NUMERICAL]\n",
      "\t4 : data:0.2 [NUMERICAL]\n",
      "\t2 : data:0.5 [NUMERICAL]\n",
      "\t2 : data:0.22 [NUMERICAL]\n",
      "\t1 : data:0.6 [NUMERICAL]\n",
      "\t1 : data:0.42 [NUMERICAL]\n",
      "\t1 : data:0.41 [NUMERICAL]\n",
      "\t1 : data:0.4 [NUMERICAL]\n",
      "\t1 : data:0.1 [NUMERICAL]\n",
      "\n",
      "Attribute in nodes with depth <= 1:\n",
      "\t38 : data:0.20 [NUMERICAL]\n",
      "\t38 : data:0.11 [NUMERICAL]\n",
      "\t35 : data:0.18 [NUMERICAL]\n",
      "\t25 : data:0.19 [NUMERICAL]\n",
      "\t22 : data:0.12 [NUMERICAL]\n",
      "\t20 : data:0.7 [NUMERICAL]\n",
      "\t15 : data:0.0 [NUMERICAL]\n",
      "\t13 : data:0.21 [NUMERICAL]\n",
      "\t12 : data:0.10 [NUMERICAL]\n",
      "\t10 : data:0.23 [NUMERICAL]\n",
      "\t8 : data:0.1 [NUMERICAL]\n",
      "\t5 : data:0.6 [NUMERICAL]\n",
      "\t5 : data:0.3 [NUMERICAL]\n",
      "\t5 : data:0.2 [NUMERICAL]\n",
      "\t4 : data:0.5 [NUMERICAL]\n",
      "\t3 : data:0.4 [NUMERICAL]\n",
      "\t2 : data:0.22 [NUMERICAL]\n",
      "\t1 : data:0.8 [NUMERICAL]\n",
      "\t1 : data:0.42 [NUMERICAL]\n",
      "\t1 : data:0.41 [NUMERICAL]\n",
      "\t1 : data:0.24 [NUMERICAL]\n",
      "\n",
      "Attribute in nodes with depth <= 2:\n",
      "\t98 : data:0.11 [NUMERICAL]\n",
      "\t89 : data:0.20 [NUMERICAL]\n",
      "\t58 : data:0.18 [NUMERICAL]\n",
      "\t42 : data:0.7 [NUMERICAL]\n",
      "\t42 : data:0.12 [NUMERICAL]\n",
      "\t41 : data:0.19 [NUMERICAL]\n",
      "\t24 : data:0.10 [NUMERICAL]\n",
      "\t23 : data:0.0 [NUMERICAL]\n",
      "\t19 : data:0.23 [NUMERICAL]\n",
      "\t18 : data:0.21 [NUMERICAL]\n",
      "\t14 : data:0.1 [NUMERICAL]\n",
      "\t12 : data:0.6 [NUMERICAL]\n",
      "\t12 : data:0.3 [NUMERICAL]\n",
      "\t10 : data:0.2 [NUMERICAL]\n",
      "\t8 : data:0.5 [NUMERICAL]\n",
      "\t5 : data:0.4 [NUMERICAL]\n",
      "\t2 : data:0.35 [NUMERICAL]\n",
      "\t2 : data:0.22 [NUMERICAL]\n",
      "\t1 : data:0.8 [NUMERICAL]\n",
      "\t1 : data:0.42 [NUMERICAL]\n",
      "\t1 : data:0.41 [NUMERICAL]\n",
      "\t1 : data:0.39 [NUMERICAL]\n",
      "\t1 : data:0.32 [NUMERICAL]\n",
      "\t1 : data:0.25 [NUMERICAL]\n",
      "\t1 : data:0.24 [NUMERICAL]\n",
      "\n",
      "Attribute in nodes with depth <= 3:\n",
      "\t203 : data:0.11 [NUMERICAL]\n",
      "\t185 : data:0.20 [NUMERICAL]\n",
      "\t80 : data:0.12 [NUMERICAL]\n",
      "\t79 : data:0.18 [NUMERICAL]\n",
      "\t62 : data:0.7 [NUMERICAL]\n",
      "\t50 : data:0.19 [NUMERICAL]\n",
      "\t41 : data:0.0 [NUMERICAL]\n",
      "\t38 : data:0.10 [NUMERICAL]\n",
      "\t32 : data:0.21 [NUMERICAL]\n",
      "\t28 : data:0.23 [NUMERICAL]\n",
      "\t27 : data:0.3 [NUMERICAL]\n",
      "\t24 : data:0.1 [NUMERICAL]\n",
      "\t23 : data:0.2 [NUMERICAL]\n",
      "\t19 : data:0.6 [NUMERICAL]\n",
      "\t14 : data:0.4 [NUMERICAL]\n",
      "\t12 : data:0.5 [NUMERICAL]\n",
      "\t6 : data:0.8 [NUMERICAL]\n",
      "\t4 : data:0.22 [NUMERICAL]\n",
      "\t3 : data:0.25 [NUMERICAL]\n",
      "\t2 : data:0.45 [NUMERICAL]\n",
      "\t2 : data:0.42 [NUMERICAL]\n",
      "\t2 : data:0.35 [NUMERICAL]\n",
      "\t1 : data:0.44 [NUMERICAL]\n",
      "\t1 : data:0.41 [NUMERICAL]\n",
      "\t1 : data:0.39 [NUMERICAL]\n",
      "\t1 : data:0.37 [NUMERICAL]\n",
      "\t1 : data:0.33 [NUMERICAL]\n",
      "\t1 : data:0.32 [NUMERICAL]\n",
      "\t1 : data:0.27 [NUMERICAL]\n",
      "\t1 : data:0.26 [NUMERICAL]\n",
      "\t1 : data:0.24 [NUMERICAL]\n",
      "\n",
      "Attribute in nodes with depth <= 5:\n",
      "\t631 : data:0.11 [NUMERICAL]\n",
      "\t513 : data:0.20 [NUMERICAL]\n",
      "\t175 : data:0.12 [NUMERICAL]\n",
      "\t113 : data:0.18 [NUMERICAL]\n",
      "\t106 : data:0.0 [NUMERICAL]\n",
      "\t99 : data:0.7 [NUMERICAL]\n",
      "\t78 : data:0.10 [NUMERICAL]\n",
      "\t64 : data:0.2 [NUMERICAL]\n",
      "\t62 : data:0.1 [NUMERICAL]\n",
      "\t61 : data:0.21 [NUMERICAL]\n",
      "\t59 : data:0.19 [NUMERICAL]\n",
      "\t58 : data:0.3 [NUMERICAL]\n",
      "\t56 : data:0.5 [NUMERICAL]\n",
      "\t47 : data:0.6 [NUMERICAL]\n",
      "\t44 : data:0.4 [NUMERICAL]\n",
      "\t38 : data:0.23 [NUMERICAL]\n",
      "\t15 : data:0.8 [NUMERICAL]\n",
      "\t6 : data:0.22 [NUMERICAL]\n",
      "\t5 : data:0.35 [NUMERICAL]\n",
      "\t4 : data:0.44 [NUMERICAL]\n",
      "\t4 : data:0.26 [NUMERICAL]\n",
      "\t3 : data:0.32 [NUMERICAL]\n",
      "\t3 : data:0.25 [NUMERICAL]\n",
      "\t2 : data:0.9 [NUMERICAL]\n",
      "\t2 : data:0.45 [NUMERICAL]\n",
      "\t2 : data:0.42 [NUMERICAL]\n",
      "\t2 : data:0.41 [NUMERICAL]\n",
      "\t2 : data:0.38 [NUMERICAL]\n",
      "\t2 : data:0.37 [NUMERICAL]\n",
      "\t2 : data:0.27 [NUMERICAL]\n",
      "\t2 : data:0.24 [NUMERICAL]\n",
      "\t1 : data:0.46 [NUMERICAL]\n",
      "\t1 : data:0.40 [NUMERICAL]\n",
      "\t1 : data:0.39 [NUMERICAL]\n",
      "\t1 : data:0.36 [NUMERICAL]\n",
      "\t1 : data:0.34 [NUMERICAL]\n",
      "\t1 : data:0.33 [NUMERICAL]\n",
      "\t1 : data:0.28 [NUMERICAL]\n",
      "\n",
      "Condition type in nodes:\n",
      "\t4120 : HigherCondition\n",
      "Condition type in nodes with depth <= 0:\n",
      "\t100 : HigherCondition\n",
      "Condition type in nodes with depth <= 1:\n",
      "\t264 : HigherCondition\n",
      "Condition type in nodes with depth <= 2:\n",
      "\t526 : HigherCondition\n",
      "Condition type in nodes with depth <= 3:\n",
      "\t945 : HigherCondition\n",
      "Condition type in nodes with depth <= 5:\n",
      "\t2267 : HigherCondition\n",
      "Node format: NOT_SET\n",
      "\n",
      "Training OOB:\n",
      "\ttrees: 1, Out-of-bag evaluation: accuracy:0.996485 logloss:0.126711\n",
      "\ttrees: 11, Out-of-bag evaluation: accuracy:0.995911 logloss:0.0663482\n",
      "\ttrees: 21, Out-of-bag evaluation: accuracy:0.997015 logloss:0.0383829\n",
      "\ttrees: 31, Out-of-bag evaluation: accuracy:0.997254 logloss:0.0306119\n",
      "\ttrees: 41, Out-of-bag evaluation: accuracy:0.997373 logloss:0.0267929\n",
      "\ttrees: 51, Out-of-bag evaluation: accuracy:0.997373 logloss:0.0265672\n",
      "\ttrees: 61, Out-of-bag evaluation: accuracy:0.997612 logloss:0.0229495\n",
      "\ttrees: 71, Out-of-bag evaluation: accuracy:0.997612 logloss:0.0231856\n",
      "\ttrees: 81, Out-of-bag evaluation: accuracy:0.997732 logloss:0.0194937\n",
      "\ttrees: 91, Out-of-bag evaluation: accuracy:0.997732 logloss:0.0197469\n",
      "\ttrees: 100, Out-of-bag evaluation: accuracy:0.997732 logloss:0.0198674\n",
      "\n",
      "None\n"
     ]
    }
   ],
   "source": [
    "print(rf_model.summary())"
   ]
  },
  {
   "cell_type": "code",
   "execution_count": 33,
   "id": "5b594c40-eec6-4cff-afc6-c93870de0de5",
   "metadata": {
    "tags": []
   },
   "outputs": [
    {
     "data": {
      "text/plain": [
       "Evaluation(num_examples=8376, accuracy=0.9977316141356256, loss=0.019867436299874395, rmse=None, ndcg=None, aucs=None, auuc=None, qini=None)"
      ]
     },
     "execution_count": 33,
     "metadata": {},
     "output_type": "execute_result"
    }
   ],
   "source": [
    "##uncomment to show training log\n",
    "#rf_model_train.make_inspector().training_logs()\n",
    "rf_model.make_inspector().evaluation()"
   ]
  },
  {
   "cell_type": "code",
   "execution_count": 35,
   "id": "7078a13f-031f-4516-befd-3e8bbad12679",
   "metadata": {
    "tags": []
   },
   "outputs": [
    {
     "name": "stdout",
     "output_type": "stream",
     "text": [
      "262/262 [==============================] - 0s 1ms/step\n"
     ]
    },
    {
     "data": {
      "text/html": [
       "<div>\n",
       "<style scoped>\n",
       "    .dataframe tbody tr th:only-of-type {\n",
       "        vertical-align: middle;\n",
       "    }\n",
       "\n",
       "    .dataframe tbody tr th {\n",
       "        vertical-align: top;\n",
       "    }\n",
       "\n",
       "    .dataframe thead th {\n",
       "        text-align: right;\n",
       "    }\n",
       "</style>\n",
       "<table border=\"1\" class=\"dataframe\">\n",
       "  <thead>\n",
       "    <tr style=\"text-align: right;\">\n",
       "      <th></th>\n",
       "      <th>0</th>\n",
       "      <th>1</th>\n",
       "      <th>2</th>\n",
       "      <th>3</th>\n",
       "      <th>4</th>\n",
       "      <th>5</th>\n",
       "      <th>6</th>\n",
       "      <th>7</th>\n",
       "      <th>8</th>\n",
       "      <th>9</th>\n",
       "      <th>10</th>\n",
       "    </tr>\n",
       "  </thead>\n",
       "  <tbody>\n",
       "    <tr>\n",
       "      <th>0</th>\n",
       "      <td>0.000000</td>\n",
       "      <td>0.020000</td>\n",
       "      <td>0.979999</td>\n",
       "      <td>0.0</td>\n",
       "      <td>0.0</td>\n",
       "      <td>0.0</td>\n",
       "      <td>0.0</td>\n",
       "      <td>0.0</td>\n",
       "      <td>0.0</td>\n",
       "      <td>0.0</td>\n",
       "      <td>0.0</td>\n",
       "    </tr>\n",
       "    <tr>\n",
       "      <th>1</th>\n",
       "      <td>0.000000</td>\n",
       "      <td>0.999999</td>\n",
       "      <td>0.000000</td>\n",
       "      <td>0.0</td>\n",
       "      <td>0.0</td>\n",
       "      <td>0.0</td>\n",
       "      <td>0.0</td>\n",
       "      <td>0.0</td>\n",
       "      <td>0.0</td>\n",
       "      <td>0.0</td>\n",
       "      <td>0.0</td>\n",
       "    </tr>\n",
       "    <tr>\n",
       "      <th>2</th>\n",
       "      <td>0.999999</td>\n",
       "      <td>0.000000</td>\n",
       "      <td>0.000000</td>\n",
       "      <td>0.0</td>\n",
       "      <td>0.0</td>\n",
       "      <td>0.0</td>\n",
       "      <td>0.0</td>\n",
       "      <td>0.0</td>\n",
       "      <td>0.0</td>\n",
       "      <td>0.0</td>\n",
       "      <td>0.0</td>\n",
       "    </tr>\n",
       "    <tr>\n",
       "      <th>3</th>\n",
       "      <td>0.999999</td>\n",
       "      <td>0.000000</td>\n",
       "      <td>0.000000</td>\n",
       "      <td>0.0</td>\n",
       "      <td>0.0</td>\n",
       "      <td>0.0</td>\n",
       "      <td>0.0</td>\n",
       "      <td>0.0</td>\n",
       "      <td>0.0</td>\n",
       "      <td>0.0</td>\n",
       "      <td>0.0</td>\n",
       "    </tr>\n",
       "    <tr>\n",
       "      <th>4</th>\n",
       "      <td>0.999999</td>\n",
       "      <td>0.000000</td>\n",
       "      <td>0.000000</td>\n",
       "      <td>0.0</td>\n",
       "      <td>0.0</td>\n",
       "      <td>0.0</td>\n",
       "      <td>0.0</td>\n",
       "      <td>0.0</td>\n",
       "      <td>0.0</td>\n",
       "      <td>0.0</td>\n",
       "      <td>0.0</td>\n",
       "    </tr>\n",
       "    <tr>\n",
       "      <th>...</th>\n",
       "      <td>...</td>\n",
       "      <td>...</td>\n",
       "      <td>...</td>\n",
       "      <td>...</td>\n",
       "      <td>...</td>\n",
       "      <td>...</td>\n",
       "      <td>...</td>\n",
       "      <td>...</td>\n",
       "      <td>...</td>\n",
       "      <td>...</td>\n",
       "      <td>...</td>\n",
       "    </tr>\n",
       "    <tr>\n",
       "      <th>8371</th>\n",
       "      <td>0.000000</td>\n",
       "      <td>0.999999</td>\n",
       "      <td>0.000000</td>\n",
       "      <td>0.0</td>\n",
       "      <td>0.0</td>\n",
       "      <td>0.0</td>\n",
       "      <td>0.0</td>\n",
       "      <td>0.0</td>\n",
       "      <td>0.0</td>\n",
       "      <td>0.0</td>\n",
       "      <td>0.0</td>\n",
       "    </tr>\n",
       "    <tr>\n",
       "      <th>8372</th>\n",
       "      <td>0.000000</td>\n",
       "      <td>0.999999</td>\n",
       "      <td>0.000000</td>\n",
       "      <td>0.0</td>\n",
       "      <td>0.0</td>\n",
       "      <td>0.0</td>\n",
       "      <td>0.0</td>\n",
       "      <td>0.0</td>\n",
       "      <td>0.0</td>\n",
       "      <td>0.0</td>\n",
       "      <td>0.0</td>\n",
       "    </tr>\n",
       "    <tr>\n",
       "      <th>8373</th>\n",
       "      <td>0.999999</td>\n",
       "      <td>0.000000</td>\n",
       "      <td>0.000000</td>\n",
       "      <td>0.0</td>\n",
       "      <td>0.0</td>\n",
       "      <td>0.0</td>\n",
       "      <td>0.0</td>\n",
       "      <td>0.0</td>\n",
       "      <td>0.0</td>\n",
       "      <td>0.0</td>\n",
       "      <td>0.0</td>\n",
       "    </tr>\n",
       "    <tr>\n",
       "      <th>8374</th>\n",
       "      <td>0.999999</td>\n",
       "      <td>0.000000</td>\n",
       "      <td>0.000000</td>\n",
       "      <td>0.0</td>\n",
       "      <td>0.0</td>\n",
       "      <td>0.0</td>\n",
       "      <td>0.0</td>\n",
       "      <td>0.0</td>\n",
       "      <td>0.0</td>\n",
       "      <td>0.0</td>\n",
       "      <td>0.0</td>\n",
       "    </tr>\n",
       "    <tr>\n",
       "      <th>8375</th>\n",
       "      <td>0.000000</td>\n",
       "      <td>0.999999</td>\n",
       "      <td>0.000000</td>\n",
       "      <td>0.0</td>\n",
       "      <td>0.0</td>\n",
       "      <td>0.0</td>\n",
       "      <td>0.0</td>\n",
       "      <td>0.0</td>\n",
       "      <td>0.0</td>\n",
       "      <td>0.0</td>\n",
       "      <td>0.0</td>\n",
       "    </tr>\n",
       "  </tbody>\n",
       "</table>\n",
       "<p>8376 rows × 11 columns</p>\n",
       "</div>"
      ],
      "text/plain": [
       "            0         1         2    3    4    5    6    7    8    9    10\n",
       "0     0.000000  0.020000  0.979999  0.0  0.0  0.0  0.0  0.0  0.0  0.0  0.0\n",
       "1     0.000000  0.999999  0.000000  0.0  0.0  0.0  0.0  0.0  0.0  0.0  0.0\n",
       "2     0.999999  0.000000  0.000000  0.0  0.0  0.0  0.0  0.0  0.0  0.0  0.0\n",
       "3     0.999999  0.000000  0.000000  0.0  0.0  0.0  0.0  0.0  0.0  0.0  0.0\n",
       "4     0.999999  0.000000  0.000000  0.0  0.0  0.0  0.0  0.0  0.0  0.0  0.0\n",
       "...        ...       ...       ...  ...  ...  ...  ...  ...  ...  ...  ...\n",
       "8371  0.000000  0.999999  0.000000  0.0  0.0  0.0  0.0  0.0  0.0  0.0  0.0\n",
       "8372  0.000000  0.999999  0.000000  0.0  0.0  0.0  0.0  0.0  0.0  0.0  0.0\n",
       "8373  0.999999  0.000000  0.000000  0.0  0.0  0.0  0.0  0.0  0.0  0.0  0.0\n",
       "8374  0.999999  0.000000  0.000000  0.0  0.0  0.0  0.0  0.0  0.0  0.0  0.0\n",
       "8375  0.000000  0.999999  0.000000  0.0  0.0  0.0  0.0  0.0  0.0  0.0  0.0\n",
       "\n",
       "[8376 rows x 11 columns]"
      ]
     },
     "execution_count": 35,
     "metadata": {},
     "output_type": "execute_result"
    }
   ],
   "source": [
    "pd.DataFrame(rf_model.predict(x_train[['Tile_ID', 'Long2', 'Lat2', 'Long1', 'Lat1', 'Mid_lat', 'Mid_long',\n",
    "       'Stop_Signs', 'Paving_historical', 'Paving_future', 'Bus_stop',\n",
    "       'Collisions_Future', 'Collisions_Historical', 'RTTYP_I',\n",
    "       'RTTYP_M', 'RTTYP_O', 'RTTYP_S', 'RTTYP_U', 'Collisions_Future_binary',\n",
    "       'Collisions_Historical_binary', 'bins_numeric', 'zip_code', '94101',\n",
    "       '94102', '94104', '94105', '94107', '94108', '94109', '94110', '94111',\n",
    "       '94112', '94114', '94115', '94116', '94117', '94118', '94121', '94122',\n",
    "       '94123', '94124', '94127', '94129', '94130', '94131', '94132', '94133']]))"
   ]
  },
  {
   "cell_type": "code",
   "execution_count": 36,
   "id": "8af3edc9-2e32-4bc8-8c5b-5bf3085d8060",
   "metadata": {
    "tags": []
   },
   "outputs": [
    {
     "data": {
      "image/png": "[encoded data removed]",
      "text/plain": [
       "<Figure size 640x480 with 1 Axes>"
      ]
     },
     "metadata": {},
     "output_type": "display_data"
    }
   ],
   "source": [
    "import matplotlib.pyplot as plt\n",
    "\n",
    "logs = rf_model.make_inspector().training_logs()\n",
    "\n",
    "plt.plot([log.evaluation.num_examples for log in logs], [log.evaluation.loss for log in logs], label=\"training data\")\n",
    "plt.xlabel(\"Number of trees\")\n",
    "plt.ylabel(\"Loss\")\n",
    "plt.legend()\n",
    "plt.show()"
   ]
  },
  {
   "cell_type": "markdown",
   "id": "c1ec0dbb-2532-4c3a-b053-1f6f687be79c",
   "metadata": {
    "tags": []
   },
   "source": [
    "**Modeling**"
   ]
  },
  {
   "cell_type": "markdown",
   "id": "bc8f8956",
   "metadata": {},
   "source": [
    "Helpful Links: <br>\n",
    "https://pyimagesearch.com/2019/02/04/keras-multiple-inputs-and-mixed-data/ <br>\n",
    "https://www.tensorflow.org/api_docs/python/tf/keras/applications/resnet50/ResNet50 <br>\n",
    "https://github.com/jimmyyhwu/resnet18-tf2/blob/master/resnet.py <BR>"
   ]
  },
  {
   "cell_type": "markdown",
   "id": "a032bd29",
   "metadata": {},
   "source": [
    "**Model 2.1: CNN (layers added, ResNet-18)**"
   ]
  },
  {
   "cell_type": "code",
   "execution_count": null,
   "id": "2b198024",
   "metadata": {
    "tags": []
   },
   "outputs": [],
   "source": [
    "# x: Satellite Images, 'Collisions_Historical', 'Mid_lat','Mid_long', 'Stop_Signs', 'Paving_historical', 'Bus_stop'\n",
    "# y: 'Collisions_Future'\n",
    "\n",
    "# ACCORDING TO THE PAPER, THEY DOWNSIZED THE IMAGES FIRST INTO SMALLER MATRICES \n",
    "# THEN ADDED THE STREET CHARACTERISTICS TO THE SMALLER MATRIX\n",
    "# REFERENCE THE DIAGRAM ON THE PAPER\n",
    "\n",
    "def create_cnn_model():\n",
    "\n",
    "    # INPUT LAYERS\n",
    "    input1 = tf.keras.layers.Input(shape=(148, 188, 4), name='Input_Images')\n",
    "    input2 = tf.keras.layers.Input(shape=(1,1,11), name='Input_Street')\n",
    "    \n",
    "    #CNN FOR IMAGE PROCESSING\n",
    "    cnn = tf.keras.layers.Conv2D(11, (4,4), activation=\"relu\")(input1)\n",
    "    pooling = tf.keras.layers.MaxPooling2D((4, 4), strides=2)(cnn)\n",
    "    images = tf.keras.models.Model(inputs=input1, outputs=pooling)\n",
    "    \n",
    "    #ADDING STREET DATA\n",
    "    #combined = tf.keras.layers.Concatenate(axis = 2)([images.output, input2])\n",
    "    combined = tf.keras.layers.Add()([images.output, input2])\n",
    "    \n",
    "    # PAPER USES RESNET-18 FOR THE REST OF THE MODEL WITH THE COMBINED DATA\n",
    "    resnet = resnet18(combined)\n",
    "    output = tf.keras.layers.Dense(units=12, activation='softmax', name='output')(resnet)\n",
    "    \n",
    "    #instantiation layer \n",
    "    cnn_model = tf.keras.models.Model(inputs=[input1, input2], outputs=output)\n",
    "    \n",
    "    return cnn_model\n",
    "\n",
    "cnn_model = create_cnn_model()\n",
    "\n",
    "cnn_model.summary()\n",
    "\n",
    "cnn_model.compile(\n",
    "    optimizer=tf.keras.optimizers.Adam(learning_rate=0.001),\n",
    "    loss='sparse_categorical_crossentropy',\n",
    "    metrics = ['accuracy']\n",
    "    )\n",
    "\n",
    "class_weight = {0: 100,\n",
    "                1: 1000,\n",
    "                2: 1000,\n",
    "                3: 1000,\n",
    "                4: 1000,\n",
    "                5: 1000,\n",
    "                6: 1000,\n",
    "                7: 1000,\n",
    "                8: 1000,\n",
    "                9: 1000,\n",
    "                10: 1000,\n",
    "                11: 1000,\n",
    "               }\n",
    "\n",
    "history = cnn_model.fit(\n",
    "    [images_mini, street_mini],\n",
    "    np.stack(y_train),\n",
    "    epochs=10,\n",
    "    # Suppress logging.\n",
    "     verbose=1,\n",
    "    # Calculate validation results on 20% of the training data.\n",
    "    validation_split = 0.2,\n",
    "    class_weight = class_weight\n",
    "    )"
   ]
  },
  {
   "cell_type": "code",
   "execution_count": null,
   "id": "529937cd",
   "metadata": {
    "tags": []
   },
   "outputs": [],
   "source": [
    "plot_loss(history)"
   ]
  },
  {
   "cell_type": "code",
   "execution_count": null,
   "id": "efd6816d-4465-4a90-b2f4-6930be4d6efa",
   "metadata": {
    "tags": []
   },
   "outputs": [],
   "source": [
    "plot_accuracy(history)"
   ]
  },
  {
   "cell_type": "code",
   "execution_count": null,
   "id": "e4b29fdc-932b-4504-813b-a692525348e1",
   "metadata": {},
   "outputs": [],
   "source": [
    "predicted_result = cnn_model.predict([images_mini_t, street_mini_t])\n",
    "test_values = []\n",
    "for i in predicted_result: \n",
    "    input_list = i\n",
    "    max_value = max(input_list)\n",
    "    index = [index for index, item in enumerate(input_list) if item == max_value]\n",
    "    test_values.append(index[0])\n",
    "print('macro f1: ', f1_score(y_test, test_values, average = 'macro' ))\n",
    "print('f1 by class: ', f1_score(y_test, test_values, average = None ))"
   ]
  },
  {
   "cell_type": "markdown",
   "id": "bc3fbae2-bbfa-416f-ba2c-7fae81b75d67",
   "metadata": {},
   "source": [
    "**Model 2.2: Second CNN (layers added, ResNet-34)**"
   ]
  },
  {
   "cell_type": "code",
   "execution_count": null,
   "id": "4cdb0ab1-0afc-439b-823b-43932327e271",
   "metadata": {
    "tags": []
   },
   "outputs": [],
   "source": [
    "# x: Satellite Images, 'Collisions_Historical', 'Mid_lat','Mid_long', 'Stop_Signs', 'Paving_historical', 'Bus_stop'\n",
    "# y: 'Collisions_Future'\n",
    "\n",
    "# ACCORDING TO THE PAPER, THEY DOWNSIZED THE IMAGES FIRST INTO SMALLER MATRICES \n",
    "# THEN ADDED THE STREET CHARACTERISTICS TO THE SMALLER MATRIX\n",
    "# REFERENCE THE DIAGRAM ON THE PAPER\n",
    "\n",
    "def create_cnn_model():\n",
    "\n",
    "    # INPUT LAYERS\n",
    "    input1 = tf.keras.layers.Input(shape=(148, 188, 4), name='Input_Images')\n",
    "    input2 = tf.keras.layers.Input(shape=(1,1,11), name='Input_Street')\n",
    "    \n",
    "    #CNN FOR IMAGE PROCESSING\n",
    "    cnn = tf.keras.layers.Conv2D(11, (4,4), activation=\"relu\")(input1)\n",
    "    pooling = tf.keras.layers.MaxPooling2D((4, 4), strides=2)(cnn)\n",
    "    images = tf.keras.models.Model(inputs=input1, outputs=pooling)\n",
    "    \n",
    "    #ADDING STREET DATA\n",
    "    #combined = tf.keras.layers.Concatenate(axis = 2)([images.output, input2])\n",
    "    combined = tf.keras.layers.Add()([images.output, input2])\n",
    "    \n",
    "    # PAPER USES RESNET-18 FOR THE REST OF THE MODEL WITH THE COMBINED DATA\n",
    "    resnet = resnet34(combined)\n",
    "    output = tf.keras.layers.Dense(units=12, activation='softmax', name='output')(resnet)\n",
    "    \n",
    "    #instantiation layer \n",
    "    cnn_model = tf.keras.models.Model(inputs=[input1, input2], outputs=output)\n",
    "    \n",
    "    return cnn_model\n",
    "\n",
    "cnn_model = create_cnn_model()\n",
    "\n",
    "cnn_model.summary()\n",
    "\n",
    "cnn_model.compile(\n",
    "    optimizer=tf.keras.optimizers.Adam(learning_rate=0.001),\n",
    "    loss='sparse_categorical_crossentropy',\n",
    "    metrics = ['accuracy']\n",
    "    )\n",
    "\n",
    "class_weight = {0: 100,\n",
    "                1: 1000,\n",
    "                2: 1000,\n",
    "                3: 1000,\n",
    "                4: 1000,\n",
    "                5: 1000,\n",
    "                6: 1000,\n",
    "                7: 1000,\n",
    "                8: 1000,\n",
    "                9: 1000,\n",
    "                10: 1000,\n",
    "                11: 1000,\n",
    "               }\n",
    "\n",
    "history = cnn_model.fit(\n",
    "    [images_mini, street_mini],\n",
    "    np.stack(y_train),\n",
    "    epochs=10,\n",
    "    # Suppress logging.\n",
    "     verbose=1,\n",
    "    # Calculate validation results on 20% of the training data.\n",
    "    validation_split = 0.2,\n",
    "    class_weight = class_weight, \n",
    "    )\n"
   ]
  },
  {
   "cell_type": "code",
   "execution_count": null,
   "id": "430dbe4a-ea51-4ab3-9b86-6906419144b8",
   "metadata": {
    "tags": []
   },
   "outputs": [],
   "source": [
    "plot_loss(history)"
   ]
  },
  {
   "cell_type": "code",
   "execution_count": null,
   "id": "0cb61fd5-f83f-48fc-b445-ff2169f5c885",
   "metadata": {
    "tags": []
   },
   "outputs": [],
   "source": [
    "plot_accuracy(history)"
   ]
  },
  {
   "cell_type": "code",
   "execution_count": null,
   "id": "1bb71b6e-667c-47fd-b36a-2ffe39bd22f1",
   "metadata": {
    "tags": []
   },
   "outputs": [],
   "source": [
    "predicted_result = cnn_model.predict([images_mini_t, street_mini_t])\n",
    "predicted_result[0]"
   ]
  },
  {
   "cell_type": "code",
   "execution_count": null,
   "id": "8718b71a-4e14-4e1a-b17e-ffdb5e6f9d2a",
   "metadata": {
    "tags": []
   },
   "outputs": [],
   "source": [
    "test_values = []\n",
    "for i in predicted_result: \n",
    "    input_list = i\n",
    "    max_value = max(input_list)\n",
    "    index = [index for index, item in enumerate(input_list) if item == max_value]\n",
    "    test_values.append(index[0])\n",
    "test_values[0:10]"
   ]
  },
  {
   "cell_type": "code",
   "execution_count": null,
   "id": "2661b615-bbdb-43e4-9dee-23150f18c9cf",
   "metadata": {
    "tags": []
   },
   "outputs": [],
   "source": [
    "print('macro f1: ', f1_score(y_test, test_values, average = 'macro' ))\n",
    "print('f1 by class: ', f1_score(y_test, test_values, average = None ))"
   ]
  },
  {
   "cell_type": "code",
   "execution_count": null,
   "id": "6b2117f5-3472-44d7-9b22-cba0914012d2",
   "metadata": {},
   "outputs": [],
   "source": []
  },
  {
   "cell_type": "markdown",
   "id": "9b54cf29-9972-4d60-9493-25bc651ada7f",
   "metadata": {},
   "source": [
    "**Model 2.3: CNN (layers concatenated, ResNet-18)**"
   ]
  },
  {
   "cell_type": "code",
   "execution_count": null,
   "id": "d6f3c69b-3b60-4e5e-a7fd-1005eecfec1a",
   "metadata": {
    "tags": []
   },
   "outputs": [],
   "source": [
    "street_mini_2 = [] \n",
    "for k in range(len(street)):\n",
    "    for i in range(71): \n",
    "        for j in range(91):\n",
    "            street_mini_2.append(street[k])"
   ]
  },
  {
   "cell_type": "code",
   "execution_count": null,
   "id": "20b975a2-c6dc-4f07-a4ae-5c83d1bf9aaa",
   "metadata": {
    "tags": []
   },
   "outputs": [],
   "source": [
    "street_mini_2 = np.reshape(street_mini_2, (len(street),71,91,11))\n",
    "np.shape(street_mini_2)"
   ]
  },
  {
   "cell_type": "code",
   "execution_count": null,
   "id": "da44b747-8c12-427e-9d12-010dcfdd6c94",
   "metadata": {},
   "outputs": [],
   "source": []
  },
  {
   "cell_type": "code",
   "execution_count": null,
   "id": "2efe3d33-18de-4e73-9735-c1faaf102f25",
   "metadata": {},
   "outputs": [],
   "source": [
    "# x: Satellite Images, 'Collisions_Historical', 'Mid_lat','Mid_long', 'Stop_Signs', 'Paving_historical', 'Bus_stop'\n",
    "# y: 'Collisions_Future'\n",
    "\n",
    "# ACCORDING TO THE PAPER, THEY DOWNSIZED THE IMAGES FIRST INTO SMALLER MATRICES \n",
    "# THEN ADDED THE STREET CHARACTERISTICS TO THE SMALLER MATRIX\n",
    "# REFERENCE THE DIAGRAM ON THE PAPER\n",
    "\n",
    "def create_cnn_model():\n",
    "\n",
    "    # INPUT LAYERS\n",
    "    input1 = tf.keras.layers.Input(shape=(148, 188, 4), name='Input_Images')\n",
    "    input2 = tf.keras.layers.Input(shape=(71,91,11), name='Input_Street')\n",
    "    \n",
    "    #CNN FOR IMAGE PROCESSING\n",
    "    cnn = tf.keras.layers.Conv2D(11, (4,4), activation=\"relu\")(input1)\n",
    "    pooling = tf.keras.layers.MaxPooling2D((4, 4), strides=2)(cnn)\n",
    "    images = tf.keras.models.Model(inputs=input1, outputs=pooling)\n",
    "    \n",
    "    #ADDING STREET DATA\n",
    "    combined = tf.keras.layers.Concatenate(axis = 3)([images.output, input2])\n",
    "    #combined = tf.keras.layers.Add()([images.output, input2])\n",
    "    \n",
    "    # PAPER USES RESNET-18 FOR THE REST OF THE MODEL WITH THE COMBINED DATA\n",
    "    resnet = resnet18(combined)\n",
    "    output = tf.keras.layers.Dense(units=12, activation='softmax', name='output')(resnet)\n",
    "    \n",
    "    #instantiation layer \n",
    "    cnn_model = tf.keras.models.Model(inputs=[input1, input2], outputs=output)\n",
    "    \n",
    "    return cnn_model\n",
    "\n",
    "cnn_model = create_cnn_model()\n",
    "\n",
    "cnn_model.summary()\n",
    "\n",
    "cnn_model.compile(\n",
    "    optimizer=tf.keras.optimizers.Adam(learning_rate=0.001),\n",
    "    loss='sparse_categorical_crossentropy',\n",
    "    metrics = ['accuracy']\n",
    "    )\n",
    "\n",
    "class_weight = {0: 100,\n",
    "                1: 1000,\n",
    "                2: 1000,\n",
    "                3: 1000,\n",
    "                4: 1000,\n",
    "                5: 1000,\n",
    "                6: 1000,\n",
    "                7: 1000,\n",
    "                8: 1000,\n",
    "                9: 1000,\n",
    "                10: 1000,\n",
    "                11: 1000,\n",
    "               }\n",
    "\n",
    "history = cnn_model.fit(\n",
    "    [images_mini, street_mini_2],\n",
    "    np.stack(y_train),\n",
    "    epochs=10,\n",
    "    # Suppress logging.\n",
    "     verbose=1,\n",
    "    # Calculate validation results on 20% of the training data.\n",
    "    validation_split = 0.2,\n",
    "    class_weight = class_weight,\n",
    "    )"
   ]
  },
  {
   "cell_type": "code",
   "execution_count": null,
   "id": "56133e1d-a889-4fb4-8850-a8afeb3e9ee5",
   "metadata": {
    "tags": []
   },
   "outputs": [],
   "source": [
    "plot_loss(history)"
   ]
  },
  {
   "cell_type": "code",
   "execution_count": null,
   "id": "4ecba962-271b-4404-80a8-acc856cb8696",
   "metadata": {
    "tags": []
   },
   "outputs": [],
   "source": [
    "plot_accuracy(history)"
   ]
  },
  {
   "cell_type": "code",
   "execution_count": null,
   "id": "debb65fa-626e-4355-b319-3f3bc190dd1c",
   "metadata": {
    "tags": []
   },
   "outputs": [],
   "source": [
    "street_mini_2_t = [] \n",
    "for k in range(len(street_t)):\n",
    "    for i in range(71): \n",
    "        for j in range(91):\n",
    "            street_mini_2_t.append(street_t[k])\n",
    "street_mini_2_t = np.reshape(street_mini_2_t, (len(street_t),71,91,11))\n",
    "np.shape(street_mini_2_t)"
   ]
  },
  {
   "cell_type": "code",
   "execution_count": null,
   "id": "f0a2525c-833a-494c-92de-ae16b52dec7c",
   "metadata": {},
   "outputs": [],
   "source": [
    "predicted_result = cnn_model.predict([images_mini_t, street_mini_2_t])\n",
    "test_values = []\n",
    "for i in predicted_result: \n",
    "    input_list = i\n",
    "    max_value = max(input_list)\n",
    "    index = [index for index, item in enumerate(input_list) if item == max_value]\n",
    "    test_values.append(index[0])\n",
    "print('macro f1: ', f1_score(y_test, test_values, average = 'macro' ))\n",
    "print('f1 by class: ', f1_score(y_test, test_values, average = None ))"
   ]
  },
  {
   "cell_type": "markdown",
   "id": "412ccfec-b018-48a1-9be9-45e67d98c005",
   "metadata": {},
   "source": [
    "**Model 2.4 CNN (layers added, RESNET 50 FROM TENSORFLOW)**"
   ]
  },
  {
   "cell_type": "code",
   "execution_count": null,
   "id": "752fd1a2-6a63-4219-b710-aa2aa2b8c5f8",
   "metadata": {
    "tags": []
   },
   "outputs": [],
   "source": [
    "# x: Satellite Images, 'Collisions_Historical', 'Mid_lat','Mid_long', 'Stop_Signs', 'Paving_historical', 'Bus_stop'\n",
    "# y: 'Collisions_Future'\n",
    "\n",
    "# ACCORDING TO THE PAPER, THEY DOWNSIZED THE IMAGES FIRST INTO SMALLER MATRICES \n",
    "# THEN ADDED THE STREET CHARACTERISTICS TO THE SMALLER MATRIX\n",
    "# REFERENCE THE DIAGRAM ON THE PAPER\n",
    "\n",
    "def create_cnn_model():\n",
    "\n",
    "    # INPUT LAYERS\n",
    "    input1 = tf.keras.layers.Input(shape=(148, 188, 4), name='Input_Images')\n",
    "    input2 = tf.keras.layers.Input(shape=(1,1,11), name='Input_Street')\n",
    "    \n",
    "    #CNN FOR IMAGE PROCESSING\n",
    "    cnn = tf.keras.layers.Conv2D(11, (4,4), activation=\"relu\")(input1)\n",
    "    pooling = tf.keras.layers.MaxPooling2D((4, 4), strides=2)(cnn)\n",
    "    images = tf.keras.models.Model(inputs=input1, outputs=pooling)\n",
    "    \n",
    "    #ADDING STREET DATA\n",
    "    #combined = tf.keras.layers.Concatenate(axis = 2)([images.output, input2])\n",
    "    combined = tf.keras.layers.Add()([images.output, input2])\n",
    "    \n",
    "    # PAPER USES RESNET-18 FOR THE REST OF THE MODEL WITH THE COMBINED DATA\n",
    "    # RESNET50 FROM TENSORFLOW \n",
    "    resnet = tf.keras.applications.resnet50.ResNet50(\n",
    "    include_top=False,\n",
    "    weights=None,\n",
    "    input_tensor=combined,\n",
    "    input_shape=(71, 91, 11,),\n",
    "    pooling=None,\n",
    "    classes=12,\n",
    "    #**kwargs\n",
    "    )\n",
    "    \n",
    "    flatten = tf.keras.layers.Flatten()(resnet.output)\n",
    "    \n",
    "    output = tf.keras.layers.Dense(units=12, activation='softmax', name='output')(flatten)\n",
    "    \n",
    "    #instantiation layer \n",
    "    cnn_model = tf.keras.models.Model(inputs=[input1, input2], outputs=output)\n",
    "    \n",
    "    return cnn_model #cnn_model\n",
    "\n",
    "cnn_model = create_cnn_model()\n",
    "\n",
    "cnn_model.summary()\n",
    "\n",
    "cnn_model.compile(\n",
    "    optimizer=tf.keras.optimizers.Adam(learning_rate=0.001),\n",
    "    loss= ['sparse_categorical_crossentropy'],\n",
    "    metrics = ['accuracy'],\n",
    "    )\n",
    "\n",
    "class_weight = {0: 100,\n",
    "                1: 1000,\n",
    "                2: 1000,\n",
    "                3: 1000,\n",
    "                4: 1000,\n",
    "                5: 1000,\n",
    "                6: 1000,\n",
    "                7: 1000,\n",
    "                8: 1000,\n",
    "                9: 1000,\n",
    "                10: 1000,\n",
    "                11: 1000,\n",
    "               }\n",
    "\n",
    "history = cnn_model.fit(\n",
    "    [images_mini, street_mini],\n",
    "    np.stack(y_train),\n",
    "    epochs=10,\n",
    "    # Suppress logging.\n",
    "     verbose=1,\n",
    "    # Calculate validation results on 20% of the training data.\n",
    "    validation_split = 0.2,\n",
    "    class_weight = class_weight,\n",
    "    )"
   ]
  },
  {
   "cell_type": "code",
   "execution_count": null,
   "id": "92081966-4f86-4889-a4bc-1d970d678459",
   "metadata": {
    "tags": []
   },
   "outputs": [],
   "source": [
    "plot_loss(history)"
   ]
  },
  {
   "cell_type": "code",
   "execution_count": null,
   "id": "4f399215-cee3-458b-8b16-28857072dc6a",
   "metadata": {
    "tags": []
   },
   "outputs": [],
   "source": [
    "plot_accuracy(history)"
   ]
  },
  {
   "cell_type": "code",
   "execution_count": null,
   "id": "0491af29-b55b-4f1f-a061-c4887ddb538e",
   "metadata": {},
   "outputs": [],
   "source": [
    "predicted_result = cnn_model.predict([images_mini_t, street_mini_t])\n",
    "test_values = []\n",
    "for i in predicted_result: \n",
    "    input_list = i\n",
    "    max_value = max(input_list)\n",
    "    index = [index for index, item in enumerate(input_list) if item == max_value]\n",
    "    test_values.append(index[0])\n",
    "print('macro f1: ', f1_score(y_test, test_values, average = 'macro' ))\n",
    "print('f1 by class: ', f1_score(y_test, test_values, average = None ))"
   ]
  },
  {
   "cell_type": "code",
   "execution_count": null,
   "id": "4739af5b-a7e3-4888-964f-3c9f68c83fe3",
   "metadata": {},
   "outputs": [],
   "source": []
  }
 ],
 "metadata": {
  "kernelspec": {
   "display_name": "Python 3 (ipykernel)",
   "language": "python",
   "name": "python3"
  },
  "language_info": {
   "codemirror_mode": {
    "name": "ipython",
    "version": 3
   },
   "file_extension": ".py",
   "mimetype": "text/x-python",
   "name": "python",
   "nbconvert_exporter": "python",
   "pygments_lexer": "ipython3",
   "version": "3.10.6"
  }
 },
 "nbformat": 4,
 "nbformat_minor": 5
}
