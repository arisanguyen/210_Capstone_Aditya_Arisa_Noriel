{
 "cells": [
  {
   "cell_type": "code",
   "execution_count": 2,
   "id": "d7578330-42fb-4211-b45a-81ad75d442bd",
   "metadata": {
    "tags": []
   },
   "outputs": [],
   "source": [
    "#!pip3 install numpy\n",
    "#!pip3 install pandas\n",
    "#!pip3 install matplotlib\n",
    "#!pip3 install tensorflow\n",
    "#!pip3 install tifffile\n",
    "#!pip3 install -U scikit-learn scipy matplotlib\n",
    "#!pip3 install imagecodecs\n",
    "#!pip3 install tensorflow_decision_forests --upgrade"
   ]
  },
  {
   "cell_type": "code",
   "execution_count": 20,
   "id": "356025b8",
   "metadata": {
    "tags": []
   },
   "outputs": [],
   "source": [
    "import math\n",
    "import matplotlib\n",
    "import matplotlib.pyplot as plt\n",
    "\n",
    "import numpy as np\n",
    "\n",
    "import os\n",
    "\n",
    "import pandas as pd\n",
    "\n",
    "import scipy\n",
    "from sklearn.model_selection import train_test_split\n",
    "from sklearn.preprocessing import LabelBinarizer\n",
    "\n",
    "import tensorflow as tf\n",
    "import tensorflow_decision_forests as tfdf\n",
    "from tensorflow import keras\n",
    "from tensorflow.keras import layers\n",
    "from tensorflow.keras.layers import concatenate\n",
    "import tifffile"
   ]
  },
  {
   "cell_type": "code",
   "execution_count": 28,
   "id": "f3693092",
   "metadata": {
    "tags": []
   },
   "outputs": [],
   "source": [
    "tiles = pd.read_csv('../210_Capstone_Aditya_Arisa_Noriel/Data/Tiles_no_binning_downsampled.csv')"
   ]
  },
  {
   "cell_type": "code",
   "execution_count": 26,
   "id": "c713d7a6",
   "metadata": {
    "tags": []
   },
   "outputs": [
    {
     "data": {
      "text/html": [
       "<div>\n",
       "<style scoped>\n",
       "    .dataframe tbody tr th:only-of-type {\n",
       "        vertical-align: middle;\n",
       "    }\n",
       "\n",
       "    .dataframe tbody tr th {\n",
       "        vertical-align: top;\n",
       "    }\n",
       "\n",
       "    .dataframe thead th {\n",
       "        text-align: right;\n",
       "    }\n",
       "</style>\n",
       "<table border=\"1\" class=\"dataframe\">\n",
       "  <thead>\n",
       "    <tr style=\"text-align: right;\">\n",
       "      <th></th>\n",
       "      <th>Tile_ID</th>\n",
       "      <th>Long2</th>\n",
       "      <th>Lat2</th>\n",
       "      <th>Long1</th>\n",
       "      <th>Lat1</th>\n",
       "      <th>Mid_lat</th>\n",
       "      <th>Mid_long</th>\n",
       "      <th>Stop_Signs</th>\n",
       "      <th>Paving_historical</th>\n",
       "      <th>Paving_future</th>\n",
       "      <th>Bus_stop</th>\n",
       "      <th>Collisions_Future</th>\n",
       "      <th>Collisions_Historical</th>\n",
       "      <th>RTTYP</th>\n",
       "    </tr>\n",
       "  </thead>\n",
       "  <tbody>\n",
       "    <tr>\n",
       "      <th>0</th>\n",
       "      <td>266</td>\n",
       "      <td>-122.512166</td>\n",
       "      <td>37.779636</td>\n",
       "      <td>-122.511026</td>\n",
       "      <td>37.778732</td>\n",
       "      <td>37.779184</td>\n",
       "      <td>-122.511596</td>\n",
       "      <td>1.0</td>\n",
       "      <td>0.0</td>\n",
       "      <td>0.0</td>\n",
       "      <td>0.0</td>\n",
       "      <td>5.0</td>\n",
       "      <td>5.0</td>\n",
       "      <td>M</td>\n",
       "    </tr>\n",
       "    <tr>\n",
       "      <th>1</th>\n",
       "      <td>271</td>\n",
       "      <td>-122.512166</td>\n",
       "      <td>37.775118</td>\n",
       "      <td>-122.511026</td>\n",
       "      <td>37.774214</td>\n",
       "      <td>37.774666</td>\n",
       "      <td>-122.511596</td>\n",
       "      <td>4.0</td>\n",
       "      <td>0.0</td>\n",
       "      <td>0.0</td>\n",
       "      <td>0.0</td>\n",
       "      <td>1.0</td>\n",
       "      <td>3.0</td>\n",
       "      <td>M</td>\n",
       "    </tr>\n",
       "    <tr>\n",
       "      <th>2</th>\n",
       "      <td>275</td>\n",
       "      <td>-122.512166</td>\n",
       "      <td>37.771503</td>\n",
       "      <td>-122.511026</td>\n",
       "      <td>37.770600</td>\n",
       "      <td>37.771052</td>\n",
       "      <td>-122.511596</td>\n",
       "      <td>0.0</td>\n",
       "      <td>0.0</td>\n",
       "      <td>0.0</td>\n",
       "      <td>0.0</td>\n",
       "      <td>1.0</td>\n",
       "      <td>0.0</td>\n",
       "      <td>M</td>\n",
       "    </tr>\n",
       "    <tr>\n",
       "      <th>3</th>\n",
       "      <td>390</td>\n",
       "      <td>-122.511026</td>\n",
       "      <td>37.771503</td>\n",
       "      <td>-122.509885</td>\n",
       "      <td>37.770600</td>\n",
       "      <td>37.771052</td>\n",
       "      <td>-122.510456</td>\n",
       "      <td>0.0</td>\n",
       "      <td>0.0</td>\n",
       "      <td>0.0</td>\n",
       "      <td>1.0</td>\n",
       "      <td>1.0</td>\n",
       "      <td>1.0</td>\n",
       "      <td>M</td>\n",
       "    </tr>\n",
       "    <tr>\n",
       "      <th>4</th>\n",
       "      <td>391</td>\n",
       "      <td>-122.511026</td>\n",
       "      <td>37.770600</td>\n",
       "      <td>-122.509885</td>\n",
       "      <td>37.769696</td>\n",
       "      <td>37.770148</td>\n",
       "      <td>-122.510456</td>\n",
       "      <td>0.0</td>\n",
       "      <td>0.0</td>\n",
       "      <td>0.0</td>\n",
       "      <td>0.0</td>\n",
       "      <td>2.0</td>\n",
       "      <td>4.0</td>\n",
       "      <td>M</td>\n",
       "    </tr>\n",
       "  </tbody>\n",
       "</table>\n",
       "</div>"
      ],
      "text/plain": [
       "   Tile_ID       Long2       Lat2       Long1       Lat1    Mid_lat  \\\n",
       "0      266 -122.512166  37.779636 -122.511026  37.778732  37.779184   \n",
       "1      271 -122.512166  37.775118 -122.511026  37.774214  37.774666   \n",
       "2      275 -122.512166  37.771503 -122.511026  37.770600  37.771052   \n",
       "3      390 -122.511026  37.771503 -122.509885  37.770600  37.771052   \n",
       "4      391 -122.511026  37.770600 -122.509885  37.769696  37.770148   \n",
       "\n",
       "     Mid_long  Stop_Signs  Paving_historical  Paving_future  Bus_stop  \\\n",
       "0 -122.511596         1.0                0.0            0.0       0.0   \n",
       "1 -122.511596         4.0                0.0            0.0       0.0   \n",
       "2 -122.511596         0.0                0.0            0.0       0.0   \n",
       "3 -122.510456         0.0                0.0            0.0       1.0   \n",
       "4 -122.510456         0.0                0.0            0.0       0.0   \n",
       "\n",
       "   Collisions_Future  Collisions_Historical RTTYP  \n",
       "0                5.0                    5.0     M  \n",
       "1                1.0                    3.0     M  \n",
       "2                1.0                    0.0     M  \n",
       "3                1.0                    1.0     M  \n",
       "4                2.0                    4.0     M  "
      ]
     },
     "execution_count": 26,
     "metadata": {},
     "output_type": "execute_result"
    }
   ],
   "source": [
    "tiles.head(5)"
   ]
  },
  {
   "cell_type": "code",
   "execution_count": 29,
   "id": "a34e4913-c5f6-4886-a369-5fffd8f2b4f6",
   "metadata": {
    "tags": []
   },
   "outputs": [],
   "source": [
    "x_train, x_test, y_train, y_test = train_test_split(tiles[['Tile_ID','Collisions_Historical', 'Mid_lat','Mid_long', 'Stop_Signs', 'Paving_historical', 'Bus_stop', 'RTTYP']], \n",
    "                                   tiles['Collisions_Future'],\n",
    "                                   random_state=104, \n",
    "                                   test_size=0.20, \n",
    "                                   shuffle=True)"
   ]
  },
  {
   "cell_type": "code",
   "execution_count": 50,
   "id": "f54f39d1-0e50-49dd-abfc-b9aaa67f13d4",
   "metadata": {
    "tags": []
   },
   "outputs": [],
   "source": [
    "input_x = ['Tile_ID','Collisions_Historical', 'Mid_lat','Mid_long', 'Stop_Signs', 'Paving_historical', 'Bus_stop']"
   ]
  },
  {
   "cell_type": "code",
   "execution_count": 30,
   "id": "df48c0b0-de23-4baa-825c-c0eff83b54d8",
   "metadata": {
    "tags": []
   },
   "outputs": [],
   "source": [
    "#eda\n",
    "img = tifffile.imread('../210_Capstone_Aditya_Arisa_Noriel/Satellite Imagery/Satellite Images Tiled/36.tif')[0:148, 0:188, :]\n",
    "img2 = tifffile.imread('../210_Capstone_Aditya_Arisa_Noriel/Satellite Imagery/Satellite Images Tiled/37.tif')[0:148, 0:188, :]"
   ]
  },
  {
   "cell_type": "code",
   "execution_count": 31,
   "id": "3cb3b66d-b450-4962-9f39-e4d2203c8804",
   "metadata": {},
   "outputs": [
    {
     "name": "stdout",
     "output_type": "stream",
     "text": [
      "(148, 188, 4)\n"
     ]
    }
   ],
   "source": [
    "# eda\n",
    "print(np.shape(img2))"
   ]
  },
  {
   "cell_type": "code",
   "execution_count": 32,
   "id": "ca39ad67-329d-4753-9a17-c34383d1ad98",
   "metadata": {
    "scrolled": true
   },
   "outputs": [
    {
     "name": "stdout",
     "output_type": "stream",
     "text": [
      "(2, 148, 188, 4)\n",
      "(2, 148, 188, 4)\n"
     ]
    }
   ],
   "source": [
    "# eda\n",
    "test = []\n",
    "test.append(img[0:148, 0:188, :])\n",
    "test.append(img2[0:148, 0:188, :])\n",
    "print(np.shape(test))\n",
    "test = np.stack(test)\n",
    "print(np.shape(test))"
   ]
  },
  {
   "cell_type": "code",
   "execution_count": 33,
   "id": "07d596f9-b09e-47c8-a8ef-18164bb738b2",
   "metadata": {
    "tags": []
   },
   "outputs": [],
   "source": [
    "IMAGE_PATH = '../210_Capstone_Aditya_Arisa_Noriel/Satellite Imagery/Satellite Images Tiled/' "
   ]
  },
  {
   "cell_type": "code",
   "execution_count": 34,
   "id": "4e571379-d3bc-465b-b0b0-b6ed831b7f32",
   "metadata": {},
   "outputs": [],
   "source": [
    "def preprocess_data_part1(IMAGE_PATH):\n",
    "    \"\"\" Generate lists of images and labelsbased on temp_no_refer and temp_refer lists\n",
    "    \n",
    "    Params:\n",
    "    -------\n",
    "    IMAGE_PATH (str): path to directory with images.\n",
    "    \n",
    "    Returns:\n",
    "    --------\n",
    "    images_mini  (np.ndarray): Images of shape (N, 149 3)\n",
    "    \"\"\"\n",
    "    \n",
    "    data_mini = []\n",
    "    \n",
    "    for id in tiles['Tile_ID']:    \n",
    "                    \n",
    "        # read image and store as matrix            \n",
    "        # Index at the end makes all images the same size (they sometimes differ by 1 pixel)\n",
    "        image = tifffile.imread(IMAGE_PATH + str(id) + '.tif')[0:148, 0:188, :]\n",
    "            \n",
    "        # append to images\n",
    "        data_mini.append(image)\n",
    " \n",
    "    # stack images and trasnform to array\n",
    "    images_mini = np.stack(data_mini)\n",
    "    \n",
    "    return images_mini"
   ]
  },
  {
   "cell_type": "code",
   "execution_count": 36,
   "id": "09a43ca3-d6a9-4aa9-ba29-ef6bdfc2c804",
   "metadata": {},
   "outputs": [],
   "source": [
    "# THERE IS ONE FILE IN THE \"SATELLITE IMAGES TILED\" FOLDER THAT IS NOT A TIF IMAGE, DELETE THIS FILE\n",
    "images_mini = preprocess_data_part1(IMAGE_PATH)"
   ]
  },
  {
   "cell_type": "code",
   "execution_count": 37,
   "id": "9e8d10e0-b241-4a22-9786-a96e885f205a",
   "metadata": {
    "tags": []
   },
   "outputs": [],
   "source": [
    "def flattener(images_mini):\n",
    "    images_mini_flattened=[]\n",
    "    for i in images_mini:\n",
    "        images_mini_flattened.append(i.ravel())\n",
    "    return images_mini_flattened\n",
    "\n",
    "images_mini_flattened=flattener(images_mini)"
   ]
  },
  {
   "cell_type": "code",
   "execution_count": 38,
   "id": "d54487a1-e16b-42d1-9913-805999b120d6",
   "metadata": {
    "tags": []
   },
   "outputs": [],
   "source": [
    "#pd.DataFrame(images_mini_flattened[0]).tail()\n",
    "#images_mini_flattened[0]"
   ]
  },
  {
   "cell_type": "code",
   "execution_count": 39,
   "id": "af82517b-4b69-4a92-874e-720bf30c6052",
   "metadata": {
    "tags": []
   },
   "outputs": [
    {
     "data": {
      "text/plain": [
       "(3241, 14)"
      ]
     },
     "execution_count": 39,
     "metadata": {},
     "output_type": "execute_result"
    }
   ],
   "source": [
    "np.shape(tiles)"
   ]
  },
  {
   "cell_type": "code",
   "execution_count": 40,
   "id": "a796c0e7-cbd5-4e09-84c6-d5e6a2075437",
   "metadata": {
    "tags": []
   },
   "outputs": [
    {
     "data": {
      "text/plain": [
       "(3241, 148, 188, 4)"
      ]
     },
     "execution_count": 40,
     "metadata": {},
     "output_type": "execute_result"
    }
   ],
   "source": [
    "np.shape(images_mini)"
   ]
  },
  {
   "cell_type": "code",
   "execution_count": 41,
   "id": "a29cb10d-f19b-4008-818d-1e6a3d91d40a",
   "metadata": {
    "tags": []
   },
   "outputs": [
    {
     "data": {
      "text/plain": [
       "(3241, 111296)"
      ]
     },
     "execution_count": 41,
     "metadata": {},
     "output_type": "execute_result"
    }
   ],
   "source": [
    "np.shape(images_mini_flattened)"
   ]
  },
  {
   "cell_type": "markdown",
   "id": "d7bad238-ecb0-4149-bc8c-5180a07ccc86",
   "metadata": {
    "tags": []
   },
   "source": [
    "Road Type Pre-Processing (To One Hot)"
   ]
  },
  {
   "cell_type": "code",
   "execution_count": 42,
   "id": "2074fe22-dfd3-4786-92dc-251ece822680",
   "metadata": {
    "tags": []
   },
   "outputs": [],
   "source": [
    "road_type = LabelBinarizer().fit_transform(x_train['RTTYP'])"
   ]
  },
  {
   "cell_type": "code",
   "execution_count": 43,
   "id": "72d8b21b-6a71-4b61-82b6-43d30ed0d1d2",
   "metadata": {
    "tags": []
   },
   "outputs": [
    {
     "data": {
      "text/plain": [
       "array([0, 1, 0, 0])"
      ]
     },
     "execution_count": 43,
     "metadata": {},
     "output_type": "execute_result"
    }
   ],
   "source": [
    "road_type[0]"
   ]
  },
  {
   "cell_type": "code",
   "execution_count": 44,
   "id": "cad27826-5045-4d7c-9ca6-356dc1929801",
   "metadata": {
    "tags": []
   },
   "outputs": [
    {
     "data": {
      "text/plain": [
       "(2592, 4)"
      ]
     },
     "execution_count": 44,
     "metadata": {},
     "output_type": "execute_result"
    }
   ],
   "source": [
    "np.shape(road_type)"
   ]
  },
  {
   "cell_type": "markdown",
   "id": "d58acbf5-f659-4ea0-b167-4350e1152be2",
   "metadata": {},
   "source": [
    "Street Data Pre-Processing"
   ]
  },
  {
   "cell_type": "code",
   "execution_count": 51,
   "id": "fac919d2-8a80-4119-b2b3-9aeb5028f810",
   "metadata": {
    "tags": []
   },
   "outputs": [
    {
     "data": {
      "text/plain": [
       "(2592, 1, 1, 6)"
      ]
     },
     "execution_count": 51,
     "metadata": {},
     "output_type": "execute_result"
    }
   ],
   "source": [
    "street = np.asarray(x_train[input_x[1:]]).astype('float32')\n",
    "street_mini = []\n",
    "for row in street:\n",
    "    street_mini.append([[row]])\n",
    "street_mini = np.stack(street_mini)\n",
    "np.shape(street_mini)"
   ]
  },
  {
   "cell_type": "code",
   "execution_count": 52,
   "id": "4ccd755b-a84d-40dc-b3df-2fcaffd36d08",
   "metadata": {
    "tags": []
   },
   "outputs": [
    {
     "ename": "ValueError",
     "evalue": "cannot reshape array of size 15552 into shape (2592,11)",
     "output_type": "error",
     "traceback": [
      "\u001b[0;31m---------------------------------------------------------------------------\u001b[0m",
      "\u001b[0;31mValueError\u001b[0m                                Traceback (most recent call last)",
      "Cell \u001b[0;32mIn[52], line 2\u001b[0m\n\u001b[1;32m      1\u001b[0m input_image_street \u001b[38;5;241m=\u001b[39m np\u001b[38;5;241m.\u001b[39mhstack(\n\u001b[0;32m----> 2\u001b[0m     (\u001b[43mstreet_mini\u001b[49m\u001b[38;5;241;43m.\u001b[39;49m\u001b[43mreshape\u001b[49m\u001b[43m(\u001b[49m\u001b[43m(\u001b[49m\u001b[38;5;241;43m2592\u001b[39;49m\u001b[43m,\u001b[49m\u001b[38;5;241;43m11\u001b[39;49m\u001b[43m)\u001b[49m\u001b[43m)\u001b[49m,\n\u001b[1;32m      3\u001b[0m      images_mini\u001b[38;5;241m.\u001b[39mreshape(\u001b[38;5;241m2592\u001b[39m,\u001b[38;5;241m111296\u001b[39m))\n\u001b[1;32m      4\u001b[0m )\n",
      "\u001b[0;31mValueError\u001b[0m: cannot reshape array of size 15552 into shape (2592,11)"
     ]
    }
   ],
   "source": [
    "input_image_street = np.hstack(\n",
    "    (street_mini.reshape((2592,11)),\n",
    "     images_mini.reshape(2592,111296))\n",
    ")"
   ]
  },
  {
   "cell_type": "code",
   "execution_count": null,
   "id": "f0e6b5c2-340c-4d6d-845c-d592533a1729",
   "metadata": {
    "tags": []
   },
   "outputs": [],
   "source": [
    "input_image_street.shape"
   ]
  },
  {
   "cell_type": "code",
   "execution_count": 17,
   "id": "d47c1762-d3a9-48b9-84cb-2dbb455328a7",
   "metadata": {
    "tags": []
   },
   "outputs": [],
   "source": [
    "#row = []\n",
    "#for i in range(len(tiles)):\n",
    "#    row.append(tiles.to_numpy().tolist()[i])\n",
    "#    row.append(images_mini_flattened[i])"
   ]
  },
  {
   "cell_type": "code",
   "execution_count": null,
   "id": "3973717f-2297-4435-8610-e39bbc78f8c4",
   "metadata": {
    "tags": []
   },
   "outputs": [],
   "source": [
    "#pd.DataFrame(row).head()"
   ]
  },
  {
   "cell_type": "markdown",
   "id": "c3a6b82c",
   "metadata": {},
   "source": [
    "Split into training and test"
   ]
  },
  {
   "cell_type": "code",
   "execution_count": null,
   "id": "9824f9a0-32dc-4270-96d1-f21956a7d7af",
   "metadata": {
    "tags": []
   },
   "outputs": [],
   "source": [
    "#tiles = pd.DataFrame(row)"
   ]
  },
  {
   "cell_type": "code",
   "execution_count": null,
   "id": "0d50fdd4",
   "metadata": {
    "tags": []
   },
   "outputs": [],
   "source": []
  },
  {
   "cell_type": "markdown",
   "id": "fffe2d02",
   "metadata": {},
   "source": [
    "Model #1: Linear regression using Historical Collisions, SFMTA Street Characteristics, and Geocoordinates"
   ]
  },
  {
   "cell_type": "code",
   "execution_count": null,
   "id": "8af0c2c2",
   "metadata": {},
   "outputs": [],
   "source": [
    "# x: 'Collisions_Historical', 'Mid_lat','Mid_long', 'Stop_Signs', 'Paving_historical', 'Bus_stop'\n",
    "# y: 'Collisions_Future'\n",
    "\n",
    "def create_linear_model():\n",
    "\n",
    "    input = tf.keras.layers.Input(shape=(6,))\n",
    "    \n",
    "    #input_t = tf.data.Dataset.from_tensor_slices(input.to_dict(orient=\"list\"))\n",
    "\n",
    "   # normalized = layers.Normalization(input_shape=[5,], axis=None)(input)\n",
    "\n",
    "   #x = normalizer(input_t)\n",
    "\n",
    "    outputs = layers.Dense(1)(input)\n",
    "\n",
    "    linear_model = tf.keras.models.Model(inputs=input, outputs=outputs, name=\"linear_model\")\n",
    "\n",
    "    linear_model.summary()\n",
    "\n",
    "    linear_model.compile(\n",
    "        optimizer=tf.keras.optimizers.Adam(learning_rate=0.001),\n",
    "        loss='mean_absolute_error' #,\n",
    "        #metrics = [tf.keras.metrics.Accuracy()]\n",
    "        )\n",
    "    \n",
    "    return linear_model\n",
    "\n",
    "linear_model = create_linear_model()\n",
    "\n",
    "history = linear_model.fit(\n",
    "    np.asarray(x_train[['Collisions_Historical', 'Mid_lat','Mid_long', 'Stop_Signs', 'Paving_historical', 'Bus_stop']]).astype('float32'),\n",
    "    y_train,\n",
    "    epochs=20,\n",
    "    # Suppress logging.\n",
    "     verbose=1,\n",
    "    # Calculate validation results on 20% of the training data.\n",
    "    validation_split = 0.2)"
   ]
  },
  {
   "cell_type": "code",
   "execution_count": null,
   "id": "6801a371",
   "metadata": {},
   "outputs": [],
   "source": [
    "def plot_loss(history):\n",
    "    plt.plot(history.history['loss'], label='loss')\n",
    "    plt.plot(history.history['val_loss'], label='val_loss')\n",
    "   # plt.plot(history.history['accuracy'], label='accuracy')\n",
    "   # plt.plot(history.history['val_accuracy'], label='val_accuracy')\n",
    "    plt.ylim([0, 10])\n",
    "    plt.xlabel('Epoch')\n",
    "    plt.ylabel('Mean Absolute Error')\n",
    "    plt.legend()\n",
    "    plt.grid(True)"
   ]
  },
  {
   "cell_type": "code",
   "execution_count": null,
   "id": "5d8b16f8",
   "metadata": {},
   "outputs": [],
   "source": [
    "plot_loss(history)"
   ]
  },
  {
   "cell_type": "markdown",
   "id": "a032bd29",
   "metadata": {},
   "source": [
    "**Model #2: Neural Network Using Satellite Images, Historical Collisions, SFMTA Street Characteristics, and Geocoordinates**"
   ]
  },
  {
   "cell_type": "markdown",
   "id": "bf220283",
   "metadata": {},
   "source": [
    "Image Pre-Processing"
   ]
  },
  {
   "cell_type": "code",
   "execution_count": null,
   "id": "ea514649",
   "metadata": {
    "tags": []
   },
   "outputs": [],
   "source": [
    "IMAGE_PATH = '../210_Capstone_Aditya_Arisa_Noriel/Satellite Imagery/Satellite Images Tiled/' "
   ]
  },
  {
   "cell_type": "code",
   "execution_count": null,
   "id": "b40c2ccb",
   "metadata": {
    "tags": []
   },
   "outputs": [],
   "source": [
    "#eda\n",
    "img = tifffile.imread('../210_Capstone_Aditya_Arisa_Noriel/Satellite Imagery/Satellite Images Tiled/36.tif')[0:148, 0:188, :]\n",
    "img2 = tifffile.imread('../210_Capstone_Aditya_Arisa_Noriel/Satellite Imagery/Satellite Images Tiled/37.tif')[0:148, 0:188, :]"
   ]
  },
  {
   "cell_type": "code",
   "execution_count": null,
   "id": "97889d4b",
   "metadata": {},
   "outputs": [],
   "source": [
    "# eda\n",
    "print(np.shape(img2))"
   ]
  },
  {
   "cell_type": "code",
   "execution_count": null,
   "id": "545c8609",
   "metadata": {
    "scrolled": true
   },
   "outputs": [],
   "source": [
    "# eda\n",
    "test = []\n",
    "test.append(img[0:148, 0:188, :])\n",
    "test.append(img2[0:148, 0:188, :])\n",
    "print(np.shape(test))\n",
    "test = np.stack(test)\n",
    "print(np.shape(test))"
   ]
  },
  {
   "cell_type": "code",
   "execution_count": null,
   "id": "9298e629",
   "metadata": {},
   "outputs": [],
   "source": [
    "def preprocess_data_part1(IMAGE_PATH):\n",
    "    \"\"\" Generate lists of images and labelsbased on temp_no_refer and temp_refer lists\n",
    "    \n",
    "    Params:\n",
    "    -------\n",
    "    IMAGE_PATH (str): path to directory with images.\n",
    "    \n",
    "    Returns:\n",
    "    --------\n",
    "    images_mini  (np.ndarray): Images of shape (N, 149 3)\n",
    "    \"\"\"\n",
    "    \n",
    "    data_mini = []\n",
    "    \n",
    "    for id in x_train['Tile_ID']:    \n",
    "                    \n",
    "        # read image and store as matrix            \n",
    "        # Index at the end makes all images the same size (they sometimes differ by 1 pixel)\n",
    "        image = tifffile.imread(IMAGE_PATH + str(id) + '.tif')[0:148, 0:188, :]\n",
    "            \n",
    "        # append to images\n",
    "        data_mini.append(image)\n",
    " \n",
    "    # stack images and trasnform to array\n",
    "    images_mini = np.stack(data_mini)\n",
    "    \n",
    "    return images_mini"
   ]
  },
  {
   "cell_type": "code",
   "execution_count": null,
   "id": "4d8f77ae",
   "metadata": {},
   "outputs": [],
   "source": [
    "# THERE IS ONE FILE IN THE \"SATELLITE IMAGES TILED\" FOLDER THAT IS NOT A TIF IMAGE, DELETE THIS FILE\n",
    "images_mini = preprocess_data_part1(IMAGE_PATH)"
   ]
  },
  {
   "cell_type": "code",
   "execution_count": null,
   "id": "0ce10975",
   "metadata": {},
   "outputs": [],
   "source": [
    "np.shape(images_mini)"
   ]
  },
  {
   "cell_type": "markdown",
   "id": "5849fedf-02a3-40c0-987b-9a873fb48494",
   "metadata": {},
   "source": [
    "Road Type Pre-Processing (To One Hot)"
   ]
  },
  {
   "cell_type": "code",
   "execution_count": null,
   "id": "21999ef9-c705-446b-933c-04dded545f65",
   "metadata": {
    "tags": []
   },
   "outputs": [],
   "source": [
    "from sklearn.preprocessing import LabelBinarizer"
   ]
  },
  {
   "cell_type": "code",
   "execution_count": null,
   "id": "7c798ef3-95a8-406f-bfa8-cdc8b5057fda",
   "metadata": {
    "tags": []
   },
   "outputs": [],
   "source": [
    "road_type = LabelBinarizer().fit_transform(x_train['RTTYP'])"
   ]
  },
  {
   "cell_type": "code",
   "execution_count": null,
   "id": "b91d1584-afce-41de-9bcc-444632f37306",
   "metadata": {
    "tags": []
   },
   "outputs": [],
   "source": [
    "road_type[0]"
   ]
  },
  {
   "cell_type": "code",
   "execution_count": null,
   "id": "bf6cb330-3400-4757-a603-c0d3584b3528",
   "metadata": {
    "tags": []
   },
   "outputs": [],
   "source": [
    "np.shape(road_type)"
   ]
  },
  {
   "cell_type": "markdown",
   "id": "57135842",
   "metadata": {
    "tags": []
   },
   "source": [
    "Street Data Pre-Processing"
   ]
  },
  {
   "cell_type": "code",
   "execution_count": null,
   "id": "8dce0686",
   "metadata": {
    "tags": []
   },
   "outputs": [],
   "source": [
    "street = np.asarray(x_train[['Collisions_Historical', 'Mid_lat','Mid_long', 'Stop_Signs', 'Paving_historical', 'Bus_stop']]).astype('float32')\n",
    "street_mini = []\n",
    "for row in range(len(street)):\n",
    "    concat = np.concatenate((street[row], road_type[row]))\n",
    "    street_mini.append([[concat]])\n",
    "street_mini = np.stack(street_mini)\n",
    "np.shape(street_mini)"
   ]
  },
  {
   "cell_type": "markdown",
   "id": "bc8f8956",
   "metadata": {},
   "source": [
    "Modeling <br> \n",
    "\n",
    "Helpful Links: <br>\n",
    "https://pyimagesearch.com/2019/02/04/keras-multiple-inputs-and-mixed-data/ <br>\n",
    "https://www.tensorflow.org/api_docs/python/tf/keras/applications/resnet50/ResNet50 <br>\n",
    "https://github.com/jimmyyhwu/resnet18-tf2/blob/master/resnet.py <BR>"
   ]
  },
  {
   "cell_type": "code",
   "execution_count": null,
   "id": "dd28b853",
   "metadata": {},
   "outputs": [],
   "source": [
    "# RESNET 18 TAKEN FROM https://github.com/jimmyyhwu/resnet18-tf2/blob/master/resnet.py\n",
    "# HELPS RUN MODEL BELOW\n",
    "\n",
    "kaiming_normal = keras.initializers.VarianceScaling(scale=2.0, mode='fan_out', distribution='untruncated_normal')\n",
    "\n",
    "def conv3x3(x, out_planes, stride=1, name=None):\n",
    "    x = layers.ZeroPadding2D(padding=1, name=f'{name}_pad')(x)\n",
    "    return layers.Conv2D(filters=out_planes, kernel_size=3, strides=stride, use_bias=False, kernel_initializer=kaiming_normal, name=name)(x)\n",
    "\n",
    "def basic_block(x, planes, stride=1, downsample=None, name=None):\n",
    "    identity = x\n",
    "\n",
    "    out = conv3x3(x, planes, stride=stride, name=f'{name}.conv1')\n",
    "    out = layers.BatchNormalization(momentum=0.9, epsilon=1e-5, name=f'{name}.bn1')(out)\n",
    "    out = layers.ReLU(name=f'{name}.relu1')(out)\n",
    "\n",
    "    out = conv3x3(out, planes, name=f'{name}.conv2')\n",
    "    out = layers.BatchNormalization(momentum=0.9, epsilon=1e-5, name=f'{name}.bn2')(out)\n",
    "\n",
    "    if downsample is not None:\n",
    "        for layer in downsample:\n",
    "            identity = layer(identity)\n",
    "\n",
    "    out = layers.Add(name=f'{name}.add')([identity, out])\n",
    "    out = layers.ReLU(name=f'{name}.relu2')(out)\n",
    "\n",
    "    return out\n",
    "\n",
    "def make_layer(x, planes, blocks, stride=1, name=None):\n",
    "    downsample = None\n",
    "    inplanes = x.shape[3]\n",
    "    if stride != 1 or inplanes != planes:\n",
    "        downsample = [\n",
    "            layers.Conv2D(filters=planes, kernel_size=1, strides=stride, use_bias=False, kernel_initializer=kaiming_normal, name=f'{name}.0.downsample.0'),\n",
    "            layers.BatchNormalization(momentum=0.9, epsilon=1e-5, name=f'{name}.0.downsample.1'),\n",
    "        ]\n",
    "\n",
    "    x = basic_block(x, planes, stride, downsample, name=f'{name}.0')\n",
    "    for i in range(1, blocks):\n",
    "        x = basic_block(x, planes, name=f'{name}.{i}')\n",
    "\n",
    "    return x\n",
    "\n",
    "def resnet(x, blocks_per_layer, num_classes=1000):\n",
    "    x = layers.ZeroPadding2D(padding=3, name='conv1_pad')(x)\n",
    "    x = layers.Conv2D(filters=64, kernel_size=7, strides=2, use_bias=False, kernel_initializer=kaiming_normal, name='conv1')(x)\n",
    "    x = layers.BatchNormalization(momentum=0.9, epsilon=1e-5, name='bn1')(x)\n",
    "    x = layers.ReLU(name='relu1')(x)\n",
    "    x = layers.ZeroPadding2D(padding=1, name='maxpool_pad')(x)\n",
    "    x = layers.MaxPool2D(pool_size=3, strides=2, name='maxpool')(x)\n",
    "\n",
    "    x = make_layer(x, 64, blocks_per_layer[0], name='layer1')\n",
    "    x = make_layer(x, 128, blocks_per_layer[1], stride=2, name='layer2')\n",
    "    x = make_layer(x, 256, blocks_per_layer[2], stride=2, name='layer3')\n",
    "    x = make_layer(x, 512, blocks_per_layer[3], stride=2, name='layer4')\n",
    "\n",
    "    x = layers.GlobalAveragePooling2D(name='avgpool')(x)\n",
    "    initializer = keras.initializers.RandomUniform(-1.0 / math.sqrt(512), 1.0 / math.sqrt(512))\n",
    "    x = layers.Dense(units=num_classes, kernel_initializer=initializer, bias_initializer=initializer, name='fc')(x)\n",
    "\n",
    "    return x\n",
    "\n",
    "def resnet18(x, **kwargs):\n",
    "    return resnet(x, [2, 2, 2, 2], **kwargs)\n",
    "\n",
    "def resnet34(x, **kwargs):\n",
    "    return resnet(x, [3, 4, 6, 3], **kwargs)"
   ]
  },
  {
   "cell_type": "code",
   "execution_count": null,
   "id": "2b198024",
   "metadata": {
    "tags": []
   },
   "outputs": [],
   "source": [
    "# x: Satellite Images, 'Collisions_Historical', 'Mid_lat','Mid_long', 'Stop_Signs', 'Paving_historical', 'Bus_stop'\n",
    "# y: 'Collisions_Future'\n",
    "\n",
    "# ACCORDING TO THE PAPER, THEY DOWNSIZED THE IMAGES FIRST INTO SMALLER MATRICES \n",
    "# THEN ADDED THE STREET CHARACTERISTICS TO THE SMALLER MATRIX\n",
    "# REFERENCE THE DIAGRAM ON THE PAPER\n",
    "\n",
    "def create_cnn_model():\n",
    "\n",
    "    # INPUT LAYERS\n",
    "    input1 = tf.keras.layers.Input(shape=(148, 188, 4), name='Input_Images')\n",
    "    input2 = tf.keras.layers.Input(shape=(1,1,11), name='Input_Street')\n",
    "    \n",
    "    #CNN FOR IMAGE PROCESSING\n",
    "    cnn = tf.keras.layers.Conv2D(11, (4,4), activation=\"relu\")(input1)\n",
    "    pooling = tf.keras.layers.MaxPooling2D((4, 4), strides=2)(cnn)\n",
    "    images = tf.keras.models.Model(inputs=input1, outputs=pooling)\n",
    "    \n",
    "    #ADDING STREET DATA\n",
    "    #combined = tf.keras.layers.Concatenate(axis = 2)([images.output, input2])\n",
    "    combined = tf.keras.layers.Add()([images.output, input2])\n",
    "    \n",
    "    # PAPER USES RESNET-18 FOR THE REST OF THE MODEL WITH THE COMBINED DATA\n",
    "    resnet = resnet18(combined)\n",
    "    output = tf.keras.layers.Dense(units=1, activation=None, name='output')(resnet)\n",
    "    \n",
    "    #instantiation layer \n",
    "    cnn_model = tf.keras.models.Model(inputs=[input1, input2], outputs=output)\n",
    "    \n",
    "    return cnn_model\n",
    "\n",
    "cnn_model = create_cnn_model()\n",
    "\n",
    "cnn_model.summary()\n",
    "\n",
    "cnn_model.compile(\n",
    "    optimizer=tf.keras.optimizers.Adam(learning_rate=0.001),\n",
    "    loss='mean_absolute_error' #,\n",
    "    #metrics = [tf.keras.metrics.Accuracy()]\n",
    "    )\n",
    "\n",
    "history = cnn_model.fit(\n",
    "    [images_mini, street_mini],\n",
    "    np.stack(y_train),\n",
    "    epochs=10,\n",
    "    # Suppress logging.\n",
    "     verbose=1,\n",
    "    # Calculate validation results on 20% of the training data.\n",
    "    validation_split = 0.2)"
   ]
  },
  {
   "cell_type": "code",
   "execution_count": null,
   "id": "529937cd",
   "metadata": {
    "tags": []
   },
   "outputs": [],
   "source": [
    "plot_loss(history)"
   ]
  },
  {
   "cell_type": "markdown",
   "id": "bc3fbae2-bbfa-416f-ba2c-7fae81b75d67",
   "metadata": {},
   "source": [
    "**Model 2.2: Second CNN**"
   ]
  },
  {
   "cell_type": "code",
   "execution_count": null,
   "id": "4cdb0ab1-0afc-439b-823b-43932327e271",
   "metadata": {
    "tags": []
   },
   "outputs": [],
   "source": [
    "# x: Satellite Images, 'Collisions_Historical', 'Mid_lat','Mid_long', 'Stop_Signs', 'Paving_historical', 'Bus_stop'\n",
    "# y: 'Collisions_Future'\n",
    "\n",
    "# ACCORDING TO THE PAPER, THEY DOWNSIZED THE IMAGES FIRST INTO SMALLER MATRICES \n",
    "# THEN ADDED THE STREET CHARACTERISTICS TO THE SMALLER MATRIX\n",
    "# REFERENCE THE DIAGRAM ON THE PAPER\n",
    "\n",
    "def create_cnn_model():\n",
    "\n",
    "    # INPUT LAYERS\n",
    "    input1 = tf.keras.layers.Input(shape=(148, 188, 4), name='Input_Images')\n",
    "    input2 = tf.keras.layers.Input(shape=(1,1,11), name='Input_Street')\n",
    "    \n",
    "    #CNN FOR IMAGE PROCESSING\n",
    "    cnn = tf.keras.layers.Conv2D(11, (4,4), activation=\"relu\")(input1)\n",
    "    pooling = tf.keras.layers.MaxPooling2D((4, 4), strides=2)(cnn)\n",
    "    images = tf.keras.models.Model(inputs=input1, outputs=pooling)\n",
    "    \n",
    "    #ADDING STREET DATA\n",
    "    #combined = tf.keras.layers.Concatenate(axis = 2)([images.output, input2])\n",
    "    combined = tf.keras.layers.Add()([images.output, input2])\n",
    "    \n",
    "    # PAPER USES RESNET-18 FOR THE REST OF THE MODEL WITH THE COMBINED DATA\n",
    "    resnet = resnet34(combined)\n",
    "    output = tf.keras.layers.Dense(units=1, activation=None, name='output')(resnet)\n",
    "    \n",
    "    #instantiation layer \n",
    "    cnn_model = tf.keras.models.Model(inputs=[input1, input2], outputs=output)\n",
    "    \n",
    "    return cnn_model\n",
    "\n",
    "cnn_model = create_cnn_model()\n",
    "\n",
    "cnn_model.summary()\n",
    "\n",
    "cnn_model.compile(\n",
    "    optimizer=tf.keras.optimizers.Adam(learning_rate=0.001),\n",
    "    loss='mean_absolute_error' #,\n",
    "    #metrics = [tf.keras.metrics.Accuracy()]\n",
    "    )\n",
    "\n",
    "history = cnn_model.fit(\n",
    "    [images_mini, street_mini],\n",
    "    np.stack(y_train),\n",
    "    epochs=10,\n",
    "    # Suppress logging.\n",
    "     verbose=1,\n",
    "    # Calculate validation results on 20% of the training data.\n",
    "    validation_split = 0.2)\n",
    "\n",
    "plot_loss(history)"
   ]
  },
  {
   "cell_type": "markdown",
   "id": "9b54cf29-9972-4d60-9493-25bc651ada7f",
   "metadata": {},
   "source": [
    "**Model 2.3 CNN with Concatenation instead of Addition between inputs**"
   ]
  },
  {
   "cell_type": "code",
   "execution_count": null,
   "id": "543172a1-7d0d-4d0d-8ca7-68d4b65d842a",
   "metadata": {},
   "outputs": [],
   "source": [
    "street = np.asarray(x_train[['Collisions_Historical', 'Mid_lat','Mid_long', 'Stop_Signs', 'Paving_historical', 'Bus_stop']]).astype('float32')\n",
    "# street_mini = []\n",
    "# for row in range(len(street)):\n",
    "#     concat = np.concatenate((street[row], road_type[row]))\n",
    "#     street_mini.append([[concat]])\n",
    "# street_mini = np.stack(street_mini)\n",
    "# np.shape(street_mini)"
   ]
  },
  {
   "cell_type": "code",
   "execution_count": null,
   "id": "3ed34ff5-3e41-4559-a8a5-91bb225bf528",
   "metadata": {
    "tags": []
   },
   "outputs": [],
   "source": [
    "#np.shape(street_mini[0])"
   ]
  },
  {
   "cell_type": "code",
   "execution_count": null,
   "id": "d6f3c69b-3b60-4e5e-a7fd-1005eecfec1a",
   "metadata": {
    "tags": []
   },
   "outputs": [],
   "source": [
    "street_mini_2 = [] \n",
    "for k in range(len(street)):\n",
    "    for i in range(71): \n",
    "        for j in range(91):\n",
    "            concat = np.concatenate((street[k], road_type[k]))\n",
    "            street_mini_2.append(concat)"
   ]
  },
  {
   "cell_type": "code",
   "execution_count": null,
   "id": "20b975a2-c6dc-4f07-a4ae-5c83d1bf9aaa",
   "metadata": {
    "tags": []
   },
   "outputs": [],
   "source": [
    "street_mini_2 = np.reshape(street_mini_2, (len(street),71,91,11))"
   ]
  },
  {
   "cell_type": "code",
   "execution_count": null,
   "id": "4d2cbb9e-e1a0-465f-9e0a-4f8a98ccc675",
   "metadata": {
    "tags": []
   },
   "outputs": [],
   "source": [
    "np.shape(street_mini_2)"
   ]
  },
  {
   "cell_type": "code",
   "execution_count": null,
   "id": "2efe3d33-18de-4e73-9735-c1faaf102f25",
   "metadata": {},
   "outputs": [],
   "source": [
    "# x: Satellite Images, 'Collisions_Historical', 'Mid_lat','Mid_long', 'Stop_Signs', 'Paving_historical', 'Bus_stop'\n",
    "# y: 'Collisions_Future'\n",
    "\n",
    "# ACCORDING TO THE PAPER, THEY DOWNSIZED THE IMAGES FIRST INTO SMALLER MATRICES \n",
    "# THEN ADDED THE STREET CHARACTERISTICS TO THE SMALLER MATRIX\n",
    "# REFERENCE THE DIAGRAM ON THE PAPER\n",
    "\n",
    "def create_cnn_model():\n",
    "\n",
    "    # INPUT LAYERS\n",
    "    input1 = tf.keras.layers.Input(shape=(148, 188, 4), name='Input_Images')\n",
    "    input2 = tf.keras.layers.Input(shape=(71,91,11), name='Input_Street')\n",
    "    \n",
    "    #CNN FOR IMAGE PROCESSING\n",
    "    cnn = tf.keras.layers.Conv2D(11, (4,4), activation=\"relu\")(input1)\n",
    "    pooling = tf.keras.layers.MaxPooling2D((4, 4), strides=2)(cnn)\n",
    "    images = tf.keras.models.Model(inputs=input1, outputs=pooling)\n",
    "    \n",
    "    #ADDING STREET DATA\n",
    "    combined = tf.keras.layers.Concatenate(axis = 3)([images.output, input2])\n",
    "    #combined = tf.keras.layers.Add()([images.output, input2])\n",
    "    \n",
    "    # PAPER USES RESNET-18 FOR THE REST OF THE MODEL WITH THE COMBINED DATA\n",
    "    resnet = resnet18(combined)\n",
    "    output = tf.keras.layers.Dense(units=1, activation=None, name='output')(resnet)\n",
    "    \n",
    "    #instantiation layer \n",
    "    cnn_model = tf.keras.models.Model(inputs=[input1, input2], outputs=output)\n",
    "    \n",
    "    return cnn_model\n",
    "\n",
    "cnn_model = create_cnn_model()\n",
    "\n",
    "cnn_model.summary()\n",
    "\n",
    "cnn_model.compile(\n",
    "    optimizer=tf.keras.optimizers.Adam(learning_rate=0.001),\n",
    "    loss='mean_absolute_error' #,\n",
    "    #metrics = [tf.keras.metrics.Accuracy()]\n",
    "    )\n",
    "\n",
    "history = cnn_model.fit(\n",
    "    [images_mini, street_mini_2],\n",
    "    np.stack(y_train),\n",
    "    epochs=10,\n",
    "    # Suppress logging.\n",
    "     verbose=1,\n",
    "    # Calculate validation results on 20% of the training data.\n",
    "    validation_split = 0.2)"
   ]
  },
  {
   "cell_type": "code",
   "execution_count": null,
   "id": "9e20b477-842c-4740-a66b-fdd3411eb87e",
   "metadata": {
    "tags": []
   },
   "outputs": [],
   "source": [
    "plot_loss(history)"
   ]
  },
  {
   "cell_type": "markdown",
   "id": "0c1da29c-5045-40b5-b96d-a4e1fd9f4431",
   "metadata": {},
   "source": [
    "**Model #3: Random Forest using Historical Collisions, SFMTA Street Characteristics, and Geocoordinates**\n",
    "\n",
    "Helpful sources:\n",
    "\n",
    "https://www.tensorflow.org/decision_forests/api_docs/python/tfdf/keras/RandomForestModel\n",
    "https://www.tensorflow.org/decision_forests/tutorials/beginner_colab\n",
    "https://www.youtube.com/watch?v=5qgk9QJ4rdQ&t=181s"
   ]
  },
  {
   "cell_type": "code",
   "execution_count": null,
   "id": "b3df5091-b198-4c7c-badf-0444713dbe2a",
   "metadata": {
    "tags": []
   },
   "outputs": [],
   "source": [
    "# Train a Random Forest model.\n",
    "\n",
    "rf_model = tfdf.keras.RandomForestModel(task=2)\n",
    "\n",
    "rf_model.fit(np.asarray(x_train[['Collisions_Historical', 'Mid_lat','Mid_long', 'Stop_Signs', 'Paving_historical', 'Bus_stop']]).astype('float32'),\n",
    "    y_train,\n",
    "    validation_data=[x_test[['Collisions_Historical', 'Mid_lat','Mid_long', 'Stop_Signs', 'Paving_historical', 'Bus_stop']], y_test],     \n",
    "    epochs=1,\n",
    "    verbose=1)"
   ]
  },
  {
   "cell_type": "code",
   "execution_count": null,
   "id": "c3171ece-c1bf-4d1c-945e-c4ba9b7a7868",
   "metadata": {
    "tags": []
   },
   "outputs": [],
   "source": [
    "print(rf_model.summary())"
   ]
  },
  {
   "cell_type": "code",
   "execution_count": null,
   "id": "3b19fe3f-efdf-4742-82ef-7e86a13ac918",
   "metadata": {
    "tags": []
   },
   "outputs": [],
   "source": [
    "##uncomment to show training log\n",
    "#rf_model_train.make_inspector().training_logs()\n",
    "rf_model.make_inspector().evaluation()"
   ]
  },
  {
   "cell_type": "code",
   "execution_count": null,
   "id": "4868c3e6-b51e-48a0-bb2e-b79833377eeb",
   "metadata": {
    "tags": []
   },
   "outputs": [],
   "source": [
    "#evaluate the model\n",
    "rf_model.evaluate(x_test[['Collisions_Historical', 'Mid_lat','Mid_long', 'Stop_Signs', 'Paving_historical', 'Bus_stop']])"
   ]
  },
  {
   "cell_type": "code",
   "execution_count": null,
   "id": "706fd19a-cc89-4709-a522-4b8dde63d296",
   "metadata": {
    "tags": []
   },
   "outputs": [],
   "source": [
    "#make predictions from test set\n",
    "pd.DataFrame(rf_model.predict(x_test[['Collisions_Historical', 'Mid_lat','Mid_long', 'Stop_Signs', 'Paving_historical', 'Bus_stop']]))"
   ]
  },
  {
   "cell_type": "code",
   "execution_count": null,
   "id": "a0712a69-825b-4933-8b14-aac4e07df7c4",
   "metadata": {
    "tags": []
   },
   "outputs": [],
   "source": [
    "import matplotlib.pyplot as plt\n",
    "\n",
    "logs = rf_model.make_inspector().training_logs()\n",
    "\n",
    "plt.plot([log.num_trees for log in logs], [log.evaluation.rmse for log in logs], label=\"training data\")\n",
    "plt.xlabel(\"Number of trees\")\n",
    "plt.ylabel(\"RMSE (out-of-bag)\")\n",
    "plt.legend()\n",
    "plt.show()"
   ]
  },
  {
   "cell_type": "markdown",
   "id": "9e084289-c762-49c1-a904-640013394ca3",
   "metadata": {},
   "source": [
    "**Model #4: Gradient Boosted Tree using Historical Collisions, SFMTA Street Characteristics, and Geocoordinates**\n",
    "\n",
    "Helpful sources:\n",
    "\n",
    "https://www.tensorflow.org/decision_forests/api_docs/python/tfdf/keras/GradientBoostedTreesModel\n",
    "https://www.tensorflow.org/decision_forests/tutorials/beginner_colab"
   ]
  },
  {
   "cell_type": "code",
   "execution_count": null,
   "id": "04ffe685-4684-4584-8739-b2d5d72c911a",
   "metadata": {
    "tags": []
   },
   "outputs": [],
   "source": [
    "gbt_model = tfdf.keras.GradientBoostedTreesModel(task=2)\n",
    "\n",
    "gbt_model.fit(np.asarray(x_train[['Collisions_Historical', 'Mid_lat','Mid_long', 'Stop_Signs', 'Paving_historical', 'Bus_stop']]).astype('float32'),\n",
    "    y_train,\n",
    "    validation_data=[x_test[['Collisions_Historical', 'Mid_lat','Mid_long', 'Stop_Signs', 'Paving_historical', 'Bus_stop']], y_test],     \n",
    "    epochs=1,\n",
    "    verbose=1)"
   ]
  },
  {
   "cell_type": "code",
   "execution_count": null,
   "id": "37a65b05-6246-47ab-a8f4-196a84ed7714",
   "metadata": {
    "tags": []
   },
   "outputs": [],
   "source": [
    "print(gbt_model.summary())"
   ]
  },
  {
   "cell_type": "code",
   "execution_count": null,
   "id": "b1cac5a6-b828-4db7-8b0d-7273bf422a7f",
   "metadata": {
    "tags": []
   },
   "outputs": [],
   "source": [
    "##uncomment to show training log\n",
    "#gbt_model.make_inspector().training_logs()\n",
    "gbt_model.make_inspector().evaluation()"
   ]
  },
  {
   "cell_type": "code",
   "execution_count": null,
   "id": "86f7f548-7c0f-457a-a42b-bba215b3b977",
   "metadata": {
    "tags": []
   },
   "outputs": [],
   "source": [
    "import matplotlib.pyplot as plt\n",
    "\n",
    "logs = gbt_model.make_inspector().training_logs()\n",
    "\n",
    "plt.figure(figsize=(12, 4))\n",
    "\n",
    "plt.subplot(1, 2, 1)\n",
    "plt.plot([log.num_trees for log in logs], [log.evaluation.loss for log in logs], label=\"training data\")\n",
    "plt.xlabel(\"Number of trees\")\n",
    "plt.ylabel(\"Loss\")\n",
    "plt.legend()\n",
    "\n",
    "plt.subplot(1, 2, 2)\n",
    "plt.plot([log.num_trees for log in logs], [log.evaluation.loss for log in logs], label=\"training data\")\n",
    "plt.xlabel(\"Number of trees\")\n",
    "plt.ylabel(\"Loss\")\n",
    "plt.legend()\n",
    "\n",
    "plt.show()"
   ]
  },
  {
   "cell_type": "code",
   "execution_count": null,
   "id": "56b5dd5e-d39e-4c48-8bd2-abe0c3334bb9",
   "metadata": {
    "tags": []
   },
   "outputs": [],
   "source": [
    "#evaluate the model\n",
    "gbt_model.evaluate(x_test[['Collisions_Historical', 'Mid_lat','Mid_long', 'Stop_Signs', 'Paving_historical', 'Bus_stop']])"
   ]
  },
  {
   "cell_type": "code",
   "execution_count": null,
   "id": "a5306674-d587-404a-aa1f-eba8a3c750aa",
   "metadata": {
    "tags": []
   },
   "outputs": [],
   "source": [
    "#make predictions from test set\n",
    "pd.DataFrame(gbt_model.predict(x_test[['Collisions_Historical', 'Mid_lat','Mid_long', 'Stop_Signs', 'Paving_historical', 'Bus_stop']]))"
   ]
  },
  {
   "cell_type": "code",
   "execution_count": null,
   "id": "0cdb56ec-d6ae-4765-b3be-f1d4ef0e031b",
   "metadata": {},
   "outputs": [],
   "source": []
  }
 ],
 "metadata": {
  "kernelspec": {
   "display_name": "Python 3 (ipykernel)",
   "language": "python",
   "name": "python3"
  },
  "language_info": {
   "codemirror_mode": {
    "name": "ipython",
    "version": 3
   },
   "file_extension": ".py",
   "mimetype": "text/x-python",
   "name": "python",
   "nbconvert_exporter": "python",
   "pygments_lexer": "ipython3",
   "version": "3.10.6"
  }
 },
 "nbformat": 4,
 "nbformat_minor": 5
}
