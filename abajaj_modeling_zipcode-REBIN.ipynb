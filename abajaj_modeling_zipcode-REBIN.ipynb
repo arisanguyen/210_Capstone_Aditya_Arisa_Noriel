{
 "cells": [
  {
   "cell_type": "code",
   "execution_count": 1,
   "id": "356025b8",
   "metadata": {
    "tags": []
   },
   "outputs": [
    {
     "name": "stderr",
     "output_type": "stream",
     "text": [
      "2023-04-09 23:14:55.342928: I tensorflow/core/platform/cpu_feature_guard.cc:193] This TensorFlow binary is optimized with oneAPI Deep Neural Network Library (oneDNN) to use the following CPU instructions in performance-critical operations:  AVX2 FMA\n",
      "To enable them in other operations, rebuild TensorFlow with the appropriate compiler flags.\n",
      "2023-04-09 23:14:56.245217: W tensorflow/compiler/xla/stream_executor/platform/default/dso_loader.cc:64] Could not load dynamic library 'libnvinfer.so.7'; dlerror: libnvinfer.so.7: cannot open shared object file: No such file or directory; LD_LIBRARY_PATH: /opt/amazon/efa/lib:/opt/amazon/openmpi/lib:/usr/local/cuda/efa/lib:/usr/local/cuda/lib:/usr/local/cuda:/usr/local/cuda/lib64:/usr/local/cuda/extras/CUPTI/lib64:/usr/local/cuda/targets/x86_64-linux/lib:/usr/local/lib:/usr/lib:/opt/amazon/efa/lib:/opt/amazon/openmpi/lib:/usr/local/cuda/efa/lib:/usr/local/cuda/lib:/usr/local/cuda:/usr/local/cuda/lib64:/usr/local/cuda/extras/CUPTI/lib64:/usr/local/cuda/targets/x86_64-linux/lib:/usr/local/lib:/usr/lib:\n",
      "2023-04-09 23:14:56.245353: W tensorflow/compiler/xla/stream_executor/platform/default/dso_loader.cc:64] Could not load dynamic library 'libnvinfer_plugin.so.7'; dlerror: libnvinfer_plugin.so.7: cannot open shared object file: No such file or directory; LD_LIBRARY_PATH: /opt/amazon/efa/lib:/opt/amazon/openmpi/lib:/usr/local/cuda/efa/lib:/usr/local/cuda/lib:/usr/local/cuda:/usr/local/cuda/lib64:/usr/local/cuda/extras/CUPTI/lib64:/usr/local/cuda/targets/x86_64-linux/lib:/usr/local/lib:/usr/lib:/opt/amazon/efa/lib:/opt/amazon/openmpi/lib:/usr/local/cuda/efa/lib:/usr/local/cuda/lib:/usr/local/cuda:/usr/local/cuda/lib64:/usr/local/cuda/extras/CUPTI/lib64:/usr/local/cuda/targets/x86_64-linux/lib:/usr/local/lib:/usr/lib:\n",
      "2023-04-09 23:14:56.245365: W tensorflow/compiler/tf2tensorrt/utils/py_utils.cc:38] TF-TRT Warning: Cannot dlopen some TensorRT libraries. If you would like to use Nvidia GPU with TensorRT, please make sure the missing libraries mentioned above are installed properly.\n"
     ]
    }
   ],
   "source": [
    "import numpy as np\n",
    "import pandas as pd\n",
    "import math\n",
    "\n",
    "import matplotlib\n",
    "import matplotlib.pyplot as plt\n",
    "\n",
    "import tensorflow as tf\n",
    "from tensorflow import keras\n",
    "from tensorflow.keras import layers\n",
    "from tensorflow.keras.layers import concatenate\n",
    "import tensorflow_addons as tfa\n",
    "from keras.layers import Flatten, Dense, Dropout\n",
    "import tifffile\n",
    "\n",
    "from sklearn.model_selection import train_test_split\n",
    "# from sklearn.preprocessing import LabelEncoder\n",
    "# from sklearn.preprocessing import OneHotEncoder\n",
    "from sklearn.preprocessing import LabelBinarizer, normalize\n",
    "from sklearn.linear_model import LogisticRegression\n",
    "from sklearn.metrics import f1_score\n",
    "from sklearn.utils.class_weight import compute_class_weight\n",
    "import os\n",
    "\n",
    "from imblearn.over_sampling import RandomOverSampler, SMOTE\n",
    "from imblearn.combine import SMOTEENN \n",
    "from collections import Counter\n",
    "import seaborn as sns\n",
    "import scipy\n",
    "from numba import cuda \n",
    "\n",
    "from sklearn.metrics import confusion_matrix"
   ]
  },
  {
   "cell_type": "code",
   "execution_count": 2,
   "id": "cbe8314a-60a7-4de8-be72-620b659ef79d",
   "metadata": {
    "tags": []
   },
   "outputs": [],
   "source": [
    "# !pip install numpy tensorflow matplotlib scipy\n",
    "# # !pip install pandas\n",
    "# !pip install tifffile\n",
    "# !pip install scikit-learn\n",
    "# !pip install imagecodecs\n",
    "# !pip install tensorflow-addons tensorflow\n",
    "# !pip install numba\n",
    "# !pip install ipyplot\n",
    "# !pip install imbalanced-learn"
   ]
  },
  {
   "cell_type": "code",
   "execution_count": 3,
   "id": "bc10282d-f694-4346-b6e6-34923575c633",
   "metadata": {
    "tags": []
   },
   "outputs": [],
   "source": [
    "def reset_gpu():\n",
    "    device = cuda.get_current_device()\n",
    "    device.reset()"
   ]
  },
  {
   "cell_type": "code",
   "execution_count": 4,
   "id": "8bb10982-72ec-439c-9c1a-6c182803eb2f",
   "metadata": {
    "tags": []
   },
   "outputs": [],
   "source": [
    "def plot_loss(history):\n",
    "    plt.plot(history.history['loss'], label='loss')\n",
    "    plt.plot(history.history['val_loss'], label='val_loss')\n",
    "   # plt.plot(history.history['accuracy'], label='accuracy')\n",
    "   # plt.plot(history.history['val_accuracy'], label='val_accuracy')\n",
    "    plt.ylim([0, \n",
    "            max(\n",
    "                max(history.history['loss']),\n",
    "                max(history.history['val_loss'])\n",
    "            )])\n",
    "    plt.xlabel('Epoch')\n",
    "    plt.ylabel('Loss')\n",
    "    plt.legend()\n",
    "    plt.grid(True)"
   ]
  },
  {
   "cell_type": "code",
   "execution_count": 13,
   "id": "f3693092",
   "metadata": {
    "tags": []
   },
   "outputs": [],
   "source": [
    "tiles_expanded_rv = pd.read_csv(r'Data/Tiles_binned_zipcode_rebinned.csv')"
   ]
  },
  {
   "cell_type": "markdown",
   "id": "41bb3afd-8bcf-4da0-b25e-86c18e152f09",
   "metadata": {},
   "source": [
    "## Splitting data into Train & Test"
   ]
  },
  {
   "cell_type": "code",
   "execution_count": 14,
   "id": "ed798249-0577-44cc-83ce-39d58e7bcf19",
   "metadata": {
    "tags": []
   },
   "outputs": [],
   "source": [
    "MODEL_TYPE='logistic' # 'linear'\n",
    "\n",
    "if MODEL_TYPE == 'linear':\n",
    "    input_x = ['Tile_ID','Collisions_Historical', 'Mid_lat_norm','Mid_long_norm', 'Stop_Signs', 'Paving_historical', 'Bus_stop','RTTYP_I','RTTYP_M','RTTYP_S','RTTYP_U'] # Removing RTTYP_O\n",
    "    input_y = ['Collisions_Future']\n",
    "elif MODEL_TYPE == 'logistic':\n",
    "    input_x = ['Tile_ID', 'Stop_Signs', 'Paving_historical', 'Bus_stop',\n",
    "       'Collisions_Historical', 'RTTYP_I', 'RTTYP_M', 'RTTYP_O', 'RTTYP_S',\n",
    "       'RTTYP_U', '94101', '94102', '94104', '94105', '94107',\n",
    "       '94108', '94109', '94110', '94111', '94112', '94114', '94115', '94116',\n",
    "       '94117', '94118', '94121', '94122', '94123', '94124', '94127', '94129',\n",
    "       '94130', '94131', '94132', '94133', '94134', '94141', '94143', '94158',\n",
    "       '94188']\n",
    "    input_y = ['bins_numeric']\n",
    "    \n",
    "\n",
    "x_train, x_test, y_train, y_test = train_test_split(\n",
    "                                    tiles_expanded_rv[input_x], \n",
    "                                    tiles_expanded_rv[input_y],\n",
    "                                    random_state=104, \n",
    "                                    test_size=0.20, \n",
    "                                    shuffle=True)\n"
   ]
  },
  {
   "cell_type": "markdown",
   "id": "47f02cb9-35d2-4b18-9f7f-c08e9a478238",
   "metadata": {},
   "source": [
    "## Splitting data into Train and Validation"
   ]
  },
  {
   "cell_type": "code",
   "execution_count": 15,
   "id": "867a9032-556d-43b4-971b-a000e61b6f41",
   "metadata": {
    "tags": []
   },
   "outputs": [],
   "source": [
    "x_train, x_val, y_train, y_val = train_test_split(\n",
    "                                    x_train, \n",
    "                                    y_train,\n",
    "                                    random_state=104, \n",
    "                                    test_size=0.20, \n",
    "                                    shuffle=True)"
   ]
  },
  {
   "cell_type": "code",
   "execution_count": 16,
   "id": "70cc852d-d4fe-452c-8ede-34304343c2be",
   "metadata": {
    "tags": []
   },
   "outputs": [
    {
     "data": {
      "text/plain": [
       "0    5297\n",
       "1    1198\n",
       "2     161\n",
       "3      44\n",
       "Name: bins_numeric, dtype: int64"
      ]
     },
     "execution_count": 16,
     "metadata": {},
     "output_type": "execute_result"
    }
   ],
   "source": [
    "y_train['bins_numeric'].value_counts()"
   ]
  },
  {
   "cell_type": "markdown",
   "id": "a39bcdd0-c978-46b5-be3b-c9872cc056b6",
   "metadata": {
    "tags": []
   },
   "source": [
    "### Oversampling minority classes using SMOTE"
   ]
  },
  {
   "cell_type": "code",
   "execution_count": 18,
   "id": "972b63e3-3a1c-403c-9e04-3bd44597f29b",
   "metadata": {
    "tags": []
   },
   "outputs": [
    {
     "name": "stdout",
     "output_type": "stream",
     "text": [
      "Counter({0: 5297, 1: 1198, 2: 161, 3: 44})\n",
      "Counter({0: 5297, 1: 1198, 2: 341, 3: 132})\n"
     ]
    }
   ],
   "source": [
    "counter = Counter(y_train['bins_numeric'])\n",
    "print(counter)\n",
    "ros = RandomOverSampler(random_state=0,sampling_strategy={0:5297, 1:1198, 2:341, 3:132})\n",
    "x_train, y_train = ros.fit_resample(x_train, y_train)\n",
    "counter_sampled = Counter(y_train['bins_numeric'])\n",
    "print(counter_sampled)"
   ]
  },
  {
   "cell_type": "code",
   "execution_count": 19,
   "id": "99c23eaa-143a-4e43-8cfd-2464a8621912",
   "metadata": {
    "tags": []
   },
   "outputs": [],
   "source": [
    "class_weight_list = compute_class_weight(class_weight='balanced',classes=y_train['bins_numeric'].unique(), y=y_train['bins_numeric'].to_numpy())"
   ]
  },
  {
   "cell_type": "code",
   "execution_count": 21,
   "id": "82c4ed67-b887-495a-8b93-735dee9561fc",
   "metadata": {
    "tags": []
   },
   "outputs": [
    {
     "name": "stdout",
     "output_type": "stream",
     "text": [
      "[ 0.3288654   1.45409015 13.1969697   5.1085044 ]\n"
     ]
    }
   ],
   "source": [
    "print(class_weight_list)"
   ]
  },
  {
   "cell_type": "code",
   "execution_count": 22,
   "id": "40d82e2d-705f-45e4-812a-ae4755f73362",
   "metadata": {
    "tags": []
   },
   "outputs": [],
   "source": [
    "class_weight={}\n",
    "unique_classes = y_train['bins_numeric'].unique()\n",
    "for i in range(4) :\n",
    "    class_weight[unique_classes[i]] = class_weight_list[i]"
   ]
  },
  {
   "cell_type": "code",
   "execution_count": 23,
   "id": "d4b67969-7acc-489a-ac27-0aa16f9c5282",
   "metadata": {
    "tags": []
   },
   "outputs": [
    {
     "data": {
      "text/plain": [
       "{0: 0.3288653955068907,\n",
       " 1: 1.4540901502504173,\n",
       " 3: 13.196969696969697,\n",
       " 2: 5.108504398826979}"
      ]
     },
     "execution_count": 23,
     "metadata": {},
     "output_type": "execute_result"
    }
   ],
   "source": [
    "# print(unique_classes)\n",
    "class_weight"
   ]
  },
  {
   "cell_type": "markdown",
   "id": "bf220283",
   "metadata": {},
   "source": [
    "## Image Pre-Processing"
   ]
  },
  {
   "cell_type": "code",
   "execution_count": 24,
   "id": "ea514649",
   "metadata": {
    "tags": []
   },
   "outputs": [],
   "source": [
    "IMAGE_PATH = 'Satellite_Imagery/Satellite_Images_Tiled/' "
   ]
  },
  {
   "cell_type": "code",
   "execution_count": 27,
   "id": "b40c2ccb",
   "metadata": {
    "tags": []
   },
   "outputs": [],
   "source": [
    "img = tifffile.imread('Satellite_Imagery/Satellite_Images_Tiled/36.tif')[0:148, 0:188, :]\n",
    "img2 = tifffile.imread('Satellite_Imagery/Satellite_Images_Tiled/37.tif')[0:148, 0:188, :]"
   ]
  },
  {
   "cell_type": "code",
   "execution_count": 28,
   "id": "97889d4b",
   "metadata": {
    "tags": []
   },
   "outputs": [
    {
     "name": "stdout",
     "output_type": "stream",
     "text": [
      "(148, 188, 4)\n"
     ]
    }
   ],
   "source": [
    "print(np.shape(img2))"
   ]
  },
  {
   "cell_type": "code",
   "execution_count": 29,
   "id": "545c8609",
   "metadata": {
    "scrolled": true,
    "tags": []
   },
   "outputs": [
    {
     "name": "stdout",
     "output_type": "stream",
     "text": [
      "(2, 148, 188, 4)\n",
      "(2, 148, 188, 4)\n"
     ]
    }
   ],
   "source": [
    "# eda\n",
    "test = []\n",
    "test.append(img[0:148, 0:188, :])\n",
    "test.append(img2[0:148, 0:188, :])\n",
    "print(np.shape(test))\n",
    "test = np.stack(test)\n",
    "print(np.shape(test))"
   ]
  },
  {
   "cell_type": "code",
   "execution_count": 30,
   "id": "9298e629",
   "metadata": {
    "tags": []
   },
   "outputs": [],
   "source": [
    "def preprocess_data_part1(IMAGE_PATH):\n",
    "    \"\"\" Generate lists of images and labelsbased on temp_no_refer and temp_refer lists\n",
    "    \n",
    "    Params:\n",
    "    -------\n",
    "    IMAGE_PATH (str): path to directory with images.\n",
    "    \n",
    "    Returns:\n",
    "    --------\n",
    "    images_mini  (np.ndarray): Images of shape (N, 149 3)\n",
    "    \"\"\"\n",
    "    \n",
    "    data_mini = []\n",
    "    data_mini_test = []\n",
    "    data_mini_test_final = []\n",
    "    for id in x_train['Tile_ID']:    \n",
    "                    \n",
    "        # read image and store as matrix            \n",
    "        # Index at the end makes all images the same size (they sometimes differ by 1 pixel)\n",
    "        image = tifffile.imread(IMAGE_PATH + str(id) + '.tif')[0:148, 0:188, :]\n",
    "            \n",
    "        # append to images\n",
    "        data_mini.append(image)\n",
    " \n",
    "    # stack images and trasnform to array\n",
    "    images_mini = np.stack(data_mini)\n",
    "    \n",
    "    for id in x_val['Tile_ID']:    \n",
    "                    \n",
    "        # read image and store as matrix            \n",
    "        # Index at the end makes all images the same size (they sometimes differ by 1 pixel)\n",
    "        image = tifffile.imread(IMAGE_PATH + str(id) + '.tif')[0:148, 0:188, :]\n",
    "            \n",
    "        # append to images\n",
    "        data_mini_test.append(image)\n",
    " \n",
    "    # stack images and trasnform to array\n",
    "    images_mini_test = np.stack(data_mini_test)\n",
    "    \n",
    "    for id in x_test['Tile_ID']:\n",
    "        # read image and store as matrix            \n",
    "        # Index at the end makes all images the same size (they sometimes differ by 1 pixel)\n",
    "        image = tifffile.imread(IMAGE_PATH + str(id) + '.tif')[0:148, 0:188, :]\n",
    "            \n",
    "        # append to images\n",
    "        data_mini_test_final.append(image)\n",
    "    \n",
    "    images_mini_test_final = np.stack(data_mini_test_final)\n",
    "    \n",
    "        \n",
    "    \n",
    "    return images_mini, images_mini_test, images_mini_test_final\n"
   ]
  },
  {
   "cell_type": "code",
   "execution_count": 33,
   "id": "4d8f77ae",
   "metadata": {
    "tags": []
   },
   "outputs": [],
   "source": [
    "# THERE IS ONE FILE IN THE \"SATELLITE IMAGES TILED\" FOLDER THAT IS NOT A TIF IMAGE, DELETE THIS FILE\n",
    "images_mini, images_mini_test, images_mini_test_final = preprocess_data_part1(IMAGE_PATH)"
   ]
  },
  {
   "cell_type": "code",
   "execution_count": 36,
   "id": "0ce10975",
   "metadata": {
    "tags": []
   },
   "outputs": [
    {
     "name": "stdout",
     "output_type": "stream",
     "text": [
      "(6968, 148, 188, 4)\n",
      "(1676, 148, 188, 4)\n",
      "(2095, 148, 188, 4)\n"
     ]
    }
   ],
   "source": [
    "print(np.shape(images_mini))\n",
    "print(np.shape(images_mini_test))\n",
    "print(np.shape(images_mini_test_final))"
   ]
  },
  {
   "cell_type": "markdown",
   "id": "57135842",
   "metadata": {},
   "source": [
    "Street Data Pre-Processing"
   ]
  },
  {
   "cell_type": "code",
   "execution_count": 37,
   "id": "a61d6f6c-0ac9-4629-b971-fdcc823d1324",
   "metadata": {
    "tags": []
   },
   "outputs": [
    {
     "data": {
      "text/html": [
       "<div>\n",
       "<style scoped>\n",
       "    .dataframe tbody tr th:only-of-type {\n",
       "        vertical-align: middle;\n",
       "    }\n",
       "\n",
       "    .dataframe tbody tr th {\n",
       "        vertical-align: top;\n",
       "    }\n",
       "\n",
       "    .dataframe thead th {\n",
       "        text-align: right;\n",
       "    }\n",
       "</style>\n",
       "<table border=\"1\" class=\"dataframe\">\n",
       "  <thead>\n",
       "    <tr style=\"text-align: right;\">\n",
       "      <th></th>\n",
       "      <th>Tile_ID</th>\n",
       "      <th>Stop_Signs</th>\n",
       "      <th>Paving_historical</th>\n",
       "      <th>Bus_stop</th>\n",
       "      <th>Collisions_Historical</th>\n",
       "      <th>RTTYP_I</th>\n",
       "      <th>RTTYP_M</th>\n",
       "      <th>RTTYP_O</th>\n",
       "      <th>RTTYP_S</th>\n",
       "      <th>RTTYP_U</th>\n",
       "      <th>...</th>\n",
       "      <th>94129</th>\n",
       "      <th>94130</th>\n",
       "      <th>94131</th>\n",
       "      <th>94132</th>\n",
       "      <th>94133</th>\n",
       "      <th>94134</th>\n",
       "      <th>94141</th>\n",
       "      <th>94143</th>\n",
       "      <th>94158</th>\n",
       "      <th>94188</th>\n",
       "    </tr>\n",
       "  </thead>\n",
       "  <tbody>\n",
       "    <tr>\n",
       "      <th>0</th>\n",
       "      <td>1526</td>\n",
       "      <td>0.0</td>\n",
       "      <td>0.0</td>\n",
       "      <td>0.0</td>\n",
       "      <td>0.0</td>\n",
       "      <td>0</td>\n",
       "      <td>1</td>\n",
       "      <td>0</td>\n",
       "      <td>0</td>\n",
       "      <td>0</td>\n",
       "      <td>...</td>\n",
       "      <td>0</td>\n",
       "      <td>0</td>\n",
       "      <td>0</td>\n",
       "      <td>0</td>\n",
       "      <td>0</td>\n",
       "      <td>0</td>\n",
       "      <td>0</td>\n",
       "      <td>0</td>\n",
       "      <td>0</td>\n",
       "      <td>0</td>\n",
       "    </tr>\n",
       "    <tr>\n",
       "      <th>1</th>\n",
       "      <td>11426</td>\n",
       "      <td>0.0</td>\n",
       "      <td>7.0</td>\n",
       "      <td>0.0</td>\n",
       "      <td>8.0</td>\n",
       "      <td>0</td>\n",
       "      <td>1</td>\n",
       "      <td>0</td>\n",
       "      <td>0</td>\n",
       "      <td>0</td>\n",
       "      <td>...</td>\n",
       "      <td>0</td>\n",
       "      <td>0</td>\n",
       "      <td>0</td>\n",
       "      <td>0</td>\n",
       "      <td>0</td>\n",
       "      <td>0</td>\n",
       "      <td>0</td>\n",
       "      <td>0</td>\n",
       "      <td>0</td>\n",
       "      <td>0</td>\n",
       "    </tr>\n",
       "    <tr>\n",
       "      <th>2</th>\n",
       "      <td>13993</td>\n",
       "      <td>0.0</td>\n",
       "      <td>0.0</td>\n",
       "      <td>0.0</td>\n",
       "      <td>0.0</td>\n",
       "      <td>0</td>\n",
       "      <td>1</td>\n",
       "      <td>0</td>\n",
       "      <td>0</td>\n",
       "      <td>0</td>\n",
       "      <td>...</td>\n",
       "      <td>0</td>\n",
       "      <td>0</td>\n",
       "      <td>0</td>\n",
       "      <td>0</td>\n",
       "      <td>0</td>\n",
       "      <td>0</td>\n",
       "      <td>0</td>\n",
       "      <td>0</td>\n",
       "      <td>0</td>\n",
       "      <td>1</td>\n",
       "    </tr>\n",
       "    <tr>\n",
       "      <th>3</th>\n",
       "      <td>3201</td>\n",
       "      <td>0.0</td>\n",
       "      <td>0.0</td>\n",
       "      <td>0.0</td>\n",
       "      <td>0.0</td>\n",
       "      <td>0</td>\n",
       "      <td>1</td>\n",
       "      <td>0</td>\n",
       "      <td>0</td>\n",
       "      <td>0</td>\n",
       "      <td>...</td>\n",
       "      <td>0</td>\n",
       "      <td>0</td>\n",
       "      <td>0</td>\n",
       "      <td>1</td>\n",
       "      <td>0</td>\n",
       "      <td>0</td>\n",
       "      <td>0</td>\n",
       "      <td>0</td>\n",
       "      <td>0</td>\n",
       "      <td>0</td>\n",
       "    </tr>\n",
       "    <tr>\n",
       "      <th>4</th>\n",
       "      <td>13779</td>\n",
       "      <td>0.0</td>\n",
       "      <td>0.0</td>\n",
       "      <td>0.0</td>\n",
       "      <td>0.0</td>\n",
       "      <td>0</td>\n",
       "      <td>1</td>\n",
       "      <td>0</td>\n",
       "      <td>0</td>\n",
       "      <td>0</td>\n",
       "      <td>...</td>\n",
       "      <td>0</td>\n",
       "      <td>0</td>\n",
       "      <td>0</td>\n",
       "      <td>0</td>\n",
       "      <td>0</td>\n",
       "      <td>0</td>\n",
       "      <td>0</td>\n",
       "      <td>0</td>\n",
       "      <td>0</td>\n",
       "      <td>0</td>\n",
       "    </tr>\n",
       "    <tr>\n",
       "      <th>...</th>\n",
       "      <td>...</td>\n",
       "      <td>...</td>\n",
       "      <td>...</td>\n",
       "      <td>...</td>\n",
       "      <td>...</td>\n",
       "      <td>...</td>\n",
       "      <td>...</td>\n",
       "      <td>...</td>\n",
       "      <td>...</td>\n",
       "      <td>...</td>\n",
       "      <td>...</td>\n",
       "      <td>...</td>\n",
       "      <td>...</td>\n",
       "      <td>...</td>\n",
       "      <td>...</td>\n",
       "      <td>...</td>\n",
       "      <td>...</td>\n",
       "      <td>...</td>\n",
       "      <td>...</td>\n",
       "      <td>...</td>\n",
       "      <td>...</td>\n",
       "    </tr>\n",
       "    <tr>\n",
       "      <th>6963</th>\n",
       "      <td>11946</td>\n",
       "      <td>0.0</td>\n",
       "      <td>0.0</td>\n",
       "      <td>1.0</td>\n",
       "      <td>2.0</td>\n",
       "      <td>0</td>\n",
       "      <td>1</td>\n",
       "      <td>0</td>\n",
       "      <td>0</td>\n",
       "      <td>0</td>\n",
       "      <td>...</td>\n",
       "      <td>0</td>\n",
       "      <td>0</td>\n",
       "      <td>0</td>\n",
       "      <td>0</td>\n",
       "      <td>0</td>\n",
       "      <td>1</td>\n",
       "      <td>0</td>\n",
       "      <td>0</td>\n",
       "      <td>0</td>\n",
       "      <td>0</td>\n",
       "    </tr>\n",
       "    <tr>\n",
       "      <th>6964</th>\n",
       "      <td>10265</td>\n",
       "      <td>0.0</td>\n",
       "      <td>0.0</td>\n",
       "      <td>1.0</td>\n",
       "      <td>9.0</td>\n",
       "      <td>0</td>\n",
       "      <td>1</td>\n",
       "      <td>0</td>\n",
       "      <td>0</td>\n",
       "      <td>0</td>\n",
       "      <td>...</td>\n",
       "      <td>0</td>\n",
       "      <td>0</td>\n",
       "      <td>0</td>\n",
       "      <td>0</td>\n",
       "      <td>0</td>\n",
       "      <td>0</td>\n",
       "      <td>0</td>\n",
       "      <td>0</td>\n",
       "      <td>0</td>\n",
       "      <td>0</td>\n",
       "    </tr>\n",
       "    <tr>\n",
       "      <th>6965</th>\n",
       "      <td>11226</td>\n",
       "      <td>0.0</td>\n",
       "      <td>0.0</td>\n",
       "      <td>0.0</td>\n",
       "      <td>9.0</td>\n",
       "      <td>0</td>\n",
       "      <td>1</td>\n",
       "      <td>0</td>\n",
       "      <td>0</td>\n",
       "      <td>0</td>\n",
       "      <td>...</td>\n",
       "      <td>0</td>\n",
       "      <td>0</td>\n",
       "      <td>0</td>\n",
       "      <td>0</td>\n",
       "      <td>0</td>\n",
       "      <td>0</td>\n",
       "      <td>0</td>\n",
       "      <td>0</td>\n",
       "      <td>0</td>\n",
       "      <td>0</td>\n",
       "    </tr>\n",
       "    <tr>\n",
       "      <th>6966</th>\n",
       "      <td>11226</td>\n",
       "      <td>0.0</td>\n",
       "      <td>0.0</td>\n",
       "      <td>0.0</td>\n",
       "      <td>9.0</td>\n",
       "      <td>0</td>\n",
       "      <td>1</td>\n",
       "      <td>0</td>\n",
       "      <td>0</td>\n",
       "      <td>0</td>\n",
       "      <td>...</td>\n",
       "      <td>0</td>\n",
       "      <td>0</td>\n",
       "      <td>0</td>\n",
       "      <td>0</td>\n",
       "      <td>0</td>\n",
       "      <td>0</td>\n",
       "      <td>0</td>\n",
       "      <td>0</td>\n",
       "      <td>0</td>\n",
       "      <td>0</td>\n",
       "    </tr>\n",
       "    <tr>\n",
       "      <th>6967</th>\n",
       "      <td>9575</td>\n",
       "      <td>1.0</td>\n",
       "      <td>6.0</td>\n",
       "      <td>1.0</td>\n",
       "      <td>9.0</td>\n",
       "      <td>0</td>\n",
       "      <td>1</td>\n",
       "      <td>0</td>\n",
       "      <td>0</td>\n",
       "      <td>0</td>\n",
       "      <td>...</td>\n",
       "      <td>0</td>\n",
       "      <td>0</td>\n",
       "      <td>0</td>\n",
       "      <td>0</td>\n",
       "      <td>0</td>\n",
       "      <td>0</td>\n",
       "      <td>0</td>\n",
       "      <td>0</td>\n",
       "      <td>0</td>\n",
       "      <td>0</td>\n",
       "    </tr>\n",
       "  </tbody>\n",
       "</table>\n",
       "<p>6968 rows × 40 columns</p>\n",
       "</div>"
      ],
      "text/plain": [
       "      Tile_ID  Stop_Signs  Paving_historical  Bus_stop  Collisions_Historical  \\\n",
       "0        1526         0.0                0.0       0.0                    0.0   \n",
       "1       11426         0.0                7.0       0.0                    8.0   \n",
       "2       13993         0.0                0.0       0.0                    0.0   \n",
       "3        3201         0.0                0.0       0.0                    0.0   \n",
       "4       13779         0.0                0.0       0.0                    0.0   \n",
       "...       ...         ...                ...       ...                    ...   \n",
       "6963    11946         0.0                0.0       1.0                    2.0   \n",
       "6964    10265         0.0                0.0       1.0                    9.0   \n",
       "6965    11226         0.0                0.0       0.0                    9.0   \n",
       "6966    11226         0.0                0.0       0.0                    9.0   \n",
       "6967     9575         1.0                6.0       1.0                    9.0   \n",
       "\n",
       "      RTTYP_I  RTTYP_M  RTTYP_O  RTTYP_S  RTTYP_U  ...  94129  94130  94131  \\\n",
       "0           0        1        0        0        0  ...      0      0      0   \n",
       "1           0        1        0        0        0  ...      0      0      0   \n",
       "2           0        1        0        0        0  ...      0      0      0   \n",
       "3           0        1        0        0        0  ...      0      0      0   \n",
       "4           0        1        0        0        0  ...      0      0      0   \n",
       "...       ...      ...      ...      ...      ...  ...    ...    ...    ...   \n",
       "6963        0        1        0        0        0  ...      0      0      0   \n",
       "6964        0        1        0        0        0  ...      0      0      0   \n",
       "6965        0        1        0        0        0  ...      0      0      0   \n",
       "6966        0        1        0        0        0  ...      0      0      0   \n",
       "6967        0        1        0        0        0  ...      0      0      0   \n",
       "\n",
       "      94132  94133  94134  94141  94143  94158  94188  \n",
       "0         0      0      0      0      0      0      0  \n",
       "1         0      0      0      0      0      0      0  \n",
       "2         0      0      0      0      0      0      1  \n",
       "3         1      0      0      0      0      0      0  \n",
       "4         0      0      0      0      0      0      0  \n",
       "...     ...    ...    ...    ...    ...    ...    ...  \n",
       "6963      0      0      1      0      0      0      0  \n",
       "6964      0      0      0      0      0      0      0  \n",
       "6965      0      0      0      0      0      0      0  \n",
       "6966      0      0      0      0      0      0      0  \n",
       "6967      0      0      0      0      0      0      0  \n",
       "\n",
       "[6968 rows x 40 columns]"
      ]
     },
     "execution_count": 37,
     "metadata": {},
     "output_type": "execute_result"
    }
   ],
   "source": [
    "x_train"
   ]
  },
  {
   "cell_type": "code",
   "execution_count": 38,
   "id": "8dce0686",
   "metadata": {
    "tags": []
   },
   "outputs": [
    {
     "data": {
      "text/plain": [
       "(1676, 1, 1, 39)"
      ]
     },
     "execution_count": 38,
     "metadata": {},
     "output_type": "execute_result"
    }
   ],
   "source": [
    "street = np.asarray(x_train[input_x[1:]]).astype('float32')\n",
    "street_mini = []\n",
    "for row in street:\n",
    "    street_mini.append([[row]])\n",
    "street_mini = np.stack(street_mini)\n",
    "np.shape(street_mini)\n",
    "\n",
    "\n",
    "street_test = np.asarray(x_val[input_x[1:]]).astype('float32')\n",
    "street_mini_test = []\n",
    "for row in street_test:\n",
    "    street_mini_test.append([[row]])\n",
    "street_mini_test = np.stack(street_mini_test)\n",
    "np.shape(street_mini_test)\n"
   ]
  },
  {
   "cell_type": "code",
   "execution_count": 39,
   "id": "f8a17d90-04d8-48e5-b2b5-96a783356d8b",
   "metadata": {
    "tags": []
   },
   "outputs": [
    {
     "data": {
      "text/plain": [
       "(2095, 1, 1, 39)"
      ]
     },
     "execution_count": 39,
     "metadata": {},
     "output_type": "execute_result"
    }
   ],
   "source": [
    "street_test_final = np.asarray(x_test[input_x[1:]]).astype('float32')\n",
    "street_mini_test_final = []\n",
    "for row in street_test_final:\n",
    "    street_mini_test_final.append([[row]])\n",
    "street_mini_test_final = np.stack(street_mini_test_final)\n",
    "np.shape(street_mini_test_final)"
   ]
  },
  {
   "cell_type": "code",
   "execution_count": 40,
   "id": "c87761aa-77b0-40d3-a924-c54c1c6e3726",
   "metadata": {
    "tags": []
   },
   "outputs": [
    {
     "name": "stdout",
     "output_type": "stream",
     "text": [
      "(6968, 1, 1, 39)\n",
      "(6968, 148, 188, 4)\n"
     ]
    }
   ],
   "source": [
    "print(street_mini.shape)\n",
    "print(images_mini.shape)"
   ]
  },
  {
   "cell_type": "code",
   "execution_count": 41,
   "id": "16b9f21e-6f7b-4abd-a7de-917d89fa085a",
   "metadata": {
    "tags": []
   },
   "outputs": [],
   "source": [
    "input_image_street = np.hstack(\n",
    "    (street_mini.reshape((6968,39)),\n",
    "    normalize(images_mini.reshape(6968,-1))\n",
    "    )\n",
    ")"
   ]
  },
  {
   "cell_type": "code",
   "execution_count": 42,
   "id": "5628e058-80c2-4145-b762-7116c8801a96",
   "metadata": {
    "tags": []
   },
   "outputs": [
    {
     "name": "stdout",
     "output_type": "stream",
     "text": [
      "(1676, 1, 1, 39)\n",
      "(1676, 148, 188, 4)\n"
     ]
    }
   ],
   "source": [
    "print(street_mini_test.shape)\n",
    "print(images_mini_test.shape)"
   ]
  },
  {
   "cell_type": "code",
   "execution_count": 43,
   "id": "b2a63cdc-90cd-43e2-94f1-d819918c510b",
   "metadata": {
    "tags": []
   },
   "outputs": [],
   "source": [
    "input_image_street_test = np.hstack(\n",
    "    (street_mini_test.reshape((1676,39)),\n",
    "    normalize(images_mini_test.reshape(1676,-1))\n",
    "    ))"
   ]
  },
  {
   "cell_type": "code",
   "execution_count": 44,
   "id": "e0a3fa00-5064-4ab3-a2e6-835a626f24c4",
   "metadata": {
    "tags": []
   },
   "outputs": [
    {
     "data": {
      "text/plain": [
       "(1676, 111335)"
      ]
     },
     "execution_count": 44,
     "metadata": {},
     "output_type": "execute_result"
    }
   ],
   "source": [
    "input_image_street_test.shape"
   ]
  },
  {
   "cell_type": "code",
   "execution_count": 45,
   "id": "05a5e0a3-815f-49ad-967c-07d0fc904701",
   "metadata": {
    "tags": []
   },
   "outputs": [
    {
     "name": "stdout",
     "output_type": "stream",
     "text": [
      "(2095, 1, 1, 39)\n",
      "(2095, 148, 188, 4)\n"
     ]
    }
   ],
   "source": [
    "print(street_mini_test_final.shape)\n",
    "print(images_mini_test_final.shape)"
   ]
  },
  {
   "cell_type": "code",
   "execution_count": 47,
   "id": "a6698331-9ee7-492a-a08c-fbda194a7787",
   "metadata": {
    "tags": []
   },
   "outputs": [],
   "source": [
    "input_image_street_test_final = np.hstack(\n",
    "    (street_mini_test_final.reshape((2095,39)),\n",
    "    normalize(images_mini_test_final.reshape(2095,-1))\n",
    "    ))"
   ]
  },
  {
   "cell_type": "markdown",
   "id": "76293faa-4ad4-4467-adcf-75a6e9c9cfb3",
   "metadata": {
    "tags": []
   },
   "source": [
    "## LOGISTIC MODEL WITH IMAGES"
   ]
  },
  {
   "cell_type": "code",
   "execution_count": 49,
   "id": "6ef027c2-bb0f-45e7-ac0a-2fb328014abf",
   "metadata": {
    "tags": []
   },
   "outputs": [
    {
     "name": "stdout",
     "output_type": "stream",
     "text": [
      "Model: \"logistic_model\"\n",
      "_________________________________________________________________\n",
      " Layer (type)                Output Shape              Param #   \n",
      "=================================================================\n",
      " input_1 (InputLayer)        [(None, 111335)]          0         \n",
      "                                                                 \n",
      " dense (Dense)               (None, 4)                 445344    \n",
      "                                                                 \n",
      "=================================================================\n",
      "Total params: 445,344\n",
      "Trainable params: 445,344\n",
      "Non-trainable params: 0\n",
      "_________________________________________________________________\n",
      "Epoch 1/150\n",
      "175/175 [==============================] - 2s 10ms/step - loss: 0.8798 - accuracy: 0.6060 - val_loss: 1.1202 - val_accuracy: 0.5861\n",
      "Epoch 2/150\n",
      "175/175 [==============================] - 1s 8ms/step - loss: 0.7520 - accuracy: 0.6697 - val_loss: 1.0580 - val_accuracy: 0.4720\n",
      "Epoch 3/150\n",
      "175/175 [==============================] - 1s 8ms/step - loss: 0.6877 - accuracy: 0.6963 - val_loss: 0.8275 - val_accuracy: 0.6564\n",
      "Epoch 4/150\n",
      "175/175 [==============================] - 1s 8ms/step - loss: 0.6443 - accuracy: 0.7085 - val_loss: 0.7156 - val_accuracy: 0.7138\n",
      "Epoch 5/150\n",
      "175/175 [==============================] - 1s 8ms/step - loss: 0.6428 - accuracy: 0.7183 - val_loss: 0.7920 - val_accuracy: 0.6966\n",
      "Epoch 6/150\n",
      "175/175 [==============================] - 1s 8ms/step - loss: 0.5749 - accuracy: 0.7458 - val_loss: 0.8188 - val_accuracy: 0.6413\n",
      "Epoch 7/150\n",
      "175/175 [==============================] - 1s 8ms/step - loss: 0.5698 - accuracy: 0.7465 - val_loss: 0.6832 - val_accuracy: 0.7202\n",
      "Epoch 8/150\n",
      "175/175 [==============================] - 1s 8ms/step - loss: 0.5383 - accuracy: 0.7639 - val_loss: 0.6352 - val_accuracy: 0.7432\n",
      "Epoch 9/150\n",
      "175/175 [==============================] - 1s 8ms/step - loss: 0.5171 - accuracy: 0.7793 - val_loss: 0.7831 - val_accuracy: 0.6564\n",
      "Epoch 10/150\n",
      "175/175 [==============================] - 1s 8ms/step - loss: 0.5220 - accuracy: 0.7671 - val_loss: 0.6731 - val_accuracy: 0.7267\n",
      "Epoch 11/150\n",
      "175/175 [==============================] - 1s 8ms/step - loss: 0.4940 - accuracy: 0.7795 - val_loss: 0.6542 - val_accuracy: 0.7317\n",
      "Epoch 12/150\n",
      "175/175 [==============================] - 1s 8ms/step - loss: 0.4869 - accuracy: 0.7826 - val_loss: 0.7367 - val_accuracy: 0.6779\n",
      "Epoch 13/150\n",
      "175/175 [==============================] - 1s 8ms/step - loss: 0.4760 - accuracy: 0.7905 - val_loss: 0.6576 - val_accuracy: 0.7296\n",
      "Epoch 14/150\n",
      "175/175 [==============================] - 1s 8ms/step - loss: 0.4594 - accuracy: 0.7969 - val_loss: 0.6155 - val_accuracy: 0.7862\n",
      "Epoch 15/150\n",
      "175/175 [==============================] - 1s 8ms/step - loss: 0.4453 - accuracy: 0.8028 - val_loss: 0.6424 - val_accuracy: 0.7719\n",
      "Epoch 16/150\n",
      "175/175 [==============================] - 1s 8ms/step - loss: 0.4357 - accuracy: 0.8034 - val_loss: 0.5948 - val_accuracy: 0.7683\n",
      "Epoch 17/150\n",
      "175/175 [==============================] - 1s 8ms/step - loss: 0.4337 - accuracy: 0.8084 - val_loss: 0.6160 - val_accuracy: 0.7862\n",
      "Epoch 18/150\n",
      "175/175 [==============================] - 1s 8ms/step - loss: 0.4383 - accuracy: 0.8086 - val_loss: 0.6828 - val_accuracy: 0.7166\n",
      "Epoch 19/150\n",
      "175/175 [==============================] - 1s 8ms/step - loss: 0.4218 - accuracy: 0.8043 - val_loss: 0.6419 - val_accuracy: 0.7475\n",
      "Epoch 20/150\n",
      "175/175 [==============================] - 1s 8ms/step - loss: 0.4097 - accuracy: 0.8097 - val_loss: 0.6013 - val_accuracy: 0.7905\n",
      "Epoch 21/150\n",
      "175/175 [==============================] - 1s 8ms/step - loss: 0.4025 - accuracy: 0.8210 - val_loss: 0.6115 - val_accuracy: 0.7683\n",
      "Epoch 22/150\n",
      "175/175 [==============================] - 1s 8ms/step - loss: 0.3880 - accuracy: 0.8213 - val_loss: 0.5575 - val_accuracy: 0.7841\n",
      "Epoch 23/150\n",
      "175/175 [==============================] - 1s 8ms/step - loss: 0.3813 - accuracy: 0.8267 - val_loss: 0.5682 - val_accuracy: 0.8056\n",
      "Epoch 24/150\n",
      "175/175 [==============================] - 1s 8ms/step - loss: 0.3752 - accuracy: 0.8251 - val_loss: 0.6130 - val_accuracy: 0.7999\n",
      "Epoch 25/150\n",
      "175/175 [==============================] - 1s 8ms/step - loss: 0.3693 - accuracy: 0.8319 - val_loss: 0.7254 - val_accuracy: 0.7102\n",
      "Epoch 26/150\n",
      "175/175 [==============================] - 1s 8ms/step - loss: 0.3653 - accuracy: 0.8271 - val_loss: 0.5229 - val_accuracy: 0.8321\n",
      "Epoch 27/150\n",
      "175/175 [==============================] - 1s 8ms/step - loss: 0.3657 - accuracy: 0.8258 - val_loss: 0.7035 - val_accuracy: 0.7095\n",
      "Epoch 28/150\n",
      "175/175 [==============================] - 1s 8ms/step - loss: 0.3570 - accuracy: 0.8335 - val_loss: 0.5445 - val_accuracy: 0.8099\n",
      "Epoch 29/150\n",
      "175/175 [==============================] - 1s 8ms/step - loss: 0.3455 - accuracy: 0.8391 - val_loss: 0.6017 - val_accuracy: 0.7855\n",
      "Epoch 30/150\n",
      "175/175 [==============================] - 1s 8ms/step - loss: 0.3390 - accuracy: 0.8427 - val_loss: 0.5433 - val_accuracy: 0.8207\n",
      "Epoch 31/150\n",
      "175/175 [==============================] - 1s 8ms/step - loss: 0.3373 - accuracy: 0.8414 - val_loss: 0.5255 - val_accuracy: 0.8242\n",
      "Epoch 32/150\n",
      "175/175 [==============================] - 1s 8ms/step - loss: 0.3347 - accuracy: 0.8324 - val_loss: 0.5270 - val_accuracy: 0.8207\n",
      "Epoch 33/150\n",
      "175/175 [==============================] - 1s 8ms/step - loss: 0.3300 - accuracy: 0.8410 - val_loss: 0.6338 - val_accuracy: 0.7712\n",
      "Epoch 34/150\n",
      "175/175 [==============================] - 1s 8ms/step - loss: 0.3340 - accuracy: 0.8330 - val_loss: 0.4957 - val_accuracy: 0.8085\n",
      "Epoch 35/150\n",
      "175/175 [==============================] - 1s 8ms/step - loss: 0.3205 - accuracy: 0.8486 - val_loss: 0.5449 - val_accuracy: 0.8185\n",
      "Epoch 36/150\n",
      "175/175 [==============================] - 1s 8ms/step - loss: 0.3182 - accuracy: 0.8400 - val_loss: 0.6389 - val_accuracy: 0.7575\n",
      "Epoch 37/150\n",
      "175/175 [==============================] - 1s 8ms/step - loss: 0.3079 - accuracy: 0.8507 - val_loss: 0.4849 - val_accuracy: 0.8278\n",
      "Epoch 38/150\n",
      "175/175 [==============================] - 1s 8ms/step - loss: 0.3043 - accuracy: 0.8534 - val_loss: 0.5427 - val_accuracy: 0.8142\n",
      "Epoch 39/150\n",
      "175/175 [==============================] - 1s 8ms/step - loss: 0.3021 - accuracy: 0.8538 - val_loss: 0.4879 - val_accuracy: 0.8336\n",
      "Epoch 40/150\n",
      "175/175 [==============================] - 1s 8ms/step - loss: 0.2988 - accuracy: 0.8547 - val_loss: 0.5674 - val_accuracy: 0.8178\n",
      "Epoch 41/150\n",
      "175/175 [==============================] - 1s 8ms/step - loss: 0.2936 - accuracy: 0.8620 - val_loss: 0.5588 - val_accuracy: 0.8228\n",
      "Epoch 42/150\n",
      "175/175 [==============================] - 1s 8ms/step - loss: 0.2887 - accuracy: 0.8599 - val_loss: 0.5769 - val_accuracy: 0.8106\n",
      "Epoch 43/150\n",
      "175/175 [==============================] - 1s 8ms/step - loss: 0.2860 - accuracy: 0.8606 - val_loss: 0.6093 - val_accuracy: 0.7891\n",
      "Epoch 44/150\n",
      "175/175 [==============================] - 1s 8ms/step - loss: 0.2844 - accuracy: 0.8624 - val_loss: 0.4996 - val_accuracy: 0.8364\n",
      "Epoch 45/150\n",
      "175/175 [==============================] - 1s 8ms/step - loss: 0.2782 - accuracy: 0.8653 - val_loss: 0.5676 - val_accuracy: 0.8164\n",
      "Epoch 46/150\n",
      "175/175 [==============================] - 1s 8ms/step - loss: 0.2807 - accuracy: 0.8620 - val_loss: 0.4896 - val_accuracy: 0.8343\n",
      "Epoch 47/150\n",
      "175/175 [==============================] - 1s 8ms/step - loss: 0.2736 - accuracy: 0.8696 - val_loss: 0.5330 - val_accuracy: 0.8293\n",
      "Epoch 48/150\n",
      "175/175 [==============================] - 1s 8ms/step - loss: 0.2684 - accuracy: 0.8640 - val_loss: 0.5763 - val_accuracy: 0.8077\n",
      "Epoch 49/150\n",
      "175/175 [==============================] - 1s 8ms/step - loss: 0.2644 - accuracy: 0.8692 - val_loss: 0.5417 - val_accuracy: 0.8271\n",
      "Epoch 50/150\n",
      "175/175 [==============================] - 1s 8ms/step - loss: 0.2652 - accuracy: 0.8654 - val_loss: 0.6911 - val_accuracy: 0.7360\n",
      "Epoch 51/150\n",
      "175/175 [==============================] - 1s 8ms/step - loss: 0.2625 - accuracy: 0.8672 - val_loss: 0.5617 - val_accuracy: 0.8199\n",
      "Epoch 52/150\n",
      "175/175 [==============================] - 1s 8ms/step - loss: 0.2614 - accuracy: 0.8667 - val_loss: 0.5047 - val_accuracy: 0.8314\n",
      "Epoch 53/150\n",
      "175/175 [==============================] - 1s 8ms/step - loss: 0.2554 - accuracy: 0.8681 - val_loss: 0.4945 - val_accuracy: 0.8343\n",
      "Epoch 54/150\n",
      "175/175 [==============================] - 1s 8ms/step - loss: 0.2550 - accuracy: 0.8696 - val_loss: 0.5040 - val_accuracy: 0.8329\n",
      "Epoch 55/150\n",
      "175/175 [==============================] - 1s 8ms/step - loss: 0.2526 - accuracy: 0.8746 - val_loss: 0.5723 - val_accuracy: 0.8099\n",
      "Epoch 56/150\n",
      "175/175 [==============================] - 1s 8ms/step - loss: 0.2471 - accuracy: 0.8739 - val_loss: 0.5551 - val_accuracy: 0.8085\n",
      "Epoch 57/150\n",
      "175/175 [==============================] - 1s 8ms/step - loss: 0.2428 - accuracy: 0.8793 - val_loss: 0.7309 - val_accuracy: 0.7195\n",
      "Epoch 58/150\n",
      "175/175 [==============================] - 1s 8ms/step - loss: 0.2489 - accuracy: 0.8663 - val_loss: 0.5601 - val_accuracy: 0.8235\n",
      "Epoch 59/150\n",
      "175/175 [==============================] - 1s 8ms/step - loss: 0.2436 - accuracy: 0.8814 - val_loss: 0.5992 - val_accuracy: 0.7927\n",
      "Epoch 60/150\n",
      "175/175 [==============================] - 1s 8ms/step - loss: 0.2363 - accuracy: 0.8793 - val_loss: 0.4782 - val_accuracy: 0.8372\n",
      "Epoch 61/150\n",
      "175/175 [==============================] - 1s 8ms/step - loss: 0.2333 - accuracy: 0.8839 - val_loss: 0.5622 - val_accuracy: 0.8135\n",
      "Epoch 62/150\n",
      "175/175 [==============================] - 1s 8ms/step - loss: 0.2312 - accuracy: 0.8834 - val_loss: 0.5950 - val_accuracy: 0.8013\n",
      "Epoch 63/150\n",
      "175/175 [==============================] - 1s 8ms/step - loss: 0.2293 - accuracy: 0.8879 - val_loss: 0.5129 - val_accuracy: 0.8321\n",
      "Epoch 64/150\n",
      "175/175 [==============================] - 1s 8ms/step - loss: 0.2305 - accuracy: 0.8830 - val_loss: 0.5197 - val_accuracy: 0.8336\n",
      "Epoch 65/150\n",
      "175/175 [==============================] - 1s 8ms/step - loss: 0.2242 - accuracy: 0.8872 - val_loss: 0.5447 - val_accuracy: 0.8221\n",
      "Epoch 66/150\n",
      "175/175 [==============================] - 1s 8ms/step - loss: 0.2237 - accuracy: 0.8898 - val_loss: 0.5521 - val_accuracy: 0.8214\n",
      "Epoch 67/150\n",
      "175/175 [==============================] - 1s 8ms/step - loss: 0.2200 - accuracy: 0.8893 - val_loss: 0.4988 - val_accuracy: 0.8415\n",
      "Epoch 68/150\n",
      "175/175 [==============================] - 1s 8ms/step - loss: 0.2178 - accuracy: 0.8872 - val_loss: 0.4839 - val_accuracy: 0.8407\n",
      "Epoch 69/150\n",
      "175/175 [==============================] - 1s 8ms/step - loss: 0.2146 - accuracy: 0.8965 - val_loss: 0.6473 - val_accuracy: 0.7626\n",
      "Epoch 70/150\n",
      "175/175 [==============================] - 1s 8ms/step - loss: 0.2158 - accuracy: 0.8909 - val_loss: 0.5756 - val_accuracy: 0.8034\n",
      "Epoch 71/150\n",
      "175/175 [==============================] - 1s 8ms/step - loss: 0.2120 - accuracy: 0.8945 - val_loss: 0.5945 - val_accuracy: 0.7991\n",
      "Epoch 72/150\n",
      "175/175 [==============================] - 1s 8ms/step - loss: 0.2084 - accuracy: 0.8977 - val_loss: 0.5615 - val_accuracy: 0.8228\n",
      "Epoch 73/150\n",
      "175/175 [==============================] - 1s 8ms/step - loss: 0.2076 - accuracy: 0.8976 - val_loss: 0.4884 - val_accuracy: 0.8386\n",
      "Epoch 74/150\n",
      "175/175 [==============================] - 1s 8ms/step - loss: 0.2065 - accuracy: 0.8918 - val_loss: 0.5669 - val_accuracy: 0.8199\n",
      "Epoch 75/150\n",
      "175/175 [==============================] - 1s 8ms/step - loss: 0.2051 - accuracy: 0.8988 - val_loss: 0.6323 - val_accuracy: 0.7704\n",
      "Epoch 76/150\n",
      "175/175 [==============================] - 1s 8ms/step - loss: 0.2037 - accuracy: 0.8961 - val_loss: 0.5185 - val_accuracy: 0.8343\n",
      "Epoch 77/150\n",
      "175/175 [==============================] - 1s 8ms/step - loss: 0.2010 - accuracy: 0.9049 - val_loss: 0.4955 - val_accuracy: 0.8343\n",
      "Epoch 78/150\n",
      "175/175 [==============================] - 1s 8ms/step - loss: 0.1975 - accuracy: 0.8997 - val_loss: 0.5577 - val_accuracy: 0.8293\n",
      "Epoch 79/150\n",
      "175/175 [==============================] - 1s 8ms/step - loss: 0.2001 - accuracy: 0.8974 - val_loss: 0.5779 - val_accuracy: 0.8149\n",
      "Epoch 80/150\n",
      "175/175 [==============================] - 1s 8ms/step - loss: 0.1941 - accuracy: 0.9065 - val_loss: 0.6057 - val_accuracy: 0.7927\n",
      "Epoch 81/150\n",
      "175/175 [==============================] - 1s 8ms/step - loss: 0.1931 - accuracy: 0.9071 - val_loss: 0.5427 - val_accuracy: 0.8278\n",
      "Epoch 82/150\n",
      "175/175 [==============================] - 1s 8ms/step - loss: 0.1921 - accuracy: 0.9071 - val_loss: 0.5813 - val_accuracy: 0.7991\n",
      "Epoch 83/150\n",
      "175/175 [==============================] - 1s 8ms/step - loss: 0.1920 - accuracy: 0.9024 - val_loss: 0.5761 - val_accuracy: 0.8106\n",
      "Epoch 84/150\n",
      "175/175 [==============================] - 1s 8ms/step - loss: 0.1866 - accuracy: 0.9096 - val_loss: 0.5801 - val_accuracy: 0.7999\n",
      "Epoch 85/150\n",
      "175/175 [==============================] - 1s 8ms/step - loss: 0.1856 - accuracy: 0.9060 - val_loss: 0.5072 - val_accuracy: 0.8336\n",
      "Epoch 86/150\n",
      "175/175 [==============================] - 1s 8ms/step - loss: 0.1853 - accuracy: 0.9067 - val_loss: 0.5626 - val_accuracy: 0.8185\n",
      "Epoch 87/150\n",
      "175/175 [==============================] - 1s 8ms/step - loss: 0.1799 - accuracy: 0.9155 - val_loss: 0.7279 - val_accuracy: 0.7360\n",
      "Epoch 88/150\n",
      "175/175 [==============================] - 1s 8ms/step - loss: 0.1866 - accuracy: 0.8992 - val_loss: 0.4899 - val_accuracy: 0.8407\n",
      "Epoch 89/150\n",
      "175/175 [==============================] - 1s 8ms/step - loss: 0.1816 - accuracy: 0.9087 - val_loss: 0.6989 - val_accuracy: 0.7640\n",
      "Epoch 90/150\n",
      "175/175 [==============================] - 1s 8ms/step - loss: 0.1804 - accuracy: 0.9103 - val_loss: 0.5776 - val_accuracy: 0.8128\n",
      "Epoch 91/150\n",
      "175/175 [==============================] - 1s 8ms/step - loss: 0.1767 - accuracy: 0.9148 - val_loss: 0.5665 - val_accuracy: 0.8250\n",
      "Epoch 92/150\n",
      "175/175 [==============================] - 1s 8ms/step - loss: 0.1749 - accuracy: 0.9126 - val_loss: 0.5909 - val_accuracy: 0.7984\n",
      "Epoch 93/150\n",
      "175/175 [==============================] - 1s 8ms/step - loss: 0.1748 - accuracy: 0.9157 - val_loss: 0.4912 - val_accuracy: 0.8400\n",
      "Epoch 94/150\n",
      "175/175 [==============================] - 1s 8ms/step - loss: 0.1745 - accuracy: 0.9121 - val_loss: 0.5687 - val_accuracy: 0.8106\n",
      "Epoch 95/150\n",
      "175/175 [==============================] - 1s 8ms/step - loss: 0.1704 - accuracy: 0.9182 - val_loss: 0.6165 - val_accuracy: 0.7912\n",
      "Epoch 96/150\n",
      "175/175 [==============================] - 1s 8ms/step - loss: 0.1720 - accuracy: 0.9126 - val_loss: 0.6375 - val_accuracy: 0.7884\n",
      "Epoch 97/150\n",
      "175/175 [==============================] - 1s 8ms/step - loss: 0.1683 - accuracy: 0.9186 - val_loss: 0.5920 - val_accuracy: 0.7999\n",
      "Epoch 98/150\n",
      "175/175 [==============================] - 1s 8ms/step - loss: 0.1689 - accuracy: 0.9137 - val_loss: 0.6106 - val_accuracy: 0.7934\n",
      "Epoch 99/150\n",
      "175/175 [==============================] - 1s 8ms/step - loss: 0.1702 - accuracy: 0.9135 - val_loss: 0.5890 - val_accuracy: 0.8164\n",
      "Epoch 100/150\n",
      "175/175 [==============================] - 1s 8ms/step - loss: 0.1695 - accuracy: 0.9159 - val_loss: 0.5038 - val_accuracy: 0.8329\n",
      "Epoch 101/150\n",
      "175/175 [==============================] - 1s 8ms/step - loss: 0.1670 - accuracy: 0.9177 - val_loss: 0.5169 - val_accuracy: 0.8350\n",
      "Epoch 102/150\n",
      "175/175 [==============================] - 1s 8ms/step - loss: 0.1631 - accuracy: 0.9214 - val_loss: 0.5968 - val_accuracy: 0.7991\n",
      "Epoch 103/150\n",
      "175/175 [==============================] - 1s 8ms/step - loss: 0.1611 - accuracy: 0.9214 - val_loss: 0.5800 - val_accuracy: 0.8085\n",
      "Epoch 104/150\n",
      "175/175 [==============================] - 1s 8ms/step - loss: 0.1604 - accuracy: 0.9223 - val_loss: 0.7087 - val_accuracy: 0.7489\n",
      "Epoch 105/150\n",
      "175/175 [==============================] - 1s 8ms/step - loss: 0.1586 - accuracy: 0.9225 - val_loss: 0.5347 - val_accuracy: 0.8364\n",
      "Epoch 106/150\n",
      "175/175 [==============================] - 1s 8ms/step - loss: 0.1627 - accuracy: 0.9151 - val_loss: 0.5969 - val_accuracy: 0.8085\n",
      "Epoch 107/150\n",
      "175/175 [==============================] - 1s 8ms/step - loss: 0.1550 - accuracy: 0.9247 - val_loss: 0.5692 - val_accuracy: 0.8250\n",
      "Epoch 108/150\n",
      "175/175 [==============================] - 1s 8ms/step - loss: 0.1538 - accuracy: 0.9300 - val_loss: 0.5238 - val_accuracy: 0.8350\n",
      "Epoch 109/150\n",
      "175/175 [==============================] - 1s 8ms/step - loss: 0.1551 - accuracy: 0.9254 - val_loss: 0.6052 - val_accuracy: 0.8056\n",
      "Epoch 110/150\n",
      "175/175 [==============================] - 1s 8ms/step - loss: 0.1533 - accuracy: 0.9270 - val_loss: 0.5308 - val_accuracy: 0.8386\n",
      "Epoch 111/150\n",
      "175/175 [==============================] - 1s 8ms/step - loss: 0.1507 - accuracy: 0.9315 - val_loss: 0.6087 - val_accuracy: 0.8034\n",
      "Epoch 112/150\n",
      "175/175 [==============================] - 1s 8ms/step - loss: 0.1502 - accuracy: 0.9268 - val_loss: 0.5273 - val_accuracy: 0.8336\n",
      "Epoch 113/150\n",
      "175/175 [==============================] - 1s 8ms/step - loss: 0.1509 - accuracy: 0.9254 - val_loss: 0.5617 - val_accuracy: 0.8178\n",
      "Epoch 114/150\n",
      "175/175 [==============================] - 1s 8ms/step - loss: 0.1489 - accuracy: 0.9295 - val_loss: 0.5444 - val_accuracy: 0.8307\n",
      "Epoch 115/150\n",
      "175/175 [==============================] - 1s 8ms/step - loss: 0.1472 - accuracy: 0.9291 - val_loss: 0.5945 - val_accuracy: 0.8286\n",
      "Epoch 116/150\n",
      "175/175 [==============================] - 1s 8ms/step - loss: 0.1461 - accuracy: 0.9309 - val_loss: 0.6903 - val_accuracy: 0.7611\n",
      "Epoch 117/150\n",
      "175/175 [==============================] - 1s 8ms/step - loss: 0.1467 - accuracy: 0.9273 - val_loss: 0.6323 - val_accuracy: 0.7934\n",
      "Epoch 118/150\n",
      "175/175 [==============================] - 1s 8ms/step - loss: 0.1449 - accuracy: 0.9318 - val_loss: 0.5362 - val_accuracy: 0.8350\n",
      "Epoch 119/150\n",
      "175/175 [==============================] - 1s 8ms/step - loss: 0.1462 - accuracy: 0.9304 - val_loss: 0.6137 - val_accuracy: 0.8013\n",
      "Epoch 120/150\n",
      "175/175 [==============================] - 1s 8ms/step - loss: 0.1420 - accuracy: 0.9331 - val_loss: 0.5931 - val_accuracy: 0.8113\n",
      "Epoch 121/150\n",
      "175/175 [==============================] - 1s 8ms/step - loss: 0.1402 - accuracy: 0.9363 - val_loss: 0.7049 - val_accuracy: 0.7719\n",
      "Epoch 122/150\n",
      "175/175 [==============================] - 1s 8ms/step - loss: 0.1425 - accuracy: 0.9288 - val_loss: 0.5611 - val_accuracy: 0.8329\n",
      "Epoch 123/150\n",
      "175/175 [==============================] - 1s 8ms/step - loss: 0.1396 - accuracy: 0.9343 - val_loss: 0.6112 - val_accuracy: 0.8042\n",
      "Epoch 124/150\n",
      "175/175 [==============================] - 1s 8ms/step - loss: 0.1376 - accuracy: 0.9381 - val_loss: 0.5475 - val_accuracy: 0.8364\n",
      "Epoch 125/150\n",
      "175/175 [==============================] - 1s 8ms/step - loss: 0.1365 - accuracy: 0.9374 - val_loss: 0.5692 - val_accuracy: 0.8293\n",
      "Epoch 126/150\n",
      "175/175 [==============================] - 1s 8ms/step - loss: 0.1377 - accuracy: 0.9372 - val_loss: 0.5692 - val_accuracy: 0.8329\n",
      "Epoch 127/150\n",
      "175/175 [==============================] - 1s 8ms/step - loss: 0.1367 - accuracy: 0.9397 - val_loss: 0.6371 - val_accuracy: 0.8077\n",
      "Epoch 128/150\n",
      "175/175 [==============================] - 1s 8ms/step - loss: 0.1347 - accuracy: 0.9379 - val_loss: 0.5946 - val_accuracy: 0.8063\n",
      "Epoch 129/150\n",
      "175/175 [==============================] - 1s 8ms/step - loss: 0.1361 - accuracy: 0.9367 - val_loss: 0.6500 - val_accuracy: 0.7884\n",
      "Epoch 130/150\n",
      "175/175 [==============================] - 1s 8ms/step - loss: 0.1323 - accuracy: 0.9395 - val_loss: 0.5721 - val_accuracy: 0.8286\n",
      "Epoch 131/150\n",
      "175/175 [==============================] - 1s 8ms/step - loss: 0.1311 - accuracy: 0.9431 - val_loss: 0.5588 - val_accuracy: 0.8343\n",
      "Epoch 132/150\n",
      "175/175 [==============================] - 1s 8ms/step - loss: 0.1305 - accuracy: 0.9424 - val_loss: 0.5758 - val_accuracy: 0.8221\n",
      "Epoch 133/150\n",
      "175/175 [==============================] - 1s 8ms/step - loss: 0.1292 - accuracy: 0.9412 - val_loss: 0.5439 - val_accuracy: 0.8400\n",
      "Epoch 134/150\n",
      "175/175 [==============================] - 1s 8ms/step - loss: 0.1308 - accuracy: 0.9388 - val_loss: 0.5704 - val_accuracy: 0.8300\n",
      "Epoch 135/150\n",
      "175/175 [==============================] - 1s 8ms/step - loss: 0.1291 - accuracy: 0.9415 - val_loss: 0.6054 - val_accuracy: 0.8092\n",
      "Epoch 136/150\n",
      "175/175 [==============================] - 1s 8ms/step - loss: 0.1269 - accuracy: 0.9446 - val_loss: 0.6047 - val_accuracy: 0.8085\n",
      "Epoch 137/150\n",
      "175/175 [==============================] - 1s 8ms/step - loss: 0.1265 - accuracy: 0.9455 - val_loss: 0.5849 - val_accuracy: 0.8207\n",
      "Epoch 138/150\n",
      "175/175 [==============================] - 1s 8ms/step - loss: 0.1250 - accuracy: 0.9447 - val_loss: 0.6138 - val_accuracy: 0.8085\n",
      "Epoch 139/150\n",
      "175/175 [==============================] - 1s 8ms/step - loss: 0.1255 - accuracy: 0.9426 - val_loss: 0.6163 - val_accuracy: 0.8042\n",
      "Epoch 140/150\n",
      "175/175 [==============================] - 1s 8ms/step - loss: 0.1238 - accuracy: 0.9422 - val_loss: 0.5621 - val_accuracy: 0.8314\n",
      "Epoch 141/150\n",
      "175/175 [==============================] - 1s 8ms/step - loss: 0.1228 - accuracy: 0.9465 - val_loss: 0.5953 - val_accuracy: 0.8077\n",
      "Epoch 142/150\n",
      "175/175 [==============================] - 1s 8ms/step - loss: 0.1234 - accuracy: 0.9462 - val_loss: 0.5652 - val_accuracy: 0.8307\n",
      "Epoch 143/150\n",
      "175/175 [==============================] - 1s 8ms/step - loss: 0.1220 - accuracy: 0.9458 - val_loss: 0.5501 - val_accuracy: 0.8400\n",
      "Epoch 144/150\n",
      "175/175 [==============================] - 1s 8ms/step - loss: 0.1226 - accuracy: 0.9449 - val_loss: 0.5926 - val_accuracy: 0.8242\n",
      "Epoch 145/150\n",
      "175/175 [==============================] - 1s 8ms/step - loss: 0.1190 - accuracy: 0.9498 - val_loss: 0.5833 - val_accuracy: 0.8372\n",
      "Epoch 146/150\n",
      "175/175 [==============================] - 1s 8ms/step - loss: 0.1207 - accuracy: 0.9482 - val_loss: 0.5524 - val_accuracy: 0.8386\n",
      "Epoch 147/150\n",
      "175/175 [==============================] - 1s 8ms/step - loss: 0.1176 - accuracy: 0.9482 - val_loss: 0.6510 - val_accuracy: 0.8006\n",
      "Epoch 148/150\n",
      "175/175 [==============================] - 1s 8ms/step - loss: 0.1183 - accuracy: 0.9474 - val_loss: 0.6693 - val_accuracy: 0.7991\n",
      "Epoch 149/150\n",
      "175/175 [==============================] - 1s 8ms/step - loss: 0.1171 - accuracy: 0.9474 - val_loss: 0.5994 - val_accuracy: 0.8286\n",
      "Epoch 150/150\n",
      "175/175 [==============================] - 1s 8ms/step - loss: 0.1157 - accuracy: 0.9483 - val_loss: 0.5909 - val_accuracy: 0.8321\n"
     ]
    },
    {
     "data": {
      "image/png": "[encoded data removed]",
      "text/plain": [
       "<Figure size 640x480 with 1 Axes>"
      ]
     },
     "metadata": {},
     "output_type": "display_data"
    }
   ],
   "source": [
    "tf.keras.backend.clear_session()\n",
    "def create_logistic_model():\n",
    "    # DENSE LAYERS \n",
    "    input = tf.keras.layers.Input(shape=(111335,))\n",
    "    \n",
    "    outputs = keras.layers.Dense(units = 4, activation = 'softmax')(input)\n",
    "\n",
    "    log_model = tf.keras.models.Model(inputs=input, outputs=outputs, name=\"logistic_model\")\n",
    "\n",
    "    log_model.summary()\n",
    "\n",
    "    log_model.compile(\n",
    "        optimizer=tf.keras.optimizers.Adam(learning_rate=0.001),\n",
    "        loss=tf.keras.losses.SparseCategoricalCrossentropy(),\n",
    "        metrics=['accuracy']\n",
    "        )\n",
    "    \n",
    "    return log_model\n",
    "\n",
    "logistic_model = create_logistic_model()\n",
    "\n",
    "\n",
    "history = logistic_model.fit(\n",
    "    input_image_street,\n",
    "    np.stack(y_train.to_numpy()),\n",
    "    epochs=150, \n",
    "    validation_split = 0.2,\n",
    "    class_weight = class_weight\n",
    "    )\n",
    "\n",
    "plot_loss(history)"
   ]
  },
  {
   "cell_type": "code",
   "execution_count": 50,
   "id": "31b83634-6d7c-4cd7-8e84-c05303764073",
   "metadata": {
    "tags": []
   },
   "outputs": [],
   "source": [
    "def predict_and_vis(model, x_true, y_true):\n",
    "    predict_result = history.model.predict(x_true)\n",
    "    predictions = []\n",
    "    \n",
    "    for x in range(len(predict_result)):\n",
    "        predictions.append(np.argmax(predict_result[x]))\n",
    "    \n",
    "    print(f\"WEIGHTED F1 SCORE: {f1_score(y_true.to_numpy(), predictions, average='weighted', sample_weight=None, zero_division='warn')}\")\n",
    "    print(f\"F1 SCORE: {f1_score(y_true.to_numpy(), predictions, average=None, sample_weight=None, zero_division='warn')}\")\n",
    "    \n",
    "    cm = confusion_matrix(y_true['bins_numeric'], predictions)\n",
    "    cm_df = pd.DataFrame(cm,\n",
    "                     index = [x for x in range(4)],\n",
    "                     columns = [x for x in range(4)])\n",
    "    return cm_df"
   ]
  },
  {
   "cell_type": "code",
   "execution_count": 51,
   "id": "3f085ed1-dd16-4a7d-a10d-d98ca6114e47",
   "metadata": {
    "tags": []
   },
   "outputs": [
    {
     "data": {
      "text/plain": [
       "(1676, 111335)"
      ]
     },
     "execution_count": 51,
     "metadata": {},
     "output_type": "execute_result"
    }
   ],
   "source": [
    "input_image_street_test.shape"
   ]
  },
  {
   "cell_type": "code",
   "execution_count": 52,
   "id": "639cd648-e589-44d9-a71d-21242685fee6",
   "metadata": {
    "tags": []
   },
   "outputs": [
    {
     "name": "stdout",
     "output_type": "stream",
     "text": [
      "53/53 [==============================] - 0s 5ms/step\n",
      "WEIGHTED F1 SCORE: 0.8073368221238246\n",
      "F1 SCORE: [0.89693801 0.49185668 0.125      0.        ]\n"
     ]
    }
   ],
   "source": [
    "cm_df = predict_and_vis(history, input_image_street_test, y_val)"
   ]
  },
  {
   "cell_type": "code",
   "execution_count": 53,
   "id": "c890b84d-f559-4406-a61b-ed570a669d7c",
   "metadata": {
    "tags": []
   },
   "outputs": [
    {
     "data": {
      "image/png": "[encoded data removed]",
      "text/plain": [
       "<Figure size 800x900 with 2 Axes>"
      ]
     },
     "metadata": {},
     "output_type": "display_data"
    }
   ],
   "source": [
    "plt.figure(figsize=(8,9))\n",
    "sns.heatmap(cm_df, annot=True, fmt='.4g',cmap=\"OrRd\")\n",
    "plt.title('Confusion Matrix')\n",
    "plt.ylabel('Actual Values')\n",
    "plt.xlabel('Predicted Values')\n",
    "plt.show()"
   ]
  },
  {
   "cell_type": "code",
   "execution_count": 54,
   "id": "59337bde-d017-43bc-82e3-72df74ec9083",
   "metadata": {
    "tags": []
   },
   "outputs": [],
   "source": [
    "cm_df_normalize = cm_df.div(cm_df.sum(axis=1), axis=0)"
   ]
  },
  {
   "cell_type": "code",
   "execution_count": 55,
   "id": "2a08d31c-f9ba-459f-a8fb-9f0c9a90da18",
   "metadata": {
    "tags": []
   },
   "outputs": [
    {
     "data": {
      "image/png": "[encoded data removed]",
      "text/plain": [
       "<Figure size 800x800 with 2 Axes>"
      ]
     },
     "metadata": {},
     "output_type": "display_data"
    }
   ],
   "source": [
    "plt.figure(figsize=(8,8))\n",
    "sns.heatmap(cm_df_normalize, annot=True, fmt='.3g',cmap=\"OrRd\")\n",
    "plt.title('Confusion Matrix')\n",
    "plt.ylabel('Actual Values')\n",
    "plt.xlabel('Predicted Values')\n",
    "plt.show()"
   ]
  },
  {
   "cell_type": "code",
   "execution_count": 56,
   "id": "6b96bf14-6ace-4e21-863a-c55d621ef31c",
   "metadata": {
    "tags": []
   },
   "outputs": [
    {
     "name": "stdout",
     "output_type": "stream",
     "text": [
      "66/66 [==============================] - 0s 5ms/step\n",
      "WEIGHTED F1 SCORE: 0.8021437040396695\n",
      "F1 SCORE: [0.8922229  0.51477833 0.23529412 0.2962963 ]\n"
     ]
    }
   ],
   "source": [
    "cm_df = predict_and_vis(history, input_image_street_test_final, y_test)"
   ]
  },
  {
   "cell_type": "code",
   "execution_count": 57,
   "id": "101975ba-a3ff-447d-a4c5-10008186a0e2",
   "metadata": {
    "tags": []
   },
   "outputs": [
    {
     "data": {
      "text/html": [
       "<div>\n",
       "<style scoped>\n",
       "    .dataframe tbody tr th:only-of-type {\n",
       "        vertical-align: middle;\n",
       "    }\n",
       "\n",
       "    .dataframe tbody tr th {\n",
       "        vertical-align: top;\n",
       "    }\n",
       "\n",
       "    .dataframe thead th {\n",
       "        text-align: right;\n",
       "    }\n",
       "</style>\n",
       "<table border=\"1\" class=\"dataframe\">\n",
       "  <thead>\n",
       "    <tr style=\"text-align: right;\">\n",
       "      <th></th>\n",
       "      <th>0</th>\n",
       "      <th>1</th>\n",
       "      <th>2</th>\n",
       "      <th>3</th>\n",
       "    </tr>\n",
       "  </thead>\n",
       "  <tbody>\n",
       "    <tr>\n",
       "      <th>0</th>\n",
       "      <td>1457</td>\n",
       "      <td>187</td>\n",
       "      <td>2</td>\n",
       "      <td>0</td>\n",
       "    </tr>\n",
       "    <tr>\n",
       "      <th>1</th>\n",
       "      <td>158</td>\n",
       "      <td>209</td>\n",
       "      <td>7</td>\n",
       "      <td>2</td>\n",
       "    </tr>\n",
       "    <tr>\n",
       "      <th>2</th>\n",
       "      <td>5</td>\n",
       "      <td>37</td>\n",
       "      <td>10</td>\n",
       "      <td>2</td>\n",
       "    </tr>\n",
       "    <tr>\n",
       "      <th>3</th>\n",
       "      <td>0</td>\n",
       "      <td>3</td>\n",
       "      <td>12</td>\n",
       "      <td>4</td>\n",
       "    </tr>\n",
       "  </tbody>\n",
       "</table>\n",
       "</div>"
      ],
      "text/plain": [
       "      0    1   2  3\n",
       "0  1457  187   2  0\n",
       "1   158  209   7  2\n",
       "2     5   37  10  2\n",
       "3     0    3  12  4"
      ]
     },
     "execution_count": 57,
     "metadata": {},
     "output_type": "execute_result"
    }
   ],
   "source": [
    "cm_df"
   ]
  },
  {
   "cell_type": "code",
   "execution_count": 58,
   "id": "1a48feb1-d43c-40cf-8514-4106ebd49fc0",
   "metadata": {
    "tags": []
   },
   "outputs": [
    {
     "data": {
      "image/png": "[encoded data removed]",
      "text/plain": [
       "<Figure size 800x900 with 2 Axes>"
      ]
     },
     "metadata": {},
     "output_type": "display_data"
    }
   ],
   "source": [
    "plt.figure(figsize=(8,9))\n",
    "sns.heatmap(cm_df, annot=True, fmt='.4g',cmap=\"OrRd\")\n",
    "plt.title('Confusion Matrix')\n",
    "plt.ylabel('Actual Values')\n",
    "plt.xlabel('Predicted Values')\n",
    "plt.show()"
   ]
  },
  {
   "cell_type": "code",
   "execution_count": 59,
   "id": "6bb15bc6-2d4b-4a38-b9c9-5f7c068c2743",
   "metadata": {
    "tags": []
   },
   "outputs": [],
   "source": [
    "cm_df_normalize = cm_df.div(cm_df.sum(axis=1), axis=0)"
   ]
  },
  {
   "cell_type": "code",
   "execution_count": 60,
   "id": "91029962-5ad1-4444-ba88-76d6050a1701",
   "metadata": {
    "tags": []
   },
   "outputs": [
    {
     "data": {
      "image/png": "[encoded data removed]",
      "text/plain": [
       "<Figure size 800x800 with 2 Axes>"
      ]
     },
     "metadata": {},
     "output_type": "display_data"
    }
   ],
   "source": [
    "plt.figure(figsize=(8,8))\n",
    "sns.heatmap(cm_df_normalize, annot=True, fmt='.3g',cmap=\"OrRd\")\n",
    "plt.title('Confusion Matrix')\n",
    "plt.ylabel('Actual Values')\n",
    "plt.xlabel('Predicted Values')\n",
    "plt.show()"
   ]
  },
  {
   "cell_type": "code",
   "execution_count": 61,
   "id": "5b5de2c7-7c38-4583-9a40-3933e56df6c0",
   "metadata": {
    "tags": []
   },
   "outputs": [
    {
     "data": {
      "text/html": [
       "<div>\n",
       "<style scoped>\n",
       "    .dataframe tbody tr th:only-of-type {\n",
       "        vertical-align: middle;\n",
       "    }\n",
       "\n",
       "    .dataframe tbody tr th {\n",
       "        vertical-align: top;\n",
       "    }\n",
       "\n",
       "    .dataframe thead th {\n",
       "        text-align: right;\n",
       "    }\n",
       "</style>\n",
       "<table border=\"1\" class=\"dataframe\">\n",
       "  <thead>\n",
       "    <tr style=\"text-align: right;\">\n",
       "      <th></th>\n",
       "      <th>0</th>\n",
       "      <th>1</th>\n",
       "      <th>2</th>\n",
       "      <th>3</th>\n",
       "    </tr>\n",
       "  </thead>\n",
       "  <tbody>\n",
       "    <tr>\n",
       "      <th>0</th>\n",
       "      <td>1457</td>\n",
       "      <td>187</td>\n",
       "      <td>2</td>\n",
       "      <td>0</td>\n",
       "    </tr>\n",
       "    <tr>\n",
       "      <th>1</th>\n",
       "      <td>158</td>\n",
       "      <td>209</td>\n",
       "      <td>7</td>\n",
       "      <td>2</td>\n",
       "    </tr>\n",
       "    <tr>\n",
       "      <th>2</th>\n",
       "      <td>5</td>\n",
       "      <td>37</td>\n",
       "      <td>10</td>\n",
       "      <td>2</td>\n",
       "    </tr>\n",
       "    <tr>\n",
       "      <th>3</th>\n",
       "      <td>0</td>\n",
       "      <td>3</td>\n",
       "      <td>12</td>\n",
       "      <td>4</td>\n",
       "    </tr>\n",
       "  </tbody>\n",
       "</table>\n",
       "</div>"
      ],
      "text/plain": [
       "      0    1   2  3\n",
       "0  1457  187   2  0\n",
       "1   158  209   7  2\n",
       "2     5   37  10  2\n",
       "3     0    3  12  4"
      ]
     },
     "execution_count": 61,
     "metadata": {},
     "output_type": "execute_result"
    }
   ],
   "source": [
    "cm_df"
   ]
  },
  {
   "cell_type": "markdown",
   "id": "5d140bc7-7ef3-4fde-9b94-914c0fdbb5fc",
   "metadata": {},
   "source": [
    "## Saving the model"
   ]
  },
  {
   "cell_type": "code",
   "execution_count": 69,
   "id": "0e645903-9750-47d3-adb1-c39fb8c99fe0",
   "metadata": {
    "tags": []
   },
   "outputs": [],
   "source": [
    "history.model.save_weights('./checkpoints/logistic_model_4bins_weight')"
   ]
  }
 ],
 "metadata": {
  "kernelspec": {
   "display_name": "Python 3 (ipykernel)",
   "language": "python",
   "name": "python3"
  },
  "language_info": {
   "codemirror_mode": {
    "name": "ipython",
    "version": 3
   },
   "file_extension": ".py",
   "mimetype": "text/x-python",
   "name": "python",
   "nbconvert_exporter": "python",
   "pygments_lexer": "ipython3",
   "version": "3.10.7"
  }
 },
 "nbformat": 4,
 "nbformat_minor": 5
}
