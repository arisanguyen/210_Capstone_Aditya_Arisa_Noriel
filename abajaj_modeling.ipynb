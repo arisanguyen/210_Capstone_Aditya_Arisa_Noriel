{
 "cells": [
  {
   "cell_type": "code",
   "execution_count": 28,
   "id": "356025b8",
   "metadata": {
    "tags": []
   },
   "outputs": [],
   "source": [
    "import numpy as np\n",
    "import pandas as pd\n",
    "import math\n",
    "\n",
    "import matplotlib\n",
    "import matplotlib.pyplot as plt\n",
    "\n",
    "import tensorflow as tf\n",
    "from tensorflow import keras\n",
    "from tensorflow.keras import layers\n",
    "from tensorflow.keras.layers import concatenate\n",
    "import tensorflow_addons as tfa\n",
    "from keras.layers import Flatten, Dense, Dropout\n",
    "import tifffile\n",
    "\n",
    "from sklearn.model_selection import train_test_split\n",
    "# from sklearn.preprocessing import LabelEncoder\n",
    "# from sklearn.preprocessing import OneHotEncoder\n",
    "from sklearn.preprocessing import LabelBinarizer\n",
    "from sklearn.linear_model import LogisticRegression\n",
    "from sklearn.metrics import f1_score\n",
    "import os\n",
    "\n",
    "import scipy\n",
    "from numba import cuda "
   ]
  },
  {
   "cell_type": "code",
   "execution_count": 2,
   "id": "cbe8314a-60a7-4de8-be72-620b659ef79d",
   "metadata": {
    "tags": []
   },
   "outputs": [],
   "source": [
    "# !pip install numpy tensorflow matplotlib scipy\n",
    "# # !pip install pandas\n",
    "# !pip install tifffile\n",
    "# !pip install scikit-learn\n",
    "# !pip install imagecodecs\n",
    "# !pip install tensorflow-addons\n",
    "# !pip install numba "
   ]
  },
  {
   "cell_type": "code",
   "execution_count": 3,
   "id": "bc10282d-f694-4346-b6e6-34923575c633",
   "metadata": {
    "tags": []
   },
   "outputs": [],
   "source": [
    "def reset_gpu():\n",
    "    device = cuda.get_current_device()\n",
    "    device.reset()"
   ]
  },
  {
   "cell_type": "code",
   "execution_count": 4,
   "id": "8bb10982-72ec-439c-9c1a-6c182803eb2f",
   "metadata": {
    "tags": []
   },
   "outputs": [],
   "source": [
    "def plot_loss(history):\n",
    "    plt.plot(history.history['loss'], label='loss')\n",
    "    plt.plot(history.history['val_loss'], label='val_loss')\n",
    "   # plt.plot(history.history['accuracy'], label='accuracy')\n",
    "   # plt.plot(history.history['val_accuracy'], label='val_accuracy')\n",
    "    plt.ylim([0, \n",
    "            max(\n",
    "                max(history.history['loss']),\n",
    "                max(history.history['val_loss'])\n",
    "            )])\n",
    "    plt.xlabel('Epoch')\n",
    "    plt.ylabel('Mean Absolute Error')\n",
    "    plt.legend()\n",
    "    plt.grid(True)"
   ]
  },
  {
   "cell_type": "code",
   "execution_count": 5,
   "id": "f3693092",
   "metadata": {
    "tags": []
   },
   "outputs": [],
   "source": [
    "tiles = pd.read_csv(r'Data/Tiles_expanded.csv')\n",
    "tiles_expanded_rv = pd.read_csv(r'Data/Tiles_expanded_road_vector.csv').drop(['Unnamed: 0'],axis=1)\n",
    "tiles_expanded_rv = pd.get_dummies(tiles_expanded_rv, columns = ['RTTYP'])"
   ]
  },
  {
   "cell_type": "code",
   "execution_count": 6,
   "id": "29e5ddd8-bf87-4021-8274-ee55f64b54a7",
   "metadata": {
    "tags": []
   },
   "outputs": [
    {
     "data": {
      "text/html": [
       "<div>\n",
       "<style scoped>\n",
       "    .dataframe tbody tr th:only-of-type {\n",
       "        vertical-align: middle;\n",
       "    }\n",
       "\n",
       "    .dataframe tbody tr th {\n",
       "        vertical-align: top;\n",
       "    }\n",
       "\n",
       "    .dataframe thead th {\n",
       "        text-align: right;\n",
       "    }\n",
       "</style>\n",
       "<table border=\"1\" class=\"dataframe\">\n",
       "  <thead>\n",
       "    <tr style=\"text-align: right;\">\n",
       "      <th></th>\n",
       "      <th>Tile_ID</th>\n",
       "      <th>Long2</th>\n",
       "      <th>Lat2</th>\n",
       "      <th>Long1</th>\n",
       "      <th>Lat1</th>\n",
       "      <th>Mid_lat</th>\n",
       "      <th>Mid_long</th>\n",
       "      <th>Stop_Signs</th>\n",
       "      <th>Paving_historical</th>\n",
       "      <th>Paving_future</th>\n",
       "      <th>Bus_stop</th>\n",
       "      <th>Collisions_Future</th>\n",
       "      <th>Collisions_Historical</th>\n",
       "      <th>RTTYP_I</th>\n",
       "      <th>RTTYP_M</th>\n",
       "      <th>RTTYP_O</th>\n",
       "      <th>RTTYP_S</th>\n",
       "      <th>RTTYP_U</th>\n",
       "    </tr>\n",
       "  </thead>\n",
       "  <tbody>\n",
       "    <tr>\n",
       "      <th>0</th>\n",
       "      <td>36</td>\n",
       "      <td>-122.514446</td>\n",
       "      <td>37.779636</td>\n",
       "      <td>-122.513306</td>\n",
       "      <td>37.778732</td>\n",
       "      <td>37.779184</td>\n",
       "      <td>-122.513876</td>\n",
       "      <td>0.0</td>\n",
       "      <td>0.0</td>\n",
       "      <td>0.0</td>\n",
       "      <td>0.0</td>\n",
       "      <td>0.0</td>\n",
       "      <td>0.0</td>\n",
       "      <td>0</td>\n",
       "      <td>1</td>\n",
       "      <td>0</td>\n",
       "      <td>0</td>\n",
       "      <td>0</td>\n",
       "    </tr>\n",
       "    <tr>\n",
       "      <th>1</th>\n",
       "      <td>37</td>\n",
       "      <td>-122.514446</td>\n",
       "      <td>37.778732</td>\n",
       "      <td>-122.513306</td>\n",
       "      <td>37.777829</td>\n",
       "      <td>37.778280</td>\n",
       "      <td>-122.513876</td>\n",
       "      <td>0.0</td>\n",
       "      <td>0.0</td>\n",
       "      <td>0.0</td>\n",
       "      <td>0.0</td>\n",
       "      <td>0.0</td>\n",
       "      <td>0.0</td>\n",
       "      <td>0</td>\n",
       "      <td>1</td>\n",
       "      <td>0</td>\n",
       "      <td>0</td>\n",
       "      <td>0</td>\n",
       "    </tr>\n",
       "    <tr>\n",
       "      <th>2</th>\n",
       "      <td>151</td>\n",
       "      <td>-122.513306</td>\n",
       "      <td>37.779636</td>\n",
       "      <td>-122.512166</td>\n",
       "      <td>37.778732</td>\n",
       "      <td>37.779184</td>\n",
       "      <td>-122.512736</td>\n",
       "      <td>0.0</td>\n",
       "      <td>0.0</td>\n",
       "      <td>0.0</td>\n",
       "      <td>0.0</td>\n",
       "      <td>0.0</td>\n",
       "      <td>0.0</td>\n",
       "      <td>0</td>\n",
       "      <td>1</td>\n",
       "      <td>0</td>\n",
       "      <td>0</td>\n",
       "      <td>0</td>\n",
       "    </tr>\n",
       "    <tr>\n",
       "      <th>3</th>\n",
       "      <td>152</td>\n",
       "      <td>-122.513306</td>\n",
       "      <td>37.778732</td>\n",
       "      <td>-122.512166</td>\n",
       "      <td>37.777829</td>\n",
       "      <td>37.778280</td>\n",
       "      <td>-122.512736</td>\n",
       "      <td>0.0</td>\n",
       "      <td>0.0</td>\n",
       "      <td>0.0</td>\n",
       "      <td>0.0</td>\n",
       "      <td>0.0</td>\n",
       "      <td>0.0</td>\n",
       "      <td>0</td>\n",
       "      <td>1</td>\n",
       "      <td>0</td>\n",
       "      <td>0</td>\n",
       "      <td>0</td>\n",
       "    </tr>\n",
       "    <tr>\n",
       "      <th>4</th>\n",
       "      <td>153</td>\n",
       "      <td>-122.513306</td>\n",
       "      <td>37.777829</td>\n",
       "      <td>-122.512166</td>\n",
       "      <td>37.776925</td>\n",
       "      <td>37.777377</td>\n",
       "      <td>-122.512736</td>\n",
       "      <td>0.0</td>\n",
       "      <td>0.0</td>\n",
       "      <td>0.0</td>\n",
       "      <td>0.0</td>\n",
       "      <td>0.0</td>\n",
       "      <td>0.0</td>\n",
       "      <td>0</td>\n",
       "      <td>1</td>\n",
       "      <td>0</td>\n",
       "      <td>0</td>\n",
       "      <td>0</td>\n",
       "    </tr>\n",
       "  </tbody>\n",
       "</table>\n",
       "</div>"
      ],
      "text/plain": [
       "   Tile_ID       Long2       Lat2       Long1       Lat1    Mid_lat  \\\n",
       "0       36 -122.514446  37.779636 -122.513306  37.778732  37.779184   \n",
       "1       37 -122.514446  37.778732 -122.513306  37.777829  37.778280   \n",
       "2      151 -122.513306  37.779636 -122.512166  37.778732  37.779184   \n",
       "3      152 -122.513306  37.778732 -122.512166  37.777829  37.778280   \n",
       "4      153 -122.513306  37.777829 -122.512166  37.776925  37.777377   \n",
       "\n",
       "     Mid_long  Stop_Signs  Paving_historical  Paving_future  Bus_stop  \\\n",
       "0 -122.513876         0.0                0.0            0.0       0.0   \n",
       "1 -122.513876         0.0                0.0            0.0       0.0   \n",
       "2 -122.512736         0.0                0.0            0.0       0.0   \n",
       "3 -122.512736         0.0                0.0            0.0       0.0   \n",
       "4 -122.512736         0.0                0.0            0.0       0.0   \n",
       "\n",
       "   Collisions_Future  Collisions_Historical  RTTYP_I  RTTYP_M  RTTYP_O  \\\n",
       "0                0.0                    0.0        0        1        0   \n",
       "1                0.0                    0.0        0        1        0   \n",
       "2                0.0                    0.0        0        1        0   \n",
       "3                0.0                    0.0        0        1        0   \n",
       "4                0.0                    0.0        0        1        0   \n",
       "\n",
       "   RTTYP_S  RTTYP_U  \n",
       "0        0        0  \n",
       "1        0        0  \n",
       "2        0        0  \n",
       "3        0        0  \n",
       "4        0        0  "
      ]
     },
     "execution_count": 6,
     "metadata": {},
     "output_type": "execute_result"
    }
   ],
   "source": [
    "tiles_expanded_rv.head()"
   ]
  },
  {
   "cell_type": "code",
   "execution_count": 7,
   "id": "d02cf6af-4d7f-4cbe-91f0-6a33a0ba3c86",
   "metadata": {
    "tags": []
   },
   "outputs": [],
   "source": [
    "tiles_expanded_rv['Collisions_Future_binary']=tiles_expanded_rv['Collisions_Future'].apply(lambda x: 1 if x > 0 else 0)\n",
    "tiles_expanded_rv['Collisions_Historical_binary']=tiles_expanded_rv['Collisions_Historical'].apply(lambda x: 1 if x > 0 else 0)"
   ]
  },
  {
   "cell_type": "markdown",
   "id": "13f22a15-184e-466c-8edd-448bd974f88d",
   "metadata": {
    "tags": []
   },
   "source": [
    "# Normalize data"
   ]
  },
  {
   "cell_type": "code",
   "execution_count": 8,
   "id": "3d2d6b89-b6a3-4465-ac2b-be220741cea8",
   "metadata": {
    "tags": []
   },
   "outputs": [],
   "source": [
    "def normalize_col(df, col_name):\n",
    "\n",
    "    norm = (df[col_name] - df[col_name].min()) / (df[col_name].max() - df[col_name].min())\n",
    "    return norm\n",
    "\n",
    "tiles_expanded_rv['Mid_lat_norm'] = normalize_col(tiles_expanded_rv,'Mid_lat')\n",
    "tiles_expanded_rv['Mid_long_norm'] = normalize_col(tiles_expanded_rv,'Mid_long')\n"
   ]
  },
  {
   "cell_type": "markdown",
   "id": "c3a6b82c",
   "metadata": {},
   "source": [
    "Split into training and test"
   ]
  },
  {
   "cell_type": "code",
   "execution_count": 12,
   "id": "0d50fdd4",
   "metadata": {
    "tags": []
   },
   "outputs": [],
   "source": [
    "MODEL_TYPE='logistic' # 'linear'\n",
    "\n",
    "if MODEL_TYPE == 'linear':\n",
    "    input_x = ['Tile_ID','Collisions_Historical', 'Mid_lat_norm','Mid_long_norm', 'Stop_Signs', 'Paving_historical', 'Bus_stop','RTTYP_I','RTTYP_M','RTTYP_O','RTTYP_S','RTTYP_U']\n",
    "    input_y = ['Collisions_Future']\n",
    "elif MODEL_TYPE == 'logistic':\n",
    "    input_x = ['Tile_ID','Collisions_Historical_binary', 'Mid_lat_norm','Mid_long_norm', 'Stop_Signs', 'Paving_historical', 'Bus_stop','RTTYP_I','RTTYP_M','RTTYP_O','RTTYP_S','RTTYP_U']\n",
    "    input_y = ['Collisions_Future_binary']\n",
    "    \n",
    "\n",
    "x_train, x_test, y_train, y_test = train_test_split(\n",
    "                                    tiles_expanded_rv[input_x], \n",
    "                                    tiles_expanded_rv[input_y],\n",
    "                                    random_state=104, \n",
    "                                    test_size=0.20, \n",
    "                                    shuffle=True)\n",
    "\n"
   ]
  },
  {
   "cell_type": "markdown",
   "id": "fffe2d02",
   "metadata": {},
   "source": [
    "Model #1: Linear regression using Historical Collisions, SFMTA Street Characteristics, and Geocoordinates"
   ]
  },
  {
   "cell_type": "markdown",
   "id": "bf220283",
   "metadata": {},
   "source": [
    "## Image Pre-Processing"
   ]
  },
  {
   "cell_type": "code",
   "execution_count": 13,
   "id": "ea514649",
   "metadata": {
    "tags": []
   },
   "outputs": [],
   "source": [
    "IMAGE_PATH = 'Satellite_Imagery/Satellite_Images_Tiled/' "
   ]
  },
  {
   "cell_type": "code",
   "execution_count": 14,
   "id": "b40c2ccb",
   "metadata": {
    "tags": []
   },
   "outputs": [],
   "source": [
    " #eda\n",
    "img = tifffile.imread('Satellite_Imagery/Satellite_Images_Tiled/36.tif')[0:148, 0:188, :]\n",
    "img2 = tifffile.imread('Satellite_Imagery/Satellite_Images_Tiled/37.tif')[0:148, 0:188, :]"
   ]
  },
  {
   "cell_type": "code",
   "execution_count": 15,
   "id": "97889d4b",
   "metadata": {
    "tags": []
   },
   "outputs": [
    {
     "name": "stdout",
     "output_type": "stream",
     "text": [
      "(148, 188, 4)\n"
     ]
    }
   ],
   "source": [
    "# eda\n",
    "print(np.shape(img2))"
   ]
  },
  {
   "cell_type": "code",
   "execution_count": 16,
   "id": "545c8609",
   "metadata": {
    "scrolled": true,
    "tags": []
   },
   "outputs": [
    {
     "name": "stdout",
     "output_type": "stream",
     "text": [
      "(2, 148, 188, 4)\n",
      "(2, 148, 188, 4)\n"
     ]
    }
   ],
   "source": [
    "# eda\n",
    "test = []\n",
    "test.append(img[0:148, 0:188, :])\n",
    "test.append(img2[0:148, 0:188, :])\n",
    "print(np.shape(test))\n",
    "test = np.stack(test)\n",
    "print(np.shape(test))"
   ]
  },
  {
   "cell_type": "code",
   "execution_count": 17,
   "id": "9298e629",
   "metadata": {
    "tags": []
   },
   "outputs": [],
   "source": [
    "def preprocess_data_part1(IMAGE_PATH):\n",
    "    \"\"\" Generate lists of images and labelsbased on temp_no_refer and temp_refer lists\n",
    "    \n",
    "    Params:\n",
    "    -------\n",
    "    IMAGE_PATH (str): path to directory with images.\n",
    "    \n",
    "    Returns:\n",
    "    --------\n",
    "    images_mini  (np.ndarray): Images of shape (N, 149 3)\n",
    "    \"\"\"\n",
    "    \n",
    "    data_mini = []\n",
    "    data_mini_test = []\n",
    "    for id in x_train['Tile_ID']:    \n",
    "                    \n",
    "        # read image and store as matrix            \n",
    "        # Index at the end makes all images the same size (they sometimes differ by 1 pixel)\n",
    "        image = tifffile.imread(IMAGE_PATH + str(id) + '.tif')[0:148, 0:188, :]\n",
    "            \n",
    "        # append to images\n",
    "        data_mini.append(image)\n",
    " \n",
    "    # stack images and trasnform to array\n",
    "    images_mini = np.stack(data_mini)\n",
    "    \n",
    "    for id in x_test['Tile_ID']:    \n",
    "                    \n",
    "        # read image and store as matrix            \n",
    "        # Index at the end makes all images the same size (they sometimes differ by 1 pixel)\n",
    "        image = tifffile.imread(IMAGE_PATH + str(id) + '.tif')[0:148, 0:188, :]\n",
    "            \n",
    "        # append to images\n",
    "        data_mini_test.append(image)\n",
    " \n",
    "    # stack images and trasnform to array\n",
    "    images_mini_test = np.stack(data_mini_test)\n",
    "    \n",
    "    return images_mini, images_mini_test"
   ]
  },
  {
   "cell_type": "code",
   "execution_count": 18,
   "id": "4d8f77ae",
   "metadata": {
    "tags": []
   },
   "outputs": [],
   "source": [
    "# THERE IS ONE FILE IN THE \"SATELLITE IMAGES TILED\" FOLDER THAT IS NOT A TIF IMAGE, DELETE THIS FILE\n",
    "images_mini, images_mini_test = preprocess_data_part1(IMAGE_PATH)"
   ]
  },
  {
   "cell_type": "code",
   "execution_count": 19,
   "id": "0ce10975",
   "metadata": {
    "tags": []
   },
   "outputs": [
    {
     "data": {
      "text/plain": [
       "(2095, 148, 188, 4)"
      ]
     },
     "execution_count": 19,
     "metadata": {},
     "output_type": "execute_result"
    }
   ],
   "source": [
    "np.shape(images_mini)\n",
    "np.shape(images_mini_test)"
   ]
  },
  {
   "cell_type": "code",
   "execution_count": 19,
   "id": "0080b62b-712f-4179-9031-60b561f59b7b",
   "metadata": {
    "tags": []
   },
   "outputs": [],
   "source": [
    "# images_mini_reshaped = images_mini.reshape((8376,1,1,111296))"
   ]
  },
  {
   "cell_type": "code",
   "execution_count": 20,
   "id": "9fce941b-4766-474c-b49e-c365de2bdb86",
   "metadata": {
    "tags": []
   },
   "outputs": [],
   "source": [
    "# images_mini_reshaped.shape\n",
    "# len(images_mini_reshaped[0][0][0])"
   ]
  },
  {
   "cell_type": "markdown",
   "id": "57135842",
   "metadata": {},
   "source": [
    "Street Data Pre-Processing"
   ]
  },
  {
   "cell_type": "code",
   "execution_count": 20,
   "id": "8dce0686",
   "metadata": {
    "tags": []
   },
   "outputs": [
    {
     "data": {
      "text/plain": [
       "(2095, 1, 1, 11)"
      ]
     },
     "execution_count": 20,
     "metadata": {},
     "output_type": "execute_result"
    }
   ],
   "source": [
    "street = np.asarray(x_train[input_x[1:]]).astype('float32')\n",
    "street_mini = []\n",
    "for row in street:\n",
    "    street_mini.append([[row]])\n",
    "street_mini = np.stack(street_mini)\n",
    "np.shape(street_mini)\n",
    "\n",
    "\n",
    "street_test = np.asarray(x_test[input_x[1:]]).astype('float32')\n",
    "street_mini_test = []\n",
    "for row in street_test:\n",
    "    street_mini_test.append([[row]])\n",
    "street_mini_test = np.stack(street_mini_test)\n",
    "np.shape(street_mini_test)"
   ]
  },
  {
   "cell_type": "code",
   "execution_count": 21,
   "id": "c87761aa-77b0-40d3-a924-c54c1c6e3726",
   "metadata": {
    "tags": []
   },
   "outputs": [
    {
     "data": {
      "text/plain": [
       "(2095, 148, 188, 4)"
      ]
     },
     "execution_count": 21,
     "metadata": {},
     "output_type": "execute_result"
    }
   ],
   "source": [
    "x_test.shape\n",
    "images_mini_test.shape"
   ]
  },
  {
   "cell_type": "code",
   "execution_count": 22,
   "id": "16b9f21e-6f7b-4abd-a7de-917d89fa085a",
   "metadata": {
    "tags": []
   },
   "outputs": [],
   "source": [
    "input_image_street = np.hstack(\n",
    "    (street_mini.reshape((8376,11)),\n",
    "     images_mini.reshape(8376,111296))\n",
    ")"
   ]
  },
  {
   "cell_type": "code",
   "execution_count": 23,
   "id": "b2a63cdc-90cd-43e2-94f1-d819918c510b",
   "metadata": {
    "tags": []
   },
   "outputs": [],
   "source": [
    "input_image_street_test = np.hstack(\n",
    "    (street_mini_test.reshape((2095,11)),\n",
    "    images_mini_test.reshape((2095,148*188*4))\n",
    "    ))"
   ]
  },
  {
   "cell_type": "markdown",
   "id": "b9176acd-0672-4bd9-92c8-f67618b33321",
   "metadata": {},
   "source": [
    "## Linear Regression"
   ]
  },
  {
   "cell_type": "code",
   "execution_count": 25,
   "id": "04589b85-dbc4-4309-a243-608fb7f793e5",
   "metadata": {
    "tags": []
   },
   "outputs": [
    {
     "name": "stdout",
     "output_type": "stream",
     "text": [
      "Model: \"linear_model\"\n",
      "_________________________________________________________________\n",
      " Layer (type)                Output Shape              Param #   \n",
      "=================================================================\n",
      " input_1 (InputLayer)        [(None, 111307)]          0         \n",
      "                                                                 \n",
      " dense (Dense)               (None, 1)                 111308    \n",
      "                                                                 \n",
      "=================================================================\n",
      "Total params: 111,308\n",
      "Trainable params: 111,308\n",
      "Non-trainable params: 0\n",
      "_________________________________________________________________\n"
     ]
    },
    {
     "name": "stderr",
     "output_type": "stream",
     "text": [
      "2023-03-14 04:21:15.435917: I tensorflow/compiler/xla/stream_executor/cuda/cuda_gpu_executor.cc:981] successful NUMA node read from SysFS had negative value (-1), but there must be at least one NUMA node, so returning NUMA node zero\n",
      "2023-03-14 04:21:15.442543: I tensorflow/compiler/xla/stream_executor/cuda/cuda_gpu_executor.cc:981] successful NUMA node read from SysFS had negative value (-1), but there must be at least one NUMA node, so returning NUMA node zero\n",
      "2023-03-14 04:21:15.442895: I tensorflow/compiler/xla/stream_executor/cuda/cuda_gpu_executor.cc:981] successful NUMA node read from SysFS had negative value (-1), but there must be at least one NUMA node, so returning NUMA node zero\n",
      "2023-03-14 04:21:15.443498: I tensorflow/core/platform/cpu_feature_guard.cc:193] This TensorFlow binary is optimized with oneAPI Deep Neural Network Library (oneDNN) to use the following CPU instructions in performance-critical operations:  AVX2 FMA\n",
      "To enable them in other operations, rebuild TensorFlow with the appropriate compiler flags.\n",
      "2023-03-14 04:21:15.444487: I tensorflow/compiler/xla/stream_executor/cuda/cuda_gpu_executor.cc:981] successful NUMA node read from SysFS had negative value (-1), but there must be at least one NUMA node, so returning NUMA node zero\n",
      "2023-03-14 04:21:15.444832: I tensorflow/compiler/xla/stream_executor/cuda/cuda_gpu_executor.cc:981] successful NUMA node read from SysFS had negative value (-1), but there must be at least one NUMA node, so returning NUMA node zero\n",
      "2023-03-14 04:21:15.445190: I tensorflow/compiler/xla/stream_executor/cuda/cuda_gpu_executor.cc:981] successful NUMA node read from SysFS had negative value (-1), but there must be at least one NUMA node, so returning NUMA node zero\n",
      "2023-03-14 04:21:15.953350: I tensorflow/compiler/xla/stream_executor/cuda/cuda_gpu_executor.cc:981] successful NUMA node read from SysFS had negative value (-1), but there must be at least one NUMA node, so returning NUMA node zero\n",
      "2023-03-14 04:21:15.953624: I tensorflow/compiler/xla/stream_executor/cuda/cuda_gpu_executor.cc:981] successful NUMA node read from SysFS had negative value (-1), but there must be at least one NUMA node, so returning NUMA node zero\n",
      "2023-03-14 04:21:15.953841: I tensorflow/compiler/xla/stream_executor/cuda/cuda_gpu_executor.cc:981] successful NUMA node read from SysFS had negative value (-1), but there must be at least one NUMA node, so returning NUMA node zero\n",
      "2023-03-14 04:21:15.954007: I tensorflow/core/common_runtime/gpu/gpu_device.cc:1613] Created device /job:localhost/replica:0/task:0/device:GPU:0 with 6911 MB memory:  -> device: 0, name: Tesla M60, pci bus id: 0000:00:1e.0, compute capability: 5.2\n"
     ]
    },
    {
     "name": "stdout",
     "output_type": "stream",
     "text": [
      "Epoch 1/100\n"
     ]
    },
    {
     "name": "stderr",
     "output_type": "stream",
     "text": [
      "2023-03-14 04:21:21.852801: I tensorflow/compiler/xla/service/service.cc:173] XLA service 0x7f7fe8028240 initialized for platform CUDA (this does not guarantee that XLA will be used). Devices:\n",
      "2023-03-14 04:21:21.852850: I tensorflow/compiler/xla/service/service.cc:181]   StreamExecutor device (0): Tesla M60, Compute Capability 5.2\n",
      "2023-03-14 04:21:21.859565: I tensorflow/compiler/mlir/tensorflow/utils/dump_mlir_util.cc:268] disabling MLIR crash reproducer, set env var `MLIR_CRASH_REPRODUCER_DIRECTORY` to enable.\n",
      "2023-03-14 04:21:22.020011: I tensorflow/compiler/jit/xla_compilation_cache.cc:477] Compiled cluster using XLA!  This line is logged at most once for the lifetime of the process.\n"
     ]
    },
    {
     "name": "stdout",
     "output_type": "stream",
     "text": [
      "210/210 [==============================] - 3s 11ms/step - loss: 3831688.7500 - val_loss: 4930.3271\n",
      "Epoch 2/100\n",
      "210/210 [==============================] - 1s 7ms/step - loss: 4564.0796 - val_loss: 2762.6865\n",
      "Epoch 3/100\n",
      "210/210 [==============================] - 1s 7ms/step - loss: 3515.1233 - val_loss: 2552.5735\n",
      "Epoch 4/100\n",
      "210/210 [==============================] - 1s 7ms/step - loss: 3159.9583 - val_loss: 2660.7402\n",
      "Epoch 5/100\n",
      "210/210 [==============================] - 1s 7ms/step - loss: 2338.4841 - val_loss: 2147.3416\n",
      "Epoch 6/100\n",
      "210/210 [==============================] - 1s 7ms/step - loss: 2533.4326 - val_loss: 1860.2889\n",
      "Epoch 7/100\n",
      "210/210 [==============================] - 1s 7ms/step - loss: 1830.0837 - val_loss: 1481.9592\n",
      "Epoch 8/100\n",
      "210/210 [==============================] - 1s 7ms/step - loss: 4353.0532 - val_loss: 3725.8889\n",
      "Epoch 9/100\n",
      "210/210 [==============================] - 1s 7ms/step - loss: 8742.3359 - val_loss: 34995.6523\n",
      "Epoch 10/100\n",
      "210/210 [==============================] - 1s 7ms/step - loss: 123558.5938 - val_loss: 85607.8984\n",
      "Epoch 11/100\n",
      "210/210 [==============================] - 1s 7ms/step - loss: 266263.5625 - val_loss: 13616.6016\n",
      "Epoch 12/100\n",
      "210/210 [==============================] - 1s 7ms/step - loss: 111250.4844 - val_loss: 10802.6035\n",
      "Epoch 13/100\n",
      "210/210 [==============================] - 1s 7ms/step - loss: 329001.5625 - val_loss: 22983.8164\n",
      "Epoch 14/100\n",
      "210/210 [==============================] - 1s 7ms/step - loss: 66852.2812 - val_loss: 76787.3594\n",
      "Epoch 15/100\n",
      "210/210 [==============================] - 1s 7ms/step - loss: 100728.7969 - val_loss: 197460.1562\n",
      "Epoch 16/100\n",
      "210/210 [==============================] - 1s 7ms/step - loss: 268973.6875 - val_loss: 69027.0547\n",
      "Epoch 17/100\n",
      "210/210 [==============================] - 1s 7ms/step - loss: 111789.3828 - val_loss: 7322.1953\n",
      "Epoch 18/100\n",
      "210/210 [==============================] - 1s 7ms/step - loss: 168387.4844 - val_loss: 98462.3125\n",
      "Epoch 19/100\n",
      "210/210 [==============================] - 1s 7ms/step - loss: 221384.2656 - val_loss: 22155.8457\n",
      "Epoch 20/100\n",
      "210/210 [==============================] - 1s 7ms/step - loss: 86743.6328 - val_loss: 10143.1182\n",
      "Epoch 21/100\n",
      "210/210 [==============================] - 1s 7ms/step - loss: 157633.7812 - val_loss: 89481.4453\n",
      "Epoch 22/100\n",
      "210/210 [==============================] - 1s 7ms/step - loss: 140411.9062 - val_loss: 435212.0000\n",
      "Epoch 23/100\n",
      "210/210 [==============================] - 1s 7ms/step - loss: 360556.2188 - val_loss: 413690.5312\n",
      "Epoch 24/100\n",
      "210/210 [==============================] - 1s 7ms/step - loss: 70202.3125 - val_loss: 491161.0625\n",
      "Epoch 25/100\n",
      "210/210 [==============================] - 1s 7ms/step - loss: 131477.3438 - val_loss: 49834.9258\n",
      "Epoch 26/100\n",
      "210/210 [==============================] - 1s 7ms/step - loss: 166857.7188 - val_loss: 248090.6875\n",
      "Epoch 27/100\n",
      "210/210 [==============================] - 1s 7ms/step - loss: 244719.1562 - val_loss: 38270.6211\n",
      "Epoch 28/100\n",
      "210/210 [==============================] - 1s 7ms/step - loss: 124877.9688 - val_loss: 12889.5410\n",
      "Epoch 29/100\n",
      "210/210 [==============================] - 1s 7ms/step - loss: 88230.3438 - val_loss: 347620.2500\n",
      "Epoch 30/100\n",
      "210/210 [==============================] - 1s 7ms/step - loss: 173419.2969 - val_loss: 12906.1865\n",
      "Epoch 31/100\n",
      "210/210 [==============================] - 1s 7ms/step - loss: 250633.0781 - val_loss: 65822.8203\n",
      "Epoch 32/100\n",
      "210/210 [==============================] - 1s 7ms/step - loss: 109126.0859 - val_loss: 17323.1387\n",
      "Epoch 33/100\n",
      "210/210 [==============================] - 1s 7ms/step - loss: 141915.0938 - val_loss: 62567.6133\n",
      "Epoch 34/100\n",
      "210/210 [==============================] - 1s 7ms/step - loss: 217558.7344 - val_loss: 102509.4141\n",
      "Epoch 35/100\n",
      "210/210 [==============================] - 1s 7ms/step - loss: 171724.5000 - val_loss: 134162.4844\n",
      "Epoch 36/100\n",
      "210/210 [==============================] - 1s 7ms/step - loss: 121028.4297 - val_loss: 32532.4727\n",
      "Epoch 37/100\n",
      "210/210 [==============================] - 1s 7ms/step - loss: 211314.4688 - val_loss: 205770.8438\n",
      "Epoch 38/100\n",
      "210/210 [==============================] - 1s 7ms/step - loss: 125353.1953 - val_loss: 49120.1328\n",
      "Epoch 39/100\n",
      "210/210 [==============================] - 1s 7ms/step - loss: 247666.6406 - val_loss: 130858.7969\n",
      "Epoch 40/100\n",
      "210/210 [==============================] - 1s 7ms/step - loss: 94872.3125 - val_loss: 598830.3125\n",
      "Epoch 41/100\n",
      "210/210 [==============================] - 1s 7ms/step - loss: 197501.3750 - val_loss: 15186.3154\n",
      "Epoch 42/100\n",
      "210/210 [==============================] - 1s 7ms/step - loss: 125213.8281 - val_loss: 17282.1484\n",
      "Epoch 43/100\n",
      "210/210 [==============================] - 2s 7ms/step - loss: 177951.0000 - val_loss: 954735.0625\n",
      "Epoch 44/100\n",
      "210/210 [==============================] - 1s 7ms/step - loss: 193632.8594 - val_loss: 80311.2578\n",
      "Epoch 45/100\n",
      "210/210 [==============================] - 1s 7ms/step - loss: 96207.1484 - val_loss: 16116.5537\n",
      "Epoch 46/100\n",
      "210/210 [==============================] - 1s 7ms/step - loss: 252319.2344 - val_loss: 204451.3438\n",
      "Epoch 47/100\n",
      "210/210 [==============================] - 1s 7ms/step - loss: 136749.1094 - val_loss: 46926.3633\n",
      "Epoch 48/100\n",
      "210/210 [==============================] - 1s 7ms/step - loss: 223642.7969 - val_loss: 36551.4609\n",
      "Epoch 49/100\n",
      "210/210 [==============================] - 1s 7ms/step - loss: 95078.0859 - val_loss: 171941.3438\n",
      "Epoch 50/100\n",
      "210/210 [==============================] - 1s 7ms/step - loss: 178195.9375 - val_loss: 123097.2344\n",
      "Epoch 51/100\n",
      "210/210 [==============================] - 1s 7ms/step - loss: 392084.1875 - val_loss: 21722.3555\n",
      "Epoch 52/100\n",
      "210/210 [==============================] - 1s 7ms/step - loss: 53617.9141 - val_loss: 7545.1567\n",
      "Epoch 53/100\n",
      "210/210 [==============================] - 1s 7ms/step - loss: 110196.8203 - val_loss: 34842.1836\n",
      "Epoch 54/100\n",
      "210/210 [==============================] - 1s 7ms/step - loss: 306059.1875 - val_loss: 85634.0625\n",
      "Epoch 55/100\n",
      "210/210 [==============================] - 1s 7ms/step - loss: 65090.0547 - val_loss: 49547.1992\n",
      "Epoch 56/100\n",
      "210/210 [==============================] - 1s 7ms/step - loss: 133084.1562 - val_loss: 2415392.0000\n",
      "Epoch 57/100\n",
      "210/210 [==============================] - 1s 7ms/step - loss: 111894.6562 - val_loss: 38043.9961\n",
      "Epoch 58/100\n",
      "210/210 [==============================] - 1s 7ms/step - loss: 230264.1719 - val_loss: 41757.8242\n",
      "Epoch 59/100\n",
      "210/210 [==============================] - 1s 7ms/step - loss: 236601.8125 - val_loss: 398276.9375\n",
      "Epoch 60/100\n",
      "210/210 [==============================] - 1s 7ms/step - loss: 202000.8750 - val_loss: 1237485.0000\n",
      "Epoch 61/100\n",
      "210/210 [==============================] - 1s 7ms/step - loss: 95924.8359 - val_loss: 19403.2285\n",
      "Epoch 62/100\n",
      "210/210 [==============================] - 1s 7ms/step - loss: 177614.0781 - val_loss: 515989.7812\n",
      "Epoch 63/100\n",
      "210/210 [==============================] - 1s 7ms/step - loss: 142688.3750 - val_loss: 119796.0312\n",
      "Epoch 64/100\n",
      "210/210 [==============================] - 1s 7ms/step - loss: 147762.1562 - val_loss: 37732.3594\n",
      "Epoch 65/100\n",
      "210/210 [==============================] - 1s 7ms/step - loss: 199521.0625 - val_loss: 30508.6055\n",
      "Epoch 66/100\n",
      "210/210 [==============================] - 1s 7ms/step - loss: 181662.1094 - val_loss: 14998.5068\n",
      "Epoch 67/100\n",
      "210/210 [==============================] - 1s 7ms/step - loss: 93132.5000 - val_loss: 116934.0938\n",
      "Epoch 68/100\n",
      "210/210 [==============================] - 1s 7ms/step - loss: 288614.5312 - val_loss: 22538.0039\n",
      "Epoch 69/100\n",
      "210/210 [==============================] - 1s 7ms/step - loss: 103502.9531 - val_loss: 152838.2344\n",
      "Epoch 70/100\n",
      "210/210 [==============================] - 1s 7ms/step - loss: 157889.7344 - val_loss: 24164.6953\n",
      "Epoch 71/100\n",
      "210/210 [==============================] - 2s 7ms/step - loss: 192795.2969 - val_loss: 32133.1250\n",
      "Epoch 72/100\n",
      "210/210 [==============================] - 1s 7ms/step - loss: 136097.6562 - val_loss: 11329.1113\n",
      "Epoch 73/100\n",
      "210/210 [==============================] - 1s 7ms/step - loss: 206695.6875 - val_loss: 50007.5703\n",
      "Epoch 74/100\n",
      "210/210 [==============================] - 1s 7ms/step - loss: 223025.3594 - val_loss: 156171.9844\n",
      "Epoch 75/100\n",
      "210/210 [==============================] - 1s 7ms/step - loss: 108089.0547 - val_loss: 40747.5781\n",
      "Epoch 76/100\n",
      "210/210 [==============================] - 1s 7ms/step - loss: 175366.0938 - val_loss: 12873.3154\n",
      "Epoch 77/100\n",
      "210/210 [==============================] - 1s 7ms/step - loss: 116309.2188 - val_loss: 51708.1250\n",
      "Epoch 78/100\n",
      "210/210 [==============================] - 1s 7ms/step - loss: 252623.8906 - val_loss: 16135.7764\n",
      "Epoch 79/100\n",
      "210/210 [==============================] - 1s 7ms/step - loss: 147250.9219 - val_loss: 48884.3047\n",
      "Epoch 80/100\n",
      "210/210 [==============================] - 1s 7ms/step - loss: 89572.8828 - val_loss: 308422.1250\n",
      "Epoch 81/100\n",
      "210/210 [==============================] - 1s 7ms/step - loss: 173137.8125 - val_loss: 48196.9375\n",
      "Epoch 82/100\n",
      "210/210 [==============================] - 1s 7ms/step - loss: 277316.1875 - val_loss: 24138.0234\n",
      "Epoch 83/100\n",
      "210/210 [==============================] - 1s 7ms/step - loss: 57657.3164 - val_loss: 8811.8018\n",
      "Epoch 84/100\n",
      "210/210 [==============================] - 1s 7ms/step - loss: 150290.9062 - val_loss: 37202.5938\n",
      "Epoch 85/100\n",
      "210/210 [==============================] - 1s 7ms/step - loss: 160940.3594 - val_loss: 55461.2422\n",
      "Epoch 86/100\n",
      "210/210 [==============================] - 1s 7ms/step - loss: 299033.4375 - val_loss: 11285.5732\n",
      "Epoch 87/100\n",
      "210/210 [==============================] - 1s 7ms/step - loss: 91359.9531 - val_loss: 74927.9375\n",
      "Epoch 88/100\n",
      "210/210 [==============================] - 1s 7ms/step - loss: 107085.6953 - val_loss: 6841.6260\n",
      "Epoch 89/100\n",
      "210/210 [==============================] - 1s 7ms/step - loss: 255923.3906 - val_loss: 16801.5254\n",
      "Epoch 90/100\n",
      "210/210 [==============================] - 1s 7ms/step - loss: 206643.9219 - val_loss: 64264.6289\n",
      "Epoch 91/100\n",
      "210/210 [==============================] - 1s 7ms/step - loss: 123697.0234 - val_loss: 293317.4688\n",
      "Epoch 92/100\n",
      "210/210 [==============================] - 1s 7ms/step - loss: 186984.0938 - val_loss: 76034.2734\n",
      "Epoch 93/100\n",
      "210/210 [==============================] - 1s 7ms/step - loss: 118255.8984 - val_loss: 14010.2656\n",
      "Epoch 94/100\n",
      "210/210 [==============================] - 1s 7ms/step - loss: 152778.5312 - val_loss: 469222.3750\n",
      "Epoch 95/100\n",
      "210/210 [==============================] - 1s 7ms/step - loss: 143175.7500 - val_loss: 23577.3984\n",
      "Epoch 96/100\n",
      "210/210 [==============================] - 1s 7ms/step - loss: 454407.4375 - val_loss: 28744.3848\n",
      "Epoch 97/100\n",
      "210/210 [==============================] - 1s 7ms/step - loss: 42997.4102 - val_loss: 14400.7812\n",
      "Epoch 98/100\n",
      "210/210 [==============================] - 1s 7ms/step - loss: 77445.4609 - val_loss: 702574.5000\n",
      "Epoch 99/100\n",
      "210/210 [==============================] - 1s 7ms/step - loss: 167809.8125 - val_loss: 10445.4316\n",
      "Epoch 100/100\n",
      "210/210 [==============================] - 1s 7ms/step - loss: 172653.4844 - val_loss: 27910.1504\n"
     ]
    }
   ],
   "source": [
    "# x: 'Collisions_Historical', 'Mid_lat','Mid_long', 'Stop_Signs', 'Paving_historical', 'Bus_stop','RTTYP_I','RTTYP_M','RTTYP_O','RTTYP_S','RTTYP_U'\n",
    "# y: 'Collisions_Future'\n",
    "\n",
    "def create_linear_model():\n",
    "    # DENSE LAYERS \n",
    "    input = tf.keras.layers.Input(shape=(111307,))\n",
    "\n",
    "    outputs = layers.Dense(1)(input)\n",
    "\n",
    "    linear_model = tf.keras.models.Model(inputs=input, outputs=outputs, name=\"linear_model\")\n",
    "\n",
    "    linear_model.summary()\n",
    "\n",
    "    linear_model.compile(\n",
    "        optimizer=tf.keras.optimizers.Adam(learning_rate=0.001),\n",
    "        loss='mean_squared_error'\n",
    "        )\n",
    "    \n",
    "    return linear_model\n",
    "\n",
    "linear_model = create_linear_model()\n",
    "\n",
    "history = linear_model.fit(\n",
    "    input_image_street,\n",
    "     np.stack(y_train['Collisions_Future'].to_numpy()),\n",
    "    epochs=100,\n",
    "    # Suppress logging.\n",
    "     verbose=1,\n",
    "    # Calculate validation results on 20% of the training data.\n",
    "    validation_split = 0.2)\n"
   ]
  },
  {
   "cell_type": "code",
   "execution_count": 26,
   "id": "aab7b35b-71ff-4966-b602-45bb0e4bc6ad",
   "metadata": {
    "tags": []
   },
   "outputs": [
    {
     "data": {
      "image/png": "[encoded data removed]",
      "text/plain": [
       "<Figure size 640x480 with 1 Axes>"
      ]
     },
     "metadata": {},
     "output_type": "display_data"
    }
   ],
   "source": [
    "plot_loss(history)"
   ]
  },
  {
   "cell_type": "code",
   "execution_count": 27,
   "id": "380a4d1d-ec2e-4546-820f-e51501791eaa",
   "metadata": {
    "tags": []
   },
   "outputs": [
    {
     "name": "stdout",
     "output_type": "stream",
     "text": [
      "66/66 [==============================] - 0s 5ms/step\n"
     ]
    }
   ],
   "source": [
    "predict_result = history.model.predict(input_image_street_test)"
   ]
  },
  {
   "cell_type": "markdown",
   "id": "99c93772-2d18-4241-a31f-7793c8b46be4",
   "metadata": {},
   "source": [
    "## Mean squared error"
   ]
  },
  {
   "cell_type": "code",
   "execution_count": 53,
   "id": "4d94890a-c92e-48df-aef5-1be5337e803e",
   "metadata": {
    "tags": []
   },
   "outputs": [
    {
     "data": {
      "text/plain": [
       "27614.103562516062"
      ]
     },
     "execution_count": 53,
     "metadata": {},
     "output_type": "execute_result"
    }
   ],
   "source": [
    "np.square(predict_result - y_test['Collisions_Future'].to_numpy().reshape((2095,1))).mean()"
   ]
  },
  {
   "cell_type": "markdown",
   "id": "76293faa-4ad4-4467-adcf-75a6e9c9cfb3",
   "metadata": {
    "tags": []
   },
   "source": [
    "## LOGISTIC MODEL WITH IMAGES"
   ]
  },
  {
   "cell_type": "code",
   "execution_count": 29,
   "id": "77720819-1254-4495-a662-aec9445e4fcd",
   "metadata": {
    "jupyter": {
     "source_hidden": true
    },
    "tags": []
   },
   "outputs": [],
   "source": [
    "# def log_loss(y_pred, y):\n",
    "#   # Compute the log loss function\n",
    "#   ce = tf.nn.sigmoid_cross_entropy_with_logits(labels=y, logits=y_pred)\n",
    "#   return tf.reduce_mean(ce)\n",
    "\n",
    "# class LogisticRegression(tf.Module):\n",
    "\n",
    "#   def __init__(self):\n",
    "#     self.built = False\n",
    "\n",
    "#   def __call__(self, x, train=True):\n",
    "#     # Initialize the model parameters on the first call\n",
    "#     if not self.built:\n",
    "#       # Randomly generate the weights and the bias term\n",
    "#       rand_w = tf.random.uniform(shape=[x.shape[-1], 1], seed=22)\n",
    "#       rand_b = tf.random.uniform(shape=[], seed=22)\n",
    "#       self.w = tf.Variable(rand_w)\n",
    "#       self.b = tf.Variable(rand_b)\n",
    "#       self.built = True\n",
    "#     # Compute the model output\n",
    "#     z = tf.add(tf.matmul(x, self.w), self.b)\n",
    "#     z = tf.squeeze(z, axis=1)\n",
    "#     if train:\n",
    "#       return z\n",
    "#     return tf.sigmoid(z)\n",
    "\n",
    "# log_reg = LogisticRegression()\n",
    "\n",
    "# def predict_class(y_pred, thresh=0.5):\n",
    "#   # Return a tensor with  `1` if `y_pred` > `0.5`, and `0` otherwise\n",
    "#   return tf.cast(y_pred > thresh, tf.float32)\n",
    "\n",
    "# def accuracy(y_pred, y):\n",
    "#   # Return the proportion of matches between `y_pred` and `y`\n",
    "#   y_pred = tf.math.sigmoid(y_pred)\n",
    "#   y_pred_class = predict_class(y_pred)\n",
    "#   check_equal = tf.cast(y_pred_class == y,tf.float32)\n",
    "#   acc_val = tf.reduce_mean(check_equal)\n",
    "#   return acc_val"
   ]
  },
  {
   "cell_type": "code",
   "execution_count": 30,
   "id": "2e09bb67-ac68-494f-a221-9f1d0b784100",
   "metadata": {},
   "outputs": [],
   "source": [
    "# y_pred = log_reg(input_image_street[0:5], train=False)\n",
    "# y_pred.numpy()\n",
    "# # input_image_street.shape[0]"
   ]
  },
  {
   "cell_type": "code",
   "execution_count": 31,
   "id": "53774f86-e884-40e7-a4c6-59eabad1eb33",
   "metadata": {
    "tags": []
   },
   "outputs": [],
   "source": [
    "# # Our vectorized labels\n",
    "# y_train = np.asarray(y_train).astype('float32').reshape((-1,1))\n",
    "# # y_test = np.asarray(test_labels).astype('float32').reshape((-1,1))\n",
    "# batch_size = 2 #  64\n",
    "# train_dataset = tf.data.Dataset.from_tensor_slices((input_image_street, y_train))\n",
    "# train_dataset = train_dataset.shuffle(buffer_size=input_image_street.shape[0]).batch(batch_size)\n",
    "# # test_dataset = tf.data.Dataset.from_tensor_slices((input_image_street, y_test))\n",
    "# # test_dataset = test_dataset.shuffle(buffer_size=x_test.shape[0]).batch(batch_size)"
   ]
  },
  {
   "cell_type": "code",
   "execution_count": 32,
   "id": "b33bdbd9-903e-4451-b3ec-077006b455a8",
   "metadata": {},
   "outputs": [],
   "source": [
    "# y_train.shape"
   ]
  },
  {
   "cell_type": "code",
   "execution_count": 33,
   "id": "df9a02d3-2f19-4d49-af7f-0cbea330465b",
   "metadata": {
    "tags": []
   },
   "outputs": [],
   "source": [
    "# # Set training parameters\n",
    "# epochs = 3 # 200\n",
    "# learning_rate = 0.01\n",
    "# train_losses, test_losses = [], []\n",
    "# train_accs, test_accs = [], []\n",
    "\n",
    "# # Set up the training loop and begin training\n",
    "# for epoch in range(epochs):\n",
    "#   batch_losses_train, batch_accs_train = [], []\n",
    "#   batch_losses_test, batch_accs_test = [], []\n",
    "\n",
    "#   # Iterate over the training data\n",
    "#   for x_batch, y_batch in train_dataset:\n",
    "#     with tf.GradientTape() as tape:\n",
    "#       y_pred_batch = log_reg(x_batch)\n",
    "#       # print(f'y_pred_batch: {y_pred_batch.numpy().reshape((2,1)).shape}')\n",
    "#       print(f'y_batch: {y_batch.shape}')\n",
    "#       y_pred_batch = y_pred_batch.numpy().reshape((2,1))\n",
    "#       batch_loss = log_loss(y_pred_batch, y_batch)\n",
    "#     batch_acc = accuracy(y_pred_batch, y_batch)\n",
    "#     # Update the parameters with respect to the gradient calculations\n",
    "#     grads = tape.gradient(batch_loss, log_reg.variables)\n",
    "#     for g,v in zip(grads, log_reg.variables):\n",
    "#       print(g,v)  \n",
    "#       v.assign_sub(learning_rate * g)\n",
    "#     # Keep track of batch-level training performance\n",
    "#     batch_losses_train.append(batch_loss)\n",
    "#     batch_accs_train.append(batch_acc)\n",
    "\n",
    "#   # Iterate over the testing data\n",
    "#   for x_batch, y_batch in test_dataset:\n",
    "#     y_pred_batch = log_reg(x_batch)\n",
    "#     batch_loss = log_loss(y_pred_batch, y_batch)\n",
    "#     batch_acc = accuracy(y_pred_batch, y_batch)\n",
    "#     # Keep track of batch-level testing performance\n",
    "#     batch_losses_test.append(batch_loss)\n",
    "#     batch_accs_test.append(batch_acc)\n",
    "\n",
    "#   # Keep track of epoch-level model performance\n",
    "#   train_loss, train_acc = tf.reduce_mean(batch_losses_train), tf.reduce_mean(batch_accs_train)\n",
    "#   test_loss, test_acc = tf.reduce_mean(batch_losses_test), tf.reduce_mean(batch_accs_test)\n",
    "#   train_losses.append(train_loss)\n",
    "#   train_accs.append(train_acc)\n",
    "#   test_losses.append(test_loss)\n",
    "#   test_accs.append(test_acc)\n",
    "#   if epoch % 20 == 0:\n",
    "#     print(f\"Epoch: {epoch}, Training log loss: {train_loss:.3f}\")"
   ]
  },
  {
   "cell_type": "code",
   "execution_count": 34,
   "id": "bc0d5ace-613d-4a4f-9d7b-f7cc8bedf507",
   "metadata": {},
   "outputs": [],
   "source": [
    "# clf = LogisticRegression(random_state=0,max_iter=1000).fit(input_image_street, np.ravel(y_train))"
   ]
  },
  {
   "cell_type": "code",
   "execution_count": 25,
   "id": "6ef027c2-bb0f-45e7-ac0a-2fb328014abf",
   "metadata": {
    "tags": []
   },
   "outputs": [
    {
     "name": "stdout",
     "output_type": "stream",
     "text": [
      "Model: \"logistic_model\"\n",
      "_________________________________________________________________\n",
      " Layer (type)                Output Shape              Param #   \n",
      "=================================================================\n",
      " input_1 (InputLayer)        [(None, 111307)]          0         \n",
      "                                                                 \n",
      " dense (Dense)               (None, 1)                 111308    \n",
      "                                                                 \n",
      "=================================================================\n",
      "Total params: 111,308\n",
      "Trainable params: 111,308\n",
      "Non-trainable params: 0\n",
      "_________________________________________________________________\n"
     ]
    },
    {
     "name": "stderr",
     "output_type": "stream",
     "text": [
      "2023-03-14 04:42:23.794074: I tensorflow/compiler/xla/stream_executor/cuda/cuda_gpu_executor.cc:981] successful NUMA node read from SysFS had negative value (-1), but there must be at least one NUMA node, so returning NUMA node zero\n",
      "2023-03-14 04:42:23.800684: I tensorflow/compiler/xla/stream_executor/cuda/cuda_gpu_executor.cc:981] successful NUMA node read from SysFS had negative value (-1), but there must be at least one NUMA node, so returning NUMA node zero\n",
      "2023-03-14 04:42:23.801032: I tensorflow/compiler/xla/stream_executor/cuda/cuda_gpu_executor.cc:981] successful NUMA node read from SysFS had negative value (-1), but there must be at least one NUMA node, so returning NUMA node zero\n",
      "2023-03-14 04:42:23.801693: I tensorflow/core/platform/cpu_feature_guard.cc:193] This TensorFlow binary is optimized with oneAPI Deep Neural Network Library (oneDNN) to use the following CPU instructions in performance-critical operations:  AVX2 FMA\n",
      "To enable them in other operations, rebuild TensorFlow with the appropriate compiler flags.\n",
      "2023-03-14 04:42:23.802682: I tensorflow/compiler/xla/stream_executor/cuda/cuda_gpu_executor.cc:981] successful NUMA node read from SysFS had negative value (-1), but there must be at least one NUMA node, so returning NUMA node zero\n",
      "2023-03-14 04:42:23.803033: I tensorflow/compiler/xla/stream_executor/cuda/cuda_gpu_executor.cc:981] successful NUMA node read from SysFS had negative value (-1), but there must be at least one NUMA node, so returning NUMA node zero\n",
      "2023-03-14 04:42:23.803371: I tensorflow/compiler/xla/stream_executor/cuda/cuda_gpu_executor.cc:981] successful NUMA node read from SysFS had negative value (-1), but there must be at least one NUMA node, so returning NUMA node zero\n",
      "2023-03-14 04:42:24.315337: I tensorflow/compiler/xla/stream_executor/cuda/cuda_gpu_executor.cc:981] successful NUMA node read from SysFS had negative value (-1), but there must be at least one NUMA node, so returning NUMA node zero\n",
      "2023-03-14 04:42:24.315619: I tensorflow/compiler/xla/stream_executor/cuda/cuda_gpu_executor.cc:981] successful NUMA node read from SysFS had negative value (-1), but there must be at least one NUMA node, so returning NUMA node zero\n",
      "2023-03-14 04:42:24.315906: I tensorflow/compiler/xla/stream_executor/cuda/cuda_gpu_executor.cc:981] successful NUMA node read from SysFS had negative value (-1), but there must be at least one NUMA node, so returning NUMA node zero\n",
      "2023-03-14 04:42:24.316095: I tensorflow/core/common_runtime/gpu/gpu_device.cc:1613] Created device /job:localhost/replica:0/task:0/device:GPU:0 with 6911 MB memory:  -> device: 0, name: Tesla M60, pci bus id: 0000:00:1e.0, compute capability: 5.2\n"
     ]
    },
    {
     "name": "stdout",
     "output_type": "stream",
     "text": [
      "Epoch 1/50\n"
     ]
    },
    {
     "name": "stderr",
     "output_type": "stream",
     "text": [
      "2023-03-14 04:42:30.474129: I tensorflow/compiler/xla/service/service.cc:173] XLA service 0x7f89a60f3a40 initialized for platform CUDA (this does not guarantee that XLA will be used). Devices:\n",
      "2023-03-14 04:42:30.474174: I tensorflow/compiler/xla/service/service.cc:181]   StreamExecutor device (0): Tesla M60, Compute Capability 5.2\n",
      "2023-03-14 04:42:30.480286: I tensorflow/compiler/mlir/tensorflow/utils/dump_mlir_util.cc:268] disabling MLIR crash reproducer, set env var `MLIR_CRASH_REPRODUCER_DIRECTORY` to enable.\n",
      "2023-03-14 04:42:30.640000: I tensorflow/compiler/jit/xla_compilation_cache.cc:477] Compiled cluster using XLA!  This line is logged at most once for the lifetime of the process.\n"
     ]
    },
    {
     "name": "stdout",
     "output_type": "stream",
     "text": [
      "210/210 [==============================] - 3s 9ms/step - loss: 534.9476 - accuracy: 0.6848 - val_loss: 202.9917 - val_accuracy: 0.8043\n",
      "Epoch 2/50\n",
      "210/210 [==============================] - 2s 7ms/step - loss: 361.7238 - accuracy: 0.7055 - val_loss: 327.1791 - val_accuracy: 0.3920\n",
      "Epoch 3/50\n",
      "210/210 [==============================] - 2s 8ms/step - loss: 394.3917 - accuracy: 0.7194 - val_loss: 177.5089 - val_accuracy: 0.6426\n",
      "Epoch 4/50\n",
      "210/210 [==============================] - 2s 7ms/step - loss: 212.8718 - accuracy: 0.7284 - val_loss: 378.5093 - val_accuracy: 0.8085\n",
      "Epoch 5/50\n",
      "210/210 [==============================] - 2s 7ms/step - loss: 278.1451 - accuracy: 0.7442 - val_loss: 172.9765 - val_accuracy: 0.8091\n",
      "Epoch 6/50\n",
      "210/210 [==============================] - 2s 7ms/step - loss: 479.4064 - accuracy: 0.7143 - val_loss: 888.8353 - val_accuracy: 0.8091\n",
      "Epoch 7/50\n",
      "210/210 [==============================] - 2s 7ms/step - loss: 329.5608 - accuracy: 0.7522 - val_loss: 257.5073 - val_accuracy: 0.8067\n",
      "Epoch 8/50\n",
      "210/210 [==============================] - 2s 7ms/step - loss: 260.2215 - accuracy: 0.7587 - val_loss: 187.5953 - val_accuracy: 0.6152\n",
      "Epoch 9/50\n",
      "210/210 [==============================] - 1s 7ms/step - loss: 111.7663 - accuracy: 0.8081 - val_loss: 148.5040 - val_accuracy: 0.6414\n",
      "Epoch 10/50\n",
      "210/210 [==============================] - 1s 7ms/step - loss: 200.7526 - accuracy: 0.7751 - val_loss: 118.1104 - val_accuracy: 0.7679\n",
      "Epoch 11/50\n",
      "210/210 [==============================] - 2s 7ms/step - loss: 159.4307 - accuracy: 0.8003 - val_loss: 569.5842 - val_accuracy: 0.8091\n",
      "Epoch 12/50\n",
      "210/210 [==============================] - 2s 7ms/step - loss: 261.5078 - accuracy: 0.7782 - val_loss: 240.5958 - val_accuracy: 0.5537\n",
      "Epoch 13/50\n",
      "210/210 [==============================] - 2s 7ms/step - loss: 211.9153 - accuracy: 0.7751 - val_loss: 355.9471 - val_accuracy: 0.4749\n",
      "Epoch 14/50\n",
      "210/210 [==============================] - 2s 7ms/step - loss: 179.3302 - accuracy: 0.7913 - val_loss: 223.0875 - val_accuracy: 0.8013\n",
      "Epoch 15/50\n",
      "210/210 [==============================] - 2s 7ms/step - loss: 137.6224 - accuracy: 0.8191 - val_loss: 230.9667 - val_accuracy: 0.8049\n",
      "Epoch 16/50\n",
      "210/210 [==============================] - 2s 7ms/step - loss: 247.0369 - accuracy: 0.7806 - val_loss: 204.5597 - val_accuracy: 0.7900\n",
      "Epoch 17/50\n",
      "210/210 [==============================] - 2s 7ms/step - loss: 195.2046 - accuracy: 0.8025 - val_loss: 340.1539 - val_accuracy: 0.8067\n",
      "Epoch 18/50\n",
      "210/210 [==============================] - 2s 7ms/step - loss: 237.6392 - accuracy: 0.7976 - val_loss: 1271.6936 - val_accuracy: 0.8091\n",
      "Epoch 19/50\n",
      "210/210 [==============================] - 2s 7ms/step - loss: 121.0757 - accuracy: 0.8449 - val_loss: 710.7070 - val_accuracy: 0.3502\n",
      "Epoch 20/50\n",
      "210/210 [==============================] - 2s 8ms/step - loss: 117.4395 - accuracy: 0.8387 - val_loss: 187.4828 - val_accuracy: 0.7882\n",
      "Epoch 21/50\n",
      "210/210 [==============================] - 2s 7ms/step - loss: 135.7712 - accuracy: 0.8391 - val_loss: 193.0535 - val_accuracy: 0.7942\n",
      "Epoch 22/50\n",
      "210/210 [==============================] - 2s 7ms/step - loss: 146.3744 - accuracy: 0.8249 - val_loss: 260.9175 - val_accuracy: 0.8031\n",
      "Epoch 23/50\n",
      "210/210 [==============================] - 2s 7ms/step - loss: 141.3363 - accuracy: 0.8404 - val_loss: 210.7394 - val_accuracy: 0.7965\n",
      "Epoch 24/50\n",
      "210/210 [==============================] - 2s 7ms/step - loss: 115.9354 - accuracy: 0.8539 - val_loss: 400.5132 - val_accuracy: 0.8091\n",
      "Epoch 25/50\n",
      "210/210 [==============================] - 2s 7ms/step - loss: 81.4107 - accuracy: 0.8776 - val_loss: 334.1359 - val_accuracy: 0.8073\n",
      "Epoch 26/50\n",
      "210/210 [==============================] - 2s 7ms/step - loss: 52.5874 - accuracy: 0.9048 - val_loss: 429.8017 - val_accuracy: 0.8079\n",
      "Epoch 27/50\n",
      "210/210 [==============================] - 1s 7ms/step - loss: 205.6935 - accuracy: 0.8200 - val_loss: 218.2453 - val_accuracy: 0.7106\n",
      "Epoch 28/50\n",
      "210/210 [==============================] - 2s 7ms/step - loss: 125.3847 - accuracy: 0.8551 - val_loss: 208.3008 - val_accuracy: 0.7936\n",
      "Epoch 29/50\n",
      "210/210 [==============================] - 2s 8ms/step - loss: 195.4748 - accuracy: 0.8181 - val_loss: 253.9314 - val_accuracy: 0.7959\n",
      "Epoch 30/50\n",
      "210/210 [==============================] - 2s 7ms/step - loss: 96.8162 - accuracy: 0.8691 - val_loss: 206.1534 - val_accuracy: 0.7751\n",
      "Epoch 31/50\n",
      "210/210 [==============================] - 2s 7ms/step - loss: 135.8190 - accuracy: 0.8455 - val_loss: 562.6193 - val_accuracy: 0.4344\n",
      "Epoch 32/50\n",
      "210/210 [==============================] - 2s 7ms/step - loss: 81.0182 - accuracy: 0.8821 - val_loss: 202.0304 - val_accuracy: 0.7763\n",
      "Epoch 33/50\n",
      "210/210 [==============================] - 2s 7ms/step - loss: 84.4680 - accuracy: 0.8885 - val_loss: 202.4312 - val_accuracy: 0.7393\n",
      "Epoch 34/50\n",
      "210/210 [==============================] - 2s 7ms/step - loss: 100.0787 - accuracy: 0.8825 - val_loss: 206.3457 - val_accuracy: 0.7440\n",
      "Epoch 35/50\n",
      "210/210 [==============================] - 2s 7ms/step - loss: 202.8270 - accuracy: 0.8443 - val_loss: 419.0390 - val_accuracy: 0.8085\n",
      "Epoch 36/50\n",
      "210/210 [==============================] - 2s 7ms/step - loss: 100.4841 - accuracy: 0.8928 - val_loss: 287.7476 - val_accuracy: 0.8019\n",
      "Epoch 37/50\n",
      "210/210 [==============================] - 2s 7ms/step - loss: 62.3271 - accuracy: 0.9040 - val_loss: 249.8929 - val_accuracy: 0.7965\n",
      "Epoch 38/50\n",
      "210/210 [==============================] - 2s 7ms/step - loss: 172.3348 - accuracy: 0.8460 - val_loss: 316.6426 - val_accuracy: 0.7995\n",
      "Epoch 39/50\n",
      "210/210 [==============================] - 2s 7ms/step - loss: 247.5568 - accuracy: 0.8485 - val_loss: 884.2610 - val_accuracy: 0.8085\n",
      "Epoch 40/50\n",
      "210/210 [==============================] - 2s 7ms/step - loss: 205.7018 - accuracy: 0.8506 - val_loss: 553.9628 - val_accuracy: 0.8103\n",
      "Epoch 41/50\n",
      "210/210 [==============================] - 2s 7ms/step - loss: 75.2831 - accuracy: 0.9019 - val_loss: 263.1215 - val_accuracy: 0.6718\n",
      "Epoch 42/50\n",
      "210/210 [==============================] - 2s 7ms/step - loss: 173.2686 - accuracy: 0.8421 - val_loss: 977.0391 - val_accuracy: 0.8091\n",
      "Epoch 43/50\n",
      "210/210 [==============================] - 2s 7ms/step - loss: 37.1677 - accuracy: 0.9333 - val_loss: 250.8578 - val_accuracy: 0.7142\n",
      "Epoch 44/50\n",
      "210/210 [==============================] - 2s 7ms/step - loss: 146.8208 - accuracy: 0.8640 - val_loss: 281.6154 - val_accuracy: 0.7864\n",
      "Epoch 45/50\n",
      "210/210 [==============================] - 2s 7ms/step - loss: 111.5224 - accuracy: 0.8790 - val_loss: 280.7199 - val_accuracy: 0.7834\n",
      "Epoch 46/50\n",
      "210/210 [==============================] - 2s 7ms/step - loss: 67.7250 - accuracy: 0.9157 - val_loss: 706.3315 - val_accuracy: 0.8079\n",
      "Epoch 47/50\n",
      "210/210 [==============================] - 2s 7ms/step - loss: 59.1819 - accuracy: 0.9173 - val_loss: 257.9861 - val_accuracy: 0.7536\n",
      "Epoch 48/50\n",
      "210/210 [==============================] - 2s 7ms/step - loss: 49.1879 - accuracy: 0.9270 - val_loss: 294.4103 - val_accuracy: 0.7912\n",
      "Epoch 49/50\n",
      "210/210 [==============================] - 2s 7ms/step - loss: 152.8852 - accuracy: 0.8551 - val_loss: 337.0031 - val_accuracy: 0.6366\n",
      "Epoch 50/50\n",
      "210/210 [==============================] - 2s 7ms/step - loss: 59.5558 - accuracy: 0.9318 - val_loss: 591.6646 - val_accuracy: 0.8085\n"
     ]
    },
    {
     "data": {
      "image/png": "[encoded data removed]",
      "text/plain": [
       "<Figure size 640x480 with 1 Axes>"
      ]
     },
     "metadata": {},
     "output_type": "display_data"
    }
   ],
   "source": [
    "# x: 'Collisions_Historical', 'Mid_lat','Mid_long', 'Stop_Signs', 'Paving_historical', 'Bus_stop','RTTYP_I','RTTYP_M','RTTYP_O','RTTYP_S','RTTYP_U'\n",
    "# y: 'Collisions_Future'\n",
    "\n",
    "def create_logistic_model():\n",
    "    # DENSE LAYERS \n",
    "    input = tf.keras.layers.Input(shape=(111307,))\n",
    "    \n",
    "    # input = keras.layers.Flatten()(input)\n",
    "\n",
    "    outputs = keras.layers.Dense(units = 1, activation = 'sigmoid')(input)\n",
    "\n",
    "    log_model = tf.keras.models.Model(inputs=input, outputs=outputs, name=\"logistic_model\")\n",
    "\n",
    "    log_model.summary()\n",
    "\n",
    "    log_model.compile(\n",
    "        optimizer=tf.keras.optimizers.Adam(learning_rate=0.001),\n",
    "        loss=\"bce\",\n",
    "        metrics=['accuracy']\n",
    "        )\n",
    "    \n",
    "    return log_model\n",
    "\n",
    "logistic_model = create_logistic_model()\n",
    "\n",
    "# class_weight = {0: 1,\n",
    "#                 1: 100000,\n",
    "#                 2: 100000,\n",
    "#                 3: 100000,\n",
    "#                 4: 100000,\n",
    "#                 5: 100000,\n",
    "#                 6: 100000,\n",
    "#                 7: 100000,\n",
    "#                 8: 100000,\n",
    "#                 9: 100000,\n",
    "#                 10: 100000,\n",
    "#                 #11: 100000,\n",
    "#                }\n",
    "\n",
    "history = logistic_model.fit(\n",
    "    input_image_street,\n",
    "    np.stack(y_train.to_numpy()),\n",
    "     # y_train_2,\n",
    "    epochs=50,\n",
    "    # Suppress logging.\n",
    "     # verbose=1,\n",
    "    # Calculate validation results on 20% of the training data.\n",
    "    validation_split = 0.2,\n",
    "    # class_weight = class_weight\n",
    "    )\n",
    "\n",
    "plot_loss(history)"
   ]
  },
  {
   "cell_type": "code",
   "execution_count": 26,
   "id": "d59d1f10-ef4f-4c0e-8ec9-6c9e453d88c0",
   "metadata": {
    "tags": []
   },
   "outputs": [
    {
     "name": "stdout",
     "output_type": "stream",
     "text": [
      "66/66 [==============================] - 0s 5ms/step\n"
     ]
    }
   ],
   "source": [
    "predict_result = history.model.predict(input_image_street_test)"
   ]
  },
  {
   "cell_type": "code",
   "execution_count": 44,
   "id": "1f47cc81-87d8-4766-80ef-b4ef714bf219",
   "metadata": {},
   "outputs": [],
   "source": [
    "predict_result = pd.Series(predict_result.reshape(2095)).apply(lambda x: 1 if x > 0 else 0)"
   ]
  },
  {
   "cell_type": "code",
   "execution_count": 45,
   "id": "e98e029b-2db6-433b-836f-05a83a97ddde",
   "metadata": {
    "tags": []
   },
   "outputs": [
    {
     "data": {
      "text/plain": [
       "0.026030368763557486"
      ]
     },
     "execution_count": 45,
     "metadata": {},
     "output_type": "execute_result"
    }
   ],
   "source": [
    "f1_score(y_test.to_numpy(), predict_result, labels=None, pos_label=1, average='binary', sample_weight=None, zero_division='warn')"
   ]
  }
 ],
 "metadata": {
  "kernelspec": {
   "display_name": "Python 3 (ipykernel)",
   "language": "python",
   "name": "python3"
  },
  "language_info": {
   "codemirror_mode": {
    "name": "ipython",
    "version": 3
   },
   "file_extension": ".py",
   "mimetype": "text/x-python",
   "name": "python",
   "nbconvert_exporter": "python",
   "pygments_lexer": "ipython3",
   "version": "3.10.7"
  }
 },
 "nbformat": 4,
 "nbformat_minor": 5
}
