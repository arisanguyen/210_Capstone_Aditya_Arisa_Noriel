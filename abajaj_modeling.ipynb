{
 "cells": [
  {
   "cell_type": "code",
   "execution_count": 1,
   "id": "356025b8",
   "metadata": {
    "tags": []
   },
   "outputs": [
    {
     "name": "stderr",
     "output_type": "stream",
     "text": [
      "2023-03-15 05:27:02.294633: I tensorflow/core/platform/cpu_feature_guard.cc:193] This TensorFlow binary is optimized with oneAPI Deep Neural Network Library (oneDNN) to use the following CPU instructions in performance-critical operations:  AVX2 FMA\n",
      "To enable them in other operations, rebuild TensorFlow with the appropriate compiler flags.\n",
      "2023-03-15 05:27:03.279024: W tensorflow/compiler/xla/stream_executor/platform/default/dso_loader.cc:64] Could not load dynamic library 'libnvinfer.so.7'; dlerror: libnvinfer.so.7: cannot open shared object file: No such file or directory; LD_LIBRARY_PATH: /opt/amazon/efa/lib:/opt/amazon/openmpi/lib:/usr/local/cuda/efa/lib:/usr/local/cuda/lib:/usr/local/cuda:/usr/local/cuda/lib64:/usr/local/cuda/extras/CUPTI/lib64:/usr/local/cuda/targets/x86_64-linux/lib:/usr/local/lib:/usr/lib:/opt/amazon/efa/lib:/opt/amazon/openmpi/lib:/usr/local/cuda/efa/lib:/usr/local/cuda/lib:/usr/local/cuda:/usr/local/cuda/lib64:/usr/local/cuda/extras/CUPTI/lib64:/usr/local/cuda/targets/x86_64-linux/lib:/usr/local/lib:/usr/lib:\n",
      "2023-03-15 05:27:03.279198: W tensorflow/compiler/xla/stream_executor/platform/default/dso_loader.cc:64] Could not load dynamic library 'libnvinfer_plugin.so.7'; dlerror: libnvinfer_plugin.so.7: cannot open shared object file: No such file or directory; LD_LIBRARY_PATH: /opt/amazon/efa/lib:/opt/amazon/openmpi/lib:/usr/local/cuda/efa/lib:/usr/local/cuda/lib:/usr/local/cuda:/usr/local/cuda/lib64:/usr/local/cuda/extras/CUPTI/lib64:/usr/local/cuda/targets/x86_64-linux/lib:/usr/local/lib:/usr/lib:/opt/amazon/efa/lib:/opt/amazon/openmpi/lib:/usr/local/cuda/efa/lib:/usr/local/cuda/lib:/usr/local/cuda:/usr/local/cuda/lib64:/usr/local/cuda/extras/CUPTI/lib64:/usr/local/cuda/targets/x86_64-linux/lib:/usr/local/lib:/usr/lib:\n",
      "2023-03-15 05:27:03.279211: W tensorflow/compiler/tf2tensorrt/utils/py_utils.cc:38] TF-TRT Warning: Cannot dlopen some TensorRT libraries. If you would like to use Nvidia GPU with TensorRT, please make sure the missing libraries mentioned above are installed properly.\n"
     ]
    }
   ],
   "source": [
    "import numpy as np\n",
    "import pandas as pd\n",
    "import math\n",
    "\n",
    "import matplotlib\n",
    "import matplotlib.pyplot as plt\n",
    "\n",
    "import tensorflow as tf\n",
    "from tensorflow import keras\n",
    "from tensorflow.keras import layers\n",
    "from tensorflow.keras.layers import concatenate\n",
    "import tensorflow_addons as tfa\n",
    "from keras.layers import Flatten, Dense, Dropout\n",
    "import tifffile\n",
    "\n",
    "from sklearn.model_selection import train_test_split\n",
    "# from sklearn.preprocessing import LabelEncoder\n",
    "# from sklearn.preprocessing import OneHotEncoder\n",
    "from sklearn.preprocessing import LabelBinarizer\n",
    "from sklearn.linear_model import LogisticRegression\n",
    "from sklearn.metrics import f1_score\n",
    "import os\n",
    "\n",
    "import scipy\n",
    "from numba import cuda "
   ]
  },
  {
   "cell_type": "code",
   "execution_count": 2,
   "id": "cbe8314a-60a7-4de8-be72-620b659ef79d",
   "metadata": {
    "tags": []
   },
   "outputs": [],
   "source": [
    "# !pip install numpy tensorflow matplotlib scipy\n",
    "# # !pip install pandas\n",
    "# !pip install tifffile\n",
    "# !pip install scikit-learn\n",
    "# !pip install imagecodecs\n",
    "# !pip install tensorflow-addons\n",
    "# !pip install numba "
   ]
  },
  {
   "cell_type": "code",
   "execution_count": 3,
   "id": "bc10282d-f694-4346-b6e6-34923575c633",
   "metadata": {
    "tags": []
   },
   "outputs": [],
   "source": [
    "def reset_gpu():\n",
    "    device = cuda.get_current_device()\n",
    "    device.reset()"
   ]
  },
  {
   "cell_type": "code",
   "execution_count": 4,
   "id": "8bb10982-72ec-439c-9c1a-6c182803eb2f",
   "metadata": {
    "tags": []
   },
   "outputs": [],
   "source": [
    "def plot_loss(history):\n",
    "    plt.plot(history.history['loss'], label='loss')\n",
    "    plt.plot(history.history['val_loss'], label='val_loss')\n",
    "   # plt.plot(history.history['accuracy'], label='accuracy')\n",
    "   # plt.plot(history.history['val_accuracy'], label='val_accuracy')\n",
    "    plt.ylim([0, \n",
    "            max(\n",
    "                max(history.history['loss']),\n",
    "                max(history.history['val_loss'])\n",
    "            )])\n",
    "    plt.xlabel('Epoch')\n",
    "    plt.ylabel('Loss')\n",
    "    plt.legend()\n",
    "    plt.grid(True)"
   ]
  },
  {
   "cell_type": "code",
   "execution_count": 5,
   "id": "f3693092",
   "metadata": {
    "tags": []
   },
   "outputs": [],
   "source": [
    "tiles = pd.read_csv(r'Data/Tiles_expanded.csv')\n",
    "tiles_expanded_rv = pd.read_csv(r'Data/Tiles_expanded_road_vector.csv').drop(['Unnamed: 0'],axis=1)\n",
    "tiles_expanded_rv = pd.get_dummies(tiles_expanded_rv, columns = ['RTTYP'])"
   ]
  },
  {
   "cell_type": "code",
   "execution_count": 6,
   "id": "29e5ddd8-bf87-4021-8274-ee55f64b54a7",
   "metadata": {
    "tags": []
   },
   "outputs": [
    {
     "data": {
      "text/html": [
       "<div>\n",
       "<style scoped>\n",
       "    .dataframe tbody tr th:only-of-type {\n",
       "        vertical-align: middle;\n",
       "    }\n",
       "\n",
       "    .dataframe tbody tr th {\n",
       "        vertical-align: top;\n",
       "    }\n",
       "\n",
       "    .dataframe thead th {\n",
       "        text-align: right;\n",
       "    }\n",
       "</style>\n",
       "<table border=\"1\" class=\"dataframe\">\n",
       "  <thead>\n",
       "    <tr style=\"text-align: right;\">\n",
       "      <th></th>\n",
       "      <th>Tile_ID</th>\n",
       "      <th>Long2</th>\n",
       "      <th>Lat2</th>\n",
       "      <th>Long1</th>\n",
       "      <th>Lat1</th>\n",
       "      <th>Mid_lat</th>\n",
       "      <th>Mid_long</th>\n",
       "      <th>Stop_Signs</th>\n",
       "      <th>Paving_historical</th>\n",
       "      <th>Paving_future</th>\n",
       "      <th>Bus_stop</th>\n",
       "      <th>Collisions_Future</th>\n",
       "      <th>Collisions_Historical</th>\n",
       "      <th>RTTYP_I</th>\n",
       "      <th>RTTYP_M</th>\n",
       "      <th>RTTYP_O</th>\n",
       "      <th>RTTYP_S</th>\n",
       "      <th>RTTYP_U</th>\n",
       "    </tr>\n",
       "  </thead>\n",
       "  <tbody>\n",
       "    <tr>\n",
       "      <th>0</th>\n",
       "      <td>36</td>\n",
       "      <td>-122.514446</td>\n",
       "      <td>37.779636</td>\n",
       "      <td>-122.513306</td>\n",
       "      <td>37.778732</td>\n",
       "      <td>37.779184</td>\n",
       "      <td>-122.513876</td>\n",
       "      <td>0.0</td>\n",
       "      <td>0.0</td>\n",
       "      <td>0.0</td>\n",
       "      <td>0.0</td>\n",
       "      <td>0.0</td>\n",
       "      <td>0.0</td>\n",
       "      <td>0</td>\n",
       "      <td>1</td>\n",
       "      <td>0</td>\n",
       "      <td>0</td>\n",
       "      <td>0</td>\n",
       "    </tr>\n",
       "    <tr>\n",
       "      <th>1</th>\n",
       "      <td>37</td>\n",
       "      <td>-122.514446</td>\n",
       "      <td>37.778732</td>\n",
       "      <td>-122.513306</td>\n",
       "      <td>37.777829</td>\n",
       "      <td>37.778280</td>\n",
       "      <td>-122.513876</td>\n",
       "      <td>0.0</td>\n",
       "      <td>0.0</td>\n",
       "      <td>0.0</td>\n",
       "      <td>0.0</td>\n",
       "      <td>0.0</td>\n",
       "      <td>0.0</td>\n",
       "      <td>0</td>\n",
       "      <td>1</td>\n",
       "      <td>0</td>\n",
       "      <td>0</td>\n",
       "      <td>0</td>\n",
       "    </tr>\n",
       "    <tr>\n",
       "      <th>2</th>\n",
       "      <td>151</td>\n",
       "      <td>-122.513306</td>\n",
       "      <td>37.779636</td>\n",
       "      <td>-122.512166</td>\n",
       "      <td>37.778732</td>\n",
       "      <td>37.779184</td>\n",
       "      <td>-122.512736</td>\n",
       "      <td>0.0</td>\n",
       "      <td>0.0</td>\n",
       "      <td>0.0</td>\n",
       "      <td>0.0</td>\n",
       "      <td>0.0</td>\n",
       "      <td>0.0</td>\n",
       "      <td>0</td>\n",
       "      <td>1</td>\n",
       "      <td>0</td>\n",
       "      <td>0</td>\n",
       "      <td>0</td>\n",
       "    </tr>\n",
       "    <tr>\n",
       "      <th>3</th>\n",
       "      <td>152</td>\n",
       "      <td>-122.513306</td>\n",
       "      <td>37.778732</td>\n",
       "      <td>-122.512166</td>\n",
       "      <td>37.777829</td>\n",
       "      <td>37.778280</td>\n",
       "      <td>-122.512736</td>\n",
       "      <td>0.0</td>\n",
       "      <td>0.0</td>\n",
       "      <td>0.0</td>\n",
       "      <td>0.0</td>\n",
       "      <td>0.0</td>\n",
       "      <td>0.0</td>\n",
       "      <td>0</td>\n",
       "      <td>1</td>\n",
       "      <td>0</td>\n",
       "      <td>0</td>\n",
       "      <td>0</td>\n",
       "    </tr>\n",
       "    <tr>\n",
       "      <th>4</th>\n",
       "      <td>153</td>\n",
       "      <td>-122.513306</td>\n",
       "      <td>37.777829</td>\n",
       "      <td>-122.512166</td>\n",
       "      <td>37.776925</td>\n",
       "      <td>37.777377</td>\n",
       "      <td>-122.512736</td>\n",
       "      <td>0.0</td>\n",
       "      <td>0.0</td>\n",
       "      <td>0.0</td>\n",
       "      <td>0.0</td>\n",
       "      <td>0.0</td>\n",
       "      <td>0.0</td>\n",
       "      <td>0</td>\n",
       "      <td>1</td>\n",
       "      <td>0</td>\n",
       "      <td>0</td>\n",
       "      <td>0</td>\n",
       "    </tr>\n",
       "  </tbody>\n",
       "</table>\n",
       "</div>"
      ],
      "text/plain": [
       "   Tile_ID       Long2       Lat2       Long1       Lat1    Mid_lat  \\\n",
       "0       36 -122.514446  37.779636 -122.513306  37.778732  37.779184   \n",
       "1       37 -122.514446  37.778732 -122.513306  37.777829  37.778280   \n",
       "2      151 -122.513306  37.779636 -122.512166  37.778732  37.779184   \n",
       "3      152 -122.513306  37.778732 -122.512166  37.777829  37.778280   \n",
       "4      153 -122.513306  37.777829 -122.512166  37.776925  37.777377   \n",
       "\n",
       "     Mid_long  Stop_Signs  Paving_historical  Paving_future  Bus_stop  \\\n",
       "0 -122.513876         0.0                0.0            0.0       0.0   \n",
       "1 -122.513876         0.0                0.0            0.0       0.0   \n",
       "2 -122.512736         0.0                0.0            0.0       0.0   \n",
       "3 -122.512736         0.0                0.0            0.0       0.0   \n",
       "4 -122.512736         0.0                0.0            0.0       0.0   \n",
       "\n",
       "   Collisions_Future  Collisions_Historical  RTTYP_I  RTTYP_M  RTTYP_O  \\\n",
       "0                0.0                    0.0        0        1        0   \n",
       "1                0.0                    0.0        0        1        0   \n",
       "2                0.0                    0.0        0        1        0   \n",
       "3                0.0                    0.0        0        1        0   \n",
       "4                0.0                    0.0        0        1        0   \n",
       "\n",
       "   RTTYP_S  RTTYP_U  \n",
       "0        0        0  \n",
       "1        0        0  \n",
       "2        0        0  \n",
       "3        0        0  \n",
       "4        0        0  "
      ]
     },
     "execution_count": 6,
     "metadata": {},
     "output_type": "execute_result"
    }
   ],
   "source": [
    "tiles_expanded_rv.head()"
   ]
  },
  {
   "cell_type": "code",
   "execution_count": 7,
   "id": "d02cf6af-4d7f-4cbe-91f0-6a33a0ba3c86",
   "metadata": {
    "tags": []
   },
   "outputs": [],
   "source": [
    "tiles_expanded_rv['Collisions_Future_binary']=tiles_expanded_rv['Collisions_Future'].apply(lambda x: 1 if x > 0 else 0)\n",
    "tiles_expanded_rv['Collisions_Historical_binary']=tiles_expanded_rv['Collisions_Historical'].apply(lambda x: 1 if x > 0 else 0)"
   ]
  },
  {
   "cell_type": "markdown",
   "id": "13f22a15-184e-466c-8edd-448bd974f88d",
   "metadata": {
    "tags": []
   },
   "source": [
    "# Normalize data"
   ]
  },
  {
   "cell_type": "code",
   "execution_count": 8,
   "id": "3d2d6b89-b6a3-4465-ac2b-be220741cea8",
   "metadata": {
    "tags": []
   },
   "outputs": [],
   "source": [
    "def normalize_col(df, col_name):\n",
    "\n",
    "    norm = (df[col_name] - df[col_name].min()) / (df[col_name].max() - df[col_name].min())\n",
    "    return norm\n",
    "\n",
    "tiles_expanded_rv['Mid_lat_norm'] = normalize_col(tiles_expanded_rv,'Mid_lat')\n",
    "tiles_expanded_rv['Mid_long_norm'] = normalize_col(tiles_expanded_rv,'Mid_long')\n"
   ]
  },
  {
   "cell_type": "markdown",
   "id": "c3a6b82c",
   "metadata": {},
   "source": [
    "Split into training and test"
   ]
  },
  {
   "cell_type": "code",
   "execution_count": 9,
   "id": "0d50fdd4",
   "metadata": {
    "tags": []
   },
   "outputs": [],
   "source": [
    "MODEL_TYPE='logistic' # 'linear'\n",
    "\n",
    "if MODEL_TYPE == 'linear':\n",
    "    input_x = ['Tile_ID','Collisions_Historical', 'Mid_lat_norm','Mid_long_norm', 'Stop_Signs', 'Paving_historical', 'Bus_stop','RTTYP_I','RTTYP_M','RTTYP_O','RTTYP_S','RTTYP_U']\n",
    "    input_y = ['Collisions_Future']\n",
    "elif MODEL_TYPE == 'logistic':\n",
    "    input_x = ['Tile_ID','Collisions_Historical_binary', 'Mid_lat_norm','Mid_long_norm', 'Stop_Signs', 'Paving_historical', 'Bus_stop','RTTYP_I','RTTYP_M','RTTYP_O','RTTYP_S','RTTYP_U']\n",
    "    input_y = ['Collisions_Future_binary']\n",
    "    \n",
    "\n",
    "x_train, x_test, y_train, y_test = train_test_split(\n",
    "                                    tiles_expanded_rv[input_x], \n",
    "                                    tiles_expanded_rv[input_y],\n",
    "                                    random_state=104, \n",
    "                                    test_size=0.20, \n",
    "                                    shuffle=True)\n",
    "\n"
   ]
  },
  {
   "cell_type": "markdown",
   "id": "fffe2d02",
   "metadata": {},
   "source": [
    "Model #1: Linear regression using Historical Collisions, SFMTA Street Characteristics, and Geocoordinates"
   ]
  },
  {
   "cell_type": "markdown",
   "id": "bf220283",
   "metadata": {},
   "source": [
    "## Image Pre-Processing"
   ]
  },
  {
   "cell_type": "code",
   "execution_count": 10,
   "id": "ea514649",
   "metadata": {
    "tags": []
   },
   "outputs": [],
   "source": [
    "IMAGE_PATH = 'Satellite_Imagery/Satellite_Images_Tiled/' "
   ]
  },
  {
   "cell_type": "code",
   "execution_count": 11,
   "id": "b40c2ccb",
   "metadata": {
    "tags": []
   },
   "outputs": [],
   "source": [
    " #eda\n",
    "img = tifffile.imread('Satellite_Imagery/Satellite_Images_Tiled/36.tif')[0:148, 0:188, :]\n",
    "img2 = tifffile.imread('Satellite_Imagery/Satellite_Images_Tiled/37.tif')[0:148, 0:188, :]"
   ]
  },
  {
   "cell_type": "code",
   "execution_count": 12,
   "id": "97889d4b",
   "metadata": {
    "tags": []
   },
   "outputs": [
    {
     "name": "stdout",
     "output_type": "stream",
     "text": [
      "(148, 188, 4)\n"
     ]
    }
   ],
   "source": [
    "# eda\n",
    "print(np.shape(img2))"
   ]
  },
  {
   "cell_type": "code",
   "execution_count": 13,
   "id": "545c8609",
   "metadata": {
    "scrolled": true,
    "tags": []
   },
   "outputs": [
    {
     "name": "stdout",
     "output_type": "stream",
     "text": [
      "(2, 148, 188, 4)\n",
      "(2, 148, 188, 4)\n"
     ]
    }
   ],
   "source": [
    "# eda\n",
    "test = []\n",
    "test.append(img[0:148, 0:188, :])\n",
    "test.append(img2[0:148, 0:188, :])\n",
    "print(np.shape(test))\n",
    "test = np.stack(test)\n",
    "print(np.shape(test))"
   ]
  },
  {
   "cell_type": "code",
   "execution_count": 14,
   "id": "9298e629",
   "metadata": {
    "tags": []
   },
   "outputs": [],
   "source": [
    "def preprocess_data_part1(IMAGE_PATH):\n",
    "    \"\"\" Generate lists of images and labelsbased on temp_no_refer and temp_refer lists\n",
    "    \n",
    "    Params:\n",
    "    -------\n",
    "    IMAGE_PATH (str): path to directory with images.\n",
    "    \n",
    "    Returns:\n",
    "    --------\n",
    "    images_mini  (np.ndarray): Images of shape (N, 149 3)\n",
    "    \"\"\"\n",
    "    \n",
    "    data_mini = []\n",
    "    data_mini_test = []\n",
    "    for id in x_train['Tile_ID']:    \n",
    "                    \n",
    "        # read image and store as matrix            \n",
    "        # Index at the end makes all images the same size (they sometimes differ by 1 pixel)\n",
    "        image = tifffile.imread(IMAGE_PATH + str(id) + '.tif')[0:148, 0:188, :]\n",
    "            \n",
    "        # append to images\n",
    "        data_mini.append(image)\n",
    " \n",
    "    # stack images and trasnform to array\n",
    "    images_mini = np.stack(data_mini)\n",
    "    \n",
    "    for id in x_test['Tile_ID']:    \n",
    "                    \n",
    "        # read image and store as matrix            \n",
    "        # Index at the end makes all images the same size (they sometimes differ by 1 pixel)\n",
    "        image = tifffile.imread(IMAGE_PATH + str(id) + '.tif')[0:148, 0:188, :]\n",
    "            \n",
    "        # append to images\n",
    "        data_mini_test.append(image)\n",
    " \n",
    "    # stack images and trasnform to array\n",
    "    images_mini_test = np.stack(data_mini_test)\n",
    "    \n",
    "    return images_mini, images_mini_test"
   ]
  },
  {
   "cell_type": "code",
   "execution_count": 15,
   "id": "4d8f77ae",
   "metadata": {
    "tags": []
   },
   "outputs": [],
   "source": [
    "# THERE IS ONE FILE IN THE \"SATELLITE IMAGES TILED\" FOLDER THAT IS NOT A TIF IMAGE, DELETE THIS FILE\n",
    "images_mini, images_mini_test = preprocess_data_part1(IMAGE_PATH)"
   ]
  },
  {
   "cell_type": "code",
   "execution_count": 16,
   "id": "0ce10975",
   "metadata": {
    "tags": []
   },
   "outputs": [
    {
     "data": {
      "text/plain": [
       "(2095, 148, 188, 4)"
      ]
     },
     "execution_count": 16,
     "metadata": {},
     "output_type": "execute_result"
    }
   ],
   "source": [
    "np.shape(images_mini)\n",
    "np.shape(images_mini_test)"
   ]
  },
  {
   "cell_type": "code",
   "execution_count": 17,
   "id": "0080b62b-712f-4179-9031-60b561f59b7b",
   "metadata": {
    "tags": []
   },
   "outputs": [],
   "source": [
    "# images_mini_reshaped = images_mini.reshape((8376,1,1,111296))"
   ]
  },
  {
   "cell_type": "code",
   "execution_count": 18,
   "id": "9fce941b-4766-474c-b49e-c365de2bdb86",
   "metadata": {
    "tags": []
   },
   "outputs": [],
   "source": [
    "# images_mini_reshaped.shape\n",
    "# len(images_mini_reshaped[0][0][0])"
   ]
  },
  {
   "cell_type": "markdown",
   "id": "57135842",
   "metadata": {},
   "source": [
    "Street Data Pre-Processing"
   ]
  },
  {
   "cell_type": "code",
   "execution_count": 19,
   "id": "8dce0686",
   "metadata": {
    "tags": []
   },
   "outputs": [
    {
     "data": {
      "text/plain": [
       "(2095, 1, 1, 11)"
      ]
     },
     "execution_count": 19,
     "metadata": {},
     "output_type": "execute_result"
    }
   ],
   "source": [
    "street = np.asarray(x_train[input_x[1:]]).astype('float32')\n",
    "street_mini = []\n",
    "for row in street:\n",
    "    street_mini.append([[row]])\n",
    "street_mini = np.stack(street_mini)\n",
    "np.shape(street_mini)\n",
    "\n",
    "\n",
    "street_test = np.asarray(x_test[input_x[1:]]).astype('float32')\n",
    "street_mini_test = []\n",
    "for row in street_test:\n",
    "    street_mini_test.append([[row]])\n",
    "street_mini_test = np.stack(street_mini_test)\n",
    "np.shape(street_mini_test)"
   ]
  },
  {
   "cell_type": "code",
   "execution_count": 20,
   "id": "c87761aa-77b0-40d3-a924-c54c1c6e3726",
   "metadata": {
    "tags": []
   },
   "outputs": [
    {
     "data": {
      "text/plain": [
       "(2095, 148, 188, 4)"
      ]
     },
     "execution_count": 20,
     "metadata": {},
     "output_type": "execute_result"
    }
   ],
   "source": [
    "x_test.shape\n",
    "images_mini_test.shape"
   ]
  },
  {
   "cell_type": "code",
   "execution_count": 21,
   "id": "16b9f21e-6f7b-4abd-a7de-917d89fa085a",
   "metadata": {
    "tags": []
   },
   "outputs": [],
   "source": [
    "input_image_street = np.hstack(\n",
    "    (street_mini.reshape((8376,11)),\n",
    "     images_mini.reshape(8376,111296))\n",
    ")"
   ]
  },
  {
   "cell_type": "code",
   "execution_count": 22,
   "id": "b2a63cdc-90cd-43e2-94f1-d819918c510b",
   "metadata": {
    "tags": []
   },
   "outputs": [],
   "source": [
    "input_image_street_test = np.hstack(\n",
    "    (street_mini_test.reshape((2095,11)),\n",
    "    images_mini_test.reshape((2095,148*188*4))\n",
    "    ))"
   ]
  },
  {
   "cell_type": "markdown",
   "id": "b9176acd-0672-4bd9-92c8-f67618b33321",
   "metadata": {},
   "source": [
    "## Linear Regression"
   ]
  },
  {
   "cell_type": "code",
   "execution_count": 23,
   "id": "04589b85-dbc4-4309-a243-608fb7f793e5",
   "metadata": {
    "tags": []
   },
   "outputs": [
    {
     "name": "stdout",
     "output_type": "stream",
     "text": [
      "Model: \"linear_model\"\n",
      "_________________________________________________________________\n",
      " Layer (type)                Output Shape              Param #   \n",
      "=================================================================\n",
      " input_1 (InputLayer)        [(None, 111307)]          0         \n",
      "                                                                 \n",
      " dense (Dense)               (None, 1)                 111308    \n",
      "                                                                 \n",
      "=================================================================\n",
      "Total params: 111,308\n",
      "Trainable params: 111,308\n",
      "Non-trainable params: 0\n",
      "_________________________________________________________________\n"
     ]
    },
    {
     "name": "stderr",
     "output_type": "stream",
     "text": [
      "2023-03-15 05:14:51.616484: I tensorflow/compiler/xla/stream_executor/cuda/cuda_gpu_executor.cc:981] successful NUMA node read from SysFS had negative value (-1), but there must be at least one NUMA node, so returning NUMA node zero\n",
      "2023-03-15 05:14:51.623244: I tensorflow/compiler/xla/stream_executor/cuda/cuda_gpu_executor.cc:981] successful NUMA node read from SysFS had negative value (-1), but there must be at least one NUMA node, so returning NUMA node zero\n",
      "2023-03-15 05:14:51.623589: I tensorflow/compiler/xla/stream_executor/cuda/cuda_gpu_executor.cc:981] successful NUMA node read from SysFS had negative value (-1), but there must be at least one NUMA node, so returning NUMA node zero\n",
      "2023-03-15 05:14:51.624260: I tensorflow/core/platform/cpu_feature_guard.cc:193] This TensorFlow binary is optimized with oneAPI Deep Neural Network Library (oneDNN) to use the following CPU instructions in performance-critical operations:  AVX2 FMA\n",
      "To enable them in other operations, rebuild TensorFlow with the appropriate compiler flags.\n",
      "2023-03-15 05:14:51.625243: I tensorflow/compiler/xla/stream_executor/cuda/cuda_gpu_executor.cc:981] successful NUMA node read from SysFS had negative value (-1), but there must be at least one NUMA node, so returning NUMA node zero\n",
      "2023-03-15 05:14:51.625579: I tensorflow/compiler/xla/stream_executor/cuda/cuda_gpu_executor.cc:981] successful NUMA node read from SysFS had negative value (-1), but there must be at least one NUMA node, so returning NUMA node zero\n",
      "2023-03-15 05:14:51.625916: I tensorflow/compiler/xla/stream_executor/cuda/cuda_gpu_executor.cc:981] successful NUMA node read from SysFS had negative value (-1), but there must be at least one NUMA node, so returning NUMA node zero\n",
      "2023-03-15 05:14:52.118486: I tensorflow/compiler/xla/stream_executor/cuda/cuda_gpu_executor.cc:981] successful NUMA node read from SysFS had negative value (-1), but there must be at least one NUMA node, so returning NUMA node zero\n",
      "2023-03-15 05:14:52.118780: I tensorflow/compiler/xla/stream_executor/cuda/cuda_gpu_executor.cc:981] successful NUMA node read from SysFS had negative value (-1), but there must be at least one NUMA node, so returning NUMA node zero\n",
      "2023-03-15 05:14:52.119001: I tensorflow/compiler/xla/stream_executor/cuda/cuda_gpu_executor.cc:981] successful NUMA node read from SysFS had negative value (-1), but there must be at least one NUMA node, so returning NUMA node zero\n",
      "2023-03-15 05:14:52.119180: I tensorflow/core/common_runtime/gpu/gpu_device.cc:1613] Created device /job:localhost/replica:0/task:0/device:GPU:0 with 6911 MB memory:  -> device: 0, name: Tesla M60, pci bus id: 0000:00:1e.0, compute capability: 5.2\n"
     ]
    },
    {
     "name": "stdout",
     "output_type": "stream",
     "text": [
      "Epoch 1/100\n"
     ]
    },
    {
     "name": "stderr",
     "output_type": "stream",
     "text": [
      "2023-03-15 05:14:58.057726: I tensorflow/compiler/xla/service/service.cc:173] XLA service 0x7f4ac4089a80 initialized for platform CUDA (this does not guarantee that XLA will be used). Devices:\n",
      "2023-03-15 05:14:58.057773: I tensorflow/compiler/xla/service/service.cc:181]   StreamExecutor device (0): Tesla M60, Compute Capability 5.2\n",
      "2023-03-15 05:14:58.064605: I tensorflow/compiler/mlir/tensorflow/utils/dump_mlir_util.cc:268] disabling MLIR crash reproducer, set env var `MLIR_CRASH_REPRODUCER_DIRECTORY` to enable.\n",
      "2023-03-15 05:14:58.225594: I tensorflow/compiler/jit/xla_compilation_cache.cc:477] Compiled cluster using XLA!  This line is logged at most once for the lifetime of the process.\n"
     ]
    },
    {
     "name": "stdout",
     "output_type": "stream",
     "text": [
      "210/210 [==============================] - 3s 9ms/step - loss: 3629406.0000 - val_loss: 5038.2144\n",
      "Epoch 2/100\n",
      "210/210 [==============================] - 1s 7ms/step - loss: 4908.9805 - val_loss: 3303.9675\n",
      "Epoch 3/100\n",
      "210/210 [==============================] - 1s 7ms/step - loss: 3251.9800 - val_loss: 3627.5042\n",
      "Epoch 4/100\n",
      "210/210 [==============================] - 1s 7ms/step - loss: 2706.4937 - val_loss: 2337.3005\n",
      "Epoch 5/100\n",
      "210/210 [==============================] - 1s 7ms/step - loss: 2897.3406 - val_loss: 3412.3848\n",
      "Epoch 6/100\n",
      "210/210 [==============================] - 1s 7ms/step - loss: 1920.1138 - val_loss: 6880.7329\n",
      "Epoch 7/100\n",
      "210/210 [==============================] - 1s 7ms/step - loss: 4148.2251 - val_loss: 1811.8293\n",
      "Epoch 8/100\n",
      "210/210 [==============================] - 1s 7ms/step - loss: 5209.3276 - val_loss: 29315.9492\n",
      "Epoch 9/100\n",
      "210/210 [==============================] - 1s 7ms/step - loss: 18113.7188 - val_loss: 5723.0854\n",
      "Epoch 10/100\n",
      "210/210 [==============================] - 1s 7ms/step - loss: 302874.9062 - val_loss: 137976.8750\n",
      "Epoch 11/100\n",
      "210/210 [==============================] - 1s 7ms/step - loss: 67405.2812 - val_loss: 792574.6250\n",
      "Epoch 12/100\n",
      "210/210 [==============================] - 1s 7ms/step - loss: 160320.9531 - val_loss: 36676.6289\n",
      "Epoch 13/100\n",
      "210/210 [==============================] - 1s 7ms/step - loss: 130594.8047 - val_loss: 210565.2812\n",
      "Epoch 14/100\n",
      "210/210 [==============================] - 1s 7ms/step - loss: 251249.0625 - val_loss: 13292.9209\n",
      "Epoch 15/100\n",
      "210/210 [==============================] - 1s 7ms/step - loss: 66015.5547 - val_loss: 177534.5156\n",
      "Epoch 16/100\n",
      "210/210 [==============================] - 1s 7ms/step - loss: 228210.6250 - val_loss: 615648.0000\n",
      "Epoch 17/100\n",
      "210/210 [==============================] - 1s 7ms/step - loss: 148899.8906 - val_loss: 22110.6875\n",
      "Epoch 18/100\n",
      "210/210 [==============================] - 1s 7ms/step - loss: 443739.2500 - val_loss: 139377.2344\n",
      "Epoch 19/100\n",
      "210/210 [==============================] - 1s 7ms/step - loss: 63619.8047 - val_loss: 46541.4492\n",
      "Epoch 20/100\n",
      "210/210 [==============================] - 1s 7ms/step - loss: 86911.0078 - val_loss: 94081.1094\n",
      "Epoch 21/100\n",
      "210/210 [==============================] - 1s 7ms/step - loss: 243042.0469 - val_loss: 1126321.2500\n",
      "Epoch 22/100\n",
      "210/210 [==============================] - 1s 7ms/step - loss: 93207.0469 - val_loss: 14665.0068\n",
      "Epoch 23/100\n",
      "210/210 [==============================] - 1s 7ms/step - loss: 156343.8750 - val_loss: 14487.4619\n",
      "Epoch 24/100\n",
      "210/210 [==============================] - 1s 7ms/step - loss: 185456.9531 - val_loss: 288574.8125\n",
      "Epoch 25/100\n",
      "210/210 [==============================] - 1s 7ms/step - loss: 131922.1250 - val_loss: 224056.2656\n",
      "Epoch 26/100\n",
      "210/210 [==============================] - 1s 7ms/step - loss: 175385.4844 - val_loss: 43278.2656\n",
      "Epoch 27/100\n",
      "210/210 [==============================] - 1s 7ms/step - loss: 349571.7500 - val_loss: 402532.5000\n",
      "Epoch 28/100\n",
      "210/210 [==============================] - 1s 7ms/step - loss: 104812.0859 - val_loss: 431533.6250\n",
      "Epoch 29/100\n",
      "210/210 [==============================] - 1s 7ms/step - loss: 288126.5000 - val_loss: 60313.6094\n",
      "Epoch 30/100\n",
      "210/210 [==============================] - 1s 7ms/step - loss: 66719.1953 - val_loss: 160558.4688\n",
      "Epoch 31/100\n",
      "210/210 [==============================] - 1s 7ms/step - loss: 69026.9766 - val_loss: 7524.2627\n",
      "Epoch 32/100\n",
      "210/210 [==============================] - 1s 7ms/step - loss: 173655.5156 - val_loss: 67578.9531\n",
      "Epoch 33/100\n",
      "210/210 [==============================] - 1s 7ms/step - loss: 388106.1250 - val_loss: 23969.5391\n",
      "Epoch 34/100\n",
      "210/210 [==============================] - 1s 7ms/step - loss: 50553.8672 - val_loss: 75585.6016\n",
      "Epoch 35/100\n",
      "210/210 [==============================] - 1s 7ms/step - loss: 66982.5312 - val_loss: 8771.4580\n",
      "Epoch 36/100\n",
      "210/210 [==============================] - 1s 7ms/step - loss: 232778.0312 - val_loss: 25247.5684\n",
      "Epoch 37/100\n",
      "210/210 [==============================] - 1s 7ms/step - loss: 177632.6562 - val_loss: 663195.1250\n",
      "Epoch 38/100\n",
      "210/210 [==============================] - 1s 7ms/step - loss: 128946.7031 - val_loss: 8786.5918\n",
      "Epoch 39/100\n",
      "210/210 [==============================] - 1s 7ms/step - loss: 170303.3438 - val_loss: 72648.4844\n",
      "Epoch 40/100\n",
      "210/210 [==============================] - 1s 7ms/step - loss: 167004.8125 - val_loss: 130367.2656\n",
      "Epoch 41/100\n",
      "210/210 [==============================] - 2s 7ms/step - loss: 246592.2500 - val_loss: 70546.7109\n",
      "Epoch 42/100\n",
      "210/210 [==============================] - 1s 7ms/step - loss: 139380.1719 - val_loss: 56349.7812\n",
      "Epoch 43/100\n",
      "210/210 [==============================] - 1s 7ms/step - loss: 194851.3750 - val_loss: 61585.6055\n",
      "Epoch 44/100\n",
      "210/210 [==============================] - 1s 7ms/step - loss: 162755.3594 - val_loss: 371652.7812\n",
      "Epoch 45/100\n",
      "210/210 [==============================] - 1s 7ms/step - loss: 147335.1875 - val_loss: 37561.1914\n",
      "Epoch 46/100\n",
      "210/210 [==============================] - 1s 7ms/step - loss: 271877.7812 - val_loss: 3047654.2500\n",
      "Epoch 47/100\n",
      "210/210 [==============================] - 1s 7ms/step - loss: 171644.1250 - val_loss: 9367.0615\n",
      "Epoch 48/100\n",
      "210/210 [==============================] - 1s 7ms/step - loss: 55340.2227 - val_loss: 19629.6367\n",
      "Epoch 49/100\n",
      "210/210 [==============================] - 1s 7ms/step - loss: 158491.0156 - val_loss: 382110.9062\n",
      "Epoch 50/100\n",
      "210/210 [==============================] - 1s 7ms/step - loss: 302045.5000 - val_loss: 70329.3438\n",
      "Epoch 51/100\n",
      "210/210 [==============================] - 1s 7ms/step - loss: 78645.0000 - val_loss: 11107.6387\n",
      "Epoch 52/100\n",
      "210/210 [==============================] - 1s 7ms/step - loss: 113473.7891 - val_loss: 67207.9688\n",
      "Epoch 53/100\n",
      "210/210 [==============================] - 1s 7ms/step - loss: 241748.1406 - val_loss: 1516444.2500\n",
      "Epoch 54/100\n",
      "210/210 [==============================] - 1s 7ms/step - loss: 191451.5312 - val_loss: 155842.4531\n",
      "Epoch 55/100\n",
      "210/210 [==============================] - 1s 7ms/step - loss: 83416.3672 - val_loss: 78172.4219\n",
      "Epoch 56/100\n",
      "210/210 [==============================] - 1s 7ms/step - loss: 217682.8438 - val_loss: 8551.7129\n",
      "Epoch 57/100\n",
      "210/210 [==============================] - 1s 7ms/step - loss: 136243.3906 - val_loss: 416366.0000\n",
      "Epoch 58/100\n",
      "210/210 [==============================] - 1s 7ms/step - loss: 244412.2500 - val_loss: 21132.0000\n",
      "Epoch 59/100\n",
      "210/210 [==============================] - 1s 7ms/step - loss: 138786.7031 - val_loss: 462514.4375\n",
      "Epoch 60/100\n",
      "210/210 [==============================] - 1s 7ms/step - loss: 143656.8906 - val_loss: 867040.3125\n",
      "Epoch 61/100\n",
      "210/210 [==============================] - 1s 7ms/step - loss: 209687.3125 - val_loss: 130491.7734\n",
      "Epoch 62/100\n",
      "210/210 [==============================] - 1s 7ms/step - loss: 224074.8906 - val_loss: 27912.8359\n",
      "Epoch 63/100\n",
      "210/210 [==============================] - 1s 7ms/step - loss: 121059.8125 - val_loss: 559385.3125\n",
      "Epoch 64/100\n",
      "210/210 [==============================] - 2s 7ms/step - loss: 88633.6484 - val_loss: 39378.0039\n",
      "Epoch 65/100\n",
      "210/210 [==============================] - 1s 7ms/step - loss: 199001.8125 - val_loss: 45787.2734\n",
      "Epoch 66/100\n",
      "210/210 [==============================] - 1s 7ms/step - loss: 105378.7891 - val_loss: 128662.5234\n",
      "Epoch 67/100\n",
      "210/210 [==============================] - 1s 7ms/step - loss: 260024.9062 - val_loss: 16618.5312\n",
      "Epoch 68/100\n",
      "210/210 [==============================] - 1s 7ms/step - loss: 147626.4375 - val_loss: 137485.7812\n",
      "Epoch 69/100\n",
      "210/210 [==============================] - 1s 7ms/step - loss: 94777.3828 - val_loss: 14511.4951\n",
      "Epoch 70/100\n",
      "210/210 [==============================] - 1s 7ms/step - loss: 264980.5000 - val_loss: 21451.5898\n",
      "Epoch 71/100\n",
      "210/210 [==============================] - 1s 7ms/step - loss: 140064.1562 - val_loss: 191387.3594\n",
      "Epoch 72/100\n",
      "210/210 [==============================] - 1s 7ms/step - loss: 133212.1719 - val_loss: 24940.2891\n",
      "Epoch 73/100\n",
      "210/210 [==============================] - 1s 7ms/step - loss: 272552.7812 - val_loss: 289976.1250\n",
      "Epoch 74/100\n",
      "210/210 [==============================] - 1s 7ms/step - loss: 335620.3125 - val_loss: 18090.9473\n",
      "Epoch 75/100\n",
      "210/210 [==============================] - 1s 7ms/step - loss: 35595.0000 - val_loss: 66954.6953\n",
      "Epoch 76/100\n",
      "210/210 [==============================] - 1s 7ms/step - loss: 109234.6953 - val_loss: 91823.5625\n",
      "Epoch 77/100\n",
      "210/210 [==============================] - 1s 7ms/step - loss: 201929.8438 - val_loss: 313986.3750\n",
      "Epoch 78/100\n",
      "210/210 [==============================] - 1s 7ms/step - loss: 204855.3281 - val_loss: 297615.8750\n",
      "Epoch 79/100\n",
      "210/210 [==============================] - 1s 7ms/step - loss: 96248.6172 - val_loss: 75939.9766\n",
      "Epoch 80/100\n",
      "210/210 [==============================] - 1s 7ms/step - loss: 205053.0781 - val_loss: 18553.9648\n",
      "Epoch 81/100\n",
      "210/210 [==============================] - 1s 7ms/step - loss: 152330.2344 - val_loss: 14097.9502\n",
      "Epoch 82/100\n",
      "210/210 [==============================] - 1s 7ms/step - loss: 144064.6562 - val_loss: 25424.9219\n",
      "Epoch 83/100\n",
      "210/210 [==============================] - 1s 7ms/step - loss: 129189.7031 - val_loss: 29620.6445\n",
      "Epoch 84/100\n",
      "210/210 [==============================] - 1s 7ms/step - loss: 180450.3906 - val_loss: 25576.9785\n",
      "Epoch 85/100\n",
      "210/210 [==============================] - 1s 7ms/step - loss: 289199.3750 - val_loss: 45563.8125\n",
      "Epoch 86/100\n",
      "210/210 [==============================] - 1s 7ms/step - loss: 96139.0938 - val_loss: 25423.7949\n",
      "Epoch 87/100\n",
      "210/210 [==============================] - 1s 7ms/step - loss: 168280.6562 - val_loss: 9068.0479\n",
      "Epoch 88/100\n",
      "210/210 [==============================] - 1s 7ms/step - loss: 149450.5312 - val_loss: 805999.1250\n",
      "Epoch 89/100\n",
      "210/210 [==============================] - 1s 7ms/step - loss: 180590.6094 - val_loss: 18488.9551\n",
      "Epoch 90/100\n",
      "210/210 [==============================] - 1s 7ms/step - loss: 163857.3594 - val_loss: 14074.6875\n",
      "Epoch 91/100\n",
      "210/210 [==============================] - 2s 7ms/step - loss: 184254.2500 - val_loss: 213746.5938\n",
      "Epoch 92/100\n",
      "210/210 [==============================] - 1s 7ms/step - loss: 222962.6094 - val_loss: 35590.6211\n",
      "Epoch 93/100\n",
      "210/210 [==============================] - 1s 7ms/step - loss: 87250.0703 - val_loss: 56621.6992\n",
      "Epoch 94/100\n",
      "210/210 [==============================] - 1s 7ms/step - loss: 248471.9219 - val_loss: 52908.6445\n",
      "Epoch 95/100\n",
      "210/210 [==============================] - 1s 7ms/step - loss: 230474.7344 - val_loss: 90800.9297\n",
      "Epoch 96/100\n",
      "210/210 [==============================] - 1s 7ms/step - loss: 108939.5000 - val_loss: 230057.7500\n",
      "Epoch 97/100\n",
      "210/210 [==============================] - 1s 7ms/step - loss: 108744.8906 - val_loss: 21123.3691\n",
      "Epoch 98/100\n",
      "210/210 [==============================] - 1s 7ms/step - loss: 198106.0000 - val_loss: 64909.6406\n",
      "Epoch 99/100\n",
      "210/210 [==============================] - 1s 7ms/step - loss: 224192.3750 - val_loss: 136924.3125\n",
      "Epoch 100/100\n",
      "210/210 [==============================] - 1s 7ms/step - loss: 139557.1875 - val_loss: 9082.6738\n"
     ]
    }
   ],
   "source": [
    "# x: 'Collisions_Historical', 'Mid_lat','Mid_long', 'Stop_Signs', 'Paving_historical', 'Bus_stop','RTTYP_I','RTTYP_M','RTTYP_O','RTTYP_S','RTTYP_U'\n",
    "# y: 'Collisions_Future'\n",
    "\n",
    "def create_linear_model():\n",
    "    # DENSE LAYERS \n",
    "    input = tf.keras.layers.Input(shape=(111307,))\n",
    "\n",
    "    outputs = layers.Dense(1)(input)\n",
    "\n",
    "    linear_model = tf.keras.models.Model(inputs=input, outputs=outputs, name=\"linear_model\")\n",
    "\n",
    "    linear_model.summary()\n",
    "\n",
    "    linear_model.compile(\n",
    "        optimizer=tf.keras.optimizers.Adam(learning_rate=0.001),\n",
    "        loss='mean_squared_error'\n",
    "        )\n",
    "    \n",
    "    return linear_model\n",
    "\n",
    "linear_model = create_linear_model()\n",
    "\n",
    "history = linear_model.fit(\n",
    "    input_image_street,\n",
    "     np.stack(y_train['Collisions_Future'].to_numpy()),\n",
    "    epochs=100,\n",
    "    # Suppress logging.\n",
    "     verbose=1,\n",
    "    # Calculate validation results on 20% of the training data.\n",
    "    validation_split = 0.2)\n"
   ]
  },
  {
   "cell_type": "code",
   "execution_count": 24,
   "id": "aab7b35b-71ff-4966-b602-45bb0e4bc6ad",
   "metadata": {
    "tags": []
   },
   "outputs": [
    {
     "data": {
      "image/png": "[encoded data removed]",
      "text/plain": [
       "<Figure size 640x480 with 1 Axes>"
      ]
     },
     "metadata": {},
     "output_type": "display_data"
    }
   ],
   "source": [
    "plot_loss(history)"
   ]
  },
  {
   "cell_type": "code",
   "execution_count": 25,
   "id": "380a4d1d-ec2e-4546-820f-e51501791eaa",
   "metadata": {
    "tags": []
   },
   "outputs": [
    {
     "name": "stdout",
     "output_type": "stream",
     "text": [
      "66/66 [==============================] - 0s 5ms/step\n"
     ]
    }
   ],
   "source": [
    "predict_result = history.model.predict(input_image_street_test)"
   ]
  },
  {
   "cell_type": "markdown",
   "id": "99c93772-2d18-4241-a31f-7793c8b46be4",
   "metadata": {},
   "source": [
    "## Mean squared error"
   ]
  },
  {
   "cell_type": "code",
   "execution_count": 26,
   "id": "4d94890a-c92e-48df-aef5-1be5337e803e",
   "metadata": {
    "tags": []
   },
   "outputs": [
    {
     "data": {
      "text/plain": [
       "9349.546346692225"
      ]
     },
     "execution_count": 26,
     "metadata": {},
     "output_type": "execute_result"
    }
   ],
   "source": [
    "np.square(predict_result - y_test['Collisions_Future'].to_numpy().reshape((2095,1))).mean()"
   ]
  },
  {
   "cell_type": "markdown",
   "id": "76293faa-4ad4-4467-adcf-75a6e9c9cfb3",
   "metadata": {
    "tags": []
   },
   "source": [
    "## LOGISTIC MODEL WITH IMAGES"
   ]
  },
  {
   "cell_type": "code",
   "execution_count": 29,
   "id": "77720819-1254-4495-a662-aec9445e4fcd",
   "metadata": {
    "tags": []
   },
   "outputs": [],
   "source": [
    "# def log_loss(y_pred, y):\n",
    "#   # Compute the log loss function\n",
    "#   ce = tf.nn.sigmoid_cross_entropy_with_logits(labels=y, logits=y_pred)\n",
    "#   return tf.reduce_mean(ce)\n",
    "\n",
    "# class LogisticRegression(tf.Module):\n",
    "\n",
    "#   def __init__(self):\n",
    "#     self.built = False\n",
    "\n",
    "#   def __call__(self, x, train=True):\n",
    "#     # Initialize the model parameters on the first call\n",
    "#     if not self.built:\n",
    "#       # Randomly generate the weights and the bias term\n",
    "#       rand_w = tf.random.uniform(shape=[x.shape[-1], 1], seed=22)\n",
    "#       rand_b = tf.random.uniform(shape=[], seed=22)\n",
    "#       self.w = tf.Variable(rand_w)\n",
    "#       self.b = tf.Variable(rand_b)\n",
    "#       self.built = True\n",
    "#     # Compute the model output\n",
    "#     z = tf.add(tf.matmul(x, self.w), self.b)\n",
    "#     z = tf.squeeze(z, axis=1)\n",
    "#     if train:\n",
    "#       return z\n",
    "#     return tf.sigmoid(z)\n",
    "\n",
    "# log_reg = LogisticRegression()\n",
    "\n",
    "# def predict_class(y_pred, thresh=0.5):\n",
    "#   # Return a tensor with  `1` if `y_pred` > `0.5`, and `0` otherwise\n",
    "#   return tf.cast(y_pred > thresh, tf.float32)\n",
    "\n",
    "# def accuracy(y_pred, y):\n",
    "#   # Return the proportion of matches between `y_pred` and `y`\n",
    "#   y_pred = tf.math.sigmoid(y_pred)\n",
    "#   y_pred_class = predict_class(y_pred)\n",
    "#   check_equal = tf.cast(y_pred_class == y,tf.float32)\n",
    "#   acc_val = tf.reduce_mean(check_equal)\n",
    "#   return acc_val"
   ]
  },
  {
   "cell_type": "code",
   "execution_count": 30,
   "id": "2e09bb67-ac68-494f-a221-9f1d0b784100",
   "metadata": {},
   "outputs": [],
   "source": [
    "# y_pred = log_reg(input_image_street[0:5], train=False)\n",
    "# y_pred.numpy()\n",
    "# # input_image_street.shape[0]"
   ]
  },
  {
   "cell_type": "code",
   "execution_count": 31,
   "id": "53774f86-e884-40e7-a4c6-59eabad1eb33",
   "metadata": {
    "tags": []
   },
   "outputs": [],
   "source": [
    "# # Our vectorized labels\n",
    "# y_train = np.asarray(y_train).astype('float32').reshape((-1,1))\n",
    "# # y_test = np.asarray(test_labels).astype('float32').reshape((-1,1))\n",
    "# batch_size = 2 #  64\n",
    "# train_dataset = tf.data.Dataset.from_tensor_slices((input_image_street, y_train))\n",
    "# train_dataset = train_dataset.shuffle(buffer_size=input_image_street.shape[0]).batch(batch_size)\n",
    "# # test_dataset = tf.data.Dataset.from_tensor_slices((input_image_street, y_test))\n",
    "# # test_dataset = test_dataset.shuffle(buffer_size=x_test.shape[0]).batch(batch_size)"
   ]
  },
  {
   "cell_type": "code",
   "execution_count": 32,
   "id": "b33bdbd9-903e-4451-b3ec-077006b455a8",
   "metadata": {},
   "outputs": [],
   "source": [
    "# y_train.shape"
   ]
  },
  {
   "cell_type": "code",
   "execution_count": 33,
   "id": "df9a02d3-2f19-4d49-af7f-0cbea330465b",
   "metadata": {
    "tags": []
   },
   "outputs": [],
   "source": [
    "# # Set training parameters\n",
    "# epochs = 3 # 200\n",
    "# learning_rate = 0.01\n",
    "# train_losses, test_losses = [], []\n",
    "# train_accs, test_accs = [], []\n",
    "\n",
    "# # Set up the training loop and begin training\n",
    "# for epoch in range(epochs):\n",
    "#   batch_losses_train, batch_accs_train = [], []\n",
    "#   batch_losses_test, batch_accs_test = [], []\n",
    "\n",
    "#   # Iterate over the training data\n",
    "#   for x_batch, y_batch in train_dataset:\n",
    "#     with tf.GradientTape() as tape:\n",
    "#       y_pred_batch = log_reg(x_batch)\n",
    "#       # print(f'y_pred_batch: {y_pred_batch.numpy().reshape((2,1)).shape}')\n",
    "#       print(f'y_batch: {y_batch.shape}')\n",
    "#       y_pred_batch = y_pred_batch.numpy().reshape((2,1))\n",
    "#       batch_loss = log_loss(y_pred_batch, y_batch)\n",
    "#     batch_acc = accuracy(y_pred_batch, y_batch)\n",
    "#     # Update the parameters with respect to the gradient calculations\n",
    "#     grads = tape.gradient(batch_loss, log_reg.variables)\n",
    "#     for g,v in zip(grads, log_reg.variables):\n",
    "#       print(g,v)  \n",
    "#       v.assign_sub(learning_rate * g)\n",
    "#     # Keep track of batch-level training performance\n",
    "#     batch_losses_train.append(batch_loss)\n",
    "#     batch_accs_train.append(batch_acc)\n",
    "\n",
    "#   # Iterate over the testing data\n",
    "#   for x_batch, y_batch in test_dataset:\n",
    "#     y_pred_batch = log_reg(x_batch)\n",
    "#     batch_loss = log_loss(y_pred_batch, y_batch)\n",
    "#     batch_acc = accuracy(y_pred_batch, y_batch)\n",
    "#     # Keep track of batch-level testing performance\n",
    "#     batch_losses_test.append(batch_loss)\n",
    "#     batch_accs_test.append(batch_acc)\n",
    "\n",
    "#   # Keep track of epoch-level model performance\n",
    "#   train_loss, train_acc = tf.reduce_mean(batch_losses_train), tf.reduce_mean(batch_accs_train)\n",
    "#   test_loss, test_acc = tf.reduce_mean(batch_losses_test), tf.reduce_mean(batch_accs_test)\n",
    "#   train_losses.append(train_loss)\n",
    "#   train_accs.append(train_acc)\n",
    "#   test_losses.append(test_loss)\n",
    "#   test_accs.append(test_acc)\n",
    "#   if epoch % 20 == 0:\n",
    "#     print(f\"Epoch: {epoch}, Training log loss: {train_loss:.3f}\")"
   ]
  },
  {
   "cell_type": "code",
   "execution_count": 34,
   "id": "bc0d5ace-613d-4a4f-9d7b-f7cc8bedf507",
   "metadata": {},
   "outputs": [],
   "source": [
    "# clf = LogisticRegression(random_state=0,max_iter=1000).fit(input_image_street, np.ravel(y_train))"
   ]
  },
  {
   "cell_type": "code",
   "execution_count": 23,
   "id": "6ef027c2-bb0f-45e7-ac0a-2fb328014abf",
   "metadata": {
    "tags": []
   },
   "outputs": [
    {
     "name": "stdout",
     "output_type": "stream",
     "text": [
      "Model: \"logistic_model\"\n",
      "_________________________________________________________________\n",
      " Layer (type)                Output Shape              Param #   \n",
      "=================================================================\n",
      " input_1 (InputLayer)        [(None, 111307)]          0         \n",
      "                                                                 \n",
      " dense (Dense)               (None, 1)                 111308    \n",
      "                                                                 \n",
      "=================================================================\n",
      "Total params: 111,308\n",
      "Trainable params: 111,308\n",
      "Non-trainable params: 0\n",
      "_________________________________________________________________\n"
     ]
    },
    {
     "name": "stderr",
     "output_type": "stream",
     "text": [
      "2023-03-15 05:28:14.492425: I tensorflow/compiler/xla/stream_executor/cuda/cuda_gpu_executor.cc:981] successful NUMA node read from SysFS had negative value (-1), but there must be at least one NUMA node, so returning NUMA node zero\n",
      "2023-03-15 05:28:14.499011: I tensorflow/compiler/xla/stream_executor/cuda/cuda_gpu_executor.cc:981] successful NUMA node read from SysFS had negative value (-1), but there must be at least one NUMA node, so returning NUMA node zero\n",
      "2023-03-15 05:28:14.499346: I tensorflow/compiler/xla/stream_executor/cuda/cuda_gpu_executor.cc:981] successful NUMA node read from SysFS had negative value (-1), but there must be at least one NUMA node, so returning NUMA node zero\n",
      "2023-03-15 05:28:14.499985: I tensorflow/core/platform/cpu_feature_guard.cc:193] This TensorFlow binary is optimized with oneAPI Deep Neural Network Library (oneDNN) to use the following CPU instructions in performance-critical operations:  AVX2 FMA\n",
      "To enable them in other operations, rebuild TensorFlow with the appropriate compiler flags.\n",
      "2023-03-15 05:28:14.500865: I tensorflow/compiler/xla/stream_executor/cuda/cuda_gpu_executor.cc:981] successful NUMA node read from SysFS had negative value (-1), but there must be at least one NUMA node, so returning NUMA node zero\n",
      "2023-03-15 05:28:14.501204: I tensorflow/compiler/xla/stream_executor/cuda/cuda_gpu_executor.cc:981] successful NUMA node read from SysFS had negative value (-1), but there must be at least one NUMA node, so returning NUMA node zero\n",
      "2023-03-15 05:28:14.501527: I tensorflow/compiler/xla/stream_executor/cuda/cuda_gpu_executor.cc:981] successful NUMA node read from SysFS had negative value (-1), but there must be at least one NUMA node, so returning NUMA node zero\n",
      "2023-03-15 05:28:14.995909: I tensorflow/compiler/xla/stream_executor/cuda/cuda_gpu_executor.cc:981] successful NUMA node read from SysFS had negative value (-1), but there must be at least one NUMA node, so returning NUMA node zero\n",
      "2023-03-15 05:28:14.996169: I tensorflow/compiler/xla/stream_executor/cuda/cuda_gpu_executor.cc:981] successful NUMA node read from SysFS had negative value (-1), but there must be at least one NUMA node, so returning NUMA node zero\n",
      "2023-03-15 05:28:14.996423: I tensorflow/compiler/xla/stream_executor/cuda/cuda_gpu_executor.cc:981] successful NUMA node read from SysFS had negative value (-1), but there must be at least one NUMA node, so returning NUMA node zero\n",
      "2023-03-15 05:28:14.996592: I tensorflow/core/common_runtime/gpu/gpu_device.cc:1613] Created device /job:localhost/replica:0/task:0/device:GPU:0 with 6911 MB memory:  -> device: 0, name: Tesla M60, pci bus id: 0000:00:1e.0, compute capability: 5.2\n"
     ]
    },
    {
     "name": "stdout",
     "output_type": "stream",
     "text": [
      "Epoch 1/50\n"
     ]
    },
    {
     "name": "stderr",
     "output_type": "stream",
     "text": [
      "2023-03-15 05:28:21.055196: I tensorflow/compiler/xla/service/service.cc:173] XLA service 0x7f3f88087480 initialized for platform CUDA (this does not guarantee that XLA will be used). Devices:\n",
      "2023-03-15 05:28:21.055240: I tensorflow/compiler/xla/service/service.cc:181]   StreamExecutor device (0): Tesla M60, Compute Capability 5.2\n",
      "2023-03-15 05:28:21.062075: I tensorflow/compiler/mlir/tensorflow/utils/dump_mlir_util.cc:268] disabling MLIR crash reproducer, set env var `MLIR_CRASH_REPRODUCER_DIRECTORY` to enable.\n",
      "2023-03-15 05:28:21.222821: I tensorflow/compiler/jit/xla_compilation_cache.cc:477] Compiled cluster using XLA!  This line is logged at most once for the lifetime of the process.\n"
     ]
    },
    {
     "name": "stdout",
     "output_type": "stream",
     "text": [
      "210/210 [==============================] - 3s 9ms/step - loss: 599.0258 - accuracy: 0.6934 - val_loss: 181.6673 - val_accuracy: 0.3771\n",
      "Epoch 2/50\n",
      "210/210 [==============================] - 2s 7ms/step - loss: 487.2341 - accuracy: 0.6966 - val_loss: 294.3574 - val_accuracy: 0.8079\n",
      "Epoch 3/50\n",
      "210/210 [==============================] - 2s 7ms/step - loss: 338.0817 - accuracy: 0.7158 - val_loss: 1097.9554 - val_accuracy: 0.2226\n",
      "Epoch 4/50\n",
      "210/210 [==============================] - 1s 7ms/step - loss: 288.8394 - accuracy: 0.7215 - val_loss: 501.6422 - val_accuracy: 0.8091\n",
      "Epoch 5/50\n",
      "210/210 [==============================] - 2s 7ms/step - loss: 246.6986 - accuracy: 0.7425 - val_loss: 589.4537 - val_accuracy: 0.8091\n",
      "Epoch 6/50\n",
      "210/210 [==============================] - 2s 7ms/step - loss: 161.6734 - accuracy: 0.7640 - val_loss: 225.4750 - val_accuracy: 0.8085\n",
      "Epoch 7/50\n",
      "210/210 [==============================] - 2s 7ms/step - loss: 206.2534 - accuracy: 0.7669 - val_loss: 314.6443 - val_accuracy: 0.8091\n",
      "Epoch 8/50\n",
      "210/210 [==============================] - 2s 7ms/step - loss: 147.2262 - accuracy: 0.7840 - val_loss: 106.7959 - val_accuracy: 0.7816\n",
      "Epoch 9/50\n",
      "210/210 [==============================] - 2s 7ms/step - loss: 190.7929 - accuracy: 0.7718 - val_loss: 162.2143 - val_accuracy: 0.6152\n",
      "Epoch 10/50\n",
      "210/210 [==============================] - 2s 7ms/step - loss: 154.4680 - accuracy: 0.7836 - val_loss: 115.3930 - val_accuracy: 0.7619\n",
      "Epoch 11/50\n",
      "210/210 [==============================] - 2s 7ms/step - loss: 173.3725 - accuracy: 0.7833 - val_loss: 266.0351 - val_accuracy: 0.8067\n",
      "Epoch 12/50\n",
      "210/210 [==============================] - 2s 7ms/step - loss: 256.6981 - accuracy: 0.7800 - val_loss: 825.4989 - val_accuracy: 0.8091\n",
      "Epoch 13/50\n",
      "210/210 [==============================] - 2s 7ms/step - loss: 211.3666 - accuracy: 0.8015 - val_loss: 611.7941 - val_accuracy: 0.8091\n",
      "Epoch 14/50\n",
      "210/210 [==============================] - 2s 7ms/step - loss: 166.5804 - accuracy: 0.7921 - val_loss: 137.9905 - val_accuracy: 0.7619\n",
      "Epoch 15/50\n",
      "210/210 [==============================] - 2s 7ms/step - loss: 153.7152 - accuracy: 0.8066 - val_loss: 240.4792 - val_accuracy: 0.8079\n",
      "Epoch 16/50\n",
      "210/210 [==============================] - 2s 7ms/step - loss: 145.5827 - accuracy: 0.8140 - val_loss: 156.6467 - val_accuracy: 0.7291\n",
      "Epoch 17/50\n",
      "210/210 [==============================] - 2s 7ms/step - loss: 128.7387 - accuracy: 0.8234 - val_loss: 182.3022 - val_accuracy: 0.6814\n",
      "Epoch 18/50\n",
      "210/210 [==============================] - 2s 7ms/step - loss: 81.6350 - accuracy: 0.8548 - val_loss: 253.9590 - val_accuracy: 0.5513\n",
      "Epoch 19/50\n",
      "210/210 [==============================] - 2s 7ms/step - loss: 110.0582 - accuracy: 0.8603 - val_loss: 167.8384 - val_accuracy: 0.7900\n",
      "Epoch 20/50\n",
      "210/210 [==============================] - 2s 7ms/step - loss: 124.7547 - accuracy: 0.8224 - val_loss: 720.2820 - val_accuracy: 0.8091\n",
      "Epoch 21/50\n",
      "210/210 [==============================] - 2s 8ms/step - loss: 207.6371 - accuracy: 0.8022 - val_loss: 680.2820 - val_accuracy: 0.8091\n",
      "Epoch 22/50\n",
      "210/210 [==============================] - 2s 7ms/step - loss: 97.6364 - accuracy: 0.8551 - val_loss: 257.6235 - val_accuracy: 0.5638\n",
      "Epoch 23/50\n",
      "210/210 [==============================] - 2s 7ms/step - loss: 92.2243 - accuracy: 0.8555 - val_loss: 234.5522 - val_accuracy: 0.7995\n",
      "Epoch 24/50\n",
      "210/210 [==============================] - 2s 7ms/step - loss: 392.6016 - accuracy: 0.7996 - val_loss: 569.0146 - val_accuracy: 0.4171\n",
      "Epoch 25/50\n",
      "210/210 [==============================] - 2s 7ms/step - loss: 140.9723 - accuracy: 0.8303 - val_loss: 211.5947 - val_accuracy: 0.7953\n",
      "Epoch 26/50\n",
      "210/210 [==============================] - 2s 7ms/step - loss: 80.1230 - accuracy: 0.8733 - val_loss: 613.8311 - val_accuracy: 0.3860\n",
      "Epoch 27/50\n",
      "210/210 [==============================] - 2s 7ms/step - loss: 91.3118 - accuracy: 0.8575 - val_loss: 228.3494 - val_accuracy: 0.7965\n",
      "Epoch 28/50\n",
      "210/210 [==============================] - 2s 7ms/step - loss: 77.4012 - accuracy: 0.8755 - val_loss: 409.9047 - val_accuracy: 0.8091\n",
      "Epoch 29/50\n",
      "210/210 [==============================] - 2s 7ms/step - loss: 115.7902 - accuracy: 0.8528 - val_loss: 299.9786 - val_accuracy: 0.8055\n",
      "Epoch 30/50\n",
      "210/210 [==============================] - 2s 7ms/step - loss: 70.8053 - accuracy: 0.8869 - val_loss: 189.9180 - val_accuracy: 0.7357\n",
      "Epoch 31/50\n",
      "210/210 [==============================] - 2s 7ms/step - loss: 76.4874 - accuracy: 0.8827 - val_loss: 557.0961 - val_accuracy: 0.8079\n",
      "Epoch 32/50\n",
      "210/210 [==============================] - 2s 7ms/step - loss: 167.9198 - accuracy: 0.8478 - val_loss: 231.9165 - val_accuracy: 0.7846\n",
      "Epoch 33/50\n",
      "210/210 [==============================] - 2s 7ms/step - loss: 58.4653 - accuracy: 0.9085 - val_loss: 238.3814 - val_accuracy: 0.6671\n",
      "Epoch 34/50\n",
      "210/210 [==============================] - 2s 7ms/step - loss: 49.1684 - accuracy: 0.9125 - val_loss: 272.0110 - val_accuracy: 0.7965\n",
      "Epoch 35/50\n",
      "210/210 [==============================] - 2s 7ms/step - loss: 148.7031 - accuracy: 0.8799 - val_loss: 317.3705 - val_accuracy: 0.8019\n",
      "Epoch 36/50\n",
      "210/210 [==============================] - 2s 7ms/step - loss: 107.1533 - accuracy: 0.8684 - val_loss: 384.5313 - val_accuracy: 0.8037\n",
      "Epoch 37/50\n",
      "210/210 [==============================] - 2s 7ms/step - loss: 130.6575 - accuracy: 0.8507 - val_loss: 472.3469 - val_accuracy: 0.8085\n",
      "Epoch 38/50\n",
      "210/210 [==============================] - 2s 7ms/step - loss: 106.5275 - accuracy: 0.8824 - val_loss: 221.9971 - val_accuracy: 0.7601\n",
      "Epoch 39/50\n",
      "210/210 [==============================] - 2s 7ms/step - loss: 121.7205 - accuracy: 0.8803 - val_loss: 246.5452 - val_accuracy: 0.7237\n",
      "Epoch 40/50\n",
      "210/210 [==============================] - 2s 7ms/step - loss: 228.4332 - accuracy: 0.8225 - val_loss: 436.8294 - val_accuracy: 0.8067\n",
      "Epoch 41/50\n",
      "210/210 [==============================] - 2s 7ms/step - loss: 96.8693 - accuracy: 0.8784 - val_loss: 234.2749 - val_accuracy: 0.7572\n",
      "Epoch 42/50\n",
      "210/210 [==============================] - 2s 7ms/step - loss: 127.7476 - accuracy: 0.8604 - val_loss: 407.9695 - val_accuracy: 0.5543\n",
      "Epoch 43/50\n",
      "210/210 [==============================] - 2s 7ms/step - loss: 50.7918 - accuracy: 0.9164 - val_loss: 239.8362 - val_accuracy: 0.7751\n",
      "Epoch 44/50\n",
      "210/210 [==============================] - 2s 7ms/step - loss: 62.4756 - accuracy: 0.9136 - val_loss: 235.6984 - val_accuracy: 0.7220\n",
      "Epoch 45/50\n",
      "210/210 [==============================] - 2s 7ms/step - loss: 126.9000 - accuracy: 0.8951 - val_loss: 454.1331 - val_accuracy: 0.8085\n",
      "Epoch 46/50\n",
      "210/210 [==============================] - 2s 7ms/step - loss: 90.9423 - accuracy: 0.8961 - val_loss: 246.9279 - val_accuracy: 0.7387\n",
      "Epoch 47/50\n",
      "210/210 [==============================] - 2s 7ms/step - loss: 111.2854 - accuracy: 0.8769 - val_loss: 482.0443 - val_accuracy: 0.8061\n",
      "Epoch 48/50\n",
      "210/210 [==============================] - 2s 7ms/step - loss: 149.8118 - accuracy: 0.8707 - val_loss: 292.9299 - val_accuracy: 0.7804\n",
      "Epoch 49/50\n",
      "210/210 [==============================] - 2s 7ms/step - loss: 86.0103 - accuracy: 0.8921 - val_loss: 272.8948 - val_accuracy: 0.6909\n",
      "Epoch 50/50\n",
      "210/210 [==============================] - 2s 7ms/step - loss: 16.0949 - accuracy: 0.9622 - val_loss: 427.8589 - val_accuracy: 0.8061\n"
     ]
    },
    {
     "data": {
      "image/png": "[encoded data removed]",
      "text/plain": [
       "<Figure size 640x480 with 1 Axes>"
      ]
     },
     "metadata": {},
     "output_type": "display_data"
    }
   ],
   "source": [
    "# x: 'Collisions_Historical', 'Mid_lat','Mid_long', 'Stop_Signs', 'Paving_historical', 'Bus_stop','RTTYP_I','RTTYP_M','RTTYP_O','RTTYP_S','RTTYP_U'\n",
    "# y: 'Collisions_Future'\n",
    "\n",
    "def create_logistic_model():\n",
    "    # DENSE LAYERS \n",
    "    input = tf.keras.layers.Input(shape=(111307,))\n",
    "    \n",
    "    # input = keras.layers.Flatten()(input)\n",
    "\n",
    "    outputs = keras.layers.Dense(units = 1, activation = 'sigmoid')(input)\n",
    "\n",
    "    log_model = tf.keras.models.Model(inputs=input, outputs=outputs, name=\"logistic_model\")\n",
    "\n",
    "    log_model.summary()\n",
    "\n",
    "    log_model.compile(\n",
    "        optimizer=tf.keras.optimizers.Adam(learning_rate=0.001),\n",
    "        loss=\"bce\",\n",
    "        metrics=['accuracy']\n",
    "        )\n",
    "    \n",
    "    return log_model\n",
    "\n",
    "logistic_model = create_logistic_model()\n",
    "\n",
    "# class_weight = {0: 1,\n",
    "#                 1: 100000,\n",
    "#                 2: 100000,\n",
    "#                 3: 100000,\n",
    "#                 4: 100000,\n",
    "#                 5: 100000,\n",
    "#                 6: 100000,\n",
    "#                 7: 100000,\n",
    "#                 8: 100000,\n",
    "#                 9: 100000,\n",
    "#                 10: 100000,\n",
    "#                 #11: 100000,\n",
    "#                }\n",
    "\n",
    "history = logistic_model.fit(\n",
    "    input_image_street,\n",
    "    np.stack(y_train.to_numpy()),\n",
    "     # y_train_2,\n",
    "    epochs=50,\n",
    "    # Suppress logging.\n",
    "     # verbose=1,\n",
    "    # Calculate validation results on 20% of the training data.\n",
    "    validation_split = 0.2,\n",
    "    # class_weight = class_weight\n",
    "    )\n",
    "\n",
    "plot_loss(history)"
   ]
  },
  {
   "cell_type": "code",
   "execution_count": 24,
   "id": "d59d1f10-ef4f-4c0e-8ec9-6c9e453d88c0",
   "metadata": {
    "tags": []
   },
   "outputs": [
    {
     "name": "stdout",
     "output_type": "stream",
     "text": [
      "66/66 [==============================] - 0s 5ms/step\n"
     ]
    }
   ],
   "source": [
    "predict_result = history.model.predict(input_image_street_test)"
   ]
  },
  {
   "cell_type": "code",
   "execution_count": 25,
   "id": "1f47cc81-87d8-4766-80ef-b4ef714bf219",
   "metadata": {},
   "outputs": [],
   "source": [
    "predict_result = pd.Series(predict_result.reshape(2095)).apply(lambda x: 1 if x > 0.1 else 0)"
   ]
  },
  {
   "cell_type": "code",
   "execution_count": 26,
   "id": "e98e029b-2db6-433b-836f-05a83a97ddde",
   "metadata": {
    "tags": []
   },
   "outputs": [
    {
     "data": {
      "text/plain": [
       "0.10400000000000001"
      ]
     },
     "execution_count": 26,
     "metadata": {},
     "output_type": "execute_result"
    }
   ],
   "source": [
    "f1_score(y_test.to_numpy(), predict_result, labels=None, pos_label=1, average='binary', sample_weight=None, zero_division='warn')"
   ]
  },
  {
   "cell_type": "code",
   "execution_count": null,
   "id": "a4a035ed-7ab4-4501-a867-424706051792",
   "metadata": {},
   "outputs": [],
   "source": []
  },
  {
   "cell_type": "code",
   "execution_count": null,
   "id": "83a9c7cf-f346-475a-94ed-bce4e8bfccb2",
   "metadata": {},
   "outputs": [],
   "source": []
  }
 ],
 "metadata": {
  "kernelspec": {
   "display_name": "Python 3 (ipykernel)",
   "language": "python",
   "name": "python3"
  },
  "language_info": {
   "codemirror_mode": {
    "name": "ipython",
    "version": 3
   },
   "file_extension": ".py",
   "mimetype": "text/x-python",
   "name": "python",
   "nbconvert_exporter": "python",
   "pygments_lexer": "ipython3",
   "version": "3.10.7"
  }
 },
 "nbformat": 4,
 "nbformat_minor": 5
}
