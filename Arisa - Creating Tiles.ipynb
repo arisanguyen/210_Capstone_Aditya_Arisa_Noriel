{
 "cells": [
  {
   "cell_type": "code",
   "execution_count": 1,
   "id": "356025b8",
   "metadata": {},
   "outputs": [],
   "source": [
    "import numpy as np\n",
    "import pandas as pd\n",
    "import requests\n",
    "import json\n",
    "#from scipy import stats as st"
   ]
  },
  {
   "cell_type": "code",
   "execution_count": 2,
   "id": "0a5d893f",
   "metadata": {},
   "outputs": [],
   "source": [
    "import requests\n",
    "import json\n",
    "\n",
    "\n",
    "class MakeApiCall:\n",
    "\n",
    "    def get_data(self, api):\n",
    "        response = requests.get(f\"{api}\")\n",
    "        if response.status_code == 200:\n",
    "            print(\"sucessfully fetched the data\")\n",
    "            self.formatted_print(response.json())\n",
    "        else:\n",
    "            print(\n",
    "                f\"Hello person, there's a {response.status_code} error with your request\")\n",
    "\n",
    "    def get_user_data(self, api, parameters):\n",
    "        response = requests.get(f\"{api}\", headers=parameters)\n",
    "        if response.status_code == 200:\n",
    "            print(\"sucessfully fetched the data with parameters provided\")\n",
    "            self.formatted_print(response.json())\n",
    "        else:\n",
    "            print(\n",
    "                f\"Hello person, there's a {response.status_code} error with your request\")\n",
    "\n",
    "    def formatted_print(self, obj):\n",
    "        text = json.dumps(obj, sort_keys=True, indent=4)\n",
    "        print(text)\n",
    "\n",
    "    def __init__(self, api):\n",
    "         self.get_data(api)\n",
    "\n",
    "        #parameters = {\n",
    "            #'Authorization': 'access_token myToken'\n",
    "        #}\n",
    "        #self.get_user_data(api, parameters)\n"
   ]
  },
  {
   "cell_type": "markdown",
   "id": "8c4aa18d",
   "metadata": {},
   "source": [
    "Separate SF into tiles w/ lat and long look ups"
   ]
  },
  {
   "cell_type": "code",
   "execution_count": 3,
   "id": "d5f9b933",
   "metadata": {},
   "outputs": [],
   "source": [
    "# SF is about ~15 km x 15 km\n",
    "# The paper used 2 km x 2 km tiles\n",
    "# Let's use 100 m x 100 m tile \n",
    "\n",
    "import geopy.distance\n",
    "import math\n",
    "\n",
    "#longest vertical distance\n",
    "coords_1 = (37.811262, -122.477010)\n",
    "coords_2 = (37.708251, -122.477010)\n",
    "\n",
    "vertical_dist = geopy.distance.geodesic(coords_1, coords_2).m\n",
    "v_count = math.ceil(vertical_dist / 100)\n",
    "\n",
    "#longest horizontal distance \n",
    "coords_1 = (37.778946, -122.514446)\n",
    "coords_2 = (37.778946, -122.357110)\n",
    "\n",
    "horizontal_dist = geopy.distance.geodesic(coords_1, coords_2).m\n",
    "h_count = math.ceil(horizontal_dist / 100)"
   ]
  },
  {
   "cell_type": "code",
   "execution_count": 4,
   "id": "03193061",
   "metadata": {},
   "outputs": [],
   "source": [
    "# https://code.activestate.com/recipes/577713-midpoint-of-two-gps-points/ \n",
    "\n",
    "import math\n",
    "\n",
    "def midpoint(x1, y1, x2, y2):\n",
    "#Input values as degrees\n",
    "\n",
    "#Convert to radians\n",
    "    lat1 = math.radians(x1)\n",
    "    lon1 = math.radians(x2)\n",
    "    lat2 = math.radians(y1)\n",
    "    lon2 = math.radians(y2)\n",
    "\n",
    "\n",
    "    bx = math.cos(lat2) * math.cos(lon2 - lon1)\n",
    "    by = math.cos(lat2) * math.sin(lon2 - lon1)\n",
    "    lat3 = math.atan2(math.sin(lat1) + math.sin(lat2), \\\n",
    "           math.sqrt((math.cos(lat1) + bx) * (math.cos(lat1) \\\n",
    "           + bx) + by**2))\n",
    "    lon3 = lon1 + math.atan2(by, math.cos(lat1) + bx)\n",
    "\n",
    "    return [round(math.degrees(lat3), 6), round(math.degrees(lon3), 6)]"
   ]
  },
  {
   "cell_type": "code",
   "execution_count": 5,
   "id": "60039448",
   "metadata": {
    "scrolled": true
   },
   "outputs": [
    {
     "name": "stdout",
     "output_type": "stream",
     "text": [
      "True\n",
      "False\n"
     ]
    },
    {
     "data": {
      "text/plain": [
       "False"
      ]
     },
     "execution_count": 5,
     "metadata": {},
     "output_type": "execute_result"
    }
   ],
   "source": [
    "# If midpoint of tile is in the ocean, exclude\n",
    "# https://gis.stackexchange.com/questions/235133/checking-if-a-geocoordinate-point-is-land-or-ocean\n",
    "\n",
    "from mpl_toolkits.basemap import Basemap\n",
    "bm = Basemap()   # default: projection='cyl'\n",
    "print (Basemap().is_land(99.675, 13.104))  #True\n",
    "print (Basemap().is_land(100.539, 13.104))  #False\n",
    "lon, lat = (11.61168822665539, 57.86868795294363) # test coords\n",
    "xpt, ypt = bm( 11.61168822665539, 57.86868795294363 ) # convert to projection map\n",
    "value = bm.is_land(xpt, ypt) # test is_land\n",
    "value"
   ]
  },
  {
   "cell_type": "code",
   "execution_count": null,
   "id": "2843bc25",
   "metadata": {},
   "outputs": [],
   "source": [
    "bm = Basemap(projection='cyl', resolution='f')   # default: projection='cyl'"
   ]
  },
  {
   "cell_type": "code",
   "execution_count": 6,
   "id": "970fe310",
   "metadata": {},
   "outputs": [],
   "source": [
    "# Make a dataframe with:\n",
    "# Tile #\n",
    "# Upper left coordinate\n",
    "# Upper right\n",
    "# Lower left\n",
    "# lower right \n",
    "# midpoint \n",
    "\n",
    "long_interval = np.linspace(-122.357110, -122.514446, h_count)\n",
    "\n",
    "lat_interval = np.linspace(37.708251, 37.811262, v_count)\n",
    "\n",
    "tiles = pd.DataFrame(columns = ['Tile_ID', 'Lat1', 'Lat2', 'Long1', 'Long2', 'Mid_lat', 'Mid_long'])\n",
    "\n",
    "count1 = 0\n",
    "\n",
    "bm = Basemap(projection='cyl', resolution='f') \n",
    "\n",
    "for lai in range(len(lat_interval) - 1): \n",
    "    lat1 = lat_interval[lai]\n",
    "    lat2 = lat_interval[lai + 1]\n",
    "    for loi in range(len(long_interval) - 1):\n",
    "        long1 = long_interval[loi]\n",
    "        long2 = long_interval[loi + 1]\n",
    "        mid = midpoint(lat1, lat2, long1, long2)\n",
    "        ypt,xpt = bm(mid[1], mid[0]) #converting to projection coordinates, enter parameters as long, lat \n",
    "        if bm.is_land(ypt,xpt) == False:\n",
    "            #print(mid[0], mid[1])\n",
    "            continue\n",
    "        #print(\"added\", lai, loi)\n",
    "        t = pd.DataFrame([[count1, lat1, lat2, long1, long2, mid[0], mid[1]]], columns = ['Tile_ID', 'Lat1', 'Lat2', 'Long1', 'Long2', 'Mid_lat', 'Mid_long'])\n",
    "        tiles = pd.concat([tiles, t], ignore_index = True)\n",
    "        count1 += 1\n"
   ]
  },
  {
   "cell_type": "code",
   "execution_count": 8,
   "id": "90e8a22e",
   "metadata": {},
   "outputs": [],
   "source": [
    "tiles.to_csv('.\\Data\\Tiles.csv')"
   ]
  },
  {
   "cell_type": "code",
   "execution_count": 9,
   "id": "47f24157",
   "metadata": {},
   "outputs": [],
   "source": [
    "tiles_2 = pd.read_csv(r'.\\Data\\Tiles.csv')"
   ]
  },
  {
   "cell_type": "code",
   "execution_count": 10,
   "id": "f4e45965",
   "metadata": {},
   "outputs": [
    {
     "data": {
      "text/html": [
       "<div>\n",
       "<style scoped>\n",
       "    .dataframe tbody tr th:only-of-type {\n",
       "        vertical-align: middle;\n",
       "    }\n",
       "\n",
       "    .dataframe tbody tr th {\n",
       "        vertical-align: top;\n",
       "    }\n",
       "\n",
       "    .dataframe thead th {\n",
       "        text-align: right;\n",
       "    }\n",
       "</style>\n",
       "<table border=\"1\" class=\"dataframe\">\n",
       "  <thead>\n",
       "    <tr style=\"text-align: right;\">\n",
       "      <th></th>\n",
       "      <th>Unnamed: 0</th>\n",
       "      <th>Tile_ID</th>\n",
       "      <th>Lat1</th>\n",
       "      <th>Lat2</th>\n",
       "      <th>Long1</th>\n",
       "      <th>Long2</th>\n",
       "      <th>Mid_lat</th>\n",
       "      <th>Mid_long</th>\n",
       "    </tr>\n",
       "  </thead>\n",
       "  <tbody>\n",
       "    <tr>\n",
       "      <th>0</th>\n",
       "      <td>0</td>\n",
       "      <td>0</td>\n",
       "      <td>37.708251</td>\n",
       "      <td>37.709155</td>\n",
       "      <td>-122.391313</td>\n",
       "      <td>-122.392454</td>\n",
       "      <td>37.708703</td>\n",
       "      <td>-122.391884</td>\n",
       "    </tr>\n",
       "    <tr>\n",
       "      <th>1</th>\n",
       "      <td>1</td>\n",
       "      <td>1</td>\n",
       "      <td>37.708251</td>\n",
       "      <td>37.709155</td>\n",
       "      <td>-122.392454</td>\n",
       "      <td>-122.393594</td>\n",
       "      <td>37.708703</td>\n",
       "      <td>-122.393024</td>\n",
       "    </tr>\n",
       "    <tr>\n",
       "      <th>2</th>\n",
       "      <td>2</td>\n",
       "      <td>2</td>\n",
       "      <td>37.708251</td>\n",
       "      <td>37.709155</td>\n",
       "      <td>-122.393594</td>\n",
       "      <td>-122.394734</td>\n",
       "      <td>37.708703</td>\n",
       "      <td>-122.394164</td>\n",
       "    </tr>\n",
       "    <tr>\n",
       "      <th>3</th>\n",
       "      <td>3</td>\n",
       "      <td>3</td>\n",
       "      <td>37.708251</td>\n",
       "      <td>37.709155</td>\n",
       "      <td>-122.394734</td>\n",
       "      <td>-122.395874</td>\n",
       "      <td>37.708703</td>\n",
       "      <td>-122.395304</td>\n",
       "    </tr>\n",
       "    <tr>\n",
       "      <th>4</th>\n",
       "      <td>4</td>\n",
       "      <td>4</td>\n",
       "      <td>37.708251</td>\n",
       "      <td>37.709155</td>\n",
       "      <td>-122.395874</td>\n",
       "      <td>-122.397014</td>\n",
       "      <td>37.708703</td>\n",
       "      <td>-122.396444</td>\n",
       "    </tr>\n",
       "  </tbody>\n",
       "</table>\n",
       "</div>"
      ],
      "text/plain": [
       "   Unnamed: 0  Tile_ID       Lat1       Lat2       Long1       Long2  \\\n",
       "0           0        0  37.708251  37.709155 -122.391313 -122.392454   \n",
       "1           1        1  37.708251  37.709155 -122.392454 -122.393594   \n",
       "2           2        2  37.708251  37.709155 -122.393594 -122.394734   \n",
       "3           3        3  37.708251  37.709155 -122.394734 -122.395874   \n",
       "4           4        4  37.708251  37.709155 -122.395874 -122.397014   \n",
       "\n",
       "     Mid_lat    Mid_long  \n",
       "0  37.708703 -122.391884  \n",
       "1  37.708703 -122.393024  \n",
       "2  37.708703 -122.394164  \n",
       "3  37.708703 -122.395304  \n",
       "4  37.708703 -122.396444  "
      ]
     },
     "execution_count": 10,
     "metadata": {},
     "output_type": "execute_result"
    }
   ],
   "source": [
    "tiles_2.head(5)"
   ]
  },
  {
   "cell_type": "code",
   "execution_count": 11,
   "id": "ed380017",
   "metadata": {},
   "outputs": [
    {
     "data": {
      "text/plain": [
       "12227"
      ]
     },
     "execution_count": 11,
     "metadata": {},
     "output_type": "execute_result"
    }
   ],
   "source": [
    "len(tiles_2)"
   ]
  }
 ],
 "metadata": {
  "kernelspec": {
   "display_name": "Python 3 (ipykernel)",
   "language": "python",
   "name": "python3"
  },
  "language_info": {
   "codemirror_mode": {
    "name": "ipython",
    "version": 3
   },
   "file_extension": ".py",
   "mimetype": "text/x-python",
   "name": "python",
   "nbconvert_exporter": "python",
   "pygments_lexer": "ipython3",
   "version": "3.8.11"
  }
 },
 "nbformat": 4,
 "nbformat_minor": 5
}
