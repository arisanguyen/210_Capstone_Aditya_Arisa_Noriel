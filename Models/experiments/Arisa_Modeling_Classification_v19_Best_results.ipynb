{
 "cells": [
  {
   "cell_type": "markdown",
   "id": "a0eabcba-5ca5-4fa8-bde3-8224131c3a6a",
   "metadata": {},
   "source": [
    "**Packages**"
   ]
  },
  {
   "cell_type": "code",
   "execution_count": 42,
   "id": "356025b8",
   "metadata": {
    "tags": []
   },
   "outputs": [],
   "source": [
    "import numpy as np\n",
    "import pandas as pd\n",
    "import math\n",
    "import seaborn as sn\n",
    "\n",
    "import matplotlib\n",
    "import matplotlib.pyplot as plt\n",
    "\n",
    "import tensorflow as tf\n",
    "from tensorflow import keras\n",
    "from tensorflow.keras import layers\n",
    "from tensorflow.keras.layers import concatenate\n",
    "import tensorflow_addons as tfa\n",
    "\n",
    "from keras.callbacks import ModelCheckpoint\n",
    "from keras.models import load_model\n",
    "\n",
    "import sklearn\n",
    "\n",
    "import tifffile\n",
    "\n",
    "from sklearn.model_selection import train_test_split\n",
    "from sklearn.metrics import f1_score\n",
    "from sklearn.preprocessing import LabelBinarizer, normalize\n",
    "\n",
    "\n",
    "import os\n",
    "\n",
    "import scipy"
   ]
  },
  {
   "cell_type": "markdown",
   "id": "5b166dc2-360e-4118-9f65-0996bbc163a1",
   "metadata": {},
   "source": [
    "**Helper Functions**"
   ]
  },
  {
   "cell_type": "code",
   "execution_count": 43,
   "id": "51c1eeab-df74-4a28-8b0f-7d937d42028c",
   "metadata": {
    "tags": []
   },
   "outputs": [],
   "source": [
    "def plot_loss(history):\n",
    "    plt.plot(history.history['loss'], label='train_loss')\n",
    "    plt.plot(history.history['val_loss'], label='val_loss')\n",
    "   # plt.plot(history.history['accuracy'], label='accuracy')\n",
    "   # plt.plot(history.history['val_accuracy'], label='val_accuracy')\n",
    "    plt.ylim([0, \n",
    "            max(\n",
    "                max(history.history['loss']),\n",
    "                max(history.history['val_loss'])\n",
    "            )])\n",
    "    plt.xlabel('Epoch')\n",
    "    plt.ylabel('Loss')\n",
    "    plt.title('Loss')\n",
    "    plt.legend()\n",
    "    plt.grid(True)"
   ]
  },
  {
   "cell_type": "code",
   "execution_count": 44,
   "id": "6d27acab-1145-4120-9a1c-c7da15f505d7",
   "metadata": {
    "tags": []
   },
   "outputs": [],
   "source": [
    "def plot_accuracy(history):\n",
    "   # plt.plot(history.history['loss'], label='loss')\n",
    "   # plt.plot(history.history['val_loss'], label='val_loss')\n",
    "    plt.plot(history.history['accuracy'], label='train_accuracy')\n",
    "    plt.plot(history.history['val_accuracy'], label='val_accuracy')\n",
    "    plt.ylim([0, \n",
    "            max(\n",
    "                max(history.history['accuracy']),\n",
    "                max(history.history['val_accuracy'])\n",
    "            )])\n",
    "    plt.xlabel('Epoch')\n",
    "    plt.ylabel('Accuracy')\n",
    "    plt.title('Accuracy')\n",
    "    plt.legend()\n",
    "    plt.grid(True)"
   ]
  },
  {
   "cell_type": "code",
   "execution_count": 45,
   "id": "c28e4eda-dfba-490b-9fd5-8f6f6cf61454",
   "metadata": {
    "tags": []
   },
   "outputs": [],
   "source": [
    "def plot_f1_macro(history):\n",
    "    plt.plot(history.history['f1_macro'], label='train_f1')\n",
    "    plt.plot(history.history['val_f1_macro'], label='val_f1')\n",
    "    plt.ylim([0, \n",
    "            max(\n",
    "                max(history.history['f1_macro']),\n",
    "                max(history.history['val_f1_macro'])\n",
    "            )])\n",
    "    plt.xlabel('Epoch')\n",
    "    plt.ylabel('Macro F1 Score')\n",
    "    plt.title('Macro F1 Score')\n",
    "    plt.legend()\n",
    "    plt.grid(True)"
   ]
  },
  {
   "cell_type": "code",
   "execution_count": 46,
   "id": "78d60b67-24b2-4399-bbed-8bdfa6687f77",
   "metadata": {},
   "outputs": [],
   "source": [
    "def plot_f1_weighted(history):\n",
    "    plt.plot(history.history['f1_weighted'], label='train_f1')\n",
    "    plt.plot(history.history['val_f1_weighted'], label='val_f1')\n",
    "    plt.ylim([0, \n",
    "            max(\n",
    "                max(history.history['f1_weighted']),\n",
    "                max(history.history['val_f1_weighted'])\n",
    "            )])\n",
    "    plt.xlabel('Epoch')\n",
    "    plt.ylabel('Weighted F1 Score')\n",
    "    plt.title('Weighted F1 Score')\n",
    "    plt.legend()\n",
    "    plt.grid(True)"
   ]
  },
  {
   "cell_type": "code",
   "execution_count": 47,
   "id": "dd28b853",
   "metadata": {},
   "outputs": [],
   "source": [
    "# FROM https://github.com/jimmyyhwu/resnet18-tf2/blob/master/resnet.py\n",
    "\n",
    "kaiming_normal = keras.initializers.VarianceScaling(scale=2.0, mode='fan_out', distribution='untruncated_normal')\n",
    "\n",
    "def conv3x3(x, out_planes, stride=1, name=None):\n",
    "    x = layers.ZeroPadding2D(padding=1, name=f'{name}_pad')(x)\n",
    "    return layers.Conv2D(filters=out_planes, kernel_size=3, strides=stride, use_bias=False, kernel_initializer=kaiming_normal, name=name)(x)\n",
    "\n",
    "def basic_block(x, planes, stride=1, downsample=None, name=None):\n",
    "    identity = x\n",
    "\n",
    "    out = conv3x3(x, planes, stride=stride, name=f'{name}.conv1')\n",
    "    out = layers.BatchNormalization(momentum=0.9, epsilon=1e-5, name=f'{name}.bn1')(out)\n",
    "    out = layers.ReLU(name=f'{name}.relu1')(out)\n",
    "\n",
    "    out = conv3x3(out, planes, name=f'{name}.conv2')\n",
    "    out = layers.BatchNormalization(momentum=0.9, epsilon=1e-5, name=f'{name}.bn2')(out)\n",
    "\n",
    "    if downsample is not None:\n",
    "        for layer in downsample:\n",
    "            identity = layer(identity)\n",
    "\n",
    "    out = layers.Add(name=f'{name}.add')([identity, out])\n",
    "    out = layers.ReLU(name=f'{name}.relu2')(out)\n",
    "\n",
    "    return out\n",
    "\n",
    "def make_layer(x, planes, blocks, stride=1, name=None):\n",
    "    downsample = None\n",
    "    inplanes = x.shape[3]\n",
    "    if stride != 1 or inplanes != planes:\n",
    "        downsample = [\n",
    "            layers.Conv2D(filters=planes, kernel_size=1, strides=stride, use_bias=False, kernel_initializer=kaiming_normal, name=f'{name}.0.downsample.0'),\n",
    "            layers.BatchNormalization(momentum=0.9, epsilon=1e-5, name=f'{name}.0.downsample.1'),\n",
    "        ]\n",
    "\n",
    "    x = basic_block(x, planes, stride, downsample, name=f'{name}.0')\n",
    "    for i in range(1, blocks):\n",
    "        x = basic_block(x, planes, name=f'{name}.{i}')\n",
    "\n",
    "    return x\n",
    "\n",
    "def resnet(x, blocks_per_layer, num_classes=1000):\n",
    "    x = layers.ZeroPadding2D(padding=3, name='conv1_pad')(x)\n",
    "    x = layers.Conv2D(filters=64, kernel_size=7, strides=2, use_bias=False, kernel_initializer=kaiming_normal, name='conv1')(x)\n",
    "    x = layers.BatchNormalization(momentum=0.9, epsilon=1e-5, name='bn1')(x)\n",
    "    x = layers.ReLU(name='relu1')(x)\n",
    "    x = layers.ZeroPadding2D(padding=1, name='maxpool_pad')(x)\n",
    "    x = layers.MaxPool2D(pool_size=3, strides=2, name='maxpool')(x)\n",
    "\n",
    "    x1 = make_layer(x, 64, blocks_per_layer[0], name='layer1')\n",
    "    x2 = make_layer(x1, 128, blocks_per_layer[1], stride=2, name='layer2')\n",
    "    x3 = make_layer(x2, 256, blocks_per_layer[2], stride=2, name='layer3')\n",
    "    x4 = make_layer(x3, 512, blocks_per_layer[3], stride=2, name='layer4')\n",
    "\n",
    "    x = layers.GlobalAveragePooling2D(name='avgpool')(x4)\n",
    "    initializer = keras.initializers.RandomUniform(-1.0 / math.sqrt(512), 1.0 / math.sqrt(512))\n",
    "    x = layers.Dense(units=num_classes, kernel_initializer=initializer, bias_initializer=initializer, name='fc')(x)\n",
    "\n",
    "    return x\n",
    "\n",
    "def resnet18(x, **kwargs):\n",
    "    return resnet(x, [2, 2, 2, 2], **kwargs)\n",
    "\n",
    "def resnet34(x, **kwargs):\n",
    "    return resnet(x, [3, 4, 6, 3], **kwargs)"
   ]
  },
  {
   "cell_type": "markdown",
   "id": "131a5b49-a808-4d41-ad4b-ae9469b994ea",
   "metadata": {},
   "source": [
    "**Data Pre-Processing**"
   ]
  },
  {
   "cell_type": "markdown",
   "id": "c3a6b82c",
   "metadata": {},
   "source": [
    "Pulling in Train and Test Sets"
   ]
  },
  {
   "cell_type": "code",
   "execution_count": 48,
   "id": "0d50fdd4",
   "metadata": {
    "tags": []
   },
   "outputs": [],
   "source": [
    "tiles_train = pd.read_csv(r'./Data/Tiles_TRAIN.csv')\n",
    "#x_train = tiles_train.drop(['bins_numeric'], axis = 1)\n",
    "#y_train = tiles_train['bins_numeric']\n",
    "#x_train.head(5)"
   ]
  },
  {
   "cell_type": "code",
   "execution_count": 49,
   "id": "6453b058-407b-4097-a463-b18eb8ebb124",
   "metadata": {},
   "outputs": [
    {
     "data": {
      "text/html": [
       "<div>\n",
       "<style scoped>\n",
       "    .dataframe tbody tr th:only-of-type {\n",
       "        vertical-align: middle;\n",
       "    }\n",
       "\n",
       "    .dataframe tbody tr th {\n",
       "        vertical-align: top;\n",
       "    }\n",
       "\n",
       "    .dataframe thead th {\n",
       "        text-align: right;\n",
       "    }\n",
       "</style>\n",
       "<table border=\"1\" class=\"dataframe\">\n",
       "  <thead>\n",
       "    <tr style=\"text-align: right;\">\n",
       "      <th></th>\n",
       "      <th>Tile_ID</th>\n",
       "      <th>Stop_Signs</th>\n",
       "      <th>Paving_historical</th>\n",
       "      <th>Bus_stop</th>\n",
       "      <th>Collisions_Historical</th>\n",
       "      <th>RTTYP_I</th>\n",
       "      <th>RTTYP_M</th>\n",
       "      <th>RTTYP_O</th>\n",
       "      <th>RTTYP_S</th>\n",
       "      <th>RTTYP_U</th>\n",
       "      <th>...</th>\n",
       "      <th>94129</th>\n",
       "      <th>94130</th>\n",
       "      <th>94131</th>\n",
       "      <th>94132</th>\n",
       "      <th>94133</th>\n",
       "      <th>94134</th>\n",
       "      <th>94141</th>\n",
       "      <th>94143</th>\n",
       "      <th>94158</th>\n",
       "      <th>94188</th>\n",
       "    </tr>\n",
       "  </thead>\n",
       "  <tbody>\n",
       "    <tr>\n",
       "      <th>1762</th>\n",
       "      <td>1526</td>\n",
       "      <td>0.0</td>\n",
       "      <td>0.0</td>\n",
       "      <td>0.0</td>\n",
       "      <td>0.0</td>\n",
       "      <td>0</td>\n",
       "      <td>1</td>\n",
       "      <td>0</td>\n",
       "      <td>0</td>\n",
       "      <td>0</td>\n",
       "      <td>...</td>\n",
       "      <td>0</td>\n",
       "      <td>0</td>\n",
       "      <td>0</td>\n",
       "      <td>0</td>\n",
       "      <td>0</td>\n",
       "      <td>0</td>\n",
       "      <td>0</td>\n",
       "      <td>0</td>\n",
       "      <td>0</td>\n",
       "      <td>0</td>\n",
       "    </tr>\n",
       "    <tr>\n",
       "      <th>4603</th>\n",
       "      <td>11426</td>\n",
       "      <td>0.0</td>\n",
       "      <td>7.0</td>\n",
       "      <td>0.0</td>\n",
       "      <td>8.0</td>\n",
       "      <td>0</td>\n",
       "      <td>1</td>\n",
       "      <td>0</td>\n",
       "      <td>0</td>\n",
       "      <td>0</td>\n",
       "      <td>...</td>\n",
       "      <td>0</td>\n",
       "      <td>0</td>\n",
       "      <td>0</td>\n",
       "      <td>0</td>\n",
       "      <td>0</td>\n",
       "      <td>0</td>\n",
       "      <td>0</td>\n",
       "      <td>0</td>\n",
       "      <td>0</td>\n",
       "      <td>0</td>\n",
       "    </tr>\n",
       "    <tr>\n",
       "      <th>6484</th>\n",
       "      <td>13993</td>\n",
       "      <td>0.0</td>\n",
       "      <td>0.0</td>\n",
       "      <td>0.0</td>\n",
       "      <td>0.0</td>\n",
       "      <td>0</td>\n",
       "      <td>1</td>\n",
       "      <td>0</td>\n",
       "      <td>0</td>\n",
       "      <td>0</td>\n",
       "      <td>...</td>\n",
       "      <td>0</td>\n",
       "      <td>0</td>\n",
       "      <td>0</td>\n",
       "      <td>0</td>\n",
       "      <td>0</td>\n",
       "      <td>0</td>\n",
       "      <td>0</td>\n",
       "      <td>0</td>\n",
       "      <td>0</td>\n",
       "      <td>1</td>\n",
       "    </tr>\n",
       "    <tr>\n",
       "      <th>6950</th>\n",
       "      <td>3201</td>\n",
       "      <td>0.0</td>\n",
       "      <td>0.0</td>\n",
       "      <td>0.0</td>\n",
       "      <td>0.0</td>\n",
       "      <td>0</td>\n",
       "      <td>1</td>\n",
       "      <td>0</td>\n",
       "      <td>0</td>\n",
       "      <td>0</td>\n",
       "      <td>...</td>\n",
       "      <td>0</td>\n",
       "      <td>0</td>\n",
       "      <td>0</td>\n",
       "      <td>1</td>\n",
       "      <td>0</td>\n",
       "      <td>0</td>\n",
       "      <td>0</td>\n",
       "      <td>0</td>\n",
       "      <td>0</td>\n",
       "      <td>0</td>\n",
       "    </tr>\n",
       "    <tr>\n",
       "      <th>4254</th>\n",
       "      <td>13779</td>\n",
       "      <td>0.0</td>\n",
       "      <td>0.0</td>\n",
       "      <td>0.0</td>\n",
       "      <td>0.0</td>\n",
       "      <td>0</td>\n",
       "      <td>1</td>\n",
       "      <td>0</td>\n",
       "      <td>0</td>\n",
       "      <td>0</td>\n",
       "      <td>...</td>\n",
       "      <td>0</td>\n",
       "      <td>0</td>\n",
       "      <td>0</td>\n",
       "      <td>0</td>\n",
       "      <td>0</td>\n",
       "      <td>0</td>\n",
       "      <td>0</td>\n",
       "      <td>0</td>\n",
       "      <td>0</td>\n",
       "      <td>0</td>\n",
       "    </tr>\n",
       "  </tbody>\n",
       "</table>\n",
       "<p>5 rows × 40 columns</p>\n",
       "</div>"
      ],
      "text/plain": [
       "      Tile_ID  Stop_Signs  Paving_historical  Bus_stop  Collisions_Historical   \n",
       "1762     1526         0.0                0.0       0.0                    0.0  \\\n",
       "4603    11426         0.0                7.0       0.0                    8.0   \n",
       "6484    13993         0.0                0.0       0.0                    0.0   \n",
       "6950     3201         0.0                0.0       0.0                    0.0   \n",
       "4254    13779         0.0                0.0       0.0                    0.0   \n",
       "\n",
       "      RTTYP_I  RTTYP_M  RTTYP_O  RTTYP_S  RTTYP_U  ...  94129  94130  94131   \n",
       "1762        0        1        0        0        0  ...      0      0      0  \\\n",
       "4603        0        1        0        0        0  ...      0      0      0   \n",
       "6484        0        1        0        0        0  ...      0      0      0   \n",
       "6950        0        1        0        0        0  ...      0      0      0   \n",
       "4254        0        1        0        0        0  ...      0      0      0   \n",
       "\n",
       "      94132  94133  94134  94141  94143  94158  94188  \n",
       "1762      0      0      0      0      0      0      0  \n",
       "4603      0      0      0      0      0      0      0  \n",
       "6484      0      0      0      0      0      0      1  \n",
       "6950      1      0      0      0      0      0      0  \n",
       "4254      0      0      0      0      0      0      0  \n",
       "\n",
       "[5 rows x 40 columns]"
      ]
     },
     "execution_count": 49,
     "metadata": {},
     "output_type": "execute_result"
    }
   ],
   "source": [
    "x_train, x_val, y_train, y_val = train_test_split(tiles_train.drop(['bins_numeric'], axis = 1), tiles_train['bins_numeric'],\n",
    "                                   random_state=104, \n",
    "                                   test_size=0.20, \n",
    "                                   shuffle=True)\n",
    "x_train.head(5)"
   ]
  },
  {
   "cell_type": "code",
   "execution_count": 50,
   "id": "5971c10e-9c78-4cd5-bf77-a213f4e70ead",
   "metadata": {
    "tags": []
   },
   "outputs": [
    {
     "data": {
      "text/html": [
       "<div>\n",
       "<style scoped>\n",
       "    .dataframe tbody tr th:only-of-type {\n",
       "        vertical-align: middle;\n",
       "    }\n",
       "\n",
       "    .dataframe tbody tr th {\n",
       "        vertical-align: top;\n",
       "    }\n",
       "\n",
       "    .dataframe thead th {\n",
       "        text-align: right;\n",
       "    }\n",
       "</style>\n",
       "<table border=\"1\" class=\"dataframe\">\n",
       "  <thead>\n",
       "    <tr style=\"text-align: right;\">\n",
       "      <th></th>\n",
       "      <th>Tile_ID</th>\n",
       "      <th>Stop_Signs</th>\n",
       "      <th>Paving_historical</th>\n",
       "      <th>Bus_stop</th>\n",
       "      <th>Collisions_Historical</th>\n",
       "      <th>RTTYP_I</th>\n",
       "      <th>RTTYP_M</th>\n",
       "      <th>RTTYP_O</th>\n",
       "      <th>RTTYP_S</th>\n",
       "      <th>RTTYP_U</th>\n",
       "      <th>...</th>\n",
       "      <th>94129</th>\n",
       "      <th>94130</th>\n",
       "      <th>94131</th>\n",
       "      <th>94132</th>\n",
       "      <th>94133</th>\n",
       "      <th>94134</th>\n",
       "      <th>94141</th>\n",
       "      <th>94143</th>\n",
       "      <th>94158</th>\n",
       "      <th>94188</th>\n",
       "    </tr>\n",
       "  </thead>\n",
       "  <tbody>\n",
       "    <tr>\n",
       "      <th>2732</th>\n",
       "      <td>2948</td>\n",
       "      <td>0.0</td>\n",
       "      <td>0.0</td>\n",
       "      <td>0.0</td>\n",
       "      <td>0.0</td>\n",
       "      <td>0</td>\n",
       "      <td>1</td>\n",
       "      <td>0</td>\n",
       "      <td>0</td>\n",
       "      <td>0</td>\n",
       "      <td>...</td>\n",
       "      <td>0</td>\n",
       "      <td>0</td>\n",
       "      <td>0</td>\n",
       "      <td>0</td>\n",
       "      <td>0</td>\n",
       "      <td>0</td>\n",
       "      <td>0</td>\n",
       "      <td>0</td>\n",
       "      <td>0</td>\n",
       "      <td>0</td>\n",
       "    </tr>\n",
       "    <tr>\n",
       "      <th>630</th>\n",
       "      <td>2945</td>\n",
       "      <td>4.0</td>\n",
       "      <td>0.0</td>\n",
       "      <td>2.0</td>\n",
       "      <td>1.0</td>\n",
       "      <td>0</td>\n",
       "      <td>1</td>\n",
       "      <td>0</td>\n",
       "      <td>0</td>\n",
       "      <td>0</td>\n",
       "      <td>...</td>\n",
       "      <td>0</td>\n",
       "      <td>0</td>\n",
       "      <td>0</td>\n",
       "      <td>0</td>\n",
       "      <td>0</td>\n",
       "      <td>0</td>\n",
       "      <td>0</td>\n",
       "      <td>0</td>\n",
       "      <td>0</td>\n",
       "      <td>0</td>\n",
       "    </tr>\n",
       "    <tr>\n",
       "      <th>2887</th>\n",
       "      <td>7123</td>\n",
       "      <td>1.0</td>\n",
       "      <td>0.0</td>\n",
       "      <td>0.0</td>\n",
       "      <td>0.0</td>\n",
       "      <td>0</td>\n",
       "      <td>1</td>\n",
       "      <td>0</td>\n",
       "      <td>0</td>\n",
       "      <td>0</td>\n",
       "      <td>...</td>\n",
       "      <td>0</td>\n",
       "      <td>0</td>\n",
       "      <td>0</td>\n",
       "      <td>0</td>\n",
       "      <td>0</td>\n",
       "      <td>0</td>\n",
       "      <td>0</td>\n",
       "      <td>0</td>\n",
       "      <td>0</td>\n",
       "      <td>0</td>\n",
       "    </tr>\n",
       "    <tr>\n",
       "      <th>752</th>\n",
       "      <td>12171</td>\n",
       "      <td>0.0</td>\n",
       "      <td>0.0</td>\n",
       "      <td>2.0</td>\n",
       "      <td>1.0</td>\n",
       "      <td>0</td>\n",
       "      <td>1</td>\n",
       "      <td>0</td>\n",
       "      <td>0</td>\n",
       "      <td>0</td>\n",
       "      <td>...</td>\n",
       "      <td>0</td>\n",
       "      <td>0</td>\n",
       "      <td>0</td>\n",
       "      <td>0</td>\n",
       "      <td>0</td>\n",
       "      <td>0</td>\n",
       "      <td>0</td>\n",
       "      <td>0</td>\n",
       "      <td>0</td>\n",
       "      <td>0</td>\n",
       "    </tr>\n",
       "    <tr>\n",
       "      <th>8106</th>\n",
       "      <td>1096</td>\n",
       "      <td>2.0</td>\n",
       "      <td>0.0</td>\n",
       "      <td>0.0</td>\n",
       "      <td>0.0</td>\n",
       "      <td>0</td>\n",
       "      <td>1</td>\n",
       "      <td>0</td>\n",
       "      <td>0</td>\n",
       "      <td>0</td>\n",
       "      <td>...</td>\n",
       "      <td>0</td>\n",
       "      <td>0</td>\n",
       "      <td>0</td>\n",
       "      <td>0</td>\n",
       "      <td>0</td>\n",
       "      <td>0</td>\n",
       "      <td>0</td>\n",
       "      <td>0</td>\n",
       "      <td>0</td>\n",
       "      <td>0</td>\n",
       "    </tr>\n",
       "  </tbody>\n",
       "</table>\n",
       "<p>5 rows × 40 columns</p>\n",
       "</div>"
      ],
      "text/plain": [
       "      Tile_ID  Stop_Signs  Paving_historical  Bus_stop  Collisions_Historical   \n",
       "2732     2948         0.0                0.0       0.0                    0.0  \\\n",
       "630      2945         4.0                0.0       2.0                    1.0   \n",
       "2887     7123         1.0                0.0       0.0                    0.0   \n",
       "752     12171         0.0                0.0       2.0                    1.0   \n",
       "8106     1096         2.0                0.0       0.0                    0.0   \n",
       "\n",
       "      RTTYP_I  RTTYP_M  RTTYP_O  RTTYP_S  RTTYP_U  ...  94129  94130  94131   \n",
       "2732        0        1        0        0        0  ...      0      0      0  \\\n",
       "630         0        1        0        0        0  ...      0      0      0   \n",
       "2887        0        1        0        0        0  ...      0      0      0   \n",
       "752         0        1        0        0        0  ...      0      0      0   \n",
       "8106        0        1        0        0        0  ...      0      0      0   \n",
       "\n",
       "      94132  94133  94134  94141  94143  94158  94188  \n",
       "2732      0      0      0      0      0      0      0  \n",
       "630       0      0      0      0      0      0      0  \n",
       "2887      0      0      0      0      0      0      0  \n",
       "752       0      0      0      0      0      0      0  \n",
       "8106      0      0      0      0      0      0      0  \n",
       "\n",
       "[5 rows x 40 columns]"
      ]
     },
     "execution_count": 50,
     "metadata": {},
     "output_type": "execute_result"
    }
   ],
   "source": [
    "x_val.head(5)"
   ]
  },
  {
   "cell_type": "code",
   "execution_count": 51,
   "id": "d18a322c-14fa-44a5-89ec-8b6ae7411008",
   "metadata": {},
   "outputs": [
    {
     "data": {
      "text/html": [
       "<div>\n",
       "<style scoped>\n",
       "    .dataframe tbody tr th:only-of-type {\n",
       "        vertical-align: middle;\n",
       "    }\n",
       "\n",
       "    .dataframe tbody tr th {\n",
       "        vertical-align: top;\n",
       "    }\n",
       "\n",
       "    .dataframe thead th {\n",
       "        text-align: right;\n",
       "    }\n",
       "</style>\n",
       "<table border=\"1\" class=\"dataframe\">\n",
       "  <thead>\n",
       "    <tr style=\"text-align: right;\">\n",
       "      <th></th>\n",
       "      <th>Stop_Signs</th>\n",
       "      <th>Paving_historical</th>\n",
       "      <th>Bus_stop</th>\n",
       "      <th>RTTYP_I</th>\n",
       "      <th>RTTYP_M</th>\n",
       "      <th>RTTYP_O</th>\n",
       "      <th>RTTYP_S</th>\n",
       "      <th>RTTYP_U</th>\n",
       "      <th>94101</th>\n",
       "      <th>94102</th>\n",
       "      <th>...</th>\n",
       "      <th>94129</th>\n",
       "      <th>94130</th>\n",
       "      <th>94131</th>\n",
       "      <th>94132</th>\n",
       "      <th>94133</th>\n",
       "      <th>94134</th>\n",
       "      <th>94141</th>\n",
       "      <th>94143</th>\n",
       "      <th>94158</th>\n",
       "      <th>94188</th>\n",
       "    </tr>\n",
       "  </thead>\n",
       "  <tbody>\n",
       "    <tr>\n",
       "      <th>0</th>\n",
       "      <td>0.0</td>\n",
       "      <td>0.0</td>\n",
       "      <td>0.0</td>\n",
       "      <td>0</td>\n",
       "      <td>1</td>\n",
       "      <td>0</td>\n",
       "      <td>0</td>\n",
       "      <td>0</td>\n",
       "      <td>0</td>\n",
       "      <td>0</td>\n",
       "      <td>...</td>\n",
       "      <td>0</td>\n",
       "      <td>0</td>\n",
       "      <td>0</td>\n",
       "      <td>1</td>\n",
       "      <td>0</td>\n",
       "      <td>0</td>\n",
       "      <td>0</td>\n",
       "      <td>0</td>\n",
       "      <td>0</td>\n",
       "      <td>0</td>\n",
       "    </tr>\n",
       "    <tr>\n",
       "      <th>1</th>\n",
       "      <td>1.0</td>\n",
       "      <td>0.0</td>\n",
       "      <td>3.0</td>\n",
       "      <td>0</td>\n",
       "      <td>1</td>\n",
       "      <td>0</td>\n",
       "      <td>0</td>\n",
       "      <td>0</td>\n",
       "      <td>0</td>\n",
       "      <td>0</td>\n",
       "      <td>...</td>\n",
       "      <td>0</td>\n",
       "      <td>0</td>\n",
       "      <td>0</td>\n",
       "      <td>0</td>\n",
       "      <td>0</td>\n",
       "      <td>0</td>\n",
       "      <td>0</td>\n",
       "      <td>0</td>\n",
       "      <td>0</td>\n",
       "      <td>0</td>\n",
       "    </tr>\n",
       "    <tr>\n",
       "      <th>2</th>\n",
       "      <td>0.0</td>\n",
       "      <td>0.0</td>\n",
       "      <td>0.0</td>\n",
       "      <td>0</td>\n",
       "      <td>1</td>\n",
       "      <td>0</td>\n",
       "      <td>0</td>\n",
       "      <td>0</td>\n",
       "      <td>0</td>\n",
       "      <td>0</td>\n",
       "      <td>...</td>\n",
       "      <td>0</td>\n",
       "      <td>0</td>\n",
       "      <td>0</td>\n",
       "      <td>0</td>\n",
       "      <td>0</td>\n",
       "      <td>0</td>\n",
       "      <td>0</td>\n",
       "      <td>0</td>\n",
       "      <td>0</td>\n",
       "      <td>0</td>\n",
       "    </tr>\n",
       "    <tr>\n",
       "      <th>3</th>\n",
       "      <td>0.0</td>\n",
       "      <td>0.0</td>\n",
       "      <td>0.0</td>\n",
       "      <td>0</td>\n",
       "      <td>1</td>\n",
       "      <td>0</td>\n",
       "      <td>0</td>\n",
       "      <td>0</td>\n",
       "      <td>0</td>\n",
       "      <td>0</td>\n",
       "      <td>...</td>\n",
       "      <td>0</td>\n",
       "      <td>1</td>\n",
       "      <td>0</td>\n",
       "      <td>0</td>\n",
       "      <td>0</td>\n",
       "      <td>0</td>\n",
       "      <td>0</td>\n",
       "      <td>0</td>\n",
       "      <td>0</td>\n",
       "      <td>0</td>\n",
       "    </tr>\n",
       "    <tr>\n",
       "      <th>4</th>\n",
       "      <td>0.0</td>\n",
       "      <td>0.0</td>\n",
       "      <td>0.0</td>\n",
       "      <td>0</td>\n",
       "      <td>1</td>\n",
       "      <td>0</td>\n",
       "      <td>0</td>\n",
       "      <td>0</td>\n",
       "      <td>0</td>\n",
       "      <td>0</td>\n",
       "      <td>...</td>\n",
       "      <td>0</td>\n",
       "      <td>0</td>\n",
       "      <td>0</td>\n",
       "      <td>0</td>\n",
       "      <td>0</td>\n",
       "      <td>1</td>\n",
       "      <td>0</td>\n",
       "      <td>0</td>\n",
       "      <td>0</td>\n",
       "      <td>0</td>\n",
       "    </tr>\n",
       "  </tbody>\n",
       "</table>\n",
       "<p>5 rows × 38 columns</p>\n",
       "</div>"
      ],
      "text/plain": [
       "   Stop_Signs  Paving_historical  Bus_stop  RTTYP_I  RTTYP_M  RTTYP_O   \n",
       "0         0.0                0.0       0.0        0        1        0  \\\n",
       "1         1.0                0.0       3.0        0        1        0   \n",
       "2         0.0                0.0       0.0        0        1        0   \n",
       "3         0.0                0.0       0.0        0        1        0   \n",
       "4         0.0                0.0       0.0        0        1        0   \n",
       "\n",
       "   RTTYP_S  RTTYP_U  94101  94102  ...  94129  94130  94131  94132  94133   \n",
       "0        0        0      0      0  ...      0      0      0      1      0  \\\n",
       "1        0        0      0      0  ...      0      0      0      0      0   \n",
       "2        0        0      0      0  ...      0      0      0      0      0   \n",
       "3        0        0      0      0  ...      0      1      0      0      0   \n",
       "4        0        0      0      0  ...      0      0      0      0      0   \n",
       "\n",
       "   94134  94141  94143  94158  94188  \n",
       "0      0      0      0      0      0  \n",
       "1      0      0      0      0      0  \n",
       "2      0      0      0      0      0  \n",
       "3      0      0      0      0      0  \n",
       "4      1      0      0      0      0  \n",
       "\n",
       "[5 rows x 38 columns]"
      ]
     },
     "execution_count": 51,
     "metadata": {},
     "output_type": "execute_result"
    }
   ],
   "source": [
    "tiles_test = pd.read_csv(r'./Data/Tiles_TEST.csv')\n",
    "historical_test = tiles_test['Collisions_Historical']\n",
    "x_test = tiles_test.drop(['Tile_ID','bins_numeric','Collisions_Historical'], axis = 1)\n",
    "y_test = tiles_test['bins_numeric']\n",
    "x_test.head(5)"
   ]
  },
  {
   "cell_type": "markdown",
   "id": "bf220283",
   "metadata": {},
   "source": [
    "Image Pre-Processing"
   ]
  },
  {
   "cell_type": "code",
   "execution_count": 52,
   "id": "9298e629",
   "metadata": {},
   "outputs": [],
   "source": [
    "# TRAIN SET \n",
    "\n",
    "IMAGE_PATH = './Satellite Imagery/Satellite Images Tiled/' \n",
    "\n",
    "def preprocess_data_part1(IMAGE_PATH):\n",
    "    \"\"\" Generate lists of images and labelsbased on temp_no_refer and temp_refer lists\n",
    "    \n",
    "    Params:\n",
    "    -------\n",
    "    IMAGE_PATH (str): path to directory with images.\n",
    "    \n",
    "    Returns:\n",
    "    --------\n",
    "    images_mini  (np.ndarray): Images of shape (N, 149 3)\n",
    "    \"\"\"\n",
    "    \n",
    "    data_mini = []\n",
    "    \n",
    "    for id in x_train['Tile_ID']:    \n",
    "                    \n",
    "        # read image and store as matrix            \n",
    "        # Index at the end makes all images the same size (they sometimes differ by 1 pixel)\n",
    "        image = tifffile.imread(IMAGE_PATH + str(id) + '.tif')[0:148, 0:188, :]/255\n",
    "            \n",
    "        # append to images\n",
    "        data_mini.append(image)\n",
    " \n",
    "    # stack images and trasnform to array\n",
    "    images_mini = np.stack(data_mini)\n",
    "    \n",
    "    return images_mini"
   ]
  },
  {
   "cell_type": "code",
   "execution_count": 53,
   "id": "4d8f77ae",
   "metadata": {},
   "outputs": [
    {
     "data": {
      "text/plain": [
       "(6700, 148, 188, 4)"
      ]
     },
     "execution_count": 53,
     "metadata": {},
     "output_type": "execute_result"
    }
   ],
   "source": [
    "images_mini = preprocess_data_part1(IMAGE_PATH)\n",
    "np.shape(images_mini)"
   ]
  },
  {
   "cell_type": "code",
   "execution_count": 54,
   "id": "51e4bbbe-914b-47dd-9e82-93722404f70b",
   "metadata": {},
   "outputs": [],
   "source": [
    "historical_train = x_train['Collisions_Historical']\n",
    "x_train = x_train.drop(['Tile_ID', 'Collisions_Historical'], axis = 1)"
   ]
  },
  {
   "cell_type": "code",
   "execution_count": 55,
   "id": "84e1f01e-fc42-4bb8-9d18-e40fe8d215c6",
   "metadata": {
    "tags": []
   },
   "outputs": [],
   "source": [
    "# VAL SET \n",
    "\n",
    "IMAGE_PATH = './Satellite Imagery/Satellite Images Tiled/' \n",
    "\n",
    "def preprocess_data_part15(IMAGE_PATH):\n",
    "    \"\"\" Generate lists of images and labelsbased on temp_no_refer and temp_refer lists\n",
    "    \n",
    "    Params:\n",
    "    -------\n",
    "    IMAGE_PATH (str): path to directory with images.\n",
    "    \n",
    "    Returns:\n",
    "    --------\n",
    "    images_mini  (np.ndarray): Images of shape (N, 149 3)\n",
    "    \"\"\"\n",
    "    \n",
    "    data_mini = []\n",
    "    \n",
    "    for id in x_val['Tile_ID']:    \n",
    "                    \n",
    "        # read image and store as matrix            \n",
    "        # Index at the end makes all images the same size (they sometimes differ by 1 pixel)\n",
    "        image = tifffile.imread(IMAGE_PATH + str(id) + '.tif')[0:148, 0:188, :]/255\n",
    "            \n",
    "        # append to images\n",
    "        data_mini.append(image)\n",
    " \n",
    "    # stack images and trasnform to array\n",
    "    images_mini = np.stack(data_mini)\n",
    "#     images_mini = normalize(images_mini.reshape(6700,-1))\n",
    "    \n",
    "    return images_mini"
   ]
  },
  {
   "cell_type": "code",
   "execution_count": 56,
   "id": "1fcfd6d0-bf6d-48b1-a404-00afbc2b9633",
   "metadata": {},
   "outputs": [
    {
     "data": {
      "text/plain": [
       "(1676, 148, 188, 4)"
      ]
     },
     "execution_count": 56,
     "metadata": {},
     "output_type": "execute_result"
    }
   ],
   "source": [
    "images_mini_v = preprocess_data_part15(IMAGE_PATH)\n",
    "np.shape(images_mini_v)"
   ]
  },
  {
   "cell_type": "code",
   "execution_count": 57,
   "id": "96c499c7-9ec4-4f6c-8e9c-482de86f536b",
   "metadata": {},
   "outputs": [],
   "source": [
    "historical_val = x_val['Collisions_Historical']\n",
    "x_val = x_val.drop(['Tile_ID', 'Collisions_Historical'], axis = 1)"
   ]
  },
  {
   "cell_type": "code",
   "execution_count": 58,
   "id": "23790420-0c98-426f-8580-23f7d96e9040",
   "metadata": {},
   "outputs": [],
   "source": [
    "# TEST SET\n",
    "\n",
    "IMAGE_PATH = './Satellite Imagery/Satellite Images Tiled/' \n",
    "\n",
    "def preprocess_data_part2(IMAGE_PATH):\n",
    "    \"\"\" Generate lists of images and labelsbased on temp_no_refer and temp_refer lists\n",
    "    \n",
    "    Params:\n",
    "    -------\n",
    "    IMAGE_PATH (str): path to directory with images.\n",
    "    \n",
    "    Returns:\n",
    "    --------\n",
    "    images_mini  (np.ndarray): Images of shape (N, 149 3)\n",
    "    \"\"\"\n",
    "    \n",
    "    data_mini = []\n",
    "    \n",
    "    for id in tiles_test['Tile_ID']:    \n",
    "                    \n",
    "        # read image and store as matrix            \n",
    "        # Index at the end makes all images the same size (they sometimes differ by 1 pixel)\n",
    "        image = tifffile.imread(IMAGE_PATH + str(id) + '.tif')[0:148, 0:188, :]/255\n",
    "            \n",
    "        # append to images\n",
    "        data_mini.append(image)\n",
    " \n",
    "    # stack images and trasnform to array\n",
    "    images_mini = np.stack(data_mini)\n",
    "    \n",
    "    return images_mini"
   ]
  },
  {
   "cell_type": "code",
   "execution_count": 59,
   "id": "cc8e3f65-2368-4092-9b09-ecda4e0a35d6",
   "metadata": {},
   "outputs": [
    {
     "data": {
      "text/plain": [
       "(2095, 148, 188, 4)"
      ]
     },
     "execution_count": 59,
     "metadata": {},
     "output_type": "execute_result"
    }
   ],
   "source": [
    "images_mini_t = preprocess_data_part2(IMAGE_PATH)\n",
    "np.shape(images_mini_t)"
   ]
  },
  {
   "cell_type": "markdown",
   "id": "57135842",
   "metadata": {},
   "source": [
    "Street Data Pre-Processing"
   ]
  },
  {
   "cell_type": "code",
   "execution_count": 60,
   "id": "8dce0686",
   "metadata": {
    "tags": []
   },
   "outputs": [
    {
     "data": {
      "text/plain": [
       "(6700, 1, 1, 38)"
      ]
     },
     "execution_count": 60,
     "metadata": {},
     "output_type": "execute_result"
    }
   ],
   "source": [
    "# TRAIN SET \n",
    "\n",
    "street = np.asarray(x_train).astype('float32')\n",
    "street_mini = []\n",
    "for row in range(len(street)):\n",
    "    street_mini.append([[street[row]]])\n",
    "street_mini = np.stack(street_mini)\n",
    "np.shape(street_mini)"
   ]
  },
  {
   "cell_type": "code",
   "execution_count": 61,
   "id": "c923520c-ed3c-4165-abd9-7b3cc932b35c",
   "metadata": {},
   "outputs": [
    {
     "data": {
      "text/plain": [
       "(1676, 1, 1, 38)"
      ]
     },
     "execution_count": 61,
     "metadata": {},
     "output_type": "execute_result"
    }
   ],
   "source": [
    "# VAL SET \n",
    "\n",
    "street_v = np.asarray(x_val).astype('float32')\n",
    "street_mini_v = []\n",
    "for row in range(len(street_v)):\n",
    "    street_mini_v.append([[street_v[row]]])\n",
    "street_mini_v = np.stack(street_mini_v)\n",
    "np.shape(street_mini_v)"
   ]
  },
  {
   "cell_type": "code",
   "execution_count": 62,
   "id": "c28b0428-174b-4e10-b151-1354cf44bf79",
   "metadata": {
    "tags": []
   },
   "outputs": [
    {
     "data": {
      "text/plain": [
       "(2095, 1, 1, 38)"
      ]
     },
     "execution_count": 62,
     "metadata": {},
     "output_type": "execute_result"
    }
   ],
   "source": [
    "# TEST SET \n",
    "\n",
    "street_t = np.asarray(x_test).astype('float32')\n",
    "street_mini_t = []\n",
    "for row in range(len(street_t)):\n",
    "    street_mini_t.append([[street_t[row]]])\n",
    "street_mini_t = np.stack(street_mini_t)\n",
    "np.shape(street_mini_t)"
   ]
  },
  {
   "cell_type": "markdown",
   "id": "c1ec0dbb-2532-4c3a-b053-1f6f687be79c",
   "metadata": {
    "tags": []
   },
   "source": [
    "**Modeling**"
   ]
  },
  {
   "cell_type": "markdown",
   "id": "bc8f8956",
   "metadata": {},
   "source": [
    "Helpful Links: <br>\n",
    "https://pyimagesearch.com/2019/02/04/keras-multiple-inputs-and-mixed-data/ <br>\n",
    "https://www.tensorflow.org/api_docs/python/tf/keras/applications/resnet50/ResNet50 <br>\n",
    "https://github.com/jimmyyhwu/resnet18-tf2/blob/master/resnet.py <BR>"
   ]
  },
  {
   "cell_type": "markdown",
   "id": "bcf29380-11f3-4eed-88aa-2f1ecae40745",
   "metadata": {},
   "source": [
    "**Model 19: Continuing to train model 17.1**"
   ]
  },
  {
   "cell_type": "code",
   "execution_count": 63,
   "id": "af93dd1e-4394-4ba2-ac1c-593d00d2bff2",
   "metadata": {
    "tags": []
   },
   "outputs": [
    {
     "name": "stdout",
     "output_type": "stream",
     "text": [
      "      ones\n",
      "bins      \n",
      "0     5297\n",
      "1      108\n",
      "2      968\n",
      "3      230\n",
      "4       22\n",
      "5        4\n",
      "6       53\n",
      "7       11\n",
      "8        3\n",
      "9        1\n",
      "10       3\n"
     ]
    }
   ],
   "source": [
    "check = pd.DataFrame({'bins': y_train, 'ones': np.ones(len(y_train))}, columns=['bins', 'ones'])\n",
    "pivot = check.pivot_table(index=['bins'], values=['ones'], aggfunc=len)\n",
    "print(pivot)"
   ]
  },
  {
   "cell_type": "code",
   "execution_count": 64,
   "id": "42e82273-164e-45f2-86f3-5c7de058c9f6",
   "metadata": {
    "tags": []
   },
   "outputs": [
    {
     "data": {
      "text/plain": [
       "{0: 0.11498790052688486,\n",
       " 1: 5.63973063973064,\n",
       " 2: 0.6292261457550714,\n",
       " 3: 2.6482213438735176,\n",
       " 4: 27.68595041322314,\n",
       " 5: 152.27272727272728,\n",
       " 6: 11.492281303602057,\n",
       " 7: 55.37190082644628,\n",
       " 8: 203.03030303030303,\n",
       " 9: 609.0909090909091,\n",
       " 10: 203.03030303030303}"
      ]
     },
     "execution_count": 64,
     "metadata": {},
     "output_type": "execute_result"
    }
   ],
   "source": [
    "from sklearn.utils import class_weight \n",
    "class_weights = class_weight.compute_class_weight('balanced',classes = np.unique(y_train),y = y_train)\n",
    "class_weights = dict(enumerate(class_weights))\n",
    "class_weights"
   ]
  },
  {
   "cell_type": "code",
   "execution_count": 112,
   "id": "6d656426-1f37-4a04-a8fe-f3f08160cf51",
   "metadata": {
    "tags": []
   },
   "outputs": [
    {
     "data": {
      "text/plain": [
       "(6700, 50, 50, 38)"
      ]
     },
     "execution_count": 112,
     "metadata": {},
     "output_type": "execute_result"
    }
   ],
   "source": [
    "street_mini_2 = [] \n",
    "for k in range(len(street)):\n",
    "    for i in range(50): \n",
    "        for j in range(50):\n",
    "            street_mini_2.append(street[k])\n",
    "street_mini_2 = np.reshape(street_mini_2, (len(street),50,50,38))\n",
    "np.shape(street_mini_2)"
   ]
  },
  {
   "cell_type": "code",
   "execution_count": 113,
   "id": "b9cd3b05-a13a-4f51-be78-5831b546deb9",
   "metadata": {
    "tags": []
   },
   "outputs": [
    {
     "data": {
      "text/plain": [
       "(1676, 50, 50, 38)"
      ]
     },
     "execution_count": 113,
     "metadata": {},
     "output_type": "execute_result"
    }
   ],
   "source": [
    "street_mini_2_v = [] \n",
    "for k in range(len(street_v)):\n",
    "    for i in range(50): \n",
    "        for j in range(50):\n",
    "            street_mini_2_v.append(street_v[k])\n",
    "street_mini_2_v = np.reshape(street_mini_2_v, (len(street_v),50,50,38))\n",
    "np.shape(street_mini_2_v)"
   ]
  },
  {
   "cell_type": "code",
   "execution_count": 67,
   "id": "4548eed1-d580-423e-84b0-23287aa619ef",
   "metadata": {
    "tags": []
   },
   "outputs": [],
   "source": [
    "historical_train = np.array(historical_train).astype('float32').reshape(len(historical_train),1)"
   ]
  },
  {
   "cell_type": "code",
   "execution_count": 68,
   "id": "e6a36093-6ab6-4c20-894b-21da70369dd7",
   "metadata": {
    "tags": []
   },
   "outputs": [],
   "source": [
    "historical_val = np.array(historical_val).astype('float32').reshape(len(historical_val),1)"
   ]
  },
  {
   "cell_type": "code",
   "execution_count": 69,
   "id": "0b2e4fe9-3dd7-4b74-b308-24f6d1bc4964",
   "metadata": {},
   "outputs": [],
   "source": [
    "# load the model\n",
    "filepath = \"model.17.1\"\n",
    "best_model = load_model(filepath)"
   ]
  },
  {
   "cell_type": "code",
   "execution_count": 70,
   "id": "02714650-c2ad-4c32-bad6-56a32dcbb874",
   "metadata": {
    "tags": []
   },
   "outputs": [
    {
     "name": "stdout",
     "output_type": "stream",
     "text": [
      "Epoch 1/25\n",
      "210/210 [==============================] - ETA: 0s - loss: 3.2189 - accuracy: 0.7637 - precision_7: 0.8000 - f1_macro: 0.1164 - f1_weighted: 0.7463 \n",
      "Epoch 1: val_f1_weighted improved from -inf to 0.76299, saving model to model.19\n"
     ]
    },
    {
     "name": "stderr",
     "output_type": "stream",
     "text": [
      "WARNING:absl:Function `_wrapped_model` contains input name(s) Input_Images, Input_Street, Input_Historical with unsupported characters which will be renamed to input_images, input_street, input_historical in the SavedModel.\n",
      "WARNING:absl:Found untraced functions such as _jit_compiled_convolution_op, _jit_compiled_convolution_op, _jit_compiled_convolution_op, _update_step_xla while saving (showing 4 of 4). These functions will not be directly callable after loading.\n"
     ]
    },
    {
     "name": "stdout",
     "output_type": "stream",
     "text": [
      "INFO:tensorflow:Assets written to: model.19/assets\n"
     ]
    },
    {
     "name": "stderr",
     "output_type": "stream",
     "text": [
      "INFO:tensorflow:Assets written to: model.19/assets\n"
     ]
    },
    {
     "name": "stdout",
     "output_type": "stream",
     "text": [
      "210/210 [==============================] - 3247s 15s/step - loss: 3.2189 - accuracy: 0.7637 - precision_7: 0.8000 - f1_macro: 0.1164 - f1_weighted: 0.7463 - val_loss: 1.5830 - val_accuracy: 0.7727 - val_precision_7: 0.0000e+00 - val_f1_macro: 0.1172 - val_f1_weighted: 0.7630 - lr: 1.0000e-05\n",
      "Epoch 2/25\n",
      "210/210 [==============================] - ETA: 0s - loss: 3.2135 - accuracy: 0.7633 - precision_7: 0.6667 - f1_macro: 0.1195 - f1_weighted: 0.7467 \n",
      "Epoch 2: val_f1_weighted did not improve from 0.76299\n",
      "210/210 [==============================] - 3245s 15s/step - loss: 3.2135 - accuracy: 0.7633 - precision_7: 0.6667 - f1_macro: 0.1195 - f1_weighted: 0.7467 - val_loss: 1.5789 - val_accuracy: 0.7727 - val_precision_7: 1.0000 - val_f1_macro: 0.1131 - val_f1_weighted: 0.7625 - lr: 1.0000e-05\n",
      "Epoch 3/25\n",
      "210/210 [==============================] - ETA: 0s - loss: 3.2084 - accuracy: 0.7634 - precision_7: 0.5714 - f1_macro: 0.1196 - f1_weighted: 0.7459 \n",
      "Epoch 3: val_f1_weighted improved from 0.76299 to 0.76398, saving model to model.19\n"
     ]
    },
    {
     "name": "stderr",
     "output_type": "stream",
     "text": [
      "WARNING:absl:Function `_wrapped_model` contains input name(s) Input_Images, Input_Street, Input_Historical with unsupported characters which will be renamed to input_images, input_street, input_historical in the SavedModel.\n",
      "WARNING:absl:Found untraced functions such as _jit_compiled_convolution_op, _jit_compiled_convolution_op, _jit_compiled_convolution_op, _update_step_xla while saving (showing 4 of 4). These functions will not be directly callable after loading.\n"
     ]
    },
    {
     "name": "stdout",
     "output_type": "stream",
     "text": [
      "INFO:tensorflow:Assets written to: model.19/assets\n"
     ]
    },
    {
     "name": "stderr",
     "output_type": "stream",
     "text": [
      "INFO:tensorflow:Assets written to: model.19/assets\n"
     ]
    },
    {
     "name": "stdout",
     "output_type": "stream",
     "text": [
      "210/210 [==============================] - 3246s 15s/step - loss: 3.2084 - accuracy: 0.7634 - precision_7: 0.5714 - f1_macro: 0.1196 - f1_weighted: 0.7459 - val_loss: 1.5742 - val_accuracy: 0.7739 - val_precision_7: 1.0000 - val_f1_macro: 0.1141 - val_f1_weighted: 0.7640 - lr: 1.0000e-05\n",
      "Epoch 4/25\n",
      "210/210 [==============================] - ETA: 0s - loss: 3.2036 - accuracy: 0.7642 - precision_7: 0.5714 - f1_macro: 0.1201 - f1_weighted: 0.7462 \n",
      "Epoch 4: val_f1_weighted improved from 0.76398 to 0.76574, saving model to model.19\n"
     ]
    },
    {
     "name": "stderr",
     "output_type": "stream",
     "text": [
      "WARNING:absl:Function `_wrapped_model` contains input name(s) Input_Images, Input_Street, Input_Historical with unsupported characters which will be renamed to input_images, input_street, input_historical in the SavedModel.\n",
      "WARNING:absl:Found untraced functions such as _jit_compiled_convolution_op, _jit_compiled_convolution_op, _jit_compiled_convolution_op, _update_step_xla while saving (showing 4 of 4). These functions will not be directly callable after loading.\n"
     ]
    },
    {
     "name": "stdout",
     "output_type": "stream",
     "text": [
      "INFO:tensorflow:Assets written to: model.19/assets\n"
     ]
    },
    {
     "name": "stderr",
     "output_type": "stream",
     "text": [
      "INFO:tensorflow:Assets written to: model.19/assets\n"
     ]
    },
    {
     "name": "stdout",
     "output_type": "stream",
     "text": [
      "210/210 [==============================] - 3240s 15s/step - loss: 3.2036 - accuracy: 0.7642 - precision_7: 0.5714 - f1_macro: 0.1201 - f1_weighted: 0.7462 - val_loss: 1.5702 - val_accuracy: 0.7757 - val_precision_7: 0.5000 - val_f1_macro: 0.1150 - val_f1_weighted: 0.7657 - lr: 1.0000e-05\n",
      "Epoch 5/25\n",
      "210/210 [==============================] - ETA: 0s - loss: 3.1983 - accuracy: 0.7640 - precision_7: 0.5714 - f1_macro: 0.1181 - f1_weighted: 0.7455 \n",
      "Epoch 5: val_f1_weighted did not improve from 0.76574\n",
      "210/210 [==============================] - 3238s 15s/step - loss: 3.1983 - accuracy: 0.7640 - precision_7: 0.5714 - f1_macro: 0.1181 - f1_weighted: 0.7455 - val_loss: 1.5652 - val_accuracy: 0.7751 - val_precision_7: 0.5000 - val_f1_macro: 0.1159 - val_f1_weighted: 0.7653 - lr: 1.0000e-05\n",
      "Epoch 6/25\n",
      "210/210 [==============================] - ETA: 0s - loss: 3.1934 - accuracy: 0.7640 - precision_7: 0.5714 - f1_macro: 0.1177 - f1_weighted: 0.7457 \n",
      "Epoch 6: val_f1_weighted did not improve from 0.76574\n",
      "210/210 [==============================] - 3238s 15s/step - loss: 3.1934 - accuracy: 0.7640 - precision_7: 0.5714 - f1_macro: 0.1177 - f1_weighted: 0.7457 - val_loss: 1.5613 - val_accuracy: 0.7751 - val_precision_7: 0.5000 - val_f1_macro: 0.1163 - val_f1_weighted: 0.7644 - lr: 1.0000e-05\n",
      "Epoch 7/25\n",
      "210/210 [==============================] - ETA: 0s - loss: 3.1886 - accuracy: 0.7640 - precision_7: 0.6000 - f1_macro: 0.1178 - f1_weighted: 0.7454 \n",
      "Epoch 7: val_f1_weighted did not improve from 0.76574\n",
      "210/210 [==============================] - 3248s 15s/step - loss: 3.1886 - accuracy: 0.7640 - precision_7: 0.6000 - f1_macro: 0.1178 - f1_weighted: 0.7454 - val_loss: 1.5572 - val_accuracy: 0.7745 - val_precision_7: 0.5000 - val_f1_macro: 0.1162 - val_f1_weighted: 0.7637 - lr: 1.0000e-05\n",
      "Epoch 8/25\n",
      "210/210 [==============================] - ETA: 0s - loss: 3.1836 - accuracy: 0.7642 - precision_7: 0.5455 - f1_macro: 0.1207 - f1_weighted: 0.7460 \n",
      "Epoch 8: val_f1_weighted did not improve from 0.76574\n",
      "210/210 [==============================] - 3243s 15s/step - loss: 3.1836 - accuracy: 0.7642 - precision_7: 0.5455 - f1_macro: 0.1207 - f1_weighted: 0.7460 - val_loss: 1.5524 - val_accuracy: 0.7751 - val_precision_7: 0.5000 - val_f1_macro: 0.1169 - val_f1_weighted: 0.7638 - lr: 1.0000e-05\n",
      "Epoch 9/25\n",
      "210/210 [==============================] - ETA: 0s - loss: 3.1796 - accuracy: 0.7642 - precision_7: 0.5455 - f1_macro: 0.1208 - f1_weighted: 0.7459 \n",
      "Epoch 9: val_f1_weighted did not improve from 0.76574\n",
      "210/210 [==============================] - 3236s 15s/step - loss: 3.1796 - accuracy: 0.7642 - precision_7: 0.5455 - f1_macro: 0.1208 - f1_weighted: 0.7459 - val_loss: 1.5520 - val_accuracy: 0.7751 - val_precision_7: 0.5000 - val_f1_macro: 0.1169 - val_f1_weighted: 0.7638 - lr: 1.0000e-06\n",
      "Epoch 10/25\n",
      "210/210 [==============================] - ETA: 0s - loss: 3.1791 - accuracy: 0.7642 - precision_7: 0.5455 - f1_macro: 0.1208 - f1_weighted: 0.7458 \n",
      "Epoch 10: val_f1_weighted did not improve from 0.76574\n",
      "210/210 [==============================] - 3247s 15s/step - loss: 3.1791 - accuracy: 0.7642 - precision_7: 0.5455 - f1_macro: 0.1208 - f1_weighted: 0.7458 - val_loss: 1.5517 - val_accuracy: 0.7751 - val_precision_7: 0.5000 - val_f1_macro: 0.1169 - val_f1_weighted: 0.7638 - lr: 1.0000e-06\n",
      "Epoch 11/25\n",
      "210/210 [==============================] - ETA: 0s - loss: 3.1786 - accuracy: 0.7642 - precision_7: 0.5455 - f1_macro: 0.1208 - f1_weighted: 0.7458 \n",
      "Epoch 11: val_f1_weighted did not improve from 0.76574\n",
      "210/210 [==============================] - 3232s 15s/step - loss: 3.1786 - accuracy: 0.7642 - precision_7: 0.5455 - f1_macro: 0.1208 - f1_weighted: 0.7458 - val_loss: 1.5512 - val_accuracy: 0.7751 - val_precision_7: 0.5000 - val_f1_macro: 0.1169 - val_f1_weighted: 0.7638 - lr: 1.0000e-06\n",
      "Epoch 12/25\n",
      "210/210 [==============================] - ETA: 0s - loss: 3.1781 - accuracy: 0.7642 - precision_7: 0.5455 - f1_macro: 0.1208 - f1_weighted: 0.7458 \n",
      "Epoch 12: val_f1_weighted did not improve from 0.76574\n",
      "210/210 [==============================] - 3237s 15s/step - loss: 3.1781 - accuracy: 0.7642 - precision_7: 0.5455 - f1_macro: 0.1208 - f1_weighted: 0.7458 - val_loss: 1.5509 - val_accuracy: 0.7751 - val_precision_7: 0.5000 - val_f1_macro: 0.1169 - val_f1_weighted: 0.7636 - lr: 1.0000e-06\n",
      "Epoch 13/25\n",
      "210/210 [==============================] - ETA: 0s - loss: 3.1776 - accuracy: 0.7642 - precision_7: 0.5455 - f1_macro: 0.1209 - f1_weighted: 0.7458 \n",
      "Epoch 13: val_f1_weighted did not improve from 0.76574\n",
      "210/210 [==============================] - 3239s 15s/step - loss: 3.1776 - accuracy: 0.7642 - precision_7: 0.5455 - f1_macro: 0.1209 - f1_weighted: 0.7458 - val_loss: 1.5505 - val_accuracy: 0.7751 - val_precision_7: 0.5000 - val_f1_macro: 0.1169 - val_f1_weighted: 0.7636 - lr: 1.0000e-06\n",
      "Epoch 14/25\n",
      "210/210 [==============================] - ETA: 0s - loss: 3.1771 - accuracy: 0.7642 - precision_7: 0.5455 - f1_macro: 0.1208 - f1_weighted: 0.7458 \n",
      "Epoch 14: val_f1_weighted did not improve from 0.76574\n",
      "210/210 [==============================] - 3242s 15s/step - loss: 3.1771 - accuracy: 0.7642 - precision_7: 0.5455 - f1_macro: 0.1208 - f1_weighted: 0.7458 - val_loss: 1.5501 - val_accuracy: 0.7751 - val_precision_7: 0.5000 - val_f1_macro: 0.1169 - val_f1_weighted: 0.7636 - lr: 1.0000e-06\n",
      "Epoch 15/25\n",
      "210/210 [==============================] - ETA: 0s - loss: 3.1766 - accuracy: 0.7643 - precision_7: 0.5455 - f1_macro: 0.1209 - f1_weighted: 0.7460 \n",
      "Epoch 15: val_f1_weighted did not improve from 0.76574\n",
      "210/210 [==============================] - 3242s 15s/step - loss: 3.1766 - accuracy: 0.7643 - precision_7: 0.5455 - f1_macro: 0.1209 - f1_weighted: 0.7460 - val_loss: 1.5497 - val_accuracy: 0.7751 - val_precision_7: 0.5000 - val_f1_macro: 0.1169 - val_f1_weighted: 0.7636 - lr: 1.0000e-06\n",
      "Epoch 16/25\n",
      "210/210 [==============================] - ETA: 0s - loss: 3.1761 - accuracy: 0.7643 - precision_7: 0.5833 - f1_macro: 0.1210 - f1_weighted: 0.7459 \n",
      "Epoch 16: val_f1_weighted did not improve from 0.76574\n",
      "210/210 [==============================] - 3242s 15s/step - loss: 3.1761 - accuracy: 0.7643 - precision_7: 0.5833 - f1_macro: 0.1210 - f1_weighted: 0.7459 - val_loss: 1.5493 - val_accuracy: 0.7751 - val_precision_7: 0.5000 - val_f1_macro: 0.1169 - val_f1_weighted: 0.7636 - lr: 1.0000e-06\n",
      "Epoch 17/25\n",
      "210/210 [==============================] - ETA: 0s - loss: 3.1756 - accuracy: 0.7645 - precision_7: 0.5333 - f1_macro: 0.1210 - f1_weighted: 0.7460 \n",
      "Epoch 17: val_f1_weighted did not improve from 0.76574\n",
      "210/210 [==============================] - 3245s 15s/step - loss: 3.1756 - accuracy: 0.7645 - precision_7: 0.5333 - f1_macro: 0.1210 - f1_weighted: 0.7460 - val_loss: 1.5490 - val_accuracy: 0.7757 - val_precision_7: 0.5000 - val_f1_macro: 0.1169 - val_f1_weighted: 0.7639 - lr: 1.0000e-06\n",
      "Epoch 18/25\n",
      "210/210 [==============================] - ETA: 0s - loss: 3.1751 - accuracy: 0.7645 - precision_7: 0.5333 - f1_macro: 0.1210 - f1_weighted: 0.7460 \n",
      "Epoch 18: val_f1_weighted did not improve from 0.76574\n",
      "210/210 [==============================] - 3222s 15s/step - loss: 3.1751 - accuracy: 0.7645 - precision_7: 0.5333 - f1_macro: 0.1210 - f1_weighted: 0.7460 - val_loss: 1.5486 - val_accuracy: 0.7757 - val_precision_7: 0.5000 - val_f1_macro: 0.1169 - val_f1_weighted: 0.7639 - lr: 1.0000e-06\n",
      "Epoch 19/25\n",
      "210/210 [==============================] - ETA: 0s - loss: 3.1747 - accuracy: 0.7643 - precision_7: 0.5333 - f1_macro: 0.1210 - f1_weighted: 0.7459 \n",
      "Epoch 19: val_f1_weighted did not improve from 0.76574\n",
      "210/210 [==============================] - 3232s 15s/step - loss: 3.1747 - accuracy: 0.7643 - precision_7: 0.5333 - f1_macro: 0.1210 - f1_weighted: 0.7459 - val_loss: 1.5486 - val_accuracy: 0.7757 - val_precision_7: 0.5000 - val_f1_macro: 0.1169 - val_f1_weighted: 0.7639 - lr: 1.0000e-07\n",
      "Epoch 20/25\n",
      "210/210 [==============================] - ETA: 0s - loss: 3.1746 - accuracy: 0.7643 - precision_7: 0.5333 - f1_macro: 0.1210 - f1_weighted: 0.7459 \n",
      "Epoch 20: val_f1_weighted did not improve from 0.76574\n",
      "210/210 [==============================] - 3243s 15s/step - loss: 3.1746 - accuracy: 0.7643 - precision_7: 0.5333 - f1_macro: 0.1210 - f1_weighted: 0.7459 - val_loss: 1.5485 - val_accuracy: 0.7757 - val_precision_7: 0.5000 - val_f1_macro: 0.1169 - val_f1_weighted: 0.7639 - lr: 1.0000e-07\n",
      "Epoch 21/25\n",
      "210/210 [==============================] - ETA: 0s - loss: 3.1746 - accuracy: 0.7643 - precision_7: 0.5333 - f1_macro: 0.1210 - f1_weighted: 0.7459 \n",
      "Epoch 21: val_f1_weighted did not improve from 0.76574\n",
      "210/210 [==============================] - 3236s 15s/step - loss: 3.1746 - accuracy: 0.7643 - precision_7: 0.5333 - f1_macro: 0.1210 - f1_weighted: 0.7459 - val_loss: 1.5485 - val_accuracy: 0.7757 - val_precision_7: 0.5000 - val_f1_macro: 0.1169 - val_f1_weighted: 0.7639 - lr: 1.0000e-07\n",
      "Epoch 22/25\n",
      "210/210 [==============================] - ETA: 0s - loss: 3.1745 - accuracy: 0.7643 - precision_7: 0.5333 - f1_macro: 0.1210 - f1_weighted: 0.7459 \n",
      "Epoch 22: val_f1_weighted did not improve from 0.76574\n",
      "210/210 [==============================] - 3250s 15s/step - loss: 3.1745 - accuracy: 0.7643 - precision_7: 0.5333 - f1_macro: 0.1210 - f1_weighted: 0.7459 - val_loss: 1.5484 - val_accuracy: 0.7757 - val_precision_7: 0.5000 - val_f1_macro: 0.1169 - val_f1_weighted: 0.7639 - lr: 1.0000e-07\n",
      "Epoch 23/25\n",
      "210/210 [==============================] - ETA: 0s - loss: 3.1745 - accuracy: 0.7643 - precision_7: 0.5333 - f1_macro: 0.1210 - f1_weighted: 0.7459 \n",
      "Epoch 23: val_f1_weighted did not improve from 0.76574\n",
      "210/210 [==============================] - 3243s 15s/step - loss: 3.1745 - accuracy: 0.7643 - precision_7: 0.5333 - f1_macro: 0.1210 - f1_weighted: 0.7459 - val_loss: 1.5484 - val_accuracy: 0.7757 - val_precision_7: 0.5000 - val_f1_macro: 0.1169 - val_f1_weighted: 0.7639 - lr: 1.0000e-07\n",
      "Epoch 24/25\n",
      "210/210 [==============================] - ETA: 0s - loss: 3.1744 - accuracy: 0.7643 - precision_7: 0.5333 - f1_macro: 0.1210 - f1_weighted: 0.7459 \n",
      "Epoch 24: val_f1_weighted did not improve from 0.76574\n",
      "210/210 [==============================] - 3243s 15s/step - loss: 3.1744 - accuracy: 0.7643 - precision_7: 0.5333 - f1_macro: 0.1210 - f1_weighted: 0.7459 - val_loss: 1.5484 - val_accuracy: 0.7757 - val_precision_7: 0.5000 - val_f1_macro: 0.1172 - val_f1_weighted: 0.7638 - lr: 1.0000e-07\n",
      "Epoch 25/25\n",
      "210/210 [==============================] - ETA: 0s - loss: 3.1744 - accuracy: 0.7643 - precision_7: 0.5333 - f1_macro: 0.1210 - f1_weighted: 0.7459 \n",
      "Epoch 25: val_f1_weighted did not improve from 0.76574\n",
      "210/210 [==============================] - 3242s 15s/step - loss: 3.1744 - accuracy: 0.7643 - precision_7: 0.5333 - f1_macro: 0.1210 - f1_weighted: 0.7459 - val_loss: 1.5483 - val_accuracy: 0.7757 - val_precision_7: 0.5000 - val_f1_macro: 0.1172 - val_f1_weighted: 0.7638 - lr: 1.0000e-07\n"
     ]
    }
   ],
   "source": [
    "#define the checkpoint\n",
    "filepath = \"model.19\"\n",
    "checkpoint = ModelCheckpoint(filepath, monitor='val_f1_weighted', verbose=1, save_best_only=True, mode='max')\n",
    "callbacks_check = checkpoint\n",
    "\n",
    "def scheduler(epoch, lr):\n",
    "    if epoch < 8:\n",
    "        return 0.00001\n",
    "    elif epoch < 18:\n",
    "        return 0.000001\n",
    "    else:\n",
    "        return 0.0000001\n",
    "\n",
    "callback = tf.keras.callbacks.LearningRateScheduler(scheduler)\n",
    "\n",
    "y_t = tf.keras.utils.to_categorical(y_train, num_classes=11)\n",
    "\n",
    "y_v = tf.keras.utils.to_categorical(y_val, num_classes=11)\n",
    "\n",
    "history = best_model.fit(\n",
    "    [images_mini, street_mini_2, historical_train],\n",
    "    y_t,\n",
    "    epochs=25,\n",
    "    # Suppress logging.\n",
    "     verbose=1,\n",
    "    validation_data=([images_mini_v, street_mini_2_v, historical_val], y_v),\n",
    "    # Calculate validation results on 20% of the training data.\n",
    "    #validation_split = 0.2,\n",
    "    class_weight = class_weights,\n",
    "    callbacks=[callback, callbacks_check],\n",
    "    )"
   ]
  },
  {
   "cell_type": "code",
   "execution_count": 71,
   "id": "4cccdeff-f234-4fe1-b16b-c5db3c38830e",
   "metadata": {
    "tags": []
   },
   "outputs": [
    {
     "data": {
      "image/png": "[encoded data removed]",
      "text/plain": [
       "<Figure size 640x480 with 1 Axes>"
      ]
     },
     "metadata": {},
     "output_type": "display_data"
    }
   ],
   "source": [
    "plot_loss(history)"
   ]
  },
  {
   "cell_type": "code",
   "execution_count": 72,
   "id": "be7c6bdb-832f-43fa-bcf9-d5908aafdb77",
   "metadata": {
    "tags": []
   },
   "outputs": [
    {
     "data": {
      "image/png": "[encoded data removed]",
      "text/plain": [
       "<Figure size 640x480 with 1 Axes>"
      ]
     },
     "metadata": {},
     "output_type": "display_data"
    }
   ],
   "source": [
    "plot_accuracy(history)"
   ]
  },
  {
   "cell_type": "code",
   "execution_count": 73,
   "id": "e805e4cd-dcb7-4568-845a-2e4e62d8a920",
   "metadata": {},
   "outputs": [
    {
     "data": {
      "image/png": "[encoded data removed]",
      "text/plain": [
       "<Figure size 640x480 with 1 Axes>"
      ]
     },
     "metadata": {},
     "output_type": "display_data"
    }
   ],
   "source": [
    "plot_f1_macro(history)"
   ]
  },
  {
   "cell_type": "code",
   "execution_count": 74,
   "id": "bf08e9fe-11ef-4aea-9cea-d4cd5bc26312",
   "metadata": {},
   "outputs": [
    {
     "data": {
      "image/png": "[encoded data removed]",
      "text/plain": [
       "<Figure size 640x480 with 1 Axes>"
      ]
     },
     "metadata": {},
     "output_type": "display_data"
    }
   ],
   "source": [
    "plot_f1_weighted(history)"
   ]
  },
  {
   "cell_type": "markdown",
   "id": "023511e5",
   "metadata": {},
   "source": [
    "**Validation Analysis of Best Checkpoint Model**"
   ]
  },
  {
   "cell_type": "code",
   "execution_count": 75,
   "id": "e6468f2e",
   "metadata": {},
   "outputs": [],
   "source": [
    "# load the model\n",
    "filepath = \"model.19\"\n",
    "best_model = load_model(filepath)"
   ]
  },
  {
   "cell_type": "code",
   "execution_count": 76,
   "id": "dcbe81ee-3020-46ca-a1eb-93acd0da22c4",
   "metadata": {},
   "outputs": [
    {
     "name": "stdout",
     "output_type": "stream",
     "text": [
      "53/53 [==============================] - 16s 302ms/step\n"
     ]
    },
    {
     "data": {
      "text/plain": [
       "array([[0.2563554 , 0.13927287, 0.07101722, ..., 0.12213712, 0.06464845,\n",
       "        0.03047873],\n",
       "       [0.16944867, 0.11341552, 0.21028472, ..., 0.08528711, 0.04063158,\n",
       "        0.01965777],\n",
       "       [0.25772658, 0.13244125, 0.08710597, ..., 0.12399143, 0.05940009,\n",
       "        0.03038199],\n",
       "       ...,\n",
       "       [0.17573665, 0.10772504, 0.18696882, ..., 0.10316294, 0.04524762,\n",
       "        0.0232253 ],\n",
       "       [0.24620187, 0.11978864, 0.14334083, ..., 0.10715377, 0.04503217,\n",
       "        0.02645627],\n",
       "       [0.24842192, 0.12039877, 0.11425491, ..., 0.12189357, 0.05192682,\n",
       "        0.03004039]], dtype=float32)"
      ]
     },
     "execution_count": 76,
     "metadata": {},
     "output_type": "execute_result"
    }
   ],
   "source": [
    "y_pred = best_model.predict([images_mini_v, street_mini_2_v, historical_val])\n",
    "y_pred"
   ]
  },
  {
   "cell_type": "code",
   "execution_count": 77,
   "id": "37b563fc-8984-4b33-9ede-bee946fa2f38",
   "metadata": {
    "tags": []
   },
   "outputs": [
    {
     "data": {
      "text/plain": [
       "[0, 2, 0, 0, 0]"
      ]
     },
     "execution_count": 77,
     "metadata": {},
     "output_type": "execute_result"
    }
   ],
   "source": [
    "pred_values = []\n",
    "for i in y_pred: \n",
    "    input_list = i\n",
    "    max_value = max(input_list)\n",
    "    index = [index for index, item in enumerate(input_list) if item == max_value]\n",
    "    pred_values.append(index[0])\n",
    "pred_values[0:5]"
   ]
  },
  {
   "cell_type": "code",
   "execution_count": 78,
   "id": "d862034d-b68b-4ebc-92dd-f0cbf5f39c00",
   "metadata": {},
   "outputs": [
    {
     "data": {
      "text/plain": [
       "[0, 0, 0, 0, 0]"
      ]
     },
     "execution_count": 78,
     "metadata": {},
     "output_type": "execute_result"
    }
   ],
   "source": [
    "y_true = list(y_val)\n",
    "y_true[0:5]"
   ]
  },
  {
   "cell_type": "code",
   "execution_count": 79,
   "id": "62a56d10-ec48-4cb6-9e9a-10490eb6ac37",
   "metadata": {
    "tags": []
   },
   "outputs": [
    {
     "data": {
      "text/plain": [
       "<Axes: title={'center': 'Confusion Matrix'}>"
      ]
     },
     "execution_count": 79,
     "metadata": {},
     "output_type": "execute_result"
    },
    {
     "data": {
      "image/png": "[encoded data removed]",
      "text/plain": [
       "<Figure size 1000x700 with 2 Axes>"
      ]
     },
     "metadata": {},
     "output_type": "display_data"
    }
   ],
   "source": [
    "from sklearn.metrics import confusion_matrix\n",
    "cm = confusion_matrix(y_true, pred_values)\n",
    "ind = max(max(np.unique(y_true)), max(np.unique(pred_values))) + 1\n",
    "df_cm = pd.DataFrame(cm, index = [i for i in range(ind)],\n",
    "                  columns = [i for i in range(ind)])\n",
    "df_cm\n",
    "plt.figure(figsize = (10,7))\n",
    "plt.title('Confusion Matrix')\n",
    "plt.ylabel('Actual Values')\n",
    "plt.xlabel('Predicted Values')\n",
    "sn.heatmap(df_cm, annot=True, fmt='.3g',cmap=\"OrRd\")"
   ]
  },
  {
   "cell_type": "markdown",
   "id": "9f1bd455-dcc9-4380-a238-d0db2d3963bb",
   "metadata": {},
   "source": [
    "**Training best model with validation set**"
   ]
  },
  {
   "cell_type": "code",
   "execution_count": 94,
   "id": "eb8111f3-e112-4ca9-922f-174b22bd5485",
   "metadata": {},
   "outputs": [],
   "source": [
    "# load the model\n",
    "filepath = \"model.19\"\n",
    "best_model = load_model(filepath)"
   ]
  },
  {
   "cell_type": "code",
   "execution_count": 108,
   "id": "261acbb8-671e-4936-b5a6-92b4e21940a6",
   "metadata": {
    "tags": []
   },
   "outputs": [
    {
     "name": "stdout",
     "output_type": "stream",
     "text": [
      "(6700, 148, 188, 4)\n",
      "(1676, 148, 188, 4)\n"
     ]
    },
    {
     "data": {
      "text/plain": [
       "(8376, 148, 188, 4)"
      ]
     },
     "execution_count": 108,
     "metadata": {},
     "output_type": "execute_result"
    }
   ],
   "source": [
    "print(images_mini.shape)\n",
    "print(images_mini_v.shape)\n",
    "images_mini_train_val = np.concatenate((images_mini, images_mini_v), axis = 0)\n",
    "images_mini_train_val.shape"
   ]
  },
  {
   "cell_type": "code",
   "execution_count": 107,
   "id": "474cd1bb-f613-4f3f-897c-0eb997c516f3",
   "metadata": {
    "tags": []
   },
   "outputs": [
    {
     "name": "stdout",
     "output_type": "stream",
     "text": [
      "(6700, 50, 50, 38)\n",
      "(1676, 50, 50, 38)\n"
     ]
    },
    {
     "data": {
      "text/plain": [
       "(8376, 50, 50, 38)"
      ]
     },
     "execution_count": 107,
     "metadata": {},
     "output_type": "execute_result"
    }
   ],
   "source": [
    "print(street_mini_2.shape)\n",
    "print(street_mini_2_v.shape)\n",
    "street_mini_train_val = np.concatenate((street_mini_2, street_mini_2_v), axis = 0)\n",
    "street_mini_train_val.shape"
   ]
  },
  {
   "cell_type": "code",
   "execution_count": 109,
   "id": "e9b41fe4-b3c1-4757-a784-1ba7454e1ab9",
   "metadata": {
    "tags": []
   },
   "outputs": [
    {
     "name": "stdout",
     "output_type": "stream",
     "text": [
      "(6700, 1)\n",
      "(1676, 1)\n"
     ]
    },
    {
     "data": {
      "text/plain": [
       "(8376, 1)"
      ]
     },
     "execution_count": 109,
     "metadata": {},
     "output_type": "execute_result"
    }
   ],
   "source": [
    "print(historical_train.shape)\n",
    "print(historical_val.shape)\n",
    "historical_train_val = np.concatenate((historical_train, historical_val), axis = 0)\n",
    "historical_train_val.shape"
   ]
  },
  {
   "cell_type": "code",
   "execution_count": 110,
   "id": "95540226-0b4b-42d0-8d5e-c2ab35150ce4",
   "metadata": {
    "tags": []
   },
   "outputs": [
    {
     "name": "stdout",
     "output_type": "stream",
     "text": [
      "(6700,)\n",
      "(1676,)\n"
     ]
    },
    {
     "data": {
      "text/plain": [
       "(8376,)"
      ]
     },
     "execution_count": 110,
     "metadata": {},
     "output_type": "execute_result"
    }
   ],
   "source": [
    "print(y_train.shape)\n",
    "print(y_val.shape)\n",
    "y_train_val = np.concatenate((y_train, y_val), axis = 0)\n",
    "y_train_val.shape"
   ]
  },
  {
   "cell_type": "code",
   "execution_count": 114,
   "id": "e890788c-2b2b-467c-8f8e-753e74812b2c",
   "metadata": {},
   "outputs": [
    {
     "name": "stdout",
     "output_type": "stream",
     "text": [
      "Epoch 1/15\n",
      "262/262 [==============================] - ETA: 0s - loss: 2.9508 - accuracy: 0.7724 - precision_7: 0.6250 - f1_macro: 0.1174 - f1_weighted: 0.7500 \n",
      "Epoch 1: val_f1_weighted improved from -inf to 0.76437, saving model to model.19.val.included\n"
     ]
    },
    {
     "name": "stderr",
     "output_type": "stream",
     "text": [
      "WARNING:absl:Function `_wrapped_model` contains input name(s) Input_Images, Input_Street, Input_Historical with unsupported characters which will be renamed to input_images, input_street, input_historical in the SavedModel.\n",
      "WARNING:absl:Found untraced functions such as _jit_compiled_convolution_op, _jit_compiled_convolution_op, _jit_compiled_convolution_op, _update_step_xla while saving (showing 4 of 4). These functions will not be directly callable after loading.\n"
     ]
    },
    {
     "name": "stdout",
     "output_type": "stream",
     "text": [
      "INFO:tensorflow:Assets written to: model.19.val.included/assets\n"
     ]
    },
    {
     "name": "stderr",
     "output_type": "stream",
     "text": [
      "INFO:tensorflow:Assets written to: model.19.val.included/assets\n"
     ]
    },
    {
     "name": "stdout",
     "output_type": "stream",
     "text": [
      "262/262 [==============================] - 4055s 15s/step - loss: 2.9508 - accuracy: 0.7724 - precision_7: 0.6250 - f1_macro: 0.1174 - f1_weighted: 0.7500 - val_loss: 1.5063 - val_accuracy: 0.7810 - val_precision_7: 0.5000 - val_f1_macro: 0.1164 - val_f1_weighted: 0.7644 - lr: 1.0000e-04\n",
      "Epoch 2/15\n",
      "262/262 [==============================] - ETA: 0s - loss: 2.9017 - accuracy: 0.7715 - precision_7: 0.5600 - f1_macro: 0.1179 - f1_weighted: 0.7498 \n",
      "Epoch 2: val_f1_weighted did not improve from 0.76437\n",
      "262/262 [==============================] - 4047s 15s/step - loss: 2.9017 - accuracy: 0.7715 - precision_7: 0.5600 - f1_macro: 0.1179 - f1_weighted: 0.7498 - val_loss: 1.4723 - val_accuracy: 0.7798 - val_precision_7: 0.8000 - val_f1_macro: 0.1206 - val_f1_weighted: 0.7632 - lr: 1.0000e-04\n",
      "Epoch 3/15\n",
      "262/262 [==============================] - ETA: 0s - loss: 2.8589 - accuracy: 0.7714 - precision_7: 0.5116 - f1_macro: 0.1254 - f1_weighted: 0.7497 \n",
      "Epoch 3: val_f1_weighted did not improve from 0.76437\n",
      "262/262 [==============================] - 4049s 15s/step - loss: 2.8589 - accuracy: 0.7714 - precision_7: 0.5116 - f1_macro: 0.1254 - f1_weighted: 0.7497 - val_loss: 1.4482 - val_accuracy: 0.7757 - val_precision_7: 0.5556 - val_f1_macro: 0.1341 - val_f1_weighted: 0.7619 - lr: 1.0000e-04\n",
      "Epoch 4/15\n",
      "262/262 [==============================] - ETA: 0s - loss: 2.8183 - accuracy: 0.7644 - precision_7: 0.4242 - f1_macro: 0.1284 - f1_weighted: 0.7476 \n",
      "Epoch 4: val_f1_weighted did not improve from 0.76437\n",
      "262/262 [==============================] - 4054s 15s/step - loss: 2.8183 - accuracy: 0.7644 - precision_7: 0.4242 - f1_macro: 0.1284 - f1_weighted: 0.7476 - val_loss: 1.4300 - val_accuracy: 0.7739 - val_precision_7: 0.5000 - val_f1_macro: 0.1350 - val_f1_weighted: 0.7623 - lr: 1.0000e-04\n",
      "Epoch 5/15\n",
      "262/262 [==============================] - ETA: 0s - loss: 2.7796 - accuracy: 0.7605 - precision_7: 0.4304 - f1_macro: 0.1384 - f1_weighted: 0.7484 \n",
      "Epoch 5: val_f1_weighted did not improve from 0.76437\n",
      "262/262 [==============================] - 4049s 15s/step - loss: 2.7796 - accuracy: 0.7605 - precision_7: 0.4304 - f1_macro: 0.1384 - f1_weighted: 0.7484 - val_loss: 1.4227 - val_accuracy: 0.7733 - val_precision_7: 0.4615 - val_f1_macro: 0.1390 - val_f1_weighted: 0.7626 - lr: 1.0000e-04\n",
      "Epoch 6/15\n",
      "262/262 [==============================] - ETA: 0s - loss: 2.7390 - accuracy: 0.7648 - precision_7: 0.4156 - f1_macro: 0.1361 - f1_weighted: 0.7503 \n",
      "Epoch 6: val_f1_weighted did not improve from 0.76437\n",
      "262/262 [==============================] - 4041s 15s/step - loss: 2.7390 - accuracy: 0.7648 - precision_7: 0.4156 - f1_macro: 0.1361 - f1_weighted: 0.7503 - val_loss: 1.4046 - val_accuracy: 0.7703 - val_precision_7: 0.4667 - val_f1_macro: 0.1391 - val_f1_weighted: 0.7614 - lr: 1.0000e-04\n",
      "Epoch 7/15\n",
      "262/262 [==============================] - ETA: 0s - loss: 2.6988 - accuracy: 0.7624 - precision_7: 0.4198 - f1_macro: 0.1401 - f1_weighted: 0.7494 \n",
      "Epoch 7: val_f1_weighted did not improve from 0.76437\n",
      "262/262 [==============================] - 4040s 15s/step - loss: 2.6988 - accuracy: 0.7624 - precision_7: 0.4198 - f1_macro: 0.1401 - f1_weighted: 0.7494 - val_loss: 1.4023 - val_accuracy: 0.7715 - val_precision_7: 0.4667 - val_f1_macro: 0.1388 - val_f1_weighted: 0.7635 - lr: 1.0000e-05\n",
      "Epoch 8/15\n",
      "262/262 [==============================] - ETA: 0s - loss: 2.6951 - accuracy: 0.7623 - precision_7: 0.4198 - f1_macro: 0.1429 - f1_weighted: 0.7502 \n",
      "Epoch 8: val_f1_weighted did not improve from 0.76437\n",
      "262/262 [==============================] - 4038s 15s/step - loss: 2.6951 - accuracy: 0.7623 - precision_7: 0.4198 - f1_macro: 0.1429 - f1_weighted: 0.7502 - val_loss: 1.4006 - val_accuracy: 0.7703 - val_precision_7: 0.4667 - val_f1_macro: 0.1398 - val_f1_weighted: 0.7631 - lr: 1.0000e-05\n",
      "Epoch 9/15\n",
      "262/262 [==============================] - ETA: 0s - loss: 2.6910 - accuracy: 0.7633 - precision_7: 0.4217 - f1_macro: 0.1457 - f1_weighted: 0.7507 \n",
      "Epoch 9: val_f1_weighted improved from 0.76437 to 0.76459, saving model to model.19.val.included\n"
     ]
    },
    {
     "name": "stderr",
     "output_type": "stream",
     "text": [
      "WARNING:absl:Function `_wrapped_model` contains input name(s) Input_Images, Input_Street, Input_Historical with unsupported characters which will be renamed to input_images, input_street, input_historical in the SavedModel.\n",
      "WARNING:absl:Found untraced functions such as _jit_compiled_convolution_op, _jit_compiled_convolution_op, _jit_compiled_convolution_op, _update_step_xla while saving (showing 4 of 4). These functions will not be directly callable after loading.\n"
     ]
    },
    {
     "name": "stdout",
     "output_type": "stream",
     "text": [
      "INFO:tensorflow:Assets written to: model.19.val.included/assets\n"
     ]
    },
    {
     "name": "stderr",
     "output_type": "stream",
     "text": [
      "INFO:tensorflow:Assets written to: model.19.val.included/assets\n"
     ]
    },
    {
     "name": "stdout",
     "output_type": "stream",
     "text": [
      "262/262 [==============================] - 4047s 15s/step - loss: 2.6910 - accuracy: 0.7633 - precision_7: 0.4217 - f1_macro: 0.1457 - f1_weighted: 0.7507 - val_loss: 1.3986 - val_accuracy: 0.7715 - val_precision_7: 0.4667 - val_f1_macro: 0.1574 - val_f1_weighted: 0.7646 - lr: 1.0000e-05\n",
      "Epoch 10/15\n",
      "262/262 [==============================] - ETA: 0s - loss: 2.6876 - accuracy: 0.7635 - precision_7: 0.4146 - f1_macro: 0.1438 - f1_weighted: 0.7507 \n",
      "Epoch 10: val_f1_weighted improved from 0.76459 to 0.76552, saving model to model.19.val.included\n"
     ]
    },
    {
     "name": "stderr",
     "output_type": "stream",
     "text": [
      "WARNING:absl:Function `_wrapped_model` contains input name(s) Input_Images, Input_Street, Input_Historical with unsupported characters which will be renamed to input_images, input_street, input_historical in the SavedModel.\n",
      "WARNING:absl:Found untraced functions such as _jit_compiled_convolution_op, _jit_compiled_convolution_op, _jit_compiled_convolution_op, _update_step_xla while saving (showing 4 of 4). These functions will not be directly callable after loading.\n"
     ]
    },
    {
     "name": "stdout",
     "output_type": "stream",
     "text": [
      "INFO:tensorflow:Assets written to: model.19.val.included/assets\n"
     ]
    },
    {
     "name": "stderr",
     "output_type": "stream",
     "text": [
      "INFO:tensorflow:Assets written to: model.19.val.included/assets\n"
     ]
    },
    {
     "name": "stdout",
     "output_type": "stream",
     "text": [
      "262/262 [==============================] - 4035s 15s/step - loss: 2.6876 - accuracy: 0.7635 - precision_7: 0.4146 - f1_macro: 0.1438 - f1_weighted: 0.7507 - val_loss: 1.3968 - val_accuracy: 0.7721 - val_precision_7: 0.4667 - val_f1_macro: 0.1574 - val_f1_weighted: 0.7655 - lr: 1.0000e-05\n",
      "Epoch 11/15\n",
      "262/262 [==============================] - ETA: 0s - loss: 2.6840 - accuracy: 0.7611 - precision_7: 0.4253 - f1_macro: 0.1459 - f1_weighted: 0.7496 \n",
      "Epoch 11: val_f1_weighted improved from 0.76552 to 0.76597, saving model to model.19.val.included\n"
     ]
    },
    {
     "name": "stderr",
     "output_type": "stream",
     "text": [
      "WARNING:absl:Function `_wrapped_model` contains input name(s) Input_Images, Input_Street, Input_Historical with unsupported characters which will be renamed to input_images, input_street, input_historical in the SavedModel.\n",
      "WARNING:absl:Found untraced functions such as _jit_compiled_convolution_op, _jit_compiled_convolution_op, _jit_compiled_convolution_op, _update_step_xla while saving (showing 4 of 4). These functions will not be directly callable after loading.\n"
     ]
    },
    {
     "name": "stdout",
     "output_type": "stream",
     "text": [
      "INFO:tensorflow:Assets written to: model.19.val.included/assets\n"
     ]
    },
    {
     "name": "stderr",
     "output_type": "stream",
     "text": [
      "INFO:tensorflow:Assets written to: model.19.val.included/assets\n"
     ]
    },
    {
     "name": "stdout",
     "output_type": "stream",
     "text": [
      "262/262 [==============================] - 4040s 15s/step - loss: 2.6840 - accuracy: 0.7611 - precision_7: 0.4253 - f1_macro: 0.1459 - f1_weighted: 0.7496 - val_loss: 1.3954 - val_accuracy: 0.7721 - val_precision_7: 0.4667 - val_f1_macro: 0.1572 - val_f1_weighted: 0.7660 - lr: 1.0000e-05\n",
      "Epoch 12/15\n",
      "262/262 [==============================] - ETA: 0s - loss: 2.6795 - accuracy: 0.7619 - precision_7: 0.4186 - f1_macro: 0.1469 - f1_weighted: 0.7503 \n",
      "Epoch 12: val_f1_weighted did not improve from 0.76597\n",
      "262/262 [==============================] - 4038s 15s/step - loss: 2.6795 - accuracy: 0.7619 - precision_7: 0.4186 - f1_macro: 0.1469 - f1_weighted: 0.7503 - val_loss: 1.3952 - val_accuracy: 0.7721 - val_precision_7: 0.4667 - val_f1_macro: 0.1572 - val_f1_weighted: 0.7660 - lr: 1.0000e-06\n",
      "Epoch 13/15\n",
      "262/262 [==============================] - ETA: 0s - loss: 2.6792 - accuracy: 0.7622 - precision_7: 0.4186 - f1_macro: 0.1469 - f1_weighted: 0.7505 \n",
      "Epoch 13: val_f1_weighted did not improve from 0.76597\n",
      "262/262 [==============================] - 4035s 15s/step - loss: 2.6792 - accuracy: 0.7622 - precision_7: 0.4186 - f1_macro: 0.1469 - f1_weighted: 0.7505 - val_loss: 1.3950 - val_accuracy: 0.7721 - val_precision_7: 0.4667 - val_f1_macro: 0.1572 - val_f1_weighted: 0.7660 - lr: 1.0000e-06\n",
      "Epoch 14/15\n",
      "262/262 [==============================] - ETA: 0s - loss: 2.6788 - accuracy: 0.7619 - precision_7: 0.4186 - f1_macro: 0.1469 - f1_weighted: 0.7503 \n",
      "Epoch 14: val_f1_weighted did not improve from 0.76597\n",
      "262/262 [==============================] - 4035s 15s/step - loss: 2.6788 - accuracy: 0.7619 - precision_7: 0.4186 - f1_macro: 0.1469 - f1_weighted: 0.7503 - val_loss: 1.3948 - val_accuracy: 0.7721 - val_precision_7: 0.4667 - val_f1_macro: 0.1572 - val_f1_weighted: 0.7660 - lr: 1.0000e-06\n",
      "Epoch 15/15\n",
      "262/262 [==============================] - ETA: 0s - loss: 2.6784 - accuracy: 0.7619 - precision_7: 0.4253 - f1_macro: 0.1468 - f1_weighted: 0.7503 \n",
      "Epoch 15: val_f1_weighted did not improve from 0.76597\n",
      "262/262 [==============================] - 4044s 15s/step - loss: 2.6784 - accuracy: 0.7619 - precision_7: 0.4253 - f1_macro: 0.1468 - f1_weighted: 0.7503 - val_loss: 1.3947 - val_accuracy: 0.7721 - val_precision_7: 0.4667 - val_f1_macro: 0.1572 - val_f1_weighted: 0.7660 - lr: 1.0000e-06\n"
     ]
    }
   ],
   "source": [
    "#define the checkpoint\n",
    "filepath = \"model.19.val.included\"\n",
    "checkpoint = ModelCheckpoint(filepath, monitor='val_f1_weighted', verbose=1, save_best_only=True, mode='max')\n",
    "callbacks_check = checkpoint\n",
    "\n",
    "def scheduler(epoch, lr):\n",
    "    if epoch < 6:\n",
    "        return 0.0001\n",
    "    elif epoch < 11:\n",
    "        return 0.00001\n",
    "    else:\n",
    "        return 0.000001\n",
    "\n",
    "callback = tf.keras.callbacks.LearningRateScheduler(scheduler)\n",
    "\n",
    "y_tv = tf.keras.utils.to_categorical(y_train_val, num_classes=11)\n",
    "\n",
    "y_v = tf.keras.utils.to_categorical(y_val, num_classes=11)\n",
    "\n",
    "history = best_model.fit(\n",
    "    [images_mini_train_val, street_mini_train_val, historical_train_val],\n",
    "    y_tv,\n",
    "    epochs=15,\n",
    "    # Suppress logging.\n",
    "     verbose=1,\n",
    "    validation_data=([images_mini_v, street_mini_2_v, historical_val], y_v),\n",
    "    # Calculate validation results on 20% of the training data.\n",
    "    #validation_split = 0.2,\n",
    "    class_weight = class_weights,\n",
    "    callbacks=[callback, callbacks_check],\n",
    "    )"
   ]
  },
  {
   "cell_type": "code",
   "execution_count": null,
   "id": "1d124104-93c4-421d-9ca5-a81ffe8703c7",
   "metadata": {},
   "outputs": [],
   "source": []
  },
  {
   "cell_type": "markdown",
   "id": "4c054824-80a5-413a-aa2d-3368c6fea7b5",
   "metadata": {},
   "source": [
    "**Test Best Model**"
   ]
  },
  {
   "cell_type": "code",
   "execution_count": 115,
   "id": "22f0fbef-1ded-4b3b-9c7e-f8a948015047",
   "metadata": {},
   "outputs": [
    {
     "data": {
      "text/plain": [
       "(2095, 50, 50, 38)"
      ]
     },
     "execution_count": 115,
     "metadata": {},
     "output_type": "execute_result"
    }
   ],
   "source": [
    "street_mini_2_t = [] \n",
    "for k in range(len(street_t)):\n",
    "    for i in range(50): \n",
    "        for j in range(50):\n",
    "            street_mini_2_t.append(street_t[k])\n",
    "street_mini_2_t = np.reshape(street_mini_2_t, (len(street_t),50,50,38))\n",
    "np.shape(street_mini_2_t)"
   ]
  },
  {
   "cell_type": "code",
   "execution_count": 116,
   "id": "904dd430-c914-41b0-a419-f18437670b7b",
   "metadata": {},
   "outputs": [],
   "source": [
    "# load the model\n",
    "filepath = \"model.19.val.included\"\n",
    "best_model = load_model(filepath)"
   ]
  },
  {
   "cell_type": "code",
   "execution_count": 117,
   "id": "82a44b58-8401-4b2c-be07-458e2805adc9",
   "metadata": {},
   "outputs": [
    {
     "name": "stdout",
     "output_type": "stream",
     "text": [
      "66/66 [==============================] - 20s 305ms/step\n"
     ]
    },
    {
     "data": {
      "text/plain": [
       "array([0.2780929 , 0.1152548 , 0.08699143, 0.09093944, 0.08856206,\n",
       "       0.01867929, 0.03599451, 0.03189603, 0.14927873, 0.05686704,\n",
       "       0.04744391], dtype=float32)"
      ]
     },
     "execution_count": 117,
     "metadata": {},
     "output_type": "execute_result"
    }
   ],
   "source": [
    "y_pred = best_model.predict([images_mini_t, street_mini_2_t, historical_test])\n",
    "y_pred[0]"
   ]
  },
  {
   "cell_type": "code",
   "execution_count": 118,
   "id": "2f620c32-5e2d-45fe-a7b1-ae96f5e0e516",
   "metadata": {
    "tags": []
   },
   "outputs": [
    {
     "data": {
      "text/plain": [
       "[0, 4, 0, 0, 0]"
      ]
     },
     "execution_count": 118,
     "metadata": {},
     "output_type": "execute_result"
    }
   ],
   "source": [
    "pred_values = []\n",
    "for i in y_pred: \n",
    "    input_list = i\n",
    "    max_value = max(input_list)\n",
    "    index = [index for index, item in enumerate(input_list) if item == max_value]\n",
    "    pred_values.append(index[0])\n",
    "pred_values[0:5]"
   ]
  },
  {
   "cell_type": "code",
   "execution_count": 119,
   "id": "72a67e54-12ad-42e5-b354-0336c6a3b323",
   "metadata": {},
   "outputs": [
    {
     "data": {
      "text/plain": [
       "[0, 4, 0, 0, 0]"
      ]
     },
     "execution_count": 119,
     "metadata": {},
     "output_type": "execute_result"
    }
   ],
   "source": [
    "y_true = list(y_test)\n",
    "y_true[0:5]"
   ]
  },
  {
   "cell_type": "code",
   "execution_count": 120,
   "id": "2c694138-8f5e-4b1f-93ca-3716e7109d91",
   "metadata": {
    "tags": []
   },
   "outputs": [
    {
     "data": {
      "text/plain": [
       "<Axes: title={'center': 'Confusion Matrix'}>"
      ]
     },
     "execution_count": 120,
     "metadata": {},
     "output_type": "execute_result"
    },
    {
     "data": {
      "image/png": "[encoded data removed]",
      "text/plain": [
       "<Figure size 1000x700 with 2 Axes>"
      ]
     },
     "metadata": {},
     "output_type": "display_data"
    }
   ],
   "source": [
    "from sklearn.metrics import confusion_matrix\n",
    "cm = confusion_matrix(y_true, pred_values)\n",
    "ind = max(max(np.unique(y_true)), max(np.unique(pred_values))) + 1\n",
    "df_cm = pd.DataFrame(cm, index = [i for i in range(ind)],\n",
    "                  columns = [i for i in range(ind)])\n",
    "df_cm\n",
    "plt.figure(figsize = (10,7))\n",
    "plt.title('Confusion Matrix')\n",
    "plt.ylabel('Actual Values')\n",
    "plt.xlabel('Predicted Values')\n",
    "sn.heatmap(df_cm, annot=True, fmt='.3g',cmap=\"OrRd\")"
   ]
  },
  {
   "cell_type": "code",
   "execution_count": 121,
   "id": "24c72a09-471f-4125-b416-9198f164b10e",
   "metadata": {
    "tags": []
   },
   "outputs": [
    {
     "data": {
      "text/html": [
       "<div>\n",
       "<style scoped>\n",
       "    .dataframe tbody tr th:only-of-type {\n",
       "        vertical-align: middle;\n",
       "    }\n",
       "\n",
       "    .dataframe tbody tr th {\n",
       "        vertical-align: top;\n",
       "    }\n",
       "\n",
       "    .dataframe thead th {\n",
       "        text-align: right;\n",
       "    }\n",
       "</style>\n",
       "<table border=\"1\" class=\"dataframe\">\n",
       "  <thead>\n",
       "    <tr style=\"text-align: right;\">\n",
       "      <th></th>\n",
       "      <th>0</th>\n",
       "      <th>1</th>\n",
       "      <th>2</th>\n",
       "      <th>3</th>\n",
       "      <th>4</th>\n",
       "      <th>5</th>\n",
       "      <th>6</th>\n",
       "      <th>7</th>\n",
       "      <th>8</th>\n",
       "      <th>9</th>\n",
       "    </tr>\n",
       "  </thead>\n",
       "  <tbody>\n",
       "    <tr>\n",
       "      <th>0</th>\n",
       "      <td>1499</td>\n",
       "      <td>4</td>\n",
       "      <td>129</td>\n",
       "      <td>1</td>\n",
       "      <td>9</td>\n",
       "      <td>0</td>\n",
       "      <td>1</td>\n",
       "      <td>0</td>\n",
       "      <td>3</td>\n",
       "      <td>0</td>\n",
       "    </tr>\n",
       "    <tr>\n",
       "      <th>1</th>\n",
       "      <td>8</td>\n",
       "      <td>3</td>\n",
       "      <td>11</td>\n",
       "      <td>0</td>\n",
       "      <td>13</td>\n",
       "      <td>0</td>\n",
       "      <td>1</td>\n",
       "      <td>6</td>\n",
       "      <td>1</td>\n",
       "      <td>0</td>\n",
       "    </tr>\n",
       "    <tr>\n",
       "      <th>2</th>\n",
       "      <td>185</td>\n",
       "      <td>7</td>\n",
       "      <td>79</td>\n",
       "      <td>4</td>\n",
       "      <td>18</td>\n",
       "      <td>0</td>\n",
       "      <td>1</td>\n",
       "      <td>4</td>\n",
       "      <td>6</td>\n",
       "      <td>0</td>\n",
       "    </tr>\n",
       "    <tr>\n",
       "      <th>3</th>\n",
       "      <td>35</td>\n",
       "      <td>6</td>\n",
       "      <td>14</td>\n",
       "      <td>0</td>\n",
       "      <td>10</td>\n",
       "      <td>0</td>\n",
       "      <td>1</td>\n",
       "      <td>4</td>\n",
       "      <td>2</td>\n",
       "      <td>0</td>\n",
       "    </tr>\n",
       "    <tr>\n",
       "      <th>4</th>\n",
       "      <td>0</td>\n",
       "      <td>0</td>\n",
       "      <td>0</td>\n",
       "      <td>1</td>\n",
       "      <td>3</td>\n",
       "      <td>0</td>\n",
       "      <td>1</td>\n",
       "      <td>5</td>\n",
       "      <td>0</td>\n",
       "      <td>0</td>\n",
       "    </tr>\n",
       "    <tr>\n",
       "      <th>5</th>\n",
       "      <td>0</td>\n",
       "      <td>0</td>\n",
       "      <td>0</td>\n",
       "      <td>0</td>\n",
       "      <td>0</td>\n",
       "      <td>0</td>\n",
       "      <td>0</td>\n",
       "      <td>2</td>\n",
       "      <td>0</td>\n",
       "      <td>0</td>\n",
       "    </tr>\n",
       "    <tr>\n",
       "      <th>6</th>\n",
       "      <td>1</td>\n",
       "      <td>0</td>\n",
       "      <td>2</td>\n",
       "      <td>0</td>\n",
       "      <td>5</td>\n",
       "      <td>0</td>\n",
       "      <td>1</td>\n",
       "      <td>2</td>\n",
       "      <td>0</td>\n",
       "      <td>0</td>\n",
       "    </tr>\n",
       "    <tr>\n",
       "      <th>7</th>\n",
       "      <td>0</td>\n",
       "      <td>0</td>\n",
       "      <td>0</td>\n",
       "      <td>0</td>\n",
       "      <td>1</td>\n",
       "      <td>0</td>\n",
       "      <td>0</td>\n",
       "      <td>3</td>\n",
       "      <td>0</td>\n",
       "      <td>0</td>\n",
       "    </tr>\n",
       "    <tr>\n",
       "      <th>8</th>\n",
       "      <td>0</td>\n",
       "      <td>0</td>\n",
       "      <td>0</td>\n",
       "      <td>0</td>\n",
       "      <td>0</td>\n",
       "      <td>0</td>\n",
       "      <td>0</td>\n",
       "      <td>2</td>\n",
       "      <td>0</td>\n",
       "      <td>0</td>\n",
       "    </tr>\n",
       "    <tr>\n",
       "      <th>9</th>\n",
       "      <td>0</td>\n",
       "      <td>0</td>\n",
       "      <td>0</td>\n",
       "      <td>0</td>\n",
       "      <td>0</td>\n",
       "      <td>0</td>\n",
       "      <td>0</td>\n",
       "      <td>1</td>\n",
       "      <td>0</td>\n",
       "      <td>0</td>\n",
       "    </tr>\n",
       "  </tbody>\n",
       "</table>\n",
       "</div>"
      ],
      "text/plain": [
       "      0  1    2  3   4  5  6  7  8  9\n",
       "0  1499  4  129  1   9  0  1  0  3  0\n",
       "1     8  3   11  0  13  0  1  6  1  0\n",
       "2   185  7   79  4  18  0  1  4  6  0\n",
       "3    35  6   14  0  10  0  1  4  2  0\n",
       "4     0  0    0  1   3  0  1  5  0  0\n",
       "5     0  0    0  0   0  0  0  2  0  0\n",
       "6     1  0    2  0   5  0  1  2  0  0\n",
       "7     0  0    0  0   1  0  0  3  0  0\n",
       "8     0  0    0  0   0  0  0  2  0  0\n",
       "9     0  0    0  0   0  0  0  1  0  0"
      ]
     },
     "execution_count": 121,
     "metadata": {},
     "output_type": "execute_result"
    }
   ],
   "source": [
    "df_cm"
   ]
  },
  {
   "cell_type": "code",
   "execution_count": 122,
   "id": "e623f1af-471f-44bc-b9ec-be690801bf5d",
   "metadata": {},
   "outputs": [
    {
     "data": {
      "text/plain": [
       "0.1663354866818392"
      ]
     },
     "execution_count": 122,
     "metadata": {},
     "output_type": "execute_result"
    }
   ],
   "source": [
    "f1_score(y_true, pred_values, average = 'macro')"
   ]
  },
  {
   "cell_type": "code",
   "execution_count": 123,
   "id": "0809f7d4-c0f9-400a-8959-6a280d1ccebd",
   "metadata": {},
   "outputs": [
    {
     "data": {
      "text/plain": [
       "0.7439944743328033"
      ]
     },
     "execution_count": 123,
     "metadata": {},
     "output_type": "execute_result"
    }
   ],
   "source": [
    "f1_score(y_true, pred_values, average = 'weighted')"
   ]
  },
  {
   "cell_type": "code",
   "execution_count": 124,
   "id": "6b21e220-6c91-4177-9b28-7f6faa0007dd",
   "metadata": {
    "tags": []
   },
   "outputs": [
    {
     "data": {
      "text/plain": [
       "array([0.88855957, 0.0952381 , 0.29313544, 0.        , 0.08695652,\n",
       "       0.        , 0.11764706, 0.18181818, 0.        , 0.        ])"
      ]
     },
     "execution_count": 124,
     "metadata": {},
     "output_type": "execute_result"
    }
   ],
   "source": [
    "f1_score(y_true, pred_values, average = None)"
   ]
  }
 ],
 "metadata": {
  "kernelspec": {
   "display_name": "Python 3 (ipykernel)",
   "language": "python",
   "name": "python3"
  },
  "language_info": {
   "codemirror_mode": {
    "name": "ipython",
    "version": 3
   },
   "file_extension": ".py",
   "mimetype": "text/x-python",
   "name": "python",
   "nbconvert_exporter": "python",
   "pygments_lexer": "ipython3",
   "version": "3.10.6"
  }
 },
 "nbformat": 4,
 "nbformat_minor": 5
}
