{
 "cells": [
  {
   "cell_type": "code",
   "execution_count": 1,
   "id": "356025b8",
   "metadata": {
    "tags": []
   },
   "outputs": [
    {
     "name": "stderr",
     "output_type": "stream",
     "text": [
      "2023-03-20 06:37:56.241906: I tensorflow/core/platform/cpu_feature_guard.cc:193] This TensorFlow binary is optimized with oneAPI Deep Neural Network Library (oneDNN) to use the following CPU instructions in performance-critical operations:  AVX2 FMA\n",
      "To enable them in other operations, rebuild TensorFlow with the appropriate compiler flags.\n",
      "2023-03-20 06:37:57.122261: W tensorflow/compiler/xla/stream_executor/platform/default/dso_loader.cc:64] Could not load dynamic library 'libnvinfer.so.7'; dlerror: libnvinfer.so.7: cannot open shared object file: No such file or directory; LD_LIBRARY_PATH: /opt/amazon/efa/lib:/opt/amazon/openmpi/lib:/usr/local/cuda/efa/lib:/usr/local/cuda/lib:/usr/local/cuda:/usr/local/cuda/lib64:/usr/local/cuda/extras/CUPTI/lib64:/usr/local/cuda/targets/x86_64-linux/lib:/usr/local/lib:/usr/lib:/opt/amazon/efa/lib:/opt/amazon/openmpi/lib:/usr/local/cuda/efa/lib:/usr/local/cuda/lib:/usr/local/cuda:/usr/local/cuda/lib64:/usr/local/cuda/extras/CUPTI/lib64:/usr/local/cuda/targets/x86_64-linux/lib:/usr/local/lib:/usr/lib:\n",
      "2023-03-20 06:37:57.122397: W tensorflow/compiler/xla/stream_executor/platform/default/dso_loader.cc:64] Could not load dynamic library 'libnvinfer_plugin.so.7'; dlerror: libnvinfer_plugin.so.7: cannot open shared object file: No such file or directory; LD_LIBRARY_PATH: /opt/amazon/efa/lib:/opt/amazon/openmpi/lib:/usr/local/cuda/efa/lib:/usr/local/cuda/lib:/usr/local/cuda:/usr/local/cuda/lib64:/usr/local/cuda/extras/CUPTI/lib64:/usr/local/cuda/targets/x86_64-linux/lib:/usr/local/lib:/usr/lib:/opt/amazon/efa/lib:/opt/amazon/openmpi/lib:/usr/local/cuda/efa/lib:/usr/local/cuda/lib:/usr/local/cuda:/usr/local/cuda/lib64:/usr/local/cuda/extras/CUPTI/lib64:/usr/local/cuda/targets/x86_64-linux/lib:/usr/local/lib:/usr/lib:\n",
      "2023-03-20 06:37:57.122408: W tensorflow/compiler/tf2tensorrt/utils/py_utils.cc:38] TF-TRT Warning: Cannot dlopen some TensorRT libraries. If you would like to use Nvidia GPU with TensorRT, please make sure the missing libraries mentioned above are installed properly.\n"
     ]
    }
   ],
   "source": [
    "import numpy as np\n",
    "import pandas as pd\n",
    "import math\n",
    "\n",
    "import matplotlib\n",
    "import matplotlib.pyplot as plt\n",
    "\n",
    "import tensorflow as tf\n",
    "from tensorflow import keras\n",
    "from tensorflow.keras import layers\n",
    "from tensorflow.keras.layers import concatenate\n",
    "import tensorflow_addons as tfa\n",
    "from keras.layers import Flatten, Dense, Dropout\n",
    "import tifffile\n",
    "\n",
    "from sklearn.model_selection import train_test_split\n",
    "# from sklearn.preprocessing import LabelEncoder\n",
    "# from sklearn.preprocessing import OneHotEncoder\n",
    "from sklearn.preprocessing import LabelBinarizer, normalize\n",
    "from sklearn.linear_model import LogisticRegression\n",
    "from sklearn.metrics import f1_score\n",
    "import os\n",
    "\n",
    "import scipy\n",
    "from numba import cuda "
   ]
  },
  {
   "cell_type": "code",
   "execution_count": 2,
   "id": "cbe8314a-60a7-4de8-be72-620b659ef79d",
   "metadata": {
    "tags": []
   },
   "outputs": [],
   "source": [
    "# !pip install numpy tensorflow matplotlib scipy\n",
    "# # !pip install pandas\n",
    "# !pip install tifffile\n",
    "# !pip install scikit-learn\n",
    "# !pip install imagecodecs\n",
    "# !pip install tensorflow-addons\n",
    "# !pip install numba "
   ]
  },
  {
   "cell_type": "code",
   "execution_count": 3,
   "id": "bc10282d-f694-4346-b6e6-34923575c633",
   "metadata": {
    "tags": []
   },
   "outputs": [],
   "source": [
    "def reset_gpu():\n",
    "    device = cuda.get_current_device()\n",
    "    device.reset()"
   ]
  },
  {
   "cell_type": "code",
   "execution_count": 4,
   "id": "8bb10982-72ec-439c-9c1a-6c182803eb2f",
   "metadata": {
    "tags": []
   },
   "outputs": [],
   "source": [
    "def plot_loss(history):\n",
    "    plt.plot(history.history['loss'], label='loss')\n",
    "    plt.plot(history.history['val_loss'], label='val_loss')\n",
    "   # plt.plot(history.history['accuracy'], label='accuracy')\n",
    "   # plt.plot(history.history['val_accuracy'], label='val_accuracy')\n",
    "    plt.ylim([0, \n",
    "            max(\n",
    "                max(history.history['loss']),\n",
    "                max(history.history['val_loss'])\n",
    "            )])\n",
    "    plt.xlabel('Epoch')\n",
    "    plt.ylabel('Mean Absolute Error')\n",
    "    plt.legend()\n",
    "    plt.grid(True)"
   ]
  },
  {
   "cell_type": "code",
   "execution_count": 5,
   "id": "f3693092",
   "metadata": {
    "tags": []
   },
   "outputs": [],
   "source": [
    "tiles = pd.read_csv(r'Data/Tiles_expanded.csv')\n",
    "tiles_expanded_rv = pd.read_csv(r'Data/Tiles_no_binning_downsampled.csv')#.drop(['Unnamed: 0'],axis=1)\n",
    "tiles_expanded_rv = pd.get_dummies(tiles_expanded_rv, columns = ['RTTYP'])"
   ]
  },
  {
   "cell_type": "code",
   "execution_count": 6,
   "id": "29e5ddd8-bf87-4021-8274-ee55f64b54a7",
   "metadata": {
    "tags": []
   },
   "outputs": [
    {
     "data": {
      "text/html": [
       "<div>\n",
       "<style scoped>\n",
       "    .dataframe tbody tr th:only-of-type {\n",
       "        vertical-align: middle;\n",
       "    }\n",
       "\n",
       "    .dataframe tbody tr th {\n",
       "        vertical-align: top;\n",
       "    }\n",
       "\n",
       "    .dataframe thead th {\n",
       "        text-align: right;\n",
       "    }\n",
       "</style>\n",
       "<table border=\"1\" class=\"dataframe\">\n",
       "  <thead>\n",
       "    <tr style=\"text-align: right;\">\n",
       "      <th></th>\n",
       "      <th>Tile_ID</th>\n",
       "      <th>Long2</th>\n",
       "      <th>Lat2</th>\n",
       "      <th>Long1</th>\n",
       "      <th>Lat1</th>\n",
       "      <th>Mid_lat</th>\n",
       "      <th>Mid_long</th>\n",
       "      <th>Stop_Signs</th>\n",
       "      <th>Paving_historical</th>\n",
       "      <th>Paving_future</th>\n",
       "      <th>Bus_stop</th>\n",
       "      <th>Collisions_Future</th>\n",
       "      <th>Collisions_Historical</th>\n",
       "      <th>RTTYP_I</th>\n",
       "      <th>RTTYP_M</th>\n",
       "      <th>RTTYP_S</th>\n",
       "      <th>RTTYP_U</th>\n",
       "    </tr>\n",
       "  </thead>\n",
       "  <tbody>\n",
       "    <tr>\n",
       "      <th>0</th>\n",
       "      <td>266</td>\n",
       "      <td>-122.512166</td>\n",
       "      <td>37.779636</td>\n",
       "      <td>-122.511026</td>\n",
       "      <td>37.778732</td>\n",
       "      <td>37.779184</td>\n",
       "      <td>-122.511596</td>\n",
       "      <td>1.0</td>\n",
       "      <td>0.0</td>\n",
       "      <td>0.0</td>\n",
       "      <td>0.0</td>\n",
       "      <td>5.0</td>\n",
       "      <td>5.0</td>\n",
       "      <td>0</td>\n",
       "      <td>1</td>\n",
       "      <td>0</td>\n",
       "      <td>0</td>\n",
       "    </tr>\n",
       "    <tr>\n",
       "      <th>1</th>\n",
       "      <td>271</td>\n",
       "      <td>-122.512166</td>\n",
       "      <td>37.775118</td>\n",
       "      <td>-122.511026</td>\n",
       "      <td>37.774214</td>\n",
       "      <td>37.774666</td>\n",
       "      <td>-122.511596</td>\n",
       "      <td>4.0</td>\n",
       "      <td>0.0</td>\n",
       "      <td>0.0</td>\n",
       "      <td>0.0</td>\n",
       "      <td>1.0</td>\n",
       "      <td>3.0</td>\n",
       "      <td>0</td>\n",
       "      <td>1</td>\n",
       "      <td>0</td>\n",
       "      <td>0</td>\n",
       "    </tr>\n",
       "    <tr>\n",
       "      <th>2</th>\n",
       "      <td>275</td>\n",
       "      <td>-122.512166</td>\n",
       "      <td>37.771503</td>\n",
       "      <td>-122.511026</td>\n",
       "      <td>37.770600</td>\n",
       "      <td>37.771052</td>\n",
       "      <td>-122.511596</td>\n",
       "      <td>0.0</td>\n",
       "      <td>0.0</td>\n",
       "      <td>0.0</td>\n",
       "      <td>0.0</td>\n",
       "      <td>1.0</td>\n",
       "      <td>0.0</td>\n",
       "      <td>0</td>\n",
       "      <td>1</td>\n",
       "      <td>0</td>\n",
       "      <td>0</td>\n",
       "    </tr>\n",
       "    <tr>\n",
       "      <th>3</th>\n",
       "      <td>390</td>\n",
       "      <td>-122.511026</td>\n",
       "      <td>37.771503</td>\n",
       "      <td>-122.509885</td>\n",
       "      <td>37.770600</td>\n",
       "      <td>37.771052</td>\n",
       "      <td>-122.510456</td>\n",
       "      <td>0.0</td>\n",
       "      <td>0.0</td>\n",
       "      <td>0.0</td>\n",
       "      <td>1.0</td>\n",
       "      <td>1.0</td>\n",
       "      <td>1.0</td>\n",
       "      <td>0</td>\n",
       "      <td>1</td>\n",
       "      <td>0</td>\n",
       "      <td>0</td>\n",
       "    </tr>\n",
       "    <tr>\n",
       "      <th>4</th>\n",
       "      <td>391</td>\n",
       "      <td>-122.511026</td>\n",
       "      <td>37.770600</td>\n",
       "      <td>-122.509885</td>\n",
       "      <td>37.769696</td>\n",
       "      <td>37.770148</td>\n",
       "      <td>-122.510456</td>\n",
       "      <td>0.0</td>\n",
       "      <td>0.0</td>\n",
       "      <td>0.0</td>\n",
       "      <td>0.0</td>\n",
       "      <td>2.0</td>\n",
       "      <td>4.0</td>\n",
       "      <td>0</td>\n",
       "      <td>1</td>\n",
       "      <td>0</td>\n",
       "      <td>0</td>\n",
       "    </tr>\n",
       "  </tbody>\n",
       "</table>\n",
       "</div>"
      ],
      "text/plain": [
       "   Tile_ID       Long2       Lat2       Long1       Lat1    Mid_lat  \\\n",
       "0      266 -122.512166  37.779636 -122.511026  37.778732  37.779184   \n",
       "1      271 -122.512166  37.775118 -122.511026  37.774214  37.774666   \n",
       "2      275 -122.512166  37.771503 -122.511026  37.770600  37.771052   \n",
       "3      390 -122.511026  37.771503 -122.509885  37.770600  37.771052   \n",
       "4      391 -122.511026  37.770600 -122.509885  37.769696  37.770148   \n",
       "\n",
       "     Mid_long  Stop_Signs  Paving_historical  Paving_future  Bus_stop  \\\n",
       "0 -122.511596         1.0                0.0            0.0       0.0   \n",
       "1 -122.511596         4.0                0.0            0.0       0.0   \n",
       "2 -122.511596         0.0                0.0            0.0       0.0   \n",
       "3 -122.510456         0.0                0.0            0.0       1.0   \n",
       "4 -122.510456         0.0                0.0            0.0       0.0   \n",
       "\n",
       "   Collisions_Future  Collisions_Historical  RTTYP_I  RTTYP_M  RTTYP_S  \\\n",
       "0                5.0                    5.0        0        1        0   \n",
       "1                1.0                    3.0        0        1        0   \n",
       "2                1.0                    0.0        0        1        0   \n",
       "3                1.0                    1.0        0        1        0   \n",
       "4                2.0                    4.0        0        1        0   \n",
       "\n",
       "   RTTYP_U  \n",
       "0        0  \n",
       "1        0  \n",
       "2        0  \n",
       "3        0  \n",
       "4        0  "
      ]
     },
     "execution_count": 6,
     "metadata": {},
     "output_type": "execute_result"
    }
   ],
   "source": [
    "tiles_expanded_rv.head()"
   ]
  },
  {
   "cell_type": "code",
   "execution_count": 7,
   "id": "d02cf6af-4d7f-4cbe-91f0-6a33a0ba3c86",
   "metadata": {
    "tags": []
   },
   "outputs": [],
   "source": [
    "tiles_expanded_rv['Collisions_Future_binary']=tiles_expanded_rv['Collisions_Future'].apply(lambda x: 1 if x > 0 else 0)\n",
    "tiles_expanded_rv['Collisions_Historical_binary']=tiles_expanded_rv['Collisions_Historical'].apply(lambda x: 1 if x > 0 else 0)"
   ]
  },
  {
   "cell_type": "markdown",
   "id": "13f22a15-184e-466c-8edd-448bd974f88d",
   "metadata": {
    "tags": []
   },
   "source": [
    "# Normalize data"
   ]
  },
  {
   "cell_type": "code",
   "execution_count": 8,
   "id": "3d2d6b89-b6a3-4465-ac2b-be220741cea8",
   "metadata": {
    "tags": []
   },
   "outputs": [],
   "source": [
    "def normalize_col(df, col_name):\n",
    "\n",
    "    norm = (df[col_name] - df[col_name].min()) / (df[col_name].max() - df[col_name].min())\n",
    "    return norm\n",
    "\n",
    "tiles_expanded_rv['Mid_lat_norm'] = normalize_col(tiles_expanded_rv,'Mid_lat')\n",
    "tiles_expanded_rv['Mid_long_norm'] = normalize_col(tiles_expanded_rv,'Mid_long')\n"
   ]
  },
  {
   "cell_type": "markdown",
   "id": "c3a6b82c",
   "metadata": {},
   "source": [
    "Split into training and test"
   ]
  },
  {
   "cell_type": "code",
   "execution_count": 9,
   "id": "0d50fdd4",
   "metadata": {
    "tags": []
   },
   "outputs": [],
   "source": [
    "MODEL_TYPE='logistic' # 'linear'\n",
    "\n",
    "if MODEL_TYPE == 'linear':\n",
    "    input_x = ['Tile_ID','Collisions_Historical', 'Mid_lat_norm','Mid_long_norm', 'Stop_Signs', 'Paving_historical', 'Bus_stop','RTTYP_I','RTTYP_M','RTTYP_S','RTTYP_U'] # Removing RTTYP_O\n",
    "    input_y = ['Collisions_Future']\n",
    "elif MODEL_TYPE == 'logistic':\n",
    "    input_x = ['Tile_ID','Collisions_Historical_binary', 'Mid_lat_norm','Mid_long_norm', 'Stop_Signs', 'Paving_historical', 'Bus_stop','RTTYP_I','RTTYP_M','RTTYP_S','RTTYP_U'] # Removing RTTYP_O\n",
    "    input_y = ['Collisions_Future_binary']\n",
    "    \n",
    "\n",
    "x_train, x_test, y_train, y_test = train_test_split(\n",
    "                                    tiles_expanded_rv[input_x], \n",
    "                                    tiles_expanded_rv[input_y],\n",
    "                                    random_state=104, \n",
    "                                    test_size=0.20, \n",
    "                                    shuffle=True)\n",
    "\n"
   ]
  },
  {
   "cell_type": "markdown",
   "id": "fffe2d02",
   "metadata": {},
   "source": [
    "Model #1: Linear regression using Historical Collisions, SFMTA Street Characteristics, and Geocoordinates"
   ]
  },
  {
   "cell_type": "markdown",
   "id": "bf220283",
   "metadata": {},
   "source": [
    "## Image Pre-Processing"
   ]
  },
  {
   "cell_type": "code",
   "execution_count": 10,
   "id": "ea514649",
   "metadata": {
    "tags": []
   },
   "outputs": [],
   "source": [
    "IMAGE_PATH = 'Satellite_Imagery/Satellite_Images_Tiled/' "
   ]
  },
  {
   "cell_type": "code",
   "execution_count": 11,
   "id": "b40c2ccb",
   "metadata": {
    "tags": []
   },
   "outputs": [],
   "source": [
    " #eda\n",
    "img = tifffile.imread('Satellite_Imagery/Satellite_Images_Tiled/36.tif')[0:148, 0:188, :]\n",
    "img2 = tifffile.imread('Satellite_Imagery/Satellite_Images_Tiled/37.tif')[0:148, 0:188, :]"
   ]
  },
  {
   "cell_type": "code",
   "execution_count": 12,
   "id": "97889d4b",
   "metadata": {
    "tags": []
   },
   "outputs": [
    {
     "name": "stdout",
     "output_type": "stream",
     "text": [
      "(148, 188, 4)\n"
     ]
    }
   ],
   "source": [
    "# eda\n",
    "print(np.shape(img2))"
   ]
  },
  {
   "cell_type": "code",
   "execution_count": 13,
   "id": "545c8609",
   "metadata": {
    "scrolled": true,
    "tags": []
   },
   "outputs": [
    {
     "name": "stdout",
     "output_type": "stream",
     "text": [
      "(2, 148, 188, 4)\n",
      "(2, 148, 188, 4)\n"
     ]
    }
   ],
   "source": [
    "# eda\n",
    "test = []\n",
    "test.append(img[0:148, 0:188, :])\n",
    "test.append(img2[0:148, 0:188, :])\n",
    "print(np.shape(test))\n",
    "test = np.stack(test)\n",
    "print(np.shape(test))"
   ]
  },
  {
   "cell_type": "code",
   "execution_count": 14,
   "id": "9298e629",
   "metadata": {
    "tags": []
   },
   "outputs": [],
   "source": [
    "def preprocess_data_part1(IMAGE_PATH):\n",
    "    \"\"\" Generate lists of images and labelsbased on temp_no_refer and temp_refer lists\n",
    "    \n",
    "    Params:\n",
    "    -------\n",
    "    IMAGE_PATH (str): path to directory with images.\n",
    "    \n",
    "    Returns:\n",
    "    --------\n",
    "    images_mini  (np.ndarray): Images of shape (N, 149 3)\n",
    "    \"\"\"\n",
    "    \n",
    "    data_mini = []\n",
    "    data_mini_test = []\n",
    "    for id in x_train['Tile_ID']:    \n",
    "                    \n",
    "        # read image and store as matrix            \n",
    "        # Index at the end makes all images the same size (they sometimes differ by 1 pixel)\n",
    "        image = tifffile.imread(IMAGE_PATH + str(id) + '.tif')[0:148, 0:188, :]\n",
    "            \n",
    "        # append to images\n",
    "        data_mini.append(image)\n",
    " \n",
    "    # stack images and trasnform to array\n",
    "    images_mini = np.stack(data_mini)\n",
    "    \n",
    "    for id in x_test['Tile_ID']:    \n",
    "                    \n",
    "        # read image and store as matrix            \n",
    "        # Index at the end makes all images the same size (they sometimes differ by 1 pixel)\n",
    "        image = tifffile.imread(IMAGE_PATH + str(id) + '.tif')[0:148, 0:188, :]\n",
    "            \n",
    "        # append to images\n",
    "        data_mini_test.append(image)\n",
    " \n",
    "    # stack images and trasnform to array\n",
    "    images_mini_test = np.stack(data_mini_test)\n",
    "    \n",
    "    return images_mini, images_mini_test"
   ]
  },
  {
   "cell_type": "code",
   "execution_count": 15,
   "id": "4d8f77ae",
   "metadata": {
    "tags": []
   },
   "outputs": [],
   "source": [
    "# THERE IS ONE FILE IN THE \"SATELLITE IMAGES TILED\" FOLDER THAT IS NOT A TIF IMAGE, DELETE THIS FILE\n",
    "images_mini, images_mini_test = preprocess_data_part1(IMAGE_PATH)"
   ]
  },
  {
   "cell_type": "code",
   "execution_count": 16,
   "id": "0ce10975",
   "metadata": {
    "tags": []
   },
   "outputs": [
    {
     "data": {
      "text/plain": [
       "(649, 148, 188, 4)"
      ]
     },
     "execution_count": 16,
     "metadata": {},
     "output_type": "execute_result"
    }
   ],
   "source": [
    "np.shape(images_mini)\n",
    "np.shape(images_mini_test)"
   ]
  },
  {
   "cell_type": "code",
   "execution_count": 17,
   "id": "0080b62b-712f-4179-9031-60b561f59b7b",
   "metadata": {
    "tags": []
   },
   "outputs": [],
   "source": [
    "# images_mini_reshaped = images_mini.reshape((8376,1,1,111296))"
   ]
  },
  {
   "cell_type": "code",
   "execution_count": 18,
   "id": "9fce941b-4766-474c-b49e-c365de2bdb86",
   "metadata": {
    "tags": []
   },
   "outputs": [],
   "source": [
    "# images_mini_reshaped.shape\n",
    "# len(images_mini_reshaped[0][0][0])"
   ]
  },
  {
   "cell_type": "markdown",
   "id": "57135842",
   "metadata": {},
   "source": [
    "Street Data Pre-Processing"
   ]
  },
  {
   "cell_type": "code",
   "execution_count": 19,
   "id": "8dce0686",
   "metadata": {
    "tags": []
   },
   "outputs": [
    {
     "data": {
      "text/plain": [
       "(649, 1, 1, 10)"
      ]
     },
     "execution_count": 19,
     "metadata": {},
     "output_type": "execute_result"
    }
   ],
   "source": [
    "street = np.asarray(x_train[input_x[1:]]).astype('float32')\n",
    "street_mini = []\n",
    "for row in street:\n",
    "    street_mini.append([[row]])\n",
    "street_mini = np.stack(street_mini)\n",
    "np.shape(street_mini)\n",
    "\n",
    "\n",
    "street_test = np.asarray(x_test[input_x[1:]]).astype('float32')\n",
    "street_mini_test = []\n",
    "for row in street_test:\n",
    "    street_mini_test.append([[row]])\n",
    "street_mini_test = np.stack(street_mini_test)\n",
    "np.shape(street_mini_test)"
   ]
  },
  {
   "cell_type": "code",
   "execution_count": 20,
   "id": "c87761aa-77b0-40d3-a924-c54c1c6e3726",
   "metadata": {
    "tags": []
   },
   "outputs": [
    {
     "name": "stdout",
     "output_type": "stream",
     "text": [
      "(2592, 1, 1, 10)\n",
      "(2592, 148, 188, 4)\n"
     ]
    }
   ],
   "source": [
    "print(street_mini.shape)\n",
    "print(images_mini.shape)"
   ]
  },
  {
   "cell_type": "code",
   "execution_count": 21,
   "id": "16b9f21e-6f7b-4abd-a7de-917d89fa085a",
   "metadata": {
    "tags": []
   },
   "outputs": [],
   "source": [
    "input_image_street = np.hstack(\n",
    "    (street_mini.reshape((2592,10)),\n",
    "     # images_mini.reshape(2592,148*188*4))\n",
    "    normalize(images_mini.reshape(2592,-1))\n",
    ")\n",
    ")"
   ]
  },
  {
   "cell_type": "code",
   "execution_count": 22,
   "id": "5628e058-80c2-4145-b762-7116c8801a96",
   "metadata": {
    "tags": []
   },
   "outputs": [
    {
     "name": "stdout",
     "output_type": "stream",
     "text": [
      "(649, 1, 1, 10)\n",
      "(649, 148, 188, 4)\n"
     ]
    }
   ],
   "source": [
    "print(street_mini_test.shape)\n",
    "print(images_mini_test.shape)"
   ]
  },
  {
   "cell_type": "code",
   "execution_count": 23,
   "id": "b2a63cdc-90cd-43e2-94f1-d819918c510b",
   "metadata": {
    "tags": []
   },
   "outputs": [],
   "source": [
    "input_image_street_test = np.hstack(\n",
    "    (street_mini_test.reshape((649,10)),\n",
    "    # images_mini_test.reshape((649,148*188*4))\n",
    "    normalize(images_mini_test.reshape(649,-1))\n",
    "    ))"
   ]
  },
  {
   "cell_type": "markdown",
   "id": "b9176acd-0672-4bd9-92c8-f67618b33321",
   "metadata": {},
   "source": [
    "## Linear Regression"
   ]
  },
  {
   "cell_type": "code",
   "execution_count": 24,
   "id": "04589b85-dbc4-4309-a243-608fb7f793e5",
   "metadata": {
    "tags": []
   },
   "outputs": [
    {
     "name": "stdout",
     "output_type": "stream",
     "text": [
      "Model: \"linear_model\"\n",
      "_________________________________________________________________\n",
      " Layer (type)                Output Shape              Param #   \n",
      "=================================================================\n",
      " input_1 (InputLayer)        [(None, 111306)]          0         \n",
      "                                                                 \n",
      " dense (Dense)               (None, 1)                 111307    \n",
      "                                                                 \n",
      "=================================================================\n",
      "Total params: 111,307\n",
      "Trainable params: 111,307\n",
      "Non-trainable params: 0\n",
      "_________________________________________________________________\n"
     ]
    },
    {
     "name": "stderr",
     "output_type": "stream",
     "text": [
      "2023-03-20 06:36:21.363538: I tensorflow/compiler/xla/stream_executor/cuda/cuda_gpu_executor.cc:981] successful NUMA node read from SysFS had negative value (-1), but there must be at least one NUMA node, so returning NUMA node zero\n",
      "2023-03-20 06:36:21.370305: I tensorflow/compiler/xla/stream_executor/cuda/cuda_gpu_executor.cc:981] successful NUMA node read from SysFS had negative value (-1), but there must be at least one NUMA node, so returning NUMA node zero\n",
      "2023-03-20 06:36:21.370642: I tensorflow/compiler/xla/stream_executor/cuda/cuda_gpu_executor.cc:981] successful NUMA node read from SysFS had negative value (-1), but there must be at least one NUMA node, so returning NUMA node zero\n",
      "2023-03-20 06:36:21.371262: I tensorflow/core/platform/cpu_feature_guard.cc:193] This TensorFlow binary is optimized with oneAPI Deep Neural Network Library (oneDNN) to use the following CPU instructions in performance-critical operations:  AVX2 FMA\n",
      "To enable them in other operations, rebuild TensorFlow with the appropriate compiler flags.\n",
      "2023-03-20 06:36:21.372086: I tensorflow/compiler/xla/stream_executor/cuda/cuda_gpu_executor.cc:981] successful NUMA node read from SysFS had negative value (-1), but there must be at least one NUMA node, so returning NUMA node zero\n",
      "2023-03-20 06:36:21.372419: I tensorflow/compiler/xla/stream_executor/cuda/cuda_gpu_executor.cc:981] successful NUMA node read from SysFS had negative value (-1), but there must be at least one NUMA node, so returning NUMA node zero\n",
      "2023-03-20 06:36:21.372757: I tensorflow/compiler/xla/stream_executor/cuda/cuda_gpu_executor.cc:981] successful NUMA node read from SysFS had negative value (-1), but there must be at least one NUMA node, so returning NUMA node zero\n",
      "2023-03-20 06:36:21.866170: I tensorflow/compiler/xla/stream_executor/cuda/cuda_gpu_executor.cc:981] successful NUMA node read from SysFS had negative value (-1), but there must be at least one NUMA node, so returning NUMA node zero\n",
      "2023-03-20 06:36:21.866431: I tensorflow/compiler/xla/stream_executor/cuda/cuda_gpu_executor.cc:981] successful NUMA node read from SysFS had negative value (-1), but there must be at least one NUMA node, so returning NUMA node zero\n",
      "2023-03-20 06:36:21.866635: I tensorflow/compiler/xla/stream_executor/cuda/cuda_gpu_executor.cc:981] successful NUMA node read from SysFS had negative value (-1), but there must be at least one NUMA node, so returning NUMA node zero\n",
      "2023-03-20 06:36:21.866809: I tensorflow/core/common_runtime/gpu/gpu_device.cc:1613] Created device /job:localhost/replica:0/task:0/device:GPU:0 with 6911 MB memory:  -> device: 0, name: Tesla M60, pci bus id: 0000:00:1e.0, compute capability: 5.2\n"
     ]
    },
    {
     "name": "stdout",
     "output_type": "stream",
     "text": [
      "Epoch 1/50\n"
     ]
    },
    {
     "name": "stderr",
     "output_type": "stream",
     "text": [
      "2023-03-20 06:36:24.315268: I tensorflow/compiler/xla/service/service.cc:173] XLA service 0x7f64dc008f20 initialized for platform CUDA (this does not guarantee that XLA will be used). Devices:\n",
      "2023-03-20 06:36:24.315318: I tensorflow/compiler/xla/service/service.cc:181]   StreamExecutor device (0): Tesla M60, Compute Capability 5.2\n",
      "2023-03-20 06:36:24.322019: I tensorflow/compiler/mlir/tensorflow/utils/dump_mlir_util.cc:268] disabling MLIR crash reproducer, set env var `MLIR_CRASH_REPRODUCER_DIRECTORY` to enable.\n",
      "2023-03-20 06:36:24.484397: I tensorflow/compiler/jit/xla_compilation_cache.cc:477] Compiled cluster using XLA!  This line is logged at most once for the lifetime of the process.\n"
     ]
    },
    {
     "name": "stdout",
     "output_type": "stream",
     "text": [
      "65/65 [==============================] - 2s 13ms/step - loss: 5.1943 - val_loss: 4.7495\n",
      "Epoch 2/50\n",
      "65/65 [==============================] - 0s 7ms/step - loss: 4.4708 - val_loss: 4.2387\n",
      "Epoch 3/50\n",
      "65/65 [==============================] - 0s 7ms/step - loss: 4.0789 - val_loss: 3.8730\n",
      "Epoch 4/50\n",
      "65/65 [==============================] - 0s 7ms/step - loss: 3.7514 - val_loss: 3.5793\n",
      "Epoch 5/50\n",
      "65/65 [==============================] - 0s 7ms/step - loss: 3.4753 - val_loss: 3.3438\n",
      "Epoch 6/50\n",
      "65/65 [==============================] - 0s 7ms/step - loss: 3.2669 - val_loss: 3.1144\n",
      "Epoch 7/50\n",
      "65/65 [==============================] - 0s 7ms/step - loss: 3.1047 - val_loss: 2.9766\n",
      "Epoch 8/50\n",
      "65/65 [==============================] - 0s 7ms/step - loss: 2.9647 - val_loss: 2.8233\n",
      "Epoch 9/50\n",
      "65/65 [==============================] - 0s 7ms/step - loss: 2.8615 - val_loss: 2.7295\n",
      "Epoch 10/50\n",
      "65/65 [==============================] - 0s 7ms/step - loss: 2.7572 - val_loss: 2.6293\n",
      "Epoch 11/50\n",
      "65/65 [==============================] - 0s 7ms/step - loss: 2.6663 - val_loss: 2.5727\n",
      "Epoch 12/50\n",
      "65/65 [==============================] - 0s 7ms/step - loss: 2.6076 - val_loss: 2.4907\n",
      "Epoch 13/50\n",
      "65/65 [==============================] - 0s 7ms/step - loss: 2.5273 - val_loss: 2.4513\n",
      "Epoch 14/50\n",
      "65/65 [==============================] - 0s 7ms/step - loss: 2.4948 - val_loss: 2.3980\n",
      "Epoch 15/50\n",
      "65/65 [==============================] - 0s 7ms/step - loss: 2.4533 - val_loss: 2.3737\n",
      "Epoch 16/50\n",
      "65/65 [==============================] - 0s 7ms/step - loss: 2.4302 - val_loss: 2.3280\n",
      "Epoch 17/50\n",
      "65/65 [==============================] - 0s 7ms/step - loss: 2.4057 - val_loss: 2.3173\n",
      "Epoch 18/50\n",
      "65/65 [==============================] - 0s 7ms/step - loss: 2.3642 - val_loss: 2.3056\n",
      "Epoch 19/50\n",
      "65/65 [==============================] - 0s 7ms/step - loss: 2.3417 - val_loss: 2.2788\n",
      "Epoch 20/50\n",
      "65/65 [==============================] - 0s 7ms/step - loss: 2.3442 - val_loss: 2.3194\n",
      "Epoch 21/50\n",
      "65/65 [==============================] - 0s 7ms/step - loss: 2.3384 - val_loss: 2.2612\n",
      "Epoch 22/50\n",
      "65/65 [==============================] - 0s 7ms/step - loss: 2.2898 - val_loss: 2.2507\n",
      "Epoch 23/50\n",
      "65/65 [==============================] - 0s 7ms/step - loss: 2.2822 - val_loss: 2.3620\n",
      "Epoch 24/50\n",
      "65/65 [==============================] - 0s 7ms/step - loss: 2.2670 - val_loss: 2.4618\n",
      "Epoch 25/50\n",
      "65/65 [==============================] - 0s 7ms/step - loss: 2.2571 - val_loss: 2.2475\n",
      "Epoch 26/50\n",
      "65/65 [==============================] - 0s 7ms/step - loss: 2.2239 - val_loss: 2.2347\n",
      "Epoch 27/50\n",
      "65/65 [==============================] - 0s 7ms/step - loss: 2.2455 - val_loss: 2.2392\n",
      "Epoch 28/50\n",
      "65/65 [==============================] - 0s 8ms/step - loss: 2.2031 - val_loss: 2.2569\n",
      "Epoch 29/50\n",
      "65/65 [==============================] - 0s 7ms/step - loss: 2.2116 - val_loss: 2.2349\n",
      "Epoch 30/50\n",
      "65/65 [==============================] - 0s 7ms/step - loss: 2.1688 - val_loss: 2.3262\n",
      "Epoch 31/50\n",
      "65/65 [==============================] - 0s 7ms/step - loss: 2.1646 - val_loss: 2.2844\n",
      "Epoch 32/50\n",
      "65/65 [==============================] - 0s 7ms/step - loss: 2.1372 - val_loss: 2.2416\n",
      "Epoch 33/50\n",
      "65/65 [==============================] - 0s 7ms/step - loss: 2.1512 - val_loss: 2.3484\n",
      "Epoch 34/50\n",
      "65/65 [==============================] - 0s 7ms/step - loss: 2.1437 - val_loss: 2.2476\n",
      "Epoch 35/50\n",
      "65/65 [==============================] - 0s 7ms/step - loss: 2.1071 - val_loss: 2.2450\n",
      "Epoch 36/50\n",
      "65/65 [==============================] - 0s 7ms/step - loss: 2.0919 - val_loss: 2.2352\n",
      "Epoch 37/50\n",
      "65/65 [==============================] - 0s 7ms/step - loss: 2.0954 - val_loss: 2.2365\n",
      "Epoch 38/50\n",
      "65/65 [==============================] - 0s 7ms/step - loss: 2.0966 - val_loss: 2.2403\n",
      "Epoch 39/50\n",
      "65/65 [==============================] - 0s 7ms/step - loss: 2.0574 - val_loss: 2.2405\n",
      "Epoch 40/50\n",
      "65/65 [==============================] - 0s 7ms/step - loss: 2.0475 - val_loss: 2.2553\n",
      "Epoch 41/50\n",
      "65/65 [==============================] - 0s 7ms/step - loss: 2.0356 - val_loss: 2.3013\n",
      "Epoch 42/50\n",
      "65/65 [==============================] - 0s 7ms/step - loss: 2.0290 - val_loss: 2.3124\n",
      "Epoch 43/50\n",
      "65/65 [==============================] - 0s 7ms/step - loss: 2.0497 - val_loss: 2.2537\n",
      "Epoch 44/50\n",
      "65/65 [==============================] - 0s 7ms/step - loss: 2.0296 - val_loss: 2.2475\n",
      "Epoch 45/50\n",
      "65/65 [==============================] - 0s 8ms/step - loss: 1.9993 - val_loss: 2.2476\n",
      "Epoch 46/50\n",
      "65/65 [==============================] - 0s 7ms/step - loss: 1.9915 - val_loss: 2.3275\n",
      "Epoch 47/50\n",
      "65/65 [==============================] - 0s 7ms/step - loss: 1.9835 - val_loss: 2.2629\n",
      "Epoch 48/50\n",
      "65/65 [==============================] - 0s 7ms/step - loss: 1.9647 - val_loss: 2.2539\n",
      "Epoch 49/50\n",
      "65/65 [==============================] - 0s 7ms/step - loss: 1.9694 - val_loss: 2.2537\n",
      "Epoch 50/50\n",
      "65/65 [==============================] - 0s 7ms/step - loss: 1.9641 - val_loss: 2.2614\n"
     ]
    }
   ],
   "source": [
    "# x: 'Collisions_Historical', 'Mid_lat','Mid_long', 'Stop_Signs', 'Paving_historical', 'Bus_stop','RTTYP_I','RTTYP_M','RTTYP_O','RTTYP_S','RTTYP_U'\n",
    "# y: 'Collisions_Future'\n",
    "\n",
    "def create_linear_model():\n",
    "    # DENSE LAYERS \n",
    "    input = tf.keras.layers.Input(shape=(111306,))\n",
    "\n",
    "    outputs = layers.Dense(1)(input)\n",
    "\n",
    "    linear_model = tf.keras.models.Model(inputs=input, outputs=outputs, name=\"linear_model\")\n",
    "\n",
    "    linear_model.summary()\n",
    "\n",
    "    linear_model.compile(\n",
    "        optimizer=tf.keras.optimizers.Adam(learning_rate=0.001),\n",
    "        loss='mean_squared_error'\n",
    "        )\n",
    "    \n",
    "    return linear_model\n",
    "\n",
    "linear_model = create_linear_model()\n",
    "\n",
    "history = linear_model.fit(\n",
    "    input_image_street,\n",
    "     np.stack(y_train['Collisions_Future'].to_numpy()),\n",
    "    epochs=50,\n",
    "    # Suppress logging.\n",
    "     verbose=1,\n",
    "    # Calculate validation results on 20% of the training data.\n",
    "    validation_split = 0.2)\n"
   ]
  },
  {
   "cell_type": "code",
   "execution_count": 25,
   "id": "aab7b35b-71ff-4966-b602-45bb0e4bc6ad",
   "metadata": {
    "tags": []
   },
   "outputs": [
    {
     "data": {
      "image/png": "[encoded data removed]",
      "text/plain": [
       "<Figure size 640x480 with 1 Axes>"
      ]
     },
     "metadata": {},
     "output_type": "display_data"
    }
   ],
   "source": [
    "plot_loss(history)"
   ]
  },
  {
   "cell_type": "code",
   "execution_count": 26,
   "id": "380a4d1d-ec2e-4546-820f-e51501791eaa",
   "metadata": {
    "tags": []
   },
   "outputs": [
    {
     "name": "stdout",
     "output_type": "stream",
     "text": [
      "21/21 [==============================] - 0s 4ms/step\n"
     ]
    }
   ],
   "source": [
    "predict_result = history.model.predict(input_image_street_test)"
   ]
  },
  {
   "cell_type": "code",
   "execution_count": 27,
   "id": "e926ad6d-5225-42bf-88d7-33f0074f5e3f",
   "metadata": {
    "tags": []
   },
   "outputs": [
    {
     "data": {
      "text/plain": [
       "(649, 1)"
      ]
     },
     "execution_count": 27,
     "metadata": {},
     "output_type": "execute_result"
    }
   ],
   "source": [
    "predict_result.shape"
   ]
  },
  {
   "cell_type": "markdown",
   "id": "99c93772-2d18-4241-a31f-7793c8b46be4",
   "metadata": {},
   "source": [
    "## Mean squared error"
   ]
  },
  {
   "cell_type": "code",
   "execution_count": 28,
   "id": "4d94890a-c92e-48df-aef5-1be5337e803e",
   "metadata": {
    "tags": []
   },
   "outputs": [
    {
     "data": {
      "text/plain": [
       "2.415391521553643"
      ]
     },
     "execution_count": 28,
     "metadata": {},
     "output_type": "execute_result"
    }
   ],
   "source": [
    "np.square(predict_result - y_test['Collisions_Future'].to_numpy().reshape((649,1))).mean()"
   ]
  },
  {
   "cell_type": "markdown",
   "id": "76293faa-4ad4-4467-adcf-75a6e9c9cfb3",
   "metadata": {
    "tags": []
   },
   "source": [
    "## LOGISTIC MODEL WITH IMAGES"
   ]
  },
  {
   "cell_type": "code",
   "execution_count": 24,
   "id": "6ef027c2-bb0f-45e7-ac0a-2fb328014abf",
   "metadata": {
    "tags": []
   },
   "outputs": [
    {
     "name": "stdout",
     "output_type": "stream",
     "text": [
      "Model: \"logistic_model\"\n",
      "_________________________________________________________________\n",
      " Layer (type)                Output Shape              Param #   \n",
      "=================================================================\n",
      " input_1 (InputLayer)        [(None, 111306)]          0         \n",
      "                                                                 \n",
      " dense (Dense)               (None, 1)                 111307    \n",
      "                                                                 \n",
      "=================================================================\n",
      "Total params: 111,307\n",
      "Trainable params: 111,307\n",
      "Non-trainable params: 0\n",
      "_________________________________________________________________\n"
     ]
    },
    {
     "name": "stderr",
     "output_type": "stream",
     "text": [
      "2023-03-20 06:39:42.051533: I tensorflow/compiler/xla/stream_executor/cuda/cuda_gpu_executor.cc:981] successful NUMA node read from SysFS had negative value (-1), but there must be at least one NUMA node, so returning NUMA node zero\n",
      "2023-03-20 06:39:42.058330: I tensorflow/compiler/xla/stream_executor/cuda/cuda_gpu_executor.cc:981] successful NUMA node read from SysFS had negative value (-1), but there must be at least one NUMA node, so returning NUMA node zero\n",
      "2023-03-20 06:39:42.058658: I tensorflow/compiler/xla/stream_executor/cuda/cuda_gpu_executor.cc:981] successful NUMA node read from SysFS had negative value (-1), but there must be at least one NUMA node, so returning NUMA node zero\n",
      "2023-03-20 06:39:42.059371: I tensorflow/core/platform/cpu_feature_guard.cc:193] This TensorFlow binary is optimized with oneAPI Deep Neural Network Library (oneDNN) to use the following CPU instructions in performance-critical operations:  AVX2 FMA\n",
      "To enable them in other operations, rebuild TensorFlow with the appropriate compiler flags.\n",
      "2023-03-20 06:39:42.060415: I tensorflow/compiler/xla/stream_executor/cuda/cuda_gpu_executor.cc:981] successful NUMA node read from SysFS had negative value (-1), but there must be at least one NUMA node, so returning NUMA node zero\n",
      "2023-03-20 06:39:42.060749: I tensorflow/compiler/xla/stream_executor/cuda/cuda_gpu_executor.cc:981] successful NUMA node read from SysFS had negative value (-1), but there must be at least one NUMA node, so returning NUMA node zero\n",
      "2023-03-20 06:39:42.061086: I tensorflow/compiler/xla/stream_executor/cuda/cuda_gpu_executor.cc:981] successful NUMA node read from SysFS had negative value (-1), but there must be at least one NUMA node, so returning NUMA node zero\n",
      "2023-03-20 06:39:42.556459: I tensorflow/compiler/xla/stream_executor/cuda/cuda_gpu_executor.cc:981] successful NUMA node read from SysFS had negative value (-1), but there must be at least one NUMA node, so returning NUMA node zero\n",
      "2023-03-20 06:39:42.556729: I tensorflow/compiler/xla/stream_executor/cuda/cuda_gpu_executor.cc:981] successful NUMA node read from SysFS had negative value (-1), but there must be at least one NUMA node, so returning NUMA node zero\n",
      "2023-03-20 06:39:42.556931: I tensorflow/compiler/xla/stream_executor/cuda/cuda_gpu_executor.cc:981] successful NUMA node read from SysFS had negative value (-1), but there must be at least one NUMA node, so returning NUMA node zero\n",
      "2023-03-20 06:39:42.557104: I tensorflow/core/common_runtime/gpu/gpu_device.cc:1613] Created device /job:localhost/replica:0/task:0/device:GPU:0 with 6911 MB memory:  -> device: 0, name: Tesla M60, pci bus id: 0000:00:1e.0, compute capability: 5.2\n"
     ]
    },
    {
     "name": "stdout",
     "output_type": "stream",
     "text": [
      "Epoch 1/50\n"
     ]
    },
    {
     "name": "stderr",
     "output_type": "stream",
     "text": [
      "2023-03-20 06:39:45.121298: I tensorflow/compiler/xla/service/service.cc:173] XLA service 0x7f172e761440 initialized for platform CUDA (this does not guarantee that XLA will be used). Devices:\n",
      "2023-03-20 06:39:45.121349: I tensorflow/compiler/xla/service/service.cc:181]   StreamExecutor device (0): Tesla M60, Compute Capability 5.2\n",
      "2023-03-20 06:39:45.126679: I tensorflow/compiler/mlir/tensorflow/utils/dump_mlir_util.cc:268] disabling MLIR crash reproducer, set env var `MLIR_CRASH_REPRODUCER_DIRECTORY` to enable.\n",
      "2023-03-20 06:39:45.289015: I tensorflow/compiler/jit/xla_compilation_cache.cc:477] Compiled cluster using XLA!  This line is logged at most once for the lifetime of the process.\n"
     ]
    },
    {
     "name": "stdout",
     "output_type": "stream",
     "text": [
      "65/65 [==============================] - 2s 12ms/step - loss: 0.6274 - accuracy: 0.6652 - val_loss: 0.5969 - val_accuracy: 0.6975\n",
      "Epoch 2/50\n",
      "65/65 [==============================] - 0s 8ms/step - loss: 0.5838 - accuracy: 0.6908 - val_loss: 0.5667 - val_accuracy: 0.7013\n",
      "Epoch 3/50\n",
      "65/65 [==============================] - 0s 8ms/step - loss: 0.5568 - accuracy: 0.7082 - val_loss: 0.5496 - val_accuracy: 0.7091\n",
      "Epoch 4/50\n",
      "65/65 [==============================] - 0s 8ms/step - loss: 0.5416 - accuracy: 0.7221 - val_loss: 0.5389 - val_accuracy: 0.7129\n",
      "Epoch 5/50\n",
      "65/65 [==============================] - 0s 7ms/step - loss: 0.5240 - accuracy: 0.7385 - val_loss: 0.5404 - val_accuracy: 0.7071\n",
      "Epoch 6/50\n",
      "65/65 [==============================] - 0s 7ms/step - loss: 0.5182 - accuracy: 0.7376 - val_loss: 0.5287 - val_accuracy: 0.7148\n",
      "Epoch 7/50\n",
      "65/65 [==============================] - 0s 8ms/step - loss: 0.5021 - accuracy: 0.7414 - val_loss: 0.5275 - val_accuracy: 0.7649\n",
      "Epoch 8/50\n",
      "65/65 [==============================] - 0s 7ms/step - loss: 0.5040 - accuracy: 0.7492 - val_loss: 0.5256 - val_accuracy: 0.7726\n",
      "Epoch 9/50\n",
      "65/65 [==============================] - 0s 8ms/step - loss: 0.4962 - accuracy: 0.7646 - val_loss: 0.5084 - val_accuracy: 0.7553\n",
      "Epoch 10/50\n",
      "65/65 [==============================] - 0s 7ms/step - loss: 0.4771 - accuracy: 0.7762 - val_loss: 0.5076 - val_accuracy: 0.7399\n",
      "Epoch 11/50\n",
      "65/65 [==============================] - 1s 8ms/step - loss: 0.4721 - accuracy: 0.7839 - val_loss: 0.5004 - val_accuracy: 0.7669\n",
      "Epoch 12/50\n",
      "65/65 [==============================] - 1s 8ms/step - loss: 0.4664 - accuracy: 0.7844 - val_loss: 0.4989 - val_accuracy: 0.7592\n",
      "Epoch 13/50\n",
      "65/65 [==============================] - 1s 8ms/step - loss: 0.4632 - accuracy: 0.7863 - val_loss: 0.5109 - val_accuracy: 0.7649\n",
      "Epoch 14/50\n",
      "65/65 [==============================] - 0s 7ms/step - loss: 0.4546 - accuracy: 0.7993 - val_loss: 0.4886 - val_accuracy: 0.7707\n",
      "Epoch 15/50\n",
      "65/65 [==============================] - 0s 7ms/step - loss: 0.4489 - accuracy: 0.7955 - val_loss: 0.4858 - val_accuracy: 0.7688\n",
      "Epoch 16/50\n",
      "65/65 [==============================] - 0s 8ms/step - loss: 0.4447 - accuracy: 0.8037 - val_loss: 0.4856 - val_accuracy: 0.7746\n",
      "Epoch 17/50\n",
      "65/65 [==============================] - 0s 7ms/step - loss: 0.4395 - accuracy: 0.8095 - val_loss: 0.4800 - val_accuracy: 0.7746\n",
      "Epoch 18/50\n",
      "65/65 [==============================] - 0s 7ms/step - loss: 0.4352 - accuracy: 0.8109 - val_loss: 0.4774 - val_accuracy: 0.7707\n",
      "Epoch 19/50\n",
      "65/65 [==============================] - 0s 8ms/step - loss: 0.4297 - accuracy: 0.8201 - val_loss: 0.4747 - val_accuracy: 0.7688\n",
      "Epoch 20/50\n",
      "65/65 [==============================] - 0s 7ms/step - loss: 0.4247 - accuracy: 0.8263 - val_loss: 0.4761 - val_accuracy: 0.7707\n",
      "Epoch 21/50\n",
      "65/65 [==============================] - 0s 7ms/step - loss: 0.4235 - accuracy: 0.8244 - val_loss: 0.4757 - val_accuracy: 0.7765\n",
      "Epoch 22/50\n",
      "65/65 [==============================] - 0s 7ms/step - loss: 0.4173 - accuracy: 0.8355 - val_loss: 0.4726 - val_accuracy: 0.7746\n",
      "Epoch 23/50\n",
      "65/65 [==============================] - 0s 8ms/step - loss: 0.4164 - accuracy: 0.8205 - val_loss: 0.4914 - val_accuracy: 0.7726\n",
      "Epoch 24/50\n",
      "65/65 [==============================] - 0s 8ms/step - loss: 0.4117 - accuracy: 0.8263 - val_loss: 0.4632 - val_accuracy: 0.7746\n",
      "Epoch 25/50\n",
      "65/65 [==============================] - 0s 7ms/step - loss: 0.4097 - accuracy: 0.8278 - val_loss: 0.4618 - val_accuracy: 0.7765\n",
      "Epoch 26/50\n",
      "65/65 [==============================] - 0s 7ms/step - loss: 0.4051 - accuracy: 0.8389 - val_loss: 0.4612 - val_accuracy: 0.7803\n",
      "Epoch 27/50\n",
      "65/65 [==============================] - 1s 8ms/step - loss: 0.4065 - accuracy: 0.8268 - val_loss: 0.4647 - val_accuracy: 0.7726\n",
      "Epoch 28/50\n",
      "65/65 [==============================] - 0s 7ms/step - loss: 0.3967 - accuracy: 0.8461 - val_loss: 0.4579 - val_accuracy: 0.7765\n",
      "Epoch 29/50\n",
      "65/65 [==============================] - 0s 7ms/step - loss: 0.3932 - accuracy: 0.8485 - val_loss: 0.4558 - val_accuracy: 0.7823\n",
      "Epoch 30/50\n",
      "65/65 [==============================] - 0s 7ms/step - loss: 0.3925 - accuracy: 0.8476 - val_loss: 0.4611 - val_accuracy: 0.7746\n",
      "Epoch 31/50\n",
      "65/65 [==============================] - 0s 7ms/step - loss: 0.3916 - accuracy: 0.8480 - val_loss: 0.4519 - val_accuracy: 0.7784\n",
      "Epoch 32/50\n",
      "65/65 [==============================] - 0s 8ms/step - loss: 0.3865 - accuracy: 0.8558 - val_loss: 0.4595 - val_accuracy: 0.7765\n",
      "Epoch 33/50\n",
      "65/65 [==============================] - 1s 8ms/step - loss: 0.3863 - accuracy: 0.8534 - val_loss: 0.4487 - val_accuracy: 0.7823\n",
      "Epoch 34/50\n",
      "65/65 [==============================] - 1s 8ms/step - loss: 0.3835 - accuracy: 0.8500 - val_loss: 0.4476 - val_accuracy: 0.7900\n",
      "Epoch 35/50\n",
      "65/65 [==============================] - 1s 8ms/step - loss: 0.3788 - accuracy: 0.8582 - val_loss: 0.4475 - val_accuracy: 0.7842\n",
      "Epoch 36/50\n",
      "65/65 [==============================] - 0s 7ms/step - loss: 0.3864 - accuracy: 0.8442 - val_loss: 0.4516 - val_accuracy: 0.7803\n",
      "Epoch 37/50\n",
      "65/65 [==============================] - 0s 7ms/step - loss: 0.3729 - accuracy: 0.8606 - val_loss: 0.4444 - val_accuracy: 0.7900\n",
      "Epoch 38/50\n",
      "65/65 [==============================] - 0s 7ms/step - loss: 0.3725 - accuracy: 0.8558 - val_loss: 0.4434 - val_accuracy: 0.7881\n",
      "Epoch 39/50\n",
      "65/65 [==============================] - 0s 7ms/step - loss: 0.3708 - accuracy: 0.8587 - val_loss: 0.4553 - val_accuracy: 0.7861\n",
      "Epoch 40/50\n",
      "65/65 [==============================] - 0s 7ms/step - loss: 0.3659 - accuracy: 0.8654 - val_loss: 0.4427 - val_accuracy: 0.7823\n",
      "Epoch 41/50\n",
      "65/65 [==============================] - 0s 8ms/step - loss: 0.3671 - accuracy: 0.8635 - val_loss: 0.4409 - val_accuracy: 0.7881\n",
      "Epoch 42/50\n",
      "65/65 [==============================] - 0s 8ms/step - loss: 0.3625 - accuracy: 0.8635 - val_loss: 0.4401 - val_accuracy: 0.7823\n",
      "Epoch 43/50\n",
      "65/65 [==============================] - 0s 7ms/step - loss: 0.3587 - accuracy: 0.8751 - val_loss: 0.4432 - val_accuracy: 0.7861\n",
      "Epoch 44/50\n",
      "65/65 [==============================] - 0s 7ms/step - loss: 0.3600 - accuracy: 0.8678 - val_loss: 0.4454 - val_accuracy: 0.7919\n",
      "Epoch 45/50\n",
      "65/65 [==============================] - 0s 7ms/step - loss: 0.3606 - accuracy: 0.8630 - val_loss: 0.4394 - val_accuracy: 0.7900\n",
      "Epoch 46/50\n",
      "65/65 [==============================] - 0s 8ms/step - loss: 0.3548 - accuracy: 0.8741 - val_loss: 0.4371 - val_accuracy: 0.7823\n",
      "Epoch 47/50\n",
      "65/65 [==============================] - 0s 8ms/step - loss: 0.3517 - accuracy: 0.8741 - val_loss: 0.4426 - val_accuracy: 0.7881\n",
      "Epoch 48/50\n",
      "65/65 [==============================] - 0s 7ms/step - loss: 0.3517 - accuracy: 0.8731 - val_loss: 0.4381 - val_accuracy: 0.7842\n",
      "Epoch 49/50\n",
      "65/65 [==============================] - 0s 7ms/step - loss: 0.3509 - accuracy: 0.8688 - val_loss: 0.4413 - val_accuracy: 0.7881\n",
      "Epoch 50/50\n",
      "65/65 [==============================] - 0s 7ms/step - loss: 0.3522 - accuracy: 0.8698 - val_loss: 0.4351 - val_accuracy: 0.7919\n"
     ]
    },
    {
     "data": {
      "image/png": "[encoded data removed]",
      "text/plain": [
       "<Figure size 640x480 with 1 Axes>"
      ]
     },
     "metadata": {},
     "output_type": "display_data"
    }
   ],
   "source": [
    "# x: 'Collisions_Historical', 'Mid_lat','Mid_long', 'Stop_Signs', 'Paving_historical', 'Bus_stop','RTTYP_I','RTTYP_M','RTTYP_O','RTTYP_S','RTTYP_U'\n",
    "# y: 'Collisions_Future'\n",
    "\n",
    "def create_logistic_model():\n",
    "    # DENSE LAYERS \n",
    "    input = tf.keras.layers.Input(shape=(111306,))\n",
    "    \n",
    "    # input = keras.layers.Flatten()(input)\n",
    "\n",
    "    outputs = keras.layers.Dense(units = 1, activation = 'sigmoid')(input)\n",
    "\n",
    "    log_model = tf.keras.models.Model(inputs=input, outputs=outputs, name=\"logistic_model\")\n",
    "\n",
    "    log_model.summary()\n",
    "\n",
    "    log_model.compile(\n",
    "        optimizer=tf.keras.optimizers.Adam(learning_rate=0.001),\n",
    "        loss=\"bce\",\n",
    "        metrics=['accuracy']\n",
    "        )\n",
    "    \n",
    "    return log_model\n",
    "\n",
    "logistic_model = create_logistic_model()\n",
    "\n",
    "# class_weight = {0: 1,\n",
    "#                 1: 100000,\n",
    "#                 2: 100000,\n",
    "#                 3: 100000,\n",
    "#                 4: 100000,\n",
    "#                 5: 100000,\n",
    "#                 6: 100000,\n",
    "#                 7: 100000,\n",
    "#                 8: 100000,\n",
    "#                 9: 100000,\n",
    "#                 10: 100000,\n",
    "#                 #11: 100000,\n",
    "#                }\n",
    "\n",
    "history = logistic_model.fit(\n",
    "    input_image_street,\n",
    "    np.stack(y_train.to_numpy()),\n",
    "     # y_train_2,\n",
    "    epochs=50,\n",
    "    # Suppress logging.\n",
    "     # verbose=1,\n",
    "    # Calculate validation results on 20% of the training data.\n",
    "    validation_split = 0.2,\n",
    "    # class_weight = class_weight\n",
    "    )\n",
    "\n",
    "plot_loss(history)"
   ]
  },
  {
   "cell_type": "code",
   "execution_count": 25,
   "id": "d59d1f10-ef4f-4c0e-8ec9-6c9e453d88c0",
   "metadata": {
    "tags": []
   },
   "outputs": [
    {
     "name": "stdout",
     "output_type": "stream",
     "text": [
      "21/21 [==============================] - 0s 4ms/step\n"
     ]
    }
   ],
   "source": [
    "predict_result = history.model.predict(input_image_street_test)"
   ]
  },
  {
   "cell_type": "code",
   "execution_count": 26,
   "id": "1f47cc81-87d8-4766-80ef-b4ef714bf219",
   "metadata": {},
   "outputs": [],
   "source": [
    "predict_result = pd.Series(predict_result.reshape(649)).apply(lambda x: 1 if x > 0.1 else 0)"
   ]
  },
  {
   "cell_type": "code",
   "execution_count": 27,
   "id": "e98e029b-2db6-433b-836f-05a83a97ddde",
   "metadata": {
    "tags": []
   },
   "outputs": [
    {
     "data": {
      "text/plain": [
       "0.8141923436041084"
      ]
     },
     "execution_count": 27,
     "metadata": {},
     "output_type": "execute_result"
    }
   ],
   "source": [
    "f1_score(y_test.to_numpy(), predict_result, labels=None, pos_label=1, average='binary', sample_weight=None, zero_division='warn')"
   ]
  },
  {
   "cell_type": "code",
   "execution_count": null,
   "id": "00caf2bd-776e-4759-9332-6f89912b59cc",
   "metadata": {},
   "outputs": [],
   "source": []
  }
 ],
 "metadata": {
  "kernelspec": {
   "display_name": "Python 3 (ipykernel)",
   "language": "python",
   "name": "python3"
  },
  "language_info": {
   "codemirror_mode": {
    "name": "ipython",
    "version": 3
   },
   "file_extension": ".py",
   "mimetype": "text/x-python",
   "name": "python",
   "nbconvert_exporter": "python",
   "pygments_lexer": "ipython3",
   "version": "3.10.7"
  }
 },
 "nbformat": 4,
 "nbformat_minor": 5
}
