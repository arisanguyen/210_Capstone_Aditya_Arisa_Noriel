{
 "cells": [
  {
   "cell_type": "code",
   "execution_count": 1,
   "id": "356025b8",
   "metadata": {
    "tags": []
   },
   "outputs": [
    {
     "name": "stderr",
     "output_type": "stream",
     "text": [
      "2023-03-20 06:25:15.243337: I tensorflow/core/platform/cpu_feature_guard.cc:193] This TensorFlow binary is optimized with oneAPI Deep Neural Network Library (oneDNN) to use the following CPU instructions in performance-critical operations:  AVX2 FMA\n",
      "To enable them in other operations, rebuild TensorFlow with the appropriate compiler flags.\n",
      "2023-03-20 06:25:16.123582: W tensorflow/compiler/xla/stream_executor/platform/default/dso_loader.cc:64] Could not load dynamic library 'libnvinfer.so.7'; dlerror: libnvinfer.so.7: cannot open shared object file: No such file or directory; LD_LIBRARY_PATH: /opt/amazon/efa/lib:/opt/amazon/openmpi/lib:/usr/local/cuda/efa/lib:/usr/local/cuda/lib:/usr/local/cuda:/usr/local/cuda/lib64:/usr/local/cuda/extras/CUPTI/lib64:/usr/local/cuda/targets/x86_64-linux/lib:/usr/local/lib:/usr/lib:/opt/amazon/efa/lib:/opt/amazon/openmpi/lib:/usr/local/cuda/efa/lib:/usr/local/cuda/lib:/usr/local/cuda:/usr/local/cuda/lib64:/usr/local/cuda/extras/CUPTI/lib64:/usr/local/cuda/targets/x86_64-linux/lib:/usr/local/lib:/usr/lib:\n",
      "2023-03-20 06:25:16.123715: W tensorflow/compiler/xla/stream_executor/platform/default/dso_loader.cc:64] Could not load dynamic library 'libnvinfer_plugin.so.7'; dlerror: libnvinfer_plugin.so.7: cannot open shared object file: No such file or directory; LD_LIBRARY_PATH: /opt/amazon/efa/lib:/opt/amazon/openmpi/lib:/usr/local/cuda/efa/lib:/usr/local/cuda/lib:/usr/local/cuda:/usr/local/cuda/lib64:/usr/local/cuda/extras/CUPTI/lib64:/usr/local/cuda/targets/x86_64-linux/lib:/usr/local/lib:/usr/lib:/opt/amazon/efa/lib:/opt/amazon/openmpi/lib:/usr/local/cuda/efa/lib:/usr/local/cuda/lib:/usr/local/cuda:/usr/local/cuda/lib64:/usr/local/cuda/extras/CUPTI/lib64:/usr/local/cuda/targets/x86_64-linux/lib:/usr/local/lib:/usr/lib:\n",
      "2023-03-20 06:25:16.123727: W tensorflow/compiler/tf2tensorrt/utils/py_utils.cc:38] TF-TRT Warning: Cannot dlopen some TensorRT libraries. If you would like to use Nvidia GPU with TensorRT, please make sure the missing libraries mentioned above are installed properly.\n"
     ]
    }
   ],
   "source": [
    "import numpy as np\n",
    "import pandas as pd\n",
    "import math\n",
    "\n",
    "import matplotlib\n",
    "import matplotlib.pyplot as plt\n",
    "\n",
    "import tensorflow as tf\n",
    "from tensorflow import keras\n",
    "from tensorflow.keras import layers\n",
    "from tensorflow.keras.layers import concatenate\n",
    "import tensorflow_addons as tfa\n",
    "from keras.layers import Flatten, Dense, Dropout\n",
    "import tifffile\n",
    "\n",
    "from sklearn.model_selection import train_test_split\n",
    "# from sklearn.preprocessing import LabelEncoder\n",
    "# from sklearn.preprocessing import OneHotEncoder\n",
    "from sklearn.preprocessing import LabelBinarizer, normalize\n",
    "from sklearn.linear_model import LogisticRegression\n",
    "from sklearn.metrics import f1_score\n",
    "import os\n",
    "\n",
    "import scipy\n",
    "from numba import cuda "
   ]
  },
  {
   "cell_type": "code",
   "execution_count": 2,
   "id": "cbe8314a-60a7-4de8-be72-620b659ef79d",
   "metadata": {
    "tags": []
   },
   "outputs": [],
   "source": [
    "# !pip install numpy tensorflow matplotlib scipy\n",
    "# # !pip install pandas\n",
    "# !pip install tifffile\n",
    "# !pip install scikit-learn\n",
    "# !pip install imagecodecs\n",
    "# !pip install tensorflow-addons\n",
    "# !pip install numba "
   ]
  },
  {
   "cell_type": "code",
   "execution_count": 3,
   "id": "bc10282d-f694-4346-b6e6-34923575c633",
   "metadata": {
    "tags": []
   },
   "outputs": [],
   "source": [
    "def reset_gpu():\n",
    "    device = cuda.get_current_device()\n",
    "    device.reset()"
   ]
  },
  {
   "cell_type": "code",
   "execution_count": 4,
   "id": "8bb10982-72ec-439c-9c1a-6c182803eb2f",
   "metadata": {
    "tags": []
   },
   "outputs": [],
   "source": [
    "def plot_loss(history):\n",
    "    plt.plot(history.history['loss'], label='loss')\n",
    "    plt.plot(history.history['val_loss'], label='val_loss')\n",
    "   # plt.plot(history.history['accuracy'], label='accuracy')\n",
    "   # plt.plot(history.history['val_accuracy'], label='val_accuracy')\n",
    "    plt.ylim([0, \n",
    "            max(\n",
    "                max(history.history['loss']),\n",
    "                max(history.history['val_loss'])\n",
    "            )])\n",
    "    plt.xlabel('Epoch')\n",
    "    plt.ylabel('Loss')\n",
    "    plt.legend()\n",
    "    plt.grid(True)"
   ]
  },
  {
   "cell_type": "code",
   "execution_count": 5,
   "id": "f3693092",
   "metadata": {
    "tags": []
   },
   "outputs": [],
   "source": [
    "tiles = pd.read_csv(r'Data/Tiles_expanded.csv')\n",
    "tiles_expanded_rv = pd.read_csv(r'Data/Tiles_expanded_road_vector.csv').drop(['Unnamed: 0'],axis=1)\n",
    "tiles_expanded_rv = pd.get_dummies(tiles_expanded_rv, columns = ['RTTYP'])"
   ]
  },
  {
   "cell_type": "code",
   "execution_count": 6,
   "id": "29e5ddd8-bf87-4021-8274-ee55f64b54a7",
   "metadata": {
    "tags": []
   },
   "outputs": [
    {
     "data": {
      "text/html": [
       "<div>\n",
       "<style scoped>\n",
       "    .dataframe tbody tr th:only-of-type {\n",
       "        vertical-align: middle;\n",
       "    }\n",
       "\n",
       "    .dataframe tbody tr th {\n",
       "        vertical-align: top;\n",
       "    }\n",
       "\n",
       "    .dataframe thead th {\n",
       "        text-align: right;\n",
       "    }\n",
       "</style>\n",
       "<table border=\"1\" class=\"dataframe\">\n",
       "  <thead>\n",
       "    <tr style=\"text-align: right;\">\n",
       "      <th></th>\n",
       "      <th>Tile_ID</th>\n",
       "      <th>Long2</th>\n",
       "      <th>Lat2</th>\n",
       "      <th>Long1</th>\n",
       "      <th>Lat1</th>\n",
       "      <th>Mid_lat</th>\n",
       "      <th>Mid_long</th>\n",
       "      <th>Stop_Signs</th>\n",
       "      <th>Paving_historical</th>\n",
       "      <th>Paving_future</th>\n",
       "      <th>Bus_stop</th>\n",
       "      <th>Collisions_Future</th>\n",
       "      <th>Collisions_Historical</th>\n",
       "      <th>RTTYP_I</th>\n",
       "      <th>RTTYP_M</th>\n",
       "      <th>RTTYP_O</th>\n",
       "      <th>RTTYP_S</th>\n",
       "      <th>RTTYP_U</th>\n",
       "    </tr>\n",
       "  </thead>\n",
       "  <tbody>\n",
       "    <tr>\n",
       "      <th>0</th>\n",
       "      <td>36</td>\n",
       "      <td>-122.514446</td>\n",
       "      <td>37.779636</td>\n",
       "      <td>-122.513306</td>\n",
       "      <td>37.778732</td>\n",
       "      <td>37.779184</td>\n",
       "      <td>-122.513876</td>\n",
       "      <td>0.0</td>\n",
       "      <td>0.0</td>\n",
       "      <td>0.0</td>\n",
       "      <td>0.0</td>\n",
       "      <td>0.0</td>\n",
       "      <td>0.0</td>\n",
       "      <td>0</td>\n",
       "      <td>1</td>\n",
       "      <td>0</td>\n",
       "      <td>0</td>\n",
       "      <td>0</td>\n",
       "    </tr>\n",
       "    <tr>\n",
       "      <th>1</th>\n",
       "      <td>37</td>\n",
       "      <td>-122.514446</td>\n",
       "      <td>37.778732</td>\n",
       "      <td>-122.513306</td>\n",
       "      <td>37.777829</td>\n",
       "      <td>37.778280</td>\n",
       "      <td>-122.513876</td>\n",
       "      <td>0.0</td>\n",
       "      <td>0.0</td>\n",
       "      <td>0.0</td>\n",
       "      <td>0.0</td>\n",
       "      <td>0.0</td>\n",
       "      <td>0.0</td>\n",
       "      <td>0</td>\n",
       "      <td>1</td>\n",
       "      <td>0</td>\n",
       "      <td>0</td>\n",
       "      <td>0</td>\n",
       "    </tr>\n",
       "    <tr>\n",
       "      <th>2</th>\n",
       "      <td>151</td>\n",
       "      <td>-122.513306</td>\n",
       "      <td>37.779636</td>\n",
       "      <td>-122.512166</td>\n",
       "      <td>37.778732</td>\n",
       "      <td>37.779184</td>\n",
       "      <td>-122.512736</td>\n",
       "      <td>0.0</td>\n",
       "      <td>0.0</td>\n",
       "      <td>0.0</td>\n",
       "      <td>0.0</td>\n",
       "      <td>0.0</td>\n",
       "      <td>0.0</td>\n",
       "      <td>0</td>\n",
       "      <td>1</td>\n",
       "      <td>0</td>\n",
       "      <td>0</td>\n",
       "      <td>0</td>\n",
       "    </tr>\n",
       "    <tr>\n",
       "      <th>3</th>\n",
       "      <td>152</td>\n",
       "      <td>-122.513306</td>\n",
       "      <td>37.778732</td>\n",
       "      <td>-122.512166</td>\n",
       "      <td>37.777829</td>\n",
       "      <td>37.778280</td>\n",
       "      <td>-122.512736</td>\n",
       "      <td>0.0</td>\n",
       "      <td>0.0</td>\n",
       "      <td>0.0</td>\n",
       "      <td>0.0</td>\n",
       "      <td>0.0</td>\n",
       "      <td>0.0</td>\n",
       "      <td>0</td>\n",
       "      <td>1</td>\n",
       "      <td>0</td>\n",
       "      <td>0</td>\n",
       "      <td>0</td>\n",
       "    </tr>\n",
       "    <tr>\n",
       "      <th>4</th>\n",
       "      <td>153</td>\n",
       "      <td>-122.513306</td>\n",
       "      <td>37.777829</td>\n",
       "      <td>-122.512166</td>\n",
       "      <td>37.776925</td>\n",
       "      <td>37.777377</td>\n",
       "      <td>-122.512736</td>\n",
       "      <td>0.0</td>\n",
       "      <td>0.0</td>\n",
       "      <td>0.0</td>\n",
       "      <td>0.0</td>\n",
       "      <td>0.0</td>\n",
       "      <td>0.0</td>\n",
       "      <td>0</td>\n",
       "      <td>1</td>\n",
       "      <td>0</td>\n",
       "      <td>0</td>\n",
       "      <td>0</td>\n",
       "    </tr>\n",
       "  </tbody>\n",
       "</table>\n",
       "</div>"
      ],
      "text/plain": [
       "   Tile_ID       Long2       Lat2       Long1       Lat1    Mid_lat  \\\n",
       "0       36 -122.514446  37.779636 -122.513306  37.778732  37.779184   \n",
       "1       37 -122.514446  37.778732 -122.513306  37.777829  37.778280   \n",
       "2      151 -122.513306  37.779636 -122.512166  37.778732  37.779184   \n",
       "3      152 -122.513306  37.778732 -122.512166  37.777829  37.778280   \n",
       "4      153 -122.513306  37.777829 -122.512166  37.776925  37.777377   \n",
       "\n",
       "     Mid_long  Stop_Signs  Paving_historical  Paving_future  Bus_stop  \\\n",
       "0 -122.513876         0.0                0.0            0.0       0.0   \n",
       "1 -122.513876         0.0                0.0            0.0       0.0   \n",
       "2 -122.512736         0.0                0.0            0.0       0.0   \n",
       "3 -122.512736         0.0                0.0            0.0       0.0   \n",
       "4 -122.512736         0.0                0.0            0.0       0.0   \n",
       "\n",
       "   Collisions_Future  Collisions_Historical  RTTYP_I  RTTYP_M  RTTYP_O  \\\n",
       "0                0.0                    0.0        0        1        0   \n",
       "1                0.0                    0.0        0        1        0   \n",
       "2                0.0                    0.0        0        1        0   \n",
       "3                0.0                    0.0        0        1        0   \n",
       "4                0.0                    0.0        0        1        0   \n",
       "\n",
       "   RTTYP_S  RTTYP_U  \n",
       "0        0        0  \n",
       "1        0        0  \n",
       "2        0        0  \n",
       "3        0        0  \n",
       "4        0        0  "
      ]
     },
     "execution_count": 6,
     "metadata": {},
     "output_type": "execute_result"
    }
   ],
   "source": [
    "tiles_expanded_rv.head()"
   ]
  },
  {
   "cell_type": "code",
   "execution_count": 7,
   "id": "d02cf6af-4d7f-4cbe-91f0-6a33a0ba3c86",
   "metadata": {
    "tags": []
   },
   "outputs": [],
   "source": [
    "tiles_expanded_rv['Collisions_Future_binary']=tiles_expanded_rv['Collisions_Future'].apply(lambda x: 1 if x > 0 else 0)\n",
    "tiles_expanded_rv['Collisions_Historical_binary']=tiles_expanded_rv['Collisions_Historical'].apply(lambda x: 1 if x > 0 else 0)"
   ]
  },
  {
   "cell_type": "markdown",
   "id": "13f22a15-184e-466c-8edd-448bd974f88d",
   "metadata": {
    "tags": []
   },
   "source": [
    "# Normalize data"
   ]
  },
  {
   "cell_type": "code",
   "execution_count": 8,
   "id": "3d2d6b89-b6a3-4465-ac2b-be220741cea8",
   "metadata": {
    "tags": []
   },
   "outputs": [],
   "source": [
    "def normalize_col(df, col_name):\n",
    "\n",
    "    norm = (df[col_name] - df[col_name].min()) / (df[col_name].max() - df[col_name].min())\n",
    "    return norm\n",
    "\n",
    "tiles_expanded_rv['Mid_lat_norm'] = normalize_col(tiles_expanded_rv,'Mid_lat')\n",
    "tiles_expanded_rv['Mid_long_norm'] = normalize_col(tiles_expanded_rv,'Mid_long')\n"
   ]
  },
  {
   "cell_type": "markdown",
   "id": "c3a6b82c",
   "metadata": {},
   "source": [
    "Split into training and test"
   ]
  },
  {
   "cell_type": "code",
   "execution_count": 9,
   "id": "0d50fdd4",
   "metadata": {
    "tags": []
   },
   "outputs": [],
   "source": [
    "MODEL_TYPE='logistic' # 'linear'\n",
    "\n",
    "if MODEL_TYPE == 'linear':\n",
    "    input_x = ['Tile_ID','Collisions_Historical', 'Mid_lat_norm','Mid_long_norm', 'Stop_Signs', 'Paving_historical', 'Bus_stop','RTTYP_I','RTTYP_M','RTTYP_O','RTTYP_S','RTTYP_U']\n",
    "    input_y = ['Collisions_Future']\n",
    "elif MODEL_TYPE == 'logistic':\n",
    "    input_x = ['Tile_ID','Collisions_Historical_binary', 'Mid_lat_norm','Mid_long_norm', 'Stop_Signs', 'Paving_historical', 'Bus_stop','RTTYP_I','RTTYP_M','RTTYP_O','RTTYP_S','RTTYP_U']\n",
    "    input_y = ['Collisions_Future_binary']\n",
    "    \n",
    "\n",
    "x_train, x_test, y_train, y_test = train_test_split(\n",
    "                                    tiles_expanded_rv[input_x], \n",
    "                                    tiles_expanded_rv[input_y],\n",
    "                                    random_state=104, \n",
    "                                    test_size=0.20, \n",
    "                                    shuffle=True)\n",
    "\n"
   ]
  },
  {
   "cell_type": "markdown",
   "id": "fffe2d02",
   "metadata": {},
   "source": [
    "Model #1: Linear regression using Historical Collisions, SFMTA Street Characteristics, and Geocoordinates"
   ]
  },
  {
   "cell_type": "markdown",
   "id": "bf220283",
   "metadata": {},
   "source": [
    "## Image Pre-Processing"
   ]
  },
  {
   "cell_type": "code",
   "execution_count": 10,
   "id": "ea514649",
   "metadata": {
    "tags": []
   },
   "outputs": [],
   "source": [
    "IMAGE_PATH = 'Satellite_Imagery/Satellite_Images_Tiled/' "
   ]
  },
  {
   "cell_type": "code",
   "execution_count": 11,
   "id": "b40c2ccb",
   "metadata": {
    "tags": []
   },
   "outputs": [],
   "source": [
    " #eda\n",
    "img = tifffile.imread('Satellite_Imagery/Satellite_Images_Tiled/36.tif')[0:148, 0:188, :]\n",
    "img2 = tifffile.imread('Satellite_Imagery/Satellite_Images_Tiled/37.tif')[0:148, 0:188, :]"
   ]
  },
  {
   "cell_type": "code",
   "execution_count": 12,
   "id": "97889d4b",
   "metadata": {
    "tags": []
   },
   "outputs": [
    {
     "name": "stdout",
     "output_type": "stream",
     "text": [
      "(148, 188, 4)\n"
     ]
    }
   ],
   "source": [
    "# eda\n",
    "print(np.shape(img2))"
   ]
  },
  {
   "cell_type": "code",
   "execution_count": 13,
   "id": "545c8609",
   "metadata": {
    "scrolled": true,
    "tags": []
   },
   "outputs": [
    {
     "name": "stdout",
     "output_type": "stream",
     "text": [
      "(2, 148, 188, 4)\n",
      "(2, 148, 188, 4)\n"
     ]
    }
   ],
   "source": [
    "# eda\n",
    "test = []\n",
    "test.append(img[0:148, 0:188, :])\n",
    "test.append(img2[0:148, 0:188, :])\n",
    "print(np.shape(test))\n",
    "test = np.stack(test)\n",
    "print(np.shape(test))"
   ]
  },
  {
   "cell_type": "code",
   "execution_count": 14,
   "id": "9298e629",
   "metadata": {
    "tags": []
   },
   "outputs": [],
   "source": [
    "def preprocess_data_part1(IMAGE_PATH):\n",
    "    \"\"\" Generate lists of images and labelsbased on temp_no_refer and temp_refer lists\n",
    "    \n",
    "    Params:\n",
    "    -------\n",
    "    IMAGE_PATH (str): path to directory with images.\n",
    "    \n",
    "    Returns:\n",
    "    --------\n",
    "    images_mini  (np.ndarray): Images of shape (N, 149 3)\n",
    "    \"\"\"\n",
    "    \n",
    "    data_mini = []\n",
    "    data_mini_test = []\n",
    "    for id in x_train['Tile_ID']:    \n",
    "                    \n",
    "        # read image and store as matrix            \n",
    "        # Index at the end makes all images the same size (they sometimes differ by 1 pixel)\n",
    "        image = tifffile.imread(IMAGE_PATH + str(id) + '.tif')[0:148, 0:188, :]\n",
    "            \n",
    "        # append to images\n",
    "        data_mini.append(image)\n",
    " \n",
    "    # stack images and trasnform to array\n",
    "    images_mini = np.stack(data_mini)\n",
    "    \n",
    "    for id in x_test['Tile_ID']:    \n",
    "                    \n",
    "        # read image and store as matrix            \n",
    "        # Index at the end makes all images the same size (they sometimes differ by 1 pixel)\n",
    "        image = tifffile.imread(IMAGE_PATH + str(id) + '.tif')[0:148, 0:188, :]\n",
    "            \n",
    "        # append to images\n",
    "        data_mini_test.append(image)\n",
    " \n",
    "    # stack images and trasnform to array\n",
    "    images_mini_test = np.stack(data_mini_test)\n",
    "    \n",
    "    return images_mini, images_mini_test"
   ]
  },
  {
   "cell_type": "code",
   "execution_count": 15,
   "id": "4d8f77ae",
   "metadata": {
    "tags": []
   },
   "outputs": [],
   "source": [
    "# THERE IS ONE FILE IN THE \"SATELLITE IMAGES TILED\" FOLDER THAT IS NOT A TIF IMAGE, DELETE THIS FILE\n",
    "images_mini, images_mini_test = preprocess_data_part1(IMAGE_PATH)"
   ]
  },
  {
   "cell_type": "code",
   "execution_count": 16,
   "id": "0ce10975",
   "metadata": {
    "tags": []
   },
   "outputs": [
    {
     "data": {
      "text/plain": [
       "(2095, 148, 188, 4)"
      ]
     },
     "execution_count": 16,
     "metadata": {},
     "output_type": "execute_result"
    }
   ],
   "source": [
    "np.shape(images_mini)\n",
    "np.shape(images_mini_test)"
   ]
  },
  {
   "cell_type": "code",
   "execution_count": 17,
   "id": "0080b62b-712f-4179-9031-60b561f59b7b",
   "metadata": {
    "tags": []
   },
   "outputs": [],
   "source": [
    "# images_mini_reshaped = images_mini.reshape((8376,1,1,111296))"
   ]
  },
  {
   "cell_type": "code",
   "execution_count": 18,
   "id": "9fce941b-4766-474c-b49e-c365de2bdb86",
   "metadata": {
    "tags": []
   },
   "outputs": [],
   "source": [
    "# images_mini_reshaped.shape\n",
    "# len(images_mini_reshaped[0][0][0])"
   ]
  },
  {
   "cell_type": "markdown",
   "id": "57135842",
   "metadata": {},
   "source": [
    "Street Data Pre-Processing"
   ]
  },
  {
   "cell_type": "code",
   "execution_count": 19,
   "id": "8dce0686",
   "metadata": {
    "tags": []
   },
   "outputs": [
    {
     "data": {
      "text/plain": [
       "(2095, 1, 1, 11)"
      ]
     },
     "execution_count": 19,
     "metadata": {},
     "output_type": "execute_result"
    }
   ],
   "source": [
    "street = np.asarray(x_train[input_x[1:]]).astype('float32')\n",
    "street_mini = []\n",
    "for row in street:\n",
    "    street_mini.append([[row]])\n",
    "street_mini = np.stack(street_mini)\n",
    "np.shape(street_mini)\n",
    "\n",
    "\n",
    "street_test = np.asarray(x_test[input_x[1:]]).astype('float32')\n",
    "street_mini_test = []\n",
    "for row in street_test:\n",
    "    street_mini_test.append([[row]])\n",
    "street_mini_test = np.stack(street_mini_test)\n",
    "np.shape(street_mini_test)"
   ]
  },
  {
   "cell_type": "code",
   "execution_count": 20,
   "id": "c87761aa-77b0-40d3-a924-c54c1c6e3726",
   "metadata": {
    "tags": []
   },
   "outputs": [
    {
     "data": {
      "text/plain": [
       "(2095, 148, 188, 4)"
      ]
     },
     "execution_count": 20,
     "metadata": {},
     "output_type": "execute_result"
    }
   ],
   "source": [
    "x_test.shape\n",
    "images_mini_test.shape"
   ]
  },
  {
   "cell_type": "code",
   "execution_count": 21,
   "id": "0471938a-b6af-4f96-9772-067a0cb3db83",
   "metadata": {
    "tags": []
   },
   "outputs": [],
   "source": [
    "\n",
    "for img in images_mini:\n",
    "    normalize(images_mini.reshape(8376,1,-1)[0])"
   ]
  },
  {
   "cell_type": "code",
   "execution_count": 22,
   "id": "16b9f21e-6f7b-4abd-a7de-917d89fa085a",
   "metadata": {
    "tags": []
   },
   "outputs": [],
   "source": [
    "input_image_street = np.hstack(\n",
    "    (street_mini.reshape((8376,11)),\n",
    "     # images_mini.reshape(8376,111296)\n",
    "     normalize(images_mini.reshape(8376,-1))\n",
    "    )\n",
    ")"
   ]
  },
  {
   "cell_type": "code",
   "execution_count": 23,
   "id": "b2a63cdc-90cd-43e2-94f1-d819918c510b",
   "metadata": {
    "tags": []
   },
   "outputs": [],
   "source": [
    "input_image_street_test = np.hstack(\n",
    "    (street_mini_test.reshape((2095,11)),\n",
    "    # images_mini_test.reshape((2095,148*188*4)\n",
    "    normalize(images_mini_test.reshape(2095,-1))\n",
    "    )\n",
    "    )"
   ]
  },
  {
   "cell_type": "markdown",
   "id": "b9176acd-0672-4bd9-92c8-f67618b33321",
   "metadata": {},
   "source": [
    "## Linear Regression"
   ]
  },
  {
   "cell_type": "code",
   "execution_count": 24,
   "id": "04589b85-dbc4-4309-a243-608fb7f793e5",
   "metadata": {
    "tags": []
   },
   "outputs": [
    {
     "name": "stdout",
     "output_type": "stream",
     "text": [
      "Model: \"linear_model\"\n",
      "_________________________________________________________________\n",
      " Layer (type)                Output Shape              Param #   \n",
      "=================================================================\n",
      " input_1 (InputLayer)        [(None, 111307)]          0         \n",
      "                                                                 \n",
      " dense (Dense)               (None, 1)                 111308    \n",
      "                                                                 \n",
      "=================================================================\n",
      "Total params: 111,308\n",
      "Trainable params: 111,308\n",
      "Non-trainable params: 0\n",
      "_________________________________________________________________\n"
     ]
    },
    {
     "name": "stderr",
     "output_type": "stream",
     "text": [
      "2023-03-20 06:22:16.301852: I tensorflow/compiler/xla/stream_executor/cuda/cuda_gpu_executor.cc:981] successful NUMA node read from SysFS had negative value (-1), but there must be at least one NUMA node, so returning NUMA node zero\n",
      "2023-03-20 06:22:16.308740: I tensorflow/compiler/xla/stream_executor/cuda/cuda_gpu_executor.cc:981] successful NUMA node read from SysFS had negative value (-1), but there must be at least one NUMA node, so returning NUMA node zero\n",
      "2023-03-20 06:22:16.309083: I tensorflow/compiler/xla/stream_executor/cuda/cuda_gpu_executor.cc:981] successful NUMA node read from SysFS had negative value (-1), but there must be at least one NUMA node, so returning NUMA node zero\n",
      "2023-03-20 06:22:16.309744: I tensorflow/core/platform/cpu_feature_guard.cc:193] This TensorFlow binary is optimized with oneAPI Deep Neural Network Library (oneDNN) to use the following CPU instructions in performance-critical operations:  AVX2 FMA\n",
      "To enable them in other operations, rebuild TensorFlow with the appropriate compiler flags.\n",
      "2023-03-20 06:22:16.310683: I tensorflow/compiler/xla/stream_executor/cuda/cuda_gpu_executor.cc:981] successful NUMA node read from SysFS had negative value (-1), but there must be at least one NUMA node, so returning NUMA node zero\n",
      "2023-03-20 06:22:16.311023: I tensorflow/compiler/xla/stream_executor/cuda/cuda_gpu_executor.cc:981] successful NUMA node read from SysFS had negative value (-1), but there must be at least one NUMA node, so returning NUMA node zero\n",
      "2023-03-20 06:22:16.311351: I tensorflow/compiler/xla/stream_executor/cuda/cuda_gpu_executor.cc:981] successful NUMA node read from SysFS had negative value (-1), but there must be at least one NUMA node, so returning NUMA node zero\n",
      "2023-03-20 06:22:16.814396: I tensorflow/compiler/xla/stream_executor/cuda/cuda_gpu_executor.cc:981] successful NUMA node read from SysFS had negative value (-1), but there must be at least one NUMA node, so returning NUMA node zero\n",
      "2023-03-20 06:22:16.814660: I tensorflow/compiler/xla/stream_executor/cuda/cuda_gpu_executor.cc:981] successful NUMA node read from SysFS had negative value (-1), but there must be at least one NUMA node, so returning NUMA node zero\n",
      "2023-03-20 06:22:16.814872: I tensorflow/compiler/xla/stream_executor/cuda/cuda_gpu_executor.cc:981] successful NUMA node read from SysFS had negative value (-1), but there must be at least one NUMA node, so returning NUMA node zero\n",
      "2023-03-20 06:22:16.815043: I tensorflow/core/common_runtime/gpu/gpu_device.cc:1613] Created device /job:localhost/replica:0/task:0/device:GPU:0 with 6911 MB memory:  -> device: 0, name: Tesla M60, pci bus id: 0000:00:1e.0, compute capability: 5.2\n"
     ]
    },
    {
     "name": "stdout",
     "output_type": "stream",
     "text": [
      "Epoch 1/25\n"
     ]
    },
    {
     "name": "stderr",
     "output_type": "stream",
     "text": [
      "2023-03-20 06:22:22.804365: I tensorflow/compiler/xla/service/service.cc:173] XLA service 0x7fd38e4deb50 initialized for platform CUDA (this does not guarantee that XLA will be used). Devices:\n",
      "2023-03-20 06:22:22.804409: I tensorflow/compiler/xla/service/service.cc:181]   StreamExecutor device (0): Tesla M60, Compute Capability 5.2\n",
      "2023-03-20 06:22:22.809776: I tensorflow/compiler/mlir/tensorflow/utils/dump_mlir_util.cc:268] disabling MLIR crash reproducer, set env var `MLIR_CRASH_REPRODUCER_DIRECTORY` to enable.\n",
      "2023-03-20 06:22:22.969277: I tensorflow/compiler/jit/xla_compilation_cache.cc:477] Compiled cluster using XLA!  This line is logged at most once for the lifetime of the process.\n"
     ]
    },
    {
     "name": "stdout",
     "output_type": "stream",
     "text": [
      "210/210 [==============================] - 3s 9ms/step - loss: 1.9381 - val_loss: 1.6368\n",
      "Epoch 2/25\n",
      "210/210 [==============================] - 1s 7ms/step - loss: 1.5575 - val_loss: 1.3739\n",
      "Epoch 3/25\n",
      "210/210 [==============================] - 1s 7ms/step - loss: 1.3245 - val_loss: 1.2049\n",
      "Epoch 4/25\n",
      "210/210 [==============================] - 1s 7ms/step - loss: 1.1687 - val_loss: 1.1314\n",
      "Epoch 5/25\n",
      "210/210 [==============================] - 1s 7ms/step - loss: 1.0962 - val_loss: 1.0331\n",
      "Epoch 6/25\n",
      "210/210 [==============================] - 1s 7ms/step - loss: 1.0452 - val_loss: 1.0520\n",
      "Epoch 7/25\n",
      "210/210 [==============================] - 1s 7ms/step - loss: 1.0058 - val_loss: 0.9506\n",
      "Epoch 8/25\n",
      "210/210 [==============================] - 1s 7ms/step - loss: 0.9801 - val_loss: 0.9412\n",
      "Epoch 9/25\n",
      "210/210 [==============================] - 1s 7ms/step - loss: 0.9747 - val_loss: 0.9355\n",
      "Epoch 10/25\n",
      "210/210 [==============================] - 1s 7ms/step - loss: 0.9779 - val_loss: 0.9543\n",
      "Epoch 11/25\n",
      "210/210 [==============================] - 1s 7ms/step - loss: 0.9517 - val_loss: 0.9079\n",
      "Epoch 12/25\n",
      "210/210 [==============================] - 1s 7ms/step - loss: 0.9396 - val_loss: 0.9621\n",
      "Epoch 13/25\n",
      "210/210 [==============================] - 1s 7ms/step - loss: 0.9347 - val_loss: 0.9281\n",
      "Epoch 14/25\n",
      "210/210 [==============================] - 1s 7ms/step - loss: 0.9348 - val_loss: 0.9048\n",
      "Epoch 15/25\n",
      "210/210 [==============================] - 1s 7ms/step - loss: 0.9232 - val_loss: 0.9224\n",
      "Epoch 16/25\n",
      "210/210 [==============================] - 1s 7ms/step - loss: 0.9207 - val_loss: 0.9230\n",
      "Epoch 17/25\n",
      "210/210 [==============================] - 1s 7ms/step - loss: 0.9185 - val_loss: 0.9166\n",
      "Epoch 18/25\n",
      "210/210 [==============================] - 1s 7ms/step - loss: 0.9107 - val_loss: 0.9285\n",
      "Epoch 19/25\n",
      "210/210 [==============================] - 1s 7ms/step - loss: 0.9006 - val_loss: 0.9074\n",
      "Epoch 20/25\n",
      "210/210 [==============================] - 1s 7ms/step - loss: 0.8946 - val_loss: 0.9500\n",
      "Epoch 21/25\n",
      "210/210 [==============================] - 1s 7ms/step - loss: 0.8874 - val_loss: 0.9084\n",
      "Epoch 22/25\n",
      "210/210 [==============================] - 1s 7ms/step - loss: 0.8773 - val_loss: 0.9098\n",
      "Epoch 23/25\n",
      "210/210 [==============================] - 1s 7ms/step - loss: 0.8818 - val_loss: 1.0397\n",
      "Epoch 24/25\n",
      "210/210 [==============================] - 1s 7ms/step - loss: 0.8783 - val_loss: 0.9127\n",
      "Epoch 25/25\n",
      "210/210 [==============================] - 1s 7ms/step - loss: 0.8750 - val_loss: 0.9162\n"
     ]
    }
   ],
   "source": [
    "# x: 'Collisions_Historical', 'Mid_lat','Mid_long', 'Stop_Signs', 'Paving_historical', 'Bus_stop','RTTYP_I','RTTYP_M','RTTYP_O','RTTYP_S','RTTYP_U'\n",
    "# y: 'Collisions_Future'\n",
    "\n",
    "def create_linear_model():\n",
    "    # DENSE LAYERS \n",
    "    input = tf.keras.layers.Input(shape=(111307,)) # (111307,))\n",
    "\n",
    "    outputs = layers.Dense(1)(input)\n",
    "\n",
    "    linear_model = tf.keras.models.Model(inputs=input, outputs=outputs, name=\"linear_model\")\n",
    "\n",
    "    linear_model.summary()\n",
    "\n",
    "    linear_model.compile(\n",
    "        optimizer=tf.keras.optimizers.Adam(learning_rate=0.001),\n",
    "        loss='mean_squared_error'\n",
    "        )\n",
    "    \n",
    "    return linear_model\n",
    "\n",
    "linear_model = create_linear_model()\n",
    "\n",
    "history = linear_model.fit(\n",
    "    input_image_street,\n",
    "     np.stack(y_train['Collisions_Future'].to_numpy()),\n",
    "    epochs=25,\n",
    "    # Suppress logging.\n",
    "     verbose=1,\n",
    "    # Calculate validation results on 20% of the training data.\n",
    "    validation_split = 0.2)\n"
   ]
  },
  {
   "cell_type": "code",
   "execution_count": 25,
   "id": "aab7b35b-71ff-4966-b602-45bb0e4bc6ad",
   "metadata": {
    "tags": []
   },
   "outputs": [
    {
     "data": {
      "image/png": "[encoded data removed]",
      "text/plain": [
       "<Figure size 640x480 with 1 Axes>"
      ]
     },
     "metadata": {},
     "output_type": "display_data"
    }
   ],
   "source": [
    "plot_loss(history)"
   ]
  },
  {
   "cell_type": "code",
   "execution_count": 26,
   "id": "380a4d1d-ec2e-4546-820f-e51501791eaa",
   "metadata": {
    "tags": []
   },
   "outputs": [
    {
     "name": "stdout",
     "output_type": "stream",
     "text": [
      "66/66 [==============================] - 0s 5ms/step\n"
     ]
    }
   ],
   "source": [
    "predict_result = history.model.predict(input_image_street_test)"
   ]
  },
  {
   "cell_type": "markdown",
   "id": "99c93772-2d18-4241-a31f-7793c8b46be4",
   "metadata": {},
   "source": [
    "## Mean squared error"
   ]
  },
  {
   "cell_type": "code",
   "execution_count": 27,
   "id": "4d94890a-c92e-48df-aef5-1be5337e803e",
   "metadata": {
    "tags": []
   },
   "outputs": [
    {
     "data": {
      "text/plain": [
       "1.0166102685921121"
      ]
     },
     "execution_count": 27,
     "metadata": {},
     "output_type": "execute_result"
    }
   ],
   "source": [
    "np.square(predict_result - y_test['Collisions_Future'].to_numpy().reshape((2095,1))).mean()"
   ]
  },
  {
   "cell_type": "code",
   "execution_count": null,
   "id": "d558deae-52ab-45fd-a85b-0f0d01bbb501",
   "metadata": {
    "tags": []
   },
   "outputs": [],
   "source": []
  },
  {
   "cell_type": "markdown",
   "id": "76293faa-4ad4-4467-adcf-75a6e9c9cfb3",
   "metadata": {
    "tags": []
   },
   "source": [
    "## LOGISTIC MODEL WITH IMAGES"
   ]
  },
  {
   "cell_type": "code",
   "execution_count": null,
   "id": "77720819-1254-4495-a662-aec9445e4fcd",
   "metadata": {
    "tags": []
   },
   "outputs": [],
   "source": [
    "# def log_loss(y_pred, y):\n",
    "#   # Compute the log loss function\n",
    "#   ce = tf.nn.sigmoid_cross_entropy_with_logits(labels=y, logits=y_pred)\n",
    "#   return tf.reduce_mean(ce)\n",
    "\n",
    "# class LogisticRegression(tf.Module):\n",
    "\n",
    "#   def __init__(self):\n",
    "#     self.built = False\n",
    "\n",
    "#   def __call__(self, x, train=True):\n",
    "#     # Initialize the model parameters on the first call\n",
    "#     if not self.built:\n",
    "#       # Randomly generate the weights and the bias term\n",
    "#       rand_w = tf.random.uniform(shape=[x.shape[-1], 1], seed=22)\n",
    "#       rand_b = tf.random.uniform(shape=[], seed=22)\n",
    "#       self.w = tf.Variable(rand_w)\n",
    "#       self.b = tf.Variable(rand_b)\n",
    "#       self.built = True\n",
    "#     # Compute the model output\n",
    "#     z = tf.add(tf.matmul(x, self.w), self.b)\n",
    "#     z = tf.squeeze(z, axis=1)\n",
    "#     if train:\n",
    "#       return z\n",
    "#     return tf.sigmoid(z)\n",
    "\n",
    "# log_reg = LogisticRegression()\n",
    "\n",
    "# def predict_class(y_pred, thresh=0.5):\n",
    "#   # Return a tensor with  `1` if `y_pred` > `0.5`, and `0` otherwise\n",
    "#   return tf.cast(y_pred > thresh, tf.float32)\n",
    "\n",
    "# def accuracy(y_pred, y):\n",
    "#   # Return the proportion of matches between `y_pred` and `y`\n",
    "#   y_pred = tf.math.sigmoid(y_pred)\n",
    "#   y_pred_class = predict_class(y_pred)\n",
    "#   check_equal = tf.cast(y_pred_class == y,tf.float32)\n",
    "#   acc_val = tf.reduce_mean(check_equal)\n",
    "#   return acc_val"
   ]
  },
  {
   "cell_type": "code",
   "execution_count": null,
   "id": "2e09bb67-ac68-494f-a221-9f1d0b784100",
   "metadata": {},
   "outputs": [],
   "source": [
    "# y_pred = log_reg(input_image_street[0:5], train=False)\n",
    "# y_pred.numpy()\n",
    "# # input_image_street.shape[0]"
   ]
  },
  {
   "cell_type": "code",
   "execution_count": null,
   "id": "53774f86-e884-40e7-a4c6-59eabad1eb33",
   "metadata": {
    "tags": []
   },
   "outputs": [],
   "source": [
    "# # Our vectorized labels\n",
    "# y_train = np.asarray(y_train).astype('float32').reshape((-1,1))\n",
    "# # y_test = np.asarray(test_labels).astype('float32').reshape((-1,1))\n",
    "# batch_size = 2 #  64\n",
    "# train_dataset = tf.data.Dataset.from_tensor_slices((input_image_street, y_train))\n",
    "# train_dataset = train_dataset.shuffle(buffer_size=input_image_street.shape[0]).batch(batch_size)\n",
    "# # test_dataset = tf.data.Dataset.from_tensor_slices((input_image_street, y_test))\n",
    "# # test_dataset = test_dataset.shuffle(buffer_size=x_test.shape[0]).batch(batch_size)"
   ]
  },
  {
   "cell_type": "code",
   "execution_count": null,
   "id": "b33bdbd9-903e-4451-b3ec-077006b455a8",
   "metadata": {},
   "outputs": [],
   "source": [
    "# y_train.shape"
   ]
  },
  {
   "cell_type": "code",
   "execution_count": null,
   "id": "df9a02d3-2f19-4d49-af7f-0cbea330465b",
   "metadata": {
    "tags": []
   },
   "outputs": [],
   "source": [
    "# # Set training parameters\n",
    "# epochs = 3 # 200\n",
    "# learning_rate = 0.01\n",
    "# train_losses, test_losses = [], []\n",
    "# train_accs, test_accs = [], []\n",
    "\n",
    "# # Set up the training loop and begin training\n",
    "# for epoch in range(epochs):\n",
    "#   batch_losses_train, batch_accs_train = [], []\n",
    "#   batch_losses_test, batch_accs_test = [], []\n",
    "\n",
    "#   # Iterate over the training data\n",
    "#   for x_batch, y_batch in train_dataset:\n",
    "#     with tf.GradientTape() as tape:\n",
    "#       y_pred_batch = log_reg(x_batch)\n",
    "#       # print(f'y_pred_batch: {y_pred_batch.numpy().reshape((2,1)).shape}')\n",
    "#       print(f'y_batch: {y_batch.shape}')\n",
    "#       y_pred_batch = y_pred_batch.numpy().reshape((2,1))\n",
    "#       batch_loss = log_loss(y_pred_batch, y_batch)\n",
    "#     batch_acc = accuracy(y_pred_batch, y_batch)\n",
    "#     # Update the parameters with respect to the gradient calculations\n",
    "#     grads = tape.gradient(batch_loss, log_reg.variables)\n",
    "#     for g,v in zip(grads, log_reg.variables):\n",
    "#       print(g,v)  \n",
    "#       v.assign_sub(learning_rate * g)\n",
    "#     # Keep track of batch-level training performance\n",
    "#     batch_losses_train.append(batch_loss)\n",
    "#     batch_accs_train.append(batch_acc)\n",
    "\n",
    "#   # Iterate over the testing data\n",
    "#   for x_batch, y_batch in test_dataset:\n",
    "#     y_pred_batch = log_reg(x_batch)\n",
    "#     batch_loss = log_loss(y_pred_batch, y_batch)\n",
    "#     batch_acc = accuracy(y_pred_batch, y_batch)\n",
    "#     # Keep track of batch-level testing performance\n",
    "#     batch_losses_test.append(batch_loss)\n",
    "#     batch_accs_test.append(batch_acc)\n",
    "\n",
    "#   # Keep track of epoch-level model performance\n",
    "#   train_loss, train_acc = tf.reduce_mean(batch_losses_train), tf.reduce_mean(batch_accs_train)\n",
    "#   test_loss, test_acc = tf.reduce_mean(batch_losses_test), tf.reduce_mean(batch_accs_test)\n",
    "#   train_losses.append(train_loss)\n",
    "#   train_accs.append(train_acc)\n",
    "#   test_losses.append(test_loss)\n",
    "#   test_accs.append(test_acc)\n",
    "#   if epoch % 20 == 0:\n",
    "#     print(f\"Epoch: {epoch}, Training log loss: {train_loss:.3f}\")"
   ]
  },
  {
   "cell_type": "code",
   "execution_count": null,
   "id": "bc0d5ace-613d-4a4f-9d7b-f7cc8bedf507",
   "metadata": {},
   "outputs": [],
   "source": [
    "# clf = LogisticRegression(random_state=0,max_iter=1000).fit(input_image_street, np.ravel(y_train))"
   ]
  },
  {
   "cell_type": "code",
   "execution_count": 24,
   "id": "6ef027c2-bb0f-45e7-ac0a-2fb328014abf",
   "metadata": {
    "tags": []
   },
   "outputs": [
    {
     "name": "stderr",
     "output_type": "stream",
     "text": [
      "2023-03-20 06:26:47.421488: I tensorflow/compiler/xla/stream_executor/cuda/cuda_gpu_executor.cc:981] successful NUMA node read from SysFS had negative value (-1), but there must be at least one NUMA node, so returning NUMA node zero\n"
     ]
    },
    {
     "name": "stdout",
     "output_type": "stream",
     "text": [
      "Model: \"logistic_model\"\n",
      "_________________________________________________________________\n",
      " Layer (type)                Output Shape              Param #   \n",
      "=================================================================\n",
      " input_1 (InputLayer)        [(None, 111307)]          0         \n",
      "                                                                 \n",
      " dense (Dense)               (None, 1)                 111308    \n",
      "                                                                 \n",
      "=================================================================\n",
      "Total params: 111,308\n",
      "Trainable params: 111,308\n",
      "Non-trainable params: 0\n",
      "_________________________________________________________________\n"
     ]
    },
    {
     "name": "stderr",
     "output_type": "stream",
     "text": [
      "2023-03-20 06:26:47.428284: I tensorflow/compiler/xla/stream_executor/cuda/cuda_gpu_executor.cc:981] successful NUMA node read from SysFS had negative value (-1), but there must be at least one NUMA node, so returning NUMA node zero\n",
      "2023-03-20 06:26:47.428618: I tensorflow/compiler/xla/stream_executor/cuda/cuda_gpu_executor.cc:981] successful NUMA node read from SysFS had negative value (-1), but there must be at least one NUMA node, so returning NUMA node zero\n",
      "2023-03-20 06:26:47.429525: I tensorflow/core/platform/cpu_feature_guard.cc:193] This TensorFlow binary is optimized with oneAPI Deep Neural Network Library (oneDNN) to use the following CPU instructions in performance-critical operations:  AVX2 FMA\n",
      "To enable them in other operations, rebuild TensorFlow with the appropriate compiler flags.\n",
      "2023-03-20 06:26:47.430565: I tensorflow/compiler/xla/stream_executor/cuda/cuda_gpu_executor.cc:981] successful NUMA node read from SysFS had negative value (-1), but there must be at least one NUMA node, so returning NUMA node zero\n",
      "2023-03-20 06:26:47.430900: I tensorflow/compiler/xla/stream_executor/cuda/cuda_gpu_executor.cc:981] successful NUMA node read from SysFS had negative value (-1), but there must be at least one NUMA node, so returning NUMA node zero\n",
      "2023-03-20 06:26:47.431228: I tensorflow/compiler/xla/stream_executor/cuda/cuda_gpu_executor.cc:981] successful NUMA node read from SysFS had negative value (-1), but there must be at least one NUMA node, so returning NUMA node zero\n",
      "2023-03-20 06:26:47.921915: I tensorflow/compiler/xla/stream_executor/cuda/cuda_gpu_executor.cc:981] successful NUMA node read from SysFS had negative value (-1), but there must be at least one NUMA node, so returning NUMA node zero\n",
      "2023-03-20 06:26:47.922171: I tensorflow/compiler/xla/stream_executor/cuda/cuda_gpu_executor.cc:981] successful NUMA node read from SysFS had negative value (-1), but there must be at least one NUMA node, so returning NUMA node zero\n",
      "2023-03-20 06:26:47.922372: I tensorflow/compiler/xla/stream_executor/cuda/cuda_gpu_executor.cc:981] successful NUMA node read from SysFS had negative value (-1), but there must be at least one NUMA node, so returning NUMA node zero\n",
      "2023-03-20 06:26:47.922531: I tensorflow/core/common_runtime/gpu/gpu_device.cc:1613] Created device /job:localhost/replica:0/task:0/device:GPU:0 with 6911 MB memory:  -> device: 0, name: Tesla M60, pci bus id: 0000:00:1e.0, compute capability: 5.2\n"
     ]
    },
    {
     "name": "stdout",
     "output_type": "stream",
     "text": [
      "Epoch 1/50\n"
     ]
    },
    {
     "name": "stderr",
     "output_type": "stream",
     "text": [
      "2023-03-20 06:26:53.942864: I tensorflow/compiler/xla/service/service.cc:173] XLA service 0x7f940a27e190 initialized for platform CUDA (this does not guarantee that XLA will be used). Devices:\n",
      "2023-03-20 06:26:53.942910: I tensorflow/compiler/xla/service/service.cc:181]   StreamExecutor device (0): Tesla M60, Compute Capability 5.2\n",
      "2023-03-20 06:26:53.949333: I tensorflow/compiler/mlir/tensorflow/utils/dump_mlir_util.cc:268] disabling MLIR crash reproducer, set env var `MLIR_CRASH_REPRODUCER_DIRECTORY` to enable.\n",
      "2023-03-20 06:26:54.110185: I tensorflow/compiler/jit/xla_compilation_cache.cc:477] Compiled cluster using XLA!  This line is logged at most once for the lifetime of the process.\n"
     ]
    },
    {
     "name": "stdout",
     "output_type": "stream",
     "text": [
      "210/210 [==============================] - 3s 9ms/step - loss: 0.4863 - accuracy: 0.7893 - val_loss: 0.4613 - val_accuracy: 0.8073\n",
      "Epoch 2/50\n",
      "210/210 [==============================] - 2s 7ms/step - loss: 0.4453 - accuracy: 0.7942 - val_loss: 0.4291 - val_accuracy: 0.8138\n",
      "Epoch 3/50\n",
      "210/210 [==============================] - 1s 7ms/step - loss: 0.4257 - accuracy: 0.8024 - val_loss: 0.4114 - val_accuracy: 0.8138\n",
      "Epoch 4/50\n",
      "210/210 [==============================] - 1s 7ms/step - loss: 0.4119 - accuracy: 0.8067 - val_loss: 0.4030 - val_accuracy: 0.8168\n",
      "Epoch 5/50\n",
      "210/210 [==============================] - 2s 7ms/step - loss: 0.3991 - accuracy: 0.8170 - val_loss: 0.3981 - val_accuracy: 0.8228\n",
      "Epoch 6/50\n",
      "210/210 [==============================] - 2s 7ms/step - loss: 0.3889 - accuracy: 0.8212 - val_loss: 0.3905 - val_accuracy: 0.8252\n",
      "Epoch 7/50\n",
      "210/210 [==============================] - 1s 7ms/step - loss: 0.3786 - accuracy: 0.8249 - val_loss: 0.3859 - val_accuracy: 0.8246\n",
      "Epoch 8/50\n",
      "210/210 [==============================] - 2s 7ms/step - loss: 0.3731 - accuracy: 0.8300 - val_loss: 0.3861 - val_accuracy: 0.8335\n",
      "Epoch 9/50\n",
      "210/210 [==============================] - 1s 7ms/step - loss: 0.3660 - accuracy: 0.8334 - val_loss: 0.3792 - val_accuracy: 0.8383\n",
      "Epoch 10/50\n",
      "210/210 [==============================] - 1s 7ms/step - loss: 0.3658 - accuracy: 0.8372 - val_loss: 0.3763 - val_accuracy: 0.8389\n",
      "Epoch 11/50\n",
      "210/210 [==============================] - 2s 7ms/step - loss: 0.3571 - accuracy: 0.8382 - val_loss: 0.3740 - val_accuracy: 0.8389\n",
      "Epoch 12/50\n",
      "210/210 [==============================] - 1s 7ms/step - loss: 0.3536 - accuracy: 0.8445 - val_loss: 0.3713 - val_accuracy: 0.8419\n",
      "Epoch 13/50\n",
      "210/210 [==============================] - 1s 7ms/step - loss: 0.3485 - accuracy: 0.8484 - val_loss: 0.3690 - val_accuracy: 0.8419\n",
      "Epoch 14/50\n",
      "210/210 [==============================] - 1s 7ms/step - loss: 0.3461 - accuracy: 0.8496 - val_loss: 0.3676 - val_accuracy: 0.8419\n",
      "Epoch 15/50\n",
      "210/210 [==============================] - 1s 7ms/step - loss: 0.3437 - accuracy: 0.8540 - val_loss: 0.3710 - val_accuracy: 0.8341\n",
      "Epoch 16/50\n",
      "210/210 [==============================] - 1s 7ms/step - loss: 0.3404 - accuracy: 0.8543 - val_loss: 0.3653 - val_accuracy: 0.8455\n",
      "Epoch 17/50\n",
      "210/210 [==============================] - 2s 7ms/step - loss: 0.3386 - accuracy: 0.8581 - val_loss: 0.3668 - val_accuracy: 0.8395\n",
      "Epoch 18/50\n",
      "210/210 [==============================] - 1s 7ms/step - loss: 0.3362 - accuracy: 0.8561 - val_loss: 0.3683 - val_accuracy: 0.8353\n",
      "Epoch 19/50\n",
      "210/210 [==============================] - 2s 7ms/step - loss: 0.3345 - accuracy: 0.8637 - val_loss: 0.3633 - val_accuracy: 0.8467\n",
      "Epoch 20/50\n",
      "210/210 [==============================] - 2s 7ms/step - loss: 0.3305 - accuracy: 0.8630 - val_loss: 0.3637 - val_accuracy: 0.8431\n",
      "Epoch 21/50\n",
      "210/210 [==============================] - 2s 7ms/step - loss: 0.3295 - accuracy: 0.8648 - val_loss: 0.3630 - val_accuracy: 0.8461\n",
      "Epoch 22/50\n",
      "210/210 [==============================] - 2s 7ms/step - loss: 0.3272 - accuracy: 0.8655 - val_loss: 0.3706 - val_accuracy: 0.8473\n",
      "Epoch 23/50\n",
      "210/210 [==============================] - 2s 7ms/step - loss: 0.3271 - accuracy: 0.8672 - val_loss: 0.3736 - val_accuracy: 0.8449\n",
      "Epoch 24/50\n",
      "210/210 [==============================] - 2s 7ms/step - loss: 0.3258 - accuracy: 0.8673 - val_loss: 0.3622 - val_accuracy: 0.8461\n",
      "Epoch 25/50\n",
      "210/210 [==============================] - 1s 7ms/step - loss: 0.3257 - accuracy: 0.8645 - val_loss: 0.3623 - val_accuracy: 0.8443\n",
      "Epoch 26/50\n",
      "210/210 [==============================] - 1s 7ms/step - loss: 0.3214 - accuracy: 0.8687 - val_loss: 0.3624 - val_accuracy: 0.8455\n",
      "Epoch 27/50\n",
      "210/210 [==============================] - 1s 7ms/step - loss: 0.3205 - accuracy: 0.8676 - val_loss: 0.3624 - val_accuracy: 0.8449\n",
      "Epoch 28/50\n",
      "210/210 [==============================] - 2s 7ms/step - loss: 0.3199 - accuracy: 0.8699 - val_loss: 0.3642 - val_accuracy: 0.8455\n",
      "Epoch 29/50\n",
      "210/210 [==============================] - 2s 7ms/step - loss: 0.3198 - accuracy: 0.8696 - val_loss: 0.3625 - val_accuracy: 0.8443\n",
      "Epoch 30/50\n",
      "210/210 [==============================] - 1s 7ms/step - loss: 0.3147 - accuracy: 0.8707 - val_loss: 0.3638 - val_accuracy: 0.8455\n",
      "Epoch 31/50\n",
      "210/210 [==============================] - 1s 7ms/step - loss: 0.3146 - accuracy: 0.8706 - val_loss: 0.3686 - val_accuracy: 0.8413\n",
      "Epoch 32/50\n",
      "210/210 [==============================] - 2s 7ms/step - loss: 0.3139 - accuracy: 0.8700 - val_loss: 0.3667 - val_accuracy: 0.8413\n",
      "Epoch 33/50\n",
      "210/210 [==============================] - 1s 7ms/step - loss: 0.3122 - accuracy: 0.8707 - val_loss: 0.3632 - val_accuracy: 0.8461\n",
      "Epoch 34/50\n",
      "210/210 [==============================] - 2s 7ms/step - loss: 0.3136 - accuracy: 0.8697 - val_loss: 0.3628 - val_accuracy: 0.8443\n",
      "Epoch 35/50\n",
      "210/210 [==============================] - 1s 7ms/step - loss: 0.3105 - accuracy: 0.8710 - val_loss: 0.3666 - val_accuracy: 0.8437\n",
      "Epoch 36/50\n",
      "210/210 [==============================] - 2s 7ms/step - loss: 0.3089 - accuracy: 0.8734 - val_loss: 0.3638 - val_accuracy: 0.8467\n",
      "Epoch 37/50\n",
      "210/210 [==============================] - 2s 7ms/step - loss: 0.3103 - accuracy: 0.8740 - val_loss: 0.3630 - val_accuracy: 0.8449\n",
      "Epoch 38/50\n",
      "210/210 [==============================] - 2s 7ms/step - loss: 0.3070 - accuracy: 0.8755 - val_loss: 0.3659 - val_accuracy: 0.8467\n",
      "Epoch 39/50\n",
      "210/210 [==============================] - 1s 7ms/step - loss: 0.3049 - accuracy: 0.8761 - val_loss: 0.3629 - val_accuracy: 0.8443\n",
      "Epoch 40/50\n",
      "210/210 [==============================] - 2s 7ms/step - loss: 0.3051 - accuracy: 0.8757 - val_loss: 0.3654 - val_accuracy: 0.8461\n",
      "Epoch 41/50\n",
      "210/210 [==============================] - 2s 7ms/step - loss: 0.3048 - accuracy: 0.8758 - val_loss: 0.3649 - val_accuracy: 0.8449\n",
      "Epoch 42/50\n",
      "210/210 [==============================] - 2s 7ms/step - loss: 0.3037 - accuracy: 0.8725 - val_loss: 0.3692 - val_accuracy: 0.8431\n",
      "Epoch 43/50\n",
      "210/210 [==============================] - 2s 7ms/step - loss: 0.3028 - accuracy: 0.8767 - val_loss: 0.3637 - val_accuracy: 0.8449\n",
      "Epoch 44/50\n",
      "210/210 [==============================] - 1s 7ms/step - loss: 0.3011 - accuracy: 0.8772 - val_loss: 0.3641 - val_accuracy: 0.8437\n",
      "Epoch 45/50\n",
      "210/210 [==============================] - 2s 7ms/step - loss: 0.2992 - accuracy: 0.8782 - val_loss: 0.3674 - val_accuracy: 0.8467\n",
      "Epoch 46/50\n",
      "210/210 [==============================] - 2s 7ms/step - loss: 0.2985 - accuracy: 0.8770 - val_loss: 0.3653 - val_accuracy: 0.8455\n",
      "Epoch 47/50\n",
      "210/210 [==============================] - 2s 7ms/step - loss: 0.2977 - accuracy: 0.8787 - val_loss: 0.3654 - val_accuracy: 0.8443\n",
      "Epoch 48/50\n",
      "210/210 [==============================] - 2s 7ms/step - loss: 0.2975 - accuracy: 0.8776 - val_loss: 0.3673 - val_accuracy: 0.8461\n",
      "Epoch 49/50\n",
      "210/210 [==============================] - 1s 7ms/step - loss: 0.2951 - accuracy: 0.8822 - val_loss: 0.3650 - val_accuracy: 0.8437\n",
      "Epoch 50/50\n",
      "210/210 [==============================] - 2s 7ms/step - loss: 0.2930 - accuracy: 0.8812 - val_loss: 0.3686 - val_accuracy: 0.8461\n"
     ]
    },
    {
     "data": {
      "image/png": "[encoded data removed]",
      "text/plain": [
       "<Figure size 640x480 with 1 Axes>"
      ]
     },
     "metadata": {},
     "output_type": "display_data"
    }
   ],
   "source": [
    "# x: 'Collisions_Historical', 'Mid_lat','Mid_long', 'Stop_Signs', 'Paving_historical', 'Bus_stop','RTTYP_I','RTTYP_M','RTTYP_O','RTTYP_S','RTTYP_U'\n",
    "# y: 'Collisions_Future'\n",
    "\n",
    "def create_logistic_model():\n",
    "    # DENSE LAYERS \n",
    "    input = tf.keras.layers.Input(shape=(111307,))\n",
    "    \n",
    "    # input = keras.layers.Flatten()(input)\n",
    "\n",
    "    outputs = keras.layers.Dense(units = 1, activation = 'sigmoid')(input)\n",
    "\n",
    "    log_model = tf.keras.models.Model(inputs=input, outputs=outputs, name=\"logistic_model\")\n",
    "\n",
    "    log_model.summary()\n",
    "\n",
    "    log_model.compile(\n",
    "        optimizer=tf.keras.optimizers.Adam(learning_rate=0.001),\n",
    "        loss=\"bce\",\n",
    "        metrics=['accuracy']\n",
    "        )\n",
    "    \n",
    "    return log_model\n",
    "\n",
    "logistic_model = create_logistic_model()\n",
    "\n",
    "# class_weight = {0: 1,\n",
    "#                 1: 100000,\n",
    "#                 2: 100000,\n",
    "#                 3: 100000,\n",
    "#                 4: 100000,\n",
    "#                 5: 100000,\n",
    "#                 6: 100000,\n",
    "#                 7: 100000,\n",
    "#                 8: 100000,\n",
    "#                 9: 100000,\n",
    "#                 10: 100000,\n",
    "#                 #11: 100000,\n",
    "#                }\n",
    "\n",
    "history = logistic_model.fit(\n",
    "    input_image_street,\n",
    "    np.stack(y_train.to_numpy()),\n",
    "     # y_train_2,\n",
    "    epochs=50,\n",
    "    # Suppress logging.\n",
    "     # verbose=1,\n",
    "    # Calculate validation results on 20% of the training data.\n",
    "    validation_split = 0.2,\n",
    "    # class_weight = class_weight\n",
    "    )\n",
    "\n",
    "plot_loss(history)"
   ]
  },
  {
   "cell_type": "code",
   "execution_count": 25,
   "id": "d59d1f10-ef4f-4c0e-8ec9-6c9e453d88c0",
   "metadata": {
    "tags": []
   },
   "outputs": [
    {
     "name": "stdout",
     "output_type": "stream",
     "text": [
      "66/66 [==============================] - 0s 5ms/step\n"
     ]
    }
   ],
   "source": [
    "predict_result = history.model.predict(input_image_street_test)"
   ]
  },
  {
   "cell_type": "code",
   "execution_count": 26,
   "id": "1f47cc81-87d8-4766-80ef-b4ef714bf219",
   "metadata": {},
   "outputs": [],
   "source": [
    "predict_result = pd.Series(predict_result.reshape(2095)).apply(lambda x: 1 if x > 0.1 else 0)"
   ]
  },
  {
   "cell_type": "code",
   "execution_count": 27,
   "id": "e98e029b-2db6-433b-836f-05a83a97ddde",
   "metadata": {
    "tags": []
   },
   "outputs": [
    {
     "data": {
      "text/plain": [
       "0.6105610561056106"
      ]
     },
     "execution_count": 27,
     "metadata": {},
     "output_type": "execute_result"
    }
   ],
   "source": [
    "f1_score(y_test.to_numpy(), predict_result, labels=None, pos_label=1, average='binary', sample_weight=None, zero_division='warn')"
   ]
  }
 ],
 "metadata": {
  "kernelspec": {
   "display_name": "Python 3 (ipykernel)",
   "language": "python",
   "name": "python3"
  },
  "language_info": {
   "codemirror_mode": {
    "name": "ipython",
    "version": 3
   },
   "file_extension": ".py",
   "mimetype": "text/x-python",
   "name": "python",
   "nbconvert_exporter": "python",
   "pygments_lexer": "ipython3",
   "version": "3.10.7"
  }
 },
 "nbformat": 4,
 "nbformat_minor": 5
}
