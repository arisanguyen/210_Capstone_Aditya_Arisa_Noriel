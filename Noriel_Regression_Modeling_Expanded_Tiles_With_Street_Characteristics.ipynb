{
  "cells": [
    {
      "cell_type": "code",
      "execution_count": 27,
      "id": "356025b8",
      "metadata": {
        "id": "356025b8",
        "colab": {
          "base_uri": "https://localhost:8080/"
        },
        "outputId": "021278d5-39ce-4fdc-d6d3-69b211872918"
      },
      "outputs": [
        {
          "output_type": "stream",
          "name": "stdout",
          "text": [
            "Looking in indexes: https://pypi.org/simple, https://us-python.pkg.dev/colab-wheels/public/simple/\n",
            "Requirement already satisfied: tensorflow_decision_forests in /usr/local/lib/python3.8/dist-packages (1.2.0)\n",
            "Requirement already satisfied: tensorflow~=2.11.0 in /usr/local/lib/python3.8/dist-packages (from tensorflow_decision_forests) (2.11.0)\n",
            "Requirement already satisfied: pandas in /usr/local/lib/python3.8/dist-packages (from tensorflow_decision_forests) (1.3.5)\n",
            "Requirement already satisfied: numpy in /usr/local/lib/python3.8/dist-packages (from tensorflow_decision_forests) (1.22.4)\n",
            "Requirement already satisfied: absl-py in /usr/local/lib/python3.8/dist-packages (from tensorflow_decision_forests) (1.4.0)\n",
            "Requirement already satisfied: wheel in /usr/local/lib/python3.8/dist-packages (from tensorflow_decision_forests) (0.38.4)\n",
            "Requirement already satisfied: six in /usr/local/lib/python3.8/dist-packages (from tensorflow_decision_forests) (1.15.0)\n",
            "Requirement already satisfied: wurlitzer in /usr/local/lib/python3.8/dist-packages (from tensorflow_decision_forests) (3.0.3)\n",
            "Requirement already satisfied: opt-einsum>=2.3.2 in /usr/local/lib/python3.8/dist-packages (from tensorflow~=2.11.0->tensorflow_decision_forests) (3.3.0)\n",
            "Requirement already satisfied: flatbuffers>=2.0 in /usr/local/lib/python3.8/dist-packages (from tensorflow~=2.11.0->tensorflow_decision_forests) (23.1.21)\n",
            "Requirement already satisfied: tensorboard<2.12,>=2.11 in /usr/local/lib/python3.8/dist-packages (from tensorflow~=2.11.0->tensorflow_decision_forests) (2.11.2)\n",
            "Requirement already satisfied: h5py>=2.9.0 in /usr/local/lib/python3.8/dist-packages (from tensorflow~=2.11.0->tensorflow_decision_forests) (3.1.0)\n",
            "Requirement already satisfied: typing-extensions>=3.6.6 in /usr/local/lib/python3.8/dist-packages (from tensorflow~=2.11.0->tensorflow_decision_forests) (4.5.0)\n",
            "Requirement already satisfied: astunparse>=1.6.0 in /usr/local/lib/python3.8/dist-packages (from tensorflow~=2.11.0->tensorflow_decision_forests) (1.6.3)\n",
            "Requirement already satisfied: keras<2.12,>=2.11.0 in /usr/local/lib/python3.8/dist-packages (from tensorflow~=2.11.0->tensorflow_decision_forests) (2.11.0)\n",
            "Requirement already satisfied: wrapt>=1.11.0 in /usr/local/lib/python3.8/dist-packages (from tensorflow~=2.11.0->tensorflow_decision_forests) (1.15.0)\n",
            "Requirement already satisfied: gast<=0.4.0,>=0.2.1 in /usr/local/lib/python3.8/dist-packages (from tensorflow~=2.11.0->tensorflow_decision_forests) (0.4.0)\n",
            "Requirement already satisfied: google-pasta>=0.1.1 in /usr/local/lib/python3.8/dist-packages (from tensorflow~=2.11.0->tensorflow_decision_forests) (0.2.0)\n",
            "Requirement already satisfied: tensorflow-io-gcs-filesystem>=0.23.1 in /usr/local/lib/python3.8/dist-packages (from tensorflow~=2.11.0->tensorflow_decision_forests) (0.31.0)\n",
            "Requirement already satisfied: tensorflow-estimator<2.12,>=2.11.0 in /usr/local/lib/python3.8/dist-packages (from tensorflow~=2.11.0->tensorflow_decision_forests) (2.11.0)\n",
            "Requirement already satisfied: setuptools in /usr/local/lib/python3.8/dist-packages (from tensorflow~=2.11.0->tensorflow_decision_forests) (57.4.0)\n",
            "Requirement already satisfied: libclang>=13.0.0 in /usr/local/lib/python3.8/dist-packages (from tensorflow~=2.11.0->tensorflow_decision_forests) (15.0.6.1)\n",
            "Requirement already satisfied: protobuf<3.20,>=3.9.2 in /usr/local/lib/python3.8/dist-packages (from tensorflow~=2.11.0->tensorflow_decision_forests) (3.19.6)\n",
            "Requirement already satisfied: packaging in /usr/local/lib/python3.8/dist-packages (from tensorflow~=2.11.0->tensorflow_decision_forests) (23.0)\n",
            "Requirement already satisfied: termcolor>=1.1.0 in /usr/local/lib/python3.8/dist-packages (from tensorflow~=2.11.0->tensorflow_decision_forests) (2.2.0)\n",
            "Requirement already satisfied: grpcio<2.0,>=1.24.3 in /usr/local/lib/python3.8/dist-packages (from tensorflow~=2.11.0->tensorflow_decision_forests) (1.51.3)\n",
            "Requirement already satisfied: python-dateutil>=2.7.3 in /usr/local/lib/python3.8/dist-packages (from pandas->tensorflow_decision_forests) (2.8.2)\n",
            "Requirement already satisfied: pytz>=2017.3 in /usr/local/lib/python3.8/dist-packages (from pandas->tensorflow_decision_forests) (2022.7.1)\n",
            "Requirement already satisfied: tensorboard-data-server<0.7.0,>=0.6.0 in /usr/local/lib/python3.8/dist-packages (from tensorboard<2.12,>=2.11->tensorflow~=2.11.0->tensorflow_decision_forests) (0.6.1)\n",
            "Requirement already satisfied: werkzeug>=1.0.1 in /usr/local/lib/python3.8/dist-packages (from tensorboard<2.12,>=2.11->tensorflow~=2.11.0->tensorflow_decision_forests) (2.2.3)\n",
            "Requirement already satisfied: requests<3,>=2.21.0 in /usr/local/lib/python3.8/dist-packages (from tensorboard<2.12,>=2.11->tensorflow~=2.11.0->tensorflow_decision_forests) (2.25.1)\n",
            "Requirement already satisfied: google-auth-oauthlib<0.5,>=0.4.1 in /usr/local/lib/python3.8/dist-packages (from tensorboard<2.12,>=2.11->tensorflow~=2.11.0->tensorflow_decision_forests) (0.4.6)\n",
            "Requirement already satisfied: markdown>=2.6.8 in /usr/local/lib/python3.8/dist-packages (from tensorboard<2.12,>=2.11->tensorflow~=2.11.0->tensorflow_decision_forests) (3.4.1)\n",
            "Requirement already satisfied: google-auth<3,>=1.6.3 in /usr/local/lib/python3.8/dist-packages (from tensorboard<2.12,>=2.11->tensorflow~=2.11.0->tensorflow_decision_forests) (2.16.1)\n",
            "Requirement already satisfied: tensorboard-plugin-wit>=1.6.0 in /usr/local/lib/python3.8/dist-packages (from tensorboard<2.12,>=2.11->tensorflow~=2.11.0->tensorflow_decision_forests) (1.8.1)\n",
            "Requirement already satisfied: pyasn1-modules>=0.2.1 in /usr/local/lib/python3.8/dist-packages (from google-auth<3,>=1.6.3->tensorboard<2.12,>=2.11->tensorflow~=2.11.0->tensorflow_decision_forests) (0.2.8)\n",
            "Requirement already satisfied: rsa<5,>=3.1.4 in /usr/local/lib/python3.8/dist-packages (from google-auth<3,>=1.6.3->tensorboard<2.12,>=2.11->tensorflow~=2.11.0->tensorflow_decision_forests) (4.9)\n",
            "Requirement already satisfied: cachetools<6.0,>=2.0.0 in /usr/local/lib/python3.8/dist-packages (from google-auth<3,>=1.6.3->tensorboard<2.12,>=2.11->tensorflow~=2.11.0->tensorflow_decision_forests) (5.3.0)\n",
            "Requirement already satisfied: requests-oauthlib>=0.7.0 in /usr/local/lib/python3.8/dist-packages (from google-auth-oauthlib<0.5,>=0.4.1->tensorboard<2.12,>=2.11->tensorflow~=2.11.0->tensorflow_decision_forests) (1.3.1)\n",
            "Requirement already satisfied: importlib-metadata>=4.4 in /usr/local/lib/python3.8/dist-packages (from markdown>=2.6.8->tensorboard<2.12,>=2.11->tensorflow~=2.11.0->tensorflow_decision_forests) (6.0.0)\n",
            "Requirement already satisfied: urllib3<1.27,>=1.21.1 in /usr/local/lib/python3.8/dist-packages (from requests<3,>=2.21.0->tensorboard<2.12,>=2.11->tensorflow~=2.11.0->tensorflow_decision_forests) (1.26.14)\n",
            "Requirement already satisfied: idna<3,>=2.5 in /usr/local/lib/python3.8/dist-packages (from requests<3,>=2.21.0->tensorboard<2.12,>=2.11->tensorflow~=2.11.0->tensorflow_decision_forests) (2.10)\n",
            "Requirement already satisfied: chardet<5,>=3.0.2 in /usr/local/lib/python3.8/dist-packages (from requests<3,>=2.21.0->tensorboard<2.12,>=2.11->tensorflow~=2.11.0->tensorflow_decision_forests) (4.0.0)\n",
            "Requirement already satisfied: certifi>=2017.4.17 in /usr/local/lib/python3.8/dist-packages (from requests<3,>=2.21.0->tensorboard<2.12,>=2.11->tensorflow~=2.11.0->tensorflow_decision_forests) (2022.12.7)\n",
            "Requirement already satisfied: MarkupSafe>=2.1.1 in /usr/local/lib/python3.8/dist-packages (from werkzeug>=1.0.1->tensorboard<2.12,>=2.11->tensorflow~=2.11.0->tensorflow_decision_forests) (2.1.2)\n",
            "Requirement already satisfied: zipp>=0.5 in /usr/local/lib/python3.8/dist-packages (from importlib-metadata>=4.4->markdown>=2.6.8->tensorboard<2.12,>=2.11->tensorflow~=2.11.0->tensorflow_decision_forests) (3.15.0)\n",
            "Requirement already satisfied: pyasn1<0.5.0,>=0.4.6 in /usr/local/lib/python3.8/dist-packages (from pyasn1-modules>=0.2.1->google-auth<3,>=1.6.3->tensorboard<2.12,>=2.11->tensorflow~=2.11.0->tensorflow_decision_forests) (0.4.8)\n",
            "Requirement already satisfied: oauthlib>=3.0.0 in /usr/local/lib/python3.8/dist-packages (from requests-oauthlib>=0.7.0->google-auth-oauthlib<0.5,>=0.4.1->tensorboard<2.12,>=2.11->tensorflow~=2.11.0->tensorflow_decision_forests) (3.2.2)\n",
            "Drive already mounted at /content/drive/; to attempt to forcibly remount, call drive.mount(\"/content/drive/\", force_remount=True).\n"
          ]
        }
      ],
      "source": [
        "import os\n",
        "import math\n",
        "import matplotlib.pyplot as plt\n",
        "import numpy as np\n",
        "import pandas as pd\n",
        "import seaborn as sns\n",
        "import tensorflow as tf\n",
        "\n",
        "# Install TensorFlow Decision Forests.\n",
        "!pip3 install tensorflow_decision_forests --upgrade\n",
        "import tensorflow_decision_forests as tfdf\n",
        "\n",
        "from sklearn.model_selection import train_test_split\n",
        "\n",
        "from google.colab import drive\n",
        "from google.colab import files\n",
        "drive.mount('/content/drive/')"
      ]
    },
    {
      "cell_type": "markdown",
      "source": [
        "**Read Tiles Dataset**"
      ],
      "metadata": {
        "id": "9PlQ11UpWoQP"
      },
      "id": "9PlQ11UpWoQP"
    },
    {
      "cell_type": "code",
      "execution_count": 28,
      "id": "f3693092",
      "metadata": {
        "id": "f3693092"
      },
      "outputs": [],
      "source": [
        "tiles = pd.read_csv(r'/content/drive/MyDrive/capstone/Tiles_expanded.csv')"
      ]
    },
    {
      "cell_type": "code",
      "source": [
        "tiles.head(5)"
      ],
      "metadata": {
        "id": "_uv-sGI6CMZb",
        "colab": {
          "base_uri": "https://localhost:8080/",
          "height": 270
        },
        "outputId": "2369c019-7205-45a1-8c8e-e0bad37e956a"
      },
      "id": "_uv-sGI6CMZb",
      "execution_count": 29,
      "outputs": [
        {
          "output_type": "execute_result",
          "data": {
            "text/plain": [
              "   Tile_ID       Long2       Lat2       Long1       Lat1    Mid_lat  \\\n",
              "0       36 -122.514446  37.779636 -122.513306  37.778732  37.779184   \n",
              "1       37 -122.514446  37.778732 -122.513306  37.777829  37.778280   \n",
              "2      151 -122.513306  37.779636 -122.512166  37.778732  37.779184   \n",
              "3      152 -122.513306  37.778732 -122.512166  37.777829  37.778280   \n",
              "4      153 -122.513306  37.777829 -122.512166  37.776925  37.777377   \n",
              "\n",
              "     Mid_long  Stop_Signs  Paving_historical  Paving_future  Bus_stop  \\\n",
              "0 -122.513876         0.0                0.0            0.0       0.0   \n",
              "1 -122.513876         0.0                0.0            0.0       0.0   \n",
              "2 -122.512736         0.0                0.0            0.0       0.0   \n",
              "3 -122.512736         0.0                0.0            0.0       0.0   \n",
              "4 -122.512736         0.0                0.0            0.0       0.0   \n",
              "\n",
              "   Collisions_Future  Collisions_Historical  \n",
              "0                0.0                    0.0  \n",
              "1                0.0                    0.0  \n",
              "2                0.0                    0.0  \n",
              "3                0.0                    0.0  \n",
              "4                0.0                    0.0  "
            ],
            "text/html": [
              "\n",
              "  <div id=\"df-f63a849f-0875-4e9c-a9b1-5214990bd74d\">\n",
              "    <div class=\"colab-df-container\">\n",
              "      <div>\n",
              "<style scoped>\n",
              "    .dataframe tbody tr th:only-of-type {\n",
              "        vertical-align: middle;\n",
              "    }\n",
              "\n",
              "    .dataframe tbody tr th {\n",
              "        vertical-align: top;\n",
              "    }\n",
              "\n",
              "    .dataframe thead th {\n",
              "        text-align: right;\n",
              "    }\n",
              "</style>\n",
              "<table border=\"1\" class=\"dataframe\">\n",
              "  <thead>\n",
              "    <tr style=\"text-align: right;\">\n",
              "      <th></th>\n",
              "      <th>Tile_ID</th>\n",
              "      <th>Long2</th>\n",
              "      <th>Lat2</th>\n",
              "      <th>Long1</th>\n",
              "      <th>Lat1</th>\n",
              "      <th>Mid_lat</th>\n",
              "      <th>Mid_long</th>\n",
              "      <th>Stop_Signs</th>\n",
              "      <th>Paving_historical</th>\n",
              "      <th>Paving_future</th>\n",
              "      <th>Bus_stop</th>\n",
              "      <th>Collisions_Future</th>\n",
              "      <th>Collisions_Historical</th>\n",
              "    </tr>\n",
              "  </thead>\n",
              "  <tbody>\n",
              "    <tr>\n",
              "      <th>0</th>\n",
              "      <td>36</td>\n",
              "      <td>-122.514446</td>\n",
              "      <td>37.779636</td>\n",
              "      <td>-122.513306</td>\n",
              "      <td>37.778732</td>\n",
              "      <td>37.779184</td>\n",
              "      <td>-122.513876</td>\n",
              "      <td>0.0</td>\n",
              "      <td>0.0</td>\n",
              "      <td>0.0</td>\n",
              "      <td>0.0</td>\n",
              "      <td>0.0</td>\n",
              "      <td>0.0</td>\n",
              "    </tr>\n",
              "    <tr>\n",
              "      <th>1</th>\n",
              "      <td>37</td>\n",
              "      <td>-122.514446</td>\n",
              "      <td>37.778732</td>\n",
              "      <td>-122.513306</td>\n",
              "      <td>37.777829</td>\n",
              "      <td>37.778280</td>\n",
              "      <td>-122.513876</td>\n",
              "      <td>0.0</td>\n",
              "      <td>0.0</td>\n",
              "      <td>0.0</td>\n",
              "      <td>0.0</td>\n",
              "      <td>0.0</td>\n",
              "      <td>0.0</td>\n",
              "    </tr>\n",
              "    <tr>\n",
              "      <th>2</th>\n",
              "      <td>151</td>\n",
              "      <td>-122.513306</td>\n",
              "      <td>37.779636</td>\n",
              "      <td>-122.512166</td>\n",
              "      <td>37.778732</td>\n",
              "      <td>37.779184</td>\n",
              "      <td>-122.512736</td>\n",
              "      <td>0.0</td>\n",
              "      <td>0.0</td>\n",
              "      <td>0.0</td>\n",
              "      <td>0.0</td>\n",
              "      <td>0.0</td>\n",
              "      <td>0.0</td>\n",
              "    </tr>\n",
              "    <tr>\n",
              "      <th>3</th>\n",
              "      <td>152</td>\n",
              "      <td>-122.513306</td>\n",
              "      <td>37.778732</td>\n",
              "      <td>-122.512166</td>\n",
              "      <td>37.777829</td>\n",
              "      <td>37.778280</td>\n",
              "      <td>-122.512736</td>\n",
              "      <td>0.0</td>\n",
              "      <td>0.0</td>\n",
              "      <td>0.0</td>\n",
              "      <td>0.0</td>\n",
              "      <td>0.0</td>\n",
              "      <td>0.0</td>\n",
              "    </tr>\n",
              "    <tr>\n",
              "      <th>4</th>\n",
              "      <td>153</td>\n",
              "      <td>-122.513306</td>\n",
              "      <td>37.777829</td>\n",
              "      <td>-122.512166</td>\n",
              "      <td>37.776925</td>\n",
              "      <td>37.777377</td>\n",
              "      <td>-122.512736</td>\n",
              "      <td>0.0</td>\n",
              "      <td>0.0</td>\n",
              "      <td>0.0</td>\n",
              "      <td>0.0</td>\n",
              "      <td>0.0</td>\n",
              "      <td>0.0</td>\n",
              "    </tr>\n",
              "  </tbody>\n",
              "</table>\n",
              "</div>\n",
              "      <button class=\"colab-df-convert\" onclick=\"convertToInteractive('df-f63a849f-0875-4e9c-a9b1-5214990bd74d')\"\n",
              "              title=\"Convert this dataframe to an interactive table.\"\n",
              "              style=\"display:none;\">\n",
              "        \n",
              "  <svg xmlns=\"http://www.w3.org/2000/svg\" height=\"24px\"viewBox=\"0 0 24 24\"\n",
              "       width=\"24px\">\n",
              "    <path d=\"M0 0h24v24H0V0z\" fill=\"none\"/>\n",
              "    <path d=\"M18.56 5.44l.94 2.06.94-2.06 2.06-.94-2.06-.94-.94-2.06-.94 2.06-2.06.94zm-11 1L8.5 8.5l.94-2.06 2.06-.94-2.06-.94L8.5 2.5l-.94 2.06-2.06.94zm10 10l.94 2.06.94-2.06 2.06-.94-2.06-.94-.94-2.06-.94 2.06-2.06.94z\"/><path d=\"M17.41 7.96l-1.37-1.37c-.4-.4-.92-.59-1.43-.59-.52 0-1.04.2-1.43.59L10.3 9.45l-7.72 7.72c-.78.78-.78 2.05 0 2.83L4 21.41c.39.39.9.59 1.41.59.51 0 1.02-.2 1.41-.59l7.78-7.78 2.81-2.81c.8-.78.8-2.07 0-2.86zM5.41 20L4 18.59l7.72-7.72 1.47 1.35L5.41 20z\"/>\n",
              "  </svg>\n",
              "      </button>\n",
              "      \n",
              "  <style>\n",
              "    .colab-df-container {\n",
              "      display:flex;\n",
              "      flex-wrap:wrap;\n",
              "      gap: 12px;\n",
              "    }\n",
              "\n",
              "    .colab-df-convert {\n",
              "      background-color: #E8F0FE;\n",
              "      border: none;\n",
              "      border-radius: 50%;\n",
              "      cursor: pointer;\n",
              "      display: none;\n",
              "      fill: #1967D2;\n",
              "      height: 32px;\n",
              "      padding: 0 0 0 0;\n",
              "      width: 32px;\n",
              "    }\n",
              "\n",
              "    .colab-df-convert:hover {\n",
              "      background-color: #E2EBFA;\n",
              "      box-shadow: 0px 1px 2px rgba(60, 64, 67, 0.3), 0px 1px 3px 1px rgba(60, 64, 67, 0.15);\n",
              "      fill: #174EA6;\n",
              "    }\n",
              "\n",
              "    [theme=dark] .colab-df-convert {\n",
              "      background-color: #3B4455;\n",
              "      fill: #D2E3FC;\n",
              "    }\n",
              "\n",
              "    [theme=dark] .colab-df-convert:hover {\n",
              "      background-color: #434B5C;\n",
              "      box-shadow: 0px 1px 3px 1px rgba(0, 0, 0, 0.15);\n",
              "      filter: drop-shadow(0px 1px 2px rgba(0, 0, 0, 0.3));\n",
              "      fill: #FFFFFF;\n",
              "    }\n",
              "  </style>\n",
              "\n",
              "      <script>\n",
              "        const buttonEl =\n",
              "          document.querySelector('#df-f63a849f-0875-4e9c-a9b1-5214990bd74d button.colab-df-convert');\n",
              "        buttonEl.style.display =\n",
              "          google.colab.kernel.accessAllowed ? 'block' : 'none';\n",
              "\n",
              "        async function convertToInteractive(key) {\n",
              "          const element = document.querySelector('#df-f63a849f-0875-4e9c-a9b1-5214990bd74d');\n",
              "          const dataTable =\n",
              "            await google.colab.kernel.invokeFunction('convertToInteractive',\n",
              "                                                     [key], {});\n",
              "          if (!dataTable) return;\n",
              "\n",
              "          const docLinkHtml = 'Like what you see? Visit the ' +\n",
              "            '<a target=\"_blank\" href=https://colab.research.google.com/notebooks/data_table.ipynb>data table notebook</a>'\n",
              "            + ' to learn more about interactive tables.';\n",
              "          element.innerHTML = '';\n",
              "          dataTable['output_type'] = 'display_data';\n",
              "          await google.colab.output.renderOutput(dataTable, element);\n",
              "          const docLink = document.createElement('div');\n",
              "          docLink.innerHTML = docLinkHtml;\n",
              "          element.appendChild(docLink);\n",
              "        }\n",
              "      </script>\n",
              "    </div>\n",
              "  </div>\n",
              "  "
            ]
          },
          "metadata": {},
          "execution_count": 29
        }
      ]
    },
    {
      "cell_type": "code",
      "source": [
        "tiles.columns"
      ],
      "metadata": {
        "colab": {
          "base_uri": "https://localhost:8080/"
        },
        "id": "kD2PJ21te9l1",
        "outputId": "2461a23b-bedb-4191-8a3f-fa2ebc53256a"
      },
      "id": "kD2PJ21te9l1",
      "execution_count": 31,
      "outputs": [
        {
          "output_type": "execute_result",
          "data": {
            "text/plain": [
              "Index(['Tile_ID', 'Long2', 'Lat2', 'Long1', 'Lat1', 'Mid_lat', 'Mid_long',\n",
              "       'Stop_Signs', 'Paving_historical', 'Paving_future', 'Bus_stop',\n",
              "       'Collisions_Future', 'Collisions_Historical'],\n",
              "      dtype='object')"
            ]
          },
          "metadata": {},
          "execution_count": 31
        }
      ]
    },
    {
      "cell_type": "code",
      "source": [
        "# x: 'Tile_ID', 'Long2', 'Lat2', 'Long1', 'Lat1', 'Mid_lat', 'Mid_long',\n",
        "#    'Stop_Signs', 'Paving_historical', 'Paving_future', 'Bus_stop', 'Collisions_Historical'\n",
        "# y: 'Collisions_Future'\n",
        "\n",
        "X = tiles[['Tile_ID', 'Long2', 'Lat2', 'Long1', 'Lat1', 'Mid_lat', 'Mid_long',\n",
        "           'Stop_Signs', 'Paving_historical', 'Paving_future', 'Bus_stop', 'Collisions_Historical']]\n",
        "y = tiles[['Collisions_Future']]\n",
        "X_train, X_test, y_train, y_test = train_test_split(X, y, test_size=0.5)\n",
        "\n",
        "X_train, X_train_lr, y_train, y_train_lr = train_test_split(X_train,\n",
        "                                                            y_train,\n",
        "                                                            test_size=0.5)"
      ],
      "metadata": {
        "id": "4u9G05v5S9pY"
      },
      "id": "4u9G05v5S9pY",
      "execution_count": 34,
      "outputs": []
    },
    {
      "cell_type": "markdown",
      "source": [
        "**RANDOM FOREST**"
      ],
      "metadata": {
        "id": "DHaWBokHqOSP"
      },
      "id": "DHaWBokHqOSP"
    },
    {
      "cell_type": "markdown",
      "source": [
        "https://www.dlology.com/blog/simple-guide-on-how-to-generate-roc-plot-for-keras-classifier/"
      ],
      "metadata": {
        "id": "nFxH55lepz-d"
      },
      "id": "nFxH55lepz-d"
    },
    {
      "cell_type": "code",
      "source": [
        "from sklearn.ensemble import RandomForestRegressor\n",
        "regr = RandomForestRegressor(n_estimators = 100, random_state = 0)\n",
        "regr.fit(X_train, y_train.values.ravel())\n",
        "\n",
        "y_pred_rf = regr.predict(X_test)[:]"
      ],
      "metadata": {
        "id": "KU1R-sWXR7V7"
      },
      "id": "KU1R-sWXR7V7",
      "execution_count": 35,
      "outputs": []
    },
    {
      "cell_type": "code",
      "source": [
        "#from sklearn.ensemble import RandomForestClassifier\n",
        "#from yellowbrick.model_selection import learning_curve\n",
        "\n",
        "#rfc = RandomForestClassifier(n_estimators=100, max_depth=3, random_state=0)\n",
        "#print(learning_curve(rfc, X, y, cv=10, scoring='accuracy'))"
      ],
      "metadata": {
        "id": "zo2IX1hM8QZO"
      },
      "id": "zo2IX1hM8QZO",
      "execution_count": 36,
      "outputs": []
    },
    {
      "cell_type": "code",
      "source": [
        "#dataset = tiles\n",
        "\n",
        "#tf_dataset = tfdf.keras.pd_dataframe_to_tf_dataset(dataset, label=\"label\")"
      ],
      "metadata": {
        "id": "misT3fkwB4z6"
      },
      "id": "misT3fkwB4z6",
      "execution_count": 37,
      "outputs": []
    },
    {
      "cell_type": "code",
      "source": [
        "model = tfdf.keras.RandomForestModel()\n",
        "\n",
        "history = model.fit(\n",
        "    np.asarray(X_train).astype('float32'),\n",
        "    y_train,\n",
        "    epochs=1,\n",
        "    verbose=1,\n",
        "    validation_split = 0.2)"
      ],
      "metadata": {
        "colab": {
          "base_uri": "https://localhost:8080/"
        },
        "id": "ap0zMdrNAgSg",
        "outputId": "6fcf1d84-cef1-4935-ebe9-80f973becece"
      },
      "id": "ap0zMdrNAgSg",
      "execution_count": 38,
      "outputs": [
        {
          "output_type": "stream",
          "name": "stdout",
          "text": [
            "Use /tmp/tmpujp9wf97 as temporary training directory\n",
            "Warning: Model constructor argument validation_split=0.2 not supported. See https://www.tensorflow.org/decision_forests/migration for an explanation about the specificities of TF-DF.\n"
          ]
        },
        {
          "output_type": "stream",
          "name": "stderr",
          "text": [
            "WARNING:absl:Model constructor argument validation_split=0.2 not supported. See https://www.tensorflow.org/decision_forests/migration for an explanation about the specificities of TF-DF.\n"
          ]
        },
        {
          "output_type": "stream",
          "name": "stdout",
          "text": [
            "Reading training dataset...\n",
            "Training dataset read in 0:00:00.531988. Found 2617 examples.\n",
            "Training model...\n",
            "Model trained in 0:00:02.660975\n",
            "Compiling model...\n",
            "Model compiled.\n"
          ]
        }
      ]
    },
    {
      "cell_type": "code",
      "source": [
        "print(model.summary())"
      ],
      "metadata": {
        "colab": {
          "base_uri": "https://localhost:8080/"
        },
        "id": "dACmX9aaFdYo",
        "outputId": "94d181a6-8d50-475d-f889-e7d7f6995a97"
      },
      "id": "dACmX9aaFdYo",
      "execution_count": 39,
      "outputs": [
        {
          "output_type": "stream",
          "name": "stdout",
          "text": [
            "Model: \"random_forest_model_3\"\n",
            "_________________________________________________________________\n",
            " Layer (type)                Output Shape              Param #   \n",
            "=================================================================\n",
            "=================================================================\n",
            "Total params: 1\n",
            "Trainable params: 0\n",
            "Non-trainable params: 1\n",
            "_________________________________________________________________\n",
            "Type: \"RANDOM_FOREST\"\n",
            "Task: CLASSIFICATION\n",
            "Label: \"__LABEL\"\n",
            "\n",
            "Input Features (12):\n",
            "\tdata:0.0\n",
            "\tdata:0.1\n",
            "\tdata:0.10\n",
            "\tdata:0.11\n",
            "\tdata:0.2\n",
            "\tdata:0.3\n",
            "\tdata:0.4\n",
            "\tdata:0.5\n",
            "\tdata:0.6\n",
            "\tdata:0.7\n",
            "\tdata:0.8\n",
            "\tdata:0.9\n",
            "\n",
            "No weights\n",
            "\n",
            "Variable Importance: INV_MEAN_MIN_DEPTH:\n",
            "    1. \"data:0.11\"  0.415683 ################\n",
            "    2.  \"data:0.7\"  0.239572 #######\n",
            "    3.  \"data:0.0\"  0.182821 ####\n",
            "    4. \"data:0.10\"  0.182525 ####\n",
            "    5.  \"data:0.4\"  0.133511 #\n",
            "    6.  \"data:0.2\"  0.132091 #\n",
            "    7.  \"data:0.5\"  0.131010 #\n",
            "    8.  \"data:0.6\"  0.128777 #\n",
            "    9.  \"data:0.1\"  0.128373 #\n",
            "   10.  \"data:0.3\"  0.125823 #\n",
            "   11.  \"data:0.8\"  0.108217 \n",
            "   12.  \"data:0.9\"  0.100329 \n",
            "\n",
            "Variable Importance: NUM_AS_ROOT:\n",
            "    1. \"data:0.11\" 128.000000 ################\n",
            "    2. \"data:0.10\" 78.000000 #########\n",
            "    3.  \"data:0.7\" 36.000000 ####\n",
            "    4.  \"data:0.0\" 29.000000 ###\n",
            "    5.  \"data:0.1\" 13.000000 #\n",
            "    6.  \"data:0.6\"  8.000000 \n",
            "    7.  \"data:0.3\"  5.000000 \n",
            "    8.  \"data:0.5\"  2.000000 \n",
            "    9.  \"data:0.4\"  1.000000 \n",
            "\n",
            "Variable Importance: NUM_NODES:\n",
            "    1.  \"data:0.0\" 10353.000000 ################\n",
            "    2.  \"data:0.5\" 7099.000000 ##########\n",
            "    3.  \"data:0.4\" 7016.000000 ##########\n",
            "    4.  \"data:0.2\" 6990.000000 ##########\n",
            "    5.  \"data:0.1\" 5110.000000 #######\n",
            "    6.  \"data:0.3\" 5097.000000 #######\n",
            "    7.  \"data:0.6\" 5019.000000 #######\n",
            "    8. \"data:0.11\" 4063.000000 ######\n",
            "    9.  \"data:0.7\" 3938.000000 #####\n",
            "   10. \"data:0.10\" 2511.000000 ###\n",
            "   11.  \"data:0.8\" 782.000000 \n",
            "   12.  \"data:0.9\" 185.000000 \n",
            "\n",
            "Variable Importance: SUM_SCORE:\n",
            "    1. \"data:0.11\" 161591.876388 ################\n",
            "    2.  \"data:0.0\" 56003.128964 #####\n",
            "    3.  \"data:0.7\" 51732.732127 #####\n",
            "    4.  \"data:0.4\" 36242.953653 ###\n",
            "    5.  \"data:0.2\" 35545.522233 ###\n",
            "    6.  \"data:0.5\" 35326.768631 ###\n",
            "    7. \"data:0.10\" 28841.388534 ##\n",
            "    8.  \"data:0.1\" 26514.893880 ##\n",
            "    9.  \"data:0.6\" 26277.285173 ##\n",
            "   10.  \"data:0.3\" 25417.944178 ##\n",
            "   11.  \"data:0.8\" 4982.733775 \n",
            "   12.  \"data:0.9\" 841.831951 \n",
            "\n",
            "\n",
            "\n",
            "Winner takes all: true\n",
            "Out-of-bag evaluation: accuracy:0.780665 logloss:1.50751\n",
            "Number of trees: 300\n",
            "Total number of nodes: 116626\n",
            "\n",
            "Number of nodes by tree:\n",
            "Count: 300 Average: 388.753 StdDev: 16.1586\n",
            "Min: 343 Max: 429 Ignored: 0\n",
            "----------------------------------------------\n",
            "[ 343, 347)  3   1.00%   1.00% #\n",
            "[ 347, 351)  1   0.33%   1.33%\n",
            "[ 351, 356)  6   2.00%   3.33% ##\n",
            "[ 356, 360)  6   2.00%   5.33% ##\n",
            "[ 360, 364)  3   1.00%   6.33% #\n",
            "[ 364, 369) 13   4.33%  10.67% ####\n",
            "[ 369, 373) 15   5.00%  15.67% ####\n",
            "[ 373, 377) 16   5.33%  21.00% #####\n",
            "[ 377, 382) 33  11.00%  32.00% #########\n",
            "[ 382, 386) 28   9.33%  41.33% ########\n",
            "[ 386, 390) 24   8.00%  49.33% #######\n",
            "[ 390, 395) 35  11.67%  61.00% ##########\n",
            "[ 395, 399) 32  10.67%  71.67% #########\n",
            "[ 399, 403) 23   7.67%  79.33% #######\n",
            "[ 403, 408) 25   8.33%  87.67% #######\n",
            "[ 408, 412) 17   5.67%  93.33% #####\n",
            "[ 412, 416) 13   4.33%  97.67% ####\n",
            "[ 416, 421)  2   0.67%  98.33% #\n",
            "[ 421, 425)  2   0.67%  99.00% #\n",
            "[ 425, 429]  3   1.00% 100.00% #\n",
            "\n",
            "Depth by leafs:\n",
            "Count: 58463 Average: 9.06525 StdDev: 2.27107\n",
            "Min: 2 Max: 15 Ignored: 0\n",
            "----------------------------------------------\n",
            "[  2,  3)     3   0.01%   0.01%\n",
            "[  3,  4)    47   0.08%   0.09%\n",
            "[  4,  5)   410   0.70%   0.79%\n",
            "[  5,  6)  1885   3.22%   4.01% ##\n",
            "[  6,  7)  4775   8.17%  12.18% #####\n",
            "[  7,  8)  7926  13.56%  25.74% ########\n",
            "[  8,  9) 10123  17.32%  43.05% ##########\n",
            "[  9, 10) 10381  17.76%  60.81% ##########\n",
            "[ 10, 11)  8476  14.50%  75.31% ########\n",
            "[ 11, 12)  5913  10.11%  85.42% ######\n",
            "[ 12, 13)  3825   6.54%  91.96% ####\n",
            "[ 13, 14)  2306   3.94%  95.91% ##\n",
            "[ 14, 15)  1351   2.31%  98.22% #\n",
            "[ 15, 15]  1042   1.78% 100.00% #\n",
            "\n",
            "Number of training obs by leaf:\n",
            "Count: 58463 Average: 13.429 StdDev: 33.5169\n",
            "Min: 5 Max: 809 Ignored: 0\n",
            "----------------------------------------------\n",
            "[   5,  45) 55870  95.56%  95.56% ##########\n",
            "[  45,  85)  1269   2.17%  97.74%\n",
            "[  85, 125)   437   0.75%  98.48%\n",
            "[ 125, 166)   267   0.46%  98.94%\n",
            "[ 166, 206)   172   0.29%  99.23%\n",
            "[ 206, 246)   127   0.22%  99.45%\n",
            "[ 246, 286)   102   0.17%  99.63%\n",
            "[ 286, 327)    60   0.10%  99.73%\n",
            "[ 327, 367)    44   0.08%  99.80%\n",
            "[ 367, 407)    30   0.05%  99.85%\n",
            "[ 407, 447)    28   0.05%  99.90%\n",
            "[ 447, 488)    17   0.03%  99.93%\n",
            "[ 488, 528)    16   0.03%  99.96%\n",
            "[ 528, 568)    12   0.02%  99.98%\n",
            "[ 568, 608)     4   0.01%  99.99%\n",
            "[ 608, 649)     4   0.01%  99.99%\n",
            "[ 649, 689)     2   0.00% 100.00%\n",
            "[ 689, 729)     1   0.00% 100.00%\n",
            "[ 729, 769)     0   0.00% 100.00%\n",
            "[ 769, 809]     1   0.00% 100.00%\n",
            "\n",
            "Attribute in nodes:\n",
            "\t10353 : data:0.0 [NUMERICAL]\n",
            "\t7099 : data:0.5 [NUMERICAL]\n",
            "\t7016 : data:0.4 [NUMERICAL]\n",
            "\t6990 : data:0.2 [NUMERICAL]\n",
            "\t5110 : data:0.1 [NUMERICAL]\n",
            "\t5097 : data:0.3 [NUMERICAL]\n",
            "\t5019 : data:0.6 [NUMERICAL]\n",
            "\t4063 : data:0.11 [NUMERICAL]\n",
            "\t3938 : data:0.7 [NUMERICAL]\n",
            "\t2511 : data:0.10 [NUMERICAL]\n",
            "\t782 : data:0.8 [NUMERICAL]\n",
            "\t185 : data:0.9 [NUMERICAL]\n",
            "\n",
            "Attribute in nodes with depth <= 0:\n",
            "\t128 : data:0.11 [NUMERICAL]\n",
            "\t78 : data:0.10 [NUMERICAL]\n",
            "\t36 : data:0.7 [NUMERICAL]\n",
            "\t29 : data:0.0 [NUMERICAL]\n",
            "\t13 : data:0.1 [NUMERICAL]\n",
            "\t8 : data:0.6 [NUMERICAL]\n",
            "\t5 : data:0.3 [NUMERICAL]\n",
            "\t2 : data:0.5 [NUMERICAL]\n",
            "\t1 : data:0.4 [NUMERICAL]\n",
            "\n",
            "Attribute in nodes with depth <= 1:\n",
            "\t332 : data:0.11 [NUMERICAL]\n",
            "\t168 : data:0.7 [NUMERICAL]\n",
            "\t150 : data:0.10 [NUMERICAL]\n",
            "\t106 : data:0.0 [NUMERICAL]\n",
            "\t31 : data:0.3 [NUMERICAL]\n",
            "\t27 : data:0.6 [NUMERICAL]\n",
            "\t26 : data:0.1 [NUMERICAL]\n",
            "\t24 : data:0.4 [NUMERICAL]\n",
            "\t18 : data:0.2 [NUMERICAL]\n",
            "\t15 : data:0.5 [NUMERICAL]\n",
            "\t3 : data:0.8 [NUMERICAL]\n",
            "\n",
            "Attribute in nodes with depth <= 2:\n",
            "\t658 : data:0.11 [NUMERICAL]\n",
            "\t400 : data:0.7 [NUMERICAL]\n",
            "\t257 : data:0.10 [NUMERICAL]\n",
            "\t243 : data:0.0 [NUMERICAL]\n",
            "\t100 : data:0.4 [NUMERICAL]\n",
            "\t96 : data:0.2 [NUMERICAL]\n",
            "\t93 : data:0.6 [NUMERICAL]\n",
            "\t87 : data:0.1 [NUMERICAL]\n",
            "\t72 : data:0.5 [NUMERICAL]\n",
            "\t72 : data:0.3 [NUMERICAL]\n",
            "\t18 : data:0.8 [NUMERICAL]\n",
            "\t1 : data:0.9 [NUMERICAL]\n",
            "\n",
            "Attribute in nodes with depth <= 3:\n",
            "\t1069 : data:0.11 [NUMERICAL]\n",
            "\t698 : data:0.7 [NUMERICAL]\n",
            "\t583 : data:0.0 [NUMERICAL]\n",
            "\t443 : data:0.10 [NUMERICAL]\n",
            "\t289 : data:0.2 [NUMERICAL]\n",
            "\t286 : data:0.5 [NUMERICAL]\n",
            "\t281 : data:0.4 [NUMERICAL]\n",
            "\t271 : data:0.6 [NUMERICAL]\n",
            "\t226 : data:0.1 [NUMERICAL]\n",
            "\t208 : data:0.3 [NUMERICAL]\n",
            "\t83 : data:0.8 [NUMERICAL]\n",
            "\t7 : data:0.9 [NUMERICAL]\n",
            "\n",
            "Attribute in nodes with depth <= 5:\n",
            "\t2421 : data:0.0 [NUMERICAL]\n",
            "\t2221 : data:0.11 [NUMERICAL]\n",
            "\t1547 : data:0.4 [NUMERICAL]\n",
            "\t1534 : data:0.7 [NUMERICAL]\n",
            "\t1487 : data:0.5 [NUMERICAL]\n",
            "\t1473 : data:0.2 [NUMERICAL]\n",
            "\t1148 : data:0.6 [NUMERICAL]\n",
            "\t1121 : data:0.1 [NUMERICAL]\n",
            "\t1088 : data:0.3 [NUMERICAL]\n",
            "\t1040 : data:0.10 [NUMERICAL]\n",
            "\t289 : data:0.8 [NUMERICAL]\n",
            "\t42 : data:0.9 [NUMERICAL]\n",
            "\n",
            "Condition type in nodes:\n",
            "\t58163 : HigherCondition\n",
            "Condition type in nodes with depth <= 0:\n",
            "\t300 : HigherCondition\n",
            "Condition type in nodes with depth <= 1:\n",
            "\t900 : HigherCondition\n",
            "Condition type in nodes with depth <= 2:\n",
            "\t2097 : HigherCondition\n",
            "Condition type in nodes with depth <= 3:\n",
            "\t4444 : HigherCondition\n",
            "Condition type in nodes with depth <= 5:\n",
            "\t15411 : HigherCondition\n",
            "Node format: NOT_SET\n",
            "\n",
            "Training OOB:\n",
            "\ttrees: 1, Out-of-bag evaluation: accuracy:0.781218 logloss:7.88571\n",
            "\ttrees: 11, Out-of-bag evaluation: accuracy:0.775643 logloss:5.57897\n",
            "\ttrees: 21, Out-of-bag evaluation: accuracy:0.78334 logloss:4.32297\n",
            "\ttrees: 31, Out-of-bag evaluation: accuracy:0.782575 logloss:3.73768\n",
            "\ttrees: 41, Out-of-bag evaluation: accuracy:0.781811 logloss:3.34581\n",
            "\ttrees: 51, Out-of-bag evaluation: accuracy:0.784868 logloss:3.07109\n",
            "\ttrees: 61, Out-of-bag evaluation: accuracy:0.783722 logloss:2.69007\n",
            "\ttrees: 71, Out-of-bag evaluation: accuracy:0.784868 logloss:2.52925\n",
            "\ttrees: 81, Out-of-bag evaluation: accuracy:0.782575 logloss:2.30418\n",
            "\ttrees: 91, Out-of-bag evaluation: accuracy:0.78334 logloss:2.18903\n",
            "\ttrees: 101, Out-of-bag evaluation: accuracy:0.784486 logloss:2.10209\n",
            "\ttrees: 111, Out-of-bag evaluation: accuracy:0.78334 logloss:2.09038\n",
            "\ttrees: 121, Out-of-bag evaluation: accuracy:0.784104 logloss:2.04137\n",
            "\ttrees: 131, Out-of-bag evaluation: accuracy:0.782193 logloss:1.99381\n",
            "\ttrees: 141, Out-of-bag evaluation: accuracy:0.784104 logloss:1.94448\n",
            "\ttrees: 151, Out-of-bag evaluation: accuracy:0.784486 logloss:1.89545\n",
            "\ttrees: 161, Out-of-bag evaluation: accuracy:0.782575 logloss:1.85779\n",
            "\ttrees: 171, Out-of-bag evaluation: accuracy:0.781811 logloss:1.83312\n",
            "\ttrees: 181, Out-of-bag evaluation: accuracy:0.780283 logloss:1.79546\n",
            "\ttrees: 191, Out-of-bag evaluation: accuracy:0.780665 logloss:1.77094\n",
            "\ttrees: 201, Out-of-bag evaluation: accuracy:0.782193 logloss:1.723\n",
            "\ttrees: 211, Out-of-bag evaluation: accuracy:0.782193 logloss:1.68692\n",
            "\ttrees: 221, Out-of-bag evaluation: accuracy:0.781429 logloss:1.66277\n",
            "\ttrees: 231, Out-of-bag evaluation: accuracy:0.781811 logloss:1.63744\n",
            "\ttrees: 241, Out-of-bag evaluation: accuracy:0.782193 logloss:1.58916\n",
            "\ttrees: 251, Out-of-bag evaluation: accuracy:0.782193 logloss:1.56427\n",
            "\ttrees: 261, Out-of-bag evaluation: accuracy:0.781429 logloss:1.54055\n",
            "\ttrees: 271, Out-of-bag evaluation: accuracy:0.781047 logloss:1.54087\n",
            "\ttrees: 281, Out-of-bag evaluation: accuracy:0.782193 logloss:1.53006\n",
            "\ttrees: 291, Out-of-bag evaluation: accuracy:0.782193 logloss:1.50685\n",
            "\ttrees: 300, Out-of-bag evaluation: accuracy:0.780665 logloss:1.50751\n",
            "\n",
            "None\n"
          ]
        }
      ]
    },
    {
      "cell_type": "code",
      "source": [
        "def plot_loss(history):\n",
        "    plt.plot(history.history['loss'], label='loss')\n",
        "    #plt.plot(history.history['val_loss'], label='val_loss')\n",
        "   # plt.plot(history.history['accuracy'], label='accuracy')\n",
        "   # plt.plot(history.history['val_accuracy'], label='val_accuracy')\n",
        "    plt.ylim([0, history.history['loss'].max()])\n",
        "    plt.xlabel('Epoch')\n",
        "    plt.ylabel('Mean Absolute Error')\n",
        "    plt.legend()\n",
        "    plt.grid(True)"
      ],
      "metadata": {
        "id": "2O8De9w7EdFv"
      },
      "id": "2O8De9w7EdFv",
      "execution_count": 40,
      "outputs": []
    },
    {
      "cell_type": "code",
      "source": [
        "history.history"
      ],
      "metadata": {
        "colab": {
          "base_uri": "https://localhost:8080/"
        },
        "id": "nZe_wqUGGxcC",
        "outputId": "5ee97d5e-3661-4f25-a18d-7e7dc9fcd9ab"
      },
      "id": "nZe_wqUGGxcC",
      "execution_count": 41,
      "outputs": [
        {
          "output_type": "execute_result",
          "data": {
            "text/plain": [
              "{'num_examples': [2617],\n",
              " 'accuracy': [0.780664883454337],\n",
              " 'loss': [1.507511590309064]}"
            ]
          },
          "metadata": {},
          "execution_count": 41
        }
      ]
    },
    {
      "cell_type": "code",
      "source": [
        "\n",
        "history.history['loss'][0]"
      ],
      "metadata": {
        "colab": {
          "base_uri": "https://localhost:8080/"
        },
        "id": "EehsM4a6Xt7F",
        "outputId": "4dc253e4-fd28-49a4-f582-59a105d24d6f"
      },
      "id": "EehsM4a6Xt7F",
      "execution_count": 42,
      "outputs": [
        {
          "output_type": "execute_result",
          "data": {
            "text/plain": [
              "1.507511590309064"
            ]
          },
          "metadata": {},
          "execution_count": 42
        }
      ]
    },
    {
      "cell_type": "code",
      "source": [
        "plot_loss(history)"
      ],
      "metadata": {
        "colab": {
          "base_uri": "https://localhost:8080/",
          "height": 542
        },
        "id": "C8-06euFXcYw",
        "outputId": "c070e534-260e-4ede-a906-879aa4c5ba2b"
      },
      "id": "C8-06euFXcYw",
      "execution_count": 43,
      "outputs": [
        {
          "output_type": "error",
          "ename": "AttributeError",
          "evalue": "ignored",
          "traceback": [
            "\u001b[0;31m---------------------------------------------------------------------------\u001b[0m",
            "\u001b[0;31mAttributeError\u001b[0m                            Traceback (most recent call last)",
            "\u001b[0;32m<ipython-input-43-a5d8c9c0dab5>\u001b[0m in \u001b[0;36m<module>\u001b[0;34m\u001b[0m\n\u001b[0;32m----> 1\u001b[0;31m \u001b[0mplot_loss\u001b[0m\u001b[0;34m(\u001b[0m\u001b[0mhistory\u001b[0m\u001b[0;34m)\u001b[0m\u001b[0;34m\u001b[0m\u001b[0;34m\u001b[0m\u001b[0m\n\u001b[0m",
            "\u001b[0;32m<ipython-input-40-9b7d526dddd9>\u001b[0m in \u001b[0;36mplot_loss\u001b[0;34m(history)\u001b[0m\n\u001b[1;32m      4\u001b[0m    \u001b[0;31m# plt.plot(history.history['accuracy'], label='accuracy')\u001b[0m\u001b[0;34m\u001b[0m\u001b[0;34m\u001b[0m\u001b[0;34m\u001b[0m\u001b[0m\n\u001b[1;32m      5\u001b[0m    \u001b[0;31m# plt.plot(history.history['val_accuracy'], label='val_accuracy')\u001b[0m\u001b[0;34m\u001b[0m\u001b[0;34m\u001b[0m\u001b[0;34m\u001b[0m\u001b[0m\n\u001b[0;32m----> 6\u001b[0;31m     \u001b[0mplt\u001b[0m\u001b[0;34m.\u001b[0m\u001b[0mylim\u001b[0m\u001b[0;34m(\u001b[0m\u001b[0;34m[\u001b[0m\u001b[0;36m0\u001b[0m\u001b[0;34m,\u001b[0m \u001b[0mhistory\u001b[0m\u001b[0;34m.\u001b[0m\u001b[0mhistory\u001b[0m\u001b[0;34m[\u001b[0m\u001b[0;34m'loss'\u001b[0m\u001b[0;34m]\u001b[0m\u001b[0;34m.\u001b[0m\u001b[0mmax\u001b[0m\u001b[0;34m(\u001b[0m\u001b[0;34m)\u001b[0m\u001b[0;34m]\u001b[0m\u001b[0;34m)\u001b[0m\u001b[0;34m\u001b[0m\u001b[0;34m\u001b[0m\u001b[0m\n\u001b[0m\u001b[1;32m      7\u001b[0m     \u001b[0mplt\u001b[0m\u001b[0;34m.\u001b[0m\u001b[0mxlabel\u001b[0m\u001b[0;34m(\u001b[0m\u001b[0;34m'Epoch'\u001b[0m\u001b[0;34m)\u001b[0m\u001b[0;34m\u001b[0m\u001b[0;34m\u001b[0m\u001b[0m\n\u001b[1;32m      8\u001b[0m     \u001b[0mplt\u001b[0m\u001b[0;34m.\u001b[0m\u001b[0mylabel\u001b[0m\u001b[0;34m(\u001b[0m\u001b[0;34m'Mean Absolute Error'\u001b[0m\u001b[0;34m)\u001b[0m\u001b[0;34m\u001b[0m\u001b[0;34m\u001b[0m\u001b[0m\n",
            "\u001b[0;31mAttributeError\u001b[0m: 'list' object has no attribute 'max'"
          ]
        },
        {
          "output_type": "display_data",
          "data": {
            "text/plain": [
              "<Figure size 432x288 with 1 Axes>"
            ],
            "image/png": "[encoded data removed]"
          },
          "metadata": {
            "needs_background": "light"
          }
        }
      ]
    },
    {
      "cell_type": "markdown",
      "source": [
        "**Decision Tree**"
      ],
      "metadata": {
        "id": "tZcsdcTv0cy_"
      },
      "id": "tZcsdcTv0cy_"
    }
  ],
  "metadata": {
    "kernelspec": {
      "display_name": "Python 3 (ipykernel)",
      "language": "python",
      "name": "python3"
    },
    "language_info": {
      "codemirror_mode": {
        "name": "ipython",
        "version": 3
      },
      "file_extension": ".py",
      "mimetype": "text/x-python",
      "name": "python",
      "nbconvert_exporter": "python",
      "pygments_lexer": "ipython3",
      "version": "3.8.11"
    },
    "colab": {
      "provenance": []
    }
  },
  "nbformat": 4,
  "nbformat_minor": 5
}