{
 "cells": [
  {
   "cell_type": "markdown",
   "id": "a0eabcba-5ca5-4fa8-bde3-8224131c3a6a",
   "metadata": {},
   "source": [
    "**Packages**"
   ]
  },
  {
   "cell_type": "code",
   "execution_count": 2,
   "id": "356025b8",
   "metadata": {
    "tags": []
   },
   "outputs": [
    {
     "name": "stderr",
     "output_type": "stream",
     "text": [
      "2023-03-20 04:39:52.329142: I tensorflow/core/platform/cpu_feature_guard.cc:193] This TensorFlow binary is optimized with oneAPI Deep Neural Network Library (oneDNN) to use the following CPU instructions in performance-critical operations:  AVX2 FMA\n",
      "To enable them in other operations, rebuild TensorFlow with the appropriate compiler flags.\n",
      "2023-03-20 04:39:52.458199: W tensorflow/compiler/xla/stream_executor/platform/default/dso_loader.cc:64] Could not load dynamic library 'libcudart.so.11.0'; dlerror: libcudart.so.11.0: cannot open shared object file: No such file or directory\n",
      "2023-03-20 04:39:52.458233: I tensorflow/compiler/xla/stream_executor/cuda/cudart_stub.cc:29] Ignore above cudart dlerror if you do not have a GPU set up on your machine.\n",
      "2023-03-20 04:39:53.285886: W tensorflow/compiler/xla/stream_executor/platform/default/dso_loader.cc:64] Could not load dynamic library 'libnvinfer.so.7'; dlerror: libnvinfer.so.7: cannot open shared object file: No such file or directory\n",
      "2023-03-20 04:39:53.285980: W tensorflow/compiler/xla/stream_executor/platform/default/dso_loader.cc:64] Could not load dynamic library 'libnvinfer_plugin.so.7'; dlerror: libnvinfer_plugin.so.7: cannot open shared object file: No such file or directory\n",
      "2023-03-20 04:39:53.285991: W tensorflow/compiler/tf2tensorrt/utils/py_utils.cc:38] TF-TRT Warning: Cannot dlopen some TensorRT libraries. If you would like to use Nvidia GPU with TensorRT, please make sure the missing libraries mentioned above are installed properly.\n"
     ]
    }
   ],
   "source": [
    "import numpy as np\n",
    "import pandas as pd\n",
    "import math\n",
    "\n",
    "import matplotlib\n",
    "import matplotlib.pyplot as plt\n",
    "\n",
    "import tensorflow as tf\n",
    "from tensorflow import keras\n",
    "from tensorflow.keras import layers\n",
    "from tensorflow.keras.layers import concatenate\n",
    "import tifffile\n",
    "\n",
    "from sklearn.model_selection import train_test_split\n",
    "from sklearn.metrics import f1_score\n",
    "\n",
    "import os\n",
    "\n",
    "import scipy\n",
    "#_____\n",
    "from numba import cuda \n",
    "\n",
    "import os\n",
    "\n",
    "import tensorflow_addons as tfa\n",
    "import tensorflow_decision_forests as tfdf\n",
    "\n",
    "from keras.layers import Flatten, Dense, Dropout\n",
    "\n",
    "from sklearn import preprocessing\n",
    "from sklearn.preprocessing import LabelBinarizer"
   ]
  },
  {
   "cell_type": "markdown",
   "id": "5b166dc2-360e-4118-9f65-0996bbc163a1",
   "metadata": {},
   "source": [
    "**Helper Functions**"
   ]
  },
  {
   "cell_type": "code",
   "execution_count": 3,
   "id": "51c1eeab-df74-4a28-8b0f-7d937d42028c",
   "metadata": {
    "tags": []
   },
   "outputs": [],
   "source": [
    "def plot_loss(history):\n",
    "    plt.plot(history.history['loss'], label='loss')\n",
    "    plt.plot(history.history['val_loss'], label='val_loss')\n",
    "   # plt.plot(history.history['accuracy'], label='accuracy')\n",
    "   # plt.plot(history.history['val_accuracy'], label='val_accuracy')\n",
    "    plt.ylim([0, \n",
    "            max(\n",
    "                max(history.history['loss']),\n",
    "                max(history.history['val_loss'])\n",
    "            )])\n",
    "    plt.xlabel('Epoch')\n",
    "    plt.ylabel('Loss')\n",
    "    plt.title('Loss')\n",
    "    plt.legend()\n",
    "    plt.grid(True)"
   ]
  },
  {
   "cell_type": "code",
   "execution_count": 4,
   "id": "6d27acab-1145-4120-9a1c-c7da15f505d7",
   "metadata": {
    "tags": []
   },
   "outputs": [],
   "source": [
    "def plot_accuracy(history):\n",
    "   # plt.plot(history.history['loss'], label='loss')\n",
    "   # plt.plot(history.history['val_loss'], label='val_loss')\n",
    "    plt.plot(history.history['accuracy'], label='accuracy')\n",
    "    plt.plot(history.history['val_accuracy'], label='val_accuracy')\n",
    "    plt.ylim([0, \n",
    "            max(\n",
    "                max(history.history['accuracy']),\n",
    "                max(history.history['val_accuracy'])\n",
    "            )])\n",
    "    plt.xlabel('Epoch')\n",
    "    plt.ylabel('Accuracy')\n",
    "    plt.title('Accuracy')\n",
    "    plt.legend()\n",
    "    plt.grid(True)"
   ]
  },
  {
   "cell_type": "markdown",
   "id": "131a5b49-a808-4d41-ad4b-ae9469b994ea",
   "metadata": {},
   "source": [
    "**Data Pre-Processing**"
   ]
  },
  {
   "cell_type": "code",
   "execution_count": 5,
   "id": "f3693092",
   "metadata": {
    "tags": []
   },
   "outputs": [
    {
     "data": {
      "text/html": [
       "<div>\n",
       "<style scoped>\n",
       "    .dataframe tbody tr th:only-of-type {\n",
       "        vertical-align: middle;\n",
       "    }\n",
       "\n",
       "    .dataframe tbody tr th {\n",
       "        vertical-align: top;\n",
       "    }\n",
       "\n",
       "    .dataframe thead th {\n",
       "        text-align: right;\n",
       "    }\n",
       "</style>\n",
       "<table border=\"1\" class=\"dataframe\">\n",
       "  <thead>\n",
       "    <tr style=\"text-align: right;\">\n",
       "      <th></th>\n",
       "      <th>Tile_ID</th>\n",
       "      <th>Long2</th>\n",
       "      <th>Lat2</th>\n",
       "      <th>Long1</th>\n",
       "      <th>Lat1</th>\n",
       "      <th>Mid_lat</th>\n",
       "      <th>Mid_long</th>\n",
       "      <th>Stop_Signs</th>\n",
       "      <th>Paving_historical</th>\n",
       "      <th>Paving_future</th>\n",
       "      <th>...</th>\n",
       "      <th>94129</th>\n",
       "      <th>94130</th>\n",
       "      <th>94131</th>\n",
       "      <th>94132</th>\n",
       "      <th>94133</th>\n",
       "      <th>94134</th>\n",
       "      <th>94141</th>\n",
       "      <th>94143</th>\n",
       "      <th>94158</th>\n",
       "      <th>94188</th>\n",
       "    </tr>\n",
       "  </thead>\n",
       "  <tbody>\n",
       "    <tr>\n",
       "      <th>0</th>\n",
       "      <td>36</td>\n",
       "      <td>-122.514446</td>\n",
       "      <td>37.779636</td>\n",
       "      <td>-122.513306</td>\n",
       "      <td>37.778732</td>\n",
       "      <td>37.779184</td>\n",
       "      <td>-122.513876</td>\n",
       "      <td>0.0</td>\n",
       "      <td>0.0</td>\n",
       "      <td>0.0</td>\n",
       "      <td>...</td>\n",
       "      <td>0</td>\n",
       "      <td>0</td>\n",
       "      <td>0</td>\n",
       "      <td>0</td>\n",
       "      <td>0</td>\n",
       "      <td>0</td>\n",
       "      <td>0</td>\n",
       "      <td>0</td>\n",
       "      <td>0</td>\n",
       "      <td>0</td>\n",
       "    </tr>\n",
       "    <tr>\n",
       "      <th>1</th>\n",
       "      <td>37</td>\n",
       "      <td>-122.514446</td>\n",
       "      <td>37.778732</td>\n",
       "      <td>-122.513306</td>\n",
       "      <td>37.777829</td>\n",
       "      <td>37.778280</td>\n",
       "      <td>-122.513876</td>\n",
       "      <td>0.0</td>\n",
       "      <td>0.0</td>\n",
       "      <td>0.0</td>\n",
       "      <td>...</td>\n",
       "      <td>0</td>\n",
       "      <td>0</td>\n",
       "      <td>0</td>\n",
       "      <td>0</td>\n",
       "      <td>0</td>\n",
       "      <td>0</td>\n",
       "      <td>0</td>\n",
       "      <td>0</td>\n",
       "      <td>0</td>\n",
       "      <td>0</td>\n",
       "    </tr>\n",
       "    <tr>\n",
       "      <th>2</th>\n",
       "      <td>151</td>\n",
       "      <td>-122.513306</td>\n",
       "      <td>37.779636</td>\n",
       "      <td>-122.512166</td>\n",
       "      <td>37.778732</td>\n",
       "      <td>37.779184</td>\n",
       "      <td>-122.512736</td>\n",
       "      <td>0.0</td>\n",
       "      <td>0.0</td>\n",
       "      <td>0.0</td>\n",
       "      <td>...</td>\n",
       "      <td>0</td>\n",
       "      <td>0</td>\n",
       "      <td>0</td>\n",
       "      <td>0</td>\n",
       "      <td>0</td>\n",
       "      <td>0</td>\n",
       "      <td>0</td>\n",
       "      <td>0</td>\n",
       "      <td>0</td>\n",
       "      <td>0</td>\n",
       "    </tr>\n",
       "    <tr>\n",
       "      <th>3</th>\n",
       "      <td>152</td>\n",
       "      <td>-122.513306</td>\n",
       "      <td>37.778732</td>\n",
       "      <td>-122.512166</td>\n",
       "      <td>37.777829</td>\n",
       "      <td>37.778280</td>\n",
       "      <td>-122.512736</td>\n",
       "      <td>0.0</td>\n",
       "      <td>0.0</td>\n",
       "      <td>0.0</td>\n",
       "      <td>...</td>\n",
       "      <td>0</td>\n",
       "      <td>0</td>\n",
       "      <td>0</td>\n",
       "      <td>0</td>\n",
       "      <td>0</td>\n",
       "      <td>0</td>\n",
       "      <td>0</td>\n",
       "      <td>0</td>\n",
       "      <td>0</td>\n",
       "      <td>0</td>\n",
       "    </tr>\n",
       "    <tr>\n",
       "      <th>4</th>\n",
       "      <td>153</td>\n",
       "      <td>-122.513306</td>\n",
       "      <td>37.777829</td>\n",
       "      <td>-122.512166</td>\n",
       "      <td>37.776925</td>\n",
       "      <td>37.777377</td>\n",
       "      <td>-122.512736</td>\n",
       "      <td>0.0</td>\n",
       "      <td>0.0</td>\n",
       "      <td>0.0</td>\n",
       "      <td>...</td>\n",
       "      <td>0</td>\n",
       "      <td>0</td>\n",
       "      <td>0</td>\n",
       "      <td>0</td>\n",
       "      <td>0</td>\n",
       "      <td>0</td>\n",
       "      <td>0</td>\n",
       "      <td>0</td>\n",
       "      <td>0</td>\n",
       "      <td>0</td>\n",
       "    </tr>\n",
       "  </tbody>\n",
       "</table>\n",
       "<p>5 rows × 53 columns</p>\n",
       "</div>"
      ],
      "text/plain": [
       "   Tile_ID       Long2       Lat2       Long1       Lat1    Mid_lat  \\\n",
       "0       36 -122.514446  37.779636 -122.513306  37.778732  37.779184   \n",
       "1       37 -122.514446  37.778732 -122.513306  37.777829  37.778280   \n",
       "2      151 -122.513306  37.779636 -122.512166  37.778732  37.779184   \n",
       "3      152 -122.513306  37.778732 -122.512166  37.777829  37.778280   \n",
       "4      153 -122.513306  37.777829 -122.512166  37.776925  37.777377   \n",
       "\n",
       "     Mid_long  Stop_Signs  Paving_historical  Paving_future  ...  94129  \\\n",
       "0 -122.513876         0.0                0.0            0.0  ...      0   \n",
       "1 -122.513876         0.0                0.0            0.0  ...      0   \n",
       "2 -122.512736         0.0                0.0            0.0  ...      0   \n",
       "3 -122.512736         0.0                0.0            0.0  ...      0   \n",
       "4 -122.512736         0.0                0.0            0.0  ...      0   \n",
       "\n",
       "   94130  94131 94132  94133  94134  94141  94143  94158  94188  \n",
       "0      0      0     0      0      0      0      0      0      0  \n",
       "1      0      0     0      0      0      0      0      0      0  \n",
       "2      0      0     0      0      0      0      0      0      0  \n",
       "3      0      0     0      0      0      0      0      0      0  \n",
       "4      0      0     0      0      0      0      0      0      0  \n",
       "\n",
       "[5 rows x 53 columns]"
      ]
     },
     "execution_count": 5,
     "metadata": {},
     "output_type": "execute_result"
    }
   ],
   "source": [
    "tiles = pd.read_csv(r'./Data/Tiles_binned_zipcode.csv')\n",
    "tiles.head(5)"
   ]
  },
  {
   "cell_type": "code",
   "execution_count": 6,
   "id": "7e18162b-88f8-4b5d-b4c1-e7bd9c3ca7f7",
   "metadata": {
    "tags": []
   },
   "outputs": [
    {
     "data": {
      "text/plain": [
       "Index(['Tile_ID', 'Long2', 'Lat2', 'Long1', 'Lat1', 'Mid_lat', 'Mid_long',\n",
       "       'Stop_Signs', 'Paving_historical', 'Paving_future', 'Bus_stop',\n",
       "       'Collisions_Future', 'Collisions_Historical', 'bin', 'RTTYP_I',\n",
       "       'RTTYP_M', 'RTTYP_O', 'RTTYP_S', 'RTTYP_U', 'Collisions_Future_binary',\n",
       "       'Collisions_Historical_binary', 'bins_numeric', 'zip_code', '94101',\n",
       "       '94102', '94104', '94105', '94107', '94108', '94109', '94110', '94111',\n",
       "       '94112', '94114', '94115', '94116', '94117', '94118', '94121', '94122',\n",
       "       '94123', '94124', '94127', '94129', '94130', '94131', '94132', '94133',\n",
       "       '94134', '94141', '94143', '94158', '94188'],\n",
       "      dtype='object')"
      ]
     },
     "execution_count": 6,
     "metadata": {},
     "output_type": "execute_result"
    }
   ],
   "source": [
    "tiles.columns"
   ]
  },
  {
   "cell_type": "markdown",
   "id": "c3a6b82c",
   "metadata": {},
   "source": [
    "Split into training and test"
   ]
  },
  {
   "cell_type": "code",
   "execution_count": 7,
   "id": "0d50fdd4",
   "metadata": {
    "tags": []
   },
   "outputs": [],
   "source": [
    "x_train, x_test, y_train, y_test = train_test_split(tiles[['Tile_ID', 'Long2', 'Lat2', 'Long1', 'Lat1', 'Mid_lat', 'Mid_long',\n",
    "       'Stop_Signs', 'Paving_historical', 'Paving_future', 'Bus_stop',\n",
    "       'Collisions_Future', 'Collisions_Historical', 'RTTYP_I',\n",
    "       'RTTYP_M', 'RTTYP_O', 'RTTYP_S', 'RTTYP_U', 'Collisions_Future_binary',\n",
    "       'Collisions_Historical_binary', 'bins_numeric', 'zip_code', '94101',\n",
    "       '94102', '94104', '94105', '94107', '94108', '94109', '94110', '94111',\n",
    "       '94112', '94114', '94115', '94116', '94117', '94118', '94121', '94122',\n",
    "       '94123', '94124', '94127', '94129', '94130', '94131', '94132', '94133',\n",
    "       '94134', '94141', '94143', '94158', '94188']], \n",
    "                                   tiles['bin'],\n",
    "                                   random_state=104, \n",
    "                                   test_size=0.20, \n",
    "                                   shuffle=True)"
   ]
  },
  {
   "cell_type": "markdown",
   "id": "bf220283",
   "metadata": {},
   "source": [
    "Image Pre-Processing"
   ]
  },
  {
   "cell_type": "code",
   "execution_count": 8,
   "id": "9298e629",
   "metadata": {},
   "outputs": [],
   "source": [
    "IMAGE_PATH = './Satellite Imagery/Satellite Images Tiled/' \n",
    "\n",
    "def preprocess_data_part1(IMAGE_PATH):\n",
    "    \"\"\" Generate lists of images and labelsbased on temp_no_refer and temp_refer lists\n",
    "    \n",
    "    Params:\n",
    "    -------\n",
    "    IMAGE_PATH (str): path to directory with images.\n",
    "    \n",
    "    Returns:\n",
    "    --------\n",
    "    images_mini  (np.ndarray): Images of shape (N, 149 3)\n",
    "    \"\"\"\n",
    "    \n",
    "    data_mini = []\n",
    "    \n",
    "    for id in x_train['Tile_ID']:    \n",
    "                    \n",
    "        # read image and store as matrix            \n",
    "        # Index at the end makes all images the same size (they sometimes differ by 1 pixel)\n",
    "        image = tifffile.imread(IMAGE_PATH + str(id) + '.tif')[0:148, 0:188, :]\n",
    "        \n",
    "            \n",
    "        # append to images\n",
    "        data_mini.append(np.mean(image))\n",
    " \n",
    "    # stack images and trasnform to array\n",
    "    images_mini = np.stack(data_mini)\n",
    "    \n",
    "    return images_mini"
   ]
  },
  {
   "cell_type": "code",
   "execution_count": 9,
   "id": "4d8f77ae",
   "metadata": {},
   "outputs": [
    {
     "data": {
      "text/plain": [
       "(8376,)"
      ]
     },
     "execution_count": 9,
     "metadata": {},
     "output_type": "execute_result"
    }
   ],
   "source": [
    "images_mini = preprocess_data_part1(IMAGE_PATH)\n",
    "np.shape(images_mini)"
   ]
  },
  {
   "cell_type": "markdown",
   "id": "57135842",
   "metadata": {},
   "source": [
    "Street Data Pre-Processing"
   ]
  },
  {
   "cell_type": "code",
   "execution_count": 10,
   "id": "d6875346-e6d0-451f-87d1-77a94ba8dc71",
   "metadata": {
    "tags": []
   },
   "outputs": [
    {
     "data": {
      "text/plain": [
       "Index(['Tile_ID', 'Long2', 'Lat2', 'Long1', 'Lat1', 'Mid_lat', 'Mid_long',\n",
       "       'Stop_Signs', 'Paving_historical', 'Paving_future', 'Bus_stop',\n",
       "       'Collisions_Future', 'Collisions_Historical', 'RTTYP_I', 'RTTYP_M',\n",
       "       'RTTYP_O', 'RTTYP_S', 'RTTYP_U', 'Collisions_Future_binary',\n",
       "       'Collisions_Historical_binary', 'bins_numeric', 'zip_code', '94101',\n",
       "       '94102', '94104', '94105', '94107', '94108', '94109', '94110', '94111',\n",
       "       '94112', '94114', '94115', '94116', '94117', '94118', '94121', '94122',\n",
       "       '94123', '94124', '94127', '94129', '94130', '94131', '94132', '94133',\n",
       "       '94134', '94141', '94143', '94158', '94188'],\n",
       "      dtype='object')"
      ]
     },
     "execution_count": 10,
     "metadata": {},
     "output_type": "execute_result"
    }
   ],
   "source": [
    "x_train.columns"
   ]
  },
  {
   "cell_type": "code",
   "execution_count": 11,
   "id": "8dce0686",
   "metadata": {
    "tags": []
   },
   "outputs": [
    {
     "data": {
      "text/plain": [
       "(8376, 1, 1, 52)"
      ]
     },
     "execution_count": 11,
     "metadata": {},
     "output_type": "execute_result"
    }
   ],
   "source": [
    "street = np.asarray(x_train[['Tile_ID', 'Long2', 'Lat2', 'Long1', 'Lat1', 'Mid_lat', 'Mid_long',\n",
    "       'Stop_Signs', 'Paving_historical', 'Paving_future', 'Bus_stop',\n",
    "       'Collisions_Future', 'Collisions_Historical', 'RTTYP_I', 'RTTYP_M',\n",
    "       'RTTYP_O', 'RTTYP_S', 'RTTYP_U', 'Collisions_Future_binary',\n",
    "       'Collisions_Historical_binary', 'bins_numeric', 'zip_code', '94101',\n",
    "       '94102', '94104', '94105', '94107', '94108', '94109', '94110', '94111',\n",
    "       '94112', '94114', '94115', '94116', '94117', '94118', '94121', '94122',\n",
    "       '94123', '94124', '94127', '94129', '94130', '94131', '94132', '94133',\n",
    "       '94134', '94141', '94143', '94158', '94188']]).astype('float32')\n",
    "street_mini = []\n",
    "for row in range(len(street)):\n",
    "    street_mini.append([[street[row]]])\n",
    "street_mini = np.stack(street_mini)\n",
    "np.shape(street_mini)"
   ]
  },
  {
   "cell_type": "code",
   "execution_count": 12,
   "id": "c5275800-edf8-4225-a07c-998b25870208",
   "metadata": {
    "tags": []
   },
   "outputs": [
    {
     "data": {
      "text/plain": [
       "(8376, 53)"
      ]
     },
     "execution_count": 12,
     "metadata": {},
     "output_type": "execute_result"
    }
   ],
   "source": [
    "input_image_street = np.hstack(\n",
    "    (street_mini.reshape((8376,52)),\n",
    "     images_mini.reshape(8376,1))\n",
    ")\n",
    "np.shape(input_image_street)"
   ]
  },
  {
   "cell_type": "markdown",
   "id": "99ae0d0a-47df-45ce-8bd4-9c31ed9d0cc3",
   "metadata": {},
   "source": [
    "**Noriel's Models**"
   ]
  },
  {
   "cell_type": "code",
   "execution_count": 13,
   "id": "a13e660c-d9ed-4991-ba6a-c0cece399b50",
   "metadata": {},
   "outputs": [
    {
     "data": {
      "text/plain": [
       "8419     C\n",
       "10129    B\n",
       "7641     A\n",
       "5215     A\n",
       "7784     A\n",
       "Name: bin, dtype: object"
      ]
     },
     "execution_count": 13,
     "metadata": {},
     "output_type": "execute_result"
    }
   ],
   "source": [
    "y_train[0:5]"
   ]
  },
  {
   "cell_type": "code",
   "execution_count": 14,
   "id": "7217a2b4-a4fb-4407-8f08-cf72e15cdbfa",
   "metadata": {
    "tags": []
   },
   "outputs": [],
   "source": [
    "le = preprocessing.LabelEncoder()\n",
    "le.fit(y_train)\n",
    "y_train = le.transform(y_train)"
   ]
  },
  {
   "cell_type": "code",
   "execution_count": 15,
   "id": "2e009aa6-17b0-4b25-a570-aba1ce6100ae",
   "metadata": {
    "tags": []
   },
   "outputs": [
    {
     "data": {
      "text/plain": [
       "array([2, 1, 0, 0, 0])"
      ]
     },
     "execution_count": 15,
     "metadata": {},
     "output_type": "execute_result"
    }
   ],
   "source": [
    "y_train[0:5]"
   ]
  },
  {
   "cell_type": "code",
   "execution_count": 16,
   "id": "b77c3787-63c6-4417-a626-e29615e3ed26",
   "metadata": {
    "tags": []
   },
   "outputs": [],
   "source": [
    "from sklearn import preprocessing\n",
    "scaler = preprocessing.StandardScaler().fit(input_image_street)"
   ]
  },
  {
   "cell_type": "code",
   "execution_count": 17,
   "id": "823fe644-d502-4268-a655-7b8731aad901",
   "metadata": {
    "tags": []
   },
   "outputs": [
    {
     "data": {
      "text/html": [
       "<style>#sk-container-id-1 {color: black;background-color: white;}#sk-container-id-1 pre{padding: 0;}#sk-container-id-1 div.sk-toggleable {background-color: white;}#sk-container-id-1 label.sk-toggleable__label {cursor: pointer;display: block;width: 100%;margin-bottom: 0;padding: 0.3em;box-sizing: border-box;text-align: center;}#sk-container-id-1 label.sk-toggleable__label-arrow:before {content: \"▸\";float: left;margin-right: 0.25em;color: #696969;}#sk-container-id-1 label.sk-toggleable__label-arrow:hover:before {color: black;}#sk-container-id-1 div.sk-estimator:hover label.sk-toggleable__label-arrow:before {color: black;}#sk-container-id-1 div.sk-toggleable__content {max-height: 0;max-width: 0;overflow: hidden;text-align: left;background-color: #f0f8ff;}#sk-container-id-1 div.sk-toggleable__content pre {margin: 0.2em;color: black;border-radius: 0.25em;background-color: #f0f8ff;}#sk-container-id-1 input.sk-toggleable__control:checked~div.sk-toggleable__content {max-height: 200px;max-width: 100%;overflow: auto;}#sk-container-id-1 input.sk-toggleable__control:checked~label.sk-toggleable__label-arrow:before {content: \"▾\";}#sk-container-id-1 div.sk-estimator input.sk-toggleable__control:checked~label.sk-toggleable__label {background-color: #d4ebff;}#sk-container-id-1 div.sk-label input.sk-toggleable__control:checked~label.sk-toggleable__label {background-color: #d4ebff;}#sk-container-id-1 input.sk-hidden--visually {border: 0;clip: rect(1px 1px 1px 1px);clip: rect(1px, 1px, 1px, 1px);height: 1px;margin: -1px;overflow: hidden;padding: 0;position: absolute;width: 1px;}#sk-container-id-1 div.sk-estimator {font-family: monospace;background-color: #f0f8ff;border: 1px dotted black;border-radius: 0.25em;box-sizing: border-box;margin-bottom: 0.5em;}#sk-container-id-1 div.sk-estimator:hover {background-color: #d4ebff;}#sk-container-id-1 div.sk-parallel-item::after {content: \"\";width: 100%;border-bottom: 1px solid gray;flex-grow: 1;}#sk-container-id-1 div.sk-label:hover label.sk-toggleable__label {background-color: #d4ebff;}#sk-container-id-1 div.sk-serial::before {content: \"\";position: absolute;border-left: 1px solid gray;box-sizing: border-box;top: 0;bottom: 0;left: 50%;z-index: 0;}#sk-container-id-1 div.sk-serial {display: flex;flex-direction: column;align-items: center;background-color: white;padding-right: 0.2em;padding-left: 0.2em;position: relative;}#sk-container-id-1 div.sk-item {position: relative;z-index: 1;}#sk-container-id-1 div.sk-parallel {display: flex;align-items: stretch;justify-content: center;background-color: white;position: relative;}#sk-container-id-1 div.sk-item::before, #sk-container-id-1 div.sk-parallel-item::before {content: \"\";position: absolute;border-left: 1px solid gray;box-sizing: border-box;top: 0;bottom: 0;left: 50%;z-index: -1;}#sk-container-id-1 div.sk-parallel-item {display: flex;flex-direction: column;z-index: 1;position: relative;background-color: white;}#sk-container-id-1 div.sk-parallel-item:first-child::after {align-self: flex-end;width: 50%;}#sk-container-id-1 div.sk-parallel-item:last-child::after {align-self: flex-start;width: 50%;}#sk-container-id-1 div.sk-parallel-item:only-child::after {width: 0;}#sk-container-id-1 div.sk-dashed-wrapped {border: 1px dashed gray;margin: 0 0.4em 0.5em 0.4em;box-sizing: border-box;padding-bottom: 0.4em;background-color: white;}#sk-container-id-1 div.sk-label label {font-family: monospace;font-weight: bold;display: inline-block;line-height: 1.2em;}#sk-container-id-1 div.sk-label-container {text-align: center;}#sk-container-id-1 div.sk-container {/* jupyter's `normalize.less` sets `[hidden] { display: none; }` but bootstrap.min.css set `[hidden] { display: none !important; }` so we also need the `!important` here to be able to override the default hidden behavior on the sphinx rendered scikit-learn.org. See: https://github.com/scikit-learn/scikit-learn/issues/21755 */display: inline-block !important;position: relative;}#sk-container-id-1 div.sk-text-repr-fallback {display: none;}</style><div id=\"sk-container-id-1\" class=\"sk-top-container\"><div class=\"sk-text-repr-fallback\"><pre>StandardScaler()</pre><b>In a Jupyter environment, please rerun this cell to show the HTML representation or trust the notebook. <br />On GitHub, the HTML representation is unable to render, please try loading this page with nbviewer.org.</b></div><div class=\"sk-container\" hidden><div class=\"sk-item\"><div class=\"sk-estimator sk-toggleable\"><input class=\"sk-toggleable__control sk-hidden--visually\" id=\"sk-estimator-id-1\" type=\"checkbox\" checked><label for=\"sk-estimator-id-1\" class=\"sk-toggleable__label sk-toggleable__label-arrow\">StandardScaler</label><div class=\"sk-toggleable__content\"><pre>StandardScaler()</pre></div></div></div></div></div>"
      ],
      "text/plain": [
       "StandardScaler()"
      ]
     },
     "execution_count": 17,
     "metadata": {},
     "output_type": "execute_result"
    }
   ],
   "source": [
    "scaler"
   ]
  },
  {
   "cell_type": "code",
   "execution_count": 18,
   "id": "ada6edb2-8e7a-4efd-bcd6-27cd7d579f13",
   "metadata": {
    "tags": []
   },
   "outputs": [
    {
     "data": {
      "text/plain": [
       "array([ 7.44366774e+03, -1.22441260e+02,  3.77564376e+01, -1.22440120e+02,\n",
       "        3.77555340e+01,  3.77559859e+01, -1.22440690e+02,  1.02280325e+00,\n",
       "        1.53533906e-01,  1.08524355e-01,  3.05635148e-01,  5.12535817e-01,\n",
       "        5.67574021e-01,  7.87965616e-03,  9.82211079e-01,  1.19388730e-04,\n",
       "        4.65616046e-03,  5.13371538e-03,  2.06781280e-01,  2.20630372e-01,\n",
       "        4.83404967e-01,  9.41228443e+04,  2.48328558e-02,  1.71919771e-02,\n",
       "        1.42072588e-02,  1.19388730e-02,  2.34001910e-02,  1.19388730e-02,\n",
       "        1.37297039e-02,  5.19340974e-02,  7.40210124e-03,  6.07688634e-02,\n",
       "        3.60553964e-02,  3.16380134e-02,  6.50668577e-02,  2.50716332e-02,\n",
       "        3.40257880e-02,  7.86771729e-02,  4.75167144e-02,  3.70105062e-02,\n",
       "        4.64422159e-02,  4.35768863e-02,  5.61127030e-02,  4.53677173e-03,\n",
       "        3.27125119e-02,  5.38443171e-02,  1.73113658e-02,  5.55157593e-02,\n",
       "        3.02053486e-02,  3.55778415e-02,  1.55205349e-02,  1.62368672e-02,\n",
       "        1.22468816e+02])"
      ]
     },
     "execution_count": 18,
     "metadata": {},
     "output_type": "execute_result"
    }
   ],
   "source": [
    "scaler.mean_"
   ]
  },
  {
   "cell_type": "code",
   "execution_count": 19,
   "id": "a553363a-f372-47cc-9bca-d9e823decfbf",
   "metadata": {
    "tags": []
   },
   "outputs": [
    {
     "data": {
      "text/plain": [
       "array([3.62170804e+03, 3.58914103e-02, 2.69837121e-02, 3.58913965e-02,\n",
       "       2.69836868e-02, 2.69836769e-02, 3.58915045e-02, 1.69817323e+00,\n",
       "       7.09345061e-01, 5.41535473e-01, 7.44092784e-01, 1.46205932e+00,\n",
       "       1.56037953e+00, 8.84170073e-02, 1.32183490e-01, 1.09258627e-02,\n",
       "       6.80770198e-02, 7.14657984e-02, 4.04997262e-01, 4.14671691e-01,\n",
       "       1.06988902e+00, 1.40323468e+01, 1.55615504e-01, 1.29986203e-01,\n",
       "       1.18344466e-01, 1.08610940e-01, 1.51170837e-01, 1.08610940e-01,\n",
       "       1.16366658e-01, 2.21893999e-01, 8.57164520e-02, 2.38905857e-01,\n",
       "       1.86428015e-01, 1.75034424e-01, 2.46643795e-01, 1.56342721e-01,\n",
       "       1.81295432e-01, 2.69234239e-01, 2.12741337e-01, 1.88787522e-01,\n",
       "       2.10440815e-01, 2.04151761e-01, 2.30139235e-01, 6.72025999e-02,\n",
       "       1.77883118e-01, 2.25710227e-01, 1.30428840e-01, 2.28984191e-01,\n",
       "       1.71151937e-01, 1.85235144e-01, 1.23610873e-01, 1.26385250e-01,\n",
       "       1.65776993e+01])"
      ]
     },
     "execution_count": 19,
     "metadata": {},
     "output_type": "execute_result"
    }
   ],
   "source": [
    "scaler.scale_"
   ]
  },
  {
   "cell_type": "code",
   "execution_count": 20,
   "id": "fe19845f-ed7d-4ec2-8c27-3d94eb87a0b9",
   "metadata": {
    "tags": []
   },
   "outputs": [
    {
     "data": {
      "text/plain": [
       "array([[ 0.9800161 ,  0.97864366, -0.2118546 , ..., -0.12555963,\n",
       "        -0.12847123,  0.16439684],\n",
       "       [ 1.6275007 ,  1.6140119 , -1.7188627 , ..., -0.12555963,\n",
       "        -0.12847123,  0.50464326],\n",
       "       [ 0.7508425 ,  0.7562967 ,  0.6253407 , ..., -0.12555963,\n",
       "        -0.12847123,  1.3767139 ],\n",
       "       ...,\n",
       "       [-1.5497296 , -1.5626165 , -1.4843292 , ..., -0.12555963,\n",
       "        -0.12847123,  1.8655516 ],\n",
       "       [ 0.20303467,  0.21637191,  1.5964139 , ..., -0.12555963,\n",
       "        -0.12847123,  0.42260808],\n",
       "       [ 0.9339053 ,  0.94697094,  1.5294043 , ..., -0.12555963,\n",
       "        -0.12847123, -0.0320832 ]], dtype=float32)"
      ]
     },
     "execution_count": 20,
     "metadata": {},
     "output_type": "execute_result"
    }
   ],
   "source": [
    "X_scaled = scaler.transform(input_image_street)\n",
    "X_scaled"
   ]
  },
  {
   "cell_type": "code",
   "execution_count": 21,
   "id": "94e4029c-9726-4105-bbb9-932ab1baad96",
   "metadata": {
    "tags": []
   },
   "outputs": [],
   "source": [
    "from sklearn.ensemble import RandomForestClassifier\n",
    "from sklearn.model_selection import GridSearchCV\n",
    "# Create the parameter grid based on the results of random search \n",
    "param_grid = {\n",
    "    'bootstrap': [True],'max_depth': [20,30,40, 100, 110],\n",
    "    'max_features': ['sqrt'],'min_samples_leaf': [5,10,15],\n",
    "    'min_samples_split': [40,50,60], 'n_estimators': [150, 200, 250]\n",
    "}\n",
    "# Create a based model\n",
    "rf = RandomForestClassifier()\n",
    "# Instantiate the grid search model\n",
    "grid_search = GridSearchCV(estimator = rf, param_grid = param_grid, \n",
    "                          cv = 3, n_jobs = -1, verbose = 2)"
   ]
  },
  {
   "cell_type": "code",
   "execution_count": 22,
   "id": "bdaff37d-b624-434a-9b5c-0c20630e075d",
   "metadata": {
    "tags": []
   },
   "outputs": [
    {
     "name": "stdout",
     "output_type": "stream",
     "text": [
      "Fitting 3 folds for each of 135 candidates, totalling 405 fits\n"
     ]
    },
    {
     "name": "stderr",
     "output_type": "stream",
     "text": [
      "/home/ubuntu/capstone/lib/python3.10/site-packages/sklearn/model_selection/_split.py:700: UserWarning: The least populated class in y has only 1 members, which is less than n_splits=3.\n",
      "  warnings.warn(\n"
     ]
    },
    {
     "name": "stdout",
     "output_type": "stream",
     "text": [
      "[CV] END bootstrap=True, max_depth=20, max_features=sqrt, min_samples_leaf=5, min_samples_split=40, n_estimators=200; total time=   0.8s\n",
      "[CV] END bootstrap=True, max_depth=20, max_features=sqrt, min_samples_leaf=5, min_samples_split=40, n_estimators=250; total time=   1.1s\n",
      "[CV] END bootstrap=True, max_depth=20, max_features=sqrt, min_samples_leaf=5, min_samples_split=50, n_estimators=150; total time=   0.6s\n",
      "[CV] END bootstrap=True, max_depth=20, max_features=sqrt, min_samples_leaf=5, min_samples_split=50, n_estimators=250; total time=   1.0s\n",
      "[CV] END bootstrap=True, max_depth=20, max_features=sqrt, min_samples_leaf=5, min_samples_split=60, n_estimators=150; total time=   0.6s\n",
      "[CV] END bootstrap=True, max_depth=20, max_features=sqrt, min_samples_leaf=5, min_samples_split=60, n_estimators=200; total time=   0.8s\n",
      "[CV] END bootstrap=True, max_depth=20, max_features=sqrt, min_samples_leaf=10, min_samples_split=40, n_estimators=150; total time=   0.6s\n",
      "[CV] END bootstrap=True, max_depth=20, max_features=sqrt, min_samples_leaf=10, min_samples_split=40, n_estimators=150; total time=   0.6s\n",
      "[CV] END bootstrap=True, max_depth=20, max_features=sqrt, min_samples_leaf=10, min_samples_split=40, n_estimators=250; total time=   1.0s\n",
      "[CV] END bootstrap=True, max_depth=20, max_features=sqrt, min_samples_leaf=10, min_samples_split=50, n_estimators=150; total time=   0.6s\n",
      "[CV] END bootstrap=True, max_depth=20, max_features=sqrt, min_samples_leaf=10, min_samples_split=50, n_estimators=200; total time=   0.8s\n",
      "[CV] END bootstrap=True, max_depth=20, max_features=sqrt, min_samples_leaf=10, min_samples_split=60, n_estimators=150; total time=   0.6s\n",
      "[CV] END bootstrap=True, max_depth=20, max_features=sqrt, min_samples_leaf=10, min_samples_split=60, n_estimators=150; total time=   0.6s\n",
      "[CV] END bootstrap=True, max_depth=20, max_features=sqrt, min_samples_leaf=10, min_samples_split=60, n_estimators=250; total time=   1.0s\n",
      "[CV] END bootstrap=True, max_depth=20, max_features=sqrt, min_samples_leaf=15, min_samples_split=40, n_estimators=150; total time=   0.6s\n",
      "[CV] END bootstrap=True, max_depth=20, max_features=sqrt, min_samples_leaf=15, min_samples_split=40, n_estimators=200; total time=   0.8s\n",
      "[CV] END bootstrap=True, max_depth=20, max_features=sqrt, min_samples_leaf=15, min_samples_split=50, n_estimators=150; total time=   0.6s\n",
      "[CV] END bootstrap=True, max_depth=20, max_features=sqrt, min_samples_leaf=15, min_samples_split=50, n_estimators=150; total time=   0.6s\n",
      "[CV] END bootstrap=True, max_depth=20, max_features=sqrt, min_samples_leaf=15, min_samples_split=50, n_estimators=250; total time=   1.0s\n",
      "[CV] END bootstrap=True, max_depth=20, max_features=sqrt, min_samples_leaf=15, min_samples_split=60, n_estimators=150; total time=   0.6s\n",
      "[CV] END bootstrap=True, max_depth=20, max_features=sqrt, min_samples_leaf=15, min_samples_split=60, n_estimators=200; total time=   0.8s\n",
      "[CV] END bootstrap=True, max_depth=30, max_features=sqrt, min_samples_leaf=5, min_samples_split=40, n_estimators=150; total time=   0.6s\n",
      "[CV] END bootstrap=True, max_depth=30, max_features=sqrt, min_samples_leaf=5, min_samples_split=40, n_estimators=150; total time=   0.6s\n",
      "[CV] END bootstrap=True, max_depth=30, max_features=sqrt, min_samples_leaf=5, min_samples_split=40, n_estimators=250; total time=   1.0s\n",
      "[CV] END bootstrap=True, max_depth=30, max_features=sqrt, min_samples_leaf=5, min_samples_split=50, n_estimators=150; total time=   0.6s\n",
      "[CV] END bootstrap=True, max_depth=30, max_features=sqrt, min_samples_leaf=5, min_samples_split=50, n_estimators=200; total time=   0.8s\n",
      "[CV] END bootstrap=True, max_depth=30, max_features=sqrt, min_samples_leaf=5, min_samples_split=60, n_estimators=150; total time=   0.6s\n",
      "[CV] END bootstrap=True, max_depth=30, max_features=sqrt, min_samples_leaf=5, min_samples_split=60, n_estimators=150; total time=   0.6s\n",
      "[CV] END bootstrap=True, max_depth=30, max_features=sqrt, min_samples_leaf=5, min_samples_split=60, n_estimators=250; total time=   1.0s\n",
      "[CV] END bootstrap=True, max_depth=30, max_features=sqrt, min_samples_leaf=10, min_samples_split=40, n_estimators=150; total time=   0.6s\n",
      "[CV] END bootstrap=True, max_depth=30, max_features=sqrt, min_samples_leaf=10, min_samples_split=40, n_estimators=200; total time=   0.8s\n",
      "[CV] END bootstrap=True, max_depth=30, max_features=sqrt, min_samples_leaf=10, min_samples_split=50, n_estimators=150; total time=   0.6s\n",
      "[CV] END bootstrap=True, max_depth=30, max_features=sqrt, min_samples_leaf=10, min_samples_split=50, n_estimators=150; total time=   0.6s\n",
      "[CV] END bootstrap=True, max_depth=30, max_features=sqrt, min_samples_leaf=10, min_samples_split=50, n_estimators=250; total time=   1.0s\n",
      "[CV] END bootstrap=True, max_depth=30, max_features=sqrt, min_samples_leaf=10, min_samples_split=60, n_estimators=150; total time=   0.6s\n",
      "[CV] END bootstrap=True, max_depth=30, max_features=sqrt, min_samples_leaf=10, min_samples_split=60, n_estimators=200; total time=   0.8s\n",
      "[CV] END bootstrap=True, max_depth=30, max_features=sqrt, min_samples_leaf=15, min_samples_split=40, n_estimators=150; total time=   0.6s\n",
      "[CV] END bootstrap=True, max_depth=30, max_features=sqrt, min_samples_leaf=15, min_samples_split=40, n_estimators=150; total time=   0.6s\n",
      "[CV] END bootstrap=True, max_depth=30, max_features=sqrt, min_samples_leaf=15, min_samples_split=40, n_estimators=250; total time=   1.0s\n",
      "[CV] END bootstrap=True, max_depth=30, max_features=sqrt, min_samples_leaf=15, min_samples_split=50, n_estimators=150; total time=   0.6s\n",
      "[CV] END bootstrap=True, max_depth=30, max_features=sqrt, min_samples_leaf=15, min_samples_split=50, n_estimators=200; total time=   0.8s\n",
      "[CV] END bootstrap=True, max_depth=30, max_features=sqrt, min_samples_leaf=15, min_samples_split=50, n_estimators=250; total time=   1.0s\n",
      "[CV] END bootstrap=True, max_depth=30, max_features=sqrt, min_samples_leaf=15, min_samples_split=60, n_estimators=200; total time=   0.8s\n",
      "[CV] END bootstrap=True, max_depth=30, max_features=sqrt, min_samples_leaf=15, min_samples_split=60, n_estimators=250; total time=   1.0s\n",
      "[CV] END bootstrap=True, max_depth=40, max_features=sqrt, min_samples_leaf=5, min_samples_split=40, n_estimators=200; total time=   0.8s\n",
      "[CV] END bootstrap=True, max_depth=40, max_features=sqrt, min_samples_leaf=5, min_samples_split=40, n_estimators=250; total time=   1.0s\n",
      "[CV] END bootstrap=True, max_depth=40, max_features=sqrt, min_samples_leaf=5, min_samples_split=50, n_estimators=200; total time=   0.8s\n",
      "[CV] END bootstrap=True, max_depth=40, max_features=sqrt, min_samples_leaf=5, min_samples_split=50, n_estimators=250; total time=   1.0s\n",
      "[CV] END bootstrap=True, max_depth=40, max_features=sqrt, min_samples_leaf=5, min_samples_split=60, n_estimators=200; total time=   0.8s\n",
      "[CV] END bootstrap=True, max_depth=40, max_features=sqrt, min_samples_leaf=10, min_samples_split=40, n_estimators=150; total time=   0.6s\n",
      "[CV] END bootstrap=True, max_depth=40, max_features=sqrt, min_samples_leaf=10, min_samples_split=40, n_estimators=150; total time=   0.6s\n",
      "[CV] END bootstrap=True, max_depth=40, max_features=sqrt, min_samples_leaf=10, min_samples_split=40, n_estimators=250; total time=   1.0s\n",
      "[CV] END bootstrap=True, max_depth=40, max_features=sqrt, min_samples_leaf=10, min_samples_split=50, n_estimators=150; total time=   0.6s\n",
      "[CV] END bootstrap=True, max_depth=40, max_features=sqrt, min_samples_leaf=10, min_samples_split=50, n_estimators=200; total time=   0.8s\n",
      "[CV] END bootstrap=True, max_depth=40, max_features=sqrt, min_samples_leaf=10, min_samples_split=60, n_estimators=150; total time=   0.6s\n",
      "[CV] END bootstrap=True, max_depth=40, max_features=sqrt, min_samples_leaf=10, min_samples_split=60, n_estimators=150; total time=   0.6s\n",
      "[CV] END bootstrap=True, max_depth=40, max_features=sqrt, min_samples_leaf=10, min_samples_split=60, n_estimators=250; total time=   1.0s\n",
      "[CV] END bootstrap=True, max_depth=40, max_features=sqrt, min_samples_leaf=15, min_samples_split=40, n_estimators=150; total time=   0.6s\n",
      "[CV] END bootstrap=True, max_depth=40, max_features=sqrt, min_samples_leaf=15, min_samples_split=40, n_estimators=200; total time=   0.8s\n",
      "[CV] END bootstrap=True, max_depth=20, max_features=sqrt, min_samples_leaf=5, min_samples_split=40, n_estimators=150; total time=   0.6s\n",
      "[CV] END bootstrap=True, max_depth=20, max_features=sqrt, min_samples_leaf=5, min_samples_split=40, n_estimators=200; total time=   0.8s\n",
      "[CV] END bootstrap=True, max_depth=20, max_features=sqrt, min_samples_leaf=5, min_samples_split=50, n_estimators=150; total time=   0.6s\n",
      "[CV] END bootstrap=True, max_depth=20, max_features=sqrt, min_samples_leaf=5, min_samples_split=50, n_estimators=200; total time=   0.8s\n",
      "[CV] END bootstrap=True, max_depth=20, max_features=sqrt, min_samples_leaf=5, min_samples_split=50, n_estimators=250; total time=   1.0s\n",
      "[CV] END bootstrap=True, max_depth=20, max_features=sqrt, min_samples_leaf=5, min_samples_split=60, n_estimators=200; total time=   0.8s\n",
      "[CV] END bootstrap=True, max_depth=20, max_features=sqrt, min_samples_leaf=5, min_samples_split=60, n_estimators=250; total time=   1.0s\n",
      "[CV] END bootstrap=True, max_depth=20, max_features=sqrt, min_samples_leaf=10, min_samples_split=40, n_estimators=200; total time=   0.8s\n",
      "[CV] END bootstrap=True, max_depth=20, max_features=sqrt, min_samples_leaf=10, min_samples_split=40, n_estimators=250; total time=   1.0s\n",
      "[CV] END bootstrap=True, max_depth=20, max_features=sqrt, min_samples_leaf=10, min_samples_split=50, n_estimators=200; total time=   0.8s\n",
      "[CV] END bootstrap=True, max_depth=20, max_features=sqrt, min_samples_leaf=10, min_samples_split=50, n_estimators=250; total time=   1.0s\n",
      "[CV] END bootstrap=True, max_depth=20, max_features=sqrt, min_samples_leaf=10, min_samples_split=60, n_estimators=200; total time=   0.8s\n",
      "[CV] END bootstrap=True, max_depth=20, max_features=sqrt, min_samples_leaf=10, min_samples_split=60, n_estimators=250; total time=   1.0s\n",
      "[CV] END bootstrap=True, max_depth=20, max_features=sqrt, min_samples_leaf=15, min_samples_split=40, n_estimators=200; total time=   0.8s\n",
      "[CV] END bootstrap=True, max_depth=20, max_features=sqrt, min_samples_leaf=15, min_samples_split=40, n_estimators=250; total time=   1.0s\n",
      "[CV] END bootstrap=True, max_depth=20, max_features=sqrt, min_samples_leaf=15, min_samples_split=50, n_estimators=200; total time=   0.8s\n",
      "[CV] END bootstrap=True, max_depth=20, max_features=sqrt, min_samples_leaf=15, min_samples_split=50, n_estimators=250; total time=   1.0s\n",
      "[CV] END bootstrap=True, max_depth=20, max_features=sqrt, min_samples_leaf=15, min_samples_split=60, n_estimators=150; total time=   0.6s\n",
      "[CV] END bootstrap=True, max_depth=20, max_features=sqrt, min_samples_leaf=15, min_samples_split=60, n_estimators=250; total time=   1.0s\n",
      "[CV] END bootstrap=True, max_depth=30, max_features=sqrt, min_samples_leaf=5, min_samples_split=40, n_estimators=150; total time=   0.6s\n",
      "[CV] END bootstrap=True, max_depth=30, max_features=sqrt, min_samples_leaf=5, min_samples_split=40, n_estimators=200; total time=   0.8s\n",
      "[CV] END bootstrap=True, max_depth=30, max_features=sqrt, min_samples_leaf=5, min_samples_split=50, n_estimators=150; total time=   0.6s\n",
      "[CV] END bootstrap=True, max_depth=30, max_features=sqrt, min_samples_leaf=5, min_samples_split=50, n_estimators=150; total time=   0.6s\n",
      "[CV] END bootstrap=True, max_depth=30, max_features=sqrt, min_samples_leaf=5, min_samples_split=50, n_estimators=250; total time=   1.0s\n",
      "[CV] END bootstrap=True, max_depth=30, max_features=sqrt, min_samples_leaf=5, min_samples_split=60, n_estimators=150; total time=   0.6s\n",
      "[CV] END bootstrap=True, max_depth=30, max_features=sqrt, min_samples_leaf=5, min_samples_split=60, n_estimators=200; total time=   0.8s\n",
      "[CV] END bootstrap=True, max_depth=30, max_features=sqrt, min_samples_leaf=10, min_samples_split=40, n_estimators=150; total time=   0.6s\n",
      "[CV] END bootstrap=True, max_depth=30, max_features=sqrt, min_samples_leaf=10, min_samples_split=40, n_estimators=200; total time=   0.8s\n",
      "[CV] END bootstrap=True, max_depth=30, max_features=sqrt, min_samples_leaf=10, min_samples_split=40, n_estimators=250; total time=   1.0s\n",
      "[CV] END bootstrap=True, max_depth=30, max_features=sqrt, min_samples_leaf=10, min_samples_split=50, n_estimators=200; total time=   0.8s\n",
      "[CV] END bootstrap=True, max_depth=30, max_features=sqrt, min_samples_leaf=10, min_samples_split=50, n_estimators=250; total time=   1.0s\n",
      "[CV] END bootstrap=True, max_depth=30, max_features=sqrt, min_samples_leaf=10, min_samples_split=60, n_estimators=200; total time=   0.8s\n",
      "[CV] END bootstrap=True, max_depth=30, max_features=sqrt, min_samples_leaf=10, min_samples_split=60, n_estimators=250; total time=   1.0s\n",
      "[CV] END bootstrap=True, max_depth=30, max_features=sqrt, min_samples_leaf=15, min_samples_split=40, n_estimators=200; total time=   0.8s\n",
      "[CV] END bootstrap=True, max_depth=30, max_features=sqrt, min_samples_leaf=15, min_samples_split=40, n_estimators=250; total time=   1.0s\n",
      "[CV] END bootstrap=True, max_depth=30, max_features=sqrt, min_samples_leaf=15, min_samples_split=50, n_estimators=150; total time=   0.6s\n",
      "[CV] END bootstrap=True, max_depth=30, max_features=sqrt, min_samples_leaf=15, min_samples_split=50, n_estimators=250; total time=   1.0s\n",
      "[CV] END bootstrap=True, max_depth=30, max_features=sqrt, min_samples_leaf=15, min_samples_split=60, n_estimators=150; total time=   0.6s\n",
      "[CV] END bootstrap=True, max_depth=30, max_features=sqrt, min_samples_leaf=15, min_samples_split=60, n_estimators=200; total time=   0.8s\n",
      "[CV] END bootstrap=True, max_depth=40, max_features=sqrt, min_samples_leaf=5, min_samples_split=40, n_estimators=150; total time=   0.6s\n",
      "[CV] END bootstrap=True, max_depth=40, max_features=sqrt, min_samples_leaf=5, min_samples_split=40, n_estimators=150; total time=   0.6s\n",
      "[CV] END bootstrap=True, max_depth=40, max_features=sqrt, min_samples_leaf=5, min_samples_split=40, n_estimators=250; total time=   1.0s\n",
      "[CV] END bootstrap=True, max_depth=40, max_features=sqrt, min_samples_leaf=5, min_samples_split=50, n_estimators=150; total time=   0.6s\n",
      "[CV] END bootstrap=True, max_depth=40, max_features=sqrt, min_samples_leaf=5, min_samples_split=50, n_estimators=200; total time=   0.8s\n",
      "[CV] END bootstrap=True, max_depth=40, max_features=sqrt, min_samples_leaf=5, min_samples_split=60, n_estimators=150; total time=   0.6s\n",
      "[CV] END bootstrap=True, max_depth=40, max_features=sqrt, min_samples_leaf=5, min_samples_split=60, n_estimators=150; total time=   0.6s\n",
      "[CV] END bootstrap=True, max_depth=40, max_features=sqrt, min_samples_leaf=5, min_samples_split=60, n_estimators=250; total time=   1.0s\n",
      "[CV] END bootstrap=True, max_depth=40, max_features=sqrt, min_samples_leaf=10, min_samples_split=40, n_estimators=150; total time=   0.6s\n",
      "[CV] END bootstrap=True, max_depth=40, max_features=sqrt, min_samples_leaf=10, min_samples_split=40, n_estimators=200; total time=   0.8s\n",
      "[CV] END bootstrap=True, max_depth=40, max_features=sqrt, min_samples_leaf=10, min_samples_split=50, n_estimators=150; total time=   0.6s\n",
      "[CV] END bootstrap=True, max_depth=40, max_features=sqrt, min_samples_leaf=10, min_samples_split=50, n_estimators=150; total time=   0.6s\n",
      "[CV] END bootstrap=True, max_depth=40, max_features=sqrt, min_samples_leaf=10, min_samples_split=50, n_estimators=250; total time=   1.0s\n",
      "[CV] END bootstrap=True, max_depth=40, max_features=sqrt, min_samples_leaf=10, min_samples_split=60, n_estimators=150; total time=   0.6s\n",
      "[CV] END bootstrap=True, max_depth=40, max_features=sqrt, min_samples_leaf=10, min_samples_split=60, n_estimators=200; total time=   0.8s\n",
      "[CV] END bootstrap=True, max_depth=40, max_features=sqrt, min_samples_leaf=15, min_samples_split=40, n_estimators=150; total time=   0.6s\n",
      "[CV] END bootstrap=True, max_depth=40, max_features=sqrt, min_samples_leaf=15, min_samples_split=40, n_estimators=150; total time=   0.6s\n",
      "[CV] END bootstrap=True, max_depth=40, max_features=sqrt, min_samples_leaf=15, min_samples_split=40, n_estimators=250; total time=   1.0s\n",
      "[CV] END bootstrap=True, max_depth=40, max_features=sqrt, min_samples_leaf=15, min_samples_split=50, n_estimators=150; total time=   0.6s\n",
      "[CV] END bootstrap=True, max_depth=40, max_features=sqrt, min_samples_leaf=15, min_samples_split=50, n_estimators=200; total time=   0.8s\n",
      "[CV] END bootstrap=True, max_depth=20, max_features=sqrt, min_samples_leaf=5, min_samples_split=40, n_estimators=150; total time=   0.6s\n",
      "[CV] END bootstrap=True, max_depth=20, max_features=sqrt, min_samples_leaf=5, min_samples_split=40, n_estimators=200; total time=   0.8s\n",
      "[CV] END bootstrap=True, max_depth=20, max_features=sqrt, min_samples_leaf=5, min_samples_split=40, n_estimators=250; total time=   1.0s\n",
      "[CV] END bootstrap=True, max_depth=20, max_features=sqrt, min_samples_leaf=5, min_samples_split=50, n_estimators=200; total time=   0.8s\n",
      "[CV] END bootstrap=True, max_depth=20, max_features=sqrt, min_samples_leaf=5, min_samples_split=60, n_estimators=150; total time=   0.6s\n",
      "[CV] END bootstrap=True, max_depth=20, max_features=sqrt, min_samples_leaf=5, min_samples_split=60, n_estimators=150; total time=   0.6s\n",
      "[CV] END bootstrap=True, max_depth=20, max_features=sqrt, min_samples_leaf=5, min_samples_split=60, n_estimators=250; total time=   1.0s\n",
      "[CV] END bootstrap=True, max_depth=20, max_features=sqrt, min_samples_leaf=10, min_samples_split=40, n_estimators=150; total time=   0.6s\n",
      "[CV] END bootstrap=True, max_depth=20, max_features=sqrt, min_samples_leaf=10, min_samples_split=40, n_estimators=200; total time=   0.8s\n",
      "[CV] END bootstrap=True, max_depth=20, max_features=sqrt, min_samples_leaf=10, min_samples_split=50, n_estimators=150; total time=   0.6s\n",
      "[CV] END bootstrap=True, max_depth=20, max_features=sqrt, min_samples_leaf=10, min_samples_split=50, n_estimators=150; total time=   0.6s\n",
      "[CV] END bootstrap=True, max_depth=20, max_features=sqrt, min_samples_leaf=10, min_samples_split=50, n_estimators=250; total time=   1.0s\n",
      "[CV] END bootstrap=True, max_depth=20, max_features=sqrt, min_samples_leaf=10, min_samples_split=60, n_estimators=150; total time=   0.6s\n",
      "[CV] END bootstrap=True, max_depth=20, max_features=sqrt, min_samples_leaf=10, min_samples_split=60, n_estimators=200; total time=   0.8s\n",
      "[CV] END bootstrap=True, max_depth=20, max_features=sqrt, min_samples_leaf=15, min_samples_split=40, n_estimators=150; total time=   0.6s\n",
      "[CV] END bootstrap=True, max_depth=20, max_features=sqrt, min_samples_leaf=15, min_samples_split=40, n_estimators=150; total time=   0.6s\n",
      "[CV] END bootstrap=True, max_depth=20, max_features=sqrt, min_samples_leaf=15, min_samples_split=40, n_estimators=250; total time=   1.0s\n",
      "[CV] END bootstrap=True, max_depth=20, max_features=sqrt, min_samples_leaf=15, min_samples_split=50, n_estimators=150; total time=   0.6s\n",
      "[CV] END bootstrap=True, max_depth=20, max_features=sqrt, min_samples_leaf=15, min_samples_split=50, n_estimators=200; total time=   0.8s\n",
      "[CV] END bootstrap=True, max_depth=20, max_features=sqrt, min_samples_leaf=15, min_samples_split=60, n_estimators=150; total time=   0.6s\n",
      "[CV] END bootstrap=True, max_depth=20, max_features=sqrt, min_samples_leaf=15, min_samples_split=60, n_estimators=200; total time=   0.8s\n",
      "[CV] END bootstrap=True, max_depth=20, max_features=sqrt, min_samples_leaf=15, min_samples_split=60, n_estimators=250; total time=   1.0s\n",
      "[CV] END bootstrap=True, max_depth=30, max_features=sqrt, min_samples_leaf=5, min_samples_split=40, n_estimators=200; total time=   0.8s\n",
      "[CV] END bootstrap=True, max_depth=30, max_features=sqrt, min_samples_leaf=5, min_samples_split=40, n_estimators=250; total time=   1.0s\n",
      "[CV] END bootstrap=True, max_depth=30, max_features=sqrt, min_samples_leaf=5, min_samples_split=50, n_estimators=200; total time=   0.8s\n",
      "[CV] END bootstrap=True, max_depth=30, max_features=sqrt, min_samples_leaf=5, min_samples_split=50, n_estimators=250; total time=   1.0s\n",
      "[CV] END bootstrap=True, max_depth=30, max_features=sqrt, min_samples_leaf=5, min_samples_split=60, n_estimators=200; total time=   0.8s\n",
      "[CV] END bootstrap=True, max_depth=30, max_features=sqrt, min_samples_leaf=5, min_samples_split=60, n_estimators=250; total time=   1.0s\n",
      "[CV] END bootstrap=True, max_depth=30, max_features=sqrt, min_samples_leaf=10, min_samples_split=40, n_estimators=150; total time=   0.6s\n",
      "[CV] END bootstrap=True, max_depth=30, max_features=sqrt, min_samples_leaf=10, min_samples_split=40, n_estimators=250; total time=   1.0s\n",
      "[CV] END bootstrap=True, max_depth=30, max_features=sqrt, min_samples_leaf=10, min_samples_split=50, n_estimators=150; total time=   0.6s\n",
      "[CV] END bootstrap=True, max_depth=30, max_features=sqrt, min_samples_leaf=10, min_samples_split=50, n_estimators=200; total time=   0.8s\n",
      "[CV] END bootstrap=True, max_depth=30, max_features=sqrt, min_samples_leaf=10, min_samples_split=50, n_estimators=250; total time=   1.0s\n",
      "[CV] END bootstrap=True, max_depth=30, max_features=sqrt, min_samples_leaf=10, min_samples_split=60, n_estimators=200; total time=   0.8s\n",
      "[CV] END bootstrap=True, max_depth=30, max_features=sqrt, min_samples_leaf=10, min_samples_split=60, n_estimators=250; total time=   1.0s\n",
      "[CV] END bootstrap=True, max_depth=30, max_features=sqrt, min_samples_leaf=15, min_samples_split=40, n_estimators=200; total time=   0.8s\n",
      "[CV] END bootstrap=True, max_depth=30, max_features=sqrt, min_samples_leaf=15, min_samples_split=40, n_estimators=250; total time=   1.0s\n",
      "[CV] END bootstrap=True, max_depth=30, max_features=sqrt, min_samples_leaf=15, min_samples_split=50, n_estimators=200; total time=   0.8s\n",
      "[CV] END bootstrap=True, max_depth=30, max_features=sqrt, min_samples_leaf=15, min_samples_split=60, n_estimators=150; total time=   0.6s\n",
      "[CV] END bootstrap=True, max_depth=30, max_features=sqrt, min_samples_leaf=15, min_samples_split=60, n_estimators=150; total time=   0.6s\n",
      "[CV] END bootstrap=True, max_depth=30, max_features=sqrt, min_samples_leaf=15, min_samples_split=60, n_estimators=250; total time=   1.0s\n",
      "[CV] END bootstrap=True, max_depth=40, max_features=sqrt, min_samples_leaf=5, min_samples_split=40, n_estimators=150; total time=   0.6s\n",
      "[CV] END bootstrap=True, max_depth=40, max_features=sqrt, min_samples_leaf=5, min_samples_split=40, n_estimators=200; total time=   0.8s\n",
      "[CV] END bootstrap=True, max_depth=40, max_features=sqrt, min_samples_leaf=5, min_samples_split=50, n_estimators=150; total time=   0.6s\n",
      "[CV] END bootstrap=True, max_depth=40, max_features=sqrt, min_samples_leaf=5, min_samples_split=50, n_estimators=150; total time=   0.6s\n",
      "[CV] END bootstrap=True, max_depth=40, max_features=sqrt, min_samples_leaf=5, min_samples_split=50, n_estimators=250; total time=   1.0s\n",
      "[CV] END bootstrap=True, max_depth=40, max_features=sqrt, min_samples_leaf=5, min_samples_split=60, n_estimators=150; total time=   0.6s\n",
      "[CV] END bootstrap=True, max_depth=40, max_features=sqrt, min_samples_leaf=5, min_samples_split=60, n_estimators=200; total time=   0.8s\n",
      "[CV] END bootstrap=True, max_depth=40, max_features=sqrt, min_samples_leaf=5, min_samples_split=60, n_estimators=250; total time=   1.0s\n",
      "[CV] END bootstrap=True, max_depth=40, max_features=sqrt, min_samples_leaf=10, min_samples_split=40, n_estimators=200; total time=   0.8s\n",
      "[CV] END bootstrap=True, max_depth=40, max_features=sqrt, min_samples_leaf=10, min_samples_split=40, n_estimators=250; total time=   1.0s\n",
      "[CV] END bootstrap=True, max_depth=40, max_features=sqrt, min_samples_leaf=10, min_samples_split=50, n_estimators=200; total time=   0.8s\n",
      "[CV] END bootstrap=True, max_depth=40, max_features=sqrt, min_samples_leaf=10, min_samples_split=50, n_estimators=250; total time=   1.0s\n",
      "[CV] END bootstrap=True, max_depth=40, max_features=sqrt, min_samples_leaf=10, min_samples_split=60, n_estimators=200; total time=   0.8s\n",
      "[CV] END bootstrap=True, max_depth=40, max_features=sqrt, min_samples_leaf=10, min_samples_split=60, n_estimators=250; total time=   1.0s\n",
      "[CV] END bootstrap=True, max_depth=40, max_features=sqrt, min_samples_leaf=15, min_samples_split=40, n_estimators=200; total time=   0.8s\n",
      "[CV] END bootstrap=True, max_depth=40, max_features=sqrt, min_samples_leaf=15, min_samples_split=50, n_estimators=150; total time=   0.6s\n",
      "[CV] END bootstrap=True, max_depth=40, max_features=sqrt, min_samples_leaf=15, min_samples_split=50, n_estimators=150; total time=   0.6s\n",
      "[CV] END bootstrap=True, max_depth=40, max_features=sqrt, min_samples_leaf=15, min_samples_split=50, n_estimators=250; total time=   1.0s\n",
      "[CV] END bootstrap=True, max_depth=20, max_features=sqrt, min_samples_leaf=5, min_samples_split=40, n_estimators=150; total time=   0.6s\n",
      "[CV] END bootstrap=True, max_depth=20, max_features=sqrt, min_samples_leaf=5, min_samples_split=40, n_estimators=250; total time=   1.0s\n",
      "[CV] END bootstrap=True, max_depth=20, max_features=sqrt, min_samples_leaf=5, min_samples_split=50, n_estimators=150; total time=   0.6s\n",
      "[CV] END bootstrap=True, max_depth=20, max_features=sqrt, min_samples_leaf=5, min_samples_split=50, n_estimators=200; total time=   0.8s\n",
      "[CV] END bootstrap=True, max_depth=20, max_features=sqrt, min_samples_leaf=5, min_samples_split=50, n_estimators=250; total time=   1.0s\n",
      "[CV] END bootstrap=True, max_depth=20, max_features=sqrt, min_samples_leaf=5, min_samples_split=60, n_estimators=200; total time=   0.8s\n",
      "[CV] END bootstrap=True, max_depth=20, max_features=sqrt, min_samples_leaf=5, min_samples_split=60, n_estimators=250; total time=   1.0s\n",
      "[CV] END bootstrap=True, max_depth=20, max_features=sqrt, min_samples_leaf=10, min_samples_split=40, n_estimators=200; total time=   0.8s\n",
      "[CV] END bootstrap=True, max_depth=20, max_features=sqrt, min_samples_leaf=10, min_samples_split=40, n_estimators=250; total time=   1.0s\n",
      "[CV] END bootstrap=True, max_depth=20, max_features=sqrt, min_samples_leaf=10, min_samples_split=50, n_estimators=200; total time=   0.8s\n",
      "[CV] END bootstrap=True, max_depth=20, max_features=sqrt, min_samples_leaf=10, min_samples_split=50, n_estimators=250; total time=   1.0s\n",
      "[CV] END bootstrap=True, max_depth=20, max_features=sqrt, min_samples_leaf=10, min_samples_split=60, n_estimators=200; total time=   0.8s\n",
      "[CV] END bootstrap=True, max_depth=20, max_features=sqrt, min_samples_leaf=10, min_samples_split=60, n_estimators=250; total time=   1.0s\n",
      "[CV] END bootstrap=True, max_depth=20, max_features=sqrt, min_samples_leaf=15, min_samples_split=40, n_estimators=200; total time=   0.8s\n",
      "[CV] END bootstrap=True, max_depth=20, max_features=sqrt, min_samples_leaf=15, min_samples_split=40, n_estimators=250; total time=   1.0s\n",
      "[CV] END bootstrap=True, max_depth=20, max_features=sqrt, min_samples_leaf=15, min_samples_split=50, n_estimators=200; total time=   0.8s\n",
      "[CV] END bootstrap=True, max_depth=20, max_features=sqrt, min_samples_leaf=15, min_samples_split=50, n_estimators=250; total time=   1.0s\n",
      "[CV] END bootstrap=True, max_depth=20, max_features=sqrt, min_samples_leaf=15, min_samples_split=60, n_estimators=200; total time=   0.8s\n",
      "[CV] END bootstrap=True, max_depth=20, max_features=sqrt, min_samples_leaf=15, min_samples_split=60, n_estimators=250; total time=   1.0s\n",
      "[CV] END bootstrap=True, max_depth=30, max_features=sqrt, min_samples_leaf=5, min_samples_split=40, n_estimators=200; total time=   0.8s\n",
      "[CV] END bootstrap=True, max_depth=30, max_features=sqrt, min_samples_leaf=5, min_samples_split=40, n_estimators=250; total time=   1.0s\n",
      "[CV] END bootstrap=True, max_depth=30, max_features=sqrt, min_samples_leaf=5, min_samples_split=50, n_estimators=200; total time=   0.8s\n",
      "[CV] END bootstrap=True, max_depth=30, max_features=sqrt, min_samples_leaf=5, min_samples_split=50, n_estimators=250; total time=   1.0s\n",
      "[CV] END bootstrap=True, max_depth=30, max_features=sqrt, min_samples_leaf=5, min_samples_split=60, n_estimators=200; total time=   0.8s\n",
      "[CV] END bootstrap=True, max_depth=30, max_features=sqrt, min_samples_leaf=5, min_samples_split=60, n_estimators=250; total time=   1.0s\n",
      "[CV] END bootstrap=True, max_depth=30, max_features=sqrt, min_samples_leaf=10, min_samples_split=40, n_estimators=200; total time=   0.8s\n",
      "[CV] END bootstrap=True, max_depth=30, max_features=sqrt, min_samples_leaf=10, min_samples_split=40, n_estimators=250; total time=   1.0s\n",
      "[CV] END bootstrap=True, max_depth=30, max_features=sqrt, min_samples_leaf=10, min_samples_split=50, n_estimators=200; total time=   0.9s\n",
      "[CV] END bootstrap=True, max_depth=30, max_features=sqrt, min_samples_leaf=10, min_samples_split=60, n_estimators=150; total time=   0.6s\n",
      "[CV] END bootstrap=True, max_depth=30, max_features=sqrt, min_samples_leaf=10, min_samples_split=60, n_estimators=150; total time=   0.6s\n",
      "[CV] END bootstrap=True, max_depth=30, max_features=sqrt, min_samples_leaf=10, min_samples_split=60, n_estimators=250; total time=   1.0s\n",
      "[CV] END bootstrap=True, max_depth=30, max_features=sqrt, min_samples_leaf=15, min_samples_split=40, n_estimators=150; total time=   0.6s\n",
      "[CV] END bootstrap=True, max_depth=30, max_features=sqrt, min_samples_leaf=15, min_samples_split=40, n_estimators=200; total time=   0.8s\n",
      "[CV] END bootstrap=True, max_depth=30, max_features=sqrt, min_samples_leaf=15, min_samples_split=50, n_estimators=150; total time=   0.6s\n",
      "[CV] END bootstrap=True, max_depth=30, max_features=sqrt, min_samples_leaf=15, min_samples_split=50, n_estimators=200; total time=   0.8s\n",
      "[CV] END bootstrap=True, max_depth=30, max_features=sqrt, min_samples_leaf=15, min_samples_split=50, n_estimators=250; total time=   1.0s\n",
      "[CV] END bootstrap=True, max_depth=30, max_features=sqrt, min_samples_leaf=15, min_samples_split=60, n_estimators=200; total time=   0.8s\n",
      "[CV] END bootstrap=True, max_depth=30, max_features=sqrt, min_samples_leaf=15, min_samples_split=60, n_estimators=250; total time=   1.0s\n",
      "[CV] END bootstrap=True, max_depth=40, max_features=sqrt, min_samples_leaf=5, min_samples_split=40, n_estimators=200; total time=   0.8s\n",
      "[CV] END bootstrap=True, max_depth=40, max_features=sqrt, min_samples_leaf=5, min_samples_split=40, n_estimators=250; total time=   1.0s\n",
      "[CV] END bootstrap=True, max_depth=40, max_features=sqrt, min_samples_leaf=5, min_samples_split=50, n_estimators=200; total time=   0.8s\n",
      "[CV] END bootstrap=True, max_depth=40, max_features=sqrt, min_samples_leaf=5, min_samples_split=50, n_estimators=250; total time=   1.0s\n",
      "[CV] END bootstrap=True, max_depth=40, max_features=sqrt, min_samples_leaf=5, min_samples_split=60, n_estimators=200; total time=   0.8s\n",
      "[CV] END bootstrap=True, max_depth=40, max_features=sqrt, min_samples_leaf=5, min_samples_split=60, n_estimators=250; total time=   1.0s\n",
      "[CV] END bootstrap=True, max_depth=40, max_features=sqrt, min_samples_leaf=10, min_samples_split=40, n_estimators=200; total time=   0.8s\n",
      "[CV] END bootstrap=True, max_depth=40, max_features=sqrt, min_samples_leaf=10, min_samples_split=40, n_estimators=250; total time=   1.0s\n",
      "[CV] END bootstrap=True, max_depth=40, max_features=sqrt, min_samples_leaf=10, min_samples_split=50, n_estimators=200; total time=   0.8s\n",
      "[CV] END bootstrap=True, max_depth=40, max_features=sqrt, min_samples_leaf=10, min_samples_split=50, n_estimators=250; total time=   1.0s\n",
      "[CV] END bootstrap=True, max_depth=40, max_features=sqrt, min_samples_leaf=10, min_samples_split=60, n_estimators=200; total time=   0.8s\n",
      "[CV] END bootstrap=True, max_depth=40, max_features=sqrt, min_samples_leaf=10, min_samples_split=60, n_estimators=250; total time=   1.0s\n",
      "[CV] END bootstrap=True, max_depth=40, max_features=sqrt, min_samples_leaf=15, min_samples_split=40, n_estimators=200; total time=   0.8s\n",
      "[CV] END bootstrap=True, max_depth=40, max_features=sqrt, min_samples_leaf=15, min_samples_split=40, n_estimators=250; total time=   1.0s\n",
      "[CV] END bootstrap=True, max_depth=40, max_features=sqrt, min_samples_leaf=15, min_samples_split=50, n_estimators=200; total time=   0.8s\n",
      "[CV] END bootstrap=True, max_depth=40, max_features=sqrt, min_samples_leaf=15, min_samples_split=50, n_estimators=250; total time=   1.0s\n",
      "[CV] END bootstrap=True, max_depth=40, max_features=sqrt, min_samples_leaf=15, min_samples_split=60, n_estimators=200; total time=   0.8s\n",
      "[CV] END bootstrap=True, max_depth=40, max_features=sqrt, min_samples_leaf=15, min_samples_split=60, n_estimators=250; total time=   1.0s\n",
      "[CV] END bootstrap=True, max_depth=100, max_features=sqrt, min_samples_leaf=5, min_samples_split=40, n_estimators=200; total time=   0.8s\n",
      "[CV] END bootstrap=True, max_depth=100, max_features=sqrt, min_samples_leaf=5, min_samples_split=40, n_estimators=250; total time=   1.0s\n",
      "[CV] END bootstrap=True, max_depth=100, max_features=sqrt, min_samples_leaf=5, min_samples_split=50, n_estimators=200; total time=   0.8s\n"
     ]
    },
    {
     "data": {
      "text/html": [
       "<style>#sk-container-id-2 {color: black;background-color: white;}#sk-container-id-2 pre{padding: 0;}#sk-container-id-2 div.sk-toggleable {background-color: white;}#sk-container-id-2 label.sk-toggleable__label {cursor: pointer;display: block;width: 100%;margin-bottom: 0;padding: 0.3em;box-sizing: border-box;text-align: center;}#sk-container-id-2 label.sk-toggleable__label-arrow:before {content: \"▸\";float: left;margin-right: 0.25em;color: #696969;}#sk-container-id-2 label.sk-toggleable__label-arrow:hover:before {color: black;}#sk-container-id-2 div.sk-estimator:hover label.sk-toggleable__label-arrow:before {color: black;}#sk-container-id-2 div.sk-toggleable__content {max-height: 0;max-width: 0;overflow: hidden;text-align: left;background-color: #f0f8ff;}#sk-container-id-2 div.sk-toggleable__content pre {margin: 0.2em;color: black;border-radius: 0.25em;background-color: #f0f8ff;}#sk-container-id-2 input.sk-toggleable__control:checked~div.sk-toggleable__content {max-height: 200px;max-width: 100%;overflow: auto;}#sk-container-id-2 input.sk-toggleable__control:checked~label.sk-toggleable__label-arrow:before {content: \"▾\";}#sk-container-id-2 div.sk-estimator input.sk-toggleable__control:checked~label.sk-toggleable__label {background-color: #d4ebff;}#sk-container-id-2 div.sk-label input.sk-toggleable__control:checked~label.sk-toggleable__label {background-color: #d4ebff;}#sk-container-id-2 input.sk-hidden--visually {border: 0;clip: rect(1px 1px 1px 1px);clip: rect(1px, 1px, 1px, 1px);height: 1px;margin: -1px;overflow: hidden;padding: 0;position: absolute;width: 1px;}#sk-container-id-2 div.sk-estimator {font-family: monospace;background-color: #f0f8ff;border: 1px dotted black;border-radius: 0.25em;box-sizing: border-box;margin-bottom: 0.5em;}#sk-container-id-2 div.sk-estimator:hover {background-color: #d4ebff;}#sk-container-id-2 div.sk-parallel-item::after {content: \"\";width: 100%;border-bottom: 1px solid gray;flex-grow: 1;}#sk-container-id-2 div.sk-label:hover label.sk-toggleable__label {background-color: #d4ebff;}#sk-container-id-2 div.sk-serial::before {content: \"\";position: absolute;border-left: 1px solid gray;box-sizing: border-box;top: 0;bottom: 0;left: 50%;z-index: 0;}#sk-container-id-2 div.sk-serial {display: flex;flex-direction: column;align-items: center;background-color: white;padding-right: 0.2em;padding-left: 0.2em;position: relative;}#sk-container-id-2 div.sk-item {position: relative;z-index: 1;}#sk-container-id-2 div.sk-parallel {display: flex;align-items: stretch;justify-content: center;background-color: white;position: relative;}#sk-container-id-2 div.sk-item::before, #sk-container-id-2 div.sk-parallel-item::before {content: \"\";position: absolute;border-left: 1px solid gray;box-sizing: border-box;top: 0;bottom: 0;left: 50%;z-index: -1;}#sk-container-id-2 div.sk-parallel-item {display: flex;flex-direction: column;z-index: 1;position: relative;background-color: white;}#sk-container-id-2 div.sk-parallel-item:first-child::after {align-self: flex-end;width: 50%;}#sk-container-id-2 div.sk-parallel-item:last-child::after {align-self: flex-start;width: 50%;}#sk-container-id-2 div.sk-parallel-item:only-child::after {width: 0;}#sk-container-id-2 div.sk-dashed-wrapped {border: 1px dashed gray;margin: 0 0.4em 0.5em 0.4em;box-sizing: border-box;padding-bottom: 0.4em;background-color: white;}#sk-container-id-2 div.sk-label label {font-family: monospace;font-weight: bold;display: inline-block;line-height: 1.2em;}#sk-container-id-2 div.sk-label-container {text-align: center;}#sk-container-id-2 div.sk-container {/* jupyter's `normalize.less` sets `[hidden] { display: none; }` but bootstrap.min.css set `[hidden] { display: none !important; }` so we also need the `!important` here to be able to override the default hidden behavior on the sphinx rendered scikit-learn.org. See: https://github.com/scikit-learn/scikit-learn/issues/21755 */display: inline-block !important;position: relative;}#sk-container-id-2 div.sk-text-repr-fallback {display: none;}</style><div id=\"sk-container-id-2\" class=\"sk-top-container\"><div class=\"sk-text-repr-fallback\"><pre>GridSearchCV(cv=3, estimator=RandomForestClassifier(), n_jobs=-1,\n",
       "             param_grid={&#x27;bootstrap&#x27;: [True],\n",
       "                         &#x27;max_depth&#x27;: [20, 30, 40, 100, 110],\n",
       "                         &#x27;max_features&#x27;: [&#x27;sqrt&#x27;],\n",
       "                         &#x27;min_samples_leaf&#x27;: [5, 10, 15],\n",
       "                         &#x27;min_samples_split&#x27;: [40, 50, 60],\n",
       "                         &#x27;n_estimators&#x27;: [150, 200, 250]},\n",
       "             verbose=2)</pre><b>In a Jupyter environment, please rerun this cell to show the HTML representation or trust the notebook. <br />On GitHub, the HTML representation is unable to render, please try loading this page with nbviewer.org.</b></div><div class=\"sk-container\" hidden><div class=\"sk-item sk-dashed-wrapped\"><div class=\"sk-label-container\"><div class=\"sk-label sk-toggleable\"><input class=\"sk-toggleable__control sk-hidden--visually\" id=\"sk-estimator-id-2\" type=\"checkbox\" ><label for=\"sk-estimator-id-2\" class=\"sk-toggleable__label sk-toggleable__label-arrow\">GridSearchCV</label><div class=\"sk-toggleable__content\"><pre>GridSearchCV(cv=3, estimator=RandomForestClassifier(), n_jobs=-1,\n",
       "             param_grid={&#x27;bootstrap&#x27;: [True],\n",
       "                         &#x27;max_depth&#x27;: [20, 30, 40, 100, 110],\n",
       "                         &#x27;max_features&#x27;: [&#x27;sqrt&#x27;],\n",
       "                         &#x27;min_samples_leaf&#x27;: [5, 10, 15],\n",
       "                         &#x27;min_samples_split&#x27;: [40, 50, 60],\n",
       "                         &#x27;n_estimators&#x27;: [150, 200, 250]},\n",
       "             verbose=2)</pre></div></div></div><div class=\"sk-parallel\"><div class=\"sk-parallel-item\"><div class=\"sk-item\"><div class=\"sk-label-container\"><div class=\"sk-label sk-toggleable\"><input class=\"sk-toggleable__control sk-hidden--visually\" id=\"sk-estimator-id-3\" type=\"checkbox\" ><label for=\"sk-estimator-id-3\" class=\"sk-toggleable__label sk-toggleable__label-arrow\">estimator: RandomForestClassifier</label><div class=\"sk-toggleable__content\"><pre>RandomForestClassifier()</pre></div></div></div><div class=\"sk-serial\"><div class=\"sk-item\"><div class=\"sk-estimator sk-toggleable\"><input class=\"sk-toggleable__control sk-hidden--visually\" id=\"sk-estimator-id-4\" type=\"checkbox\" ><label for=\"sk-estimator-id-4\" class=\"sk-toggleable__label sk-toggleable__label-arrow\">RandomForestClassifier</label><div class=\"sk-toggleable__content\"><pre>RandomForestClassifier()</pre></div></div></div></div></div></div></div></div></div></div>"
      ],
      "text/plain": [
       "GridSearchCV(cv=3, estimator=RandomForestClassifier(), n_jobs=-1,\n",
       "             param_grid={'bootstrap': [True],\n",
       "                         'max_depth': [20, 30, 40, 100, 110],\n",
       "                         'max_features': ['sqrt'],\n",
       "                         'min_samples_leaf': [5, 10, 15],\n",
       "                         'min_samples_split': [40, 50, 60],\n",
       "                         'n_estimators': [150, 200, 250]},\n",
       "             verbose=2)"
      ]
     },
     "execution_count": 22,
     "metadata": {},
     "output_type": "execute_result"
    }
   ],
   "source": [
    "grid_search.fit(X_scaled, y_train)"
   ]
  },
  {
   "cell_type": "code",
   "execution_count": 23,
   "id": "9701c4cd-dfe9-4d74-a69b-b030194b187b",
   "metadata": {
    "tags": []
   },
   "outputs": [
    {
     "data": {
      "text/plain": [
       "{'bootstrap': True,\n",
       " 'max_depth': 20,\n",
       " 'max_features': 'sqrt',\n",
       " 'min_samples_leaf': 5,\n",
       " 'min_samples_split': 40,\n",
       " 'n_estimators': 250}"
      ]
     },
     "execution_count": 23,
     "metadata": {},
     "output_type": "execute_result"
    }
   ],
   "source": [
    "grid_search.best_params_"
   ]
  },
  {
   "cell_type": "code",
   "execution_count": 24,
   "id": "b9f4f0f7-a7dc-43f6-94db-d59f5b204b2f",
   "metadata": {
    "tags": []
   },
   "outputs": [
    {
     "name": "stdout",
     "output_type": "stream",
     "text": [
      "Use /tmp/tmpk5uwcscz as temporary training directory\n",
      "Reading training dataset...\n"
     ]
    },
    {
     "name": "stderr",
     "output_type": "stream",
     "text": [
      "2023-03-20 04:42:05.702444: W tensorflow/compiler/xla/stream_executor/platform/default/dso_loader.cc:64] Could not load dynamic library 'libcuda.so.1'; dlerror: libcuda.so.1: cannot open shared object file: No such file or directory\n",
      "2023-03-20 04:42:05.702489: W tensorflow/compiler/xla/stream_executor/cuda/cuda_driver.cc:265] failed call to cuInit: UNKNOWN ERROR (303)\n",
      "2023-03-20 04:42:05.702510: I tensorflow/compiler/xla/stream_executor/cuda/cuda_diagnostics.cc:156] kernel driver does not appear to be running on this host (ip-172-31-13-91): /proc/driver/nvidia/version does not exist\n",
      "2023-03-20 04:42:05.702836: I tensorflow/core/platform/cpu_feature_guard.cc:193] This TensorFlow binary is optimized with oneAPI Deep Neural Network Library (oneDNN) to use the following CPU instructions in performance-critical operations:  AVX2 FMA\n",
      "To enable them in other operations, rebuild TensorFlow with the appropriate compiler flags.\n"
     ]
    },
    {
     "name": "stdout",
     "output_type": "stream",
     "text": [
      "WARNING:tensorflow:From /home/ubuntu/capstone/lib/python3.10/site-packages/tensorflow/python/autograph/pyct/static_analysis/liveness.py:83: Analyzer.lamba_check (from tensorflow.python.autograph.pyct.static_analysis.liveness) is deprecated and will be removed after 2023-09-23.\n",
      "Instructions for updating:\n",
      "Lambda fuctions will be no more assumed to be used in the statement where they are used, or at least in the same block. https://github.com/tensorflow/tensorflow/issues/56089\n"
     ]
    },
    {
     "name": "stderr",
     "output_type": "stream",
     "text": [
      "WARNING:tensorflow:From /home/ubuntu/capstone/lib/python3.10/site-packages/tensorflow/python/autograph/pyct/static_analysis/liveness.py:83: Analyzer.lamba_check (from tensorflow.python.autograph.pyct.static_analysis.liveness) is deprecated and will be removed after 2023-09-23.\n",
      "Instructions for updating:\n",
      "Lambda fuctions will be no more assumed to be used in the statement where they are used, or at least in the same block. https://github.com/tensorflow/tensorflow/issues/56089\n"
     ]
    },
    {
     "name": "stdout",
     "output_type": "stream",
     "text": [
      "Training dataset read in 0:00:04.841091. Found 8376 examples.\n",
      "Training model...\n",
      "Model trained in 0:00:00.852475\n",
      "Compiling model...\n"
     ]
    },
    {
     "name": "stderr",
     "output_type": "stream",
     "text": [
      "[INFO 2023-03-20T04:42:11.360757773+00:00 kernel.cc:1214] Loading model from path /tmp/tmpk5uwcscz/model/ with prefix c200410191b64e84\n",
      "[INFO 2023-03-20T04:42:11.434454655+00:00 decision_forest.cc:661] Model loaded with 300 root(s), 24740 node(s), and 47 input feature(s).\n",
      "[INFO 2023-03-20T04:42:11.434498067+00:00 abstract_model.cc:1311] Engine \"RandomForestGeneric\" built\n",
      "[INFO 2023-03-20T04:42:11.434524891+00:00 kernel.cc:1046] Use fast generic engine\n"
     ]
    },
    {
     "name": "stdout",
     "output_type": "stream",
     "text": [
      "WARNING:tensorflow:AutoGraph could not transform <function simple_ml_inference_op_with_handle at 0x7fc34c0df910> and will run it as-is.\n",
      "Please report this to the TensorFlow team. When filing the bug, set the verbosity to 10 (on Linux, `export AUTOGRAPH_VERBOSITY=10`) and attach the full output.\n",
      "Cause: could not get source code\n",
      "To silence this warning, decorate the function with @tf.autograph.experimental.do_not_convert\n"
     ]
    },
    {
     "name": "stderr",
     "output_type": "stream",
     "text": [
      "WARNING:tensorflow:AutoGraph could not transform <function simple_ml_inference_op_with_handle at 0x7fc34c0df910> and will run it as-is.\n",
      "Please report this to the TensorFlow team. When filing the bug, set the verbosity to 10 (on Linux, `export AUTOGRAPH_VERBOSITY=10`) and attach the full output.\n",
      "Cause: could not get source code\n",
      "To silence this warning, decorate the function with @tf.autograph.experimental.do_not_convert\n"
     ]
    },
    {
     "name": "stdout",
     "output_type": "stream",
     "text": [
      "WARNING: AutoGraph could not transform <function simple_ml_inference_op_with_handle at 0x7fc34c0df910> and will run it as-is.\n",
      "Please report this to the TensorFlow team. When filing the bug, set the verbosity to 10 (on Linux, `export AUTOGRAPH_VERBOSITY=10`) and attach the full output.\n",
      "Cause: could not get source code\n",
      "To silence this warning, decorate the function with @tf.autograph.experimental.do_not_convert\n",
      "Model compiled.\n"
     ]
    },
    {
     "data": {
      "text/plain": [
       "<keras.callbacks.History at 0x7fc349b494b0>"
      ]
     },
     "execution_count": 24,
     "metadata": {},
     "output_type": "execute_result"
    }
   ],
   "source": [
    "rf_model = tfdf.keras.RandomForestModel(categorical_algorithm = 'CART', num_trees=300, bootstrap_training_dataset = True,\n",
    "                                        max_depth = 110)\n",
    "\n",
    "rf_model.fit(X_scaled,\n",
    "    y_train,\n",
    "    #validation_data=[x_test[['Collisions_Historical', 'Mid_lat','Mid_long', 'Stop_Signs', 'Paving_historical', 'Bus_stop']], y_test],     \n",
    "    epochs=1,\n",
    "    verbose=1)"
   ]
  },
  {
   "cell_type": "code",
   "execution_count": 25,
   "id": "14110520-7657-467c-83af-ca78d8e431de",
   "metadata": {
    "tags": []
   },
   "outputs": [
    {
     "name": "stdout",
     "output_type": "stream",
     "text": [
      "Model: \"random_forest_model\"\n",
      "_________________________________________________________________\n",
      " Layer (type)                Output Shape              Param #   \n",
      "=================================================================\n",
      "=================================================================\n",
      "Total params: 1\n",
      "Trainable params: 0\n",
      "Non-trainable params: 1\n",
      "_________________________________________________________________\n",
      "Type: \"RANDOM_FOREST\"\n",
      "Task: CLASSIFICATION\n",
      "Label: \"__LABEL\"\n",
      "\n",
      "Input Features (53):\n",
      "\tdata:0.0\n",
      "\tdata:0.1\n",
      "\tdata:0.10\n",
      "\tdata:0.11\n",
      "\tdata:0.12\n",
      "\tdata:0.13\n",
      "\tdata:0.14\n",
      "\tdata:0.15\n",
      "\tdata:0.16\n",
      "\tdata:0.17\n",
      "\tdata:0.18\n",
      "\tdata:0.19\n",
      "\tdata:0.2\n",
      "\tdata:0.20\n",
      "\tdata:0.21\n",
      "\tdata:0.22\n",
      "\tdata:0.23\n",
      "\tdata:0.24\n",
      "\tdata:0.25\n",
      "\tdata:0.26\n",
      "\tdata:0.27\n",
      "\tdata:0.28\n",
      "\tdata:0.29\n",
      "\tdata:0.3\n",
      "\tdata:0.30\n",
      "\tdata:0.31\n",
      "\tdata:0.32\n",
      "\tdata:0.33\n",
      "\tdata:0.34\n",
      "\tdata:0.35\n",
      "\tdata:0.36\n",
      "\tdata:0.37\n",
      "\tdata:0.38\n",
      "\tdata:0.39\n",
      "\tdata:0.4\n",
      "\tdata:0.40\n",
      "\tdata:0.41\n",
      "\tdata:0.42\n",
      "\tdata:0.43\n",
      "\tdata:0.44\n",
      "\tdata:0.45\n",
      "\tdata:0.46\n",
      "\tdata:0.47\n",
      "\tdata:0.48\n",
      "\tdata:0.49\n",
      "\tdata:0.5\n",
      "\tdata:0.50\n",
      "\tdata:0.51\n",
      "\tdata:0.52\n",
      "\tdata:0.6\n",
      "\tdata:0.7\n",
      "\tdata:0.8\n",
      "\tdata:0.9\n",
      "\n",
      "No weights\n",
      "\n",
      "Variable Importance: INV_MEAN_MIN_DEPTH:\n",
      "    1. \"data:0.20\"  0.220183 ################\n",
      "    2. \"data:0.11\"  0.218279 ###############\n",
      "    3. \"data:0.12\"  0.192511 ###########\n",
      "    4. \"data:0.18\"  0.168645 ######\n",
      "    5. \"data:0.19\"  0.165777 ######\n",
      "    6.  \"data:0.7\"  0.159636 #####\n",
      "    7.  \"data:0.0\"  0.157387 #####\n",
      "    8. \"data:0.21\"  0.154909 ####\n",
      "    9. \"data:0.10\"  0.151899 ####\n",
      "   10.  \"data:0.3\"  0.146653 ###\n",
      "   11.  \"data:0.6\"  0.143130 ##\n",
      "   12. \"data:0.23\"  0.141430 ##\n",
      "   13.  \"data:0.1\"  0.141336 ##\n",
      "   14. \"data:0.52\"  0.140458 ##\n",
      "   15.  \"data:0.2\"  0.140300 ##\n",
      "   16.  \"data:0.4\"  0.139945 #\n",
      "   17.  \"data:0.5\"  0.138240 #\n",
      "   18. \"data:0.22\"  0.132166 \n",
      "   19.  \"data:0.8\"  0.131415 \n",
      "   20. \"data:0.33\"  0.130467 \n",
      "   21. \"data:0.42\"  0.129899 \n",
      "   22. \"data:0.27\"  0.129766 \n",
      "   23. \"data:0.37\"  0.129632 \n",
      "   24.  \"data:0.9\"  0.129445 \n",
      "   25. \"data:0.46\"  0.129430 \n",
      "   26. \"data:0.32\"  0.129417 \n",
      "   27. \"data:0.31\"  0.129415 \n",
      "   28. \"data:0.47\"  0.129412 \n",
      "   29. \"data:0.24\"  0.129310 \n",
      "   30. \"data:0.38\"  0.129297 \n",
      "   31. \"data:0.26\"  0.129284 \n",
      "   32. \"data:0.28\"  0.129261 \n",
      "   33. \"data:0.48\"  0.129173 \n",
      "   34. \"data:0.16\"  0.129153 \n",
      "   35. \"data:0.35\"  0.129138 \n",
      "   36. \"data:0.25\"  0.129095 \n",
      "   37. \"data:0.39\"  0.129073 \n",
      "   38. \"data:0.36\"  0.129052 \n",
      "   39. \"data:0.34\"  0.128974 \n",
      "   40. \"data:0.29\"  0.128958 \n",
      "   41. \"data:0.44\"  0.128915 \n",
      "   42. \"data:0.30\"  0.128908 \n",
      "   43. \"data:0.50\"  0.128886 \n",
      "   44. \"data:0.51\"  0.128871 \n",
      "   45. \"data:0.14\"  0.128868 \n",
      "   46. \"data:0.40\"  0.128838 \n",
      "   47. \"data:0.45\"  0.128837 \n",
      "\n",
      "Variable Importance: NUM_AS_ROOT:\n",
      "    1. \"data:0.18\" 45.000000 ################\n",
      "    2. \"data:0.20\" 39.000000 #############\n",
      "    3. \"data:0.11\" 34.000000 ############\n",
      "    4. \"data:0.12\" 32.000000 ###########\n",
      "    5. \"data:0.19\" 30.000000 ##########\n",
      "    6. \"data:0.10\" 22.000000 #######\n",
      "    7.  \"data:0.7\" 18.000000 ######\n",
      "    8.  \"data:0.0\" 17.000000 #####\n",
      "    9.  \"data:0.3\" 13.000000 ####\n",
      "   10.  \"data:0.6\"  9.000000 ##\n",
      "   11. \"data:0.21\"  8.000000 ##\n",
      "   12.  \"data:0.1\"  7.000000 ##\n",
      "   13.  \"data:0.2\"  6.000000 #\n",
      "   14.  \"data:0.4\"  4.000000 #\n",
      "   15. \"data:0.23\"  3.000000 \n",
      "   16. \"data:0.33\"  3.000000 \n",
      "   17.  \"data:0.5\"  3.000000 \n",
      "   18. \"data:0.22\"  1.000000 \n",
      "   19. \"data:0.24\"  1.000000 \n",
      "   20. \"data:0.27\"  1.000000 \n",
      "   21. \"data:0.28\"  1.000000 \n",
      "   22. \"data:0.42\"  1.000000 \n",
      "   23. \"data:0.52\"  1.000000 \n",
      "   24.  \"data:0.8\"  1.000000 \n",
      "\n",
      "Variable Importance: NUM_NODES:\n",
      "    1. \"data:0.11\" 3398.000000 ################\n",
      "    2. \"data:0.20\" 2754.000000 ############\n",
      "    3. \"data:0.12\" 784.000000 ###\n",
      "    4. \"data:0.52\" 653.000000 ###\n",
      "    5.  \"data:0.0\" 525.000000 ##\n",
      "    6.  \"data:0.2\" 406.000000 #\n",
      "    7. \"data:0.21\" 399.000000 #\n",
      "    8.  \"data:0.4\" 378.000000 #\n",
      "    9.  \"data:0.3\" 350.000000 #\n",
      "   10. \"data:0.18\" 348.000000 #\n",
      "   11. \"data:0.10\" 331.000000 #\n",
      "   12.  \"data:0.5\" 322.000000 #\n",
      "   13.  \"data:0.7\" 315.000000 #\n",
      "   14.  \"data:0.6\" 310.000000 #\n",
      "   15.  \"data:0.1\" 309.000000 #\n",
      "   16. \"data:0.19\" 165.000000 \n",
      "   17. \"data:0.23\" 114.000000 \n",
      "   18.  \"data:0.8\" 78.000000 \n",
      "   19. \"data:0.22\" 36.000000 \n",
      "   20.  \"data:0.9\" 25.000000 \n",
      "   21. \"data:0.37\" 18.000000 \n",
      "   22. \"data:0.26\" 17.000000 \n",
      "   23. \"data:0.35\" 16.000000 \n",
      "   24. \"data:0.32\" 15.000000 \n",
      "   25. \"data:0.33\" 14.000000 \n",
      "   26. \"data:0.39\" 12.000000 \n",
      "   27. \"data:0.48\" 12.000000 \n",
      "   28. \"data:0.27\" 11.000000 \n",
      "   29. \"data:0.31\" 11.000000 \n",
      "   30. \"data:0.38\" 11.000000 \n",
      "   31. \"data:0.34\" 10.000000 \n",
      "   32. \"data:0.42\" 10.000000 \n",
      "   33. \"data:0.36\"  9.000000 \n",
      "   34. \"data:0.28\"  8.000000 \n",
      "   35. \"data:0.29\"  8.000000 \n",
      "   36. \"data:0.47\"  8.000000 \n",
      "   37. \"data:0.24\"  5.000000 \n",
      "   38. \"data:0.46\"  5.000000 \n",
      "   39. \"data:0.25\"  4.000000 \n",
      "   40. \"data:0.14\"  3.000000 \n",
      "   41. \"data:0.44\"  3.000000 \n",
      "   42. \"data:0.16\"  2.000000 \n",
      "   43. \"data:0.30\"  2.000000 \n",
      "   44. \"data:0.50\"  2.000000 \n",
      "   45. \"data:0.51\"  2.000000 \n",
      "   46. \"data:0.40\"  1.000000 \n",
      "   47. \"data:0.45\"  1.000000 \n",
      "\n",
      "Variable Importance: SUM_SCORE:\n",
      "    1. \"data:0.20\" 596352.821383 ################\n",
      "    2. \"data:0.11\" 586850.900345 ###############\n",
      "    3. \"data:0.18\" 393925.319521 ##########\n",
      "    4. \"data:0.12\" 75727.326380 ##\n",
      "    5. \"data:0.19\" 58212.319786 #\n",
      "    6.  \"data:0.7\" 13693.244275 \n",
      "    7. \"data:0.10\" 10408.154578 \n",
      "    8.  \"data:0.0\" 9174.366445 \n",
      "    9. \"data:0.21\" 7948.771034 \n",
      "   10.  \"data:0.3\" 5710.796655 \n",
      "   11.  \"data:0.6\" 5112.176873 \n",
      "   12. \"data:0.52\" 4227.055583 \n",
      "   13.  \"data:0.1\" 4165.900217 \n",
      "   14.  \"data:0.2\" 3589.373474 \n",
      "   15.  \"data:0.4\" 3422.746286 \n",
      "   16. \"data:0.23\" 3222.111547 \n",
      "   17.  \"data:0.5\" 2918.734097 \n",
      "   18.  \"data:0.8\" 598.528379 \n",
      "   19. \"data:0.22\" 445.978607 \n",
      "   20. \"data:0.33\" 248.889333 \n",
      "   21. \"data:0.42\" 221.167038 \n",
      "   22.  \"data:0.9\" 198.049201 \n",
      "   23. \"data:0.32\" 164.360270 \n",
      "   24. \"data:0.37\" 129.261284 \n",
      "   25. \"data:0.48\" 127.816612 \n",
      "   26. \"data:0.35\" 113.269597 \n",
      "   27. \"data:0.26\" 107.564461 \n",
      "   28. \"data:0.27\" 99.880271 \n",
      "   29. \"data:0.31\" 76.109408 \n",
      "   30. \"data:0.38\" 73.184887 \n",
      "   31. \"data:0.39\" 71.973872 \n",
      "   32. \"data:0.28\" 69.870027 \n",
      "   33. \"data:0.34\" 61.845552 \n",
      "   34. \"data:0.36\" 54.879968 \n",
      "   35. \"data:0.24\" 48.728427 \n",
      "   36. \"data:0.47\" 43.290549 \n",
      "   37. \"data:0.29\" 43.064692 \n",
      "   38. \"data:0.46\" 39.286758 \n",
      "   39. \"data:0.44\" 25.901678 \n",
      "   40. \"data:0.25\" 22.188274 \n",
      "   41. \"data:0.16\" 16.918447 \n",
      "   42. \"data:0.51\" 12.604440 \n",
      "   43. \"data:0.14\" 11.823958 \n",
      "   44. \"data:0.30\" 10.558031 \n",
      "   45. \"data:0.50\"  7.662725 \n",
      "   46. \"data:0.40\"  5.345364 \n",
      "   47. \"data:0.45\"  2.814708 \n",
      "\n",
      "\n",
      "\n",
      "Winner takes all: true\n",
      "Out-of-bag evaluation: accuracy:0.997851 logloss:0.0162312\n",
      "Number of trees: 300\n",
      "Total number of nodes: 24740\n",
      "\n",
      "Number of nodes by tree:\n",
      "Count: 300 Average: 82.4667 StdDev: 35.2361\n",
      "Min: 17 Max: 211 Ignored: 0\n",
      "----------------------------------------------\n",
      "[  17,  26)  6   2.00%   2.00% ##\n",
      "[  26,  36) 18   6.00%   8.00% #####\n",
      "[  36,  46) 23   7.67%  15.67% ######\n",
      "[  46,  56) 28   9.33%  25.00% ########\n",
      "[  56,  65) 26   8.67%  33.67% #######\n",
      "[  65,  75) 29   9.67%  43.33% ########\n",
      "[  75,  85) 35  11.67%  55.00% #########\n",
      "[  85,  95) 37  12.33%  67.33% ##########\n",
      "[  95, 104) 27   9.00%  76.33% #######\n",
      "[ 104, 114) 15   5.00%  81.33% ####\n",
      "[ 114, 124) 17   5.67%  87.00% #####\n",
      "[ 124, 134) 12   4.00%  91.00% ###\n",
      "[ 134, 143) 10   3.33%  94.33% ###\n",
      "[ 143, 153)  4   1.33%  95.67% #\n",
      "[ 153, 163)  5   1.67%  97.33% #\n",
      "[ 163, 173)  2   0.67%  98.00% #\n",
      "[ 173, 182)  4   1.33%  99.33% #\n",
      "[ 182, 192)  1   0.33%  99.67%\n",
      "[ 192, 202)  0   0.00%  99.67%\n",
      "[ 202, 211]  1   0.33% 100.00%\n",
      "\n",
      "Depth by leafs:\n",
      "Count: 12520 Average: 7.00919 StdDev: 2.08329\n",
      "Min: 1 Max: 16 Ignored: 0\n",
      "----------------------------------------------\n",
      "[  1,  2)  118   0.94%   0.94%\n",
      "[  2,  3)  202   1.61%   2.56% #\n",
      "[  3,  4)  300   2.40%   4.95% #\n",
      "[  4,  5)  700   5.59%  10.54% ###\n",
      "[  5,  6) 1368  10.93%  21.47% #####\n",
      "[  6,  7) 2156  17.22%  38.69% ########\n",
      "[  7,  8) 2546  20.34%  59.03% ##########\n",
      "[  8,  9) 2277  18.19%  77.21% #########\n",
      "[  9, 10) 1559  12.45%  89.66% ######\n",
      "[ 10, 11)  822   6.57%  96.23% ###\n",
      "[ 11, 12)  302   2.41%  98.64% #\n",
      "[ 12, 13)  111   0.89%  99.53%\n",
      "[ 13, 14)   34   0.27%  99.80%\n",
      "[ 14, 15)   11   0.09%  99.89%\n",
      "[ 15, 16)    6   0.05%  99.94%\n",
      "[ 16, 16]    8   0.06% 100.00%\n",
      "\n",
      "Number of training obs by leaf:\n",
      "Count: 12520 Average: 200.703 StdDev: 862.888\n",
      "Min: 5 Max: 6758 Ignored: 0\n",
      "----------------------------------------------\n",
      "[    5,  342) 11618  92.80%  92.80% ##########\n",
      "[  342,  680)   326   2.60%  95.40%\n",
      "[  680, 1018)   112   0.89%  96.29%\n",
      "[ 1018, 1355)    57   0.46%  96.75%\n",
      "[ 1355, 1693)    24   0.19%  96.94%\n",
      "[ 1693, 2031)    26   0.21%  97.15%\n",
      "[ 2031, 2368)    15   0.12%  97.27%\n",
      "[ 2368, 2706)    29   0.23%  97.50%\n",
      "[ 2706, 3044)    18   0.14%  97.64%\n",
      "[ 3044, 3382)    46   0.37%  98.01%\n",
      "[ 3382, 3719)    34   0.27%  98.28%\n",
      "[ 3719, 4057)     7   0.06%  98.34%\n",
      "[ 4057, 4395)     4   0.03%  98.37%\n",
      "[ 4395, 4732)    13   0.10%  98.47%\n",
      "[ 4732, 5070)     8   0.06%  98.54%\n",
      "[ 5070, 5408)     6   0.05%  98.59%\n",
      "[ 5408, 5745)    12   0.10%  98.68%\n",
      "[ 5745, 6083)    38   0.30%  98.99%\n",
      "[ 6083, 6421)     3   0.02%  99.01%\n",
      "[ 6421, 6758]   124   0.99% 100.00%\n",
      "\n",
      "Attribute in nodes:\n",
      "\t3398 : data:0.11 [NUMERICAL]\n",
      "\t2754 : data:0.20 [NUMERICAL]\n",
      "\t784 : data:0.12 [NUMERICAL]\n",
      "\t653 : data:0.52 [NUMERICAL]\n",
      "\t525 : data:0.0 [NUMERICAL]\n",
      "\t406 : data:0.2 [NUMERICAL]\n",
      "\t399 : data:0.21 [NUMERICAL]\n",
      "\t378 : data:0.4 [NUMERICAL]\n",
      "\t350 : data:0.3 [NUMERICAL]\n",
      "\t348 : data:0.18 [NUMERICAL]\n",
      "\t331 : data:0.10 [NUMERICAL]\n",
      "\t322 : data:0.5 [NUMERICAL]\n",
      "\t315 : data:0.7 [NUMERICAL]\n",
      "\t310 : data:0.6 [NUMERICAL]\n",
      "\t309 : data:0.1 [NUMERICAL]\n",
      "\t165 : data:0.19 [NUMERICAL]\n",
      "\t114 : data:0.23 [NUMERICAL]\n",
      "\t78 : data:0.8 [NUMERICAL]\n",
      "\t36 : data:0.22 [NUMERICAL]\n",
      "\t25 : data:0.9 [NUMERICAL]\n",
      "\t18 : data:0.37 [NUMERICAL]\n",
      "\t17 : data:0.26 [NUMERICAL]\n",
      "\t16 : data:0.35 [NUMERICAL]\n",
      "\t15 : data:0.32 [NUMERICAL]\n",
      "\t14 : data:0.33 [NUMERICAL]\n",
      "\t12 : data:0.48 [NUMERICAL]\n",
      "\t12 : data:0.39 [NUMERICAL]\n",
      "\t11 : data:0.38 [NUMERICAL]\n",
      "\t11 : data:0.31 [NUMERICAL]\n",
      "\t11 : data:0.27 [NUMERICAL]\n",
      "\t10 : data:0.42 [NUMERICAL]\n",
      "\t10 : data:0.34 [NUMERICAL]\n",
      "\t9 : data:0.36 [NUMERICAL]\n",
      "\t8 : data:0.47 [NUMERICAL]\n",
      "\t8 : data:0.29 [NUMERICAL]\n",
      "\t8 : data:0.28 [NUMERICAL]\n",
      "\t5 : data:0.46 [NUMERICAL]\n",
      "\t5 : data:0.24 [NUMERICAL]\n",
      "\t4 : data:0.25 [NUMERICAL]\n",
      "\t3 : data:0.44 [NUMERICAL]\n",
      "\t3 : data:0.14 [NUMERICAL]\n",
      "\t2 : data:0.51 [NUMERICAL]\n",
      "\t2 : data:0.50 [NUMERICAL]\n",
      "\t2 : data:0.30 [NUMERICAL]\n",
      "\t2 : data:0.16 [NUMERICAL]\n",
      "\t1 : data:0.45 [NUMERICAL]\n",
      "\t1 : data:0.40 [NUMERICAL]\n",
      "\n",
      "Attribute in nodes with depth <= 0:\n",
      "\t45 : data:0.18 [NUMERICAL]\n",
      "\t39 : data:0.20 [NUMERICAL]\n",
      "\t34 : data:0.11 [NUMERICAL]\n",
      "\t32 : data:0.12 [NUMERICAL]\n",
      "\t30 : data:0.19 [NUMERICAL]\n",
      "\t22 : data:0.10 [NUMERICAL]\n",
      "\t18 : data:0.7 [NUMERICAL]\n",
      "\t17 : data:0.0 [NUMERICAL]\n",
      "\t13 : data:0.3 [NUMERICAL]\n",
      "\t9 : data:0.6 [NUMERICAL]\n",
      "\t8 : data:0.21 [NUMERICAL]\n",
      "\t7 : data:0.1 [NUMERICAL]\n",
      "\t6 : data:0.2 [NUMERICAL]\n",
      "\t4 : data:0.4 [NUMERICAL]\n",
      "\t3 : data:0.5 [NUMERICAL]\n",
      "\t3 : data:0.33 [NUMERICAL]\n",
      "\t3 : data:0.23 [NUMERICAL]\n",
      "\t1 : data:0.8 [NUMERICAL]\n",
      "\t1 : data:0.52 [NUMERICAL]\n",
      "\t1 : data:0.42 [NUMERICAL]\n",
      "\t1 : data:0.28 [NUMERICAL]\n",
      "\t1 : data:0.27 [NUMERICAL]\n",
      "\t1 : data:0.24 [NUMERICAL]\n",
      "\t1 : data:0.22 [NUMERICAL]\n",
      "\n",
      "Attribute in nodes with depth <= 1:\n",
      "\t133 : data:0.20 [NUMERICAL]\n",
      "\t119 : data:0.11 [NUMERICAL]\n",
      "\t101 : data:0.18 [NUMERICAL]\n",
      "\t69 : data:0.12 [NUMERICAL]\n",
      "\t66 : data:0.19 [NUMERICAL]\n",
      "\t43 : data:0.0 [NUMERICAL]\n",
      "\t41 : data:0.7 [NUMERICAL]\n",
      "\t34 : data:0.10 [NUMERICAL]\n",
      "\t27 : data:0.21 [NUMERICAL]\n",
      "\t25 : data:0.3 [NUMERICAL]\n",
      "\t20 : data:0.6 [NUMERICAL]\n",
      "\t19 : data:0.23 [NUMERICAL]\n",
      "\t19 : data:0.1 [NUMERICAL]\n",
      "\t13 : data:0.4 [NUMERICAL]\n",
      "\t11 : data:0.5 [NUMERICAL]\n",
      "\t10 : data:0.52 [NUMERICAL]\n",
      "\t10 : data:0.2 [NUMERICAL]\n",
      "\t5 : data:0.8 [NUMERICAL]\n",
      "\t4 : data:0.33 [NUMERICAL]\n",
      "\t3 : data:0.22 [NUMERICAL]\n",
      "\t2 : data:0.9 [NUMERICAL]\n",
      "\t2 : data:0.42 [NUMERICAL]\n",
      "\t2 : data:0.27 [NUMERICAL]\n",
      "\t1 : data:0.37 [NUMERICAL]\n",
      "\t1 : data:0.28 [NUMERICAL]\n",
      "\t1 : data:0.24 [NUMERICAL]\n",
      "\t1 : data:0.16 [NUMERICAL]\n",
      "\n",
      "Attribute in nodes with depth <= 2:\n",
      "\t284 : data:0.11 [NUMERICAL]\n",
      "\t280 : data:0.20 [NUMERICAL]\n",
      "\t155 : data:0.18 [NUMERICAL]\n",
      "\t134 : data:0.12 [NUMERICAL]\n",
      "\t103 : data:0.19 [NUMERICAL]\n",
      "\t88 : data:0.7 [NUMERICAL]\n",
      "\t70 : data:0.0 [NUMERICAL]\n",
      "\t63 : data:0.21 [NUMERICAL]\n",
      "\t61 : data:0.10 [NUMERICAL]\n",
      "\t45 : data:0.3 [NUMERICAL]\n",
      "\t38 : data:0.1 [NUMERICAL]\n",
      "\t34 : data:0.23 [NUMERICAL]\n",
      "\t33 : data:0.6 [NUMERICAL]\n",
      "\t30 : data:0.2 [NUMERICAL]\n",
      "\t28 : data:0.52 [NUMERICAL]\n",
      "\t24 : data:0.4 [NUMERICAL]\n",
      "\t23 : data:0.5 [NUMERICAL]\n",
      "\t14 : data:0.22 [NUMERICAL]\n",
      "\t12 : data:0.8 [NUMERICAL]\n",
      "\t4 : data:0.42 [NUMERICAL]\n",
      "\t4 : data:0.33 [NUMERICAL]\n",
      "\t3 : data:0.9 [NUMERICAL]\n",
      "\t3 : data:0.37 [NUMERICAL]\n",
      "\t2 : data:0.47 [NUMERICAL]\n",
      "\t2 : data:0.46 [NUMERICAL]\n",
      "\t2 : data:0.27 [NUMERICAL]\n",
      "\t1 : data:0.35 [NUMERICAL]\n",
      "\t1 : data:0.31 [NUMERICAL]\n",
      "\t1 : data:0.28 [NUMERICAL]\n",
      "\t1 : data:0.24 [NUMERICAL]\n",
      "\t1 : data:0.16 [NUMERICAL]\n",
      "\n",
      "Attribute in nodes with depth <= 3:\n",
      "\t619 : data:0.11 [NUMERICAL]\n",
      "\t548 : data:0.20 [NUMERICAL]\n",
      "\t240 : data:0.12 [NUMERICAL]\n",
      "\t212 : data:0.18 [NUMERICAL]\n",
      "\t134 : data:0.0 [NUMERICAL]\n",
      "\t133 : data:0.7 [NUMERICAL]\n",
      "\t130 : data:0.19 [NUMERICAL]\n",
      "\t108 : data:0.21 [NUMERICAL]\n",
      "\t93 : data:0.10 [NUMERICAL]\n",
      "\t66 : data:0.52 [NUMERICAL]\n",
      "\t66 : data:0.1 [NUMERICAL]\n",
      "\t62 : data:0.3 [NUMERICAL]\n",
      "\t58 : data:0.6 [NUMERICAL]\n",
      "\t55 : data:0.2 [NUMERICAL]\n",
      "\t53 : data:0.4 [NUMERICAL]\n",
      "\t52 : data:0.23 [NUMERICAL]\n",
      "\t50 : data:0.5 [NUMERICAL]\n",
      "\t19 : data:0.8 [NUMERICAL]\n",
      "\t17 : data:0.22 [NUMERICAL]\n",
      "\t8 : data:0.42 [NUMERICAL]\n",
      "\t6 : data:0.37 [NUMERICAL]\n",
      "\t5 : data:0.9 [NUMERICAL]\n",
      "\t5 : data:0.33 [NUMERICAL]\n",
      "\t4 : data:0.35 [NUMERICAL]\n",
      "\t3 : data:0.47 [NUMERICAL]\n",
      "\t3 : data:0.46 [NUMERICAL]\n",
      "\t3 : data:0.36 [NUMERICAL]\n",
      "\t3 : data:0.27 [NUMERICAL]\n",
      "\t3 : data:0.26 [NUMERICAL]\n",
      "\t2 : data:0.38 [NUMERICAL]\n",
      "\t2 : data:0.24 [NUMERICAL]\n",
      "\t1 : data:0.40 [NUMERICAL]\n",
      "\t1 : data:0.31 [NUMERICAL]\n",
      "\t1 : data:0.28 [NUMERICAL]\n",
      "\t1 : data:0.25 [NUMERICAL]\n",
      "\t1 : data:0.16 [NUMERICAL]\n",
      "\t1 : data:0.14 [NUMERICAL]\n",
      "\n",
      "Attribute in nodes with depth <= 5:\n",
      "\t1727 : data:0.11 [NUMERICAL]\n",
      "\t1534 : data:0.20 [NUMERICAL]\n",
      "\t520 : data:0.12 [NUMERICAL]\n",
      "\t311 : data:0.18 [NUMERICAL]\n",
      "\t269 : data:0.0 [NUMERICAL]\n",
      "\t267 : data:0.52 [NUMERICAL]\n",
      "\t214 : data:0.7 [NUMERICAL]\n",
      "\t208 : data:0.21 [NUMERICAL]\n",
      "\t194 : data:0.10 [NUMERICAL]\n",
      "\t168 : data:0.2 [NUMERICAL]\n",
      "\t167 : data:0.4 [NUMERICAL]\n",
      "\t166 : data:0.3 [NUMERICAL]\n",
      "\t160 : data:0.6 [NUMERICAL]\n",
      "\t156 : data:0.19 [NUMERICAL]\n",
      "\t146 : data:0.5 [NUMERICAL]\n",
      "\t139 : data:0.1 [NUMERICAL]\n",
      "\t78 : data:0.23 [NUMERICAL]\n",
      "\t50 : data:0.8 [NUMERICAL]\n",
      "\t27 : data:0.22 [NUMERICAL]\n",
      "\t15 : data:0.37 [NUMERICAL]\n",
      "\t12 : data:0.9 [NUMERICAL]\n",
      "\t12 : data:0.35 [NUMERICAL]\n",
      "\t11 : data:0.26 [NUMERICAL]\n",
      "\t10 : data:0.42 [NUMERICAL]\n",
      "\t9 : data:0.32 [NUMERICAL]\n",
      "\t7 : data:0.38 [NUMERICAL]\n",
      "\t7 : data:0.36 [NUMERICAL]\n",
      "\t7 : data:0.33 [NUMERICAL]\n",
      "\t6 : data:0.48 [NUMERICAL]\n",
      "\t6 : data:0.34 [NUMERICAL]\n",
      "\t6 : data:0.31 [NUMERICAL]\n",
      "\t6 : data:0.27 [NUMERICAL]\n",
      "\t4 : data:0.47 [NUMERICAL]\n",
      "\t4 : data:0.46 [NUMERICAL]\n",
      "\t3 : data:0.39 [NUMERICAL]\n",
      "\t3 : data:0.25 [NUMERICAL]\n",
      "\t2 : data:0.44 [NUMERICAL]\n",
      "\t2 : data:0.29 [NUMERICAL]\n",
      "\t2 : data:0.28 [NUMERICAL]\n",
      "\t2 : data:0.24 [NUMERICAL]\n",
      "\t2 : data:0.14 [NUMERICAL]\n",
      "\t1 : data:0.51 [NUMERICAL]\n",
      "\t1 : data:0.50 [NUMERICAL]\n",
      "\t1 : data:0.40 [NUMERICAL]\n",
      "\t1 : data:0.30 [NUMERICAL]\n",
      "\t1 : data:0.16 [NUMERICAL]\n",
      "\n",
      "Condition type in nodes:\n",
      "\t12220 : HigherCondition\n",
      "Condition type in nodes with depth <= 0:\n",
      "\t300 : HigherCondition\n",
      "Condition type in nodes with depth <= 1:\n",
      "\t782 : HigherCondition\n",
      "Condition type in nodes with depth <= 2:\n",
      "\t1544 : HigherCondition\n",
      "Condition type in nodes with depth <= 3:\n",
      "\t2768 : HigherCondition\n",
      "Condition type in nodes with depth <= 5:\n",
      "\t6644 : HigherCondition\n",
      "Node format: NOT_SET\n",
      "\n",
      "Training OOB:\n",
      "\ttrees: 1, Out-of-bag evaluation: accuracy:0.998069 logloss:0.0696047\n",
      "\ttrees: 11, Out-of-bag evaluation: accuracy:0.99555 logloss:0.0689162\n",
      "\ttrees: 21, Out-of-bag evaluation: accuracy:0.996896 logloss:0.0316742\n",
      "\ttrees: 31, Out-of-bag evaluation: accuracy:0.997612 logloss:0.0230066\n",
      "\ttrees: 41, Out-of-bag evaluation: accuracy:0.997493 logloss:0.0193479\n",
      "\ttrees: 51, Out-of-bag evaluation: accuracy:0.997373 logloss:0.0203481\n",
      "\ttrees: 61, Out-of-bag evaluation: accuracy:0.997254 logloss:0.0200166\n",
      "\ttrees: 71, Out-of-bag evaluation: accuracy:0.997732 logloss:0.019912\n",
      "\ttrees: 81, Out-of-bag evaluation: accuracy:0.99797 logloss:0.0199983\n",
      "\ttrees: 91, Out-of-bag evaluation: accuracy:0.99797 logloss:0.0201089\n",
      "\ttrees: 101, Out-of-bag evaluation: accuracy:0.99797 logloss:0.0202331\n",
      "\ttrees: 111, Out-of-bag evaluation: accuracy:0.99797 logloss:0.016177\n",
      "\ttrees: 121, Out-of-bag evaluation: accuracy:0.99797 logloss:0.0161849\n",
      "\ttrees: 131, Out-of-bag evaluation: accuracy:0.997851 logloss:0.0160187\n",
      "\ttrees: 141, Out-of-bag evaluation: accuracy:0.997851 logloss:0.0159696\n",
      "\ttrees: 151, Out-of-bag evaluation: accuracy:0.997732 logloss:0.0160024\n",
      "\ttrees: 161, Out-of-bag evaluation: accuracy:0.997612 logloss:0.015979\n",
      "\ttrees: 171, Out-of-bag evaluation: accuracy:0.997732 logloss:0.0162321\n",
      "\ttrees: 181, Out-of-bag evaluation: accuracy:0.997612 logloss:0.0161836\n",
      "\ttrees: 191, Out-of-bag evaluation: accuracy:0.997612 logloss:0.0161142\n",
      "\ttrees: 201, Out-of-bag evaluation: accuracy:0.997732 logloss:0.0160647\n",
      "\ttrees: 211, Out-of-bag evaluation: accuracy:0.997732 logloss:0.0161552\n",
      "\ttrees: 221, Out-of-bag evaluation: accuracy:0.997732 logloss:0.0160032\n",
      "\ttrees: 231, Out-of-bag evaluation: accuracy:0.997732 logloss:0.0159957\n",
      "\ttrees: 241, Out-of-bag evaluation: accuracy:0.997732 logloss:0.0161513\n",
      "\ttrees: 251, Out-of-bag evaluation: accuracy:0.997851 logloss:0.016227\n",
      "\ttrees: 261, Out-of-bag evaluation: accuracy:0.997851 logloss:0.016188\n",
      "\ttrees: 271, Out-of-bag evaluation: accuracy:0.997851 logloss:0.0162203\n",
      "\ttrees: 281, Out-of-bag evaluation: accuracy:0.997851 logloss:0.0162197\n",
      "\ttrees: 291, Out-of-bag evaluation: accuracy:0.997851 logloss:0.0162361\n",
      "\ttrees: 300, Out-of-bag evaluation: accuracy:0.997851 logloss:0.0162312\n",
      "\n",
      "None\n"
     ]
    }
   ],
   "source": [
    "print(rf_model.summary())"
   ]
  },
  {
   "cell_type": "code",
   "execution_count": 26,
   "id": "5b594c40-eec6-4cff-afc6-c93870de0de5",
   "metadata": {
    "tags": []
   },
   "outputs": [
    {
     "data": {
      "text/plain": [
       "Evaluation(num_examples=8376, accuracy=0.9978510028653295, loss=0.016231172621706473, rmse=None, ndcg=None, aucs=None, auuc=None, qini=None)"
      ]
     },
     "execution_count": 26,
     "metadata": {},
     "output_type": "execute_result"
    }
   ],
   "source": [
    "##uncomment to show training log\n",
    "#rf_model_train.make_inspector().training_logs()\n",
    "rf_model.make_inspector().evaluation()"
   ]
  },
  {
   "cell_type": "code",
   "execution_count": 27,
   "id": "8af3edc9-2e32-4bc8-8c5b-5bf3085d8060",
   "metadata": {
    "tags": []
   },
   "outputs": [
    {
     "data": {
      "image/png": "[encoded data removed]",
      "text/plain": [
       "<Figure size 640x480 with 1 Axes>"
      ]
     },
     "metadata": {},
     "output_type": "display_data"
    }
   ],
   "source": [
    "import matplotlib.pyplot as plt\n",
    "\n",
    "logs = rf_model.make_inspector().training_logs()\n",
    "\n",
    "plt.plot([log.evaluation.num_examples for log in logs], [log.evaluation.loss for log in logs], label=\"training data\")\n",
    "plt.xlabel(\"Number of trees\")\n",
    "plt.ylabel(\"Loss\")\n",
    "plt.legend()\n",
    "plt.show()"
   ]
  },
  {
   "cell_type": "code",
   "execution_count": 28,
   "id": "b50d39f5-7211-436d-8355-6775818e613b",
   "metadata": {
    "tags": []
   },
   "outputs": [
    {
     "data": {
      "image/png": "[encoded data removed]",
      "text/plain": [
       "<Figure size 640x480 with 1 Axes>"
      ]
     },
     "metadata": {},
     "output_type": "display_data"
    }
   ],
   "source": [
    "import matplotlib.pyplot as plt\n",
    "\n",
    "logs = rf_model.make_inspector().training_logs()\n",
    "\n",
    "plt.plot([log.evaluation.num_examples for log in logs], [log.evaluation.accuracy for log in logs], label=\"training data\")\n",
    "plt.xlabel(\"Number of trees\")\n",
    "plt.ylabel(\"Accuracy\")\n",
    "plt.legend()\n",
    "plt.show()"
   ]
  },
  {
   "cell_type": "code",
   "execution_count": 29,
   "id": "7078a13f-031f-4516-befd-3e8bbad12679",
   "metadata": {
    "tags": []
   },
   "outputs": [],
   "source": [
    "#rf_model.predict(x_test)"
   ]
  },
  {
   "cell_type": "code",
   "execution_count": 30,
   "id": "4ac777f1-1203-446d-a2dd-ff2d702d933c",
   "metadata": {},
   "outputs": [],
   "source": [
    "# metric = tfa.metrics.F1Score(num_classes=3, threshold=0.5)\n",
    "# y_true = np.array([[1, 1, 1],\n",
    "#                    [1, 0, 0],\n",
    "#                    [1, 1, 0]], np.int32)\n",
    "# y_pred = np.array([[0.2, 0.6, 0.7],\n",
    "#                    [0.2, 0.6, 0.6],\n",
    "#                    [0.6, 0.8, 0.0]], np.float32)\n",
    "# metric.update_state(y_true, y_pred)\n",
    "# result = metric.result()\n",
    "# result.numpy()\n"
   ]
  },
  {
   "cell_type": "code",
   "execution_count": 31,
   "id": "b5688700-9cbc-4542-9d15-54ce5cd3fea2",
   "metadata": {
    "tags": []
   },
   "outputs": [],
   "source": [
    "# tuner = tfdf.tuner.RandomSearch(num_trials=20)\n",
    "\n",
    "# # Hyper-parameters to optimize.\n",
    "# tuner.discret(\"max_depth\", [4, 5, 6, 7])\n",
    "\n",
    "# rf_model = tfdf.keras.RandomForestModel(categorical_algorithm = 'CART', tuner=tuner, num_trees=100)\n",
    "\n",
    "# rf_model.fit(input_image_street,\n",
    "#     y_train,\n",
    "#     #validation_data=[x_test[['Collisions_Historical', 'Mid_lat','Mid_long', 'Stop_Signs', 'Paving_historical', 'Bus_stop']], y_test],     \n",
    "#     epochs=1,\n",
    "#     verbose=1)\n"
   ]
  },
  {
   "cell_type": "markdown",
   "id": "f6646a98-35b8-454d-9cb1-38e01d557b67",
   "metadata": {},
   "source": [
    "**Logistic Regression**"
   ]
  },
  {
   "cell_type": "code",
   "execution_count": 32,
   "id": "e178f9ab-ed0e-46ab-89af-482db92fd48b",
   "metadata": {
    "tags": []
   },
   "outputs": [],
   "source": [
    "from sklearn.linear_model import LogisticRegression\n",
    "model = LogisticRegression(multi_class='multinomial', solver='lbfgs')"
   ]
  },
  {
   "cell_type": "code",
   "execution_count": 33,
   "id": "62ad930a-3d1c-4725-b60d-625ccb46fc5c",
   "metadata": {
    "tags": []
   },
   "outputs": [
    {
     "name": "stderr",
     "output_type": "stream",
     "text": [
      "/home/ubuntu/capstone/lib/python3.10/site-packages/sklearn/linear_model/_logistic.py:458: ConvergenceWarning: lbfgs failed to converge (status=1):\n",
      "STOP: TOTAL NO. of ITERATIONS REACHED LIMIT.\n",
      "\n",
      "Increase the number of iterations (max_iter) or scale the data as shown in:\n",
      "    https://scikit-learn.org/stable/modules/preprocessing.html\n",
      "Please also refer to the documentation for alternative solver options:\n",
      "    https://scikit-learn.org/stable/modules/linear_model.html#logistic-regression\n",
      "  n_iter_i = _check_optimize_result(\n"
     ]
    },
    {
     "data": {
      "text/html": [
       "<style>#sk-container-id-3 {color: black;background-color: white;}#sk-container-id-3 pre{padding: 0;}#sk-container-id-3 div.sk-toggleable {background-color: white;}#sk-container-id-3 label.sk-toggleable__label {cursor: pointer;display: block;width: 100%;margin-bottom: 0;padding: 0.3em;box-sizing: border-box;text-align: center;}#sk-container-id-3 label.sk-toggleable__label-arrow:before {content: \"▸\";float: left;margin-right: 0.25em;color: #696969;}#sk-container-id-3 label.sk-toggleable__label-arrow:hover:before {color: black;}#sk-container-id-3 div.sk-estimator:hover label.sk-toggleable__label-arrow:before {color: black;}#sk-container-id-3 div.sk-toggleable__content {max-height: 0;max-width: 0;overflow: hidden;text-align: left;background-color: #f0f8ff;}#sk-container-id-3 div.sk-toggleable__content pre {margin: 0.2em;color: black;border-radius: 0.25em;background-color: #f0f8ff;}#sk-container-id-3 input.sk-toggleable__control:checked~div.sk-toggleable__content {max-height: 200px;max-width: 100%;overflow: auto;}#sk-container-id-3 input.sk-toggleable__control:checked~label.sk-toggleable__label-arrow:before {content: \"▾\";}#sk-container-id-3 div.sk-estimator input.sk-toggleable__control:checked~label.sk-toggleable__label {background-color: #d4ebff;}#sk-container-id-3 div.sk-label input.sk-toggleable__control:checked~label.sk-toggleable__label {background-color: #d4ebff;}#sk-container-id-3 input.sk-hidden--visually {border: 0;clip: rect(1px 1px 1px 1px);clip: rect(1px, 1px, 1px, 1px);height: 1px;margin: -1px;overflow: hidden;padding: 0;position: absolute;width: 1px;}#sk-container-id-3 div.sk-estimator {font-family: monospace;background-color: #f0f8ff;border: 1px dotted black;border-radius: 0.25em;box-sizing: border-box;margin-bottom: 0.5em;}#sk-container-id-3 div.sk-estimator:hover {background-color: #d4ebff;}#sk-container-id-3 div.sk-parallel-item::after {content: \"\";width: 100%;border-bottom: 1px solid gray;flex-grow: 1;}#sk-container-id-3 div.sk-label:hover label.sk-toggleable__label {background-color: #d4ebff;}#sk-container-id-3 div.sk-serial::before {content: \"\";position: absolute;border-left: 1px solid gray;box-sizing: border-box;top: 0;bottom: 0;left: 50%;z-index: 0;}#sk-container-id-3 div.sk-serial {display: flex;flex-direction: column;align-items: center;background-color: white;padding-right: 0.2em;padding-left: 0.2em;position: relative;}#sk-container-id-3 div.sk-item {position: relative;z-index: 1;}#sk-container-id-3 div.sk-parallel {display: flex;align-items: stretch;justify-content: center;background-color: white;position: relative;}#sk-container-id-3 div.sk-item::before, #sk-container-id-3 div.sk-parallel-item::before {content: \"\";position: absolute;border-left: 1px solid gray;box-sizing: border-box;top: 0;bottom: 0;left: 50%;z-index: -1;}#sk-container-id-3 div.sk-parallel-item {display: flex;flex-direction: column;z-index: 1;position: relative;background-color: white;}#sk-container-id-3 div.sk-parallel-item:first-child::after {align-self: flex-end;width: 50%;}#sk-container-id-3 div.sk-parallel-item:last-child::after {align-self: flex-start;width: 50%;}#sk-container-id-3 div.sk-parallel-item:only-child::after {width: 0;}#sk-container-id-3 div.sk-dashed-wrapped {border: 1px dashed gray;margin: 0 0.4em 0.5em 0.4em;box-sizing: border-box;padding-bottom: 0.4em;background-color: white;}#sk-container-id-3 div.sk-label label {font-family: monospace;font-weight: bold;display: inline-block;line-height: 1.2em;}#sk-container-id-3 div.sk-label-container {text-align: center;}#sk-container-id-3 div.sk-container {/* jupyter's `normalize.less` sets `[hidden] { display: none; }` but bootstrap.min.css set `[hidden] { display: none !important; }` so we also need the `!important` here to be able to override the default hidden behavior on the sphinx rendered scikit-learn.org. See: https://github.com/scikit-learn/scikit-learn/issues/21755 */display: inline-block !important;position: relative;}#sk-container-id-3 div.sk-text-repr-fallback {display: none;}</style><div id=\"sk-container-id-3\" class=\"sk-top-container\"><div class=\"sk-text-repr-fallback\"><pre>LogisticRegression(multi_class=&#x27;multinomial&#x27;)</pre><b>In a Jupyter environment, please rerun this cell to show the HTML representation or trust the notebook. <br />On GitHub, the HTML representation is unable to render, please try loading this page with nbviewer.org.</b></div><div class=\"sk-container\" hidden><div class=\"sk-item\"><div class=\"sk-estimator sk-toggleable\"><input class=\"sk-toggleable__control sk-hidden--visually\" id=\"sk-estimator-id-5\" type=\"checkbox\" checked><label for=\"sk-estimator-id-5\" class=\"sk-toggleable__label sk-toggleable__label-arrow\">LogisticRegression</label><div class=\"sk-toggleable__content\"><pre>LogisticRegression(multi_class=&#x27;multinomial&#x27;)</pre></div></div></div></div></div>"
      ],
      "text/plain": [
       "LogisticRegression(multi_class='multinomial')"
      ]
     },
     "execution_count": 33,
     "metadata": {},
     "output_type": "execute_result"
    }
   ],
   "source": [
    "# fit the model on the whole dataset\n",
    "model.fit(X_scaled, y_train)"
   ]
  }
 ],
 "metadata": {
  "kernelspec": {
   "display_name": "Python 3 (ipykernel)",
   "language": "python",
   "name": "python3"
  },
  "language_info": {
   "codemirror_mode": {
    "name": "ipython",
    "version": 3
   },
   "file_extension": ".py",
   "mimetype": "text/x-python",
   "name": "python",
   "nbconvert_exporter": "python",
   "pygments_lexer": "ipython3",
   "version": "3.10.6"
  }
 },
 "nbformat": 4,
 "nbformat_minor": 5
}
