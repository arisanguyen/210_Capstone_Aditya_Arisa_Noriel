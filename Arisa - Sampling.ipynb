{
 "cells": [
  {
   "cell_type": "code",
   "execution_count": 1,
   "id": "356025b8",
   "metadata": {},
   "outputs": [],
   "source": [
    "import numpy as np\n",
    "import pandas as pd\n",
    "import math\n",
    "\n",
    "import matplotlib\n",
    "import matplotlib.pyplot as plt\n",
    "\n",
    "import tensorflow as tf\n",
    "from tensorflow import keras\n",
    "from tensorflow.keras import layers\n",
    "from tensorflow.keras.layers import concatenate\n",
    "import tifffile\n",
    "\n",
    "from sklearn.model_selection import train_test_split\n",
    "\n",
    "import os\n",
    "\n",
    "import scipy"
   ]
  },
  {
   "cell_type": "code",
   "execution_count": 2,
   "id": "f3693092",
   "metadata": {},
   "outputs": [],
   "source": [
    "tiles = pd.read_csv(r'.\\Data\\Tiles_expanded.csv')"
   ]
  },
  {
   "cell_type": "code",
   "execution_count": 48,
   "id": "c713d7a6",
   "metadata": {},
   "outputs": [
    {
     "data": {
      "text/html": [
       "<div>\n",
       "<style scoped>\n",
       "    .dataframe tbody tr th:only-of-type {\n",
       "        vertical-align: middle;\n",
       "    }\n",
       "\n",
       "    .dataframe tbody tr th {\n",
       "        vertical-align: top;\n",
       "    }\n",
       "\n",
       "    .dataframe thead th {\n",
       "        text-align: right;\n",
       "    }\n",
       "</style>\n",
       "<table border=\"1\" class=\"dataframe\">\n",
       "  <thead>\n",
       "    <tr style=\"text-align: right;\">\n",
       "      <th></th>\n",
       "      <th>Tile_ID</th>\n",
       "      <th>Long2</th>\n",
       "      <th>Lat2</th>\n",
       "      <th>Long1</th>\n",
       "      <th>Lat1</th>\n",
       "      <th>Mid_lat</th>\n",
       "      <th>Mid_long</th>\n",
       "      <th>Stop_Signs</th>\n",
       "      <th>Paving_historical</th>\n",
       "      <th>Paving_future</th>\n",
       "      <th>Bus_stop</th>\n",
       "      <th>Collisions_Future</th>\n",
       "      <th>Collisions_Historical</th>\n",
       "    </tr>\n",
       "  </thead>\n",
       "  <tbody>\n",
       "    <tr>\n",
       "      <th>0</th>\n",
       "      <td>36</td>\n",
       "      <td>-122.514446</td>\n",
       "      <td>37.779636</td>\n",
       "      <td>-122.513306</td>\n",
       "      <td>37.778732</td>\n",
       "      <td>37.779184</td>\n",
       "      <td>-122.513876</td>\n",
       "      <td>0.0</td>\n",
       "      <td>0.0</td>\n",
       "      <td>0.0</td>\n",
       "      <td>0.0</td>\n",
       "      <td>0.0</td>\n",
       "      <td>0.0</td>\n",
       "    </tr>\n",
       "    <tr>\n",
       "      <th>1</th>\n",
       "      <td>37</td>\n",
       "      <td>-122.514446</td>\n",
       "      <td>37.778732</td>\n",
       "      <td>-122.513306</td>\n",
       "      <td>37.777829</td>\n",
       "      <td>37.778280</td>\n",
       "      <td>-122.513876</td>\n",
       "      <td>0.0</td>\n",
       "      <td>0.0</td>\n",
       "      <td>0.0</td>\n",
       "      <td>0.0</td>\n",
       "      <td>0.0</td>\n",
       "      <td>0.0</td>\n",
       "    </tr>\n",
       "    <tr>\n",
       "      <th>2</th>\n",
       "      <td>151</td>\n",
       "      <td>-122.513306</td>\n",
       "      <td>37.779636</td>\n",
       "      <td>-122.512166</td>\n",
       "      <td>37.778732</td>\n",
       "      <td>37.779184</td>\n",
       "      <td>-122.512736</td>\n",
       "      <td>0.0</td>\n",
       "      <td>0.0</td>\n",
       "      <td>0.0</td>\n",
       "      <td>0.0</td>\n",
       "      <td>0.0</td>\n",
       "      <td>0.0</td>\n",
       "    </tr>\n",
       "    <tr>\n",
       "      <th>3</th>\n",
       "      <td>152</td>\n",
       "      <td>-122.513306</td>\n",
       "      <td>37.778732</td>\n",
       "      <td>-122.512166</td>\n",
       "      <td>37.777829</td>\n",
       "      <td>37.778280</td>\n",
       "      <td>-122.512736</td>\n",
       "      <td>0.0</td>\n",
       "      <td>0.0</td>\n",
       "      <td>0.0</td>\n",
       "      <td>0.0</td>\n",
       "      <td>0.0</td>\n",
       "      <td>0.0</td>\n",
       "    </tr>\n",
       "    <tr>\n",
       "      <th>4</th>\n",
       "      <td>153</td>\n",
       "      <td>-122.513306</td>\n",
       "      <td>37.777829</td>\n",
       "      <td>-122.512166</td>\n",
       "      <td>37.776925</td>\n",
       "      <td>37.777377</td>\n",
       "      <td>-122.512736</td>\n",
       "      <td>0.0</td>\n",
       "      <td>0.0</td>\n",
       "      <td>0.0</td>\n",
       "      <td>0.0</td>\n",
       "      <td>0.0</td>\n",
       "      <td>0.0</td>\n",
       "    </tr>\n",
       "  </tbody>\n",
       "</table>\n",
       "</div>"
      ],
      "text/plain": [
       "   Tile_ID       Long2       Lat2       Long1       Lat1    Mid_lat  \\\n",
       "0       36 -122.514446  37.779636 -122.513306  37.778732  37.779184   \n",
       "1       37 -122.514446  37.778732 -122.513306  37.777829  37.778280   \n",
       "2      151 -122.513306  37.779636 -122.512166  37.778732  37.779184   \n",
       "3      152 -122.513306  37.778732 -122.512166  37.777829  37.778280   \n",
       "4      153 -122.513306  37.777829 -122.512166  37.776925  37.777377   \n",
       "\n",
       "     Mid_long  Stop_Signs  Paving_historical  Paving_future  Bus_stop  \\\n",
       "0 -122.513876         0.0                0.0            0.0       0.0   \n",
       "1 -122.513876         0.0                0.0            0.0       0.0   \n",
       "2 -122.512736         0.0                0.0            0.0       0.0   \n",
       "3 -122.512736         0.0                0.0            0.0       0.0   \n",
       "4 -122.512736         0.0                0.0            0.0       0.0   \n",
       "\n",
       "   Collisions_Future  Collisions_Historical  \n",
       "0                0.0                    0.0  \n",
       "1                0.0                    0.0  \n",
       "2                0.0                    0.0  \n",
       "3                0.0                    0.0  \n",
       "4                0.0                    0.0  "
      ]
     },
     "execution_count": 48,
     "metadata": {},
     "output_type": "execute_result"
    }
   ],
   "source": [
    "tiles.head(5)"
   ]
  },
  {
   "cell_type": "code",
   "execution_count": 54,
   "id": "db8ac721",
   "metadata": {},
   "outputs": [],
   "source": [
    "cf = pd.unique(tiles['Collisions_Future'])"
   ]
  },
  {
   "cell_type": "code",
   "execution_count": 65,
   "id": "d705a7bc",
   "metadata": {},
   "outputs": [
    {
     "data": {
      "text/plain": [
       "array([ 0.,  5.,  1.,  2.,  4.,  3.,  6.,  9., 13.,  7., 11.,  8., 10.,\n",
       "       16., 12., 15., 19., 17., 18.])"
      ]
     },
     "execution_count": 65,
     "metadata": {},
     "output_type": "execute_result"
    }
   ],
   "source": [
    "cf"
   ]
  },
  {
   "cell_type": "markdown",
   "id": "069dc4a9",
   "metadata": {},
   "source": [
    "Balancing Dataset <br>\n",
    "https://towardsdatascience.com/regression-for-imbalanced-data-with-application-edf93517247c <br>\n",
    "https://datascience.stackexchange.com/questions/69085/smote-for-regression <br>\n",
    "https://github.com/nickkunz/smogn"
   ]
  },
  {
   "cell_type": "code",
   "execution_count": 7,
   "id": "8ea21051",
   "metadata": {},
   "outputs": [],
   "source": [
    "import smogn"
   ]
  },
  {
   "cell_type": "code",
   "execution_count": 56,
   "id": "aa5426ef",
   "metadata": {},
   "outputs": [],
   "source": [
    "rg_mtrx = []\n",
    "\n",
    "for i in cf:\n",
    "    if i == 0: \n",
    "        rg_mtrx.append([i, 0, 0])\n",
    "    else: \n",
    "        rg_mtrx.append([i, 1, 0])"
   ]
  },
  {
   "cell_type": "code",
   "execution_count": 57,
   "id": "bfcd0daf",
   "metadata": {},
   "outputs": [
    {
     "data": {
      "text/plain": [
       "[[0.0, 0, 0],\n",
       " [5.0, 1, 0],\n",
       " [1.0, 1, 0],\n",
       " [2.0, 1, 0],\n",
       " [4.0, 1, 0],\n",
       " [3.0, 1, 0],\n",
       " [6.0, 1, 0],\n",
       " [9.0, 1, 0],\n",
       " [13.0, 1, 0],\n",
       " [7.0, 1, 0],\n",
       " [11.0, 1, 0],\n",
       " [8.0, 1, 0],\n",
       " [10.0, 1, 0],\n",
       " [16.0, 1, 0],\n",
       " [12.0, 1, 0],\n",
       " [15.0, 1, 0],\n",
       " [19.0, 1, 0],\n",
       " [17.0, 1, 0],\n",
       " [18.0, 1, 0]]"
      ]
     },
     "execution_count": 57,
     "metadata": {},
     "output_type": "execute_result"
    }
   ],
   "source": [
    "rg_mtrx"
   ]
  },
  {
   "cell_type": "code",
   "execution_count": 59,
   "id": "5328e3dd",
   "metadata": {},
   "outputs": [
    {
     "name": "stderr",
     "output_type": "stream",
     "text": [
      "dist_matrix: 100%|#################################################################| 2181/2181 [43:25<00:00,  1.19s/it]\n",
      "synth_matrix: 100%|###############################################################| 2181/2181 [00:07<00:00, 285.23it/s]\n",
      "r_index: 100%|######################################################################| 873/873 [00:02<00:00, 332.54it/s]\n"
     ]
    }
   ],
   "source": [
    "tiles_smogn = smogn.smoter(\n",
    "    \n",
    "    ## main arguments\n",
    "    data = tiles[[]],           ## pandas dataframe\n",
    "    y = 'Collisions_Future',          ## string ('header name')\n",
    "    #k = 2,                    ## positive integer (k < n)\n",
    "    drop_na_col = True,       ## boolean (True or False)\n",
    "    drop_na_row = True,       ## boolean (True or False)\n",
    "    samp_method = 'balance',  ## string ('balance' or 'extreme')\n",
    "    #replace = True,\n",
    "    rel_method = 'manual',\n",
    "    #rel_thres = 1,\n",
    "    #rel_coef = 0.01,\n",
    "    rel_ctrl_pts_rg = rg_mtrx ## 2d array (format: [x, y])\n",
    ")"
   ]
  },
  {
   "cell_type": "code",
   "execution_count": 61,
   "id": "995d1991",
   "metadata": {},
   "outputs": [
    {
     "data": {
      "text/html": [
       "<div>\n",
       "<style scoped>\n",
       "    .dataframe tbody tr th:only-of-type {\n",
       "        vertical-align: middle;\n",
       "    }\n",
       "\n",
       "    .dataframe tbody tr th {\n",
       "        vertical-align: top;\n",
       "    }\n",
       "\n",
       "    .dataframe thead th {\n",
       "        text-align: right;\n",
       "    }\n",
       "</style>\n",
       "<table border=\"1\" class=\"dataframe\">\n",
       "  <thead>\n",
       "    <tr style=\"text-align: right;\">\n",
       "      <th></th>\n",
       "      <th>Tile_ID</th>\n",
       "      <th>Long2</th>\n",
       "      <th>Lat2</th>\n",
       "      <th>Long1</th>\n",
       "      <th>Lat1</th>\n",
       "      <th>Mid_lat</th>\n",
       "      <th>Mid_long</th>\n",
       "      <th>Stop_Signs</th>\n",
       "      <th>Paving_historical</th>\n",
       "      <th>Paving_future</th>\n",
       "      <th>Bus_stop</th>\n",
       "      <th>Collisions_Future</th>\n",
       "      <th>Collisions_Historical</th>\n",
       "    </tr>\n",
       "  </thead>\n",
       "  <tbody>\n",
       "    <tr>\n",
       "      <th>0</th>\n",
       "      <td>271</td>\n",
       "      <td>-122.512166</td>\n",
       "      <td>37.774235</td>\n",
       "      <td>-122.511026</td>\n",
       "      <td>37.773331</td>\n",
       "      <td>37.773783</td>\n",
       "      <td>-122.511596</td>\n",
       "      <td>3.022727</td>\n",
       "      <td>0.0000</td>\n",
       "      <td>0.0</td>\n",
       "      <td>0.000000</td>\n",
       "      <td>1.500000</td>\n",
       "      <td>2.267045</td>\n",
       "    </tr>\n",
       "    <tr>\n",
       "      <th>1</th>\n",
       "      <td>11555</td>\n",
       "      <td>-122.400434</td>\n",
       "      <td>37.762452</td>\n",
       "      <td>-122.399294</td>\n",
       "      <td>37.761548</td>\n",
       "      <td>37.762000</td>\n",
       "      <td>-122.399864</td>\n",
       "      <td>0.754265</td>\n",
       "      <td>0.0000</td>\n",
       "      <td>0.0</td>\n",
       "      <td>0.000000</td>\n",
       "      <td>1.500000</td>\n",
       "      <td>0.000000</td>\n",
       "    </tr>\n",
       "    <tr>\n",
       "      <th>2</th>\n",
       "      <td>7866</td>\n",
       "      <td>-122.436918</td>\n",
       "      <td>37.769886</td>\n",
       "      <td>-122.435778</td>\n",
       "      <td>37.768982</td>\n",
       "      <td>37.769434</td>\n",
       "      <td>-122.436348</td>\n",
       "      <td>4.000000</td>\n",
       "      <td>0.0000</td>\n",
       "      <td>0.0</td>\n",
       "      <td>0.789807</td>\n",
       "      <td>1.500000</td>\n",
       "      <td>0.420386</td>\n",
       "    </tr>\n",
       "    <tr>\n",
       "      <th>3</th>\n",
       "      <td>5672</td>\n",
       "      <td>-122.458580</td>\n",
       "      <td>37.778260</td>\n",
       "      <td>-122.457440</td>\n",
       "      <td>37.777357</td>\n",
       "      <td>37.777809</td>\n",
       "      <td>-122.458010</td>\n",
       "      <td>2.550633</td>\n",
       "      <td>4.3481</td>\n",
       "      <td>0.0</td>\n",
       "      <td>0.000000</td>\n",
       "      <td>1.500000</td>\n",
       "      <td>2.000000</td>\n",
       "    </tr>\n",
       "    <tr>\n",
       "      <th>4</th>\n",
       "      <td>390</td>\n",
       "      <td>-122.511026</td>\n",
       "      <td>37.770984</td>\n",
       "      <td>-122.509885</td>\n",
       "      <td>37.770081</td>\n",
       "      <td>37.770533</td>\n",
       "      <td>-122.510456</td>\n",
       "      <td>0.000000</td>\n",
       "      <td>0.0000</td>\n",
       "      <td>0.0</td>\n",
       "      <td>0.425726</td>\n",
       "      <td>1.333333</td>\n",
       "      <td>2.722822</td>\n",
       "    </tr>\n",
       "  </tbody>\n",
       "</table>\n",
       "</div>"
      ],
      "text/plain": [
       "   Tile_ID       Long2       Lat2       Long1       Lat1    Mid_lat  \\\n",
       "0      271 -122.512166  37.774235 -122.511026  37.773331  37.773783   \n",
       "1    11555 -122.400434  37.762452 -122.399294  37.761548  37.762000   \n",
       "2     7866 -122.436918  37.769886 -122.435778  37.768982  37.769434   \n",
       "3     5672 -122.458580  37.778260 -122.457440  37.777357  37.777809   \n",
       "4      390 -122.511026  37.770984 -122.509885  37.770081  37.770533   \n",
       "\n",
       "     Mid_long  Stop_Signs  Paving_historical  Paving_future  Bus_stop  \\\n",
       "0 -122.511596    3.022727             0.0000            0.0  0.000000   \n",
       "1 -122.399864    0.754265             0.0000            0.0  0.000000   \n",
       "2 -122.436348    4.000000             0.0000            0.0  0.789807   \n",
       "3 -122.458010    2.550633             4.3481            0.0  0.000000   \n",
       "4 -122.510456    0.000000             0.0000            0.0  0.425726   \n",
       "\n",
       "   Collisions_Future  Collisions_Historical  \n",
       "0           1.500000               2.267045  \n",
       "1           1.500000               0.000000  \n",
       "2           1.500000               0.420386  \n",
       "3           1.500000               2.000000  \n",
       "4           1.333333               2.722822  "
      ]
     },
     "execution_count": 61,
     "metadata": {},
     "output_type": "execute_result"
    }
   ],
   "source": [
    "tiles_smogn.head(5)"
   ]
  },
  {
   "cell_type": "code",
   "execution_count": 62,
   "id": "94447b3d",
   "metadata": {},
   "outputs": [
    {
     "data": {
      "text/plain": [
       "8289"
      ]
     },
     "execution_count": 62,
     "metadata": {},
     "output_type": "execute_result"
    }
   ],
   "source": [
    "len(tiles_smogn)"
   ]
  },
  {
   "cell_type": "code",
   "execution_count": 63,
   "id": "1b70f91d",
   "metadata": {},
   "outputs": [
    {
     "data": {
      "text/plain": [
       "10471"
      ]
     },
     "execution_count": 63,
     "metadata": {},
     "output_type": "execute_result"
    }
   ],
   "source": [
    "len(tiles)"
   ]
  },
  {
   "cell_type": "code",
   "execution_count": 69,
   "id": "1e942aa3",
   "metadata": {},
   "outputs": [
    {
     "data": {
      "image/png": "[encoded data removed]",
      "text/plain": [
       "<Figure size 1000x700 with 1 Axes>"
      ]
     },
     "metadata": {},
     "output_type": "display_data"
    }
   ],
   "source": [
    "fig, ax = plt.subplots(figsize =(10, 7))\n",
    "labels = [0,1,2,3,4,5,6,7,8,9,10,11,12,13,14,15,16,17,18]\n",
    "ax.hist(tiles['Collisions_Future'], bins = labels)\n",
    "ax.set_xticks(labels)\n",
    " \n",
    "# Show plot\n",
    "plt.show()"
   ]
  },
  {
   "cell_type": "code",
   "execution_count": 96,
   "id": "ca7614df",
   "metadata": {},
   "outputs": [],
   "source": [
    "from sklearn.utils import resample\n",
    "\n",
    "# # Separate majority and minority classes\n",
    "\n",
    "# # why did Noriel use historical instead of future?\n",
    "# df_majority = tiles.loc[tiles[\"Collision_binary_historical\"] == 0]\n",
    "# df_minority = tiles.loc[tiles[\"Collision_binary_historical\"] == 1]\n",
    " \n",
    "# # Downsample majority class\n",
    "# df_majority_downsampled = resample(df_majority, \n",
    "#                                  replace=False,    \n",
    "#                                  n_samples=int(major_count/ratio))\n",
    "# df_majority_downsampled = pd.concat([df_majority_downsampled, df_minority])\n",
    "\n",
    "# #Upsample minority class\n",
    "# df_minority_upsampled = resample(df_minority, \n",
    "#                                  replace=True,     \n",
    "#                                  n_samples=int(minor_count*ratio))\n",
    "# df_minority_upsampled = pd.concat([df_minority_upsampled, df_majority])\n",
    "\n",
    "set = tiles[tiles[\"Collisions_Future\"] == 0]\n",
    "sample = resample(set, replace=False, n_samples= 1000)\n",
    "for c in np.arange(1,19,1):\n",
    "    set = tiles[tiles[\"Collisions_Future\"] == c]\n",
    "    if c == 14:\n",
    "        continue\n",
    "    elif c == 13 or c == 15:\n",
    "        df = resample(set, replace=True, n_samples= 1500)\n",
    "    elif c == 15:\n",
    "        df = resample(set, replace=True, n_samples= 1500)\n",
    "    else: \n",
    "        df = resample(set, replace=True, n_samples= 1000)\n",
    "    sample = pd.concat([sample, df])"
   ]
  },
  {
   "cell_type": "code",
   "execution_count": 97,
   "id": "3c0cde85",
   "metadata": {},
   "outputs": [
    {
     "data": {
      "text/html": [
       "<div>\n",
       "<style scoped>\n",
       "    .dataframe tbody tr th:only-of-type {\n",
       "        vertical-align: middle;\n",
       "    }\n",
       "\n",
       "    .dataframe tbody tr th {\n",
       "        vertical-align: top;\n",
       "    }\n",
       "\n",
       "    .dataframe thead th {\n",
       "        text-align: right;\n",
       "    }\n",
       "</style>\n",
       "<table border=\"1\" class=\"dataframe\">\n",
       "  <thead>\n",
       "    <tr style=\"text-align: right;\">\n",
       "      <th></th>\n",
       "      <th>Tile_ID</th>\n",
       "      <th>Long2</th>\n",
       "      <th>Lat2</th>\n",
       "      <th>Long1</th>\n",
       "      <th>Lat1</th>\n",
       "      <th>Mid_lat</th>\n",
       "      <th>Mid_long</th>\n",
       "      <th>Stop_Signs</th>\n",
       "      <th>Paving_historical</th>\n",
       "      <th>Paving_future</th>\n",
       "      <th>Bus_stop</th>\n",
       "      <th>Collisions_Future</th>\n",
       "      <th>Collisions_Historical</th>\n",
       "    </tr>\n",
       "  </thead>\n",
       "  <tbody>\n",
       "    <tr>\n",
       "      <th>8683</th>\n",
       "      <td>11283</td>\n",
       "      <td>-122.402715</td>\n",
       "      <td>37.800419</td>\n",
       "      <td>-122.401574</td>\n",
       "      <td>37.799515</td>\n",
       "      <td>37.799967</td>\n",
       "      <td>-122.402145</td>\n",
       "      <td>2.0</td>\n",
       "      <td>0.0</td>\n",
       "      <td>0.0</td>\n",
       "      <td>0.0</td>\n",
       "      <td>0.0</td>\n",
       "      <td>0.0</td>\n",
       "    </tr>\n",
       "    <tr>\n",
       "      <th>9525</th>\n",
       "      <td>12291</td>\n",
       "      <td>-122.393594</td>\n",
       "      <td>37.720901</td>\n",
       "      <td>-122.392454</td>\n",
       "      <td>37.719998</td>\n",
       "      <td>37.720450</td>\n",
       "      <td>-122.393024</td>\n",
       "      <td>0.0</td>\n",
       "      <td>0.0</td>\n",
       "      <td>0.0</td>\n",
       "      <td>0.0</td>\n",
       "      <td>0.0</td>\n",
       "      <td>0.0</td>\n",
       "    </tr>\n",
       "    <tr>\n",
       "      <th>6018</th>\n",
       "      <td>8379</td>\n",
       "      <td>-122.432358</td>\n",
       "      <td>37.722709</td>\n",
       "      <td>-122.431218</td>\n",
       "      <td>37.721805</td>\n",
       "      <td>37.722257</td>\n",
       "      <td>-122.431788</td>\n",
       "      <td>0.0</td>\n",
       "      <td>0.0</td>\n",
       "      <td>0.0</td>\n",
       "      <td>0.0</td>\n",
       "      <td>0.0</td>\n",
       "      <td>0.0</td>\n",
       "    </tr>\n",
       "    <tr>\n",
       "      <th>1735</th>\n",
       "      <td>3487</td>\n",
       "      <td>-122.480243</td>\n",
       "      <td>37.778732</td>\n",
       "      <td>-122.479102</td>\n",
       "      <td>37.777829</td>\n",
       "      <td>37.778280</td>\n",
       "      <td>-122.479672</td>\n",
       "      <td>4.0</td>\n",
       "      <td>0.0</td>\n",
       "      <td>0.0</td>\n",
       "      <td>0.0</td>\n",
       "      <td>0.0</td>\n",
       "      <td>1.0</td>\n",
       "    </tr>\n",
       "    <tr>\n",
       "      <th>3924</th>\n",
       "      <td>6086</td>\n",
       "      <td>-122.455160</td>\n",
       "      <td>37.716383</td>\n",
       "      <td>-122.454020</td>\n",
       "      <td>37.715480</td>\n",
       "      <td>37.715932</td>\n",
       "      <td>-122.454590</td>\n",
       "      <td>0.0</td>\n",
       "      <td>0.0</td>\n",
       "      <td>0.0</td>\n",
       "      <td>0.0</td>\n",
       "      <td>0.0</td>\n",
       "      <td>0.0</td>\n",
       "    </tr>\n",
       "  </tbody>\n",
       "</table>\n",
       "</div>"
      ],
      "text/plain": [
       "      Tile_ID       Long2       Lat2       Long1       Lat1    Mid_lat  \\\n",
       "8683    11283 -122.402715  37.800419 -122.401574  37.799515  37.799967   \n",
       "9525    12291 -122.393594  37.720901 -122.392454  37.719998  37.720450   \n",
       "6018     8379 -122.432358  37.722709 -122.431218  37.721805  37.722257   \n",
       "1735     3487 -122.480243  37.778732 -122.479102  37.777829  37.778280   \n",
       "3924     6086 -122.455160  37.716383 -122.454020  37.715480  37.715932   \n",
       "\n",
       "        Mid_long  Stop_Signs  Paving_historical  Paving_future  Bus_stop  \\\n",
       "8683 -122.402145         2.0                0.0            0.0       0.0   \n",
       "9525 -122.393024         0.0                0.0            0.0       0.0   \n",
       "6018 -122.431788         0.0                0.0            0.0       0.0   \n",
       "1735 -122.479672         4.0                0.0            0.0       0.0   \n",
       "3924 -122.454590         0.0                0.0            0.0       0.0   \n",
       "\n",
       "      Collisions_Future  Collisions_Historical  \n",
       "8683                0.0                    0.0  \n",
       "9525                0.0                    0.0  \n",
       "6018                0.0                    0.0  \n",
       "1735                0.0                    1.0  \n",
       "3924                0.0                    0.0  "
      ]
     },
     "execution_count": 97,
     "metadata": {},
     "output_type": "execute_result"
    }
   ],
   "source": [
    "sample.head(5)"
   ]
  },
  {
   "cell_type": "code",
   "execution_count": 98,
   "id": "73a628a9",
   "metadata": {},
   "outputs": [
    {
     "data": {
      "text/plain": [
       "19000"
      ]
     },
     "execution_count": 98,
     "metadata": {},
     "output_type": "execute_result"
    }
   ],
   "source": [
    "len(sample)"
   ]
  },
  {
   "cell_type": "code",
   "execution_count": 99,
   "id": "04bcb273",
   "metadata": {},
   "outputs": [
    {
     "data": {
      "image/png": "[encoded data removed]",
      "text/plain": [
       "<Figure size 1000x700 with 1 Axes>"
      ]
     },
     "metadata": {},
     "output_type": "display_data"
    }
   ],
   "source": [
    "fig, ax = plt.subplots(figsize =(10, 7))\n",
    "labels = [0,1,2,3,4,5,6,7,8,9,10,11,12,13,14,15,16,17,18,19]\n",
    "ax.hist(sample['Collisions_Future'], bins = labels)\n",
    "ax.set_xticks(labels)\n",
    " \n",
    "# Show plot\n",
    "plt.show()"
   ]
  },
  {
   "cell_type": "code",
   "execution_count": 102,
   "id": "0d50fdd4",
   "metadata": {},
   "outputs": [],
   "source": [
    "sample.to_csv('.\\Data\\Tiles_expanded_balanced.csv', index = False) "
   ]
  },
  {
   "cell_type": "code",
   "execution_count": null,
   "id": "d73bbb3c",
   "metadata": {},
   "outputs": [],
   "source": [
    "def preprocess_data_part1(IMAGE_PATH):\n",
    "    \"\"\" Generate lists of images and labelsbased on temp_no_refer and temp_refer lists\n",
    "    \n",
    "    Params:\n",
    "    -------\n",
    "    IMAGE_PATH (str): path to directory with images.\n",
    "    \n",
    "    Returns:\n",
    "    --------\n",
    "    images_mini  (np.ndarray): Images of shape (N, 149 3)\n",
    "    \"\"\"\n",
    "    \n",
    "    data_mini = []\n",
    "    \n",
    "    for id in tile['Tile_ID']:    \n",
    "                    \n",
    "        # read image and store as matrix            \n",
    "        # Index at the end makes all images the same size (they sometimes differ by 1 pixel)\n",
    "        image = tifffile.imread(IMAGE_PATH + str(id) + '.tif')[0:148, 0:188, :]\n",
    "            \n",
    "        # append to images\n",
    "        data_mini.append(image)\n",
    "        \n",
    "        # append \n",
    " \n",
    "    # stack images and trasnform to array\n",
    "    images_mini = np.stack(data_mini)\n",
    "    \n",
    "    return images_mini"
   ]
  },
  {
   "cell_type": "code",
   "execution_count": null,
   "id": "389403ad",
   "metadata": {},
   "outputs": [],
   "source": [
    "# THERE IS ONE FILE IN THE \"SATELLITE IMAGES TILED\" FOLDER THAT IS NOT A TIF IMAGE, DELETE THIS FILE\n",
    "images_mini = preprocess_data_part1(IMAGE_PATH)"
   ]
  },
  {
   "cell_type": "markdown",
   "id": "9b5d8cf2",
   "metadata": {},
   "source": [
    "https://towardsdatascience.com/image-clustering-using-k-means-4a78478d2b83"
   ]
  },
  {
   "cell_type": "code",
   "execution_count": 3,
   "id": "4e2181a8",
   "metadata": {},
   "outputs": [],
   "source": [
    "#from tensorflow.keras.applications.inception_v3 import InceptionV3\n",
    "#from tensorflow.keras.applications.inception_v3 import preprocess_input\n",
    "#from tensorflow.keras.preprocessing import image\n",
    "#from tensorflow.keras.preprocessing.image import img_to_array\n",
    "from sklearn.cluster import KMeans\n",
    "import pandas as pd\n",
    "import numpy as np\n",
    "#from tqdm import tqdm\n",
    "#import os\n",
    "#import shutil\n",
    "import tifffile"
   ]
  },
  {
   "cell_type": "code",
   "execution_count": 4,
   "id": "3da7a31d",
   "metadata": {},
   "outputs": [],
   "source": [
    "# Function to Extract features from the images\n",
    "def features():\n",
    "    #model = InceptionV3(weights='imagenet', include_top=False)\n",
    "    features = [];\n",
    "    img_name = [];\n",
    "    for id in tiles['Tile_ID']:\n",
    "        fname='./Satellite Imagery/Satellite Images Tiled/'\n",
    "        img= tifffile.imread(fname + str(id) + '.tif')[0:148, 0:188, :]\n",
    "        #x=np.expand_dims(img,axis=0)\n",
    "        #x=preprocess_input(x)\n",
    "        #feat=model.predict(x, verbose = 0)\n",
    "        feat=img.flatten()\n",
    "        t = np.asarray(tiles[tiles['Tile_ID'] == id][['Collisions_Historical', 'Collisions_Future', 'Mid_lat','Mid_long', 'Stop_Signs', 'Paving_historical', 'Bus_stop']]).flatten()\n",
    "        feat = np.append(t, feat)\n",
    "        features.append(feat)\n",
    "        img_name.append(id)\n",
    "    return features,img_name"
   ]
  },
  {
   "cell_type": "code",
   "execution_count": 5,
   "id": "b67cbf1e",
   "metadata": {
    "scrolled": false
   },
   "outputs": [],
   "source": [
    "img_features,img_name=features()"
   ]
  },
  {
   "cell_type": "code",
   "execution_count": 6,
   "id": "88924357",
   "metadata": {},
   "outputs": [],
   "source": [
    "import copy\n",
    "\n",
    "img_features2 = copy.deepcopy(img_features)"
   ]
  },
  {
   "cell_type": "code",
   "execution_count": null,
   "id": "321819bd",
   "metadata": {},
   "outputs": [],
   "source": [
    "#img_features.to_csv('.\\Data\\Features_concatenated.csv', index = False) "
   ]
  },
  {
   "cell_type": "code",
   "execution_count": 7,
   "id": "735a0574",
   "metadata": {},
   "outputs": [],
   "source": [
    "# scale up the collisions future\n",
    "\n",
    "for i in range(len(img_features2)):\n",
    "    #print(img_features[i][0])\n",
    "    img_features2[i][0] = img_features2[i][0]**10"
   ]
  },
  {
   "cell_type": "code",
   "execution_count": 12,
   "id": "57521d62",
   "metadata": {},
   "outputs": [
    {
     "data": {
      "text/plain": [
       "9765625"
      ]
     },
     "execution_count": 12,
     "metadata": {},
     "output_type": "execute_result"
    }
   ],
   "source": [
    "5**10"
   ]
  },
  {
   "cell_type": "code",
   "execution_count": 14,
   "id": "98920d63",
   "metadata": {},
   "outputs": [
    {
     "data": {
      "text/plain": [
       "10471"
      ]
     },
     "execution_count": 14,
     "metadata": {},
     "output_type": "execute_result"
    }
   ],
   "source": [
    "len(img_features2)"
   ]
  },
  {
   "cell_type": "code",
   "execution_count": 16,
   "id": "70b5536f",
   "metadata": {},
   "outputs": [
    {
     "data": {
      "text/plain": [
       "(111303,)"
      ]
     },
     "execution_count": 16,
     "metadata": {},
     "output_type": "execute_result"
    }
   ],
   "source": [
    "np.shape(img_features2[0])"
   ]
  },
  {
   "cell_type": "markdown",
   "id": "c5bc73cb",
   "metadata": {},
   "source": [
    "https://medium.com/the-data-science-publication/how-to-find-groups-within-data-using-the-k-means-algorithm-3c1d6feeacf9"
   ]
  },
  {
   "cell_type": "code",
   "execution_count": 9,
   "id": "886fd293",
   "metadata": {},
   "outputs": [
    {
     "ename": "MemoryError",
     "evalue": "Unable to allocate 8.68 GiB for an array with shape (10471, 111303) and data type float64",
     "output_type": "error",
     "traceback": [
      "\u001b[1;31m---------------------------------------------------------------------------\u001b[0m",
      "\u001b[1;31mMemoryError\u001b[0m                               Traceback (most recent call last)",
      "Cell \u001b[1;32mIn[9], line 2\u001b[0m\n\u001b[0;32m      1\u001b[0m kmeans \u001b[38;5;241m=\u001b[39m KMeans(n_clusters\u001b[38;5;241m=\u001b[39m\u001b[38;5;241m50\u001b[39m)\n\u001b[1;32m----> 2\u001b[0m \u001b[43mkmeans\u001b[49m\u001b[38;5;241;43m.\u001b[39;49m\u001b[43mfit\u001b[49m\u001b[43m(\u001b[49m\u001b[43mimg_features2\u001b[49m\u001b[43m)\u001b[49m\n\u001b[0;32m      3\u001b[0m y_kmeans \u001b[38;5;241m=\u001b[39m kmeans\u001b[38;5;241m.\u001b[39mlabels_\n",
      "File \u001b[1;32m~\\Anaconda3\\FIle\\lib\\site-packages\\sklearn\\cluster\\_kmeans.py:1137\u001b[0m, in \u001b[0;36mKMeans.fit\u001b[1;34m(self, X, y, sample_weight)\u001b[0m\n\u001b[0;32m   1111\u001b[0m \u001b[38;5;28;01mdef\u001b[39;00m \u001b[38;5;21mfit\u001b[39m(\u001b[38;5;28mself\u001b[39m, X, y\u001b[38;5;241m=\u001b[39m\u001b[38;5;28;01mNone\u001b[39;00m, sample_weight\u001b[38;5;241m=\u001b[39m\u001b[38;5;28;01mNone\u001b[39;00m):\n\u001b[0;32m   1112\u001b[0m \u001b[38;5;250m    \u001b[39m\u001b[38;5;124;03m\"\"\"Compute k-means clustering.\u001b[39;00m\n\u001b[0;32m   1113\u001b[0m \n\u001b[0;32m   1114\u001b[0m \u001b[38;5;124;03m    Parameters\u001b[39;00m\n\u001b[1;32m   (...)\u001b[0m\n\u001b[0;32m   1135\u001b[0m \u001b[38;5;124;03m        Fitted estimator.\u001b[39;00m\n\u001b[0;32m   1136\u001b[0m \u001b[38;5;124;03m    \"\"\"\u001b[39;00m\n\u001b[1;32m-> 1137\u001b[0m     X \u001b[38;5;241m=\u001b[39m \u001b[38;5;28;43mself\u001b[39;49m\u001b[38;5;241;43m.\u001b[39;49m\u001b[43m_validate_data\u001b[49m\u001b[43m(\u001b[49m\n\u001b[0;32m   1138\u001b[0m \u001b[43m        \u001b[49m\u001b[43mX\u001b[49m\u001b[43m,\u001b[49m\n\u001b[0;32m   1139\u001b[0m \u001b[43m        \u001b[49m\u001b[43maccept_sparse\u001b[49m\u001b[38;5;241;43m=\u001b[39;49m\u001b[38;5;124;43m\"\u001b[39;49m\u001b[38;5;124;43mcsr\u001b[39;49m\u001b[38;5;124;43m\"\u001b[39;49m\u001b[43m,\u001b[49m\n\u001b[0;32m   1140\u001b[0m \u001b[43m        \u001b[49m\u001b[43mdtype\u001b[49m\u001b[38;5;241;43m=\u001b[39;49m\u001b[43m[\u001b[49m\u001b[43mnp\u001b[49m\u001b[38;5;241;43m.\u001b[39;49m\u001b[43mfloat64\u001b[49m\u001b[43m,\u001b[49m\u001b[43m \u001b[49m\u001b[43mnp\u001b[49m\u001b[38;5;241;43m.\u001b[39;49m\u001b[43mfloat32\u001b[49m\u001b[43m]\u001b[49m\u001b[43m,\u001b[49m\n\u001b[0;32m   1141\u001b[0m \u001b[43m        \u001b[49m\u001b[43morder\u001b[49m\u001b[38;5;241;43m=\u001b[39;49m\u001b[38;5;124;43m\"\u001b[39;49m\u001b[38;5;124;43mC\u001b[39;49m\u001b[38;5;124;43m\"\u001b[39;49m\u001b[43m,\u001b[49m\n\u001b[0;32m   1142\u001b[0m \u001b[43m        \u001b[49m\u001b[43mcopy\u001b[49m\u001b[38;5;241;43m=\u001b[39;49m\u001b[38;5;28;43mself\u001b[39;49m\u001b[38;5;241;43m.\u001b[39;49m\u001b[43mcopy_x\u001b[49m\u001b[43m,\u001b[49m\n\u001b[0;32m   1143\u001b[0m \u001b[43m        \u001b[49m\u001b[43maccept_large_sparse\u001b[49m\u001b[38;5;241;43m=\u001b[39;49m\u001b[38;5;28;43;01mFalse\u001b[39;49;00m\u001b[43m,\u001b[49m\n\u001b[0;32m   1144\u001b[0m \u001b[43m    \u001b[49m\u001b[43m)\u001b[49m\n\u001b[0;32m   1146\u001b[0m     \u001b[38;5;28mself\u001b[39m\u001b[38;5;241m.\u001b[39m_check_params(X)\n\u001b[0;32m   1147\u001b[0m     random_state \u001b[38;5;241m=\u001b[39m check_random_state(\u001b[38;5;28mself\u001b[39m\u001b[38;5;241m.\u001b[39mrandom_state)\n",
      "File \u001b[1;32m~\\Anaconda3\\FIle\\lib\\site-packages\\sklearn\\base.py:566\u001b[0m, in \u001b[0;36mBaseEstimator._validate_data\u001b[1;34m(self, X, y, reset, validate_separately, **check_params)\u001b[0m\n\u001b[0;32m    564\u001b[0m     \u001b[38;5;28;01mraise\u001b[39;00m \u001b[38;5;167;01mValueError\u001b[39;00m(\u001b[38;5;124m\"\u001b[39m\u001b[38;5;124mValidation should be done on X, y or both.\u001b[39m\u001b[38;5;124m\"\u001b[39m)\n\u001b[0;32m    565\u001b[0m \u001b[38;5;28;01melif\u001b[39;00m \u001b[38;5;129;01mnot\u001b[39;00m no_val_X \u001b[38;5;129;01mand\u001b[39;00m no_val_y:\n\u001b[1;32m--> 566\u001b[0m     X \u001b[38;5;241m=\u001b[39m \u001b[43mcheck_array\u001b[49m\u001b[43m(\u001b[49m\u001b[43mX\u001b[49m\u001b[43m,\u001b[49m\u001b[43m \u001b[49m\u001b[38;5;241;43m*\u001b[39;49m\u001b[38;5;241;43m*\u001b[39;49m\u001b[43mcheck_params\u001b[49m\u001b[43m)\u001b[49m\n\u001b[0;32m    567\u001b[0m     out \u001b[38;5;241m=\u001b[39m X\n\u001b[0;32m    568\u001b[0m \u001b[38;5;28;01melif\u001b[39;00m no_val_X \u001b[38;5;129;01mand\u001b[39;00m \u001b[38;5;129;01mnot\u001b[39;00m no_val_y:\n",
      "File \u001b[1;32m~\\Anaconda3\\FIle\\lib\\site-packages\\sklearn\\utils\\validation.py:820\u001b[0m, in \u001b[0;36mcheck_array\u001b[1;34m(array, accept_sparse, accept_large_sparse, dtype, order, copy, force_all_finite, ensure_2d, allow_nd, ensure_min_samples, ensure_min_features, estimator)\u001b[0m\n\u001b[0;32m    813\u001b[0m     \u001b[38;5;28;01mif\u001b[39;00m n_features \u001b[38;5;241m<\u001b[39m ensure_min_features:\n\u001b[0;32m    814\u001b[0m         \u001b[38;5;28;01mraise\u001b[39;00m \u001b[38;5;167;01mValueError\u001b[39;00m(\n\u001b[0;32m    815\u001b[0m             \u001b[38;5;124m\"\u001b[39m\u001b[38;5;124mFound array with \u001b[39m\u001b[38;5;132;01m%d\u001b[39;00m\u001b[38;5;124m feature(s) (shape=\u001b[39m\u001b[38;5;132;01m%s\u001b[39;00m\u001b[38;5;124m) while\u001b[39m\u001b[38;5;124m\"\u001b[39m\n\u001b[0;32m    816\u001b[0m             \u001b[38;5;124m\"\u001b[39m\u001b[38;5;124m a minimum of \u001b[39m\u001b[38;5;132;01m%d\u001b[39;00m\u001b[38;5;124m is required\u001b[39m\u001b[38;5;132;01m%s\u001b[39;00m\u001b[38;5;124m.\u001b[39m\u001b[38;5;124m\"\u001b[39m\n\u001b[0;32m    817\u001b[0m             \u001b[38;5;241m%\u001b[39m (n_features, array\u001b[38;5;241m.\u001b[39mshape, ensure_min_features, context)\n\u001b[0;32m    818\u001b[0m         )\n\u001b[1;32m--> 820\u001b[0m \u001b[38;5;28;01mif\u001b[39;00m copy \u001b[38;5;129;01mand\u001b[39;00m \u001b[43mnp\u001b[49m\u001b[38;5;241;43m.\u001b[39;49m\u001b[43mmay_share_memory\u001b[49m\u001b[43m(\u001b[49m\u001b[43marray\u001b[49m\u001b[43m,\u001b[49m\u001b[43m \u001b[49m\u001b[43marray_orig\u001b[49m\u001b[43m)\u001b[49m:\n\u001b[0;32m    821\u001b[0m     array \u001b[38;5;241m=\u001b[39m np\u001b[38;5;241m.\u001b[39marray(array, dtype\u001b[38;5;241m=\u001b[39mdtype, order\u001b[38;5;241m=\u001b[39morder)\n\u001b[0;32m    823\u001b[0m \u001b[38;5;28;01mreturn\u001b[39;00m array\n",
      "File \u001b[1;32m<__array_function__ internals>:5\u001b[0m, in \u001b[0;36mmay_share_memory\u001b[1;34m(*args, **kwargs)\u001b[0m\n",
      "\u001b[1;31mMemoryError\u001b[0m: Unable to allocate 8.68 GiB for an array with shape (10471, 111303) and data type float64"
     ]
    }
   ],
   "source": [
    "kmeans = KMeans(n_clusters=50)\n",
    "kmeans.fit(img_features2)\n",
    "y_kmeans = kmeans.labels_"
   ]
  },
  {
   "cell_type": "code",
   "execution_count": null,
   "id": "beca362d",
   "metadata": {},
   "outputs": [],
   "source": [
    "pd.unique(y_kmeans)"
   ]
  },
  {
   "cell_type": "code",
   "execution_count": null,
   "id": "ce923a61",
   "metadata": {},
   "outputs": [],
   "source": [
    "figure, axis = plt.subplots(5, 4)\n",
    "figure.tight_layout()\n",
    "c = 0\n",
    "for i in range(5):\n",
    "    for j in range(4):\n",
    "        axis[i,j].hist(tiles['Collisions_Future'][y_kmeans == c], bins=30)\n",
    "        #axis[i,j].set_title('Clu)\n",
    "        c += 1"
   ]
  },
  {
   "cell_type": "code",
   "execution_count": null,
   "id": "e36d0ed5",
   "metadata": {},
   "outputs": [],
   "source": [
    "# Sample based on k-means clustering\n",
    "from sklearn.utils import resample"
   ]
  },
  {
   "cell_type": "code",
   "execution_count": null,
   "id": "e516aee4",
   "metadata": {},
   "outputs": [],
   "source": [
    "tiles['Cluster'] = y_kmeans\n",
    "tiles.head(5)"
   ]
  },
  {
   "cell_type": "code",
   "execution_count": null,
   "id": "36fb04c2",
   "metadata": {},
   "outputs": [],
   "source": [
    "sample = pd.DataFrame()\n",
    "for c in range(20):\n",
    "    set = tiles[y_kmeans == c]\n",
    "    df = resample(set, replace=True, n_samples= 250)\n",
    "    sample = pd.concat([sample, df])"
   ]
  },
  {
   "cell_type": "code",
   "execution_count": null,
   "id": "f78b73cd",
   "metadata": {},
   "outputs": [],
   "source": [
    "fig, ax = plt.subplots(figsize =(10, 7))\n",
    "labels = [0,1,2,3,4,5,6,7,8,9,10,11,12,13,14,15,16,17,18,19]\n",
    "ax.hist(sample['Collisions_Future'], bins = labels)\n",
    "ax.set_xticks(labels)\n",
    " \n",
    "# Show plot\n",
    "plt.show()"
   ]
  },
  {
   "cell_type": "code",
   "execution_count": 144,
   "id": "a1dc011e",
   "metadata": {},
   "outputs": [],
   "source": [
    "sample.to_csv('.\\Data\\Tiles_expanded_balanced.csv', index = False) "
   ]
  }
 ],
 "metadata": {
  "kernelspec": {
   "display_name": "Python 3 (ipykernel)",
   "language": "python",
   "name": "python3"
  },
  "language_info": {
   "codemirror_mode": {
    "name": "ipython",
    "version": 3
   },
   "file_extension": ".py",
   "mimetype": "text/x-python",
   "name": "python",
   "nbconvert_exporter": "python",
   "pygments_lexer": "ipython3",
   "version": "3.8.11"
  }
 },
 "nbformat": 4,
 "nbformat_minor": 5
}
