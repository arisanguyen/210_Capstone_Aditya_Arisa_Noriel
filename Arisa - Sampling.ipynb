{
 "cells": [
  {
   "cell_type": "code",
   "execution_count": 1,
   "id": "356025b8",
   "metadata": {
    "tags": []
   },
   "outputs": [
    {
     "name": "stderr",
     "output_type": "stream",
     "text": [
      "2023-03-07 08:08:55.271867: I tensorflow/core/platform/cpu_feature_guard.cc:193] This TensorFlow binary is optimized with oneAPI Deep Neural Network Library (oneDNN) to use the following CPU instructions in performance-critical operations:  AVX2 FMA\n",
      "To enable them in other operations, rebuild TensorFlow with the appropriate compiler flags.\n",
      "2023-03-07 08:08:56.859391: W tensorflow/compiler/xla/stream_executor/platform/default/dso_loader.cc:64] Could not load dynamic library 'libcudart.so.11.0'; dlerror: libcudart.so.11.0: cannot open shared object file: No such file or directory\n",
      "2023-03-07 08:08:56.859416: I tensorflow/compiler/xla/stream_executor/cuda/cudart_stub.cc:29] Ignore above cudart dlerror if you do not have a GPU set up on your machine.\n",
      "2023-03-07 08:09:00.841831: W tensorflow/compiler/xla/stream_executor/platform/default/dso_loader.cc:64] Could not load dynamic library 'libnvinfer.so.7'; dlerror: libnvinfer.so.7: cannot open shared object file: No such file or directory\n",
      "2023-03-07 08:09:00.841954: W tensorflow/compiler/xla/stream_executor/platform/default/dso_loader.cc:64] Could not load dynamic library 'libnvinfer_plugin.so.7'; dlerror: libnvinfer_plugin.so.7: cannot open shared object file: No such file or directory\n",
      "2023-03-07 08:09:00.841966: W tensorflow/compiler/tf2tensorrt/utils/py_utils.cc:38] TF-TRT Warning: Cannot dlopen some TensorRT libraries. If you would like to use Nvidia GPU with TensorRT, please make sure the missing libraries mentioned above are installed properly.\n"
     ]
    }
   ],
   "source": [
    "import numpy as np\n",
    "import pandas as pd\n",
    "import math\n",
    "\n",
    "import matplotlib\n",
    "import matplotlib.pyplot as plt\n",
    "\n",
    "import tensorflow as tf\n",
    "from tensorflow import keras\n",
    "from tensorflow.keras import layers\n",
    "from tensorflow.keras.layers import concatenate\n",
    "import tifffile\n",
    "\n",
    "from sklearn.model_selection import train_test_split\n",
    "\n",
    "import os\n",
    "\n",
    "import scipy"
   ]
  },
  {
   "cell_type": "code",
   "execution_count": 2,
   "id": "f3693092",
   "metadata": {
    "tags": []
   },
   "outputs": [],
   "source": [
    "tiles = pd.read_csv(r'./Data/Tiles_expanded.csv')"
   ]
  },
  {
   "cell_type": "code",
   "execution_count": 24,
   "id": "c713d7a6",
   "metadata": {
    "tags": []
   },
   "outputs": [
    {
     "data": {
      "text/html": [
       "<div>\n",
       "<style scoped>\n",
       "    .dataframe tbody tr th:only-of-type {\n",
       "        vertical-align: middle;\n",
       "    }\n",
       "\n",
       "    .dataframe tbody tr th {\n",
       "        vertical-align: top;\n",
       "    }\n",
       "\n",
       "    .dataframe thead th {\n",
       "        text-align: right;\n",
       "    }\n",
       "</style>\n",
       "<table border=\"1\" class=\"dataframe\">\n",
       "  <thead>\n",
       "    <tr style=\"text-align: right;\">\n",
       "      <th></th>\n",
       "      <th>Tile_ID</th>\n",
       "      <th>Long2</th>\n",
       "      <th>Lat2</th>\n",
       "      <th>Long1</th>\n",
       "      <th>Lat1</th>\n",
       "      <th>Mid_lat</th>\n",
       "      <th>Mid_long</th>\n",
       "      <th>Stop_Signs</th>\n",
       "      <th>Paving_historical</th>\n",
       "      <th>Paving_future</th>\n",
       "      <th>Bus_stop</th>\n",
       "      <th>Collisions_Future</th>\n",
       "      <th>Collisions_Historical</th>\n",
       "    </tr>\n",
       "  </thead>\n",
       "  <tbody>\n",
       "    <tr>\n",
       "      <th>0</th>\n",
       "      <td>36</td>\n",
       "      <td>-122.514446</td>\n",
       "      <td>37.779636</td>\n",
       "      <td>-122.513306</td>\n",
       "      <td>37.778732</td>\n",
       "      <td>37.779184</td>\n",
       "      <td>-122.513876</td>\n",
       "      <td>0.0</td>\n",
       "      <td>0.0</td>\n",
       "      <td>0.0</td>\n",
       "      <td>0.0</td>\n",
       "      <td>0.0</td>\n",
       "      <td>0.0</td>\n",
       "    </tr>\n",
       "    <tr>\n",
       "      <th>1</th>\n",
       "      <td>37</td>\n",
       "      <td>-122.514446</td>\n",
       "      <td>37.778732</td>\n",
       "      <td>-122.513306</td>\n",
       "      <td>37.777829</td>\n",
       "      <td>37.778280</td>\n",
       "      <td>-122.513876</td>\n",
       "      <td>0.0</td>\n",
       "      <td>0.0</td>\n",
       "      <td>0.0</td>\n",
       "      <td>0.0</td>\n",
       "      <td>0.0</td>\n",
       "      <td>0.0</td>\n",
       "    </tr>\n",
       "    <tr>\n",
       "      <th>2</th>\n",
       "      <td>151</td>\n",
       "      <td>-122.513306</td>\n",
       "      <td>37.779636</td>\n",
       "      <td>-122.512166</td>\n",
       "      <td>37.778732</td>\n",
       "      <td>37.779184</td>\n",
       "      <td>-122.512736</td>\n",
       "      <td>0.0</td>\n",
       "      <td>0.0</td>\n",
       "      <td>0.0</td>\n",
       "      <td>0.0</td>\n",
       "      <td>0.0</td>\n",
       "      <td>0.0</td>\n",
       "    </tr>\n",
       "    <tr>\n",
       "      <th>3</th>\n",
       "      <td>152</td>\n",
       "      <td>-122.513306</td>\n",
       "      <td>37.778732</td>\n",
       "      <td>-122.512166</td>\n",
       "      <td>37.777829</td>\n",
       "      <td>37.778280</td>\n",
       "      <td>-122.512736</td>\n",
       "      <td>0.0</td>\n",
       "      <td>0.0</td>\n",
       "      <td>0.0</td>\n",
       "      <td>0.0</td>\n",
       "      <td>0.0</td>\n",
       "      <td>0.0</td>\n",
       "    </tr>\n",
       "    <tr>\n",
       "      <th>4</th>\n",
       "      <td>153</td>\n",
       "      <td>-122.513306</td>\n",
       "      <td>37.777829</td>\n",
       "      <td>-122.512166</td>\n",
       "      <td>37.776925</td>\n",
       "      <td>37.777377</td>\n",
       "      <td>-122.512736</td>\n",
       "      <td>0.0</td>\n",
       "      <td>0.0</td>\n",
       "      <td>0.0</td>\n",
       "      <td>0.0</td>\n",
       "      <td>0.0</td>\n",
       "      <td>0.0</td>\n",
       "    </tr>\n",
       "  </tbody>\n",
       "</table>\n",
       "</div>"
      ],
      "text/plain": [
       "   Tile_ID       Long2       Lat2       Long1       Lat1    Mid_lat  \\\n",
       "0       36 -122.514446  37.779636 -122.513306  37.778732  37.779184   \n",
       "1       37 -122.514446  37.778732 -122.513306  37.777829  37.778280   \n",
       "2      151 -122.513306  37.779636 -122.512166  37.778732  37.779184   \n",
       "3      152 -122.513306  37.778732 -122.512166  37.777829  37.778280   \n",
       "4      153 -122.513306  37.777829 -122.512166  37.776925  37.777377   \n",
       "\n",
       "     Mid_long  Stop_Signs  Paving_historical  Paving_future  Bus_stop  \\\n",
       "0 -122.513876         0.0                0.0            0.0       0.0   \n",
       "1 -122.513876         0.0                0.0            0.0       0.0   \n",
       "2 -122.512736         0.0                0.0            0.0       0.0   \n",
       "3 -122.512736         0.0                0.0            0.0       0.0   \n",
       "4 -122.512736         0.0                0.0            0.0       0.0   \n",
       "\n",
       "   Collisions_Future  Collisions_Historical  \n",
       "0                0.0                    0.0  \n",
       "1                0.0                    0.0  \n",
       "2                0.0                    0.0  \n",
       "3                0.0                    0.0  \n",
       "4                0.0                    0.0  "
      ]
     },
     "execution_count": 24,
     "metadata": {},
     "output_type": "execute_result"
    }
   ],
   "source": [
    "tiles.head(5)"
   ]
  },
  {
   "cell_type": "code",
   "execution_count": 25,
   "id": "db8ac721",
   "metadata": {
    "tags": []
   },
   "outputs": [],
   "source": [
    "cf = pd.unique(tiles['Collisions_Future'])"
   ]
  },
  {
   "cell_type": "code",
   "execution_count": 26,
   "id": "d705a7bc",
   "metadata": {
    "tags": []
   },
   "outputs": [
    {
     "data": {
      "text/plain": [
       "array([ 0.,  5.,  1.,  2.,  4.,  3.,  6.,  9., 13.,  7., 11.,  8., 10.,\n",
       "       16., 12., 15., 19., 17., 18.])"
      ]
     },
     "execution_count": 26,
     "metadata": {},
     "output_type": "execute_result"
    }
   ],
   "source": [
    "cf"
   ]
  },
  {
   "cell_type": "markdown",
   "id": "069dc4a9",
   "metadata": {},
   "source": [
    "Balancing Dataset <br>\n",
    "https://towardsdatascience.com/regression-for-imbalanced-data-with-application-edf93517247c <br>\n",
    "https://datascience.stackexchange.com/questions/69085/smote-for-regression <br>\n",
    "https://github.com/nickkunz/smogn"
   ]
  },
  {
   "cell_type": "code",
   "execution_count": 27,
   "id": "8ea21051",
   "metadata": {},
   "outputs": [],
   "source": [
    "#import smogn"
   ]
  },
  {
   "cell_type": "code",
   "execution_count": 28,
   "id": "aa5426ef",
   "metadata": {},
   "outputs": [],
   "source": [
    "# rg_mtrx = []\n",
    "\n",
    "# for i in cf:\n",
    "#     if i == 0: \n",
    "#         rg_mtrx.append([i, 0, 0])\n",
    "#     else: \n",
    "#         rg_mtrx.append([i, 1, 0])"
   ]
  },
  {
   "cell_type": "code",
   "execution_count": 29,
   "id": "bfcd0daf",
   "metadata": {},
   "outputs": [],
   "source": [
    "# rg_mtrx"
   ]
  },
  {
   "cell_type": "code",
   "execution_count": 30,
   "id": "5328e3dd",
   "metadata": {},
   "outputs": [],
   "source": [
    "# tiles_smogn = smogn.smoter(\n",
    "    \n",
    "#     ## main arguments\n",
    "#     data = tiles[[]],           ## pandas dataframe\n",
    "#     y = 'Collisions_Future',          ## string ('header name')\n",
    "#     #k = 2,                    ## positive integer (k < n)\n",
    "#     drop_na_col = True,       ## boolean (True or False)\n",
    "#     drop_na_row = True,       ## boolean (True or False)\n",
    "#     samp_method = 'balance',  ## string ('balance' or 'extreme')\n",
    "#     #replace = True,\n",
    "#     rel_method = 'manual',\n",
    "#     #rel_thres = 1,\n",
    "#     #rel_coef = 0.01,\n",
    "#     rel_ctrl_pts_rg = rg_mtrx ## 2d array (format: [x, y])\n",
    "# )"
   ]
  },
  {
   "cell_type": "code",
   "execution_count": 31,
   "id": "995d1991",
   "metadata": {},
   "outputs": [],
   "source": [
    "# tiles_smogn.head(5)"
   ]
  },
  {
   "cell_type": "code",
   "execution_count": 32,
   "id": "94447b3d",
   "metadata": {},
   "outputs": [],
   "source": [
    "# len(tiles_smogn)"
   ]
  },
  {
   "cell_type": "code",
   "execution_count": 33,
   "id": "1b70f91d",
   "metadata": {},
   "outputs": [],
   "source": [
    "# len(tiles)"
   ]
  },
  {
   "cell_type": "code",
   "execution_count": 170,
   "id": "1e942aa3",
   "metadata": {},
   "outputs": [
    {
     "data": {
      "image/png": "[encoded data removed]",
      "text/plain": [
       "<Figure size 1000x500 with 1 Axes>"
      ]
     },
     "metadata": {},
     "output_type": "display_data"
    }
   ],
   "source": [
    "fig, ax = plt.subplots(figsize =(10, 5))\n",
    "labels = [0,1,2,3,4,5,6,7,8,9,10,11,12,13,14,15,16,17,18]\n",
    "ax.hist(tiles['Collisions_Future'], bins = labels)\n",
    "ax.set_xticks(labels)\n",
    "plt.title('Histogram - Number of Future Collisions (Original Dataset)')\n",
    " \n",
    "# Show plot\n",
    "plt.show()"
   ]
  },
  {
   "cell_type": "code",
   "execution_count": 167,
   "id": "ca7614df",
   "metadata": {},
   "outputs": [],
   "source": [
    "from sklearn.utils import resample\n",
    "\n",
    "# # Separate majority and minority classes\n",
    "\n",
    "# # why did Noriel use historical instead of future?\n",
    "# df_majority = tiles.loc[tiles[\"Collision_binary_historical\"] == 0]\n",
    "# df_minority = tiles.loc[tiles[\"Collision_binary_historical\"] == 1]\n",
    " \n",
    "# # Downsample majority class\n",
    "# df_majority_downsampled = resample(df_majority, \n",
    "#                                  replace=False,    \n",
    "#                                  n_samples=int(major_count/ratio))\n",
    "# df_majority_downsampled = pd.concat([df_majority_downsampled, df_minority])\n",
    "\n",
    "# #Upsample minority class\n",
    "# df_minority_upsampled = resample(df_minority, \n",
    "#                                  replace=True,     \n",
    "#                                  n_samples=int(minor_count*ratio))\n",
    "# df_minority_upsampled = pd.concat([df_minority_upsampled, df_majority])\n",
    "\n",
    "set = tiles[tiles[\"Collisions_Future\"] == 0]\n",
    "sample = resample(set, replace=False, n_samples= 1000)\n",
    "for c in np.arange(1,19,1):\n",
    "    set = tiles[tiles[\"Collisions_Future\"] == c]\n",
    "    if c == 14:\n",
    "        continue\n",
    "    #elif c == 13 or c == 15:\n",
    "       # df = resample(set, replace=True, n_samples= 1500)\n",
    "    else: \n",
    "        df = resample(set, replace=True, n_samples= 1000)\n",
    "    sample = pd.concat([sample, df])"
   ]
  },
  {
   "cell_type": "code",
   "execution_count": 36,
   "id": "3c0cde85",
   "metadata": {},
   "outputs": [
    {
     "data": {
      "text/html": [
       "<div>\n",
       "<style scoped>\n",
       "    .dataframe tbody tr th:only-of-type {\n",
       "        vertical-align: middle;\n",
       "    }\n",
       "\n",
       "    .dataframe tbody tr th {\n",
       "        vertical-align: top;\n",
       "    }\n",
       "\n",
       "    .dataframe thead th {\n",
       "        text-align: right;\n",
       "    }\n",
       "</style>\n",
       "<table border=\"1\" class=\"dataframe\">\n",
       "  <thead>\n",
       "    <tr style=\"text-align: right;\">\n",
       "      <th></th>\n",
       "      <th>Tile_ID</th>\n",
       "      <th>Long2</th>\n",
       "      <th>Lat2</th>\n",
       "      <th>Long1</th>\n",
       "      <th>Lat1</th>\n",
       "      <th>Mid_lat</th>\n",
       "      <th>Mid_long</th>\n",
       "      <th>Stop_Signs</th>\n",
       "      <th>Paving_historical</th>\n",
       "      <th>Paving_future</th>\n",
       "      <th>Bus_stop</th>\n",
       "      <th>Collisions_Future</th>\n",
       "      <th>Collisions_Historical</th>\n",
       "    </tr>\n",
       "  </thead>\n",
       "  <tbody>\n",
       "    <tr>\n",
       "      <th>1942</th>\n",
       "      <td>3743</td>\n",
       "      <td>-122.477962</td>\n",
       "      <td>37.755238</td>\n",
       "      <td>-122.476822</td>\n",
       "      <td>37.754335</td>\n",
       "      <td>37.754787</td>\n",
       "      <td>-122.477392</td>\n",
       "      <td>0.0</td>\n",
       "      <td>0.0</td>\n",
       "      <td>0.0</td>\n",
       "      <td>0.0</td>\n",
       "      <td>0.0</td>\n",
       "      <td>0.0</td>\n",
       "    </tr>\n",
       "    <tr>\n",
       "      <th>4213</th>\n",
       "      <td>6419</td>\n",
       "      <td>-122.451740</td>\n",
       "      <td>37.727227</td>\n",
       "      <td>-122.450599</td>\n",
       "      <td>37.726323</td>\n",
       "      <td>37.726775</td>\n",
       "      <td>-122.451170</td>\n",
       "      <td>0.0</td>\n",
       "      <td>0.0</td>\n",
       "      <td>0.0</td>\n",
       "      <td>0.0</td>\n",
       "      <td>0.0</td>\n",
       "      <td>0.0</td>\n",
       "    </tr>\n",
       "    <tr>\n",
       "      <th>8887</th>\n",
       "      <td>11516</td>\n",
       "      <td>-122.400434</td>\n",
       "      <td>37.797708</td>\n",
       "      <td>-122.399294</td>\n",
       "      <td>37.796804</td>\n",
       "      <td>37.797256</td>\n",
       "      <td>-122.399864</td>\n",
       "      <td>3.0</td>\n",
       "      <td>0.0</td>\n",
       "      <td>0.0</td>\n",
       "      <td>0.0</td>\n",
       "      <td>0.0</td>\n",
       "      <td>0.0</td>\n",
       "    </tr>\n",
       "    <tr>\n",
       "      <th>3577</th>\n",
       "      <td>5665</td>\n",
       "      <td>-122.458580</td>\n",
       "      <td>37.785057</td>\n",
       "      <td>-122.457440</td>\n",
       "      <td>37.784154</td>\n",
       "      <td>37.784606</td>\n",
       "      <td>-122.458010</td>\n",
       "      <td>0.0</td>\n",
       "      <td>0.0</td>\n",
       "      <td>1.0</td>\n",
       "      <td>0.0</td>\n",
       "      <td>0.0</td>\n",
       "      <td>0.0</td>\n",
       "    </tr>\n",
       "    <tr>\n",
       "      <th>9239</th>\n",
       "      <td>11935</td>\n",
       "      <td>-122.397014</td>\n",
       "      <td>37.730841</td>\n",
       "      <td>-122.395874</td>\n",
       "      <td>37.729938</td>\n",
       "      <td>37.730389</td>\n",
       "      <td>-122.396444</td>\n",
       "      <td>0.0</td>\n",
       "      <td>0.0</td>\n",
       "      <td>0.0</td>\n",
       "      <td>0.0</td>\n",
       "      <td>0.0</td>\n",
       "      <td>0.0</td>\n",
       "    </tr>\n",
       "  </tbody>\n",
       "</table>\n",
       "</div>"
      ],
      "text/plain": [
       "      Tile_ID       Long2       Lat2       Long1       Lat1    Mid_lat  \\\n",
       "1942     3743 -122.477962  37.755238 -122.476822  37.754335  37.754787   \n",
       "4213     6419 -122.451740  37.727227 -122.450599  37.726323  37.726775   \n",
       "8887    11516 -122.400434  37.797708 -122.399294  37.796804  37.797256   \n",
       "3577     5665 -122.458580  37.785057 -122.457440  37.784154  37.784606   \n",
       "9239    11935 -122.397014  37.730841 -122.395874  37.729938  37.730389   \n",
       "\n",
       "        Mid_long  Stop_Signs  Paving_historical  Paving_future  Bus_stop  \\\n",
       "1942 -122.477392         0.0                0.0            0.0       0.0   \n",
       "4213 -122.451170         0.0                0.0            0.0       0.0   \n",
       "8887 -122.399864         3.0                0.0            0.0       0.0   \n",
       "3577 -122.458010         0.0                0.0            1.0       0.0   \n",
       "9239 -122.396444         0.0                0.0            0.0       0.0   \n",
       "\n",
       "      Collisions_Future  Collisions_Historical  \n",
       "1942                0.0                    0.0  \n",
       "4213                0.0                    0.0  \n",
       "8887                0.0                    0.0  \n",
       "3577                0.0                    0.0  \n",
       "9239                0.0                    0.0  "
      ]
     },
     "execution_count": 36,
     "metadata": {},
     "output_type": "execute_result"
    }
   ],
   "source": [
    "sample.head(5)"
   ]
  },
  {
   "cell_type": "code",
   "execution_count": 37,
   "id": "73a628a9",
   "metadata": {},
   "outputs": [
    {
     "data": {
      "text/plain": [
       "19000"
      ]
     },
     "execution_count": 37,
     "metadata": {},
     "output_type": "execute_result"
    }
   ],
   "source": [
    "len(sample)"
   ]
  },
  {
   "cell_type": "code",
   "execution_count": 168,
   "id": "04bcb273",
   "metadata": {},
   "outputs": [
    {
     "data": {
      "image/png": "[encoded data removed]",
      "text/plain": [
       "<Figure size 1000x500 with 1 Axes>"
      ]
     },
     "metadata": {},
     "output_type": "display_data"
    }
   ],
   "source": [
    "fig, ax = plt.subplots(figsize =(10, 5))\n",
    "labels = [0,1,2,3,4,5,6,7,8,9,10,11,12,13,14,15,16,17,18,19]\n",
    "ax.hist(sample['Collisions_Future'], bins = labels)\n",
    "ax.set_xticks(labels)\n",
    "plt.title('Histogram - Number of Future Collisions (Approach 1)')\n",
    " \n",
    "# Show plot\n",
    "plt.show()"
   ]
  },
  {
   "cell_type": "code",
   "execution_count": 39,
   "id": "0d50fdd4",
   "metadata": {},
   "outputs": [],
   "source": [
    "#sample.to_csv('./Data/Tiles_expanded_balanced.csv', index = False) "
   ]
  },
  {
   "cell_type": "markdown",
   "id": "9b5d8cf2",
   "metadata": {},
   "source": [
    "K-MEANS <br>\n",
    "https://towardsdatascience.com/image-clustering-using-k-means-4a78478d2b83"
   ]
  },
  {
   "cell_type": "code",
   "execution_count": null,
   "id": "4e2181a8",
   "metadata": {
    "tags": []
   },
   "outputs": [],
   "source": [
    "#from tensorflow.keras.applications.inception_v3 import InceptionV3\n",
    "#from tensorflow.keras.applications.inception_v3 import preprocess_input\n",
    "#from tensorflow.keras.preprocessing import image\n",
    "#from tensorflow.keras.preprocessing.image import img_to_array\n",
    "from sklearn.cluster import KMeans\n",
    "import pandas as pd\n",
    "import numpy as np\n",
    "#from tqdm import tqdm\n",
    "#import os\n",
    "#import shutil\n",
    "import imagecodecs\n",
    "import tifffile\n",
    "# Sample based on k-means clustering\n",
    "from sklearn.utils import resample"
   ]
  },
  {
   "cell_type": "code",
   "execution_count": 10,
   "id": "c2eb7462-59cb-4e3a-a0a1-a3d9d8942685",
   "metadata": {
    "tags": []
   },
   "outputs": [
    {
     "name": "stdout",
     "output_type": "stream",
     "text": [
      "(148, 188, 4)\n",
      "(148, 188)\n"
     ]
    }
   ],
   "source": [
    "  fname='./Satellite Imagery/Satellite Images Tiled/'\n",
    "img= tifffile.imread(fname + str(36) + '.tif')[0:148, 0:188, :]\n",
    "print(np.shape(img))\n",
    "img = np.average(img, axis = 2)\n",
    "print(np.shape(img))"
   ]
  },
  {
   "cell_type": "code",
   "execution_count": 11,
   "id": "3da7a31d",
   "metadata": {
    "tags": []
   },
   "outputs": [],
   "source": [
    "# Function to Extract features from the images\n",
    "def features():\n",
    "    #model = InceptionV3(weights='imagenet', include_top=False)\n",
    "    features = [];\n",
    "    img_name = [];\n",
    "    for id in tiles['Tile_ID']:\n",
    "        fname='./Satellite Imagery/Satellite Images Tiled/'\n",
    "        img= tifffile.imread(fname + str(id) + '.tif')[0:148, 0:188, :]\n",
    "        img = np.average(img, axis = 2)\n",
    "        #x=np.expand_dims(img,axis=0)\n",
    "        #x=preprocess_input(x)\n",
    "        #feat=model.predict(x, verbose = 0)\n",
    "        feat=img.flatten()\n",
    "        t = np.asarray(tiles[tiles['Tile_ID'] == id][['Collisions_Historical', 'Collisions_Future', 'Mid_lat','Mid_long', 'Stop_Signs', 'Paving_historical', 'Bus_stop']]).flatten()\n",
    "        feat = np.append(t, feat)\n",
    "        features.append(feat)\n",
    "        img_name.append(id)\n",
    "    return features,img_name"
   ]
  },
  {
   "cell_type": "code",
   "execution_count": 12,
   "id": "b67cbf1e",
   "metadata": {
    "tags": []
   },
   "outputs": [],
   "source": [
    "img_features,img_name=features()"
   ]
  },
  {
   "cell_type": "code",
   "execution_count": 13,
   "id": "88924357",
   "metadata": {
    "tags": []
   },
   "outputs": [],
   "source": [
    "import copy\n",
    "\n",
    "img_features2 = copy.deepcopy(img_features)"
   ]
  },
  {
   "cell_type": "code",
   "execution_count": 114,
   "id": "c9fe3828-f827-4fc9-9e84-c121f69b92e4",
   "metadata": {
    "tags": []
   },
   "outputs": [],
   "source": [
    "img_features3 = copy.deepcopy(img_features)"
   ]
  },
  {
   "cell_type": "code",
   "execution_count": 44,
   "id": "321819bd",
   "metadata": {
    "tags": []
   },
   "outputs": [],
   "source": [
    "#pd.DataFrame(img_features).to_csv('./Data/Features_concat_Kmeans.csv', index = False) "
   ]
  },
  {
   "cell_type": "code",
   "execution_count": 150,
   "id": "735a0574",
   "metadata": {
    "tags": []
   },
   "outputs": [],
   "source": [
    "# scale up the collisions future\n",
    "\n",
    "for i in range(len(img_features3)):\n",
    "    #print(img_features[i][0])\n",
    "    img_features3[i][1] = (img_features3[i][1])*10000"
   ]
  },
  {
   "cell_type": "code",
   "execution_count": 151,
   "id": "c79e55f7-fab5-4279-908f-ac926efec52b",
   "metadata": {
    "tags": []
   },
   "outputs": [
    {
     "data": {
      "text/plain": [
       "[array([  0.      ,   0.      ,  37.783702, ..., 124.25    , 123.75    ,\n",
       "        116.75    ]),\n",
       " array([  0.      ,   0.      ,  37.782798, ..., 142.25    , 142.75    ,\n",
       "        144.75    ]),\n",
       " array([ 0.      ,  0.      , 37.781895, ..., 34.25    , 30.25    ,\n",
       "        30.5     ]),\n",
       " array([  0.      ,   0.      ,  37.780991, ..., 159.25    , 171.75    ,\n",
       "        177.      ]),\n",
       " array([  0.      ,   0.      ,  37.780088, ..., 116.5     , 129.      ,\n",
       "        136.5     ]),\n",
       " array([5.0000000e+00, 5.0000000e+04, 3.7779184e+01, ..., 5.9000000e+01,\n",
       "        5.1250000e+01, 3.5500000e+01]),\n",
       " array([ 0.      ,  0.      , 37.777377, ..., 76.      , 70.5     ,\n",
       "        67.      ]),\n",
       " array([  2.      ,   0.      ,  37.776473, ..., 109.      , 105.5     ,\n",
       "        112.5     ]),\n",
       " array([  0.     ,   0.     ,  37.77557, ..., 150.75   , 151.     ,\n",
       "        151.25   ]),\n",
       " array([3.0000000e+00, 1.0000000e+04, 3.7774666e+01, ..., 1.5275000e+02,\n",
       "        1.5500000e+02, 1.5500000e+02]),\n",
       " array([  0.      ,   0.      ,  37.773762, ..., 165.75    , 166.25    ,\n",
       "        164.75    ]),\n",
       " array([  1.      ,   0.      ,  37.772859, ..., 148.      , 145.      ,\n",
       "        149.      ]),\n",
       " array([  0.      ,   0.      ,  37.771955, ..., 166.      , 158.25    ,\n",
       "        143.      ]),\n",
       " array([    0.      , 10000.      ,    37.771052, ...,   121.5     ,\n",
       "          140.75    ,   140.75    ]),\n",
       " array([  0.      ,   0.      ,  37.770148, ..., 150.75    , 149.75    ,\n",
       "        157.75    ]),\n",
       " array([ 0.      ,  0.      , 37.783702, ..., 69.25    , 56.25    ,\n",
       "        43.5     ]),\n",
       " array([  0.      ,   0.      ,  37.781895, ..., 106.25    , 100.5     ,\n",
       "         87.25    ]),\n",
       " array([  0.      ,   0.      ,  37.780991, ..., 149.      , 148.5     ,\n",
       "        146.75    ]),\n",
       " array([  0.      ,   0.      ,  37.780088, ..., 119.75    , 131.75    ,\n",
       "        148.75    ]),\n",
       " array([  0.      ,   0.      ,  37.779184, ..., 142.      , 140.75    ,\n",
       "        138.75    ]),\n",
       " array([  0.     ,   0.     ,  37.77557, ..., 140.75   , 140.75   ,\n",
       "        140.75   ]),\n",
       " array([ 0.      ,  0.      , 37.774666, ..., 98.5     , 65.75    ,\n",
       "        61.      ]),\n",
       " array([  0.      ,   0.      ,  37.773762, ..., 140.      , 139.5     ,\n",
       "        138.75    ]),\n",
       " array([  0.      ,   0.      ,  37.772859, ...,  66.75    ,  68.      ,\n",
       "        141.      ]),\n",
       " array([  0.      ,   0.      ,  37.771955, ..., 145.75    , 143.      ,\n",
       "        162.25    ])]"
      ]
     },
     "execution_count": 151,
     "metadata": {},
     "output_type": "execute_result"
    }
   ],
   "source": [
    "img_features3[5:30]"
   ]
  },
  {
   "cell_type": "code",
   "execution_count": 15,
   "id": "57521d62",
   "metadata": {
    "tags": []
   },
   "outputs": [
    {
     "data": {
      "text/plain": [
       "array([ 0.      ,  0.      , 37.779184, ..., 79.75    , 76.5     ,\n",
       "       71.75    ])"
      ]
     },
     "execution_count": 15,
     "metadata": {},
     "output_type": "execute_result"
    }
   ],
   "source": [
    "img_features[0]"
   ]
  },
  {
   "cell_type": "code",
   "execution_count": 47,
   "id": "98920d63",
   "metadata": {
    "tags": []
   },
   "outputs": [
    {
     "data": {
      "text/plain": [
       "10471"
      ]
     },
     "execution_count": 47,
     "metadata": {},
     "output_type": "execute_result"
    }
   ],
   "source": [
    "len(img_features)"
   ]
  },
  {
   "cell_type": "code",
   "execution_count": 118,
   "id": "70b5536f",
   "metadata": {
    "tags": []
   },
   "outputs": [
    {
     "data": {
      "text/plain": [
       "(27831,)"
      ]
     },
     "execution_count": 118,
     "metadata": {},
     "output_type": "execute_result"
    }
   ],
   "source": [
    "np.shape(img_features3[0])"
   ]
  },
  {
   "cell_type": "markdown",
   "id": "c5bc73cb",
   "metadata": {},
   "source": [
    "https://medium.com/the-data-science-publication/how-to-find-groups-within-data-using-the-k-means-algorithm-3c1d6feeacf9"
   ]
  },
  {
   "cell_type": "code",
   "execution_count": 158,
   "id": "886fd293",
   "metadata": {
    "tags": []
   },
   "outputs": [
    {
     "name": "stderr",
     "output_type": "stream",
     "text": [
      "/home/ubuntu/capstone/lib/python3.10/site-packages/sklearn/cluster/_kmeans.py:870: FutureWarning: The default value of `n_init` will change from 10 to 'auto' in 1.4. Set the value of `n_init` explicitly to suppress the warning\n",
      "  warnings.warn(\n"
     ]
    }
   ],
   "source": [
    "kmeans = KMeans(n_clusters=10)\n",
    "kmeans.fit(img_features3)\n",
    "y_kmeans = kmeans.labels_"
   ]
  },
  {
   "cell_type": "code",
   "execution_count": 86,
   "id": "beca362d",
   "metadata": {},
   "outputs": [
    {
     "data": {
      "text/plain": [
       "array([19,  0,  1,  5,  3,  8,  7,  9, 13, 10,  6, 14, 12,  2, 16, 15,  4,\n",
       "       17, 18, 11], dtype=int32)"
      ]
     },
     "execution_count": 86,
     "metadata": {},
     "output_type": "execute_result"
    }
   ],
   "source": [
    "pd.unique(y_kmeans)"
   ]
  },
  {
   "cell_type": "code",
   "execution_count": 160,
   "id": "ce923a61",
   "metadata": {},
   "outputs": [
    {
     "data": {
      "image/png": "[encoded data removed]",
      "text/plain": [
       "<Figure size 640x480 with 10 Axes>"
      ]
     },
     "metadata": {},
     "output_type": "display_data"
    }
   ],
   "source": [
    "figure, axis = plt.subplots(5,2)\n",
    "figure.tight_layout()\n",
    "c = 0\n",
    "for i in range(5):\n",
    "    for j in range(2):\n",
    "        axis[i,j].hist(tiles['Collisions_Future'][y_kmeans == c], bins=30)\n",
    "        #axis[i,j].set_title('Clu)\n",
    "        c += 1"
   ]
  },
  {
   "cell_type": "code",
   "execution_count": 161,
   "id": "e516aee4",
   "metadata": {},
   "outputs": [
    {
     "data": {
      "text/html": [
       "<div>\n",
       "<style scoped>\n",
       "    .dataframe tbody tr th:only-of-type {\n",
       "        vertical-align: middle;\n",
       "    }\n",
       "\n",
       "    .dataframe tbody tr th {\n",
       "        vertical-align: top;\n",
       "    }\n",
       "\n",
       "    .dataframe thead th {\n",
       "        text-align: right;\n",
       "    }\n",
       "</style>\n",
       "<table border=\"1\" class=\"dataframe\">\n",
       "  <thead>\n",
       "    <tr style=\"text-align: right;\">\n",
       "      <th></th>\n",
       "      <th>Tile_ID</th>\n",
       "      <th>Long2</th>\n",
       "      <th>Lat2</th>\n",
       "      <th>Long1</th>\n",
       "      <th>Lat1</th>\n",
       "      <th>Mid_lat</th>\n",
       "      <th>Mid_long</th>\n",
       "      <th>Stop_Signs</th>\n",
       "      <th>Paving_historical</th>\n",
       "      <th>Paving_future</th>\n",
       "      <th>Bus_stop</th>\n",
       "      <th>Collisions_Future</th>\n",
       "      <th>Collisions_Historical</th>\n",
       "      <th>Cluster</th>\n",
       "    </tr>\n",
       "  </thead>\n",
       "  <tbody>\n",
       "    <tr>\n",
       "      <th>0</th>\n",
       "      <td>36</td>\n",
       "      <td>-122.514446</td>\n",
       "      <td>37.779636</td>\n",
       "      <td>-122.513306</td>\n",
       "      <td>37.778732</td>\n",
       "      <td>37.779184</td>\n",
       "      <td>-122.513876</td>\n",
       "      <td>0.0</td>\n",
       "      <td>0.0</td>\n",
       "      <td>0.0</td>\n",
       "      <td>0.0</td>\n",
       "      <td>0.0</td>\n",
       "      <td>0.0</td>\n",
       "      <td>9</td>\n",
       "    </tr>\n",
       "    <tr>\n",
       "      <th>1</th>\n",
       "      <td>37</td>\n",
       "      <td>-122.514446</td>\n",
       "      <td>37.778732</td>\n",
       "      <td>-122.513306</td>\n",
       "      <td>37.777829</td>\n",
       "      <td>37.778280</td>\n",
       "      <td>-122.513876</td>\n",
       "      <td>0.0</td>\n",
       "      <td>0.0</td>\n",
       "      <td>0.0</td>\n",
       "      <td>0.0</td>\n",
       "      <td>0.0</td>\n",
       "      <td>0.0</td>\n",
       "      <td>9</td>\n",
       "    </tr>\n",
       "    <tr>\n",
       "      <th>2</th>\n",
       "      <td>151</td>\n",
       "      <td>-122.513306</td>\n",
       "      <td>37.779636</td>\n",
       "      <td>-122.512166</td>\n",
       "      <td>37.778732</td>\n",
       "      <td>37.779184</td>\n",
       "      <td>-122.512736</td>\n",
       "      <td>0.0</td>\n",
       "      <td>0.0</td>\n",
       "      <td>0.0</td>\n",
       "      <td>0.0</td>\n",
       "      <td>0.0</td>\n",
       "      <td>0.0</td>\n",
       "      <td>5</td>\n",
       "    </tr>\n",
       "    <tr>\n",
       "      <th>3</th>\n",
       "      <td>152</td>\n",
       "      <td>-122.513306</td>\n",
       "      <td>37.778732</td>\n",
       "      <td>-122.512166</td>\n",
       "      <td>37.777829</td>\n",
       "      <td>37.778280</td>\n",
       "      <td>-122.512736</td>\n",
       "      <td>0.0</td>\n",
       "      <td>0.0</td>\n",
       "      <td>0.0</td>\n",
       "      <td>0.0</td>\n",
       "      <td>0.0</td>\n",
       "      <td>0.0</td>\n",
       "      <td>0</td>\n",
       "    </tr>\n",
       "    <tr>\n",
       "      <th>4</th>\n",
       "      <td>153</td>\n",
       "      <td>-122.513306</td>\n",
       "      <td>37.777829</td>\n",
       "      <td>-122.512166</td>\n",
       "      <td>37.776925</td>\n",
       "      <td>37.777377</td>\n",
       "      <td>-122.512736</td>\n",
       "      <td>0.0</td>\n",
       "      <td>0.0</td>\n",
       "      <td>0.0</td>\n",
       "      <td>0.0</td>\n",
       "      <td>0.0</td>\n",
       "      <td>0.0</td>\n",
       "      <td>9</td>\n",
       "    </tr>\n",
       "  </tbody>\n",
       "</table>\n",
       "</div>"
      ],
      "text/plain": [
       "   Tile_ID       Long2       Lat2       Long1       Lat1    Mid_lat  \\\n",
       "0       36 -122.514446  37.779636 -122.513306  37.778732  37.779184   \n",
       "1       37 -122.514446  37.778732 -122.513306  37.777829  37.778280   \n",
       "2      151 -122.513306  37.779636 -122.512166  37.778732  37.779184   \n",
       "3      152 -122.513306  37.778732 -122.512166  37.777829  37.778280   \n",
       "4      153 -122.513306  37.777829 -122.512166  37.776925  37.777377   \n",
       "\n",
       "     Mid_long  Stop_Signs  Paving_historical  Paving_future  Bus_stop  \\\n",
       "0 -122.513876         0.0                0.0            0.0       0.0   \n",
       "1 -122.513876         0.0                0.0            0.0       0.0   \n",
       "2 -122.512736         0.0                0.0            0.0       0.0   \n",
       "3 -122.512736         0.0                0.0            0.0       0.0   \n",
       "4 -122.512736         0.0                0.0            0.0       0.0   \n",
       "\n",
       "   Collisions_Future  Collisions_Historical  Cluster  \n",
       "0                0.0                    0.0        9  \n",
       "1                0.0                    0.0        9  \n",
       "2                0.0                    0.0        5  \n",
       "3                0.0                    0.0        0  \n",
       "4                0.0                    0.0        9  "
      ]
     },
     "execution_count": 161,
     "metadata": {},
     "output_type": "execute_result"
    }
   ],
   "source": [
    "tiles['Cluster'] = y_kmeans\n",
    "tiles.head(5)"
   ]
  },
  {
   "cell_type": "code",
   "execution_count": 163,
   "id": "36fb04c2",
   "metadata": {},
   "outputs": [],
   "source": [
    "sample = pd.DataFrame()\n",
    "for c in range(10):\n",
    "    set = tiles[tiles['Cluster'] == c]\n",
    "    df = resample(set, replace=True, n_samples= 200)\n",
    "    sample = pd.concat([sample, df])"
   ]
  },
  {
   "cell_type": "code",
   "execution_count": 166,
   "id": "f78b73cd",
   "metadata": {},
   "outputs": [
    {
     "data": {
      "image/png": "[encoded data removed]",
      "text/plain": [
       "<Figure size 1000x700 with 1 Axes>"
      ]
     },
     "metadata": {},
     "output_type": "display_data"
    }
   ],
   "source": [
    "fig, ax = plt.subplots(figsize =(10, 7))\n",
    "labels = [0,1,2,3,4,5,6,7,8,9,10,11,12,13,14,15,16,17,18,19]\n",
    "ax.hist(sample['Collisions_Future'], bins = labels)\n",
    "ax.set_xticks(labels)\n",
    "plt.title('Histogram - Number of Future Collisions (Approach 2 Kmeans)')\n",
    " \n",
    "# Show plot\n",
    "plt.show()"
   ]
  },
  {
   "cell_type": "code",
   "execution_count": null,
   "id": "a1dc011e",
   "metadata": {
    "tags": []
   },
   "outputs": [],
   "source": [
    "sample.to_csv('.\\Data\\Tiles_expanded_balanced.csv', index = False) "
   ]
  }
 ],
 "metadata": {
  "kernelspec": {
   "display_name": "Python 3 (ipykernel)",
   "language": "python",
   "name": "python3"
  },
  "language_info": {
   "codemirror_mode": {
    "name": "ipython",
    "version": 3
   },
   "file_extension": ".py",
   "mimetype": "text/x-python",
   "name": "python",
   "nbconvert_exporter": "python",
   "pygments_lexer": "ipython3",
   "version": "3.10.6"
  }
 },
 "nbformat": 4,
 "nbformat_minor": 5
}
