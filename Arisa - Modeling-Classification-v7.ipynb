{
 "cells": [
  {
   "cell_type": "markdown",
   "id": "a0eabcba-5ca5-4fa8-bde3-8224131c3a6a",
   "metadata": {},
   "source": [
    "**Packages**"
   ]
  },
  {
   "cell_type": "code",
   "execution_count": 35,
   "id": "356025b8",
   "metadata": {
    "tags": []
   },
   "outputs": [],
   "source": [
    "import numpy as np\n",
    "import pandas as pd\n",
    "import math\n",
    "import seaborn as sn\n",
    "\n",
    "import matplotlib\n",
    "import matplotlib.pyplot as plt\n",
    "\n",
    "import tensorflow as tf\n",
    "from tensorflow import keras\n",
    "from tensorflow.keras import layers\n",
    "from tensorflow.keras.layers import concatenate\n",
    "import tensorflow_addons as tfa\n",
    "\n",
    "from keras.callbacks import ModelCheckpoint\n",
    "from keras.models import load_model\n",
    "\n",
    "import tifffile\n",
    "\n",
    "from sklearn.model_selection import train_test_split\n",
    "from sklearn.metrics import f1_score\n",
    "from sklearn.preprocessing import LabelBinarizer, normalize\n",
    "\n",
    "\n",
    "import os\n",
    "\n",
    "import scipy"
   ]
  },
  {
   "cell_type": "markdown",
   "id": "5b166dc2-360e-4118-9f65-0996bbc163a1",
   "metadata": {},
   "source": [
    "**Helper Functions**"
   ]
  },
  {
   "cell_type": "code",
   "execution_count": 9,
   "id": "51c1eeab-df74-4a28-8b0f-7d937d42028c",
   "metadata": {
    "tags": []
   },
   "outputs": [],
   "source": [
    "def plot_loss(history):\n",
    "    plt.plot(history.history['loss'], label='train_loss')\n",
    "    plt.plot(history.history['val_loss'], label='val_loss')\n",
    "   # plt.plot(history.history['accuracy'], label='accuracy')\n",
    "   # plt.plot(history.history['val_accuracy'], label='val_accuracy')\n",
    "    plt.ylim([0, \n",
    "            max(\n",
    "                max(history.history['loss']),\n",
    "                max(history.history['val_loss'])\n",
    "            )])\n",
    "    plt.xlabel('Epoch')\n",
    "    plt.ylabel('Loss')\n",
    "    plt.title('Loss')\n",
    "    plt.legend()\n",
    "    plt.grid(True)"
   ]
  },
  {
   "cell_type": "code",
   "execution_count": 10,
   "id": "6d27acab-1145-4120-9a1c-c7da15f505d7",
   "metadata": {
    "tags": []
   },
   "outputs": [],
   "source": [
    "def plot_accuracy(history):\n",
    "   # plt.plot(history.history['loss'], label='loss')\n",
    "   # plt.plot(history.history['val_loss'], label='val_loss')\n",
    "    plt.plot(history.history['accuracy'], label='train_accuracy')\n",
    "    plt.plot(history.history['val_accuracy'], label='val_accuracy')\n",
    "    plt.ylim([0, \n",
    "            max(\n",
    "                max(history.history['accuracy']),\n",
    "                max(history.history['val_accuracy'])\n",
    "            )])\n",
    "    plt.xlabel('Epoch')\n",
    "    plt.ylabel('Accuracy')\n",
    "    plt.title('Accuracy')\n",
    "    plt.legend()\n",
    "    plt.grid(True)"
   ]
  },
  {
   "cell_type": "code",
   "execution_count": 11,
   "id": "c28e4eda-dfba-490b-9fd5-8f6f6cf61454",
   "metadata": {
    "tags": []
   },
   "outputs": [],
   "source": [
    "def plot_f1_macro(history):\n",
    "    plt.plot(history.history['f1_macro'], label='train_f1')\n",
    "    plt.plot(history.history['val_f1_macro'], label='val_f1')\n",
    "    plt.ylim([0, \n",
    "            max(\n",
    "                max(history.history['f1_macro']),\n",
    "                max(history.history['val_f1_macro'])\n",
    "            )])\n",
    "    plt.xlabel('Epoch')\n",
    "    plt.ylabel('Macro F1 Score')\n",
    "    plt.title('Macro F1 Score')\n",
    "    plt.legend()\n",
    "    plt.grid(True)"
   ]
  },
  {
   "cell_type": "code",
   "execution_count": 12,
   "id": "78d60b67-24b2-4399-bbed-8bdfa6687f77",
   "metadata": {},
   "outputs": [],
   "source": [
    "def plot_f1_weighted(history):\n",
    "    plt.plot(history.history['f1_weighted'], label='train_f1')\n",
    "    plt.plot(history.history['val_f1_weighted'], label='val_f1')\n",
    "    plt.ylim([0, \n",
    "            max(\n",
    "                max(history.history['f1_weighted']),\n",
    "                max(history.history['val_f1_weighted'])\n",
    "            )])\n",
    "    plt.xlabel('Epoch')\n",
    "    plt.ylabel('Weighted F1 Score')\n",
    "    plt.title('Weighted F1 Score')\n",
    "    plt.legend()\n",
    "    plt.grid(True)"
   ]
  },
  {
   "cell_type": "code",
   "execution_count": 13,
   "id": "dd28b853",
   "metadata": {},
   "outputs": [],
   "source": [
    "# FROM https://github.com/jimmyyhwu/resnet18-tf2/blob/master/resnet.py\n",
    "\n",
    "kaiming_normal = keras.initializers.VarianceScaling(scale=2.0, mode='fan_out', distribution='untruncated_normal')\n",
    "\n",
    "def conv3x3(x, out_planes, stride=1, name=None):\n",
    "    x = layers.ZeroPadding2D(padding=1, name=f'{name}_pad')(x)\n",
    "    return layers.Conv2D(filters=out_planes, kernel_size=3, strides=stride, use_bias=False, kernel_initializer=kaiming_normal, name=name)(x)\n",
    "\n",
    "def basic_block(x, planes, stride=1, downsample=None, name=None):\n",
    "    identity = x\n",
    "\n",
    "    out = conv3x3(x, planes, stride=stride, name=f'{name}.conv1')\n",
    "    out = layers.BatchNormalization(momentum=0.9, epsilon=1e-5, name=f'{name}.bn1')(out)\n",
    "    out = layers.ReLU(name=f'{name}.relu1')(out)\n",
    "\n",
    "    out = conv3x3(out, planes, name=f'{name}.conv2')\n",
    "    out = layers.BatchNormalization(momentum=0.9, epsilon=1e-5, name=f'{name}.bn2')(out)\n",
    "\n",
    "    if downsample is not None:\n",
    "        for layer in downsample:\n",
    "            identity = layer(identity)\n",
    "\n",
    "    out = layers.Add(name=f'{name}.add')([identity, out])\n",
    "    out = layers.ReLU(name=f'{name}.relu2')(out)\n",
    "\n",
    "    return out\n",
    "\n",
    "def make_layer(x, planes, blocks, stride=1, name=None):\n",
    "    downsample = None\n",
    "    inplanes = x.shape[3]\n",
    "    if stride != 1 or inplanes != planes:\n",
    "        downsample = [\n",
    "            layers.Conv2D(filters=planes, kernel_size=1, strides=stride, use_bias=False, kernel_initializer=kaiming_normal, name=f'{name}.0.downsample.0'),\n",
    "            layers.BatchNormalization(momentum=0.9, epsilon=1e-5, name=f'{name}.0.downsample.1'),\n",
    "        ]\n",
    "\n",
    "    x = basic_block(x, planes, stride, downsample, name=f'{name}.0')\n",
    "    for i in range(1, blocks):\n",
    "        x = basic_block(x, planes, name=f'{name}.{i}')\n",
    "\n",
    "    return x\n",
    "\n",
    "def resnet(x, blocks_per_layer, num_classes=1000):\n",
    "    x = layers.ZeroPadding2D(padding=3, name='conv1_pad')(x)\n",
    "    x = layers.Conv2D(filters=64, kernel_size=7, strides=2, use_bias=False, kernel_initializer=kaiming_normal, name='conv1')(x)\n",
    "    x = layers.BatchNormalization(momentum=0.9, epsilon=1e-5, name='bn1')(x)\n",
    "    x = layers.ReLU(name='relu1')(x)\n",
    "    x = layers.ZeroPadding2D(padding=1, name='maxpool_pad')(x)\n",
    "    x = layers.MaxPool2D(pool_size=3, strides=2, name='maxpool')(x)\n",
    "\n",
    "    x1 = make_layer(x, 64, blocks_per_layer[0], name='layer1')\n",
    "    x2 = make_layer(x1, 128, blocks_per_layer[1], stride=2, name='layer2')\n",
    "    x3 = make_layer(x2, 256, blocks_per_layer[2], stride=2, name='layer3')\n",
    "    x4 = make_layer(x3, 512, blocks_per_layer[3], stride=2, name='layer4')\n",
    "\n",
    "    x = layers.GlobalAveragePooling2D(name='avgpool')(x4)\n",
    "    initializer = keras.initializers.RandomUniform(-1.0 / math.sqrt(512), 1.0 / math.sqrt(512))\n",
    "    x = layers.Dense(units=num_classes, kernel_initializer=initializer, bias_initializer=initializer, name='fc')(x)\n",
    "\n",
    "    return x\n",
    "\n",
    "def resnet18(x, **kwargs):\n",
    "    return resnet(x, [2, 2, 2, 2], **kwargs)\n",
    "\n",
    "def resnet34(x, **kwargs):\n",
    "    return resnet(x, [3, 4, 6, 3], **kwargs)"
   ]
  },
  {
   "cell_type": "markdown",
   "id": "131a5b49-a808-4d41-ad4b-ae9469b994ea",
   "metadata": {},
   "source": [
    "**Data Pre-Processing**"
   ]
  },
  {
   "cell_type": "markdown",
   "id": "c3a6b82c",
   "metadata": {},
   "source": [
    "Pulling in Train and Test Sets"
   ]
  },
  {
   "cell_type": "code",
   "execution_count": 14,
   "id": "0d50fdd4",
   "metadata": {
    "tags": []
   },
   "outputs": [],
   "source": [
    "tiles_train = pd.read_csv(r'./Data/Tiles_TRAIN.csv')\n",
    "#x_train = tiles_train.drop(['bins_numeric'], axis = 1)\n",
    "#y_train = tiles_train['bins_numeric']\n",
    "#x_train.head(5)"
   ]
  },
  {
   "cell_type": "code",
   "execution_count": 15,
   "id": "6453b058-407b-4097-a463-b18eb8ebb124",
   "metadata": {},
   "outputs": [
    {
     "data": {
      "text/html": [
       "<div>\n",
       "<style scoped>\n",
       "    .dataframe tbody tr th:only-of-type {\n",
       "        vertical-align: middle;\n",
       "    }\n",
       "\n",
       "    .dataframe tbody tr th {\n",
       "        vertical-align: top;\n",
       "    }\n",
       "\n",
       "    .dataframe thead th {\n",
       "        text-align: right;\n",
       "    }\n",
       "</style>\n",
       "<table border=\"1\" class=\"dataframe\">\n",
       "  <thead>\n",
       "    <tr style=\"text-align: right;\">\n",
       "      <th></th>\n",
       "      <th>Tile_ID</th>\n",
       "      <th>Stop_Signs</th>\n",
       "      <th>Paving_historical</th>\n",
       "      <th>Bus_stop</th>\n",
       "      <th>Collisions_Historical</th>\n",
       "      <th>RTTYP_I</th>\n",
       "      <th>RTTYP_M</th>\n",
       "      <th>RTTYP_O</th>\n",
       "      <th>RTTYP_S</th>\n",
       "      <th>RTTYP_U</th>\n",
       "      <th>...</th>\n",
       "      <th>94129</th>\n",
       "      <th>94130</th>\n",
       "      <th>94131</th>\n",
       "      <th>94132</th>\n",
       "      <th>94133</th>\n",
       "      <th>94134</th>\n",
       "      <th>94141</th>\n",
       "      <th>94143</th>\n",
       "      <th>94158</th>\n",
       "      <th>94188</th>\n",
       "    </tr>\n",
       "  </thead>\n",
       "  <tbody>\n",
       "    <tr>\n",
       "      <th>1762</th>\n",
       "      <td>1526</td>\n",
       "      <td>0.0</td>\n",
       "      <td>0.0</td>\n",
       "      <td>0.0</td>\n",
       "      <td>0.0</td>\n",
       "      <td>0</td>\n",
       "      <td>1</td>\n",
       "      <td>0</td>\n",
       "      <td>0</td>\n",
       "      <td>0</td>\n",
       "      <td>...</td>\n",
       "      <td>0</td>\n",
       "      <td>0</td>\n",
       "      <td>0</td>\n",
       "      <td>0</td>\n",
       "      <td>0</td>\n",
       "      <td>0</td>\n",
       "      <td>0</td>\n",
       "      <td>0</td>\n",
       "      <td>0</td>\n",
       "      <td>0</td>\n",
       "    </tr>\n",
       "    <tr>\n",
       "      <th>4603</th>\n",
       "      <td>11426</td>\n",
       "      <td>0.0</td>\n",
       "      <td>7.0</td>\n",
       "      <td>0.0</td>\n",
       "      <td>8.0</td>\n",
       "      <td>0</td>\n",
       "      <td>1</td>\n",
       "      <td>0</td>\n",
       "      <td>0</td>\n",
       "      <td>0</td>\n",
       "      <td>...</td>\n",
       "      <td>0</td>\n",
       "      <td>0</td>\n",
       "      <td>0</td>\n",
       "      <td>0</td>\n",
       "      <td>0</td>\n",
       "      <td>0</td>\n",
       "      <td>0</td>\n",
       "      <td>0</td>\n",
       "      <td>0</td>\n",
       "      <td>0</td>\n",
       "    </tr>\n",
       "    <tr>\n",
       "      <th>6484</th>\n",
       "      <td>13993</td>\n",
       "      <td>0.0</td>\n",
       "      <td>0.0</td>\n",
       "      <td>0.0</td>\n",
       "      <td>0.0</td>\n",
       "      <td>0</td>\n",
       "      <td>1</td>\n",
       "      <td>0</td>\n",
       "      <td>0</td>\n",
       "      <td>0</td>\n",
       "      <td>...</td>\n",
       "      <td>0</td>\n",
       "      <td>0</td>\n",
       "      <td>0</td>\n",
       "      <td>0</td>\n",
       "      <td>0</td>\n",
       "      <td>0</td>\n",
       "      <td>0</td>\n",
       "      <td>0</td>\n",
       "      <td>0</td>\n",
       "      <td>1</td>\n",
       "    </tr>\n",
       "    <tr>\n",
       "      <th>6950</th>\n",
       "      <td>3201</td>\n",
       "      <td>0.0</td>\n",
       "      <td>0.0</td>\n",
       "      <td>0.0</td>\n",
       "      <td>0.0</td>\n",
       "      <td>0</td>\n",
       "      <td>1</td>\n",
       "      <td>0</td>\n",
       "      <td>0</td>\n",
       "      <td>0</td>\n",
       "      <td>...</td>\n",
       "      <td>0</td>\n",
       "      <td>0</td>\n",
       "      <td>0</td>\n",
       "      <td>1</td>\n",
       "      <td>0</td>\n",
       "      <td>0</td>\n",
       "      <td>0</td>\n",
       "      <td>0</td>\n",
       "      <td>0</td>\n",
       "      <td>0</td>\n",
       "    </tr>\n",
       "    <tr>\n",
       "      <th>4254</th>\n",
       "      <td>13779</td>\n",
       "      <td>0.0</td>\n",
       "      <td>0.0</td>\n",
       "      <td>0.0</td>\n",
       "      <td>0.0</td>\n",
       "      <td>0</td>\n",
       "      <td>1</td>\n",
       "      <td>0</td>\n",
       "      <td>0</td>\n",
       "      <td>0</td>\n",
       "      <td>...</td>\n",
       "      <td>0</td>\n",
       "      <td>0</td>\n",
       "      <td>0</td>\n",
       "      <td>0</td>\n",
       "      <td>0</td>\n",
       "      <td>0</td>\n",
       "      <td>0</td>\n",
       "      <td>0</td>\n",
       "      <td>0</td>\n",
       "      <td>0</td>\n",
       "    </tr>\n",
       "  </tbody>\n",
       "</table>\n",
       "<p>5 rows × 40 columns</p>\n",
       "</div>"
      ],
      "text/plain": [
       "      Tile_ID  Stop_Signs  Paving_historical  Bus_stop  Collisions_Historical  \\\n",
       "1762     1526         0.0                0.0       0.0                    0.0   \n",
       "4603    11426         0.0                7.0       0.0                    8.0   \n",
       "6484    13993         0.0                0.0       0.0                    0.0   \n",
       "6950     3201         0.0                0.0       0.0                    0.0   \n",
       "4254    13779         0.0                0.0       0.0                    0.0   \n",
       "\n",
       "      RTTYP_I  RTTYP_M  RTTYP_O  RTTYP_S  RTTYP_U  ...  94129  94130  94131  \\\n",
       "1762        0        1        0        0        0  ...      0      0      0   \n",
       "4603        0        1        0        0        0  ...      0      0      0   \n",
       "6484        0        1        0        0        0  ...      0      0      0   \n",
       "6950        0        1        0        0        0  ...      0      0      0   \n",
       "4254        0        1        0        0        0  ...      0      0      0   \n",
       "\n",
       "      94132  94133  94134  94141  94143  94158  94188  \n",
       "1762      0      0      0      0      0      0      0  \n",
       "4603      0      0      0      0      0      0      0  \n",
       "6484      0      0      0      0      0      0      1  \n",
       "6950      1      0      0      0      0      0      0  \n",
       "4254      0      0      0      0      0      0      0  \n",
       "\n",
       "[5 rows x 40 columns]"
      ]
     },
     "execution_count": 15,
     "metadata": {},
     "output_type": "execute_result"
    }
   ],
   "source": [
    "x_train, x_val, y_train, y_val = train_test_split(tiles_train.drop(['bins_numeric'], axis = 1), tiles_train['bins_numeric'],\n",
    "                                   random_state=104, \n",
    "                                   test_size=0.20, \n",
    "                                   shuffle=True)\n",
    "x_train.head(5)"
   ]
  },
  {
   "cell_type": "code",
   "execution_count": 16,
   "id": "5971c10e-9c78-4cd5-bf77-a213f4e70ead",
   "metadata": {
    "tags": []
   },
   "outputs": [
    {
     "data": {
      "text/html": [
       "<div>\n",
       "<style scoped>\n",
       "    .dataframe tbody tr th:only-of-type {\n",
       "        vertical-align: middle;\n",
       "    }\n",
       "\n",
       "    .dataframe tbody tr th {\n",
       "        vertical-align: top;\n",
       "    }\n",
       "\n",
       "    .dataframe thead th {\n",
       "        text-align: right;\n",
       "    }\n",
       "</style>\n",
       "<table border=\"1\" class=\"dataframe\">\n",
       "  <thead>\n",
       "    <tr style=\"text-align: right;\">\n",
       "      <th></th>\n",
       "      <th>Tile_ID</th>\n",
       "      <th>Stop_Signs</th>\n",
       "      <th>Paving_historical</th>\n",
       "      <th>Bus_stop</th>\n",
       "      <th>Collisions_Historical</th>\n",
       "      <th>RTTYP_I</th>\n",
       "      <th>RTTYP_M</th>\n",
       "      <th>RTTYP_O</th>\n",
       "      <th>RTTYP_S</th>\n",
       "      <th>RTTYP_U</th>\n",
       "      <th>...</th>\n",
       "      <th>94129</th>\n",
       "      <th>94130</th>\n",
       "      <th>94131</th>\n",
       "      <th>94132</th>\n",
       "      <th>94133</th>\n",
       "      <th>94134</th>\n",
       "      <th>94141</th>\n",
       "      <th>94143</th>\n",
       "      <th>94158</th>\n",
       "      <th>94188</th>\n",
       "    </tr>\n",
       "  </thead>\n",
       "  <tbody>\n",
       "    <tr>\n",
       "      <th>2732</th>\n",
       "      <td>2948</td>\n",
       "      <td>0.0</td>\n",
       "      <td>0.0</td>\n",
       "      <td>0.0</td>\n",
       "      <td>0.0</td>\n",
       "      <td>0</td>\n",
       "      <td>1</td>\n",
       "      <td>0</td>\n",
       "      <td>0</td>\n",
       "      <td>0</td>\n",
       "      <td>...</td>\n",
       "      <td>0</td>\n",
       "      <td>0</td>\n",
       "      <td>0</td>\n",
       "      <td>0</td>\n",
       "      <td>0</td>\n",
       "      <td>0</td>\n",
       "      <td>0</td>\n",
       "      <td>0</td>\n",
       "      <td>0</td>\n",
       "      <td>0</td>\n",
       "    </tr>\n",
       "    <tr>\n",
       "      <th>630</th>\n",
       "      <td>2945</td>\n",
       "      <td>4.0</td>\n",
       "      <td>0.0</td>\n",
       "      <td>2.0</td>\n",
       "      <td>1.0</td>\n",
       "      <td>0</td>\n",
       "      <td>1</td>\n",
       "      <td>0</td>\n",
       "      <td>0</td>\n",
       "      <td>0</td>\n",
       "      <td>...</td>\n",
       "      <td>0</td>\n",
       "      <td>0</td>\n",
       "      <td>0</td>\n",
       "      <td>0</td>\n",
       "      <td>0</td>\n",
       "      <td>0</td>\n",
       "      <td>0</td>\n",
       "      <td>0</td>\n",
       "      <td>0</td>\n",
       "      <td>0</td>\n",
       "    </tr>\n",
       "    <tr>\n",
       "      <th>2887</th>\n",
       "      <td>7123</td>\n",
       "      <td>1.0</td>\n",
       "      <td>0.0</td>\n",
       "      <td>0.0</td>\n",
       "      <td>0.0</td>\n",
       "      <td>0</td>\n",
       "      <td>1</td>\n",
       "      <td>0</td>\n",
       "      <td>0</td>\n",
       "      <td>0</td>\n",
       "      <td>...</td>\n",
       "      <td>0</td>\n",
       "      <td>0</td>\n",
       "      <td>0</td>\n",
       "      <td>0</td>\n",
       "      <td>0</td>\n",
       "      <td>0</td>\n",
       "      <td>0</td>\n",
       "      <td>0</td>\n",
       "      <td>0</td>\n",
       "      <td>0</td>\n",
       "    </tr>\n",
       "    <tr>\n",
       "      <th>752</th>\n",
       "      <td>12171</td>\n",
       "      <td>0.0</td>\n",
       "      <td>0.0</td>\n",
       "      <td>2.0</td>\n",
       "      <td>1.0</td>\n",
       "      <td>0</td>\n",
       "      <td>1</td>\n",
       "      <td>0</td>\n",
       "      <td>0</td>\n",
       "      <td>0</td>\n",
       "      <td>...</td>\n",
       "      <td>0</td>\n",
       "      <td>0</td>\n",
       "      <td>0</td>\n",
       "      <td>0</td>\n",
       "      <td>0</td>\n",
       "      <td>0</td>\n",
       "      <td>0</td>\n",
       "      <td>0</td>\n",
       "      <td>0</td>\n",
       "      <td>0</td>\n",
       "    </tr>\n",
       "    <tr>\n",
       "      <th>8106</th>\n",
       "      <td>1096</td>\n",
       "      <td>2.0</td>\n",
       "      <td>0.0</td>\n",
       "      <td>0.0</td>\n",
       "      <td>0.0</td>\n",
       "      <td>0</td>\n",
       "      <td>1</td>\n",
       "      <td>0</td>\n",
       "      <td>0</td>\n",
       "      <td>0</td>\n",
       "      <td>...</td>\n",
       "      <td>0</td>\n",
       "      <td>0</td>\n",
       "      <td>0</td>\n",
       "      <td>0</td>\n",
       "      <td>0</td>\n",
       "      <td>0</td>\n",
       "      <td>0</td>\n",
       "      <td>0</td>\n",
       "      <td>0</td>\n",
       "      <td>0</td>\n",
       "    </tr>\n",
       "  </tbody>\n",
       "</table>\n",
       "<p>5 rows × 40 columns</p>\n",
       "</div>"
      ],
      "text/plain": [
       "      Tile_ID  Stop_Signs  Paving_historical  Bus_stop  Collisions_Historical  \\\n",
       "2732     2948         0.0                0.0       0.0                    0.0   \n",
       "630      2945         4.0                0.0       2.0                    1.0   \n",
       "2887     7123         1.0                0.0       0.0                    0.0   \n",
       "752     12171         0.0                0.0       2.0                    1.0   \n",
       "8106     1096         2.0                0.0       0.0                    0.0   \n",
       "\n",
       "      RTTYP_I  RTTYP_M  RTTYP_O  RTTYP_S  RTTYP_U  ...  94129  94130  94131  \\\n",
       "2732        0        1        0        0        0  ...      0      0      0   \n",
       "630         0        1        0        0        0  ...      0      0      0   \n",
       "2887        0        1        0        0        0  ...      0      0      0   \n",
       "752         0        1        0        0        0  ...      0      0      0   \n",
       "8106        0        1        0        0        0  ...      0      0      0   \n",
       "\n",
       "      94132  94133  94134  94141  94143  94158  94188  \n",
       "2732      0      0      0      0      0      0      0  \n",
       "630       0      0      0      0      0      0      0  \n",
       "2887      0      0      0      0      0      0      0  \n",
       "752       0      0      0      0      0      0      0  \n",
       "8106      0      0      0      0      0      0      0  \n",
       "\n",
       "[5 rows x 40 columns]"
      ]
     },
     "execution_count": 16,
     "metadata": {},
     "output_type": "execute_result"
    }
   ],
   "source": [
    "x_val.head(5)"
   ]
  },
  {
   "cell_type": "code",
   "execution_count": 17,
   "id": "d18a322c-14fa-44a5-89ec-8b6ae7411008",
   "metadata": {},
   "outputs": [
    {
     "data": {
      "text/html": [
       "<div>\n",
       "<style scoped>\n",
       "    .dataframe tbody tr th:only-of-type {\n",
       "        vertical-align: middle;\n",
       "    }\n",
       "\n",
       "    .dataframe tbody tr th {\n",
       "        vertical-align: top;\n",
       "    }\n",
       "\n",
       "    .dataframe thead th {\n",
       "        text-align: right;\n",
       "    }\n",
       "</style>\n",
       "<table border=\"1\" class=\"dataframe\">\n",
       "  <thead>\n",
       "    <tr style=\"text-align: right;\">\n",
       "      <th></th>\n",
       "      <th>Stop_Signs</th>\n",
       "      <th>Paving_historical</th>\n",
       "      <th>Bus_stop</th>\n",
       "      <th>Collisions_Historical</th>\n",
       "      <th>RTTYP_I</th>\n",
       "      <th>RTTYP_M</th>\n",
       "      <th>RTTYP_O</th>\n",
       "      <th>RTTYP_S</th>\n",
       "      <th>RTTYP_U</th>\n",
       "      <th>94101</th>\n",
       "      <th>...</th>\n",
       "      <th>94129</th>\n",
       "      <th>94130</th>\n",
       "      <th>94131</th>\n",
       "      <th>94132</th>\n",
       "      <th>94133</th>\n",
       "      <th>94134</th>\n",
       "      <th>94141</th>\n",
       "      <th>94143</th>\n",
       "      <th>94158</th>\n",
       "      <th>94188</th>\n",
       "    </tr>\n",
       "  </thead>\n",
       "  <tbody>\n",
       "    <tr>\n",
       "      <th>0</th>\n",
       "      <td>0.0</td>\n",
       "      <td>0.0</td>\n",
       "      <td>0.0</td>\n",
       "      <td>0.0</td>\n",
       "      <td>0</td>\n",
       "      <td>1</td>\n",
       "      <td>0</td>\n",
       "      <td>0</td>\n",
       "      <td>0</td>\n",
       "      <td>0</td>\n",
       "      <td>...</td>\n",
       "      <td>0</td>\n",
       "      <td>0</td>\n",
       "      <td>0</td>\n",
       "      <td>1</td>\n",
       "      <td>0</td>\n",
       "      <td>0</td>\n",
       "      <td>0</td>\n",
       "      <td>0</td>\n",
       "      <td>0</td>\n",
       "      <td>0</td>\n",
       "    </tr>\n",
       "    <tr>\n",
       "      <th>1</th>\n",
       "      <td>1.0</td>\n",
       "      <td>0.0</td>\n",
       "      <td>3.0</td>\n",
       "      <td>6.0</td>\n",
       "      <td>0</td>\n",
       "      <td>1</td>\n",
       "      <td>0</td>\n",
       "      <td>0</td>\n",
       "      <td>0</td>\n",
       "      <td>0</td>\n",
       "      <td>...</td>\n",
       "      <td>0</td>\n",
       "      <td>0</td>\n",
       "      <td>0</td>\n",
       "      <td>0</td>\n",
       "      <td>0</td>\n",
       "      <td>0</td>\n",
       "      <td>0</td>\n",
       "      <td>0</td>\n",
       "      <td>0</td>\n",
       "      <td>0</td>\n",
       "    </tr>\n",
       "    <tr>\n",
       "      <th>2</th>\n",
       "      <td>0.0</td>\n",
       "      <td>0.0</td>\n",
       "      <td>0.0</td>\n",
       "      <td>0.0</td>\n",
       "      <td>0</td>\n",
       "      <td>1</td>\n",
       "      <td>0</td>\n",
       "      <td>0</td>\n",
       "      <td>0</td>\n",
       "      <td>0</td>\n",
       "      <td>...</td>\n",
       "      <td>0</td>\n",
       "      <td>0</td>\n",
       "      <td>0</td>\n",
       "      <td>0</td>\n",
       "      <td>0</td>\n",
       "      <td>0</td>\n",
       "      <td>0</td>\n",
       "      <td>0</td>\n",
       "      <td>0</td>\n",
       "      <td>0</td>\n",
       "    </tr>\n",
       "    <tr>\n",
       "      <th>3</th>\n",
       "      <td>0.0</td>\n",
       "      <td>0.0</td>\n",
       "      <td>0.0</td>\n",
       "      <td>0.0</td>\n",
       "      <td>0</td>\n",
       "      <td>1</td>\n",
       "      <td>0</td>\n",
       "      <td>0</td>\n",
       "      <td>0</td>\n",
       "      <td>0</td>\n",
       "      <td>...</td>\n",
       "      <td>0</td>\n",
       "      <td>1</td>\n",
       "      <td>0</td>\n",
       "      <td>0</td>\n",
       "      <td>0</td>\n",
       "      <td>0</td>\n",
       "      <td>0</td>\n",
       "      <td>0</td>\n",
       "      <td>0</td>\n",
       "      <td>0</td>\n",
       "    </tr>\n",
       "    <tr>\n",
       "      <th>4</th>\n",
       "      <td>0.0</td>\n",
       "      <td>0.0</td>\n",
       "      <td>0.0</td>\n",
       "      <td>0.0</td>\n",
       "      <td>0</td>\n",
       "      <td>1</td>\n",
       "      <td>0</td>\n",
       "      <td>0</td>\n",
       "      <td>0</td>\n",
       "      <td>0</td>\n",
       "      <td>...</td>\n",
       "      <td>0</td>\n",
       "      <td>0</td>\n",
       "      <td>0</td>\n",
       "      <td>0</td>\n",
       "      <td>0</td>\n",
       "      <td>1</td>\n",
       "      <td>0</td>\n",
       "      <td>0</td>\n",
       "      <td>0</td>\n",
       "      <td>0</td>\n",
       "    </tr>\n",
       "  </tbody>\n",
       "</table>\n",
       "<p>5 rows × 39 columns</p>\n",
       "</div>"
      ],
      "text/plain": [
       "   Stop_Signs  Paving_historical  Bus_stop  Collisions_Historical  RTTYP_I  \\\n",
       "0         0.0                0.0       0.0                    0.0        0   \n",
       "1         1.0                0.0       3.0                    6.0        0   \n",
       "2         0.0                0.0       0.0                    0.0        0   \n",
       "3         0.0                0.0       0.0                    0.0        0   \n",
       "4         0.0                0.0       0.0                    0.0        0   \n",
       "\n",
       "   RTTYP_M  RTTYP_O  RTTYP_S  RTTYP_U  94101  ...  94129  94130  94131  94132  \\\n",
       "0        1        0        0        0      0  ...      0      0      0      1   \n",
       "1        1        0        0        0      0  ...      0      0      0      0   \n",
       "2        1        0        0        0      0  ...      0      0      0      0   \n",
       "3        1        0        0        0      0  ...      0      1      0      0   \n",
       "4        1        0        0        0      0  ...      0      0      0      0   \n",
       "\n",
       "   94133  94134  94141  94143  94158  94188  \n",
       "0      0      0      0      0      0      0  \n",
       "1      0      0      0      0      0      0  \n",
       "2      0      0      0      0      0      0  \n",
       "3      0      0      0      0      0      0  \n",
       "4      0      1      0      0      0      0  \n",
       "\n",
       "[5 rows x 39 columns]"
      ]
     },
     "execution_count": 17,
     "metadata": {},
     "output_type": "execute_result"
    }
   ],
   "source": [
    "tiles_test = pd.read_csv(r'./Data/Tiles_TEST.csv')\n",
    "x_test = tiles_test.drop(['Tile_ID','bins_numeric'], axis = 1)\n",
    "y_test = tiles_test['bins_numeric']\n",
    "x_test.head(5)"
   ]
  },
  {
   "cell_type": "markdown",
   "id": "bf220283",
   "metadata": {},
   "source": [
    "Image Pre-Processing"
   ]
  },
  {
   "cell_type": "code",
   "execution_count": 18,
   "id": "9298e629",
   "metadata": {},
   "outputs": [],
   "source": [
    "# TRAIN SET \n",
    "\n",
    "IMAGE_PATH = './Satellite Imagery/Satellite Images Tiled/' \n",
    "\n",
    "def preprocess_data_part1(IMAGE_PATH):\n",
    "    \"\"\" Generate lists of images and labelsbased on temp_no_refer and temp_refer lists\n",
    "    \n",
    "    Params:\n",
    "    -------\n",
    "    IMAGE_PATH (str): path to directory with images.\n",
    "    \n",
    "    Returns:\n",
    "    --------\n",
    "    images_mini  (np.ndarray): Images of shape (N, 149 3)\n",
    "    \"\"\"\n",
    "    \n",
    "    data_mini = []\n",
    "    \n",
    "    for id in x_train['Tile_ID']:    \n",
    "                    \n",
    "        # read image and store as matrix            \n",
    "        # Index at the end makes all images the same size (they sometimes differ by 1 pixel)\n",
    "        image = tifffile.imread(IMAGE_PATH + str(id) + '.tif')[0:148, 0:188, :]/255\n",
    "            \n",
    "        # append to images\n",
    "        data_mini.append(image)\n",
    " \n",
    "    # stack images and trasnform to array\n",
    "    images_mini = np.stack(data_mini)\n",
    "    \n",
    "    return images_mini"
   ]
  },
  {
   "cell_type": "code",
   "execution_count": 19,
   "id": "4d8f77ae",
   "metadata": {},
   "outputs": [
    {
     "data": {
      "text/plain": [
       "(6700, 148, 188, 4)"
      ]
     },
     "execution_count": 19,
     "metadata": {},
     "output_type": "execute_result"
    }
   ],
   "source": [
    "images_mini = preprocess_data_part1(IMAGE_PATH)\n",
    "np.shape(images_mini)"
   ]
  },
  {
   "cell_type": "code",
   "execution_count": 20,
   "id": "51e4bbbe-914b-47dd-9e82-93722404f70b",
   "metadata": {},
   "outputs": [],
   "source": [
    "x_train = x_train.drop(['Tile_ID'], axis = 1)"
   ]
  },
  {
   "cell_type": "code",
   "execution_count": 21,
   "id": "84e1f01e-fc42-4bb8-9d18-e40fe8d215c6",
   "metadata": {
    "tags": []
   },
   "outputs": [],
   "source": [
    "# VAL SET \n",
    "\n",
    "IMAGE_PATH = './Satellite Imagery/Satellite Images Tiled/' \n",
    "\n",
    "def preprocess_data_part15(IMAGE_PATH):\n",
    "    \"\"\" Generate lists of images and labelsbased on temp_no_refer and temp_refer lists\n",
    "    \n",
    "    Params:\n",
    "    -------\n",
    "    IMAGE_PATH (str): path to directory with images.\n",
    "    \n",
    "    Returns:\n",
    "    --------\n",
    "    images_mini  (np.ndarray): Images of shape (N, 149 3)\n",
    "    \"\"\"\n",
    "    \n",
    "    data_mini = []\n",
    "    \n",
    "    for id in x_val['Tile_ID']:    \n",
    "                    \n",
    "        # read image and store as matrix            \n",
    "        # Index at the end makes all images the same size (they sometimes differ by 1 pixel)\n",
    "        image = tifffile.imread(IMAGE_PATH + str(id) + '.tif')[0:148, 0:188, :]/255\n",
    "            \n",
    "        # append to images\n",
    "        data_mini.append(image)\n",
    " \n",
    "    # stack images and trasnform to array\n",
    "    images_mini = np.stack(data_mini)\n",
    "#     images_mini = normalize(images_mini.reshape(6700,-1))\n",
    "    \n",
    "    return images_mini"
   ]
  },
  {
   "cell_type": "code",
   "execution_count": 22,
   "id": "1fcfd6d0-bf6d-48b1-a404-00afbc2b9633",
   "metadata": {},
   "outputs": [
    {
     "data": {
      "text/plain": [
       "(1676, 148, 188, 4)"
      ]
     },
     "execution_count": 22,
     "metadata": {},
     "output_type": "execute_result"
    }
   ],
   "source": [
    "images_mini_v = preprocess_data_part15(IMAGE_PATH)\n",
    "np.shape(images_mini_v)"
   ]
  },
  {
   "cell_type": "code",
   "execution_count": 23,
   "id": "96c499c7-9ec4-4f6c-8e9c-482de86f536b",
   "metadata": {},
   "outputs": [],
   "source": [
    "x_val = x_val.drop(['Tile_ID'], axis = 1)"
   ]
  },
  {
   "cell_type": "code",
   "execution_count": 24,
   "id": "23790420-0c98-426f-8580-23f7d96e9040",
   "metadata": {},
   "outputs": [],
   "source": [
    "# TEST SET\n",
    "\n",
    "IMAGE_PATH = './Satellite Imagery/Satellite Images Tiled/' \n",
    "\n",
    "def preprocess_data_part2(IMAGE_PATH):\n",
    "    \"\"\" Generate lists of images and labelsbased on temp_no_refer and temp_refer lists\n",
    "    \n",
    "    Params:\n",
    "    -------\n",
    "    IMAGE_PATH (str): path to directory with images.\n",
    "    \n",
    "    Returns:\n",
    "    --------\n",
    "    images_mini  (np.ndarray): Images of shape (N, 149 3)\n",
    "    \"\"\"\n",
    "    \n",
    "    data_mini = []\n",
    "    \n",
    "    for id in tiles_test['Tile_ID']:    \n",
    "                    \n",
    "        # read image and store as matrix            \n",
    "        # Index at the end makes all images the same size (they sometimes differ by 1 pixel)\n",
    "        image = tifffile.imread(IMAGE_PATH + str(id) + '.tif')[0:148, 0:188, :]/255\n",
    "            \n",
    "        # append to images\n",
    "        data_mini.append(image)\n",
    " \n",
    "    # stack images and trasnform to array\n",
    "    images_mini = np.stack(data_mini)\n",
    "    \n",
    "    return images_mini"
   ]
  },
  {
   "cell_type": "code",
   "execution_count": 25,
   "id": "cc8e3f65-2368-4092-9b09-ecda4e0a35d6",
   "metadata": {},
   "outputs": [
    {
     "data": {
      "text/plain": [
       "(2095, 148, 188, 4)"
      ]
     },
     "execution_count": 25,
     "metadata": {},
     "output_type": "execute_result"
    }
   ],
   "source": [
    "images_mini_t = preprocess_data_part2(IMAGE_PATH)\n",
    "np.shape(images_mini_t)"
   ]
  },
  {
   "cell_type": "markdown",
   "id": "57135842",
   "metadata": {},
   "source": [
    "Street Data Pre-Processing"
   ]
  },
  {
   "cell_type": "code",
   "execution_count": 26,
   "id": "8dce0686",
   "metadata": {
    "tags": []
   },
   "outputs": [
    {
     "data": {
      "text/plain": [
       "(6700, 1, 1, 39)"
      ]
     },
     "execution_count": 26,
     "metadata": {},
     "output_type": "execute_result"
    }
   ],
   "source": [
    "# TRAIN SET \n",
    "\n",
    "street = np.asarray(x_train).astype('float32')\n",
    "street_mini = []\n",
    "for row in range(len(street)):\n",
    "    street_mini.append([[street[row]]])\n",
    "street_mini = np.stack(street_mini)\n",
    "np.shape(street_mini)"
   ]
  },
  {
   "cell_type": "code",
   "execution_count": 27,
   "id": "c923520c-ed3c-4165-abd9-7b3cc932b35c",
   "metadata": {},
   "outputs": [
    {
     "data": {
      "text/plain": [
       "(1676, 1, 1, 39)"
      ]
     },
     "execution_count": 27,
     "metadata": {},
     "output_type": "execute_result"
    }
   ],
   "source": [
    "# VAL SET \n",
    "\n",
    "street_v = np.asarray(x_val).astype('float32')\n",
    "street_mini_v = []\n",
    "for row in range(len(street_v)):\n",
    "    street_mini_v.append([[street_v[row]]])\n",
    "street_mini_v = np.stack(street_mini_v)\n",
    "np.shape(street_mini_v)"
   ]
  },
  {
   "cell_type": "code",
   "execution_count": 28,
   "id": "c28b0428-174b-4e10-b151-1354cf44bf79",
   "metadata": {
    "tags": []
   },
   "outputs": [
    {
     "data": {
      "text/plain": [
       "(2095, 1, 1, 39)"
      ]
     },
     "execution_count": 28,
     "metadata": {},
     "output_type": "execute_result"
    }
   ],
   "source": [
    "# TEST SET \n",
    "\n",
    "street_t = np.asarray(x_test).astype('float32')\n",
    "street_mini_t = []\n",
    "for row in range(len(street_t)):\n",
    "    street_mini_t.append([[street_t[row]]])\n",
    "street_mini_t = np.stack(street_mini_t)\n",
    "np.shape(street_mini_t)"
   ]
  },
  {
   "cell_type": "markdown",
   "id": "c1ec0dbb-2532-4c3a-b053-1f6f687be79c",
   "metadata": {
    "tags": []
   },
   "source": [
    "**Modeling**"
   ]
  },
  {
   "cell_type": "markdown",
   "id": "bc8f8956",
   "metadata": {},
   "source": [
    "Helpful Links: <br>\n",
    "https://pyimagesearch.com/2019/02/04/keras-multiple-inputs-and-mixed-data/ <br>\n",
    "https://www.tensorflow.org/api_docs/python/tf/keras/applications/resnet50/ResNet50 <br>\n",
    "https://github.com/jimmyyhwu/resnet18-tf2/blob/master/resnet.py <BR>"
   ]
  },
  {
   "cell_type": "markdown",
   "id": "020edd3a-0c97-45f9-875d-3df38db9251f",
   "metadata": {},
   "source": [
    "**Model 2.7.0: Resnet = 1000 classes, checkpoint added, 40 epochs, LR scheduler added**"
   ]
  },
  {
   "cell_type": "code",
   "execution_count": 29,
   "id": "af93dd1e-4394-4ba2-ac1c-593d00d2bff2",
   "metadata": {
    "tags": []
   },
   "outputs": [
    {
     "name": "stdout",
     "output_type": "stream",
     "text": [
      "      ones\n",
      "bins      \n",
      "0     5297\n",
      "1      108\n",
      "2      968\n",
      "3      230\n",
      "4       22\n",
      "5        4\n",
      "6       53\n",
      "7       11\n",
      "8        3\n",
      "9        1\n",
      "10       3\n"
     ]
    }
   ],
   "source": [
    "check = pd.DataFrame({'bins': y_train, 'ones': np.ones(len(y_train))}, columns=['bins', 'ones'])\n",
    "pivot = check.pivot_table(index=['bins'], values=['ones'], aggfunc=len)\n",
    "print(pivot)"
   ]
  },
  {
   "cell_type": "code",
   "execution_count": 30,
   "id": "42e82273-164e-45f2-86f3-5c7de058c9f6",
   "metadata": {
    "tags": []
   },
   "outputs": [
    {
     "data": {
      "text/plain": [
       "{0: 0.11498790052688486,\n",
       " 1: 5.63973063973064,\n",
       " 2: 0.6292261457550714,\n",
       " 3: 2.6482213438735176,\n",
       " 4: 27.68595041322314,\n",
       " 5: 152.27272727272728,\n",
       " 6: 11.492281303602057,\n",
       " 7: 55.37190082644628,\n",
       " 8: 203.03030303030303,\n",
       " 9: 609.0909090909091,\n",
       " 10: 203.03030303030303}"
      ]
     },
     "execution_count": 30,
     "metadata": {},
     "output_type": "execute_result"
    }
   ],
   "source": [
    "from sklearn.utils import class_weight \n",
    "class_weights = class_weight.compute_class_weight('balanced',classes = np.unique(y_train),y = y_train)\n",
    "class_weights = dict(enumerate(class_weights))\n",
    "class_weights"
   ]
  },
  {
   "cell_type": "code",
   "execution_count": 39,
   "id": "af91c34f-cb4c-47c3-bb19-4540b41de68a",
   "metadata": {
    "tags": []
   },
   "outputs": [
    {
     "name": "stdout",
     "output_type": "stream",
     "text": [
      "Model: \"model_9\"\n",
      "__________________________________________________________________________________________________\n",
      " Layer (type)                   Output Shape         Param #     Connected to                     \n",
      "==================================================================================================\n",
      " Input_Images (InputLayer)      [(None, 148, 188, 4  0           []                               \n",
      "                                )]                                                                \n",
      "                                                                                                  \n",
      " conv2d_4 (Conv2D)              (None, 147, 187, 39  663         ['Input_Images[0][0]']           \n",
      "                                )                                                                 \n",
      "                                                                                                  \n",
      " max_pooling2d_4 (MaxPooling2D)  (None, 95, 95, 39)  0           ['conv2d_4[0][0]']               \n",
      "                                                                                                  \n",
      " Input_Street (InputLayer)      [(None, 1, 1, 39)]   0           []                               \n",
      "                                                                                                  \n",
      " add_4 (Add)                    (None, 95, 95, 39)   0           ['max_pooling2d_4[0][0]',        \n",
      "                                                                  'Input_Street[0][0]']           \n",
      "                                                                                                  \n",
      " conv1_pad (ZeroPadding2D)      (None, 101, 101, 39  0           ['add_4[0][0]']                  \n",
      "                                )                                                                 \n",
      "                                                                                                  \n",
      " conv1 (Conv2D)                 (None, 48, 48, 64)   122304      ['conv1_pad[0][0]']              \n",
      "                                                                                                  \n",
      " bn1 (BatchNormalization)       (None, 48, 48, 64)   256         ['conv1[0][0]']                  \n",
      "                                                                                                  \n",
      " relu1 (ReLU)                   (None, 48, 48, 64)   0           ['bn1[0][0]']                    \n",
      "                                                                                                  \n",
      " maxpool_pad (ZeroPadding2D)    (None, 50, 50, 64)   0           ['relu1[0][0]']                  \n",
      "                                                                                                  \n",
      " maxpool (MaxPooling2D)         (None, 24, 24, 64)   0           ['maxpool_pad[0][0]']            \n",
      "                                                                                                  \n",
      " layer1.0.conv1_pad (ZeroPaddin  (None, 26, 26, 64)  0           ['maxpool[0][0]']                \n",
      " g2D)                                                                                             \n",
      "                                                                                                  \n",
      " layer1.0.conv1 (Conv2D)        (None, 24, 24, 64)   36864       ['layer1.0.conv1_pad[0][0]']     \n",
      "                                                                                                  \n",
      " layer1.0.bn1 (BatchNormalizati  (None, 24, 24, 64)  256         ['layer1.0.conv1[0][0]']         \n",
      " on)                                                                                              \n",
      "                                                                                                  \n",
      " layer1.0.relu1 (ReLU)          (None, 24, 24, 64)   0           ['layer1.0.bn1[0][0]']           \n",
      "                                                                                                  \n",
      " layer1.0.conv2_pad (ZeroPaddin  (None, 26, 26, 64)  0           ['layer1.0.relu1[0][0]']         \n",
      " g2D)                                                                                             \n",
      "                                                                                                  \n",
      " layer1.0.conv2 (Conv2D)        (None, 24, 24, 64)   36864       ['layer1.0.conv2_pad[0][0]']     \n",
      "                                                                                                  \n",
      " layer1.0.bn2 (BatchNormalizati  (None, 24, 24, 64)  256         ['layer1.0.conv2[0][0]']         \n",
      " on)                                                                                              \n",
      "                                                                                                  \n",
      " layer1.0.add (Add)             (None, 24, 24, 64)   0           ['maxpool[0][0]',                \n",
      "                                                                  'layer1.0.bn2[0][0]']           \n",
      "                                                                                                  \n",
      " layer1.0.relu2 (ReLU)          (None, 24, 24, 64)   0           ['layer1.0.add[0][0]']           \n",
      "                                                                                                  \n",
      " layer1.1.conv1_pad (ZeroPaddin  (None, 26, 26, 64)  0           ['layer1.0.relu2[0][0]']         \n",
      " g2D)                                                                                             \n",
      "                                                                                                  \n",
      " layer1.1.conv1 (Conv2D)        (None, 24, 24, 64)   36864       ['layer1.1.conv1_pad[0][0]']     \n",
      "                                                                                                  \n",
      " layer1.1.bn1 (BatchNormalizati  (None, 24, 24, 64)  256         ['layer1.1.conv1[0][0]']         \n",
      " on)                                                                                              \n",
      "                                                                                                  \n",
      " layer1.1.relu1 (ReLU)          (None, 24, 24, 64)   0           ['layer1.1.bn1[0][0]']           \n",
      "                                                                                                  \n",
      " layer1.1.conv2_pad (ZeroPaddin  (None, 26, 26, 64)  0           ['layer1.1.relu1[0][0]']         \n",
      " g2D)                                                                                             \n",
      "                                                                                                  \n",
      " layer1.1.conv2 (Conv2D)        (None, 24, 24, 64)   36864       ['layer1.1.conv2_pad[0][0]']     \n",
      "                                                                                                  \n",
      " layer1.1.bn2 (BatchNormalizati  (None, 24, 24, 64)  256         ['layer1.1.conv2[0][0]']         \n",
      " on)                                                                                              \n",
      "                                                                                                  \n",
      " layer1.1.add (Add)             (None, 24, 24, 64)   0           ['layer1.0.relu2[0][0]',         \n",
      "                                                                  'layer1.1.bn2[0][0]']           \n",
      "                                                                                                  \n",
      " layer1.1.relu2 (ReLU)          (None, 24, 24, 64)   0           ['layer1.1.add[0][0]']           \n",
      "                                                                                                  \n",
      " layer2.0.conv1_pad (ZeroPaddin  (None, 26, 26, 64)  0           ['layer1.1.relu2[0][0]']         \n",
      " g2D)                                                                                             \n",
      "                                                                                                  \n",
      " layer2.0.conv1 (Conv2D)        (None, 12, 12, 128)  73728       ['layer2.0.conv1_pad[0][0]']     \n",
      "                                                                                                  \n",
      " layer2.0.bn1 (BatchNormalizati  (None, 12, 12, 128)  512        ['layer2.0.conv1[0][0]']         \n",
      " on)                                                                                              \n",
      "                                                                                                  \n",
      " layer2.0.relu1 (ReLU)          (None, 12, 12, 128)  0           ['layer2.0.bn1[0][0]']           \n",
      "                                                                                                  \n",
      " layer2.0.conv2_pad (ZeroPaddin  (None, 14, 14, 128)  0          ['layer2.0.relu1[0][0]']         \n",
      " g2D)                                                                                             \n",
      "                                                                                                  \n",
      " layer2.0.downsample.0 (Conv2D)  (None, 12, 12, 128)  8192       ['layer1.1.relu2[0][0]']         \n",
      "                                                                                                  \n",
      " layer2.0.conv2 (Conv2D)        (None, 12, 12, 128)  147456      ['layer2.0.conv2_pad[0][0]']     \n",
      "                                                                                                  \n",
      " layer2.0.downsample.1 (BatchNo  (None, 12, 12, 128)  512        ['layer2.0.downsample.0[0][0]']  \n",
      " rmalization)                                                                                     \n",
      "                                                                                                  \n",
      " layer2.0.bn2 (BatchNormalizati  (None, 12, 12, 128)  512        ['layer2.0.conv2[0][0]']         \n",
      " on)                                                                                              \n",
      "                                                                                                  \n",
      " layer2.0.add (Add)             (None, 12, 12, 128)  0           ['layer2.0.downsample.1[0][0]',  \n",
      "                                                                  'layer2.0.bn2[0][0]']           \n",
      "                                                                                                  \n",
      " layer2.0.relu2 (ReLU)          (None, 12, 12, 128)  0           ['layer2.0.add[0][0]']           \n",
      "                                                                                                  \n",
      " layer2.1.conv1_pad (ZeroPaddin  (None, 14, 14, 128)  0          ['layer2.0.relu2[0][0]']         \n",
      " g2D)                                                                                             \n",
      "                                                                                                  \n",
      " layer2.1.conv1 (Conv2D)        (None, 12, 12, 128)  147456      ['layer2.1.conv1_pad[0][0]']     \n",
      "                                                                                                  \n",
      " layer2.1.bn1 (BatchNormalizati  (None, 12, 12, 128)  512        ['layer2.1.conv1[0][0]']         \n",
      " on)                                                                                              \n",
      "                                                                                                  \n",
      " layer2.1.relu1 (ReLU)          (None, 12, 12, 128)  0           ['layer2.1.bn1[0][0]']           \n",
      "                                                                                                  \n",
      " layer2.1.conv2_pad (ZeroPaddin  (None, 14, 14, 128)  0          ['layer2.1.relu1[0][0]']         \n",
      " g2D)                                                                                             \n",
      "                                                                                                  \n",
      " layer2.1.conv2 (Conv2D)        (None, 12, 12, 128)  147456      ['layer2.1.conv2_pad[0][0]']     \n",
      "                                                                                                  \n",
      " layer2.1.bn2 (BatchNormalizati  (None, 12, 12, 128)  512        ['layer2.1.conv2[0][0]']         \n",
      " on)                                                                                              \n",
      "                                                                                                  \n",
      " layer2.1.add (Add)             (None, 12, 12, 128)  0           ['layer2.0.relu2[0][0]',         \n",
      "                                                                  'layer2.1.bn2[0][0]']           \n",
      "                                                                                                  \n",
      " layer2.1.relu2 (ReLU)          (None, 12, 12, 128)  0           ['layer2.1.add[0][0]']           \n",
      "                                                                                                  \n",
      " layer3.0.conv1_pad (ZeroPaddin  (None, 14, 14, 128)  0          ['layer2.1.relu2[0][0]']         \n",
      " g2D)                                                                                             \n",
      "                                                                                                  \n",
      " layer3.0.conv1 (Conv2D)        (None, 6, 6, 256)    294912      ['layer3.0.conv1_pad[0][0]']     \n",
      "                                                                                                  \n",
      " layer3.0.bn1 (BatchNormalizati  (None, 6, 6, 256)   1024        ['layer3.0.conv1[0][0]']         \n",
      " on)                                                                                              \n",
      "                                                                                                  \n",
      " layer3.0.relu1 (ReLU)          (None, 6, 6, 256)    0           ['layer3.0.bn1[0][0]']           \n",
      "                                                                                                  \n",
      " layer3.0.conv2_pad (ZeroPaddin  (None, 8, 8, 256)   0           ['layer3.0.relu1[0][0]']         \n",
      " g2D)                                                                                             \n",
      "                                                                                                  \n",
      " layer3.0.downsample.0 (Conv2D)  (None, 6, 6, 256)   32768       ['layer2.1.relu2[0][0]']         \n",
      "                                                                                                  \n",
      " layer3.0.conv2 (Conv2D)        (None, 6, 6, 256)    589824      ['layer3.0.conv2_pad[0][0]']     \n",
      "                                                                                                  \n",
      " layer3.0.downsample.1 (BatchNo  (None, 6, 6, 256)   1024        ['layer3.0.downsample.0[0][0]']  \n",
      " rmalization)                                                                                     \n",
      "                                                                                                  \n",
      " layer3.0.bn2 (BatchNormalizati  (None, 6, 6, 256)   1024        ['layer3.0.conv2[0][0]']         \n",
      " on)                                                                                              \n",
      "                                                                                                  \n",
      " layer3.0.add (Add)             (None, 6, 6, 256)    0           ['layer3.0.downsample.1[0][0]',  \n",
      "                                                                  'layer3.0.bn2[0][0]']           \n",
      "                                                                                                  \n",
      " layer3.0.relu2 (ReLU)          (None, 6, 6, 256)    0           ['layer3.0.add[0][0]']           \n",
      "                                                                                                  \n",
      " layer3.1.conv1_pad (ZeroPaddin  (None, 8, 8, 256)   0           ['layer3.0.relu2[0][0]']         \n",
      " g2D)                                                                                             \n",
      "                                                                                                  \n",
      " layer3.1.conv1 (Conv2D)        (None, 6, 6, 256)    589824      ['layer3.1.conv1_pad[0][0]']     \n",
      "                                                                                                  \n",
      " layer3.1.bn1 (BatchNormalizati  (None, 6, 6, 256)   1024        ['layer3.1.conv1[0][0]']         \n",
      " on)                                                                                              \n",
      "                                                                                                  \n",
      " layer3.1.relu1 (ReLU)          (None, 6, 6, 256)    0           ['layer3.1.bn1[0][0]']           \n",
      "                                                                                                  \n",
      " layer3.1.conv2_pad (ZeroPaddin  (None, 8, 8, 256)   0           ['layer3.1.relu1[0][0]']         \n",
      " g2D)                                                                                             \n",
      "                                                                                                  \n",
      " layer3.1.conv2 (Conv2D)        (None, 6, 6, 256)    589824      ['layer3.1.conv2_pad[0][0]']     \n",
      "                                                                                                  \n",
      " layer3.1.bn2 (BatchNormalizati  (None, 6, 6, 256)   1024        ['layer3.1.conv2[0][0]']         \n",
      " on)                                                                                              \n",
      "                                                                                                  \n",
      " layer3.1.add (Add)             (None, 6, 6, 256)    0           ['layer3.0.relu2[0][0]',         \n",
      "                                                                  'layer3.1.bn2[0][0]']           \n",
      "                                                                                                  \n",
      " layer3.1.relu2 (ReLU)          (None, 6, 6, 256)    0           ['layer3.1.add[0][0]']           \n",
      "                                                                                                  \n",
      " layer4.0.conv1_pad (ZeroPaddin  (None, 8, 8, 256)   0           ['layer3.1.relu2[0][0]']         \n",
      " g2D)                                                                                             \n",
      "                                                                                                  \n",
      " layer4.0.conv1 (Conv2D)        (None, 3, 3, 512)    1179648     ['layer4.0.conv1_pad[0][0]']     \n",
      "                                                                                                  \n",
      " layer4.0.bn1 (BatchNormalizati  (None, 3, 3, 512)   2048        ['layer4.0.conv1[0][0]']         \n",
      " on)                                                                                              \n",
      "                                                                                                  \n",
      " layer4.0.relu1 (ReLU)          (None, 3, 3, 512)    0           ['layer4.0.bn1[0][0]']           \n",
      "                                                                                                  \n",
      " layer4.0.conv2_pad (ZeroPaddin  (None, 5, 5, 512)   0           ['layer4.0.relu1[0][0]']         \n",
      " g2D)                                                                                             \n",
      "                                                                                                  \n",
      " layer4.0.downsample.0 (Conv2D)  (None, 3, 3, 512)   131072      ['layer3.1.relu2[0][0]']         \n",
      "                                                                                                  \n",
      " layer4.0.conv2 (Conv2D)        (None, 3, 3, 512)    2359296     ['layer4.0.conv2_pad[0][0]']     \n",
      "                                                                                                  \n",
      " layer4.0.downsample.1 (BatchNo  (None, 3, 3, 512)   2048        ['layer4.0.downsample.0[0][0]']  \n",
      " rmalization)                                                                                     \n",
      "                                                                                                  \n",
      " layer4.0.bn2 (BatchNormalizati  (None, 3, 3, 512)   2048        ['layer4.0.conv2[0][0]']         \n",
      " on)                                                                                              \n",
      "                                                                                                  \n",
      " layer4.0.add (Add)             (None, 3, 3, 512)    0           ['layer4.0.downsample.1[0][0]',  \n",
      "                                                                  'layer4.0.bn2[0][0]']           \n",
      "                                                                                                  \n",
      " layer4.0.relu2 (ReLU)          (None, 3, 3, 512)    0           ['layer4.0.add[0][0]']           \n",
      "                                                                                                  \n",
      " layer4.1.conv1_pad (ZeroPaddin  (None, 5, 5, 512)   0           ['layer4.0.relu2[0][0]']         \n",
      " g2D)                                                                                             \n",
      "                                                                                                  \n",
      " layer4.1.conv1 (Conv2D)        (None, 3, 3, 512)    2359296     ['layer4.1.conv1_pad[0][0]']     \n",
      "                                                                                                  \n",
      " layer4.1.bn1 (BatchNormalizati  (None, 3, 3, 512)   2048        ['layer4.1.conv1[0][0]']         \n",
      " on)                                                                                              \n",
      "                                                                                                  \n",
      " layer4.1.relu1 (ReLU)          (None, 3, 3, 512)    0           ['layer4.1.bn1[0][0]']           \n",
      "                                                                                                  \n",
      " layer4.1.conv2_pad (ZeroPaddin  (None, 5, 5, 512)   0           ['layer4.1.relu1[0][0]']         \n",
      " g2D)                                                                                             \n",
      "                                                                                                  \n",
      " layer4.1.conv2 (Conv2D)        (None, 3, 3, 512)    2359296     ['layer4.1.conv2_pad[0][0]']     \n",
      "                                                                                                  \n",
      " layer4.1.bn2 (BatchNormalizati  (None, 3, 3, 512)   2048        ['layer4.1.conv2[0][0]']         \n",
      " on)                                                                                              \n",
      "                                                                                                  \n",
      " layer4.1.add (Add)             (None, 3, 3, 512)    0           ['layer4.0.relu2[0][0]',         \n",
      "                                                                  'layer4.1.bn2[0][0]']           \n",
      "                                                                                                  \n",
      " layer4.1.relu2 (ReLU)          (None, 3, 3, 512)    0           ['layer4.1.add[0][0]']           \n",
      "                                                                                                  \n",
      " avgpool (GlobalAveragePooling2  (None, 512)         0           ['layer4.1.relu2[0][0]']         \n",
      " D)                                                                                               \n",
      "                                                                                                  \n",
      " fc (Dense)                     (None, 1000)         513000      ['avgpool[0][0]']                \n",
      "                                                                                                  \n",
      " output (Dense)                 (None, 11)           11011       ['fc[0][0]']                     \n",
      "                                                                                                  \n",
      "==================================================================================================\n",
      "Total params: 11,823,682\n",
      "Trainable params: 11,814,082\n",
      "Non-trainable params: 9,600\n",
      "__________________________________________________________________________________________________\n",
      "Epoch 1/40\n"
     ]
    },
    {
     "name": "stderr",
     "output_type": "stream",
     "text": [
      "2023-04-01 08:00:56.805708: W tensorflow/tsl/framework/cpu_allocator_impl.cc:83] Allocation of 2982732800 exceeds 10% of free system memory.\n"
     ]
    },
    {
     "name": "stdout",
     "output_type": "stream",
     "text": [
      "210/210 [==============================] - ETA: 0s - loss: 4.0966 - accuracy: 0.5221 - precision_4: 0.5170 - f1_macro: 0.1142 - f1_weighted: 0.6193 \n",
      "Epoch 1: val_f1_weighted improved from -inf to 0.72465, saving model to model.7\n"
     ]
    },
    {
     "name": "stderr",
     "output_type": "stream",
     "text": [
      "WARNING:absl:Function `_wrapped_model` contains input name(s) Input_Images, Input_Street with unsupported characters which will be renamed to input_images, input_street in the SavedModel.\n",
      "WARNING:absl:Found untraced functions such as _jit_compiled_convolution_op, _jit_compiled_convolution_op, _jit_compiled_convolution_op, _jit_compiled_convolution_op, _jit_compiled_convolution_op while saving (showing 5 of 22). These functions will not be directly callable after loading.\n"
     ]
    },
    {
     "name": "stdout",
     "output_type": "stream",
     "text": [
      "INFO:tensorflow:Assets written to: model.7/assets\n"
     ]
    },
    {
     "name": "stderr",
     "output_type": "stream",
     "text": [
      "INFO:tensorflow:Assets written to: model.7/assets\n"
     ]
    },
    {
     "name": "stdout",
     "output_type": "stream",
     "text": [
      "210/210 [==============================] - 7545s 36s/step - loss: 4.0966 - accuracy: 0.5221 - precision_4: 0.5170 - f1_macro: 0.1142 - f1_weighted: 0.6193 - val_loss: 1.3702 - val_accuracy: 0.6754 - val_precision_4: 0.7006 - val_f1_macro: 0.1145 - val_f1_weighted: 0.7247 - lr: 1.0000e-04\n",
      "Epoch 2/40\n",
      "210/210 [==============================] - ETA: 0s - loss: 2.4574 - accuracy: 0.6200 - precision_4: 0.8749 - f1_macro: 0.1263 - f1_weighted: 0.6851 \n",
      "Epoch 2: val_f1_weighted did not improve from 0.72465\n",
      "210/210 [==============================] - 7514s 36s/step - loss: 2.4574 - accuracy: 0.6200 - precision_4: 0.8749 - f1_macro: 0.1263 - f1_weighted: 0.6851 - val_loss: 0.9529 - val_accuracy: 0.6748 - val_precision_4: 0.8170 - val_f1_macro: 0.1121 - val_f1_weighted: 0.7244 - lr: 1.0000e-04\n",
      "Epoch 3/40\n",
      "210/210 [==============================] - ETA: 0s - loss: 2.2251 - accuracy: 0.6199 - precision_4: 0.8820 - f1_macro: 0.1281 - f1_weighted: 0.6835 \n",
      "Epoch 3: val_f1_weighted improved from 0.72465 to 0.72710, saving model to model.7\n"
     ]
    },
    {
     "name": "stderr",
     "output_type": "stream",
     "text": [
      "WARNING:absl:Function `_wrapped_model` contains input name(s) Input_Images, Input_Street with unsupported characters which will be renamed to input_images, input_street in the SavedModel.\n",
      "WARNING:absl:Found untraced functions such as _jit_compiled_convolution_op, _jit_compiled_convolution_op, _jit_compiled_convolution_op, _jit_compiled_convolution_op, _jit_compiled_convolution_op while saving (showing 5 of 22). These functions will not be directly callable after loading.\n"
     ]
    },
    {
     "name": "stdout",
     "output_type": "stream",
     "text": [
      "INFO:tensorflow:Assets written to: model.7/assets\n"
     ]
    },
    {
     "name": "stderr",
     "output_type": "stream",
     "text": [
      "INFO:tensorflow:Assets written to: model.7/assets\n"
     ]
    },
    {
     "name": "stdout",
     "output_type": "stream",
     "text": [
      "210/210 [==============================] - 7492s 36s/step - loss: 2.2251 - accuracy: 0.6199 - precision_4: 0.8820 - f1_macro: 0.1281 - f1_weighted: 0.6835 - val_loss: 0.9626 - val_accuracy: 0.6784 - val_precision_4: 0.9321 - val_f1_macro: 0.1248 - val_f1_weighted: 0.7271 - lr: 1.0000e-04\n",
      "Epoch 4/40\n",
      "210/210 [==============================] - ETA: 0s - loss: 2.0603 - accuracy: 0.6210 - precision_4: 0.8817 - f1_macro: 0.1475 - f1_weighted: 0.6832 \n",
      "Epoch 4: val_f1_weighted did not improve from 0.72710\n",
      "210/210 [==============================] - 7489s 36s/step - loss: 2.0603 - accuracy: 0.6210 - precision_4: 0.8817 - f1_macro: 0.1475 - f1_weighted: 0.6832 - val_loss: 0.9417 - val_accuracy: 0.6587 - val_precision_4: 0.8255 - val_f1_macro: 0.1394 - val_f1_weighted: 0.7116 - lr: 1.0000e-04\n",
      "Epoch 5/40\n",
      "210/210 [==============================] - ETA: 0s - loss: 2.0943 - accuracy: 0.6240 - precision_4: 0.8538 - f1_macro: 0.1332 - f1_weighted: 0.6849 \n",
      "Epoch 5: val_f1_weighted did not improve from 0.72710\n",
      "210/210 [==============================] - 7532s 36s/step - loss: 2.0943 - accuracy: 0.6240 - precision_4: 0.8538 - f1_macro: 0.1332 - f1_weighted: 0.6849 - val_loss: 0.9161 - val_accuracy: 0.6557 - val_precision_4: 0.7860 - val_f1_macro: 0.1834 - val_f1_weighted: 0.7112 - lr: 1.0000e-04\n",
      "Epoch 6/40\n",
      "210/210 [==============================] - ETA: 0s - loss: 2.3054 - accuracy: 0.6115 - precision_4: 0.8264 - f1_macro: 0.1443 - f1_weighted: 0.6759 \n",
      "Epoch 6: val_f1_weighted did not improve from 0.72710\n",
      "210/210 [==============================] - 7524s 36s/step - loss: 2.3054 - accuracy: 0.6115 - precision_4: 0.8264 - f1_macro: 0.1443 - f1_weighted: 0.6759 - val_loss: 1.1920 - val_accuracy: 0.6056 - val_precision_4: 0.7592 - val_f1_macro: 0.1267 - val_f1_weighted: 0.6733 - lr: 1.0000e-04\n",
      "Epoch 7/40\n",
      "210/210 [==============================] - ETA: 0s - loss: 2.5802 - accuracy: 0.5970 - precision_4: 0.7938 - f1_macro: 0.1259 - f1_weighted: 0.6665 \n",
      "Epoch 7: val_f1_weighted did not improve from 0.72710\n",
      "210/210 [==============================] - 7525s 36s/step - loss: 2.5802 - accuracy: 0.5970 - precision_4: 0.7938 - f1_macro: 0.1259 - f1_weighted: 0.6665 - val_loss: 0.9797 - val_accuracy: 0.6498 - val_precision_4: 0.9226 - val_f1_macro: 0.1267 - val_f1_weighted: 0.7076 - lr: 1.0000e-04\n",
      "Epoch 8/40\n",
      "210/210 [==============================] - ETA: 0s - loss: 2.0453 - accuracy: 0.6242 - precision_4: 0.8690 - f1_macro: 0.1444 - f1_weighted: 0.6836 \n",
      "Epoch 8: val_f1_weighted did not improve from 0.72710\n",
      "210/210 [==============================] - 7517s 36s/step - loss: 2.0453 - accuracy: 0.6242 - precision_4: 0.8690 - f1_macro: 0.1444 - f1_weighted: 0.6836 - val_loss: 0.9787 - val_accuracy: 0.6158 - val_precision_4: 0.8004 - val_f1_macro: 0.1094 - val_f1_weighted: 0.6787 - lr: 9.0484e-05\n",
      "Epoch 9/40\n",
      "210/210 [==============================] - ETA: 0s - loss: 1.9511 - accuracy: 0.6194 - precision_4: 0.8462 - f1_macro: 0.1532 - f1_weighted: 0.6799 \n",
      "Epoch 9: val_f1_weighted did not improve from 0.72710\n",
      "210/210 [==============================] - 7510s 36s/step - loss: 1.9511 - accuracy: 0.6194 - precision_4: 0.8462 - f1_macro: 0.1532 - f1_weighted: 0.6799 - val_loss: 1.1010 - val_accuracy: 0.6116 - val_precision_4: 0.7891 - val_f1_macro: 0.1261 - val_f1_weighted: 0.6837 - lr: 8.1873e-05\n",
      "Epoch 10/40\n",
      "210/210 [==============================] - ETA: 0s - loss: 2.0824 - accuracy: 0.6004 - precision_4: 0.8273 - f1_macro: 0.1371 - f1_weighted: 0.6676 \n",
      "Epoch 10: val_f1_weighted did not improve from 0.72710\n",
      "210/210 [==============================] - 7509s 36s/step - loss: 2.0824 - accuracy: 0.6004 - precision_4: 0.8273 - f1_macro: 0.1371 - f1_weighted: 0.6676 - val_loss: 0.9013 - val_accuracy: 0.6366 - val_precision_4: 0.9061 - val_f1_macro: 0.1314 - val_f1_weighted: 0.6968 - lr: 7.4082e-05\n",
      "Epoch 11/40\n",
      "210/210 [==============================] - ETA: 0s - loss: 1.8605 - accuracy: 0.6170 - precision_4: 0.8335 - f1_macro: 0.1489 - f1_weighted: 0.6791 \n",
      "Epoch 11: val_f1_weighted did not improve from 0.72710\n",
      "210/210 [==============================] - 7516s 36s/step - loss: 1.8605 - accuracy: 0.6170 - precision_4: 0.8335 - f1_macro: 0.1489 - f1_weighted: 0.6791 - val_loss: 0.9375 - val_accuracy: 0.6378 - val_precision_4: 0.8875 - val_f1_macro: 0.1307 - val_f1_weighted: 0.6985 - lr: 6.7032e-05\n",
      "Epoch 12/40\n",
      "210/210 [==============================] - ETA: 0s - loss: 1.7015 - accuracy: 0.6167 - precision_4: 0.8286 - f1_macro: 0.1704 - f1_weighted: 0.6803 \n",
      "Epoch 12: val_f1_weighted did not improve from 0.72710\n",
      "210/210 [==============================] - 7565s 36s/step - loss: 1.7015 - accuracy: 0.6167 - precision_4: 0.8286 - f1_macro: 0.1704 - f1_weighted: 0.6803 - val_loss: 0.9886 - val_accuracy: 0.6193 - val_precision_4: 0.9129 - val_f1_macro: 0.1394 - val_f1_weighted: 0.6889 - lr: 6.0653e-05\n",
      "Epoch 13/40\n",
      "210/210 [==============================] - ETA: 0s - loss: 1.6555 - accuracy: 0.6303 - precision_4: 0.8550 - f1_macro: 0.1806 - f1_weighted: 0.6891 \n",
      "Epoch 13: val_f1_weighted did not improve from 0.72710\n",
      "210/210 [==============================] - 7526s 36s/step - loss: 1.6555 - accuracy: 0.6303 - precision_4: 0.8550 - f1_macro: 0.1806 - f1_weighted: 0.6891 - val_loss: 0.9456 - val_accuracy: 0.6402 - val_precision_4: 0.8600 - val_f1_macro: 0.1136 - val_f1_weighted: 0.7030 - lr: 5.4881e-05\n",
      "Epoch 14/40\n",
      "210/210 [==============================] - ETA: 0s - loss: 1.6037 - accuracy: 0.6248 - precision_4: 0.8124 - f1_macro: 0.1696 - f1_weighted: 0.6840 \n",
      "Epoch 14: val_f1_weighted did not improve from 0.72710\n",
      "210/210 [==============================] - 7517s 36s/step - loss: 1.6037 - accuracy: 0.6248 - precision_4: 0.8124 - f1_macro: 0.1696 - f1_weighted: 0.6840 - val_loss: 1.0810 - val_accuracy: 0.5996 - val_precision_4: 0.9335 - val_f1_macro: 0.1277 - val_f1_weighted: 0.6787 - lr: 4.9659e-05\n",
      "Epoch 15/40\n",
      "210/210 [==============================] - ETA: 0s - loss: 1.6458 - accuracy: 0.6255 - precision_4: 0.8288 - f1_macro: 0.2024 - f1_weighted: 0.6851 \n",
      "Epoch 15: val_f1_weighted did not improve from 0.72710\n",
      "210/210 [==============================] - 7535s 36s/step - loss: 1.6458 - accuracy: 0.6255 - precision_4: 0.8288 - f1_macro: 0.2024 - f1_weighted: 0.6851 - val_loss: 0.9747 - val_accuracy: 0.6146 - val_precision_4: 0.8878 - val_f1_macro: 0.1356 - val_f1_weighted: 0.6815 - lr: 4.4933e-05\n",
      "Epoch 16/40\n",
      "210/210 [==============================] - ETA: 0s - loss: 1.6521 - accuracy: 0.6367 - precision_4: 0.8228 - f1_macro: 0.2284 - f1_weighted: 0.6930 \n",
      "Epoch 16: val_f1_weighted did not improve from 0.72710\n",
      "210/210 [==============================] - 7508s 36s/step - loss: 1.6521 - accuracy: 0.6367 - precision_4: 0.8228 - f1_macro: 0.2284 - f1_weighted: 0.6930 - val_loss: 0.9014 - val_accuracy: 0.6551 - val_precision_4: 0.8567 - val_f1_macro: 0.1736 - val_f1_weighted: 0.7130 - lr: 4.0657e-05\n",
      "Epoch 17/40\n",
      "210/210 [==============================] - ETA: 0s - loss: 1.5570 - accuracy: 0.6345 - precision_4: 0.7989 - f1_macro: 0.2053 - f1_weighted: 0.6905 \n",
      "Epoch 17: val_f1_weighted did not improve from 0.72710\n",
      "210/210 [==============================] - 7524s 36s/step - loss: 1.5570 - accuracy: 0.6345 - precision_4: 0.7989 - f1_macro: 0.2053 - f1_weighted: 0.6905 - val_loss: 0.9914 - val_accuracy: 0.6020 - val_precision_4: 0.9019 - val_f1_macro: 0.1324 - val_f1_weighted: 0.6798 - lr: 3.6788e-05\n",
      "Epoch 18/40\n",
      "210/210 [==============================] - ETA: 0s - loss: 1.4457 - accuracy: 0.6340 - precision_4: 0.8225 - f1_macro: 0.2345 - f1_weighted: 0.6913 \n",
      "Epoch 18: val_f1_weighted did not improve from 0.72710\n",
      "210/210 [==============================] - 7510s 36s/step - loss: 1.4457 - accuracy: 0.6340 - precision_4: 0.8225 - f1_macro: 0.2345 - f1_weighted: 0.6913 - val_loss: 0.9841 - val_accuracy: 0.6271 - val_precision_4: 0.8417 - val_f1_macro: 0.1315 - val_f1_weighted: 0.6952 - lr: 3.3287e-05\n",
      "Epoch 19/40\n",
      "210/210 [==============================] - ETA: 0s - loss: 1.3609 - accuracy: 0.6343 - precision_4: 0.8062 - f1_macro: 0.2456 - f1_weighted: 0.6906 \n",
      "Epoch 19: val_f1_weighted did not improve from 0.72710\n",
      "210/210 [==============================] - 7521s 36s/step - loss: 1.3609 - accuracy: 0.6343 - precision_4: 0.8062 - f1_macro: 0.2456 - f1_weighted: 0.6906 - val_loss: 0.9314 - val_accuracy: 0.6402 - val_precision_4: 0.8260 - val_f1_macro: 0.1257 - val_f1_weighted: 0.7048 - lr: 3.0119e-05\n",
      "Epoch 20/40\n",
      "210/210 [==============================] - ETA: 0s - loss: 1.3187 - accuracy: 0.6427 - precision_4: 0.8332 - f1_macro: 0.2674 - f1_weighted: 0.6978 \n",
      "Epoch 20: val_f1_weighted did not improve from 0.72710\n",
      "210/210 [==============================] - 7549s 36s/step - loss: 1.3187 - accuracy: 0.6427 - precision_4: 0.8332 - f1_macro: 0.2674 - f1_weighted: 0.6978 - val_loss: 0.9274 - val_accuracy: 0.6337 - val_precision_4: 0.7643 - val_f1_macro: 0.1475 - val_f1_weighted: 0.6949 - lr: 2.7253e-05\n",
      "Epoch 21/40\n",
      "210/210 [==============================] - ETA: 0s - loss: 1.3203 - accuracy: 0.6403 - precision_4: 0.8127 - f1_macro: 0.2793 - f1_weighted: 0.6953 \n",
      "Epoch 21: val_f1_weighted did not improve from 0.72710\n",
      "210/210 [==============================] - 7550s 36s/step - loss: 1.3203 - accuracy: 0.6403 - precision_4: 0.8127 - f1_macro: 0.2793 - f1_weighted: 0.6953 - val_loss: 0.8870 - val_accuracy: 0.6474 - val_precision_4: 0.8171 - val_f1_macro: 0.1369 - val_f1_weighted: 0.7079 - lr: 2.4660e-05\n",
      "Epoch 22/40\n",
      "210/210 [==============================] - ETA: 0s - loss: 1.2164 - accuracy: 0.6421 - precision_4: 0.8246 - f1_macro: 0.2899 - f1_weighted: 0.6969 \n",
      "Epoch 22: val_f1_weighted did not improve from 0.72710\n",
      "210/210 [==============================] - 7524s 36s/step - loss: 1.2164 - accuracy: 0.6421 - precision_4: 0.8246 - f1_macro: 0.2899 - f1_weighted: 0.6969 - val_loss: 0.8533 - val_accuracy: 0.6581 - val_precision_4: 0.8599 - val_f1_macro: 0.1520 - val_f1_weighted: 0.7170 - lr: 2.2313e-05\n",
      "Epoch 23/40\n",
      "210/210 [==============================] - ETA: 0s - loss: 1.1748 - accuracy: 0.6430 - precision_4: 0.8217 - f1_macro: 0.2984 - f1_weighted: 0.6977 \n",
      "Epoch 23: val_f1_weighted did not improve from 0.72710\n",
      "210/210 [==============================] - 7570s 36s/step - loss: 1.1748 - accuracy: 0.6430 - precision_4: 0.8217 - f1_macro: 0.2984 - f1_weighted: 0.6977 - val_loss: 0.9569 - val_accuracy: 0.6360 - val_precision_4: 0.8396 - val_f1_macro: 0.1420 - val_f1_weighted: 0.7021 - lr: 2.0190e-05\n",
      "Epoch 24/40\n",
      "210/210 [==============================] - ETA: 0s - loss: 1.1008 - accuracy: 0.6454 - precision_4: 0.8099 - f1_macro: 0.2813 - f1_weighted: 0.6994 \n",
      "Epoch 24: val_f1_weighted did not improve from 0.72710\n",
      "210/210 [==============================] - 7563s 36s/step - loss: 1.1008 - accuracy: 0.6454 - precision_4: 0.8099 - f1_macro: 0.2813 - f1_weighted: 0.6994 - val_loss: 0.9029 - val_accuracy: 0.6450 - val_precision_4: 0.8262 - val_f1_macro: 0.1567 - val_f1_weighted: 0.7076 - lr: 1.8268e-05\n",
      "Epoch 25/40\n",
      "210/210 [==============================] - ETA: 0s - loss: 1.0312 - accuracy: 0.6422 - precision_4: 0.8033 - f1_macro: 0.3261 - f1_weighted: 0.6978 \n",
      "Epoch 25: val_f1_weighted did not improve from 0.72710\n",
      "210/210 [==============================] - 7549s 36s/step - loss: 1.0312 - accuracy: 0.6422 - precision_4: 0.8033 - f1_macro: 0.3261 - f1_weighted: 0.6978 - val_loss: 0.9418 - val_accuracy: 0.6307 - val_precision_4: 0.7778 - val_f1_macro: 0.1496 - val_f1_weighted: 0.6968 - lr: 1.6530e-05\n",
      "Epoch 26/40\n",
      "210/210 [==============================] - ETA: 0s - loss: 1.0377 - accuracy: 0.6516 - precision_4: 0.8088 - f1_macro: 0.3118 - f1_weighted: 0.7043 \n",
      "Epoch 26: val_f1_weighted did not improve from 0.72710\n",
      "210/210 [==============================] - 7538s 36s/step - loss: 1.0377 - accuracy: 0.6516 - precision_4: 0.8088 - f1_macro: 0.3118 - f1_weighted: 0.7043 - val_loss: 1.0685 - val_accuracy: 0.6056 - val_precision_4: 0.7797 - val_f1_macro: 0.1549 - val_f1_weighted: 0.6807 - lr: 1.4957e-05\n",
      "Epoch 27/40\n",
      "210/210 [==============================] - ETA: 0s - loss: 0.9510 - accuracy: 0.6513 - precision_4: 0.7942 - f1_macro: 0.3538 - f1_weighted: 0.7039 \n",
      "Epoch 27: val_f1_weighted did not improve from 0.72710\n",
      "210/210 [==============================] - 7554s 36s/step - loss: 0.9510 - accuracy: 0.6513 - precision_4: 0.7942 - f1_macro: 0.3538 - f1_weighted: 0.7039 - val_loss: 0.9408 - val_accuracy: 0.6444 - val_precision_4: 0.8325 - val_f1_macro: 0.1744 - val_f1_weighted: 0.7089 - lr: 1.3534e-05\n",
      "Epoch 28/40\n",
      "210/210 [==============================] - ETA: 0s - loss: 0.9362 - accuracy: 0.6449 - precision_4: 0.7952 - f1_macro: 0.3807 - f1_weighted: 0.6999 \n",
      "Epoch 28: val_f1_weighted did not improve from 0.72710\n",
      "210/210 [==============================] - 7537s 36s/step - loss: 0.9362 - accuracy: 0.6449 - precision_4: 0.7952 - f1_macro: 0.3807 - f1_weighted: 0.6999 - val_loss: 0.8430 - val_accuracy: 0.6575 - val_precision_4: 0.8363 - val_f1_macro: 0.1461 - val_f1_weighted: 0.7159 - lr: 1.2246e-05\n",
      "Epoch 29/40\n",
      "210/210 [==============================] - ETA: 0s - loss: 0.9105 - accuracy: 0.6501 - precision_4: 0.8079 - f1_macro: 0.3660 - f1_weighted: 0.7029 \n",
      "Epoch 29: val_f1_weighted did not improve from 0.72710\n",
      "210/210 [==============================] - 7539s 36s/step - loss: 0.9105 - accuracy: 0.6501 - precision_4: 0.8079 - f1_macro: 0.3660 - f1_weighted: 0.7029 - val_loss: 0.8957 - val_accuracy: 0.6432 - val_precision_4: 0.8136 - val_f1_macro: 0.1624 - val_f1_weighted: 0.7047 - lr: 1.1080e-05\n",
      "Epoch 30/40\n",
      "210/210 [==============================] - ETA: 0s - loss: 0.8932 - accuracy: 0.6509 - precision_4: 0.8044 - f1_macro: 0.4046 - f1_weighted: 0.7033 \n",
      "Epoch 30: val_f1_weighted did not improve from 0.72710\n",
      "210/210 [==============================] - 7539s 36s/step - loss: 0.8932 - accuracy: 0.6509 - precision_4: 0.8044 - f1_macro: 0.4046 - f1_weighted: 0.7033 - val_loss: 0.8713 - val_accuracy: 0.6533 - val_precision_4: 0.8297 - val_f1_macro: 0.1541 - val_f1_weighted: 0.7115 - lr: 1.0026e-05\n",
      "Epoch 31/40\n",
      "210/210 [==============================] - ETA: 0s - loss: 0.8779 - accuracy: 0.6554 - precision_4: 0.7955 - f1_macro: 0.4054 - f1_weighted: 0.7069 \n",
      "Epoch 31: val_f1_weighted did not improve from 0.72710\n",
      "210/210 [==============================] - 7507s 36s/step - loss: 0.8779 - accuracy: 0.6554 - precision_4: 0.7955 - f1_macro: 0.4054 - f1_weighted: 0.7069 - val_loss: 0.8555 - val_accuracy: 0.6575 - val_precision_4: 0.8170 - val_f1_macro: 0.1577 - val_f1_weighted: 0.7140 - lr: 9.0718e-06\n",
      "Epoch 32/40\n",
      "210/210 [==============================] - ETA: 0s - loss: 0.8413 - accuracy: 0.6560 - precision_4: 0.7905 - f1_macro: 0.4010 - f1_weighted: 0.7064 \n",
      "Epoch 32: val_f1_weighted did not improve from 0.72710\n",
      "210/210 [==============================] - 7547s 36s/step - loss: 0.8413 - accuracy: 0.6560 - precision_4: 0.7905 - f1_macro: 0.4010 - f1_weighted: 0.7064 - val_loss: 0.9244 - val_accuracy: 0.6414 - val_precision_4: 0.8252 - val_f1_macro: 0.1493 - val_f1_weighted: 0.7065 - lr: 8.2085e-06\n",
      "Epoch 33/40\n",
      "210/210 [==============================] - ETA: 0s - loss: 0.8261 - accuracy: 0.6509 - precision_4: 0.7799 - f1_macro: 0.4139 - f1_weighted: 0.7035 \n",
      "Epoch 33: val_f1_weighted did not improve from 0.72710\n",
      "210/210 [==============================] - 7531s 36s/step - loss: 0.8261 - accuracy: 0.6509 - precision_4: 0.7799 - f1_macro: 0.4139 - f1_weighted: 0.7035 - val_loss: 0.8794 - val_accuracy: 0.6510 - val_precision_4: 0.8206 - val_f1_macro: 0.1884 - val_f1_weighted: 0.7130 - lr: 7.4274e-06\n",
      "Epoch 34/40\n",
      "210/210 [==============================] - ETA: 0s - loss: 0.8482 - accuracy: 0.6530 - precision_4: 0.7853 - f1_macro: 0.3879 - f1_weighted: 0.7051 \n",
      "Epoch 34: val_f1_weighted did not improve from 0.72710\n",
      "210/210 [==============================] - 7523s 36s/step - loss: 0.8482 - accuracy: 0.6530 - precision_4: 0.7853 - f1_macro: 0.3879 - f1_weighted: 0.7051 - val_loss: 0.9439 - val_accuracy: 0.6360 - val_precision_4: 0.7967 - val_f1_macro: 0.1499 - val_f1_weighted: 0.7014 - lr: 6.7206e-06\n",
      "Epoch 35/40\n",
      "210/210 [==============================] - ETA: 0s - loss: 0.8021 - accuracy: 0.6578 - precision_4: 0.7857 - f1_macro: 0.4191 - f1_weighted: 0.7088 \n",
      "Epoch 35: val_f1_weighted did not improve from 0.72710\n",
      "210/210 [==============================] - 7556s 36s/step - loss: 0.8021 - accuracy: 0.6578 - precision_4: 0.7857 - f1_macro: 0.4191 - f1_weighted: 0.7088 - val_loss: 0.8774 - val_accuracy: 0.6557 - val_precision_4: 0.7993 - val_f1_macro: 0.1976 - val_f1_weighted: 0.7163 - lr: 6.0810e-06\n",
      "Epoch 36/40\n",
      "210/210 [==============================] - ETA: 0s - loss: 0.7619 - accuracy: 0.6584 - precision_4: 0.7799 - f1_macro: 0.4466 - f1_weighted: 0.7079 \n",
      "Epoch 36: val_f1_weighted did not improve from 0.72710\n",
      "210/210 [==============================] - 7538s 36s/step - loss: 0.7619 - accuracy: 0.6584 - precision_4: 0.7799 - f1_macro: 0.4466 - f1_weighted: 0.7079 - val_loss: 0.8857 - val_accuracy: 0.6492 - val_precision_4: 0.7953 - val_f1_macro: 0.1945 - val_f1_weighted: 0.7099 - lr: 5.5023e-06\n",
      "Epoch 37/40\n",
      "210/210 [==============================] - ETA: 0s - loss: 0.7847 - accuracy: 0.6504 - precision_4: 0.7791 - f1_macro: 0.4419 - f1_weighted: 0.7034 \n",
      "Epoch 37: val_f1_weighted did not improve from 0.72710\n",
      "210/210 [==============================] - 7531s 36s/step - loss: 0.7847 - accuracy: 0.6504 - precision_4: 0.7791 - f1_macro: 0.4419 - f1_weighted: 0.7034 - val_loss: 0.9771 - val_accuracy: 0.6181 - val_precision_4: 0.7716 - val_f1_macro: 0.1553 - val_f1_weighted: 0.6888 - lr: 4.9787e-06\n",
      "Epoch 38/40\n",
      "210/210 [==============================] - ETA: 0s - loss: 0.7189 - accuracy: 0.6585 - precision_4: 0.7885 - f1_macro: 0.4796 - f1_weighted: 0.7090 \n",
      "Epoch 38: val_f1_weighted did not improve from 0.72710\n",
      "210/210 [==============================] - 7537s 36s/step - loss: 0.7189 - accuracy: 0.6585 - precision_4: 0.7885 - f1_macro: 0.4796 - f1_weighted: 0.7090 - val_loss: 0.8957 - val_accuracy: 0.6390 - val_precision_4: 0.8147 - val_f1_macro: 0.1571 - val_f1_weighted: 0.7033 - lr: 4.5049e-06\n",
      "Epoch 39/40\n",
      "210/210 [==============================] - ETA: 0s - loss: 0.7548 - accuracy: 0.6625 - precision_4: 0.7728 - f1_macro: 0.4584 - f1_weighted: 0.7116 \n",
      "Epoch 39: val_f1_weighted did not improve from 0.72710\n",
      "210/210 [==============================] - 7500s 36s/step - loss: 0.7548 - accuracy: 0.6625 - precision_4: 0.7728 - f1_macro: 0.4584 - f1_weighted: 0.7116 - val_loss: 0.9291 - val_accuracy: 0.6331 - val_precision_4: 0.7906 - val_f1_macro: 0.1662 - val_f1_weighted: 0.6998 - lr: 4.0762e-06\n",
      "Epoch 40/40\n",
      "210/210 [==============================] - ETA: 0s - loss: 0.7313 - accuracy: 0.6655 - precision_4: 0.7930 - f1_macro: 0.4610 - f1_weighted: 0.7138 \n",
      "Epoch 40: val_f1_weighted did not improve from 0.72710\n",
      "210/210 [==============================] - 7528s 36s/step - loss: 0.7313 - accuracy: 0.6655 - precision_4: 0.7930 - f1_macro: 0.4610 - f1_weighted: 0.7138 - val_loss: 0.8084 - val_accuracy: 0.6617 - val_precision_4: 0.7860 - val_f1_macro: 0.1783 - val_f1_weighted: 0.7178 - lr: 3.6883e-06\n"
     ]
    }
   ],
   "source": [
    "# From previous experiments, adding layers and using ResNet-18 yielded best results \n",
    "\n",
    "# x: Satellite Images, 'Stop_Signs', 'Paving_historical', 'Bus_stop', 'Collisions_Historical', Road type (one hot), Zipcode (ont hot)\n",
    "# y: Future collision bin\n",
    "\n",
    "# ACCORDING TO THE PAPER, THEY DOWNSIZED THE IMAGES FIRST INTO SMALLER MATRICES \n",
    "# THEN ADDED THE STREET CHARACTERISTICS TO THE SMALLER MATRIX\n",
    "# REFERENCE THE DIAGRAM ON THE PAPER\n",
    "\n",
    "def create_cnn_model():\n",
    "\n",
    "    # INPUT LAYERS\n",
    "    input1 = tf.keras.layers.Input(shape=(148, 188, 4), name='Input_Images')\n",
    "    input2 = tf.keras.layers.Input(shape=(1,1,39), name='Input_Street') \n",
    "    \n",
    "    #CNN FOR IMAGE PROCESSING\n",
    "    cnn = tf.keras.layers.Conv2D(39, (2,2), activation=\"relu\")(input1) # layers = street data dimension\n",
    "    pooling = tf.keras.layers.MaxPooling2D((53, 93), strides=1)(cnn)\n",
    "    images = tf.keras.models.Model(inputs=input1, outputs=pooling)\n",
    "    \n",
    "    #ADDING STREET DATA\n",
    "    #combined = tf.keras.layers.Concatenate(axis = 2)([images.output, input2])\n",
    "    combined = tf.keras.layers.Add()([images.output, input2])\n",
    "    \n",
    "    # PAPER USES RESNET-18 FOR THE REST OF THE MODEL WITH THE COMBINED DATA\n",
    "    resnet = resnet18(combined)\n",
    "    output = tf.keras.layers.Dense(units=11, activation='softmax', name='output')(resnet) # units = number of classes\n",
    "    \n",
    "    #instantiation layer \n",
    "    cnn_model = tf.keras.models.Model(inputs=[input1, input2], outputs=output)\n",
    "    \n",
    "    return cnn_model\n",
    "\n",
    "cnn_model = create_cnn_model()\n",
    "\n",
    "cnn_model.summary()\n",
    "\n",
    "f1_m = tfa.metrics.F1Score(\n",
    "    num_classes = 11,\n",
    "    average = 'macro',\n",
    "    threshold = None,\n",
    "    name = 'f1_macro',\n",
    "    )\n",
    "\n",
    "f1_w = tfa.metrics.F1Score(\n",
    "    num_classes = 11,\n",
    "    average = 'weighted',\n",
    "    threshold = None,\n",
    "    name = 'f1_weighted',\n",
    "    )\n",
    "\n",
    "cnn_model.compile(\n",
    "    optimizer=tf.keras.optimizers.Adam(), #learning rate defined by scheduler\n",
    "    loss='categorical_crossentropy',\n",
    "    metrics = ['accuracy', keras.metrics.Precision(), f1_m, f1_w])\n",
    "\n",
    "y_t = tf.keras.utils.to_categorical(y_train, num_classes=11)\n",
    "\n",
    "y_v = tf.keras.utils.to_categorical(y_val, num_classes=11)\n",
    "\n",
    "# define the checkpoint\n",
    "filepath = \"model.7\"\n",
    "checkpoint = ModelCheckpoint(filepath, monitor='val_f1_weighted', verbose=1, save_best_only=True, mode='max')\n",
    "callbacks_check = checkpoint\n",
    "\n",
    "def scheduler(epoch, lr):\n",
    "    if epoch <= 6:\n",
    "        return 0.0001\n",
    "    else:\n",
    "        return lr * tf.math.exp(-0.1)\n",
    "\n",
    "callback = tf.keras.callbacks.LearningRateScheduler(scheduler)\n",
    "\n",
    "history = cnn_model.fit(\n",
    "    [images_mini, street_mini],\n",
    "    y_t,\n",
    "    epochs=40,\n",
    "    # Suppress logging.\n",
    "     verbose=1,\n",
    "    validation_data=([images_mini_v, street_mini_v], y_v),\n",
    "    # Calculate validation results on 20% of the training data.\n",
    "    #validation_split = 0.2,\n",
    "    class_weight = class_weights,\n",
    "    callbacks=[callback, callbacks_check],\n",
    "    )"
   ]
  },
  {
   "cell_type": "code",
   "execution_count": 70,
   "id": "52d91844-64dc-4348-b024-783281f26bee",
   "metadata": {
    "tags": []
   },
   "outputs": [
    {
     "name": "stderr",
     "output_type": "stream",
     "text": [
      "WARNING:absl:Function `_wrapped_model` contains input name(s) Input_Images, Input_Street with unsupported characters which will be renamed to input_images, input_street in the SavedModel.\n",
      "WARNING:absl:Found untraced functions such as _jit_compiled_convolution_op, _jit_compiled_convolution_op, _jit_compiled_convolution_op, _jit_compiled_convolution_op, _jit_compiled_convolution_op while saving (showing 5 of 22). These functions will not be directly callable after loading.\n"
     ]
    },
    {
     "name": "stdout",
     "output_type": "stream",
     "text": [
      "INFO:tensorflow:Assets written to: model.7.last.epoch/assets\n"
     ]
    },
    {
     "name": "stderr",
     "output_type": "stream",
     "text": [
      "INFO:tensorflow:Assets written to: model.7.last.epoch/assets\n"
     ]
    }
   ],
   "source": [
    "# saving last epoch model just in case \n",
    "cnn_model.save('model.7.last.epoch')"
   ]
  },
  {
   "cell_type": "code",
   "execution_count": 40,
   "id": "4cccdeff-f234-4fe1-b16b-c5db3c38830e",
   "metadata": {
    "tags": []
   },
   "outputs": [
    {
     "data": {
      "image/png": "[encoded data removed]",
      "text/plain": [
       "<Figure size 640x480 with 1 Axes>"
      ]
     },
     "metadata": {},
     "output_type": "display_data"
    }
   ],
   "source": [
    "plot_loss(history)"
   ]
  },
  {
   "cell_type": "code",
   "execution_count": 41,
   "id": "be7c6bdb-832f-43fa-bcf9-d5908aafdb77",
   "metadata": {
    "tags": []
   },
   "outputs": [
    {
     "data": {
      "image/png": "[encoded data removed]",
      "text/plain": [
       "<Figure size 640x480 with 1 Axes>"
      ]
     },
     "metadata": {},
     "output_type": "display_data"
    }
   ],
   "source": [
    "plot_accuracy(history)"
   ]
  },
  {
   "cell_type": "code",
   "execution_count": 42,
   "id": "e805e4cd-dcb7-4568-845a-2e4e62d8a920",
   "metadata": {},
   "outputs": [
    {
     "data": {
      "image/png": "[encoded data removed]",
      "text/plain": [
       "<Figure size 640x480 with 1 Axes>"
      ]
     },
     "metadata": {},
     "output_type": "display_data"
    }
   ],
   "source": [
    "plot_f1_macro(history)"
   ]
  },
  {
   "cell_type": "code",
   "execution_count": 43,
   "id": "bf08e9fe-11ef-4aea-9cea-d4cd5bc26312",
   "metadata": {},
   "outputs": [
    {
     "data": {
      "image/png": "[encoded data removed]",
      "text/plain": [
       "<Figure size 640x480 with 1 Axes>"
      ]
     },
     "metadata": {},
     "output_type": "display_data"
    }
   ],
   "source": [
    "plot_f1_weighted(history)"
   ]
  },
  {
   "cell_type": "code",
   "execution_count": 44,
   "id": "dcbe81ee-3020-46ca-a1eb-93acd0da22c4",
   "metadata": {},
   "outputs": [
    {
     "name": "stdout",
     "output_type": "stream",
     "text": [
      "53/53 [==============================] - 176s 3s/step\n"
     ]
    },
    {
     "data": {
      "text/plain": [
       "array([[8.7016654e-01, 2.9670779e-04, 1.2680526e-01, ..., 7.6116500e-08,\n",
       "        2.4497457e-08, 4.2532542e-09],\n",
       "       [1.1885654e-01, 2.2036409e-01, 3.9165938e-01, ..., 3.7344691e-06,\n",
       "        1.3978787e-06, 3.4417358e-06],\n",
       "       [4.4498163e-01, 6.8918359e-03, 3.7003165e-01, ..., 1.0877694e-09,\n",
       "        8.9649843e-10, 1.6062267e-10],\n",
       "       ...,\n",
       "       [9.6034311e-02, 1.8614118e-01, 2.9213229e-01, ..., 1.2859802e-05,\n",
       "        2.6477612e-06, 4.9820874e-06],\n",
       "       [4.2565140e-01, 3.6009767e-03, 5.0844014e-01, ..., 1.2857320e-08,\n",
       "        5.4459388e-09, 7.3907874e-10],\n",
       "       [4.0738615e-01, 1.9824957e-03, 5.4166198e-01, ..., 2.3310454e-09,\n",
       "        5.3524279e-10, 1.3849274e-11]], dtype=float32)"
      ]
     },
     "execution_count": 44,
     "metadata": {},
     "output_type": "execute_result"
    }
   ],
   "source": [
    "y_pred2 = cnn_model.predict([images_mini_v, street_mini_v])\n",
    "y_pred2"
   ]
  },
  {
   "cell_type": "code",
   "execution_count": 45,
   "id": "37b563fc-8984-4b33-9ede-bee946fa2f38",
   "metadata": {
    "tags": []
   },
   "outputs": [
    {
     "data": {
      "text/plain": [
       "[0, 2, 0, 2, 2]"
      ]
     },
     "execution_count": 45,
     "metadata": {},
     "output_type": "execute_result"
    }
   ],
   "source": [
    "pred_values2 = []\n",
    "for i in y_pred2: \n",
    "    input_list = i\n",
    "    max_value = max(input_list)\n",
    "    index = [index for index, item in enumerate(input_list) if item == max_value]\n",
    "    pred_values2.append(index[0])\n",
    "pred_values2[0:5]"
   ]
  },
  {
   "cell_type": "code",
   "execution_count": 46,
   "id": "d862034d-b68b-4ebc-92dd-f0cbf5f39c00",
   "metadata": {},
   "outputs": [
    {
     "data": {
      "text/plain": [
       "[0, 0, 0, 0, 0]"
      ]
     },
     "execution_count": 46,
     "metadata": {},
     "output_type": "execute_result"
    }
   ],
   "source": [
    "y_true = list(y_val)\n",
    "y_true[0:5]"
   ]
  },
  {
   "cell_type": "code",
   "execution_count": 47,
   "id": "62a56d10-ec48-4cb6-9e9a-10490eb6ac37",
   "metadata": {
    "tags": []
   },
   "outputs": [
    {
     "data": {
      "text/plain": [
       "<Axes: title={'center': 'Confusion Matrix'}>"
      ]
     },
     "execution_count": 47,
     "metadata": {},
     "output_type": "execute_result"
    },
    {
     "data": {
      "image/png": "[encoded data removed]",
      "text/plain": [
       "<Figure size 1000x700 with 2 Axes>"
      ]
     },
     "metadata": {},
     "output_type": "display_data"
    }
   ],
   "source": [
    "from sklearn.metrics import confusion_matrix\n",
    "cm = confusion_matrix(y_true, pred_values2)\n",
    "ind = max(len(np.unique(y_true)), len(np.unique(pred_values2)))\n",
    "df_cm = pd.DataFrame(cm, index = [i for i in range(ind)],\n",
    "                  columns = [i for i in range(ind)])\n",
    "df_cm\n",
    "plt.figure(figsize = (10,7))\n",
    "plt.title('Confusion Matrix')\n",
    "plt.ylabel('Actual Values')\n",
    "plt.xlabel('Predicted Values')\n",
    "sn.heatmap(df_cm, annot=True, fmt='.3g',cmap=\"OrRd\")"
   ]
  },
  {
   "cell_type": "markdown",
   "id": "f0227cb4-905c-45e5-9c0b-953ad84542bc",
   "metadata": {},
   "source": [
    "**Loading best model from checkpoint**"
   ]
  },
  {
   "cell_type": "code",
   "execution_count": 49,
   "id": "2b8434f5-19c5-4783-bc21-8d8dcd440e87",
   "metadata": {
    "tags": []
   },
   "outputs": [
    {
     "name": "stderr",
     "output_type": "stream",
     "text": [
      "/home/ubuntu/capstone/lib/python3.10/site-packages/keras/initializers/initializers.py:120: UserWarning: The initializer VarianceScaling is unseeded and being called multiple times, which will return identical values each time (even if the initializer is unseeded). Please update your code to provide a seed to the initializer, or avoid using the same initalizer instance more than once.\n",
      "  warnings.warn(\n",
      "/home/ubuntu/capstone/lib/python3.10/site-packages/keras/initializers/initializers.py:120: UserWarning: The initializer RandomUniform is unseeded and being called multiple times, which will return identical values each time (even if the initializer is unseeded). Please update your code to provide a seed to the initializer, or avoid using the same initalizer instance more than once.\n",
      "  warnings.warn(\n"
     ]
    }
   ],
   "source": [
    "# load the model\n",
    "filepath = \"model.7\"\n",
    "new_model = load_model(filepath)\n",
    "# assert_allclose(cnn_model.predict([images_mini_v, street_mini_v]),\n",
    "#                 new_model.predict([images_mini_v, street_mini_v]),\n",
    "#                 1e-5)"
   ]
  },
  {
   "cell_type": "code",
   "execution_count": 58,
   "id": "8e8d497d-5651-430c-ad29-aff2ee2b4b38",
   "metadata": {},
   "outputs": [
    {
     "name": "stdout",
     "output_type": "stream",
     "text": [
      "66/66 [==============================] - 220s 3s/step\n"
     ]
    },
    {
     "data": {
      "text/plain": [
       "array([[7.43737280e-01, 1.54302083e-02, 1.30869642e-01, ...,\n",
       "        2.97136791e-03, 2.61581875e-03, 1.50423194e-03],\n",
       "       [4.50630598e-02, 1.33527756e-01, 7.83499926e-02, ...,\n",
       "        1.12025529e-01, 4.79565039e-02, 2.84340885e-02],\n",
       "       [8.05384874e-01, 9.46980901e-03, 1.02466926e-01, ...,\n",
       "        9.67240951e-04, 6.13187300e-03, 4.08363109e-03],\n",
       "       ...,\n",
       "       [8.30544710e-01, 8.52881465e-03, 1.01439528e-01, ...,\n",
       "        9.03779408e-04, 6.99748634e-04, 4.17101663e-04],\n",
       "       [6.79256737e-01, 2.47456115e-02, 1.37389228e-01, ...,\n",
       "        6.67757122e-03, 5.20958193e-03, 3.04659735e-03],\n",
       "       [5.22683740e-01, 3.44802961e-02, 2.05614969e-01, ...,\n",
       "        6.83330745e-03, 3.87097965e-03, 2.65677343e-03]], dtype=float32)"
      ]
     },
     "execution_count": 58,
     "metadata": {},
     "output_type": "execute_result"
    }
   ],
   "source": [
    "y_pred3 = new_model.predict([images_mini_t, street_mini_t])\n",
    "y_pred3"
   ]
  },
  {
   "cell_type": "code",
   "execution_count": 59,
   "id": "9df76559-50fd-4862-825e-f3f3feb0e17e",
   "metadata": {
    "tags": []
   },
   "outputs": [
    {
     "data": {
      "text/plain": [
       "[0, 3, 0, 0, 0]"
      ]
     },
     "execution_count": 59,
     "metadata": {},
     "output_type": "execute_result"
    }
   ],
   "source": [
    "pred_values3 = []\n",
    "for i in y_pred3: \n",
    "    input_list = i\n",
    "    max_value = max(input_list)\n",
    "    index = [index for index, item in enumerate(input_list) if item == max_value]\n",
    "    pred_values3.append(index[0])\n",
    "pred_values3[0:5]"
   ]
  },
  {
   "cell_type": "code",
   "execution_count": 62,
   "id": "e7053df3-dd77-4d2f-bc6a-48eb5af9f288",
   "metadata": {},
   "outputs": [
    {
     "data": {
      "text/plain": [
       "[0, 4, 0, 0, 0]"
      ]
     },
     "execution_count": 62,
     "metadata": {},
     "output_type": "execute_result"
    }
   ],
   "source": [
    "y_true = list(y_test)\n",
    "y_true[0:5]"
   ]
  },
  {
   "cell_type": "code",
   "execution_count": 64,
   "id": "9c7b54ba-c10c-4c10-9522-d8cdf4091ca4",
   "metadata": {
    "tags": []
   },
   "outputs": [
    {
     "data": {
      "text/html": [
       "<div>\n",
       "<style scoped>\n",
       "    .dataframe tbody tr th:only-of-type {\n",
       "        vertical-align: middle;\n",
       "    }\n",
       "\n",
       "    .dataframe tbody tr th {\n",
       "        vertical-align: top;\n",
       "    }\n",
       "\n",
       "    .dataframe thead th {\n",
       "        text-align: right;\n",
       "    }\n",
       "</style>\n",
       "<table border=\"1\" class=\"dataframe\">\n",
       "  <thead>\n",
       "    <tr style=\"text-align: right;\">\n",
       "      <th></th>\n",
       "      <th>0</th>\n",
       "      <th>1</th>\n",
       "      <th>2</th>\n",
       "      <th>3</th>\n",
       "      <th>4</th>\n",
       "      <th>5</th>\n",
       "      <th>6</th>\n",
       "      <th>7</th>\n",
       "      <th>8</th>\n",
       "      <th>9</th>\n",
       "      <th>10</th>\n",
       "    </tr>\n",
       "  </thead>\n",
       "  <tbody>\n",
       "    <tr>\n",
       "      <th>0</th>\n",
       "      <td>1233</td>\n",
       "      <td>0</td>\n",
       "      <td>299</td>\n",
       "      <td>81</td>\n",
       "      <td>2</td>\n",
       "      <td>0</td>\n",
       "      <td>14</td>\n",
       "      <td>0</td>\n",
       "      <td>7</td>\n",
       "      <td>3</td>\n",
       "      <td>7</td>\n",
       "    </tr>\n",
       "    <tr>\n",
       "      <th>1</th>\n",
       "      <td>3</td>\n",
       "      <td>0</td>\n",
       "      <td>4</td>\n",
       "      <td>19</td>\n",
       "      <td>2</td>\n",
       "      <td>0</td>\n",
       "      <td>0</td>\n",
       "      <td>0</td>\n",
       "      <td>11</td>\n",
       "      <td>1</td>\n",
       "      <td>3</td>\n",
       "    </tr>\n",
       "    <tr>\n",
       "      <th>2</th>\n",
       "      <td>68</td>\n",
       "      <td>1</td>\n",
       "      <td>123</td>\n",
       "      <td>83</td>\n",
       "      <td>3</td>\n",
       "      <td>0</td>\n",
       "      <td>6</td>\n",
       "      <td>0</td>\n",
       "      <td>15</td>\n",
       "      <td>2</td>\n",
       "      <td>3</td>\n",
       "    </tr>\n",
       "    <tr>\n",
       "      <th>3</th>\n",
       "      <td>8</td>\n",
       "      <td>0</td>\n",
       "      <td>17</td>\n",
       "      <td>34</td>\n",
       "      <td>0</td>\n",
       "      <td>0</td>\n",
       "      <td>1</td>\n",
       "      <td>0</td>\n",
       "      <td>5</td>\n",
       "      <td>4</td>\n",
       "      <td>3</td>\n",
       "    </tr>\n",
       "    <tr>\n",
       "      <th>4</th>\n",
       "      <td>0</td>\n",
       "      <td>0</td>\n",
       "      <td>0</td>\n",
       "      <td>1</td>\n",
       "      <td>2</td>\n",
       "      <td>0</td>\n",
       "      <td>0</td>\n",
       "      <td>0</td>\n",
       "      <td>2</td>\n",
       "      <td>0</td>\n",
       "      <td>5</td>\n",
       "    </tr>\n",
       "    <tr>\n",
       "      <th>5</th>\n",
       "      <td>0</td>\n",
       "      <td>0</td>\n",
       "      <td>0</td>\n",
       "      <td>0</td>\n",
       "      <td>0</td>\n",
       "      <td>0</td>\n",
       "      <td>0</td>\n",
       "      <td>0</td>\n",
       "      <td>0</td>\n",
       "      <td>0</td>\n",
       "      <td>2</td>\n",
       "    </tr>\n",
       "    <tr>\n",
       "      <th>6</th>\n",
       "      <td>0</td>\n",
       "      <td>0</td>\n",
       "      <td>0</td>\n",
       "      <td>5</td>\n",
       "      <td>1</td>\n",
       "      <td>0</td>\n",
       "      <td>1</td>\n",
       "      <td>0</td>\n",
       "      <td>1</td>\n",
       "      <td>0</td>\n",
       "      <td>3</td>\n",
       "    </tr>\n",
       "    <tr>\n",
       "      <th>7</th>\n",
       "      <td>0</td>\n",
       "      <td>0</td>\n",
       "      <td>0</td>\n",
       "      <td>1</td>\n",
       "      <td>0</td>\n",
       "      <td>0</td>\n",
       "      <td>0</td>\n",
       "      <td>0</td>\n",
       "      <td>1</td>\n",
       "      <td>0</td>\n",
       "      <td>2</td>\n",
       "    </tr>\n",
       "    <tr>\n",
       "      <th>8</th>\n",
       "      <td>0</td>\n",
       "      <td>0</td>\n",
       "      <td>0</td>\n",
       "      <td>0</td>\n",
       "      <td>0</td>\n",
       "      <td>0</td>\n",
       "      <td>0</td>\n",
       "      <td>0</td>\n",
       "      <td>0</td>\n",
       "      <td>0</td>\n",
       "      <td>2</td>\n",
       "    </tr>\n",
       "    <tr>\n",
       "      <th>9</th>\n",
       "      <td>0</td>\n",
       "      <td>0</td>\n",
       "      <td>0</td>\n",
       "      <td>0</td>\n",
       "      <td>0</td>\n",
       "      <td>0</td>\n",
       "      <td>0</td>\n",
       "      <td>0</td>\n",
       "      <td>0</td>\n",
       "      <td>0</td>\n",
       "      <td>1</td>\n",
       "    </tr>\n",
       "    <tr>\n",
       "      <th>10</th>\n",
       "      <td>0</td>\n",
       "      <td>0</td>\n",
       "      <td>0</td>\n",
       "      <td>0</td>\n",
       "      <td>0</td>\n",
       "      <td>0</td>\n",
       "      <td>0</td>\n",
       "      <td>0</td>\n",
       "      <td>0</td>\n",
       "      <td>0</td>\n",
       "      <td>0</td>\n",
       "    </tr>\n",
       "  </tbody>\n",
       "</table>\n",
       "</div>"
      ],
      "text/plain": [
       "      0   1    2   3   4   5   6   7   8   9   10\n",
       "0   1233   0  299  81   2   0  14   0   7   3   7\n",
       "1      3   0    4  19   2   0   0   0  11   1   3\n",
       "2     68   1  123  83   3   0   6   0  15   2   3\n",
       "3      8   0   17  34   0   0   1   0   5   4   3\n",
       "4      0   0    0   1   2   0   0   0   2   0   5\n",
       "5      0   0    0   0   0   0   0   0   0   0   2\n",
       "6      0   0    0   5   1   0   1   0   1   0   3\n",
       "7      0   0    0   1   0   0   0   0   1   0   2\n",
       "8      0   0    0   0   0   0   0   0   0   0   2\n",
       "9      0   0    0   0   0   0   0   0   0   0   1\n",
       "10     0   0    0   0   0   0   0   0   0   0   0"
      ]
     },
     "execution_count": 64,
     "metadata": {},
     "output_type": "execute_result"
    }
   ],
   "source": [
    "from sklearn.metrics import confusion_matrix\n",
    "cm = confusion_matrix(y_true, pred_values3)\n",
    "ind = max(len(np.unique(y_true)), len(np.unique(pred_values3)))\n",
    "df_cm = pd.DataFrame(cm, index = [i for i in range(11)],\n",
    "                  columns = [i for i in range(11)])\n",
    "df_cm\n",
    "# plt.figure(figsize = (10,7))\n",
    "# plt.title('Confusion Matrix')\n",
    "# plt.ylabel('Actual Values')\n",
    "# plt.xlabel('Predicted Values')\n",
    "# sn.heatmap(df_cm, annot=True, fmt='.3g',cmap=\"OrRd\")"
   ]
  },
  {
   "cell_type": "code",
   "execution_count": 66,
   "id": "195caf63-241e-4192-8c6c-6c9fd6883518",
   "metadata": {
    "tags": []
   },
   "outputs": [
    {
     "data": {
      "text/plain": [
       "0.7119535946246566"
      ]
     },
     "execution_count": 66,
     "metadata": {},
     "output_type": "execute_result"
    }
   ],
   "source": [
    "import sklearn\n",
    "sklearn.metrics.f1_score(y_true, pred_values3, average='weighted')"
   ]
  },
  {
   "cell_type": "code",
   "execution_count": 67,
   "id": "c8baada5-5fb4-4f5b-9e1c-3cc37b4ee32b",
   "metadata": {
    "tags": []
   },
   "outputs": [
    {
     "data": {
      "text/plain": [
       "0.1503022235460378"
      ]
     },
     "execution_count": 67,
     "metadata": {},
     "output_type": "execute_result"
    }
   ],
   "source": [
    "sklearn.metrics.f1_score(y_true, pred_values3, average='macro')"
   ]
  },
  {
   "cell_type": "code",
   "execution_count": 68,
   "id": "64a6a585-5b16-4cbc-b528-9861d0a44355",
   "metadata": {
    "tags": []
   },
   "outputs": [
    {
     "data": {
      "text/plain": [
       "array([0.8336714 , 0.        , 0.32931727, 0.22972973, 0.2       ,\n",
       "       0.        , 0.06060606, 0.        , 0.        , 0.        ,\n",
       "       0.        ])"
      ]
     },
     "execution_count": 68,
     "metadata": {},
     "output_type": "execute_result"
    }
   ],
   "source": [
    "sklearn.metrics.f1_score(y_true, pred_values3, average=None)"
   ]
  }
 ],
 "metadata": {
  "kernelspec": {
   "display_name": "Python 3 (ipykernel)",
   "language": "python",
   "name": "python3"
  },
  "language_info": {
   "codemirror_mode": {
    "name": "ipython",
    "version": 3
   },
   "file_extension": ".py",
   "mimetype": "text/x-python",
   "name": "python",
   "nbconvert_exporter": "python",
   "pygments_lexer": "ipython3",
   "version": "3.10.10"
  }
 },
 "nbformat": 4,
 "nbformat_minor": 5
}
