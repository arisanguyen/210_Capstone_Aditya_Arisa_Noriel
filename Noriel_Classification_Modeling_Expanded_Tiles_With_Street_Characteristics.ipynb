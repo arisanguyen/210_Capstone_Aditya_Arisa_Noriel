{
  "cells": [
    {
      "cell_type": "code",
      "execution_count": 37,
      "id": "356025b8",
      "metadata": {
        "id": "356025b8",
        "colab": {
          "base_uri": "https://localhost:8080/"
        },
        "outputId": "ad299436-6c43-4241-c5e7-ea118149b418"
      },
      "outputs": [
        {
          "output_type": "stream",
          "name": "stdout",
          "text": [
            "Drive already mounted at /content/drive/; to attempt to forcibly remount, call drive.mount(\"/content/drive/\", force_remount=True).\n"
          ]
        }
      ],
      "source": [
        "import json\n",
        "import math\n",
        "import os\n",
        "import requests\n",
        "import scipy\n",
        "import tifffile\n",
        "\n",
        "import matplotlib.pyplot as plt\n",
        "import numpy as np\n",
        "import pandas as pd\n",
        "import seaborn as sns\n",
        "import tensorflow as tf\n",
        "\n",
        "from datetime import datetime as dt\n",
        "from scipy import stats as st\n",
        "from sklearn.model_selection import train_test_split\n",
        "from tensorflow import keras\n",
        "from tensorflow.keras import layers\n",
        "from tensorflow.keras import activations\n",
        "from tensorflow.keras.layers import concatenate\n",
        "from keras import metrics\n",
        "from keras.models import Sequential\n",
        "from keras.layers import Activation, Dense\n",
        "\n",
        "from google.colab import drive\n",
        "from google.colab import files\n",
        "drive.mount('/content/drive/')"
      ]
    },
    {
      "cell_type": "markdown",
      "source": [
        "**Read Tiles Dataset**"
      ],
      "metadata": {
        "id": "9PlQ11UpWoQP"
      },
      "id": "9PlQ11UpWoQP"
    },
    {
      "cell_type": "code",
      "execution_count": 38,
      "id": "f3693092",
      "metadata": {
        "id": "f3693092"
      },
      "outputs": [],
      "source": [
        "tiles = pd.read_csv(r'/content/drive/MyDrive/capstone/Tiles_expanded_balanced.csv')"
      ]
    },
    {
      "cell_type": "code",
      "source": [
        "tiles.head(5)"
      ],
      "metadata": {
        "id": "_uv-sGI6CMZb",
        "colab": {
          "base_uri": "https://localhost:8080/",
          "height": 288
        },
        "outputId": "baaf9219-d663-4823-cbf1-004f2a8d200a"
      },
      "id": "_uv-sGI6CMZb",
      "execution_count": 39,
      "outputs": [
        {
          "output_type": "execute_result",
          "data": {
            "text/plain": [
              "   Unnamed: 0  Tile_ID       Lat1       Lat2       Long1       Long2  \\\n",
              "0        1373     1373  37.719094  37.719998 -122.389033 -122.390173   \n",
              "1        2411     2411  37.726323  37.727227 -122.401575 -122.402715   \n",
              "2        9047     9047  37.776925  37.777829 -122.409555 -122.410695   \n",
              "3        8903     8903  37.775118  37.776021 -122.499624 -122.500765   \n",
              "4       10938    10938  37.793190  37.794094 -122.435778 -122.436918   \n",
              "\n",
              "     Mid_lat    Mid_long  Stop_Signs  Bus_stop  Paving  Collisions_Future  \\\n",
              "0  37.719546 -122.389603         8.0       2.0     2.0                1.0   \n",
              "1  37.726775 -122.402145         1.0       0.0     0.0                0.0   \n",
              "2  37.777377 -122.410125         0.0       0.0     0.0                1.0   \n",
              "3  37.775570 -122.500195         4.0       2.0     0.0                0.0   \n",
              "4  37.793642 -122.436348         4.0       1.0     0.0                0.0   \n",
              "\n",
              "   Collisions_Historical  Collision_binary_historical  Collision_binary_future  \n",
              "0                    1.0                            1                        1  \n",
              "1                    1.0                            1                        0  \n",
              "2                    1.0                            1                        1  \n",
              "3                    1.0                            1                        0  \n",
              "4                    1.0                            1                        0  "
            ],
            "text/html": [
              "\n",
              "  <div id=\"df-7028b526-2fcf-49b6-a944-b85ec564f277\">\n",
              "    <div class=\"colab-df-container\">\n",
              "      <div>\n",
              "<style scoped>\n",
              "    .dataframe tbody tr th:only-of-type {\n",
              "        vertical-align: middle;\n",
              "    }\n",
              "\n",
              "    .dataframe tbody tr th {\n",
              "        vertical-align: top;\n",
              "    }\n",
              "\n",
              "    .dataframe thead th {\n",
              "        text-align: right;\n",
              "    }\n",
              "</style>\n",
              "<table border=\"1\" class=\"dataframe\">\n",
              "  <thead>\n",
              "    <tr style=\"text-align: right;\">\n",
              "      <th></th>\n",
              "      <th>Unnamed: 0</th>\n",
              "      <th>Tile_ID</th>\n",
              "      <th>Lat1</th>\n",
              "      <th>Lat2</th>\n",
              "      <th>Long1</th>\n",
              "      <th>Long2</th>\n",
              "      <th>Mid_lat</th>\n",
              "      <th>Mid_long</th>\n",
              "      <th>Stop_Signs</th>\n",
              "      <th>Bus_stop</th>\n",
              "      <th>Paving</th>\n",
              "      <th>Collisions_Future</th>\n",
              "      <th>Collisions_Historical</th>\n",
              "      <th>Collision_binary_historical</th>\n",
              "      <th>Collision_binary_future</th>\n",
              "    </tr>\n",
              "  </thead>\n",
              "  <tbody>\n",
              "    <tr>\n",
              "      <th>0</th>\n",
              "      <td>1373</td>\n",
              "      <td>1373</td>\n",
              "      <td>37.719094</td>\n",
              "      <td>37.719998</td>\n",
              "      <td>-122.389033</td>\n",
              "      <td>-122.390173</td>\n",
              "      <td>37.719546</td>\n",
              "      <td>-122.389603</td>\n",
              "      <td>8.0</td>\n",
              "      <td>2.0</td>\n",
              "      <td>2.0</td>\n",
              "      <td>1.0</td>\n",
              "      <td>1.0</td>\n",
              "      <td>1</td>\n",
              "      <td>1</td>\n",
              "    </tr>\n",
              "    <tr>\n",
              "      <th>1</th>\n",
              "      <td>2411</td>\n",
              "      <td>2411</td>\n",
              "      <td>37.726323</td>\n",
              "      <td>37.727227</td>\n",
              "      <td>-122.401575</td>\n",
              "      <td>-122.402715</td>\n",
              "      <td>37.726775</td>\n",
              "      <td>-122.402145</td>\n",
              "      <td>1.0</td>\n",
              "      <td>0.0</td>\n",
              "      <td>0.0</td>\n",
              "      <td>0.0</td>\n",
              "      <td>1.0</td>\n",
              "      <td>1</td>\n",
              "      <td>0</td>\n",
              "    </tr>\n",
              "    <tr>\n",
              "      <th>2</th>\n",
              "      <td>9047</td>\n",
              "      <td>9047</td>\n",
              "      <td>37.776925</td>\n",
              "      <td>37.777829</td>\n",
              "      <td>-122.409555</td>\n",
              "      <td>-122.410695</td>\n",
              "      <td>37.777377</td>\n",
              "      <td>-122.410125</td>\n",
              "      <td>0.0</td>\n",
              "      <td>0.0</td>\n",
              "      <td>0.0</td>\n",
              "      <td>1.0</td>\n",
              "      <td>1.0</td>\n",
              "      <td>1</td>\n",
              "      <td>1</td>\n",
              "    </tr>\n",
              "    <tr>\n",
              "      <th>3</th>\n",
              "      <td>8903</td>\n",
              "      <td>8903</td>\n",
              "      <td>37.775118</td>\n",
              "      <td>37.776021</td>\n",
              "      <td>-122.499624</td>\n",
              "      <td>-122.500765</td>\n",
              "      <td>37.775570</td>\n",
              "      <td>-122.500195</td>\n",
              "      <td>4.0</td>\n",
              "      <td>2.0</td>\n",
              "      <td>0.0</td>\n",
              "      <td>0.0</td>\n",
              "      <td>1.0</td>\n",
              "      <td>1</td>\n",
              "      <td>0</td>\n",
              "    </tr>\n",
              "    <tr>\n",
              "      <th>4</th>\n",
              "      <td>10938</td>\n",
              "      <td>10938</td>\n",
              "      <td>37.793190</td>\n",
              "      <td>37.794094</td>\n",
              "      <td>-122.435778</td>\n",
              "      <td>-122.436918</td>\n",
              "      <td>37.793642</td>\n",
              "      <td>-122.436348</td>\n",
              "      <td>4.0</td>\n",
              "      <td>1.0</td>\n",
              "      <td>0.0</td>\n",
              "      <td>0.0</td>\n",
              "      <td>1.0</td>\n",
              "      <td>1</td>\n",
              "      <td>0</td>\n",
              "    </tr>\n",
              "  </tbody>\n",
              "</table>\n",
              "</div>\n",
              "      <button class=\"colab-df-convert\" onclick=\"convertToInteractive('df-7028b526-2fcf-49b6-a944-b85ec564f277')\"\n",
              "              title=\"Convert this dataframe to an interactive table.\"\n",
              "              style=\"display:none;\">\n",
              "        \n",
              "  <svg xmlns=\"http://www.w3.org/2000/svg\" height=\"24px\"viewBox=\"0 0 24 24\"\n",
              "       width=\"24px\">\n",
              "    <path d=\"M0 0h24v24H0V0z\" fill=\"none\"/>\n",
              "    <path d=\"M18.56 5.44l.94 2.06.94-2.06 2.06-.94-2.06-.94-.94-2.06-.94 2.06-2.06.94zm-11 1L8.5 8.5l.94-2.06 2.06-.94-2.06-.94L8.5 2.5l-.94 2.06-2.06.94zm10 10l.94 2.06.94-2.06 2.06-.94-2.06-.94-.94-2.06-.94 2.06-2.06.94z\"/><path d=\"M17.41 7.96l-1.37-1.37c-.4-.4-.92-.59-1.43-.59-.52 0-1.04.2-1.43.59L10.3 9.45l-7.72 7.72c-.78.78-.78 2.05 0 2.83L4 21.41c.39.39.9.59 1.41.59.51 0 1.02-.2 1.41-.59l7.78-7.78 2.81-2.81c.8-.78.8-2.07 0-2.86zM5.41 20L4 18.59l7.72-7.72 1.47 1.35L5.41 20z\"/>\n",
              "  </svg>\n",
              "      </button>\n",
              "      \n",
              "  <style>\n",
              "    .colab-df-container {\n",
              "      display:flex;\n",
              "      flex-wrap:wrap;\n",
              "      gap: 12px;\n",
              "    }\n",
              "\n",
              "    .colab-df-convert {\n",
              "      background-color: #E8F0FE;\n",
              "      border: none;\n",
              "      border-radius: 50%;\n",
              "      cursor: pointer;\n",
              "      display: none;\n",
              "      fill: #1967D2;\n",
              "      height: 32px;\n",
              "      padding: 0 0 0 0;\n",
              "      width: 32px;\n",
              "    }\n",
              "\n",
              "    .colab-df-convert:hover {\n",
              "      background-color: #E2EBFA;\n",
              "      box-shadow: 0px 1px 2px rgba(60, 64, 67, 0.3), 0px 1px 3px 1px rgba(60, 64, 67, 0.15);\n",
              "      fill: #174EA6;\n",
              "    }\n",
              "\n",
              "    [theme=dark] .colab-df-convert {\n",
              "      background-color: #3B4455;\n",
              "      fill: #D2E3FC;\n",
              "    }\n",
              "\n",
              "    [theme=dark] .colab-df-convert:hover {\n",
              "      background-color: #434B5C;\n",
              "      box-shadow: 0px 1px 3px 1px rgba(0, 0, 0, 0.15);\n",
              "      filter: drop-shadow(0px 1px 2px rgba(0, 0, 0, 0.3));\n",
              "      fill: #FFFFFF;\n",
              "    }\n",
              "  </style>\n",
              "\n",
              "      <script>\n",
              "        const buttonEl =\n",
              "          document.querySelector('#df-7028b526-2fcf-49b6-a944-b85ec564f277 button.colab-df-convert');\n",
              "        buttonEl.style.display =\n",
              "          google.colab.kernel.accessAllowed ? 'block' : 'none';\n",
              "\n",
              "        async function convertToInteractive(key) {\n",
              "          const element = document.querySelector('#df-7028b526-2fcf-49b6-a944-b85ec564f277');\n",
              "          const dataTable =\n",
              "            await google.colab.kernel.invokeFunction('convertToInteractive',\n",
              "                                                     [key], {});\n",
              "          if (!dataTable) return;\n",
              "\n",
              "          const docLinkHtml = 'Like what you see? Visit the ' +\n",
              "            '<a target=\"_blank\" href=https://colab.research.google.com/notebooks/data_table.ipynb>data table notebook</a>'\n",
              "            + ' to learn more about interactive tables.';\n",
              "          element.innerHTML = '';\n",
              "          dataTable['output_type'] = 'display_data';\n",
              "          await google.colab.output.renderOutput(dataTable, element);\n",
              "          const docLink = document.createElement('div');\n",
              "          docLink.innerHTML = docLinkHtml;\n",
              "          element.appendChild(docLink);\n",
              "        }\n",
              "      </script>\n",
              "    </div>\n",
              "  </div>\n",
              "  "
            ]
          },
          "metadata": {},
          "execution_count": 39
        }
      ]
    },
    {
      "cell_type": "code",
      "source": [
        "tiles.columns"
      ],
      "metadata": {
        "colab": {
          "base_uri": "https://localhost:8080/"
        },
        "id": "kD2PJ21te9l1",
        "outputId": "6fa32229-0a7f-4991-ae47-8423c4bd89dd"
      },
      "id": "kD2PJ21te9l1",
      "execution_count": 40,
      "outputs": [
        {
          "output_type": "execute_result",
          "data": {
            "text/plain": [
              "Index(['Unnamed: 0', 'Tile_ID', 'Lat1', 'Lat2', 'Long1', 'Long2', 'Mid_lat',\n",
              "       'Mid_long', 'Stop_Signs', 'Bus_stop', 'Paving', 'Collisions_Future',\n",
              "       'Collisions_Historical', 'Collision_binary_historical',\n",
              "       'Collision_binary_future'],\n",
              "      dtype='object')"
            ]
          },
          "metadata": {},
          "execution_count": 40
        }
      ]
    },
    {
      "cell_type": "code",
      "source": [
        "#tiles column names\n",
        "columns = ['Tile_ID', 'Lat1', 'Lat2', 'Long1', 'Long2', 'Mid_lat', 'Mid_long',\n",
        "       'Stop_Signs', 'Bus_stop', 'Paving', 'Future', 'Historical',\n",
        "       'Collision_binary_historical', 'Collision_binary_future']\n",
        "\n",
        "# x: 'Tile_ID', 'Lat1', 'Lat2', 'Long1', 'Long2', 'Mid_lat', 'Mid_long',\n",
        "#    'Stop_Signs', 'Bus_stop', 'Paving', 'Future', 'Historical',\n",
        "#    'Collision_binary_historical'\n",
        "# y: 'Collision_binary_future'\n",
        "\n",
        "X = tiles[['Tile_ID', 'Lat1', 'Lat2', 'Long1', 'Long2', 'Mid_lat', 'Mid_long',\n",
        "       'Stop_Signs', 'Bus_stop', 'Paving', 'Collisions_Future', 'Collisions_Historical',\n",
        "       'Collision_binary_historical']]\n",
        "y = tiles[['Collision_binary_future']]\n",
        "X_train, X_test, y_train, y_test = train_test_split(X, y, test_size=0.5)\n",
        "\n",
        "X_train, X_train_lr, y_train, y_train_lr = train_test_split(X_train,\n",
        "                                                            y_train,\n",
        "                                                            test_size=0.5)"
      ],
      "metadata": {
        "id": "4u9G05v5S9pY"
      },
      "id": "4u9G05v5S9pY",
      "execution_count": 41,
      "outputs": []
    },
    {
      "cell_type": "code",
      "source": [
        "#tiles.rename(columns={'Collision_binary_future': 'label'})"
      ],
      "metadata": {
        "id": "yKM_lwRxoi6y"
      },
      "id": "yKM_lwRxoi6y",
      "execution_count": 42,
      "outputs": []
    },
    {
      "cell_type": "markdown",
      "source": [
        "**RANDOM FOREST**"
      ],
      "metadata": {
        "id": "DHaWBokHqOSP"
      },
      "id": "DHaWBokHqOSP"
    },
    {
      "cell_type": "markdown",
      "source": [
        "https://www.dlology.com/blog/simple-guide-on-how-to-generate-roc-plot-for-keras-classifier/"
      ],
      "metadata": {
        "id": "nFxH55lepz-d"
      },
      "id": "nFxH55lepz-d"
    },
    {
      "cell_type": "code",
      "source": [
        "from keras.models import Sequential\n",
        "from keras.layers import Dense\n",
        "\n",
        "def build_model():\n",
        "    model = Sequential()\n",
        "    model.add(Dense(20, input_dim=13, activation='relu'))\n",
        "    model.add(Dense(40, activation='relu'))\n",
        "    model.add(Dense(1, activation='sigmoid'))\n",
        "    # Compile model\n",
        "    model.compile(loss='binary_crossentropy', optimizer='adam', metrics=['accuracy'])\n",
        "    return model\n",
        "\n",
        "from keras.wrappers.scikit_learn import KerasClassifier\n",
        "keras_model = build_model()\n",
        "keras_model.fit(X_train, y_train, epochs=20, batch_size=100, verbose=1)"
      ],
      "metadata": {
        "colab": {
          "base_uri": "https://localhost:8080/"
        },
        "id": "zVH2AbyOWgK1",
        "outputId": "e93eb8e7-9370-4c53-945e-17ee0a35b597"
      },
      "id": "zVH2AbyOWgK1",
      "execution_count": 43,
      "outputs": [
        {
          "output_type": "stream",
          "name": "stdout",
          "text": [
            "Epoch 1/20\n",
            "50/50 [==============================] - 1s 3ms/step - loss: 125.2054 - accuracy: 0.5335\n",
            "Epoch 2/20\n",
            "50/50 [==============================] - 0s 3ms/step - loss: 5.8099 - accuracy: 0.5860\n",
            "Epoch 3/20\n",
            "50/50 [==============================] - 0s 3ms/step - loss: 4.8516 - accuracy: 0.5985\n",
            "Epoch 4/20\n",
            "50/50 [==============================] - 0s 3ms/step - loss: 2.1726 - accuracy: 0.5969\n",
            "Epoch 5/20\n",
            "50/50 [==============================] - 0s 3ms/step - loss: 1.7973 - accuracy: 0.6595\n",
            "Epoch 6/20\n",
            "50/50 [==============================] - 0s 4ms/step - loss: 4.2188 - accuracy: 0.5953\n",
            "Epoch 7/20\n",
            "50/50 [==============================] - 0s 3ms/step - loss: 3.9348 - accuracy: 0.5985\n",
            "Epoch 8/20\n",
            "50/50 [==============================] - 0s 3ms/step - loss: 1.0798 - accuracy: 0.6873\n",
            "Epoch 9/20\n",
            "50/50 [==============================] - 0s 3ms/step - loss: 1.7982 - accuracy: 0.6621\n",
            "Epoch 10/20\n",
            "50/50 [==============================] - 0s 3ms/step - loss: 3.8361 - accuracy: 0.6111\n",
            "Epoch 11/20\n",
            "50/50 [==============================] - 0s 3ms/step - loss: 4.0556 - accuracy: 0.6309\n",
            "Epoch 12/20\n",
            "50/50 [==============================] - 0s 3ms/step - loss: 1.8180 - accuracy: 0.6820\n",
            "Epoch 13/20\n",
            "50/50 [==============================] - 0s 3ms/step - loss: 2.7109 - accuracy: 0.6956\n",
            "Epoch 14/20\n",
            "50/50 [==============================] - 0s 3ms/step - loss: 3.3258 - accuracy: 0.6376\n",
            "Epoch 15/20\n",
            "50/50 [==============================] - 0s 3ms/step - loss: 1.4709 - accuracy: 0.7575\n",
            "Epoch 16/20\n",
            "50/50 [==============================] - 0s 3ms/step - loss: 0.7594 - accuracy: 0.7604\n",
            "Epoch 17/20\n",
            "50/50 [==============================] - 0s 3ms/step - loss: 1.2864 - accuracy: 0.7063\n",
            "Epoch 18/20\n",
            "50/50 [==============================] - 0s 3ms/step - loss: 0.8837 - accuracy: 0.7665\n",
            "Epoch 19/20\n",
            "50/50 [==============================] - 0s 3ms/step - loss: 1.6123 - accuracy: 0.7249\n",
            "Epoch 20/20\n",
            "50/50 [==============================] - 0s 3ms/step - loss: 0.9952 - accuracy: 0.7598\n"
          ]
        },
        {
          "output_type": "execute_result",
          "data": {
            "text/plain": [
              "<keras.callbacks.History at 0x7fb69472ed90>"
            ]
          },
          "metadata": {},
          "execution_count": 43
        }
      ]
    },
    {
      "cell_type": "code",
      "source": [
        "from sklearn.metrics import roc_curve\n",
        "y_pred_keras = keras_model.predict(X_test).ravel()\n",
        "fpr_keras, tpr_keras, thresholds_keras = roc_curve(y_test, y_pred_keras)"
      ],
      "metadata": {
        "colab": {
          "base_uri": "https://localhost:8080/"
        },
        "id": "F0fAQISjRmIs",
        "outputId": "c88fd7ff-b787-4e44-be87-4cd398757bfe"
      },
      "id": "F0fAQISjRmIs",
      "execution_count": 44,
      "outputs": [
        {
          "output_type": "stream",
          "name": "stdout",
          "text": [
            "309/309 [==============================] - 0s 1ms/step\n"
          ]
        }
      ]
    },
    {
      "cell_type": "code",
      "source": [
        "#from sklearn.metrics import auc\n",
        "#auc_keras = auc(fpr_keras, tpr_keras)"
      ],
      "metadata": {
        "id": "aFGUer7_R6PR"
      },
      "id": "aFGUer7_R6PR",
      "execution_count": 45,
      "outputs": []
    },
    {
      "cell_type": "code",
      "source": [
        "from sklearn.ensemble import RandomForestClassifier\n",
        "# Supervised transformation based on random forests\n",
        "rf = RandomForestClassifier(max_depth=3, n_estimators=10)\n",
        "rf.fit(X_train, y_train)\n",
        "\n",
        "y_pred_rf = rf.predict_proba(X_test)[:, 1]\n",
        "fpr_rf, tpr_rf, thresholds_rf = roc_curve(y_test, y_pred_rf)\n",
        "auc_rf = auc(fpr_rf, tpr_rf)"
      ],
      "metadata": {
        "colab": {
          "base_uri": "https://localhost:8080/"
        },
        "id": "KU1R-sWXR7V7",
        "outputId": "64ce6d6d-1b3d-494e-a068-1868e68e97da"
      },
      "id": "KU1R-sWXR7V7",
      "execution_count": 46,
      "outputs": [
        {
          "output_type": "stream",
          "name": "stderr",
          "text": [
            "<ipython-input-46-c475c0c56d17>:4: DataConversionWarning: A column-vector y was passed when a 1d array was expected. Please change the shape of y to (n_samples,), for example using ravel().\n",
            "  rf.fit(X_train, y_train)\n"
          ]
        }
      ]
    },
    {
      "cell_type": "code",
      "source": [
        "plt.figure(1)\n",
        "plt.plot([0, 1], [0, 1], 'k--')\n",
        "plt.plot(fpr_keras, tpr_keras, label='Keras (area = {:.3f})'.format(auc_keras))\n",
        "plt.plot(fpr_rf, tpr_rf, label='RF (area = {:.3f})'.format(auc_rf))\n",
        "plt.xlabel('False positive rate')\n",
        "plt.ylabel('True positive rate')\n",
        "plt.title('ROC curve')\n",
        "plt.legend(loc='best')\n",
        "plt.show()\n",
        "# Zoom in view of the upper left corner.\n",
        "plt.figure(2)\n",
        "plt.xlim(0, 0.2)\n",
        "plt.ylim(0.8, 1)\n",
        "plt.plot([0, 1], [0, 1], 'k--')\n",
        "plt.plot(fpr_keras, tpr_keras, label='Keras (area = {:.3f})'.format(auc_keras))\n",
        "plt.plot(fpr_rf, tpr_rf, label='RF (area = {:.3f})'.format(auc_rf))\n",
        "plt.xlabel('False positive rate')\n",
        "plt.ylabel('True positive rate')\n",
        "plt.title('ROC curve (zoomed in at top left)')\n",
        "plt.legend(loc='best')\n",
        "plt.show()"
      ],
      "metadata": {
        "colab": {
          "base_uri": "https://localhost:8080/",
          "height": 573
        },
        "id": "IOUP-eUySZ-I",
        "outputId": "79fef9b0-afcb-45ef-bdbd-b16a1953af92"
      },
      "id": "IOUP-eUySZ-I",
      "execution_count": 47,
      "outputs": [
        {
          "output_type": "display_data",
          "data": {
            "text/plain": [
              "<Figure size 432x288 with 1 Axes>"
            ],
            "image/png": "[encoded data removed]"
          },
          "metadata": {
            "needs_background": "light"
          }
        },
        {
          "output_type": "display_data",
          "data": {
            "text/plain": [
              "<Figure size 432x288 with 1 Axes>"
            ],
            "image/png": "[encoded data removed]"
          },
          "metadata": {
            "needs_background": "light"
          }
        }
      ]
    },
    {
      "cell_type": "markdown",
      "source": [
        "**LOGISTIC REGRESSION**"
      ],
      "metadata": {
        "id": "F1bPtiCDrVFw"
      },
      "id": "F1bPtiCDrVFw"
    },
    {
      "cell_type": "code",
      "source": [
        "from sklearn.linear_model import LogisticRegression\n",
        "# Supervised transformation based on random forests\n",
        "\n",
        "logr = LogisticRegression(random_state=0, max_iter=1000)\n",
        "#rf = RandomForestClassifier(max_depth=3, n_estimators=10)\n",
        "logr.fit(X_train, y_train)\n",
        "\n",
        "y_pred_logr = logr.predict_proba(X_test)[:, 1]\n",
        "fpr_logr, tpr_logr, thresholds_logr = roc_curve(y_test, y_pred_logr)\n",
        "auc_logr = auc(fpr_logr, tpr_logr)"
      ],
      "metadata": {
        "colab": {
          "base_uri": "https://localhost:8080/"
        },
        "id": "j-0WdOutq73w",
        "outputId": "e32000c7-d39d-42af-826c-78d87a99ea58"
      },
      "id": "j-0WdOutq73w",
      "execution_count": 48,
      "outputs": [
        {
          "output_type": "stream",
          "name": "stderr",
          "text": [
            "/usr/local/lib/python3.8/dist-packages/sklearn/utils/validation.py:993: DataConversionWarning: A column-vector y was passed when a 1d array was expected. Please change the shape of y to (n_samples, ), for example using ravel().\n",
            "  y = column_or_1d(y, warn=True)\n"
          ]
        }
      ]
    },
    {
      "cell_type": "code",
      "source": [
        "plt.figure(1)\n",
        "plt.plot([0, 1], [0, 1], 'k--')\n",
        "plt.plot(fpr_keras, tpr_keras, label='Keras (area = {:.3f})'.format(auc_keras))\n",
        "plt.plot(fpr_logr, tpr_logr, label='LogR (area = {:.3f})'.format(auc_logr))\n",
        "plt.xlabel('False positive rate')\n",
        "plt.ylabel('True positive rate')\n",
        "plt.title('ROC curve')\n",
        "plt.legend(loc='best')\n",
        "plt.show()\n",
        "# Zoom in view of the upper left corner.\n",
        "plt.figure(2)\n",
        "plt.xlim(0, 0.2)\n",
        "plt.ylim(0.8, 1)\n",
        "plt.plot([0, 1], [0, 1], 'k--')\n",
        "plt.plot(fpr_keras, tpr_keras, label='Keras (area = {:.3f})'.format(auc_keras))\n",
        "plt.plot(fpr_logr, tpr_logr, label='logr (area = {:.3f})'.format(auc_logr))\n",
        "plt.xlabel('False positive rate')\n",
        "plt.ylabel('True positive rate')\n",
        "plt.title('ROC curve (zoomed in at top left)')\n",
        "plt.legend(loc='best')\n",
        "plt.show()"
      ],
      "metadata": {
        "colab": {
          "base_uri": "https://localhost:8080/",
          "height": 573
        },
        "id": "DXyAchLBrx6g",
        "outputId": "00c26a30-60d4-4135-f4b3-14e3377d81d0"
      },
      "id": "DXyAchLBrx6g",
      "execution_count": 49,
      "outputs": [
        {
          "output_type": "display_data",
          "data": {
            "text/plain": [
              "<Figure size 432x288 with 1 Axes>"
            ],
            "image/png": "[encoded data removed]"
          },
          "metadata": {
            "needs_background": "light"
          }
        },
        {
          "output_type": "display_data",
          "data": {
            "text/plain": [
              "<Figure size 432x288 with 1 Axes>"
            ],
            "image/png": "[encoded data removed]"
          },
          "metadata": {
            "needs_background": "light"
          }
        }
      ]
    },
    {
      "cell_type": "markdown",
      "source": [
        "**LINEAR REGRESSION**"
      ],
      "metadata": {
        "id": "ssoDmUGclYHK"
      },
      "id": "ssoDmUGclYHK"
    },
    {
      "cell_type": "code",
      "source": [
        "def create_linear_model():\n",
        "\n",
        "    input = tf.keras.layers.Input(shape=(13,))\n",
        "    \n",
        "    #input_t = tf.data.Dataset.from_tensor_slices(input.to_dict(orient=\"list\"))\n",
        "\n",
        "   # normalized = layers.Normalization(input_shape=[5,], axis=None)(input)\n",
        "\n",
        "   #x = normalizer(input_t)\n",
        "\n",
        "    outputs = layers.Dense(1)(input)\n",
        "    \n",
        "    linear_model = tf.keras.models.Model(inputs=input, outputs=outputs, name=\"linear_model\")\n",
        "\n",
        "    new_model = Sequential()\n",
        "    new_model.add(linear_model)\n",
        "    new_model.add(Dense(1,activation='sigmoid'))\n",
        "\n",
        "    new_model.summary()\n",
        "\n",
        "    new_model.compile(\n",
        "        optimizer=tf.keras.optimizers.Adam(learning_rate=0.001),\n",
        "        loss='mean_absolute_error' ,\n",
        "        metrics = [tf.keras.metrics.Accuracy()]\n",
        "        )\n",
        "    \n",
        "    return new_model\n",
        "\n",
        "linear_model = create_linear_model()\n",
        "\n",
        "from keras.wrappers.scikit_learn import KerasClassifier\n",
        "keras_model = create_linear_model()\n",
        "keras_model.fit(df_train[['Tile_ID', 'Lat1', 'Lat2', 'Long1', 'Long2', 'Mid_lat', 'Mid_long',\n",
        "       'Stop_Signs', 'Bus_stop', 'Paving', 'Future', 'Historical',\n",
        "       'Collision_binary_historical']], df_train[['Collision_binary_future']], epochs=20, batch_size=100, verbose=1)\n",
        "\n",
        "#history = linear_model.fit(\n",
        "#    np.asarray(df_train[['Tile_ID', 'Lat1', 'Lat2', 'Long1', 'Long2', 'Mid_lat', 'Mid_long',\n",
        "#       'Stop_Signs', 'Bus_stop', 'Paving', 'Future', 'Historical',\n",
        "#       'Collision_binary_historical']]).astype('float32'),\n",
        "#    df_train[['Collision_binary_future']],\n",
        "#    epochs=20,\n",
        "    # Suppress logging.\n",
        "#     verbose=1,\n",
        "    # Calculate validation results on 20% of the training data.\n",
        "#    validation_split = 0.2)"
      ],
      "metadata": {
        "id": "XVcTeQQYlOsC",
        "colab": {
          "base_uri": "https://localhost:8080/",
          "height": 704
        },
        "outputId": "2128ee47-2c29-4c56-e3f2-7ef0a131ad91"
      },
      "id": "XVcTeQQYlOsC",
      "execution_count": 51,
      "outputs": [
        {
          "output_type": "stream",
          "name": "stdout",
          "text": [
            "Model: \"sequential_4\"\n",
            "_________________________________________________________________\n",
            " Layer (type)                Output Shape              Param #   \n",
            "=================================================================\n",
            " linear_model (Functional)   (None, 1)                 14        \n",
            "                                                                 \n",
            " dense_11 (Dense)            (None, 1)                 2         \n",
            "                                                                 \n",
            "=================================================================\n",
            "Total params: 16\n",
            "Trainable params: 16\n",
            "Non-trainable params: 0\n",
            "_________________________________________________________________\n",
            "Model: \"sequential_5\"\n",
            "_________________________________________________________________\n",
            " Layer (type)                Output Shape              Param #   \n",
            "=================================================================\n",
            " linear_model (Functional)   (None, 1)                 14        \n",
            "                                                                 \n",
            " dense_13 (Dense)            (None, 1)                 2         \n",
            "                                                                 \n",
            "=================================================================\n",
            "Total params: 16\n",
            "Trainable params: 16\n",
            "Non-trainable params: 0\n",
            "_________________________________________________________________\n"
          ]
        },
        {
          "output_type": "error",
          "ename": "NameError",
          "evalue": "ignored",
          "traceback": [
            "\u001b[0;31m---------------------------------------------------------------------------\u001b[0m",
            "\u001b[0;31mNameError\u001b[0m                                 Traceback (most recent call last)",
            "\u001b[0;32m<ipython-input-51-d59afd966c54>\u001b[0m in \u001b[0;36m<module>\u001b[0;34m\u001b[0m\n\u001b[1;32m     31\u001b[0m \u001b[0;32mfrom\u001b[0m \u001b[0mkeras\u001b[0m\u001b[0;34m.\u001b[0m\u001b[0mwrappers\u001b[0m\u001b[0;34m.\u001b[0m\u001b[0mscikit_learn\u001b[0m \u001b[0;32mimport\u001b[0m \u001b[0mKerasClassifier\u001b[0m\u001b[0;34m\u001b[0m\u001b[0;34m\u001b[0m\u001b[0m\n\u001b[1;32m     32\u001b[0m \u001b[0mkeras_model\u001b[0m \u001b[0;34m=\u001b[0m \u001b[0mcreate_linear_model\u001b[0m\u001b[0;34m(\u001b[0m\u001b[0;34m)\u001b[0m\u001b[0;34m\u001b[0m\u001b[0;34m\u001b[0m\u001b[0m\n\u001b[0;32m---> 33\u001b[0;31m keras_model.fit(df_train[['Tile_ID', 'Lat1', 'Lat2', 'Long1', 'Long2', 'Mid_lat', 'Mid_long',\n\u001b[0m\u001b[1;32m     34\u001b[0m        \u001b[0;34m'Stop_Signs'\u001b[0m\u001b[0;34m,\u001b[0m \u001b[0;34m'Bus_stop'\u001b[0m\u001b[0;34m,\u001b[0m \u001b[0;34m'Paving'\u001b[0m\u001b[0;34m,\u001b[0m \u001b[0;34m'Future'\u001b[0m\u001b[0;34m,\u001b[0m \u001b[0;34m'Historical'\u001b[0m\u001b[0;34m,\u001b[0m\u001b[0;34m\u001b[0m\u001b[0;34m\u001b[0m\u001b[0m\n\u001b[1;32m     35\u001b[0m        'Collision_binary_historical']], df_train[['Collision_binary_future']], epochs=20, batch_size=100, verbose=1)\n",
            "\u001b[0;31mNameError\u001b[0m: name 'df_train' is not defined"
          ]
        }
      ]
    },
    {
      "cell_type": "code",
      "source": [
        "def plot_loss(history):\n",
        "    #mp.plot(history.history['loss'], label='loss')\n",
        "    #mp.plot(history.history['val_loss'], label='val_loss')\n",
        "    mp.plot(history.history['accuracy'], label='accuracy')\n",
        "    mp.plot(history.history['val_accuracy'], label='val_accuracy')\n",
        "    mp.ylim([min(history.history['accuracy']), max(history.history['accuracy'])])\n",
        "    mp.xlabel('Epoch')\n",
        "    mp.ylabel('Loss')\n",
        "    mp.legend()\n",
        "    mp.grid(True)"
      ],
      "metadata": {
        "id": "mSPyxw0oMVP_"
      },
      "id": "mSPyxw0oMVP_",
      "execution_count": 52,
      "outputs": []
    },
    {
      "cell_type": "code",
      "source": [
        "plot_loss(history)"
      ],
      "metadata": {
        "id": "yYp8dTsrn-VJ",
        "colab": {
          "base_uri": "https://localhost:8080/",
          "height": 169
        },
        "outputId": "343bb829-bacc-4440-c153-592c9144ff0e"
      },
      "id": "yYp8dTsrn-VJ",
      "execution_count": 53,
      "outputs": [
        {
          "output_type": "error",
          "ename": "NameError",
          "evalue": "ignored",
          "traceback": [
            "\u001b[0;31m---------------------------------------------------------------------------\u001b[0m",
            "\u001b[0;31mNameError\u001b[0m                                 Traceback (most recent call last)",
            "\u001b[0;32m<ipython-input-53-a5d8c9c0dab5>\u001b[0m in \u001b[0;36m<module>\u001b[0;34m\u001b[0m\n\u001b[0;32m----> 1\u001b[0;31m \u001b[0mplot_loss\u001b[0m\u001b[0;34m(\u001b[0m\u001b[0mhistory\u001b[0m\u001b[0;34m)\u001b[0m\u001b[0;34m\u001b[0m\u001b[0;34m\u001b[0m\u001b[0m\n\u001b[0m",
            "\u001b[0;31mNameError\u001b[0m: name 'history' is not defined"
          ]
        }
      ]
    },
    {
      "cell_type": "markdown",
      "source": [
        "**Linear Classifier**\n",
        "\n",
        "Source: https://www.guru99.com/linear-classifier-tensorflow.html"
      ],
      "metadata": {
        "id": "CMTTInKG0Boa"
      },
      "id": "CMTTInKG0Boa"
    },
    {
      "cell_type": "code",
      "source": [
        "df_train, df_test = train_test_split(tiles[columns], test_size=0.2)"
      ],
      "metadata": {
        "id": "A-Si4Fpkn2fA"
      },
      "id": "A-Si4Fpkn2fA",
      "execution_count": null,
      "outputs": []
    },
    {
      "cell_type": "code",
      "source": [
        "continuous_features = [tf.feature_column.numeric_column(k) for k in columns]"
      ],
      "metadata": {
        "id": "94o9_6bIj3_6"
      },
      "id": "94o9_6bIj3_6",
      "execution_count": null,
      "outputs": []
    },
    {
      "cell_type": "code",
      "source": [
        "#Source: https://www.guru99.com/linear-classifier-tensorflow.html\n",
        "model = tf.estimator.LinearClassifier(\n",
        "    n_classes = 2,\n",
        "    model_dir=\"ongoing/train\", \n",
        "    feature_columns=continuous_features)"
      ],
      "metadata": {
        "id": "SIV6Kkvse2c9"
      },
      "id": "SIV6Kkvse2c9",
      "execution_count": null,
      "outputs": []
    },
    {
      "cell_type": "code",
      "source": [
        "FEATURES = columns\n",
        "LABEL= 'Collision_binary_future'\n",
        "def get_input_fn(data_set, num_epochs=None, n_batch = 128, shuffle=True):\n",
        "    return tf.compat.v1.estimator.inputs.pandas_input_fn(\n",
        "       x=pd.DataFrame({k: data_set[k].values for k in FEATURES}),\n",
        "       y = pd.Series(data_set[LABEL].values),\n",
        "       batch_size=n_batch,   \n",
        "       num_epochs=num_epochs,\n",
        "       shuffle=shuffle)"
      ],
      "metadata": {
        "id": "mTKXiT8Dk2-U"
      },
      "id": "mTKXiT8Dk2-U",
      "execution_count": null,
      "outputs": []
    },
    {
      "cell_type": "code",
      "source": [
        "model.train(input_fn=get_input_fn(df_train, \n",
        "                                      num_epochs=None,\n",
        "                                      n_batch = 128,\n",
        "                                      shuffle=False),\n",
        "                                      steps=1000)"
      ],
      "metadata": {
        "id": "ndZzm7UdyY3s"
      },
      "id": "ndZzm7UdyY3s",
      "execution_count": null,
      "outputs": []
    },
    {
      "cell_type": "code",
      "source": [
        "model.evaluate(input_fn=get_input_fn(df_test, \n",
        "                                      num_epochs=1,\n",
        "                                      n_batch = 128,\n",
        "                                      shuffle=False),\n",
        "                                      steps=1000)"
      ],
      "metadata": {
        "id": "YewFHQ2lzO6k"
      },
      "id": "YewFHQ2lzO6k",
      "execution_count": null,
      "outputs": []
    },
    {
      "cell_type": "markdown",
      "source": [
        "**LOGISTIC REGRESSION**"
      ],
      "metadata": {
        "id": "0TqPtZG7lSIr"
      },
      "id": "0TqPtZG7lSIr"
    },
    {
      "cell_type": "code",
      "source": [
        "#from sklearn.preprocessing import LabelEncoder\n",
        "# split into input (X) and output (Y) variables\n",
        "x = tiles[columns].iloc[:,12].astype(float)\n",
        "y = tiles[columns].iloc[:,13].astype(float)\n",
        "# encode class values as integers\n",
        "#encoder = LabelEncoder()\n",
        "#encoder.fit(y)\n",
        "#encoded_Y = encoder.transform(y)\n",
        "#y = encoded_Y"
      ],
      "metadata": {
        "id": "TMHVvqWEEmZx"
      },
      "id": "TMHVvqWEEmZx",
      "execution_count": null,
      "outputs": []
    },
    {
      "cell_type": "code",
      "source": [
        "#x_train, x_test, y_train, y_test = train_test_split(x, y, stratify=y, \n",
        "#                                 test_size=0.2, shuffle=True, random_state=104)"
      ],
      "metadata": {
        "id": "ft9GVOucgusz"
      },
      "id": "ft9GVOucgusz",
      "execution_count": null,
      "outputs": []
    },
    {
      "cell_type": "code",
      "source": [
        "#x_train.head()\n",
        "#x_train.info()"
      ],
      "metadata": {
        "id": "8w01xcAkHM_a"
      },
      "id": "8w01xcAkHM_a",
      "execution_count": null,
      "outputs": []
    },
    {
      "cell_type": "code",
      "source": [
        "#x_test.head()\n",
        "#x_test.info()"
      ],
      "metadata": {
        "id": "Z_2RaXgJHVQv"
      },
      "id": "Z_2RaXgJHVQv",
      "execution_count": null,
      "outputs": []
    },
    {
      "cell_type": "code",
      "source": [
        "#y_train#.head()"
      ],
      "metadata": {
        "id": "sky4jvwSikLI"
      },
      "id": "sky4jvwSikLI",
      "execution_count": null,
      "outputs": []
    },
    {
      "cell_type": "code",
      "source": [
        "#y_test#.head()"
      ],
      "metadata": {
        "id": "pxC0ILqCij_2"
      },
      "id": "pxC0ILqCij_2",
      "execution_count": null,
      "outputs": []
    },
    {
      "cell_type": "code",
      "source": [
        "def build_model(learning_rate=0.01):\n",
        "  \"\"\"Build a TF logistic regression model using Keras.\n",
        "\n",
        "  Args:\n",
        "    learning_rate: The desired learning rate for SGD.\n",
        "\n",
        "  Returns:\n",
        "    model: A tf.keras model (graph).\n",
        "  \"\"\"\n",
        "  # This is not strictly necessary, but each time you build a model, TF adds\n",
        "  # new nodes (rather than overwriting), so the colab session can end up\n",
        "  # storing lots of copies of the graph when you only care about the most\n",
        "  # recent. Also, as there is some randomness built into training with SGD,\n",
        "  # setting a random seed ensures that results are the same on each identical\n",
        "  # training run.\n",
        "  tf.keras.backend.clear_session()\n",
        "  np.random.seed(0)\n",
        "  tf.random.set_seed(0)\n",
        "\n",
        "  # Build a model using keras.Sequential.\n",
        "  model = keras.Sequential()\n",
        "\n",
        "  # Keras layers can do pre-processing. This layer will take our 28x28 images\n",
        "  # and flatten them into vectors of size 784.\n",
        "  model.add(keras.layers.Flatten())\n",
        "  \n",
        "  # This layer constructs the linear set of parameters for each input feature\n",
        "  # (as well as a bias), and applies a sigmoid to the result. The result is\n",
        "  # binary logistic regression.\n",
        "  model.add(keras.layers.Dense(\n",
        "      units=1,                     # output dim (for binary classification)\n",
        "      use_bias=True,               # use a bias param\n",
        "      activation=\"sigmoid\"         # apply the sigmoid function!\n",
        "  ))\n",
        "\n",
        "  # Use the SGD optimizer as usual.\n",
        "  optimizer = tf.keras.optimizers.SGD(learning_rate=learning_rate)\n",
        "\n",
        "  # We specify the binary_crossentropy loss (equivalent to log loss).\n",
        "  # Notice that we are including 'binary accuracy' as one of the metrics that we\n",
        "  # ask Tensorflow to report when evaluating the model.\n",
        "  model.compile(loss='binary_crossentropy', \n",
        "                optimizer=optimizer, \n",
        "                metrics=[metrics.binary_accuracy])\n",
        "\n",
        "  return model"
      ],
      "metadata": {
        "id": "EZefrfr0Cpgp"
      },
      "id": "EZefrfr0Cpgp",
      "execution_count": null,
      "outputs": []
    },
    {
      "cell_type": "code",
      "source": [
        "model = build_model(learning_rate=0.01)\n",
        "\n",
        "# Fit the model.\n",
        "history = model.fit(\n",
        "  x = x_train,   # our binary training examples\n",
        "  y = y_train,   # corresponding binary labels\n",
        "  epochs=20,             # number of passes through the training data\n",
        "  batch_size=64,        # mini-batch size for SGD\n",
        "  validation_split=0.2, # use a fraction of the examples for validation\n",
        "  verbose=1             # display some progress output during training\n",
        "  )\n",
        "\n",
        "# Convert the return value into a DataFrame so we can see the train loss \n",
        "# and binary accuracy after every epoch.\n",
        "history_df = pd.DataFrame(history.history)\n",
        "display(history_df)"
      ],
      "metadata": {
        "id": "VlT2CrsuL7NX"
      },
      "id": "VlT2CrsuL7NX",
      "execution_count": null,
      "outputs": []
    },
    {
      "cell_type": "code",
      "source": [
        "def plot_loss(history):\n",
        "    mp.plot(history.history['loss'], label='loss')\n",
        "    mp.plot(history.history['val_loss'], label='val_loss')\n",
        "    #mp.plot(history.history['binary_accuracy'], label='binary_accuracy')\n",
        "    #mp.plot(history.history['val_binary_accuracy'], label='val_binary_accuracy')\n",
        "    mp.ylim([min(history.history['loss']), max(history.history['loss'])])\n",
        "    mp.xlabel('Epoch')\n",
        "    mp.ylabel('Loss')\n",
        "    mp.legend()\n",
        "    mp.grid(True)"
      ],
      "metadata": {
        "id": "VSDuiR_KXfyR"
      },
      "id": "VSDuiR_KXfyR",
      "execution_count": null,
      "outputs": []
    },
    {
      "cell_type": "code",
      "source": [
        "plot_loss(history)"
      ],
      "metadata": {
        "id": "I_2Yq4ImXhIM"
      },
      "id": "I_2Yq4ImXhIM",
      "execution_count": null,
      "outputs": []
    },
    {
      "cell_type": "code",
      "source": [
        "def plot_loss(history):\n",
        "    #mp.plot(history.history['loss'], label='loss')\n",
        "    #mp.plot(history.history['val_loss'], label='val_loss')\n",
        "    mp.plot(history.history['binary_accuracy'], label='binary_accuracy')\n",
        "    mp.plot(history.history['val_binary_accuracy'], label='val_binary_accuracy')\n",
        "    mp.ylim([min(history.history['binary_accuracy']), max(history.history['binary_accuracy'])])\n",
        "    mp.xlabel('Epoch')\n",
        "    mp.ylabel('Accuracy')\n",
        "    mp.legend()\n",
        "    mp.grid(True)"
      ],
      "metadata": {
        "id": "D0oYEPG1-lS3"
      },
      "id": "D0oYEPG1-lS3",
      "execution_count": null,
      "outputs": []
    },
    {
      "cell_type": "code",
      "source": [
        "plot_loss(history)"
      ],
      "metadata": {
        "id": "ChgREdGL-lHn"
      },
      "id": "ChgREdGL-lHn",
      "execution_count": null,
      "outputs": []
    },
    {
      "cell_type": "code",
      "source": [
        "test_predictions = model.predict(x_test).flatten()\n",
        "print(test_predictions.shape)\n",
        "print(test_predictions)"
      ],
      "metadata": {
        "id": "LCgf_lGtWpqs"
      },
      "id": "LCgf_lGtWpqs",
      "execution_count": null,
      "outputs": []
    },
    {
      "cell_type": "code",
      "source": [
        "test_predictions[test_predictions < 0.5] = 0\n",
        "test_predictions[test_predictions >= 0.5] = 1\n",
        "print(\"Accuracy = \", np.average(y_test == test_predictions))"
      ],
      "metadata": {
        "id": "UdZhSaXJW0Eu"
      },
      "id": "UdZhSaXJW0Eu",
      "execution_count": null,
      "outputs": []
    },
    {
      "cell_type": "code",
      "source": [],
      "metadata": {
        "id": "yFyrC6PDAWlu"
      },
      "id": "yFyrC6PDAWlu",
      "execution_count": null,
      "outputs": []
    }
  ],
  "metadata": {
    "kernelspec": {
      "display_name": "Python 3 (ipykernel)",
      "language": "python",
      "name": "python3"
    },
    "language_info": {
      "codemirror_mode": {
        "name": "ipython",
        "version": 3
      },
      "file_extension": ".py",
      "mimetype": "text/x-python",
      "name": "python",
      "nbconvert_exporter": "python",
      "pygments_lexer": "ipython3",
      "version": "3.8.11"
    },
    "colab": {
      "provenance": []
    }
  },
  "nbformat": 4,
  "nbformat_minor": 5
}