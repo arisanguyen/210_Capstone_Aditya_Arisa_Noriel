{
  "cells": [
    {
      "cell_type": "code",
      "execution_count": 26,
      "id": "356025b8",
      "metadata": {
        "id": "356025b8",
        "colab": {
          "base_uri": "https://localhost:8080/"
        },
        "outputId": "40b350d7-9747-4936-d70d-69332b9dc0d2"
      },
      "outputs": [
        {
          "output_type": "stream",
          "name": "stdout",
          "text": [
            "Drive already mounted at /content/drive/; to attempt to forcibly remount, call drive.mount(\"/content/drive/\", force_remount=True).\n"
          ]
        }
      ],
      "source": [
        "import json\n",
        "import math\n",
        "import os\n",
        "import requests\n",
        "import scipy\n",
        "import tifffile\n",
        "\n",
        "import matplotlib.pyplot as plt\n",
        "import numpy as np\n",
        "import pandas as pd\n",
        "import seaborn as sns\n",
        "import tensorflow as tf\n",
        "\n",
        "from datetime import datetime as dt\n",
        "from scipy import stats as st\n",
        "from sklearn.model_selection import train_test_split\n",
        "from tensorflow import keras\n",
        "from tensorflow.keras import layers\n",
        "from tensorflow.keras import activations\n",
        "from tensorflow.keras.layers import concatenate\n",
        "from keras import metrics\n",
        "from keras.models import Sequential\n",
        "from keras.layers import Activation, Dense\n",
        "from sklearn.metrics import roc_curve\n",
        "from sklearn.metrics import auc\n",
        "from sklearn.ensemble import RandomForestClassifier\n",
        "\n",
        "from keras.models import Sequential\n",
        "from keras.layers import Dense\n",
        "\n",
        "from google.colab import drive\n",
        "from google.colab import files\n",
        "drive.mount('/content/drive/')"
      ]
    },
    {
      "cell_type": "markdown",
      "source": [
        "**Read Tiles Dataset**"
      ],
      "metadata": {
        "id": "9PlQ11UpWoQP"
      },
      "id": "9PlQ11UpWoQP"
    },
    {
      "cell_type": "code",
      "execution_count": 27,
      "id": "f3693092",
      "metadata": {
        "id": "f3693092"
      },
      "outputs": [],
      "source": [
        "tiles = pd.read_csv(r'/content/drive/MyDrive/capstone/Tiles_expanded_balanced.csv')"
      ]
    },
    {
      "cell_type": "code",
      "source": [
        "tiles.head(5)"
      ],
      "metadata": {
        "id": "_uv-sGI6CMZb",
        "colab": {
          "base_uri": "https://localhost:8080/",
          "height": 288
        },
        "outputId": "3b6f6230-ec1f-466b-96c0-f8c1423db09b"
      },
      "id": "_uv-sGI6CMZb",
      "execution_count": 28,
      "outputs": [
        {
          "output_type": "execute_result",
          "data": {
            "text/plain": [
              "   Unnamed: 0  Tile_ID       Lat1       Lat2       Long1       Long2  \\\n",
              "0        1373     1373  37.719094  37.719998 -122.389033 -122.390173   \n",
              "1        2411     2411  37.726323  37.727227 -122.401575 -122.402715   \n",
              "2        9047     9047  37.776925  37.777829 -122.409555 -122.410695   \n",
              "3        8903     8903  37.775118  37.776021 -122.499624 -122.500765   \n",
              "4       10938    10938  37.793190  37.794094 -122.435778 -122.436918   \n",
              "\n",
              "     Mid_lat    Mid_long  Stop_Signs  Bus_stop  Paving  Collisions_Future  \\\n",
              "0  37.719546 -122.389603         8.0       2.0     2.0                1.0   \n",
              "1  37.726775 -122.402145         1.0       0.0     0.0                0.0   \n",
              "2  37.777377 -122.410125         0.0       0.0     0.0                1.0   \n",
              "3  37.775570 -122.500195         4.0       2.0     0.0                0.0   \n",
              "4  37.793642 -122.436348         4.0       1.0     0.0                0.0   \n",
              "\n",
              "   Collisions_Historical  Collision_binary_historical  Collision_binary_future  \n",
              "0                    1.0                            1                        1  \n",
              "1                    1.0                            1                        0  \n",
              "2                    1.0                            1                        1  \n",
              "3                    1.0                            1                        0  \n",
              "4                    1.0                            1                        0  "
            ],
            "text/html": [
              "\n",
              "  <div id=\"df-eb55aa0c-683c-4578-b5e4-80142035dc7c\">\n",
              "    <div class=\"colab-df-container\">\n",
              "      <div>\n",
              "<style scoped>\n",
              "    .dataframe tbody tr th:only-of-type {\n",
              "        vertical-align: middle;\n",
              "    }\n",
              "\n",
              "    .dataframe tbody tr th {\n",
              "        vertical-align: top;\n",
              "    }\n",
              "\n",
              "    .dataframe thead th {\n",
              "        text-align: right;\n",
              "    }\n",
              "</style>\n",
              "<table border=\"1\" class=\"dataframe\">\n",
              "  <thead>\n",
              "    <tr style=\"text-align: right;\">\n",
              "      <th></th>\n",
              "      <th>Unnamed: 0</th>\n",
              "      <th>Tile_ID</th>\n",
              "      <th>Lat1</th>\n",
              "      <th>Lat2</th>\n",
              "      <th>Long1</th>\n",
              "      <th>Long2</th>\n",
              "      <th>Mid_lat</th>\n",
              "      <th>Mid_long</th>\n",
              "      <th>Stop_Signs</th>\n",
              "      <th>Bus_stop</th>\n",
              "      <th>Paving</th>\n",
              "      <th>Collisions_Future</th>\n",
              "      <th>Collisions_Historical</th>\n",
              "      <th>Collision_binary_historical</th>\n",
              "      <th>Collision_binary_future</th>\n",
              "    </tr>\n",
              "  </thead>\n",
              "  <tbody>\n",
              "    <tr>\n",
              "      <th>0</th>\n",
              "      <td>1373</td>\n",
              "      <td>1373</td>\n",
              "      <td>37.719094</td>\n",
              "      <td>37.719998</td>\n",
              "      <td>-122.389033</td>\n",
              "      <td>-122.390173</td>\n",
              "      <td>37.719546</td>\n",
              "      <td>-122.389603</td>\n",
              "      <td>8.0</td>\n",
              "      <td>2.0</td>\n",
              "      <td>2.0</td>\n",
              "      <td>1.0</td>\n",
              "      <td>1.0</td>\n",
              "      <td>1</td>\n",
              "      <td>1</td>\n",
              "    </tr>\n",
              "    <tr>\n",
              "      <th>1</th>\n",
              "      <td>2411</td>\n",
              "      <td>2411</td>\n",
              "      <td>37.726323</td>\n",
              "      <td>37.727227</td>\n",
              "      <td>-122.401575</td>\n",
              "      <td>-122.402715</td>\n",
              "      <td>37.726775</td>\n",
              "      <td>-122.402145</td>\n",
              "      <td>1.0</td>\n",
              "      <td>0.0</td>\n",
              "      <td>0.0</td>\n",
              "      <td>0.0</td>\n",
              "      <td>1.0</td>\n",
              "      <td>1</td>\n",
              "      <td>0</td>\n",
              "    </tr>\n",
              "    <tr>\n",
              "      <th>2</th>\n",
              "      <td>9047</td>\n",
              "      <td>9047</td>\n",
              "      <td>37.776925</td>\n",
              "      <td>37.777829</td>\n",
              "      <td>-122.409555</td>\n",
              "      <td>-122.410695</td>\n",
              "      <td>37.777377</td>\n",
              "      <td>-122.410125</td>\n",
              "      <td>0.0</td>\n",
              "      <td>0.0</td>\n",
              "      <td>0.0</td>\n",
              "      <td>1.0</td>\n",
              "      <td>1.0</td>\n",
              "      <td>1</td>\n",
              "      <td>1</td>\n",
              "    </tr>\n",
              "    <tr>\n",
              "      <th>3</th>\n",
              "      <td>8903</td>\n",
              "      <td>8903</td>\n",
              "      <td>37.775118</td>\n",
              "      <td>37.776021</td>\n",
              "      <td>-122.499624</td>\n",
              "      <td>-122.500765</td>\n",
              "      <td>37.775570</td>\n",
              "      <td>-122.500195</td>\n",
              "      <td>4.0</td>\n",
              "      <td>2.0</td>\n",
              "      <td>0.0</td>\n",
              "      <td>0.0</td>\n",
              "      <td>1.0</td>\n",
              "      <td>1</td>\n",
              "      <td>0</td>\n",
              "    </tr>\n",
              "    <tr>\n",
              "      <th>4</th>\n",
              "      <td>10938</td>\n",
              "      <td>10938</td>\n",
              "      <td>37.793190</td>\n",
              "      <td>37.794094</td>\n",
              "      <td>-122.435778</td>\n",
              "      <td>-122.436918</td>\n",
              "      <td>37.793642</td>\n",
              "      <td>-122.436348</td>\n",
              "      <td>4.0</td>\n",
              "      <td>1.0</td>\n",
              "      <td>0.0</td>\n",
              "      <td>0.0</td>\n",
              "      <td>1.0</td>\n",
              "      <td>1</td>\n",
              "      <td>0</td>\n",
              "    </tr>\n",
              "  </tbody>\n",
              "</table>\n",
              "</div>\n",
              "      <button class=\"colab-df-convert\" onclick=\"convertToInteractive('df-eb55aa0c-683c-4578-b5e4-80142035dc7c')\"\n",
              "              title=\"Convert this dataframe to an interactive table.\"\n",
              "              style=\"display:none;\">\n",
              "        \n",
              "  <svg xmlns=\"http://www.w3.org/2000/svg\" height=\"24px\"viewBox=\"0 0 24 24\"\n",
              "       width=\"24px\">\n",
              "    <path d=\"M0 0h24v24H0V0z\" fill=\"none\"/>\n",
              "    <path d=\"M18.56 5.44l.94 2.06.94-2.06 2.06-.94-2.06-.94-.94-2.06-.94 2.06-2.06.94zm-11 1L8.5 8.5l.94-2.06 2.06-.94-2.06-.94L8.5 2.5l-.94 2.06-2.06.94zm10 10l.94 2.06.94-2.06 2.06-.94-2.06-.94-.94-2.06-.94 2.06-2.06.94z\"/><path d=\"M17.41 7.96l-1.37-1.37c-.4-.4-.92-.59-1.43-.59-.52 0-1.04.2-1.43.59L10.3 9.45l-7.72 7.72c-.78.78-.78 2.05 0 2.83L4 21.41c.39.39.9.59 1.41.59.51 0 1.02-.2 1.41-.59l7.78-7.78 2.81-2.81c.8-.78.8-2.07 0-2.86zM5.41 20L4 18.59l7.72-7.72 1.47 1.35L5.41 20z\"/>\n",
              "  </svg>\n",
              "      </button>\n",
              "      \n",
              "  <style>\n",
              "    .colab-df-container {\n",
              "      display:flex;\n",
              "      flex-wrap:wrap;\n",
              "      gap: 12px;\n",
              "    }\n",
              "\n",
              "    .colab-df-convert {\n",
              "      background-color: #E8F0FE;\n",
              "      border: none;\n",
              "      border-radius: 50%;\n",
              "      cursor: pointer;\n",
              "      display: none;\n",
              "      fill: #1967D2;\n",
              "      height: 32px;\n",
              "      padding: 0 0 0 0;\n",
              "      width: 32px;\n",
              "    }\n",
              "\n",
              "    .colab-df-convert:hover {\n",
              "      background-color: #E2EBFA;\n",
              "      box-shadow: 0px 1px 2px rgba(60, 64, 67, 0.3), 0px 1px 3px 1px rgba(60, 64, 67, 0.15);\n",
              "      fill: #174EA6;\n",
              "    }\n",
              "\n",
              "    [theme=dark] .colab-df-convert {\n",
              "      background-color: #3B4455;\n",
              "      fill: #D2E3FC;\n",
              "    }\n",
              "\n",
              "    [theme=dark] .colab-df-convert:hover {\n",
              "      background-color: #434B5C;\n",
              "      box-shadow: 0px 1px 3px 1px rgba(0, 0, 0, 0.15);\n",
              "      filter: drop-shadow(0px 1px 2px rgba(0, 0, 0, 0.3));\n",
              "      fill: #FFFFFF;\n",
              "    }\n",
              "  </style>\n",
              "\n",
              "      <script>\n",
              "        const buttonEl =\n",
              "          document.querySelector('#df-eb55aa0c-683c-4578-b5e4-80142035dc7c button.colab-df-convert');\n",
              "        buttonEl.style.display =\n",
              "          google.colab.kernel.accessAllowed ? 'block' : 'none';\n",
              "\n",
              "        async function convertToInteractive(key) {\n",
              "          const element = document.querySelector('#df-eb55aa0c-683c-4578-b5e4-80142035dc7c');\n",
              "          const dataTable =\n",
              "            await google.colab.kernel.invokeFunction('convertToInteractive',\n",
              "                                                     [key], {});\n",
              "          if (!dataTable) return;\n",
              "\n",
              "          const docLinkHtml = 'Like what you see? Visit the ' +\n",
              "            '<a target=\"_blank\" href=https://colab.research.google.com/notebooks/data_table.ipynb>data table notebook</a>'\n",
              "            + ' to learn more about interactive tables.';\n",
              "          element.innerHTML = '';\n",
              "          dataTable['output_type'] = 'display_data';\n",
              "          await google.colab.output.renderOutput(dataTable, element);\n",
              "          const docLink = document.createElement('div');\n",
              "          docLink.innerHTML = docLinkHtml;\n",
              "          element.appendChild(docLink);\n",
              "        }\n",
              "      </script>\n",
              "    </div>\n",
              "  </div>\n",
              "  "
            ]
          },
          "metadata": {},
          "execution_count": 28
        }
      ]
    },
    {
      "cell_type": "code",
      "source": [
        "tiles = tiles.rename(columns={'Collision_binary_future': 'label'})"
      ],
      "metadata": {
        "id": "zx81fZuCyUr0"
      },
      "id": "zx81fZuCyUr0",
      "execution_count": 29,
      "outputs": []
    },
    {
      "cell_type": "code",
      "source": [
        "tiles.columns"
      ],
      "metadata": {
        "colab": {
          "base_uri": "https://localhost:8080/"
        },
        "id": "kD2PJ21te9l1",
        "outputId": "d955af0b-f6fe-4c45-edd3-93cedc3cac38"
      },
      "id": "kD2PJ21te9l1",
      "execution_count": 30,
      "outputs": [
        {
          "output_type": "execute_result",
          "data": {
            "text/plain": [
              "Index(['Unnamed: 0', 'Tile_ID', 'Lat1', 'Lat2', 'Long1', 'Long2', 'Mid_lat',\n",
              "       'Mid_long', 'Stop_Signs', 'Bus_stop', 'Paving', 'Collisions_Future',\n",
              "       'Collisions_Historical', 'Collision_binary_historical', 'label'],\n",
              "      dtype='object')"
            ]
          },
          "metadata": {},
          "execution_count": 30
        }
      ]
    },
    {
      "cell_type": "code",
      "source": [
        "# x: 'Tile_ID', 'Mid_lat', 'Mid_long',\n",
        "#    'Stop_Signs', 'Bus_stop', 'Paving', 'Future', 'Historical',\n",
        "#    'Collision_binary_historical'\n",
        "# y: 'Collision_binary_future'\n",
        "\n",
        "X = tiles[['Tile_ID', 'Mid_lat', 'Mid_long', 'Stop_Signs', 'Bus_stop', 'Paving', \n",
        "           'Collisions_Historical', 'Collision_binary_historical']]\n",
        "y = tiles[['label']]\n",
        "X_train, X_test, y_train, y_test = train_test_split(X, y, test_size=0.5)\n",
        "\n",
        "X_train, X_train_lr, y_train, y_train_lr = train_test_split(X_train,\n",
        "                                                            y_train,\n",
        "                                                            test_size=0.5)"
      ],
      "metadata": {
        "id": "4u9G05v5S9pY"
      },
      "id": "4u9G05v5S9pY",
      "execution_count": 31,
      "outputs": []
    },
    {
      "cell_type": "markdown",
      "source": [
        "**RANDOM FOREST**"
      ],
      "metadata": {
        "id": "DHaWBokHqOSP"
      },
      "id": "DHaWBokHqOSP"
    },
    {
      "cell_type": "markdown",
      "source": [
        "https://www.dlology.com/blog/simple-guide-on-how-to-generate-roc-plot-for-keras-classifier/"
      ],
      "metadata": {
        "id": "nFxH55lepz-d"
      },
      "id": "nFxH55lepz-d"
    },
    {
      "cell_type": "code",
      "source": [
        "#def build_model():\n",
        "#    model = Sequential()\n",
        "#    model.add(Dense(20, input_dim=8, activation='relu'))\n",
        "#    model.add(Dense(40, activation='relu'))\n",
        "#    model.add(Dense(1, activation='sigmoid'))\n",
        "#    # Compile model\n",
        "#   model.compile(loss='binary_crossentropy', optimizer='adam', metrics=['accuracy'])\n",
        "#    return model\n",
        "\n",
        "#from keras.wrappers.scikit_learn import KerasClassifier\n",
        "#keras_model = build_model()\n",
        "#keras_model.fit(X_train, y_train, epochs=20, batch_size=100, verbose=1)"
      ],
      "metadata": {
        "id": "zVH2AbyOWgK1"
      },
      "id": "zVH2AbyOWgK1",
      "execution_count": 32,
      "outputs": []
    },
    {
      "cell_type": "code",
      "source": [
        "#y_pred_keras = keras_model.predict(X_test).ravel()\n",
        "#fpr_keras, tpr_keras, thresholds_keras = roc_curve(y_test, y_pred_keras)"
      ],
      "metadata": {
        "id": "F0fAQISjRmIs"
      },
      "id": "F0fAQISjRmIs",
      "execution_count": 33,
      "outputs": []
    },
    {
      "cell_type": "code",
      "source": [
        "#auc_keras = auc(fpr_keras, tpr_keras)"
      ],
      "metadata": {
        "id": "aFGUer7_R6PR"
      },
      "id": "aFGUer7_R6PR",
      "execution_count": 34,
      "outputs": []
    },
    {
      "cell_type": "code",
      "source": [
        "from sklearn.metrics import accuracy_score\n",
        "# Supervised transformation based on random forests\n",
        "rf = RandomForestClassifier(criterion=\"gini\", max_depth=8, n_estimators=30)\n",
        "rf.fit(X_train, y_train)\n",
        "\n",
        "y_pred_rf = rf.predict_proba(X_test)[:, 1]\n",
        "fpr_rf, tpr_rf, thresholds_rf = roc_curve(y_test, y_pred_rf)\n",
        "auc_rf = auc(fpr_rf, tpr_rf)"
      ],
      "metadata": {
        "colab": {
          "base_uri": "https://localhost:8080/"
        },
        "id": "KU1R-sWXR7V7",
        "outputId": "bd24e9c8-b953-4d53-f6eb-503a89b00c5e"
      },
      "id": "KU1R-sWXR7V7",
      "execution_count": 35,
      "outputs": [
        {
          "output_type": "stream",
          "name": "stderr",
          "text": [
            "<ipython-input-35-4cb46dc52041>:4: DataConversionWarning: A column-vector y was passed when a 1d array was expected. Please change the shape of y to (n_samples,), for example using ravel().\n",
            "  rf.fit(X_train, y_train)\n"
          ]
        }
      ]
    },
    {
      "cell_type": "code",
      "source": [
        "from sklearn.ensemble import RandomForestClassifier\n",
        "from sklearn.metrics import accuracy_score\n",
        "\n",
        "#print(accuracy_score(y_test, y_pred_RF))"
      ],
      "metadata": {
        "id": "79kS-ABW3a__"
      },
      "id": "79kS-ABW3a__",
      "execution_count": 36,
      "outputs": []
    },
    {
      "cell_type": "code",
      "source": [
        "plt.figure(1)\n",
        "plt.plot([0, 1], [0, 1], 'k--')\n",
        "#plt.plot(fpr_keras, tpr_keras, label='Keras (area = {:.3f})'.format(auc_keras))\n",
        "plt.plot(fpr_rf, tpr_rf, label='RF (area = {:.3f})'.format(auc_rf))\n",
        "plt.xlabel('False positive rate')\n",
        "plt.ylabel('True positive rate')\n",
        "plt.title('ROC curve')\n",
        "plt.legend(loc='best')\n",
        "plt.show()"
      ],
      "metadata": {
        "colab": {
          "base_uri": "https://localhost:8080/",
          "height": 295
        },
        "id": "IOUP-eUySZ-I",
        "outputId": "6e75b8c5-3218-41b7-d68a-96383d02be7f"
      },
      "id": "IOUP-eUySZ-I",
      "execution_count": 37,
      "outputs": [
        {
          "output_type": "display_data",
          "data": {
            "text/plain": [
              "<Figure size 432x288 with 1 Axes>"
            ],
            "image/png": "[encoded data removed]"
          },
          "metadata": {
            "needs_background": "light"
          }
        }
      ]
    },
    {
      "cell_type": "markdown",
      "source": [
        "**LOGISTIC REGRESSION**"
      ],
      "metadata": {
        "id": "F1bPtiCDrVFw"
      },
      "id": "F1bPtiCDrVFw"
    },
    {
      "cell_type": "code",
      "source": [
        "from sklearn.linear_model import LogisticRegression\n",
        "# Supervised transformation based on random forests\n",
        "\n",
        "logr = LogisticRegression(random_state=0, max_iter=1000)\n",
        "#rf = RandomForestClassifier(max_depth=3, n_estimators=10)\n",
        "logr.fit(X_train, y_train)\n",
        "\n",
        "y_pred_logr = logr.predict_proba(X_test)[:, 1]\n",
        "fpr_logr, tpr_logr, thresholds_logr = roc_curve(y_test, y_pred_logr)\n",
        "auc_logr = auc(fpr_logr, tpr_logr)"
      ],
      "metadata": {
        "colab": {
          "base_uri": "https://localhost:8080/"
        },
        "id": "j-0WdOutq73w",
        "outputId": "99a71f5d-4c45-4dc5-e0d7-e0c23b84fd58"
      },
      "id": "j-0WdOutq73w",
      "execution_count": 38,
      "outputs": [
        {
          "output_type": "stream",
          "name": "stderr",
          "text": [
            "/usr/local/lib/python3.8/dist-packages/sklearn/utils/validation.py:993: DataConversionWarning: A column-vector y was passed when a 1d array was expected. Please change the shape of y to (n_samples, ), for example using ravel().\n",
            "  y = column_or_1d(y, warn=True)\n"
          ]
        }
      ]
    },
    {
      "cell_type": "code",
      "source": [
        "plt.figure(1)\n",
        "plt.plot([0, 1], [0, 1], 'k--')\n",
        "#plt.plot(fpr_keras, tpr_keras, label='Keras (area = {:.3f})'.format(auc_keras))\n",
        "plt.plot(fpr_logr, tpr_logr, label='LogR (area = {:.3f})'.format(auc_logr))\n",
        "plt.xlabel('False positive rate')\n",
        "plt.ylabel('True positive rate')\n",
        "plt.title('ROC curve')\n",
        "plt.legend(loc='best')\n",
        "plt.show()"
      ],
      "metadata": {
        "colab": {
          "base_uri": "https://localhost:8080/",
          "height": 295
        },
        "id": "DXyAchLBrx6g",
        "outputId": "4482fa7f-6518-4533-e8cb-2c218ecfc6af"
      },
      "id": "DXyAchLBrx6g",
      "execution_count": 39,
      "outputs": [
        {
          "output_type": "display_data",
          "data": {
            "text/plain": [
              "<Figure size 432x288 with 1 Axes>"
            ],
            "image/png": "[encoded data removed]"
          },
          "metadata": {
            "needs_background": "light"
          }
        }
      ]
    },
    {
      "cell_type": "markdown",
      "source": [
        "**KNN Classifier**"
      ],
      "metadata": {
        "id": "v-8kijSxw3hi"
      },
      "id": "v-8kijSxw3hi"
    },
    {
      "cell_type": "code",
      "source": [
        "from sklearn.neighbors import KNeighborsClassifier\n",
        "knn = KNeighborsClassifier(n_neighbors=3)\n",
        "knn.fit(X_train, y_train)\n",
        "\n",
        "y_pred_knn = knn.predict_proba(X_test)[:, 1]\n",
        "fpr_knn, tpr_knn, thresholds_knn = roc_curve(y_test, y_pred_knn)\n",
        "auc_knn = auc(fpr_knn, tpr_knn)"
      ],
      "metadata": {
        "colab": {
          "base_uri": "https://localhost:8080/"
        },
        "id": "KUPKr88ExGd9",
        "outputId": "359c35ca-162d-4443-cfac-20c590d11150"
      },
      "id": "KUPKr88ExGd9",
      "execution_count": 40,
      "outputs": [
        {
          "output_type": "stream",
          "name": "stderr",
          "text": [
            "/usr/local/lib/python3.8/dist-packages/sklearn/neighbors/_classification.py:198: DataConversionWarning: A column-vector y was passed when a 1d array was expected. Please change the shape of y to (n_samples,), for example using ravel().\n",
            "  return self._fit(X, y)\n"
          ]
        }
      ]
    },
    {
      "cell_type": "code",
      "source": [
        "plt.figure(1)\n",
        "plt.plot([0, 1], [0, 1], 'k--')\n",
        "#plt.plot(fpr_keras, tpr_keras, label='Keras (area = {:.3f})'.format(auc_keras))\n",
        "plt.plot(fpr_logr, tpr_logr, label='KNN (area = {:.3f})'.format(auc_knn))\n",
        "plt.xlabel('False positive rate')\n",
        "plt.ylabel('True positive rate')\n",
        "plt.title('ROC curve')\n",
        "plt.legend(loc='best')\n",
        "plt.show()"
      ],
      "metadata": {
        "colab": {
          "base_uri": "https://localhost:8080/",
          "height": 295
        },
        "id": "gJONxkmBx1O4",
        "outputId": "2bb5be59-e21a-4ccd-bc5e-617085c86287"
      },
      "id": "gJONxkmBx1O4",
      "execution_count": 41,
      "outputs": [
        {
          "output_type": "display_data",
          "data": {
            "text/plain": [
              "<Figure size 432x288 with 1 Axes>"
            ],
            "image/png": "[encoded data removed]"
          },
          "metadata": {
            "needs_background": "light"
          }
        }
      ]
    },
    {
      "cell_type": "markdown",
      "source": [
        "**Decision Tree**"
      ],
      "metadata": {
        "id": "tZcsdcTv0cy_"
      },
      "id": "tZcsdcTv0cy_"
    },
    {
      "cell_type": "code",
      "source": [
        "from sklearn import tree\n",
        "dtree = tree.DecisionTreeClassifier()\n",
        "dtree = dtree.fit(X_train, y_train)\n",
        "\n",
        "y_pred_dtree = dtree.predict_proba(X_test)[:, 1]\n",
        "fpr_dtree, tpr_dtree, thresholds_dtree = roc_curve(y_test, y_pred_dtree)\n",
        "auc_dtree = auc(fpr_dtree, tpr_dtree)"
      ],
      "metadata": {
        "id": "xa42s8Hz0cfc"
      },
      "id": "xa42s8Hz0cfc",
      "execution_count": 42,
      "outputs": []
    },
    {
      "cell_type": "code",
      "source": [
        "plt.figure(1)\n",
        "plt.plot([0, 1], [0, 1], 'k--')\n",
        "#plt.plot(fpr_keras, tpr_keras, label='Keras (area = {:.3f})'.format(auc_keras))\n",
        "plt.plot(fpr_logr, tpr_logr, label='Decision Tree (area = {:.3f})'.format(auc_dtree))\n",
        "plt.xlabel('False positive rate')\n",
        "plt.ylabel('True positive rate')\n",
        "plt.title('ROC curve')\n",
        "plt.legend(loc='best')\n",
        "plt.show()"
      ],
      "metadata": {
        "id": "9q81ofHw1IT0",
        "colab": {
          "base_uri": "https://localhost:8080/",
          "height": 295
        },
        "outputId": "b47c671a-2a32-4a2a-9992-809b6a0667af"
      },
      "id": "9q81ofHw1IT0",
      "execution_count": 43,
      "outputs": [
        {
          "output_type": "display_data",
          "data": {
            "text/plain": [
              "<Figure size 432x288 with 1 Axes>"
            ],
            "image/png": "[encoded data removed]"
          },
          "metadata": {
            "needs_background": "light"
          }
        }
      ]
    }
  ],
  "metadata": {
    "kernelspec": {
      "display_name": "Python 3 (ipykernel)",
      "language": "python",
      "name": "python3"
    },
    "language_info": {
      "codemirror_mode": {
        "name": "ipython",
        "version": 3
      },
      "file_extension": ".py",
      "mimetype": "text/x-python",
      "name": "python",
      "nbconvert_exporter": "python",
      "pygments_lexer": "ipython3",
      "version": "3.8.11"
    },
    "colab": {
      "provenance": []
    }
  },
  "nbformat": 4,
  "nbformat_minor": 5
}