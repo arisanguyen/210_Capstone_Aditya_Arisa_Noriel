{
 "cells": [
  {
   "cell_type": "markdown",
   "id": "c56e69d7-74ee-4a3a-9063-e38357b2fd88",
   "metadata": {},
   "source": [
    "**Random Forest - Multi-Class Classification - Averaged Image Data - Not Normalized Data Set**"
   ]
  },
  {
   "cell_type": "markdown",
   "id": "a0eabcba-5ca5-4fa8-bde3-8224131c3a6a",
   "metadata": {},
   "source": [
    "**Packages**"
   ]
  },
  {
   "cell_type": "code",
   "execution_count": 1,
   "id": "356025b8",
   "metadata": {
    "tags": []
   },
   "outputs": [
    {
     "name": "stderr",
     "output_type": "stream",
     "text": [
      "2023-03-25 18:24:59.864527: I tensorflow/core/platform/cpu_feature_guard.cc:193] This TensorFlow binary is optimized with oneAPI Deep Neural Network Library (oneDNN) to use the following CPU instructions in performance-critical operations:  AVX2 FMA\n",
      "To enable them in other operations, rebuild TensorFlow with the appropriate compiler flags.\n",
      "2023-03-25 18:25:00.013624: W tensorflow/compiler/xla/stream_executor/platform/default/dso_loader.cc:64] Could not load dynamic library 'libcudart.so.11.0'; dlerror: libcudart.so.11.0: cannot open shared object file: No such file or directory\n",
      "2023-03-25 18:25:00.013678: I tensorflow/compiler/xla/stream_executor/cuda/cudart_stub.cc:29] Ignore above cudart dlerror if you do not have a GPU set up on your machine.\n",
      "2023-03-25 18:25:00.910335: W tensorflow/compiler/xla/stream_executor/platform/default/dso_loader.cc:64] Could not load dynamic library 'libnvinfer.so.7'; dlerror: libnvinfer.so.7: cannot open shared object file: No such file or directory\n",
      "2023-03-25 18:25:00.910445: W tensorflow/compiler/xla/stream_executor/platform/default/dso_loader.cc:64] Could not load dynamic library 'libnvinfer_plugin.so.7'; dlerror: libnvinfer_plugin.so.7: cannot open shared object file: No such file or directory\n",
      "2023-03-25 18:25:00.910456: W tensorflow/compiler/tf2tensorrt/utils/py_utils.cc:38] TF-TRT Warning: Cannot dlopen some TensorRT libraries. If you would like to use Nvidia GPU with TensorRT, please make sure the missing libraries mentioned above are installed properly.\n"
     ]
    }
   ],
   "source": [
    "import math\n",
    "import matplotlib\n",
    "import matplotlib.pyplot as plt\n",
    "\n",
    "import numpy as np\n",
    "\n",
    "import os\n",
    "\n",
    "import pandas as pd\n",
    "\n",
    "import scipy\n",
    "from sklearn import preprocessing\n",
    "from sklearn.model_selection import train_test_split\n",
    "from sklearn.metrics import f1_score\n",
    "from sklearn.preprocessing import LabelBinarizer\n",
    "\n",
    "import tensorflow as tf\n",
    "import tensorflow_addons as tfa\n",
    "import tensorflow_decision_forests as tfdf\n",
    "from tensorflow import keras\n",
    "from tensorflow.keras import layers\n",
    "from tensorflow.keras.layers import concatenate\n",
    "from keras.layers import Flatten, Dense, Dropout\n",
    "import tifffile"
   ]
  },
  {
   "cell_type": "markdown",
   "id": "131a5b49-a808-4d41-ad4b-ae9469b994ea",
   "metadata": {},
   "source": [
    "**Data Pre-Processing**"
   ]
  },
  {
   "cell_type": "code",
   "execution_count": 2,
   "id": "f3693092",
   "metadata": {
    "tags": []
   },
   "outputs": [
    {
     "data": {
      "text/html": [
       "<div>\n",
       "<style scoped>\n",
       "    .dataframe tbody tr th:only-of-type {\n",
       "        vertical-align: middle;\n",
       "    }\n",
       "\n",
       "    .dataframe tbody tr th {\n",
       "        vertical-align: top;\n",
       "    }\n",
       "\n",
       "    .dataframe thead th {\n",
       "        text-align: right;\n",
       "    }\n",
       "</style>\n",
       "<table border=\"1\" class=\"dataframe\">\n",
       "  <thead>\n",
       "    <tr style=\"text-align: right;\">\n",
       "      <th></th>\n",
       "      <th>Tile_ID</th>\n",
       "      <th>Long2</th>\n",
       "      <th>Lat2</th>\n",
       "      <th>Long1</th>\n",
       "      <th>Lat1</th>\n",
       "      <th>Mid_lat</th>\n",
       "      <th>Mid_long</th>\n",
       "      <th>Stop_Signs</th>\n",
       "      <th>Paving_historical</th>\n",
       "      <th>Paving_future</th>\n",
       "      <th>...</th>\n",
       "      <th>94129</th>\n",
       "      <th>94130</th>\n",
       "      <th>94131</th>\n",
       "      <th>94132</th>\n",
       "      <th>94133</th>\n",
       "      <th>94134</th>\n",
       "      <th>94141</th>\n",
       "      <th>94143</th>\n",
       "      <th>94158</th>\n",
       "      <th>94188</th>\n",
       "    </tr>\n",
       "  </thead>\n",
       "  <tbody>\n",
       "    <tr>\n",
       "      <th>0</th>\n",
       "      <td>36</td>\n",
       "      <td>-122.514446</td>\n",
       "      <td>37.779636</td>\n",
       "      <td>-122.513306</td>\n",
       "      <td>37.778732</td>\n",
       "      <td>37.779184</td>\n",
       "      <td>-122.513876</td>\n",
       "      <td>0.0</td>\n",
       "      <td>0.0</td>\n",
       "      <td>0.0</td>\n",
       "      <td>...</td>\n",
       "      <td>0</td>\n",
       "      <td>0</td>\n",
       "      <td>0</td>\n",
       "      <td>0</td>\n",
       "      <td>0</td>\n",
       "      <td>0</td>\n",
       "      <td>0</td>\n",
       "      <td>0</td>\n",
       "      <td>0</td>\n",
       "      <td>0</td>\n",
       "    </tr>\n",
       "    <tr>\n",
       "      <th>1</th>\n",
       "      <td>37</td>\n",
       "      <td>-122.514446</td>\n",
       "      <td>37.778732</td>\n",
       "      <td>-122.513306</td>\n",
       "      <td>37.777829</td>\n",
       "      <td>37.778280</td>\n",
       "      <td>-122.513876</td>\n",
       "      <td>0.0</td>\n",
       "      <td>0.0</td>\n",
       "      <td>0.0</td>\n",
       "      <td>...</td>\n",
       "      <td>0</td>\n",
       "      <td>0</td>\n",
       "      <td>0</td>\n",
       "      <td>0</td>\n",
       "      <td>0</td>\n",
       "      <td>0</td>\n",
       "      <td>0</td>\n",
       "      <td>0</td>\n",
       "      <td>0</td>\n",
       "      <td>0</td>\n",
       "    </tr>\n",
       "    <tr>\n",
       "      <th>2</th>\n",
       "      <td>151</td>\n",
       "      <td>-122.513306</td>\n",
       "      <td>37.779636</td>\n",
       "      <td>-122.512166</td>\n",
       "      <td>37.778732</td>\n",
       "      <td>37.779184</td>\n",
       "      <td>-122.512736</td>\n",
       "      <td>0.0</td>\n",
       "      <td>0.0</td>\n",
       "      <td>0.0</td>\n",
       "      <td>...</td>\n",
       "      <td>0</td>\n",
       "      <td>0</td>\n",
       "      <td>0</td>\n",
       "      <td>0</td>\n",
       "      <td>0</td>\n",
       "      <td>0</td>\n",
       "      <td>0</td>\n",
       "      <td>0</td>\n",
       "      <td>0</td>\n",
       "      <td>0</td>\n",
       "    </tr>\n",
       "    <tr>\n",
       "      <th>3</th>\n",
       "      <td>152</td>\n",
       "      <td>-122.513306</td>\n",
       "      <td>37.778732</td>\n",
       "      <td>-122.512166</td>\n",
       "      <td>37.777829</td>\n",
       "      <td>37.778280</td>\n",
       "      <td>-122.512736</td>\n",
       "      <td>0.0</td>\n",
       "      <td>0.0</td>\n",
       "      <td>0.0</td>\n",
       "      <td>...</td>\n",
       "      <td>0</td>\n",
       "      <td>0</td>\n",
       "      <td>0</td>\n",
       "      <td>0</td>\n",
       "      <td>0</td>\n",
       "      <td>0</td>\n",
       "      <td>0</td>\n",
       "      <td>0</td>\n",
       "      <td>0</td>\n",
       "      <td>0</td>\n",
       "    </tr>\n",
       "    <tr>\n",
       "      <th>4</th>\n",
       "      <td>153</td>\n",
       "      <td>-122.513306</td>\n",
       "      <td>37.777829</td>\n",
       "      <td>-122.512166</td>\n",
       "      <td>37.776925</td>\n",
       "      <td>37.777377</td>\n",
       "      <td>-122.512736</td>\n",
       "      <td>0.0</td>\n",
       "      <td>0.0</td>\n",
       "      <td>0.0</td>\n",
       "      <td>...</td>\n",
       "      <td>0</td>\n",
       "      <td>0</td>\n",
       "      <td>0</td>\n",
       "      <td>0</td>\n",
       "      <td>0</td>\n",
       "      <td>0</td>\n",
       "      <td>0</td>\n",
       "      <td>0</td>\n",
       "      <td>0</td>\n",
       "      <td>0</td>\n",
       "    </tr>\n",
       "  </tbody>\n",
       "</table>\n",
       "<p>5 rows × 53 columns</p>\n",
       "</div>"
      ],
      "text/plain": [
       "   Tile_ID       Long2       Lat2       Long1       Lat1    Mid_lat  \\\n",
       "0       36 -122.514446  37.779636 -122.513306  37.778732  37.779184   \n",
       "1       37 -122.514446  37.778732 -122.513306  37.777829  37.778280   \n",
       "2      151 -122.513306  37.779636 -122.512166  37.778732  37.779184   \n",
       "3      152 -122.513306  37.778732 -122.512166  37.777829  37.778280   \n",
       "4      153 -122.513306  37.777829 -122.512166  37.776925  37.777377   \n",
       "\n",
       "     Mid_long  Stop_Signs  Paving_historical  Paving_future  ...  94129  \\\n",
       "0 -122.513876         0.0                0.0            0.0  ...      0   \n",
       "1 -122.513876         0.0                0.0            0.0  ...      0   \n",
       "2 -122.512736         0.0                0.0            0.0  ...      0   \n",
       "3 -122.512736         0.0                0.0            0.0  ...      0   \n",
       "4 -122.512736         0.0                0.0            0.0  ...      0   \n",
       "\n",
       "   94130  94131 94132  94133  94134  94141  94143  94158  94188  \n",
       "0      0      0     0      0      0      0      0      0      0  \n",
       "1      0      0     0      0      0      0      0      0      0  \n",
       "2      0      0     0      0      0      0      0      0      0  \n",
       "3      0      0     0      0      0      0      0      0      0  \n",
       "4      0      0     0      0      0      0      0      0      0  \n",
       "\n",
       "[5 rows x 53 columns]"
      ]
     },
     "execution_count": 2,
     "metadata": {},
     "output_type": "execute_result"
    }
   ],
   "source": [
    "tiles = pd.read_csv(r'./Data/Tiles_binned_zipcode.csv')\n",
    "tiles.head(5)"
   ]
  },
  {
   "cell_type": "markdown",
   "id": "c3a6b82c",
   "metadata": {},
   "source": [
    "Split into training and test"
   ]
  },
  {
   "cell_type": "code",
   "execution_count": 3,
   "id": "0d50fdd4",
   "metadata": {
    "tags": []
   },
   "outputs": [],
   "source": [
    "x_train, x_test, y_train, y_test = train_test_split(tiles[['Tile_ID', 'Long2', 'Lat2', 'Long1', 'Lat1', 'Mid_lat', 'Mid_long',\n",
    "       'Stop_Signs', 'Paving_historical', 'Paving_future', 'Bus_stop',\n",
    "       'Collisions_Future', 'Collisions_Historical', 'RTTYP_I',\n",
    "       'RTTYP_M', 'RTTYP_O', 'RTTYP_S', 'RTTYP_U', 'Collisions_Future_binary',\n",
    "       'Collisions_Historical_binary', 'bins_numeric', 'zip_code', '94101',\n",
    "       '94102', '94104', '94105', '94107', '94108', '94109', '94110', '94111',\n",
    "       '94112', '94114', '94115', '94116', '94117', '94118', '94121', '94122',\n",
    "       '94123', '94124', '94127', '94129', '94130', '94131', '94132', '94133',\n",
    "       '94134', '94141', '94143', '94158', '94188']], \n",
    "                                   tiles['bin'],\n",
    "                                   random_state=104, \n",
    "                                   test_size=0.20, \n",
    "                                   shuffle=True)"
   ]
  },
  {
   "cell_type": "markdown",
   "id": "bf220283",
   "metadata": {},
   "source": [
    "Image Pre-Processing"
   ]
  },
  {
   "cell_type": "code",
   "execution_count": 4,
   "id": "9298e629",
   "metadata": {},
   "outputs": [],
   "source": [
    "IMAGE_PATH = './Satellite Imagery/Satellite Images Tiled/' \n",
    "\n",
    "def preprocess_data_part1(IMAGE_PATH):\n",
    "    \"\"\" Generate lists of images and labelsbased on temp_no_refer and temp_refer lists\n",
    "    \n",
    "    Params:\n",
    "    -------\n",
    "    IMAGE_PATH (str): path to directory with images.\n",
    "    \n",
    "    Returns:\n",
    "    --------\n",
    "    images_mini  (np.ndarray): Images of shape (N, 149 3)\n",
    "    \"\"\"\n",
    "    \n",
    "    data_mini = []\n",
    "    data_mini_test = []\n",
    "    for id in x_train['Tile_ID']:    \n",
    "                    \n",
    "        # read image and store as matrix            \n",
    "        # Index at the end makes all images the same size (they sometimes differ by 1 pixel)\n",
    "        image = tifffile.imread(IMAGE_PATH + str(id) + '.tif')[0:148, 0:188, :]\n",
    "        \n",
    "        #grayscale\n",
    "        #for i in image:\n",
    "        #    for j in i:\n",
    "        #        data_mini.append([np.mean(j[0:3]), j[3]])\n",
    "        \n",
    "        # append to images\n",
    "        data_mini.append(np.mean(image))\n",
    " \n",
    "    # stack images and trasnform to array\n",
    "    images_mini = np.stack(data_mini)\n",
    "    \n",
    "    for id in x_test['Tile_ID']:    \n",
    "                    \n",
    "        # read image and store as matrix            \n",
    "        # Index at the end makes all images the same size (they sometimes differ by 1 pixel)\n",
    "        image = tifffile.imread(IMAGE_PATH + str(id) + '.tif')[0:148, 0:188, :]\n",
    "        \n",
    "        #grayscale\n",
    "        #for i in image:\n",
    "        #    for j in i:\n",
    "        #        data_mini_test.append([np.mean(j[0:3]), j[3]])\n",
    "        \n",
    "        # append to images\n",
    "        data_mini_test.append(np.mean(image))\n",
    " \n",
    "    # stack images and trasnform to array\n",
    "    images_mini_test = np.stack(data_mini_test)\n",
    "    \n",
    "    return images_mini, images_mini_test"
   ]
  },
  {
   "cell_type": "code",
   "execution_count": 5,
   "id": "4d8f77ae",
   "metadata": {},
   "outputs": [],
   "source": [
    "images_mini, images_mini_test = preprocess_data_part1(IMAGE_PATH)"
   ]
  },
  {
   "cell_type": "code",
   "execution_count": 6,
   "id": "c00f2edb-7a9c-417a-9490-b8b9cfcb5846",
   "metadata": {
    "tags": []
   },
   "outputs": [
    {
     "name": "stdout",
     "output_type": "stream",
     "text": [
      "train  (8376,)\n",
      "test  (2095,)\n"
     ]
    }
   ],
   "source": [
    "print('train ', np.shape(images_mini))\n",
    "print('test ', np.shape(images_mini_test))"
   ]
  },
  {
   "cell_type": "markdown",
   "id": "57135842",
   "metadata": {},
   "source": [
    "Street Data Pre-Processing"
   ]
  },
  {
   "cell_type": "code",
   "execution_count": 7,
   "id": "8dce0686",
   "metadata": {
    "tags": []
   },
   "outputs": [
    {
     "name": "stdout",
     "output_type": "stream",
     "text": [
      "train  (8376, 1, 1, 52)\n",
      "test  (2095, 1, 1, 52)\n"
     ]
    }
   ],
   "source": [
    "street = np.asarray(x_train[['Tile_ID', 'Long2', 'Lat2', 'Long1', 'Lat1', 'Mid_lat', 'Mid_long',\n",
    "       'Stop_Signs', 'Paving_historical', 'Paving_future', 'Bus_stop',\n",
    "       'Collisions_Future', 'Collisions_Historical', 'RTTYP_I', 'RTTYP_M',\n",
    "       'RTTYP_O', 'RTTYP_S', 'RTTYP_U', 'Collisions_Future_binary',\n",
    "       'Collisions_Historical_binary', 'bins_numeric', 'zip_code', '94101',\n",
    "       '94102', '94104', '94105', '94107', '94108', '94109', '94110', '94111',\n",
    "       '94112', '94114', '94115', '94116', '94117', '94118', '94121', '94122',\n",
    "       '94123', '94124', '94127', '94129', '94130', '94131', '94132', '94133',\n",
    "       '94134', '94141', '94143', '94158', '94188']]).astype('float32')\n",
    "street_mini = []\n",
    "for row in range(len(street)):\n",
    "    street_mini.append([[street[row]]])\n",
    "street_mini = np.stack(street_mini)\n",
    "print('train ', np.shape(street_mini))\n",
    "\n",
    "street_test = np.asarray(x_test[['Tile_ID', 'Long2', 'Lat2', 'Long1', 'Lat1', 'Mid_lat', 'Mid_long',\n",
    "       'Stop_Signs', 'Paving_historical', 'Paving_future', 'Bus_stop',\n",
    "       'Collisions_Future', 'Collisions_Historical', 'RTTYP_I', 'RTTYP_M',\n",
    "       'RTTYP_O', 'RTTYP_S', 'RTTYP_U', 'Collisions_Future_binary',\n",
    "       'Collisions_Historical_binary', 'bins_numeric', 'zip_code', '94101',\n",
    "       '94102', '94104', '94105', '94107', '94108', '94109', '94110', '94111',\n",
    "       '94112', '94114', '94115', '94116', '94117', '94118', '94121', '94122',\n",
    "       '94123', '94124', '94127', '94129', '94130', '94131', '94132', '94133',\n",
    "       '94134', '94141', '94143', '94158', '94188']]).astype('float32')\n",
    "street_mini_test = []\n",
    "for row in range(len(street_test)):\n",
    "    street_mini_test.append([[street_test[row]]])\n",
    "street_mini_test = np.stack(street_mini_test)\n",
    "print('test ',np.shape(street_mini_test))"
   ]
  },
  {
   "cell_type": "code",
   "execution_count": 8,
   "id": "c5275800-edf8-4225-a07c-998b25870208",
   "metadata": {
    "tags": []
   },
   "outputs": [
    {
     "data": {
      "text/plain": [
       "(8376, 53)"
      ]
     },
     "execution_count": 8,
     "metadata": {},
     "output_type": "execute_result"
    }
   ],
   "source": [
    "input_image_street = np.hstack(\n",
    "    (street_mini.reshape((8376,52)),\n",
    "     images_mini.reshape(8376,1))\n",
    ")\n",
    "np.shape(input_image_street)"
   ]
  },
  {
   "cell_type": "code",
   "execution_count": 9,
   "id": "0771ebca-a17e-4a7f-b8b6-0ebbf258a123",
   "metadata": {
    "tags": []
   },
   "outputs": [
    {
     "data": {
      "text/plain": [
       "(2095, 53)"
      ]
     },
     "execution_count": 9,
     "metadata": {},
     "output_type": "execute_result"
    }
   ],
   "source": [
    "input_image_street_test = np.hstack(\n",
    "    (street_mini_test.reshape((2095,52)),\n",
    "     images_mini_test.reshape(2095,1))\n",
    ")\n",
    "np.shape(input_image_street_test)"
   ]
  },
  {
   "cell_type": "markdown",
   "id": "99ae0d0a-47df-45ce-8bd4-9c31ed9d0cc3",
   "metadata": {},
   "source": [
    "Pre-processing Label Column"
   ]
  },
  {
   "cell_type": "code",
   "execution_count": 10,
   "id": "a13e660c-d9ed-4991-ba6a-c0cece399b50",
   "metadata": {},
   "outputs": [
    {
     "data": {
      "text/plain": [
       "8419     C\n",
       "10129    B\n",
       "7641     A\n",
       "5215     A\n",
       "7784     A\n",
       "Name: bin, dtype: object"
      ]
     },
     "execution_count": 10,
     "metadata": {},
     "output_type": "execute_result"
    }
   ],
   "source": [
    "y_train[0:5]"
   ]
  },
  {
   "cell_type": "code",
   "execution_count": 11,
   "id": "7217a2b4-a4fb-4407-8f08-cf72e15cdbfa",
   "metadata": {
    "tags": []
   },
   "outputs": [],
   "source": [
    "le = preprocessing.LabelEncoder()\n",
    "le.fit(y_train)\n",
    "y_train = le.transform(y_train)\n",
    "le.fit(y_test)\n",
    "y_test = le.transform(y_test)"
   ]
  },
  {
   "cell_type": "code",
   "execution_count": 12,
   "id": "2e009aa6-17b0-4b25-a570-aba1ce6100ae",
   "metadata": {
    "tags": []
   },
   "outputs": [
    {
     "data": {
      "text/plain": [
       "array([2, 1, 0, 0, 0])"
      ]
     },
     "execution_count": 12,
     "metadata": {},
     "output_type": "execute_result"
    }
   ],
   "source": [
    "y_train[0:5]"
   ]
  },
  {
   "cell_type": "code",
   "execution_count": 13,
   "id": "b77c3787-63c6-4417-a626-e29615e3ed26",
   "metadata": {
    "tags": []
   },
   "outputs": [],
   "source": [
    "# from sklearn import preprocessing\n",
    "# scaler = preprocessing.StandardScaler().fit(input_image_street)\n",
    "# X_scaled = scaler.transform(input_image_street)\n",
    "# X_scaled"
   ]
  },
  {
   "cell_type": "code",
   "execution_count": 14,
   "id": "94e4029c-9726-4105-bbb9-932ab1baad96",
   "metadata": {
    "tags": []
   },
   "outputs": [],
   "source": [
    "# from sklearn.ensemble import RandomForestClassifier\n",
    "# from sklearn.model_selection import GridSearchCV\n",
    "# # Create the parameter grid based on the results of random search \n",
    "# param_grid = {\n",
    "#     'bootstrap': [True],'max_depth': [20,30,40, 100, 110],\n",
    "#     'max_features': ['sqrt'],'min_samples_leaf': [5,10,15],\n",
    "#     'min_samples_split': [40,50,60], 'n_estimators': [150, 200, 250]\n",
    "# }\n",
    "# # Create a based model\n",
    "# rf = RandomForestClassifier()\n",
    "# # Instantiate the grid search model\n",
    "# grid_search = GridSearchCV(estimator = rf, param_grid = param_grid, \n",
    "#                           cv = 3, n_jobs = -1, verbose = 2)"
   ]
  },
  {
   "cell_type": "code",
   "execution_count": 15,
   "id": "bdaff37d-b624-434a-9b5c-0c20630e075d",
   "metadata": {
    "tags": []
   },
   "outputs": [],
   "source": [
    "# grid_search.fit(X_scaled, y_train)"
   ]
  },
  {
   "cell_type": "code",
   "execution_count": 16,
   "id": "9701c4cd-dfe9-4d74-a69b-b030194b187b",
   "metadata": {
    "tags": []
   },
   "outputs": [],
   "source": [
    "# grid_search.best_params_"
   ]
  },
  {
   "cell_type": "code",
   "execution_count": 17,
   "id": "b9f4f0f7-a7dc-43f6-94db-d59f5b204b2f",
   "metadata": {
    "tags": []
   },
   "outputs": [
    {
     "name": "stdout",
     "output_type": "stream",
     "text": [
      "Use /tmp/tmp83250ff3 as temporary training directory\n",
      "Reading training dataset...\n"
     ]
    },
    {
     "name": "stderr",
     "output_type": "stream",
     "text": [
      "2023-03-25 18:25:58.335080: W tensorflow/compiler/xla/stream_executor/platform/default/dso_loader.cc:64] Could not load dynamic library 'libcuda.so.1'; dlerror: libcuda.so.1: cannot open shared object file: No such file or directory\n",
      "2023-03-25 18:25:58.335126: W tensorflow/compiler/xla/stream_executor/cuda/cuda_driver.cc:265] failed call to cuInit: UNKNOWN ERROR (303)\n",
      "2023-03-25 18:25:58.335151: I tensorflow/compiler/xla/stream_executor/cuda/cuda_diagnostics.cc:156] kernel driver does not appear to be running on this host (ip-172-31-13-91): /proc/driver/nvidia/version does not exist\n",
      "2023-03-25 18:25:58.335425: I tensorflow/core/platform/cpu_feature_guard.cc:193] This TensorFlow binary is optimized with oneAPI Deep Neural Network Library (oneDNN) to use the following CPU instructions in performance-critical operations:  AVX2 FMA\n",
      "To enable them in other operations, rebuild TensorFlow with the appropriate compiler flags.\n"
     ]
    },
    {
     "name": "stdout",
     "output_type": "stream",
     "text": [
      "WARNING:tensorflow:From /home/ubuntu/capstone/lib/python3.10/site-packages/tensorflow/python/autograph/pyct/static_analysis/liveness.py:83: Analyzer.lamba_check (from tensorflow.python.autograph.pyct.static_analysis.liveness) is deprecated and will be removed after 2023-09-23.\n",
      "Instructions for updating:\n",
      "Lambda fuctions will be no more assumed to be used in the statement where they are used, or at least in the same block. https://github.com/tensorflow/tensorflow/issues/56089\n"
     ]
    },
    {
     "name": "stderr",
     "output_type": "stream",
     "text": [
      "WARNING:tensorflow:From /home/ubuntu/capstone/lib/python3.10/site-packages/tensorflow/python/autograph/pyct/static_analysis/liveness.py:83: Analyzer.lamba_check (from tensorflow.python.autograph.pyct.static_analysis.liveness) is deprecated and will be removed after 2023-09-23.\n",
      "Instructions for updating:\n",
      "Lambda fuctions will be no more assumed to be used in the statement where they are used, or at least in the same block. https://github.com/tensorflow/tensorflow/issues/56089\n"
     ]
    },
    {
     "name": "stdout",
     "output_type": "stream",
     "text": [
      "Training dataset read in 0:00:04.814045. Found 8376 examples.\n",
      "Training model...\n",
      "Model trained in 0:00:00.486563\n",
      "Compiling model...\n"
     ]
    },
    {
     "name": "stderr",
     "output_type": "stream",
     "text": [
      "[INFO 2023-03-25T18:26:03.603462129+00:00 kernel.cc:1214] Loading model from path /tmp/tmp83250ff3/model/ with prefix 19e72288cd724304\n",
      "[INFO 2023-03-25T18:26:03.673116381+00:00 decision_forest.cc:661] Model loaded with 300 root(s), 24722 node(s), and 47 input feature(s).\n",
      "[INFO 2023-03-25T18:26:03.673165052+00:00 abstract_model.cc:1311] Engine \"RandomForestGeneric\" built\n",
      "[INFO 2023-03-25T18:26:03.673184494+00:00 kernel.cc:1046] Use fast generic engine\n"
     ]
    },
    {
     "name": "stdout",
     "output_type": "stream",
     "text": [
      "WARNING:tensorflow:AutoGraph could not transform <function simple_ml_inference_op_with_handle at 0x7f0640889fc0> and will run it as-is.\n",
      "Please report this to the TensorFlow team. When filing the bug, set the verbosity to 10 (on Linux, `export AUTOGRAPH_VERBOSITY=10`) and attach the full output.\n",
      "Cause: could not get source code\n",
      "To silence this warning, decorate the function with @tf.autograph.experimental.do_not_convert\n"
     ]
    },
    {
     "name": "stderr",
     "output_type": "stream",
     "text": [
      "WARNING:tensorflow:AutoGraph could not transform <function simple_ml_inference_op_with_handle at 0x7f0640889fc0> and will run it as-is.\n",
      "Please report this to the TensorFlow team. When filing the bug, set the verbosity to 10 (on Linux, `export AUTOGRAPH_VERBOSITY=10`) and attach the full output.\n",
      "Cause: could not get source code\n",
      "To silence this warning, decorate the function with @tf.autograph.experimental.do_not_convert\n"
     ]
    },
    {
     "name": "stdout",
     "output_type": "stream",
     "text": [
      "WARNING: AutoGraph could not transform <function simple_ml_inference_op_with_handle at 0x7f0640889fc0> and will run it as-is.\n",
      "Please report this to the TensorFlow team. When filing the bug, set the verbosity to 10 (on Linux, `export AUTOGRAPH_VERBOSITY=10`) and attach the full output.\n",
      "Cause: could not get source code\n",
      "To silence this warning, decorate the function with @tf.autograph.experimental.do_not_convert\n",
      "Model compiled.\n"
     ]
    },
    {
     "data": {
      "text/plain": [
       "<keras.callbacks.History at 0x7f063e73cb80>"
      ]
     },
     "execution_count": 17,
     "metadata": {},
     "output_type": "execute_result"
    }
   ],
   "source": [
    "rf_model = tfdf.keras.RandomForestModel()#categorical_algorithm = 'CART', num_trees=300, max_depth = 110)\n",
    "\n",
    "rf_model.fit(input_image_street,\n",
    "    y_train,    \n",
    "    epochs=1,\n",
    "    verbose=1)"
   ]
  },
  {
   "cell_type": "code",
   "execution_count": 18,
   "id": "14110520-7657-467c-83af-ca78d8e431de",
   "metadata": {
    "tags": []
   },
   "outputs": [
    {
     "name": "stdout",
     "output_type": "stream",
     "text": [
      "Model: \"random_forest_model\"\n",
      "_________________________________________________________________\n",
      " Layer (type)                Output Shape              Param #   \n",
      "=================================================================\n",
      "=================================================================\n",
      "Total params: 1\n",
      "Trainable params: 0\n",
      "Non-trainable params: 1\n",
      "_________________________________________________________________\n",
      "Type: \"RANDOM_FOREST\"\n",
      "Task: CLASSIFICATION\n",
      "Label: \"__LABEL\"\n",
      "\n",
      "Input Features (53):\n",
      "\tdata:0.0\n",
      "\tdata:0.1\n",
      "\tdata:0.10\n",
      "\tdata:0.11\n",
      "\tdata:0.12\n",
      "\tdata:0.13\n",
      "\tdata:0.14\n",
      "\tdata:0.15\n",
      "\tdata:0.16\n",
      "\tdata:0.17\n",
      "\tdata:0.18\n",
      "\tdata:0.19\n",
      "\tdata:0.2\n",
      "\tdata:0.20\n",
      "\tdata:0.21\n",
      "\tdata:0.22\n",
      "\tdata:0.23\n",
      "\tdata:0.24\n",
      "\tdata:0.25\n",
      "\tdata:0.26\n",
      "\tdata:0.27\n",
      "\tdata:0.28\n",
      "\tdata:0.29\n",
      "\tdata:0.3\n",
      "\tdata:0.30\n",
      "\tdata:0.31\n",
      "\tdata:0.32\n",
      "\tdata:0.33\n",
      "\tdata:0.34\n",
      "\tdata:0.35\n",
      "\tdata:0.36\n",
      "\tdata:0.37\n",
      "\tdata:0.38\n",
      "\tdata:0.39\n",
      "\tdata:0.4\n",
      "\tdata:0.40\n",
      "\tdata:0.41\n",
      "\tdata:0.42\n",
      "\tdata:0.43\n",
      "\tdata:0.44\n",
      "\tdata:0.45\n",
      "\tdata:0.46\n",
      "\tdata:0.47\n",
      "\tdata:0.48\n",
      "\tdata:0.49\n",
      "\tdata:0.5\n",
      "\tdata:0.50\n",
      "\tdata:0.51\n",
      "\tdata:0.52\n",
      "\tdata:0.6\n",
      "\tdata:0.7\n",
      "\tdata:0.8\n",
      "\tdata:0.9\n",
      "\n",
      "No weights\n",
      "\n",
      "Variable Importance: INV_MEAN_MIN_DEPTH:\n",
      "    1. \"data:0.20\"  0.220233 ################\n",
      "    2. \"data:0.11\"  0.218239 ###############\n",
      "    3. \"data:0.12\"  0.192734 ###########\n",
      "    4. \"data:0.18\"  0.168782 ######\n",
      "    5. \"data:0.19\"  0.165983 ######\n",
      "    6.  \"data:0.7\"  0.159483 #####\n",
      "    7.  \"data:0.0\"  0.157469 #####\n",
      "    8. \"data:0.21\"  0.154755 ####\n",
      "    9. \"data:0.10\"  0.151802 ####\n",
      "   10.  \"data:0.3\"  0.146656 ###\n",
      "   11.  \"data:0.6\"  0.143093 ##\n",
      "   12. \"data:0.23\"  0.141607 ##\n",
      "   13.  \"data:0.1\"  0.141443 ##\n",
      "   14. \"data:0.52\"  0.140493 ##\n",
      "   15.  \"data:0.2\"  0.140358 ##\n",
      "   16.  \"data:0.4\"  0.139969 #\n",
      "   17.  \"data:0.5\"  0.138364 #\n",
      "   18. \"data:0.22\"  0.132275 \n",
      "   19.  \"data:0.8\"  0.131336 \n",
      "   20. \"data:0.33\"  0.130512 \n",
      "   21. \"data:0.42\"  0.129943 \n",
      "   22. \"data:0.27\"  0.129813 \n",
      "   23. \"data:0.37\"  0.129658 \n",
      "   24.  \"data:0.9\"  0.129485 \n",
      "   25. \"data:0.46\"  0.129473 \n",
      "   26. \"data:0.31\"  0.129459 \n",
      "   27. \"data:0.47\"  0.129456 \n",
      "   28. \"data:0.32\"  0.129435 \n",
      "   29. \"data:0.24\"  0.129354 \n",
      "   30. \"data:0.38\"  0.129340 \n",
      "   31. \"data:0.26\"  0.129327 \n",
      "   32. \"data:0.48\"  0.129319 \n",
      "   33. \"data:0.28\"  0.129303 \n",
      "   34. \"data:0.16\"  0.129196 \n",
      "   35. \"data:0.35\"  0.129147 \n",
      "   36. \"data:0.25\"  0.129139 \n",
      "   37. \"data:0.39\"  0.129116 \n",
      "   38. \"data:0.36\"  0.129095 \n",
      "   39. \"data:0.34\"  0.129021 \n",
      "   40. \"data:0.29\"  0.129002 \n",
      "   41. \"data:0.44\"  0.128958 \n",
      "   42. \"data:0.30\"  0.128951 \n",
      "   43. \"data:0.50\"  0.128929 \n",
      "   44. \"data:0.51\"  0.128914 \n",
      "   45. \"data:0.14\"  0.128912 \n",
      "   46. \"data:0.45\"  0.128881 \n",
      "   47. \"data:0.40\"  0.128880 \n",
      "\n",
      "Variable Importance: NUM_AS_ROOT:\n",
      "    1. \"data:0.18\" 45.000000 ################\n",
      "    2. \"data:0.20\" 39.000000 #############\n",
      "    3. \"data:0.11\" 34.000000 ############\n",
      "    4. \"data:0.12\" 32.000000 ###########\n",
      "    5. \"data:0.19\" 30.000000 ##########\n",
      "    6. \"data:0.10\" 22.000000 #######\n",
      "    7.  \"data:0.7\" 18.000000 ######\n",
      "    8.  \"data:0.0\" 17.000000 #####\n",
      "    9.  \"data:0.3\" 13.000000 ####\n",
      "   10.  \"data:0.6\"  9.000000 ##\n",
      "   11. \"data:0.21\"  8.000000 ##\n",
      "   12.  \"data:0.1\"  7.000000 ##\n",
      "   13.  \"data:0.2\"  6.000000 #\n",
      "   14.  \"data:0.4\"  4.000000 #\n",
      "   15. \"data:0.23\"  3.000000 \n",
      "   16. \"data:0.33\"  3.000000 \n",
      "   17.  \"data:0.5\"  3.000000 \n",
      "   18. \"data:0.22\"  1.000000 \n",
      "   19. \"data:0.24\"  1.000000 \n",
      "   20. \"data:0.27\"  1.000000 \n",
      "   21. \"data:0.28\"  1.000000 \n",
      "   22. \"data:0.42\"  1.000000 \n",
      "   23. \"data:0.52\"  1.000000 \n",
      "   24.  \"data:0.8\"  1.000000 \n",
      "\n",
      "Variable Importance: NUM_NODES:\n",
      "    1. \"data:0.11\" 3410.000000 ################\n",
      "    2. \"data:0.20\" 2753.000000 ############\n",
      "    3. \"data:0.12\" 781.000000 ###\n",
      "    4. \"data:0.52\" 653.000000 ###\n",
      "    5.  \"data:0.0\" 520.000000 ##\n",
      "    6.  \"data:0.2\" 405.000000 #\n",
      "    7. \"data:0.21\" 395.000000 #\n",
      "    8.  \"data:0.4\" 374.000000 #\n",
      "    9.  \"data:0.3\" 349.000000 #\n",
      "   10. \"data:0.18\" 342.000000 #\n",
      "   11. \"data:0.10\" 334.000000 #\n",
      "   12.  \"data:0.5\" 322.000000 #\n",
      "   13.  \"data:0.1\" 313.000000 #\n",
      "   14.  \"data:0.6\" 310.000000 #\n",
      "   15.  \"data:0.7\" 310.000000 #\n",
      "   16. \"data:0.19\" 166.000000 \n",
      "   17. \"data:0.23\" 114.000000 \n",
      "   18.  \"data:0.8\" 79.000000 \n",
      "   19. \"data:0.22\" 37.000000 \n",
      "   20.  \"data:0.9\" 24.000000 \n",
      "   21. \"data:0.26\" 17.000000 \n",
      "   22. \"data:0.37\" 17.000000 \n",
      "   23. \"data:0.32\" 15.000000 \n",
      "   24. \"data:0.35\" 15.000000 \n",
      "   25. \"data:0.33\" 14.000000 \n",
      "   26. \"data:0.48\" 13.000000 \n",
      "   27. \"data:0.39\" 12.000000 \n",
      "   28. \"data:0.27\" 11.000000 \n",
      "   29. \"data:0.31\" 11.000000 \n",
      "   30. \"data:0.34\" 11.000000 \n",
      "   31. \"data:0.38\" 11.000000 \n",
      "   32. \"data:0.42\" 10.000000 \n",
      "   33. \"data:0.36\"  9.000000 \n",
      "   34. \"data:0.28\"  8.000000 \n",
      "   35. \"data:0.29\"  8.000000 \n",
      "   36. \"data:0.47\"  8.000000 \n",
      "   37. \"data:0.24\"  5.000000 \n",
      "   38. \"data:0.46\"  5.000000 \n",
      "   39. \"data:0.25\"  4.000000 \n",
      "   40. \"data:0.14\"  3.000000 \n",
      "   41. \"data:0.44\"  3.000000 \n",
      "   42. \"data:0.16\"  2.000000 \n",
      "   43. \"data:0.30\"  2.000000 \n",
      "   44. \"data:0.50\"  2.000000 \n",
      "   45. \"data:0.51\"  2.000000 \n",
      "   46. \"data:0.40\"  1.000000 \n",
      "   47. \"data:0.45\"  1.000000 \n",
      "\n",
      "Variable Importance: SUM_SCORE:\n",
      "    1. \"data:0.20\" 600429.026999 ################\n",
      "    2. \"data:0.11\" 584460.721844 ###############\n",
      "    3. \"data:0.18\" 391997.420558 ##########\n",
      "    4. \"data:0.12\" 75699.478885 ##\n",
      "    5. \"data:0.19\" 58511.387010 #\n",
      "    6.  \"data:0.7\" 13661.126366 \n",
      "    7. \"data:0.10\" 10369.049705 \n",
      "    8.  \"data:0.0\" 9181.625932 \n",
      "    9. \"data:0.21\" 7943.010985 \n",
      "   10.  \"data:0.3\" 5703.942454 \n",
      "   11.  \"data:0.6\" 5108.721850 \n",
      "   12. \"data:0.52\" 4204.770145 \n",
      "   13.  \"data:0.1\" 4194.459504 \n",
      "   14.  \"data:0.2\" 3586.244190 \n",
      "   15.  \"data:0.4\" 3402.489949 \n",
      "   16. \"data:0.23\" 3222.111547 \n",
      "   17.  \"data:0.5\" 2935.918263 \n",
      "   18.  \"data:0.8\" 588.691186 \n",
      "   19. \"data:0.22\" 451.584042 \n",
      "   20. \"data:0.33\" 248.889333 \n",
      "   21. \"data:0.42\" 221.167038 \n",
      "   22.  \"data:0.9\" 191.093924 \n",
      "   23. \"data:0.32\" 164.360270 \n",
      "   24. \"data:0.48\" 159.790737 \n",
      "   25. \"data:0.37\" 119.250031 \n",
      "   26. \"data:0.26\" 107.564461 \n",
      "   27. \"data:0.35\" 106.352145 \n",
      "   28. \"data:0.27\" 99.880271 \n",
      "   29. \"data:0.31\" 76.109408 \n",
      "   30. \"data:0.38\" 73.184887 \n",
      "   31. \"data:0.39\" 71.973872 \n",
      "   32. \"data:0.28\" 69.870027 \n",
      "   33. \"data:0.34\" 65.673449 \n",
      "   34. \"data:0.36\" 54.879968 \n",
      "   35. \"data:0.24\" 48.728427 \n",
      "   36. \"data:0.47\" 43.290549 \n",
      "   37. \"data:0.29\" 43.064692 \n",
      "   38. \"data:0.46\" 39.286758 \n",
      "   39. \"data:0.44\" 25.901678 \n",
      "   40. \"data:0.25\" 22.188274 \n",
      "   41. \"data:0.16\" 16.918447 \n",
      "   42. \"data:0.51\" 12.604440 \n",
      "   43. \"data:0.14\" 11.823958 \n",
      "   44. \"data:0.30\" 10.558031 \n",
      "   45. \"data:0.50\"  7.662725 \n",
      "   46. \"data:0.45\"  2.814708 \n",
      "   47. \"data:0.40\"  0.033908 \n",
      "\n",
      "\n",
      "\n",
      "Winner takes all: true\n",
      "Out-of-bag evaluation: accuracy:0.997851 logloss:0.0162189\n",
      "Number of trees: 300\n",
      "Total number of nodes: 24722\n",
      "\n",
      "Number of nodes by tree:\n",
      "Count: 300 Average: 82.4067 StdDev: 35.1573\n",
      "Min: 17 Max: 211 Ignored: 0\n",
      "----------------------------------------------\n",
      "[  17,  26)  6   2.00%   2.00% ##\n",
      "[  26,  36) 18   6.00%   8.00% #####\n",
      "[  36,  46) 23   7.67%  15.67% ######\n",
      "[  46,  56) 28   9.33%  25.00% ########\n",
      "[  56,  65) 26   8.67%  33.67% #######\n",
      "[  65,  75) 29   9.67%  43.33% ########\n",
      "[  75,  85) 35  11.67%  55.00% #########\n",
      "[  85,  95) 37  12.33%  67.33% ##########\n",
      "[  95, 104) 27   9.00%  76.33% #######\n",
      "[ 104, 114) 16   5.33%  81.67% ####\n",
      "[ 114, 124) 17   5.67%  87.33% #####\n",
      "[ 124, 134) 10   3.33%  90.67% ###\n",
      "[ 134, 143) 11   3.67%  94.33% ###\n",
      "[ 143, 153)  5   1.67%  96.00% #\n",
      "[ 153, 163)  4   1.33%  97.33% #\n",
      "[ 163, 173)  2   0.67%  98.00% #\n",
      "[ 173, 182)  4   1.33%  99.33% #\n",
      "[ 182, 192)  1   0.33%  99.67%\n",
      "[ 192, 202)  0   0.00%  99.67%\n",
      "[ 202, 211]  1   0.33% 100.00%\n",
      "\n",
      "Depth by leafs:\n",
      "Count: 12511 Average: 7.00392 StdDev: 2.07202\n",
      "Min: 1 Max: 15 Ignored: 0\n",
      "----------------------------------------------\n",
      "[  1,  2)  118   0.94%   0.94%\n",
      "[  2,  3)  203   1.62%   2.57% #\n",
      "[  3,  4)  299   2.39%   4.96% #\n",
      "[  4,  5)  699   5.59%  10.54% ###\n",
      "[  5,  6) 1366  10.92%  21.46% #####\n",
      "[  6,  7) 2155  17.22%  38.69% ########\n",
      "[  7,  8) 2544  20.33%  59.02% ##########\n",
      "[  8,  9) 2285  18.26%  77.28% #########\n",
      "[  9, 10) 1559  12.46%  89.75% ######\n",
      "[ 10, 11)  825   6.59%  96.34% ###\n",
      "[ 11, 12)  299   2.39%  98.73% #\n",
      "[ 12, 13)  105   0.84%  99.57%\n",
      "[ 13, 14)   35   0.28%  99.85%\n",
      "[ 14, 15)    9   0.07%  99.92%\n",
      "[ 15, 15]   10   0.08% 100.00%\n",
      "\n",
      "Number of training obs by leaf:\n",
      "Count: 12511 Average: 200.847 StdDev: 863.545\n",
      "Min: 5 Max: 6758 Ignored: 0\n",
      "----------------------------------------------\n",
      "[    5,  342) 11609  92.79%  92.79% ##########\n",
      "[  342,  680)   325   2.60%  95.39%\n",
      "[  680, 1018)   113   0.90%  96.29%\n",
      "[ 1018, 1355)    57   0.46%  96.75%\n",
      "[ 1355, 1693)    24   0.19%  96.94%\n",
      "[ 1693, 2031)    26   0.21%  97.15%\n",
      "[ 2031, 2368)    15   0.12%  97.27%\n",
      "[ 2368, 2706)    29   0.23%  97.50%\n",
      "[ 2706, 3044)    18   0.14%  97.64%\n",
      "[ 3044, 3382)    46   0.37%  98.01%\n",
      "[ 3382, 3719)    34   0.27%  98.28%\n",
      "[ 3719, 4057)     7   0.06%  98.34%\n",
      "[ 4057, 4395)     4   0.03%  98.37%\n",
      "[ 4395, 4732)    13   0.10%  98.47%\n",
      "[ 4732, 5070)     8   0.06%  98.54%\n",
      "[ 5070, 5408)     5   0.04%  98.58%\n",
      "[ 5408, 5745)    12   0.10%  98.67%\n",
      "[ 5745, 6083)    39   0.31%  98.98%\n",
      "[ 6083, 6421)     3   0.02%  99.01%\n",
      "[ 6421, 6758]   124   0.99% 100.00%\n",
      "\n",
      "Attribute in nodes:\n",
      "\t3410 : data:0.11 [NUMERICAL]\n",
      "\t2753 : data:0.20 [NUMERICAL]\n",
      "\t781 : data:0.12 [NUMERICAL]\n",
      "\t653 : data:0.52 [NUMERICAL]\n",
      "\t520 : data:0.0 [NUMERICAL]\n",
      "\t405 : data:0.2 [NUMERICAL]\n",
      "\t395 : data:0.21 [NUMERICAL]\n",
      "\t374 : data:0.4 [NUMERICAL]\n",
      "\t349 : data:0.3 [NUMERICAL]\n",
      "\t342 : data:0.18 [NUMERICAL]\n",
      "\t334 : data:0.10 [NUMERICAL]\n",
      "\t322 : data:0.5 [NUMERICAL]\n",
      "\t313 : data:0.1 [NUMERICAL]\n",
      "\t310 : data:0.7 [NUMERICAL]\n",
      "\t310 : data:0.6 [NUMERICAL]\n",
      "\t166 : data:0.19 [NUMERICAL]\n",
      "\t114 : data:0.23 [NUMERICAL]\n",
      "\t79 : data:0.8 [NUMERICAL]\n",
      "\t37 : data:0.22 [NUMERICAL]\n",
      "\t24 : data:0.9 [NUMERICAL]\n",
      "\t17 : data:0.37 [NUMERICAL]\n",
      "\t17 : data:0.26 [NUMERICAL]\n",
      "\t15 : data:0.35 [NUMERICAL]\n",
      "\t15 : data:0.32 [NUMERICAL]\n",
      "\t14 : data:0.33 [NUMERICAL]\n",
      "\t13 : data:0.48 [NUMERICAL]\n",
      "\t12 : data:0.39 [NUMERICAL]\n",
      "\t11 : data:0.38 [NUMERICAL]\n",
      "\t11 : data:0.34 [NUMERICAL]\n",
      "\t11 : data:0.31 [NUMERICAL]\n",
      "\t11 : data:0.27 [NUMERICAL]\n",
      "\t10 : data:0.42 [NUMERICAL]\n",
      "\t9 : data:0.36 [NUMERICAL]\n",
      "\t8 : data:0.47 [NUMERICAL]\n",
      "\t8 : data:0.29 [NUMERICAL]\n",
      "\t8 : data:0.28 [NUMERICAL]\n",
      "\t5 : data:0.46 [NUMERICAL]\n",
      "\t5 : data:0.24 [NUMERICAL]\n",
      "\t4 : data:0.25 [NUMERICAL]\n",
      "\t3 : data:0.44 [NUMERICAL]\n",
      "\t3 : data:0.14 [NUMERICAL]\n",
      "\t2 : data:0.51 [NUMERICAL]\n",
      "\t2 : data:0.50 [NUMERICAL]\n",
      "\t2 : data:0.30 [NUMERICAL]\n",
      "\t2 : data:0.16 [NUMERICAL]\n",
      "\t1 : data:0.45 [NUMERICAL]\n",
      "\t1 : data:0.40 [NUMERICAL]\n",
      "\n",
      "Attribute in nodes with depth <= 0:\n",
      "\t45 : data:0.18 [NUMERICAL]\n",
      "\t39 : data:0.20 [NUMERICAL]\n",
      "\t34 : data:0.11 [NUMERICAL]\n",
      "\t32 : data:0.12 [NUMERICAL]\n",
      "\t30 : data:0.19 [NUMERICAL]\n",
      "\t22 : data:0.10 [NUMERICAL]\n",
      "\t18 : data:0.7 [NUMERICAL]\n",
      "\t17 : data:0.0 [NUMERICAL]\n",
      "\t13 : data:0.3 [NUMERICAL]\n",
      "\t9 : data:0.6 [NUMERICAL]\n",
      "\t8 : data:0.21 [NUMERICAL]\n",
      "\t7 : data:0.1 [NUMERICAL]\n",
      "\t6 : data:0.2 [NUMERICAL]\n",
      "\t4 : data:0.4 [NUMERICAL]\n",
      "\t3 : data:0.5 [NUMERICAL]\n",
      "\t3 : data:0.33 [NUMERICAL]\n",
      "\t3 : data:0.23 [NUMERICAL]\n",
      "\t1 : data:0.8 [NUMERICAL]\n",
      "\t1 : data:0.52 [NUMERICAL]\n",
      "\t1 : data:0.42 [NUMERICAL]\n",
      "\t1 : data:0.28 [NUMERICAL]\n",
      "\t1 : data:0.27 [NUMERICAL]\n",
      "\t1 : data:0.24 [NUMERICAL]\n",
      "\t1 : data:0.22 [NUMERICAL]\n",
      "\n",
      "Attribute in nodes with depth <= 1:\n",
      "\t135 : data:0.20 [NUMERICAL]\n",
      "\t118 : data:0.11 [NUMERICAL]\n",
      "\t101 : data:0.18 [NUMERICAL]\n",
      "\t69 : data:0.12 [NUMERICAL]\n",
      "\t66 : data:0.19 [NUMERICAL]\n",
      "\t43 : data:0.0 [NUMERICAL]\n",
      "\t41 : data:0.7 [NUMERICAL]\n",
      "\t34 : data:0.10 [NUMERICAL]\n",
      "\t27 : data:0.21 [NUMERICAL]\n",
      "\t25 : data:0.3 [NUMERICAL]\n",
      "\t20 : data:0.6 [NUMERICAL]\n",
      "\t19 : data:0.23 [NUMERICAL]\n",
      "\t19 : data:0.1 [NUMERICAL]\n",
      "\t13 : data:0.4 [NUMERICAL]\n",
      "\t11 : data:0.5 [NUMERICAL]\n",
      "\t10 : data:0.52 [NUMERICAL]\n",
      "\t10 : data:0.2 [NUMERICAL]\n",
      "\t4 : data:0.8 [NUMERICAL]\n",
      "\t4 : data:0.33 [NUMERICAL]\n",
      "\t3 : data:0.22 [NUMERICAL]\n",
      "\t2 : data:0.9 [NUMERICAL]\n",
      "\t2 : data:0.42 [NUMERICAL]\n",
      "\t2 : data:0.27 [NUMERICAL]\n",
      "\t1 : data:0.37 [NUMERICAL]\n",
      "\t1 : data:0.28 [NUMERICAL]\n",
      "\t1 : data:0.24 [NUMERICAL]\n",
      "\t1 : data:0.16 [NUMERICAL]\n",
      "\n",
      "Attribute in nodes with depth <= 2:\n",
      "\t283 : data:0.11 [NUMERICAL]\n",
      "\t281 : data:0.20 [NUMERICAL]\n",
      "\t154 : data:0.18 [NUMERICAL]\n",
      "\t135 : data:0.12 [NUMERICAL]\n",
      "\t104 : data:0.19 [NUMERICAL]\n",
      "\t88 : data:0.7 [NUMERICAL]\n",
      "\t70 : data:0.0 [NUMERICAL]\n",
      "\t63 : data:0.21 [NUMERICAL]\n",
      "\t60 : data:0.10 [NUMERICAL]\n",
      "\t45 : data:0.3 [NUMERICAL]\n",
      "\t38 : data:0.1 [NUMERICAL]\n",
      "\t34 : data:0.23 [NUMERICAL]\n",
      "\t33 : data:0.6 [NUMERICAL]\n",
      "\t30 : data:0.2 [NUMERICAL]\n",
      "\t27 : data:0.52 [NUMERICAL]\n",
      "\t24 : data:0.5 [NUMERICAL]\n",
      "\t23 : data:0.4 [NUMERICAL]\n",
      "\t15 : data:0.22 [NUMERICAL]\n",
      "\t11 : data:0.8 [NUMERICAL]\n",
      "\t4 : data:0.42 [NUMERICAL]\n",
      "\t4 : data:0.33 [NUMERICAL]\n",
      "\t3 : data:0.9 [NUMERICAL]\n",
      "\t3 : data:0.37 [NUMERICAL]\n",
      "\t2 : data:0.47 [NUMERICAL]\n",
      "\t2 : data:0.46 [NUMERICAL]\n",
      "\t2 : data:0.27 [NUMERICAL]\n",
      "\t1 : data:0.35 [NUMERICAL]\n",
      "\t1 : data:0.31 [NUMERICAL]\n",
      "\t1 : data:0.28 [NUMERICAL]\n",
      "\t1 : data:0.24 [NUMERICAL]\n",
      "\t1 : data:0.16 [NUMERICAL]\n",
      "\n",
      "Attribute in nodes with depth <= 3:\n",
      "\t617 : data:0.11 [NUMERICAL]\n",
      "\t548 : data:0.20 [NUMERICAL]\n",
      "\t241 : data:0.12 [NUMERICAL]\n",
      "\t211 : data:0.18 [NUMERICAL]\n",
      "\t134 : data:0.0 [NUMERICAL]\n",
      "\t131 : data:0.7 [NUMERICAL]\n",
      "\t131 : data:0.19 [NUMERICAL]\n",
      "\t108 : data:0.21 [NUMERICAL]\n",
      "\t91 : data:0.10 [NUMERICAL]\n",
      "\t67 : data:0.52 [NUMERICAL]\n",
      "\t67 : data:0.1 [NUMERICAL]\n",
      "\t62 : data:0.3 [NUMERICAL]\n",
      "\t59 : data:0.6 [NUMERICAL]\n",
      "\t56 : data:0.2 [NUMERICAL]\n",
      "\t52 : data:0.4 [NUMERICAL]\n",
      "\t52 : data:0.23 [NUMERICAL]\n",
      "\t51 : data:0.5 [NUMERICAL]\n",
      "\t18 : data:0.8 [NUMERICAL]\n",
      "\t18 : data:0.22 [NUMERICAL]\n",
      "\t8 : data:0.42 [NUMERICAL]\n",
      "\t6 : data:0.37 [NUMERICAL]\n",
      "\t5 : data:0.9 [NUMERICAL]\n",
      "\t5 : data:0.33 [NUMERICAL]\n",
      "\t4 : data:0.35 [NUMERICAL]\n",
      "\t3 : data:0.47 [NUMERICAL]\n",
      "\t3 : data:0.46 [NUMERICAL]\n",
      "\t3 : data:0.36 [NUMERICAL]\n",
      "\t3 : data:0.27 [NUMERICAL]\n",
      "\t3 : data:0.26 [NUMERICAL]\n",
      "\t2 : data:0.38 [NUMERICAL]\n",
      "\t2 : data:0.24 [NUMERICAL]\n",
      "\t1 : data:0.31 [NUMERICAL]\n",
      "\t1 : data:0.28 [NUMERICAL]\n",
      "\t1 : data:0.25 [NUMERICAL]\n",
      "\t1 : data:0.16 [NUMERICAL]\n",
      "\t1 : data:0.14 [NUMERICAL]\n",
      "\n",
      "Attribute in nodes with depth <= 5:\n",
      "\t1732 : data:0.11 [NUMERICAL]\n",
      "\t1531 : data:0.20 [NUMERICAL]\n",
      "\t519 : data:0.12 [NUMERICAL]\n",
      "\t307 : data:0.18 [NUMERICAL]\n",
      "\t270 : data:0.0 [NUMERICAL]\n",
      "\t266 : data:0.52 [NUMERICAL]\n",
      "\t212 : data:0.7 [NUMERICAL]\n",
      "\t208 : data:0.21 [NUMERICAL]\n",
      "\t195 : data:0.10 [NUMERICAL]\n",
      "\t166 : data:0.3 [NUMERICAL]\n",
      "\t166 : data:0.2 [NUMERICAL]\n",
      "\t165 : data:0.4 [NUMERICAL]\n",
      "\t160 : data:0.6 [NUMERICAL]\n",
      "\t157 : data:0.19 [NUMERICAL]\n",
      "\t149 : data:0.5 [NUMERICAL]\n",
      "\t141 : data:0.1 [NUMERICAL]\n",
      "\t78 : data:0.23 [NUMERICAL]\n",
      "\t50 : data:0.8 [NUMERICAL]\n",
      "\t28 : data:0.22 [NUMERICAL]\n",
      "\t14 : data:0.37 [NUMERICAL]\n",
      "\t12 : data:0.9 [NUMERICAL]\n",
      "\t11 : data:0.35 [NUMERICAL]\n",
      "\t11 : data:0.26 [NUMERICAL]\n",
      "\t10 : data:0.42 [NUMERICAL]\n",
      "\t9 : data:0.32 [NUMERICAL]\n",
      "\t7 : data:0.48 [NUMERICAL]\n",
      "\t7 : data:0.38 [NUMERICAL]\n",
      "\t7 : data:0.36 [NUMERICAL]\n",
      "\t7 : data:0.33 [NUMERICAL]\n",
      "\t6 : data:0.34 [NUMERICAL]\n",
      "\t6 : data:0.31 [NUMERICAL]\n",
      "\t6 : data:0.27 [NUMERICAL]\n",
      "\t4 : data:0.47 [NUMERICAL]\n",
      "\t4 : data:0.46 [NUMERICAL]\n",
      "\t3 : data:0.39 [NUMERICAL]\n",
      "\t3 : data:0.25 [NUMERICAL]\n",
      "\t2 : data:0.44 [NUMERICAL]\n",
      "\t2 : data:0.29 [NUMERICAL]\n",
      "\t2 : data:0.28 [NUMERICAL]\n",
      "\t2 : data:0.24 [NUMERICAL]\n",
      "\t2 : data:0.14 [NUMERICAL]\n",
      "\t1 : data:0.51 [NUMERICAL]\n",
      "\t1 : data:0.50 [NUMERICAL]\n",
      "\t1 : data:0.30 [NUMERICAL]\n",
      "\t1 : data:0.16 [NUMERICAL]\n",
      "\n",
      "Condition type in nodes:\n",
      "\t12211 : HigherCondition\n",
      "Condition type in nodes with depth <= 0:\n",
      "\t300 : HigherCondition\n",
      "Condition type in nodes with depth <= 1:\n",
      "\t782 : HigherCondition\n",
      "Condition type in nodes with depth <= 2:\n",
      "\t1543 : HigherCondition\n",
      "Condition type in nodes with depth <= 3:\n",
      "\t2766 : HigherCondition\n",
      "Condition type in nodes with depth <= 5:\n",
      "\t6641 : HigherCondition\n",
      "Node format: NOT_SET\n",
      "\n",
      "Training OOB:\n",
      "\ttrees: 1, Out-of-bag evaluation: accuracy:0.998069 logloss:0.0696047\n",
      "\ttrees: 11, Out-of-bag evaluation: accuracy:0.994948 logloss:0.0651061\n",
      "\ttrees: 21, Out-of-bag evaluation: accuracy:0.996896 logloss:0.0316926\n",
      "\ttrees: 31, Out-of-bag evaluation: accuracy:0.997493 logloss:0.0270358\n",
      "\ttrees: 41, Out-of-bag evaluation: accuracy:0.997493 logloss:0.0193399\n",
      "\ttrees: 51, Out-of-bag evaluation: accuracy:0.997373 logloss:0.0202306\n",
      "\ttrees: 61, Out-of-bag evaluation: accuracy:0.997493 logloss:0.0198878\n",
      "\ttrees: 71, Out-of-bag evaluation: accuracy:0.997732 logloss:0.0197677\n",
      "\ttrees: 81, Out-of-bag evaluation: accuracy:0.99797 logloss:0.0200551\n",
      "\ttrees: 91, Out-of-bag evaluation: accuracy:0.99797 logloss:0.019942\n",
      "\ttrees: 101, Out-of-bag evaluation: accuracy:0.99797 logloss:0.0201673\n",
      "\ttrees: 111, Out-of-bag evaluation: accuracy:0.99797 logloss:0.0161167\n",
      "\ttrees: 121, Out-of-bag evaluation: accuracy:0.99797 logloss:0.0162007\n",
      "\ttrees: 131, Out-of-bag evaluation: accuracy:0.997851 logloss:0.0159851\n",
      "\ttrees: 141, Out-of-bag evaluation: accuracy:0.997851 logloss:0.0159406\n",
      "\ttrees: 151, Out-of-bag evaluation: accuracy:0.997732 logloss:0.0159172\n",
      "\ttrees: 161, Out-of-bag evaluation: accuracy:0.997612 logloss:0.0159313\n",
      "\ttrees: 171, Out-of-bag evaluation: accuracy:0.997851 logloss:0.016031\n",
      "\ttrees: 181, Out-of-bag evaluation: accuracy:0.997612 logloss:0.0161385\n",
      "\ttrees: 191, Out-of-bag evaluation: accuracy:0.997612 logloss:0.0161031\n",
      "\ttrees: 201, Out-of-bag evaluation: accuracy:0.997732 logloss:0.0160039\n",
      "\ttrees: 211, Out-of-bag evaluation: accuracy:0.997732 logloss:0.0161451\n",
      "\ttrees: 221, Out-of-bag evaluation: accuracy:0.997732 logloss:0.0159442\n",
      "\ttrees: 231, Out-of-bag evaluation: accuracy:0.997732 logloss:0.0160332\n",
      "\ttrees: 241, Out-of-bag evaluation: accuracy:0.997851 logloss:0.0161115\n",
      "\ttrees: 251, Out-of-bag evaluation: accuracy:0.997851 logloss:0.0161579\n",
      "\ttrees: 261, Out-of-bag evaluation: accuracy:0.997851 logloss:0.016187\n",
      "\ttrees: 271, Out-of-bag evaluation: accuracy:0.997851 logloss:0.0161879\n",
      "\ttrees: 281, Out-of-bag evaluation: accuracy:0.997851 logloss:0.0161938\n",
      "\ttrees: 291, Out-of-bag evaluation: accuracy:0.997851 logloss:0.0162224\n",
      "\ttrees: 300, Out-of-bag evaluation: accuracy:0.997851 logloss:0.0162189\n",
      "\n",
      "None\n"
     ]
    }
   ],
   "source": [
    "print(rf_model.summary())"
   ]
  },
  {
   "cell_type": "code",
   "execution_count": 19,
   "id": "5b594c40-eec6-4cff-afc6-c93870de0de5",
   "metadata": {
    "tags": []
   },
   "outputs": [],
   "source": [
    "##uncomment to show training log\n",
    "# rf_model.make_inspector().training_logs()"
   ]
  },
  {
   "cell_type": "code",
   "execution_count": 20,
   "id": "38ab9678-981c-4728-9f5e-d4f1b06b5b4d",
   "metadata": {
    "tags": []
   },
   "outputs": [
    {
     "data": {
      "text/plain": [
       "Evaluation(num_examples=8376, accuracy=0.9978510028653295, loss=0.016218857756533873, rmse=None, ndcg=None, aucs=None, auuc=None, qini=None)"
      ]
     },
     "execution_count": 20,
     "metadata": {},
     "output_type": "execute_result"
    }
   ],
   "source": [
    "rf_model.make_inspector().evaluation()"
   ]
  },
  {
   "cell_type": "code",
   "execution_count": 21,
   "id": "8af3edc9-2e32-4bc8-8c5b-5bf3085d8060",
   "metadata": {
    "tags": []
   },
   "outputs": [
    {
     "data": {
      "image/png": "[encoded data removed]",
      "text/plain": [
       "<Figure size 640x480 with 1 Axes>"
      ]
     },
     "metadata": {},
     "output_type": "display_data"
    }
   ],
   "source": [
    "import matplotlib.pyplot as plt\n",
    "\n",
    "logs = rf_model.make_inspector().training_logs()\n",
    "\n",
    "plt.plot([log.evaluation.num_examples for log in logs], [log.evaluation.loss for log in logs], label=\"training data\")\n",
    "plt.xlabel(\"Number of trees\")\n",
    "plt.ylabel(\"Loss\")\n",
    "plt.legend()\n",
    "plt.show()"
   ]
  },
  {
   "cell_type": "code",
   "execution_count": 22,
   "id": "b50d39f5-7211-436d-8355-6775818e613b",
   "metadata": {
    "tags": []
   },
   "outputs": [
    {
     "data": {
      "image/png": "[encoded data removed]",
      "text/plain": [
       "<Figure size 640x480 with 1 Axes>"
      ]
     },
     "metadata": {},
     "output_type": "display_data"
    }
   ],
   "source": [
    "import matplotlib.pyplot as plt\n",
    "\n",
    "logs = rf_model.make_inspector().training_logs()\n",
    "\n",
    "plt.plot([log.evaluation.num_examples for log in logs], [log.evaluation.accuracy for log in logs], label=\"training data\")\n",
    "plt.xlabel(\"Number of trees\")\n",
    "plt.ylabel(\"Accuracy\")\n",
    "plt.legend()\n",
    "plt.show()"
   ]
  },
  {
   "cell_type": "code",
   "execution_count": 23,
   "id": "7078a13f-031f-4516-befd-3e8bbad12679",
   "metadata": {
    "tags": []
   },
   "outputs": [
    {
     "name": "stdout",
     "output_type": "stream",
     "text": [
      "66/66 [==============================] - 0s 2ms/step - loss: 0.0000e+00\n"
     ]
    },
    {
     "data": {
      "text/plain": [
       "0.0"
      ]
     },
     "execution_count": 23,
     "metadata": {},
     "output_type": "execute_result"
    }
   ],
   "source": [
    "#evaluate the model\n",
    "rf_model.evaluate(input_image_street_test)"
   ]
  },
  {
   "cell_type": "code",
   "execution_count": 24,
   "id": "8227c76c-58ef-4dc8-a5d9-e6b0ab3048af",
   "metadata": {
    "tags": []
   },
   "outputs": [
    {
     "name": "stdout",
     "output_type": "stream",
     "text": [
      "66/66 [==============================] - 0s 2ms/step\n"
     ]
    },
    {
     "data": {
      "text/plain": [
       "array([[0.99999917, 0.        , 0.        , ..., 0.        , 0.        ,\n",
       "        0.        ],\n",
       "       [0.        , 0.01      , 0.10666663, ..., 0.00666667, 0.00333333,\n",
       "        0.        ],\n",
       "       [0.99999917, 0.        , 0.        , ..., 0.        , 0.        ,\n",
       "        0.        ],\n",
       "       ...,\n",
       "       [0.99999917, 0.        , 0.        , ..., 0.        , 0.        ,\n",
       "        0.        ],\n",
       "       [0.99999917, 0.        , 0.        , ..., 0.        , 0.        ,\n",
       "        0.        ],\n",
       "       [0.99666584, 0.00333333, 0.        , ..., 0.        , 0.        ,\n",
       "        0.        ]], dtype=float32)"
      ]
     },
     "execution_count": 24,
     "metadata": {},
     "output_type": "execute_result"
    }
   ],
   "source": [
    "rf_model.predict(input_image_street_test)"
   ]
  },
  {
   "cell_type": "code",
   "execution_count": 25,
   "id": "94be5ae4-5e10-443a-a589-87386a3f493f",
   "metadata": {},
   "outputs": [
    {
     "name": "stdout",
     "output_type": "stream",
     "text": [
      "66/66 [==============================] - 0s 2ms/step\n",
      "macro f1:  0.6492424242424242\n",
      "f1 by class:  [1.         1.         1.         1.         0.91666667 0.90909091\n",
      " 0.66666667 0.         0.         0.        ]\n"
     ]
    }
   ],
   "source": [
    "predicted_result = rf_model.predict(input_image_street_test)\n",
    "test_values = []\n",
    "for i in predicted_result: \n",
    "    input_list = i\n",
    "    max_value = max(input_list)\n",
    "    index = [index for index, item in enumerate(input_list) if item == max_value]\n",
    "    test_values.append(index[0])\n",
    "print('macro f1: ', f1_score(y_test, test_values, average = 'macro' ))\n",
    "print('f1 by class: ', f1_score(y_test, test_values, average = None ))"
   ]
  },
  {
   "cell_type": "code",
   "execution_count": null,
   "id": "0cba1432-1065-4504-821e-e68ee93e139a",
   "metadata": {},
   "outputs": [],
   "source": []
  }
 ],
 "metadata": {
  "kernelspec": {
   "display_name": "Python 3 (ipykernel)",
   "language": "python",
   "name": "python3"
  },
  "language_info": {
   "codemirror_mode": {
    "name": "ipython",
    "version": 3
   },
   "file_extension": ".py",
   "mimetype": "text/x-python",
   "name": "python",
   "nbconvert_exporter": "python",
   "pygments_lexer": "ipython3",
   "version": "3.10.6"
  }
 },
 "nbformat": 4,
 "nbformat_minor": 5
}
