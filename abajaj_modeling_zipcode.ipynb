{
 "cells": [
  {
   "cell_type": "code",
   "execution_count": 1,
   "id": "356025b8",
   "metadata": {
    "tags": []
   },
   "outputs": [
    {
     "name": "stderr",
     "output_type": "stream",
     "text": [
      "2023-04-10 05:15:59.276604: I tensorflow/core/platform/cpu_feature_guard.cc:193] This TensorFlow binary is optimized with oneAPI Deep Neural Network Library (oneDNN) to use the following CPU instructions in performance-critical operations:  AVX2 FMA\n",
      "To enable them in other operations, rebuild TensorFlow with the appropriate compiler flags.\n",
      "2023-04-10 05:16:00.168764: W tensorflow/compiler/xla/stream_executor/platform/default/dso_loader.cc:64] Could not load dynamic library 'libnvinfer.so.7'; dlerror: libnvinfer.so.7: cannot open shared object file: No such file or directory; LD_LIBRARY_PATH: /opt/amazon/efa/lib:/opt/amazon/openmpi/lib:/usr/local/cuda/efa/lib:/usr/local/cuda/lib:/usr/local/cuda:/usr/local/cuda/lib64:/usr/local/cuda/extras/CUPTI/lib64:/usr/local/cuda/targets/x86_64-linux/lib:/usr/local/lib:/usr/lib:/opt/amazon/efa/lib:/opt/amazon/openmpi/lib:/usr/local/cuda/efa/lib:/usr/local/cuda/lib:/usr/local/cuda:/usr/local/cuda/lib64:/usr/local/cuda/extras/CUPTI/lib64:/usr/local/cuda/targets/x86_64-linux/lib:/usr/local/lib:/usr/lib:\n",
      "2023-04-10 05:16:00.168897: W tensorflow/compiler/xla/stream_executor/platform/default/dso_loader.cc:64] Could not load dynamic library 'libnvinfer_plugin.so.7'; dlerror: libnvinfer_plugin.so.7: cannot open shared object file: No such file or directory; LD_LIBRARY_PATH: /opt/amazon/efa/lib:/opt/amazon/openmpi/lib:/usr/local/cuda/efa/lib:/usr/local/cuda/lib:/usr/local/cuda:/usr/local/cuda/lib64:/usr/local/cuda/extras/CUPTI/lib64:/usr/local/cuda/targets/x86_64-linux/lib:/usr/local/lib:/usr/lib:/opt/amazon/efa/lib:/opt/amazon/openmpi/lib:/usr/local/cuda/efa/lib:/usr/local/cuda/lib:/usr/local/cuda:/usr/local/cuda/lib64:/usr/local/cuda/extras/CUPTI/lib64:/usr/local/cuda/targets/x86_64-linux/lib:/usr/local/lib:/usr/lib:\n",
      "2023-04-10 05:16:00.168908: W tensorflow/compiler/tf2tensorrt/utils/py_utils.cc:38] TF-TRT Warning: Cannot dlopen some TensorRT libraries. If you would like to use Nvidia GPU with TensorRT, please make sure the missing libraries mentioned above are installed properly.\n"
     ]
    }
   ],
   "source": [
    "import numpy as np\n",
    "import pandas as pd\n",
    "import math\n",
    "\n",
    "import matplotlib\n",
    "import matplotlib.pyplot as plt\n",
    "\n",
    "import tensorflow as tf\n",
    "from tensorflow import keras\n",
    "from tensorflow.keras import layers\n",
    "from tensorflow.keras.layers import concatenate\n",
    "import tensorflow_addons as tfa\n",
    "from keras.layers import Flatten, Dense, Dropout\n",
    "import tifffile\n",
    "\n",
    "from sklearn.model_selection import train_test_split\n",
    "from sklearn.preprocessing import LabelBinarizer, normalize\n",
    "from sklearn.linear_model import LogisticRegression\n",
    "from sklearn.metrics import f1_score\n",
    "from sklearn.utils.class_weight import compute_class_weight\n",
    "import os\n",
    "\n",
    "from imblearn.over_sampling import RandomOverSampler, SMOTE\n",
    "from imblearn.combine import SMOTEENN \n",
    "from collections import Counter\n",
    "import seaborn as sns\n",
    "import scipy\n",
    "from numba import cuda \n",
    "\n",
    "from sklearn.metrics import confusion_matrix"
   ]
  },
  {
   "cell_type": "code",
   "execution_count": 2,
   "id": "bc10282d-f694-4346-b6e6-34923575c633",
   "metadata": {
    "tags": []
   },
   "outputs": [],
   "source": [
    "def reset_gpu():\n",
    "    device = cuda.get_current_device()\n",
    "    device.reset()"
   ]
  },
  {
   "cell_type": "code",
   "execution_count": 3,
   "id": "8bb10982-72ec-439c-9c1a-6c182803eb2f",
   "metadata": {
    "tags": []
   },
   "outputs": [],
   "source": [
    "def plot_loss(history):\n",
    "    plt.plot(history.history['loss'], label='loss')\n",
    "    plt.plot(history.history['val_loss'], label='val_loss')\n",
    "    plt.ylim([0, \n",
    "            max(\n",
    "                max(history.history['loss']),\n",
    "                max(history.history['val_loss'])\n",
    "            )])\n",
    "    plt.xlabel('Epoch')\n",
    "    plt.ylabel('Loss')\n",
    "    plt.legend()\n",
    "    plt.grid(True)"
   ]
  },
  {
   "cell_type": "code",
   "execution_count": 4,
   "id": "f3693092",
   "metadata": {
    "tags": []
   },
   "outputs": [],
   "source": [
    "tiles_expanded_rv = pd.read_csv(r'Data/Tiles_TRAIN.csv')\n",
    "tiles_expanded_rv_test = pd.read_csv(r'Data/Tiles_TEST.csv')"
   ]
  },
  {
   "cell_type": "code",
   "execution_count": 5,
   "id": "49a452ed-344e-455e-bc31-d16170854e5f",
   "metadata": {
    "tags": []
   },
   "outputs": [],
   "source": [
    "# tiles_test_rv = pd.read_csv(r'Data/Tiles_TEST.csv')"
   ]
  },
  {
   "cell_type": "markdown",
   "id": "c3a6b82c",
   "metadata": {},
   "source": [
    "Split into training and test"
   ]
  },
  {
   "cell_type": "code",
   "execution_count": 6,
   "id": "0d50fdd4",
   "metadata": {
    "tags": []
   },
   "outputs": [],
   "source": [
    "MODEL_TYPE='logistic' # 'linear'\n",
    "\n",
    "if MODEL_TYPE == 'linear':\n",
    "    input_x = ['Tile_ID','Collisions_Historical', 'Mid_lat_norm','Mid_long_norm', 'Stop_Signs', 'Paving_historical', 'Bus_stop','RTTYP_I','RTTYP_M','RTTYP_S','RTTYP_U'] # Removing RTTYP_O\n",
    "    input_y = ['Collisions_Future']\n",
    "elif MODEL_TYPE == 'logistic':\n",
    "    input_x = ['Tile_ID', 'Stop_Signs', 'Paving_historical', 'Bus_stop',\n",
    "       'Collisions_Historical', 'RTTYP_I', 'RTTYP_M', 'RTTYP_O', 'RTTYP_S',\n",
    "       'RTTYP_U', '94101', '94102', '94104', '94105', '94107',\n",
    "       '94108', '94109', '94110', '94111', '94112', '94114', '94115', '94116',\n",
    "       '94117', '94118', '94121', '94122', '94123', '94124', '94127', '94129',\n",
    "       '94130', '94131', '94132', '94133', '94134', '94141', '94143', '94158',\n",
    "       '94188']\n",
    "    input_y = ['bins_numeric']\n",
    "    \n",
    "\n",
    "x_train, x_test, y_train, y_test = train_test_split(\n",
    "                                    tiles_expanded_rv[input_x], \n",
    "                                    tiles_expanded_rv[input_y],\n",
    "                                    random_state=104, \n",
    "                                    test_size=0.20, \n",
    "                                    shuffle=True)\n",
    "\n"
   ]
  },
  {
   "cell_type": "code",
   "execution_count": 7,
   "id": "a5395983-61f4-48b8-81cf-dd7d25305f34",
   "metadata": {
    "tags": []
   },
   "outputs": [],
   "source": [
    "tiles_expanded_rv_test_x = tiles_expanded_rv_test[ ['Tile_ID', 'Stop_Signs', 'Paving_historical', 'Bus_stop',\n",
    "       'Collisions_Historical', 'RTTYP_I', 'RTTYP_M', 'RTTYP_O', 'RTTYP_S',\n",
    "       'RTTYP_U', '94101', '94102', '94104', '94105', '94107',\n",
    "       '94108', '94109', '94110', '94111', '94112', '94114', '94115', '94116',\n",
    "       '94117', '94118', '94121', '94122', '94123', '94124', '94127', '94129',\n",
    "       '94130', '94131', '94132', '94133', '94134', '94141', '94143', '94158',\n",
    "       '94188']]\n",
    "\n",
    "tiles_expanded_rv_test_y = tiles_expanded_rv_test['bins_numeric']"
   ]
  },
  {
   "cell_type": "markdown",
   "id": "a39bcdd0-c978-46b5-be3b-c9872cc056b6",
   "metadata": {
    "tags": []
   },
   "source": [
    "### Oversampling using SMOTE"
   ]
  },
  {
   "cell_type": "code",
   "execution_count": 8,
   "id": "972b63e3-3a1c-403c-9e04-3bd44597f29b",
   "metadata": {
    "tags": []
   },
   "outputs": [
    {
     "name": "stdout",
     "output_type": "stream",
     "text": [
      "Counter({0: 5297, 2: 968, 3: 230, 1: 108, 6: 53, 4: 22, 7: 11, 5: 4, 10: 3, 8: 3, 9: 1})\n",
      "Counter({0: 5297, 2: 968, 3: 230, 1: 230, 6: 150, 7: 100, 10: 100, 4: 100, 5: 100, 8: 100, 9: 100})\n"
     ]
    }
   ],
   "source": [
    "\n",
    "counter = Counter(y_train['bins_numeric'])\n",
    "print(counter)\n",
    "ros = RandomOverSampler(random_state=0,sampling_strategy={0:5297, 2:968, 3:230, 1:230, 6:150, 4:100, 7:100, 5:100,10:100,8:100,9:100})\n",
    "x_train, y_train = ros.fit_resample(x_train, y_train)\n",
    "counter_sampled = Counter(y_train['bins_numeric'])\n",
    "print(counter_sampled)\n"
   ]
  },
  {
   "cell_type": "code",
   "execution_count": 9,
   "id": "99c23eaa-143a-4e43-8cfd-2464a8621912",
   "metadata": {
    "tags": []
   },
   "outputs": [],
   "source": [
    "class_weight_list = compute_class_weight(class_weight='balanced',classes=y_train['bins_numeric'].unique(), y=y_train['bins_numeric'].to_numpy())"
   ]
  },
  {
   "cell_type": "code",
   "execution_count": 10,
   "id": "82c4ed67-b887-495a-8b93-735dee9561fc",
   "metadata": {
    "tags": []
   },
   "outputs": [
    {
     "name": "stdout",
     "output_type": "stream",
     "text": [
      "[0.12828874 2.95454545 0.70200977 6.79545455 2.95454545 4.53030303\n",
      " 6.79545455 6.79545455 6.79545455 6.79545455 6.79545455]\n"
     ]
    }
   ],
   "source": [
    "print(class_weight_list)"
   ]
  },
  {
   "cell_type": "code",
   "execution_count": 11,
   "id": "40d82e2d-705f-45e4-812a-ae4755f73362",
   "metadata": {
    "tags": []
   },
   "outputs": [],
   "source": [
    "class_weight={}\n",
    "unique_classes = y_train['bins_numeric'].unique()\n",
    "for i in range(11) :\n",
    "    class_weight[unique_classes[i]] = class_weight_list[i]"
   ]
  },
  {
   "cell_type": "code",
   "execution_count": 12,
   "id": "d4b67969-7acc-489a-ac27-0aa16f9c5282",
   "metadata": {
    "tags": []
   },
   "outputs": [
    {
     "data": {
      "text/plain": [
       "{0: 0.12828873976693497,\n",
       " 3: 2.9545454545454546,\n",
       " 2: 0.7020097670924117,\n",
       " 7: 6.795454545454546,\n",
       " 1: 2.9545454545454546,\n",
       " 6: 4.53030303030303,\n",
       " 10: 6.795454545454546,\n",
       " 4: 6.795454545454546,\n",
       " 5: 6.795454545454546,\n",
       " 8: 6.795454545454546,\n",
       " 9: 6.795454545454546}"
      ]
     },
     "execution_count": 12,
     "metadata": {},
     "output_type": "execute_result"
    }
   ],
   "source": [
    "class_weight"
   ]
  },
  {
   "cell_type": "markdown",
   "id": "bf220283",
   "metadata": {},
   "source": [
    "## Image Pre-Processing"
   ]
  },
  {
   "cell_type": "code",
   "execution_count": 13,
   "id": "ea514649",
   "metadata": {
    "tags": []
   },
   "outputs": [],
   "source": [
    "IMAGE_PATH = 'Satellite_Imagery/Satellite_Images_Tiled/' "
   ]
  },
  {
   "cell_type": "code",
   "execution_count": 14,
   "id": "b40c2ccb",
   "metadata": {
    "tags": []
   },
   "outputs": [],
   "source": [
    " #eda\n",
    "img = tifffile.imread('Satellite_Imagery/Satellite_Images_Tiled/36.tif')[0:148, 0:188, :]\n",
    "img2 = tifffile.imread('Satellite_Imagery/Satellite_Images_Tiled/37.tif')[0:148, 0:188, :]"
   ]
  },
  {
   "cell_type": "code",
   "execution_count": 15,
   "id": "97889d4b",
   "metadata": {
    "tags": []
   },
   "outputs": [
    {
     "name": "stdout",
     "output_type": "stream",
     "text": [
      "(148, 188, 4)\n"
     ]
    }
   ],
   "source": [
    "# eda\n",
    "print(np.shape(img2))"
   ]
  },
  {
   "cell_type": "code",
   "execution_count": 16,
   "id": "545c8609",
   "metadata": {
    "scrolled": true,
    "tags": []
   },
   "outputs": [
    {
     "name": "stdout",
     "output_type": "stream",
     "text": [
      "(2, 148, 188, 4)\n",
      "(2, 148, 188, 4)\n"
     ]
    }
   ],
   "source": [
    "# eda\n",
    "test = []\n",
    "test.append(img[0:148, 0:188, :])\n",
    "test.append(img2[0:148, 0:188, :])\n",
    "print(np.shape(test))\n",
    "test = np.stack(test)\n",
    "print(np.shape(test))"
   ]
  },
  {
   "cell_type": "code",
   "execution_count": 17,
   "id": "9298e629",
   "metadata": {
    "tags": []
   },
   "outputs": [],
   "source": [
    "def preprocess_data_part1(IMAGE_PATH):\n",
    "    \"\"\" Generate lists of images and labelsbased on temp_no_refer and temp_refer lists\n",
    "    \n",
    "    Params:\n",
    "    -------\n",
    "    IMAGE_PATH (str): path to directory with images.\n",
    "    \n",
    "    Returns:\n",
    "    --------\n",
    "    images_mini  (np.ndarray): Images of shape (N, 149 3)\n",
    "    \"\"\"\n",
    "    \n",
    "    data_mini = []\n",
    "    data_mini_test = []\n",
    "    data_mini_test_final = []\n",
    "    for id in x_train['Tile_ID']:    \n",
    "                    \n",
    "        # read image and store as matrix            \n",
    "        # Index at the end makes all images the same size (they sometimes differ by 1 pixel)\n",
    "        image = tifffile.imread(IMAGE_PATH + str(id) + '.tif')[0:148, 0:188, :]\n",
    "            \n",
    "        # append to images\n",
    "        data_mini.append(image)\n",
    " \n",
    "    # stack images and trasnform to array\n",
    "    images_mini = np.stack(data_mini)\n",
    "    \n",
    "    for id in x_test['Tile_ID']:    \n",
    "                    \n",
    "        # read image and store as matrix            \n",
    "        # Index at the end makes all images the same size (they sometimes differ by 1 pixel)\n",
    "        image = tifffile.imread(IMAGE_PATH + str(id) + '.tif')[0:148, 0:188, :]\n",
    "            \n",
    "        # append to images\n",
    "        data_mini_test.append(image)\n",
    " \n",
    "    # stack images and trasnform to array\n",
    "    images_mini_test = np.stack(data_mini_test)\n",
    "    \n",
    "    for id in tiles_expanded_rv_test_x['Tile_ID']:\n",
    "        # read image and store as matrix            \n",
    "        # Index at the end makes all images the same size (they sometimes differ by 1 pixel)\n",
    "        image = tifffile.imread(IMAGE_PATH + str(id) + '.tif')[0:148, 0:188, :]\n",
    "            \n",
    "        # append to images\n",
    "        data_mini_test_final.append(image)\n",
    "    \n",
    "    images_mini_test_final = np.stack(data_mini_test_final)\n",
    "        \n",
    "    \n",
    "    return images_mini, images_mini_test, images_mini_test_final\n"
   ]
  },
  {
   "cell_type": "code",
   "execution_count": 18,
   "id": "4d8f77ae",
   "metadata": {
    "tags": []
   },
   "outputs": [],
   "source": [
    "# THERE IS ONE FILE IN THE \"SATELLITE IMAGES TILED\" FOLDER THAT IS NOT A TIF IMAGE, DELETE THIS FILE\n",
    "images_mini, images_mini_test, images_mini_test_final = preprocess_data_part1(IMAGE_PATH)"
   ]
  },
  {
   "cell_type": "code",
   "execution_count": 19,
   "id": "0ce10975",
   "metadata": {
    "tags": []
   },
   "outputs": [
    {
     "data": {
      "text/plain": [
       "(1676, 148, 188, 4)"
      ]
     },
     "execution_count": 19,
     "metadata": {},
     "output_type": "execute_result"
    }
   ],
   "source": [
    "np.shape(images_mini)\n",
    "np.shape(images_mini_test)"
   ]
  },
  {
   "cell_type": "markdown",
   "id": "57135842",
   "metadata": {},
   "source": [
    "Street Data Pre-Processing"
   ]
  },
  {
   "cell_type": "code",
   "execution_count": 20,
   "id": "a61d6f6c-0ac9-4629-b971-fdcc823d1324",
   "metadata": {
    "tags": []
   },
   "outputs": [
    {
     "data": {
      "text/html": [
       "<div>\n",
       "<style scoped>\n",
       "    .dataframe tbody tr th:only-of-type {\n",
       "        vertical-align: middle;\n",
       "    }\n",
       "\n",
       "    .dataframe tbody tr th {\n",
       "        vertical-align: top;\n",
       "    }\n",
       "\n",
       "    .dataframe thead th {\n",
       "        text-align: right;\n",
       "    }\n",
       "</style>\n",
       "<table border=\"1\" class=\"dataframe\">\n",
       "  <thead>\n",
       "    <tr style=\"text-align: right;\">\n",
       "      <th></th>\n",
       "      <th>Tile_ID</th>\n",
       "      <th>Stop_Signs</th>\n",
       "      <th>Paving_historical</th>\n",
       "      <th>Bus_stop</th>\n",
       "      <th>Collisions_Historical</th>\n",
       "      <th>RTTYP_I</th>\n",
       "      <th>RTTYP_M</th>\n",
       "      <th>RTTYP_O</th>\n",
       "      <th>RTTYP_S</th>\n",
       "      <th>RTTYP_U</th>\n",
       "      <th>...</th>\n",
       "      <th>94129</th>\n",
       "      <th>94130</th>\n",
       "      <th>94131</th>\n",
       "      <th>94132</th>\n",
       "      <th>94133</th>\n",
       "      <th>94134</th>\n",
       "      <th>94141</th>\n",
       "      <th>94143</th>\n",
       "      <th>94158</th>\n",
       "      <th>94188</th>\n",
       "    </tr>\n",
       "  </thead>\n",
       "  <tbody>\n",
       "    <tr>\n",
       "      <th>0</th>\n",
       "      <td>1526</td>\n",
       "      <td>0.0</td>\n",
       "      <td>0.0</td>\n",
       "      <td>0.0</td>\n",
       "      <td>0.0</td>\n",
       "      <td>0</td>\n",
       "      <td>1</td>\n",
       "      <td>0</td>\n",
       "      <td>0</td>\n",
       "      <td>0</td>\n",
       "      <td>...</td>\n",
       "      <td>0</td>\n",
       "      <td>0</td>\n",
       "      <td>0</td>\n",
       "      <td>0</td>\n",
       "      <td>0</td>\n",
       "      <td>0</td>\n",
       "      <td>0</td>\n",
       "      <td>0</td>\n",
       "      <td>0</td>\n",
       "      <td>0</td>\n",
       "    </tr>\n",
       "    <tr>\n",
       "      <th>1</th>\n",
       "      <td>11426</td>\n",
       "      <td>0.0</td>\n",
       "      <td>7.0</td>\n",
       "      <td>0.0</td>\n",
       "      <td>8.0</td>\n",
       "      <td>0</td>\n",
       "      <td>1</td>\n",
       "      <td>0</td>\n",
       "      <td>0</td>\n",
       "      <td>0</td>\n",
       "      <td>...</td>\n",
       "      <td>0</td>\n",
       "      <td>0</td>\n",
       "      <td>0</td>\n",
       "      <td>0</td>\n",
       "      <td>0</td>\n",
       "      <td>0</td>\n",
       "      <td>0</td>\n",
       "      <td>0</td>\n",
       "      <td>0</td>\n",
       "      <td>0</td>\n",
       "    </tr>\n",
       "    <tr>\n",
       "      <th>2</th>\n",
       "      <td>13993</td>\n",
       "      <td>0.0</td>\n",
       "      <td>0.0</td>\n",
       "      <td>0.0</td>\n",
       "      <td>0.0</td>\n",
       "      <td>0</td>\n",
       "      <td>1</td>\n",
       "      <td>0</td>\n",
       "      <td>0</td>\n",
       "      <td>0</td>\n",
       "      <td>...</td>\n",
       "      <td>0</td>\n",
       "      <td>0</td>\n",
       "      <td>0</td>\n",
       "      <td>0</td>\n",
       "      <td>0</td>\n",
       "      <td>0</td>\n",
       "      <td>0</td>\n",
       "      <td>0</td>\n",
       "      <td>0</td>\n",
       "      <td>1</td>\n",
       "    </tr>\n",
       "    <tr>\n",
       "      <th>3</th>\n",
       "      <td>3201</td>\n",
       "      <td>0.0</td>\n",
       "      <td>0.0</td>\n",
       "      <td>0.0</td>\n",
       "      <td>0.0</td>\n",
       "      <td>0</td>\n",
       "      <td>1</td>\n",
       "      <td>0</td>\n",
       "      <td>0</td>\n",
       "      <td>0</td>\n",
       "      <td>...</td>\n",
       "      <td>0</td>\n",
       "      <td>0</td>\n",
       "      <td>0</td>\n",
       "      <td>1</td>\n",
       "      <td>0</td>\n",
       "      <td>0</td>\n",
       "      <td>0</td>\n",
       "      <td>0</td>\n",
       "      <td>0</td>\n",
       "      <td>0</td>\n",
       "    </tr>\n",
       "    <tr>\n",
       "      <th>4</th>\n",
       "      <td>13779</td>\n",
       "      <td>0.0</td>\n",
       "      <td>0.0</td>\n",
       "      <td>0.0</td>\n",
       "      <td>0.0</td>\n",
       "      <td>0</td>\n",
       "      <td>1</td>\n",
       "      <td>0</td>\n",
       "      <td>0</td>\n",
       "      <td>0</td>\n",
       "      <td>...</td>\n",
       "      <td>0</td>\n",
       "      <td>0</td>\n",
       "      <td>0</td>\n",
       "      <td>0</td>\n",
       "      <td>0</td>\n",
       "      <td>0</td>\n",
       "      <td>0</td>\n",
       "      <td>0</td>\n",
       "      <td>0</td>\n",
       "      <td>0</td>\n",
       "    </tr>\n",
       "    <tr>\n",
       "      <th>...</th>\n",
       "      <td>...</td>\n",
       "      <td>...</td>\n",
       "      <td>...</td>\n",
       "      <td>...</td>\n",
       "      <td>...</td>\n",
       "      <td>...</td>\n",
       "      <td>...</td>\n",
       "      <td>...</td>\n",
       "      <td>...</td>\n",
       "      <td>...</td>\n",
       "      <td>...</td>\n",
       "      <td>...</td>\n",
       "      <td>...</td>\n",
       "      <td>...</td>\n",
       "      <td>...</td>\n",
       "      <td>...</td>\n",
       "      <td>...</td>\n",
       "      <td>...</td>\n",
       "      <td>...</td>\n",
       "      <td>...</td>\n",
       "      <td>...</td>\n",
       "    </tr>\n",
       "    <tr>\n",
       "      <th>7470</th>\n",
       "      <td>9476</td>\n",
       "      <td>1.0</td>\n",
       "      <td>0.0</td>\n",
       "      <td>0.0</td>\n",
       "      <td>17.0</td>\n",
       "      <td>0</td>\n",
       "      <td>1</td>\n",
       "      <td>0</td>\n",
       "      <td>0</td>\n",
       "      <td>0</td>\n",
       "      <td>...</td>\n",
       "      <td>0</td>\n",
       "      <td>0</td>\n",
       "      <td>0</td>\n",
       "      <td>0</td>\n",
       "      <td>0</td>\n",
       "      <td>0</td>\n",
       "      <td>0</td>\n",
       "      <td>0</td>\n",
       "      <td>0</td>\n",
       "      <td>0</td>\n",
       "    </tr>\n",
       "    <tr>\n",
       "      <th>7471</th>\n",
       "      <td>9476</td>\n",
       "      <td>1.0</td>\n",
       "      <td>0.0</td>\n",
       "      <td>0.0</td>\n",
       "      <td>17.0</td>\n",
       "      <td>0</td>\n",
       "      <td>1</td>\n",
       "      <td>0</td>\n",
       "      <td>0</td>\n",
       "      <td>0</td>\n",
       "      <td>...</td>\n",
       "      <td>0</td>\n",
       "      <td>0</td>\n",
       "      <td>0</td>\n",
       "      <td>0</td>\n",
       "      <td>0</td>\n",
       "      <td>0</td>\n",
       "      <td>0</td>\n",
       "      <td>0</td>\n",
       "      <td>0</td>\n",
       "      <td>0</td>\n",
       "    </tr>\n",
       "    <tr>\n",
       "      <th>7472</th>\n",
       "      <td>12726</td>\n",
       "      <td>0.0</td>\n",
       "      <td>3.0</td>\n",
       "      <td>5.0</td>\n",
       "      <td>11.0</td>\n",
       "      <td>0</td>\n",
       "      <td>1</td>\n",
       "      <td>0</td>\n",
       "      <td>0</td>\n",
       "      <td>0</td>\n",
       "      <td>...</td>\n",
       "      <td>0</td>\n",
       "      <td>0</td>\n",
       "      <td>0</td>\n",
       "      <td>0</td>\n",
       "      <td>0</td>\n",
       "      <td>0</td>\n",
       "      <td>0</td>\n",
       "      <td>0</td>\n",
       "      <td>0</td>\n",
       "      <td>1</td>\n",
       "    </tr>\n",
       "    <tr>\n",
       "      <th>7473</th>\n",
       "      <td>10746</td>\n",
       "      <td>0.0</td>\n",
       "      <td>0.0</td>\n",
       "      <td>4.0</td>\n",
       "      <td>11.0</td>\n",
       "      <td>0</td>\n",
       "      <td>1</td>\n",
       "      <td>0</td>\n",
       "      <td>0</td>\n",
       "      <td>0</td>\n",
       "      <td>...</td>\n",
       "      <td>0</td>\n",
       "      <td>0</td>\n",
       "      <td>0</td>\n",
       "      <td>0</td>\n",
       "      <td>0</td>\n",
       "      <td>0</td>\n",
       "      <td>0</td>\n",
       "      <td>0</td>\n",
       "      <td>0</td>\n",
       "      <td>0</td>\n",
       "    </tr>\n",
       "    <tr>\n",
       "      <th>7474</th>\n",
       "      <td>12726</td>\n",
       "      <td>0.0</td>\n",
       "      <td>3.0</td>\n",
       "      <td>5.0</td>\n",
       "      <td>11.0</td>\n",
       "      <td>0</td>\n",
       "      <td>1</td>\n",
       "      <td>0</td>\n",
       "      <td>0</td>\n",
       "      <td>0</td>\n",
       "      <td>...</td>\n",
       "      <td>0</td>\n",
       "      <td>0</td>\n",
       "      <td>0</td>\n",
       "      <td>0</td>\n",
       "      <td>0</td>\n",
       "      <td>0</td>\n",
       "      <td>0</td>\n",
       "      <td>0</td>\n",
       "      <td>0</td>\n",
       "      <td>1</td>\n",
       "    </tr>\n",
       "  </tbody>\n",
       "</table>\n",
       "<p>7475 rows × 40 columns</p>\n",
       "</div>"
      ],
      "text/plain": [
       "      Tile_ID  Stop_Signs  Paving_historical  Bus_stop  Collisions_Historical  \\\n",
       "0        1526         0.0                0.0       0.0                    0.0   \n",
       "1       11426         0.0                7.0       0.0                    8.0   \n",
       "2       13993         0.0                0.0       0.0                    0.0   \n",
       "3        3201         0.0                0.0       0.0                    0.0   \n",
       "4       13779         0.0                0.0       0.0                    0.0   \n",
       "...       ...         ...                ...       ...                    ...   \n",
       "7470     9476         1.0                0.0       0.0                   17.0   \n",
       "7471     9476         1.0                0.0       0.0                   17.0   \n",
       "7472    12726         0.0                3.0       5.0                   11.0   \n",
       "7473    10746         0.0                0.0       4.0                   11.0   \n",
       "7474    12726         0.0                3.0       5.0                   11.0   \n",
       "\n",
       "      RTTYP_I  RTTYP_M  RTTYP_O  RTTYP_S  RTTYP_U  ...  94129  94130  94131  \\\n",
       "0           0        1        0        0        0  ...      0      0      0   \n",
       "1           0        1        0        0        0  ...      0      0      0   \n",
       "2           0        1        0        0        0  ...      0      0      0   \n",
       "3           0        1        0        0        0  ...      0      0      0   \n",
       "4           0        1        0        0        0  ...      0      0      0   \n",
       "...       ...      ...      ...      ...      ...  ...    ...    ...    ...   \n",
       "7470        0        1        0        0        0  ...      0      0      0   \n",
       "7471        0        1        0        0        0  ...      0      0      0   \n",
       "7472        0        1        0        0        0  ...      0      0      0   \n",
       "7473        0        1        0        0        0  ...      0      0      0   \n",
       "7474        0        1        0        0        0  ...      0      0      0   \n",
       "\n",
       "      94132  94133  94134  94141  94143  94158  94188  \n",
       "0         0      0      0      0      0      0      0  \n",
       "1         0      0      0      0      0      0      0  \n",
       "2         0      0      0      0      0      0      1  \n",
       "3         1      0      0      0      0      0      0  \n",
       "4         0      0      0      0      0      0      0  \n",
       "...     ...    ...    ...    ...    ...    ...    ...  \n",
       "7470      0      0      0      0      0      0      0  \n",
       "7471      0      0      0      0      0      0      0  \n",
       "7472      0      0      0      0      0      0      1  \n",
       "7473      0      0      0      0      0      0      0  \n",
       "7474      0      0      0      0      0      0      1  \n",
       "\n",
       "[7475 rows x 40 columns]"
      ]
     },
     "execution_count": 20,
     "metadata": {},
     "output_type": "execute_result"
    }
   ],
   "source": [
    "x_train"
   ]
  },
  {
   "cell_type": "code",
   "execution_count": 21,
   "id": "8dce0686",
   "metadata": {
    "tags": []
   },
   "outputs": [
    {
     "data": {
      "text/plain": [
       "(1676, 1, 1, 39)"
      ]
     },
     "execution_count": 21,
     "metadata": {},
     "output_type": "execute_result"
    }
   ],
   "source": [
    "street = np.asarray(x_train[input_x[1:]]).astype('float32')\n",
    "street_mini = []\n",
    "for row in street:\n",
    "    street_mini.append([[row]])\n",
    "street_mini = np.stack(street_mini)\n",
    "np.shape(street_mini)\n",
    "\n",
    "\n",
    "street_test = np.asarray(x_test[input_x[1:]]).astype('float32')\n",
    "street_mini_test = []\n",
    "for row in street_test:\n",
    "    street_mini_test.append([[row]])\n",
    "street_mini_test = np.stack(street_mini_test)\n",
    "np.shape(street_mini_test)\n"
   ]
  },
  {
   "cell_type": "code",
   "execution_count": 22,
   "id": "f8a17d90-04d8-48e5-b2b5-96a783356d8b",
   "metadata": {
    "tags": []
   },
   "outputs": [
    {
     "data": {
      "text/plain": [
       "(2095, 1, 1, 39)"
      ]
     },
     "execution_count": 22,
     "metadata": {},
     "output_type": "execute_result"
    }
   ],
   "source": [
    "street_test_final = np.asarray(tiles_expanded_rv_test_x[input_x[1:]]).astype('float32')\n",
    "street_mini_test_final = []\n",
    "for row in street_test_final:\n",
    "    street_mini_test_final.append([[row]])\n",
    "street_mini_test_final = np.stack(street_mini_test_final)\n",
    "np.shape(street_mini_test_final)"
   ]
  },
  {
   "cell_type": "code",
   "execution_count": 23,
   "id": "c87761aa-77b0-40d3-a924-c54c1c6e3726",
   "metadata": {
    "tags": []
   },
   "outputs": [
    {
     "name": "stdout",
     "output_type": "stream",
     "text": [
      "(7475, 1, 1, 39)\n",
      "(7475, 148, 188, 4)\n"
     ]
    }
   ],
   "source": [
    "print(street_mini.shape)\n",
    "print(images_mini.shape)"
   ]
  },
  {
   "cell_type": "code",
   "execution_count": 24,
   "id": "16b9f21e-6f7b-4abd-a7de-917d89fa085a",
   "metadata": {
    "tags": []
   },
   "outputs": [],
   "source": [
    "input_image_street = np.hstack(\n",
    "    (street_mini.reshape((7475,39)),\n",
    "    normalize(images_mini.reshape(7475,-1))\n",
    "     # images_mini.reshape(8376,148*188*4)\n",
    "    )\n",
    ")"
   ]
  },
  {
   "cell_type": "code",
   "execution_count": 25,
   "id": "5628e058-80c2-4145-b762-7116c8801a96",
   "metadata": {
    "tags": []
   },
   "outputs": [
    {
     "name": "stdout",
     "output_type": "stream",
     "text": [
      "(1676, 1, 1, 39)\n",
      "(1676, 148, 188, 4)\n"
     ]
    }
   ],
   "source": [
    "print(street_mini_test.shape)\n",
    "print(images_mini_test.shape)"
   ]
  },
  {
   "cell_type": "code",
   "execution_count": 26,
   "id": "b2a63cdc-90cd-43e2-94f1-d819918c510b",
   "metadata": {
    "tags": []
   },
   "outputs": [],
   "source": [
    "input_image_street_test = np.hstack(\n",
    "    (street_mini_test.reshape((1676,39)),\n",
    "    # images_mini_test.reshape((2095,148*188*4))\n",
    "    normalize(images_mini_test.reshape(1676,-1))\n",
    "    ))"
   ]
  },
  {
   "cell_type": "code",
   "execution_count": 27,
   "id": "e0a3fa00-5064-4ab3-a2e6-835a626f24c4",
   "metadata": {
    "tags": []
   },
   "outputs": [
    {
     "data": {
      "text/plain": [
       "(1676, 111335)"
      ]
     },
     "execution_count": 27,
     "metadata": {},
     "output_type": "execute_result"
    }
   ],
   "source": [
    "input_image_street_test.shape"
   ]
  },
  {
   "cell_type": "code",
   "execution_count": 28,
   "id": "05a5e0a3-815f-49ad-967c-07d0fc904701",
   "metadata": {
    "tags": []
   },
   "outputs": [
    {
     "name": "stdout",
     "output_type": "stream",
     "text": [
      "(2095, 1, 1, 39)\n",
      "(2095, 148, 188, 4)\n"
     ]
    }
   ],
   "source": [
    "print(street_mini_test_final.shape)\n",
    "print(images_mini_test_final.shape)"
   ]
  },
  {
   "cell_type": "code",
   "execution_count": 29,
   "id": "a6698331-9ee7-492a-a08c-fbda194a7787",
   "metadata": {
    "tags": []
   },
   "outputs": [],
   "source": [
    "input_image_street_test_final = np.hstack(\n",
    "    (street_mini_test_final.reshape((2095,39)),\n",
    "    # images_mini_test.reshape((2095,148*188*4))\n",
    "    normalize(images_mini_test_final.reshape(2095,-1))\n",
    "    ))"
   ]
  },
  {
   "cell_type": "markdown",
   "id": "76293faa-4ad4-4467-adcf-75a6e9c9cfb3",
   "metadata": {
    "tags": []
   },
   "source": [
    "## LOGISTIC MODEL WITH IMAGES"
   ]
  },
  {
   "cell_type": "code",
   "execution_count": 33,
   "id": "6ef027c2-bb0f-45e7-ac0a-2fb328014abf",
   "metadata": {
    "tags": []
   },
   "outputs": [
    {
     "name": "stdout",
     "output_type": "stream",
     "text": [
      "Model: \"logistic_model\"\n",
      "_________________________________________________________________\n",
      " Layer (type)                Output Shape              Param #   \n",
      "=================================================================\n",
      " input_1 (InputLayer)        [(None, 111335)]          0         \n",
      "                                                                 \n",
      " dense (Dense)               (None, 11)                1224696   \n",
      "                                                                 \n",
      "=================================================================\n",
      "Total params: 1,224,696\n",
      "Trainable params: 1,224,696\n",
      "Non-trainable params: 0\n",
      "_________________________________________________________________\n"
     ]
    },
    {
     "name": "stderr",
     "output_type": "stream",
     "text": [
      "2023-04-10 04:15:21.650173: I tensorflow/compiler/xla/stream_executor/cuda/cuda_gpu_executor.cc:981] successful NUMA node read from SysFS had negative value (-1), but there must be at least one NUMA node, so returning NUMA node zero\n",
      "2023-04-10 04:15:21.657316: I tensorflow/compiler/xla/stream_executor/cuda/cuda_gpu_executor.cc:981] successful NUMA node read from SysFS had negative value (-1), but there must be at least one NUMA node, so returning NUMA node zero\n",
      "2023-04-10 04:15:21.657668: I tensorflow/compiler/xla/stream_executor/cuda/cuda_gpu_executor.cc:981] successful NUMA node read from SysFS had negative value (-1), but there must be at least one NUMA node, so returning NUMA node zero\n",
      "2023-04-10 04:15:21.658360: I tensorflow/core/platform/cpu_feature_guard.cc:193] This TensorFlow binary is optimized with oneAPI Deep Neural Network Library (oneDNN) to use the following CPU instructions in performance-critical operations:  AVX2 FMA\n",
      "To enable them in other operations, rebuild TensorFlow with the appropriate compiler flags.\n",
      "2023-04-10 04:15:21.659238: I tensorflow/compiler/xla/stream_executor/cuda/cuda_gpu_executor.cc:981] successful NUMA node read from SysFS had negative value (-1), but there must be at least one NUMA node, so returning NUMA node zero\n",
      "2023-04-10 04:15:21.659589: I tensorflow/compiler/xla/stream_executor/cuda/cuda_gpu_executor.cc:981] successful NUMA node read from SysFS had negative value (-1), but there must be at least one NUMA node, so returning NUMA node zero\n",
      "2023-04-10 04:15:21.659926: I tensorflow/compiler/xla/stream_executor/cuda/cuda_gpu_executor.cc:981] successful NUMA node read from SysFS had negative value (-1), but there must be at least one NUMA node, so returning NUMA node zero\n",
      "2023-04-10 04:15:22.164264: I tensorflow/compiler/xla/stream_executor/cuda/cuda_gpu_executor.cc:981] successful NUMA node read from SysFS had negative value (-1), but there must be at least one NUMA node, so returning NUMA node zero\n",
      "2023-04-10 04:15:22.164546: I tensorflow/compiler/xla/stream_executor/cuda/cuda_gpu_executor.cc:981] successful NUMA node read from SysFS had negative value (-1), but there must be at least one NUMA node, so returning NUMA node zero\n",
      "2023-04-10 04:15:22.164765: I tensorflow/compiler/xla/stream_executor/cuda/cuda_gpu_executor.cc:981] successful NUMA node read from SysFS had negative value (-1), but there must be at least one NUMA node, so returning NUMA node zero\n",
      "2023-04-10 04:15:22.164931: I tensorflow/core/common_runtime/gpu/gpu_device.cc:1613] Created device /job:localhost/replica:0/task:0/device:GPU:0 with 6911 MB memory:  -> device: 0, name: Tesla M60, pci bus id: 0000:00:1e.0, compute capability: 5.2\n"
     ]
    },
    {
     "name": "stdout",
     "output_type": "stream",
     "text": [
      "Epoch 1/80\n"
     ]
    },
    {
     "name": "stderr",
     "output_type": "stream",
     "text": [
      "2023-04-10 04:15:27.696903: I tensorflow/compiler/xla/service/service.cc:173] XLA service 0x7f46b647bc70 initialized for platform CUDA (this does not guarantee that XLA will be used). Devices:\n",
      "2023-04-10 04:15:27.696949: I tensorflow/compiler/xla/service/service.cc:181]   StreamExecutor device (0): Tesla M60, Compute Capability 5.2\n",
      "2023-04-10 04:15:27.702739: I tensorflow/compiler/mlir/tensorflow/utils/dump_mlir_util.cc:268] disabling MLIR crash reproducer, set env var `MLIR_CRASH_REPRODUCER_DIRECTORY` to enable.\n",
      "2023-04-10 04:15:27.869217: I tensorflow/compiler/jit/xla_compilation_cache.cc:477] Compiled cluster using XLA!  This line is logged at most once for the lifetime of the process.\n"
     ]
    },
    {
     "name": "stdout",
     "output_type": "stream",
     "text": [
      "187/187 [==============================] - 3s 10ms/step - loss: 0.8121 - accuracy: 0.4843 - val_loss: 2.5794 - val_accuracy: 0.2930\n",
      "Epoch 2/80\n",
      "187/187 [==============================] - 1s 8ms/step - loss: 0.7230 - accuracy: 0.5938 - val_loss: 2.2894 - val_accuracy: 0.3893\n",
      "Epoch 3/80\n",
      "187/187 [==============================] - 1s 8ms/step - loss: 0.6714 - accuracy: 0.6278 - val_loss: 1.8472 - val_accuracy: 0.4174\n",
      "Epoch 4/80\n",
      "187/187 [==============================] - 1s 8ms/step - loss: 0.6334 - accuracy: 0.6699 - val_loss: 1.8074 - val_accuracy: 0.3298\n",
      "Epoch 5/80\n",
      "187/187 [==============================] - 1s 8ms/step - loss: 0.5869 - accuracy: 0.6834 - val_loss: 1.5956 - val_accuracy: 0.5017\n",
      "Epoch 6/80\n",
      "187/187 [==============================] - 1s 8ms/step - loss: 0.5634 - accuracy: 0.6958 - val_loss: 1.4976 - val_accuracy: 0.4809\n",
      "Epoch 7/80\n",
      "187/187 [==============================] - 1s 8ms/step - loss: 0.5330 - accuracy: 0.7120 - val_loss: 1.2005 - val_accuracy: 0.6314\n",
      "Epoch 8/80\n",
      "187/187 [==============================] - 1s 8ms/step - loss: 0.5116 - accuracy: 0.7120 - val_loss: 1.2548 - val_accuracy: 0.6502\n",
      "Epoch 9/80\n",
      "187/187 [==============================] - 1s 8ms/step - loss: 0.4901 - accuracy: 0.7236 - val_loss: 1.2572 - val_accuracy: 0.5672\n",
      "Epoch 10/80\n",
      "187/187 [==============================] - 2s 8ms/step - loss: 0.4725 - accuracy: 0.7333 - val_loss: 1.1481 - val_accuracy: 0.6542\n",
      "Epoch 11/80\n",
      "187/187 [==============================] - 1s 8ms/step - loss: 0.4527 - accuracy: 0.7452 - val_loss: 0.9617 - val_accuracy: 0.7010\n",
      "Epoch 12/80\n",
      "187/187 [==============================] - 1s 8ms/step - loss: 0.4346 - accuracy: 0.7462 - val_loss: 0.8992 - val_accuracy: 0.7666\n",
      "Epoch 13/80\n",
      "187/187 [==============================] - 1s 8ms/step - loss: 0.4183 - accuracy: 0.7609 - val_loss: 0.8587 - val_accuracy: 0.8000\n",
      "Epoch 14/80\n",
      "187/187 [==============================] - 1s 8ms/step - loss: 0.4108 - accuracy: 0.7545 - val_loss: 1.0240 - val_accuracy: 0.6763\n",
      "Epoch 15/80\n",
      "187/187 [==============================] - 1s 8ms/step - loss: 0.4002 - accuracy: 0.7457 - val_loss: 0.9267 - val_accuracy: 0.6983\n",
      "Epoch 16/80\n",
      "187/187 [==============================] - 1s 8ms/step - loss: 0.3833 - accuracy: 0.7609 - val_loss: 0.8276 - val_accuracy: 0.7605\n",
      "Epoch 17/80\n",
      "187/187 [==============================] - 2s 8ms/step - loss: 0.3695 - accuracy: 0.7717 - val_loss: 0.8441 - val_accuracy: 0.7686\n",
      "Epoch 18/80\n",
      "187/187 [==============================] - 1s 8ms/step - loss: 0.3664 - accuracy: 0.7671 - val_loss: 0.7445 - val_accuracy: 0.7806\n",
      "Epoch 19/80\n",
      "187/187 [==============================] - 1s 8ms/step - loss: 0.3605 - accuracy: 0.7732 - val_loss: 0.7805 - val_accuracy: 0.7967\n",
      "Epoch 20/80\n",
      "187/187 [==============================] - 2s 8ms/step - loss: 0.3476 - accuracy: 0.7759 - val_loss: 0.7681 - val_accuracy: 0.7933\n",
      "Epoch 21/80\n",
      "187/187 [==============================] - 1s 8ms/step - loss: 0.3396 - accuracy: 0.7773 - val_loss: 0.7174 - val_accuracy: 0.8334\n",
      "Epoch 22/80\n",
      "187/187 [==============================] - 1s 8ms/step - loss: 0.3281 - accuracy: 0.7831 - val_loss: 0.7458 - val_accuracy: 0.7900\n",
      "Epoch 23/80\n",
      "187/187 [==============================] - 1s 8ms/step - loss: 0.3218 - accuracy: 0.7886 - val_loss: 0.7654 - val_accuracy: 0.8027\n",
      "Epoch 24/80\n",
      "187/187 [==============================] - 1s 8ms/step - loss: 0.3188 - accuracy: 0.7965 - val_loss: 0.7623 - val_accuracy: 0.8147\n",
      "Epoch 25/80\n",
      "187/187 [==============================] - 1s 8ms/step - loss: 0.3073 - accuracy: 0.7967 - val_loss: 0.7485 - val_accuracy: 0.8094\n",
      "Epoch 26/80\n",
      "187/187 [==============================] - 1s 8ms/step - loss: 0.2956 - accuracy: 0.8033 - val_loss: 0.6772 - val_accuracy: 0.8114\n",
      "Epoch 27/80\n",
      "187/187 [==============================] - 1s 8ms/step - loss: 0.2943 - accuracy: 0.8002 - val_loss: 0.6894 - val_accuracy: 0.8395\n",
      "Epoch 28/80\n",
      "187/187 [==============================] - 1s 8ms/step - loss: 0.2843 - accuracy: 0.8027 - val_loss: 0.6887 - val_accuracy: 0.8194\n",
      "Epoch 29/80\n",
      "187/187 [==============================] - 1s 8ms/step - loss: 0.2799 - accuracy: 0.8112 - val_loss: 0.7251 - val_accuracy: 0.8301\n",
      "Epoch 30/80\n",
      "187/187 [==============================] - 1s 8ms/step - loss: 0.2771 - accuracy: 0.8077 - val_loss: 0.8240 - val_accuracy: 0.7839\n",
      "Epoch 31/80\n",
      "187/187 [==============================] - 1s 8ms/step - loss: 0.2743 - accuracy: 0.8065 - val_loss: 0.6880 - val_accuracy: 0.8288\n",
      "Epoch 32/80\n",
      "187/187 [==============================] - 1s 8ms/step - loss: 0.2628 - accuracy: 0.8110 - val_loss: 0.6519 - val_accuracy: 0.8495\n",
      "Epoch 33/80\n",
      "187/187 [==============================] - 1s 8ms/step - loss: 0.2594 - accuracy: 0.8154 - val_loss: 0.7440 - val_accuracy: 0.8027\n",
      "Epoch 34/80\n",
      "187/187 [==============================] - 1s 8ms/step - loss: 0.2568 - accuracy: 0.8161 - val_loss: 0.7079 - val_accuracy: 0.8114\n",
      "Epoch 35/80\n",
      "187/187 [==============================] - 1s 8ms/step - loss: 0.2504 - accuracy: 0.8181 - val_loss: 0.6923 - val_accuracy: 0.8147\n",
      "Epoch 36/80\n",
      "187/187 [==============================] - 1s 8ms/step - loss: 0.2415 - accuracy: 0.8242 - val_loss: 0.8064 - val_accuracy: 0.7873\n",
      "Epoch 37/80\n",
      "187/187 [==============================] - 1s 8ms/step - loss: 0.2404 - accuracy: 0.8217 - val_loss: 0.6894 - val_accuracy: 0.8040\n",
      "Epoch 38/80\n",
      "187/187 [==============================] - 1s 8ms/step - loss: 0.2368 - accuracy: 0.8246 - val_loss: 0.7403 - val_accuracy: 0.8120\n",
      "Epoch 39/80\n",
      "187/187 [==============================] - 1s 8ms/step - loss: 0.2357 - accuracy: 0.8199 - val_loss: 0.6906 - val_accuracy: 0.8288\n",
      "Epoch 40/80\n",
      "187/187 [==============================] - 1s 8ms/step - loss: 0.2297 - accuracy: 0.8246 - val_loss: 0.7459 - val_accuracy: 0.8060\n",
      "Epoch 41/80\n",
      "187/187 [==============================] - 1s 8ms/step - loss: 0.2251 - accuracy: 0.8308 - val_loss: 0.7040 - val_accuracy: 0.8281\n",
      "Epoch 42/80\n",
      "187/187 [==============================] - 1s 8ms/step - loss: 0.2204 - accuracy: 0.8355 - val_loss: 0.7133 - val_accuracy: 0.8268\n",
      "Epoch 43/80\n",
      "187/187 [==============================] - 1s 8ms/step - loss: 0.2160 - accuracy: 0.8356 - val_loss: 0.7705 - val_accuracy: 0.7960\n",
      "Epoch 44/80\n",
      "187/187 [==============================] - 1s 8ms/step - loss: 0.2159 - accuracy: 0.8271 - val_loss: 0.7752 - val_accuracy: 0.7906\n",
      "Epoch 45/80\n",
      "187/187 [==============================] - 1s 8ms/step - loss: 0.2095 - accuracy: 0.8371 - val_loss: 0.6946 - val_accuracy: 0.8341\n",
      "Epoch 46/80\n",
      "187/187 [==============================] - 1s 8ms/step - loss: 0.2102 - accuracy: 0.8355 - val_loss: 0.7264 - val_accuracy: 0.8194\n",
      "Epoch 47/80\n",
      "187/187 [==============================] - 1s 8ms/step - loss: 0.2038 - accuracy: 0.8373 - val_loss: 0.6925 - val_accuracy: 0.8254\n",
      "Epoch 48/80\n",
      "187/187 [==============================] - 1s 8ms/step - loss: 0.2004 - accuracy: 0.8401 - val_loss: 0.6828 - val_accuracy: 0.8408\n",
      "Epoch 49/80\n",
      "187/187 [==============================] - 1s 8ms/step - loss: 0.1953 - accuracy: 0.8426 - val_loss: 0.6935 - val_accuracy: 0.8421\n",
      "Epoch 50/80\n",
      "187/187 [==============================] - 1s 8ms/step - loss: 0.1915 - accuracy: 0.8431 - val_loss: 0.6974 - val_accuracy: 0.8321\n",
      "Epoch 51/80\n",
      "187/187 [==============================] - 2s 8ms/step - loss: 0.1902 - accuracy: 0.8413 - val_loss: 0.6668 - val_accuracy: 0.8468\n",
      "Epoch 52/80\n",
      "187/187 [==============================] - 1s 8ms/step - loss: 0.1849 - accuracy: 0.8530 - val_loss: 0.6922 - val_accuracy: 0.8348\n",
      "Epoch 53/80\n",
      "187/187 [==============================] - 1s 8ms/step - loss: 0.1833 - accuracy: 0.8513 - val_loss: 0.7324 - val_accuracy: 0.8167\n",
      "Epoch 54/80\n",
      "187/187 [==============================] - 1s 8ms/step - loss: 0.1798 - accuracy: 0.8512 - val_loss: 0.6537 - val_accuracy: 0.8528\n",
      "Epoch 55/80\n",
      "187/187 [==============================] - 2s 8ms/step - loss: 0.1786 - accuracy: 0.8530 - val_loss: 0.6950 - val_accuracy: 0.8368\n",
      "Epoch 56/80\n",
      "187/187 [==============================] - 1s 8ms/step - loss: 0.1762 - accuracy: 0.8535 - val_loss: 0.7530 - val_accuracy: 0.8094\n",
      "Epoch 57/80\n",
      "187/187 [==============================] - 1s 8ms/step - loss: 0.1724 - accuracy: 0.8543 - val_loss: 0.7304 - val_accuracy: 0.8227\n",
      "Epoch 58/80\n",
      "187/187 [==============================] - 2s 8ms/step - loss: 0.1719 - accuracy: 0.8548 - val_loss: 0.7298 - val_accuracy: 0.8114\n",
      "Epoch 59/80\n",
      "187/187 [==============================] - 1s 8ms/step - loss: 0.1684 - accuracy: 0.8522 - val_loss: 0.6501 - val_accuracy: 0.8495\n",
      "Epoch 60/80\n",
      "187/187 [==============================] - 1s 8ms/step - loss: 0.1682 - accuracy: 0.8587 - val_loss: 0.7684 - val_accuracy: 0.8094\n",
      "Epoch 61/80\n",
      "187/187 [==============================] - 1s 8ms/step - loss: 0.1644 - accuracy: 0.8547 - val_loss: 0.6834 - val_accuracy: 0.8421\n",
      "Epoch 62/80\n",
      "187/187 [==============================] - 1s 8ms/step - loss: 0.1613 - accuracy: 0.8619 - val_loss: 0.7148 - val_accuracy: 0.8321\n",
      "Epoch 63/80\n",
      "187/187 [==============================] - 2s 8ms/step - loss: 0.1601 - accuracy: 0.8632 - val_loss: 0.6957 - val_accuracy: 0.8281\n",
      "Epoch 64/80\n",
      "187/187 [==============================] - 1s 8ms/step - loss: 0.1586 - accuracy: 0.8637 - val_loss: 0.6858 - val_accuracy: 0.8482\n",
      "Epoch 65/80\n",
      "187/187 [==============================] - 1s 8ms/step - loss: 0.1558 - accuracy: 0.8592 - val_loss: 0.6544 - val_accuracy: 0.8482\n",
      "Epoch 66/80\n",
      "187/187 [==============================] - 1s 8ms/step - loss: 0.1533 - accuracy: 0.8679 - val_loss: 0.7207 - val_accuracy: 0.8174\n",
      "Epoch 67/80\n",
      "187/187 [==============================] - 1s 8ms/step - loss: 0.1515 - accuracy: 0.8607 - val_loss: 0.6784 - val_accuracy: 0.8421\n",
      "Epoch 68/80\n",
      "187/187 [==============================] - 1s 8ms/step - loss: 0.1486 - accuracy: 0.8664 - val_loss: 0.6827 - val_accuracy: 0.8488\n",
      "Epoch 69/80\n",
      "187/187 [==============================] - 1s 8ms/step - loss: 0.1518 - accuracy: 0.8612 - val_loss: 0.7343 - val_accuracy: 0.8194\n",
      "Epoch 70/80\n",
      "187/187 [==============================] - 1s 8ms/step - loss: 0.1440 - accuracy: 0.8717 - val_loss: 0.7438 - val_accuracy: 0.8187\n",
      "Epoch 71/80\n",
      "187/187 [==============================] - 2s 8ms/step - loss: 0.1435 - accuracy: 0.8687 - val_loss: 0.6754 - val_accuracy: 0.8475\n",
      "Epoch 72/80\n",
      "187/187 [==============================] - 1s 8ms/step - loss: 0.1420 - accuracy: 0.8727 - val_loss: 0.7177 - val_accuracy: 0.8428\n",
      "Epoch 73/80\n",
      "187/187 [==============================] - 1s 8ms/step - loss: 0.1385 - accuracy: 0.8734 - val_loss: 0.6799 - val_accuracy: 0.8528\n",
      "Epoch 74/80\n",
      "187/187 [==============================] - 2s 8ms/step - loss: 0.1384 - accuracy: 0.8671 - val_loss: 0.6754 - val_accuracy: 0.8522\n",
      "Epoch 75/80\n",
      "187/187 [==============================] - 1s 8ms/step - loss: 0.1365 - accuracy: 0.8701 - val_loss: 0.7568 - val_accuracy: 0.8174\n",
      "Epoch 76/80\n",
      "187/187 [==============================] - 1s 8ms/step - loss: 0.1369 - accuracy: 0.8694 - val_loss: 0.7354 - val_accuracy: 0.8268\n",
      "Epoch 77/80\n",
      "187/187 [==============================] - 1s 8ms/step - loss: 0.1348 - accuracy: 0.8706 - val_loss: 0.7115 - val_accuracy: 0.8268\n",
      "Epoch 78/80\n",
      "187/187 [==============================] - 2s 8ms/step - loss: 0.1315 - accuracy: 0.8823 - val_loss: 0.7893 - val_accuracy: 0.7967\n",
      "Epoch 79/80\n",
      "187/187 [==============================] - 1s 8ms/step - loss: 0.1290 - accuracy: 0.8763 - val_loss: 0.7288 - val_accuracy: 0.8328\n",
      "Epoch 80/80\n",
      "187/187 [==============================] - 1s 8ms/step - loss: 0.1276 - accuracy: 0.8783 - val_loss: 0.7466 - val_accuracy: 0.8214\n"
     ]
    },
    {
     "data": {
      "image/png": "[encoded data removed]",
      "text/plain": [
       "<Figure size 640x480 with 1 Axes>"
      ]
     },
     "metadata": {},
     "output_type": "display_data"
    }
   ],
   "source": [
    "tf.keras.backend.clear_session()\n",
    "def create_logistic_model():\n",
    "    # DENSE LAYERS \n",
    "    input = tf.keras.layers.Input(shape=(111335,))\n",
    "    outputs = keras.layers.Dense(units = 11, activation = 'softmax')(input)\n",
    "\n",
    "    log_model = tf.keras.models.Model(inputs=input, outputs=outputs, name=\"logistic_model\")\n",
    "\n",
    "    log_model.summary()\n",
    "\n",
    "    log_model.compile(\n",
    "        optimizer=tf.keras.optimizers.Adam(learning_rate=0.001),\n",
    "        loss=tf.keras.losses.SparseCategoricalCrossentropy(),\n",
    "        metrics=['accuracy']\n",
    "        )\n",
    "    \n",
    "    return log_model\n",
    "\n",
    "logistic_model = create_logistic_model()\n",
    "\n",
    "history = logistic_model.fit(\n",
    "    input_image_street,\n",
    "    np.stack(y_train.to_numpy()),\n",
    "    epochs=80, \n",
    "    validation_split = 0.2,\n",
    "    class_weight = class_weight\n",
    "    )\n",
    "\n",
    "plot_loss(history)"
   ]
  },
  {
   "cell_type": "code",
   "execution_count": 32,
   "id": "31b83634-6d7c-4cd7-8e84-c05303764073",
   "metadata": {
    "tags": []
   },
   "outputs": [],
   "source": [
    "import pdb\n",
    "def predict_and_vis(model, x_true, y_true):\n",
    "    predict_result = history.model.predict(x_true)\n",
    "    predictions = []\n",
    "    \n",
    "    length_of_unique_classes = len(y_true['bins_numeric'].unique())\n",
    "    \n",
    "    for x in range(len(predict_result)):\n",
    "        predictions.append(np.argmax(predict_result[x]))\n",
    "        \n",
    "    # pdb.set_trace()\n",
    "    \n",
    "    print(f\"WEIGHTED F1 SCORE: {f1_score(y_true['bins_numeric'].to_numpy(), predictions, average='weighted', sample_weight=None, zero_division='warn')}\")\n",
    "    print(f\"F1 SCORE: {f1_score(y_true['bins_numeric'].to_numpy(), predictions, average=None, sample_weight=None, zero_division='warn')}\")\n",
    "    \n",
    "    cm = confusion_matrix(y_true['bins_numeric'], predictions)\n",
    "    cm_df = pd.DataFrame(cm,\n",
    "                     index = [x for x in range(length_of_unique_classes)],\n",
    "                     columns = [x for x in range(length_of_unique_classes)])\n",
    "    return cm_df"
   ]
  },
  {
   "cell_type": "code",
   "execution_count": 65,
   "id": "639cd648-e589-44d9-a71d-21242685fee6",
   "metadata": {
    "tags": []
   },
   "outputs": [
    {
     "name": "stdout",
     "output_type": "stream",
     "text": [
      "53/53 [==============================] - 0s 5ms/step\n",
      "WEIGHTED F1 SCORE: 0.7658756513207617\n",
      "F1 SCORE: [0.86703822 0.13333333 0.41881639 0.2300885  0.         0.\n",
      " 0.30769231 0.         0.        ]\n"
     ]
    }
   ],
   "source": [
    "cm_df = predict_and_vis(history, input_image_street_test, y_test)"
   ]
  },
  {
   "cell_type": "code",
   "execution_count": 66,
   "id": "c890b84d-f559-4406-a61b-ed570a669d7c",
   "metadata": {
    "tags": []
   },
   "outputs": [
    {
     "data": {
      "image/png": "[encoded data removed]",
      "text/plain": [
       "<Figure size 800x900 with 2 Axes>"
      ]
     },
     "metadata": {},
     "output_type": "display_data"
    }
   ],
   "source": [
    "plt.figure(figsize=(8,9))\n",
    "sns.heatmap(cm_df, annot=True, fmt='.4g',cmap=\"OrRd\")\n",
    "plt.title('Confusion Matrix')\n",
    "plt.ylabel('Actual Values')\n",
    "plt.xlabel('Predicted Values')\n",
    "plt.show()"
   ]
  },
  {
   "cell_type": "code",
   "execution_count": 67,
   "id": "59337bde-d017-43bc-82e3-72df74ec9083",
   "metadata": {
    "tags": []
   },
   "outputs": [],
   "source": [
    "cm_df_normalize = cm_df.div(cm_df.sum(axis=1), axis=0)"
   ]
  },
  {
   "cell_type": "code",
   "execution_count": 68,
   "id": "2a08d31c-f9ba-459f-a8fb-9f0c9a90da18",
   "metadata": {
    "tags": []
   },
   "outputs": [
    {
     "data": {
      "image/png": "[encoded data removed]",
      "text/plain": [
       "<Figure size 800x800 with 2 Axes>"
      ]
     },
     "metadata": {},
     "output_type": "display_data"
    }
   ],
   "source": [
    "plt.figure(figsize=(8,8))\n",
    "sns.heatmap(cm_df_normalize, annot=True, fmt='.3g',cmap=\"OrRd\")\n",
    "plt.title('Confusion Matrix')\n",
    "plt.ylabel('Actual Values')\n",
    "plt.xlabel('Predicted Values')\n",
    "plt.show()"
   ]
  },
  {
   "cell_type": "code",
   "execution_count": 69,
   "id": "6b96bf14-6ace-4e21-863a-c55d621ef31c",
   "metadata": {
    "tags": []
   },
   "outputs": [
    {
     "name": "stdout",
     "output_type": "stream",
     "text": [
      "66/66 [==============================] - 0s 5ms/step\n",
      "WEIGHTED F1 SCORE: 0.7449462957333384\n",
      "F1 SCORE: [0.85450955 0.31168831 0.41818182 0.15686275 0.         0.\n",
      " 0.21052632 0.         0.         0.        ]\n"
     ]
    }
   ],
   "source": [
    "cm_df = predict_and_vis(history, input_image_street_test_final, tiles_expanded_rv_test)"
   ]
  },
  {
   "cell_type": "code",
   "execution_count": 70,
   "id": "101975ba-a3ff-447d-a4c5-10008186a0e2",
   "metadata": {
    "tags": []
   },
   "outputs": [
    {
     "data": {
      "text/html": [
       "<div>\n",
       "<style scoped>\n",
       "    .dataframe tbody tr th:only-of-type {\n",
       "        vertical-align: middle;\n",
       "    }\n",
       "\n",
       "    .dataframe tbody tr th {\n",
       "        vertical-align: top;\n",
       "    }\n",
       "\n",
       "    .dataframe thead th {\n",
       "        text-align: right;\n",
       "    }\n",
       "</style>\n",
       "<table border=\"1\" class=\"dataframe\">\n",
       "  <thead>\n",
       "    <tr style=\"text-align: right;\">\n",
       "      <th></th>\n",
       "      <th>0</th>\n",
       "      <th>1</th>\n",
       "      <th>2</th>\n",
       "      <th>3</th>\n",
       "      <th>4</th>\n",
       "      <th>5</th>\n",
       "      <th>6</th>\n",
       "      <th>7</th>\n",
       "      <th>8</th>\n",
       "      <th>9</th>\n",
       "    </tr>\n",
       "  </thead>\n",
       "  <tbody>\n",
       "    <tr>\n",
       "      <th>0</th>\n",
       "      <td>1298</td>\n",
       "      <td>2</td>\n",
       "      <td>321</td>\n",
       "      <td>25</td>\n",
       "      <td>0</td>\n",
       "      <td>0</td>\n",
       "      <td>0</td>\n",
       "      <td>0</td>\n",
       "      <td>0</td>\n",
       "      <td>0</td>\n",
       "    </tr>\n",
       "    <tr>\n",
       "      <th>1</th>\n",
       "      <td>3</td>\n",
       "      <td>12</td>\n",
       "      <td>18</td>\n",
       "      <td>9</td>\n",
       "      <td>0</td>\n",
       "      <td>0</td>\n",
       "      <td>1</td>\n",
       "      <td>0</td>\n",
       "      <td>0</td>\n",
       "      <td>0</td>\n",
       "    </tr>\n",
       "    <tr>\n",
       "      <th>2</th>\n",
       "      <td>84</td>\n",
       "      <td>9</td>\n",
       "      <td>184</td>\n",
       "      <td>27</td>\n",
       "      <td>0</td>\n",
       "      <td>0</td>\n",
       "      <td>0</td>\n",
       "      <td>0</td>\n",
       "      <td>0</td>\n",
       "      <td>0</td>\n",
       "    </tr>\n",
       "    <tr>\n",
       "      <th>3</th>\n",
       "      <td>7</td>\n",
       "      <td>3</td>\n",
       "      <td>49</td>\n",
       "      <td>12</td>\n",
       "      <td>1</td>\n",
       "      <td>0</td>\n",
       "      <td>0</td>\n",
       "      <td>0</td>\n",
       "      <td>0</td>\n",
       "      <td>0</td>\n",
       "    </tr>\n",
       "    <tr>\n",
       "      <th>4</th>\n",
       "      <td>0</td>\n",
       "      <td>3</td>\n",
       "      <td>0</td>\n",
       "      <td>4</td>\n",
       "      <td>0</td>\n",
       "      <td>0</td>\n",
       "      <td>3</td>\n",
       "      <td>0</td>\n",
       "      <td>0</td>\n",
       "      <td>0</td>\n",
       "    </tr>\n",
       "    <tr>\n",
       "      <th>5</th>\n",
       "      <td>0</td>\n",
       "      <td>1</td>\n",
       "      <td>0</td>\n",
       "      <td>0</td>\n",
       "      <td>1</td>\n",
       "      <td>0</td>\n",
       "      <td>0</td>\n",
       "      <td>0</td>\n",
       "      <td>0</td>\n",
       "      <td>0</td>\n",
       "    </tr>\n",
       "    <tr>\n",
       "      <th>6</th>\n",
       "      <td>0</td>\n",
       "      <td>3</td>\n",
       "      <td>3</td>\n",
       "      <td>3</td>\n",
       "      <td>0</td>\n",
       "      <td>0</td>\n",
       "      <td>2</td>\n",
       "      <td>0</td>\n",
       "      <td>0</td>\n",
       "      <td>0</td>\n",
       "    </tr>\n",
       "    <tr>\n",
       "      <th>7</th>\n",
       "      <td>0</td>\n",
       "      <td>0</td>\n",
       "      <td>1</td>\n",
       "      <td>1</td>\n",
       "      <td>2</td>\n",
       "      <td>0</td>\n",
       "      <td>0</td>\n",
       "      <td>0</td>\n",
       "      <td>0</td>\n",
       "      <td>0</td>\n",
       "    </tr>\n",
       "    <tr>\n",
       "      <th>8</th>\n",
       "      <td>0</td>\n",
       "      <td>1</td>\n",
       "      <td>0</td>\n",
       "      <td>0</td>\n",
       "      <td>0</td>\n",
       "      <td>0</td>\n",
       "      <td>1</td>\n",
       "      <td>0</td>\n",
       "      <td>0</td>\n",
       "      <td>0</td>\n",
       "    </tr>\n",
       "    <tr>\n",
       "      <th>9</th>\n",
       "      <td>0</td>\n",
       "      <td>0</td>\n",
       "      <td>0</td>\n",
       "      <td>0</td>\n",
       "      <td>0</td>\n",
       "      <td>0</td>\n",
       "      <td>1</td>\n",
       "      <td>0</td>\n",
       "      <td>0</td>\n",
       "      <td>0</td>\n",
       "    </tr>\n",
       "  </tbody>\n",
       "</table>\n",
       "</div>"
      ],
      "text/plain": [
       "      0   1    2   3  4  5  6  7  8  9\n",
       "0  1298   2  321  25  0  0  0  0  0  0\n",
       "1     3  12   18   9  0  0  1  0  0  0\n",
       "2    84   9  184  27  0  0  0  0  0  0\n",
       "3     7   3   49  12  1  0  0  0  0  0\n",
       "4     0   3    0   4  0  0  3  0  0  0\n",
       "5     0   1    0   0  1  0  0  0  0  0\n",
       "6     0   3    3   3  0  0  2  0  0  0\n",
       "7     0   0    1   1  2  0  0  0  0  0\n",
       "8     0   1    0   0  0  0  1  0  0  0\n",
       "9     0   0    0   0  0  0  1  0  0  0"
      ]
     },
     "execution_count": 70,
     "metadata": {},
     "output_type": "execute_result"
    }
   ],
   "source": [
    "cm_df"
   ]
  },
  {
   "cell_type": "code",
   "execution_count": 71,
   "id": "1a48feb1-d43c-40cf-8514-4106ebd49fc0",
   "metadata": {
    "tags": []
   },
   "outputs": [
    {
     "data": {
      "image/png": "[encoded data removed]",
      "text/plain": [
       "<Figure size 800x900 with 2 Axes>"
      ]
     },
     "metadata": {},
     "output_type": "display_data"
    }
   ],
   "source": [
    "plt.figure(figsize=(8,9))\n",
    "sns.heatmap(cm_df, annot=True, fmt='.4g',cmap=\"OrRd\")\n",
    "plt.title('Confusion Matrix')\n",
    "plt.ylabel('Actual Values')\n",
    "plt.xlabel('Predicted Values')\n",
    "plt.show()"
   ]
  },
  {
   "cell_type": "code",
   "execution_count": 72,
   "id": "6bb15bc6-2d4b-4a38-b9c9-5f7c068c2743",
   "metadata": {
    "tags": []
   },
   "outputs": [],
   "source": [
    "cm_df_normalize = cm_df.div(cm_df.sum(axis=1), axis=0)"
   ]
  },
  {
   "cell_type": "code",
   "execution_count": 73,
   "id": "91029962-5ad1-4444-ba88-76d6050a1701",
   "metadata": {
    "tags": []
   },
   "outputs": [
    {
     "data": {
      "image/png": "[encoded data removed]",
      "text/plain": [
       "<Figure size 1200x800 with 2 Axes>"
      ]
     },
     "metadata": {},
     "output_type": "display_data"
    }
   ],
   "source": [
    "plt.figure(figsize=(12,8))\n",
    "sns.heatmap(cm_df_normalize, annot=True, fmt='.3g',cmap=\"OrRd\")\n",
    "plt.title('Confusion Matrix')\n",
    "plt.ylabel('Actual Values')\n",
    "plt.xlabel('Predicted Values')\n",
    "plt.show()"
   ]
  },
  {
   "cell_type": "markdown",
   "id": "c198a42b-64ce-42fe-8075-ea9260bfa881",
   "metadata": {
    "tags": []
   },
   "source": [
    "## Re-training model with validation data in train "
   ]
  },
  {
   "cell_type": "code",
   "execution_count": 30,
   "id": "fd671ed1-e191-468f-b34b-2430b20ce456",
   "metadata": {
    "tags": []
   },
   "outputs": [
    {
     "name": "stdout",
     "output_type": "stream",
     "text": [
      "Model: \"logistic_model\"\n",
      "_________________________________________________________________\n",
      " Layer (type)                Output Shape              Param #   \n",
      "=================================================================\n",
      " input_1 (InputLayer)        [(None, 111335)]          0         \n",
      "                                                                 \n",
      " dense (Dense)               (None, 11)                1224696   \n",
      "                                                                 \n",
      "=================================================================\n",
      "Total params: 1,224,696\n",
      "Trainable params: 1,224,696\n",
      "Non-trainable params: 0\n",
      "_________________________________________________________________\n"
     ]
    },
    {
     "name": "stderr",
     "output_type": "stream",
     "text": [
      "2023-04-10 05:17:20.406164: I tensorflow/compiler/xla/stream_executor/cuda/cuda_gpu_executor.cc:981] successful NUMA node read from SysFS had negative value (-1), but there must be at least one NUMA node, so returning NUMA node zero\n",
      "2023-04-10 05:17:20.414394: I tensorflow/compiler/xla/stream_executor/cuda/cuda_gpu_executor.cc:981] successful NUMA node read from SysFS had negative value (-1), but there must be at least one NUMA node, so returning NUMA node zero\n",
      "2023-04-10 05:17:20.414790: I tensorflow/compiler/xla/stream_executor/cuda/cuda_gpu_executor.cc:981] successful NUMA node read from SysFS had negative value (-1), but there must be at least one NUMA node, so returning NUMA node zero\n",
      "2023-04-10 05:17:20.415507: I tensorflow/core/platform/cpu_feature_guard.cc:193] This TensorFlow binary is optimized with oneAPI Deep Neural Network Library (oneDNN) to use the following CPU instructions in performance-critical operations:  AVX2 FMA\n",
      "To enable them in other operations, rebuild TensorFlow with the appropriate compiler flags.\n",
      "2023-04-10 05:17:20.416717: I tensorflow/compiler/xla/stream_executor/cuda/cuda_gpu_executor.cc:981] successful NUMA node read from SysFS had negative value (-1), but there must be at least one NUMA node, so returning NUMA node zero\n",
      "2023-04-10 05:17:20.417121: I tensorflow/compiler/xla/stream_executor/cuda/cuda_gpu_executor.cc:981] successful NUMA node read from SysFS had negative value (-1), but there must be at least one NUMA node, so returning NUMA node zero\n",
      "2023-04-10 05:17:20.417500: I tensorflow/compiler/xla/stream_executor/cuda/cuda_gpu_executor.cc:981] successful NUMA node read from SysFS had negative value (-1), but there must be at least one NUMA node, so returning NUMA node zero\n",
      "2023-04-10 05:17:20.938924: I tensorflow/compiler/xla/stream_executor/cuda/cuda_gpu_executor.cc:981] successful NUMA node read from SysFS had negative value (-1), but there must be at least one NUMA node, so returning NUMA node zero\n",
      "2023-04-10 05:17:20.939203: I tensorflow/compiler/xla/stream_executor/cuda/cuda_gpu_executor.cc:981] successful NUMA node read from SysFS had negative value (-1), but there must be at least one NUMA node, so returning NUMA node zero\n",
      "2023-04-10 05:17:20.939429: I tensorflow/compiler/xla/stream_executor/cuda/cuda_gpu_executor.cc:981] successful NUMA node read from SysFS had negative value (-1), but there must be at least one NUMA node, so returning NUMA node zero\n",
      "2023-04-10 05:17:20.939605: I tensorflow/core/common_runtime/gpu/gpu_device.cc:1613] Created device /job:localhost/replica:0/task:0/device:GPU:0 with 6911 MB memory:  -> device: 0, name: Tesla M60, pci bus id: 0000:00:1e.0, compute capability: 5.2\n"
     ]
    },
    {
     "name": "stdout",
     "output_type": "stream",
     "text": [
      "Epoch 1/80\n"
     ]
    },
    {
     "name": "stderr",
     "output_type": "stream",
     "text": [
      "2023-04-10 05:17:27.595450: I tensorflow/compiler/xla/service/service.cc:173] XLA service 0x7fdb3e038530 initialized for platform CUDA (this does not guarantee that XLA will be used). Devices:\n",
      "2023-04-10 05:17:27.595498: I tensorflow/compiler/xla/service/service.cc:181]   StreamExecutor device (0): Tesla M60, Compute Capability 5.2\n",
      "2023-04-10 05:17:27.601346: I tensorflow/compiler/mlir/tensorflow/utils/dump_mlir_util.cc:268] disabling MLIR crash reproducer, set env var `MLIR_CRASH_REPRODUCER_DIRECTORY` to enable.\n",
      "2023-04-10 05:17:27.769747: I tensorflow/compiler/jit/xla_compilation_cache.cc:477] Compiled cluster using XLA!  This line is logged at most once for the lifetime of the process.\n"
     ]
    },
    {
     "name": "stdout",
     "output_type": "stream",
     "text": [
      "234/234 [==============================] - 3s 6ms/step - loss: 1.8073 - accuracy: 0.4464\n",
      "Epoch 2/80\n",
      "234/234 [==============================] - 1s 6ms/step - loss: 1.1658 - accuracy: 0.5951\n",
      "Epoch 3/80\n",
      "234/234 [==============================] - 1s 6ms/step - loss: 0.9412 - accuracy: 0.6351\n",
      "Epoch 4/80\n",
      "234/234 [==============================] - 1s 6ms/step - loss: 0.8079 - accuracy: 0.6744\n",
      "Epoch 5/80\n",
      "234/234 [==============================] - 2s 6ms/step - loss: 0.7118 - accuracy: 0.7064\n",
      "Epoch 6/80\n",
      "234/234 [==============================] - 1s 6ms/step - loss: 0.6556 - accuracy: 0.7201\n",
      "Epoch 7/80\n",
      "234/234 [==============================] - 1s 6ms/step - loss: 0.6060 - accuracy: 0.7217\n",
      "Epoch 8/80\n",
      "234/234 [==============================] - 1s 6ms/step - loss: 0.5647 - accuracy: 0.7334\n",
      "Epoch 9/80\n",
      "234/234 [==============================] - 1s 6ms/step - loss: 0.5262 - accuracy: 0.7438\n",
      "Epoch 10/80\n",
      "234/234 [==============================] - 1s 6ms/step - loss: 0.4970 - accuracy: 0.7556\n",
      "Epoch 11/80\n",
      "234/234 [==============================] - 1s 6ms/step - loss: 0.4741 - accuracy: 0.7659\n",
      "Epoch 12/80\n",
      "234/234 [==============================] - 1s 6ms/step - loss: 0.4473 - accuracy: 0.7742\n",
      "Epoch 13/80\n",
      "234/234 [==============================] - 1s 6ms/step - loss: 0.4297 - accuracy: 0.7727\n",
      "Epoch 14/80\n",
      "234/234 [==============================] - 1s 6ms/step - loss: 0.4126 - accuracy: 0.7843\n",
      "Epoch 15/80\n",
      "234/234 [==============================] - 1s 6ms/step - loss: 0.3933 - accuracy: 0.7845\n",
      "Epoch 16/80\n",
      "234/234 [==============================] - 1s 6ms/step - loss: 0.3772 - accuracy: 0.7916\n",
      "Epoch 17/80\n",
      "234/234 [==============================] - 1s 6ms/step - loss: 0.3625 - accuracy: 0.7956\n",
      "Epoch 18/80\n",
      "234/234 [==============================] - 1s 6ms/step - loss: 0.3524 - accuracy: 0.7988\n",
      "Epoch 19/80\n",
      "234/234 [==============================] - 1s 6ms/step - loss: 0.3372 - accuracy: 0.8007\n",
      "Epoch 20/80\n",
      "234/234 [==============================] - 2s 6ms/step - loss: 0.3307 - accuracy: 0.8062\n",
      "Epoch 21/80\n",
      "234/234 [==============================] - 1s 6ms/step - loss: 0.3217 - accuracy: 0.8056\n",
      "Epoch 22/80\n",
      "234/234 [==============================] - 1s 6ms/step - loss: 0.3085 - accuracy: 0.8119\n",
      "Epoch 23/80\n",
      "234/234 [==============================] - 2s 6ms/step - loss: 0.3019 - accuracy: 0.8102\n",
      "Epoch 24/80\n",
      "234/234 [==============================] - 2s 6ms/step - loss: 0.2929 - accuracy: 0.8194\n",
      "Epoch 25/80\n",
      "234/234 [==============================] - 1s 6ms/step - loss: 0.2805 - accuracy: 0.8201\n",
      "Epoch 26/80\n",
      "234/234 [==============================] - 1s 6ms/step - loss: 0.2798 - accuracy: 0.8207\n",
      "Epoch 27/80\n",
      "234/234 [==============================] - 1s 6ms/step - loss: 0.2716 - accuracy: 0.8238\n",
      "Epoch 28/80\n",
      "234/234 [==============================] - 1s 6ms/step - loss: 0.2622 - accuracy: 0.8249\n",
      "Epoch 29/80\n",
      "234/234 [==============================] - 1s 6ms/step - loss: 0.2579 - accuracy: 0.8242\n",
      "Epoch 30/80\n",
      "234/234 [==============================] - 1s 6ms/step - loss: 0.2497 - accuracy: 0.8314\n",
      "Epoch 31/80\n",
      "234/234 [==============================] - 1s 6ms/step - loss: 0.2425 - accuracy: 0.8268\n",
      "Epoch 32/80\n",
      "234/234 [==============================] - 1s 6ms/step - loss: 0.2375 - accuracy: 0.8332\n",
      "Epoch 33/80\n",
      "234/234 [==============================] - 2s 6ms/step - loss: 0.2360 - accuracy: 0.8322\n",
      "Epoch 34/80\n",
      "234/234 [==============================] - 1s 6ms/step - loss: 0.2284 - accuracy: 0.8364\n",
      "Epoch 35/80\n",
      "234/234 [==============================] - 1s 6ms/step - loss: 0.2246 - accuracy: 0.8286\n",
      "Epoch 36/80\n",
      "234/234 [==============================] - 1s 6ms/step - loss: 0.2194 - accuracy: 0.8359\n",
      "Epoch 37/80\n",
      "234/234 [==============================] - 1s 6ms/step - loss: 0.2125 - accuracy: 0.8412\n",
      "Epoch 38/80\n",
      "234/234 [==============================] - 1s 6ms/step - loss: 0.2105 - accuracy: 0.8464\n",
      "Epoch 39/80\n",
      "234/234 [==============================] - 2s 6ms/step - loss: 0.2081 - accuracy: 0.8405\n",
      "Epoch 40/80\n",
      "234/234 [==============================] - 1s 6ms/step - loss: 0.2034 - accuracy: 0.8432\n",
      "Epoch 41/80\n",
      "234/234 [==============================] - 1s 6ms/step - loss: 0.1973 - accuracy: 0.8538\n",
      "Epoch 42/80\n",
      "234/234 [==============================] - 1s 6ms/step - loss: 0.1929 - accuracy: 0.8478\n",
      "Epoch 43/80\n",
      "234/234 [==============================] - 1s 6ms/step - loss: 0.1907 - accuracy: 0.8503\n",
      "Epoch 44/80\n",
      "234/234 [==============================] - 1s 6ms/step - loss: 0.1852 - accuracy: 0.8530\n",
      "Epoch 45/80\n",
      "234/234 [==============================] - 1s 6ms/step - loss: 0.1816 - accuracy: 0.8559\n",
      "Epoch 46/80\n",
      "234/234 [==============================] - 1s 6ms/step - loss: 0.1777 - accuracy: 0.8569\n",
      "Epoch 47/80\n",
      "234/234 [==============================] - 1s 6ms/step - loss: 0.1757 - accuracy: 0.8527\n",
      "Epoch 48/80\n",
      "234/234 [==============================] - 1s 6ms/step - loss: 0.1735 - accuracy: 0.8617\n",
      "Epoch 49/80\n",
      "234/234 [==============================] - 1s 6ms/step - loss: 0.1689 - accuracy: 0.8645\n",
      "Epoch 50/80\n",
      "234/234 [==============================] - 1s 6ms/step - loss: 0.1674 - accuracy: 0.8642\n",
      "Epoch 51/80\n",
      "234/234 [==============================] - 1s 6ms/step - loss: 0.1634 - accuracy: 0.8619\n",
      "Epoch 52/80\n",
      "234/234 [==============================] - 2s 6ms/step - loss: 0.1617 - accuracy: 0.8678\n",
      "Epoch 53/80\n",
      "234/234 [==============================] - 1s 6ms/step - loss: 0.1606 - accuracy: 0.8639\n",
      "Epoch 54/80\n",
      "234/234 [==============================] - 1s 6ms/step - loss: 0.1579 - accuracy: 0.8674\n",
      "Epoch 55/80\n",
      "234/234 [==============================] - 1s 6ms/step - loss: 0.1531 - accuracy: 0.8714\n",
      "Epoch 56/80\n",
      "234/234 [==============================] - 1s 6ms/step - loss: 0.1502 - accuracy: 0.8681\n",
      "Epoch 57/80\n",
      "234/234 [==============================] - 1s 6ms/step - loss: 0.1502 - accuracy: 0.8718\n",
      "Epoch 58/80\n",
      "234/234 [==============================] - 1s 6ms/step - loss: 0.1455 - accuracy: 0.8716\n",
      "Epoch 59/80\n",
      "234/234 [==============================] - 1s 6ms/step - loss: 0.1439 - accuracy: 0.8763\n",
      "Epoch 60/80\n",
      "234/234 [==============================] - 2s 6ms/step - loss: 0.1449 - accuracy: 0.8730\n",
      "Epoch 61/80\n",
      "234/234 [==============================] - 1s 6ms/step - loss: 0.1399 - accuracy: 0.8756\n",
      "Epoch 62/80\n",
      "234/234 [==============================] - 1s 6ms/step - loss: 0.1387 - accuracy: 0.8756\n",
      "Epoch 63/80\n",
      "234/234 [==============================] - 2s 6ms/step - loss: 0.1365 - accuracy: 0.8752\n",
      "Epoch 64/80\n",
      "234/234 [==============================] - 2s 6ms/step - loss: 0.1349 - accuracy: 0.8767\n",
      "Epoch 65/80\n",
      "234/234 [==============================] - 2s 6ms/step - loss: 0.1318 - accuracy: 0.8819\n",
      "Epoch 66/80\n",
      "234/234 [==============================] - 2s 6ms/step - loss: 0.1299 - accuracy: 0.8807\n",
      "Epoch 67/80\n",
      "234/234 [==============================] - 1s 6ms/step - loss: 0.1283 - accuracy: 0.8841\n",
      "Epoch 68/80\n",
      "234/234 [==============================] - 1s 6ms/step - loss: 0.1278 - accuracy: 0.8800\n",
      "Epoch 69/80\n",
      "234/234 [==============================] - 1s 6ms/step - loss: 0.1250 - accuracy: 0.8863\n",
      "Epoch 70/80\n",
      "234/234 [==============================] - 1s 6ms/step - loss: 0.1234 - accuracy: 0.8872\n",
      "Epoch 71/80\n",
      "234/234 [==============================] - 1s 6ms/step - loss: 0.1229 - accuracy: 0.8864\n",
      "Epoch 72/80\n",
      "234/234 [==============================] - 1s 6ms/step - loss: 0.1200 - accuracy: 0.8867\n",
      "Epoch 73/80\n",
      "234/234 [==============================] - 1s 6ms/step - loss: 0.1231 - accuracy: 0.8805\n",
      "Epoch 74/80\n",
      "234/234 [==============================] - 1s 6ms/step - loss: 0.1167 - accuracy: 0.8919\n",
      "Epoch 75/80\n",
      "234/234 [==============================] - 1s 6ms/step - loss: 0.1186 - accuracy: 0.8882\n",
      "Epoch 76/80\n",
      "234/234 [==============================] - 1s 6ms/step - loss: 0.1140 - accuracy: 0.8938\n",
      "Epoch 77/80\n",
      "234/234 [==============================] - 1s 6ms/step - loss: 0.1130 - accuracy: 0.8958\n",
      "Epoch 78/80\n",
      "234/234 [==============================] - 1s 6ms/step - loss: 0.1112 - accuracy: 0.8938\n",
      "Epoch 79/80\n",
      "234/234 [==============================] - 1s 6ms/step - loss: 0.1092 - accuracy: 0.8932\n",
      "Epoch 80/80\n",
      "234/234 [==============================] - 1s 6ms/step - loss: 0.1079 - accuracy: 0.8966\n"
     ]
    },
    {
     "ename": "KeyError",
     "evalue": "'val_loss'",
     "output_type": "error",
     "traceback": [
      "\u001b[0;31m---------------------------------------------------------------------------\u001b[0m",
      "\u001b[0;31mKeyError\u001b[0m                                  Traceback (most recent call last)",
      "Cell \u001b[0;32mIn[30], line 28\u001b[0m\n\u001b[1;32m     19\u001b[0m logistic_model \u001b[38;5;241m=\u001b[39m create_logistic_model()\n\u001b[1;32m     21\u001b[0m history \u001b[38;5;241m=\u001b[39m logistic_model\u001b[38;5;241m.\u001b[39mfit(\n\u001b[1;32m     22\u001b[0m     input_image_street,\n\u001b[1;32m     23\u001b[0m     np\u001b[38;5;241m.\u001b[39mstack(y_train\u001b[38;5;241m.\u001b[39mto_numpy()),\n\u001b[1;32m     24\u001b[0m     epochs\u001b[38;5;241m=\u001b[39m\u001b[38;5;241m80\u001b[39m, \n\u001b[1;32m     25\u001b[0m     class_weight \u001b[38;5;241m=\u001b[39m class_weight\n\u001b[1;32m     26\u001b[0m     )\n\u001b[0;32m---> 28\u001b[0m \u001b[43mplot_loss\u001b[49m\u001b[43m(\u001b[49m\u001b[43mhistory\u001b[49m\u001b[43m)\u001b[49m\n",
      "Cell \u001b[0;32mIn[3], line 3\u001b[0m, in \u001b[0;36mplot_loss\u001b[0;34m(history)\u001b[0m\n\u001b[1;32m      1\u001b[0m \u001b[38;5;28;01mdef\u001b[39;00m \u001b[38;5;21mplot_loss\u001b[39m(history):\n\u001b[1;32m      2\u001b[0m     plt\u001b[38;5;241m.\u001b[39mplot(history\u001b[38;5;241m.\u001b[39mhistory[\u001b[38;5;124m'\u001b[39m\u001b[38;5;124mloss\u001b[39m\u001b[38;5;124m'\u001b[39m], label\u001b[38;5;241m=\u001b[39m\u001b[38;5;124m'\u001b[39m\u001b[38;5;124mloss\u001b[39m\u001b[38;5;124m'\u001b[39m)\n\u001b[0;32m----> 3\u001b[0m     plt\u001b[38;5;241m.\u001b[39mplot(\u001b[43mhistory\u001b[49m\u001b[38;5;241;43m.\u001b[39;49m\u001b[43mhistory\u001b[49m\u001b[43m[\u001b[49m\u001b[38;5;124;43m'\u001b[39;49m\u001b[38;5;124;43mval_loss\u001b[39;49m\u001b[38;5;124;43m'\u001b[39;49m\u001b[43m]\u001b[49m, label\u001b[38;5;241m=\u001b[39m\u001b[38;5;124m'\u001b[39m\u001b[38;5;124mval_loss\u001b[39m\u001b[38;5;124m'\u001b[39m)\n\u001b[1;32m      4\u001b[0m     plt\u001b[38;5;241m.\u001b[39mylim([\u001b[38;5;241m0\u001b[39m, \n\u001b[1;32m      5\u001b[0m             \u001b[38;5;28mmax\u001b[39m(\n\u001b[1;32m      6\u001b[0m                 \u001b[38;5;28mmax\u001b[39m(history\u001b[38;5;241m.\u001b[39mhistory[\u001b[38;5;124m'\u001b[39m\u001b[38;5;124mloss\u001b[39m\u001b[38;5;124m'\u001b[39m]),\n\u001b[1;32m      7\u001b[0m                 \u001b[38;5;28mmax\u001b[39m(history\u001b[38;5;241m.\u001b[39mhistory[\u001b[38;5;124m'\u001b[39m\u001b[38;5;124mval_loss\u001b[39m\u001b[38;5;124m'\u001b[39m])\n\u001b[1;32m      8\u001b[0m             )])\n\u001b[1;32m      9\u001b[0m     plt\u001b[38;5;241m.\u001b[39mxlabel(\u001b[38;5;124m'\u001b[39m\u001b[38;5;124mEpoch\u001b[39m\u001b[38;5;124m'\u001b[39m)\n",
      "\u001b[0;31mKeyError\u001b[0m: 'val_loss'"
     ]
    },
    {
     "data": {
      "image/png": "[encoded data removed]",
      "text/plain": [
       "<Figure size 640x480 with 1 Axes>"
      ]
     },
     "metadata": {},
     "output_type": "display_data"
    }
   ],
   "source": [
    "tf.keras.backend.clear_session()\n",
    "def create_logistic_model():\n",
    "    # DENSE LAYERS \n",
    "    input = tf.keras.layers.Input(shape=(111335,))\n",
    "    outputs = keras.layers.Dense(units = 11, activation = 'softmax')(input)\n",
    "\n",
    "    log_model = tf.keras.models.Model(inputs=input, outputs=outputs, name=\"logistic_model\")\n",
    "\n",
    "    log_model.summary()\n",
    "\n",
    "    log_model.compile(\n",
    "        optimizer=tf.keras.optimizers.Adam(learning_rate=0.001),\n",
    "        loss=tf.keras.losses.SparseCategoricalCrossentropy(),\n",
    "        metrics=['accuracy']\n",
    "        )\n",
    "    \n",
    "    return log_model\n",
    "\n",
    "logistic_model = create_logistic_model()\n",
    "\n",
    "history = logistic_model.fit(\n",
    "    input_image_street,\n",
    "    np.stack(y_train.to_numpy()),\n",
    "    epochs=80, \n",
    "    class_weight = class_weight\n",
    "    )\n",
    "\n",
    "plot_loss(history)"
   ]
  },
  {
   "cell_type": "code",
   "execution_count": 33,
   "id": "1b74b5c7-1341-4d7c-a354-861dd6d99784",
   "metadata": {
    "tags": []
   },
   "outputs": [
    {
     "name": "stdout",
     "output_type": "stream",
     "text": [
      "66/66 [==============================] - 0s 5ms/step\n",
      "WEIGHTED F1 SCORE: 0.7643356957747494\n",
      "F1 SCORE: [0.87620269 0.23880597 0.43576826 0.19631902 0.11764706 0.\n",
      " 0.09090909 0.         0.         0.        ]\n"
     ]
    }
   ],
   "source": [
    "cm_df = predict_and_vis(history, input_image_street_test_final, tiles_expanded_rv_test)"
   ]
  },
  {
   "cell_type": "markdown",
   "id": "86055199-1c0e-4da9-b3a7-fd8f777a8d7d",
   "metadata": {},
   "source": [
    "## Saving the model"
   ]
  },
  {
   "cell_type": "code",
   "execution_count": 34,
   "id": "6b0d9e3f-cf9c-4d28-93ab-009313b81eff",
   "metadata": {
    "tags": []
   },
   "outputs": [],
   "source": [
    "history.model.save_weights('./checkpoint_11_bins/logistic_model_10bins_weight')"
   ]
  }
 ],
 "metadata": {
  "kernelspec": {
   "display_name": "Python 3 (ipykernel)",
   "language": "python",
   "name": "python3"
  },
  "language_info": {
   "codemirror_mode": {
    "name": "ipython",
    "version": 3
   },
   "file_extension": ".py",
   "mimetype": "text/x-python",
   "name": "python",
   "nbconvert_exporter": "python",
   "pygments_lexer": "ipython3",
   "version": "3.10.7"
  }
 },
 "nbformat": 4,
 "nbformat_minor": 5
}
