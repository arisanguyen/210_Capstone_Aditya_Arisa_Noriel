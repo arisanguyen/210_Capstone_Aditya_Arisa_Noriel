{
 "cells": [
  {
   "cell_type": "code",
   "execution_count": 25,
   "id": "356025b8",
   "metadata": {
    "tags": []
   },
   "outputs": [],
   "source": [
    "import numpy as np\n",
    "import pandas as pd\n",
    "import math\n",
    "\n",
    "import matplotlib\n",
    "import matplotlib.pyplot as plt\n",
    "\n",
    "import tensorflow as tf\n",
    "from tensorflow import keras\n",
    "from tensorflow.keras import layers\n",
    "from tensorflow.keras.layers import concatenate\n",
    "import tensorflow_addons as tfa\n",
    "from keras.layers import Flatten, Dense, Dropout\n",
    "import tifffile\n",
    "\n",
    "from sklearn.model_selection import train_test_split\n",
    "# from sklearn.preprocessing import LabelEncoder\n",
    "# from sklearn.preprocessing import OneHotEncoder\n",
    "from sklearn.preprocessing import LabelBinarizer, normalize\n",
    "from sklearn.linear_model import LogisticRegression\n",
    "from sklearn.metrics import f1_score\n",
    "from sklearn.utils.class_weight import compute_class_weight\n",
    "import os\n",
    "\n",
    "import scipy\n",
    "from numba import cuda "
   ]
  },
  {
   "cell_type": "code",
   "execution_count": 2,
   "id": "cbe8314a-60a7-4de8-be72-620b659ef79d",
   "metadata": {
    "tags": []
   },
   "outputs": [],
   "source": [
    "# !pip install numpy tensorflow matplotlib scipy\n",
    "# # !pip install pandas\n",
    "# !pip install tifffile\n",
    "# !pip install scikit-learn\n",
    "# !pip install imagecodecs\n",
    "# !pip install tensorflow-addons\n",
    "# !pip install numba\n",
    "# !pip install ipyplot"
   ]
  },
  {
   "cell_type": "code",
   "execution_count": 3,
   "id": "bc10282d-f694-4346-b6e6-34923575c633",
   "metadata": {
    "tags": []
   },
   "outputs": [],
   "source": [
    "def reset_gpu():\n",
    "    device = cuda.get_current_device()\n",
    "    device.reset()"
   ]
  },
  {
   "cell_type": "code",
   "execution_count": 4,
   "id": "8bb10982-72ec-439c-9c1a-6c182803eb2f",
   "metadata": {
    "tags": []
   },
   "outputs": [],
   "source": [
    "def plot_loss(history):\n",
    "    plt.plot(history.history['loss'], label='loss')\n",
    "    plt.plot(history.history['val_loss'], label='val_loss')\n",
    "   # plt.plot(history.history['accuracy'], label='accuracy')\n",
    "   # plt.plot(history.history['val_accuracy'], label='val_accuracy')\n",
    "    plt.ylim([0, \n",
    "            max(\n",
    "                max(history.history['loss']),\n",
    "                max(history.history['val_loss'])\n",
    "            )])\n",
    "    plt.xlabel('Epoch')\n",
    "    plt.ylabel('Loss')\n",
    "    plt.legend()\n",
    "    plt.grid(True)"
   ]
  },
  {
   "cell_type": "code",
   "execution_count": 5,
   "id": "f3693092",
   "metadata": {
    "tags": []
   },
   "outputs": [],
   "source": [
    "# tiles = pd.read_csv(r'Data/Tiles_expanded.csv')\n",
    "tiles_expanded_rv = pd.read_csv(r'Data/Tiles_TRAIN.csv')#.drop(['Unnamed: 0'],axis=1)\n",
    "# tiles_expanded_rv = pd.get_dummies(tiles_expanded_rv, columns = ['RTTYP'])"
   ]
  },
  {
   "cell_type": "code",
   "execution_count": 6,
   "id": "29e5ddd8-bf87-4021-8274-ee55f64b54a7",
   "metadata": {
    "tags": []
   },
   "outputs": [
    {
     "data": {
      "text/html": [
       "<div>\n",
       "<style scoped>\n",
       "    .dataframe tbody tr th:only-of-type {\n",
       "        vertical-align: middle;\n",
       "    }\n",
       "\n",
       "    .dataframe tbody tr th {\n",
       "        vertical-align: top;\n",
       "    }\n",
       "\n",
       "    .dataframe thead th {\n",
       "        text-align: right;\n",
       "    }\n",
       "</style>\n",
       "<table border=\"1\" class=\"dataframe\">\n",
       "  <thead>\n",
       "    <tr style=\"text-align: right;\">\n",
       "      <th></th>\n",
       "      <th>Tile_ID</th>\n",
       "      <th>Stop_Signs</th>\n",
       "      <th>Paving_historical</th>\n",
       "      <th>Bus_stop</th>\n",
       "      <th>Collisions_Historical</th>\n",
       "      <th>RTTYP_I</th>\n",
       "      <th>RTTYP_M</th>\n",
       "      <th>RTTYP_O</th>\n",
       "      <th>RTTYP_S</th>\n",
       "      <th>RTTYP_U</th>\n",
       "      <th>...</th>\n",
       "      <th>94129</th>\n",
       "      <th>94130</th>\n",
       "      <th>94131</th>\n",
       "      <th>94132</th>\n",
       "      <th>94133</th>\n",
       "      <th>94134</th>\n",
       "      <th>94141</th>\n",
       "      <th>94143</th>\n",
       "      <th>94158</th>\n",
       "      <th>94188</th>\n",
       "    </tr>\n",
       "  </thead>\n",
       "  <tbody>\n",
       "    <tr>\n",
       "      <th>0</th>\n",
       "      <td>10993</td>\n",
       "      <td>0.0</td>\n",
       "      <td>0.0</td>\n",
       "      <td>0.0</td>\n",
       "      <td>2.0</td>\n",
       "      <td>0</td>\n",
       "      <td>1</td>\n",
       "      <td>0</td>\n",
       "      <td>0</td>\n",
       "      <td>0</td>\n",
       "      <td>...</td>\n",
       "      <td>0</td>\n",
       "      <td>0</td>\n",
       "      <td>0</td>\n",
       "      <td>0</td>\n",
       "      <td>0</td>\n",
       "      <td>0</td>\n",
       "      <td>1</td>\n",
       "      <td>0</td>\n",
       "      <td>0</td>\n",
       "      <td>0</td>\n",
       "    </tr>\n",
       "    <tr>\n",
       "      <th>1</th>\n",
       "      <td>13338</td>\n",
       "      <td>0.0</td>\n",
       "      <td>0.0</td>\n",
       "      <td>0.0</td>\n",
       "      <td>0.0</td>\n",
       "      <td>0</td>\n",
       "      <td>1</td>\n",
       "      <td>0</td>\n",
       "      <td>0</td>\n",
       "      <td>0</td>\n",
       "      <td>...</td>\n",
       "      <td>0</td>\n",
       "      <td>0</td>\n",
       "      <td>0</td>\n",
       "      <td>0</td>\n",
       "      <td>0</td>\n",
       "      <td>0</td>\n",
       "      <td>0</td>\n",
       "      <td>0</td>\n",
       "      <td>0</td>\n",
       "      <td>0</td>\n",
       "    </tr>\n",
       "    <tr>\n",
       "      <th>2</th>\n",
       "      <td>10163</td>\n",
       "      <td>0.0</td>\n",
       "      <td>0.0</td>\n",
       "      <td>0.0</td>\n",
       "      <td>0.0</td>\n",
       "      <td>0</td>\n",
       "      <td>1</td>\n",
       "      <td>0</td>\n",
       "      <td>0</td>\n",
       "      <td>0</td>\n",
       "      <td>...</td>\n",
       "      <td>0</td>\n",
       "      <td>0</td>\n",
       "      <td>0</td>\n",
       "      <td>0</td>\n",
       "      <td>0</td>\n",
       "      <td>0</td>\n",
       "      <td>0</td>\n",
       "      <td>0</td>\n",
       "      <td>0</td>\n",
       "      <td>0</td>\n",
       "    </tr>\n",
       "    <tr>\n",
       "      <th>3</th>\n",
       "      <td>7523</td>\n",
       "      <td>1.0</td>\n",
       "      <td>0.0</td>\n",
       "      <td>1.0</td>\n",
       "      <td>0.0</td>\n",
       "      <td>0</td>\n",
       "      <td>1</td>\n",
       "      <td>0</td>\n",
       "      <td>0</td>\n",
       "      <td>0</td>\n",
       "      <td>...</td>\n",
       "      <td>0</td>\n",
       "      <td>0</td>\n",
       "      <td>0</td>\n",
       "      <td>0</td>\n",
       "      <td>0</td>\n",
       "      <td>0</td>\n",
       "      <td>0</td>\n",
       "      <td>0</td>\n",
       "      <td>0</td>\n",
       "      <td>0</td>\n",
       "    </tr>\n",
       "    <tr>\n",
       "      <th>4</th>\n",
       "      <td>10314</td>\n",
       "      <td>2.0</td>\n",
       "      <td>0.0</td>\n",
       "      <td>0.0</td>\n",
       "      <td>0.0</td>\n",
       "      <td>0</td>\n",
       "      <td>1</td>\n",
       "      <td>0</td>\n",
       "      <td>0</td>\n",
       "      <td>0</td>\n",
       "      <td>...</td>\n",
       "      <td>0</td>\n",
       "      <td>0</td>\n",
       "      <td>0</td>\n",
       "      <td>0</td>\n",
       "      <td>0</td>\n",
       "      <td>0</td>\n",
       "      <td>0</td>\n",
       "      <td>0</td>\n",
       "      <td>0</td>\n",
       "      <td>0</td>\n",
       "    </tr>\n",
       "  </tbody>\n",
       "</table>\n",
       "<p>5 rows × 41 columns</p>\n",
       "</div>"
      ],
      "text/plain": [
       "   Tile_ID  Stop_Signs  Paving_historical  Bus_stop  Collisions_Historical  \\\n",
       "0    10993         0.0                0.0       0.0                    2.0   \n",
       "1    13338         0.0                0.0       0.0                    0.0   \n",
       "2    10163         0.0                0.0       0.0                    0.0   \n",
       "3     7523         1.0                0.0       1.0                    0.0   \n",
       "4    10314         2.0                0.0       0.0                    0.0   \n",
       "\n",
       "   RTTYP_I  RTTYP_M  RTTYP_O  RTTYP_S  RTTYP_U  ...  94129  94130  94131  \\\n",
       "0        0        1        0        0        0  ...      0      0      0   \n",
       "1        0        1        0        0        0  ...      0      0      0   \n",
       "2        0        1        0        0        0  ...      0      0      0   \n",
       "3        0        1        0        0        0  ...      0      0      0   \n",
       "4        0        1        0        0        0  ...      0      0      0   \n",
       "\n",
       "   94132  94133  94134  94141  94143  94158  94188  \n",
       "0      0      0      0      1      0      0      0  \n",
       "1      0      0      0      0      0      0      0  \n",
       "2      0      0      0      0      0      0      0  \n",
       "3      0      0      0      0      0      0      0  \n",
       "4      0      0      0      0      0      0      0  \n",
       "\n",
       "[5 rows x 41 columns]"
      ]
     },
     "execution_count": 6,
     "metadata": {},
     "output_type": "execute_result"
    }
   ],
   "source": [
    "tiles_expanded_rv.head()"
   ]
  },
  {
   "cell_type": "code",
   "execution_count": 7,
   "id": "d02cf6af-4d7f-4cbe-91f0-6a33a0ba3c86",
   "metadata": {
    "tags": []
   },
   "outputs": [],
   "source": [
    "# tiles_expanded_rv['Collisions_Future_binary']=tiles_expanded_rv['Collisions_Future'].apply(lambda x: 1 if x > 0 else 0)\n",
    "# tiles_expanded_rv['Collisions_Historical_binary']=tiles_expanded_rv['Collisions_Historical'].apply(lambda x: 1 if x > 0 else 0)"
   ]
  },
  {
   "cell_type": "code",
   "execution_count": 8,
   "id": "76ecedb8-c9cf-4452-a742-a7ea92710c8f",
   "metadata": {
    "tags": []
   },
   "outputs": [],
   "source": [
    "# tiles_expanded_rv['bins_numeric'], bin_keys = pd.factorize(tiles_expanded_rv['bins_numeric'])\n",
    "# tiles_expanded_rv.columns"
   ]
  },
  {
   "cell_type": "code",
   "execution_count": 9,
   "id": "592cf426",
   "metadata": {
    "tags": []
   },
   "outputs": [],
   "source": [
    "# bin_keys\n",
    "# tiles_expanded_rv.columns"
   ]
  },
  {
   "cell_type": "code",
   "execution_count": 10,
   "id": "925272aa",
   "metadata": {
    "tags": []
   },
   "outputs": [
    {
     "data": {
      "text/plain": [
       "0     6644\n",
       "2     1201\n",
       "3      283\n",
       "1      134\n",
       "6       61\n",
       "4       26\n",
       "7       14\n",
       "5        5\n",
       "8        4\n",
       "10       3\n",
       "9        1\n",
       "Name: bins_numeric, dtype: int64"
      ]
     },
     "execution_count": 10,
     "metadata": {},
     "output_type": "execute_result"
    }
   ],
   "source": [
    "tiles_expanded_rv['bins_numeric'].value_counts()"
   ]
  },
  {
   "cell_type": "markdown",
   "id": "13f22a15-184e-466c-8edd-448bd974f88d",
   "metadata": {
    "tags": []
   },
   "source": [
    "# Normalize data"
   ]
  },
  {
   "cell_type": "code",
   "execution_count": 11,
   "id": "3d2d6b89-b6a3-4465-ac2b-be220741cea8",
   "metadata": {
    "tags": []
   },
   "outputs": [],
   "source": [
    "# def normalize_col(df, col_name):\n",
    "\n",
    "#     norm = (df[col_name] - df[col_name].min()) / (df[col_name].max() - df[col_name].min())\n",
    "#     return norm\n",
    "\n",
    "# tiles_expanded_rv['Mid_lat_norm'] = normalize_col(tiles_expanded_rv,'Mid_lat')\n",
    "# tiles_expanded_rv['Mid_long_norm'] = normalize_col(tiles_expanded_rv,'Mid_long')\n"
   ]
  },
  {
   "cell_type": "markdown",
   "id": "c3a6b82c",
   "metadata": {},
   "source": [
    "Split into training and test"
   ]
  },
  {
   "cell_type": "code",
   "execution_count": 12,
   "id": "0d50fdd4",
   "metadata": {
    "tags": []
   },
   "outputs": [],
   "source": [
    "MODEL_TYPE='logistic' # 'linear'\n",
    "\n",
    "if MODEL_TYPE == 'linear':\n",
    "    input_x = ['Tile_ID','Collisions_Historical', 'Mid_lat_norm','Mid_long_norm', 'Stop_Signs', 'Paving_historical', 'Bus_stop','RTTYP_I','RTTYP_M','RTTYP_S','RTTYP_U'] # Removing RTTYP_O\n",
    "    input_y = ['Collisions_Future']\n",
    "elif MODEL_TYPE == 'logistic':\n",
    "    input_x = ['Tile_ID', 'Stop_Signs', 'Paving_historical', 'Bus_stop',\n",
    "       'Collisions_Historical', 'RTTYP_I', 'RTTYP_M', 'RTTYP_O', 'RTTYP_S',\n",
    "       'RTTYP_U', '94101', '94102', '94104', '94105', '94107',\n",
    "       '94108', '94109', '94110', '94111', '94112', '94114', '94115', '94116',\n",
    "       '94117', '94118', '94121', '94122', '94123', '94124', '94127', '94129',\n",
    "       '94130', '94131', '94132', '94133', '94134', '94141', '94143', '94158',\n",
    "       '94188']\n",
    "    input_y = ['bins_numeric']\n",
    "    \n",
    "\n",
    "x_train, x_test, y_train, y_test = train_test_split(\n",
    "                                    tiles_expanded_rv[input_x], \n",
    "                                    tiles_expanded_rv[input_y],\n",
    "                                    random_state=104, \n",
    "                                    test_size=0.20, \n",
    "                                    shuffle=True)\n",
    "\n"
   ]
  },
  {
   "cell_type": "code",
   "execution_count": 26,
   "id": "99c23eaa-143a-4e43-8cfd-2464a8621912",
   "metadata": {
    "tags": []
   },
   "outputs": [],
   "source": [
    "class_weight_list = compute_class_weight(class_weight='balanced',classes=y_train['bins_numeric'].unique(), y=y_train['bins_numeric'].to_numpy())"
   ]
  },
  {
   "cell_type": "code",
   "execution_count": 36,
   "id": "82c4ed67-b887-495a-8b93-735dee9561fc",
   "metadata": {
    "tags": []
   },
   "outputs": [
    {
     "name": "stdout",
     "output_type": "stream",
     "text": [
      "[1.14987901e-01 2.64822134e+00 6.29226146e-01 5.53719008e+01\n",
      " 5.63973064e+00 1.14922813e+01 2.03030303e+02 2.76859504e+01\n",
      " 1.52272727e+02 2.03030303e+02 6.09090909e+02]\n",
      "[ 0  3  2  7  1  6 10  4  5  8  9]\n"
     ]
    }
   ],
   "source": [
    "print(class_weight_list)\n",
    "print(unique_classes)"
   ]
  },
  {
   "cell_type": "code",
   "execution_count": 37,
   "id": "40d82e2d-705f-45e4-812a-ae4755f73362",
   "metadata": {
    "tags": []
   },
   "outputs": [],
   "source": [
    "class_weight={}\n",
    "unique_classes = y_train['bins_numeric'].unique()\n",
    "for i in range(11) :\n",
    "    class_weight[unique_classes[i]] = class_weight_list[i]"
   ]
  },
  {
   "cell_type": "code",
   "execution_count": 38,
   "id": "d4b67969-7acc-489a-ac27-0aa16f9c5282",
   "metadata": {
    "tags": []
   },
   "outputs": [
    {
     "data": {
      "text/plain": [
       "{0: 0.11498790052688486,\n",
       " 3: 2.6482213438735176,\n",
       " 2: 0.6292261457550714,\n",
       " 7: 55.37190082644628,\n",
       " 1: 5.63973063973064,\n",
       " 6: 11.492281303602057,\n",
       " 10: 203.03030303030303,\n",
       " 4: 27.68595041322314,\n",
       " 5: 152.27272727272728,\n",
       " 8: 203.03030303030303,\n",
       " 9: 609.0909090909091}"
      ]
     },
     "execution_count": 38,
     "metadata": {},
     "output_type": "execute_result"
    }
   ],
   "source": [
    "class_weight"
   ]
  },
  {
   "cell_type": "markdown",
   "id": "fffe2d02",
   "metadata": {},
   "source": [
    "Model #1: Linear regression using Historical Collisions, SFMTA Street Characteristics, and Geocoordinates"
   ]
  },
  {
   "cell_type": "markdown",
   "id": "bf220283",
   "metadata": {},
   "source": [
    "## Image Pre-Processing"
   ]
  },
  {
   "cell_type": "code",
   "execution_count": 39,
   "id": "ea514649",
   "metadata": {
    "tags": []
   },
   "outputs": [],
   "source": [
    "IMAGE_PATH = 'Satellite_Imagery/Satellite_Images_Tiled/' "
   ]
  },
  {
   "cell_type": "code",
   "execution_count": 40,
   "id": "b40c2ccb",
   "metadata": {
    "tags": []
   },
   "outputs": [],
   "source": [
    " #eda\n",
    "img = tifffile.imread('Satellite_Imagery/Satellite_Images_Tiled/36.tif')[0:148, 0:188, :]\n",
    "img2 = tifffile.imread('Satellite_Imagery/Satellite_Images_Tiled/37.tif')[0:148, 0:188, :]"
   ]
  },
  {
   "cell_type": "code",
   "execution_count": 41,
   "id": "97889d4b",
   "metadata": {
    "tags": []
   },
   "outputs": [
    {
     "name": "stdout",
     "output_type": "stream",
     "text": [
      "(148, 188, 4)\n"
     ]
    }
   ],
   "source": [
    "# eda\n",
    "print(np.shape(img2))"
   ]
  },
  {
   "cell_type": "code",
   "execution_count": 42,
   "id": "545c8609",
   "metadata": {
    "scrolled": true,
    "tags": []
   },
   "outputs": [
    {
     "name": "stdout",
     "output_type": "stream",
     "text": [
      "(2, 148, 188, 4)\n",
      "(2, 148, 188, 4)\n"
     ]
    }
   ],
   "source": [
    "# eda\n",
    "test = []\n",
    "test.append(img[0:148, 0:188, :])\n",
    "test.append(img2[0:148, 0:188, :])\n",
    "print(np.shape(test))\n",
    "test = np.stack(test)\n",
    "print(np.shape(test))"
   ]
  },
  {
   "cell_type": "code",
   "execution_count": 43,
   "id": "9298e629",
   "metadata": {
    "tags": []
   },
   "outputs": [],
   "source": [
    "def preprocess_data_part1(IMAGE_PATH):\n",
    "    \"\"\" Generate lists of images and labelsbased on temp_no_refer and temp_refer lists\n",
    "    \n",
    "    Params:\n",
    "    -------\n",
    "    IMAGE_PATH (str): path to directory with images.\n",
    "    \n",
    "    Returns:\n",
    "    --------\n",
    "    images_mini  (np.ndarray): Images of shape (N, 149 3)\n",
    "    \"\"\"\n",
    "    \n",
    "    data_mini = []\n",
    "    data_mini_test = []\n",
    "    for id in x_train['Tile_ID']:    \n",
    "                    \n",
    "        # read image and store as matrix            \n",
    "        # Index at the end makes all images the same size (they sometimes differ by 1 pixel)\n",
    "        image = tifffile.imread(IMAGE_PATH + str(id) + '.tif')[0:148, 0:188, :]\n",
    "            \n",
    "        # append to images\n",
    "        data_mini.append(image)\n",
    " \n",
    "    # stack images and trasnform to array\n",
    "    images_mini = np.stack(data_mini)\n",
    "    \n",
    "    for id in x_test['Tile_ID']:    \n",
    "                    \n",
    "        # read image and store as matrix            \n",
    "        # Index at the end makes all images the same size (they sometimes differ by 1 pixel)\n",
    "        image = tifffile.imread(IMAGE_PATH + str(id) + '.tif')[0:148, 0:188, :]\n",
    "            \n",
    "        # append to images\n",
    "        data_mini_test.append(image)\n",
    " \n",
    "    # stack images and trasnform to array\n",
    "    images_mini_test = np.stack(data_mini_test)\n",
    "    \n",
    "    return images_mini, images_mini_test\n"
   ]
  },
  {
   "cell_type": "code",
   "execution_count": 44,
   "id": "4d8f77ae",
   "metadata": {
    "tags": []
   },
   "outputs": [],
   "source": [
    "# THERE IS ONE FILE IN THE \"SATELLITE IMAGES TILED\" FOLDER THAT IS NOT A TIF IMAGE, DELETE THIS FILE\n",
    "images_mini, images_mini_test = preprocess_data_part1(IMAGE_PATH)\n",
    "# images_mini = np.load('/home/ubuntu/210_Capstone_Aditya_Arisa_Noriel/Data/train.npy')\n",
    "# images_mini_test = np.load('/home/ubuntu/210_Capstone_Aditya_Arisa_Noriel/Data/test.npy')"
   ]
  },
  {
   "cell_type": "code",
   "execution_count": 45,
   "id": "0ce10975",
   "metadata": {
    "tags": []
   },
   "outputs": [
    {
     "data": {
      "text/plain": [
       "(1676, 148, 188, 4)"
      ]
     },
     "execution_count": 45,
     "metadata": {},
     "output_type": "execute_result"
    }
   ],
   "source": [
    "np.shape(images_mini)\n",
    "np.shape(images_mini_test)"
   ]
  },
  {
   "cell_type": "code",
   "execution_count": 46,
   "id": "e212d2ec-5da6-462b-8a8a-85138774b5ac",
   "metadata": {
    "tags": []
   },
   "outputs": [],
   "source": [
    "# with open('/home/ubuntu/210_Capstone_Aditya_Arisa_Noriel/Data/train.npy', 'wb') as f:\n",
    "#     np.save(f,images_mini)"
   ]
  },
  {
   "cell_type": "code",
   "execution_count": 47,
   "id": "0080b62b-712f-4179-9031-60b561f59b7b",
   "metadata": {
    "tags": []
   },
   "outputs": [],
   "source": [
    "# with open('/home/ubuntu/210_Capstone_Aditya_Arisa_Noriel/Data/test.npy', 'wb') as f:\n",
    "#     np.save(f,images_mini_test)\n",
    "# # images_mini_reshaped = images_mini.reshape((8376,1,1,111296))"
   ]
  },
  {
   "cell_type": "code",
   "execution_count": 48,
   "id": "9fce941b-4766-474c-b49e-c365de2bdb86",
   "metadata": {
    "tags": []
   },
   "outputs": [],
   "source": [
    "# images_mini_reshaped.shape\n",
    "# len(images_mini_reshaped[0][0][0])"
   ]
  },
  {
   "cell_type": "markdown",
   "id": "57135842",
   "metadata": {},
   "source": [
    "Street Data Pre-Processing"
   ]
  },
  {
   "cell_type": "code",
   "execution_count": 49,
   "id": "a61d6f6c-0ac9-4629-b971-fdcc823d1324",
   "metadata": {
    "tags": []
   },
   "outputs": [
    {
     "data": {
      "text/html": [
       "<div>\n",
       "<style scoped>\n",
       "    .dataframe tbody tr th:only-of-type {\n",
       "        vertical-align: middle;\n",
       "    }\n",
       "\n",
       "    .dataframe tbody tr th {\n",
       "        vertical-align: top;\n",
       "    }\n",
       "\n",
       "    .dataframe thead th {\n",
       "        text-align: right;\n",
       "    }\n",
       "</style>\n",
       "<table border=\"1\" class=\"dataframe\">\n",
       "  <thead>\n",
       "    <tr style=\"text-align: right;\">\n",
       "      <th></th>\n",
       "      <th>Tile_ID</th>\n",
       "      <th>Stop_Signs</th>\n",
       "      <th>Paving_historical</th>\n",
       "      <th>Bus_stop</th>\n",
       "      <th>Collisions_Historical</th>\n",
       "      <th>RTTYP_I</th>\n",
       "      <th>RTTYP_M</th>\n",
       "      <th>RTTYP_O</th>\n",
       "      <th>RTTYP_S</th>\n",
       "      <th>RTTYP_U</th>\n",
       "      <th>...</th>\n",
       "      <th>94129</th>\n",
       "      <th>94130</th>\n",
       "      <th>94131</th>\n",
       "      <th>94132</th>\n",
       "      <th>94133</th>\n",
       "      <th>94134</th>\n",
       "      <th>94141</th>\n",
       "      <th>94143</th>\n",
       "      <th>94158</th>\n",
       "      <th>94188</th>\n",
       "    </tr>\n",
       "  </thead>\n",
       "  <tbody>\n",
       "    <tr>\n",
       "      <th>1762</th>\n",
       "      <td>1526</td>\n",
       "      <td>0.0</td>\n",
       "      <td>0.0</td>\n",
       "      <td>0.0</td>\n",
       "      <td>0.0</td>\n",
       "      <td>0</td>\n",
       "      <td>1</td>\n",
       "      <td>0</td>\n",
       "      <td>0</td>\n",
       "      <td>0</td>\n",
       "      <td>...</td>\n",
       "      <td>0</td>\n",
       "      <td>0</td>\n",
       "      <td>0</td>\n",
       "      <td>0</td>\n",
       "      <td>0</td>\n",
       "      <td>0</td>\n",
       "      <td>0</td>\n",
       "      <td>0</td>\n",
       "      <td>0</td>\n",
       "      <td>0</td>\n",
       "    </tr>\n",
       "    <tr>\n",
       "      <th>4603</th>\n",
       "      <td>11426</td>\n",
       "      <td>0.0</td>\n",
       "      <td>7.0</td>\n",
       "      <td>0.0</td>\n",
       "      <td>8.0</td>\n",
       "      <td>0</td>\n",
       "      <td>1</td>\n",
       "      <td>0</td>\n",
       "      <td>0</td>\n",
       "      <td>0</td>\n",
       "      <td>...</td>\n",
       "      <td>0</td>\n",
       "      <td>0</td>\n",
       "      <td>0</td>\n",
       "      <td>0</td>\n",
       "      <td>0</td>\n",
       "      <td>0</td>\n",
       "      <td>0</td>\n",
       "      <td>0</td>\n",
       "      <td>0</td>\n",
       "      <td>0</td>\n",
       "    </tr>\n",
       "    <tr>\n",
       "      <th>6484</th>\n",
       "      <td>13993</td>\n",
       "      <td>0.0</td>\n",
       "      <td>0.0</td>\n",
       "      <td>0.0</td>\n",
       "      <td>0.0</td>\n",
       "      <td>0</td>\n",
       "      <td>1</td>\n",
       "      <td>0</td>\n",
       "      <td>0</td>\n",
       "      <td>0</td>\n",
       "      <td>...</td>\n",
       "      <td>0</td>\n",
       "      <td>0</td>\n",
       "      <td>0</td>\n",
       "      <td>0</td>\n",
       "      <td>0</td>\n",
       "      <td>0</td>\n",
       "      <td>0</td>\n",
       "      <td>0</td>\n",
       "      <td>0</td>\n",
       "      <td>1</td>\n",
       "    </tr>\n",
       "    <tr>\n",
       "      <th>6950</th>\n",
       "      <td>3201</td>\n",
       "      <td>0.0</td>\n",
       "      <td>0.0</td>\n",
       "      <td>0.0</td>\n",
       "      <td>0.0</td>\n",
       "      <td>0</td>\n",
       "      <td>1</td>\n",
       "      <td>0</td>\n",
       "      <td>0</td>\n",
       "      <td>0</td>\n",
       "      <td>...</td>\n",
       "      <td>0</td>\n",
       "      <td>0</td>\n",
       "      <td>0</td>\n",
       "      <td>1</td>\n",
       "      <td>0</td>\n",
       "      <td>0</td>\n",
       "      <td>0</td>\n",
       "      <td>0</td>\n",
       "      <td>0</td>\n",
       "      <td>0</td>\n",
       "    </tr>\n",
       "    <tr>\n",
       "      <th>4254</th>\n",
       "      <td>13779</td>\n",
       "      <td>0.0</td>\n",
       "      <td>0.0</td>\n",
       "      <td>0.0</td>\n",
       "      <td>0.0</td>\n",
       "      <td>0</td>\n",
       "      <td>1</td>\n",
       "      <td>0</td>\n",
       "      <td>0</td>\n",
       "      <td>0</td>\n",
       "      <td>...</td>\n",
       "      <td>0</td>\n",
       "      <td>0</td>\n",
       "      <td>0</td>\n",
       "      <td>0</td>\n",
       "      <td>0</td>\n",
       "      <td>0</td>\n",
       "      <td>0</td>\n",
       "      <td>0</td>\n",
       "      <td>0</td>\n",
       "      <td>0</td>\n",
       "    </tr>\n",
       "    <tr>\n",
       "      <th>...</th>\n",
       "      <td>...</td>\n",
       "      <td>...</td>\n",
       "      <td>...</td>\n",
       "      <td>...</td>\n",
       "      <td>...</td>\n",
       "      <td>...</td>\n",
       "      <td>...</td>\n",
       "      <td>...</td>\n",
       "      <td>...</td>\n",
       "      <td>...</td>\n",
       "      <td>...</td>\n",
       "      <td>...</td>\n",
       "      <td>...</td>\n",
       "      <td>...</td>\n",
       "      <td>...</td>\n",
       "      <td>...</td>\n",
       "      <td>...</td>\n",
       "      <td>...</td>\n",
       "      <td>...</td>\n",
       "      <td>...</td>\n",
       "      <td>...</td>\n",
       "    </tr>\n",
       "    <tr>\n",
       "      <th>5247</th>\n",
       "      <td>4660</td>\n",
       "      <td>0.0</td>\n",
       "      <td>1.0</td>\n",
       "      <td>0.0</td>\n",
       "      <td>0.0</td>\n",
       "      <td>0</td>\n",
       "      <td>1</td>\n",
       "      <td>0</td>\n",
       "      <td>0</td>\n",
       "      <td>0</td>\n",
       "      <td>...</td>\n",
       "      <td>0</td>\n",
       "      <td>0</td>\n",
       "      <td>0</td>\n",
       "      <td>0</td>\n",
       "      <td>0</td>\n",
       "      <td>0</td>\n",
       "      <td>0</td>\n",
       "      <td>0</td>\n",
       "      <td>0</td>\n",
       "      <td>0</td>\n",
       "    </tr>\n",
       "    <tr>\n",
       "      <th>6310</th>\n",
       "      <td>7485</td>\n",
       "      <td>4.0</td>\n",
       "      <td>1.0</td>\n",
       "      <td>0.0</td>\n",
       "      <td>0.0</td>\n",
       "      <td>0</td>\n",
       "      <td>1</td>\n",
       "      <td>0</td>\n",
       "      <td>0</td>\n",
       "      <td>0</td>\n",
       "      <td>...</td>\n",
       "      <td>0</td>\n",
       "      <td>0</td>\n",
       "      <td>0</td>\n",
       "      <td>0</td>\n",
       "      <td>0</td>\n",
       "      <td>0</td>\n",
       "      <td>0</td>\n",
       "      <td>0</td>\n",
       "      <td>0</td>\n",
       "      <td>0</td>\n",
       "    </tr>\n",
       "    <tr>\n",
       "      <th>729</th>\n",
       "      <td>8882</td>\n",
       "      <td>0.0</td>\n",
       "      <td>0.0</td>\n",
       "      <td>0.0</td>\n",
       "      <td>0.0</td>\n",
       "      <td>0</td>\n",
       "      <td>1</td>\n",
       "      <td>0</td>\n",
       "      <td>0</td>\n",
       "      <td>0</td>\n",
       "      <td>...</td>\n",
       "      <td>0</td>\n",
       "      <td>0</td>\n",
       "      <td>0</td>\n",
       "      <td>0</td>\n",
       "      <td>0</td>\n",
       "      <td>0</td>\n",
       "      <td>0</td>\n",
       "      <td>0</td>\n",
       "      <td>0</td>\n",
       "      <td>0</td>\n",
       "    </tr>\n",
       "    <tr>\n",
       "      <th>5825</th>\n",
       "      <td>3436</td>\n",
       "      <td>2.0</td>\n",
       "      <td>5.0</td>\n",
       "      <td>2.0</td>\n",
       "      <td>0.0</td>\n",
       "      <td>0</td>\n",
       "      <td>1</td>\n",
       "      <td>0</td>\n",
       "      <td>0</td>\n",
       "      <td>0</td>\n",
       "      <td>...</td>\n",
       "      <td>0</td>\n",
       "      <td>0</td>\n",
       "      <td>0</td>\n",
       "      <td>1</td>\n",
       "      <td>0</td>\n",
       "      <td>0</td>\n",
       "      <td>0</td>\n",
       "      <td>0</td>\n",
       "      <td>0</td>\n",
       "      <td>0</td>\n",
       "    </tr>\n",
       "    <tr>\n",
       "      <th>8261</th>\n",
       "      <td>2476</td>\n",
       "      <td>0.0</td>\n",
       "      <td>0.0</td>\n",
       "      <td>0.0</td>\n",
       "      <td>0.0</td>\n",
       "      <td>0</td>\n",
       "      <td>1</td>\n",
       "      <td>0</td>\n",
       "      <td>0</td>\n",
       "      <td>0</td>\n",
       "      <td>...</td>\n",
       "      <td>0</td>\n",
       "      <td>0</td>\n",
       "      <td>0</td>\n",
       "      <td>0</td>\n",
       "      <td>0</td>\n",
       "      <td>0</td>\n",
       "      <td>0</td>\n",
       "      <td>0</td>\n",
       "      <td>0</td>\n",
       "      <td>0</td>\n",
       "    </tr>\n",
       "  </tbody>\n",
       "</table>\n",
       "<p>6700 rows × 40 columns</p>\n",
       "</div>"
      ],
      "text/plain": [
       "      Tile_ID  Stop_Signs  Paving_historical  Bus_stop  Collisions_Historical  \\\n",
       "1762     1526         0.0                0.0       0.0                    0.0   \n",
       "4603    11426         0.0                7.0       0.0                    8.0   \n",
       "6484    13993         0.0                0.0       0.0                    0.0   \n",
       "6950     3201         0.0                0.0       0.0                    0.0   \n",
       "4254    13779         0.0                0.0       0.0                    0.0   \n",
       "...       ...         ...                ...       ...                    ...   \n",
       "5247     4660         0.0                1.0       0.0                    0.0   \n",
       "6310     7485         4.0                1.0       0.0                    0.0   \n",
       "729      8882         0.0                0.0       0.0                    0.0   \n",
       "5825     3436         2.0                5.0       2.0                    0.0   \n",
       "8261     2476         0.0                0.0       0.0                    0.0   \n",
       "\n",
       "      RTTYP_I  RTTYP_M  RTTYP_O  RTTYP_S  RTTYP_U  ...  94129  94130  94131  \\\n",
       "1762        0        1        0        0        0  ...      0      0      0   \n",
       "4603        0        1        0        0        0  ...      0      0      0   \n",
       "6484        0        1        0        0        0  ...      0      0      0   \n",
       "6950        0        1        0        0        0  ...      0      0      0   \n",
       "4254        0        1        0        0        0  ...      0      0      0   \n",
       "...       ...      ...      ...      ...      ...  ...    ...    ...    ...   \n",
       "5247        0        1        0        0        0  ...      0      0      0   \n",
       "6310        0        1        0        0        0  ...      0      0      0   \n",
       "729         0        1        0        0        0  ...      0      0      0   \n",
       "5825        0        1        0        0        0  ...      0      0      0   \n",
       "8261        0        1        0        0        0  ...      0      0      0   \n",
       "\n",
       "      94132  94133  94134  94141  94143  94158  94188  \n",
       "1762      0      0      0      0      0      0      0  \n",
       "4603      0      0      0      0      0      0      0  \n",
       "6484      0      0      0      0      0      0      1  \n",
       "6950      1      0      0      0      0      0      0  \n",
       "4254      0      0      0      0      0      0      0  \n",
       "...     ...    ...    ...    ...    ...    ...    ...  \n",
       "5247      0      0      0      0      0      0      0  \n",
       "6310      0      0      0      0      0      0      0  \n",
       "729       0      0      0      0      0      0      0  \n",
       "5825      1      0      0      0      0      0      0  \n",
       "8261      0      0      0      0      0      0      0  \n",
       "\n",
       "[6700 rows x 40 columns]"
      ]
     },
     "execution_count": 49,
     "metadata": {},
     "output_type": "execute_result"
    }
   ],
   "source": [
    "x_train"
   ]
  },
  {
   "cell_type": "code",
   "execution_count": 50,
   "id": "8dce0686",
   "metadata": {
    "tags": []
   },
   "outputs": [
    {
     "data": {
      "text/plain": [
       "(1676, 1, 1, 39)"
      ]
     },
     "execution_count": 50,
     "metadata": {},
     "output_type": "execute_result"
    }
   ],
   "source": [
    "street = np.asarray(x_train[input_x[1:]]).astype('float32')\n",
    "street_mini = []\n",
    "for row in street:\n",
    "    street_mini.append([[row]])\n",
    "street_mini = np.stack(street_mini)\n",
    "np.shape(street_mini)\n",
    "\n",
    "\n",
    "street_test = np.asarray(x_test[input_x[1:]]).astype('float32')\n",
    "street_mini_test = []\n",
    "for row in street_test:\n",
    "    street_mini_test.append([[row]])\n",
    "street_mini_test = np.stack(street_mini_test)\n",
    "np.shape(street_mini_test)"
   ]
  },
  {
   "cell_type": "code",
   "execution_count": 51,
   "id": "c87761aa-77b0-40d3-a924-c54c1c6e3726",
   "metadata": {
    "tags": []
   },
   "outputs": [
    {
     "name": "stdout",
     "output_type": "stream",
     "text": [
      "(6700, 1, 1, 39)\n",
      "(6700, 148, 188, 4)\n"
     ]
    }
   ],
   "source": [
    "print(street_mini.shape)\n",
    "print(images_mini.shape)"
   ]
  },
  {
   "cell_type": "code",
   "execution_count": 52,
   "id": "16b9f21e-6f7b-4abd-a7de-917d89fa085a",
   "metadata": {
    "tags": []
   },
   "outputs": [],
   "source": [
    "input_image_street = np.hstack(\n",
    "    (street_mini.reshape((6700,39)),\n",
    "    normalize(images_mini.reshape(6700,-1))\n",
    "     # images_mini.reshape(8376,148*188*4)\n",
    "    )\n",
    ")"
   ]
  },
  {
   "cell_type": "code",
   "execution_count": 53,
   "id": "5628e058-80c2-4145-b762-7116c8801a96",
   "metadata": {
    "tags": []
   },
   "outputs": [
    {
     "name": "stdout",
     "output_type": "stream",
     "text": [
      "(1676, 1, 1, 39)\n",
      "(1676, 148, 188, 4)\n"
     ]
    }
   ],
   "source": [
    "print(street_mini_test.shape)\n",
    "print(images_mini_test.shape)"
   ]
  },
  {
   "cell_type": "code",
   "execution_count": 54,
   "id": "b2a63cdc-90cd-43e2-94f1-d819918c510b",
   "metadata": {
    "tags": []
   },
   "outputs": [],
   "source": [
    "input_image_street_test = np.hstack(\n",
    "    (street_mini_test.reshape((1676,39)),\n",
    "    # images_mini_test.reshape((2095,148*188*4))\n",
    "    normalize(images_mini_test.reshape(1676,-1))\n",
    "    ))"
   ]
  },
  {
   "cell_type": "code",
   "execution_count": 55,
   "id": "e0a3fa00-5064-4ab3-a2e6-835a626f24c4",
   "metadata": {
    "tags": []
   },
   "outputs": [
    {
     "data": {
      "text/plain": [
       "(1676, 111335)"
      ]
     },
     "execution_count": 55,
     "metadata": {},
     "output_type": "execute_result"
    }
   ],
   "source": [
    "input_image_street_test.shape"
   ]
  },
  {
   "cell_type": "markdown",
   "id": "b9176acd-0672-4bd9-92c8-f67618b33321",
   "metadata": {},
   "source": [
    "## Linear Regression"
   ]
  },
  {
   "cell_type": "code",
   "execution_count": 56,
   "id": "04589b85-dbc4-4309-a243-608fb7f793e5",
   "metadata": {
    "tags": []
   },
   "outputs": [],
   "source": [
    "# x: 'Collisions_Historical', 'Mid_lat','Mid_long', 'Stop_Signs', 'Paving_historical', 'Bus_stop','RTTYP_I','RTTYP_M','RTTYP_O','RTTYP_S','RTTYP_U'\n",
    "# y: 'Collisions_Future'\n",
    "\n",
    "def create_linear_model():\n",
    "    # DENSE LAYERS \n",
    "    input = tf.keras.layers.Input(shape=(111306,))\n",
    "\n",
    "    outputs = layers.Dense(1)(input)\n",
    "\n",
    "    linear_model = tf.keras.models.Model(inputs=input, outputs=outputs, name=\"linear_model\")\n",
    "\n",
    "    linear_model.summary()\n",
    "\n",
    "    linear_model.compile(\n",
    "        optimizer=tf.keras.optimizers.Adam(learning_rate=0.001),\n",
    "        loss='mean_squared_error'\n",
    "        )\n",
    "    \n",
    "    return linear_model\n",
    "\n",
    "# linear_model = create_linear_model()\n",
    "\n",
    "# history = linear_model.fit(\n",
    "#     input_image_street,\n",
    "#      np.stack(y_train['Collisions_Future'].to_numpy()),\n",
    "#     epochs=100,\n",
    "#     # Suppress logging.\n",
    "#      verbose=1,\n",
    "#     # Calculate validation results on 20% of the training data.\n",
    "#     validation_split = 0.2)\n"
   ]
  },
  {
   "cell_type": "code",
   "execution_count": 57,
   "id": "aab7b35b-71ff-4966-b602-45bb0e4bc6ad",
   "metadata": {
    "tags": []
   },
   "outputs": [],
   "source": [
    "# plot_loss(history)"
   ]
  },
  {
   "cell_type": "code",
   "execution_count": 58,
   "id": "380a4d1d-ec2e-4546-820f-e51501791eaa",
   "metadata": {
    "tags": []
   },
   "outputs": [],
   "source": [
    "# predict_result = history.model.predict(input_image_street_test)"
   ]
  },
  {
   "cell_type": "code",
   "execution_count": 59,
   "id": "e926ad6d-5225-42bf-88d7-33f0074f5e3f",
   "metadata": {
    "tags": []
   },
   "outputs": [],
   "source": [
    "# predict_result.shape"
   ]
  },
  {
   "cell_type": "markdown",
   "id": "99c93772-2d18-4241-a31f-7793c8b46be4",
   "metadata": {},
   "source": [
    "## Mean squared error"
   ]
  },
  {
   "cell_type": "code",
   "execution_count": 60,
   "id": "4d94890a-c92e-48df-aef5-1be5337e803e",
   "metadata": {
    "tags": []
   },
   "outputs": [
    {
     "data": {
      "text/plain": [
       "0     6644\n",
       "2     1201\n",
       "3      283\n",
       "1      134\n",
       "6       61\n",
       "4       26\n",
       "7       14\n",
       "5        5\n",
       "8        4\n",
       "10       3\n",
       "9        1\n",
       "Name: bins_numeric, dtype: int64"
      ]
     },
     "execution_count": 60,
     "metadata": {},
     "output_type": "execute_result"
    }
   ],
   "source": [
    "# np.square(predict_result - y_test['Collisions_Future'].to_numpy().reshape((649,1))).mean()\n",
    "tiles_expanded_rv['bins_numeric'].value_counts()"
   ]
  },
  {
   "cell_type": "markdown",
   "id": "76293faa-4ad4-4467-adcf-75a6e9c9cfb3",
   "metadata": {
    "tags": []
   },
   "source": [
    "## LOGISTIC MODEL WITH IMAGES"
   ]
  },
  {
   "cell_type": "code",
   "execution_count": 61,
   "id": "6ef027c2-bb0f-45e7-ac0a-2fb328014abf",
   "metadata": {
    "tags": []
   },
   "outputs": [
    {
     "name": "stderr",
     "output_type": "stream",
     "text": [
      "2023-03-28 14:56:37.495893: I tensorflow/compiler/xla/stream_executor/cuda/cuda_gpu_executor.cc:981] successful NUMA node read from SysFS had negative value (-1), but there must be at least one NUMA node, so returning NUMA node zero\n"
     ]
    },
    {
     "name": "stdout",
     "output_type": "stream",
     "text": [
      "Model: \"logistic_model\"\n",
      "_________________________________________________________________\n",
      " Layer (type)                Output Shape              Param #   \n",
      "=================================================================\n",
      " input_1 (InputLayer)        [(None, 111335)]          0         \n",
      "                                                                 \n",
      " dense (Dense)               (None, 11)                1224696   \n",
      "                                                                 \n",
      "=================================================================\n",
      "Total params: 1,224,696\n",
      "Trainable params: 1,224,696\n",
      "Non-trainable params: 0\n",
      "_________________________________________________________________\n"
     ]
    },
    {
     "name": "stderr",
     "output_type": "stream",
     "text": [
      "2023-03-28 14:56:37.626871: I tensorflow/compiler/xla/stream_executor/cuda/cuda_gpu_executor.cc:981] successful NUMA node read from SysFS had negative value (-1), but there must be at least one NUMA node, so returning NUMA node zero\n",
      "2023-03-28 14:56:37.627231: I tensorflow/compiler/xla/stream_executor/cuda/cuda_gpu_executor.cc:981] successful NUMA node read from SysFS had negative value (-1), but there must be at least one NUMA node, so returning NUMA node zero\n",
      "2023-03-28 14:56:37.629358: I tensorflow/core/platform/cpu_feature_guard.cc:193] This TensorFlow binary is optimized with oneAPI Deep Neural Network Library (oneDNN) to use the following CPU instructions in performance-critical operations:  AVX2 FMA\n",
      "To enable them in other operations, rebuild TensorFlow with the appropriate compiler flags.\n",
      "2023-03-28 14:56:37.631680: I tensorflow/compiler/xla/stream_executor/cuda/cuda_gpu_executor.cc:981] successful NUMA node read from SysFS had negative value (-1), but there must be at least one NUMA node, so returning NUMA node zero\n",
      "2023-03-28 14:56:37.632027: I tensorflow/compiler/xla/stream_executor/cuda/cuda_gpu_executor.cc:981] successful NUMA node read from SysFS had negative value (-1), but there must be at least one NUMA node, so returning NUMA node zero\n",
      "2023-03-28 14:56:37.632364: I tensorflow/compiler/xla/stream_executor/cuda/cuda_gpu_executor.cc:981] successful NUMA node read from SysFS had negative value (-1), but there must be at least one NUMA node, so returning NUMA node zero\n",
      "2023-03-28 14:56:39.999388: I tensorflow/compiler/xla/stream_executor/cuda/cuda_gpu_executor.cc:981] successful NUMA node read from SysFS had negative value (-1), but there must be at least one NUMA node, so returning NUMA node zero\n",
      "2023-03-28 14:56:40.002651: I tensorflow/compiler/xla/stream_executor/cuda/cuda_gpu_executor.cc:981] successful NUMA node read from SysFS had negative value (-1), but there must be at least one NUMA node, so returning NUMA node zero\n",
      "2023-03-28 14:56:40.002875: I tensorflow/compiler/xla/stream_executor/cuda/cuda_gpu_executor.cc:981] successful NUMA node read from SysFS had negative value (-1), but there must be at least one NUMA node, so returning NUMA node zero\n",
      "2023-03-28 14:56:40.003861: I tensorflow/core/common_runtime/gpu/gpu_device.cc:1613] Created device /job:localhost/replica:0/task:0/device:GPU:0 with 6911 MB memory:  -> device: 0, name: Tesla M60, pci bus id: 0000:00:1e.0, compute capability: 5.2\n"
     ]
    },
    {
     "name": "stdout",
     "output_type": "stream",
     "text": [
      "Epoch 1/30\n"
     ]
    },
    {
     "name": "stderr",
     "output_type": "stream",
     "text": [
      "2023-03-28 14:56:46.967824: I tensorflow/compiler/xla/service/service.cc:173] XLA service 0x7f3fe20f07a0 initialized for platform CUDA (this does not guarantee that XLA will be used). Devices:\n",
      "2023-03-28 14:56:46.967874: I tensorflow/compiler/xla/service/service.cc:181]   StreamExecutor device (0): Tesla M60, Compute Capability 5.2\n",
      "2023-03-28 14:56:47.045301: I tensorflow/compiler/mlir/tensorflow/utils/dump_mlir_util.cc:268] disabling MLIR crash reproducer, set env var `MLIR_CRASH_REPRODUCER_DIRECTORY` to enable.\n"
     ]
    },
    {
     "name": "stdout",
     "output_type": "stream",
     "text": [
      "  1/168 [..............................] - ETA: 8:58 - loss: 1.3063 - accuracy: 0.0000e+00"
     ]
    },
    {
     "name": "stderr",
     "output_type": "stream",
     "text": [
      "2023-03-28 14:56:47.765292: I tensorflow/compiler/jit/xla_compilation_cache.cc:477] Compiled cluster using XLA!  This line is logged at most once for the lifetime of the process.\n"
     ]
    },
    {
     "name": "stdout",
     "output_type": "stream",
     "text": [
      "168/168 [==============================] - 6s 16ms/step - loss: 3.5775 - accuracy: 0.0968 - val_loss: 1.6262 - val_accuracy: 0.3709\n",
      "Epoch 2/30\n",
      "168/168 [==============================] - 1s 8ms/step - loss: 2.5445 - accuracy: 0.3239 - val_loss: 1.8506 - val_accuracy: 0.2903\n",
      "Epoch 3/30\n",
      "168/168 [==============================] - 1s 8ms/step - loss: 2.3519 - accuracy: 0.4780 - val_loss: 1.8760 - val_accuracy: 0.2052\n",
      "Epoch 4/30\n",
      "168/168 [==============================] - 1s 8ms/step - loss: 1.9135 - accuracy: 0.5616 - val_loss: 1.5880 - val_accuracy: 0.6052\n",
      "Epoch 5/30\n",
      "168/168 [==============================] - 1s 8ms/step - loss: 1.6741 - accuracy: 0.5806 - val_loss: 1.1111 - val_accuracy: 0.7246\n",
      "Epoch 6/30\n",
      "168/168 [==============================] - 1s 8ms/step - loss: 1.4739 - accuracy: 0.6427 - val_loss: 1.4730 - val_accuracy: 0.5388\n",
      "Epoch 7/30\n",
      "168/168 [==============================] - 1s 8ms/step - loss: 1.3358 - accuracy: 0.6231 - val_loss: 1.5176 - val_accuracy: 0.5276\n",
      "Epoch 8/30\n",
      "168/168 [==============================] - 1s 8ms/step - loss: 1.2091 - accuracy: 0.6276 - val_loss: 1.2667 - val_accuracy: 0.6060\n",
      "Epoch 9/30\n",
      "168/168 [==============================] - 1s 8ms/step - loss: 1.1411 - accuracy: 0.6354 - val_loss: 1.2937 - val_accuracy: 0.6239\n",
      "Epoch 10/30\n",
      "168/168 [==============================] - 1s 8ms/step - loss: 1.0453 - accuracy: 0.6664 - val_loss: 1.5478 - val_accuracy: 0.5090\n",
      "Epoch 11/30\n",
      "168/168 [==============================] - 1s 8ms/step - loss: 0.9952 - accuracy: 0.6644 - val_loss: 1.0756 - val_accuracy: 0.6873\n",
      "Epoch 12/30\n",
      "168/168 [==============================] - 1s 8ms/step - loss: 0.9079 - accuracy: 0.6701 - val_loss: 1.0319 - val_accuracy: 0.6873\n",
      "Epoch 13/30\n",
      "168/168 [==============================] - 1s 8ms/step - loss: 0.8494 - accuracy: 0.6896 - val_loss: 0.9712 - val_accuracy: 0.7276\n",
      "Epoch 14/30\n",
      "168/168 [==============================] - 1s 8ms/step - loss: 0.8072 - accuracy: 0.6866 - val_loss: 1.0082 - val_accuracy: 0.7022\n",
      "Epoch 15/30\n",
      "168/168 [==============================] - 1s 8ms/step - loss: 0.7443 - accuracy: 0.6925 - val_loss: 0.9484 - val_accuracy: 0.6978\n",
      "Epoch 16/30\n",
      "168/168 [==============================] - 1s 8ms/step - loss: 0.7313 - accuracy: 0.7082 - val_loss: 1.0635 - val_accuracy: 0.6910\n",
      "Epoch 17/30\n",
      "168/168 [==============================] - 1s 8ms/step - loss: 0.6739 - accuracy: 0.7050 - val_loss: 0.9735 - val_accuracy: 0.7187\n",
      "Epoch 18/30\n",
      "168/168 [==============================] - 1s 8ms/step - loss: 0.6492 - accuracy: 0.7052 - val_loss: 0.9696 - val_accuracy: 0.7104\n",
      "Epoch 19/30\n",
      "168/168 [==============================] - 1s 8ms/step - loss: 0.6521 - accuracy: 0.7216 - val_loss: 0.8817 - val_accuracy: 0.7299\n",
      "Epoch 20/30\n",
      "168/168 [==============================] - 1s 8ms/step - loss: 0.6191 - accuracy: 0.7222 - val_loss: 1.0249 - val_accuracy: 0.6425\n",
      "Epoch 21/30\n",
      "168/168 [==============================] - 1s 8ms/step - loss: 0.5809 - accuracy: 0.7300 - val_loss: 1.1904 - val_accuracy: 0.5806\n",
      "Epoch 22/30\n",
      "168/168 [==============================] - 1s 8ms/step - loss: 0.5605 - accuracy: 0.7261 - val_loss: 0.9710 - val_accuracy: 0.6590\n",
      "Epoch 23/30\n",
      "168/168 [==============================] - 1s 8ms/step - loss: 0.5496 - accuracy: 0.7328 - val_loss: 0.8256 - val_accuracy: 0.7336\n",
      "Epoch 24/30\n",
      "168/168 [==============================] - 1s 8ms/step - loss: 0.5273 - accuracy: 0.7388 - val_loss: 0.7871 - val_accuracy: 0.7537\n",
      "Epoch 25/30\n",
      "168/168 [==============================] - 1s 8ms/step - loss: 0.5037 - accuracy: 0.7491 - val_loss: 0.9147 - val_accuracy: 0.6701\n",
      "Epoch 26/30\n",
      "168/168 [==============================] - 1s 8ms/step - loss: 0.4875 - accuracy: 0.7580 - val_loss: 0.9762 - val_accuracy: 0.6813\n",
      "Epoch 27/30\n",
      "168/168 [==============================] - 1s 8ms/step - loss: 0.4593 - accuracy: 0.7504 - val_loss: 0.8610 - val_accuracy: 0.7157\n",
      "Epoch 28/30\n",
      "168/168 [==============================] - 1s 8ms/step - loss: 0.4471 - accuracy: 0.7601 - val_loss: 0.8793 - val_accuracy: 0.7022\n",
      "Epoch 29/30\n",
      "168/168 [==============================] - 1s 8ms/step - loss: 0.4286 - accuracy: 0.7612 - val_loss: 0.9113 - val_accuracy: 0.6978\n",
      "Epoch 30/30\n",
      "168/168 [==============================] - 1s 8ms/step - loss: 0.4244 - accuracy: 0.7685 - val_loss: 1.0553 - val_accuracy: 0.5784\n"
     ]
    },
    {
     "data": {
      "image/png": "[encoded data removed]",
      "text/plain": [
       "<Figure size 640x480 with 1 Axes>"
      ]
     },
     "metadata": {},
     "output_type": "display_data"
    }
   ],
   "source": [
    "# x: 'Collisions_Historical', 'Mid_lat','Mid_long', 'Stop_Signs', 'Paving_historical', 'Bus_stop','RTTYP_I','RTTYP_M','RTTYP_O','RTTYP_S','RTTYP_U'\n",
    "# y: 'Collisions_Future'\n",
    "tf.keras.backend.clear_session()\n",
    "def create_logistic_model():\n",
    "    # DENSE LAYERS \n",
    "    input = tf.keras.layers.Input(shape=(111335,))\n",
    "    \n",
    "    # input = keras.layers.Flatten()(input)\n",
    "\n",
    "    outputs = keras.layers.Dense(units = 11, activation = 'softmax')(input)\n",
    "\n",
    "    log_model = tf.keras.models.Model(inputs=input, outputs=outputs, name=\"logistic_model\")\n",
    "\n",
    "    log_model.summary()\n",
    "\n",
    "    log_model.compile(\n",
    "        optimizer=tf.keras.optimizers.Adam(learning_rate=0.001),\n",
    "        loss=tf.keras.losses.SparseCategoricalCrossentropy(),\n",
    "        metrics=['accuracy']\n",
    "        )\n",
    "    \n",
    "    return log_model\n",
    "\n",
    "logistic_model = create_logistic_model()\n",
    "\n",
    "# class_weight = {0: 100,\n",
    "#                 1: 10000,\n",
    "#                 2: 1000,\n",
    "#                 3: 1000,\n",
    "#                 4: 100000,\n",
    "#                 5: 100000,\n",
    "#                 6: 100000,\n",
    "#                 7: 100000,\n",
    "#                 8: 100000,\n",
    "#                 9: 100000,\n",
    "#                 10: 100000,\n",
    "#                }\n",
    "\n",
    "history = logistic_model.fit(\n",
    "    input_image_street,\n",
    "    np.stack(y_train.to_numpy()),\n",
    "     # y_train_2,\n",
    "    epochs=30,\n",
    "    # Suppress logging.\n",
    "     # verbose=1,\n",
    "    # Calculate validation results on 20% of the training data.\n",
    "    validation_split = 0.2,\n",
    "    class_weight = class_weight\n",
    "    )\n",
    "\n",
    "plot_loss(history)"
   ]
  },
  {
   "cell_type": "code",
   "execution_count": 62,
   "id": "d59d1f10-ef4f-4c0e-8ec9-6c9e453d88c0",
   "metadata": {
    "tags": []
   },
   "outputs": [
    {
     "name": "stdout",
     "output_type": "stream",
     "text": [
      "53/53 [==============================] - 0s 5ms/step\n"
     ]
    }
   ],
   "source": [
    "predict_result = history.model.predict(input_image_street_test)"
   ]
  },
  {
   "cell_type": "code",
   "execution_count": 63,
   "id": "f33ecaae-2c9d-402f-b545-c41b4bea8407",
   "metadata": {
    "tags": []
   },
   "outputs": [
    {
     "data": {
      "text/plain": [
       "array([1.5852411e-01, 2.3699920e-03, 7.8823304e-01, 4.6980344e-02,\n",
       "       7.7472367e-05, 2.0644555e-05, 3.5872399e-03, 9.9476965e-05,\n",
       "       9.2470786e-05, 5.7767539e-07, 1.4601745e-05], dtype=float32)"
      ]
     },
     "execution_count": 63,
     "metadata": {},
     "output_type": "execute_result"
    }
   ],
   "source": [
    "predict_result[55]"
   ]
  },
  {
   "cell_type": "code",
   "execution_count": 64,
   "id": "1f47cc81-87d8-4766-80ef-b4ef714bf219",
   "metadata": {
    "tags": []
   },
   "outputs": [],
   "source": [
    "predictions = []\n",
    "for x in range(len(predict_result)):\n",
    "    predictions.append(np.argmax(predict_result[x]))\n",
    "\n",
    "    # if len(np.where(predict_result[x]==1)[0])>0:\n",
    "    #     predictions.append(np.where(predict_result[x]==1)[0][0])\n",
    "    # else:\n",
    "    #     predictions.append(-1)"
   ]
  },
  {
   "cell_type": "code",
   "execution_count": 65,
   "id": "190487d1-46ec-41fe-a735-cc403a9c3311",
   "metadata": {
    "tags": []
   },
   "outputs": [
    {
     "data": {
      "text/plain": [
       "0.6638664802251625"
      ]
     },
     "execution_count": 65,
     "metadata": {},
     "output_type": "execute_result"
    }
   ],
   "source": [
    "# f1_score(y_test.to_numpy(), predictions, average=None, sample_weight=None, zero_division='warn')\n",
    "f1_score(y_test.to_numpy(), predictions, average='weighted', sample_weight=None, zero_division='warn')\n"
   ]
  },
  {
   "cell_type": "code",
   "execution_count": 66,
   "id": "e98e029b-2db6-433b-836f-05a83a97ddde",
   "metadata": {
    "tags": []
   },
   "outputs": [
    {
     "data": {
      "text/plain": [
       "array([0.75282422, 0.15873016, 0.37152392, 0.13636364, 0.16666667,\n",
       "       0.        , 0.        , 0.        , 0.        ])"
      ]
     },
     "execution_count": 66,
     "metadata": {},
     "output_type": "execute_result"
    }
   ],
   "source": [
    "f1_score(y_test.to_numpy(), predictions, average=None, sample_weight=None, zero_division='warn')"
   ]
  },
  {
   "cell_type": "code",
   "execution_count": 80,
   "id": "522b61ac",
   "metadata": {
    "tags": []
   },
   "outputs": [],
   "source": [
    "# for real, predicted in zip(y_test['bins_numeric'].to_list(), predictions):\n",
    "#     print(real,predicted)"
   ]
  },
  {
   "cell_type": "code",
   "execution_count": 68,
   "id": "529b923b",
   "metadata": {
    "tags": []
   },
   "outputs": [
    {
     "name": "stdout",
     "output_type": "stream",
     "text": [
      "0     6644\n",
      "2     1201\n",
      "3      283\n",
      "1      134\n",
      "6       61\n",
      "4       26\n",
      "7       14\n",
      "5        5\n",
      "8        4\n",
      "10       3\n",
      "9        1\n",
      "Name: bins_numeric, dtype: int64\n",
      "11\n"
     ]
    }
   ],
   "source": [
    "print(tiles_expanded_rv['bins_numeric'].value_counts())\n",
    "print(len(tiles_expanded_rv['bins_numeric'].value_counts()))"
   ]
  },
  {
   "cell_type": "code",
   "execution_count": 69,
   "id": "c4d5038a-b056-4ef4-a1dc-4857f339e1d1",
   "metadata": {
    "tags": []
   },
   "outputs": [
    {
     "name": "stdout",
     "output_type": "stream",
     "text": [
      "bins_numeric\n",
      "0               1347\n",
      "2                233\n",
      "3                 53\n",
      "1                 26\n",
      "6                  8\n",
      "4                  4\n",
      "7                  3\n",
      "5                  1\n",
      "8                  1\n",
      "dtype: int64\n",
      "9\n"
     ]
    }
   ],
   "source": [
    "print(y_test.value_counts())\n",
    "print(len(y_test.value_counts()))"
   ]
  },
  {
   "cell_type": "code",
   "execution_count": 70,
   "id": "ae332952-426e-4bb5-8826-b798ac9b01ba",
   "metadata": {
    "tags": []
   },
   "outputs": [],
   "source": [
    "# len(y_test['bins_numeric'].value_counts())"
   ]
  },
  {
   "cell_type": "code",
   "execution_count": 71,
   "id": "66be6646-f12d-465b-944c-7299b0bf9e4c",
   "metadata": {
    "tags": []
   },
   "outputs": [
    {
     "data": {
      "text/html": [
       "<div>\n",
       "<style scoped>\n",
       "    .dataframe tbody tr th:only-of-type {\n",
       "        vertical-align: middle;\n",
       "    }\n",
       "\n",
       "    .dataframe tbody tr th {\n",
       "        vertical-align: top;\n",
       "    }\n",
       "\n",
       "    .dataframe thead th {\n",
       "        text-align: right;\n",
       "    }\n",
       "</style>\n",
       "<table border=\"1\" class=\"dataframe\">\n",
       "  <thead>\n",
       "    <tr style=\"text-align: right;\">\n",
       "      <th></th>\n",
       "      <th>bins_numeric</th>\n",
       "    </tr>\n",
       "  </thead>\n",
       "  <tbody>\n",
       "    <tr>\n",
       "      <th>2732</th>\n",
       "      <td>0</td>\n",
       "    </tr>\n",
       "    <tr>\n",
       "      <th>630</th>\n",
       "      <td>0</td>\n",
       "    </tr>\n",
       "    <tr>\n",
       "      <th>2887</th>\n",
       "      <td>0</td>\n",
       "    </tr>\n",
       "    <tr>\n",
       "      <th>752</th>\n",
       "      <td>0</td>\n",
       "    </tr>\n",
       "    <tr>\n",
       "      <th>8106</th>\n",
       "      <td>0</td>\n",
       "    </tr>\n",
       "    <tr>\n",
       "      <th>...</th>\n",
       "      <td>...</td>\n",
       "    </tr>\n",
       "    <tr>\n",
       "      <th>2156</th>\n",
       "      <td>2</td>\n",
       "    </tr>\n",
       "    <tr>\n",
       "      <th>3851</th>\n",
       "      <td>0</td>\n",
       "    </tr>\n",
       "    <tr>\n",
       "      <th>4396</th>\n",
       "      <td>0</td>\n",
       "    </tr>\n",
       "    <tr>\n",
       "      <th>6110</th>\n",
       "      <td>0</td>\n",
       "    </tr>\n",
       "    <tr>\n",
       "      <th>4965</th>\n",
       "      <td>0</td>\n",
       "    </tr>\n",
       "  </tbody>\n",
       "</table>\n",
       "<p>1676 rows × 1 columns</p>\n",
       "</div>"
      ],
      "text/plain": [
       "      bins_numeric\n",
       "2732             0\n",
       "630              0\n",
       "2887             0\n",
       "752              0\n",
       "8106             0\n",
       "...            ...\n",
       "2156             2\n",
       "3851             0\n",
       "4396             0\n",
       "6110             0\n",
       "4965             0\n",
       "\n",
       "[1676 rows x 1 columns]"
      ]
     },
     "execution_count": 71,
     "metadata": {},
     "output_type": "execute_result"
    }
   ],
   "source": [
    "y_test"
   ]
  },
  {
   "cell_type": "code",
   "execution_count": 72,
   "id": "67cf9db7-d3b6-44d0-a9b3-3d93482a2229",
   "metadata": {
    "tags": []
   },
   "outputs": [],
   "source": [
    "from sklearn.metrics import confusion_matrix"
   ]
  },
  {
   "cell_type": "code",
   "execution_count": 73,
   "id": "0513c321",
   "metadata": {
    "tags": []
   },
   "outputs": [],
   "source": [
    "cm = confusion_matrix(y_test['bins_numeric'], predictions)"
   ]
  },
  {
   "cell_type": "code",
   "execution_count": 74,
   "id": "acf513e4",
   "metadata": {
    "tags": []
   },
   "outputs": [],
   "source": [
    "cm_df = pd.DataFrame(cm,\n",
    "                     index = [x for x in range(9)],\n",
    "                     columns = [x for x in range(9)])"
   ]
  },
  {
   "cell_type": "code",
   "execution_count": 75,
   "id": "51f66a30",
   "metadata": {
    "tags": []
   },
   "outputs": [
    {
     "data": {
      "text/html": [
       "<div>\n",
       "<style scoped>\n",
       "    .dataframe tbody tr th:only-of-type {\n",
       "        vertical-align: middle;\n",
       "    }\n",
       "\n",
       "    .dataframe tbody tr th {\n",
       "        vertical-align: top;\n",
       "    }\n",
       "\n",
       "    .dataframe thead th {\n",
       "        text-align: right;\n",
       "    }\n",
       "</style>\n",
       "<table border=\"1\" class=\"dataframe\">\n",
       "  <thead>\n",
       "    <tr style=\"text-align: right;\">\n",
       "      <th></th>\n",
       "      <th>0</th>\n",
       "      <th>1</th>\n",
       "      <th>2</th>\n",
       "      <th>3</th>\n",
       "      <th>4</th>\n",
       "      <th>5</th>\n",
       "      <th>6</th>\n",
       "      <th>7</th>\n",
       "      <th>8</th>\n",
       "    </tr>\n",
       "  </thead>\n",
       "  <tbody>\n",
       "    <tr>\n",
       "      <th>0</th>\n",
       "      <td>833</td>\n",
       "      <td>7</td>\n",
       "      <td>466</td>\n",
       "      <td>36</td>\n",
       "      <td>2</td>\n",
       "      <td>0</td>\n",
       "      <td>3</td>\n",
       "      <td>0</td>\n",
       "      <td>0</td>\n",
       "    </tr>\n",
       "    <tr>\n",
       "      <th>1</th>\n",
       "      <td>1</td>\n",
       "      <td>5</td>\n",
       "      <td>5</td>\n",
       "      <td>9</td>\n",
       "      <td>2</td>\n",
       "      <td>0</td>\n",
       "      <td>3</td>\n",
       "      <td>1</td>\n",
       "      <td>0</td>\n",
       "    </tr>\n",
       "    <tr>\n",
       "      <th>2</th>\n",
       "      <td>30</td>\n",
       "      <td>12</td>\n",
       "      <td>167</td>\n",
       "      <td>21</td>\n",
       "      <td>1</td>\n",
       "      <td>0</td>\n",
       "      <td>2</td>\n",
       "      <td>0</td>\n",
       "      <td>0</td>\n",
       "    </tr>\n",
       "    <tr>\n",
       "      <th>3</th>\n",
       "      <td>2</td>\n",
       "      <td>8</td>\n",
       "      <td>27</td>\n",
       "      <td>9</td>\n",
       "      <td>2</td>\n",
       "      <td>0</td>\n",
       "      <td>5</td>\n",
       "      <td>0</td>\n",
       "      <td>0</td>\n",
       "    </tr>\n",
       "    <tr>\n",
       "      <th>4</th>\n",
       "      <td>0</td>\n",
       "      <td>1</td>\n",
       "      <td>0</td>\n",
       "      <td>1</td>\n",
       "      <td>1</td>\n",
       "      <td>0</td>\n",
       "      <td>1</td>\n",
       "      <td>0</td>\n",
       "      <td>0</td>\n",
       "    </tr>\n",
       "    <tr>\n",
       "      <th>5</th>\n",
       "      <td>0</td>\n",
       "      <td>0</td>\n",
       "      <td>0</td>\n",
       "      <td>0</td>\n",
       "      <td>0</td>\n",
       "      <td>0</td>\n",
       "      <td>1</td>\n",
       "      <td>0</td>\n",
       "      <td>0</td>\n",
       "    </tr>\n",
       "    <tr>\n",
       "      <th>6</th>\n",
       "      <td>0</td>\n",
       "      <td>3</td>\n",
       "      <td>1</td>\n",
       "      <td>2</td>\n",
       "      <td>0</td>\n",
       "      <td>0</td>\n",
       "      <td>0</td>\n",
       "      <td>2</td>\n",
       "      <td>0</td>\n",
       "    </tr>\n",
       "    <tr>\n",
       "      <th>7</th>\n",
       "      <td>0</td>\n",
       "      <td>0</td>\n",
       "      <td>0</td>\n",
       "      <td>1</td>\n",
       "      <td>0</td>\n",
       "      <td>0</td>\n",
       "      <td>2</td>\n",
       "      <td>0</td>\n",
       "      <td>0</td>\n",
       "    </tr>\n",
       "    <tr>\n",
       "      <th>8</th>\n",
       "      <td>0</td>\n",
       "      <td>1</td>\n",
       "      <td>0</td>\n",
       "      <td>0</td>\n",
       "      <td>0</td>\n",
       "      <td>0</td>\n",
       "      <td>0</td>\n",
       "      <td>0</td>\n",
       "      <td>0</td>\n",
       "    </tr>\n",
       "  </tbody>\n",
       "</table>\n",
       "</div>"
      ],
      "text/plain": [
       "     0   1    2   3  4  5  6  7  8\n",
       "0  833   7  466  36  2  0  3  0  0\n",
       "1    1   5    5   9  2  0  3  1  0\n",
       "2   30  12  167  21  1  0  2  0  0\n",
       "3    2   8   27   9  2  0  5  0  0\n",
       "4    0   1    0   1  1  0  1  0  0\n",
       "5    0   0    0   0  0  0  1  0  0\n",
       "6    0   3    1   2  0  0  0  2  0\n",
       "7    0   0    0   1  0  0  2  0  0\n",
       "8    0   1    0   0  0  0  0  0  0"
      ]
     },
     "execution_count": 75,
     "metadata": {},
     "output_type": "execute_result"
    }
   ],
   "source": [
    "cm_df"
   ]
  },
  {
   "cell_type": "code",
   "execution_count": 76,
   "id": "4a5a4008",
   "metadata": {
    "tags": []
   },
   "outputs": [
    {
     "data": {
      "image/png": "[encoded data removed]",
      "text/plain": [
       "<Figure size 800x800 with 2 Axes>"
      ]
     },
     "metadata": {},
     "output_type": "display_data"
    }
   ],
   "source": [
    "#Plotting the confusion matrix\n",
    "import seaborn as sns\n",
    "plt.figure(figsize=(8,8))\n",
    "sns.heatmap(cm_df, annot=True, fmt='.3g',cmap=\"OrRd\")\n",
    "plt.title('Confusion Matrix')\n",
    "plt.ylabel('Actual Values')\n",
    "plt.xlabel('Predicted Values')\n",
    "plt.show()"
   ]
  },
  {
   "cell_type": "code",
   "execution_count": 77,
   "id": "34d077c4",
   "metadata": {
    "tags": []
   },
   "outputs": [],
   "source": [
    "cm_df_normalize = cm_df.div(cm_df.sum(axis=1), axis=0)"
   ]
  },
  {
   "cell_type": "code",
   "execution_count": 78,
   "id": "423ccbbe",
   "metadata": {
    "tags": []
   },
   "outputs": [
    {
     "data": {
      "image/png": "[encoded data removed]",
      "text/plain": [
       "<Figure size 800x800 with 2 Axes>"
      ]
     },
     "metadata": {},
     "output_type": "display_data"
    }
   ],
   "source": [
    "#Plotting the confusion matrix\n",
    "import seaborn as sns\n",
    "plt.figure(figsize=(8,8))\n",
    "sns.heatmap(cm_df_normalize, annot=True, fmt='.3g',cmap=\"OrRd\")\n",
    "plt.title('Confusion Matrix')\n",
    "plt.ylabel('Actual Values')\n",
    "plt.xlabel('Predicted Values')\n",
    "plt.show()"
   ]
  },
  {
   "cell_type": "code",
   "execution_count": 79,
   "id": "d2510128",
   "metadata": {
    "tags": []
   },
   "outputs": [
    {
     "data": {
      "text/plain": [
       "bins_numeric\n",
       "0               1347\n",
       "2                233\n",
       "3                 53\n",
       "1                 26\n",
       "6                  8\n",
       "4                  4\n",
       "7                  3\n",
       "5                  1\n",
       "8                  1\n",
       "dtype: int64"
      ]
     },
     "execution_count": 79,
     "metadata": {},
     "output_type": "execute_result"
    }
   ],
   "source": [
    "y_test.value_counts()"
   ]
  },
  {
   "cell_type": "code",
   "execution_count": null,
   "id": "3019c9a8",
   "metadata": {},
   "outputs": [],
   "source": []
  }
 ],
 "metadata": {
  "kernelspec": {
   "display_name": "Python 3 (ipykernel)",
   "language": "python",
   "name": "python3"
  },
  "language_info": {
   "codemirror_mode": {
    "name": "ipython",
    "version": 3
   },
   "file_extension": ".py",
   "mimetype": "text/x-python",
   "name": "python",
   "nbconvert_exporter": "python",
   "pygments_lexer": "ipython3",
   "version": "3.10.7"
  }
 },
 "nbformat": 4,
 "nbformat_minor": 5
}
