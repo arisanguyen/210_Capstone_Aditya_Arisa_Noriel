{
 "cells": [
  {
   "cell_type": "code",
   "execution_count": 1,
   "id": "356025b8",
   "metadata": {
    "tags": []
   },
   "outputs": [
    {
     "name": "stderr",
     "output_type": "stream",
     "text": [
      "2023-04-02 23:04:45.231512: I tensorflow/core/platform/cpu_feature_guard.cc:193] This TensorFlow binary is optimized with oneAPI Deep Neural Network Library (oneDNN) to use the following CPU instructions in performance-critical operations:  AVX2 FMA\n",
      "To enable them in other operations, rebuild TensorFlow with the appropriate compiler flags.\n",
      "2023-04-02 23:04:46.107382: W tensorflow/compiler/xla/stream_executor/platform/default/dso_loader.cc:64] Could not load dynamic library 'libnvinfer.so.7'; dlerror: libnvinfer.so.7: cannot open shared object file: No such file or directory; LD_LIBRARY_PATH: /opt/amazon/efa/lib:/opt/amazon/openmpi/lib:/usr/local/cuda/efa/lib:/usr/local/cuda/lib:/usr/local/cuda:/usr/local/cuda/lib64:/usr/local/cuda/extras/CUPTI/lib64:/usr/local/cuda/targets/x86_64-linux/lib:/usr/local/lib:/usr/lib:\n",
      "2023-04-02 23:04:46.107519: W tensorflow/compiler/xla/stream_executor/platform/default/dso_loader.cc:64] Could not load dynamic library 'libnvinfer_plugin.so.7'; dlerror: libnvinfer_plugin.so.7: cannot open shared object file: No such file or directory; LD_LIBRARY_PATH: /opt/amazon/efa/lib:/opt/amazon/openmpi/lib:/usr/local/cuda/efa/lib:/usr/local/cuda/lib:/usr/local/cuda:/usr/local/cuda/lib64:/usr/local/cuda/extras/CUPTI/lib64:/usr/local/cuda/targets/x86_64-linux/lib:/usr/local/lib:/usr/lib:\n",
      "2023-04-02 23:04:46.107531: W tensorflow/compiler/tf2tensorrt/utils/py_utils.cc:38] TF-TRT Warning: Cannot dlopen some TensorRT libraries. If you would like to use Nvidia GPU with TensorRT, please make sure the missing libraries mentioned above are installed properly.\n"
     ]
    }
   ],
   "source": [
    "import numpy as np\n",
    "import pandas as pd\n",
    "import math\n",
    "\n",
    "import matplotlib\n",
    "import matplotlib.pyplot as plt\n",
    "\n",
    "import tensorflow as tf\n",
    "from tensorflow import keras\n",
    "from tensorflow.keras import layers\n",
    "from tensorflow.keras.layers import concatenate\n",
    "import tensorflow_addons as tfa\n",
    "from keras.layers import Flatten, Dense, Dropout\n",
    "import tifffile\n",
    "\n",
    "from sklearn.model_selection import train_test_split\n",
    "# from sklearn.preprocessing import LabelEncoder\n",
    "# from sklearn.preprocessing import OneHotEncoder\n",
    "from sklearn.preprocessing import LabelBinarizer, normalize\n",
    "from sklearn.linear_model import LogisticRegression\n",
    "from sklearn.metrics import f1_score\n",
    "from sklearn.utils.class_weight import compute_class_weight\n",
    "import os\n",
    "\n",
    "from imblearn.over_sampling import RandomOverSampler, SMOTE\n",
    "from imblearn.combine import SMOTEENN \n",
    "from collections import Counter\n",
    "import seaborn as sns\n",
    "import scipy\n",
    "from numba import cuda \n",
    "\n",
    "from sklearn.metrics import confusion_matrix"
   ]
  },
  {
   "cell_type": "code",
   "execution_count": 2,
   "id": "cbe8314a-60a7-4de8-be72-620b659ef79d",
   "metadata": {
    "tags": []
   },
   "outputs": [],
   "source": [
    "# !pip install numpy tensorflow matplotlib scipy\n",
    "# # !pip install pandas\n",
    "# !pip install tifffile\n",
    "# !pip install scikit-learn\n",
    "# !pip install imagecodecs\n",
    "# !pip install tensorflow-addons tensorflow\n",
    "# !pip install numba\n",
    "# !pip install ipyplot\n",
    "# !pip install imbalanced-learn"
   ]
  },
  {
   "cell_type": "code",
   "execution_count": 3,
   "id": "bc10282d-f694-4346-b6e6-34923575c633",
   "metadata": {
    "tags": []
   },
   "outputs": [],
   "source": [
    "def reset_gpu():\n",
    "    device = cuda.get_current_device()\n",
    "    device.reset()"
   ]
  },
  {
   "cell_type": "code",
   "execution_count": 4,
   "id": "8bb10982-72ec-439c-9c1a-6c182803eb2f",
   "metadata": {
    "tags": []
   },
   "outputs": [],
   "source": [
    "def plot_loss(history):\n",
    "    plt.plot(history.history['loss'], label='loss')\n",
    "    plt.plot(history.history['val_loss'], label='val_loss')\n",
    "   # plt.plot(history.history['accuracy'], label='accuracy')\n",
    "   # plt.plot(history.history['val_accuracy'], label='val_accuracy')\n",
    "    plt.ylim([0, \n",
    "            max(\n",
    "                max(history.history['loss']),\n",
    "                max(history.history['val_loss'])\n",
    "            )])\n",
    "    plt.xlabel('Epoch')\n",
    "    plt.ylabel('Loss')\n",
    "    plt.legend()\n",
    "    plt.grid(True)"
   ]
  },
  {
   "cell_type": "code",
   "execution_count": 5,
   "id": "f3693092",
   "metadata": {
    "tags": []
   },
   "outputs": [],
   "source": [
    "# tiles = pd.read_csv(r'Data/Tiles_expanded.csv')\n",
    "tiles_expanded_rv = pd.read_csv(r'Data/Tiles_TRAIN.csv')#.drop(['Unnamed: 0'],axis=1)\n",
    "# tiles_expanded_rv = pd.get_dummies(tiles_expanded_rv, columns = ['RTTYP'])\n",
    "tiles_expanded_rv_test = pd.read_csv(r'Data/Tiles_TEST.csv')"
   ]
  },
  {
   "cell_type": "code",
   "execution_count": 6,
   "id": "29e5ddd8-bf87-4021-8274-ee55f64b54a7",
   "metadata": {
    "tags": []
   },
   "outputs": [
    {
     "data": {
      "text/html": [
       "<div>\n",
       "<style scoped>\n",
       "    .dataframe tbody tr th:only-of-type {\n",
       "        vertical-align: middle;\n",
       "    }\n",
       "\n",
       "    .dataframe tbody tr th {\n",
       "        vertical-align: top;\n",
       "    }\n",
       "\n",
       "    .dataframe thead th {\n",
       "        text-align: right;\n",
       "    }\n",
       "</style>\n",
       "<table border=\"1\" class=\"dataframe\">\n",
       "  <thead>\n",
       "    <tr style=\"text-align: right;\">\n",
       "      <th></th>\n",
       "      <th>Tile_ID</th>\n",
       "      <th>Stop_Signs</th>\n",
       "      <th>Paving_historical</th>\n",
       "      <th>Bus_stop</th>\n",
       "      <th>Collisions_Historical</th>\n",
       "      <th>RTTYP_I</th>\n",
       "      <th>RTTYP_M</th>\n",
       "      <th>RTTYP_O</th>\n",
       "      <th>RTTYP_S</th>\n",
       "      <th>RTTYP_U</th>\n",
       "      <th>...</th>\n",
       "      <th>94129</th>\n",
       "      <th>94130</th>\n",
       "      <th>94131</th>\n",
       "      <th>94132</th>\n",
       "      <th>94133</th>\n",
       "      <th>94134</th>\n",
       "      <th>94141</th>\n",
       "      <th>94143</th>\n",
       "      <th>94158</th>\n",
       "      <th>94188</th>\n",
       "    </tr>\n",
       "  </thead>\n",
       "  <tbody>\n",
       "    <tr>\n",
       "      <th>0</th>\n",
       "      <td>10993</td>\n",
       "      <td>0.0</td>\n",
       "      <td>0.0</td>\n",
       "      <td>0.0</td>\n",
       "      <td>2.0</td>\n",
       "      <td>0</td>\n",
       "      <td>1</td>\n",
       "      <td>0</td>\n",
       "      <td>0</td>\n",
       "      <td>0</td>\n",
       "      <td>...</td>\n",
       "      <td>0</td>\n",
       "      <td>0</td>\n",
       "      <td>0</td>\n",
       "      <td>0</td>\n",
       "      <td>0</td>\n",
       "      <td>0</td>\n",
       "      <td>1</td>\n",
       "      <td>0</td>\n",
       "      <td>0</td>\n",
       "      <td>0</td>\n",
       "    </tr>\n",
       "    <tr>\n",
       "      <th>1</th>\n",
       "      <td>13338</td>\n",
       "      <td>0.0</td>\n",
       "      <td>0.0</td>\n",
       "      <td>0.0</td>\n",
       "      <td>0.0</td>\n",
       "      <td>0</td>\n",
       "      <td>1</td>\n",
       "      <td>0</td>\n",
       "      <td>0</td>\n",
       "      <td>0</td>\n",
       "      <td>...</td>\n",
       "      <td>0</td>\n",
       "      <td>0</td>\n",
       "      <td>0</td>\n",
       "      <td>0</td>\n",
       "      <td>0</td>\n",
       "      <td>0</td>\n",
       "      <td>0</td>\n",
       "      <td>0</td>\n",
       "      <td>0</td>\n",
       "      <td>0</td>\n",
       "    </tr>\n",
       "    <tr>\n",
       "      <th>2</th>\n",
       "      <td>10163</td>\n",
       "      <td>0.0</td>\n",
       "      <td>0.0</td>\n",
       "      <td>0.0</td>\n",
       "      <td>0.0</td>\n",
       "      <td>0</td>\n",
       "      <td>1</td>\n",
       "      <td>0</td>\n",
       "      <td>0</td>\n",
       "      <td>0</td>\n",
       "      <td>...</td>\n",
       "      <td>0</td>\n",
       "      <td>0</td>\n",
       "      <td>0</td>\n",
       "      <td>0</td>\n",
       "      <td>0</td>\n",
       "      <td>0</td>\n",
       "      <td>0</td>\n",
       "      <td>0</td>\n",
       "      <td>0</td>\n",
       "      <td>0</td>\n",
       "    </tr>\n",
       "    <tr>\n",
       "      <th>3</th>\n",
       "      <td>7523</td>\n",
       "      <td>1.0</td>\n",
       "      <td>0.0</td>\n",
       "      <td>1.0</td>\n",
       "      <td>0.0</td>\n",
       "      <td>0</td>\n",
       "      <td>1</td>\n",
       "      <td>0</td>\n",
       "      <td>0</td>\n",
       "      <td>0</td>\n",
       "      <td>...</td>\n",
       "      <td>0</td>\n",
       "      <td>0</td>\n",
       "      <td>0</td>\n",
       "      <td>0</td>\n",
       "      <td>0</td>\n",
       "      <td>0</td>\n",
       "      <td>0</td>\n",
       "      <td>0</td>\n",
       "      <td>0</td>\n",
       "      <td>0</td>\n",
       "    </tr>\n",
       "    <tr>\n",
       "      <th>4</th>\n",
       "      <td>10314</td>\n",
       "      <td>2.0</td>\n",
       "      <td>0.0</td>\n",
       "      <td>0.0</td>\n",
       "      <td>0.0</td>\n",
       "      <td>0</td>\n",
       "      <td>1</td>\n",
       "      <td>0</td>\n",
       "      <td>0</td>\n",
       "      <td>0</td>\n",
       "      <td>...</td>\n",
       "      <td>0</td>\n",
       "      <td>0</td>\n",
       "      <td>0</td>\n",
       "      <td>0</td>\n",
       "      <td>0</td>\n",
       "      <td>0</td>\n",
       "      <td>0</td>\n",
       "      <td>0</td>\n",
       "      <td>0</td>\n",
       "      <td>0</td>\n",
       "    </tr>\n",
       "  </tbody>\n",
       "</table>\n",
       "<p>5 rows × 41 columns</p>\n",
       "</div>"
      ],
      "text/plain": [
       "   Tile_ID  Stop_Signs  Paving_historical  Bus_stop  Collisions_Historical  \\\n",
       "0    10993         0.0                0.0       0.0                    2.0   \n",
       "1    13338         0.0                0.0       0.0                    0.0   \n",
       "2    10163         0.0                0.0       0.0                    0.0   \n",
       "3     7523         1.0                0.0       1.0                    0.0   \n",
       "4    10314         2.0                0.0       0.0                    0.0   \n",
       "\n",
       "   RTTYP_I  RTTYP_M  RTTYP_O  RTTYP_S  RTTYP_U  ...  94129  94130  94131  \\\n",
       "0        0        1        0        0        0  ...      0      0      0   \n",
       "1        0        1        0        0        0  ...      0      0      0   \n",
       "2        0        1        0        0        0  ...      0      0      0   \n",
       "3        0        1        0        0        0  ...      0      0      0   \n",
       "4        0        1        0        0        0  ...      0      0      0   \n",
       "\n",
       "   94132  94133  94134  94141  94143  94158  94188  \n",
       "0      0      0      0      1      0      0      0  \n",
       "1      0      0      0      0      0      0      0  \n",
       "2      0      0      0      0      0      0      0  \n",
       "3      0      0      0      0      0      0      0  \n",
       "4      0      0      0      0      0      0      0  \n",
       "\n",
       "[5 rows x 41 columns]"
      ]
     },
     "execution_count": 6,
     "metadata": {},
     "output_type": "execute_result"
    }
   ],
   "source": [
    "tiles_expanded_rv.head()"
   ]
  },
  {
   "cell_type": "code",
   "execution_count": 7,
   "id": "754e32d6-8066-4a3c-9d5c-d9a3c5cbef35",
   "metadata": {
    "tags": []
   },
   "outputs": [
    {
     "data": {
      "text/plain": [
       "0     6644\n",
       "2     1201\n",
       "3      283\n",
       "1      134\n",
       "6       61\n",
       "4       26\n",
       "7       14\n",
       "5        5\n",
       "8        4\n",
       "10       3\n",
       "9        1\n",
       "Name: bins_numeric, dtype: int64"
      ]
     },
     "execution_count": 7,
     "metadata": {},
     "output_type": "execute_result"
    }
   ],
   "source": [
    "tiles_expanded_rv['bins_numeric'].value_counts()"
   ]
  },
  {
   "cell_type": "code",
   "execution_count": 8,
   "id": "49a452ed-344e-455e-bc31-d16170854e5f",
   "metadata": {
    "tags": []
   },
   "outputs": [],
   "source": [
    "tiles_test_rv = pd.read_csv(r'Data/Tiles_TEST.csv')"
   ]
  },
  {
   "cell_type": "code",
   "execution_count": 9,
   "id": "739b3561-0449-4e80-807e-e8698d3a8062",
   "metadata": {
    "tags": []
   },
   "outputs": [
    {
     "data": {
      "text/plain": [
       "0    1646\n",
       "2     304\n",
       "3      72\n",
       "1      43\n",
       "6      11\n",
       "4      10\n",
       "7       4\n",
       "8       2\n",
       "5       2\n",
       "9       1\n",
       "Name: bins_numeric, dtype: int64"
      ]
     },
     "execution_count": 9,
     "metadata": {},
     "output_type": "execute_result"
    }
   ],
   "source": [
    "tiles_test_rv['bins_numeric'].value_counts()"
   ]
  },
  {
   "cell_type": "code",
   "execution_count": 10,
   "id": "d02cf6af-4d7f-4cbe-91f0-6a33a0ba3c86",
   "metadata": {
    "tags": []
   },
   "outputs": [],
   "source": [
    "# tiles_expanded_rv['Collisions_Future_binary']=tiles_expanded_rv['Collisions_Future'].apply(lambda x: 1 if x > 0 else 0)\n",
    "# tiles_expanded_rv['Collisions_Historical_binary']=tiles_expanded_rv['Collisions_Historical'].apply(lambda x: 1 if x > 0 else 0)"
   ]
  },
  {
   "cell_type": "code",
   "execution_count": 11,
   "id": "76ecedb8-c9cf-4452-a742-a7ea92710c8f",
   "metadata": {
    "tags": []
   },
   "outputs": [],
   "source": [
    "# tiles_expanded_rv['bins_numeric'], bin_keys = pd.factorize(tiles_expanded_rv['bins_numeric'])\n",
    "# tiles_expanded_rv.columns"
   ]
  },
  {
   "cell_type": "code",
   "execution_count": 12,
   "id": "592cf426",
   "metadata": {
    "tags": []
   },
   "outputs": [],
   "source": [
    "# bin_keys\n",
    "# tiles_expanded_rv.columns"
   ]
  },
  {
   "cell_type": "code",
   "execution_count": 13,
   "id": "925272aa",
   "metadata": {
    "tags": []
   },
   "outputs": [
    {
     "data": {
      "text/plain": [
       "0     6644\n",
       "2     1201\n",
       "3      283\n",
       "1      134\n",
       "6       61\n",
       "4       26\n",
       "7       14\n",
       "5        5\n",
       "8        4\n",
       "10       3\n",
       "9        1\n",
       "Name: bins_numeric, dtype: int64"
      ]
     },
     "execution_count": 13,
     "metadata": {},
     "output_type": "execute_result"
    }
   ],
   "source": [
    "tiles_expanded_rv['bins_numeric'].value_counts()"
   ]
  },
  {
   "cell_type": "markdown",
   "id": "13f22a15-184e-466c-8edd-448bd974f88d",
   "metadata": {
    "tags": []
   },
   "source": [
    "# Normalize data"
   ]
  },
  {
   "cell_type": "code",
   "execution_count": 14,
   "id": "3d2d6b89-b6a3-4465-ac2b-be220741cea8",
   "metadata": {
    "tags": []
   },
   "outputs": [],
   "source": [
    "# def normalize_col(df, col_name):\n",
    "\n",
    "#     norm = (df[col_name] - df[col_name].min()) / (df[col_name].max() - df[col_name].min())\n",
    "#     return norm\n",
    "\n",
    "# tiles_expanded_rv['Mid_lat_norm'] = normalize_col(tiles_expanded_rv,'Mid_lat')\n",
    "# tiles_expanded_rv['Mid_long_norm'] = normalize_col(tiles_expanded_rv,'Mid_long')\n"
   ]
  },
  {
   "cell_type": "markdown",
   "id": "c3a6b82c",
   "metadata": {},
   "source": [
    "Split into training and test"
   ]
  },
  {
   "cell_type": "code",
   "execution_count": 15,
   "id": "0d50fdd4",
   "metadata": {
    "tags": []
   },
   "outputs": [],
   "source": [
    "MODEL_TYPE='logistic' # 'linear'\n",
    "\n",
    "if MODEL_TYPE == 'linear':\n",
    "    input_x = ['Tile_ID','Collisions_Historical', 'Mid_lat_norm','Mid_long_norm', 'Stop_Signs', 'Paving_historical', 'Bus_stop','RTTYP_I','RTTYP_M','RTTYP_S','RTTYP_U'] # Removing RTTYP_O\n",
    "    input_y = ['Collisions_Future']\n",
    "elif MODEL_TYPE == 'logistic':\n",
    "    input_x = ['Tile_ID', 'Stop_Signs', 'Paving_historical', 'Bus_stop',\n",
    "       'Collisions_Historical', 'RTTYP_I', 'RTTYP_M', 'RTTYP_O', 'RTTYP_S',\n",
    "       'RTTYP_U', '94101', '94102', '94104', '94105', '94107',\n",
    "       '94108', '94109', '94110', '94111', '94112', '94114', '94115', '94116',\n",
    "       '94117', '94118', '94121', '94122', '94123', '94124', '94127', '94129',\n",
    "       '94130', '94131', '94132', '94133', '94134', '94141', '94143', '94158',\n",
    "       '94188']\n",
    "    input_y = ['bins_numeric']\n",
    "    \n",
    "\n",
    "x_train, x_test, y_train, y_test = train_test_split(\n",
    "                                    tiles_expanded_rv[input_x], \n",
    "                                    tiles_expanded_rv[input_y],\n",
    "                                    random_state=104, \n",
    "                                    test_size=0.20, \n",
    "                                    shuffle=True)\n",
    "\n"
   ]
  },
  {
   "cell_type": "code",
   "execution_count": 16,
   "id": "a5395983-61f4-48b8-81cf-dd7d25305f34",
   "metadata": {
    "tags": []
   },
   "outputs": [],
   "source": [
    "tiles_expanded_rv_test_x = tiles_expanded_rv_test[ ['Tile_ID', 'Stop_Signs', 'Paving_historical', 'Bus_stop',\n",
    "       'Collisions_Historical', 'RTTYP_I', 'RTTYP_M', 'RTTYP_O', 'RTTYP_S',\n",
    "       'RTTYP_U', '94101', '94102', '94104', '94105', '94107',\n",
    "       '94108', '94109', '94110', '94111', '94112', '94114', '94115', '94116',\n",
    "       '94117', '94118', '94121', '94122', '94123', '94124', '94127', '94129',\n",
    "       '94130', '94131', '94132', '94133', '94134', '94141', '94143', '94158',\n",
    "       '94188']]\n",
    "\n",
    "tiles_expanded_rv_test_y = tiles_expanded_rv_test['bins_numeric']"
   ]
  },
  {
   "cell_type": "markdown",
   "id": "a39bcdd0-c978-46b5-be3b-c9872cc056b6",
   "metadata": {
    "tags": []
   },
   "source": [
    "### Oversampling using SMOTE"
   ]
  },
  {
   "cell_type": "code",
   "execution_count": 17,
   "id": "972b63e3-3a1c-403c-9e04-3bd44597f29b",
   "metadata": {
    "tags": []
   },
   "outputs": [
    {
     "name": "stdout",
     "output_type": "stream",
     "text": [
      "Counter({0: 5297, 2: 968, 3: 230, 1: 108, 6: 53, 4: 22, 7: 11, 5: 4, 10: 3, 8: 3, 9: 1})\n",
      "Counter({0: 5297, 2: 968, 3: 230, 1: 230, 6: 150, 7: 100, 10: 100, 4: 100, 5: 100, 8: 100, 9: 100})\n"
     ]
    }
   ],
   "source": [
    "\n",
    "counter = Counter(y_train['bins_numeric'])\n",
    "print(counter)\n",
    "ros = RandomOverSampler(random_state=0,sampling_strategy={0:5297, 2:968, 3:230, 1:230, 6:150, 4:100, 7:100, 5:100,10:100,8:100,9:100}) # 0.77\n",
    "# ros = RandomOverSampler(random_state=0,sampling_strategy={0:5297, 2:2400, 3:419, 1:108, 6:150, 4:100, 7:44, 5:40,10:30,8:30,9:10})\n",
    "x_train, y_train = ros.fit_resample(x_train, y_train)\n",
    "counter_sampled = Counter(y_train['bins_numeric'])\n",
    "print(counter_sampled)\n",
    "# smote_enn = SMOTEENN(random_state=0,sampling_strategy='minority')\n",
    "\n",
    "# x_train_sampled, y_train_sampled = smote_enn.fit_resample(x_train, y_train)\n",
    "# print(sorted(Counter(y_train_sampled).items()))"
   ]
  },
  {
   "cell_type": "code",
   "execution_count": 18,
   "id": "99c23eaa-143a-4e43-8cfd-2464a8621912",
   "metadata": {
    "tags": []
   },
   "outputs": [],
   "source": [
    "class_weight_list = compute_class_weight(class_weight='balanced',classes=y_train['bins_numeric'].unique(), y=y_train['bins_numeric'].to_numpy())"
   ]
  },
  {
   "cell_type": "code",
   "execution_count": 19,
   "id": "82c4ed67-b887-495a-8b93-735dee9561fc",
   "metadata": {
    "tags": []
   },
   "outputs": [
    {
     "name": "stdout",
     "output_type": "stream",
     "text": [
      "[0.12828874 2.95454545 0.70200977 6.79545455 2.95454545 4.53030303\n",
      " 6.79545455 6.79545455 6.79545455 6.79545455 6.79545455]\n"
     ]
    }
   ],
   "source": [
    "print(class_weight_list)\n"
   ]
  },
  {
   "cell_type": "code",
   "execution_count": 20,
   "id": "40d82e2d-705f-45e4-812a-ae4755f73362",
   "metadata": {
    "tags": []
   },
   "outputs": [],
   "source": [
    "class_weight={}\n",
    "unique_classes = y_train['bins_numeric'].unique()\n",
    "for i in range(11) :\n",
    "    class_weight[unique_classes[i]] = class_weight_list[i]"
   ]
  },
  {
   "cell_type": "code",
   "execution_count": 21,
   "id": "d4b67969-7acc-489a-ac27-0aa16f9c5282",
   "metadata": {
    "tags": []
   },
   "outputs": [
    {
     "data": {
      "text/plain": [
       "{0: 0.12828873976693497,\n",
       " 3: 2.9545454545454546,\n",
       " 2: 0.7020097670924117,\n",
       " 7: 6.795454545454546,\n",
       " 1: 2.9545454545454546,\n",
       " 6: 4.53030303030303,\n",
       " 10: 6.795454545454546,\n",
       " 4: 6.795454545454546,\n",
       " 5: 6.795454545454546,\n",
       " 8: 6.795454545454546,\n",
       " 9: 6.795454545454546}"
      ]
     },
     "execution_count": 21,
     "metadata": {},
     "output_type": "execute_result"
    }
   ],
   "source": [
    "# print(unique_classes)\n",
    "class_weight"
   ]
  },
  {
   "cell_type": "markdown",
   "id": "fffe2d02",
   "metadata": {},
   "source": [
    "Model #1: Linear regression using Historical Collisions, SFMTA Street Characteristics, and Geocoordinates"
   ]
  },
  {
   "cell_type": "markdown",
   "id": "bf220283",
   "metadata": {},
   "source": [
    "## Image Pre-Processing"
   ]
  },
  {
   "cell_type": "code",
   "execution_count": 22,
   "id": "ea514649",
   "metadata": {
    "tags": []
   },
   "outputs": [],
   "source": [
    "IMAGE_PATH = 'Satellite_Imagery/Satellite_Images_Tiled/' "
   ]
  },
  {
   "cell_type": "code",
   "execution_count": 23,
   "id": "b40c2ccb",
   "metadata": {
    "tags": []
   },
   "outputs": [],
   "source": [
    " #eda\n",
    "img = tifffile.imread('Satellite_Imagery/Satellite_Images_Tiled/36.tif')[0:148, 0:188, :]\n",
    "img2 = tifffile.imread('Satellite_Imagery/Satellite_Images_Tiled/37.tif')[0:148, 0:188, :]"
   ]
  },
  {
   "cell_type": "code",
   "execution_count": 24,
   "id": "97889d4b",
   "metadata": {
    "tags": []
   },
   "outputs": [
    {
     "name": "stdout",
     "output_type": "stream",
     "text": [
      "(148, 188, 4)\n"
     ]
    }
   ],
   "source": [
    "# eda\n",
    "print(np.shape(img2))"
   ]
  },
  {
   "cell_type": "code",
   "execution_count": 25,
   "id": "545c8609",
   "metadata": {
    "scrolled": true,
    "tags": []
   },
   "outputs": [
    {
     "name": "stdout",
     "output_type": "stream",
     "text": [
      "(2, 148, 188, 4)\n",
      "(2, 148, 188, 4)\n"
     ]
    }
   ],
   "source": [
    "# eda\n",
    "test = []\n",
    "test.append(img[0:148, 0:188, :])\n",
    "test.append(img2[0:148, 0:188, :])\n",
    "print(np.shape(test))\n",
    "test = np.stack(test)\n",
    "print(np.shape(test))"
   ]
  },
  {
   "cell_type": "code",
   "execution_count": 26,
   "id": "9298e629",
   "metadata": {
    "tags": []
   },
   "outputs": [],
   "source": [
    "def preprocess_data_part1(IMAGE_PATH):\n",
    "    \"\"\" Generate lists of images and labelsbased on temp_no_refer and temp_refer lists\n",
    "    \n",
    "    Params:\n",
    "    -------\n",
    "    IMAGE_PATH (str): path to directory with images.\n",
    "    \n",
    "    Returns:\n",
    "    --------\n",
    "    images_mini  (np.ndarray): Images of shape (N, 149 3)\n",
    "    \"\"\"\n",
    "    \n",
    "    data_mini = []\n",
    "    data_mini_test = []\n",
    "    data_mini_test_final = []\n",
    "    for id in x_train['Tile_ID']:    \n",
    "                    \n",
    "        # read image and store as matrix            \n",
    "        # Index at the end makes all images the same size (they sometimes differ by 1 pixel)\n",
    "        image = tifffile.imread(IMAGE_PATH + str(id) + '.tif')[0:148, 0:188, :]\n",
    "            \n",
    "        # append to images\n",
    "        data_mini.append(image)\n",
    " \n",
    "    # stack images and trasnform to array\n",
    "    images_mini = np.stack(data_mini)\n",
    "    \n",
    "    for id in x_test['Tile_ID']:    \n",
    "                    \n",
    "        # read image and store as matrix            \n",
    "        # Index at the end makes all images the same size (they sometimes differ by 1 pixel)\n",
    "        image = tifffile.imread(IMAGE_PATH + str(id) + '.tif')[0:148, 0:188, :]\n",
    "            \n",
    "        # append to images\n",
    "        data_mini_test.append(image)\n",
    " \n",
    "    # stack images and trasnform to array\n",
    "    images_mini_test = np.stack(data_mini_test)\n",
    "    \n",
    "    for id in tiles_expanded_rv_test_x['Tile_ID']:\n",
    "        # read image and store as matrix            \n",
    "        # Index at the end makes all images the same size (they sometimes differ by 1 pixel)\n",
    "        image = tifffile.imread(IMAGE_PATH + str(id) + '.tif')[0:148, 0:188, :]\n",
    "            \n",
    "        # append to images\n",
    "        data_mini_test_final.append(image)\n",
    "    \n",
    "    images_mini_test_final = np.stack(data_mini_test_final)\n",
    "        \n",
    "    \n",
    "    return images_mini, images_mini_test, images_mini_test_final\n"
   ]
  },
  {
   "cell_type": "code",
   "execution_count": 27,
   "id": "4d8f77ae",
   "metadata": {
    "tags": []
   },
   "outputs": [],
   "source": [
    "# THERE IS ONE FILE IN THE \"SATELLITE IMAGES TILED\" FOLDER THAT IS NOT A TIF IMAGE, DELETE THIS FILE\n",
    "images_mini, images_mini_test, images_mini_test_final = preprocess_data_part1(IMAGE_PATH)\n",
    "# images_mini = np.load('/home/ubuntu/210_Capstone_Aditya_Arisa_Noriel/Data/train.npy')\n",
    "# images_mini_test = np.load('/home/ubuntu/210_Capstone_Aditya_Arisa_Noriel/Data/test.npy')"
   ]
  },
  {
   "cell_type": "code",
   "execution_count": 28,
   "id": "0ce10975",
   "metadata": {
    "tags": []
   },
   "outputs": [
    {
     "data": {
      "text/plain": [
       "(1676, 148, 188, 4)"
      ]
     },
     "execution_count": 28,
     "metadata": {},
     "output_type": "execute_result"
    }
   ],
   "source": [
    "np.shape(images_mini)\n",
    "np.shape(images_mini_test)"
   ]
  },
  {
   "cell_type": "code",
   "execution_count": 29,
   "id": "e212d2ec-5da6-462b-8a8a-85138774b5ac",
   "metadata": {
    "tags": []
   },
   "outputs": [],
   "source": [
    "# with open('/home/ubuntu/210_Capstone_Aditya_Arisa_Noriel/Data/train.npy', 'wb') as f:\n",
    "#     np.save(f,images_mini)"
   ]
  },
  {
   "cell_type": "code",
   "execution_count": 30,
   "id": "0080b62b-712f-4179-9031-60b561f59b7b",
   "metadata": {
    "tags": []
   },
   "outputs": [],
   "source": [
    "# with open('/home/ubuntu/210_Capstone_Aditya_Arisa_Noriel/Data/test.npy', 'wb') as f:\n",
    "#     np.save(f,images_mini_test)\n",
    "# # images_mini_reshaped = images_mini.reshape((8376,1,1,111296))"
   ]
  },
  {
   "cell_type": "code",
   "execution_count": 31,
   "id": "9fce941b-4766-474c-b49e-c365de2bdb86",
   "metadata": {
    "tags": []
   },
   "outputs": [],
   "source": [
    "# images_mini_reshaped.shape\n",
    "# len(images_mini_reshaped[0][0][0])"
   ]
  },
  {
   "cell_type": "markdown",
   "id": "57135842",
   "metadata": {},
   "source": [
    "Street Data Pre-Processing"
   ]
  },
  {
   "cell_type": "code",
   "execution_count": 32,
   "id": "a61d6f6c-0ac9-4629-b971-fdcc823d1324",
   "metadata": {
    "tags": []
   },
   "outputs": [
    {
     "data": {
      "text/html": [
       "<div>\n",
       "<style scoped>\n",
       "    .dataframe tbody tr th:only-of-type {\n",
       "        vertical-align: middle;\n",
       "    }\n",
       "\n",
       "    .dataframe tbody tr th {\n",
       "        vertical-align: top;\n",
       "    }\n",
       "\n",
       "    .dataframe thead th {\n",
       "        text-align: right;\n",
       "    }\n",
       "</style>\n",
       "<table border=\"1\" class=\"dataframe\">\n",
       "  <thead>\n",
       "    <tr style=\"text-align: right;\">\n",
       "      <th></th>\n",
       "      <th>Tile_ID</th>\n",
       "      <th>Stop_Signs</th>\n",
       "      <th>Paving_historical</th>\n",
       "      <th>Bus_stop</th>\n",
       "      <th>Collisions_Historical</th>\n",
       "      <th>RTTYP_I</th>\n",
       "      <th>RTTYP_M</th>\n",
       "      <th>RTTYP_O</th>\n",
       "      <th>RTTYP_S</th>\n",
       "      <th>RTTYP_U</th>\n",
       "      <th>...</th>\n",
       "      <th>94129</th>\n",
       "      <th>94130</th>\n",
       "      <th>94131</th>\n",
       "      <th>94132</th>\n",
       "      <th>94133</th>\n",
       "      <th>94134</th>\n",
       "      <th>94141</th>\n",
       "      <th>94143</th>\n",
       "      <th>94158</th>\n",
       "      <th>94188</th>\n",
       "    </tr>\n",
       "  </thead>\n",
       "  <tbody>\n",
       "    <tr>\n",
       "      <th>0</th>\n",
       "      <td>1526</td>\n",
       "      <td>0.0</td>\n",
       "      <td>0.0</td>\n",
       "      <td>0.0</td>\n",
       "      <td>0.0</td>\n",
       "      <td>0</td>\n",
       "      <td>1</td>\n",
       "      <td>0</td>\n",
       "      <td>0</td>\n",
       "      <td>0</td>\n",
       "      <td>...</td>\n",
       "      <td>0</td>\n",
       "      <td>0</td>\n",
       "      <td>0</td>\n",
       "      <td>0</td>\n",
       "      <td>0</td>\n",
       "      <td>0</td>\n",
       "      <td>0</td>\n",
       "      <td>0</td>\n",
       "      <td>0</td>\n",
       "      <td>0</td>\n",
       "    </tr>\n",
       "    <tr>\n",
       "      <th>1</th>\n",
       "      <td>11426</td>\n",
       "      <td>0.0</td>\n",
       "      <td>7.0</td>\n",
       "      <td>0.0</td>\n",
       "      <td>8.0</td>\n",
       "      <td>0</td>\n",
       "      <td>1</td>\n",
       "      <td>0</td>\n",
       "      <td>0</td>\n",
       "      <td>0</td>\n",
       "      <td>...</td>\n",
       "      <td>0</td>\n",
       "      <td>0</td>\n",
       "      <td>0</td>\n",
       "      <td>0</td>\n",
       "      <td>0</td>\n",
       "      <td>0</td>\n",
       "      <td>0</td>\n",
       "      <td>0</td>\n",
       "      <td>0</td>\n",
       "      <td>0</td>\n",
       "    </tr>\n",
       "    <tr>\n",
       "      <th>2</th>\n",
       "      <td>13993</td>\n",
       "      <td>0.0</td>\n",
       "      <td>0.0</td>\n",
       "      <td>0.0</td>\n",
       "      <td>0.0</td>\n",
       "      <td>0</td>\n",
       "      <td>1</td>\n",
       "      <td>0</td>\n",
       "      <td>0</td>\n",
       "      <td>0</td>\n",
       "      <td>...</td>\n",
       "      <td>0</td>\n",
       "      <td>0</td>\n",
       "      <td>0</td>\n",
       "      <td>0</td>\n",
       "      <td>0</td>\n",
       "      <td>0</td>\n",
       "      <td>0</td>\n",
       "      <td>0</td>\n",
       "      <td>0</td>\n",
       "      <td>1</td>\n",
       "    </tr>\n",
       "    <tr>\n",
       "      <th>3</th>\n",
       "      <td>3201</td>\n",
       "      <td>0.0</td>\n",
       "      <td>0.0</td>\n",
       "      <td>0.0</td>\n",
       "      <td>0.0</td>\n",
       "      <td>0</td>\n",
       "      <td>1</td>\n",
       "      <td>0</td>\n",
       "      <td>0</td>\n",
       "      <td>0</td>\n",
       "      <td>...</td>\n",
       "      <td>0</td>\n",
       "      <td>0</td>\n",
       "      <td>0</td>\n",
       "      <td>1</td>\n",
       "      <td>0</td>\n",
       "      <td>0</td>\n",
       "      <td>0</td>\n",
       "      <td>0</td>\n",
       "      <td>0</td>\n",
       "      <td>0</td>\n",
       "    </tr>\n",
       "    <tr>\n",
       "      <th>4</th>\n",
       "      <td>13779</td>\n",
       "      <td>0.0</td>\n",
       "      <td>0.0</td>\n",
       "      <td>0.0</td>\n",
       "      <td>0.0</td>\n",
       "      <td>0</td>\n",
       "      <td>1</td>\n",
       "      <td>0</td>\n",
       "      <td>0</td>\n",
       "      <td>0</td>\n",
       "      <td>...</td>\n",
       "      <td>0</td>\n",
       "      <td>0</td>\n",
       "      <td>0</td>\n",
       "      <td>0</td>\n",
       "      <td>0</td>\n",
       "      <td>0</td>\n",
       "      <td>0</td>\n",
       "      <td>0</td>\n",
       "      <td>0</td>\n",
       "      <td>0</td>\n",
       "    </tr>\n",
       "    <tr>\n",
       "      <th>...</th>\n",
       "      <td>...</td>\n",
       "      <td>...</td>\n",
       "      <td>...</td>\n",
       "      <td>...</td>\n",
       "      <td>...</td>\n",
       "      <td>...</td>\n",
       "      <td>...</td>\n",
       "      <td>...</td>\n",
       "      <td>...</td>\n",
       "      <td>...</td>\n",
       "      <td>...</td>\n",
       "      <td>...</td>\n",
       "      <td>...</td>\n",
       "      <td>...</td>\n",
       "      <td>...</td>\n",
       "      <td>...</td>\n",
       "      <td>...</td>\n",
       "      <td>...</td>\n",
       "      <td>...</td>\n",
       "      <td>...</td>\n",
       "      <td>...</td>\n",
       "    </tr>\n",
       "    <tr>\n",
       "      <th>7470</th>\n",
       "      <td>9476</td>\n",
       "      <td>1.0</td>\n",
       "      <td>0.0</td>\n",
       "      <td>0.0</td>\n",
       "      <td>17.0</td>\n",
       "      <td>0</td>\n",
       "      <td>1</td>\n",
       "      <td>0</td>\n",
       "      <td>0</td>\n",
       "      <td>0</td>\n",
       "      <td>...</td>\n",
       "      <td>0</td>\n",
       "      <td>0</td>\n",
       "      <td>0</td>\n",
       "      <td>0</td>\n",
       "      <td>0</td>\n",
       "      <td>0</td>\n",
       "      <td>0</td>\n",
       "      <td>0</td>\n",
       "      <td>0</td>\n",
       "      <td>0</td>\n",
       "    </tr>\n",
       "    <tr>\n",
       "      <th>7471</th>\n",
       "      <td>9476</td>\n",
       "      <td>1.0</td>\n",
       "      <td>0.0</td>\n",
       "      <td>0.0</td>\n",
       "      <td>17.0</td>\n",
       "      <td>0</td>\n",
       "      <td>1</td>\n",
       "      <td>0</td>\n",
       "      <td>0</td>\n",
       "      <td>0</td>\n",
       "      <td>...</td>\n",
       "      <td>0</td>\n",
       "      <td>0</td>\n",
       "      <td>0</td>\n",
       "      <td>0</td>\n",
       "      <td>0</td>\n",
       "      <td>0</td>\n",
       "      <td>0</td>\n",
       "      <td>0</td>\n",
       "      <td>0</td>\n",
       "      <td>0</td>\n",
       "    </tr>\n",
       "    <tr>\n",
       "      <th>7472</th>\n",
       "      <td>12726</td>\n",
       "      <td>0.0</td>\n",
       "      <td>3.0</td>\n",
       "      <td>5.0</td>\n",
       "      <td>11.0</td>\n",
       "      <td>0</td>\n",
       "      <td>1</td>\n",
       "      <td>0</td>\n",
       "      <td>0</td>\n",
       "      <td>0</td>\n",
       "      <td>...</td>\n",
       "      <td>0</td>\n",
       "      <td>0</td>\n",
       "      <td>0</td>\n",
       "      <td>0</td>\n",
       "      <td>0</td>\n",
       "      <td>0</td>\n",
       "      <td>0</td>\n",
       "      <td>0</td>\n",
       "      <td>0</td>\n",
       "      <td>1</td>\n",
       "    </tr>\n",
       "    <tr>\n",
       "      <th>7473</th>\n",
       "      <td>10746</td>\n",
       "      <td>0.0</td>\n",
       "      <td>0.0</td>\n",
       "      <td>4.0</td>\n",
       "      <td>11.0</td>\n",
       "      <td>0</td>\n",
       "      <td>1</td>\n",
       "      <td>0</td>\n",
       "      <td>0</td>\n",
       "      <td>0</td>\n",
       "      <td>...</td>\n",
       "      <td>0</td>\n",
       "      <td>0</td>\n",
       "      <td>0</td>\n",
       "      <td>0</td>\n",
       "      <td>0</td>\n",
       "      <td>0</td>\n",
       "      <td>0</td>\n",
       "      <td>0</td>\n",
       "      <td>0</td>\n",
       "      <td>0</td>\n",
       "    </tr>\n",
       "    <tr>\n",
       "      <th>7474</th>\n",
       "      <td>12726</td>\n",
       "      <td>0.0</td>\n",
       "      <td>3.0</td>\n",
       "      <td>5.0</td>\n",
       "      <td>11.0</td>\n",
       "      <td>0</td>\n",
       "      <td>1</td>\n",
       "      <td>0</td>\n",
       "      <td>0</td>\n",
       "      <td>0</td>\n",
       "      <td>...</td>\n",
       "      <td>0</td>\n",
       "      <td>0</td>\n",
       "      <td>0</td>\n",
       "      <td>0</td>\n",
       "      <td>0</td>\n",
       "      <td>0</td>\n",
       "      <td>0</td>\n",
       "      <td>0</td>\n",
       "      <td>0</td>\n",
       "      <td>1</td>\n",
       "    </tr>\n",
       "  </tbody>\n",
       "</table>\n",
       "<p>7475 rows × 40 columns</p>\n",
       "</div>"
      ],
      "text/plain": [
       "      Tile_ID  Stop_Signs  Paving_historical  Bus_stop  Collisions_Historical  \\\n",
       "0        1526         0.0                0.0       0.0                    0.0   \n",
       "1       11426         0.0                7.0       0.0                    8.0   \n",
       "2       13993         0.0                0.0       0.0                    0.0   \n",
       "3        3201         0.0                0.0       0.0                    0.0   \n",
       "4       13779         0.0                0.0       0.0                    0.0   \n",
       "...       ...         ...                ...       ...                    ...   \n",
       "7470     9476         1.0                0.0       0.0                   17.0   \n",
       "7471     9476         1.0                0.0       0.0                   17.0   \n",
       "7472    12726         0.0                3.0       5.0                   11.0   \n",
       "7473    10746         0.0                0.0       4.0                   11.0   \n",
       "7474    12726         0.0                3.0       5.0                   11.0   \n",
       "\n",
       "      RTTYP_I  RTTYP_M  RTTYP_O  RTTYP_S  RTTYP_U  ...  94129  94130  94131  \\\n",
       "0           0        1        0        0        0  ...      0      0      0   \n",
       "1           0        1        0        0        0  ...      0      0      0   \n",
       "2           0        1        0        0        0  ...      0      0      0   \n",
       "3           0        1        0        0        0  ...      0      0      0   \n",
       "4           0        1        0        0        0  ...      0      0      0   \n",
       "...       ...      ...      ...      ...      ...  ...    ...    ...    ...   \n",
       "7470        0        1        0        0        0  ...      0      0      0   \n",
       "7471        0        1        0        0        0  ...      0      0      0   \n",
       "7472        0        1        0        0        0  ...      0      0      0   \n",
       "7473        0        1        0        0        0  ...      0      0      0   \n",
       "7474        0        1        0        0        0  ...      0      0      0   \n",
       "\n",
       "      94132  94133  94134  94141  94143  94158  94188  \n",
       "0         0      0      0      0      0      0      0  \n",
       "1         0      0      0      0      0      0      0  \n",
       "2         0      0      0      0      0      0      1  \n",
       "3         1      0      0      0      0      0      0  \n",
       "4         0      0      0      0      0      0      0  \n",
       "...     ...    ...    ...    ...    ...    ...    ...  \n",
       "7470      0      0      0      0      0      0      0  \n",
       "7471      0      0      0      0      0      0      0  \n",
       "7472      0      0      0      0      0      0      1  \n",
       "7473      0      0      0      0      0      0      0  \n",
       "7474      0      0      0      0      0      0      1  \n",
       "\n",
       "[7475 rows x 40 columns]"
      ]
     },
     "execution_count": 32,
     "metadata": {},
     "output_type": "execute_result"
    }
   ],
   "source": [
    "x_train"
   ]
  },
  {
   "cell_type": "code",
   "execution_count": 33,
   "id": "8dce0686",
   "metadata": {
    "tags": []
   },
   "outputs": [
    {
     "data": {
      "text/plain": [
       "(1676, 1, 1, 39)"
      ]
     },
     "execution_count": 33,
     "metadata": {},
     "output_type": "execute_result"
    }
   ],
   "source": [
    "street = np.asarray(x_train[input_x[1:]]).astype('float32')\n",
    "street_mini = []\n",
    "for row in street:\n",
    "    street_mini.append([[row]])\n",
    "street_mini = np.stack(street_mini)\n",
    "np.shape(street_mini)\n",
    "\n",
    "\n",
    "street_test = np.asarray(x_test[input_x[1:]]).astype('float32')\n",
    "street_mini_test = []\n",
    "for row in street_test:\n",
    "    street_mini_test.append([[row]])\n",
    "street_mini_test = np.stack(street_mini_test)\n",
    "np.shape(street_mini_test)\n"
   ]
  },
  {
   "cell_type": "code",
   "execution_count": 34,
   "id": "f8a17d90-04d8-48e5-b2b5-96a783356d8b",
   "metadata": {
    "tags": []
   },
   "outputs": [
    {
     "data": {
      "text/plain": [
       "(2095, 1, 1, 39)"
      ]
     },
     "execution_count": 34,
     "metadata": {},
     "output_type": "execute_result"
    }
   ],
   "source": [
    "street_test_final = np.asarray(tiles_expanded_rv_test_x[input_x[1:]]).astype('float32')\n",
    "street_mini_test_final = []\n",
    "for row in street_test_final:\n",
    "    street_mini_test_final.append([[row]])\n",
    "street_mini_test_final = np.stack(street_mini_test_final)\n",
    "np.shape(street_mini_test_final)"
   ]
  },
  {
   "cell_type": "code",
   "execution_count": 35,
   "id": "c87761aa-77b0-40d3-a924-c54c1c6e3726",
   "metadata": {
    "tags": []
   },
   "outputs": [
    {
     "name": "stdout",
     "output_type": "stream",
     "text": [
      "(7475, 1, 1, 39)\n",
      "(7475, 148, 188, 4)\n"
     ]
    }
   ],
   "source": [
    "print(street_mini.shape)\n",
    "print(images_mini.shape)"
   ]
  },
  {
   "cell_type": "code",
   "execution_count": 36,
   "id": "16b9f21e-6f7b-4abd-a7de-917d89fa085a",
   "metadata": {
    "tags": []
   },
   "outputs": [],
   "source": [
    "input_image_street = np.hstack(\n",
    "    (street_mini.reshape((7475,39)),\n",
    "    normalize(images_mini.reshape(7475,-1))\n",
    "     # images_mini.reshape(8376,148*188*4)\n",
    "    )\n",
    ")"
   ]
  },
  {
   "cell_type": "code",
   "execution_count": 37,
   "id": "5628e058-80c2-4145-b762-7116c8801a96",
   "metadata": {
    "tags": []
   },
   "outputs": [
    {
     "name": "stdout",
     "output_type": "stream",
     "text": [
      "(1676, 1, 1, 39)\n",
      "(1676, 148, 188, 4)\n"
     ]
    }
   ],
   "source": [
    "print(street_mini_test.shape)\n",
    "print(images_mini_test.shape)"
   ]
  },
  {
   "cell_type": "code",
   "execution_count": 38,
   "id": "b2a63cdc-90cd-43e2-94f1-d819918c510b",
   "metadata": {
    "tags": []
   },
   "outputs": [],
   "source": [
    "input_image_street_test = np.hstack(\n",
    "    (street_mini_test.reshape((1676,39)),\n",
    "    # images_mini_test.reshape((2095,148*188*4))\n",
    "    normalize(images_mini_test.reshape(1676,-1))\n",
    "    ))"
   ]
  },
  {
   "cell_type": "code",
   "execution_count": 39,
   "id": "e0a3fa00-5064-4ab3-a2e6-835a626f24c4",
   "metadata": {
    "tags": []
   },
   "outputs": [
    {
     "data": {
      "text/plain": [
       "(1676, 111335)"
      ]
     },
     "execution_count": 39,
     "metadata": {},
     "output_type": "execute_result"
    }
   ],
   "source": [
    "input_image_street_test.shape"
   ]
  },
  {
   "cell_type": "code",
   "execution_count": 40,
   "id": "05a5e0a3-815f-49ad-967c-07d0fc904701",
   "metadata": {
    "tags": []
   },
   "outputs": [
    {
     "name": "stdout",
     "output_type": "stream",
     "text": [
      "(2095, 1, 1, 39)\n",
      "(2095, 148, 188, 4)\n"
     ]
    }
   ],
   "source": [
    "print(street_mini_test_final.shape)\n",
    "print(images_mini_test_final.shape)"
   ]
  },
  {
   "cell_type": "code",
   "execution_count": 41,
   "id": "a6698331-9ee7-492a-a08c-fbda194a7787",
   "metadata": {
    "tags": []
   },
   "outputs": [],
   "source": [
    "input_image_street_test_final = np.hstack(\n",
    "    (street_mini_test_final.reshape((2095,39)),\n",
    "    # images_mini_test.reshape((2095,148*188*4))\n",
    "    normalize(images_mini_test_final.reshape(2095,-1))\n",
    "    ))"
   ]
  },
  {
   "cell_type": "markdown",
   "id": "b9176acd-0672-4bd9-92c8-f67618b33321",
   "metadata": {},
   "source": [
    "## Linear Regression"
   ]
  },
  {
   "cell_type": "code",
   "execution_count": 42,
   "id": "04589b85-dbc4-4309-a243-608fb7f793e5",
   "metadata": {
    "tags": []
   },
   "outputs": [],
   "source": [
    "# x: 'Collisions_Historical', 'Mid_lat','Mid_long', 'Stop_Signs', 'Paving_historical', 'Bus_stop','RTTYP_I','RTTYP_M','RTTYP_O','RTTYP_S','RTTYP_U'\n",
    "# y: 'Collisions_Future'\n",
    "\n",
    "def create_linear_model():\n",
    "    # DENSE LAYERS \n",
    "    input = tf.keras.layers.Input(shape=(111306,))\n",
    "\n",
    "    outputs = layers.Dense(1)(input)\n",
    "\n",
    "    linear_model = tf.keras.models.Model(inputs=input, outputs=outputs, name=\"linear_model\")\n",
    "\n",
    "    linear_model.summary()\n",
    "\n",
    "    linear_model.compile(\n",
    "        optimizer=tf.keras.optimizers.Adam(learning_rate=0.001),\n",
    "        loss='mean_squared_error'\n",
    "        )\n",
    "    \n",
    "    return linear_model\n",
    "\n",
    "# linear_model = create_linear_model()\n",
    "\n",
    "# history = linear_model.fit(\n",
    "#     input_image_street,\n",
    "#      np.stack(y_train['Collisions_Future'].to_numpy()),\n",
    "#     epochs=100,\n",
    "#     # Suppress logging.\n",
    "#      verbose=1,\n",
    "#     # Calculate validation results on 20% of the training data.\n",
    "#     validation_split = 0.2)\n"
   ]
  },
  {
   "cell_type": "code",
   "execution_count": 43,
   "id": "aab7b35b-71ff-4966-b602-45bb0e4bc6ad",
   "metadata": {
    "tags": []
   },
   "outputs": [],
   "source": [
    "# plot_loss(history)"
   ]
  },
  {
   "cell_type": "code",
   "execution_count": 44,
   "id": "380a4d1d-ec2e-4546-820f-e51501791eaa",
   "metadata": {
    "tags": []
   },
   "outputs": [],
   "source": [
    "# predict_result = history.model.predict(input_image_street_test)"
   ]
  },
  {
   "cell_type": "code",
   "execution_count": 45,
   "id": "e926ad6d-5225-42bf-88d7-33f0074f5e3f",
   "metadata": {
    "tags": []
   },
   "outputs": [],
   "source": [
    "# predict_result.shape"
   ]
  },
  {
   "cell_type": "markdown",
   "id": "99c93772-2d18-4241-a31f-7793c8b46be4",
   "metadata": {},
   "source": [
    "## Mean squared error"
   ]
  },
  {
   "cell_type": "code",
   "execution_count": 46,
   "id": "4d94890a-c92e-48df-aef5-1be5337e803e",
   "metadata": {
    "tags": []
   },
   "outputs": [
    {
     "data": {
      "text/plain": [
       "0     6644\n",
       "2     1201\n",
       "3      283\n",
       "1      134\n",
       "6       61\n",
       "4       26\n",
       "7       14\n",
       "5        5\n",
       "8        4\n",
       "10       3\n",
       "9        1\n",
       "Name: bins_numeric, dtype: int64"
      ]
     },
     "execution_count": 46,
     "metadata": {},
     "output_type": "execute_result"
    }
   ],
   "source": [
    "# np.square(predict_result - y_test['Collisions_Future'].to_numpy().reshape((649,1))).mean()\n",
    "tiles_expanded_rv['bins_numeric'].value_counts()"
   ]
  },
  {
   "cell_type": "code",
   "execution_count": 47,
   "id": "ca879fd2-a13d-4631-9e46-e40cf50bda29",
   "metadata": {
    "tags": []
   },
   "outputs": [],
   "source": [
    "tf.keras.backend.clear_session()"
   ]
  },
  {
   "cell_type": "markdown",
   "id": "76293faa-4ad4-4467-adcf-75a6e9c9cfb3",
   "metadata": {
    "tags": []
   },
   "source": [
    "## LOGISTIC MODEL WITH IMAGES"
   ]
  },
  {
   "cell_type": "code",
   "execution_count": 48,
   "id": "6ef027c2-bb0f-45e7-ac0a-2fb328014abf",
   "metadata": {
    "tags": []
   },
   "outputs": [
    {
     "name": "stdout",
     "output_type": "stream",
     "text": [
      "Model: \"logistic_model\"\n",
      "_________________________________________________________________\n",
      " Layer (type)                Output Shape              Param #   \n",
      "=================================================================\n",
      " input_1 (InputLayer)        [(None, 111335)]          0         \n",
      "                                                                 \n",
      " dense (Dense)               (None, 11)                1224696   \n",
      "                                                                 \n",
      "=================================================================\n",
      "Total params: 1,224,696\n",
      "Trainable params: 1,224,696\n",
      "Non-trainable params: 0\n",
      "_________________________________________________________________\n"
     ]
    },
    {
     "name": "stderr",
     "output_type": "stream",
     "text": [
      "2023-04-02 23:06:01.316272: I tensorflow/compiler/xla/stream_executor/cuda/cuda_gpu_executor.cc:981] successful NUMA node read from SysFS had negative value (-1), but there must be at least one NUMA node, so returning NUMA node zero\n",
      "2023-04-02 23:06:01.322852: I tensorflow/compiler/xla/stream_executor/cuda/cuda_gpu_executor.cc:981] successful NUMA node read from SysFS had negative value (-1), but there must be at least one NUMA node, so returning NUMA node zero\n",
      "2023-04-02 23:06:01.323186: I tensorflow/compiler/xla/stream_executor/cuda/cuda_gpu_executor.cc:981] successful NUMA node read from SysFS had negative value (-1), but there must be at least one NUMA node, so returning NUMA node zero\n",
      "2023-04-02 23:06:01.323815: I tensorflow/core/platform/cpu_feature_guard.cc:193] This TensorFlow binary is optimized with oneAPI Deep Neural Network Library (oneDNN) to use the following CPU instructions in performance-critical operations:  AVX2 FMA\n",
      "To enable them in other operations, rebuild TensorFlow with the appropriate compiler flags.\n",
      "2023-04-02 23:06:01.324676: I tensorflow/compiler/xla/stream_executor/cuda/cuda_gpu_executor.cc:981] successful NUMA node read from SysFS had negative value (-1), but there must be at least one NUMA node, so returning NUMA node zero\n",
      "2023-04-02 23:06:01.325013: I tensorflow/compiler/xla/stream_executor/cuda/cuda_gpu_executor.cc:981] successful NUMA node read from SysFS had negative value (-1), but there must be at least one NUMA node, so returning NUMA node zero\n",
      "2023-04-02 23:06:01.325344: I tensorflow/compiler/xla/stream_executor/cuda/cuda_gpu_executor.cc:981] successful NUMA node read from SysFS had negative value (-1), but there must be at least one NUMA node, so returning NUMA node zero\n",
      "2023-04-02 23:06:01.823790: I tensorflow/compiler/xla/stream_executor/cuda/cuda_gpu_executor.cc:981] successful NUMA node read from SysFS had negative value (-1), but there must be at least one NUMA node, so returning NUMA node zero\n",
      "2023-04-02 23:06:01.824049: I tensorflow/compiler/xla/stream_executor/cuda/cuda_gpu_executor.cc:981] successful NUMA node read from SysFS had negative value (-1), but there must be at least one NUMA node, so returning NUMA node zero\n",
      "2023-04-02 23:06:01.824262: I tensorflow/compiler/xla/stream_executor/cuda/cuda_gpu_executor.cc:981] successful NUMA node read from SysFS had negative value (-1), but there must be at least one NUMA node, so returning NUMA node zero\n",
      "2023-04-02 23:06:01.824435: I tensorflow/core/common_runtime/gpu/gpu_device.cc:1613] Created device /job:localhost/replica:0/task:0/device:GPU:0 with 6911 MB memory:  -> device: 0, name: Tesla M60, pci bus id: 0000:00:1e.0, compute capability: 5.2\n"
     ]
    },
    {
     "name": "stdout",
     "output_type": "stream",
     "text": [
      "Epoch 1/80\n"
     ]
    },
    {
     "name": "stderr",
     "output_type": "stream",
     "text": [
      "2023-04-02 23:06:07.215761: I tensorflow/compiler/xla/service/service.cc:173] XLA service 0x7fe776308960 initialized for platform CUDA (this does not guarantee that XLA will be used). Devices:\n",
      "2023-04-02 23:06:07.215803: I tensorflow/compiler/xla/service/service.cc:181]   StreamExecutor device (0): Tesla M60, Compute Capability 5.2\n",
      "2023-04-02 23:06:07.221232: I tensorflow/compiler/mlir/tensorflow/utils/dump_mlir_util.cc:268] disabling MLIR crash reproducer, set env var `MLIR_CRASH_REPRODUCER_DIRECTORY` to enable.\n",
      "2023-04-02 23:06:07.387536: I tensorflow/compiler/jit/xla_compilation_cache.cc:477] Compiled cluster using XLA!  This line is logged at most once for the lifetime of the process.\n"
     ]
    },
    {
     "name": "stdout",
     "output_type": "stream",
     "text": [
      "187/187 [==============================] - 3s 10ms/step - loss: 0.7910 - accuracy: 0.5261 - val_loss: 2.6485 - val_accuracy: 0.2856\n",
      "Epoch 2/80\n",
      "187/187 [==============================] - 1s 8ms/step - loss: 0.6990 - accuracy: 0.6102 - val_loss: 2.2187 - val_accuracy: 0.3967\n",
      "Epoch 3/80\n",
      "187/187 [==============================] - 1s 8ms/step - loss: 0.6700 - accuracy: 0.6246 - val_loss: 2.1096 - val_accuracy: 0.3037\n",
      "Epoch 4/80\n",
      "187/187 [==============================] - 1s 8ms/step - loss: 0.6212 - accuracy: 0.6508 - val_loss: 1.9966 - val_accuracy: 0.3900\n",
      "Epoch 5/80\n",
      "187/187 [==============================] - 1s 8ms/step - loss: 0.5901 - accuracy: 0.6769 - val_loss: 1.3883 - val_accuracy: 0.5913\n",
      "Epoch 6/80\n",
      "187/187 [==============================] - 1s 8ms/step - loss: 0.5633 - accuracy: 0.6938 - val_loss: 1.4652 - val_accuracy: 0.4294\n",
      "Epoch 7/80\n",
      "187/187 [==============================] - 1s 8ms/step - loss: 0.5298 - accuracy: 0.6993 - val_loss: 1.4042 - val_accuracy: 0.5344\n",
      "Epoch 8/80\n",
      "187/187 [==============================] - 1s 8ms/step - loss: 0.5074 - accuracy: 0.7169 - val_loss: 1.1156 - val_accuracy: 0.5926\n",
      "Epoch 9/80\n",
      "187/187 [==============================] - 1s 8ms/step - loss: 0.4856 - accuracy: 0.7224 - val_loss: 1.0594 - val_accuracy: 0.6883\n",
      "Epoch 10/80\n",
      "187/187 [==============================] - 1s 8ms/step - loss: 0.4748 - accuracy: 0.7244 - val_loss: 1.0777 - val_accuracy: 0.6615\n",
      "Epoch 11/80\n",
      "187/187 [==============================] - 1s 8ms/step - loss: 0.4532 - accuracy: 0.7395 - val_loss: 0.9366 - val_accuracy: 0.7298\n",
      "Epoch 12/80\n",
      "187/187 [==============================] - 1s 8ms/step - loss: 0.4420 - accuracy: 0.7370 - val_loss: 0.9195 - val_accuracy: 0.7211\n",
      "Epoch 13/80\n",
      "187/187 [==============================] - 1s 8ms/step - loss: 0.4162 - accuracy: 0.7498 - val_loss: 0.8423 - val_accuracy: 0.7779\n",
      "Epoch 14/80\n",
      "187/187 [==============================] - 1s 8ms/step - loss: 0.4066 - accuracy: 0.7567 - val_loss: 1.0003 - val_accuracy: 0.6849\n",
      "Epoch 15/80\n",
      "187/187 [==============================] - 1s 8ms/step - loss: 0.3939 - accuracy: 0.7627 - val_loss: 0.9444 - val_accuracy: 0.7110\n",
      "Epoch 16/80\n",
      "187/187 [==============================] - 1s 8ms/step - loss: 0.3824 - accuracy: 0.7632 - val_loss: 0.8031 - val_accuracy: 0.8174\n",
      "Epoch 17/80\n",
      "187/187 [==============================] - 1s 8ms/step - loss: 0.3705 - accuracy: 0.7717 - val_loss: 0.8502 - val_accuracy: 0.7786\n",
      "Epoch 18/80\n",
      "187/187 [==============================] - 1s 8ms/step - loss: 0.3617 - accuracy: 0.7749 - val_loss: 0.7427 - val_accuracy: 0.7926\n",
      "Epoch 19/80\n",
      "187/187 [==============================] - 1s 8ms/step - loss: 0.3567 - accuracy: 0.7761 - val_loss: 0.8111 - val_accuracy: 0.7786\n",
      "Epoch 20/80\n",
      "187/187 [==============================] - 1s 8ms/step - loss: 0.3421 - accuracy: 0.7786 - val_loss: 0.7231 - val_accuracy: 0.8054\n",
      "Epoch 21/80\n",
      "187/187 [==============================] - 1s 8ms/step - loss: 0.3360 - accuracy: 0.7834 - val_loss: 0.7344 - val_accuracy: 0.8020\n",
      "Epoch 22/80\n",
      "187/187 [==============================] - 1s 8ms/step - loss: 0.3301 - accuracy: 0.7870 - val_loss: 0.8083 - val_accuracy: 0.7953\n",
      "Epoch 23/80\n",
      "187/187 [==============================] - 1s 8ms/step - loss: 0.3222 - accuracy: 0.7855 - val_loss: 0.8038 - val_accuracy: 0.7773\n",
      "Epoch 24/80\n",
      "187/187 [==============================] - 1s 8ms/step - loss: 0.3101 - accuracy: 0.7933 - val_loss: 0.7848 - val_accuracy: 0.7793\n",
      "Epoch 25/80\n",
      "187/187 [==============================] - 1s 8ms/step - loss: 0.3054 - accuracy: 0.8007 - val_loss: 0.7987 - val_accuracy: 0.7906\n",
      "Epoch 26/80\n",
      "187/187 [==============================] - 1s 8ms/step - loss: 0.3008 - accuracy: 0.7916 - val_loss: 0.7602 - val_accuracy: 0.8107\n",
      "Epoch 27/80\n",
      "187/187 [==============================] - 1s 8ms/step - loss: 0.2918 - accuracy: 0.7983 - val_loss: 0.6360 - val_accuracy: 0.8435\n",
      "Epoch 28/80\n",
      "187/187 [==============================] - 1s 8ms/step - loss: 0.2901 - accuracy: 0.8067 - val_loss: 0.6764 - val_accuracy: 0.8294\n",
      "Epoch 29/80\n",
      "187/187 [==============================] - 1s 8ms/step - loss: 0.2803 - accuracy: 0.8069 - val_loss: 0.7024 - val_accuracy: 0.8161\n",
      "Epoch 30/80\n",
      "187/187 [==============================] - 1s 8ms/step - loss: 0.2769 - accuracy: 0.7995 - val_loss: 0.7119 - val_accuracy: 0.8201\n",
      "Epoch 31/80\n",
      "187/187 [==============================] - 1s 8ms/step - loss: 0.2693 - accuracy: 0.8090 - val_loss: 0.7708 - val_accuracy: 0.7940\n",
      "Epoch 32/80\n",
      "187/187 [==============================] - 1s 8ms/step - loss: 0.2646 - accuracy: 0.8142 - val_loss: 0.7164 - val_accuracy: 0.8147\n",
      "Epoch 33/80\n",
      "187/187 [==============================] - 1s 8ms/step - loss: 0.2598 - accuracy: 0.8217 - val_loss: 0.6307 - val_accuracy: 0.8475\n",
      "Epoch 34/80\n",
      "187/187 [==============================] - 1s 8ms/step - loss: 0.2571 - accuracy: 0.8062 - val_loss: 0.7382 - val_accuracy: 0.8007\n",
      "Epoch 35/80\n",
      "187/187 [==============================] - 1s 8ms/step - loss: 0.2540 - accuracy: 0.8125 - val_loss: 0.6391 - val_accuracy: 0.8448\n",
      "Epoch 36/80\n",
      "187/187 [==============================] - 1s 8ms/step - loss: 0.2474 - accuracy: 0.8192 - val_loss: 0.6889 - val_accuracy: 0.8268\n",
      "Epoch 37/80\n",
      "187/187 [==============================] - 1s 8ms/step - loss: 0.2423 - accuracy: 0.8249 - val_loss: 0.6536 - val_accuracy: 0.8475\n",
      "Epoch 38/80\n",
      "187/187 [==============================] - 1s 8ms/step - loss: 0.2351 - accuracy: 0.8242 - val_loss: 0.6751 - val_accuracy: 0.8294\n",
      "Epoch 39/80\n",
      "187/187 [==============================] - 1s 8ms/step - loss: 0.2306 - accuracy: 0.8299 - val_loss: 0.7030 - val_accuracy: 0.8140\n",
      "Epoch 40/80\n",
      "187/187 [==============================] - 1s 8ms/step - loss: 0.2282 - accuracy: 0.8244 - val_loss: 0.6704 - val_accuracy: 0.8361\n",
      "Epoch 41/80\n",
      "187/187 [==============================] - 1s 8ms/step - loss: 0.2247 - accuracy: 0.8333 - val_loss: 0.7475 - val_accuracy: 0.8074\n",
      "Epoch 42/80\n",
      "187/187 [==============================] - 1s 8ms/step - loss: 0.2213 - accuracy: 0.8346 - val_loss: 0.6768 - val_accuracy: 0.8341\n",
      "Epoch 43/80\n",
      "187/187 [==============================] - 1s 8ms/step - loss: 0.2159 - accuracy: 0.8331 - val_loss: 0.6517 - val_accuracy: 0.8448\n",
      "Epoch 44/80\n",
      "187/187 [==============================] - 1s 8ms/step - loss: 0.2136 - accuracy: 0.8324 - val_loss: 0.7332 - val_accuracy: 0.8067\n",
      "Epoch 45/80\n",
      "187/187 [==============================] - 1s 8ms/step - loss: 0.2085 - accuracy: 0.8390 - val_loss: 0.6802 - val_accuracy: 0.8388\n",
      "Epoch 46/80\n",
      "187/187 [==============================] - 1s 8ms/step - loss: 0.2091 - accuracy: 0.8351 - val_loss: 0.7096 - val_accuracy: 0.8241\n",
      "Epoch 47/80\n",
      "187/187 [==============================] - 1s 8ms/step - loss: 0.2014 - accuracy: 0.8448 - val_loss: 0.7017 - val_accuracy: 0.8294\n",
      "Epoch 48/80\n",
      "187/187 [==============================] - 1s 8ms/step - loss: 0.2010 - accuracy: 0.8365 - val_loss: 0.6410 - val_accuracy: 0.8495\n",
      "Epoch 49/80\n",
      "187/187 [==============================] - 1s 8ms/step - loss: 0.1956 - accuracy: 0.8398 - val_loss: 0.6688 - val_accuracy: 0.8368\n",
      "Epoch 50/80\n",
      "187/187 [==============================] - 1s 8ms/step - loss: 0.1945 - accuracy: 0.8448 - val_loss: 0.7585 - val_accuracy: 0.7960\n",
      "Epoch 51/80\n",
      "187/187 [==============================] - 1s 8ms/step - loss: 0.1897 - accuracy: 0.8487 - val_loss: 0.7131 - val_accuracy: 0.8268\n",
      "Epoch 52/80\n",
      "187/187 [==============================] - 1s 8ms/step - loss: 0.1870 - accuracy: 0.8495 - val_loss: 0.7121 - val_accuracy: 0.8281\n",
      "Epoch 53/80\n",
      "187/187 [==============================] - 1s 8ms/step - loss: 0.1857 - accuracy: 0.8525 - val_loss: 0.7236 - val_accuracy: 0.8288\n",
      "Epoch 54/80\n",
      "187/187 [==============================] - 1s 8ms/step - loss: 0.1802 - accuracy: 0.8502 - val_loss: 0.7080 - val_accuracy: 0.8147\n",
      "Epoch 55/80\n",
      "187/187 [==============================] - 1s 8ms/step - loss: 0.1806 - accuracy: 0.8523 - val_loss: 0.7471 - val_accuracy: 0.8154\n",
      "Epoch 56/80\n",
      "187/187 [==============================] - 1s 8ms/step - loss: 0.1754 - accuracy: 0.8450 - val_loss: 0.6507 - val_accuracy: 0.8482\n",
      "Epoch 57/80\n",
      "187/187 [==============================] - 1s 8ms/step - loss: 0.1759 - accuracy: 0.8502 - val_loss: 0.6897 - val_accuracy: 0.8254\n",
      "Epoch 58/80\n",
      "187/187 [==============================] - 1s 8ms/step - loss: 0.1726 - accuracy: 0.8537 - val_loss: 0.7008 - val_accuracy: 0.8301\n",
      "Epoch 59/80\n",
      "187/187 [==============================] - 1s 8ms/step - loss: 0.1670 - accuracy: 0.8567 - val_loss: 0.7119 - val_accuracy: 0.8147\n",
      "Epoch 60/80\n",
      "187/187 [==============================] - 1s 8ms/step - loss: 0.1675 - accuracy: 0.8542 - val_loss: 0.6680 - val_accuracy: 0.8502\n",
      "Epoch 61/80\n",
      "187/187 [==============================] - 1s 8ms/step - loss: 0.1641 - accuracy: 0.8577 - val_loss: 0.6454 - val_accuracy: 0.8455\n",
      "Epoch 62/80\n",
      "187/187 [==============================] - 1s 8ms/step - loss: 0.1608 - accuracy: 0.8645 - val_loss: 0.7336 - val_accuracy: 0.8207\n",
      "Epoch 63/80\n",
      "187/187 [==============================] - 1s 8ms/step - loss: 0.1603 - accuracy: 0.8587 - val_loss: 0.6757 - val_accuracy: 0.8368\n",
      "Epoch 64/80\n",
      "187/187 [==============================] - 1s 8ms/step - loss: 0.1581 - accuracy: 0.8642 - val_loss: 0.7300 - val_accuracy: 0.8227\n",
      "Epoch 65/80\n",
      "187/187 [==============================] - 1s 8ms/step - loss: 0.1583 - accuracy: 0.8639 - val_loss: 0.6949 - val_accuracy: 0.8381\n",
      "Epoch 66/80\n",
      "187/187 [==============================] - 1s 8ms/step - loss: 0.1529 - accuracy: 0.8674 - val_loss: 0.7490 - val_accuracy: 0.8201\n",
      "Epoch 67/80\n",
      "187/187 [==============================] - 1s 8ms/step - loss: 0.1509 - accuracy: 0.8704 - val_loss: 0.7077 - val_accuracy: 0.8395\n",
      "Epoch 68/80\n",
      "187/187 [==============================] - 1s 8ms/step - loss: 0.1480 - accuracy: 0.8687 - val_loss: 0.6701 - val_accuracy: 0.8435\n",
      "Epoch 69/80\n",
      "187/187 [==============================] - 1s 8ms/step - loss: 0.1453 - accuracy: 0.8719 - val_loss: 0.7274 - val_accuracy: 0.8254\n",
      "Epoch 70/80\n",
      "187/187 [==============================] - 1s 8ms/step - loss: 0.1477 - accuracy: 0.8676 - val_loss: 0.7642 - val_accuracy: 0.8154\n",
      "Epoch 71/80\n",
      "187/187 [==============================] - 1s 8ms/step - loss: 0.1436 - accuracy: 0.8736 - val_loss: 0.7141 - val_accuracy: 0.8201\n",
      "Epoch 72/80\n",
      "187/187 [==============================] - 1s 8ms/step - loss: 0.1418 - accuracy: 0.8737 - val_loss: 0.7287 - val_accuracy: 0.8207\n",
      "Epoch 73/80\n",
      "187/187 [==============================] - 1s 8ms/step - loss: 0.1395 - accuracy: 0.8726 - val_loss: 0.7455 - val_accuracy: 0.8114\n",
      "Epoch 74/80\n",
      "187/187 [==============================] - 1s 8ms/step - loss: 0.1374 - accuracy: 0.8722 - val_loss: 0.7100 - val_accuracy: 0.8388\n",
      "Epoch 75/80\n",
      "187/187 [==============================] - 1s 8ms/step - loss: 0.1367 - accuracy: 0.8724 - val_loss: 0.7289 - val_accuracy: 0.8421\n",
      "Epoch 76/80\n",
      "187/187 [==============================] - 1s 8ms/step - loss: 0.1347 - accuracy: 0.8766 - val_loss: 0.7485 - val_accuracy: 0.8194\n",
      "Epoch 77/80\n",
      "187/187 [==============================] - 1s 8ms/step - loss: 0.1340 - accuracy: 0.8719 - val_loss: 0.7070 - val_accuracy: 0.8421\n",
      "Epoch 78/80\n",
      "187/187 [==============================] - 1s 8ms/step - loss: 0.1315 - accuracy: 0.8769 - val_loss: 0.7249 - val_accuracy: 0.8321\n",
      "Epoch 79/80\n",
      "187/187 [==============================] - 1s 8ms/step - loss: 0.1313 - accuracy: 0.8761 - val_loss: 0.8097 - val_accuracy: 0.7967\n",
      "Epoch 80/80\n",
      "187/187 [==============================] - 1s 8ms/step - loss: 0.1282 - accuracy: 0.8828 - val_loss: 0.7511 - val_accuracy: 0.8234\n"
     ]
    },
    {
     "data": {
      "image/png": "[encoded data removed]",
      "text/plain": [
       "<Figure size 640x480 with 1 Axes>"
      ]
     },
     "metadata": {},
     "output_type": "display_data"
    }
   ],
   "source": [
    "# x: 'Collisions_Historical', 'Mid_lat','Mid_long', 'Stop_Signs', 'Paving_historical', 'Bus_stop','RTTYP_I','RTTYP_M','RTTYP_O','RTTYP_S','RTTYP_U'\n",
    "# y: 'Collisions_Future'\n",
    "tf.keras.backend.clear_session()\n",
    "def create_logistic_model():\n",
    "    # DENSE LAYERS \n",
    "    input = tf.keras.layers.Input(shape=(111335,))\n",
    "    \n",
    "    # input = keras.layers.Flatten()(input)\n",
    "\n",
    "    outputs = keras.layers.Dense(units = 11, activation = 'softmax')(input)\n",
    "\n",
    "    log_model = tf.keras.models.Model(inputs=input, outputs=outputs, name=\"logistic_model\")\n",
    "\n",
    "    log_model.summary()\n",
    "\n",
    "    log_model.compile(\n",
    "        optimizer=tf.keras.optimizers.Adam(learning_rate=0.001),\n",
    "        loss=tf.keras.losses.SparseCategoricalCrossentropy(),\n",
    "        metrics=['accuracy']\n",
    "        )\n",
    "    \n",
    "    return log_model\n",
    "\n",
    "logistic_model = create_logistic_model()\n",
    "\n",
    "# class_weight = {0: 100,\n",
    "#                 1: 10000,\n",
    "#                 2: 1000,\n",
    "#                 3: 1000,\n",
    "#                 4: 100000,\n",
    "#                 5: 100000,\n",
    "#                 6: 100000,\n",
    "#                 7: 100000,\n",
    "#                 8: 100000,\n",
    "#                 9: 100000,\n",
    "#                 10: 100000,\n",
    "#                }\n",
    "\n",
    "history = logistic_model.fit(\n",
    "    input_image_street,\n",
    "    np.stack(y_train.to_numpy()),\n",
    "     # y_train_2,\n",
    "    epochs=80, # 50,\n",
    "    # Suppress logging.\n",
    "     # verbose=1,\n",
    "    # Calculate validation results on 20% of the training data.\n",
    "    validation_split = 0.2,\n",
    "    class_weight = class_weight\n",
    "    )\n",
    "\n",
    "plot_loss(history)"
   ]
  },
  {
   "cell_type": "code",
   "execution_count": 49,
   "id": "31b83634-6d7c-4cd7-8e84-c05303764073",
   "metadata": {
    "tags": []
   },
   "outputs": [],
   "source": [
    "def predict_and_vis(model, x_true, y_true):\n",
    "    predict_result = history.model.predict(input_image_street_test)\n",
    "    predictions = []\n",
    "    \n",
    "    for x in range(len(predict_result)):\n",
    "        predictions.append(np.argmax(predict_result[x]))\n",
    "    \n",
    "    print(f\"WEIGHTED F1 SCORE: {f1_score(y_test.to_numpy(), predictions, average='weighted', sample_weight=None, zero_division='warn')}\")\n",
    "    print(f\"F1 SCORE: {f1_score(y_test.to_numpy(), predictions, average=None, sample_weight=None, zero_division='warn')}\")\n",
    "    \n",
    "    cm = confusion_matrix(y_test['bins_numeric'], predictions)\n",
    "    cm_df = pd.DataFrame(cm,\n",
    "                     index = [x for x in range(9)],\n",
    "                     columns = [x for x in range(9)])\n",
    "    return cm_df"
   ]
  },
  {
   "cell_type": "code",
   "execution_count": 50,
   "id": "639cd648-e589-44d9-a71d-21242685fee6",
   "metadata": {
    "tags": []
   },
   "outputs": [
    {
     "name": "stdout",
     "output_type": "stream",
     "text": [
      "53/53 [==============================] - 0s 5ms/step\n",
      "WEIGHTED F1 SCORE: 0.7630427140437427\n",
      "F1 SCORE: [0.87362637 0.04878049 0.36861314 0.22680412 0.         0.\n",
      " 0.36363636 0.         0.        ]\n"
     ]
    }
   ],
   "source": [
    "cm_df = predict_and_vis(history, input_image_street_test, y_test)"
   ]
  },
  {
   "cell_type": "code",
   "execution_count": 51,
   "id": "c890b84d-f559-4406-a61b-ed570a669d7c",
   "metadata": {
    "tags": []
   },
   "outputs": [
    {
     "data": {
      "image/png": "[encoded data removed]",
      "text/plain": [
       "<Figure size 800x900 with 2 Axes>"
      ]
     },
     "metadata": {},
     "output_type": "display_data"
    }
   ],
   "source": [
    "plt.figure(figsize=(8,9))\n",
    "sns.heatmap(cm_df, annot=True, fmt='.3g',cmap=\"OrRd\")\n",
    "plt.title('Confusion Matrix')\n",
    "plt.ylabel('Actual Values')\n",
    "plt.xlabel('Predicted Values')\n",
    "plt.show()"
   ]
  },
  {
   "cell_type": "code",
   "execution_count": 52,
   "id": "59337bde-d017-43bc-82e3-72df74ec9083",
   "metadata": {
    "tags": []
   },
   "outputs": [],
   "source": [
    "cm_df_normalize = cm_df.div(cm_df.sum(axis=1), axis=0)"
   ]
  },
  {
   "cell_type": "code",
   "execution_count": 53,
   "id": "2a08d31c-f9ba-459f-a8fb-9f0c9a90da18",
   "metadata": {
    "tags": []
   },
   "outputs": [
    {
     "data": {
      "image/png": "[encoded data removed]",
      "text/plain": [
       "<Figure size 800x800 with 2 Axes>"
      ]
     },
     "metadata": {},
     "output_type": "display_data"
    }
   ],
   "source": [
    "plt.figure(figsize=(8,8))\n",
    "sns.heatmap(cm_df_normalize, annot=True, fmt='.3g',cmap=\"OrRd\")\n",
    "plt.title('Confusion Matrix')\n",
    "plt.ylabel('Actual Values')\n",
    "plt.xlabel('Predicted Values')\n",
    "plt.show()"
   ]
  },
  {
   "cell_type": "code",
   "execution_count": 64,
   "id": "6b96bf14-6ace-4e21-863a-c55d621ef31c",
   "metadata": {
    "tags": []
   },
   "outputs": [
    {
     "name": "stdout",
     "output_type": "stream",
     "text": [
      "53/53 [==============================] - 0s 5ms/step\n",
      "WEIGHTED F1 SCORE: 0.7630427140437427\n",
      "F1 SCORE: [0.87362637 0.04878049 0.36861314 0.22680412 0.         0.\n",
      " 0.36363636 0.         0.        ]\n"
     ]
    }
   ],
   "source": [
    "cm_df = predict_and_vis(history, input_image_street_test_final, tiles_expanded_rv_test_y)"
   ]
  },
  {
   "cell_type": "code",
   "execution_count": 65,
   "id": "101975ba-a3ff-447d-a4c5-10008186a0e2",
   "metadata": {
    "tags": []
   },
   "outputs": [
    {
     "data": {
      "text/html": [
       "<div>\n",
       "<style scoped>\n",
       "    .dataframe tbody tr th:only-of-type {\n",
       "        vertical-align: middle;\n",
       "    }\n",
       "\n",
       "    .dataframe tbody tr th {\n",
       "        vertical-align: top;\n",
       "    }\n",
       "\n",
       "    .dataframe thead th {\n",
       "        text-align: right;\n",
       "    }\n",
       "</style>\n",
       "<table border=\"1\" class=\"dataframe\">\n",
       "  <thead>\n",
       "    <tr style=\"text-align: right;\">\n",
       "      <th></th>\n",
       "      <th>0</th>\n",
       "      <th>1</th>\n",
       "      <th>2</th>\n",
       "      <th>3</th>\n",
       "      <th>4</th>\n",
       "      <th>5</th>\n",
       "      <th>6</th>\n",
       "      <th>7</th>\n",
       "      <th>8</th>\n",
       "    </tr>\n",
       "  </thead>\n",
       "  <tbody>\n",
       "    <tr>\n",
       "      <th>0</th>\n",
       "      <td>1113</td>\n",
       "      <td>4</td>\n",
       "      <td>182</td>\n",
       "      <td>48</td>\n",
       "      <td>0</td>\n",
       "      <td>0</td>\n",
       "      <td>0</td>\n",
       "      <td>0</td>\n",
       "      <td>0</td>\n",
       "    </tr>\n",
       "    <tr>\n",
       "      <th>1</th>\n",
       "      <td>2</td>\n",
       "      <td>1</td>\n",
       "      <td>8</td>\n",
       "      <td>14</td>\n",
       "      <td>1</td>\n",
       "      <td>0</td>\n",
       "      <td>0</td>\n",
       "      <td>0</td>\n",
       "      <td>0</td>\n",
       "    </tr>\n",
       "    <tr>\n",
       "      <th>2</th>\n",
       "      <td>82</td>\n",
       "      <td>5</td>\n",
       "      <td>101</td>\n",
       "      <td>45</td>\n",
       "      <td>0</td>\n",
       "      <td>0</td>\n",
       "      <td>0</td>\n",
       "      <td>0</td>\n",
       "      <td>0</td>\n",
       "    </tr>\n",
       "    <tr>\n",
       "      <th>3</th>\n",
       "      <td>4</td>\n",
       "      <td>4</td>\n",
       "      <td>22</td>\n",
       "      <td>22</td>\n",
       "      <td>0</td>\n",
       "      <td>0</td>\n",
       "      <td>1</td>\n",
       "      <td>0</td>\n",
       "      <td>0</td>\n",
       "    </tr>\n",
       "    <tr>\n",
       "      <th>4</th>\n",
       "      <td>0</td>\n",
       "      <td>1</td>\n",
       "      <td>0</td>\n",
       "      <td>3</td>\n",
       "      <td>0</td>\n",
       "      <td>0</td>\n",
       "      <td>0</td>\n",
       "      <td>0</td>\n",
       "      <td>0</td>\n",
       "    </tr>\n",
       "    <tr>\n",
       "      <th>5</th>\n",
       "      <td>0</td>\n",
       "      <td>0</td>\n",
       "      <td>0</td>\n",
       "      <td>1</td>\n",
       "      <td>0</td>\n",
       "      <td>0</td>\n",
       "      <td>0</td>\n",
       "      <td>0</td>\n",
       "      <td>0</td>\n",
       "    </tr>\n",
       "    <tr>\n",
       "      <th>6</th>\n",
       "      <td>0</td>\n",
       "      <td>0</td>\n",
       "      <td>2</td>\n",
       "      <td>4</td>\n",
       "      <td>0</td>\n",
       "      <td>0</td>\n",
       "      <td>2</td>\n",
       "      <td>0</td>\n",
       "      <td>0</td>\n",
       "    </tr>\n",
       "    <tr>\n",
       "      <th>7</th>\n",
       "      <td>0</td>\n",
       "      <td>0</td>\n",
       "      <td>0</td>\n",
       "      <td>3</td>\n",
       "      <td>0</td>\n",
       "      <td>0</td>\n",
       "      <td>0</td>\n",
       "      <td>0</td>\n",
       "      <td>0</td>\n",
       "    </tr>\n",
       "    <tr>\n",
       "      <th>8</th>\n",
       "      <td>0</td>\n",
       "      <td>0</td>\n",
       "      <td>0</td>\n",
       "      <td>1</td>\n",
       "      <td>0</td>\n",
       "      <td>0</td>\n",
       "      <td>0</td>\n",
       "      <td>0</td>\n",
       "      <td>0</td>\n",
       "    </tr>\n",
       "  </tbody>\n",
       "</table>\n",
       "</div>"
      ],
      "text/plain": [
       "      0  1    2   3  4  5  6  7  8\n",
       "0  1113  4  182  48  0  0  0  0  0\n",
       "1     2  1    8  14  1  0  0  0  0\n",
       "2    82  5  101  45  0  0  0  0  0\n",
       "3     4  4   22  22  0  0  1  0  0\n",
       "4     0  1    0   3  0  0  0  0  0\n",
       "5     0  0    0   1  0  0  0  0  0\n",
       "6     0  0    2   4  0  0  2  0  0\n",
       "7     0  0    0   3  0  0  0  0  0\n",
       "8     0  0    0   1  0  0  0  0  0"
      ]
     },
     "execution_count": 65,
     "metadata": {},
     "output_type": "execute_result"
    }
   ],
   "source": [
    "cm_df"
   ]
  },
  {
   "cell_type": "code",
   "execution_count": 66,
   "id": "1a48feb1-d43c-40cf-8514-4106ebd49fc0",
   "metadata": {
    "tags": []
   },
   "outputs": [
    {
     "data": {
      "image/png": "[encoded data removed]",
      "text/plain": [
       "<Figure size 800x900 with 2 Axes>"
      ]
     },
     "metadata": {},
     "output_type": "display_data"
    }
   ],
   "source": [
    "plt.figure(figsize=(8,9))\n",
    "sns.heatmap(cm_df, annot=True, fmt='.4g',cmap=\"OrRd\")\n",
    "plt.title('Confusion Matrix')\n",
    "plt.ylabel('Actual Values')\n",
    "plt.xlabel('Predicted Values')\n",
    "plt.show()"
   ]
  },
  {
   "cell_type": "code",
   "execution_count": 67,
   "id": "6bb15bc6-2d4b-4a38-b9c9-5f7c068c2743",
   "metadata": {
    "tags": []
   },
   "outputs": [],
   "source": [
    "cm_df_normalize = cm_df.div(cm_df.sum(axis=1), axis=0)"
   ]
  },
  {
   "cell_type": "code",
   "execution_count": 68,
   "id": "91029962-5ad1-4444-ba88-76d6050a1701",
   "metadata": {
    "tags": []
   },
   "outputs": [
    {
     "data": {
      "image/png": "[encoded data removed]",
      "text/plain": [
       "<Figure size 800x800 with 2 Axes>"
      ]
     },
     "metadata": {},
     "output_type": "display_data"
    }
   ],
   "source": [
    "plt.figure(figsize=(8,8))\n",
    "sns.heatmap(cm_df_normalize, annot=True, fmt='.3g',cmap=\"OrRd\")\n",
    "plt.title('Confusion Matrix')\n",
    "plt.ylabel('Actual Values')\n",
    "plt.xlabel('Predicted Values')\n",
    "plt.show()"
   ]
  },
  {
   "cell_type": "code",
   "execution_count": null,
   "id": "82819c4e-5d04-4305-b87c-961dd4b6aa14",
   "metadata": {},
   "outputs": [],
   "source": []
  }
 ],
 "metadata": {
  "kernelspec": {
   "display_name": "Python 3 (ipykernel)",
   "language": "python",
   "name": "python3"
  },
  "language_info": {
   "codemirror_mode": {
    "name": "ipython",
    "version": 3
   },
   "file_extension": ".py",
   "mimetype": "text/x-python",
   "name": "python",
   "nbconvert_exporter": "python",
   "pygments_lexer": "ipython3",
   "version": "3.10.7"
  }
 },
 "nbformat": 4,
 "nbformat_minor": 5
}
