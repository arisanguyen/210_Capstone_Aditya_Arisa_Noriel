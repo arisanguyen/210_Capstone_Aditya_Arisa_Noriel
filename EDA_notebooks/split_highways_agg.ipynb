{
 "cells": [
  {
   "cell_type": "code",
   "execution_count": 2,
   "id": "55c465d9",
   "metadata": {
    "tags": []
   },
   "outputs": [],
   "source": [
    "import pandas as pd"
   ]
  },
  {
   "cell_type": "code",
   "execution_count": null,
   "id": "b6299c1f",
   "metadata": {
    "tags": []
   },
   "outputs": [],
   "source": [
    "df = pd.read_csv('../Data/Split_highway.csv')"
   ]
  },
  {
   "cell_type": "code",
   "execution_count": null,
   "id": "45944a1a",
   "metadata": {
    "tags": []
   },
   "outputs": [],
   "source": [
    "df.head()"
   ]
  },
  {
   "cell_type": "code",
   "execution_count": null,
   "id": "91434307",
   "metadata": {
    "tags": []
   },
   "outputs": [],
   "source": [
    "df.columns"
   ]
  },
  {
   "cell_type": "code",
   "execution_count": null,
   "id": "65c8af76",
   "metadata": {},
   "outputs": [],
   "source": [
    "df = df.drop(['version', 'id_2'], axis=1)"
   ]
  },
  {
   "cell_type": "code",
   "execution_count": null,
   "id": "2056d288",
   "metadata": {},
   "outputs": [],
   "source": [
    "df['tags'].value_counts()"
   ]
  },
  {
   "cell_type": "code",
   "execution_count": null,
   "id": "1aa3d19d",
   "metadata": {},
   "outputs": [],
   "source": [
    "groups = df.groupby('fid')"
   ]
  },
  {
   "cell_type": "code",
   "execution_count": null,
   "id": "eb20c000",
   "metadata": {},
   "outputs": [],
   "source": [
    "tile_value_count_df = df['fid'].value_counts().sort_values().to_frame().reset_index().rename(columns={'index': 'tile_id','fid':'count'})"
   ]
  },
  {
   "cell_type": "code",
   "execution_count": null,
   "id": "c2b6dbb7",
   "metadata": {},
   "outputs": [],
   "source": [
    "tile_value_count_df[tile_value_count_df['count']==1]['tile_id']"
   ]
  },
  {
   "cell_type": "code",
   "execution_count": null,
   "id": "cf62eeb9",
   "metadata": {},
   "outputs": [],
   "source": [
    "temp_tile_count_one = df[df['fid'].isin(tile_value_count_df[tile_value_count_df['count']==1]['tile_id'])]"
   ]
  },
  {
   "cell_type": "code",
   "execution_count": null,
   "id": "ea748cfa",
   "metadata": {},
   "outputs": [],
   "source": [
    "temp_tile_count_one"
   ]
  },
  {
   "cell_type": "code",
   "execution_count": null,
   "id": "b7b6b828",
   "metadata": {},
   "outputs": [],
   "source": [
    "temp_tile_count_one.columns\n",
    "for col in temp_tile_count_one.columns:\n",
    "    print(f\"{col}: {temp_tile_count_one[col].isnull().values.all()}, \\\n",
    "    {temp_tile_count_one[col].isnull().mean() * 100}\")\n"
   ]
  },
  {
   "cell_type": "code",
   "execution_count": null,
   "id": "d0b46bbb",
   "metadata": {},
   "outputs": [],
   "source": [
    "df"
   ]
  },
  {
   "cell_type": "code",
   "execution_count": null,
   "id": "b8a214df",
   "metadata": {},
   "outputs": [],
   "source": [
    "df[df['fid']==10725]['bicycle'].value_counts()"
   ]
  },
  {
   "cell_type": "code",
   "execution_count": null,
   "id": "47c0725a",
   "metadata": {},
   "outputs": [],
   "source": [
    "df['fid'].value_counts()"
   ]
  },
  {
   "cell_type": "code",
   "execution_count": null,
   "id": "84e3a92c",
   "metadata": {},
   "outputs": [],
   "source": [
    "for col in df.columns:\n",
    "    print(col)\n",
    "    print(df[col].value_counts(dropna=False,normalize=True))\n",
    "    print(\"\\n\\n\\n\")\n",
    "# df['fid'].value_counts()"
   ]
  },
  {
   "cell_type": "markdown",
   "id": "166cee95",
   "metadata": {},
   "source": [
    "## ROAD VECTORS TILED "
   ]
  },
  {
   "cell_type": "code",
   "execution_count": 3,
   "id": "8b58e0ac",
   "metadata": {
    "tags": []
   },
   "outputs": [],
   "source": [
    "df = pd.read_csv('../Data/Road_Vectors_Tiled.csv')\n",
    "df = df.rename(columns={\"id\": \"Tile_ID\"})"
   ]
  },
  {
   "cell_type": "code",
   "execution_count": 4,
   "id": "b3b524f3",
   "metadata": {
    "scrolled": true,
    "tags": []
   },
   "outputs": [
    {
     "name": "stdout",
     "output_type": "stream",
     "text": [
      "M      25271\n",
      "NaN     1193\n",
      "I        423\n",
      "S        357\n",
      "U        286\n",
      "O         11\n",
      "Name: RTTYP, dtype: int64\n"
     ]
    }
   ],
   "source": [
    "df.head()\n",
    "print(df['RTTYP'].value_counts(dropna=False,normalize=False))\n"
   ]
  },
  {
   "cell_type": "code",
   "execution_count": 5,
   "id": "0906430e",
   "metadata": {
    "tags": []
   },
   "outputs": [
    {
     "name": "stdout",
     "output_type": "stream",
     "text": [
      "1193\n"
     ]
    }
   ],
   "source": [
    "import random\n",
    "\n",
    "sampleList = ['M', 'I', 'S', 'U', 'O']\n",
    "\n",
    "randomList = random.choices(\n",
    "sampleList, weights=(1, 0.01673, 0.014126, 0.011317, 0.000435))\n",
    "list_of_randoms = []\n",
    "for x in range(1193):\n",
    "    randomList = random.choices(\n",
    "    sampleList, weights=(1, 0.01673, 0.014126, 0.011317, 0.000435))\n",
    "    list_of_randoms.append(randomList[0])\n",
    "    \n",
    "print(len(list_of_randoms))"
   ]
  },
  {
   "cell_type": "code",
   "execution_count": 6,
   "id": "665b0618",
   "metadata": {
    "scrolled": true,
    "tags": []
   },
   "outputs": [
    {
     "data": {
      "text/plain": [
       "M    26424\n",
       "I      439\n",
       "S      368\n",
       "U      299\n",
       "O       11\n",
       "Name: RTTYP, dtype: int64"
      ]
     },
     "execution_count": 6,
     "metadata": {},
     "output_type": "execute_result"
    }
   ],
   "source": [
    "def mapper(x):\n",
    "    if x in ['M','I','S','U','O']:\n",
    "        return x\n",
    "    else :\n",
    "        return list_of_randoms.pop()\n",
    "df['RTTYP']=df['RTTYP'].apply(mapper)\n",
    "df['RTTYP'].value_counts(dropna=False)"
   ]
  },
  {
   "cell_type": "code",
   "execution_count": null,
   "id": "c29b93bb",
   "metadata": {
    "scrolled": true
   },
   "outputs": [],
   "source": [
    "# count_roadtype_per_tile = df.Tile_ID.value_counts().reset_index().\\\n",
    "#         rename(columns={'Tile_ID':'count','index':'Tile_ID'})\n",
    "\n",
    "# count_roadtype_per_tile[count_roadtype_per_tile['count']>1]"
   ]
  },
  {
   "cell_type": "code",
   "execution_count": 7,
   "id": "d3a3a8df",
   "metadata": {
    "scrolled": true,
    "tags": []
   },
   "outputs": [],
   "source": [
    "def get_frequent(series):\n",
    "    return series.value_counts(ascending=False).to_frame().index[0]\n",
    "\n",
    "tile_to_roadtype_map = df[['Tile_ID','RTTYP']].dropna().groupby('Tile_ID').agg({'RTTYP':[get_frequent]})\n",
    "tile_to_roadtype_map = tile_to_roadtype_map['RTTYP']['get_frequent'].reset_index()"
   ]
  },
  {
   "cell_type": "code",
   "execution_count": 8,
   "id": "3a730f1b",
   "metadata": {
    "tags": []
   },
   "outputs": [
    {
     "data": {
      "text/plain": [
       "M    23\n",
       "U     1\n",
       "I     1\n",
       "Name: RTTYP, dtype: int64"
      ]
     },
     "execution_count": 8,
     "metadata": {},
     "output_type": "execute_result"
    }
   ],
   "source": [
    "# df['Tile_ID'].value_counts()\n",
    "df[df['Tile_ID']==11109]['RTTYP'].value_counts()"
   ]
  },
  {
   "cell_type": "code",
   "execution_count": 9,
   "id": "77771ca3",
   "metadata": {
    "tags": []
   },
   "outputs": [],
   "source": [
    "tile_to_roadtype_map.loc[tile_to_roadtype_map['Tile_ID']==4030]['get_frequent'].values[0]\n",
    "def mapper_val(x):\n",
    "    temp = tile_to_roadtype_map.loc[tile_to_roadtype_map['Tile_ID']==x]['get_frequent'].values\n",
    "    if len(temp)>0:\n",
    "        return temp[0]\n",
    "    return None\n",
    "df['RTTYP']=df['Tile_ID'].apply(mapper_val)"
   ]
  },
  {
   "cell_type": "code",
   "execution_count": 10,
   "id": "c910d6f5",
   "metadata": {
    "tags": []
   },
   "outputs": [
    {
     "data": {
      "text/plain": [
       "M    17\n",
       "Name: RTTYP, dtype: int64"
      ]
     },
     "execution_count": 10,
     "metadata": {},
     "output_type": "execute_result"
    }
   ],
   "source": [
    "# Verifying\n",
    "df[df['Tile_ID']==10777]['RTTYP'].value_counts()\n",
    "# df['Tile_ID'].value_counts()"
   ]
  },
  {
   "cell_type": "code",
   "execution_count": 14,
   "id": "48a9df9c-28ea-48b9-9046-c514b1e1a3ef",
   "metadata": {
    "tags": []
   },
   "outputs": [
    {
     "data": {
      "text/plain": [
       "M    27096\n",
       "I      220\n",
       "S      130\n",
       "U       93\n",
       "O        2\n",
       "Name: RTTYP, dtype: int64"
      ]
     },
     "execution_count": 14,
     "metadata": {},
     "output_type": "execute_result"
    }
   ],
   "source": [
    "df['RTTYP'].value_counts()"
   ]
  },
  {
   "cell_type": "code",
   "execution_count": null,
   "id": "bdf95a89",
   "metadata": {},
   "outputs": [],
   "source": [
    "df_orig = pd.read_csv('../Data/Tiles_expanded.csv')"
   ]
  },
  {
   "cell_type": "code",
   "execution_count": null,
   "id": "ce336a6a",
   "metadata": {},
   "outputs": [],
   "source": [
    "df_orig.columns"
   ]
  },
  {
   "cell_type": "code",
   "execution_count": null,
   "id": "a0487eb0",
   "metadata": {},
   "outputs": [],
   "source": [
    "joined_df = df_orig.join(df,on='Tile_ID',how='inner',lsuffix='_left',rsuffix='_right')"
   ]
  },
  {
   "cell_type": "code",
   "execution_count": null,
   "id": "edbe6457",
   "metadata": {},
   "outputs": [],
   "source": [
    "joined_df.columns"
   ]
  },
  {
   "cell_type": "code",
   "execution_count": null,
   "id": "736dc3da",
   "metadata": {},
   "outputs": [],
   "source": [
    "joined_df = joined_df.drop(['Tile_ID_left','wkt_geom','fid',\n",
    "                'LINEARID','FULLNAME','Tile_ID_right','left','top','right','bottom','MTFCC'],axis=1)"
   ]
  },
  {
   "cell_type": "code",
   "execution_count": null,
   "id": "8afc7500",
   "metadata": {},
   "outputs": [],
   "source": [
    "joined_df['RTTYP'].value_counts(dropna=False)"
   ]
  },
  {
   "cell_type": "code",
   "execution_count": null,
   "id": "c3f27762",
   "metadata": {},
   "outputs": [],
   "source": [
    "joined_df"
   ]
  },
  {
   "cell_type": "code",
   "execution_count": null,
   "id": "9224b14d",
   "metadata": {},
   "outputs": [],
   "source": [
    "!pwd"
   ]
  },
  {
   "cell_type": "code",
   "execution_count": null,
   "id": "e82a97ff",
   "metadata": {},
   "outputs": [],
   "source": [
    "joined_df.to_csv('/Users/abajaj/Documents/UC_Berkeley/GIT/210_Capstone_Aditya_Arisa_Noriel/Data/Tiles_expanded_road_vector.csv')"
   ]
  }
 ],
 "metadata": {
  "kernelspec": {
   "display_name": "Python 3 (ipykernel)",
   "language": "python",
   "name": "python3"
  },
  "language_info": {
   "codemirror_mode": {
    "name": "ipython",
    "version": 3
   },
   "file_extension": ".py",
   "mimetype": "text/x-python",
   "name": "python",
   "nbconvert_exporter": "python",
   "pygments_lexer": "ipython3",
   "version": "3.10.7"
  }
 },
 "nbformat": 4,
 "nbformat_minor": 5
}
