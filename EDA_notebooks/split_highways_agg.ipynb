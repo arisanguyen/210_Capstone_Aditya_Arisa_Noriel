{
 "cells": [
  {
   "cell_type": "code",
   "execution_count": 1,
   "id": "55c465d9",
   "metadata": {},
   "outputs": [],
   "source": [
    "import pandas as pd"
   ]
  },
  {
   "cell_type": "code",
   "execution_count": 2,
   "id": "b6299c1f",
   "metadata": {},
   "outputs": [],
   "source": [
    "df = pd.read_csv('../Data/Split_highway.csv')"
   ]
  },
  {
   "cell_type": "code",
   "execution_count": 3,
   "id": "45944a1a",
   "metadata": {},
   "outputs": [
    {
     "data": {
      "text/html": [
       "<div>\n",
       "<style scoped>\n",
       "    .dataframe tbody tr th:only-of-type {\n",
       "        vertical-align: middle;\n",
       "    }\n",
       "\n",
       "    .dataframe tbody tr th {\n",
       "        vertical-align: top;\n",
       "    }\n",
       "\n",
       "    .dataframe thead th {\n",
       "        text-align: right;\n",
       "    }\n",
       "</style>\n",
       "<table border=\"1\" class=\"dataframe\">\n",
       "  <thead>\n",
       "    <tr style=\"text-align: right;\">\n",
       "      <th></th>\n",
       "      <th>bicycle</th>\n",
       "      <th>bridge</th>\n",
       "      <th>cycleway</th>\n",
       "      <th>footway</th>\n",
       "      <th>highway</th>\n",
       "      <th>lanes</th>\n",
       "      <th>lit</th>\n",
       "      <th>maxspeed</th>\n",
       "      <th>name</th>\n",
       "      <th>oneway</th>\n",
       "      <th>...</th>\n",
       "      <th>id</th>\n",
       "      <th>version</th>\n",
       "      <th>tags</th>\n",
       "      <th>osm_type</th>\n",
       "      <th>fid</th>\n",
       "      <th>id_2</th>\n",
       "      <th>left</th>\n",
       "      <th>top</th>\n",
       "      <th>right</th>\n",
       "      <th>bottom</th>\n",
       "    </tr>\n",
       "  </thead>\n",
       "  <tbody>\n",
       "    <tr>\n",
       "      <th>0</th>\n",
       "      <td>NaN</td>\n",
       "      <td>NaN</td>\n",
       "      <td>NaN</td>\n",
       "      <td>NaN</td>\n",
       "      <td>residential</td>\n",
       "      <td>NaN</td>\n",
       "      <td>NaN</td>\n",
       "      <td>NaN</td>\n",
       "      <td>Macondray Lane</td>\n",
       "      <td>NaN</td>\n",
       "      <td>...</td>\n",
       "      <td>5004035</td>\n",
       "      <td>-1</td>\n",
       "      <td>NaN</td>\n",
       "      <td>way</td>\n",
       "      <td>9789</td>\n",
       "      <td>9789</td>\n",
       "      <td>-122.417536</td>\n",
       "      <td>37.799515</td>\n",
       "      <td>-122.416396</td>\n",
       "      <td>37.798612</td>\n",
       "    </tr>\n",
       "    <tr>\n",
       "      <th>1</th>\n",
       "      <td>no</td>\n",
       "      <td>NaN</td>\n",
       "      <td>NaN</td>\n",
       "      <td>NaN</td>\n",
       "      <td>motorway</td>\n",
       "      <td>5.0</td>\n",
       "      <td>NaN</td>\n",
       "      <td>55 mph</td>\n",
       "      <td>James Lick Freeway</td>\n",
       "      <td>yes</td>\n",
       "      <td>...</td>\n",
       "      <td>5071582</td>\n",
       "      <td>-1</td>\n",
       "      <td>{\"NHS\":\"STRAHNET\",\"hgv\":\"designated\",\"hgv:nati...</td>\n",
       "      <td>way</td>\n",
       "      <td>11603</td>\n",
       "      <td>11603</td>\n",
       "      <td>-122.400434</td>\n",
       "      <td>37.719094</td>\n",
       "      <td>-122.399294</td>\n",
       "      <td>37.718191</td>\n",
       "    </tr>\n",
       "    <tr>\n",
       "      <th>2</th>\n",
       "      <td>no</td>\n",
       "      <td>NaN</td>\n",
       "      <td>NaN</td>\n",
       "      <td>NaN</td>\n",
       "      <td>motorway</td>\n",
       "      <td>5.0</td>\n",
       "      <td>NaN</td>\n",
       "      <td>55 mph</td>\n",
       "      <td>James Lick Freeway</td>\n",
       "      <td>yes</td>\n",
       "      <td>...</td>\n",
       "      <td>5071582</td>\n",
       "      <td>-1</td>\n",
       "      <td>{\"NHS\":\"STRAHNET\",\"hgv\":\"designated\",\"hgv:nati...</td>\n",
       "      <td>way</td>\n",
       "      <td>11718</td>\n",
       "      <td>11718</td>\n",
       "      <td>-122.399294</td>\n",
       "      <td>37.719094</td>\n",
       "      <td>-122.398154</td>\n",
       "      <td>37.718191</td>\n",
       "    </tr>\n",
       "    <tr>\n",
       "      <th>3</th>\n",
       "      <td>no</td>\n",
       "      <td>NaN</td>\n",
       "      <td>NaN</td>\n",
       "      <td>NaN</td>\n",
       "      <td>motorway</td>\n",
       "      <td>5.0</td>\n",
       "      <td>NaN</td>\n",
       "      <td>55 mph</td>\n",
       "      <td>James Lick Freeway</td>\n",
       "      <td>yes</td>\n",
       "      <td>...</td>\n",
       "      <td>5071582</td>\n",
       "      <td>-1</td>\n",
       "      <td>{\"NHS\":\"STRAHNET\",\"hgv\":\"designated\",\"hgv:nati...</td>\n",
       "      <td>way</td>\n",
       "      <td>11719</td>\n",
       "      <td>11719</td>\n",
       "      <td>-122.399294</td>\n",
       "      <td>37.718191</td>\n",
       "      <td>-122.398154</td>\n",
       "      <td>37.717287</td>\n",
       "    </tr>\n",
       "    <tr>\n",
       "      <th>4</th>\n",
       "      <td>no</td>\n",
       "      <td>NaN</td>\n",
       "      <td>NaN</td>\n",
       "      <td>NaN</td>\n",
       "      <td>motorway</td>\n",
       "      <td>5.0</td>\n",
       "      <td>NaN</td>\n",
       "      <td>55 mph</td>\n",
       "      <td>James Lick Freeway</td>\n",
       "      <td>yes</td>\n",
       "      <td>...</td>\n",
       "      <td>5071582</td>\n",
       "      <td>-1</td>\n",
       "      <td>{\"NHS\":\"STRAHNET\",\"hgv\":\"designated\",\"hgv:nati...</td>\n",
       "      <td>way</td>\n",
       "      <td>11720</td>\n",
       "      <td>11720</td>\n",
       "      <td>-122.399294</td>\n",
       "      <td>37.717287</td>\n",
       "      <td>-122.398154</td>\n",
       "      <td>37.716383</td>\n",
       "    </tr>\n",
       "  </tbody>\n",
       "</table>\n",
       "<p>5 rows × 24 columns</p>\n",
       "</div>"
      ],
      "text/plain": [
       "  bicycle bridge cycleway footway      highway  lanes  lit maxspeed  \\\n",
       "0     NaN    NaN      NaN     NaN  residential    NaN  NaN      NaN   \n",
       "1      no    NaN      NaN     NaN     motorway    5.0  NaN   55 mph   \n",
       "2      no    NaN      NaN     NaN     motorway    5.0  NaN   55 mph   \n",
       "3      no    NaN      NaN     NaN     motorway    5.0  NaN   55 mph   \n",
       "4      no    NaN      NaN     NaN     motorway    5.0  NaN   55 mph   \n",
       "\n",
       "                 name oneway  ...       id version  \\\n",
       "0      Macondray Lane    NaN  ...  5004035      -1   \n",
       "1  James Lick Freeway    yes  ...  5071582      -1   \n",
       "2  James Lick Freeway    yes  ...  5071582      -1   \n",
       "3  James Lick Freeway    yes  ...  5071582      -1   \n",
       "4  James Lick Freeway    yes  ...  5071582      -1   \n",
       "\n",
       "                                                tags osm_type    fid   id_2  \\\n",
       "0                                                NaN      way   9789   9789   \n",
       "1  {\"NHS\":\"STRAHNET\",\"hgv\":\"designated\",\"hgv:nati...      way  11603  11603   \n",
       "2  {\"NHS\":\"STRAHNET\",\"hgv\":\"designated\",\"hgv:nati...      way  11718  11718   \n",
       "3  {\"NHS\":\"STRAHNET\",\"hgv\":\"designated\",\"hgv:nati...      way  11719  11719   \n",
       "4  {\"NHS\":\"STRAHNET\",\"hgv\":\"designated\",\"hgv:nati...      way  11720  11720   \n",
       "\n",
       "         left        top       right     bottom  \n",
       "0 -122.417536  37.799515 -122.416396  37.798612  \n",
       "1 -122.400434  37.719094 -122.399294  37.718191  \n",
       "2 -122.399294  37.719094 -122.398154  37.718191  \n",
       "3 -122.399294  37.718191 -122.398154  37.717287  \n",
       "4 -122.399294  37.717287 -122.398154  37.716383  \n",
       "\n",
       "[5 rows x 24 columns]"
      ]
     },
     "execution_count": 3,
     "metadata": {},
     "output_type": "execute_result"
    }
   ],
   "source": [
    "df.head()"
   ]
  },
  {
   "cell_type": "code",
   "execution_count": 4,
   "id": "91434307",
   "metadata": {},
   "outputs": [
    {
     "data": {
      "text/plain": [
       "Index(['bicycle', 'bridge', 'cycleway', 'footway', 'highway', 'lanes', 'lit',\n",
       "       'maxspeed', 'name', 'oneway', 'ref', 'service', 'sidewalk', 'surface',\n",
       "       'id', 'version', 'tags', 'osm_type', 'fid', 'id_2', 'left', 'top',\n",
       "       'right', 'bottom'],\n",
       "      dtype='object')"
      ]
     },
     "execution_count": 4,
     "metadata": {},
     "output_type": "execute_result"
    }
   ],
   "source": [
    "df.columns"
   ]
  },
  {
   "cell_type": "code",
   "execution_count": null,
   "id": "65c8af76",
   "metadata": {},
   "outputs": [],
   "source": [
    "df = df.drop(['version', 'id_2'], axis=1)"
   ]
  },
  {
   "cell_type": "code",
   "execution_count": null,
   "id": "2056d288",
   "metadata": {},
   "outputs": [],
   "source": [
    "df['tags'].value_counts()"
   ]
  },
  {
   "cell_type": "code",
   "execution_count": null,
   "id": "1aa3d19d",
   "metadata": {
    "scrolled": false
   },
   "outputs": [],
   "source": [
    "groups = df.groupby('fid')"
   ]
  },
  {
   "cell_type": "code",
   "execution_count": null,
   "id": "eb20c000",
   "metadata": {},
   "outputs": [],
   "source": [
    "tile_value_count_df = df['fid'].value_counts().sort_values().to_frame().reset_index().rename(columns={'index': 'tile_id','fid':'count'})"
   ]
  },
  {
   "cell_type": "code",
   "execution_count": null,
   "id": "c2b6dbb7",
   "metadata": {},
   "outputs": [],
   "source": [
    "tile_value_count_df[tile_value_count_df['count']==1]['tile_id']"
   ]
  },
  {
   "cell_type": "code",
   "execution_count": null,
   "id": "cf62eeb9",
   "metadata": {},
   "outputs": [],
   "source": [
    "temp_tile_count_one = df[df['fid'].isin(tile_value_count_df[tile_value_count_df['count']==1]['tile_id'])]"
   ]
  },
  {
   "cell_type": "code",
   "execution_count": null,
   "id": "ea748cfa",
   "metadata": {},
   "outputs": [],
   "source": [
    "temp_tile_count_one"
   ]
  },
  {
   "cell_type": "code",
   "execution_count": null,
   "id": "b7b6b828",
   "metadata": {},
   "outputs": [],
   "source": [
    "temp_tile_count_one.columns\n",
    "for col in temp_tile_count_one.columns:\n",
    "    print(f\"{col}: {temp_tile_count_one[col].isnull().values.all()}, \\\n",
    "    {temp_tile_count_one[col].isnull().mean() * 100}\")\n"
   ]
  },
  {
   "cell_type": "code",
   "execution_count": null,
   "id": "d0b46bbb",
   "metadata": {},
   "outputs": [],
   "source": [
    "df"
   ]
  },
  {
   "cell_type": "code",
   "execution_count": null,
   "id": "b8a214df",
   "metadata": {},
   "outputs": [],
   "source": [
    "df[df['fid']==10725]['bicycle'].value_counts()"
   ]
  },
  {
   "cell_type": "code",
   "execution_count": null,
   "id": "47c0725a",
   "metadata": {},
   "outputs": [],
   "source": [
    "df['fid'].value_counts()"
   ]
  },
  {
   "cell_type": "code",
   "execution_count": null,
   "id": "84e3a92c",
   "metadata": {
    "scrolled": false
   },
   "outputs": [],
   "source": [
    "for col in df.columns:\n",
    "    print(col)\n",
    "    print(df[col].value_counts(dropna=False,normalize=True))\n",
    "    print(\"\\n\\n\\n\")\n",
    "# df['fid'].value_counts()"
   ]
  },
  {
   "cell_type": "markdown",
   "id": "166cee95",
   "metadata": {},
   "source": [
    "## ROAD VECTORS TILED "
   ]
  },
  {
   "cell_type": "code",
   "execution_count": 239,
   "id": "8b58e0ac",
   "metadata": {},
   "outputs": [],
   "source": [
    "df = pd.read_csv('../Data/Road_Vectors_Tiled.csv')\n",
    "df = df.rename(columns={\"id\": \"Tile_ID\"})"
   ]
  },
  {
   "cell_type": "code",
   "execution_count": 240,
   "id": "b3b524f3",
   "metadata": {
    "scrolled": true
   },
   "outputs": [
    {
     "name": "stdout",
     "output_type": "stream",
     "text": [
      "M      25271\n",
      "NaN     1193\n",
      "I        423\n",
      "S        357\n",
      "U        286\n",
      "O         11\n",
      "Name: RTTYP, dtype: int64\n"
     ]
    }
   ],
   "source": [
    "df.head()\n",
    "print(df['RTTYP'].value_counts(dropna=False,normalize=False))\n"
   ]
  },
  {
   "cell_type": "code",
   "execution_count": 241,
   "id": "0906430e",
   "metadata": {},
   "outputs": [
    {
     "name": "stdout",
     "output_type": "stream",
     "text": [
      "1193\n"
     ]
    }
   ],
   "source": [
    "import random\n",
    "\n",
    "sampleList = ['M', 'I', 'S', 'U', 'O']\n",
    "\n",
    "randomList = random.choices(\n",
    "sampleList, weights=(1, 0.01673, 0.014126, 0.011317, 0.000435))\n",
    "list_of_randoms = []\n",
    "for x in range(1193):\n",
    "    randomList = random.choices(\n",
    "    sampleList, weights=(1, 0.01673, 0.014126, 0.011317, 0.000435))\n",
    "    list_of_randoms.append(randomList[0])\n",
    "    \n",
    "print(len(list_of_randoms))"
   ]
  },
  {
   "cell_type": "code",
   "execution_count": 242,
   "id": "665b0618",
   "metadata": {
    "scrolled": true
   },
   "outputs": [
    {
     "data": {
      "text/plain": [
       "M    26412\n",
       "I      441\n",
       "S      376\n",
       "U      301\n",
       "O       11\n",
       "Name: RTTYP, dtype: int64"
      ]
     },
     "execution_count": 242,
     "metadata": {},
     "output_type": "execute_result"
    }
   ],
   "source": [
    "def mapper(x):\n",
    "    if x in ['M','I','S','U','O']:\n",
    "        return x\n",
    "    else :\n",
    "        return list_of_randoms.pop()\n",
    "df['RTTYP']=df['RTTYP'].apply(mapper)\n",
    "df['RTTYP'].value_counts(dropna=False)"
   ]
  },
  {
   "cell_type": "code",
   "execution_count": 243,
   "id": "c29b93bb",
   "metadata": {
    "scrolled": true
   },
   "outputs": [],
   "source": [
    "# count_roadtype_per_tile = df.Tile_ID.value_counts().reset_index().\\\n",
    "#         rename(columns={'Tile_ID':'count','index':'Tile_ID'})\n",
    "\n",
    "# count_roadtype_per_tile[count_roadtype_per_tile['count']>1]"
   ]
  },
  {
   "cell_type": "code",
   "execution_count": 244,
   "id": "d3a3a8df",
   "metadata": {
    "scrolled": true
   },
   "outputs": [],
   "source": [
    "def get_frequent(series):\n",
    "    return series.value_counts(ascending=False).to_frame().index[0]\n",
    "\n",
    "tile_to_roadtype_map = df[['Tile_ID','RTTYP']].dropna().groupby('Tile_ID').agg({'RTTYP':[get_frequent]})\n",
    "tile_to_roadtype_map = tile_to_roadtype_map['RTTYP']['get_frequent'].reset_index()"
   ]
  },
  {
   "cell_type": "code",
   "execution_count": 245,
   "id": "3a730f1b",
   "metadata": {},
   "outputs": [
    {
     "data": {
      "text/plain": [
       "M    22\n",
       "U     2\n",
       "S     1\n",
       "Name: RTTYP, dtype: int64"
      ]
     },
     "execution_count": 245,
     "metadata": {},
     "output_type": "execute_result"
    }
   ],
   "source": [
    "# df['Tile_ID'].value_counts()\n",
    "df[df['Tile_ID']==11109]['RTTYP'].value_counts()"
   ]
  },
  {
   "cell_type": "code",
   "execution_count": 246,
   "id": "77771ca3",
   "metadata": {},
   "outputs": [],
   "source": [
    "tile_to_roadtype_map.loc[tile_to_roadtype_map['Tile_ID']==4030]['get_frequent'].values[0]\n",
    "def mapper_val(x):\n",
    "    temp = tile_to_roadtype_map.loc[tile_to_roadtype_map['Tile_ID']==x]['get_frequent'].values\n",
    "    if len(temp)>0:\n",
    "        return temp[0]\n",
    "    return None\n",
    "df['RTTYP']=df['Tile_ID'].apply(mapper_val)"
   ]
  },
  {
   "cell_type": "code",
   "execution_count": 247,
   "id": "c910d6f5",
   "metadata": {},
   "outputs": [
    {
     "data": {
      "text/plain": [
       "M    17\n",
       "Name: RTTYP, dtype: int64"
      ]
     },
     "execution_count": 247,
     "metadata": {},
     "output_type": "execute_result"
    }
   ],
   "source": [
    "# Verifying\n",
    "df[df['Tile_ID']==10777]['RTTYP'].value_counts()\n",
    "# df['Tile_ID'].value_counts()"
   ]
  },
  {
   "cell_type": "code",
   "execution_count": 248,
   "id": "bdf95a89",
   "metadata": {},
   "outputs": [],
   "source": [
    "df_orig = pd.read_csv('../Data/Tiles_expanded.csv')"
   ]
  },
  {
   "cell_type": "code",
   "execution_count": 249,
   "id": "ce336a6a",
   "metadata": {},
   "outputs": [
    {
     "data": {
      "text/plain": [
       "Index(['Tile_ID', 'Long2', 'Lat2', 'Long1', 'Lat1', 'Mid_lat', 'Mid_long',\n",
       "       'Stop_Signs', 'Paving_historical', 'Paving_future', 'Bus_stop',\n",
       "       'Collisions_Future', 'Collisions_Historical'],\n",
       "      dtype='object')"
      ]
     },
     "execution_count": 249,
     "metadata": {},
     "output_type": "execute_result"
    }
   ],
   "source": [
    "df_orig.columns"
   ]
  },
  {
   "cell_type": "code",
   "execution_count": 250,
   "id": "a0487eb0",
   "metadata": {},
   "outputs": [],
   "source": [
    "joined_df = df_orig.join(df,on='Tile_ID',how='inner',lsuffix='_left',rsuffix='_right')"
   ]
  },
  {
   "cell_type": "code",
   "execution_count": 251,
   "id": "edbe6457",
   "metadata": {},
   "outputs": [
    {
     "data": {
      "text/plain": [
       "Index(['Tile_ID', 'Tile_ID_left', 'Long2', 'Lat2', 'Long1', 'Lat1', 'Mid_lat',\n",
       "       'Mid_long', 'Stop_Signs', 'Paving_historical', 'Paving_future',\n",
       "       'Bus_stop', 'Collisions_Future', 'Collisions_Historical', 'wkt_geom',\n",
       "       'fid', 'LINEARID', 'FULLNAME', 'RTTYP', 'MTFCC', 'Tile_ID_right',\n",
       "       'left', 'top', 'right', 'bottom'],\n",
       "      dtype='object')"
      ]
     },
     "execution_count": 251,
     "metadata": {},
     "output_type": "execute_result"
    }
   ],
   "source": [
    "joined_df.columns"
   ]
  },
  {
   "cell_type": "code",
   "execution_count": 252,
   "id": "736dc3da",
   "metadata": {},
   "outputs": [],
   "source": [
    "joined_df = joined_df.drop(['Tile_ID_left','wkt_geom','fid',\n",
    "                'LINEARID','FULLNAME','Tile_ID_right','left','top','right','bottom','MTFCC'],axis=1)"
   ]
  },
  {
   "cell_type": "code",
   "execution_count": 253,
   "id": "8afc7500",
   "metadata": {},
   "outputs": [
    {
     "data": {
      "text/plain": [
       "M    10290\n",
       "I       82\n",
       "S       51\n",
       "U       47\n",
       "O        1\n",
       "Name: RTTYP, dtype: int64"
      ]
     },
     "execution_count": 253,
     "metadata": {},
     "output_type": "execute_result"
    }
   ],
   "source": [
    "joined_df['RTTYP'].value_counts(dropna=False)"
   ]
  },
  {
   "cell_type": "code",
   "execution_count": 254,
   "id": "c3f27762",
   "metadata": {},
   "outputs": [
    {
     "data": {
      "text/html": [
       "<div>\n",
       "<style scoped>\n",
       "    .dataframe tbody tr th:only-of-type {\n",
       "        vertical-align: middle;\n",
       "    }\n",
       "\n",
       "    .dataframe tbody tr th {\n",
       "        vertical-align: top;\n",
       "    }\n",
       "\n",
       "    .dataframe thead th {\n",
       "        text-align: right;\n",
       "    }\n",
       "</style>\n",
       "<table border=\"1\" class=\"dataframe\">\n",
       "  <thead>\n",
       "    <tr style=\"text-align: right;\">\n",
       "      <th></th>\n",
       "      <th>Tile_ID</th>\n",
       "      <th>Long2</th>\n",
       "      <th>Lat2</th>\n",
       "      <th>Long1</th>\n",
       "      <th>Lat1</th>\n",
       "      <th>Mid_lat</th>\n",
       "      <th>Mid_long</th>\n",
       "      <th>Stop_Signs</th>\n",
       "      <th>Paving_historical</th>\n",
       "      <th>Paving_future</th>\n",
       "      <th>Bus_stop</th>\n",
       "      <th>Collisions_Future</th>\n",
       "      <th>Collisions_Historical</th>\n",
       "      <th>RTTYP</th>\n",
       "    </tr>\n",
       "  </thead>\n",
       "  <tbody>\n",
       "    <tr>\n",
       "      <th>0</th>\n",
       "      <td>36</td>\n",
       "      <td>-122.514446</td>\n",
       "      <td>37.779636</td>\n",
       "      <td>-122.513306</td>\n",
       "      <td>37.778732</td>\n",
       "      <td>37.779184</td>\n",
       "      <td>-122.513876</td>\n",
       "      <td>0.0</td>\n",
       "      <td>0.0</td>\n",
       "      <td>0.0</td>\n",
       "      <td>0.0</td>\n",
       "      <td>0.0</td>\n",
       "      <td>0.0</td>\n",
       "      <td>M</td>\n",
       "    </tr>\n",
       "    <tr>\n",
       "      <th>1</th>\n",
       "      <td>37</td>\n",
       "      <td>-122.514446</td>\n",
       "      <td>37.778732</td>\n",
       "      <td>-122.513306</td>\n",
       "      <td>37.777829</td>\n",
       "      <td>37.778280</td>\n",
       "      <td>-122.513876</td>\n",
       "      <td>0.0</td>\n",
       "      <td>0.0</td>\n",
       "      <td>0.0</td>\n",
       "      <td>0.0</td>\n",
       "      <td>0.0</td>\n",
       "      <td>0.0</td>\n",
       "      <td>M</td>\n",
       "    </tr>\n",
       "    <tr>\n",
       "      <th>2</th>\n",
       "      <td>151</td>\n",
       "      <td>-122.513306</td>\n",
       "      <td>37.779636</td>\n",
       "      <td>-122.512166</td>\n",
       "      <td>37.778732</td>\n",
       "      <td>37.779184</td>\n",
       "      <td>-122.512736</td>\n",
       "      <td>0.0</td>\n",
       "      <td>0.0</td>\n",
       "      <td>0.0</td>\n",
       "      <td>0.0</td>\n",
       "      <td>0.0</td>\n",
       "      <td>0.0</td>\n",
       "      <td>M</td>\n",
       "    </tr>\n",
       "    <tr>\n",
       "      <th>3</th>\n",
       "      <td>152</td>\n",
       "      <td>-122.513306</td>\n",
       "      <td>37.778732</td>\n",
       "      <td>-122.512166</td>\n",
       "      <td>37.777829</td>\n",
       "      <td>37.778280</td>\n",
       "      <td>-122.512736</td>\n",
       "      <td>0.0</td>\n",
       "      <td>0.0</td>\n",
       "      <td>0.0</td>\n",
       "      <td>0.0</td>\n",
       "      <td>0.0</td>\n",
       "      <td>0.0</td>\n",
       "      <td>M</td>\n",
       "    </tr>\n",
       "    <tr>\n",
       "      <th>4</th>\n",
       "      <td>153</td>\n",
       "      <td>-122.513306</td>\n",
       "      <td>37.777829</td>\n",
       "      <td>-122.512166</td>\n",
       "      <td>37.776925</td>\n",
       "      <td>37.777377</td>\n",
       "      <td>-122.512736</td>\n",
       "      <td>0.0</td>\n",
       "      <td>0.0</td>\n",
       "      <td>0.0</td>\n",
       "      <td>0.0</td>\n",
       "      <td>0.0</td>\n",
       "      <td>0.0</td>\n",
       "      <td>M</td>\n",
       "    </tr>\n",
       "    <tr>\n",
       "      <th>...</th>\n",
       "      <td>...</td>\n",
       "      <td>...</td>\n",
       "      <td>...</td>\n",
       "      <td>...</td>\n",
       "      <td>...</td>\n",
       "      <td>...</td>\n",
       "      <td>...</td>\n",
       "      <td>...</td>\n",
       "      <td>...</td>\n",
       "      <td>...</td>\n",
       "      <td>...</td>\n",
       "      <td>...</td>\n",
       "      <td>...</td>\n",
       "      <td>...</td>\n",
       "    </tr>\n",
       "    <tr>\n",
       "      <th>10466</th>\n",
       "      <td>15733</td>\n",
       "      <td>-122.359390</td>\n",
       "      <td>37.728130</td>\n",
       "      <td>-122.358250</td>\n",
       "      <td>37.727227</td>\n",
       "      <td>37.727679</td>\n",
       "      <td>-122.358820</td>\n",
       "      <td>0.0</td>\n",
       "      <td>0.0</td>\n",
       "      <td>0.0</td>\n",
       "      <td>0.0</td>\n",
       "      <td>0.0</td>\n",
       "      <td>0.0</td>\n",
       "      <td>M</td>\n",
       "    </tr>\n",
       "    <tr>\n",
       "      <th>10467</th>\n",
       "      <td>15734</td>\n",
       "      <td>-122.359390</td>\n",
       "      <td>37.727227</td>\n",
       "      <td>-122.358250</td>\n",
       "      <td>37.726323</td>\n",
       "      <td>37.726775</td>\n",
       "      <td>-122.358820</td>\n",
       "      <td>0.0</td>\n",
       "      <td>0.0</td>\n",
       "      <td>0.0</td>\n",
       "      <td>0.0</td>\n",
       "      <td>0.0</td>\n",
       "      <td>0.0</td>\n",
       "      <td>M</td>\n",
       "    </tr>\n",
       "    <tr>\n",
       "      <th>10468</th>\n",
       "      <td>15735</td>\n",
       "      <td>-122.359390</td>\n",
       "      <td>37.726323</td>\n",
       "      <td>-122.358250</td>\n",
       "      <td>37.725420</td>\n",
       "      <td>37.725871</td>\n",
       "      <td>-122.358820</td>\n",
       "      <td>0.0</td>\n",
       "      <td>0.0</td>\n",
       "      <td>0.0</td>\n",
       "      <td>0.0</td>\n",
       "      <td>0.0</td>\n",
       "      <td>0.0</td>\n",
       "      <td>M</td>\n",
       "    </tr>\n",
       "    <tr>\n",
       "      <th>10469</th>\n",
       "      <td>15848</td>\n",
       "      <td>-122.358250</td>\n",
       "      <td>37.728130</td>\n",
       "      <td>-122.357110</td>\n",
       "      <td>37.727227</td>\n",
       "      <td>37.727679</td>\n",
       "      <td>-122.357680</td>\n",
       "      <td>0.0</td>\n",
       "      <td>0.0</td>\n",
       "      <td>0.0</td>\n",
       "      <td>0.0</td>\n",
       "      <td>0.0</td>\n",
       "      <td>0.0</td>\n",
       "      <td>M</td>\n",
       "    </tr>\n",
       "    <tr>\n",
       "      <th>10470</th>\n",
       "      <td>15849</td>\n",
       "      <td>-122.358250</td>\n",
       "      <td>37.727227</td>\n",
       "      <td>-122.357110</td>\n",
       "      <td>37.726323</td>\n",
       "      <td>37.726775</td>\n",
       "      <td>-122.357680</td>\n",
       "      <td>0.0</td>\n",
       "      <td>0.0</td>\n",
       "      <td>0.0</td>\n",
       "      <td>0.0</td>\n",
       "      <td>0.0</td>\n",
       "      <td>0.0</td>\n",
       "      <td>M</td>\n",
       "    </tr>\n",
       "  </tbody>\n",
       "</table>\n",
       "<p>10471 rows × 14 columns</p>\n",
       "</div>"
      ],
      "text/plain": [
       "       Tile_ID       Long2       Lat2       Long1       Lat1    Mid_lat  \\\n",
       "0           36 -122.514446  37.779636 -122.513306  37.778732  37.779184   \n",
       "1           37 -122.514446  37.778732 -122.513306  37.777829  37.778280   \n",
       "2          151 -122.513306  37.779636 -122.512166  37.778732  37.779184   \n",
       "3          152 -122.513306  37.778732 -122.512166  37.777829  37.778280   \n",
       "4          153 -122.513306  37.777829 -122.512166  37.776925  37.777377   \n",
       "...        ...         ...        ...         ...        ...        ...   \n",
       "10466    15733 -122.359390  37.728130 -122.358250  37.727227  37.727679   \n",
       "10467    15734 -122.359390  37.727227 -122.358250  37.726323  37.726775   \n",
       "10468    15735 -122.359390  37.726323 -122.358250  37.725420  37.725871   \n",
       "10469    15848 -122.358250  37.728130 -122.357110  37.727227  37.727679   \n",
       "10470    15849 -122.358250  37.727227 -122.357110  37.726323  37.726775   \n",
       "\n",
       "         Mid_long  Stop_Signs  Paving_historical  Paving_future  Bus_stop  \\\n",
       "0     -122.513876         0.0                0.0            0.0       0.0   \n",
       "1     -122.513876         0.0                0.0            0.0       0.0   \n",
       "2     -122.512736         0.0                0.0            0.0       0.0   \n",
       "3     -122.512736         0.0                0.0            0.0       0.0   \n",
       "4     -122.512736         0.0                0.0            0.0       0.0   \n",
       "...           ...         ...                ...            ...       ...   \n",
       "10466 -122.358820         0.0                0.0            0.0       0.0   \n",
       "10467 -122.358820         0.0                0.0            0.0       0.0   \n",
       "10468 -122.358820         0.0                0.0            0.0       0.0   \n",
       "10469 -122.357680         0.0                0.0            0.0       0.0   \n",
       "10470 -122.357680         0.0                0.0            0.0       0.0   \n",
       "\n",
       "       Collisions_Future  Collisions_Historical RTTYP  \n",
       "0                    0.0                    0.0     M  \n",
       "1                    0.0                    0.0     M  \n",
       "2                    0.0                    0.0     M  \n",
       "3                    0.0                    0.0     M  \n",
       "4                    0.0                    0.0     M  \n",
       "...                  ...                    ...   ...  \n",
       "10466                0.0                    0.0     M  \n",
       "10467                0.0                    0.0     M  \n",
       "10468                0.0                    0.0     M  \n",
       "10469                0.0                    0.0     M  \n",
       "10470                0.0                    0.0     M  \n",
       "\n",
       "[10471 rows x 14 columns]"
      ]
     },
     "execution_count": 254,
     "metadata": {},
     "output_type": "execute_result"
    }
   ],
   "source": [
    "joined_df"
   ]
  },
  {
   "cell_type": "code",
   "execution_count": 255,
   "id": "9224b14d",
   "metadata": {},
   "outputs": [
    {
     "name": "stdout",
     "output_type": "stream",
     "text": [
      "/Users/abajaj/Documents/UC_Berkeley/GIT/210_Capstone_Aditya_Arisa_Noriel/EDA_notebooks\r\n"
     ]
    }
   ],
   "source": [
    "!pwd"
   ]
  },
  {
   "cell_type": "code",
   "execution_count": 256,
   "id": "e82a97ff",
   "metadata": {},
   "outputs": [],
   "source": [
    "joined_df.to_csv('/Users/abajaj/Documents/UC_Berkeley/GIT/210_Capstone_Aditya_Arisa_Noriel/Data/Tiles_expanded_road_vector.csv')"
   ]
  }
 ],
 "metadata": {
  "kernelspec": {
   "display_name": "Python 3 (ipykernel)",
   "language": "python",
   "name": "python3"
  },
  "language_info": {
   "codemirror_mode": {
    "name": "ipython",
    "version": 3
   },
   "file_extension": ".py",
   "mimetype": "text/x-python",
   "name": "python",
   "nbconvert_exporter": "python",
   "pygments_lexer": "ipython3",
   "version": "3.10.9"
  }
 },
 "nbformat": 4,
 "nbformat_minor": 5
}
