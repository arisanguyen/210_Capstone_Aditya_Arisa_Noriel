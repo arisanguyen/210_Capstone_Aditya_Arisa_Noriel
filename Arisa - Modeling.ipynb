{
 "cells": [
  {
   "cell_type": "code",
   "execution_count": 1,
   "id": "356025b8",
   "metadata": {},
   "outputs": [],
   "source": [
    "import numpy as np\n",
    "import pandas as pd\n",
    "import requests\n",
    "import json\n",
    "#from scipy import stats as st"
   ]
  },
  {
   "cell_type": "code",
   "execution_count": 2,
   "id": "f3693092",
   "metadata": {},
   "outputs": [],
   "source": [
    "tiles = pd.read_csv(r'.\\Data\\Tiles_expanded.csv')"
   ]
  },
  {
   "cell_type": "code",
   "execution_count": 7,
   "id": "c713d7a6",
   "metadata": {},
   "outputs": [
    {
     "data": {
      "text/html": [
       "<div>\n",
       "<style scoped>\n",
       "    .dataframe tbody tr th:only-of-type {\n",
       "        vertical-align: middle;\n",
       "    }\n",
       "\n",
       "    .dataframe tbody tr th {\n",
       "        vertical-align: top;\n",
       "    }\n",
       "\n",
       "    .dataframe thead th {\n",
       "        text-align: right;\n",
       "    }\n",
       "</style>\n",
       "<table border=\"1\" class=\"dataframe\">\n",
       "  <thead>\n",
       "    <tr style=\"text-align: right;\">\n",
       "      <th></th>\n",
       "      <th>Unnamed: 0.1</th>\n",
       "      <th>Unnamed: 0</th>\n",
       "      <th>Tile_ID</th>\n",
       "      <th>Lat1</th>\n",
       "      <th>Lat2</th>\n",
       "      <th>Long1</th>\n",
       "      <th>Long2</th>\n",
       "      <th>Mid_lat</th>\n",
       "      <th>Mid_long</th>\n",
       "      <th>Stop_Signs</th>\n",
       "      <th>Paving</th>\n",
       "      <th>Future</th>\n",
       "      <th>Historical</th>\n",
       "    </tr>\n",
       "  </thead>\n",
       "  <tbody>\n",
       "    <tr>\n",
       "      <th>0</th>\n",
       "      <td>0</td>\n",
       "      <td>0</td>\n",
       "      <td>0</td>\n",
       "      <td>37.708251</td>\n",
       "      <td>37.709155</td>\n",
       "      <td>-122.391313</td>\n",
       "      <td>-122.392454</td>\n",
       "      <td>37.708703</td>\n",
       "      <td>-122.391884</td>\n",
       "      <td>0.0</td>\n",
       "      <td>0.0</td>\n",
       "      <td>0.0</td>\n",
       "      <td>0.0</td>\n",
       "    </tr>\n",
       "    <tr>\n",
       "      <th>1</th>\n",
       "      <td>1</td>\n",
       "      <td>1</td>\n",
       "      <td>1</td>\n",
       "      <td>37.708251</td>\n",
       "      <td>37.709155</td>\n",
       "      <td>-122.392454</td>\n",
       "      <td>-122.393594</td>\n",
       "      <td>37.708703</td>\n",
       "      <td>-122.393024</td>\n",
       "      <td>3.0</td>\n",
       "      <td>0.0</td>\n",
       "      <td>0.0</td>\n",
       "      <td>0.0</td>\n",
       "    </tr>\n",
       "    <tr>\n",
       "      <th>2</th>\n",
       "      <td>2</td>\n",
       "      <td>2</td>\n",
       "      <td>2</td>\n",
       "      <td>37.708251</td>\n",
       "      <td>37.709155</td>\n",
       "      <td>-122.393594</td>\n",
       "      <td>-122.394734</td>\n",
       "      <td>37.708703</td>\n",
       "      <td>-122.394164</td>\n",
       "      <td>1.0</td>\n",
       "      <td>0.0</td>\n",
       "      <td>0.0</td>\n",
       "      <td>0.0</td>\n",
       "    </tr>\n",
       "    <tr>\n",
       "      <th>3</th>\n",
       "      <td>3</td>\n",
       "      <td>3</td>\n",
       "      <td>3</td>\n",
       "      <td>37.708251</td>\n",
       "      <td>37.709155</td>\n",
       "      <td>-122.394734</td>\n",
       "      <td>-122.395874</td>\n",
       "      <td>37.708703</td>\n",
       "      <td>-122.395304</td>\n",
       "      <td>0.0</td>\n",
       "      <td>0.0</td>\n",
       "      <td>0.0</td>\n",
       "      <td>0.0</td>\n",
       "    </tr>\n",
       "    <tr>\n",
       "      <th>4</th>\n",
       "      <td>4</td>\n",
       "      <td>4</td>\n",
       "      <td>4</td>\n",
       "      <td>37.708251</td>\n",
       "      <td>37.709155</td>\n",
       "      <td>-122.395874</td>\n",
       "      <td>-122.397014</td>\n",
       "      <td>37.708703</td>\n",
       "      <td>-122.396444</td>\n",
       "      <td>0.0</td>\n",
       "      <td>0.0</td>\n",
       "      <td>0.0</td>\n",
       "      <td>0.0</td>\n",
       "    </tr>\n",
       "  </tbody>\n",
       "</table>\n",
       "</div>"
      ],
      "text/plain": [
       "   Unnamed: 0.1  Unnamed: 0  Tile_ID       Lat1       Lat2       Long1  \\\n",
       "0             0           0        0  37.708251  37.709155 -122.391313   \n",
       "1             1           1        1  37.708251  37.709155 -122.392454   \n",
       "2             2           2        2  37.708251  37.709155 -122.393594   \n",
       "3             3           3        3  37.708251  37.709155 -122.394734   \n",
       "4             4           4        4  37.708251  37.709155 -122.395874   \n",
       "\n",
       "        Long2    Mid_lat    Mid_long  Stop_Signs  Paving  Future  Historical  \n",
       "0 -122.392454  37.708703 -122.391884         0.0     0.0     0.0         0.0  \n",
       "1 -122.393594  37.708703 -122.393024         3.0     0.0     0.0         0.0  \n",
       "2 -122.394734  37.708703 -122.394164         1.0     0.0     0.0         0.0  \n",
       "3 -122.395874  37.708703 -122.395304         0.0     0.0     0.0         0.0  \n",
       "4 -122.397014  37.708703 -122.396444         0.0     0.0     0.0         0.0  "
      ]
     },
     "execution_count": 7,
     "metadata": {},
     "output_type": "execute_result"
    }
   ],
   "source": [
    "tiles.head(5)"
   ]
  },
  {
   "cell_type": "markdown",
   "id": "c3a6b82c",
   "metadata": {},
   "source": [
    "Split into training and test"
   ]
  },
  {
   "cell_type": "code",
   "execution_count": 3,
   "id": "0d50fdd4",
   "metadata": {},
   "outputs": [],
   "source": [
    "from sklearn.model_selection import train_test_split\n",
    "import scipy\n",
    "\n",
    "x_train, x_test, y_train, y_test = train_test_split(tiles[['Historical', 'Mid_lat','Mid_long', 'Stop_Signs', 'Paving']], \n",
    "                                   tiles['Future'],\n",
    "                                   random_state=104, \n",
    "                                   test_size=0.20, \n",
    "                                   shuffle=True)"
   ]
  },
  {
   "cell_type": "markdown",
   "id": "fffe2d02",
   "metadata": {},
   "source": [
    "Train model"
   ]
  },
  {
   "cell_type": "code",
   "execution_count": 13,
   "id": "8af0c2c2",
   "metadata": {},
   "outputs": [
    {
     "name": "stdout",
     "output_type": "stream",
     "text": [
      "Model: \"linear_model\"\n",
      "_________________________________________________________________\n",
      " Layer (type)                Output Shape              Param #   \n",
      "=================================================================\n",
      " input_7 (InputLayer)        [(None, 5)]               0         \n",
      "                                                                 \n",
      " dense_6 (Dense)             (None, 1)                 6         \n",
      "                                                                 \n",
      "=================================================================\n",
      "Total params: 6\n",
      "Trainable params: 6\n",
      "Non-trainable params: 0\n",
      "_________________________________________________________________\n",
      "Epoch 1/20\n",
      "245/245 [==============================] - 2s 5ms/step - loss: 61.3525 - val_loss: 41.3083\n",
      "Epoch 2/20\n",
      "245/245 [==============================] - 1s 4ms/step - loss: 21.5459 - val_loss: 2.9421\n",
      "Epoch 3/20\n",
      "245/245 [==============================] - 1s 3ms/step - loss: 1.4974 - val_loss: 1.3136\n",
      "Epoch 4/20\n",
      "245/245 [==============================] - 1s 3ms/step - loss: 1.1562 - val_loss: 1.0517\n",
      "Epoch 5/20\n",
      "245/245 [==============================] - 1s 3ms/step - loss: 0.9069 - val_loss: 0.8063\n",
      "Epoch 6/20\n",
      "245/245 [==============================] - 1s 3ms/step - loss: 0.6837 - val_loss: 0.6070\n",
      "Epoch 7/20\n",
      "245/245 [==============================] - 1s 3ms/step - loss: 0.5102 - val_loss: 0.4574\n",
      "Epoch 8/20\n",
      "245/245 [==============================] - 1s 3ms/step - loss: 0.4117 - val_loss: 0.4056\n",
      "Epoch 9/20\n",
      "245/245 [==============================] - 1s 3ms/step - loss: 0.3759 - val_loss: 0.3823\n",
      "Epoch 10/20\n",
      "245/245 [==============================] - 1s 3ms/step - loss: 0.3733 - val_loss: 0.3811\n",
      "Epoch 11/20\n",
      "245/245 [==============================] - 1s 4ms/step - loss: 0.3722 - val_loss: 0.3774\n",
      "Epoch 12/20\n",
      "245/245 [==============================] - 1s 4ms/step - loss: 0.3717 - val_loss: 0.3905\n",
      "Epoch 13/20\n",
      "245/245 [==============================] - 1s 3ms/step - loss: 0.3723 - val_loss: 0.3902\n",
      "Epoch 14/20\n",
      "245/245 [==============================] - 1s 4ms/step - loss: 0.3728 - val_loss: 0.3832\n",
      "Epoch 15/20\n",
      "245/245 [==============================] - 1s 4ms/step - loss: 0.3715 - val_loss: 0.3767\n",
      "Epoch 16/20\n",
      "245/245 [==============================] - 1s 4ms/step - loss: 0.3737 - val_loss: 0.3940\n",
      "Epoch 17/20\n",
      "245/245 [==============================] - 1s 3ms/step - loss: 0.3734 - val_loss: 0.3830\n",
      "Epoch 18/20\n",
      "245/245 [==============================] - 1s 3ms/step - loss: 0.3729 - val_loss: 0.3783\n",
      "Epoch 19/20\n",
      "245/245 [==============================] - 1s 3ms/step - loss: 0.3726 - val_loss: 0.3767\n",
      "Epoch 20/20\n",
      "245/245 [==============================] - 1s 3ms/step - loss: 0.3731 - val_loss: 0.3877\n"
     ]
    }
   ],
   "source": [
    "import tensorflow as tf\n",
    "\n",
    "from tensorflow import keras\n",
    "from tensorflow.keras import layers\n",
    "\n",
    "# x: lat, long, historical\n",
    "# y: future \n",
    "\n",
    "def create_linear_model():\n",
    "\n",
    "    input = tf.keras.layers.Input(shape=(5,))\n",
    "    \n",
    "    #input_t = tf.data.Dataset.from_tensor_slices(input.to_dict(orient=\"list\"))\n",
    "\n",
    "   # normalized = layers.Normalization(input_shape=[5,], axis=None)(input)\n",
    "\n",
    "   #x = normalizer(input_t)\n",
    "\n",
    "    outputs = layers.Dense(1)(input)\n",
    "\n",
    "    linear_model = tf.keras.models.Model(inputs=input, outputs=outputs, name=\"linear_model\")\n",
    "\n",
    "    linear_model.summary()\n",
    "\n",
    "    linear_model.compile(\n",
    "        optimizer=tf.keras.optimizers.Adam(learning_rate=0.001),\n",
    "        loss='mean_absolute_error' #,\n",
    "        #metrics = [tf.keras.metrics.Accuracy()]\n",
    "        )\n",
    "    \n",
    "    return linear_model\n",
    "\n",
    "linear_model = create_linear_model()\n",
    "\n",
    "history = linear_model.fit(\n",
    "    np.asarray(x_train).astype('float32'),\n",
    "    y_train,\n",
    "    epochs=20,\n",
    "    # Suppress logging.\n",
    "     verbose=1,\n",
    "    # Calculate validation results on 20% of the training data.\n",
    "    validation_split = 0.2)"
   ]
  },
  {
   "cell_type": "code",
   "execution_count": 15,
   "id": "6801a371",
   "metadata": {},
   "outputs": [],
   "source": [
    "import matplotlib\n",
    "import matplotlib.pyplot as plt\n",
    "\n",
    "def plot_loss(history):\n",
    "    plt.plot(history.history['loss'], label='loss')\n",
    "    plt.plot(history.history['val_loss'], label='val_loss')\n",
    "   # plt.plot(history.history['accuracy'], label='accuracy')\n",
    "   # plt.plot(history.history['val_accuracy'], label='val_accuracy')\n",
    "    plt.ylim([0, 10])\n",
    "    plt.xlabel('Epoch')\n",
    "    plt.ylabel('Mean Absolute Error')\n",
    "    plt.legend()\n",
    "    plt.grid(True)"
   ]
  },
  {
   "cell_type": "code",
   "execution_count": 16,
   "id": "5d8b16f8",
   "metadata": {},
   "outputs": [
    {
     "data": {
      "image/png": "[encoded data removed]",
      "text/plain": [
       "<Figure size 432x288 with 1 Axes>"
      ]
     },
     "metadata": {
      "needs_background": "light"
     },
     "output_type": "display_data"
    }
   ],
   "source": [
    "plot_loss(history)"
   ]
  },
  {
   "cell_type": "markdown",
   "id": "168e14a4",
   "metadata": {},
   "source": [
    "Test model"
   ]
  },
  {
   "cell_type": "markdown",
   "id": "bcddd0e1",
   "metadata": {},
   "source": [
    "Model actual future collisions"
   ]
  },
  {
   "cell_type": "markdown",
   "id": "a032bd29",
   "metadata": {},
   "source": [
    "Create dashboard featuring future hotspots"
   ]
  }
 ],
 "metadata": {
  "kernelspec": {
   "display_name": "Python 3 (ipykernel)",
   "language": "python",
   "name": "python3"
  },
  "language_info": {
   "codemirror_mode": {
    "name": "ipython",
    "version": 3
   },
   "file_extension": ".py",
   "mimetype": "text/x-python",
   "name": "python",
   "nbconvert_exporter": "python",
   "pygments_lexer": "ipython3",
   "version": "3.8.11"
  }
 },
 "nbformat": 4,
 "nbformat_minor": 5
}
