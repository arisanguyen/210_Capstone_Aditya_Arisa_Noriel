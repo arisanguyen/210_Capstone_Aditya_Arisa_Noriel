{
  "cells": [
    {
      "cell_type": "code",
      "execution_count": 56,
      "id": "356025b8",
      "metadata": {
        "id": "356025b8",
        "colab": {
          "base_uri": "https://localhost:8080/"
        },
        "outputId": "e6dd38d5-5fc3-4e42-8d54-4739d859f517"
      },
      "outputs": [
        {
          "output_type": "stream",
          "name": "stdout",
          "text": [
            "Drive already mounted at /content/drive/; to attempt to forcibly remount, call drive.mount(\"/content/drive/\", force_remount=True).\n"
          ]
        }
      ],
      "source": [
        "import numpy as np\n",
        "import pandas as pd\n",
        "import requests\n",
        "import json\n",
        "\n",
        "import matplotlib.pyplot as mp\n",
        "import pandas as pd\n",
        "import seaborn as sns\n",
        "\n",
        "from scipy import stats as st\n",
        "\n",
        "from google.colab import drive\n",
        "\n",
        "drive.mount('/content/drive/')\n",
        "\n",
        "path = \"/content/drive/MyDrive/capstone/\" # replace with your path"
      ]
    },
    {
      "cell_type": "code",
      "execution_count": 57,
      "id": "0a5d893f",
      "metadata": {
        "id": "0a5d893f"
      },
      "outputs": [],
      "source": [
        "import requests\n",
        "import json\n",
        "\n",
        "\n",
        "class MakeApiCall:\n",
        "\n",
        "    def get_data(self, api):\n",
        "        response = requests.get(f\"{api}\")\n",
        "        if response.status_code == 200:\n",
        "            print(\"sucessfully fetched the data\")\n",
        "            self.formatted_print(response.json())\n",
        "        else:\n",
        "            print(\n",
        "                f\"Hello person, there's a {response.status_code} error with your request\")\n",
        "\n",
        "    def get_user_data(self, api, parameters):\n",
        "        response = requests.get(f\"{api}\", headers=parameters)\n",
        "        if response.status_code == 200:\n",
        "            print(\"sucessfully fetched the data with parameters provided\")\n",
        "            self.formatted_print(response.json())\n",
        "        else:\n",
        "            print(\n",
        "                f\"Hello person, there's a {response.status_code} error with your request\")\n",
        "\n",
        "    def formatted_print(self, obj):\n",
        "        text = json.dumps(obj, sort_keys=True, indent=4)\n",
        "        print(text)\n",
        "\n",
        "    def __init__(self, api):\n",
        "         self.get_data(api)\n",
        "\n",
        "        #parameters = {\n",
        "            #'Authorization': 'access_token myToken'\n",
        "        #}\n",
        "        #self.get_user_data(api, parameters)\n"
      ]
    },
    {
      "cell_type": "markdown",
      "id": "8c4aa18d",
      "metadata": {
        "id": "8c4aa18d"
      },
      "source": [
        "Separate SF into tiles w/ lat and long look ups"
      ]
    },
    {
      "cell_type": "code",
      "execution_count": 58,
      "id": "d5f9b933",
      "metadata": {
        "id": "d5f9b933"
      },
      "outputs": [],
      "source": [
        "# SF is about ~15 km x 15 km\n",
        "# The paper used 2 km x 2 km tiles\n",
        "# Let's use 100 m x 100 m tile \n",
        "\n",
        "import geopy.distance\n",
        "import math\n",
        "\n",
        "#longest vertical distance\n",
        "coords_1 = (37.811262, -122.477010)\n",
        "coords_2 = (37.708251, -122.477010)\n",
        "\n",
        "vertical_dist = geopy.distance.geodesic(coords_1, coords_2).m\n",
        "v_count = math.ceil(vertical_dist / 100)\n",
        "\n",
        "#longest horizontal distance \n",
        "coords_1 = (37.778946, -122.514446)\n",
        "coords_2 = (37.778946, -122.357110)\n",
        "\n",
        "horizontal_dist = geopy.distance.geodesic(coords_1, coords_2).m\n",
        "h_count = math.ceil(horizontal_dist / 100)"
      ]
    },
    {
      "cell_type": "code",
      "execution_count": 59,
      "id": "03193061",
      "metadata": {
        "id": "03193061"
      },
      "outputs": [],
      "source": [
        "# https://code.activestate.com/recipes/577713-midpoint-of-two-gps-points/ \n",
        "\n",
        "import math\n",
        "\n",
        "def midpoint(x1, y1, x2, y2):\n",
        "#Input values as degrees\n",
        "\n",
        "#Convert to radians\n",
        "    lat1 = math.radians(x1)\n",
        "    lon1 = math.radians(x2)\n",
        "    lat2 = math.radians(y1)\n",
        "    lon2 = math.radians(y2)\n",
        "\n",
        "\n",
        "    bx = math.cos(lat2) * math.cos(lon2 - lon1)\n",
        "    by = math.cos(lat2) * math.sin(lon2 - lon1)\n",
        "    lat3 = math.atan2(math.sin(lat1) + math.sin(lat2), \\\n",
        "           math.sqrt((math.cos(lat1) + bx) * (math.cos(lat1) \\\n",
        "           + bx) + by**2))\n",
        "    lon3 = lon1 + math.atan2(by, math.cos(lat1) + bx)\n",
        "\n",
        "    return [round(math.degrees(lat3), 6), round(math.degrees(lon3), 6)]"
      ]
    },
    {
      "cell_type": "code",
      "execution_count": 60,
      "id": "60039448",
      "metadata": {
        "id": "60039448"
      },
      "outputs": [],
      "source": [
        "# If midpoint of tile is in the ocean, exclude\n",
        "# https://gis.stackexchange.com/questions/235133/checking-if-a-geocoordinate-point-is-land-or-ocean\n",
        "\n",
        "#from mpl_toolkits.basemap import Basemap\n",
        "#bm = Basemap()   # default: projection='cyl'\n",
        "#print (bm.is_land(99.675, 13.104))  #True\n",
        "#print (bm.is_land(100.539, 13.104))  #False"
      ]
    },
    {
      "cell_type": "code",
      "execution_count": 61,
      "id": "970fe310",
      "metadata": {
        "id": "970fe310"
      },
      "outputs": [],
      "source": [
        "# Make a dataframe with:\n",
        "# Tile #\n",
        "# Upper left coordinate\n",
        "# Upper right\n",
        "# Lower left\n",
        "# lower right \n",
        "# midpoint \n",
        "\n",
        "long_interval = np.linspace(-122.357110, -122.514446, h_count)\n",
        "\n",
        "lat_interval = np.linspace(37.708251, 37.811262, v_count)\n",
        "\n",
        "tiles = pd.DataFrame(columns = ['Tile_ID', 'Lat1', 'Lat2', 'Long1', 'Long2', 'Mid'])\n",
        "\n",
        "count1 = 0\n",
        "for lai in range(len(lat_interval) - 1): \n",
        "    lat1 = lat_interval[lai]\n",
        "    lat2 = lat_interval[lai + 1]\n",
        "    for loi in range(len(long_interval) - 1):\n",
        "        long1 = long_interval[loi]\n",
        "        long2 = long_interval[loi + 1]\n",
        "        mid = midpoint(lat1, long1, lat2, long2)\n",
        "        #if bm.is_land(mid[0], mid[1]) == True:\n",
        "           # continue\n",
        "        t = pd.DataFrame([[count1, lat1, lat2, long1, long2, mid]], columns = ['Tile_ID', 'Lat1', 'Lat2', 'Long1', 'Long2', 'Mid'])\n",
        "        tiles = pd.concat([tiles, t], ignore_index = True)\n",
        "        count1 += 1\n"
      ]
    },
    {
      "cell_type": "code",
      "execution_count": 62,
      "id": "f4e45965",
      "metadata": {
        "id": "f4e45965",
        "colab": {
          "base_uri": "https://localhost:8080/",
          "height": 206
        },
        "outputId": "a234ce21-db58-47dd-f68e-d7a60ed44dfc"
      },
      "outputs": [
        {
          "output_type": "execute_result",
          "data": {
            "text/plain": [
              "  Tile_ID       Lat1       Lat2      Long1       Long2  \\\n",
              "0       0  37.708251  37.709155 -122.35711 -122.358250   \n",
              "1       1  37.708251  37.709155 -122.35825 -122.359390   \n",
              "2       2  37.708251  37.709155 -122.35939 -122.360530   \n",
              "3       3  37.708251  37.709155 -122.36053 -122.361670   \n",
              "4       4  37.708251  37.709155 -122.36167 -122.362811   \n",
              "\n",
              "                       Mid  \n",
              "0  [-10.111211, 45.733374]  \n",
              "1  [-10.110617, 45.733069]  \n",
              "2  [-10.110023, 45.732764]  \n",
              "3   [-10.10943, 45.732459]  \n",
              "4  [-10.108836, 45.732155]  "
            ],
            "text/html": [
              "\n",
              "  <div id=\"df-d03a36bd-1b32-490a-9494-b5c433949e0c\">\n",
              "    <div class=\"colab-df-container\">\n",
              "      <div>\n",
              "<style scoped>\n",
              "    .dataframe tbody tr th:only-of-type {\n",
              "        vertical-align: middle;\n",
              "    }\n",
              "\n",
              "    .dataframe tbody tr th {\n",
              "        vertical-align: top;\n",
              "    }\n",
              "\n",
              "    .dataframe thead th {\n",
              "        text-align: right;\n",
              "    }\n",
              "</style>\n",
              "<table border=\"1\" class=\"dataframe\">\n",
              "  <thead>\n",
              "    <tr style=\"text-align: right;\">\n",
              "      <th></th>\n",
              "      <th>Tile_ID</th>\n",
              "      <th>Lat1</th>\n",
              "      <th>Lat2</th>\n",
              "      <th>Long1</th>\n",
              "      <th>Long2</th>\n",
              "      <th>Mid</th>\n",
              "    </tr>\n",
              "  </thead>\n",
              "  <tbody>\n",
              "    <tr>\n",
              "      <th>0</th>\n",
              "      <td>0</td>\n",
              "      <td>37.708251</td>\n",
              "      <td>37.709155</td>\n",
              "      <td>-122.35711</td>\n",
              "      <td>-122.358250</td>\n",
              "      <td>[-10.111211, 45.733374]</td>\n",
              "    </tr>\n",
              "    <tr>\n",
              "      <th>1</th>\n",
              "      <td>1</td>\n",
              "      <td>37.708251</td>\n",
              "      <td>37.709155</td>\n",
              "      <td>-122.35825</td>\n",
              "      <td>-122.359390</td>\n",
              "      <td>[-10.110617, 45.733069]</td>\n",
              "    </tr>\n",
              "    <tr>\n",
              "      <th>2</th>\n",
              "      <td>2</td>\n",
              "      <td>37.708251</td>\n",
              "      <td>37.709155</td>\n",
              "      <td>-122.35939</td>\n",
              "      <td>-122.360530</td>\n",
              "      <td>[-10.110023, 45.732764]</td>\n",
              "    </tr>\n",
              "    <tr>\n",
              "      <th>3</th>\n",
              "      <td>3</td>\n",
              "      <td>37.708251</td>\n",
              "      <td>37.709155</td>\n",
              "      <td>-122.36053</td>\n",
              "      <td>-122.361670</td>\n",
              "      <td>[-10.10943, 45.732459]</td>\n",
              "    </tr>\n",
              "    <tr>\n",
              "      <th>4</th>\n",
              "      <td>4</td>\n",
              "      <td>37.708251</td>\n",
              "      <td>37.709155</td>\n",
              "      <td>-122.36167</td>\n",
              "      <td>-122.362811</td>\n",
              "      <td>[-10.108836, 45.732155]</td>\n",
              "    </tr>\n",
              "  </tbody>\n",
              "</table>\n",
              "</div>\n",
              "      <button class=\"colab-df-convert\" onclick=\"convertToInteractive('df-d03a36bd-1b32-490a-9494-b5c433949e0c')\"\n",
              "              title=\"Convert this dataframe to an interactive table.\"\n",
              "              style=\"display:none;\">\n",
              "        \n",
              "  <svg xmlns=\"http://www.w3.org/2000/svg\" height=\"24px\"viewBox=\"0 0 24 24\"\n",
              "       width=\"24px\">\n",
              "    <path d=\"M0 0h24v24H0V0z\" fill=\"none\"/>\n",
              "    <path d=\"M18.56 5.44l.94 2.06.94-2.06 2.06-.94-2.06-.94-.94-2.06-.94 2.06-2.06.94zm-11 1L8.5 8.5l.94-2.06 2.06-.94-2.06-.94L8.5 2.5l-.94 2.06-2.06.94zm10 10l.94 2.06.94-2.06 2.06-.94-2.06-.94-.94-2.06-.94 2.06-2.06.94z\"/><path d=\"M17.41 7.96l-1.37-1.37c-.4-.4-.92-.59-1.43-.59-.52 0-1.04.2-1.43.59L10.3 9.45l-7.72 7.72c-.78.78-.78 2.05 0 2.83L4 21.41c.39.39.9.59 1.41.59.51 0 1.02-.2 1.41-.59l7.78-7.78 2.81-2.81c.8-.78.8-2.07 0-2.86zM5.41 20L4 18.59l7.72-7.72 1.47 1.35L5.41 20z\"/>\n",
              "  </svg>\n",
              "      </button>\n",
              "      \n",
              "  <style>\n",
              "    .colab-df-container {\n",
              "      display:flex;\n",
              "      flex-wrap:wrap;\n",
              "      gap: 12px;\n",
              "    }\n",
              "\n",
              "    .colab-df-convert {\n",
              "      background-color: #E8F0FE;\n",
              "      border: none;\n",
              "      border-radius: 50%;\n",
              "      cursor: pointer;\n",
              "      display: none;\n",
              "      fill: #1967D2;\n",
              "      height: 32px;\n",
              "      padding: 0 0 0 0;\n",
              "      width: 32px;\n",
              "    }\n",
              "\n",
              "    .colab-df-convert:hover {\n",
              "      background-color: #E2EBFA;\n",
              "      box-shadow: 0px 1px 2px rgba(60, 64, 67, 0.3), 0px 1px 3px 1px rgba(60, 64, 67, 0.15);\n",
              "      fill: #174EA6;\n",
              "    }\n",
              "\n",
              "    [theme=dark] .colab-df-convert {\n",
              "      background-color: #3B4455;\n",
              "      fill: #D2E3FC;\n",
              "    }\n",
              "\n",
              "    [theme=dark] .colab-df-convert:hover {\n",
              "      background-color: #434B5C;\n",
              "      box-shadow: 0px 1px 3px 1px rgba(0, 0, 0, 0.15);\n",
              "      filter: drop-shadow(0px 1px 2px rgba(0, 0, 0, 0.3));\n",
              "      fill: #FFFFFF;\n",
              "    }\n",
              "  </style>\n",
              "\n",
              "      <script>\n",
              "        const buttonEl =\n",
              "          document.querySelector('#df-d03a36bd-1b32-490a-9494-b5c433949e0c button.colab-df-convert');\n",
              "        buttonEl.style.display =\n",
              "          google.colab.kernel.accessAllowed ? 'block' : 'none';\n",
              "\n",
              "        async function convertToInteractive(key) {\n",
              "          const element = document.querySelector('#df-d03a36bd-1b32-490a-9494-b5c433949e0c');\n",
              "          const dataTable =\n",
              "            await google.colab.kernel.invokeFunction('convertToInteractive',\n",
              "                                                     [key], {});\n",
              "          if (!dataTable) return;\n",
              "\n",
              "          const docLinkHtml = 'Like what you see? Visit the ' +\n",
              "            '<a target=\"_blank\" href=https://colab.research.google.com/notebooks/data_table.ipynb>data table notebook</a>'\n",
              "            + ' to learn more about interactive tables.';\n",
              "          element.innerHTML = '';\n",
              "          dataTable['output_type'] = 'display_data';\n",
              "          await google.colab.output.renderOutput(dataTable, element);\n",
              "          const docLink = document.createElement('div');\n",
              "          docLink.innerHTML = docLinkHtml;\n",
              "          element.appendChild(docLink);\n",
              "        }\n",
              "      </script>\n",
              "    </div>\n",
              "  </div>\n",
              "  "
            ]
          },
          "metadata": {},
          "execution_count": 62
        }
      ],
      "source": [
        "tiles.head(5)"
      ]
    },
    {
      "cell_type": "markdown",
      "id": "7cd61bf1",
      "metadata": {
        "id": "7cd61bf1"
      },
      "source": [
        "Split street characterstics into tiles"
      ]
    },
    {
      "cell_type": "code",
      "execution_count": 62,
      "id": "16bd9bfc",
      "metadata": {
        "id": "16bd9bfc"
      },
      "outputs": [],
      "source": []
    },
    {
      "cell_type": "markdown",
      "id": "4d5ff1a4",
      "metadata": {
        "id": "4d5ff1a4"
      },
      "source": [
        "Split historical and future collision data into tiles"
      ]
    },
    {
      "cell_type": "code",
      "execution_count": 63,
      "id": "bd5c9e5b",
      "metadata": {
        "id": "bd5c9e5b",
        "colab": {
          "base_uri": "https://localhost:8080/",
          "height": 404
        },
        "outputId": "d5ffb489-b25b-4c3a-9570-ff80a1156e41"
      },
      "outputs": [
        {
          "output_type": "execute_result",
          "data": {
            "text/plain": [
              "          type         geometry     case_id_pkey          collision_severity  \\\n",
              "14861  Feature  [object Object]        220693629  Injury (Complaint of Pain)   \n",
              "14862  Feature  [object Object]        220701028             Injury (Severe)   \n",
              "14863  Feature  [object Object]        220832383  Injury (Complaint of Pain)   \n",
              "14864  Feature  [object Object]        222006691  Injury (Complaint of Pain)   \n",
              "14865  Feature  [object Object]  9335-2020-00557                       Fatal   \n",
              "\n",
              "       accident_year  collision_date  collision_time  distance   direction  \\\n",
              "14861           2022        20220809          1320.0         0  Not Stated   \n",
              "14862           2022        20220830          1410.0         0  Not Stated   \n",
              "14863           2022        20220324          1650.0         0  Not Stated   \n",
              "14864           2022        20220130          1930.0         0  Not Stated   \n",
              "14865           2020        20200317          2015.0         0  Not Stated   \n",
              "\n",
              "                                       pcf_viol_category  ...  \\\n",
              "14861             Unsafe speed for prevailing conditions  ...   \n",
              "14862              Unsafe turn or lane change prohibited  ...   \n",
              "14863            Entering highway from alley or driveway  ...   \n",
              "14864             Unsafe speed for prevailing conditions  ...   \n",
              "14865  Red signal - driver or bicyclist responsibilities  ...   \n",
              "\n",
              "                 bndy_type  party_at_fault party1_type party1_dir_of_travel  \\\n",
              "14861  Geographic Boundary             1.0      Driver                 East   \n",
              "14862  Geographic Boundary             1.0      Driver           Not Stated   \n",
              "14863  Geographic Boundary             1.0      Driver                North   \n",
              "14864  Geographic Boundary             1.0      Driver                South   \n",
              "14865  Geographic Boundary             1.0      Driver           Not Stated   \n",
              "\n",
              "       party1_move_pre_acc party2_type party2_dir_of_travel  \\\n",
              "14861           Not Stated      Driver                 East   \n",
              "14862    Making Right Turn   Bicyclist                 West   \n",
              "14863  Proceeding Straight      Driver                North   \n",
              "14864  Proceeding Straight      Driver                 East   \n",
              "14865  Proceeding Straight      Driver           Not Stated   \n",
              "\n",
              "       party2_move_pre_acc Historical Future  \n",
              "14861              Stopped          0      1  \n",
              "14862           Not Stated          0      1  \n",
              "14863     Entering Traffic          0      1  \n",
              "14864  Proceeding Straight          0      1  \n",
              "14865  Proceeding Straight          1      0  \n",
              "\n",
              "[5 rows x 52 columns]"
            ],
            "text/html": [
              "\n",
              "  <div id=\"df-ebd419f7-c2e0-4fb4-b86d-cad1783fb603\">\n",
              "    <div class=\"colab-df-container\">\n",
              "      <div>\n",
              "<style scoped>\n",
              "    .dataframe tbody tr th:only-of-type {\n",
              "        vertical-align: middle;\n",
              "    }\n",
              "\n",
              "    .dataframe tbody tr th {\n",
              "        vertical-align: top;\n",
              "    }\n",
              "\n",
              "    .dataframe thead th {\n",
              "        text-align: right;\n",
              "    }\n",
              "</style>\n",
              "<table border=\"1\" class=\"dataframe\">\n",
              "  <thead>\n",
              "    <tr style=\"text-align: right;\">\n",
              "      <th></th>\n",
              "      <th>type</th>\n",
              "      <th>geometry</th>\n",
              "      <th>case_id_pkey</th>\n",
              "      <th>collision_severity</th>\n",
              "      <th>accident_year</th>\n",
              "      <th>collision_date</th>\n",
              "      <th>collision_time</th>\n",
              "      <th>distance</th>\n",
              "      <th>direction</th>\n",
              "      <th>pcf_viol_category</th>\n",
              "      <th>...</th>\n",
              "      <th>bndy_type</th>\n",
              "      <th>party_at_fault</th>\n",
              "      <th>party1_type</th>\n",
              "      <th>party1_dir_of_travel</th>\n",
              "      <th>party1_move_pre_acc</th>\n",
              "      <th>party2_type</th>\n",
              "      <th>party2_dir_of_travel</th>\n",
              "      <th>party2_move_pre_acc</th>\n",
              "      <th>Historical</th>\n",
              "      <th>Future</th>\n",
              "    </tr>\n",
              "  </thead>\n",
              "  <tbody>\n",
              "    <tr>\n",
              "      <th>14861</th>\n",
              "      <td>Feature</td>\n",
              "      <td>[object Object]</td>\n",
              "      <td>220693629</td>\n",
              "      <td>Injury (Complaint of Pain)</td>\n",
              "      <td>2022</td>\n",
              "      <td>20220809</td>\n",
              "      <td>1320.0</td>\n",
              "      <td>0</td>\n",
              "      <td>Not Stated</td>\n",
              "      <td>Unsafe speed for prevailing conditions</td>\n",
              "      <td>...</td>\n",
              "      <td>Geographic Boundary</td>\n",
              "      <td>1.0</td>\n",
              "      <td>Driver</td>\n",
              "      <td>East</td>\n",
              "      <td>Not Stated</td>\n",
              "      <td>Driver</td>\n",
              "      <td>East</td>\n",
              "      <td>Stopped</td>\n",
              "      <td>0</td>\n",
              "      <td>1</td>\n",
              "    </tr>\n",
              "    <tr>\n",
              "      <th>14862</th>\n",
              "      <td>Feature</td>\n",
              "      <td>[object Object]</td>\n",
              "      <td>220701028</td>\n",
              "      <td>Injury (Severe)</td>\n",
              "      <td>2022</td>\n",
              "      <td>20220830</td>\n",
              "      <td>1410.0</td>\n",
              "      <td>0</td>\n",
              "      <td>Not Stated</td>\n",
              "      <td>Unsafe turn or lane change prohibited</td>\n",
              "      <td>...</td>\n",
              "      <td>Geographic Boundary</td>\n",
              "      <td>1.0</td>\n",
              "      <td>Driver</td>\n",
              "      <td>Not Stated</td>\n",
              "      <td>Making Right Turn</td>\n",
              "      <td>Bicyclist</td>\n",
              "      <td>West</td>\n",
              "      <td>Not Stated</td>\n",
              "      <td>0</td>\n",
              "      <td>1</td>\n",
              "    </tr>\n",
              "    <tr>\n",
              "      <th>14863</th>\n",
              "      <td>Feature</td>\n",
              "      <td>[object Object]</td>\n",
              "      <td>220832383</td>\n",
              "      <td>Injury (Complaint of Pain)</td>\n",
              "      <td>2022</td>\n",
              "      <td>20220324</td>\n",
              "      <td>1650.0</td>\n",
              "      <td>0</td>\n",
              "      <td>Not Stated</td>\n",
              "      <td>Entering highway from alley or driveway</td>\n",
              "      <td>...</td>\n",
              "      <td>Geographic Boundary</td>\n",
              "      <td>1.0</td>\n",
              "      <td>Driver</td>\n",
              "      <td>North</td>\n",
              "      <td>Proceeding Straight</td>\n",
              "      <td>Driver</td>\n",
              "      <td>North</td>\n",
              "      <td>Entering Traffic</td>\n",
              "      <td>0</td>\n",
              "      <td>1</td>\n",
              "    </tr>\n",
              "    <tr>\n",
              "      <th>14864</th>\n",
              "      <td>Feature</td>\n",
              "      <td>[object Object]</td>\n",
              "      <td>222006691</td>\n",
              "      <td>Injury (Complaint of Pain)</td>\n",
              "      <td>2022</td>\n",
              "      <td>20220130</td>\n",
              "      <td>1930.0</td>\n",
              "      <td>0</td>\n",
              "      <td>Not Stated</td>\n",
              "      <td>Unsafe speed for prevailing conditions</td>\n",
              "      <td>...</td>\n",
              "      <td>Geographic Boundary</td>\n",
              "      <td>1.0</td>\n",
              "      <td>Driver</td>\n",
              "      <td>South</td>\n",
              "      <td>Proceeding Straight</td>\n",
              "      <td>Driver</td>\n",
              "      <td>East</td>\n",
              "      <td>Proceeding Straight</td>\n",
              "      <td>0</td>\n",
              "      <td>1</td>\n",
              "    </tr>\n",
              "    <tr>\n",
              "      <th>14865</th>\n",
              "      <td>Feature</td>\n",
              "      <td>[object Object]</td>\n",
              "      <td>9335-2020-00557</td>\n",
              "      <td>Fatal</td>\n",
              "      <td>2020</td>\n",
              "      <td>20200317</td>\n",
              "      <td>2015.0</td>\n",
              "      <td>0</td>\n",
              "      <td>Not Stated</td>\n",
              "      <td>Red signal - driver or bicyclist responsibilities</td>\n",
              "      <td>...</td>\n",
              "      <td>Geographic Boundary</td>\n",
              "      <td>1.0</td>\n",
              "      <td>Driver</td>\n",
              "      <td>Not Stated</td>\n",
              "      <td>Proceeding Straight</td>\n",
              "      <td>Driver</td>\n",
              "      <td>Not Stated</td>\n",
              "      <td>Proceeding Straight</td>\n",
              "      <td>1</td>\n",
              "      <td>0</td>\n",
              "    </tr>\n",
              "  </tbody>\n",
              "</table>\n",
              "<p>5 rows × 52 columns</p>\n",
              "</div>\n",
              "      <button class=\"colab-df-convert\" onclick=\"convertToInteractive('df-ebd419f7-c2e0-4fb4-b86d-cad1783fb603')\"\n",
              "              title=\"Convert this dataframe to an interactive table.\"\n",
              "              style=\"display:none;\">\n",
              "        \n",
              "  <svg xmlns=\"http://www.w3.org/2000/svg\" height=\"24px\"viewBox=\"0 0 24 24\"\n",
              "       width=\"24px\">\n",
              "    <path d=\"M0 0h24v24H0V0z\" fill=\"none\"/>\n",
              "    <path d=\"M18.56 5.44l.94 2.06.94-2.06 2.06-.94-2.06-.94-.94-2.06-.94 2.06-2.06.94zm-11 1L8.5 8.5l.94-2.06 2.06-.94-2.06-.94L8.5 2.5l-.94 2.06-2.06.94zm10 10l.94 2.06.94-2.06 2.06-.94-2.06-.94-.94-2.06-.94 2.06-2.06.94z\"/><path d=\"M17.41 7.96l-1.37-1.37c-.4-.4-.92-.59-1.43-.59-.52 0-1.04.2-1.43.59L10.3 9.45l-7.72 7.72c-.78.78-.78 2.05 0 2.83L4 21.41c.39.39.9.59 1.41.59.51 0 1.02-.2 1.41-.59l7.78-7.78 2.81-2.81c.8-.78.8-2.07 0-2.86zM5.41 20L4 18.59l7.72-7.72 1.47 1.35L5.41 20z\"/>\n",
              "  </svg>\n",
              "      </button>\n",
              "      \n",
              "  <style>\n",
              "    .colab-df-container {\n",
              "      display:flex;\n",
              "      flex-wrap:wrap;\n",
              "      gap: 12px;\n",
              "    }\n",
              "\n",
              "    .colab-df-convert {\n",
              "      background-color: #E8F0FE;\n",
              "      border: none;\n",
              "      border-radius: 50%;\n",
              "      cursor: pointer;\n",
              "      display: none;\n",
              "      fill: #1967D2;\n",
              "      height: 32px;\n",
              "      padding: 0 0 0 0;\n",
              "      width: 32px;\n",
              "    }\n",
              "\n",
              "    .colab-df-convert:hover {\n",
              "      background-color: #E2EBFA;\n",
              "      box-shadow: 0px 1px 2px rgba(60, 64, 67, 0.3), 0px 1px 3px 1px rgba(60, 64, 67, 0.15);\n",
              "      fill: #174EA6;\n",
              "    }\n",
              "\n",
              "    [theme=dark] .colab-df-convert {\n",
              "      background-color: #3B4455;\n",
              "      fill: #D2E3FC;\n",
              "    }\n",
              "\n",
              "    [theme=dark] .colab-df-convert:hover {\n",
              "      background-color: #434B5C;\n",
              "      box-shadow: 0px 1px 3px 1px rgba(0, 0, 0, 0.15);\n",
              "      filter: drop-shadow(0px 1px 2px rgba(0, 0, 0, 0.3));\n",
              "      fill: #FFFFFF;\n",
              "    }\n",
              "  </style>\n",
              "\n",
              "      <script>\n",
              "        const buttonEl =\n",
              "          document.querySelector('#df-ebd419f7-c2e0-4fb4-b86d-cad1783fb603 button.colab-df-convert');\n",
              "        buttonEl.style.display =\n",
              "          google.colab.kernel.accessAllowed ? 'block' : 'none';\n",
              "\n",
              "        async function convertToInteractive(key) {\n",
              "          const element = document.querySelector('#df-ebd419f7-c2e0-4fb4-b86d-cad1783fb603');\n",
              "          const dataTable =\n",
              "            await google.colab.kernel.invokeFunction('convertToInteractive',\n",
              "                                                     [key], {});\n",
              "          if (!dataTable) return;\n",
              "\n",
              "          const docLinkHtml = 'Like what you see? Visit the ' +\n",
              "            '<a target=\"_blank\" href=https://colab.research.google.com/notebooks/data_table.ipynb>data table notebook</a>'\n",
              "            + ' to learn more about interactive tables.';\n",
              "          element.innerHTML = '';\n",
              "          dataTable['output_type'] = 'display_data';\n",
              "          await google.colab.output.renderOutput(dataTable, element);\n",
              "          const docLink = document.createElement('div');\n",
              "          docLink.innerHTML = docLinkHtml;\n",
              "          element.appendChild(docLink);\n",
              "        }\n",
              "      </script>\n",
              "    </div>\n",
              "  </div>\n",
              "  "
            ]
          },
          "metadata": {},
          "execution_count": 63
        }
      ],
      "source": [
        "\n",
        "\n",
        "collisions = pd.read_csv(r'/content/drive/MyDrive/capstone/transbase_collisions_02112023.csv')\n",
        "collisions.head(5)\n",
        "\n",
        "#collisions.columns\n",
        "\n",
        "# dataset is from 2017 - September 30 2022\n",
        "# Historical Group: Oct 1 2018 - September 30 2020\n",
        "# Future Group: Oct 1 2020 - September 30 2022\n",
        "\n",
        "collisions['Historical'] = np.where((collisions['collision_date'] >= 20181001) & (collisions['collision_date'] <= 20200930),1,0)\n",
        "\n",
        "collisions['Future'] = np.where((collisions['collision_date'] >= 20201001) & (collisions['collision_date'] <= 20220930),1,0)\n",
        "\n",
        "collisions.tail(5)"
      ]
    },
    {
      "cell_type": "code",
      "execution_count": 64,
      "id": "201775e2",
      "metadata": {
        "id": "201775e2"
      },
      "outputs": [],
      "source": [
        "# adding historical and future collisions to data frame\n",
        "\n",
        "# 'Tile_ID', 'Lat1', 'Lat2', 'Long1', 'Long2', 'Mid'\n",
        "collisions = collisions[(collisions['Future'] == 1) | (collisions['Historical'] == 1)]\n",
        "collisions_f = collisions[collisions['Future'] == 1]\n",
        "collisions_h = collisions[collisions['Historical'] == 1]\n",
        "# for every tile, sum the future and historical collisions \n",
        "# the collision should take place within the tile \n",
        "fut = []\n",
        "his = []\n",
        "for i in range(len(tiles)):\n",
        "    ti = tiles.iloc[i]\n",
        "    lat1 = ti['Lat1']\n",
        "    lat2 = ti['Lat2']\n",
        "    long1 = ti['Long1']\n",
        "    long2 = ti['Long2']\n",
        "    f = len(collisions_f[(collisions_f['latitude'] < lat2) & (collisions_f['latitude'] > lat1) & (collisions_f['longitude'] > long2) & (collisions_f['longitude'] < long1)])\n",
        "    h = len(collisions_h[(collisions_h['latitude'] < lat2) & (collisions_h['latitude'] > lat1) & (collisions_h['longitude'] > long2) & (collisions_h['longitude'] < long1)])\n",
        "    fut = np.append(fut,f)\n",
        "    his = np.append(his,h)"
      ]
    },
    {
      "cell_type": "code",
      "execution_count": 65,
      "id": "452113df",
      "metadata": {
        "id": "452113df"
      },
      "outputs": [],
      "source": [
        "tiles['Future'] = fut\n",
        "tiles['Historical'] = his"
      ]
    },
    {
      "cell_type": "code",
      "source": [
        "tiles.head(5)"
      ],
      "metadata": {
        "colab": {
          "base_uri": "https://localhost:8080/",
          "height": 206
        },
        "id": "KCZh091e25_w",
        "outputId": "f5dcdaf9-2ad9-4dd9-ba93-65ecdf350d96"
      },
      "id": "KCZh091e25_w",
      "execution_count": 66,
      "outputs": [
        {
          "output_type": "execute_result",
          "data": {
            "text/plain": [
              "  Tile_ID       Lat1       Lat2      Long1       Long2  \\\n",
              "0       0  37.708251  37.709155 -122.35711 -122.358250   \n",
              "1       1  37.708251  37.709155 -122.35825 -122.359390   \n",
              "2       2  37.708251  37.709155 -122.35939 -122.360530   \n",
              "3       3  37.708251  37.709155 -122.36053 -122.361670   \n",
              "4       4  37.708251  37.709155 -122.36167 -122.362811   \n",
              "\n",
              "                       Mid  Future  Historical  \n",
              "0  [-10.111211, 45.733374]     0.0         0.0  \n",
              "1  [-10.110617, 45.733069]     0.0         0.0  \n",
              "2  [-10.110023, 45.732764]     0.0         0.0  \n",
              "3   [-10.10943, 45.732459]     0.0         0.0  \n",
              "4  [-10.108836, 45.732155]     0.0         0.0  "
            ],
            "text/html": [
              "\n",
              "  <div id=\"df-121de991-89fa-43a4-99b0-a88dbe5071db\">\n",
              "    <div class=\"colab-df-container\">\n",
              "      <div>\n",
              "<style scoped>\n",
              "    .dataframe tbody tr th:only-of-type {\n",
              "        vertical-align: middle;\n",
              "    }\n",
              "\n",
              "    .dataframe tbody tr th {\n",
              "        vertical-align: top;\n",
              "    }\n",
              "\n",
              "    .dataframe thead th {\n",
              "        text-align: right;\n",
              "    }\n",
              "</style>\n",
              "<table border=\"1\" class=\"dataframe\">\n",
              "  <thead>\n",
              "    <tr style=\"text-align: right;\">\n",
              "      <th></th>\n",
              "      <th>Tile_ID</th>\n",
              "      <th>Lat1</th>\n",
              "      <th>Lat2</th>\n",
              "      <th>Long1</th>\n",
              "      <th>Long2</th>\n",
              "      <th>Mid</th>\n",
              "      <th>Future</th>\n",
              "      <th>Historical</th>\n",
              "    </tr>\n",
              "  </thead>\n",
              "  <tbody>\n",
              "    <tr>\n",
              "      <th>0</th>\n",
              "      <td>0</td>\n",
              "      <td>37.708251</td>\n",
              "      <td>37.709155</td>\n",
              "      <td>-122.35711</td>\n",
              "      <td>-122.358250</td>\n",
              "      <td>[-10.111211, 45.733374]</td>\n",
              "      <td>0.0</td>\n",
              "      <td>0.0</td>\n",
              "    </tr>\n",
              "    <tr>\n",
              "      <th>1</th>\n",
              "      <td>1</td>\n",
              "      <td>37.708251</td>\n",
              "      <td>37.709155</td>\n",
              "      <td>-122.35825</td>\n",
              "      <td>-122.359390</td>\n",
              "      <td>[-10.110617, 45.733069]</td>\n",
              "      <td>0.0</td>\n",
              "      <td>0.0</td>\n",
              "    </tr>\n",
              "    <tr>\n",
              "      <th>2</th>\n",
              "      <td>2</td>\n",
              "      <td>37.708251</td>\n",
              "      <td>37.709155</td>\n",
              "      <td>-122.35939</td>\n",
              "      <td>-122.360530</td>\n",
              "      <td>[-10.110023, 45.732764]</td>\n",
              "      <td>0.0</td>\n",
              "      <td>0.0</td>\n",
              "    </tr>\n",
              "    <tr>\n",
              "      <th>3</th>\n",
              "      <td>3</td>\n",
              "      <td>37.708251</td>\n",
              "      <td>37.709155</td>\n",
              "      <td>-122.36053</td>\n",
              "      <td>-122.361670</td>\n",
              "      <td>[-10.10943, 45.732459]</td>\n",
              "      <td>0.0</td>\n",
              "      <td>0.0</td>\n",
              "    </tr>\n",
              "    <tr>\n",
              "      <th>4</th>\n",
              "      <td>4</td>\n",
              "      <td>37.708251</td>\n",
              "      <td>37.709155</td>\n",
              "      <td>-122.36167</td>\n",
              "      <td>-122.362811</td>\n",
              "      <td>[-10.108836, 45.732155]</td>\n",
              "      <td>0.0</td>\n",
              "      <td>0.0</td>\n",
              "    </tr>\n",
              "  </tbody>\n",
              "</table>\n",
              "</div>\n",
              "      <button class=\"colab-df-convert\" onclick=\"convertToInteractive('df-121de991-89fa-43a4-99b0-a88dbe5071db')\"\n",
              "              title=\"Convert this dataframe to an interactive table.\"\n",
              "              style=\"display:none;\">\n",
              "        \n",
              "  <svg xmlns=\"http://www.w3.org/2000/svg\" height=\"24px\"viewBox=\"0 0 24 24\"\n",
              "       width=\"24px\">\n",
              "    <path d=\"M0 0h24v24H0V0z\" fill=\"none\"/>\n",
              "    <path d=\"M18.56 5.44l.94 2.06.94-2.06 2.06-.94-2.06-.94-.94-2.06-.94 2.06-2.06.94zm-11 1L8.5 8.5l.94-2.06 2.06-.94-2.06-.94L8.5 2.5l-.94 2.06-2.06.94zm10 10l.94 2.06.94-2.06 2.06-.94-2.06-.94-.94-2.06-.94 2.06-2.06.94z\"/><path d=\"M17.41 7.96l-1.37-1.37c-.4-.4-.92-.59-1.43-.59-.52 0-1.04.2-1.43.59L10.3 9.45l-7.72 7.72c-.78.78-.78 2.05 0 2.83L4 21.41c.39.39.9.59 1.41.59.51 0 1.02-.2 1.41-.59l7.78-7.78 2.81-2.81c.8-.78.8-2.07 0-2.86zM5.41 20L4 18.59l7.72-7.72 1.47 1.35L5.41 20z\"/>\n",
              "  </svg>\n",
              "      </button>\n",
              "      \n",
              "  <style>\n",
              "    .colab-df-container {\n",
              "      display:flex;\n",
              "      flex-wrap:wrap;\n",
              "      gap: 12px;\n",
              "    }\n",
              "\n",
              "    .colab-df-convert {\n",
              "      background-color: #E8F0FE;\n",
              "      border: none;\n",
              "      border-radius: 50%;\n",
              "      cursor: pointer;\n",
              "      display: none;\n",
              "      fill: #1967D2;\n",
              "      height: 32px;\n",
              "      padding: 0 0 0 0;\n",
              "      width: 32px;\n",
              "    }\n",
              "\n",
              "    .colab-df-convert:hover {\n",
              "      background-color: #E2EBFA;\n",
              "      box-shadow: 0px 1px 2px rgba(60, 64, 67, 0.3), 0px 1px 3px 1px rgba(60, 64, 67, 0.15);\n",
              "      fill: #174EA6;\n",
              "    }\n",
              "\n",
              "    [theme=dark] .colab-df-convert {\n",
              "      background-color: #3B4455;\n",
              "      fill: #D2E3FC;\n",
              "    }\n",
              "\n",
              "    [theme=dark] .colab-df-convert:hover {\n",
              "      background-color: #434B5C;\n",
              "      box-shadow: 0px 1px 3px 1px rgba(0, 0, 0, 0.15);\n",
              "      filter: drop-shadow(0px 1px 2px rgba(0, 0, 0, 0.3));\n",
              "      fill: #FFFFFF;\n",
              "    }\n",
              "  </style>\n",
              "\n",
              "      <script>\n",
              "        const buttonEl =\n",
              "          document.querySelector('#df-121de991-89fa-43a4-99b0-a88dbe5071db button.colab-df-convert');\n",
              "        buttonEl.style.display =\n",
              "          google.colab.kernel.accessAllowed ? 'block' : 'none';\n",
              "\n",
              "        async function convertToInteractive(key) {\n",
              "          const element = document.querySelector('#df-121de991-89fa-43a4-99b0-a88dbe5071db');\n",
              "          const dataTable =\n",
              "            await google.colab.kernel.invokeFunction('convertToInteractive',\n",
              "                                                     [key], {});\n",
              "          if (!dataTable) return;\n",
              "\n",
              "          const docLinkHtml = 'Like what you see? Visit the ' +\n",
              "            '<a target=\"_blank\" href=https://colab.research.google.com/notebooks/data_table.ipynb>data table notebook</a>'\n",
              "            + ' to learn more about interactive tables.';\n",
              "          element.innerHTML = '';\n",
              "          dataTable['output_type'] = 'display_data';\n",
              "          await google.colab.output.renderOutput(dataTable, element);\n",
              "          const docLink = document.createElement('div');\n",
              "          docLink.innerHTML = docLinkHtml;\n",
              "          element.appendChild(docLink);\n",
              "        }\n",
              "      </script>\n",
              "    </div>\n",
              "  </div>\n",
              "  "
            ]
          },
          "metadata": {},
          "execution_count": 66
        }
      ]
    },
    {
      "cell_type": "code",
      "source": [
        "tiles.tail(5)"
      ],
      "metadata": {
        "colab": {
          "base_uri": "https://localhost:8080/",
          "height": 206
        },
        "id": "wI9ZfIYi1Au_",
        "outputId": "0b26d4a4-c4c9-4d5d-820a-ce0f31ec21c1"
      },
      "id": "wI9ZfIYi1Au_",
      "execution_count": 67,
      "outputs": [
        {
          "output_type": "execute_result",
          "data": {
            "text/plain": [
              "      Tile_ID       Lat1       Lat2       Long1       Long2  \\\n",
              "15727   15727  37.810358  37.811262 -122.508745 -122.509886   \n",
              "15728   15728  37.810358  37.811262 -122.509886 -122.511026   \n",
              "15729   15729  37.810358  37.811262 -122.511026 -122.512166   \n",
              "15730   15730  37.810358  37.811262 -122.512166 -122.513306   \n",
              "15731   15731  37.810358  37.811262 -122.513306 -122.514446   \n",
              "\n",
              "                          Mid  Future  Historical  \n",
              "15727  [-9.979097, 45.760321]     0.0         0.0  \n",
              "15728  [-9.978504, 45.760012]     0.0         0.0  \n",
              "15729  [-9.977911, 45.759703]     0.0         0.0  \n",
              "15730  [-9.977318, 45.759394]     0.0         0.0  \n",
              "15731  [-9.976724, 45.759085]     0.0         0.0  "
            ],
            "text/html": [
              "\n",
              "  <div id=\"df-576aaad4-2cf0-44c5-899a-19e91388c970\">\n",
              "    <div class=\"colab-df-container\">\n",
              "      <div>\n",
              "<style scoped>\n",
              "    .dataframe tbody tr th:only-of-type {\n",
              "        vertical-align: middle;\n",
              "    }\n",
              "\n",
              "    .dataframe tbody tr th {\n",
              "        vertical-align: top;\n",
              "    }\n",
              "\n",
              "    .dataframe thead th {\n",
              "        text-align: right;\n",
              "    }\n",
              "</style>\n",
              "<table border=\"1\" class=\"dataframe\">\n",
              "  <thead>\n",
              "    <tr style=\"text-align: right;\">\n",
              "      <th></th>\n",
              "      <th>Tile_ID</th>\n",
              "      <th>Lat1</th>\n",
              "      <th>Lat2</th>\n",
              "      <th>Long1</th>\n",
              "      <th>Long2</th>\n",
              "      <th>Mid</th>\n",
              "      <th>Future</th>\n",
              "      <th>Historical</th>\n",
              "    </tr>\n",
              "  </thead>\n",
              "  <tbody>\n",
              "    <tr>\n",
              "      <th>15727</th>\n",
              "      <td>15727</td>\n",
              "      <td>37.810358</td>\n",
              "      <td>37.811262</td>\n",
              "      <td>-122.508745</td>\n",
              "      <td>-122.509886</td>\n",
              "      <td>[-9.979097, 45.760321]</td>\n",
              "      <td>0.0</td>\n",
              "      <td>0.0</td>\n",
              "    </tr>\n",
              "    <tr>\n",
              "      <th>15728</th>\n",
              "      <td>15728</td>\n",
              "      <td>37.810358</td>\n",
              "      <td>37.811262</td>\n",
              "      <td>-122.509886</td>\n",
              "      <td>-122.511026</td>\n",
              "      <td>[-9.978504, 45.760012]</td>\n",
              "      <td>0.0</td>\n",
              "      <td>0.0</td>\n",
              "    </tr>\n",
              "    <tr>\n",
              "      <th>15729</th>\n",
              "      <td>15729</td>\n",
              "      <td>37.810358</td>\n",
              "      <td>37.811262</td>\n",
              "      <td>-122.511026</td>\n",
              "      <td>-122.512166</td>\n",
              "      <td>[-9.977911, 45.759703]</td>\n",
              "      <td>0.0</td>\n",
              "      <td>0.0</td>\n",
              "    </tr>\n",
              "    <tr>\n",
              "      <th>15730</th>\n",
              "      <td>15730</td>\n",
              "      <td>37.810358</td>\n",
              "      <td>37.811262</td>\n",
              "      <td>-122.512166</td>\n",
              "      <td>-122.513306</td>\n",
              "      <td>[-9.977318, 45.759394]</td>\n",
              "      <td>0.0</td>\n",
              "      <td>0.0</td>\n",
              "    </tr>\n",
              "    <tr>\n",
              "      <th>15731</th>\n",
              "      <td>15731</td>\n",
              "      <td>37.810358</td>\n",
              "      <td>37.811262</td>\n",
              "      <td>-122.513306</td>\n",
              "      <td>-122.514446</td>\n",
              "      <td>[-9.976724, 45.759085]</td>\n",
              "      <td>0.0</td>\n",
              "      <td>0.0</td>\n",
              "    </tr>\n",
              "  </tbody>\n",
              "</table>\n",
              "</div>\n",
              "      <button class=\"colab-df-convert\" onclick=\"convertToInteractive('df-576aaad4-2cf0-44c5-899a-19e91388c970')\"\n",
              "              title=\"Convert this dataframe to an interactive table.\"\n",
              "              style=\"display:none;\">\n",
              "        \n",
              "  <svg xmlns=\"http://www.w3.org/2000/svg\" height=\"24px\"viewBox=\"0 0 24 24\"\n",
              "       width=\"24px\">\n",
              "    <path d=\"M0 0h24v24H0V0z\" fill=\"none\"/>\n",
              "    <path d=\"M18.56 5.44l.94 2.06.94-2.06 2.06-.94-2.06-.94-.94-2.06-.94 2.06-2.06.94zm-11 1L8.5 8.5l.94-2.06 2.06-.94-2.06-.94L8.5 2.5l-.94 2.06-2.06.94zm10 10l.94 2.06.94-2.06 2.06-.94-2.06-.94-.94-2.06-.94 2.06-2.06.94z\"/><path d=\"M17.41 7.96l-1.37-1.37c-.4-.4-.92-.59-1.43-.59-.52 0-1.04.2-1.43.59L10.3 9.45l-7.72 7.72c-.78.78-.78 2.05 0 2.83L4 21.41c.39.39.9.59 1.41.59.51 0 1.02-.2 1.41-.59l7.78-7.78 2.81-2.81c.8-.78.8-2.07 0-2.86zM5.41 20L4 18.59l7.72-7.72 1.47 1.35L5.41 20z\"/>\n",
              "  </svg>\n",
              "      </button>\n",
              "      \n",
              "  <style>\n",
              "    .colab-df-container {\n",
              "      display:flex;\n",
              "      flex-wrap:wrap;\n",
              "      gap: 12px;\n",
              "    }\n",
              "\n",
              "    .colab-df-convert {\n",
              "      background-color: #E8F0FE;\n",
              "      border: none;\n",
              "      border-radius: 50%;\n",
              "      cursor: pointer;\n",
              "      display: none;\n",
              "      fill: #1967D2;\n",
              "      height: 32px;\n",
              "      padding: 0 0 0 0;\n",
              "      width: 32px;\n",
              "    }\n",
              "\n",
              "    .colab-df-convert:hover {\n",
              "      background-color: #E2EBFA;\n",
              "      box-shadow: 0px 1px 2px rgba(60, 64, 67, 0.3), 0px 1px 3px 1px rgba(60, 64, 67, 0.15);\n",
              "      fill: #174EA6;\n",
              "    }\n",
              "\n",
              "    [theme=dark] .colab-df-convert {\n",
              "      background-color: #3B4455;\n",
              "      fill: #D2E3FC;\n",
              "    }\n",
              "\n",
              "    [theme=dark] .colab-df-convert:hover {\n",
              "      background-color: #434B5C;\n",
              "      box-shadow: 0px 1px 3px 1px rgba(0, 0, 0, 0.15);\n",
              "      filter: drop-shadow(0px 1px 2px rgba(0, 0, 0, 0.3));\n",
              "      fill: #FFFFFF;\n",
              "    }\n",
              "  </style>\n",
              "\n",
              "      <script>\n",
              "        const buttonEl =\n",
              "          document.querySelector('#df-576aaad4-2cf0-44c5-899a-19e91388c970 button.colab-df-convert');\n",
              "        buttonEl.style.display =\n",
              "          google.colab.kernel.accessAllowed ? 'block' : 'none';\n",
              "\n",
              "        async function convertToInteractive(key) {\n",
              "          const element = document.querySelector('#df-576aaad4-2cf0-44c5-899a-19e91388c970');\n",
              "          const dataTable =\n",
              "            await google.colab.kernel.invokeFunction('convertToInteractive',\n",
              "                                                     [key], {});\n",
              "          if (!dataTable) return;\n",
              "\n",
              "          const docLinkHtml = 'Like what you see? Visit the ' +\n",
              "            '<a target=\"_blank\" href=https://colab.research.google.com/notebooks/data_table.ipynb>data table notebook</a>'\n",
              "            + ' to learn more about interactive tables.';\n",
              "          element.innerHTML = '';\n",
              "          dataTable['output_type'] = 'display_data';\n",
              "          await google.colab.output.renderOutput(dataTable, element);\n",
              "          const docLink = document.createElement('div');\n",
              "          docLink.innerHTML = docLinkHtml;\n",
              "          element.appendChild(docLink);\n",
              "        }\n",
              "      </script>\n",
              "    </div>\n",
              "  </div>\n",
              "  "
            ]
          },
          "metadata": {},
          "execution_count": 67
        }
      ]
    },
    {
      "cell_type": "markdown",
      "id": "9fb75e4c",
      "metadata": {
        "id": "9fb75e4c"
      },
      "source": [
        "Scrape data and create model that takes inputs of satellite images or OSM files"
      ]
    },
    {
      "cell_type": "markdown",
      "source": [
        "EDA"
      ],
      "metadata": {
        "id": "gfyD6YwKx62x"
      },
      "id": "gfyD6YwKx62x"
    },
    {
      "cell_type": "code",
      "source": [
        "tiles.info()"
      ],
      "metadata": {
        "colab": {
          "base_uri": "https://localhost:8080/"
        },
        "id": "w0wTh0ZTO5tt",
        "outputId": "21223601-259c-4c83-d496-6d30387b5581"
      },
      "id": "w0wTh0ZTO5tt",
      "execution_count": 78,
      "outputs": [
        {
          "output_type": "stream",
          "name": "stdout",
          "text": [
            "<class 'pandas.core.frame.DataFrame'>\n",
            "RangeIndex: 15732 entries, 0 to 15731\n",
            "Data columns (total 8 columns):\n",
            " #   Column      Non-Null Count  Dtype  \n",
            "---  ------      --------------  -----  \n",
            " 0   Tile_ID     15732 non-null  object \n",
            " 1   Lat1        15732 non-null  float64\n",
            " 2   Lat2        15732 non-null  float64\n",
            " 3   Long1       15732 non-null  float64\n",
            " 4   Long2       15732 non-null  float64\n",
            " 5   Mid         15732 non-null  object \n",
            " 6   Future      15732 non-null  float64\n",
            " 7   Historical  15732 non-null  float64\n",
            "dtypes: float64(6), object(2)\n",
            "memory usage: 983.4+ KB\n"
          ]
        }
      ]
    },
    {
      "cell_type": "code",
      "source": [
        "columns_all = [\"Tile_ID\", \"Lat1\", \"Lat2\", \"Long1\", \"Long2\", \"Mid\", \"Future\", \"Historical\"]\n",
        "\n",
        "#columns_numeric = [\"Lat1\", \"Lat2\", \"Long1\", \"Long2\", \"Future\", \"Historical\"]"
      ],
      "metadata": {
        "id": "y1Vxjv61tdnX"
      },
      "id": "y1Vxjv61tdnX",
      "execution_count": 69,
      "outputs": []
    },
    {
      "cell_type": "code",
      "source": [
        "# prints data that will be plotted\n",
        "# columns shown here are selected by corr() since\n",
        "# they are ideal for the plot\n",
        "print(tiles.corr())\n",
        "  \n",
        "# plotting correlation heatmap\n",
        "dataplot = sns.heatmap(tiles.corr(), cmap=\"YlGnBu\", annot=True)"
      ],
      "metadata": {
        "colab": {
          "base_uri": "https://localhost:8080/",
          "height": 537
        },
        "id": "nLx9P5fip_m1",
        "outputId": "19e05257-6f8d-47ef-c366-7ac35c1061f6"
      },
      "id": "nLx9P5fip_m1",
      "execution_count": 70,
      "outputs": [
        {
          "output_type": "stream",
          "name": "stdout",
          "text": [
            "                    Lat1          Lat2         Long1         Long2    Future  \\\n",
            "Lat1        1.000000e+00  1.000000e+00  1.219339e-12  1.079946e-12  0.044614   \n",
            "Lat2        1.000000e+00  1.000000e+00  1.216505e-12  1.077094e-12  0.044614   \n",
            "Long1       1.219339e-12  1.216505e-12  1.000000e+00  1.000000e+00  0.056719   \n",
            "Long2       1.079946e-12  1.077094e-12  1.000000e+00  1.000000e+00  0.056719   \n",
            "Future      4.461376e-02  4.461376e-02  5.671917e-02  5.671917e-02  1.000000   \n",
            "Historical  4.983614e-02  4.983614e-02  5.792078e-02  5.792078e-02  0.751067   \n",
            "\n",
            "            Historical  \n",
            "Lat1          0.049836  \n",
            "Lat2          0.049836  \n",
            "Long1         0.057921  \n",
            "Long2         0.057921  \n",
            "Future        0.751067  \n",
            "Historical    1.000000  \n"
          ]
        },
        {
          "output_type": "display_data",
          "data": {
            "text/plain": [
              "<Figure size 432x288 with 2 Axes>"
            ],
            "image/png": "[encoded data removed]"
          },
          "metadata": {
            "needs_background": "light"
          }
        }
      ]
    },
    {
      "cell_type": "code",
      "source": [
        "corr = tiles[columns_all[:-1]].corr()\n",
        "fig, ax = mp.subplots(figsize=(11, 9))\n",
        "mask = np.zeros_like(corr, dtype=np.bool)\n",
        "mask[np.triu_indices_from(mask)] = True\n",
        "cmap = sns.diverging_palette(240, 10, as_cmap=True)\n",
        "sns.heatmap(corr, mask=mask, cmap=cmap, center=0, linewidths=.5)\n",
        "mp.title(\"Correlations between features.\")\n",
        "mp.show()"
      ],
      "metadata": {
        "colab": {
          "base_uri": "https://localhost:8080/",
          "height": 627
        },
        "id": "Hl1D3oE2tAa4",
        "outputId": "5b8d684c-8229-41e4-e2c6-ea1ddcf33d6a"
      },
      "id": "Hl1D3oE2tAa4",
      "execution_count": 71,
      "outputs": [
        {
          "output_type": "stream",
          "name": "stderr",
          "text": [
            "<ipython-input-71-8ee179e018ba>:3: DeprecationWarning: `np.bool` is a deprecated alias for the builtin `bool`. To silence this warning, use `bool` by itself. Doing this will not modify any behavior and is safe. If you specifically wanted the numpy scalar type, use `np.bool_` here.\n",
            "Deprecated in NumPy 1.20; for more details and guidance: https://numpy.org/devdocs/release/1.20.0-notes.html#deprecations\n",
            "  mask = np.zeros_like(corr, dtype=np.bool)\n"
          ]
        },
        {
          "output_type": "display_data",
          "data": {
            "text/plain": [
              "<Figure size 792x648 with 2 Axes>"
            ],
            "image/png": "[encoded data removed]"
          },
          "metadata": {
            "needs_background": "light"
          }
        }
      ]
    },
    {
      "cell_type": "markdown",
      "source": [
        "Based on the correlation matrix above, the accident_year and collision_date variables have strong correlation with the target variable, Future."
      ],
      "metadata": {
        "id": "1CXd2fKhvrmF"
      },
      "id": "1CXd2fKhvrmF"
    },
    {
      "cell_type": "code",
      "source": [
        "tiles[columns_all[:-1]].hist(figsize=(15,15), bins=15)\n",
        "mp.show()"
      ],
      "metadata": {
        "colab": {
          "base_uri": "https://localhost:8080/",
          "height": 879
        },
        "id": "b6KrsdhlOQS6",
        "outputId": "ea56d403-bd23-40dd-f09f-f1ac4fd04559"
      },
      "id": "b6KrsdhlOQS6",
      "execution_count": 72,
      "outputs": [
        {
          "output_type": "display_data",
          "data": {
            "text/plain": [
              "<Figure size 1080x1080 with 6 Axes>"
            ],
            "image/png": "[encoded data removed]"
          },
          "metadata": {
            "needs_background": "light"
          }
        }
      ]
    },
    {
      "cell_type": "code",
      "source": [
        "fig, ax_grid = plt.subplots(2, 2, figsize=(15,15))\n",
        "y = tiles['Future']\n",
        "for idx, feature in enumerate(columns_all[:4]):\n",
        "    x = tiles[feature]\n",
        "    sns.boxplot(x=x, y=y, ax=ax_grid[idx//2][idx%2], orient='h', linewidth=.5)\n",
        "    ax_grid[idx//3][idx%3].invert_yaxis()\n",
        "fig.suptitle(\"Individual Features vs. Outcome (Future)\", fontsize=15, y=0.9)\n",
        "plt.show()"
      ],
      "metadata": {
        "colab": {
          "base_uri": "https://localhost:8080/",
          "height": 1000
        },
        "id": "luEOaX8oFGlS",
        "outputId": "a10928af-e7d0-4455-85db-4e88d1f6d049"
      },
      "id": "luEOaX8oFGlS",
      "execution_count": 89,
      "outputs": [
        {
          "output_type": "error",
          "ename": "IndexError",
          "evalue": "ignored",
          "traceback": [
            "\u001b[0;31m---------------------------------------------------------------------------\u001b[0m",
            "\u001b[0;31mIndexError\u001b[0m                                Traceback (most recent call last)",
            "\u001b[0;32m<ipython-input-89-12e1ea41e647>\u001b[0m in \u001b[0;36m<module>\u001b[0;34m\u001b[0m\n\u001b[1;32m      4\u001b[0m     \u001b[0mx\u001b[0m \u001b[0;34m=\u001b[0m \u001b[0mtiles\u001b[0m\u001b[0;34m[\u001b[0m\u001b[0mfeature\u001b[0m\u001b[0;34m]\u001b[0m\u001b[0;34m\u001b[0m\u001b[0;34m\u001b[0m\u001b[0m\n\u001b[1;32m      5\u001b[0m     \u001b[0msns\u001b[0m\u001b[0;34m.\u001b[0m\u001b[0mboxplot\u001b[0m\u001b[0;34m(\u001b[0m\u001b[0mx\u001b[0m\u001b[0;34m=\u001b[0m\u001b[0mx\u001b[0m\u001b[0;34m,\u001b[0m \u001b[0my\u001b[0m\u001b[0;34m=\u001b[0m\u001b[0my\u001b[0m\u001b[0;34m,\u001b[0m \u001b[0max\u001b[0m\u001b[0;34m=\u001b[0m\u001b[0max_grid\u001b[0m\u001b[0;34m[\u001b[0m\u001b[0midx\u001b[0m\u001b[0;34m//\u001b[0m\u001b[0;36m2\u001b[0m\u001b[0;34m]\u001b[0m\u001b[0;34m[\u001b[0m\u001b[0midx\u001b[0m\u001b[0;34m%\u001b[0m\u001b[0;36m2\u001b[0m\u001b[0;34m]\u001b[0m\u001b[0;34m,\u001b[0m \u001b[0morient\u001b[0m\u001b[0;34m=\u001b[0m\u001b[0;34m'h'\u001b[0m\u001b[0;34m,\u001b[0m \u001b[0mlinewidth\u001b[0m\u001b[0;34m=\u001b[0m\u001b[0;36m.5\u001b[0m\u001b[0;34m)\u001b[0m\u001b[0;34m\u001b[0m\u001b[0;34m\u001b[0m\u001b[0m\n\u001b[0;32m----> 6\u001b[0;31m     \u001b[0max_grid\u001b[0m\u001b[0;34m[\u001b[0m\u001b[0midx\u001b[0m\u001b[0;34m//\u001b[0m\u001b[0;36m3\u001b[0m\u001b[0;34m]\u001b[0m\u001b[0;34m[\u001b[0m\u001b[0midx\u001b[0m\u001b[0;34m%\u001b[0m\u001b[0;36m3\u001b[0m\u001b[0;34m]\u001b[0m\u001b[0;34m.\u001b[0m\u001b[0minvert_yaxis\u001b[0m\u001b[0;34m(\u001b[0m\u001b[0;34m)\u001b[0m\u001b[0;34m\u001b[0m\u001b[0;34m\u001b[0m\u001b[0m\n\u001b[0m\u001b[1;32m      7\u001b[0m \u001b[0mfig\u001b[0m\u001b[0;34m.\u001b[0m\u001b[0msuptitle\u001b[0m\u001b[0;34m(\u001b[0m\u001b[0;34m\"Individual Features vs. Outcome (Future)\"\u001b[0m\u001b[0;34m,\u001b[0m \u001b[0mfontsize\u001b[0m\u001b[0;34m=\u001b[0m\u001b[0;36m15\u001b[0m\u001b[0;34m,\u001b[0m \u001b[0my\u001b[0m\u001b[0;34m=\u001b[0m\u001b[0;36m0.9\u001b[0m\u001b[0;34m)\u001b[0m\u001b[0;34m\u001b[0m\u001b[0;34m\u001b[0m\u001b[0m\n\u001b[1;32m      8\u001b[0m \u001b[0mplt\u001b[0m\u001b[0;34m.\u001b[0m\u001b[0mshow\u001b[0m\u001b[0;34m(\u001b[0m\u001b[0;34m)\u001b[0m\u001b[0;34m\u001b[0m\u001b[0;34m\u001b[0m\u001b[0m\n",
            "\u001b[0;31mIndexError\u001b[0m: index 2 is out of bounds for axis 0 with size 2"
          ]
        },
        {
          "output_type": "display_data",
          "data": {
            "text/plain": [
              "<Figure size 1080x1080 with 4 Axes>"
            ],
            "image/png": "[encoded data removed]"
          },
          "metadata": {
            "needs_background": "light"
          }
        }
      ]
    },
    {
      "cell_type": "code",
      "execution_count": 73,
      "id": "13977b38",
      "metadata": {
        "id": "13977b38",
        "colab": {
          "base_uri": "https://localhost:8080/",
          "height": 335
        },
        "outputId": "b99a6dac-299b-4909-946d-3fe58b5baa8e"
      },
      "outputs": [
        {
          "output_type": "execute_result",
          "data": {
            "text/plain": [
              "array([[<matplotlib.axes._subplots.AxesSubplot object at 0x7f29259ca6d0>,\n",
              "        <matplotlib.axes._subplots.AxesSubplot object at 0x7f2917a623d0>]],\n",
              "      dtype=object)"
            ]
          },
          "metadata": {},
          "execution_count": 73
        },
        {
          "output_type": "display_data",
          "data": {
            "text/plain": [
              "<Figure size 432x288 with 2 Axes>"
            ],
            "image/png": "[encoded data removed]"
          },
          "metadata": {
            "needs_background": "light"
          }
        }
      ],
      "source": [
        "#how many tiles had the same historical and future number of collisions, how many went up, and how many went down\n",
        "\n",
        "collisions = collisions[(collisions['Future'] == 1) | (collisions['Historical'] == 1)]\n",
        "collisions_f = collisions[collisions['Future'] == 1]\n",
        "collisions_h = collisions[collisions['Historical'] == 1]\n",
        "\n",
        "collisions_count = collisions[['Future', 'Historical']]\n",
        "#collisions_count.head()\n",
        "collisions_count.hist()"
      ]
    },
    {
      "cell_type": "markdown",
      "id": "c3a6b82c",
      "metadata": {
        "id": "c3a6b82c"
      },
      "source": [
        "Split into training and test"
      ]
    },
    {
      "cell_type": "code",
      "execution_count": 74,
      "id": "0d50fdd4",
      "metadata": {
        "id": "0d50fdd4"
      },
      "outputs": [],
      "source": [
        "from sklearn.model_selection import train_test_split\n",
        "\n",
        "x_train, x_test, y_train, y_test = train_test_split(tiles[['Historical', 'Lat1','Lat2']], \n",
        "                                   tiles['Future'],\n",
        "                                   random_state=104, \n",
        "                                   test_size=0.20, \n",
        "                                   shuffle=True)"
      ]
    },
    {
      "cell_type": "markdown",
      "id": "fffe2d02",
      "metadata": {
        "id": "fffe2d02"
      },
      "source": [
        "Train model"
      ]
    },
    {
      "cell_type": "code",
      "execution_count": 75,
      "id": "8af0c2c2",
      "metadata": {
        "id": "8af0c2c2",
        "colab": {
          "base_uri": "https://localhost:8080/"
        },
        "outputId": "2df10e75-4c03-4c0b-f025-930a102d3b14"
      },
      "outputs": [
        {
          "output_type": "stream",
          "name": "stdout",
          "text": [
            "Model: \"linear_model\"\n",
            "_________________________________________________________________\n",
            " Layer (type)                Output Shape              Param #   \n",
            "=================================================================\n",
            " input_1 (InputLayer)        [(None, 3)]               0         \n",
            "                                                                 \n",
            " normalization (Normalizatio  (None, 3)                3         \n",
            " n)                                                              \n",
            "                                                                 \n",
            " dense (Dense)               (None, 1)                 4         \n",
            "                                                                 \n",
            "=================================================================\n",
            "Total params: 7\n",
            "Trainable params: 4\n",
            "Non-trainable params: 3\n",
            "_________________________________________________________________\n",
            "Epoch 1/10\n",
            "315/315 [==============================] - 3s 6ms/step - loss: 2.4735 - accuracy: 0.4661 - val_loss: 0.3572 - val_accuracy: 0.8729\n",
            "Epoch 2/10\n",
            "315/315 [==============================] - 1s 4ms/step - loss: 0.3466 - accuracy: 0.8583 - val_loss: 0.3572 - val_accuracy: 0.8729\n",
            "Epoch 3/10\n",
            "315/315 [==============================] - 1s 4ms/step - loss: 0.3466 - accuracy: 0.8583 - val_loss: 0.3572 - val_accuracy: 0.8729\n",
            "Epoch 4/10\n",
            "315/315 [==============================] - 1s 3ms/step - loss: 0.3466 - accuracy: 0.8583 - val_loss: 0.3572 - val_accuracy: 0.8729\n",
            "Epoch 5/10\n",
            "315/315 [==============================] - 1s 3ms/step - loss: 0.3466 - accuracy: 0.8583 - val_loss: 0.3572 - val_accuracy: 0.8729\n",
            "Epoch 6/10\n",
            "315/315 [==============================] - 1s 3ms/step - loss: 0.3466 - accuracy: 0.8583 - val_loss: 0.3572 - val_accuracy: 0.8729\n",
            "Epoch 7/10\n",
            "315/315 [==============================] - 1s 2ms/step - loss: 0.3466 - accuracy: 0.8583 - val_loss: 0.3572 - val_accuracy: 0.8729\n",
            "Epoch 8/10\n",
            "315/315 [==============================] - 1s 2ms/step - loss: 0.3466 - accuracy: 0.8583 - val_loss: 0.3572 - val_accuracy: 0.8729\n",
            "Epoch 9/10\n",
            "315/315 [==============================] - 1s 2ms/step - loss: 0.3466 - accuracy: 0.8583 - val_loss: 0.3572 - val_accuracy: 0.8729\n",
            "Epoch 10/10\n",
            "315/315 [==============================] - 1s 2ms/step - loss: 0.3466 - accuracy: 0.8583 - val_loss: 0.3572 - val_accuracy: 0.8729\n"
          ]
        }
      ],
      "source": [
        "import tensorflow as tf\n",
        "\n",
        "from tensorflow import keras\n",
        "from tensorflow.keras import layers\n",
        "\n",
        "# x: lat, long, historical\n",
        "# y: future \n",
        "\n",
        "def create_linear_model():\n",
        "\n",
        "    input = tf.keras.layers.Input(shape=(3,))\n",
        "    \n",
        "    #input_t = tf.data.Dataset.from_tensor_slices(input.to_dict(orient=\"list\"))\n",
        "\n",
        "    normalized = layers.Normalization(input_shape=[3,], axis=None)(input)\n",
        "\n",
        "   #x = normalizer(input_t)\n",
        "\n",
        "    outputs = layers.Dense(1, activation = 'relu')(normalized)\n",
        "\n",
        "    linear_model = tf.keras.models.Model(inputs=input, outputs=outputs, name=\"linear_model\")\n",
        "\n",
        "    linear_model.summary()\n",
        "\n",
        "    linear_model.compile(\n",
        "        optimizer=tf.keras.optimizers.Adam(learning_rate=0.001),\n",
        "        loss='mean_absolute_error',\n",
        "        metrics = [tf.keras.metrics.Accuracy()])\n",
        "    \n",
        "    return linear_model\n",
        "\n",
        "linear_model = create_linear_model()\n",
        "\n",
        "history = linear_model.fit(\n",
        "    np.asarray(x_train).astype('float32'),\n",
        "    y_train,\n",
        "    epochs=10,\n",
        "    # Suppress logging.\n",
        "    verbose=1,\n",
        "    # Calculate validation results on 20% of the training data.\n",
        "    validation_split = 0.2)"
      ]
    },
    {
      "cell_type": "code",
      "execution_count": 76,
      "id": "6801a371",
      "metadata": {
        "id": "6801a371"
      },
      "outputs": [],
      "source": [
        "import matplotlib\n",
        "import matplotlib.pyplot as plt\n",
        "\n",
        "def plot_loss(history):\n",
        "    plt.plot(history.history['loss'], label='loss')\n",
        "    plt.plot(history.history['val_loss'], label='val_loss')\n",
        "    plt.plot(history.history['accuracy'], label='accuracy')\n",
        "    plt.plot(history.history['val_accuracy'], label='val_accuracy')\n",
        "    plt.ylim([0, 10])\n",
        "    plt.xlabel('Epoch')\n",
        "    plt.ylabel('Error/Accuracy')\n",
        "    plt.legend()\n",
        "    plt.grid(True)"
      ]
    },
    {
      "cell_type": "code",
      "execution_count": 77,
      "id": "5d8b16f8",
      "metadata": {
        "id": "5d8b16f8",
        "colab": {
          "base_uri": "https://localhost:8080/",
          "height": 283
        },
        "outputId": "8c74a1ae-ea61-4c05-af62-8c985628bb47"
      },
      "outputs": [
        {
          "output_type": "display_data",
          "data": {
            "text/plain": [
              "<Figure size 432x288 with 1 Axes>"
            ],
            "image/png": "[encoded data removed]"
          },
          "metadata": {
            "needs_background": "light"
          }
        }
      ],
      "source": [
        "plot_loss(history)"
      ]
    },
    {
      "cell_type": "markdown",
      "id": "168e14a4",
      "metadata": {
        "id": "168e14a4"
      },
      "source": [
        "Test model"
      ]
    },
    {
      "cell_type": "markdown",
      "id": "bcddd0e1",
      "metadata": {
        "id": "bcddd0e1"
      },
      "source": [
        "Model actual future collisions"
      ]
    },
    {
      "cell_type": "markdown",
      "id": "a032bd29",
      "metadata": {
        "id": "a032bd29"
      },
      "source": [
        "Create dashboard featuring future hotspots"
      ]
    }
  ],
  "metadata": {
    "kernelspec": {
      "display_name": "Python 3 (ipykernel)",
      "language": "python",
      "name": "python3"
    },
    "language_info": {
      "codemirror_mode": {
        "name": "ipython",
        "version": 3
      },
      "file_extension": ".py",
      "mimetype": "text/x-python",
      "name": "python",
      "nbconvert_exporter": "python",
      "pygments_lexer": "ipython3",
      "version": "3.8.11"
    },
    "colab": {
      "provenance": []
    }
  },
  "nbformat": 4,
  "nbformat_minor": 5
}