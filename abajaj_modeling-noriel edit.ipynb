{
 "cells": [
  {
   "cell_type": "code",
   "execution_count": 1,
   "id": "cbe8314a-60a7-4de8-be72-620b659ef79d",
   "metadata": {
    "tags": []
   },
   "outputs": [],
   "source": [
    "#!pip3 install imagecodecs\n",
    "#!pip3 install numpy tensorflow matplotlib scipy\n",
    "#!pip3 install pandas\n",
    "#!pip3 install tifffile\n",
    "#!pip3 install -U scikit-learn scipy matplotlib\n",
    "#!pip3 install tensorflow-addons\n",
    "#!pip3 install tensorflow_decision_forests --upgrade"
   ]
  },
  {
   "cell_type": "code",
   "execution_count": 2,
   "id": "356025b8",
   "metadata": {
    "tags": []
   },
   "outputs": [
    {
     "name": "stderr",
     "output_type": "stream",
     "text": [
      "2023-03-15 17:59:18.685524: I tensorflow/core/platform/cpu_feature_guard.cc:193] This TensorFlow binary is optimized with oneAPI Deep Neural Network Library (oneDNN) to use the following CPU instructions in performance-critical operations:  AVX2 FMA\n",
      "To enable them in other operations, rebuild TensorFlow with the appropriate compiler flags.\n",
      "2023-03-15 17:59:19.386516: W tensorflow/compiler/xla/stream_executor/platform/default/dso_loader.cc:64] Could not load dynamic library 'libcudart.so.11.0'; dlerror: libcudart.so.11.0: cannot open shared object file: No such file or directory\n",
      "2023-03-15 17:59:19.386550: I tensorflow/compiler/xla/stream_executor/cuda/cudart_stub.cc:29] Ignore above cudart dlerror if you do not have a GPU set up on your machine.\n",
      "2023-03-15 17:59:21.692944: W tensorflow/compiler/xla/stream_executor/platform/default/dso_loader.cc:64] Could not load dynamic library 'libnvinfer.so.7'; dlerror: libnvinfer.so.7: cannot open shared object file: No such file or directory\n",
      "2023-03-15 17:59:21.693061: W tensorflow/compiler/xla/stream_executor/platform/default/dso_loader.cc:64] Could not load dynamic library 'libnvinfer_plugin.so.7'; dlerror: libnvinfer_plugin.so.7: cannot open shared object file: No such file or directory\n",
      "2023-03-15 17:59:21.693074: W tensorflow/compiler/tf2tensorrt/utils/py_utils.cc:38] TF-TRT Warning: Cannot dlopen some TensorRT libraries. If you would like to use Nvidia GPU with TensorRT, please make sure the missing libraries mentioned above are installed properly.\n"
     ]
    }
   ],
   "source": [
    "import math\n",
    "import matplotlib\n",
    "import matplotlib.pyplot as plt\n",
    "\n",
    "import numpy as np\n",
    "from numba import cuda \n",
    "\n",
    "import os\n",
    "\n",
    "import pandas as pd\n",
    "\n",
    "import tensorflow as tf\n",
    "import tensorflow_addons as tfa\n",
    "import tensorflow_decision_forests as tfdf\n",
    "import tifffile\n",
    "from keras.layers import Flatten, Dense, Dropout\n",
    "from tensorflow import keras\n",
    "from tensorflow.keras import layers\n",
    "from tensorflow.keras.layers import concatenate\n",
    "\n",
    "\n",
    "import scipy\n",
    "from sklearn.model_selection import train_test_split\n",
    "from sklearn.preprocessing import LabelBinarizer"
   ]
  },
  {
   "cell_type": "code",
   "execution_count": 3,
   "id": "beb3f5e7-1637-45a6-8430-79093f8c6d38",
   "metadata": {
    "tags": []
   },
   "outputs": [],
   "source": [
    "def reset_gpu():\n",
    "    device = cuda.get_current_device()\n",
    "    device.reset()"
   ]
  },
  {
   "cell_type": "code",
   "execution_count": 58,
   "id": "8bb10982-72ec-439c-9c1a-6c182803eb2f",
   "metadata": {
    "tags": []
   },
   "outputs": [],
   "source": [
    "def plot_loss(history):\n",
    "    plt.plot(history.history['loss'], label='loss')\n",
    "    plt.plot(history.history['val_loss'], label='val_loss')\n",
    "   # plt.plot(history.history['accuracy'], label='accuracy')\n",
    "   # plt.plot(history.history['val_accuracy'], label='val_accuracy')\n",
    "    plt.ylim([0, \n",
    "            max(\n",
    "                max(history.history['loss']),\n",
    "                max(history.history['val_loss'])\n",
    "            )])\n",
    "    plt.xlabel('Epoch')\n",
    "    plt.ylabel('Mean Square Error')\n",
    "    plt.legend()\n",
    "    plt.grid(True)"
   ]
  },
  {
   "cell_type": "code",
   "execution_count": 5,
   "id": "f3693092",
   "metadata": {
    "tags": []
   },
   "outputs": [],
   "source": [
    "tiles = pd.read_csv(r'Data/Tiles_expanded.csv')\n",
    "tiles_expanded_rv = pd.read_csv(r'Data/Tiles_expanded_road_vector.csv').drop(['Unnamed: 0'],axis=1)\n",
    "tiles_expanded_rv = pd.get_dummies(tiles_expanded_rv, columns = ['RTTYP'])"
   ]
  },
  {
   "cell_type": "code",
   "execution_count": 6,
   "id": "29e5ddd8-bf87-4021-8274-ee55f64b54a7",
   "metadata": {
    "tags": []
   },
   "outputs": [
    {
     "data": {
      "text/html": [
       "<div>\n",
       "<style scoped>\n",
       "    .dataframe tbody tr th:only-of-type {\n",
       "        vertical-align: middle;\n",
       "    }\n",
       "\n",
       "    .dataframe tbody tr th {\n",
       "        vertical-align: top;\n",
       "    }\n",
       "\n",
       "    .dataframe thead th {\n",
       "        text-align: right;\n",
       "    }\n",
       "</style>\n",
       "<table border=\"1\" class=\"dataframe\">\n",
       "  <thead>\n",
       "    <tr style=\"text-align: right;\">\n",
       "      <th></th>\n",
       "      <th>Tile_ID</th>\n",
       "      <th>Long2</th>\n",
       "      <th>Lat2</th>\n",
       "      <th>Long1</th>\n",
       "      <th>Lat1</th>\n",
       "      <th>Mid_lat</th>\n",
       "      <th>Mid_long</th>\n",
       "      <th>Stop_Signs</th>\n",
       "      <th>Paving_historical</th>\n",
       "      <th>Paving_future</th>\n",
       "      <th>Bus_stop</th>\n",
       "      <th>Collisions_Future</th>\n",
       "      <th>Collisions_Historical</th>\n",
       "      <th>RTTYP_I</th>\n",
       "      <th>RTTYP_M</th>\n",
       "      <th>RTTYP_O</th>\n",
       "      <th>RTTYP_S</th>\n",
       "      <th>RTTYP_U</th>\n",
       "    </tr>\n",
       "  </thead>\n",
       "  <tbody>\n",
       "    <tr>\n",
       "      <th>0</th>\n",
       "      <td>36</td>\n",
       "      <td>-122.514446</td>\n",
       "      <td>37.779636</td>\n",
       "      <td>-122.513306</td>\n",
       "      <td>37.778732</td>\n",
       "      <td>37.779184</td>\n",
       "      <td>-122.513876</td>\n",
       "      <td>0.0</td>\n",
       "      <td>0.0</td>\n",
       "      <td>0.0</td>\n",
       "      <td>0.0</td>\n",
       "      <td>0.0</td>\n",
       "      <td>0.0</td>\n",
       "      <td>0</td>\n",
       "      <td>1</td>\n",
       "      <td>0</td>\n",
       "      <td>0</td>\n",
       "      <td>0</td>\n",
       "    </tr>\n",
       "    <tr>\n",
       "      <th>1</th>\n",
       "      <td>37</td>\n",
       "      <td>-122.514446</td>\n",
       "      <td>37.778732</td>\n",
       "      <td>-122.513306</td>\n",
       "      <td>37.777829</td>\n",
       "      <td>37.778280</td>\n",
       "      <td>-122.513876</td>\n",
       "      <td>0.0</td>\n",
       "      <td>0.0</td>\n",
       "      <td>0.0</td>\n",
       "      <td>0.0</td>\n",
       "      <td>0.0</td>\n",
       "      <td>0.0</td>\n",
       "      <td>0</td>\n",
       "      <td>1</td>\n",
       "      <td>0</td>\n",
       "      <td>0</td>\n",
       "      <td>0</td>\n",
       "    </tr>\n",
       "    <tr>\n",
       "      <th>2</th>\n",
       "      <td>151</td>\n",
       "      <td>-122.513306</td>\n",
       "      <td>37.779636</td>\n",
       "      <td>-122.512166</td>\n",
       "      <td>37.778732</td>\n",
       "      <td>37.779184</td>\n",
       "      <td>-122.512736</td>\n",
       "      <td>0.0</td>\n",
       "      <td>0.0</td>\n",
       "      <td>0.0</td>\n",
       "      <td>0.0</td>\n",
       "      <td>0.0</td>\n",
       "      <td>0.0</td>\n",
       "      <td>0</td>\n",
       "      <td>1</td>\n",
       "      <td>0</td>\n",
       "      <td>0</td>\n",
       "      <td>0</td>\n",
       "    </tr>\n",
       "    <tr>\n",
       "      <th>3</th>\n",
       "      <td>152</td>\n",
       "      <td>-122.513306</td>\n",
       "      <td>37.778732</td>\n",
       "      <td>-122.512166</td>\n",
       "      <td>37.777829</td>\n",
       "      <td>37.778280</td>\n",
       "      <td>-122.512736</td>\n",
       "      <td>0.0</td>\n",
       "      <td>0.0</td>\n",
       "      <td>0.0</td>\n",
       "      <td>0.0</td>\n",
       "      <td>0.0</td>\n",
       "      <td>0.0</td>\n",
       "      <td>0</td>\n",
       "      <td>1</td>\n",
       "      <td>0</td>\n",
       "      <td>0</td>\n",
       "      <td>0</td>\n",
       "    </tr>\n",
       "    <tr>\n",
       "      <th>4</th>\n",
       "      <td>153</td>\n",
       "      <td>-122.513306</td>\n",
       "      <td>37.777829</td>\n",
       "      <td>-122.512166</td>\n",
       "      <td>37.776925</td>\n",
       "      <td>37.777377</td>\n",
       "      <td>-122.512736</td>\n",
       "      <td>0.0</td>\n",
       "      <td>0.0</td>\n",
       "      <td>0.0</td>\n",
       "      <td>0.0</td>\n",
       "      <td>0.0</td>\n",
       "      <td>0.0</td>\n",
       "      <td>0</td>\n",
       "      <td>1</td>\n",
       "      <td>0</td>\n",
       "      <td>0</td>\n",
       "      <td>0</td>\n",
       "    </tr>\n",
       "  </tbody>\n",
       "</table>\n",
       "</div>"
      ],
      "text/plain": [
       "   Tile_ID       Long2       Lat2       Long1       Lat1    Mid_lat  \\\n",
       "0       36 -122.514446  37.779636 -122.513306  37.778732  37.779184   \n",
       "1       37 -122.514446  37.778732 -122.513306  37.777829  37.778280   \n",
       "2      151 -122.513306  37.779636 -122.512166  37.778732  37.779184   \n",
       "3      152 -122.513306  37.778732 -122.512166  37.777829  37.778280   \n",
       "4      153 -122.513306  37.777829 -122.512166  37.776925  37.777377   \n",
       "\n",
       "     Mid_long  Stop_Signs  Paving_historical  Paving_future  Bus_stop  \\\n",
       "0 -122.513876         0.0                0.0            0.0       0.0   \n",
       "1 -122.513876         0.0                0.0            0.0       0.0   \n",
       "2 -122.512736         0.0                0.0            0.0       0.0   \n",
       "3 -122.512736         0.0                0.0            0.0       0.0   \n",
       "4 -122.512736         0.0                0.0            0.0       0.0   \n",
       "\n",
       "   Collisions_Future  Collisions_Historical  RTTYP_I  RTTYP_M  RTTYP_O  \\\n",
       "0                0.0                    0.0        0        1        0   \n",
       "1                0.0                    0.0        0        1        0   \n",
       "2                0.0                    0.0        0        1        0   \n",
       "3                0.0                    0.0        0        1        0   \n",
       "4                0.0                    0.0        0        1        0   \n",
       "\n",
       "   RTTYP_S  RTTYP_U  \n",
       "0        0        0  \n",
       "1        0        0  \n",
       "2        0        0  \n",
       "3        0        0  \n",
       "4        0        0  "
      ]
     },
     "execution_count": 6,
     "metadata": {},
     "output_type": "execute_result"
    }
   ],
   "source": [
    "tiles_expanded_rv.head()"
   ]
  },
  {
   "cell_type": "code",
   "execution_count": 7,
   "id": "d02cf6af-4d7f-4cbe-91f0-6a33a0ba3c86",
   "metadata": {
    "tags": []
   },
   "outputs": [],
   "source": [
    "tiles_expanded_rv['Collisions_Future_binary']=tiles_expanded_rv['Collisions_Future'].apply(lambda x: 1 if x > 0 else 0)\n",
    "tiles_expanded_rv['Collisions_Historical_binary']=tiles_expanded_rv['Collisions_Historical'].apply(lambda x: 1 if x > 0 else 0)"
   ]
  },
  {
   "cell_type": "code",
   "execution_count": 8,
   "id": "e145981e-fe51-49f8-93e4-b1c07d56a8cd",
   "metadata": {
    "tags": []
   },
   "outputs": [
    {
     "data": {
      "text/plain": [
       "10471"
      ]
     },
     "execution_count": 8,
     "metadata": {},
     "output_type": "execute_result"
    }
   ],
   "source": [
    "len(tiles)"
   ]
  },
  {
   "cell_type": "markdown",
   "id": "13f22a15-184e-466c-8edd-448bd974f88d",
   "metadata": {
    "tags": []
   },
   "source": [
    "# Normalize data"
   ]
  },
  {
   "cell_type": "code",
   "execution_count": 9,
   "id": "3d2d6b89-b6a3-4465-ac2b-be220741cea8",
   "metadata": {
    "tags": []
   },
   "outputs": [],
   "source": [
    "def normalize_col(df, col_name):\n",
    "\n",
    "    norm = (df[col_name] - df[col_name].min()) / (df[col_name].max() - df[col_name].min())\n",
    "    return norm\n",
    "\n",
    "tiles_expanded_rv['Mid_lat_norm'] = normalize_col(tiles_expanded_rv,'Mid_lat')\n",
    "tiles_expanded_rv['Mid_long_norm'] = normalize_col(tiles_expanded_rv,'Mid_long')\n"
   ]
  },
  {
   "cell_type": "markdown",
   "id": "c3a6b82c",
   "metadata": {},
   "source": [
    "Split into training and test"
   ]
  },
  {
   "cell_type": "code",
   "execution_count": 10,
   "id": "3863e2c6-24b6-45f2-98a9-82be80805bc7",
   "metadata": {
    "tags": []
   },
   "outputs": [
    {
     "data": {
      "text/plain": [
       "Index(['Tile_ID', 'Long2', 'Lat2', 'Long1', 'Lat1', 'Mid_lat', 'Mid_long',\n",
       "       'Stop_Signs', 'Paving_historical', 'Paving_future', 'Bus_stop',\n",
       "       'Collisions_Future', 'Collisions_Historical', 'RTTYP_I', 'RTTYP_M',\n",
       "       'RTTYP_O', 'RTTYP_S', 'RTTYP_U', 'Collisions_Future_binary',\n",
       "       'Collisions_Historical_binary', 'Mid_lat_norm', 'Mid_long_norm'],\n",
       "      dtype='object')"
      ]
     },
     "execution_count": 10,
     "metadata": {},
     "output_type": "execute_result"
    }
   ],
   "source": [
    "tiles_expanded_rv.columns"
   ]
  },
  {
   "cell_type": "code",
   "execution_count": 11,
   "id": "0d50fdd4",
   "metadata": {
    "tags": []
   },
   "outputs": [],
   "source": [
    "MODEL_TYPE='linear' # 'linear'\n",
    "\n",
    "if MODEL_TYPE == 'linear':\n",
    "    input_x = ['Tile_ID','Collisions_Historical', 'Mid_lat_norm','Mid_long_norm', 'Stop_Signs', 'Paving_historical', 'Bus_stop','RTTYP_I','RTTYP_M','RTTYP_O','RTTYP_S','RTTYP_U']\n",
    "    input_y = tiles_expanded_rv['Collisions_Future']\n",
    "elif MODEL_TYPE == 'logistic':\n",
    "    input_x = ['Tile_ID','Collisions_Historical_binary', 'Mid_lat_norm','Mid_long_norm', 'Stop_Signs', 'Paving_historical', 'Bus_stop','RTTYP_I','RTTYP_M','RTTYP_O','RTTYP_S','RTTYP_U']\n",
    "    input_y = ['Collisions_Future_binary']\n",
    "    \n",
    "\n",
    "x_train, x_test, y_train, y_test = train_test_split(\n",
    "                                    tiles_expanded_rv[input_x], \n",
    "                                    input_y,\n",
    "                                    random_state=104, \n",
    "                                    test_size=0.20, \n",
    "                                    shuffle=True)\n",
    "\n"
   ]
  },
  {
   "cell_type": "code",
   "execution_count": 12,
   "id": "8765668b-0c61-4d60-8ee0-3c7dbeaf1d3e",
   "metadata": {
    "tags": []
   },
   "outputs": [],
   "source": [
    "# np.asarray(x_train[['Collisions_Historical', 'Mid_lat_norm','Mid_long_norm', 'Stop_Signs', 'Paving_historical', 'Bus_stop','RTTYP_I','RTTYP_M','RTTYP_O','RTTYP_S','RTTYP_U']]).astype('float32').shape"
   ]
  },
  {
   "cell_type": "code",
   "execution_count": 13,
   "id": "f9b09f27-204a-49c0-821b-8ec2cebeeede",
   "metadata": {
    "tags": []
   },
   "outputs": [
    {
     "data": {
      "text/plain": [
       "8376"
      ]
     },
     "execution_count": 13,
     "metadata": {},
     "output_type": "execute_result"
    }
   ],
   "source": [
    "len(x_train)"
   ]
  },
  {
   "cell_type": "code",
   "execution_count": 14,
   "id": "4e076adb-e79f-4610-99c4-4c93acca73f4",
   "metadata": {
    "tags": []
   },
   "outputs": [
    {
     "data": {
      "text/plain": [
       "8376"
      ]
     },
     "execution_count": 14,
     "metadata": {},
     "output_type": "execute_result"
    }
   ],
   "source": [
    "len(y_train)"
   ]
  },
  {
   "cell_type": "code",
   "execution_count": 15,
   "id": "fe3b681a-b95b-422a-8a86-c31ecdb9187c",
   "metadata": {
    "tags": []
   },
   "outputs": [
    {
     "data": {
      "text/plain": [
       "2095"
      ]
     },
     "execution_count": 15,
     "metadata": {},
     "output_type": "execute_result"
    }
   ],
   "source": [
    "len(x_test)"
   ]
  },
  {
   "cell_type": "code",
   "execution_count": 16,
   "id": "ec5934a5-321d-4d47-b7bd-7caec29eb4ee",
   "metadata": {
    "tags": []
   },
   "outputs": [
    {
     "data": {
      "text/plain": [
       "2095"
      ]
     },
     "execution_count": 16,
     "metadata": {},
     "output_type": "execute_result"
    }
   ],
   "source": [
    "len(y_test)"
   ]
  },
  {
   "cell_type": "markdown",
   "id": "fffe2d02",
   "metadata": {},
   "source": [
    "Model #1: Linear regression using Historical Collisions, SFMTA Street Characteristics, and Geocoordinates"
   ]
  },
  {
   "cell_type": "markdown",
   "id": "bf220283",
   "metadata": {},
   "source": [
    "## Image Pre-Processing"
   ]
  },
  {
   "cell_type": "code",
   "execution_count": 17,
   "id": "ea514649",
   "metadata": {
    "tags": []
   },
   "outputs": [],
   "source": [
    "IMAGE_PATH = '../210_Capstone_Aditya_Arisa_Noriel/Satellite Imagery/Satellite Images Tiled/' "
   ]
  },
  {
   "cell_type": "code",
   "execution_count": 18,
   "id": "b40c2ccb",
   "metadata": {
    "tags": []
   },
   "outputs": [],
   "source": [
    "#eda\n",
    "img = tifffile.imread('../210_Capstone_Aditya_Arisa_Noriel/Satellite Imagery/Satellite Images Tiled/36.tif')[0:148, 0:188, :]\n",
    "img2 = tifffile.imread('../210_Capstone_Aditya_Arisa_Noriel/Satellite Imagery/Satellite Images Tiled/37.tif')[0:148, 0:188, :]"
   ]
  },
  {
   "cell_type": "code",
   "execution_count": 19,
   "id": "97889d4b",
   "metadata": {
    "tags": []
   },
   "outputs": [
    {
     "name": "stdout",
     "output_type": "stream",
     "text": [
      "(148, 188, 4)\n"
     ]
    }
   ],
   "source": [
    "# eda\n",
    "print(np.shape(img2))"
   ]
  },
  {
   "cell_type": "code",
   "execution_count": 20,
   "id": "545c8609",
   "metadata": {
    "scrolled": true,
    "tags": []
   },
   "outputs": [
    {
     "name": "stdout",
     "output_type": "stream",
     "text": [
      "(2, 148, 188, 4)\n",
      "(2, 148, 188, 4)\n"
     ]
    }
   ],
   "source": [
    "# eda\n",
    "test = []\n",
    "test.append(img[0:148, 0:188, :])\n",
    "test.append(img2[0:148, 0:188, :])\n",
    "print(np.shape(test))\n",
    "test = np.stack(test)\n",
    "print(np.shape(test))"
   ]
  },
  {
   "cell_type": "code",
   "execution_count": 21,
   "id": "6465a7d8-3427-4b10-b950-2e7070012a9d",
   "metadata": {
    "tags": []
   },
   "outputs": [
    {
     "name": "stdout",
     "output_type": "stream",
     "text": [
      "[185. 177. 160. 130.]\n",
      "[174.0, 130.0]\n",
      "[174.0, 130.0]\n"
     ]
    }
   ],
   "source": [
    "#example of accessing RGB digits and storing average in a list\n",
    "\n",
    "list_ = []\n",
    "\n",
    "print(img[0][0])\n",
    "print([np.mean(img[0][0][0:3]), img[0][0][3]])\n",
    "\n",
    "for i in img:\n",
    "    for j in i:\n",
    "        list_.append([np.mean(j[0:3]), j[3]])\n",
    "\n",
    "print(list_[0])"
   ]
  },
  {
   "cell_type": "code",
   "execution_count": 22,
   "id": "9298e629",
   "metadata": {
    "tags": []
   },
   "outputs": [],
   "source": [
    "def preprocess_data_part1(IMAGE_PATH):\n",
    "    \"\"\" Generate lists of images and labelsbased on temp_no_refer and temp_refer lists\n",
    "    \n",
    "    Params:\n",
    "    -------\n",
    "    IMAGE_PATH (str): path to directory with images.\n",
    "    \n",
    "    Returns:\n",
    "    --------\n",
    "    images_mini  (np.ndarray): Images of shape (N, 149 3)\n",
    "    \"\"\"\n",
    "    \n",
    "    data_mini = []\n",
    "    \n",
    "    for id in x_train['Tile_ID']:    \n",
    "                    \n",
    "        # read image and store as matrix            \n",
    "        # Index at the end makes all images the same size (they sometimes differ by 1 pixel)\n",
    "        image = tifffile.imread(IMAGE_PATH + str(id) + '.tif')[0:148, 0:188, :]\n",
    "        \n",
    "        #image_grayscale = []\n",
    "\n",
    "        #for i in image:\n",
    "        #    for j in i:\n",
    "        #        image_grayscale.append([np.mean(j[0:3]), j[3]])\n",
    "            \n",
    "        # append to images\n",
    "        data_mini.append(np.mean(image))\n",
    " \n",
    "    # stack images and trasnform to array\n",
    "    images_mini = np.stack(data_mini)\n",
    "    \n",
    "    return images_mini"
   ]
  },
  {
   "cell_type": "code",
   "execution_count": 23,
   "id": "4d8f77ae",
   "metadata": {
    "tags": []
   },
   "outputs": [],
   "source": [
    "# THERE IS ONE FILE IN THE \"SATELLITE IMAGES TILED\" FOLDER THAT IS NOT A TIF IMAGE, DELETE THIS FILE\n",
    "images_mini = preprocess_data_part1(IMAGE_PATH)"
   ]
  },
  {
   "cell_type": "code",
   "execution_count": 24,
   "id": "0ce10975",
   "metadata": {
    "tags": []
   },
   "outputs": [
    {
     "data": {
      "text/plain": [
       "(8376,)"
      ]
     },
     "execution_count": 24,
     "metadata": {},
     "output_type": "execute_result"
    }
   ],
   "source": [
    "np.shape(images_mini)"
   ]
  },
  {
   "cell_type": "code",
   "execution_count": 25,
   "id": "9eb32b75-6953-4e24-954e-b2fedfbff117",
   "metadata": {
    "tags": []
   },
   "outputs": [
    {
     "data": {
      "text/plain": [
       "array([125.19414, 130.83464, 145.29156, ..., 153.39537, 129.47469,\n",
       "       121.93695], dtype=float32)"
      ]
     },
     "execution_count": 25,
     "metadata": {},
     "output_type": "execute_result"
    }
   ],
   "source": [
    "images_mini"
   ]
  },
  {
   "cell_type": "code",
   "execution_count": 26,
   "id": "0080b62b-712f-4179-9031-60b561f59b7b",
   "metadata": {
    "tags": []
   },
   "outputs": [],
   "source": [
    "# images_mini_reshaped = images_mini.reshape((8376,1,1,111296))"
   ]
  },
  {
   "cell_type": "code",
   "execution_count": 27,
   "id": "9fce941b-4766-474c-b49e-c365de2bdb86",
   "metadata": {
    "tags": []
   },
   "outputs": [],
   "source": [
    "# images_mini_reshaped.shape\n",
    "# len(images_mini_reshaped[0][0][0])"
   ]
  },
  {
   "cell_type": "markdown",
   "id": "57135842",
   "metadata": {},
   "source": [
    "Street Data Pre-Processing"
   ]
  },
  {
   "cell_type": "code",
   "execution_count": 28,
   "id": "8dce0686",
   "metadata": {
    "tags": []
   },
   "outputs": [
    {
     "data": {
      "text/plain": [
       "(8376, 1, 1, 11)"
      ]
     },
     "execution_count": 28,
     "metadata": {},
     "output_type": "execute_result"
    }
   ],
   "source": [
    "street = np.asarray(x_train[input_x[1:]]).astype('float32')\n",
    "street_mini = []\n",
    "for row in street:\n",
    "    street_mini.append([[row]])\n",
    "street_mini = np.stack(street_mini)\n",
    "np.shape(street_mini)"
   ]
  },
  {
   "cell_type": "code",
   "execution_count": 29,
   "id": "0b74f799-994b-4d1e-95bd-4d54ef10a333",
   "metadata": {
    "tags": []
   },
   "outputs": [
    {
     "data": {
      "text/plain": [
       "(8376, 11)"
      ]
     },
     "execution_count": 29,
     "metadata": {},
     "output_type": "execute_result"
    }
   ],
   "source": [
    "street_mini_reshaped = street_mini.reshape(8376,11)\n",
    "np.shape(street_mini_reshaped)"
   ]
  },
  {
   "cell_type": "code",
   "execution_count": 30,
   "id": "da26ef07-d6bc-49aa-82d7-da480f3750e8",
   "metadata": {
    "tags": []
   },
   "outputs": [
    {
     "data": {
      "text/plain": [
       "(8376, 1)"
      ]
     },
     "execution_count": 30,
     "metadata": {},
     "output_type": "execute_result"
    }
   ],
   "source": [
    "images_mini_reshaped = images_mini.reshape(8376,1)\n",
    "np.shape(images_mini_reshaped)"
   ]
  },
  {
   "cell_type": "code",
   "execution_count": 31,
   "id": "16b9f21e-6f7b-4abd-a7de-917d89fa085a",
   "metadata": {
    "tags": []
   },
   "outputs": [],
   "source": [
    "input_image_street = np.hstack((street_mini_reshaped, images_mini_reshaped))\n"
   ]
  },
  {
   "cell_type": "code",
   "execution_count": 32,
   "id": "b2a63cdc-90cd-43e2-94f1-d819918c510b",
   "metadata": {
    "tags": []
   },
   "outputs": [],
   "source": [
    "# input_image_street = input_image_street.reshape((8376,1,1, 111307))"
   ]
  },
  {
   "cell_type": "code",
   "execution_count": 33,
   "id": "31f28dfa-b24a-4a22-8414-94ae3d9828df",
   "metadata": {
    "tags": []
   },
   "outputs": [
    {
     "data": {
      "text/plain": [
       "array([  2.        ,   0.40708277,   0.69343007,   0.        ,\n",
       "         0.        ,   0.        ,   0.        ,   1.        ,\n",
       "         0.        ,   0.        ,   0.        , 125.19414   ],\n",
       "      dtype=float32)"
      ]
     },
     "execution_count": 33,
     "metadata": {},
     "output_type": "execute_result"
    }
   ],
   "source": [
    "input_image_street[0]"
   ]
  },
  {
   "cell_type": "code",
   "execution_count": 34,
   "id": "1270fa6f-aec7-4486-b0fb-c1edb73c43ed",
   "metadata": {
    "tags": []
   },
   "outputs": [
    {
     "data": {
      "text/plain": [
       "(8376, 12)"
      ]
     },
     "execution_count": 34,
     "metadata": {},
     "output_type": "execute_result"
    }
   ],
   "source": [
    "input_image_street.shape\n",
    "# y_train.shape"
   ]
  },
  {
   "cell_type": "code",
   "execution_count": 35,
   "id": "41870e1a-cb28-43c8-9624-007cc68f94f7",
   "metadata": {
    "tags": []
   },
   "outputs": [
    {
     "data": {
      "text/plain": [
       "(8376,)"
      ]
     },
     "execution_count": 35,
     "metadata": {},
     "output_type": "execute_result"
    }
   ],
   "source": [
    "np.shape(y_train)"
   ]
  },
  {
   "cell_type": "markdown",
   "id": "9ee5f1b4-18dd-4385-b515-1af782fb8d35",
   "metadata": {},
   "source": [
    "**Model #3: Random Forest using Historical Collisions, SFMTA Street Characteristics, and Geocoordinates**\n",
    "\n",
    "Helpful sources:\n",
    "\n",
    "https://www.tensorflow.org/decision_forests/api_docs/python/tfdf/keras/RandomForestModel\n",
    "https://www.tensorflow.org/decision_forests/tutorials/beginner_colab\n",
    "https://www.youtube.com/watch?v=5qgk9QJ4rdQ&t=181s"
   ]
  },
  {
   "cell_type": "code",
   "execution_count": 36,
   "id": "973eacec-b76b-4a29-9967-e96e06f7b6e0",
   "metadata": {
    "tags": []
   },
   "outputs": [
    {
     "name": "stdout",
     "output_type": "stream",
     "text": [
      "Use /tmp/tmpr0i3bdes as temporary training directory\n",
      "Reading training dataset...\n"
     ]
    },
    {
     "name": "stderr",
     "output_type": "stream",
     "text": [
      "2023-03-15 18:00:14.921095: W tensorflow/compiler/xla/stream_executor/platform/default/dso_loader.cc:64] Could not load dynamic library 'libcuda.so.1'; dlerror: libcuda.so.1: cannot open shared object file: No such file or directory\n",
      "2023-03-15 18:00:14.922043: W tensorflow/compiler/xla/stream_executor/cuda/cuda_driver.cc:265] failed call to cuInit: UNKNOWN ERROR (303)\n",
      "2023-03-15 18:00:14.922090: I tensorflow/compiler/xla/stream_executor/cuda/cuda_diagnostics.cc:156] kernel driver does not appear to be running on this host (ip-172-31-13-91): /proc/driver/nvidia/version does not exist\n",
      "2023-03-15 18:00:14.923766: I tensorflow/core/platform/cpu_feature_guard.cc:193] This TensorFlow binary is optimized with oneAPI Deep Neural Network Library (oneDNN) to use the following CPU instructions in performance-critical operations:  AVX2 FMA\n",
      "To enable them in other operations, rebuild TensorFlow with the appropriate compiler flags.\n"
     ]
    },
    {
     "name": "stdout",
     "output_type": "stream",
     "text": [
      "WARNING:tensorflow:From /home/ubuntu/capstone/lib/python3.10/site-packages/tensorflow/python/autograph/pyct/static_analysis/liveness.py:83: Analyzer.lamba_check (from tensorflow.python.autograph.pyct.static_analysis.liveness) is deprecated and will be removed after 2023-09-23.\n",
      "Instructions for updating:\n",
      "Lambda fuctions will be no more assumed to be used in the statement where they are used, or at least in the same block. https://github.com/tensorflow/tensorflow/issues/56089\n"
     ]
    },
    {
     "name": "stderr",
     "output_type": "stream",
     "text": [
      "WARNING:tensorflow:From /home/ubuntu/capstone/lib/python3.10/site-packages/tensorflow/python/autograph/pyct/static_analysis/liveness.py:83: Analyzer.lamba_check (from tensorflow.python.autograph.pyct.static_analysis.liveness) is deprecated and will be removed after 2023-09-23.\n",
      "Instructions for updating:\n",
      "Lambda fuctions will be no more assumed to be used in the statement where they are used, or at least in the same block. https://github.com/tensorflow/tensorflow/issues/56089\n"
     ]
    },
    {
     "name": "stdout",
     "output_type": "stream",
     "text": [
      "Training dataset read in 0:00:04.748024. Found 8376 examples.\n",
      "Training model...\n"
     ]
    },
    {
     "name": "stderr",
     "output_type": "stream",
     "text": [
      "[INFO 2023-03-15T18:00:20.517672342+00:00 kernel.cc:1214] Loading model from path /tmp/tmpr0i3bdes/model/ with prefix 56860f20d7dc4580\n"
     ]
    },
    {
     "name": "stdout",
     "output_type": "stream",
     "text": [
      "Model trained in 0:00:01.123367\n",
      "Compiling model...\n"
     ]
    },
    {
     "name": "stderr",
     "output_type": "stream",
     "text": [
      "[INFO 2023-03-15T18:00:20.802031823+00:00 decision_forest.cc:661] Model loaded with 100 root(s), 104210 node(s), and 11 input feature(s).\n",
      "[INFO 2023-03-15T18:00:20.802077748+00:00 abstract_model.cc:1311] Engine \"RandomForestOptPred\" built\n",
      "[INFO 2023-03-15T18:00:20.802102502+00:00 kernel.cc:1046] Use fast generic engine\n"
     ]
    },
    {
     "name": "stdout",
     "output_type": "stream",
     "text": [
      "WARNING:tensorflow:AutoGraph could not transform <function simple_ml_inference_op_with_handle at 0x7f3f3205f640> and will run it as-is.\n",
      "Please report this to the TensorFlow team. When filing the bug, set the verbosity to 10 (on Linux, `export AUTOGRAPH_VERBOSITY=10`) and attach the full output.\n",
      "Cause: could not get source code\n",
      "To silence this warning, decorate the function with @tf.autograph.experimental.do_not_convert\n"
     ]
    },
    {
     "name": "stderr",
     "output_type": "stream",
     "text": [
      "WARNING:tensorflow:AutoGraph could not transform <function simple_ml_inference_op_with_handle at 0x7f3f3205f640> and will run it as-is.\n",
      "Please report this to the TensorFlow team. When filing the bug, set the verbosity to 10 (on Linux, `export AUTOGRAPH_VERBOSITY=10`) and attach the full output.\n",
      "Cause: could not get source code\n",
      "To silence this warning, decorate the function with @tf.autograph.experimental.do_not_convert\n"
     ]
    },
    {
     "name": "stdout",
     "output_type": "stream",
     "text": [
      "WARNING: AutoGraph could not transform <function simple_ml_inference_op_with_handle at 0x7f3f3205f640> and will run it as-is.\n",
      "Please report this to the TensorFlow team. When filing the bug, set the verbosity to 10 (on Linux, `export AUTOGRAPH_VERBOSITY=10`) and attach the full output.\n",
      "Cause: could not get source code\n",
      "To silence this warning, decorate the function with @tf.autograph.experimental.do_not_convert\n",
      "Model compiled.\n"
     ]
    },
    {
     "data": {
      "text/plain": [
       "<keras.callbacks.History at 0x7f3f2d8148b0>"
      ]
     },
     "execution_count": 36,
     "metadata": {},
     "output_type": "execute_result"
    }
   ],
   "source": [
    "# Train a Random Forest model.\n",
    "\n",
    "rf_model = tfdf.keras.RandomForestModel(task=2, num_trees=100)\n",
    "\n",
    "rf_model.fit(input_image_street,\n",
    "    y_train,\n",
    "    #validation_data=[x_test[['Collisions_Historical', 'Mid_lat','Mid_long', 'Stop_Signs', 'Paving_historical', 'Bus_stop']], y_test],     \n",
    "    epochs=1,\n",
    "    verbose=1)"
   ]
  },
  {
   "cell_type": "code",
   "execution_count": 37,
   "id": "9b07cc3b-3599-4271-9e98-355d5a90053f",
   "metadata": {
    "tags": []
   },
   "outputs": [
    {
     "name": "stdout",
     "output_type": "stream",
     "text": [
      "Use /tmp/tmph8pwjojs as temporary training directory\n",
      "Reading training dataset...\n",
      "Training dataset read in 0:00:00.327746. Found 8376 examples.\n",
      "Training model...\n"
     ]
    },
    {
     "name": "stderr",
     "output_type": "stream",
     "text": [
      "[INFO 2023-03-15T18:00:25.362723859+00:00 kernel.cc:1214] Loading model from path /tmp/tmph8pwjojs/model/ with prefix 8f22a8e0790043aa\n"
     ]
    },
    {
     "name": "stdout",
     "output_type": "stream",
     "text": [
      "Model trained in 0:00:03.312080\n",
      "Compiling model...\n"
     ]
    },
    {
     "name": "stderr",
     "output_type": "stream",
     "text": [
      "[INFO 2023-03-15T18:00:26.204880213+00:00 decision_forest.cc:661] Model loaded with 300 root(s), 313632 node(s), and 11 input feature(s).\n",
      "[INFO 2023-03-15T18:00:26.204932236+00:00 kernel.cc:1046] Use fast generic engine\n"
     ]
    },
    {
     "name": "stdout",
     "output_type": "stream",
     "text": [
      "Model compiled.\n"
     ]
    },
    {
     "data": {
      "text/plain": [
       "<keras.callbacks.History at 0x7f3f24792470>"
      ]
     },
     "execution_count": 37,
     "metadata": {},
     "output_type": "execute_result"
    }
   ],
   "source": [
    "# Train a Random Forest model.\n",
    "\n",
    "rf_model2 = tfdf.keras.RandomForestModel(task=2, num_trees=300)\n",
    "\n",
    "rf_model2.fit(input_image_street,\n",
    "    y_train,\n",
    "    #validation_data=[x_test[['Collisions_Historical', 'Mid_lat','Mid_long', 'Stop_Signs', 'Paving_historical', 'Bus_stop']], y_test],     \n",
    "    epochs=1,\n",
    "    verbose=1)"
   ]
  },
  {
   "cell_type": "code",
   "execution_count": 38,
   "id": "0709a18c-109d-4f55-ae8f-a608976fa4ea",
   "metadata": {
    "tags": []
   },
   "outputs": [
    {
     "name": "stdout",
     "output_type": "stream",
     "text": [
      "Model: \"random_forest_model_1\"\n",
      "_________________________________________________________________\n",
      " Layer (type)                Output Shape              Param #   \n",
      "=================================================================\n",
      "=================================================================\n",
      "Total params: 1\n",
      "Trainable params: 0\n",
      "Non-trainable params: 1\n",
      "_________________________________________________________________\n",
      "Type: \"RANDOM_FOREST\"\n",
      "Task: REGRESSION\n",
      "Label: \"__LABEL\"\n",
      "\n",
      "Input Features (12):\n",
      "\tdata:0.0\n",
      "\tdata:0.1\n",
      "\tdata:0.10\n",
      "\tdata:0.11\n",
      "\tdata:0.2\n",
      "\tdata:0.3\n",
      "\tdata:0.4\n",
      "\tdata:0.5\n",
      "\tdata:0.6\n",
      "\tdata:0.7\n",
      "\tdata:0.8\n",
      "\tdata:0.9\n",
      "\n",
      "No weights\n",
      "\n",
      "Variable Importance: INV_MEAN_MIN_DEPTH:\n",
      "    1.  \"data:0.0\"  0.465754 ################\n",
      "    2.  \"data:0.5\"  0.221680 #####\n",
      "    3.  \"data:0.2\"  0.220910 #####\n",
      "    4.  \"data:0.3\"  0.177408 ####\n",
      "    5.  \"data:0.1\"  0.167681 ###\n",
      "    6. \"data:0.11\"  0.130213 ##\n",
      "    7.  \"data:0.4\"  0.102542 \n",
      "    8.  \"data:0.7\"  0.081586 \n",
      "    9. \"data:0.10\"  0.081407 \n",
      "   10.  \"data:0.6\"  0.080768 \n",
      "   11.  \"data:0.9\"  0.080762 \n",
      "\n",
      "Variable Importance: NUM_AS_ROOT:\n",
      "    1.  \"data:0.0\" 130.000000 ################\n",
      "    2.  \"data:0.5\" 76.000000 #########\n",
      "    3.  \"data:0.2\" 47.000000 #####\n",
      "    4.  \"data:0.1\" 30.000000 ###\n",
      "    5.  \"data:0.4\" 10.000000 #\n",
      "    6.  \"data:0.3\"  5.000000 \n",
      "    7. \"data:0.11\"  2.000000 \n",
      "\n",
      "Variable Importance: NUM_NODES:\n",
      "    1. \"data:0.11\" 49033.000000 ################\n",
      "    2.  \"data:0.2\" 40299.000000 #############\n",
      "    3.  \"data:0.1\" 39784.000000 ############\n",
      "    4.  \"data:0.3\" 10410.000000 ###\n",
      "    5.  \"data:0.0\" 7783.000000 ##\n",
      "    6.  \"data:0.5\" 6343.000000 ##\n",
      "    7.  \"data:0.4\" 2638.000000 \n",
      "    8.  \"data:0.7\" 204.000000 \n",
      "    9. \"data:0.10\" 107.000000 \n",
      "   10.  \"data:0.6\" 41.000000 \n",
      "   11.  \"data:0.9\" 24.000000 \n",
      "\n",
      "Variable Importance: SUM_SCORE:\n",
      "    1.  \"data:0.0\" 2675116.589738 ################\n",
      "    2.  \"data:0.2\" 431656.053763 ##\n",
      "    3.  \"data:0.1\" 411766.016837 ##\n",
      "    4. \"data:0.11\" 405815.893417 ##\n",
      "    5.  \"data:0.5\" 274203.957347 #\n",
      "    6.  \"data:0.3\" 155195.878003 \n",
      "    7.  \"data:0.4\" 37554.809028 \n",
      "    8.  \"data:0.7\" 953.877209 \n",
      "    9. \"data:0.10\" 465.260258 \n",
      "   10.  \"data:0.9\" 351.583922 \n",
      "   11.  \"data:0.6\" 97.201862 \n",
      "\n",
      "\n",
      "\n",
      "Out-of-bag evaluation: rmse:0.97796\n",
      "Number of trees: 300\n",
      "Total number of nodes: 313632\n",
      "\n",
      "Number of nodes by tree:\n",
      "Count: 300 Average: 1045.44 StdDev: 57.8443\n",
      "Min: 829 Max: 1159 Ignored: 0\n",
      "----------------------------------------------\n",
      "[  829,  845)  3   1.00%   1.00% #\n",
      "[  845,  862)  0   0.00%   1.00%\n",
      "[  862,  878)  0   0.00%   1.00%\n",
      "[  878,  895)  0   0.00%   1.00%\n",
      "[  895,  911)  5   1.67%   2.67% #\n",
      "[  911,  928)  5   1.67%   4.33% #\n",
      "[  928,  944)  3   1.00%   5.33% #\n",
      "[  944,  961)  9   3.00%   8.33% ##\n",
      "[  961,  977)  9   3.00%  11.33% ##\n",
      "[  977,  994) 12   4.00%  15.33% ###\n",
      "[  994, 1011) 25   8.33%  23.67% #######\n",
      "[ 1011, 1027) 28   9.33%  33.00% #######\n",
      "[ 1027, 1044) 38  12.67%  45.67% ##########\n",
      "[ 1044, 1060) 35  11.67%  57.33% #########\n",
      "[ 1060, 1077) 27   9.00%  66.33% #######\n",
      "[ 1077, 1093) 36  12.00%  78.33% #########\n",
      "[ 1093, 1110) 28   9.33%  87.67% #######\n",
      "[ 1110, 1126) 20   6.67%  94.33% #####\n",
      "[ 1126, 1143) 11   3.67%  98.00% ###\n",
      "[ 1143, 1159]  6   2.00% 100.00% ##\n",
      "\n",
      "Depth by leafs:\n",
      "Count: 156966 Average: 11.406 StdDev: 2.52995\n",
      "Min: 2 Max: 15 Ignored: 0\n",
      "----------------------------------------------\n",
      "[  2,  3)     5   0.00%   0.00%\n",
      "[  3,  4)   112   0.07%   0.07%\n",
      "[  4,  5)   539   0.34%   0.42%\n",
      "[  5,  6)  1413   0.90%   1.32% #\n",
      "[  6,  7)  3222   2.05%   3.37% #\n",
      "[  7,  8)  6259   3.99%   7.36% ###\n",
      "[  8,  9) 10354   6.60%  13.95% #####\n",
      "[  9, 10) 14843   9.46%  23.41% #######\n",
      "[ 10, 11) 18709  11.92%  35.33% #########\n",
      "[ 11, 12) 21501  13.70%  49.03% ##########\n",
      "[ 12, 13) 21860  13.93%  62.95% ##########\n",
      "[ 13, 14) 20008  12.75%  75.70% #########\n",
      "[ 14, 15) 16915  10.78%  86.48% ########\n",
      "[ 15, 15] 21226  13.52% 100.00% ##########\n",
      "\n",
      "Number of training obs by leaf:\n",
      "Count: 156966 Average: 16.0086 StdDev: 46.135\n",
      "Min: 5 Max: 1464 Ignored: 0\n",
      "----------------------------------------------\n",
      "[    5,   78) 151875  96.76%  96.76% ##########\n",
      "[   78,  151)   2694   1.72%  98.47%\n",
      "[  151,  224)    937   0.60%  99.07%\n",
      "[  224,  297)    480   0.31%  99.38%\n",
      "[  297,  370)    296   0.19%  99.56%\n",
      "[  370,  443)    220   0.14%  99.70%\n",
      "[  443,  516)    154   0.10%  99.80%\n",
      "[  516,  589)    116   0.07%  99.88%\n",
      "[  589,  662)     82   0.05%  99.93%\n",
      "[  662,  735)     44   0.03%  99.96%\n",
      "[  735,  808)     23   0.01%  99.97%\n",
      "[  808,  881)     15   0.01%  99.98%\n",
      "[  881,  954)     12   0.01%  99.99%\n",
      "[  954, 1027)      5   0.00%  99.99%\n",
      "[ 1027, 1100)      5   0.00%  99.99%\n",
      "[ 1100, 1173)      3   0.00% 100.00%\n",
      "[ 1173, 1246)      0   0.00% 100.00%\n",
      "[ 1246, 1319)      1   0.00% 100.00%\n",
      "[ 1319, 1392)      2   0.00% 100.00%\n",
      "[ 1392, 1464]      2   0.00% 100.00%\n",
      "\n",
      "Attribute in nodes:\n",
      "\t49033 : data:0.11 [NUMERICAL]\n",
      "\t40299 : data:0.2 [NUMERICAL]\n",
      "\t39784 : data:0.1 [NUMERICAL]\n",
      "\t10410 : data:0.3 [NUMERICAL]\n",
      "\t7783 : data:0.0 [NUMERICAL]\n",
      "\t6343 : data:0.5 [NUMERICAL]\n",
      "\t2638 : data:0.4 [NUMERICAL]\n",
      "\t204 : data:0.7 [NUMERICAL]\n",
      "\t107 : data:0.10 [NUMERICAL]\n",
      "\t41 : data:0.6 [NUMERICAL]\n",
      "\t24 : data:0.9 [NUMERICAL]\n",
      "\n",
      "Attribute in nodes with depth <= 0:\n",
      "\t130 : data:0.0 [NUMERICAL]\n",
      "\t76 : data:0.5 [NUMERICAL]\n",
      "\t47 : data:0.2 [NUMERICAL]\n",
      "\t30 : data:0.1 [NUMERICAL]\n",
      "\t10 : data:0.4 [NUMERICAL]\n",
      "\t5 : data:0.3 [NUMERICAL]\n",
      "\t2 : data:0.11 [NUMERICAL]\n",
      "\n",
      "Attribute in nodes with depth <= 1:\n",
      "\t432 : data:0.0 [NUMERICAL]\n",
      "\t177 : data:0.5 [NUMERICAL]\n",
      "\t137 : data:0.2 [NUMERICAL]\n",
      "\t67 : data:0.1 [NUMERICAL]\n",
      "\t52 : data:0.3 [NUMERICAL]\n",
      "\t25 : data:0.4 [NUMERICAL]\n",
      "\t10 : data:0.11 [NUMERICAL]\n",
      "\n",
      "Attribute in nodes with depth <= 2:\n",
      "\t995 : data:0.0 [NUMERICAL]\n",
      "\t337 : data:0.5 [NUMERICAL]\n",
      "\t270 : data:0.2 [NUMERICAL]\n",
      "\t194 : data:0.3 [NUMERICAL]\n",
      "\t170 : data:0.1 [NUMERICAL]\n",
      "\t65 : data:0.4 [NUMERICAL]\n",
      "\t63 : data:0.11 [NUMERICAL]\n",
      "\t1 : data:0.10 [NUMERICAL]\n",
      "\n",
      "Attribute in nodes with depth <= 3:\n",
      "\t1800 : data:0.0 [NUMERICAL]\n",
      "\t597 : data:0.5 [NUMERICAL]\n",
      "\t575 : data:0.2 [NUMERICAL]\n",
      "\t529 : data:0.3 [NUMERICAL]\n",
      "\t441 : data:0.1 [NUMERICAL]\n",
      "\t267 : data:0.11 [NUMERICAL]\n",
      "\t158 : data:0.4 [NUMERICAL]\n",
      "\t3 : data:0.10 [NUMERICAL]\n",
      "\t2 : data:0.7 [NUMERICAL]\n",
      "\t1 : data:0.9 [NUMERICAL]\n",
      "\n",
      "Attribute in nodes with depth <= 5:\n",
      "\t3655 : data:0.0 [NUMERICAL]\n",
      "\t2759 : data:0.2 [NUMERICAL]\n",
      "\t2597 : data:0.1 [NUMERICAL]\n",
      "\t2295 : data:0.11 [NUMERICAL]\n",
      "\t1642 : data:0.3 [NUMERICAL]\n",
      "\t1435 : data:0.5 [NUMERICAL]\n",
      "\t570 : data:0.4 [NUMERICAL]\n",
      "\t27 : data:0.7 [NUMERICAL]\n",
      "\t18 : data:0.10 [NUMERICAL]\n",
      "\t7 : data:0.9 [NUMERICAL]\n",
      "\t6 : data:0.6 [NUMERICAL]\n",
      "\n",
      "Condition type in nodes:\n",
      "\t156666 : HigherCondition\n",
      "Condition type in nodes with depth <= 0:\n",
      "\t300 : HigherCondition\n",
      "Condition type in nodes with depth <= 1:\n",
      "\t900 : HigherCondition\n",
      "Condition type in nodes with depth <= 2:\n",
      "\t2095 : HigherCondition\n",
      "Condition type in nodes with depth <= 3:\n",
      "\t4373 : HigherCondition\n",
      "Condition type in nodes with depth <= 5:\n",
      "\t15011 : HigherCondition\n",
      "Node format: NOT_SET\n",
      "\n",
      "Training OOB:\n",
      "\ttrees: 1, Out-of-bag evaluation: rmse:1.3224\n",
      "\ttrees: 11, Out-of-bag evaluation: rmse:1.0786\n",
      "\ttrees: 21, Out-of-bag evaluation: rmse:1.01754\n",
      "\ttrees: 31, Out-of-bag evaluation: rmse:0.998242\n",
      "\ttrees: 41, Out-of-bag evaluation: rmse:0.996311\n",
      "\ttrees: 51, Out-of-bag evaluation: rmse:0.989942\n",
      "\ttrees: 61, Out-of-bag evaluation: rmse:0.990099\n",
      "\ttrees: 71, Out-of-bag evaluation: rmse:0.985161\n",
      "\ttrees: 81, Out-of-bag evaluation: rmse:0.985173\n",
      "\ttrees: 91, Out-of-bag evaluation: rmse:0.984435\n",
      "\ttrees: 101, Out-of-bag evaluation: rmse:0.982889\n",
      "\ttrees: 111, Out-of-bag evaluation: rmse:0.981826\n",
      "\ttrees: 121, Out-of-bag evaluation: rmse:0.980895\n",
      "\ttrees: 131, Out-of-bag evaluation: rmse:0.980451\n",
      "\ttrees: 141, Out-of-bag evaluation: rmse:0.979608\n",
      "\ttrees: 151, Out-of-bag evaluation: rmse:0.97876\n",
      "\ttrees: 161, Out-of-bag evaluation: rmse:0.979966\n",
      "\ttrees: 171, Out-of-bag evaluation: rmse:0.979046\n",
      "\ttrees: 181, Out-of-bag evaluation: rmse:0.978511\n",
      "\ttrees: 191, Out-of-bag evaluation: rmse:0.978409\n",
      "\ttrees: 201, Out-of-bag evaluation: rmse:0.979027\n",
      "\ttrees: 211, Out-of-bag evaluation: rmse:0.978227\n",
      "\ttrees: 221, Out-of-bag evaluation: rmse:0.978369\n",
      "\ttrees: 231, Out-of-bag evaluation: rmse:0.977778\n",
      "\ttrees: 241, Out-of-bag evaluation: rmse:0.97796\n",
      "\ttrees: 251, Out-of-bag evaluation: rmse:0.977557\n",
      "\ttrees: 261, Out-of-bag evaluation: rmse:0.978281\n",
      "\ttrees: 271, Out-of-bag evaluation: rmse:0.978153\n",
      "\ttrees: 281, Out-of-bag evaluation: rmse:0.978672\n",
      "\ttrees: 291, Out-of-bag evaluation: rmse:0.977936\n",
      "\ttrees: 300, Out-of-bag evaluation: rmse:0.97796\n",
      "\n",
      "None\n"
     ]
    }
   ],
   "source": [
    "print(rf_model2.summary())"
   ]
  },
  {
   "cell_type": "code",
   "execution_count": 39,
   "id": "8cbd4cd7-7a86-4ddc-94b9-1507a5ee044b",
   "metadata": {
    "tags": []
   },
   "outputs": [
    {
     "data": {
      "text/plain": [
       "Evaluation(num_examples=8376, accuracy=None, loss=None, rmse=0.9779595835804462, ndcg=None, aucs=None, auuc=None, qini=None)"
      ]
     },
     "execution_count": 39,
     "metadata": {},
     "output_type": "execute_result"
    }
   ],
   "source": [
    "##uncomment to show training log\n",
    "#rf_model_train.make_inspector().training_logs()\n",
    "rf_model2.make_inspector().evaluation()"
   ]
  },
  {
   "cell_type": "code",
   "execution_count": 40,
   "id": "f05b76f2-b53f-4a4e-bd37-4d7b48f79c4b",
   "metadata": {
    "tags": []
   },
   "outputs": [
    {
     "data": {
      "text/plain": [
       "Index(['Tile_ID', 'Collisions_Historical', 'Mid_lat_norm', 'Mid_long_norm',\n",
       "       'Stop_Signs', 'Paving_historical', 'Bus_stop', 'RTTYP_I', 'RTTYP_M',\n",
       "       'RTTYP_O', 'RTTYP_S', 'RTTYP_U'],\n",
       "      dtype='object')"
      ]
     },
     "execution_count": 40,
     "metadata": {},
     "output_type": "execute_result"
    }
   ],
   "source": [
    "x_test.columns"
   ]
  },
  {
   "cell_type": "code",
   "execution_count": 41,
   "id": "622cb67b-17d6-43b1-b8a2-6960c8419698",
   "metadata": {
    "tags": []
   },
   "outputs": [
    {
     "name": "stdout",
     "output_type": "stream",
     "text": [
      "66/66 [==============================] - 0s 2ms/step - loss: 0.0000e+00\n"
     ]
    },
    {
     "data": {
      "text/plain": [
       "0.0"
      ]
     },
     "execution_count": 41,
     "metadata": {},
     "output_type": "execute_result"
    }
   ],
   "source": [
    "#evaluate the model\n",
    "rf_model2.evaluate(x_test[['Tile_ID', 'Collisions_Historical', 'Mid_lat_norm', 'Mid_long_norm',\n",
    "       'Stop_Signs', 'Paving_historical', 'Bus_stop', 'RTTYP_I', 'RTTYP_M',\n",
    "       'RTTYP_O', 'RTTYP_S', 'RTTYP_U']])"
   ]
  },
  {
   "cell_type": "code",
   "execution_count": 42,
   "id": "8e69624a-002f-45d8-9c98-56f748f47673",
   "metadata": {
    "tags": []
   },
   "outputs": [
    {
     "name": "stdout",
     "output_type": "stream",
     "text": [
      "66/66 [==============================] - 0s 1ms/step\n"
     ]
    },
    {
     "data": {
      "text/html": [
       "<div>\n",
       "<style scoped>\n",
       "    .dataframe tbody tr th:only-of-type {\n",
       "        vertical-align: middle;\n",
       "    }\n",
       "\n",
       "    .dataframe tbody tr th {\n",
       "        vertical-align: top;\n",
       "    }\n",
       "\n",
       "    .dataframe thead th {\n",
       "        text-align: right;\n",
       "    }\n",
       "</style>\n",
       "<table border=\"1\" class=\"dataframe\">\n",
       "  <thead>\n",
       "    <tr style=\"text-align: right;\">\n",
       "      <th></th>\n",
       "      <th>0</th>\n",
       "    </tr>\n",
       "  </thead>\n",
       "  <tbody>\n",
       "    <tr>\n",
       "      <th>0</th>\n",
       "      <td>7.068793</td>\n",
       "    </tr>\n",
       "    <tr>\n",
       "      <th>1</th>\n",
       "      <td>6.344624</td>\n",
       "    </tr>\n",
       "    <tr>\n",
       "      <th>2</th>\n",
       "      <td>7.138793</td>\n",
       "    </tr>\n",
       "    <tr>\n",
       "      <th>3</th>\n",
       "      <td>8.319448</td>\n",
       "    </tr>\n",
       "    <tr>\n",
       "      <th>4</th>\n",
       "      <td>7.061317</td>\n",
       "    </tr>\n",
       "    <tr>\n",
       "      <th>...</th>\n",
       "      <td>...</td>\n",
       "    </tr>\n",
       "    <tr>\n",
       "      <th>2090</th>\n",
       "      <td>7.217875</td>\n",
       "    </tr>\n",
       "    <tr>\n",
       "      <th>2091</th>\n",
       "      <td>7.249133</td>\n",
       "    </tr>\n",
       "    <tr>\n",
       "      <th>2092</th>\n",
       "      <td>7.186068</td>\n",
       "    </tr>\n",
       "    <tr>\n",
       "      <th>2093</th>\n",
       "      <td>7.284544</td>\n",
       "    </tr>\n",
       "    <tr>\n",
       "      <th>2094</th>\n",
       "      <td>8.531034</td>\n",
       "    </tr>\n",
       "  </tbody>\n",
       "</table>\n",
       "<p>2095 rows × 1 columns</p>\n",
       "</div>"
      ],
      "text/plain": [
       "             0\n",
       "0     7.068793\n",
       "1     6.344624\n",
       "2     7.138793\n",
       "3     8.319448\n",
       "4     7.061317\n",
       "...        ...\n",
       "2090  7.217875\n",
       "2091  7.249133\n",
       "2092  7.186068\n",
       "2093  7.284544\n",
       "2094  8.531034\n",
       "\n",
       "[2095 rows x 1 columns]"
      ]
     },
     "execution_count": 42,
     "metadata": {},
     "output_type": "execute_result"
    }
   ],
   "source": [
    "#make predictions from test set\n",
    "pd.DataFrame(rf_model.predict(x_test[['Tile_ID', 'Collisions_Historical', 'Mid_lat_norm', 'Mid_long_norm',\n",
    "       'Stop_Signs', 'Paving_historical', 'Bus_stop', 'RTTYP_I', 'RTTYP_M',\n",
    "       'RTTYP_O', 'RTTYP_S', 'RTTYP_U']]))"
   ]
  },
  {
   "cell_type": "code",
   "execution_count": 43,
   "id": "5ee826d0-bbd0-4d85-a489-b105571a7fb8",
   "metadata": {
    "tags": []
   },
   "outputs": [
    {
     "name": "stdout",
     "output_type": "stream",
     "text": [
      "66/66 [==============================] - 0s 1ms/step\n"
     ]
    },
    {
     "data": {
      "text/plain": [
       "array([[<Axes: title={'center': '0'}>]], dtype=object)"
      ]
     },
     "execution_count": 43,
     "metadata": {},
     "output_type": "execute_result"
    },
    {
     "data": {
      "image/png": "[encoded data removed]",
      "text/plain": [
       "<Figure size 640x480 with 1 Axes>"
      ]
     },
     "metadata": {},
     "output_type": "display_data"
    }
   ],
   "source": [
    "pd.DataFrame(rf_model.predict(x_test[['Tile_ID', 'Collisions_Historical', 'Mid_lat_norm', 'Mid_long_norm',\n",
    "       'Stop_Signs', 'Paving_historical', 'Bus_stop', 'RTTYP_I', 'RTTYP_M',\n",
    "       'RTTYP_O', 'RTTYP_S', 'RTTYP_U']])).hist()"
   ]
  },
  {
   "cell_type": "code",
   "execution_count": 44,
   "id": "e21c9be2-c916-4ceb-8c25-dc95899057da",
   "metadata": {
    "tags": []
   },
   "outputs": [
    {
     "data": {
      "image/png": "[encoded data removed]",
      "text/plain": [
       "<Figure size 640x480 with 1 Axes>"
      ]
     },
     "metadata": {},
     "output_type": "display_data"
    }
   ],
   "source": [
    "import matplotlib.pyplot as plt\n",
    "\n",
    "logs = rf_model.make_inspector().training_logs()\n",
    "\n",
    "plt.plot([log.num_trees for log in logs], [log.evaluation.rmse for log in logs], label=\"training data\")\n",
    "plt.xlabel(\"Number of trees\")\n",
    "plt.ylabel(\"RMSE (out-of-bag)\")\n",
    "plt.legend()\n",
    "plt.show()"
   ]
  },
  {
   "cell_type": "markdown",
   "id": "46a0ce2c-eb33-41bd-9462-1365b8d2c4fd",
   "metadata": {},
   "source": [
    "**Model #4: Gradient Boosted Tree using Historical Collisions, SFMTA Street Characteristics, and Geocoordinates**\n",
    "\n",
    "Helpful sources:\n",
    "\n",
    "https://www.tensorflow.org/decision_forests/api_docs/python/tfdf/keras/GradientBoostedTreesModel\n",
    "https://www.tensorflow.org/decision_forests/tutorials/beginner_colab"
   ]
  },
  {
   "cell_type": "code",
   "execution_count": 45,
   "id": "0d6a3b75-c42a-4884-a753-fb67fbb82db0",
   "metadata": {
    "tags": []
   },
   "outputs": [
    {
     "name": "stdout",
     "output_type": "stream",
     "text": [
      "Use /tmp/tmp9asyue6_ as temporary training directory\n",
      "Reading training dataset...\n",
      "Training dataset read in 0:00:00.338741. Found 8376 examples.\n",
      "Training model...\n"
     ]
    },
    {
     "name": "stderr",
     "output_type": "stream",
     "text": [
      "2023-03-15 18:00:28.477234: W external/ydf/yggdrasil_decision_forests/learner/gradient_boosted_trees/gradient_boosted_trees.cc:1790] \"goss_alpha\" set but \"sampling_method\" not equal to \"GOSS\".\n",
      "2023-03-15 18:00:28.477277: W external/ydf/yggdrasil_decision_forests/learner/gradient_boosted_trees/gradient_boosted_trees.cc:1800] \"goss_beta\" set but \"sampling_method\" not equal to \"GOSS\".\n",
      "2023-03-15 18:00:28.477287: W external/ydf/yggdrasil_decision_forests/learner/gradient_boosted_trees/gradient_boosted_trees.cc:1814] \"selective_gradient_boosting_ratio\" set but \"sampling_method\" not equal to \"SELGB\".\n",
      "2023-03-15 18:00:28.477907: I external/ydf/yggdrasil_decision_forests/learner/gradient_boosted_trees/gradient_boosted_trees.cc:452] Default loss set to SQUARED_ERROR\n",
      "2023-03-15 18:00:28.477969: I external/ydf/yggdrasil_decision_forests/learner/gradient_boosted_trees/gradient_boosted_trees.cc:1077] Training gradient boosted tree on 8376 example(s) and 12 feature(s).\n",
      "2023-03-15 18:00:28.479386: I external/ydf/yggdrasil_decision_forests/learner/gradient_boosted_trees/gradient_boosted_trees.cc:1120] 7555 examples used for training and 821 examples used for validation\n",
      "2023-03-15 18:00:28.492534: I external/ydf/yggdrasil_decision_forests/learner/gradient_boosted_trees/gradient_boosted_trees.cc:1518] \tnum-trees:1 train-loss:1.390457 train-rmse:1.390457 valid-loss:1.272578 valid-rmse:1.272578\n",
      "2023-03-15 18:00:28.504770: I external/ydf/yggdrasil_decision_forests/learner/gradient_boosted_trees/gradient_boosted_trees.cc:1520] \tnum-trees:2 train-loss:1.316747 train-rmse:1.316747 valid-loss:1.221949 valid-rmse:1.221949\n"
     ]
    },
    {
     "name": "stdout",
     "output_type": "stream",
     "text": [
      "Model trained in 0:00:00.781847\n",
      "Compiling model...\n"
     ]
    },
    {
     "name": "stderr",
     "output_type": "stream",
     "text": [
      "2023-03-15 18:00:29.233774: I external/ydf/yggdrasil_decision_forests/learner/gradient_boosted_trees/gradient_boosted_trees.cc:1568] Create final snapshot of the model at iteration 75\n",
      "2023-03-15 18:00:29.236391: I external/ydf/yggdrasil_decision_forests/learner/gradient_boosted_trees/gradient_boosted_trees.cc:247] Truncates the model to 46 tree(s) i.e. 46  iteration(s).\n",
      "2023-03-15 18:00:29.236584: I external/ydf/yggdrasil_decision_forests/learner/gradient_boosted_trees/gradient_boosted_trees.cc:309] Final model num-trees:46 valid-loss:0.914948 valid-rmse:0.914948\n",
      "[INFO 2023-03-15T18:00:29.247444211+00:00 kernel.cc:1214] Loading model from path /tmp/tmp9asyue6_/model/ with prefix 4d6901c4b1374496\n",
      "[INFO 2023-03-15T18:00:29.253320804+00:00 kernel.cc:1046] Use fast generic engine\n"
     ]
    },
    {
     "name": "stdout",
     "output_type": "stream",
     "text": [
      "Model compiled.\n"
     ]
    },
    {
     "data": {
      "text/plain": [
       "<keras.callbacks.History at 0x7f3f2466f010>"
      ]
     },
     "execution_count": 45,
     "metadata": {},
     "output_type": "execute_result"
    }
   ],
   "source": [
    "gbt_model = tfdf.keras.GradientBoostedTreesModel(task=2)\n",
    "\n",
    "gbt_model.fit(input_image_street,\n",
    "    y_train,\n",
    "    #validation_data=[x_test[['Collisions_Historical', 'Mid_lat','Mid_long', 'Stop_Signs', 'Paving_historical', 'Bus_stop']], y_test],     \n",
    "    epochs=1,\n",
    "    verbose=1)"
   ]
  },
  {
   "cell_type": "code",
   "execution_count": 46,
   "id": "698518a2-921a-43a1-b56f-094235a8dadc",
   "metadata": {
    "tags": []
   },
   "outputs": [
    {
     "name": "stdout",
     "output_type": "stream",
     "text": [
      "Model: \"gradient_boosted_trees_model\"\n",
      "_________________________________________________________________\n",
      " Layer (type)                Output Shape              Param #   \n",
      "=================================================================\n",
      "=================================================================\n",
      "Total params: 1\n",
      "Trainable params: 0\n",
      "Non-trainable params: 1\n",
      "_________________________________________________________________\n",
      "Type: \"GRADIENT_BOOSTED_TREES\"\n",
      "Task: REGRESSION\n",
      "Label: \"__LABEL\"\n",
      "\n",
      "Input Features (12):\n",
      "\tdata:0.0\n",
      "\tdata:0.1\n",
      "\tdata:0.10\n",
      "\tdata:0.11\n",
      "\tdata:0.2\n",
      "\tdata:0.3\n",
      "\tdata:0.4\n",
      "\tdata:0.5\n",
      "\tdata:0.6\n",
      "\tdata:0.7\n",
      "\tdata:0.8\n",
      "\tdata:0.9\n",
      "\n",
      "No weights\n",
      "\n",
      "Variable Importance: INV_MEAN_MIN_DEPTH:\n",
      "    1.  \"data:0.0\"  0.885751 ################\n",
      "    2.  \"data:0.5\"  0.239186 #\n",
      "    3. \"data:0.11\"  0.207357 \n",
      "    4.  \"data:0.2\"  0.206792 \n",
      "    5.  \"data:0.1\"  0.206223 \n",
      "    6.  \"data:0.3\"  0.198554 \n",
      "    7.  \"data:0.4\"  0.187651 \n",
      "    8. \"data:0.10\"  0.173188 \n",
      "\n",
      "Variable Importance: NUM_AS_ROOT:\n",
      "    1. \"data:0.0\" 44.000000 ################\n",
      "    2. \"data:0.5\"  2.000000 \n",
      "\n",
      "Variable Importance: NUM_NODES:\n",
      "    1.  \"data:0.2\" 221.000000 ################\n",
      "    2. \"data:0.11\" 208.000000 ###############\n",
      "    3.  \"data:0.0\" 193.000000 #############\n",
      "    4.  \"data:0.1\" 189.000000 #############\n",
      "    5.  \"data:0.5\" 132.000000 #########\n",
      "    6.  \"data:0.3\" 94.000000 ######\n",
      "    7.  \"data:0.4\" 68.000000 ####\n",
      "    8. \"data:0.10\"  2.000000 \n",
      "\n",
      "Variable Importance: SUM_SCORE:\n",
      "    1.  \"data:0.0\" 46708.431797 ################\n",
      "    2.  \"data:0.2\" 3816.515287 #\n",
      "    3.  \"data:0.1\" 3003.028020 #\n",
      "    4. \"data:0.11\" 2808.718303 \n",
      "    5.  \"data:0.3\" 1973.345413 \n",
      "    6.  \"data:0.5\" 1629.274629 \n",
      "    7.  \"data:0.4\" 660.620477 \n",
      "    8. \"data:0.10\"  4.050234 \n",
      "\n",
      "\n",
      "\n",
      "Loss: SQUARED_ERROR\n",
      "Validation loss value: 0.914948\n",
      "Number of trees per iteration: 1\n",
      "Node format: NOT_SET\n",
      "Number of trees: 46\n",
      "Total number of nodes: 2260\n",
      "\n",
      "Number of nodes by tree:\n",
      "Count: 46 Average: 49.1304 StdDev: 8.78142\n",
      "Min: 29 Max: 61 Ignored: 0\n",
      "----------------------------------------------\n",
      "[ 29, 30) 4   8.70%   8.70% ####\n",
      "[ 30, 32) 0   0.00%   8.70%\n",
      "[ 32, 33) 0   0.00%   8.70%\n",
      "[ 33, 35) 0   0.00%   8.70%\n",
      "[ 35, 37) 0   0.00%   8.70%\n",
      "[ 37, 38) 2   4.35%  13.04% ##\n",
      "[ 38, 40) 1   2.17%  15.22% #\n",
      "[ 40, 42) 4   8.70%  23.91% ####\n",
      "[ 42, 43) 0   0.00%  23.91%\n",
      "[ 43, 45) 1   2.17%  26.09% #\n",
      "[ 45, 47) 1   2.17%  28.26% #\n",
      "[ 47, 48) 1   2.17%  30.43% #\n",
      "[ 48, 50) 6  13.04%  43.48% #######\n",
      "[ 50, 52) 4   8.70%  52.17% ####\n",
      "[ 52, 53) 0   0.00%  52.17%\n",
      "[ 53, 55) 4   8.70%  60.87% ####\n",
      "[ 55, 57) 9  19.57%  80.43% ##########\n",
      "[ 57, 58) 4   8.70%  89.13% ####\n",
      "[ 58, 60) 3   6.52%  95.65% ###\n",
      "[ 60, 61] 2   4.35% 100.00% ##\n",
      "\n",
      "Depth by leafs:\n",
      "Count: 1153 Average: 4.80833 StdDev: 0.538734\n",
      "Min: 1 Max: 5 Ignored: 0\n",
      "----------------------------------------------\n",
      "[ 1, 2)   3   0.26%   0.26%\n",
      "[ 2, 3)   5   0.43%   0.69%\n",
      "[ 3, 4)  45   3.90%   4.60%\n",
      "[ 4, 5) 104   9.02%  13.62% #\n",
      "[ 5, 5] 996  86.38% 100.00% ##########\n",
      "\n",
      "Number of training obs by leaf:\n",
      "Count: 1153 Average: 301.414 StdDev: 826.993\n",
      "Min: 5 Max: 6489 Ignored: 0\n",
      "----------------------------------------------\n",
      "[    5,  329) 962  83.43%  83.43% ##########\n",
      "[  329,  653)  66   5.72%  89.16% #\n",
      "[  653,  977)  29   2.52%  91.67%\n",
      "[  977, 1302)  12   1.04%  92.71%\n",
      "[ 1302, 1626)  12   1.04%  93.76%\n",
      "[ 1626, 1950)  11   0.95%  94.71%\n",
      "[ 1950, 2274)  17   1.47%  96.18%\n",
      "[ 2274, 2599)  11   0.95%  97.14%\n",
      "[ 2599, 2923)   1   0.09%  97.22%\n",
      "[ 2923, 3247)   5   0.43%  97.66%\n",
      "[ 3247, 3571)   2   0.17%  97.83%\n",
      "[ 3571, 3896)   8   0.69%  98.53%\n",
      "[ 3896, 4220)   7   0.61%  99.13%\n",
      "[ 4220, 4544)   1   0.09%  99.22%\n",
      "[ 4544, 4868)   1   0.09%  99.31%\n",
      "[ 4868, 5193)   1   0.09%  99.39%\n",
      "[ 5193, 5517)   0   0.00%  99.39%\n",
      "[ 5517, 5841)   1   0.09%  99.48%\n",
      "[ 5841, 6165)   3   0.26%  99.74%\n",
      "[ 6165, 6489]   3   0.26% 100.00%\n",
      "\n",
      "Attribute in nodes:\n",
      "\t221 : data:0.2 [NUMERICAL]\n",
      "\t208 : data:0.11 [NUMERICAL]\n",
      "\t193 : data:0.0 [NUMERICAL]\n",
      "\t189 : data:0.1 [NUMERICAL]\n",
      "\t132 : data:0.5 [NUMERICAL]\n",
      "\t94 : data:0.3 [NUMERICAL]\n",
      "\t68 : data:0.4 [NUMERICAL]\n",
      "\t2 : data:0.10 [NUMERICAL]\n",
      "\n",
      "Attribute in nodes with depth <= 0:\n",
      "\t44 : data:0.0 [NUMERICAL]\n",
      "\t2 : data:0.5 [NUMERICAL]\n",
      "\n",
      "Attribute in nodes with depth <= 1:\n",
      "\t94 : data:0.0 [NUMERICAL]\n",
      "\t17 : data:0.5 [NUMERICAL]\n",
      "\t9 : data:0.11 [NUMERICAL]\n",
      "\t7 : data:0.1 [NUMERICAL]\n",
      "\t4 : data:0.4 [NUMERICAL]\n",
      "\t3 : data:0.2 [NUMERICAL]\n",
      "\t1 : data:0.3 [NUMERICAL]\n",
      "\n",
      "Attribute in nodes with depth <= 2:\n",
      "\t136 : data:0.0 [NUMERICAL]\n",
      "\t39 : data:0.5 [NUMERICAL]\n",
      "\t39 : data:0.11 [NUMERICAL]\n",
      "\t31 : data:0.3 [NUMERICAL]\n",
      "\t23 : data:0.2 [NUMERICAL]\n",
      "\t22 : data:0.1 [NUMERICAL]\n",
      "\t18 : data:0.4 [NUMERICAL]\n",
      "\n",
      "Attribute in nodes with depth <= 3:\n",
      "\t148 : data:0.0 [NUMERICAL]\n",
      "\t97 : data:0.2 [NUMERICAL]\n",
      "\t93 : data:0.11 [NUMERICAL]\n",
      "\t92 : data:0.1 [NUMERICAL]\n",
      "\t77 : data:0.5 [NUMERICAL]\n",
      "\t59 : data:0.3 [NUMERICAL]\n",
      "\t42 : data:0.4 [NUMERICAL]\n",
      "\t1 : data:0.10 [NUMERICAL]\n",
      "\n",
      "Attribute in nodes with depth <= 5:\n",
      "\t221 : data:0.2 [NUMERICAL]\n",
      "\t208 : data:0.11 [NUMERICAL]\n",
      "\t193 : data:0.0 [NUMERICAL]\n",
      "\t189 : data:0.1 [NUMERICAL]\n",
      "\t132 : data:0.5 [NUMERICAL]\n",
      "\t94 : data:0.3 [NUMERICAL]\n",
      "\t68 : data:0.4 [NUMERICAL]\n",
      "\t2 : data:0.10 [NUMERICAL]\n",
      "\n",
      "Condition type in nodes:\n",
      "\t1107 : HigherCondition\n",
      "Condition type in nodes with depth <= 0:\n",
      "\t46 : HigherCondition\n",
      "Condition type in nodes with depth <= 1:\n",
      "\t135 : HigherCondition\n",
      "Condition type in nodes with depth <= 2:\n",
      "\t308 : HigherCondition\n",
      "Condition type in nodes with depth <= 3:\n",
      "\t609 : HigherCondition\n",
      "Condition type in nodes with depth <= 5:\n",
      "\t1107 : HigherCondition\n",
      "\n",
      "Training logs:\n",
      "Number of iteration to final model: 46\n",
      "\tIter:1 train-loss:1.390457 valid-loss:1.272578  train-rmse:1.390457 valid-rmse:1.272578\n",
      "\tIter:2 train-loss:1.316747 valid-loss:1.221949  train-rmse:1.316747 valid-rmse:1.221949\n",
      "\tIter:3 train-loss:1.252354 valid-loss:1.164258  train-rmse:1.252354 valid-rmse:1.164258\n",
      "\tIter:4 train-loss:1.198192 valid-loss:1.127415  train-rmse:1.198192 valid-rmse:1.127415\n",
      "\tIter:5 train-loss:1.151594 valid-loss:1.094764  train-rmse:1.151594 valid-rmse:1.094764\n",
      "\tIter:6 train-loss:1.111131 valid-loss:1.069063  train-rmse:1.111131 valid-rmse:1.069063\n",
      "\tIter:16 train-loss:0.915877 valid-loss:0.930787  train-rmse:0.915877 valid-rmse:0.930787\n",
      "\tIter:26 train-loss:0.852393 valid-loss:0.916959  train-rmse:0.852393 valid-rmse:0.916959\n",
      "\tIter:36 train-loss:0.823708 valid-loss:0.923378  train-rmse:0.823708 valid-rmse:0.923378\n",
      "\tIter:46 train-loss:0.806779 valid-loss:0.914948  train-rmse:0.806779 valid-rmse:0.914948\n",
      "\tIter:56 train-loss:0.790435 valid-loss:0.918276  train-rmse:0.790435 valid-rmse:0.918276\n",
      "\tIter:66 train-loss:0.775739 valid-loss:0.918867  train-rmse:0.775739 valid-rmse:0.918867\n",
      "\tIter:76 train-loss:0.764610 valid-loss:0.920769  train-rmse:0.764610 valid-rmse:0.920769\n",
      "\n",
      "None\n"
     ]
    }
   ],
   "source": [
    "print(gbt_model.summary())"
   ]
  },
  {
   "cell_type": "code",
   "execution_count": 47,
   "id": "fd9e1eda-544a-476e-ac0b-b64989c66d4d",
   "metadata": {
    "tags": []
   },
   "outputs": [
    {
     "data": {
      "text/plain": [
       "Evaluation(num_examples=None, accuracy=None, loss=0.9149483442306519, rmse=0.9149483442306519, ndcg=None, aucs=None, auuc=None, qini=None)"
      ]
     },
     "execution_count": 47,
     "metadata": {},
     "output_type": "execute_result"
    }
   ],
   "source": [
    "##uncomment to show training log\n",
    "#gbt_model.make_inspector().training_logs()\n",
    "gbt_model.make_inspector().evaluation()"
   ]
  },
  {
   "cell_type": "code",
   "execution_count": 48,
   "id": "eabec000-4306-4cdd-8aac-9b1bba1665d3",
   "metadata": {
    "tags": []
   },
   "outputs": [
    {
     "data": {
      "image/png": "[encoded data removed]",
      "text/plain": [
       "<Figure size 640x480 with 1 Axes>"
      ]
     },
     "metadata": {},
     "output_type": "display_data"
    }
   ],
   "source": [
    "import matplotlib.pyplot as plt\n",
    "\n",
    "logs = gbt_model.make_inspector().training_logs()\n",
    "\n",
    "plt.plot([log.num_trees for log in logs], [log.evaluation.loss for log in logs], label=\"training data\")\n",
    "plt.xlabel(\"Number of trees\")\n",
    "plt.ylabel(\"Loss\")\n",
    "plt.legend()\n",
    "\n",
    "plt.show()"
   ]
  },
  {
   "cell_type": "code",
   "execution_count": 49,
   "id": "52bbb5f6-7340-45fd-8ef3-7f1447d5bbda",
   "metadata": {
    "tags": []
   },
   "outputs": [
    {
     "data": {
      "image/png": "[encoded data removed]",
      "text/plain": [
       "<Figure size 640x480 with 1 Axes>"
      ]
     },
     "metadata": {},
     "output_type": "display_data"
    }
   ],
   "source": [
    "import matplotlib.pyplot as plt\n",
    "\n",
    "logs = gbt_model.make_inspector().training_logs()\n",
    "\n",
    "plt.plot([log.num_trees for log in logs], [log.evaluation.rmse for log in logs], label=\"training data\")\n",
    "plt.xlabel(\"Number of trees\")\n",
    "plt.ylabel(\"RMSE\")\n",
    "plt.legend()\n",
    "\n",
    "plt.show()"
   ]
  },
  {
   "cell_type": "code",
   "execution_count": 50,
   "id": "11b7db2b-b3f8-472a-98ef-80ebd5789791",
   "metadata": {
    "tags": []
   },
   "outputs": [],
   "source": [
    "#evaluate the model\n",
    "#gbt_model.evaluate(x_test[['Collisions_Historical', 'Mid_lat','Mid_long', 'Stop_Signs', 'Paving_historical', 'Bus_stop']])"
   ]
  },
  {
   "cell_type": "code",
   "execution_count": 51,
   "id": "ffe76a47-522d-447e-876e-32da16c3b3af",
   "metadata": {
    "tags": []
   },
   "outputs": [],
   "source": [
    "#make predictions from test set\n",
    "#pd.DataFrame(gbt_model.predict(x_test[['Collisions_Historical', 'Mid_lat','Mid_long', 'Stop_Signs', 'Paving_historical', 'Bus_stop']]))"
   ]
  },
  {
   "cell_type": "markdown",
   "id": "ff1314ab-fb10-454d-bc3a-e8c3ab5bafa9",
   "metadata": {},
   "source": [
    "**Baseline Linear Model**"
   ]
  },
  {
   "cell_type": "code",
   "execution_count": 60,
   "id": "a29df16f-55e2-4949-9011-cf6cb49f28d0",
   "metadata": {
    "tags": []
   },
   "outputs": [
    {
     "name": "stdout",
     "output_type": "stream",
     "text": [
      "Model: \"linear_model\"\n",
      "_________________________________________________________________\n",
      " Layer (type)                Output Shape              Param #   \n",
      "=================================================================\n",
      " input_2 (InputLayer)        [(None, 12)]              0         \n",
      "                                                                 \n",
      " dense_1 (Dense)             (None, 1)                 13        \n",
      "                                                                 \n",
      "=================================================================\n",
      "Total params: 13\n",
      "Trainable params: 13\n",
      "Non-trainable params: 0\n",
      "_________________________________________________________________\n",
      "Epoch 1/100\n",
      "210/210 [==============================] - 1s 2ms/step - loss: 17.3963 - val_loss: 1.5595\n",
      "Epoch 2/100\n",
      "210/210 [==============================] - 0s 2ms/step - loss: 1.4974 - val_loss: 1.3287\n",
      "Epoch 3/100\n",
      "210/210 [==============================] - 0s 2ms/step - loss: 1.3216 - val_loss: 1.1733\n",
      "Epoch 4/100\n",
      "210/210 [==============================] - 0s 2ms/step - loss: 1.2076 - val_loss: 1.0750\n",
      "Epoch 5/100\n",
      "210/210 [==============================] - 0s 2ms/step - loss: 1.1441 - val_loss: 1.0152\n",
      "Epoch 6/100\n",
      "210/210 [==============================] - 0s 2ms/step - loss: 1.1089 - val_loss: 0.9803\n",
      "Epoch 7/100\n",
      "210/210 [==============================] - 0s 2ms/step - loss: 1.0919 - val_loss: 0.9575\n",
      "Epoch 8/100\n",
      "210/210 [==============================] - 0s 2ms/step - loss: 1.0788 - val_loss: 0.9428\n",
      "Epoch 9/100\n",
      "210/210 [==============================] - 0s 2ms/step - loss: 1.0707 - val_loss: 0.9296\n",
      "Epoch 10/100\n",
      "210/210 [==============================] - 0s 2ms/step - loss: 1.0662 - val_loss: 0.9207\n",
      "Epoch 11/100\n",
      "210/210 [==============================] - 0s 2ms/step - loss: 1.0590 - val_loss: 0.9158\n",
      "Epoch 12/100\n",
      "210/210 [==============================] - 0s 2ms/step - loss: 1.0550 - val_loss: 0.9072\n",
      "Epoch 13/100\n",
      "210/210 [==============================] - 0s 2ms/step - loss: 1.0502 - val_loss: 0.9018\n",
      "Epoch 14/100\n",
      "210/210 [==============================] - 0s 2ms/step - loss: 1.0477 - val_loss: 0.8990\n",
      "Epoch 15/100\n",
      "210/210 [==============================] - 0s 2ms/step - loss: 1.0430 - val_loss: 0.8934\n",
      "Epoch 16/100\n",
      "210/210 [==============================] - 0s 2ms/step - loss: 1.0396 - val_loss: 0.8910\n",
      "Epoch 17/100\n",
      "210/210 [==============================] - 0s 2ms/step - loss: 1.0351 - val_loss: 0.8867\n",
      "Epoch 18/100\n",
      "210/210 [==============================] - 0s 2ms/step - loss: 1.0292 - val_loss: 0.8845\n",
      "Epoch 19/100\n",
      "210/210 [==============================] - 0s 2ms/step - loss: 1.0254 - val_loss: 0.8854\n",
      "Epoch 20/100\n",
      "210/210 [==============================] - 0s 2ms/step - loss: 1.0259 - val_loss: 0.8931\n",
      "Epoch 21/100\n",
      "210/210 [==============================] - 0s 2ms/step - loss: 1.0254 - val_loss: 0.8794\n",
      "Epoch 22/100\n",
      "210/210 [==============================] - 0s 2ms/step - loss: 1.0240 - val_loss: 0.8813\n",
      "Epoch 23/100\n",
      "210/210 [==============================] - 0s 2ms/step - loss: 1.0170 - val_loss: 0.8775\n",
      "Epoch 24/100\n",
      "210/210 [==============================] - 0s 2ms/step - loss: 1.0269 - val_loss: 0.8814\n",
      "Epoch 25/100\n",
      "210/210 [==============================] - 0s 2ms/step - loss: 1.0200 - val_loss: 0.8823\n",
      "Epoch 26/100\n",
      "210/210 [==============================] - 0s 2ms/step - loss: 1.0280 - val_loss: 0.8920\n",
      "Epoch 27/100\n",
      "210/210 [==============================] - 0s 2ms/step - loss: 1.0159 - val_loss: 0.9163\n",
      "Epoch 28/100\n",
      "210/210 [==============================] - 0s 2ms/step - loss: 1.0166 - val_loss: 0.8796\n",
      "Epoch 29/100\n",
      "210/210 [==============================] - 0s 2ms/step - loss: 1.0147 - val_loss: 0.9366\n",
      "Epoch 30/100\n",
      "210/210 [==============================] - 0s 2ms/step - loss: 1.0210 - val_loss: 0.9040\n",
      "Epoch 31/100\n",
      "210/210 [==============================] - 0s 2ms/step - loss: 1.0218 - val_loss: 0.8844\n",
      "Epoch 32/100\n",
      "210/210 [==============================] - 0s 2ms/step - loss: 1.0257 - val_loss: 0.8769\n",
      "Epoch 33/100\n",
      "210/210 [==============================] - 0s 2ms/step - loss: 1.0222 - val_loss: 0.8852\n",
      "Epoch 34/100\n",
      "210/210 [==============================] - 0s 2ms/step - loss: 1.0197 - val_loss: 0.8895\n",
      "Epoch 35/100\n",
      "210/210 [==============================] - 0s 2ms/step - loss: 1.0157 - val_loss: 0.8780\n",
      "Epoch 36/100\n",
      "210/210 [==============================] - 0s 2ms/step - loss: 1.0151 - val_loss: 0.8932\n",
      "Epoch 37/100\n",
      "210/210 [==============================] - 0s 2ms/step - loss: 1.0156 - val_loss: 0.8788\n",
      "Epoch 38/100\n",
      "210/210 [==============================] - 0s 2ms/step - loss: 1.0179 - val_loss: 0.8821\n",
      "Epoch 39/100\n",
      "210/210 [==============================] - 0s 2ms/step - loss: 1.0190 - val_loss: 0.8834\n",
      "Epoch 40/100\n",
      "210/210 [==============================] - 0s 2ms/step - loss: 1.0254 - val_loss: 0.9339\n",
      "Epoch 41/100\n",
      "210/210 [==============================] - 0s 2ms/step - loss: 1.0195 - val_loss: 0.8829\n",
      "Epoch 42/100\n",
      "210/210 [==============================] - 0s 2ms/step - loss: 1.0152 - val_loss: 0.8827\n",
      "Epoch 43/100\n",
      "210/210 [==============================] - 0s 2ms/step - loss: 1.0182 - val_loss: 0.8823\n",
      "Epoch 44/100\n",
      "210/210 [==============================] - 0s 2ms/step - loss: 1.0215 - val_loss: 0.9263\n",
      "Epoch 45/100\n",
      "210/210 [==============================] - 0s 2ms/step - loss: 1.0196 - val_loss: 0.8999\n",
      "Epoch 46/100\n",
      "210/210 [==============================] - 0s 2ms/step - loss: 1.0185 - val_loss: 0.8786\n",
      "Epoch 47/100\n",
      "210/210 [==============================] - 0s 2ms/step - loss: 1.0157 - val_loss: 0.8801\n",
      "Epoch 48/100\n",
      "210/210 [==============================] - 0s 2ms/step - loss: 1.0200 - val_loss: 0.9156\n",
      "Epoch 49/100\n",
      "210/210 [==============================] - 0s 2ms/step - loss: 1.0188 - val_loss: 0.8780\n",
      "Epoch 50/100\n",
      "210/210 [==============================] - 0s 2ms/step - loss: 1.0168 - val_loss: 0.8796\n",
      "Epoch 51/100\n",
      "210/210 [==============================] - 0s 2ms/step - loss: 1.0177 - val_loss: 0.8804\n",
      "Epoch 52/100\n",
      "210/210 [==============================] - 0s 2ms/step - loss: 1.0152 - val_loss: 0.8896\n",
      "Epoch 53/100\n",
      "210/210 [==============================] - 0s 2ms/step - loss: 1.0139 - val_loss: 0.8786\n",
      "Epoch 54/100\n",
      "210/210 [==============================] - 0s 2ms/step - loss: 1.0189 - val_loss: 0.8815\n",
      "Epoch 55/100\n",
      "210/210 [==============================] - 0s 2ms/step - loss: 1.0153 - val_loss: 0.8839\n",
      "Epoch 56/100\n",
      "210/210 [==============================] - 0s 2ms/step - loss: 1.0243 - val_loss: 0.8937\n",
      "Epoch 57/100\n",
      "210/210 [==============================] - 0s 2ms/step - loss: 1.0146 - val_loss: 0.8979\n",
      "Epoch 58/100\n",
      "210/210 [==============================] - 0s 2ms/step - loss: 1.0199 - val_loss: 0.8829\n",
      "Epoch 59/100\n",
      "210/210 [==============================] - 0s 2ms/step - loss: 1.0155 - val_loss: 0.8936\n",
      "Epoch 60/100\n",
      "210/210 [==============================] - 0s 2ms/step - loss: 1.0153 - val_loss: 0.8804\n",
      "Epoch 61/100\n",
      "210/210 [==============================] - 0s 2ms/step - loss: 1.0178 - val_loss: 0.8801\n",
      "Epoch 62/100\n",
      "210/210 [==============================] - 0s 2ms/step - loss: 1.0160 - val_loss: 0.9256\n",
      "Epoch 63/100\n",
      "210/210 [==============================] - 0s 2ms/step - loss: 1.0147 - val_loss: 0.8789\n",
      "Epoch 64/100\n",
      "210/210 [==============================] - 0s 2ms/step - loss: 1.0195 - val_loss: 0.8804\n",
      "Epoch 65/100\n",
      "210/210 [==============================] - 0s 2ms/step - loss: 1.0219 - val_loss: 0.8814\n",
      "Epoch 66/100\n",
      "210/210 [==============================] - 0s 2ms/step - loss: 1.0189 - val_loss: 0.8875\n",
      "Epoch 67/100\n",
      "210/210 [==============================] - 0s 2ms/step - loss: 1.0201 - val_loss: 0.8898\n",
      "Epoch 68/100\n",
      "210/210 [==============================] - 0s 2ms/step - loss: 1.0251 - val_loss: 0.8964\n",
      "Epoch 69/100\n",
      "210/210 [==============================] - 0s 2ms/step - loss: 1.0183 - val_loss: 0.9041\n",
      "Epoch 70/100\n",
      "210/210 [==============================] - 0s 2ms/step - loss: 1.0193 - val_loss: 0.8835\n",
      "Epoch 71/100\n",
      "210/210 [==============================] - 0s 2ms/step - loss: 1.0181 - val_loss: 0.8814\n",
      "Epoch 72/100\n",
      "210/210 [==============================] - 0s 2ms/step - loss: 1.0171 - val_loss: 0.9022\n",
      "Epoch 73/100\n",
      "210/210 [==============================] - 0s 2ms/step - loss: 1.0171 - val_loss: 0.8807\n",
      "Epoch 74/100\n",
      "210/210 [==============================] - 0s 2ms/step - loss: 1.0173 - val_loss: 0.8926\n",
      "Epoch 75/100\n",
      "210/210 [==============================] - 0s 2ms/step - loss: 1.0202 - val_loss: 0.9025\n",
      "Epoch 76/100\n",
      "210/210 [==============================] - 0s 2ms/step - loss: 1.0179 - val_loss: 0.8854\n",
      "Epoch 77/100\n",
      "210/210 [==============================] - 0s 2ms/step - loss: 1.0149 - val_loss: 0.8801\n",
      "Epoch 78/100\n",
      "210/210 [==============================] - 0s 2ms/step - loss: 1.0277 - val_loss: 0.8965\n",
      "Epoch 79/100\n",
      "210/210 [==============================] - 0s 2ms/step - loss: 1.0248 - val_loss: 0.8856\n",
      "Epoch 80/100\n",
      "210/210 [==============================] - 0s 2ms/step - loss: 1.0199 - val_loss: 0.9133\n",
      "Epoch 81/100\n",
      "210/210 [==============================] - 0s 2ms/step - loss: 1.0180 - val_loss: 0.8884\n",
      "Epoch 82/100\n",
      "210/210 [==============================] - 0s 2ms/step - loss: 1.0190 - val_loss: 0.8813\n",
      "Epoch 83/100\n",
      "210/210 [==============================] - 0s 2ms/step - loss: 1.0150 - val_loss: 0.8864\n",
      "Epoch 84/100\n",
      "210/210 [==============================] - 0s 2ms/step - loss: 1.0132 - val_loss: 0.9084\n",
      "Epoch 85/100\n",
      "210/210 [==============================] - 0s 2ms/step - loss: 1.0130 - val_loss: 0.8810\n",
      "Epoch 86/100\n",
      "210/210 [==============================] - 0s 2ms/step - loss: 1.0215 - val_loss: 0.8790\n",
      "Epoch 87/100\n",
      "210/210 [==============================] - 0s 2ms/step - loss: 1.0192 - val_loss: 0.8810\n",
      "Epoch 88/100\n",
      "210/210 [==============================] - 0s 2ms/step - loss: 1.0158 - val_loss: 0.8802\n",
      "Epoch 89/100\n",
      "210/210 [==============================] - 0s 2ms/step - loss: 1.0178 - val_loss: 0.8839\n",
      "Epoch 90/100\n",
      "210/210 [==============================] - 0s 2ms/step - loss: 1.0193 - val_loss: 0.8814\n",
      "Epoch 91/100\n",
      "210/210 [==============================] - 0s 2ms/step - loss: 1.0161 - val_loss: 0.8804\n",
      "Epoch 92/100\n",
      "210/210 [==============================] - 0s 2ms/step - loss: 1.0169 - val_loss: 0.8800\n",
      "Epoch 93/100\n",
      "210/210 [==============================] - 0s 2ms/step - loss: 1.0147 - val_loss: 0.8804\n",
      "Epoch 94/100\n",
      "210/210 [==============================] - 0s 2ms/step - loss: 1.0152 - val_loss: 0.8936\n",
      "Epoch 95/100\n",
      "210/210 [==============================] - 0s 2ms/step - loss: 1.0168 - val_loss: 0.8849\n",
      "Epoch 96/100\n",
      "210/210 [==============================] - 0s 2ms/step - loss: 1.0144 - val_loss: 0.8786\n",
      "Epoch 97/100\n",
      "210/210 [==============================] - 0s 2ms/step - loss: 1.0151 - val_loss: 0.8984\n",
      "Epoch 98/100\n",
      "210/210 [==============================] - 0s 2ms/step - loss: 1.0184 - val_loss: 0.8780\n",
      "Epoch 99/100\n",
      "210/210 [==============================] - 0s 2ms/step - loss: 1.0191 - val_loss: 0.8858\n",
      "Epoch 100/100\n",
      "210/210 [==============================] - 0s 2ms/step - loss: 1.0180 - val_loss: 0.8783\n"
     ]
    }
   ],
   "source": [
    "# x: 'Collisions_Historical', 'Mid_lat','Mid_long', 'Stop_Signs', 'Paving_historical', 'Bus_stop','RTTYP_I','RTTYP_M','RTTYP_O','RTTYP_S','RTTYP_U'\n",
    "# y: 'Collisions_Future'\n",
    "\n",
    "def create_linear_model():\n",
    "    # DENSE LAYERS \n",
    "    input = tf.keras.layers.Input(shape=(12,))\n",
    "\n",
    "    outputs = layers.Dense(1)(input)\n",
    "\n",
    "    linear_model = tf.keras.models.Model(inputs=input, outputs=outputs, name=\"linear_model\")\n",
    "\n",
    "    linear_model.summary()\n",
    "\n",
    "    linear_model.compile(\n",
    "        optimizer=tf.keras.optimizers.Adam(learning_rate=0.001),\n",
    "        loss='mse'\n",
    "        )\n",
    "    \n",
    "    return linear_model\n",
    "\n",
    "linear_model = create_linear_model()\n",
    "\n",
    "history = linear_model.fit(input_image_street,\n",
    "     y_train,\n",
    "    epochs=100,\n",
    "    # Suppress logging.\n",
    "     verbose=1,\n",
    "    # Calculate validation results on 20% of the training data.\n",
    "    validation_split = 0.2)"
   ]
  },
  {
   "cell_type": "code",
   "execution_count": 59,
   "id": "fb522b8e-0182-426c-91f8-566d5675a5cf",
   "metadata": {
    "tags": []
   },
   "outputs": [
    {
     "data": {
      "image/png": "[encoded data removed]",
      "text/plain": [
       "<Figure size 640x480 with 1 Axes>"
      ]
     },
     "metadata": {},
     "output_type": "display_data"
    }
   ],
   "source": [
    "plot_loss(history)"
   ]
  },
  {
   "cell_type": "code",
   "execution_count": 54,
   "id": "ebfd3785-3ac9-4516-bfed-85fe15a6f151",
   "metadata": {
    "tags": []
   },
   "outputs": [],
   "source": [
    "# def build_model1():\n",
    "#     model = keras.Sequential([\n",
    "#         layers.Dense(64, activation=tf.nn.relu, input_shape=(12,)),\n",
    "#         layers.Dense(64, activation=tf.nn.relu),\n",
    "#         layers.Dense(1)\n",
    "#     ])\n",
    "    \n",
    "#     optimizer = tf.keras.optimizers.RMSprop(0.001)\n",
    "    \n",
    "#     model.compile(loss='mse',\n",
    "#                   optimizer=optimizer,\n",
    "#                   metrics=['mse'])\n",
    "    \n",
    "#     return model"
   ]
  },
  {
   "cell_type": "code",
   "execution_count": 55,
   "id": "5b9fc215-a967-4d26-87de-6359a90a3ed0",
   "metadata": {
    "tags": []
   },
   "outputs": [],
   "source": [
    "# model1 = build_model1()"
   ]
  },
  {
   "cell_type": "code",
   "execution_count": 56,
   "id": "7a453227-9237-42f7-81a0-13f06df6cd93",
   "metadata": {
    "tags": []
   },
   "outputs": [],
   "source": [
    "# model1.summary()"
   ]
  },
  {
   "cell_type": "code",
   "execution_count": 57,
   "id": "3aa9b6fa-c54c-4654-8827-aa2003b6dc95",
   "metadata": {
    "tags": []
   },
   "outputs": [],
   "source": [
    "# history1 = model1.fit(\n",
    "#     input_image_street,\n",
    "#      y_train,\n",
    "#     epochs=100,\n",
    "#     # Suppress logging.\n",
    "#      verbose=1,\n",
    "#     # Calculate validation results on 20% of the training data.\n",
    "#     validation_split = 0.2)"
   ]
  }
 ],
 "metadata": {
  "kernelspec": {
   "display_name": "Python 3 (ipykernel)",
   "language": "python",
   "name": "python3"
  },
  "language_info": {
   "codemirror_mode": {
    "name": "ipython",
    "version": 3
   },
   "file_extension": ".py",
   "mimetype": "text/x-python",
   "name": "python",
   "nbconvert_exporter": "python",
   "pygments_lexer": "ipython3",
   "version": "3.10.6"
  }
 },
 "nbformat": 4,
 "nbformat_minor": 5
}
